{
 "cells": [
  {
   "cell_type": "markdown",
   "id": "4473016b",
   "metadata": {},
   "source": [
    "## Affiliative Questionnaire"
   ]
  },
  {
   "cell_type": "code",
   "execution_count": 1,
   "id": "ccb62db0",
   "metadata": {},
   "outputs": [],
   "source": [
    "    import numpy as np\n",
    "import pandas as pd\n",
    "import matplotlib.image as img\n",
    "import matplotlib.pyplot as plt\n",
    "import seaborn as sns\n",
    "import statsmodels.api as sm\n",
    "import matplotlib.collections as clt\n",
    "import ptitprince as pt\n",
    "import re\n",
    "from statsmodels.stats.anova import *"
   ]
  },
  {
   "cell_type": "code",
   "execution_count": 2,
   "id": "492ca3cf",
   "metadata": {},
   "outputs": [
    {
     "name": "stdout",
     "output_type": "stream",
     "text": [
      "<class 'pandas.core.frame.DataFrame'>\n",
      "RangeIndex: 4 entries, 0 to 3\n",
      "Data columns (total 7 columns):\n",
      " #   Column                                                  Non-Null Count  Dtype  \n",
      "---  ------                                                  --------------  -----  \n",
      " 0   Timestamp                                               4 non-null      object \n",
      " 1   ID                                                      4 non-null      int64  \n",
      " 2   1. I prefer to work in group instead of by myself ​     4 non-null      int64  \n",
      " 3   2. I spend a lot of time talking to others              3 non-null      float64\n",
      " 4   3. I like to study with groups rather than by myself​   4 non-null      int64  \n",
      " 5   4. I try to work alone ​                                4 non-null      int64  \n",
      " 6   5. I prefer to work on my own and let others do theirs  4 non-null      int64  \n",
      "dtypes: float64(1), int64(5), object(1)\n",
      "memory usage: 352.0+ bytes\n"
     ]
    }
   ],
   "source": [
    "# Data set loading\n",
    "df_file = \"//Users/tracysanchezpacheco/OneDrive/PhD/DataAnalysis/DataAnalysis/AffiliativeQuest/AffiliativeQuest.csv\"\n",
    "df = pd.read_csv(df_file, sep= ',')\n",
    "df.info()"
   ]
  },
  {
   "cell_type": "code",
   "execution_count": 3,
   "id": "b37d2d19",
   "metadata": {},
   "outputs": [],
   "source": [
    "#Defining a recode function \n",
    "\n",
    "def reverseScoring(df, high, cols):\n",
    "    '''Reverse scores on given columns\n",
    "     df = your data frame,\n",
    "     high = highest score available\n",
    "     cols = the columns you want reversed in list form'''\n",
    "    df[cols] = high - df[cols]\n",
    "    return df"
   ]
  },
  {
   "cell_type": "code",
   "execution_count": 4,
   "id": "e8732b63",
   "metadata": {},
   "outputs": [
    {
     "data": {
      "text/html": [
       "<div>\n",
       "<style scoped>\n",
       "    .dataframe tbody tr th:only-of-type {\n",
       "        vertical-align: middle;\n",
       "    }\n",
       "\n",
       "    .dataframe tbody tr th {\n",
       "        vertical-align: top;\n",
       "    }\n",
       "\n",
       "    .dataframe thead th {\n",
       "        text-align: right;\n",
       "    }\n",
       "</style>\n",
       "<table border=\"1\" class=\"dataframe\">\n",
       "  <thead>\n",
       "    <tr style=\"text-align: right;\">\n",
       "      <th></th>\n",
       "      <th>Timestamp</th>\n",
       "      <th>ID</th>\n",
       "      <th>Item1</th>\n",
       "      <th>Item2</th>\n",
       "      <th>Item3</th>\n",
       "      <th>Item4</th>\n",
       "      <th>Item5</th>\n",
       "    </tr>\n",
       "  </thead>\n",
       "  <tbody>\n",
       "    <tr>\n",
       "      <th>0</th>\n",
       "      <td>11/12/2021 16:36:21</td>\n",
       "      <td>8469</td>\n",
       "      <td>3</td>\n",
       "      <td>6.0</td>\n",
       "      <td>2</td>\n",
       "      <td>5</td>\n",
       "      <td>3</td>\n",
       "    </tr>\n",
       "    <tr>\n",
       "      <th>1</th>\n",
       "      <td>11/15/2021 15:06:20</td>\n",
       "      <td>7264</td>\n",
       "      <td>1</td>\n",
       "      <td>NaN</td>\n",
       "      <td>1</td>\n",
       "      <td>6</td>\n",
       "      <td>6</td>\n",
       "    </tr>\n",
       "    <tr>\n",
       "      <th>2</th>\n",
       "      <td>11/17/2021 13:38:04</td>\n",
       "      <td>3572</td>\n",
       "      <td>5</td>\n",
       "      <td>4.0</td>\n",
       "      <td>3</td>\n",
       "      <td>4</td>\n",
       "      <td>4</td>\n",
       "    </tr>\n",
       "    <tr>\n",
       "      <th>3</th>\n",
       "      <td>11/18/2021 12:15:48</td>\n",
       "      <td>365</td>\n",
       "      <td>6</td>\n",
       "      <td>6.0</td>\n",
       "      <td>4</td>\n",
       "      <td>3</td>\n",
       "      <td>3</td>\n",
       "    </tr>\n",
       "  </tbody>\n",
       "</table>\n",
       "</div>"
      ],
      "text/plain": [
       "             Timestamp    ID  Item1  Item2  Item3  Item4  Item5\n",
       "0  11/12/2021 16:36:21  8469      3    6.0      2      5      3\n",
       "1  11/15/2021 15:06:20  7264      1    NaN      1      6      6\n",
       "2  11/17/2021 13:38:04  3572      5    4.0      3      4      4\n",
       "3  11/18/2021 12:15:48   365      6    6.0      4      3      3"
      ]
     },
     "execution_count": 4,
     "metadata": {},
     "output_type": "execute_result"
    }
   ],
   "source": [
    "column_names = ['Timestamp', 'ID', 'Item1', 'Item2', 'Item3', 'Item4', 'Item5']\n",
    "df.columns = column_names\n",
    "df.head()"
   ]
  },
  {
   "cell_type": "code",
   "execution_count": 5,
   "id": "b2bcecd4",
   "metadata": {},
   "outputs": [
    {
     "data": {
      "text/html": [
       "<div>\n",
       "<style scoped>\n",
       "    .dataframe tbody tr th:only-of-type {\n",
       "        vertical-align: middle;\n",
       "    }\n",
       "\n",
       "    .dataframe tbody tr th {\n",
       "        vertical-align: top;\n",
       "    }\n",
       "\n",
       "    .dataframe thead th {\n",
       "        text-align: right;\n",
       "    }\n",
       "</style>\n",
       "<table border=\"1\" class=\"dataframe\">\n",
       "  <thead>\n",
       "    <tr style=\"text-align: right;\">\n",
       "      <th></th>\n",
       "      <th>Timestamp</th>\n",
       "      <th>ID</th>\n",
       "      <th>Item1</th>\n",
       "      <th>Item2</th>\n",
       "      <th>Item3</th>\n",
       "      <th>Item4</th>\n",
       "      <th>Item5</th>\n",
       "    </tr>\n",
       "  </thead>\n",
       "  <tbody>\n",
       "    <tr>\n",
       "      <th>0</th>\n",
       "      <td>11/12/2021 16:36:21</td>\n",
       "      <td>8469</td>\n",
       "      <td>3</td>\n",
       "      <td>6.0</td>\n",
       "      <td>2</td>\n",
       "      <td>2</td>\n",
       "      <td>4</td>\n",
       "    </tr>\n",
       "    <tr>\n",
       "      <th>1</th>\n",
       "      <td>11/15/2021 15:06:20</td>\n",
       "      <td>7264</td>\n",
       "      <td>1</td>\n",
       "      <td>NaN</td>\n",
       "      <td>1</td>\n",
       "      <td>1</td>\n",
       "      <td>1</td>\n",
       "    </tr>\n",
       "    <tr>\n",
       "      <th>2</th>\n",
       "      <td>11/17/2021 13:38:04</td>\n",
       "      <td>3572</td>\n",
       "      <td>5</td>\n",
       "      <td>4.0</td>\n",
       "      <td>3</td>\n",
       "      <td>3</td>\n",
       "      <td>3</td>\n",
       "    </tr>\n",
       "    <tr>\n",
       "      <th>3</th>\n",
       "      <td>11/18/2021 12:15:48</td>\n",
       "      <td>365</td>\n",
       "      <td>6</td>\n",
       "      <td>6.0</td>\n",
       "      <td>4</td>\n",
       "      <td>4</td>\n",
       "      <td>4</td>\n",
       "    </tr>\n",
       "  </tbody>\n",
       "</table>\n",
       "</div>"
      ],
      "text/plain": [
       "             Timestamp    ID  Item1  Item2  Item3  Item4  Item5\n",
       "0  11/12/2021 16:36:21  8469      3    6.0      2      2      4\n",
       "1  11/15/2021 15:06:20  7264      1    NaN      1      1      1\n",
       "2  11/17/2021 13:38:04  3572      5    4.0      3      3      3\n",
       "3  11/18/2021 12:15:48   365      6    6.0      4      4      4"
      ]
     },
     "execution_count": 5,
     "metadata": {},
     "output_type": "execute_result"
    }
   ],
   "source": [
    "reverseScoring(df,7,['Item4','Item5'])"
   ]
  }
 ],
 "metadata": {
  "kernelspec": {
   "display_name": "Python 3",
   "language": "python",
   "name": "python3"
  },
  "language_info": {
   "codemirror_mode": {
    "name": "ipython",
    "version": 3
   },
   "file_extension": ".py",
   "mimetype": "text/x-python",
   "name": "python",
   "nbconvert_exporter": "python",
   "pygments_lexer": "ipython3",
   "version": "3.8.8"
  }
 },
 "nbformat": 4,
 "nbformat_minor": 5
}
