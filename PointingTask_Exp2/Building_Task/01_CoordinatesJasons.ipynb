{
 "cells": [
  {
   "cell_type": "markdown",
   "source": [
    "# New Coordinates center of the world\n",
    "In this pipeline the new center of the world coordinates"
   ],
   "metadata": {
    "collapsed": false,
    "pycharm": {
     "name": "#%% md\n"
    }
   }
  },
  {
   "cell_type": "code",
   "execution_count": 61,
   "outputs": [],
   "source": [
    "# Import packages\n",
    "import os\n",
    "import glob\n",
    "import pandas as pd\n",
    "import warnings\n",
    "warnings.simplefilter(action='ignore', category=FutureWarning)"
   ],
   "metadata": {
    "collapsed": false,
    "pycharm": {
     "name": "#%%\n"
    }
   }
  },
  {
   "cell_type": "code",
   "execution_count": 62,
   "id": "15f4abb6",
   "metadata": {
    "collapsed": false,
    "jupyter": {
     "outputs_hidden": false
    },
    "pycharm": {
     "name": "#%%\n"
    }
   },
   "outputs": [
    {
     "data": {
      "text/plain": "'/Users/tracysanchezpacheco/Documents/Resources'"
     },
     "execution_count": 62,
     "metadata": {},
     "output_type": "execute_result"
    }
   ],
   "source": [
    "# Added cell to set Working Directory to your location\n",
    "os.chdir('/Users/tracysanchezpacheco/Documents/Resources/')\n",
    "os.getcwd()"
   ]
  },
  {
   "cell_type": "code",
   "execution_count": 63,
   "id": "50b83dd3",
   "metadata": {
    "collapsed": false,
    "jupyter": {
     "outputs_hidden": false
    },
    "pycharm": {
     "name": "#%%\n"
    }
   },
   "outputs": [],
   "source": [
    "# specify data folder\n",
    "# with wildcard for every file with a certain name\n",
    "path = \"AngleReco/*.json\""
   ]
  },
  {
   "cell_type": "code",
   "execution_count": 64,
   "id": "dc2861cc",
   "metadata": {
    "collapsed": false,
    "jupyter": {
     "outputs_hidden": false
    },
    "pycharm": {
     "name": "#%%\n"
    }
   },
   "outputs": [
    {
     "data": {
      "text/plain": "   PointingTargetId  PointingTargetIndex PointingTargetName  \\\n0                 4                    6        04_CmA_6_47   \n1                 2                    2        02_CmA_2_41   \n2                 3                    5       03_CmANo_5_2   \n3                 2                    3      02_CmANo_3_41   \n4                 3                    4         03_CmA_4_2   \n5                 1                    0        01_CmA_0_14   \n6                 4                    7      04_CmANo_7_47   \n7                 1                    1      01_CmANo_1_14   \n\n  PointingTargetCondition  PointingTargetBuildingId  Context  Agent  \n0                     CmA                        47     True   True  \n1                     CmA                        41     True   True  \n2                   CmANo                         2     True  False  \n3                   CmANo                        41     True  False  \n4                     CmA                         2     True   True  \n5                     CmA                        14     True   True  \n6                   CmANo                        47     True  False  \n7                   CmANo                        14     True  False  ",
      "text/html": "<div>\n<style scoped>\n    .dataframe tbody tr th:only-of-type {\n        vertical-align: middle;\n    }\n\n    .dataframe tbody tr th {\n        vertical-align: top;\n    }\n\n    .dataframe thead th {\n        text-align: right;\n    }\n</style>\n<table border=\"1\" class=\"dataframe\">\n  <thead>\n    <tr style=\"text-align: right;\">\n      <th></th>\n      <th>PointingTargetId</th>\n      <th>PointingTargetIndex</th>\n      <th>PointingTargetName</th>\n      <th>PointingTargetCondition</th>\n      <th>PointingTargetBuildingId</th>\n      <th>Context</th>\n      <th>Agent</th>\n    </tr>\n  </thead>\n  <tbody>\n    <tr>\n      <th>0</th>\n      <td>4</td>\n      <td>6</td>\n      <td>04_CmA_6_47</td>\n      <td>CmA</td>\n      <td>47</td>\n      <td>True</td>\n      <td>True</td>\n    </tr>\n    <tr>\n      <th>1</th>\n      <td>2</td>\n      <td>2</td>\n      <td>02_CmA_2_41</td>\n      <td>CmA</td>\n      <td>41</td>\n      <td>True</td>\n      <td>True</td>\n    </tr>\n    <tr>\n      <th>2</th>\n      <td>3</td>\n      <td>5</td>\n      <td>03_CmANo_5_2</td>\n      <td>CmANo</td>\n      <td>2</td>\n      <td>True</td>\n      <td>False</td>\n    </tr>\n    <tr>\n      <th>3</th>\n      <td>2</td>\n      <td>3</td>\n      <td>02_CmANo_3_41</td>\n      <td>CmANo</td>\n      <td>41</td>\n      <td>True</td>\n      <td>False</td>\n    </tr>\n    <tr>\n      <th>4</th>\n      <td>3</td>\n      <td>4</td>\n      <td>03_CmA_4_2</td>\n      <td>CmA</td>\n      <td>2</td>\n      <td>True</td>\n      <td>True</td>\n    </tr>\n    <tr>\n      <th>5</th>\n      <td>1</td>\n      <td>0</td>\n      <td>01_CmA_0_14</td>\n      <td>CmA</td>\n      <td>14</td>\n      <td>True</td>\n      <td>True</td>\n    </tr>\n    <tr>\n      <th>6</th>\n      <td>4</td>\n      <td>7</td>\n      <td>04_CmANo_7_47</td>\n      <td>CmANo</td>\n      <td>47</td>\n      <td>True</td>\n      <td>False</td>\n    </tr>\n    <tr>\n      <th>7</th>\n      <td>1</td>\n      <td>1</td>\n      <td>01_CmANo_1_14</td>\n      <td>CmANo</td>\n      <td>14</td>\n      <td>True</td>\n      <td>False</td>\n    </tr>\n  </tbody>\n</table>\n</div>"
     },
     "execution_count": 64,
     "metadata": {},
     "output_type": "execute_result"
    }
   ],
   "source": [
    "# create empty dataframe\n",
    "CoordinateIndexing = pd.DataFrame()\n",
    "\n",
    "# read every file name in folder, in this case folder with one file with coordinates and codes for each building\n",
    "for filename in glob.glob(path):\n",
    "    with open(filename, 'r') as file:\n",
    "        # make json files parsable\n",
    "        data = \"[\" + file.read()\n",
    "        data = data[:len(data)-2] + \"]\"\n",
    "\n",
    "        # read data per file\n",
    "        subjectdf = pd.read_json(data)\n",
    "        CoordinateIndexing = CoordinateIndexing.append(subjectdf, ignore_index=True)\n",
    "CoordinateIndexing.head(8)"
   ]
  },
  {
   "cell_type": "code",
   "execution_count": 65,
   "id": "7dc6fe1c",
   "metadata": {
    "collapsed": false,
    "jupyter": {
     "outputs_hidden": false
    },
    "pycharm": {
     "name": "#%%\n"
    }
   },
   "outputs": [],
   "source": [
    "CoordinateIndexing.rename(columns= {'PointingTargetId':'AgentID'}, inplace=True)"
   ]
  },
  {
   "cell_type": "code",
   "execution_count": 66,
   "id": "131fb151",
   "metadata": {
    "collapsed": false,
    "jupyter": {
     "outputs_hidden": false
    },
    "pycharm": {
     "name": "#%%\n"
    }
   },
   "outputs": [
    {
     "data": {
      "text/plain": "                             PointingTargetBuildingId\nAgentID PointingTargetIndex                          \n1       0                                           1\n        1                                           1\n2       2                                           1\n        3                                           1\n3       4                                           1\n...                                               ...\n54      107                                         1\n55      108                                         1\n        109                                         1\n56      110                                         1\n        111                                         1\n\n[112 rows x 1 columns]",
      "text/html": "<div>\n<style scoped>\n    .dataframe tbody tr th:only-of-type {\n        vertical-align: middle;\n    }\n\n    .dataframe tbody tr th {\n        vertical-align: top;\n    }\n\n    .dataframe thead th {\n        text-align: right;\n    }\n</style>\n<table border=\"1\" class=\"dataframe\">\n  <thead>\n    <tr style=\"text-align: right;\">\n      <th></th>\n      <th></th>\n      <th>PointingTargetBuildingId</th>\n    </tr>\n    <tr>\n      <th>AgentID</th>\n      <th>PointingTargetIndex</th>\n      <th></th>\n    </tr>\n  </thead>\n  <tbody>\n    <tr>\n      <th rowspan=\"2\" valign=\"top\">1</th>\n      <th>0</th>\n      <td>1</td>\n    </tr>\n    <tr>\n      <th>1</th>\n      <td>1</td>\n    </tr>\n    <tr>\n      <th rowspan=\"2\" valign=\"top\">2</th>\n      <th>2</th>\n      <td>1</td>\n    </tr>\n    <tr>\n      <th>3</th>\n      <td>1</td>\n    </tr>\n    <tr>\n      <th>3</th>\n      <th>4</th>\n      <td>1</td>\n    </tr>\n    <tr>\n      <th>...</th>\n      <th>...</th>\n      <td>...</td>\n    </tr>\n    <tr>\n      <th>54</th>\n      <th>107</th>\n      <td>1</td>\n    </tr>\n    <tr>\n      <th rowspan=\"2\" valign=\"top\">55</th>\n      <th>108</th>\n      <td>1</td>\n    </tr>\n    <tr>\n      <th>109</th>\n      <td>1</td>\n    </tr>\n    <tr>\n      <th rowspan=\"2\" valign=\"top\">56</th>\n      <th>110</th>\n      <td>1</td>\n    </tr>\n    <tr>\n      <th>111</th>\n      <td>1</td>\n    </tr>\n  </tbody>\n</table>\n<p>112 rows × 1 columns</p>\n</div>"
     },
     "execution_count": 66,
     "metadata": {},
     "output_type": "execute_result"
    }
   ],
   "source": [
    "#Getting the relationship between AgentID and PointingTargetIndex\n",
    "CoordinateIndexing[['AgentID', 'PointingTargetBuildingId', 'PointingTargetIndex']].groupby(['AgentID','PointingTargetIndex']).count()\n"
   ]
  },
  {
   "cell_type": "markdown",
   "source": [
    "## All building coordinates"
   ],
   "metadata": {
    "collapsed": false,
    "pycharm": {
     "name": "#%% md\n"
    }
   }
  },
  {
   "cell_type": "code",
   "execution_count": 67,
   "outputs": [],
   "source": [
    "AllBuildings = pd.read_csv('/Users/tracysanchezpacheco/Documents/Resources/02_all_buildings_list.csv')"
   ],
   "metadata": {
    "collapsed": false,
    "pycharm": {
     "name": "#%%\n"
    }
   }
  },
  {
   "cell_type": "code",
   "execution_count": 68,
   "outputs": [],
   "source": [
    "# specify data folder\n",
    "# with wildcard for every file with a certain name\n",
    "path = \"Resources/*.json\""
   ],
   "metadata": {
    "collapsed": false,
    "pycharm": {
     "name": "#%%\n"
    }
   }
  },
  {
   "cell_type": "code",
   "execution_count": 69,
   "id": "e134f844",
   "metadata": {
    "collapsed": false,
    "jupyter": {
     "outputs_hidden": false
    },
    "pycharm": {
     "name": "#%%\n"
    }
   },
   "outputs": [
    {
     "data": {
      "text/plain": "Index(['Unnamed: 0', 'BuildingID', 'BuildingName', 'BuildingCenterWorld.x',\n       'BuildingCenterWorld.y', 'BuildingCenterWorld.z',\n       'BuildingPositionGlobal.x', 'BuildingPositionGlobal.y',\n       'BuildingPositionGlobal.z', 'BuildingPositionLocal.x',\n       'BuildingPositionLocal.y', 'BuildingPositionLocal.z',\n       'BuildingRotationGlobal.x', 'BuildingRotationGlobal.y',\n       'BuildingRotationGlobal.z', 'BuildingRotationGlobal.w',\n       'BuildingRotationLocal.x', 'BuildingRotationLocal.y',\n       'BuildingRotationLocal.z', 'BuildingRotationLocal.w',\n       'BuildingRotationVector3Global.x', 'BuildingRotationVector3Global.y',\n       'BuildingRotationVector3Global.z', 'BuildingRotationVector3Local.x',\n       'BuildingRotationVector3Local.y', 'BuildingRotationVector3Local.z',\n       'BuildingLossyScale.x', 'BuildingLossyScale.y', 'BuildingLossyScale.z',\n       'BuildingLocalScale.x', 'BuildingLocalScale.y', 'BuildingLocalScale.z',\n       'BuildingForwardDirection.x', 'BuildingForwardDirection.y',\n       'BuildingForwardDirection.z', 'BuildingUpDirection.x',\n       'BuildingUpDirection.y', 'BuildingUpDirection.z',\n       'BuildingRightDirection.x', 'BuildingRightDirection.y',\n       'BuildingRightDirection.z'],\n      dtype='object')"
     },
     "execution_count": 69,
     "metadata": {},
     "output_type": "execute_result"
    }
   ],
   "source": [
    "AllBuildings.columns"
   ]
  },
  {
   "cell_type": "code",
   "execution_count": 70,
   "id": "6b986781",
   "metadata": {
    "collapsed": false,
    "jupyter": {
     "outputs_hidden": false
    },
    "pycharm": {
     "name": "#%%\n"
    }
   },
   "outputs": [],
   "source": [
    "AllBuildingsf = AllBuildings[['BuildingID', 'BuildingName','BuildingCenterWorld.x', 'BuildingCenterWorld.z']]"
   ]
  },
  {
   "cell_type": "code",
   "execution_count": 71,
   "id": "ebdb12a0",
   "metadata": {
    "collapsed": false,
    "jupyter": {
     "outputs_hidden": false
    },
    "pycharm": {
     "name": "#%%\n"
    }
   },
   "outputs": [
    {
     "data": {
      "text/plain": "    BuildingID              BuildingName  BuildingCenterWorld.x  \\\n0           59                  Crane_59            -318.127991   \n1           58        BasketballCourt_58             104.339996   \n2           57           Construction_57             -71.695419   \n3           48           TaskBuilding_48            -195.637009   \n4           52           TaskBuilding_52            -247.185669   \n5           36           TaskBuilding_36             -51.411949   \n6           28           TaskBuilding_28              72.863678   \n7            8            TaskBuilding_8            -310.829041   \n8           35           TaskBuilding_35             -72.578285   \n9           11           TaskBuilding_11             341.076111   \n10          20           TaskBuilding_20             184.394440   \n11          54           TaskBuilding_54            -336.362793   \n12          24           TaskBuilding_24             107.980583   \n13          14           TaskBuilding_14             227.649185   \n14          49  HighSilo-TaskBuilding_49            -234.506821   \n15          33           TaskBuilding_33              -7.465199   \n16          21           TaskBuilding_21             151.555664   \n17          37           TaskBuilding_37             -42.972923   \n18          29           TaskBuilding_29              32.774559   \n19          38           TaskBuilding_38             -72.436798   \n20          47           TaskBuilding_47            -189.705154   \n21          32           TaskBuilding_32              -3.336735   \n22          55           TaskBuilding_55            -334.680420   \n23           9            TaskBuilding_9             376.771423   \n24          16    Church-TaskBuilding_16             277.208374   \n\n    BuildingCenterWorld.z  \n0             -167.823914  \n1              -45.689999  \n2              -26.238297  \n3             -130.434052  \n4               54.489395  \n5             -142.603455  \n6              -46.903183  \n7              -93.570648  \n8               53.288437  \n9               35.079956  \n10             -67.150986  \n11              60.519508  \n12             -10.788454  \n13             119.052856  \n14             288.053894  \n15             -63.017349  \n16            -144.773529  \n17            -205.836075  \n18             158.803772  \n19             226.580154  \n20             -22.378126  \n21            -255.873932  \n22              -5.111259  \n23             123.613991  \n24             -91.080727  ",
      "text/html": "<div>\n<style scoped>\n    .dataframe tbody tr th:only-of-type {\n        vertical-align: middle;\n    }\n\n    .dataframe tbody tr th {\n        vertical-align: top;\n    }\n\n    .dataframe thead th {\n        text-align: right;\n    }\n</style>\n<table border=\"1\" class=\"dataframe\">\n  <thead>\n    <tr style=\"text-align: right;\">\n      <th></th>\n      <th>BuildingID</th>\n      <th>BuildingName</th>\n      <th>BuildingCenterWorld.x</th>\n      <th>BuildingCenterWorld.z</th>\n    </tr>\n  </thead>\n  <tbody>\n    <tr>\n      <th>0</th>\n      <td>59</td>\n      <td>Crane_59</td>\n      <td>-318.127991</td>\n      <td>-167.823914</td>\n    </tr>\n    <tr>\n      <th>1</th>\n      <td>58</td>\n      <td>BasketballCourt_58</td>\n      <td>104.339996</td>\n      <td>-45.689999</td>\n    </tr>\n    <tr>\n      <th>2</th>\n      <td>57</td>\n      <td>Construction_57</td>\n      <td>-71.695419</td>\n      <td>-26.238297</td>\n    </tr>\n    <tr>\n      <th>3</th>\n      <td>48</td>\n      <td>TaskBuilding_48</td>\n      <td>-195.637009</td>\n      <td>-130.434052</td>\n    </tr>\n    <tr>\n      <th>4</th>\n      <td>52</td>\n      <td>TaskBuilding_52</td>\n      <td>-247.185669</td>\n      <td>54.489395</td>\n    </tr>\n    <tr>\n      <th>5</th>\n      <td>36</td>\n      <td>TaskBuilding_36</td>\n      <td>-51.411949</td>\n      <td>-142.603455</td>\n    </tr>\n    <tr>\n      <th>6</th>\n      <td>28</td>\n      <td>TaskBuilding_28</td>\n      <td>72.863678</td>\n      <td>-46.903183</td>\n    </tr>\n    <tr>\n      <th>7</th>\n      <td>8</td>\n      <td>TaskBuilding_8</td>\n      <td>-310.829041</td>\n      <td>-93.570648</td>\n    </tr>\n    <tr>\n      <th>8</th>\n      <td>35</td>\n      <td>TaskBuilding_35</td>\n      <td>-72.578285</td>\n      <td>53.288437</td>\n    </tr>\n    <tr>\n      <th>9</th>\n      <td>11</td>\n      <td>TaskBuilding_11</td>\n      <td>341.076111</td>\n      <td>35.079956</td>\n    </tr>\n    <tr>\n      <th>10</th>\n      <td>20</td>\n      <td>TaskBuilding_20</td>\n      <td>184.394440</td>\n      <td>-67.150986</td>\n    </tr>\n    <tr>\n      <th>11</th>\n      <td>54</td>\n      <td>TaskBuilding_54</td>\n      <td>-336.362793</td>\n      <td>60.519508</td>\n    </tr>\n    <tr>\n      <th>12</th>\n      <td>24</td>\n      <td>TaskBuilding_24</td>\n      <td>107.980583</td>\n      <td>-10.788454</td>\n    </tr>\n    <tr>\n      <th>13</th>\n      <td>14</td>\n      <td>TaskBuilding_14</td>\n      <td>227.649185</td>\n      <td>119.052856</td>\n    </tr>\n    <tr>\n      <th>14</th>\n      <td>49</td>\n      <td>HighSilo-TaskBuilding_49</td>\n      <td>-234.506821</td>\n      <td>288.053894</td>\n    </tr>\n    <tr>\n      <th>15</th>\n      <td>33</td>\n      <td>TaskBuilding_33</td>\n      <td>-7.465199</td>\n      <td>-63.017349</td>\n    </tr>\n    <tr>\n      <th>16</th>\n      <td>21</td>\n      <td>TaskBuilding_21</td>\n      <td>151.555664</td>\n      <td>-144.773529</td>\n    </tr>\n    <tr>\n      <th>17</th>\n      <td>37</td>\n      <td>TaskBuilding_37</td>\n      <td>-42.972923</td>\n      <td>-205.836075</td>\n    </tr>\n    <tr>\n      <th>18</th>\n      <td>29</td>\n      <td>TaskBuilding_29</td>\n      <td>32.774559</td>\n      <td>158.803772</td>\n    </tr>\n    <tr>\n      <th>19</th>\n      <td>38</td>\n      <td>TaskBuilding_38</td>\n      <td>-72.436798</td>\n      <td>226.580154</td>\n    </tr>\n    <tr>\n      <th>20</th>\n      <td>47</td>\n      <td>TaskBuilding_47</td>\n      <td>-189.705154</td>\n      <td>-22.378126</td>\n    </tr>\n    <tr>\n      <th>21</th>\n      <td>32</td>\n      <td>TaskBuilding_32</td>\n      <td>-3.336735</td>\n      <td>-255.873932</td>\n    </tr>\n    <tr>\n      <th>22</th>\n      <td>55</td>\n      <td>TaskBuilding_55</td>\n      <td>-334.680420</td>\n      <td>-5.111259</td>\n    </tr>\n    <tr>\n      <th>23</th>\n      <td>9</td>\n      <td>TaskBuilding_9</td>\n      <td>376.771423</td>\n      <td>123.613991</td>\n    </tr>\n    <tr>\n      <th>24</th>\n      <td>16</td>\n      <td>Church-TaskBuilding_16</td>\n      <td>277.208374</td>\n      <td>-91.080727</td>\n    </tr>\n  </tbody>\n</table>\n</div>"
     },
     "execution_count": 71,
     "metadata": {},
     "output_type": "execute_result"
    }
   ],
   "source": [
    "AllBuildingsf.head(25)"
   ]
  },
  {
   "cell_type": "code",
   "execution_count": 72,
   "outputs": [
    {
     "data": {
      "text/plain": "   AgentID  PointingTargetIndex PointingTargetName PointingTargetCondition  \\\n0        4                    6        04_CmA_6_47                     CmA   \n1        2                    2        02_CmA_2_41                     CmA   \n2        3                    5       03_CmANo_5_2                   CmANo   \n3        2                    3      02_CmANo_3_41                   CmANo   \n4        3                    4         03_CmA_4_2                     CmA   \n\n   PointingTargetBuildingId  Context  Agent  \n0                        47     True   True  \n1                        41     True   True  \n2                         2     True  False  \n3                        41     True  False  \n4                         2     True   True  ",
      "text/html": "<div>\n<style scoped>\n    .dataframe tbody tr th:only-of-type {\n        vertical-align: middle;\n    }\n\n    .dataframe tbody tr th {\n        vertical-align: top;\n    }\n\n    .dataframe thead th {\n        text-align: right;\n    }\n</style>\n<table border=\"1\" class=\"dataframe\">\n  <thead>\n    <tr style=\"text-align: right;\">\n      <th></th>\n      <th>AgentID</th>\n      <th>PointingTargetIndex</th>\n      <th>PointingTargetName</th>\n      <th>PointingTargetCondition</th>\n      <th>PointingTargetBuildingId</th>\n      <th>Context</th>\n      <th>Agent</th>\n    </tr>\n  </thead>\n  <tbody>\n    <tr>\n      <th>0</th>\n      <td>4</td>\n      <td>6</td>\n      <td>04_CmA_6_47</td>\n      <td>CmA</td>\n      <td>47</td>\n      <td>True</td>\n      <td>True</td>\n    </tr>\n    <tr>\n      <th>1</th>\n      <td>2</td>\n      <td>2</td>\n      <td>02_CmA_2_41</td>\n      <td>CmA</td>\n      <td>41</td>\n      <td>True</td>\n      <td>True</td>\n    </tr>\n    <tr>\n      <th>2</th>\n      <td>3</td>\n      <td>5</td>\n      <td>03_CmANo_5_2</td>\n      <td>CmANo</td>\n      <td>2</td>\n      <td>True</td>\n      <td>False</td>\n    </tr>\n    <tr>\n      <th>3</th>\n      <td>2</td>\n      <td>3</td>\n      <td>02_CmANo_3_41</td>\n      <td>CmANo</td>\n      <td>41</td>\n      <td>True</td>\n      <td>False</td>\n    </tr>\n    <tr>\n      <th>4</th>\n      <td>3</td>\n      <td>4</td>\n      <td>03_CmA_4_2</td>\n      <td>CmA</td>\n      <td>2</td>\n      <td>True</td>\n      <td>True</td>\n    </tr>\n  </tbody>\n</table>\n</div>"
     },
     "execution_count": 72,
     "metadata": {},
     "output_type": "execute_result"
    }
   ],
   "source": [
    "CoordinateIndexing.head()"
   ],
   "metadata": {
    "collapsed": false,
    "pycharm": {
     "name": "#%%\n"
    }
   }
  },
  {
   "cell_type": "code",
   "execution_count": 73,
   "outputs": [
    {
     "data": {
      "text/plain": "     BuildingID        BuildingName  BuildingCenterWorld.x  \\\n107          57     Construction_57             -71.695419   \n108          58  BasketballCourt_58             104.339996   \n109          58  BasketballCourt_58             104.339996   \n110          59            Crane_59            -318.127991   \n111          59            Crane_59            -318.127991   \n\n     BuildingCenterWorld.z  AgentID  PointingTargetIndex PointingTargetName  \\\n107             -26.238297        5                    8        05_CmA_8_57   \n108             -45.689999       20                   38       20_CmA_38_58   \n109             -45.689999       20                   39     20_CmANo_39_58   \n110            -167.823914       27                   53     27_CmANo_53_59   \n111            -167.823914       27                   52       27_CmA_52_59   \n\n    PointingTargetCondition  PointingTargetBuildingId  Context  Agent  \n107                     CmA                        57     True   True  \n108                     CmA                        58     True   True  \n109                   CmANo                        58     True  False  \n110                   CmANo                        59     True  False  \n111                     CmA                        59     True   True  ",
      "text/html": "<div>\n<style scoped>\n    .dataframe tbody tr th:only-of-type {\n        vertical-align: middle;\n    }\n\n    .dataframe tbody tr th {\n        vertical-align: top;\n    }\n\n    .dataframe thead th {\n        text-align: right;\n    }\n</style>\n<table border=\"1\" class=\"dataframe\">\n  <thead>\n    <tr style=\"text-align: right;\">\n      <th></th>\n      <th>BuildingID</th>\n      <th>BuildingName</th>\n      <th>BuildingCenterWorld.x</th>\n      <th>BuildingCenterWorld.z</th>\n      <th>AgentID</th>\n      <th>PointingTargetIndex</th>\n      <th>PointingTargetName</th>\n      <th>PointingTargetCondition</th>\n      <th>PointingTargetBuildingId</th>\n      <th>Context</th>\n      <th>Agent</th>\n    </tr>\n  </thead>\n  <tbody>\n    <tr>\n      <th>107</th>\n      <td>57</td>\n      <td>Construction_57</td>\n      <td>-71.695419</td>\n      <td>-26.238297</td>\n      <td>5</td>\n      <td>8</td>\n      <td>05_CmA_8_57</td>\n      <td>CmA</td>\n      <td>57</td>\n      <td>True</td>\n      <td>True</td>\n    </tr>\n    <tr>\n      <th>108</th>\n      <td>58</td>\n      <td>BasketballCourt_58</td>\n      <td>104.339996</td>\n      <td>-45.689999</td>\n      <td>20</td>\n      <td>38</td>\n      <td>20_CmA_38_58</td>\n      <td>CmA</td>\n      <td>58</td>\n      <td>True</td>\n      <td>True</td>\n    </tr>\n    <tr>\n      <th>109</th>\n      <td>58</td>\n      <td>BasketballCourt_58</td>\n      <td>104.339996</td>\n      <td>-45.689999</td>\n      <td>20</td>\n      <td>39</td>\n      <td>20_CmANo_39_58</td>\n      <td>CmANo</td>\n      <td>58</td>\n      <td>True</td>\n      <td>False</td>\n    </tr>\n    <tr>\n      <th>110</th>\n      <td>59</td>\n      <td>Crane_59</td>\n      <td>-318.127991</td>\n      <td>-167.823914</td>\n      <td>27</td>\n      <td>53</td>\n      <td>27_CmANo_53_59</td>\n      <td>CmANo</td>\n      <td>59</td>\n      <td>True</td>\n      <td>False</td>\n    </tr>\n    <tr>\n      <th>111</th>\n      <td>59</td>\n      <td>Crane_59</td>\n      <td>-318.127991</td>\n      <td>-167.823914</td>\n      <td>27</td>\n      <td>52</td>\n      <td>27_CmA_52_59</td>\n      <td>CmA</td>\n      <td>59</td>\n      <td>True</td>\n      <td>True</td>\n    </tr>\n  </tbody>\n</table>\n</div>"
     },
     "execution_count": 73,
     "metadata": {},
     "output_type": "execute_result"
    }
   ],
   "source": [
    "All = pd.merge_ordered(AllBuildingsf,CoordinateIndexing, left_on='BuildingID', right_on='PointingTargetBuildingId')\n",
    "All.tail()"
   ],
   "metadata": {
    "collapsed": false,
    "pycharm": {
     "name": "#%%\n"
    }
   }
  },
  {
   "cell_type": "code",
   "execution_count": 74,
   "outputs": [
    {
     "data": {
      "text/plain": "   BuildingID    BuildingName  BuildingCenterWorld.x  BuildingCenterWorld.z  \\\n0           1  TaskBuilding_1             255.062286             -18.984482   \n1           1  TaskBuilding_1             255.062286             -18.984482   \n2           2  TaskBuilding_2             197.370117             234.419739   \n3           2  TaskBuilding_2             197.370117             234.419739   \n4           3  TaskBuilding_3             132.904114              29.115139   \n\n   AgentID  PointingTargetIndex PointingTargetName PointingTargetCondition  \\\n0       30                   59       30_SaNo_59_1                    SaNo   \n1       30                   58         30_Sa_58_1                      Sa   \n2        3                    5       03_CmANo_5_2                   CmANo   \n3        3                    4         03_CmA_4_2                     CmA   \n4       13                   24        13_CmA_24_3                     CmA   \n\n   PointingTargetBuildingId  Context  Agent     Name  \n0                         1    False  False  30_SaNo  \n1                         1    False   True    30_Sa  \n2                         2     True  False  3_CmANo  \n3                         2     True   True    3_CmA  \n4                         3     True   True   13_CmA  ",
      "text/html": "<div>\n<style scoped>\n    .dataframe tbody tr th:only-of-type {\n        vertical-align: middle;\n    }\n\n    .dataframe tbody tr th {\n        vertical-align: top;\n    }\n\n    .dataframe thead th {\n        text-align: right;\n    }\n</style>\n<table border=\"1\" class=\"dataframe\">\n  <thead>\n    <tr style=\"text-align: right;\">\n      <th></th>\n      <th>BuildingID</th>\n      <th>BuildingName</th>\n      <th>BuildingCenterWorld.x</th>\n      <th>BuildingCenterWorld.z</th>\n      <th>AgentID</th>\n      <th>PointingTargetIndex</th>\n      <th>PointingTargetName</th>\n      <th>PointingTargetCondition</th>\n      <th>PointingTargetBuildingId</th>\n      <th>Context</th>\n      <th>Agent</th>\n      <th>Name</th>\n    </tr>\n  </thead>\n  <tbody>\n    <tr>\n      <th>0</th>\n      <td>1</td>\n      <td>TaskBuilding_1</td>\n      <td>255.062286</td>\n      <td>-18.984482</td>\n      <td>30</td>\n      <td>59</td>\n      <td>30_SaNo_59_1</td>\n      <td>SaNo</td>\n      <td>1</td>\n      <td>False</td>\n      <td>False</td>\n      <td>30_SaNo</td>\n    </tr>\n    <tr>\n      <th>1</th>\n      <td>1</td>\n      <td>TaskBuilding_1</td>\n      <td>255.062286</td>\n      <td>-18.984482</td>\n      <td>30</td>\n      <td>58</td>\n      <td>30_Sa_58_1</td>\n      <td>Sa</td>\n      <td>1</td>\n      <td>False</td>\n      <td>True</td>\n      <td>30_Sa</td>\n    </tr>\n    <tr>\n      <th>2</th>\n      <td>2</td>\n      <td>TaskBuilding_2</td>\n      <td>197.370117</td>\n      <td>234.419739</td>\n      <td>3</td>\n      <td>5</td>\n      <td>03_CmANo_5_2</td>\n      <td>CmANo</td>\n      <td>2</td>\n      <td>True</td>\n      <td>False</td>\n      <td>3_CmANo</td>\n    </tr>\n    <tr>\n      <th>3</th>\n      <td>2</td>\n      <td>TaskBuilding_2</td>\n      <td>197.370117</td>\n      <td>234.419739</td>\n      <td>3</td>\n      <td>4</td>\n      <td>03_CmA_4_2</td>\n      <td>CmA</td>\n      <td>2</td>\n      <td>True</td>\n      <td>True</td>\n      <td>3_CmA</td>\n    </tr>\n    <tr>\n      <th>4</th>\n      <td>3</td>\n      <td>TaskBuilding_3</td>\n      <td>132.904114</td>\n      <td>29.115139</td>\n      <td>13</td>\n      <td>24</td>\n      <td>13_CmA_24_3</td>\n      <td>CmA</td>\n      <td>3</td>\n      <td>True</td>\n      <td>True</td>\n      <td>13_CmA</td>\n    </tr>\n  </tbody>\n</table>\n</div>"
     },
     "execution_count": 74,
     "metadata": {},
     "output_type": "execute_result"
    }
   ],
   "source": [
    "All['Name'] = [str(id) + '_' + condi for id, condi in zip(All['AgentID'], All['PointingTargetCondition'])]\n",
    "All.head()"
   ],
   "metadata": {
    "collapsed": false,
    "pycharm": {
     "name": "#%%\n"
    }
   }
  },
  {
   "cell_type": "code",
   "execution_count": 75,
   "id": "9180d66a",
   "metadata": {
    "collapsed": false,
    "jupyter": {
     "outputs_hidden": false
    },
    "pycharm": {
     "name": "#%%\n"
    }
   },
   "outputs": [],
   "source": [
    "all_short = All[['BuildingCenterWorld.x','BuildingCenterWorld.z', 'Name', 'BuildingName','PointingTargetBuildingId','AgentID', 'PointingTargetCondition', 'Context', 'Agent']]"
   ]
  },
  {
   "cell_type": "code",
   "execution_count": 76,
   "outputs": [
    {
     "data": {
      "text/plain": "   BuildingCenterWorld.x  BuildingCenterWorld.z     Name    BuildingName  \\\n0             255.062286             -18.984482  30_SaNo  TaskBuilding_1   \n1             255.062286             -18.984482    30_Sa  TaskBuilding_1   \n2             197.370117             234.419739  3_CmANo  TaskBuilding_2   \n3             197.370117             234.419739    3_CmA  TaskBuilding_2   \n4             132.904114              29.115139   13_CmA  TaskBuilding_3   \n\n   PointingTargetBuildingId  AgentID PointingTargetCondition  Context  Agent  \n0                         1       30                    SaNo    False  False  \n1                         1       30                      Sa    False   True  \n2                         2        3                   CmANo     True  False  \n3                         2        3                     CmA     True   True  \n4                         3       13                     CmA     True   True  ",
      "text/html": "<div>\n<style scoped>\n    .dataframe tbody tr th:only-of-type {\n        vertical-align: middle;\n    }\n\n    .dataframe tbody tr th {\n        vertical-align: top;\n    }\n\n    .dataframe thead th {\n        text-align: right;\n    }\n</style>\n<table border=\"1\" class=\"dataframe\">\n  <thead>\n    <tr style=\"text-align: right;\">\n      <th></th>\n      <th>BuildingCenterWorld.x</th>\n      <th>BuildingCenterWorld.z</th>\n      <th>Name</th>\n      <th>BuildingName</th>\n      <th>PointingTargetBuildingId</th>\n      <th>AgentID</th>\n      <th>PointingTargetCondition</th>\n      <th>Context</th>\n      <th>Agent</th>\n    </tr>\n  </thead>\n  <tbody>\n    <tr>\n      <th>0</th>\n      <td>255.062286</td>\n      <td>-18.984482</td>\n      <td>30_SaNo</td>\n      <td>TaskBuilding_1</td>\n      <td>1</td>\n      <td>30</td>\n      <td>SaNo</td>\n      <td>False</td>\n      <td>False</td>\n    </tr>\n    <tr>\n      <th>1</th>\n      <td>255.062286</td>\n      <td>-18.984482</td>\n      <td>30_Sa</td>\n      <td>TaskBuilding_1</td>\n      <td>1</td>\n      <td>30</td>\n      <td>Sa</td>\n      <td>False</td>\n      <td>True</td>\n    </tr>\n    <tr>\n      <th>2</th>\n      <td>197.370117</td>\n      <td>234.419739</td>\n      <td>3_CmANo</td>\n      <td>TaskBuilding_2</td>\n      <td>2</td>\n      <td>3</td>\n      <td>CmANo</td>\n      <td>True</td>\n      <td>False</td>\n    </tr>\n    <tr>\n      <th>3</th>\n      <td>197.370117</td>\n      <td>234.419739</td>\n      <td>3_CmA</td>\n      <td>TaskBuilding_2</td>\n      <td>2</td>\n      <td>3</td>\n      <td>CmA</td>\n      <td>True</td>\n      <td>True</td>\n    </tr>\n    <tr>\n      <th>4</th>\n      <td>132.904114</td>\n      <td>29.115139</td>\n      <td>13_CmA</td>\n      <td>TaskBuilding_3</td>\n      <td>3</td>\n      <td>13</td>\n      <td>CmA</td>\n      <td>True</td>\n      <td>True</td>\n    </tr>\n  </tbody>\n</table>\n</div>"
     },
     "execution_count": 76,
     "metadata": {},
     "output_type": "execute_result"
    }
   ],
   "source": [
    "all_short.head()"
   ],
   "metadata": {
    "collapsed": false,
    "pycharm": {
     "name": "#%%\n"
    }
   }
  },
  {
   "cell_type": "code",
   "execution_count": 77,
   "id": "03326646",
   "metadata": {
    "collapsed": false,
    "jupyter": {
     "outputs_hidden": false
    },
    "pycharm": {
     "name": "#%%\n"
    }
   },
   "outputs": [
    {
     "data": {
      "text/plain": "                                                                                   BuildingName  \\\nBuildingCenterWorld.z BuildingCenterWorld.x PointingTargetName AgentID BuildingID                 \n-18.984482             255.062286           30_Sa_58_1         30      1                      1   \n                                            30_SaNo_59_1       30      1                      1   \n 234.419739            197.370117           03_CmA_4_2         3       2                      1   \n                                            03_CmANo_5_2       3       2                      1   \n 29.115139             132.904114           13_CmANo_25_3      13      3                      1   \n...                                                                                         ...   \n-26.238297            -71.695419            05_CmANo_9_57      5       57                     1   \n-45.689999             104.339996           20_CmA_38_58       20      58                     1   \n                                            20_CmANo_39_58     20      58                     1   \n-167.823914           -318.127991           27_CmA_52_59       27      59                     1   \n                                            27_CmANo_53_59     27      59                     1   \n\n                                                                                   PointingTargetIndex  \\\nBuildingCenterWorld.z BuildingCenterWorld.x PointingTargetName AgentID BuildingID                        \n-18.984482             255.062286           30_Sa_58_1         30      1                             1   \n                                            30_SaNo_59_1       30      1                             1   \n 234.419739            197.370117           03_CmA_4_2         3       2                             1   \n                                            03_CmANo_5_2       3       2                             1   \n 29.115139             132.904114           13_CmANo_25_3      13      3                             1   \n...                                                                                                ...   \n-26.238297            -71.695419            05_CmANo_9_57      5       57                            1   \n-45.689999             104.339996           20_CmA_38_58       20      58                            1   \n                                            20_CmANo_39_58     20      58                            1   \n-167.823914           -318.127991           27_CmA_52_59       27      59                            1   \n                                            27_CmANo_53_59     27      59                            1   \n\n                                                                                   PointingTargetCondition  \\\nBuildingCenterWorld.z BuildingCenterWorld.x PointingTargetName AgentID BuildingID                            \n-18.984482             255.062286           30_Sa_58_1         30      1                                 1   \n                                            30_SaNo_59_1       30      1                                 1   \n 234.419739            197.370117           03_CmA_4_2         3       2                                 1   \n                                            03_CmANo_5_2       3       2                                 1   \n 29.115139             132.904114           13_CmANo_25_3      13      3                                 1   \n...                                                                                                    ...   \n-26.238297            -71.695419            05_CmANo_9_57      5       57                                1   \n-45.689999             104.339996           20_CmA_38_58       20      58                                1   \n                                            20_CmANo_39_58     20      58                                1   \n-167.823914           -318.127991           27_CmA_52_59       27      59                                1   \n                                            27_CmANo_53_59     27      59                                1   \n\n                                                                                   PointingTargetBuildingId  \\\nBuildingCenterWorld.z BuildingCenterWorld.x PointingTargetName AgentID BuildingID                             \n-18.984482             255.062286           30_Sa_58_1         30      1                                  1   \n                                            30_SaNo_59_1       30      1                                  1   \n 234.419739            197.370117           03_CmA_4_2         3       2                                  1   \n                                            03_CmANo_5_2       3       2                                  1   \n 29.115139             132.904114           13_CmANo_25_3      13      3                                  1   \n...                                                                                                     ...   \n-26.238297            -71.695419            05_CmANo_9_57      5       57                                 1   \n-45.689999             104.339996           20_CmA_38_58       20      58                                 1   \n                                            20_CmANo_39_58     20      58                                 1   \n-167.823914           -318.127991           27_CmA_52_59       27      59                                 1   \n                                            27_CmANo_53_59     27      59                                 1   \n\n                                                                                   Context  \\\nBuildingCenterWorld.z BuildingCenterWorld.x PointingTargetName AgentID BuildingID            \n-18.984482             255.062286           30_Sa_58_1         30      1                 1   \n                                            30_SaNo_59_1       30      1                 1   \n 234.419739            197.370117           03_CmA_4_2         3       2                 1   \n                                            03_CmANo_5_2       3       2                 1   \n 29.115139             132.904114           13_CmANo_25_3      13      3                 1   \n...                                                                                    ...   \n-26.238297            -71.695419            05_CmANo_9_57      5       57                1   \n-45.689999             104.339996           20_CmA_38_58       20      58                1   \n                                            20_CmANo_39_58     20      58                1   \n-167.823914           -318.127991           27_CmA_52_59       27      59                1   \n                                            27_CmANo_53_59     27      59                1   \n\n                                                                                   Agent  \\\nBuildingCenterWorld.z BuildingCenterWorld.x PointingTargetName AgentID BuildingID          \n-18.984482             255.062286           30_Sa_58_1         30      1               1   \n                                            30_SaNo_59_1       30      1               1   \n 234.419739            197.370117           03_CmA_4_2         3       2               1   \n                                            03_CmANo_5_2       3       2               1   \n 29.115139             132.904114           13_CmANo_25_3      13      3               1   \n...                                                                                  ...   \n-26.238297            -71.695419            05_CmANo_9_57      5       57              1   \n-45.689999             104.339996           20_CmA_38_58       20      58              1   \n                                            20_CmANo_39_58     20      58              1   \n-167.823914           -318.127991           27_CmA_52_59       27      59              1   \n                                            27_CmANo_53_59     27      59              1   \n\n                                                                                   Name  \nBuildingCenterWorld.z BuildingCenterWorld.x PointingTargetName AgentID BuildingID        \n-18.984482             255.062286           30_Sa_58_1         30      1              1  \n                                            30_SaNo_59_1       30      1              1  \n 234.419739            197.370117           03_CmA_4_2         3       2              1  \n                                            03_CmANo_5_2       3       2              1  \n 29.115139             132.904114           13_CmANo_25_3      13      3              1  \n...                                                                                 ...  \n-26.238297            -71.695419            05_CmANo_9_57      5       57             1  \n-45.689999             104.339996           20_CmA_38_58       20      58             1  \n                                            20_CmANo_39_58     20      58             1  \n-167.823914           -318.127991           27_CmA_52_59       27      59             1  \n                                            27_CmANo_53_59     27      59             1  \n\n[112 rows x 7 columns]",
      "text/html": "<div>\n<style scoped>\n    .dataframe tbody tr th:only-of-type {\n        vertical-align: middle;\n    }\n\n    .dataframe tbody tr th {\n        vertical-align: top;\n    }\n\n    .dataframe thead th {\n        text-align: right;\n    }\n</style>\n<table border=\"1\" class=\"dataframe\">\n  <thead>\n    <tr style=\"text-align: right;\">\n      <th></th>\n      <th></th>\n      <th></th>\n      <th></th>\n      <th></th>\n      <th>BuildingName</th>\n      <th>PointingTargetIndex</th>\n      <th>PointingTargetCondition</th>\n      <th>PointingTargetBuildingId</th>\n      <th>Context</th>\n      <th>Agent</th>\n      <th>Name</th>\n    </tr>\n    <tr>\n      <th>BuildingCenterWorld.z</th>\n      <th>BuildingCenterWorld.x</th>\n      <th>PointingTargetName</th>\n      <th>AgentID</th>\n      <th>BuildingID</th>\n      <th></th>\n      <th></th>\n      <th></th>\n      <th></th>\n      <th></th>\n      <th></th>\n      <th></th>\n    </tr>\n  </thead>\n  <tbody>\n    <tr>\n      <th rowspan=\"2\" valign=\"top\">-18.984482</th>\n      <th rowspan=\"2\" valign=\"top\">255.062286</th>\n      <th>30_Sa_58_1</th>\n      <th>30</th>\n      <th>1</th>\n      <td>1</td>\n      <td>1</td>\n      <td>1</td>\n      <td>1</td>\n      <td>1</td>\n      <td>1</td>\n      <td>1</td>\n    </tr>\n    <tr>\n      <th>30_SaNo_59_1</th>\n      <th>30</th>\n      <th>1</th>\n      <td>1</td>\n      <td>1</td>\n      <td>1</td>\n      <td>1</td>\n      <td>1</td>\n      <td>1</td>\n      <td>1</td>\n    </tr>\n    <tr>\n      <th rowspan=\"2\" valign=\"top\">234.419739</th>\n      <th rowspan=\"2\" valign=\"top\">197.370117</th>\n      <th>03_CmA_4_2</th>\n      <th>3</th>\n      <th>2</th>\n      <td>1</td>\n      <td>1</td>\n      <td>1</td>\n      <td>1</td>\n      <td>1</td>\n      <td>1</td>\n      <td>1</td>\n    </tr>\n    <tr>\n      <th>03_CmANo_5_2</th>\n      <th>3</th>\n      <th>2</th>\n      <td>1</td>\n      <td>1</td>\n      <td>1</td>\n      <td>1</td>\n      <td>1</td>\n      <td>1</td>\n      <td>1</td>\n    </tr>\n    <tr>\n      <th>29.115139</th>\n      <th>132.904114</th>\n      <th>13_CmANo_25_3</th>\n      <th>13</th>\n      <th>3</th>\n      <td>1</td>\n      <td>1</td>\n      <td>1</td>\n      <td>1</td>\n      <td>1</td>\n      <td>1</td>\n      <td>1</td>\n    </tr>\n    <tr>\n      <th>...</th>\n      <th>...</th>\n      <th>...</th>\n      <th>...</th>\n      <th>...</th>\n      <td>...</td>\n      <td>...</td>\n      <td>...</td>\n      <td>...</td>\n      <td>...</td>\n      <td>...</td>\n      <td>...</td>\n    </tr>\n    <tr>\n      <th>-26.238297</th>\n      <th>-71.695419</th>\n      <th>05_CmANo_9_57</th>\n      <th>5</th>\n      <th>57</th>\n      <td>1</td>\n      <td>1</td>\n      <td>1</td>\n      <td>1</td>\n      <td>1</td>\n      <td>1</td>\n      <td>1</td>\n    </tr>\n    <tr>\n      <th rowspan=\"2\" valign=\"top\">-45.689999</th>\n      <th rowspan=\"2\" valign=\"top\">104.339996</th>\n      <th>20_CmA_38_58</th>\n      <th>20</th>\n      <th>58</th>\n      <td>1</td>\n      <td>1</td>\n      <td>1</td>\n      <td>1</td>\n      <td>1</td>\n      <td>1</td>\n      <td>1</td>\n    </tr>\n    <tr>\n      <th>20_CmANo_39_58</th>\n      <th>20</th>\n      <th>58</th>\n      <td>1</td>\n      <td>1</td>\n      <td>1</td>\n      <td>1</td>\n      <td>1</td>\n      <td>1</td>\n      <td>1</td>\n    </tr>\n    <tr>\n      <th rowspan=\"2\" valign=\"top\">-167.823914</th>\n      <th rowspan=\"2\" valign=\"top\">-318.127991</th>\n      <th>27_CmA_52_59</th>\n      <th>27</th>\n      <th>59</th>\n      <td>1</td>\n      <td>1</td>\n      <td>1</td>\n      <td>1</td>\n      <td>1</td>\n      <td>1</td>\n      <td>1</td>\n    </tr>\n    <tr>\n      <th>27_CmANo_53_59</th>\n      <th>27</th>\n      <th>59</th>\n      <td>1</td>\n      <td>1</td>\n      <td>1</td>\n      <td>1</td>\n      <td>1</td>\n      <td>1</td>\n      <td>1</td>\n    </tr>\n  </tbody>\n</table>\n<p>112 rows × 7 columns</p>\n</div>"
     },
     "execution_count": 77,
     "metadata": {},
     "output_type": "execute_result"
    }
   ],
   "source": [
    "All.groupby(['BuildingCenterWorld.z','BuildingCenterWorld.x', 'PointingTargetName', 'AgentID', 'BuildingID']).count().sort_values('BuildingID')"
   ]
  },
  {
   "cell_type": "code",
   "execution_count": 78,
   "id": "2b6ca298",
   "metadata": {
    "collapsed": false,
    "jupyter": {
     "outputs_hidden": false
    },
    "pycharm": {
     "name": "#%%\n"
    }
   },
   "outputs": [],
   "source": [
    "all_short.to_csv('BuildingCoordinates_short.csv')"
   ]
  },
  {
   "cell_type": "markdown",
   "source": [
    "<span class=\"emoji\">😃</span>"
   ],
   "metadata": {
    "collapsed": false,
    "pycharm": {
     "name": "#%% md\n"
    }
   }
  }
 ],
 "metadata": {
  "kernelspec": {
   "display_name": "Python 3",
   "language": "python",
   "name": "python3"
  },
  "language_info": {
   "codemirror_mode": {
    "name": "ipython",
    "version": 3
   },
   "file_extension": ".py",
   "mimetype": "text/x-python",
   "name": "python",
   "nbconvert_exporter": "python",
   "pygments_lexer": "ipython3",
   "version": "3.8.8"
  }
 },
 "nbformat": 4,
 "nbformat_minor": 5
}