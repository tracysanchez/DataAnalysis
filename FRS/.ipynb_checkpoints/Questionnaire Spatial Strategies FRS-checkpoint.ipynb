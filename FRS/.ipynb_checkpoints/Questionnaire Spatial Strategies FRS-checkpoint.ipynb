{
 "cells": [
  {
   "cell_type": "markdown",
   "id": "6d261deb",
   "metadata": {},
   "source": [
    "# Questionnaire Spatial Strategies FRS\n"
   ]
  },
  {
   "cell_type": "markdown",
   "id": "2440772a",
   "metadata": {},
   "source": [
    "## Import packages "
   ]
  },
  {
   "cell_type": "code",
   "execution_count": 1,
   "id": "7b4650ee",
   "metadata": {},
   "outputs": [],
   "source": [
    "import numpy as np\n",
    "import pandas as pd\n",
    "import matplotlib.image as img\n",
    "import matplotlib.pyplot as plt\n",
    "import seaborn as sns\n",
    "import statsmodels.api as sm\n",
    "import matplotlib.collections as clt\n",
    "import ptitprince as pt\n",
    "import re\n",
    "from statsmodels.stats.anova import *"
   ]
  },
  {
   "cell_type": "code",
   "execution_count": 2,
   "id": "09766ab8",
   "metadata": {},
   "outputs": [
    {
     "data": {
      "text/html": [
       "<div>\n",
       "<style scoped>\n",
       "    .dataframe tbody tr th:only-of-type {\n",
       "        vertical-align: middle;\n",
       "    }\n",
       "\n",
       "    .dataframe tbody tr th {\n",
       "        vertical-align: top;\n",
       "    }\n",
       "\n",
       "    .dataframe thead th {\n",
       "        text-align: right;\n",
       "    }\n",
       "</style>\n",
       "<table border=\"1\" class=\"dataframe\">\n",
       "  <thead>\n",
       "    <tr style=\"text-align: right;\">\n",
       "      <th></th>\n",
       "      <th>ID</th>\n",
       "      <th>Item1</th>\n",
       "      <th>Item2</th>\n",
       "      <th>Item3</th>\n",
       "      <th>Item4</th>\n",
       "      <th>Item5</th>\n",
       "      <th>Item6</th>\n",
       "      <th>Item7</th>\n",
       "      <th>Item8</th>\n",
       "      <th>Item9</th>\n",
       "      <th>...</th>\n",
       "      <th>Item11</th>\n",
       "      <th>Item12</th>\n",
       "      <th>Item13</th>\n",
       "      <th>Item14</th>\n",
       "      <th>Item15</th>\n",
       "      <th>Item16</th>\n",
       "      <th>Item17</th>\n",
       "      <th>Item18</th>\n",
       "      <th>Item19</th>\n",
       "      <th>Alter</th>\n",
       "    </tr>\n",
       "  </thead>\n",
       "  <tbody>\n",
       "    <tr>\n",
       "      <th>count</th>\n",
       "      <td>7.000000</td>\n",
       "      <td>7.000000</td>\n",
       "      <td>7.000000</td>\n",
       "      <td>7.000000</td>\n",
       "      <td>7.000000</td>\n",
       "      <td>7.000000</td>\n",
       "      <td>7.000000</td>\n",
       "      <td>7.000000</td>\n",
       "      <td>7.000000</td>\n",
       "      <td>7.000000</td>\n",
       "      <td>...</td>\n",
       "      <td>7.000000</td>\n",
       "      <td>7.000000</td>\n",
       "      <td>7.000000</td>\n",
       "      <td>7.000000</td>\n",
       "      <td>7.000000</td>\n",
       "      <td>7.000000</td>\n",
       "      <td>7.000000</td>\n",
       "      <td>7.000000</td>\n",
       "      <td>7.000000</td>\n",
       "      <td>7.000000</td>\n",
       "    </tr>\n",
       "    <tr>\n",
       "      <th>mean</th>\n",
       "      <td>4433.000000</td>\n",
       "      <td>5.571429</td>\n",
       "      <td>4.571429</td>\n",
       "      <td>3.428571</td>\n",
       "      <td>3.857143</td>\n",
       "      <td>5.428571</td>\n",
       "      <td>1.571429</td>\n",
       "      <td>4.285714</td>\n",
       "      <td>4.714286</td>\n",
       "      <td>3.285714</td>\n",
       "      <td>...</td>\n",
       "      <td>4.857143</td>\n",
       "      <td>5.428571</td>\n",
       "      <td>4.571429</td>\n",
       "      <td>4.857143</td>\n",
       "      <td>4.285714</td>\n",
       "      <td>4.142857</td>\n",
       "      <td>2.142857</td>\n",
       "      <td>4.000000</td>\n",
       "      <td>4.142857</td>\n",
       "      <td>25.571429</td>\n",
       "    </tr>\n",
       "    <tr>\n",
       "      <th>std</th>\n",
       "      <td>3109.464048</td>\n",
       "      <td>0.975900</td>\n",
       "      <td>1.812654</td>\n",
       "      <td>1.618347</td>\n",
       "      <td>1.573592</td>\n",
       "      <td>1.618347</td>\n",
       "      <td>0.786796</td>\n",
       "      <td>1.496026</td>\n",
       "      <td>0.951190</td>\n",
       "      <td>1.603567</td>\n",
       "      <td>...</td>\n",
       "      <td>1.463850</td>\n",
       "      <td>1.397276</td>\n",
       "      <td>1.511858</td>\n",
       "      <td>1.463850</td>\n",
       "      <td>1.380131</td>\n",
       "      <td>1.463850</td>\n",
       "      <td>1.573592</td>\n",
       "      <td>1.290994</td>\n",
       "      <td>1.214986</td>\n",
       "      <td>5.855400</td>\n",
       "    </tr>\n",
       "    <tr>\n",
       "      <th>min</th>\n",
       "      <td>365.000000</td>\n",
       "      <td>4.000000</td>\n",
       "      <td>2.000000</td>\n",
       "      <td>2.000000</td>\n",
       "      <td>2.000000</td>\n",
       "      <td>2.000000</td>\n",
       "      <td>1.000000</td>\n",
       "      <td>3.000000</td>\n",
       "      <td>3.000000</td>\n",
       "      <td>2.000000</td>\n",
       "      <td>...</td>\n",
       "      <td>3.000000</td>\n",
       "      <td>3.000000</td>\n",
       "      <td>3.000000</td>\n",
       "      <td>2.000000</td>\n",
       "      <td>2.000000</td>\n",
       "      <td>3.000000</td>\n",
       "      <td>1.000000</td>\n",
       "      <td>2.000000</td>\n",
       "      <td>3.000000</td>\n",
       "      <td>19.000000</td>\n",
       "    </tr>\n",
       "    <tr>\n",
       "      <th>25%</th>\n",
       "      <td>2359.500000</td>\n",
       "      <td>5.000000</td>\n",
       "      <td>3.500000</td>\n",
       "      <td>2.000000</td>\n",
       "      <td>2.500000</td>\n",
       "      <td>5.500000</td>\n",
       "      <td>1.000000</td>\n",
       "      <td>3.000000</td>\n",
       "      <td>4.500000</td>\n",
       "      <td>2.000000</td>\n",
       "      <td>...</td>\n",
       "      <td>4.000000</td>\n",
       "      <td>5.000000</td>\n",
       "      <td>3.000000</td>\n",
       "      <td>4.500000</td>\n",
       "      <td>3.500000</td>\n",
       "      <td>3.000000</td>\n",
       "      <td>1.000000</td>\n",
       "      <td>3.000000</td>\n",
       "      <td>3.000000</td>\n",
       "      <td>23.000000</td>\n",
       "    </tr>\n",
       "    <tr>\n",
       "      <th>50%</th>\n",
       "      <td>3572.000000</td>\n",
       "      <td>6.000000</td>\n",
       "      <td>4.000000</td>\n",
       "      <td>3.000000</td>\n",
       "      <td>4.000000</td>\n",
       "      <td>6.000000</td>\n",
       "      <td>1.000000</td>\n",
       "      <td>4.000000</td>\n",
       "      <td>5.000000</td>\n",
       "      <td>3.000000</td>\n",
       "      <td>...</td>\n",
       "      <td>4.000000</td>\n",
       "      <td>5.000000</td>\n",
       "      <td>5.000000</td>\n",
       "      <td>5.000000</td>\n",
       "      <td>5.000000</td>\n",
       "      <td>4.000000</td>\n",
       "      <td>1.000000</td>\n",
       "      <td>5.000000</td>\n",
       "      <td>4.000000</td>\n",
       "      <td>23.000000</td>\n",
       "    </tr>\n",
       "    <tr>\n",
       "      <th>75%</th>\n",
       "      <td>6953.000000</td>\n",
       "      <td>6.000000</td>\n",
       "      <td>6.000000</td>\n",
       "      <td>4.500000</td>\n",
       "      <td>5.000000</td>\n",
       "      <td>6.000000</td>\n",
       "      <td>2.000000</td>\n",
       "      <td>5.000000</td>\n",
       "      <td>5.000000</td>\n",
       "      <td>4.000000</td>\n",
       "      <td>...</td>\n",
       "      <td>6.000000</td>\n",
       "      <td>6.500000</td>\n",
       "      <td>6.000000</td>\n",
       "      <td>6.000000</td>\n",
       "      <td>5.000000</td>\n",
       "      <td>4.500000</td>\n",
       "      <td>3.000000</td>\n",
       "      <td>5.000000</td>\n",
       "      <td>5.000000</td>\n",
       "      <td>27.000000</td>\n",
       "    </tr>\n",
       "    <tr>\n",
       "      <th>max</th>\n",
       "      <td>8469.000000</td>\n",
       "      <td>7.000000</td>\n",
       "      <td>7.000000</td>\n",
       "      <td>6.000000</td>\n",
       "      <td>6.000000</td>\n",
       "      <td>7.000000</td>\n",
       "      <td>3.000000</td>\n",
       "      <td>7.000000</td>\n",
       "      <td>6.000000</td>\n",
       "      <td>6.000000</td>\n",
       "      <td>...</td>\n",
       "      <td>7.000000</td>\n",
       "      <td>7.000000</td>\n",
       "      <td>6.000000</td>\n",
       "      <td>6.000000</td>\n",
       "      <td>6.000000</td>\n",
       "      <td>7.000000</td>\n",
       "      <td>5.000000</td>\n",
       "      <td>5.000000</td>\n",
       "      <td>6.000000</td>\n",
       "      <td>37.000000</td>\n",
       "    </tr>\n",
       "  </tbody>\n",
       "</table>\n",
       "<p>8 rows × 21 columns</p>\n",
       "</div>"
      ],
      "text/plain": [
       "                ID     Item1     Item2     Item3     Item4     Item5  \\\n",
       "count     7.000000  7.000000  7.000000  7.000000  7.000000  7.000000   \n",
       "mean   4433.000000  5.571429  4.571429  3.428571  3.857143  5.428571   \n",
       "std    3109.464048  0.975900  1.812654  1.618347  1.573592  1.618347   \n",
       "min     365.000000  4.000000  2.000000  2.000000  2.000000  2.000000   \n",
       "25%    2359.500000  5.000000  3.500000  2.000000  2.500000  5.500000   \n",
       "50%    3572.000000  6.000000  4.000000  3.000000  4.000000  6.000000   \n",
       "75%    6953.000000  6.000000  6.000000  4.500000  5.000000  6.000000   \n",
       "max    8469.000000  7.000000  7.000000  6.000000  6.000000  7.000000   \n",
       "\n",
       "          Item6     Item7     Item8     Item9  ...    Item11    Item12  \\\n",
       "count  7.000000  7.000000  7.000000  7.000000  ...  7.000000  7.000000   \n",
       "mean   1.571429  4.285714  4.714286  3.285714  ...  4.857143  5.428571   \n",
       "std    0.786796  1.496026  0.951190  1.603567  ...  1.463850  1.397276   \n",
       "min    1.000000  3.000000  3.000000  2.000000  ...  3.000000  3.000000   \n",
       "25%    1.000000  3.000000  4.500000  2.000000  ...  4.000000  5.000000   \n",
       "50%    1.000000  4.000000  5.000000  3.000000  ...  4.000000  5.000000   \n",
       "75%    2.000000  5.000000  5.000000  4.000000  ...  6.000000  6.500000   \n",
       "max    3.000000  7.000000  6.000000  6.000000  ...  7.000000  7.000000   \n",
       "\n",
       "         Item13    Item14    Item15    Item16    Item17    Item18    Item19  \\\n",
       "count  7.000000  7.000000  7.000000  7.000000  7.000000  7.000000  7.000000   \n",
       "mean   4.571429  4.857143  4.285714  4.142857  2.142857  4.000000  4.142857   \n",
       "std    1.511858  1.463850  1.380131  1.463850  1.573592  1.290994  1.214986   \n",
       "min    3.000000  2.000000  2.000000  3.000000  1.000000  2.000000  3.000000   \n",
       "25%    3.000000  4.500000  3.500000  3.000000  1.000000  3.000000  3.000000   \n",
       "50%    5.000000  5.000000  5.000000  4.000000  1.000000  5.000000  4.000000   \n",
       "75%    6.000000  6.000000  5.000000  4.500000  3.000000  5.000000  5.000000   \n",
       "max    6.000000  6.000000  6.000000  7.000000  5.000000  5.000000  6.000000   \n",
       "\n",
       "          Alter   \n",
       "count   7.000000  \n",
       "mean   25.571429  \n",
       "std     5.855400  \n",
       "min    19.000000  \n",
       "25%    23.000000  \n",
       "50%    23.000000  \n",
       "75%    27.000000  \n",
       "max    37.000000  \n",
       "\n",
       "[8 rows x 21 columns]"
      ]
     },
     "execution_count": 2,
     "metadata": {},
     "output_type": "execute_result"
    }
   ],
   "source": [
    "# Data set loading\n",
    "df_file = \"/Users/tracysanchezpacheco/Documents/Idea/Idea/FRS.csv\"\n",
    "df = pd.read_csv(df_file, sep= ',')\n",
    "df.describe()"
   ]
  },
  {
   "cell_type": "markdown",
   "id": "a7be1527",
   "metadata": {},
   "source": [
    "## „Globale Einschätzung der Orientierungsfähigkeit mit Richtungs- und Wegstrategie“"
   ]
  },
  {
   "cell_type": "code",
   "execution_count": 3,
   "id": "1d611024",
   "metadata": {},
   "outputs": [
    {
     "data": {
      "text/plain": [
       "count    7.000000\n",
       "mean     4.771429\n",
       "std      1.116116\n",
       "min      2.600000\n",
       "25%      4.450000\n",
       "50%      4.900000\n",
       "75%      5.650000\n",
       "max      5.700000\n",
       "Name: Global, dtype: float64"
      ]
     },
     "execution_count": 3,
     "metadata": {},
     "output_type": "execute_result"
    }
   ],
   "source": [
    "df[\"Global\"] = df[[\"Item1\", \"Item4\", \"Item5\", \"Item8\", \"Item10\", \"Item12\", \"Item13\", \"Item14\", \"Item15\",\n",
    "\"Item18\"]].mean(axis=1)\n",
    "df[\"Global\"].describe()"
   ]
  },
  {
   "cell_type": "markdown",
   "id": "39c351ff",
   "metadata": {},
   "source": [
    "## „Verwendung einer Überblicksstrategie“"
   ]
  },
  {
   "cell_type": "code",
   "execution_count": 4,
   "id": "a99f0e75",
   "metadata": {},
   "outputs": [
    {
     "data": {
      "text/plain": [
       "count    7.000000\n",
       "mean     4.102041\n",
       "std      1.266293\n",
       "min      2.857143\n",
       "25%      3.142857\n",
       "50%      3.571429\n",
       "75%      4.857143\n",
       "max      6.285714\n",
       "Name: Overview, dtype: float64"
      ]
     },
     "execution_count": 4,
     "metadata": {},
     "output_type": "execute_result"
    }
   ],
   "source": [
    "df[\"Overview\"] = df[[\"Item2\", \"Item3\", \"Item7\", \"Item9\", \"Item11\", \"Item16\", \"Item19\"]].mean(axis=1)\n",
    "df[\"Overview\"].describe()"
   ]
  },
  {
   "cell_type": "markdown",
   "id": "46d7f6da",
   "metadata": {},
   "source": [
    "## „Kenntnis der Himmelsrichtungen“"
   ]
  },
  {
   "cell_type": "code",
   "execution_count": 5,
   "id": "948751ce",
   "metadata": {},
   "outputs": [
    {
     "data": {
      "text/plain": [
       "count    7.000000\n",
       "mean     1.857143\n",
       "std      1.180194\n",
       "min      1.000000\n",
       "25%      1.000000\n",
       "50%      1.000000\n",
       "75%      2.500000\n",
       "max      4.000000\n",
       "Name: Cardinal, dtype: float64"
      ]
     },
     "execution_count": 5,
     "metadata": {},
     "output_type": "execute_result"
    }
   ],
   "source": [
    "df[\"Cardinal\"] = df[[\"Item6\", \"Item17\"]].mean(axis=1)\n",
    "df[\"Cardinal\"].describe()"
   ]
  },
  {
   "cell_type": "code",
   "execution_count": 6,
   "id": "5299f8a8",
   "metadata": {},
   "outputs": [
    {
     "data": {
      "text/html": [
       "<div>\n",
       "<style scoped>\n",
       "    .dataframe tbody tr th:only-of-type {\n",
       "        vertical-align: middle;\n",
       "    }\n",
       "\n",
       "    .dataframe tbody tr th {\n",
       "        vertical-align: top;\n",
       "    }\n",
       "\n",
       "    .dataframe thead th {\n",
       "        text-align: right;\n",
       "    }\n",
       "</style>\n",
       "<table border=\"1\" class=\"dataframe\">\n",
       "  <thead>\n",
       "    <tr style=\"text-align: right;\">\n",
       "      <th></th>\n",
       "      <th>ID</th>\n",
       "      <th>Alter</th>\n",
       "      <th>Global</th>\n",
       "      <th>Overview</th>\n",
       "      <th>Cardinal</th>\n",
       "    </tr>\n",
       "  </thead>\n",
       "  <tbody>\n",
       "    <tr>\n",
       "      <th>0</th>\n",
       "      <td>365</td>\n",
       "      <td>37</td>\n",
       "      <td>5.6</td>\n",
       "      <td>6.285714</td>\n",
       "      <td>2.5</td>\n",
       "    </tr>\n",
       "    <tr>\n",
       "      <th>1</th>\n",
       "      <td>3572</td>\n",
       "      <td>23</td>\n",
       "      <td>5.7</td>\n",
       "      <td>3.142857</td>\n",
       "      <td>1.0</td>\n",
       "    </tr>\n",
       "    <tr>\n",
       "      <th>2</th>\n",
       "      <td>3572</td>\n",
       "      <td>23</td>\n",
       "      <td>5.7</td>\n",
       "      <td>3.142857</td>\n",
       "      <td>1.0</td>\n",
       "    </tr>\n",
       "    <tr>\n",
       "      <th>3</th>\n",
       "      <td>7264</td>\n",
       "      <td>23</td>\n",
       "      <td>4.7</td>\n",
       "      <td>5.000000</td>\n",
       "      <td>1.0</td>\n",
       "    </tr>\n",
       "    <tr>\n",
       "      <th>4</th>\n",
       "      <td>8469</td>\n",
       "      <td>29</td>\n",
       "      <td>4.2</td>\n",
       "      <td>2.857143</td>\n",
       "      <td>1.0</td>\n",
       "    </tr>\n",
       "  </tbody>\n",
       "</table>\n",
       "</div>"
      ],
      "text/plain": [
       "     ID  Alter   Global  Overview  Cardinal\n",
       "0   365      37     5.6  6.285714       2.5\n",
       "1  3572      23     5.7  3.142857       1.0\n",
       "2  3572      23     5.7  3.142857       1.0\n",
       "3  7264      23     4.7  5.000000       1.0\n",
       "4  8469      29     4.2  2.857143       1.0"
      ]
     },
     "execution_count": 6,
     "metadata": {},
     "output_type": "execute_result"
    }
   ],
   "source": [
    "df1 = df.iloc[:, [2,22,24,25,26]].copy()\n",
    "df1.head()"
   ]
  },
  {
   "cell_type": "code",
   "execution_count": 7,
   "id": "4c7183fd",
   "metadata": {},
   "outputs": [
    {
     "name": "stdout",
     "output_type": "stream",
     "text": [
      "<class 'pandas.core.frame.DataFrame'>\n",
      "RangeIndex: 21 entries, 0 to 20\n",
      "Data columns (total 3 columns):\n",
      " #   Column    Non-Null Count  Dtype  \n",
      "---  ------    --------------  -----  \n",
      " 0   ID        21 non-null     int64  \n",
      " 1   Subscale  21 non-null     object \n",
      " 2   Average   21 non-null     float64\n",
      "dtypes: float64(1), int64(1), object(1)\n",
      "memory usage: 632.0+ bytes\n"
     ]
    }
   ],
   "source": [
    "Long = pd.melt(df, id_vars=['ID'], value_vars=[\"Global\", \"Overview\", \"Cardinal\"], var_name='Subscale', value_name='Average')\n",
    "Long.info()"
   ]
  },
  {
   "cell_type": "code",
   "execution_count": 8,
   "id": "e62f6ff0",
   "metadata": {},
   "outputs": [
    {
     "data": {
      "image/png": "[encoded data removed]",
      "text/plain": [
       "<Figure size 1152x288 with 1 Axes>"
      ]
     },
     "metadata": {
      "needs_background": "light"
     },
     "output_type": "display_data"
    }
   ],
   "source": [
    "dy=\"Subscale\"; dx=\"Average\"; ort=\"H\"; pal = sns.color_palette(\"Set2\"); sigma = .2\n",
    "sns.color_palette(\"Set2\")\n",
    "#create figure and axes objects of a predefined size\n",
    "fig, axes = plt.subplots(nrows=1, ncols=1, figsize=(16,4))\n",
    "sns.violinplot(data= Long, x=dx, y=dy, scale=\"width\")\n",
    "plt.show()"
   ]
  },
  {
   "cell_type": "code",
   "execution_count": 9,
   "id": "960ff8de",
   "metadata": {},
   "outputs": [
    {
     "data": {
      "image/png": "[encoded data removed]",
      "text/plain": [
       "<Figure size 1152x288 with 1 Axes>"
      ]
     },
     "metadata": {
      "needs_background": "light"
     },
     "output_type": "display_data"
    }
   ],
   "source": [
    "\n",
    "dy=\"Subscale\"; dx=\"Average\"; ort=\"h\"; pal = sns.color_palette(); sigma = .2\n",
    "f, ax = plt.subplots(figsize=(16, 4))\n",
    "\n",
    "ax=pt.half_violinplot( x = dx, y = dy, data = \n",
    "                      Long, palette = pal, bw = .2, cut = 0.,\n",
    "                      scale = \"area\", width = .6, inner = None, orient = ort)\n",
    "ax=sns.stripplot( x = dx, y = dy, data = Long, palette = pal, edgecolor = \"white\",\n",
    "                 size = 3, jitter = 1, zorder = 0, orient = ort)\n",
    "ax=sns.boxplot( x = dx, y = dy, data = Long, color = \"black\", width = .15, zorder = 10,\\\n",
    "            showcaps = True, boxprops = {'facecolor':'none', \"zorder\":10},\\\n",
    "            showfliers=True, whiskerprops = {'linewidth':2, \"zorder\":10},\\\n",
    "               saturation = 1, orient = ort) "
   ]
  }
 ],
 "metadata": {
  "kernelspec": {
   "display_name": "Python 3",
   "language": "python",
   "name": "python3"
  },
  "language_info": {
   "codemirror_mode": {
    "name": "ipython",
    "version": 3
   },
   "file_extension": ".py",
   "mimetype": "text/x-python",
   "name": "python",
   "nbconvert_exporter": "python",
   "pygments_lexer": "ipython3",
   "version": "3.8.8"
  }
 },
 "nbformat": 4,
 "nbformat_minor": 5
}
