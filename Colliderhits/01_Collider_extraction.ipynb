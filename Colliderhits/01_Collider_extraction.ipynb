{
 "cells": [
  {
   "cell_type": "code",
   "execution_count": 1,
   "id": "b6d06a85-751a-4e42-a434-a5c025194b02",
   "metadata": {},
   "outputs": [],
   "source": [
    "import re\n",
    "import numpy as np\n",
    "import pandas as pd\n",
    "import glob"
   ]
  },
  {
   "cell_type": "code",
   "execution_count": 2,
   "id": "8d1fc42a",
   "metadata": {
    "collapsed": false,
    "jupyter": {
     "outputs_hidden": false
    },
    "pycharm": {
     "name": "#%%\n"
    }
   },
   "outputs": [
    {
     "name": "stdout",
     "output_type": "stream",
     "text": [
      "/Volumes/SSD/00_Data_Processing/Pre_processed/02_Individuals_Colliders/8469.csv\n",
      "/Volumes/SSD/00_Data_Processing/Pre_processed/02_Individuals_Colliders/8673.csv\n",
      "/Volumes/SSD/00_Data_Processing/Pre_processed/02_Individuals_Colliders/8695.csv\n",
      "/Volumes/SSD/00_Data_Processing/Pre_processed/02_Individuals_Colliders/9472.csv\n",
      "/Volumes/SSD/00_Data_Processing/Pre_processed/02_Individuals_Colliders/9502.csv\n",
      "/Volumes/SSD/00_Data_Processing/Pre_processed/02_Individuals_Colliders/9601.csv\n",
      "/Volumes/SSD/00_Data_Processing/Pre_processed/02_Individuals_Colliders/0479.csv\n",
      "/Volumes/SSD/00_Data_Processing/Pre_processed/02_Individuals_Colliders/1754.csv\n",
      "/Volumes/SSD/00_Data_Processing/Pre_processed/02_Individuals_Colliders/2258.csv\n",
      "/Volumes/SSD/00_Data_Processing/Pre_processed/02_Individuals_Colliders/2361.csv\n",
      "/Volumes/SSD/00_Data_Processing/Pre_processed/02_Individuals_Colliders/2693.csv\n",
      "/Volumes/SSD/00_Data_Processing/Pre_processed/02_Individuals_Colliders/3246.csv\n",
      "/Volumes/SSD/00_Data_Processing/Pre_processed/02_Individuals_Colliders/3310.csv\n",
      "/Volumes/SSD/00_Data_Processing/Pre_processed/02_Individuals_Colliders/3572.csv\n",
      "/Volumes/SSD/00_Data_Processing/Pre_processed/02_Individuals_Colliders/3976.csv\n",
      "/Volumes/SSD/00_Data_Processing/Pre_processed/02_Individuals_Colliders/4176.csv\n",
      "/Volumes/SSD/00_Data_Processing/Pre_processed/02_Individuals_Colliders/4796.csv\n",
      "/Volumes/SSD/00_Data_Processing/Pre_processed/02_Individuals_Colliders/4917.csv\n",
      "/Volumes/SSD/00_Data_Processing/Pre_processed/02_Individuals_Colliders/5238.csv\n",
      "/Volumes/SSD/00_Data_Processing/Pre_processed/02_Individuals_Colliders/5531.csv\n",
      "/Volumes/SSD/00_Data_Processing/Pre_processed/02_Individuals_Colliders/5741.csv\n",
      "/Volumes/SSD/00_Data_Processing/Pre_processed/02_Individuals_Colliders/6642.csv\n",
      "/Volumes/SSD/00_Data_Processing/Pre_processed/02_Individuals_Colliders/7093.csv\n",
      "/Volumes/SSD/00_Data_Processing/Pre_processed/02_Individuals_Colliders/7264.csv\n",
      "/Volumes/SSD/00_Data_Processing/Pre_processed/02_Individuals_Colliders/7412.csv\n",
      "/Volumes/SSD/00_Data_Processing/Pre_processed/02_Individuals_Colliders/7842.csv\n",
      "/Volumes/SSD/00_Data_Processing/Pre_processed/02_Individuals_Colliders/8007.csv\n"
     ]
    }
   ],
   "source": [
    "path = \"/Volumes/SSD/00_Data_Processing/Pre_processed/02_Individuals_Colliders/\" \n",
    "\n",
    "  \n",
    "# csv files in the path\n",
    "files = glob.glob(path + \"/*.csv\")\n",
    "  \n",
    "# defining an empty list to store \n",
    "# content\n",
    "data_frame = pd.DataFrame()\n",
    "content = []\n",
    "  \n",
    "# checking all the csv files in the \n",
    "# specified path\n",
    "for filename in files:\n",
    "    \n",
    "    # reading content of csv file\n",
    "    # content.append(filename)\n",
    "    df = pd.read_csv(filename)\n",
    "    df.drop(['Unnamed: 0', 'rayCastHitsCombinedEyes', 'timeStampGetVerboseData', 'hitObjectColliderBoundsCenter', 'timeStampDataPointStart', \n",
    "             'bodyTrackerPosition.x', 'bodyTrackerPosition.y', 'bodyTrackerPosition.z', 'hmdPosition.x', 'hmdPosition.y',\n",
    "             'hmdPosition.z', 'hmdDirectionForward.x', 'hmdDirectionForward.y',\n",
    "             'hmdDirectionForward.z', 'hmdRotation.x', 'hmdRotation.y',\n",
    "             'hmdRotation.z', 'hmdDirectionUp.x', 'hmdDirectionUp.y',\n",
    "             'hmdDirectionUp.z',],axis=1, inplace=True)\n",
    "    content.append(df)\n",
    "    print(filename)\n",
    "  \n",
    "# converting content to data frame\n",
    "data_frame = pd.concat(content)\n"
   ]
  },
  {
   "cell_type": "code",
   "execution_count": 3,
   "id": "8651389f-2037-4fee-ba0f-15ca95a0da34",
   "metadata": {},
   "outputs": [
    {
     "data": {
      "text/plain": [
       "Index(['index', 'SubjectID', 'Session', 'SessionSubsection',\n",
       "       'timeStampDataPointEnd', 'combinedGazeValidityBitmask',\n",
       "       'eyePositionCombinedWorld.x', 'eyePositionCombinedWorld.y',\n",
       "       'eyePositionCombinedWorld.z', 'eyeDirectionCombinedWorld.y',\n",
       "       'eyeDirectionCombinedWorld.z', 'eyeDirectionCombinedLocal.x',\n",
       "       'eyeDirectionCombinedLocal.y', 'eyeDirectionCombinedLocal.z',\n",
       "       'playerBodyPosition.x', 'playerBodyPosition.y', 'playerBodyPosition.z',\n",
       "       'bodyTrackerRotation.x', 'bodyTrackerRotation.y',\n",
       "       'bodyTrackerRotation.z', 'hitColliderType', 'hitObjectColliderName',\n",
       "       'ordinalOfHit', 'hitPointOnObject_x', 'hitPointOnObject_y',\n",
       "       'hitPointOnObject_z'],\n",
       "      dtype='object')"
      ]
     },
     "execution_count": 3,
     "metadata": {},
     "output_type": "execute_result"
    }
   ],
   "source": [
    "data_frame.columns"
   ]
  },
  {
   "cell_type": "code",
   "execution_count": 4,
   "id": "a5badb2b",
   "metadata": {
    "collapsed": false,
    "jupyter": {
     "outputs_hidden": false
    },
    "pycharm": {
     "name": "#%%\n"
    }
   },
   "outputs": [],
   "source": [
    "#Since we have two colliders hits per frame, we calculate the distance between each hit and the participant\n",
    "data_frame['Eucledian_distance'] = np.linalg.norm(data_frame.loc[:, [\"hitPointOnObject_x\",\"hitPointOnObject_y\",\"hitPointOnObject_z\"]].values - data_frame.loc[:, [\"playerBodyPosition.x\",\"playerBodyPosition.y\",\"playerBodyPosition.z\"]], axis=1)"
   ]
  },
  {
   "cell_type": "code",
   "execution_count": 5,
   "id": "7c44fefd-25ae-4b51-91ad-c37a739356bf",
   "metadata": {},
   "outputs": [],
   "source": [
    "# Since the collider names are too detailed, here we create a dictionary with patterns to classify them into our categories of interest\n",
    "patterns = {'\\d{2}_Sa':'Passive_Agent', '\\d{2}_Cma':'Active_Agent', 'Building_\\d+': 'Building'}\n",
    "patterns.update(dict.fromkeys(['Castle-TaskBuilding_56','HighSilo-TaskBuilding_49', 'Windmill-TaskBuilding_10_1', 'Church_TaskBuilding_16'], 'Global_Landmark'))\n",
    "patterns.update(dict.fromkeys(['TaskBuilding_2','TaskBuilding_3', 'TaskBuilding_5', 'TaskBuilding_8', 'TaskBuilding_9', 'TaskBuilding_11', 'TaskBuilding_13', 'TaskBuilding_14', 'TaskBuilding_20', 'TaskBuilding_21', 'TaskBuilding_23','TaskBuilding_27', 'TaskBuilding_29', 'TaskBuilding_32', 'TaskBuilding_34',  'TaskBuilding_38', 'TaskBuilding_41', 'TaskBuilding_42', 'TaskBuilding_44', 'TaskBuilding_45', 'TaskBuilding_47', 'TaskBuilding_50', 'TaskBuilding_51', 'TaskBuilding_52', 'BasketballCourt_58', 'Construction_57', 'Graffity_02', 'Graffity_03', 'Graffity_05', 'Graffity_08', 'Graffity_09', 'Graffity_11', 'Graffity_13', 'Graffity_14', 'Graffity_20', 'Graffity_21', 'Graffity_23', 'Graffity_27', 'Graffity_29', 'Graffity_32', 'Graffity_34', 'Graffity_38', 'Graffity_41', 'Graffity_42', 'Graffity_44', 'Graffity_45', 'Graffity_47',  'Graffity_50', 'Graffity_51', 'Graffity_52'], 'TaskBuilding_Public'))\n",
    "patterns.update(dict.fromkeys(['TaskBuilding_1','TaskBuilding_4', 'TaskBuilding_6', 'TaskBuilding_7', 'TaskBuilding_12', 'TaskBuilding_15', 'TaskBuilding_17', 'TaskBuilding_18', 'TaskBuilding_19', 'TaskBuilding_22', 'TaskBuilding_24','TaskBuilding_25', 'TaskBuilding_26', 'TaskBuilding_28', 'TaskBuilding_30',  'TaskBuilding_31', 'TaskBuilding_33', 'TaskBuilding_35', 'TaskBuilding_36', 'TaskBuilding_37', 'TaskBuilding_39', 'TaskBuilding_40', 'TaskBuilding_43', 'TaskBuilding_48', 'TaskBuilding_54','TaskBuilding_55','Graffity_1','Graffity_4', 'Graffity_6', 'Graffity_7', 'Graffity_12', 'Graffity_15', 'Graffity_17', 'Graffity_18', 'Graffity_19', 'Graffity_22', 'Graffity_24','Graffity_25', 'Graffity_26', 'Graffity_28', 'Graffity_30',  'Graffity_31', 'Graffity_33', 'Graffity_35', 'Graffity_36', 'Graffity_37', 'Graffity_39', 'Graffity_40', 'Graffity_43', 'Graffity_48', 'Graffity_54', 'Graffity_55' ], 'TaskBuilding_Residential'))\n",
    "default_val = 'Background'"
   ]
  },
  {
   "cell_type": "code",
   "execution_count": 6,
   "id": "68ff7d20-1cc3-462c-9980-07674e2cfb4a",
   "metadata": {},
   "outputs": [],
   "source": [
    "# Here we look for the patterns contained in the dictionary and create the more general/informative variable Collider_Categorical\n",
    "data_frame['Collider_Categorical'] = data_frame['hitObjectColliderName'].apply(lambda x: next((val for key, val in patterns.items() if re.match(key, x)), default_val))"
   ]
  },
  {
   "cell_type": "code",
   "execution_count": 7,
   "id": "011961bb-7900-457e-bf61-a2d1ea5ff7f3",
   "metadata": {},
   "outputs": [],
   "source": [
    "# Since the double hits where unfolded in a long format in case of more than one hit per frame the second hit would be the row directly underneath.\n",
    "# Therefore, if we want to know which hit was closest to the participant per frame we can compare each row with the previous one and see which one has the smallest Euclidean distance.\n",
    "data_frame['Previous_Euclidean_value'] = data_frame['Eucledian_distance'].shift(1)\n",
    "#Here we declare the conditions to choose between collider hits:\n",
    "data_frame['Collider_stays'] = (data_frame[\"ordinalOfHit\"] == 2) & (data_frame['Collider_Categorical'] != 'Background') & (data_frame['Eucledian_distance'] <  data_frame['Previous_Euclidean_value']) "
   ]
  },
  {
   "cell_type": "code",
   "execution_count": 8,
   "id": "fc2d0f66-35d1-436d-9da4-530206b494a7",
   "metadata": {},
   "outputs": [],
   "source": [
    "original_shape = data_frame.shape"
   ]
  },
  {
   "cell_type": "code",
   "execution_count": 9,
   "id": "ccada2d8-a6f3-4928-97ed-fe743579223d",
   "metadata": {},
   "outputs": [],
   "source": [
    "data_frame.reset_index(inplace=True)\n",
    "#Drop all the second hit colliders that do not comply with the criteria\n",
    "indexCollider = data_frame[(data_frame[\"ordinalOfHit\"] == 2) & (data_frame['Collider_stays'] == False)].index"
   ]
  },
  {
   "cell_type": "code",
   "execution_count": 10,
   "id": "76276405",
   "metadata": {
    "collapsed": false,
    "jupyter": {
     "outputs_hidden": false
    },
    "pycharm": {
     "name": "#%%\n"
    }
   },
   "outputs": [],
   "source": [
    "depleted_data = data_frame.drop(index=indexCollider)"
   ]
  },
  {
   "cell_type": "code",
   "execution_count": 11,
   "id": "6b8d8a7b-b01b-4736-af8b-e3406a28b644",
   "metadata": {},
   "outputs": [],
   "source": [
    "depleted_data.reset_index(inplace=True, drop=True)\n",
    "#Take the index of all second colliders that will stay\n",
    "indexColliderStays = depleted_data[depleted_data['Collider_stays'] == True].index\n",
    "#We subtract one from that list of indexes because now is the first collider that has to go (so row directly on top)\n",
    "indexColliderDelete = indexColliderStays - 1\n",
    "depleted_data_1 = depleted_data.drop(indexColliderDelete)"
   ]
  },
  {
   "cell_type": "markdown",
   "id": "1e8f8789-667c-4731-9806-7a2adbc2695e",
   "metadata": {},
   "source": [
    "# Separate face and body hits"
   ]
  },
  {
   "cell_type": "code",
   "execution_count": 12,
   "id": "ae15e0be",
   "metadata": {
    "collapsed": false,
    "jupyter": {
     "outputs_hidden": false
    },
    "pycharm": {
     "name": "#%%\n"
    }
   },
   "outputs": [
    {
     "data": {
      "text/plain": [
       "Not_Agent    25638876\n",
       "Body           570296\n",
       "Face           138082\n",
       "Name: Face_Hits, dtype: int64"
      ]
     },
     "execution_count": 12,
     "metadata": {},
     "output_type": "execute_result"
    }
   ],
   "source": [
    "#Create variable that differenciates body from face hits on agents\n",
    "depleted_data_1[\"Face_Hits\"] = \"Not_Agent\"\n",
    "mask_Face = ((depleted_data_1[\"Collider_Categorical\"].str.contains(pat=\"_Agent\")) & (depleted_data_1[\"hitColliderType\"] == \"UnityEngine.SphereCollider\"))\n",
    "mask_Body = ((depleted_data_1[\"Collider_Categorical\"].str.contains(pat=\"_Agent\")) & (depleted_data_1[\"hitColliderType\"] == \"UnityEngine.BoxCollider\"))\n",
    "depleted_data_1.loc[mask_Face, 'Face_Hits'] = \"Face\"\n",
    "depleted_data_1.loc[mask_Body, 'Face_Hits'] = \"Body\"\n",
    "depleted_data_1[\"Face_Hits\"].value_counts()"
   ]
  },
  {
   "cell_type": "code",
   "execution_count": 13,
   "id": "bac4b7d6",
   "metadata": {
    "collapsed": false,
    "jupyter": {
     "outputs_hidden": false
    },
    "pycharm": {
     "name": "#%%\n"
    }
   },
   "outputs": [],
   "source": [
    "depleted_data_1.to_csv(\"/Volumes/SSD/00_Data_Processing/Pre_processed/Complete_data_Categorical.csv\")"
   ]
  },
  {
   "cell_type": "markdown",
   "id": "85b97509",
   "metadata": {
    "pycharm": {
     "name": "#%% md\n"
    }
   },
   "source": [
    "## Dealing with time \n",
    "- Create continues time \n",
    "- Delete duplicate time stamps"
   ]
  },
  {
   "cell_type": "code",
   "execution_count": 14,
   "id": "4fc036f8",
   "metadata": {
    "collapsed": false,
    "jupyter": {
     "outputs_hidden": false
    },
    "pycharm": {
     "name": "#%%\n"
    }
   },
   "outputs": [],
   "source": [
    "result =  pd.load_csv(\"/Volumes/SSD/00_Data_Processing/Pre_processed/Complete_data_Categorical.csv\")"
   ]
  },
  {
   "cell_type": "code",
   "execution_count": 15,
   "id": "a74f4792",
   "metadata": {
    "collapsed": false,
    "jupyter": {
     "outputs_hidden": false
    },
    "pycharm": {
     "name": "#%%\n"
    }
   },
   "outputs": [],
   "source": [
    "# Group by Subject and Session because the continuous time only makes sence on a session scale\n",
    "all_participants_sessions = pd.DataFrame(result.groupby([\"SubjectID\", \"Session\"])[\"hitColliderType\"].count())\n",
    "all_participants_sessions.reset_index(inplace=True)\n",
    "# Create tuples to later subset data to subject-session scale. We create this because subjects can have a different number of sessions, in this way we only subset for the existing pairs S-S.\n",
    "L_all_participants_sessions = list(zip(all_participants_sessions.SubjectID, all_participants_sessions.Session))"
   ]
  },
  {
   "cell_type": "code",
   "execution_count": 16,
   "id": "aabf6faa",
   "metadata": {
    "collapsed": false,
    "jupyter": {
     "outputs_hidden": false
    },
    "pycharm": {
     "name": "#%%\n"
    }
   },
   "outputs": [
    {
     "data": {
      "text/plain": [
       "127"
      ]
     },
     "execution_count": 16,
     "metadata": {},
     "output_type": "execute_result"
    }
   ],
   "source": [
    "len(L_all_participants_sessions)"
   ]
  },
  {
   "cell_type": "code",
   "execution_count": 17,
   "id": "51461cba",
   "metadata": {
    "collapsed": false,
    "jupyter": {
     "outputs_hidden": false
    },
    "pycharm": {
     "name": "#%%\n"
    }
   },
   "outputs": [
    {
     "name": "stdout",
     "output_type": "stream",
     "text": [
      "<class 'tuple'>\n",
      "<class 'tuple'>\n",
      "<class 'tuple'>\n",
      "<class 'tuple'>\n",
      "<class 'tuple'>\n",
      "<class 'tuple'>\n",
      "<class 'tuple'>\n",
      "<class 'tuple'>\n",
      "<class 'tuple'>\n",
      "<class 'tuple'>\n",
      "<class 'tuple'>\n",
      "<class 'tuple'>\n",
      "<class 'tuple'>\n",
      "<class 'tuple'>\n",
      "<class 'tuple'>\n",
      "<class 'tuple'>\n",
      "<class 'tuple'>\n",
      "<class 'tuple'>\n",
      "<class 'tuple'>\n",
      "<class 'tuple'>\n",
      "<class 'tuple'>\n",
      "<class 'tuple'>\n",
      "<class 'tuple'>\n",
      "<class 'tuple'>\n",
      "<class 'tuple'>\n",
      "<class 'tuple'>\n",
      "<class 'tuple'>\n",
      "<class 'tuple'>\n",
      "<class 'tuple'>\n",
      "<class 'tuple'>\n",
      "<class 'tuple'>\n",
      "<class 'tuple'>\n",
      "<class 'tuple'>\n",
      "<class 'tuple'>\n",
      "<class 'tuple'>\n",
      "<class 'tuple'>\n",
      "<class 'tuple'>\n",
      "<class 'tuple'>\n",
      "<class 'tuple'>\n",
      "<class 'tuple'>\n",
      "<class 'tuple'>\n",
      "<class 'tuple'>\n",
      "<class 'tuple'>\n",
      "<class 'tuple'>\n",
      "<class 'tuple'>\n",
      "<class 'tuple'>\n",
      "<class 'tuple'>\n",
      "<class 'tuple'>\n",
      "<class 'tuple'>\n",
      "<class 'tuple'>\n",
      "<class 'tuple'>\n",
      "<class 'tuple'>\n",
      "<class 'tuple'>\n",
      "<class 'tuple'>\n",
      "<class 'tuple'>\n",
      "<class 'tuple'>\n",
      "<class 'tuple'>\n",
      "<class 'tuple'>\n",
      "<class 'tuple'>\n",
      "<class 'tuple'>\n",
      "<class 'tuple'>\n",
      "<class 'tuple'>\n",
      "<class 'tuple'>\n",
      "<class 'tuple'>\n",
      "<class 'tuple'>\n",
      "<class 'tuple'>\n",
      "<class 'tuple'>\n",
      "<class 'tuple'>\n",
      "<class 'tuple'>\n",
      "<class 'tuple'>\n",
      "<class 'tuple'>\n",
      "<class 'tuple'>\n",
      "<class 'tuple'>\n",
      "<class 'tuple'>\n",
      "<class 'tuple'>\n",
      "<class 'tuple'>\n",
      "<class 'tuple'>\n",
      "<class 'tuple'>\n",
      "<class 'tuple'>\n",
      "<class 'tuple'>\n",
      "<class 'tuple'>\n",
      "<class 'tuple'>\n",
      "<class 'tuple'>\n",
      "<class 'tuple'>\n",
      "<class 'tuple'>\n",
      "<class 'tuple'>\n",
      "<class 'tuple'>\n",
      "<class 'tuple'>\n",
      "<class 'tuple'>\n",
      "<class 'tuple'>\n",
      "<class 'tuple'>\n",
      "<class 'tuple'>\n",
      "<class 'tuple'>\n",
      "<class 'tuple'>\n",
      "<class 'tuple'>\n",
      "<class 'tuple'>\n",
      "<class 'tuple'>\n",
      "<class 'tuple'>\n",
      "<class 'tuple'>\n",
      "<class 'tuple'>\n",
      "<class 'tuple'>\n",
      "<class 'tuple'>\n",
      "<class 'tuple'>\n",
      "<class 'tuple'>\n",
      "<class 'tuple'>\n",
      "<class 'tuple'>\n",
      "<class 'tuple'>\n",
      "<class 'tuple'>\n",
      "<class 'tuple'>\n",
      "<class 'tuple'>\n",
      "<class 'tuple'>\n",
      "<class 'tuple'>\n",
      "<class 'tuple'>\n",
      "<class 'tuple'>\n",
      "<class 'tuple'>\n",
      "<class 'tuple'>\n",
      "<class 'tuple'>\n",
      "<class 'tuple'>\n",
      "<class 'tuple'>\n",
      "<class 'tuple'>\n",
      "<class 'tuple'>\n",
      "<class 'tuple'>\n",
      "<class 'tuple'>\n",
      "<class 'tuple'>\n",
      "<class 'tuple'>\n",
      "<class 'tuple'>\n",
      "<class 'tuple'>\n"
     ]
    }
   ],
   "source": [
    "temporals = []\n",
    "for tuples in L_all_participants_sessions:\n",
    "    subject, session = tuples\n",
    "    temporal = result[(result['SubjectID'] == subject) & (result['Session'] == session)]\n",
    "    temporal_c = temporal.copy(deep=True)\n",
    "    temporal_c[\"Continuous_Time\"] = np.round((temporal_c.iloc[:, 5] - temporal_c.iloc[0,5])/60, 3)\n",
    "    # Delete duplicate time stamps\n",
    "    temporal_c[\"Time_Shift\"] = temporal_c.timeStampDataPointEnd.diff()\n",
    "    temporal_c_ND =  temporal_c[temporal_c[\"Time_Shift\"] > 0.0000]\n",
    "    temporal_c_ND.to_csv(f\"/Volumes/SSD/00_Data_Processing/Pre_processed/03_Individuals_IndividualSessions/{subject}_{session}.csv\", index=True)\n",
    "    temporals.append(temporal_c_ND)\n",
    "    print(tuple)"
   ]
  },
  {
   "cell_type": "code",
   "execution_count": 18,
   "id": "cf8cf5c7-f11f-42ea-8815-105d7b8c3f5a",
   "metadata": {},
   "outputs": [],
   "source": [
    "data_frames_list = pd.concat(temporals, axis=0)"
   ]
  },
  {
   "cell_type": "code",
   "execution_count": 19,
   "id": "3915c53a",
   "metadata": {
    "collapsed": false,
    "jupyter": {
     "outputs_hidden": false
    },
    "pycharm": {
     "is_executing": true,
     "name": "#%%\n"
    }
   },
   "outputs": [
    {
     "data": {
      "text/html": [
       "<div>\n",
       "<style scoped>\n",
       "    .dataframe tbody tr th:only-of-type {\n",
       "        vertical-align: middle;\n",
       "    }\n",
       "\n",
       "    .dataframe tbody tr th {\n",
       "        vertical-align: top;\n",
       "    }\n",
       "\n",
       "    .dataframe thead th {\n",
       "        text-align: right;\n",
       "    }\n",
       "</style>\n",
       "<table border=\"1\" class=\"dataframe\">\n",
       "  <thead>\n",
       "    <tr style=\"text-align: right;\">\n",
       "      <th></th>\n",
       "      <th>level_0</th>\n",
       "      <th>index</th>\n",
       "      <th>SubjectID</th>\n",
       "      <th>Session</th>\n",
       "      <th>SessionSubsection</th>\n",
       "      <th>timeStampDataPointEnd</th>\n",
       "      <th>combinedGazeValidityBitmask</th>\n",
       "      <th>eyePositionCombinedWorld.x</th>\n",
       "      <th>eyePositionCombinedWorld.y</th>\n",
       "      <th>eyePositionCombinedWorld.z</th>\n",
       "      <th>...</th>\n",
       "      <th>hitPointOnObject_x</th>\n",
       "      <th>hitPointOnObject_y</th>\n",
       "      <th>hitPointOnObject_z</th>\n",
       "      <th>Eucledian_distance</th>\n",
       "      <th>Collider_Categorical</th>\n",
       "      <th>Previous_Euclidean_value</th>\n",
       "      <th>Collider_stays</th>\n",
       "      <th>Face_Hits</th>\n",
       "      <th>Continuous_Time</th>\n",
       "      <th>Time_Shift</th>\n",
       "    </tr>\n",
       "  </thead>\n",
       "  <tbody>\n",
       "    <tr>\n",
       "      <th>6001267</th>\n",
       "      <td>1870034</td>\n",
       "      <td>1897581</td>\n",
       "      <td>9601</td>\n",
       "      <td>5</td>\n",
       "      <td>3</td>\n",
       "      <td>1.652798e+09</td>\n",
       "      <td>3</td>\n",
       "      <td>-110.823036</td>\n",
       "      <td>4.032620</td>\n",
       "      <td>103.275818</td>\n",
       "      <td>...</td>\n",
       "      <td>-296.841431</td>\n",
       "      <td>3.779699</td>\n",
       "      <td>-73.182159</td>\n",
       "      <td>256.512073</td>\n",
       "      <td>Building</td>\n",
       "      <td>277.929231</td>\n",
       "      <td>False</td>\n",
       "      <td>Not_Agent</td>\n",
       "      <td>30.911</td>\n",
       "      <td>0.021824</td>\n",
       "    </tr>\n",
       "    <tr>\n",
       "      <th>6001269</th>\n",
       "      <td>1870038</td>\n",
       "      <td>1897585</td>\n",
       "      <td>9601</td>\n",
       "      <td>5</td>\n",
       "      <td>3</td>\n",
       "      <td>1.652798e+09</td>\n",
       "      <td>3</td>\n",
       "      <td>-110.876328</td>\n",
       "      <td>4.034211</td>\n",
       "      <td>103.264183</td>\n",
       "      <td>...</td>\n",
       "      <td>-296.707764</td>\n",
       "      <td>4.127580</td>\n",
       "      <td>-73.307503</td>\n",
       "      <td>256.451544</td>\n",
       "      <td>Building</td>\n",
       "      <td>276.782697</td>\n",
       "      <td>False</td>\n",
       "      <td>Not_Agent</td>\n",
       "      <td>30.911</td>\n",
       "      <td>0.011905</td>\n",
       "    </tr>\n",
       "    <tr>\n",
       "      <th>6001271</th>\n",
       "      <td>1870042</td>\n",
       "      <td>1897589</td>\n",
       "      <td>9601</td>\n",
       "      <td>5</td>\n",
       "      <td>3</td>\n",
       "      <td>1.652798e+09</td>\n",
       "      <td>3</td>\n",
       "      <td>-110.984283</td>\n",
       "      <td>4.037135</td>\n",
       "      <td>103.240768</td>\n",
       "      <td>...</td>\n",
       "      <td>-295.833679</td>\n",
       "      <td>4.772648</td>\n",
       "      <td>-74.126945</td>\n",
       "      <td>256.299333</td>\n",
       "      <td>Building</td>\n",
       "      <td>276.515786</td>\n",
       "      <td>False</td>\n",
       "      <td>Not_Agent</td>\n",
       "      <td>30.912</td>\n",
       "      <td>0.021327</td>\n",
       "    </tr>\n",
       "    <tr>\n",
       "      <th>6001273</th>\n",
       "      <td>1870046</td>\n",
       "      <td>1897593</td>\n",
       "      <td>9601</td>\n",
       "      <td>5</td>\n",
       "      <td>3</td>\n",
       "      <td>1.652798e+09</td>\n",
       "      <td>3</td>\n",
       "      <td>-111.037956</td>\n",
       "      <td>4.038515</td>\n",
       "      <td>103.227974</td>\n",
       "      <td>...</td>\n",
       "      <td>-295.258362</td>\n",
       "      <td>5.042946</td>\n",
       "      <td>-74.824463</td>\n",
       "      <td>256.321150</td>\n",
       "      <td>Building</td>\n",
       "      <td>275.033709</td>\n",
       "      <td>False</td>\n",
       "      <td>Not_Agent</td>\n",
       "      <td>30.912</td>\n",
       "      <td>0.011904</td>\n",
       "    </tr>\n",
       "    <tr>\n",
       "      <th>6001275</th>\n",
       "      <td>1870050</td>\n",
       "      <td>1897597</td>\n",
       "      <td>9601</td>\n",
       "      <td>5</td>\n",
       "      <td>3</td>\n",
       "      <td>1.652798e+09</td>\n",
       "      <td>3</td>\n",
       "      <td>-111.081200</td>\n",
       "      <td>4.038269</td>\n",
       "      <td>103.201927</td>\n",
       "      <td>...</td>\n",
       "      <td>-276.617615</td>\n",
       "      <td>5.832996</td>\n",
       "      <td>-48.707134</td>\n",
       "      <td>224.754887</td>\n",
       "      <td>Building</td>\n",
       "      <td>273.948864</td>\n",
       "      <td>False</td>\n",
       "      <td>Not_Agent</td>\n",
       "      <td>30.912</td>\n",
       "      <td>0.021824</td>\n",
       "    </tr>\n",
       "  </tbody>\n",
       "</table>\n",
       "<p>5 rows × 34 columns</p>\n",
       "</div>"
      ],
      "text/plain": [
       "         level_0    index  SubjectID  Session  SessionSubsection  \\\n",
       "6001267  1870034  1897581       9601        5                  3   \n",
       "6001269  1870038  1897585       9601        5                  3   \n",
       "6001271  1870042  1897589       9601        5                  3   \n",
       "6001273  1870046  1897593       9601        5                  3   \n",
       "6001275  1870050  1897597       9601        5                  3   \n",
       "\n",
       "         timeStampDataPointEnd  combinedGazeValidityBitmask  \\\n",
       "6001267           1.652798e+09                            3   \n",
       "6001269           1.652798e+09                            3   \n",
       "6001271           1.652798e+09                            3   \n",
       "6001273           1.652798e+09                            3   \n",
       "6001275           1.652798e+09                            3   \n",
       "\n",
       "         eyePositionCombinedWorld.x  eyePositionCombinedWorld.y  \\\n",
       "6001267                 -110.823036                    4.032620   \n",
       "6001269                 -110.876328                    4.034211   \n",
       "6001271                 -110.984283                    4.037135   \n",
       "6001273                 -111.037956                    4.038515   \n",
       "6001275                 -111.081200                    4.038269   \n",
       "\n",
       "         eyePositionCombinedWorld.z  ...  hitPointOnObject_x  \\\n",
       "6001267                  103.275818  ...         -296.841431   \n",
       "6001269                  103.264183  ...         -296.707764   \n",
       "6001271                  103.240768  ...         -295.833679   \n",
       "6001273                  103.227974  ...         -295.258362   \n",
       "6001275                  103.201927  ...         -276.617615   \n",
       "\n",
       "         hitPointOnObject_y  hitPointOnObject_z  Eucledian_distance  \\\n",
       "6001267            3.779699          -73.182159          256.512073   \n",
       "6001269            4.127580          -73.307503          256.451544   \n",
       "6001271            4.772648          -74.126945          256.299333   \n",
       "6001273            5.042946          -74.824463          256.321150   \n",
       "6001275            5.832996          -48.707134          224.754887   \n",
       "\n",
       "         Collider_Categorical  Previous_Euclidean_value  Collider_stays  \\\n",
       "6001267              Building                277.929231           False   \n",
       "6001269              Building                276.782697           False   \n",
       "6001271              Building                276.515786           False   \n",
       "6001273              Building                275.033709           False   \n",
       "6001275              Building                273.948864           False   \n",
       "\n",
       "         Face_Hits  Continuous_Time  Time_Shift  \n",
       "6001267  Not_Agent           30.911    0.021824  \n",
       "6001269  Not_Agent           30.911    0.011905  \n",
       "6001271  Not_Agent           30.912    0.021327  \n",
       "6001273  Not_Agent           30.912    0.011904  \n",
       "6001275  Not_Agent           30.912    0.021824  \n",
       "\n",
       "[5 rows x 34 columns]"
      ]
     },
     "execution_count": 19,
     "metadata": {},
     "output_type": "execute_result"
    }
   ],
   "source": [
    "data_frames_list.tail()"
   ]
  },
  {
   "cell_type": "code",
   "execution_count": 20,
   "id": "b274d623-6d37-464d-a3c8-1e63b8f75374",
   "metadata": {},
   "outputs": [],
   "source": [
    "data_frames_list.to_csv(\"/Volumes/SSD/00_Data_Processing/Pre_processed/Data_Complete_ND.csv\")"
   ]
  },
  {
   "cell_type": "code",
   "execution_count": 30,
   "id": "75359065-9b0a-4913-b47e-ceb7098f5b9e",
   "metadata": {},
   "outputs": [],
   "source": [
    "a = pd.read_csv(\"/Volumes/SSD/00_Data_Processing/Pre_processed/03_Individuals_IndividualSessions/479_5.csv\")"
   ]
  },
  {
   "cell_type": "code",
   "execution_count": 31,
   "id": "2379e267-4dfc-41ba-bc0c-8d7fc770447e",
   "metadata": {},
   "outputs": [
    {
     "data": {
      "text/plain": [
       "3    0.950866\n",
       "0    0.049134\n",
       "Name: combinedGazeValidityBitmask, dtype: float64"
      ]
     },
     "execution_count": 31,
     "metadata": {},
     "output_type": "execute_result"
    }
   ],
   "source": [
    "a.combinedGazeValidityBitmask.value_counts(normalize=True)"
   ]
  },
  {
   "cell_type": "markdown",
   "id": "0a4eea6b-36d6-48f1-a920-af57b2751ec3",
   "metadata": {},
   "source": [
    "# If we want to keep only the perfect cases run this "
   ]
  },
  {
   "cell_type": "code",
   "execution_count": null,
   "id": "09ec00eb-bae8-43ae-8717-d200cf7d040f",
   "metadata": {},
   "outputs": [],
   "source": []
  },
  {
   "cell_type": "code",
   "execution_count": 21,
   "id": "ef1abca1",
   "metadata": {
    "collapsed": false,
    "jupyter": {
     "outputs_hidden": false
    },
    "pycharm": {
     "name": "#%%\n"
    }
   },
   "outputs": [
    {
     "ename": "FileNotFoundError",
     "evalue": "[Errno 2] No such file or directory: '/Volumes/SSD/00_Data_Processing/Pre_processed/clean_seven_participants.csv'",
     "output_type": "error",
     "traceback": [
      "\u001b[0;31m---------------------------------------------------------------------------\u001b[0m",
      "\u001b[0;31mFileNotFoundError\u001b[0m                         Traceback (most recent call last)",
      "\u001b[0;32m<ipython-input-21-3bbc9a345143>\u001b[0m in \u001b[0;36m<module>\u001b[0;34m\u001b[0m\n\u001b[0;32m----> 1\u001b[0;31m \u001b[0mclean_data\u001b[0m \u001b[0;34m=\u001b[0m \u001b[0mpd\u001b[0m\u001b[0;34m.\u001b[0m\u001b[0mread_csv\u001b[0m\u001b[0;34m(\u001b[0m\u001b[0;34m\"/Volumes/SSD/00_Data_Processing/Pre_processed/clean_seven_participants.csv\"\u001b[0m\u001b[0;34m)\u001b[0m\u001b[0;34m\u001b[0m\u001b[0;34m\u001b[0m\u001b[0m\n\u001b[0m\u001b[1;32m      2\u001b[0m \u001b[0mThe_perfect_Set\u001b[0m \u001b[0;34m=\u001b[0m \u001b[0mclean_data\u001b[0m\u001b[0;34m[\u001b[0m\u001b[0;34m(\u001b[0m\u001b[0mclean_data\u001b[0m\u001b[0;34m[\u001b[0m\u001b[0;34m'SubjectID'\u001b[0m\u001b[0;34m]\u001b[0m \u001b[0;34m==\u001b[0m \u001b[0;36m1754\u001b[0m\u001b[0;34m)\u001b[0m \u001b[0;34m|\u001b[0m \u001b[0;34m(\u001b[0m\u001b[0mclean_data\u001b[0m\u001b[0;34m[\u001b[0m\u001b[0;34m'SubjectID'\u001b[0m\u001b[0;34m]\u001b[0m \u001b[0;34m==\u001b[0m \u001b[0;36m2258\u001b[0m\u001b[0;34m)\u001b[0m \u001b[0;34m|\u001b[0m \u001b[0;34m(\u001b[0m\u001b[0mclean_data\u001b[0m\u001b[0;34m[\u001b[0m\u001b[0;34m'SubjectID'\u001b[0m\u001b[0;34m]\u001b[0m \u001b[0;34m==\u001b[0m \u001b[0;36m2693\u001b[0m\u001b[0;34m)\u001b[0m\u001b[0;34m]\u001b[0m\u001b[0;34m\u001b[0m\u001b[0;34m\u001b[0m\u001b[0m\n",
      "\u001b[0;32m~/opt/anaconda3/lib/python3.8/site-packages/pandas/io/parsers.py\u001b[0m in \u001b[0;36mread_csv\u001b[0;34m(filepath_or_buffer, sep, delimiter, header, names, index_col, usecols, squeeze, prefix, mangle_dupe_cols, dtype, engine, converters, true_values, false_values, skipinitialspace, skiprows, skipfooter, nrows, na_values, keep_default_na, na_filter, verbose, skip_blank_lines, parse_dates, infer_datetime_format, keep_date_col, date_parser, dayfirst, cache_dates, iterator, chunksize, compression, thousands, decimal, lineterminator, quotechar, quoting, doublequote, escapechar, comment, encoding, dialect, error_bad_lines, warn_bad_lines, delim_whitespace, low_memory, memory_map, float_precision, storage_options)\u001b[0m\n\u001b[1;32m    608\u001b[0m     \u001b[0mkwds\u001b[0m\u001b[0;34m.\u001b[0m\u001b[0mupdate\u001b[0m\u001b[0;34m(\u001b[0m\u001b[0mkwds_defaults\u001b[0m\u001b[0;34m)\u001b[0m\u001b[0;34m\u001b[0m\u001b[0;34m\u001b[0m\u001b[0m\n\u001b[1;32m    609\u001b[0m \u001b[0;34m\u001b[0m\u001b[0m\n\u001b[0;32m--> 610\u001b[0;31m     \u001b[0;32mreturn\u001b[0m \u001b[0m_read\u001b[0m\u001b[0;34m(\u001b[0m\u001b[0mfilepath_or_buffer\u001b[0m\u001b[0;34m,\u001b[0m \u001b[0mkwds\u001b[0m\u001b[0;34m)\u001b[0m\u001b[0;34m\u001b[0m\u001b[0;34m\u001b[0m\u001b[0m\n\u001b[0m\u001b[1;32m    611\u001b[0m \u001b[0;34m\u001b[0m\u001b[0m\n\u001b[1;32m    612\u001b[0m \u001b[0;34m\u001b[0m\u001b[0m\n",
      "\u001b[0;32m~/opt/anaconda3/lib/python3.8/site-packages/pandas/io/parsers.py\u001b[0m in \u001b[0;36m_read\u001b[0;34m(filepath_or_buffer, kwds)\u001b[0m\n\u001b[1;32m    460\u001b[0m \u001b[0;34m\u001b[0m\u001b[0m\n\u001b[1;32m    461\u001b[0m     \u001b[0;31m# Create the parser.\u001b[0m\u001b[0;34m\u001b[0m\u001b[0;34m\u001b[0m\u001b[0;34m\u001b[0m\u001b[0m\n\u001b[0;32m--> 462\u001b[0;31m     \u001b[0mparser\u001b[0m \u001b[0;34m=\u001b[0m \u001b[0mTextFileReader\u001b[0m\u001b[0;34m(\u001b[0m\u001b[0mfilepath_or_buffer\u001b[0m\u001b[0;34m,\u001b[0m \u001b[0;34m**\u001b[0m\u001b[0mkwds\u001b[0m\u001b[0;34m)\u001b[0m\u001b[0;34m\u001b[0m\u001b[0;34m\u001b[0m\u001b[0m\n\u001b[0m\u001b[1;32m    463\u001b[0m \u001b[0;34m\u001b[0m\u001b[0m\n\u001b[1;32m    464\u001b[0m     \u001b[0;32mif\u001b[0m \u001b[0mchunksize\u001b[0m \u001b[0;32mor\u001b[0m \u001b[0miterator\u001b[0m\u001b[0;34m:\u001b[0m\u001b[0;34m\u001b[0m\u001b[0;34m\u001b[0m\u001b[0m\n",
      "\u001b[0;32m~/opt/anaconda3/lib/python3.8/site-packages/pandas/io/parsers.py\u001b[0m in \u001b[0;36m__init__\u001b[0;34m(self, f, engine, **kwds)\u001b[0m\n\u001b[1;32m    817\u001b[0m             \u001b[0mself\u001b[0m\u001b[0;34m.\u001b[0m\u001b[0moptions\u001b[0m\u001b[0;34m[\u001b[0m\u001b[0;34m\"has_index_names\"\u001b[0m\u001b[0;34m]\u001b[0m \u001b[0;34m=\u001b[0m \u001b[0mkwds\u001b[0m\u001b[0;34m[\u001b[0m\u001b[0;34m\"has_index_names\"\u001b[0m\u001b[0;34m]\u001b[0m\u001b[0;34m\u001b[0m\u001b[0;34m\u001b[0m\u001b[0m\n\u001b[1;32m    818\u001b[0m \u001b[0;34m\u001b[0m\u001b[0m\n\u001b[0;32m--> 819\u001b[0;31m         \u001b[0mself\u001b[0m\u001b[0;34m.\u001b[0m\u001b[0m_engine\u001b[0m \u001b[0;34m=\u001b[0m \u001b[0mself\u001b[0m\u001b[0;34m.\u001b[0m\u001b[0m_make_engine\u001b[0m\u001b[0;34m(\u001b[0m\u001b[0mself\u001b[0m\u001b[0;34m.\u001b[0m\u001b[0mengine\u001b[0m\u001b[0;34m)\u001b[0m\u001b[0;34m\u001b[0m\u001b[0;34m\u001b[0m\u001b[0m\n\u001b[0m\u001b[1;32m    820\u001b[0m \u001b[0;34m\u001b[0m\u001b[0m\n\u001b[1;32m    821\u001b[0m     \u001b[0;32mdef\u001b[0m \u001b[0mclose\u001b[0m\u001b[0;34m(\u001b[0m\u001b[0mself\u001b[0m\u001b[0;34m)\u001b[0m\u001b[0;34m:\u001b[0m\u001b[0;34m\u001b[0m\u001b[0;34m\u001b[0m\u001b[0m\n",
      "\u001b[0;32m~/opt/anaconda3/lib/python3.8/site-packages/pandas/io/parsers.py\u001b[0m in \u001b[0;36m_make_engine\u001b[0;34m(self, engine)\u001b[0m\n\u001b[1;32m   1048\u001b[0m             )\n\u001b[1;32m   1049\u001b[0m         \u001b[0;31m# error: Too many arguments for \"ParserBase\"\u001b[0m\u001b[0;34m\u001b[0m\u001b[0;34m\u001b[0m\u001b[0;34m\u001b[0m\u001b[0m\n\u001b[0;32m-> 1050\u001b[0;31m         \u001b[0;32mreturn\u001b[0m \u001b[0mmapping\u001b[0m\u001b[0;34m[\u001b[0m\u001b[0mengine\u001b[0m\u001b[0;34m]\u001b[0m\u001b[0;34m(\u001b[0m\u001b[0mself\u001b[0m\u001b[0;34m.\u001b[0m\u001b[0mf\u001b[0m\u001b[0;34m,\u001b[0m \u001b[0;34m**\u001b[0m\u001b[0mself\u001b[0m\u001b[0;34m.\u001b[0m\u001b[0moptions\u001b[0m\u001b[0;34m)\u001b[0m  \u001b[0;31m# type: ignore[call-arg]\u001b[0m\u001b[0;34m\u001b[0m\u001b[0;34m\u001b[0m\u001b[0m\n\u001b[0m\u001b[1;32m   1051\u001b[0m \u001b[0;34m\u001b[0m\u001b[0m\n\u001b[1;32m   1052\u001b[0m     \u001b[0;32mdef\u001b[0m \u001b[0m_failover_to_python\u001b[0m\u001b[0;34m(\u001b[0m\u001b[0mself\u001b[0m\u001b[0;34m)\u001b[0m\u001b[0;34m:\u001b[0m\u001b[0;34m\u001b[0m\u001b[0;34m\u001b[0m\u001b[0m\n",
      "\u001b[0;32m~/opt/anaconda3/lib/python3.8/site-packages/pandas/io/parsers.py\u001b[0m in \u001b[0;36m__init__\u001b[0;34m(self, src, **kwds)\u001b[0m\n\u001b[1;32m   1865\u001b[0m \u001b[0;34m\u001b[0m\u001b[0m\n\u001b[1;32m   1866\u001b[0m         \u001b[0;31m# open handles\u001b[0m\u001b[0;34m\u001b[0m\u001b[0;34m\u001b[0m\u001b[0;34m\u001b[0m\u001b[0m\n\u001b[0;32m-> 1867\u001b[0;31m         \u001b[0mself\u001b[0m\u001b[0;34m.\u001b[0m\u001b[0m_open_handles\u001b[0m\u001b[0;34m(\u001b[0m\u001b[0msrc\u001b[0m\u001b[0;34m,\u001b[0m \u001b[0mkwds\u001b[0m\u001b[0;34m)\u001b[0m\u001b[0;34m\u001b[0m\u001b[0;34m\u001b[0m\u001b[0m\n\u001b[0m\u001b[1;32m   1868\u001b[0m         \u001b[0;32massert\u001b[0m \u001b[0mself\u001b[0m\u001b[0;34m.\u001b[0m\u001b[0mhandles\u001b[0m \u001b[0;32mis\u001b[0m \u001b[0;32mnot\u001b[0m \u001b[0;32mNone\u001b[0m\u001b[0;34m\u001b[0m\u001b[0;34m\u001b[0m\u001b[0m\n\u001b[1;32m   1869\u001b[0m         \u001b[0;32mfor\u001b[0m \u001b[0mkey\u001b[0m \u001b[0;32min\u001b[0m \u001b[0;34m(\u001b[0m\u001b[0;34m\"storage_options\"\u001b[0m\u001b[0;34m,\u001b[0m \u001b[0;34m\"encoding\"\u001b[0m\u001b[0;34m,\u001b[0m \u001b[0;34m\"memory_map\"\u001b[0m\u001b[0;34m,\u001b[0m \u001b[0;34m\"compression\"\u001b[0m\u001b[0;34m)\u001b[0m\u001b[0;34m:\u001b[0m\u001b[0;34m\u001b[0m\u001b[0;34m\u001b[0m\u001b[0m\n",
      "\u001b[0;32m~/opt/anaconda3/lib/python3.8/site-packages/pandas/io/parsers.py\u001b[0m in \u001b[0;36m_open_handles\u001b[0;34m(self, src, kwds)\u001b[0m\n\u001b[1;32m   1360\u001b[0m         \u001b[0mLet\u001b[0m \u001b[0mthe\u001b[0m \u001b[0mreaders\u001b[0m \u001b[0mopen\u001b[0m \u001b[0mIOHanldes\u001b[0m \u001b[0mafter\u001b[0m \u001b[0mthey\u001b[0m \u001b[0mare\u001b[0m \u001b[0mdone\u001b[0m \u001b[0;32mwith\u001b[0m \u001b[0mtheir\u001b[0m \u001b[0mpotential\u001b[0m \u001b[0mraises\u001b[0m\u001b[0;34m.\u001b[0m\u001b[0;34m\u001b[0m\u001b[0;34m\u001b[0m\u001b[0m\n\u001b[1;32m   1361\u001b[0m         \"\"\"\n\u001b[0;32m-> 1362\u001b[0;31m         self.handles = get_handle(\n\u001b[0m\u001b[1;32m   1363\u001b[0m             \u001b[0msrc\u001b[0m\u001b[0;34m,\u001b[0m\u001b[0;34m\u001b[0m\u001b[0;34m\u001b[0m\u001b[0m\n\u001b[1;32m   1364\u001b[0m             \u001b[0;34m\"r\"\u001b[0m\u001b[0;34m,\u001b[0m\u001b[0;34m\u001b[0m\u001b[0;34m\u001b[0m\u001b[0m\n",
      "\u001b[0;32m~/opt/anaconda3/lib/python3.8/site-packages/pandas/io/common.py\u001b[0m in \u001b[0;36mget_handle\u001b[0;34m(path_or_buf, mode, encoding, compression, memory_map, is_text, errors, storage_options)\u001b[0m\n\u001b[1;32m    640\u001b[0m                 \u001b[0merrors\u001b[0m \u001b[0;34m=\u001b[0m \u001b[0;34m\"replace\"\u001b[0m\u001b[0;34m\u001b[0m\u001b[0;34m\u001b[0m\u001b[0m\n\u001b[1;32m    641\u001b[0m             \u001b[0;31m# Encoding\u001b[0m\u001b[0;34m\u001b[0m\u001b[0;34m\u001b[0m\u001b[0;34m\u001b[0m\u001b[0m\n\u001b[0;32m--> 642\u001b[0;31m             handle = open(\n\u001b[0m\u001b[1;32m    643\u001b[0m                 \u001b[0mhandle\u001b[0m\u001b[0;34m,\u001b[0m\u001b[0;34m\u001b[0m\u001b[0;34m\u001b[0m\u001b[0m\n\u001b[1;32m    644\u001b[0m                 \u001b[0mioargs\u001b[0m\u001b[0;34m.\u001b[0m\u001b[0mmode\u001b[0m\u001b[0;34m,\u001b[0m\u001b[0;34m\u001b[0m\u001b[0;34m\u001b[0m\u001b[0m\n",
      "\u001b[0;31mFileNotFoundError\u001b[0m: [Errno 2] No such file or directory: '/Volumes/SSD/00_Data_Processing/Pre_processed/clean_seven_participants.csv'"
     ]
    }
   ],
   "source": [
    "clean_data = pd.read_csv(\"Volumes/SSD/00_Data_Processing/Pre_processed/clean_seven_participants.csv\")\n",
    "The_perfect_Set = clean_data[(clean_data['SubjectID'] == 1754) | (clean_data['SubjectID'] == 2258) | (clean_data['SubjectID'] == 2693)]"
   ]
  },
  {
   "cell_type": "code",
   "execution_count": null,
   "id": "c81dcf7c",
   "metadata": {
    "collapsed": false,
    "jupyter": {
     "outputs_hidden": false
    },
    "pycharm": {
     "name": "#%%\n"
    }
   },
   "outputs": [],
   "source": [
    "clean_data_1 = pd.read_csv(\"/Volumes/SSD/00_Data_Processing/Pre_processed/clean_seven_participants_1.csv\")\n",
    "The_perfect_Set_1 = clean_data_1[(depleted_data['SubjectID'] == 4176) | (clean_data_1['SubjectID'] == 4796) | (clean_data_1['SubjectID'] == 4917) | (clean_data_1['SubjectID'] == 5238)]"
   ]
  },
  {
   "cell_type": "code",
   "execution_count": null,
   "id": "52dca694",
   "metadata": {
    "collapsed": false,
    "jupyter": {
     "outputs_hidden": false
    },
    "pycharm": {
     "name": "#%%\n"
    }
   },
   "outputs": [],
   "source": [
    "clean_data_2 = pd.read_csv(\"/Volumes/SSD/00_Data_Processing/Pre_processed/clean_seven_participants_2.csv\")\n",
    "The_perfect_Set_2 = clean_data_2[(clean_data_1['SubjectID'] == 6642) | (clean_data_2['SubjectID'] == 7412) | (clean_data_2['SubjectID'] == 7842)| (clean_data_2['SubjectID'] == 8007)]"
   ]
  },
  {
   "cell_type": "code",
   "execution_count": null,
   "id": "d6a6ed70",
   "metadata": {
    "collapsed": false,
    "jupyter": {
     "outputs_hidden": false
    },
    "pycharm": {
     "name": "#%%\n"
    }
   },
   "outputs": [],
   "source": [
    "clean_data_3 = pd.read_csv(\"/Volumes/SSD/00_Data_Processing/Pre_processed/clean_seven_participants_3.csv\")\n",
    "The_perfect_Set_3 = clean_data_3[(clean_data_3['SubjectID'] == 8469) | (clean_data_3['SubjectID'] == 8673) | (clean_data_3['SubjectID'] == 9472)| (clean_data_3['SubjectID'] == 9601)]"
   ]
  }
 ],
 "metadata": {
  "kernelspec": {
   "display_name": "Python 3",
   "language": "python",
   "name": "python3"
  },
  "language_info": {
   "codemirror_mode": {
    "name": "ipython",
    "version": 3
   },
   "file_extension": ".py",
   "mimetype": "text/x-python",
   "name": "python",
   "nbconvert_exporter": "python",
   "pygments_lexer": "ipython3",
   "version": "3.8.8"
  }
 },
 "nbformat": 4,
 "nbformat_minor": 5
}
