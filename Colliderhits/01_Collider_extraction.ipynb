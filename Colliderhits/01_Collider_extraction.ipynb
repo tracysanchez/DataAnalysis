{
 "cells": [
  {
   "cell_type": "code",
   "execution_count": 1,
   "id": "b6d06a85-751a-4e42-a434-a5c025194b02",
   "metadata": {},
   "outputs": [],
   "source": [
    "import re\n",
    "import numpy as np\n",
    "import pandas as pd\n",
    "import glob"
   ]
  },
  {
   "cell_type": "code",
   "execution_count": 2,
   "id": "8d1fc42a",
   "metadata": {
    "collapsed": false,
    "jupyter": {
     "outputs_hidden": false
    },
    "pycharm": {
     "name": "#%%\n"
    }
   },
   "outputs": [
    {
     "name": "stdout",
     "output_type": "stream",
     "text": [
      "/Volumes/SSD/00_Data_Processing/Pre_processed/02_Individuals_Colliders/0479.csv\n",
      "/Volumes/SSD/00_Data_Processing/Pre_processed/02_Individuals_Colliders/1754.csv\n",
      "/Volumes/SSD/00_Data_Processing/Pre_processed/02_Individuals_Colliders/2258.csv\n",
      "/Volumes/SSD/00_Data_Processing/Pre_processed/02_Individuals_Colliders/2361.csv\n",
      "/Volumes/SSD/00_Data_Processing/Pre_processed/02_Individuals_Colliders/2693.csv\n",
      "/Volumes/SSD/00_Data_Processing/Pre_processed/02_Individuals_Colliders/3246.csv\n",
      "/Volumes/SSD/00_Data_Processing/Pre_processed/02_Individuals_Colliders/3310.csv\n"
     ]
    }
   ],
   "source": [
    "path = \"/Volumes/SSD/00_Data_Processing/Pre_processed/02_Individuals_Colliders/\" \n",
    "\n",
    "  \n",
    "# csv files in the path\n",
    "files = glob.glob(path + \"/*.csv\")\n",
    "  \n",
    "# defining an empty list to store \n",
    "# content\n",
    "data_frame = pd.DataFrame()\n",
    "content = []\n",
    "  \n",
    "# checking all the csv files in the \n",
    "# specified path\n",
    "for filename in files:\n",
    "    \n",
    "    # reading content of csv file\n",
    "    # content.append(filename)\n",
    "    df = pd.read_csv(filename)\n",
    "    content.append(df)\n",
    "    print(filename)\n",
    "  \n",
    "# converting content to data frame\n",
    "data_frame = pd.concat(content)\n"
   ]
  },
  {
   "cell_type": "code",
   "execution_count": 3,
   "id": "8651389f-2037-4fee-ba0f-15ca95a0da34",
   "metadata": {},
   "outputs": [
    {
     "data": {
      "text/plain": "Index(['Unnamed: 0', 'index', 'SubjectID', 'Session', 'SessionSubsection',\n       'timeStampDataPointStart', 'timeStampDataPointEnd',\n       'timeStampGetVerboseData', 'combinedGazeValidityBitmask',\n       'rayCastHitsCombinedEyes', 'eyePositionCombinedWorld.x',\n       'eyePositionCombinedWorld.y', 'eyePositionCombinedWorld.z',\n       'eyeDirectionCombinedWorld.y', 'eyeDirectionCombinedWorld.z',\n       'eyeDirectionCombinedLocal.x', 'eyeDirectionCombinedLocal.y',\n       'eyeDirectionCombinedLocal.z', 'hmdPosition.x', 'hmdPosition.y',\n       'hmdPosition.z', 'hmdDirectionForward.x', 'hmdDirectionForward.y',\n       'hmdDirectionForward.z', 'hmdRotation.x', 'hmdRotation.y',\n       'hmdRotation.z', 'hmdDirectionUp.x', 'hmdDirectionUp.y',\n       'hmdDirectionUp.z', 'playerBodyPosition.x', 'playerBodyPosition.y',\n       'playerBodyPosition.z', 'bodyTrackerPosition.x',\n       'bodyTrackerPosition.y', 'bodyTrackerPosition.z',\n       'bodyTrackerRotation.x', 'bodyTrackerRotation.y',\n       'bodyTrackerRotation.z', 'hitColliderType',\n       'hitObjectColliderBoundsCenter', 'hitObjectColliderName',\n       'ordinalOfHit', 'hitPointOnObject_x', 'hitPointOnObject_y',\n       'hitPointOnObject_z'],\n      dtype='object')"
     },
     "execution_count": 3,
     "metadata": {},
     "output_type": "execute_result"
    }
   ],
   "source": [
    "data_frame.columns"
   ]
  },
  {
   "cell_type": "code",
   "execution_count": 4,
   "id": "919f8586-3420-4024-ac08-bdd286d8565d",
   "metadata": {},
   "outputs": [],
   "source": [
    "data_frame.drop(['Unnamed: 0', 'rayCastHitsCombinedEyes', 'timeStampGetVerboseData', 'hitObjectColliderBoundsCenter'],axis=1, inplace=True)"
   ]
  },
  {
   "cell_type": "code",
   "execution_count": 5,
   "id": "a5badb2b",
   "metadata": {
    "collapsed": false,
    "jupyter": {
     "outputs_hidden": false
    },
    "pycharm": {
     "name": "#%%\n"
    }
   },
   "outputs": [],
   "source": [
    "#Since we have two colliders hits per frame, we calculate the distance between each hit and the participant\n",
    "data_frame['Eucledian_distance'] = np.linalg.norm(data_frame.loc[:, [\"hitPointOnObject_x\",\"hitPointOnObject_y\",\"hitPointOnObject_z\"]].values - data_frame.loc[:, [\"playerBodyPosition.x\",\"playerBodyPosition.y\",\"playerBodyPosition.z\"]], axis=1)"
   ]
  },
  {
   "cell_type": "code",
   "execution_count": 6,
   "id": "7c44fefd-25ae-4b51-91ad-c37a739356bf",
   "metadata": {},
   "outputs": [],
   "source": [
    "# Since the collider names are too detailed, here we create a dictionary with patterns to classify them into our categories of interest\n",
    "# INCLUDE CHURCH\n",
    "patterns = {'\\d{2}_Sa':'Passive_Agent', '\\d{2}_Cma':'Active_Agent', 'Building_\\d+': 'Building'}\n",
    "patterns.update(dict.fromkeys(['Castle-TaskBuilding_56','HighSilo-TaskBuilding_49', 'Windmill-TaskBuilding_10_1', 'Church_TaskBuilding_16'], 'Global_Landmark'))\n",
    "patterns.update(dict.fromkeys(['TaskBuilding_2','TaskBuilding_3', 'TaskBuilding_5', 'TaskBuilding_8', 'TaskBuilding_9', 'TaskBuilding_11', 'TaskBuilding_13', 'TaskBuilding_14', 'TaskBuilding_20', 'TaskBuilding_21', 'TaskBuilding_23','TaskBuilding_27', 'TaskBuilding_29', 'TaskBuilding_32', 'TaskBuilding_34',  'TaskBuilding_38', 'TaskBuilding_41', 'TaskBuilding_42', 'TaskBuilding_44', 'TaskBuilding_45', 'TaskBuilding_47', 'TaskBuilding_50', 'TaskBuilding_51', 'TaskBuilding_52', 'BasketballCourt_58', 'Construction_57', 'Graffity_02', 'Graffity_03', 'Graffity_05', 'Graffity_08', 'Graffity_09', 'Graffity_11', 'Graffity_13', 'Graffity_14', 'Graffity_20', 'Graffity_21', 'Graffity_23', 'Graffity_27', 'Graffity_29', 'Graffity_32', 'Graffity_34', 'Graffity_38', 'Graffity_41', 'Graffity_42', 'Graffity_44', 'Graffity_45', 'Graffity_47',  'Graffity_50', 'Graffity_51', 'Graffity_52'], 'TaskBuilding_Public'))\n",
    "patterns.update(dict.fromkeys(['TaskBuilding_1','TaskBuilding_4', 'TaskBuilding_6', 'TaskBuilding_7', 'TaskBuilding_12', 'TaskBuilding_15', 'TaskBuilding_17', 'TaskBuilding_18', 'TaskBuilding_19', 'TaskBuilding_22', 'TaskBuilding_24','TaskBuilding_25', 'TaskBuilding_26', 'TaskBuilding_28', 'TaskBuilding_30',  'TaskBuilding_31', 'TaskBuilding_33', 'TaskBuilding_35', 'TaskBuilding_36', 'TaskBuilding_37', 'TaskBuilding_39', 'TaskBuilding_40', 'TaskBuilding_43', 'TaskBuilding_48', 'TaskBuilding_54', 'Graffity_55' ], 'TaskBuilding_Residential'))\n",
    "default_val = 'Background'"
   ]
  },
  {
   "cell_type": "code",
   "execution_count": 7,
   "id": "68ff7d20-1cc3-462c-9980-07674e2cfb4a",
   "metadata": {},
   "outputs": [],
   "source": [
    "# Here we look for the patterns contained in the dictionary and create the more general/informative variable Collider_Categorical\n",
    "data_frame['Collider_Categorical'] = data_frame['hitObjectColliderName'].apply(lambda x: next((val for key, val in patterns.items() if re.match(key, x)), default_val))"
   ]
  },
  {
   "cell_type": "code",
   "execution_count": 8,
   "id": "011961bb-7900-457e-bf61-a2d1ea5ff7f3",
   "metadata": {},
   "outputs": [],
   "source": [
    "# Since the double hits where unfolded in a long format in case of more than one hit per frame the second hit would be the row directly underneath.\n",
    "# Therefore, if we want to know which hit was closest to the participant per frame we can compare each row with the previous one and see which one has the smallest Euclidean distance.\n",
    "data_frame['Previous_Euclidean_value'] = data_frame['Eucledian_distance'].shift(1)\n",
    "#Here we declare the conditions to choose between collider hits:\n",
    "data_frame['Collider_stays'] = (data_frame[\"ordinalOfHit\"] == 2) & (data_frame['Collider_Categorical'] != 'Background') & (data_frame['Eucledian_distance'] <  data_frame['Previous_Euclidean_value']) "
   ]
  },
  {
   "cell_type": "code",
   "execution_count": 9,
   "id": "fc2d0f66-35d1-436d-9da4-530206b494a7",
   "metadata": {},
   "outputs": [],
   "source": [
    "original_shape = data_frame.shape"
   ]
  },
  {
   "cell_type": "code",
   "execution_count": 10,
   "id": "ccada2d8-a6f3-4928-97ed-fe743579223d",
   "metadata": {},
   "outputs": [],
   "source": [
    "data_frame.reset_index(inplace=True)\n",
    "#Drop all the second hit colliders that do not comply with the criteria\n",
    "indexCollider = data_frame[(data_frame[\"ordinalOfHit\"] == 2) & (data_frame['Collider_stays'] == False)].index"
   ]
  },
  {
   "cell_type": "code",
   "execution_count": 11,
   "outputs": [],
   "source": [
    "depleted_data = data_frame.drop(index=indexCollider)"
   ],
   "metadata": {
    "collapsed": false,
    "pycharm": {
     "name": "#%%\n"
    }
   }
  },
  {
   "cell_type": "code",
   "execution_count": 12,
   "id": "6b8d8a7b-b01b-4736-af8b-e3406a28b644",
   "metadata": {},
   "outputs": [],
   "source": [
    "depleted_data.reset_index(inplace=True, drop=True)\n",
    "#Take the index of all second colliders that will stay\n",
    "indexColliderStays = depleted_data[depleted_data['Collider_stays'] == True].index\n",
    "#We subtract one from that list of indexes because now is the first collider that has to go (so row directly on top)\n",
    "indexColliderDelete = indexColliderStays - 1\n",
    "depleted_data_1 = depleted_data.drop(indexColliderDelete)"
   ]
  },
  {
   "cell_type": "code",
   "execution_count": null,
   "outputs": [],
   "source": [
    "depleted_data.to_csv(\"/Volumes/SSD/00_Data_Processing/Pre_processed/clean_seven_participants.csv\")"
   ],
   "metadata": {
    "collapsed": false,
    "pycharm": {
     "name": "#%%\n",
     "is_executing": true
    }
   }
  },
  {
   "cell_type": "code",
   "execution_count": null,
   "outputs": [],
   "source": [
    "Make_Error"
   ],
   "metadata": {
    "collapsed": false,
    "pycharm": {
     "name": "#%%\n",
     "is_executing": true
    }
   }
  },
  {
   "cell_type": "code",
   "execution_count": null,
   "outputs": [],
   "source": [
    "clean_data = pd.read_csv(\"/Volumes/SSD/00_Data_Processing/Pre_processed/clean_seven_participants.csv\")\n",
    "The_perfect_Set = clean_data[(clean_data['SubjectID'] == 1754) | (clean_data['SubjectID'] == 2258) | (clean_data['SubjectID'] == 2693)]"
   ],
   "metadata": {
    "collapsed": false,
    "pycharm": {
     "name": "#%%\n",
     "is_executing": true
    }
   }
  },
  {
   "cell_type": "code",
   "execution_count": null,
   "outputs": [],
   "source": [
    "clean_data_1 = pd.read_csv(\"/Volumes/SSD/00_Data_Processing/Pre_processed/clean_seven_participants_1.csv\")\n",
    "The_perfect_Set_1 = clean_data_1[(depleted_data['SubjectID'] == 4176) | (clean_data_1['SubjectID'] == 4796) | (clean_data_1['SubjectID'] == 4917) | (clean_data_1['SubjectID'] == 5238)]\n"
   ],
   "metadata": {
    "collapsed": false,
    "pycharm": {
     "name": "#%%\n",
     "is_executing": true
    }
   }
  },
  {
   "cell_type": "code",
   "execution_count": null,
   "outputs": [],
   "source": [
    "clean_data_2 = pd.read_csv(\"/Volumes/SSD/00_Data_Processing/Pre_processed/clean_seven_participants_2.csv\")\n",
    "The_perfect_Set_2 = clean_data_2[(clean_data_1['SubjectID'] == 6642) | (clean_data_2['SubjectID'] == 7412) | (clean_data_2['SubjectID'] == 7842)| (clean_data_2['SubjectID'] == 8007)]"
   ],
   "metadata": {
    "collapsed": false,
    "pycharm": {
     "name": "#%%\n",
     "is_executing": true
    }
   }
  },
  {
   "cell_type": "code",
   "execution_count": null,
   "outputs": [],
   "source": [
    "clean_data_3 = pd.read_csv(\"/Volumes/SSD/00_Data_Processing/Pre_processed/clean_seven_participants_3.csv\")\n",
    "The_perfect_Set_3 = clean_data_3[(clean_data_3['SubjectID'] == 8469) | (clean_data_3['SubjectID'] == 8673) | (clean_data_3['SubjectID'] == 9472)| (clean_data_3['SubjectID'] == 9601)]"
   ],
   "metadata": {
    "collapsed": false,
    "pycharm": {
     "name": "#%%\n",
     "is_executing": true
    }
   }
  },
  {
   "cell_type": "code",
   "execution_count": null,
   "outputs": [],
   "source": [
    "The_perfect_Set.drop([\"Unnamed: 0\", \"level_0\"], axis=1, inplace=True)"
   ],
   "metadata": {
    "collapsed": false,
    "pycharm": {
     "name": "#%%\n",
     "is_executing": true
    }
   }
  },
  {
   "cell_type": "markdown",
   "source": [
    "# Visual inspection of data\n"
   ],
   "metadata": {
    "collapsed": false
   }
  },
  {
   "cell_type": "code",
   "execution_count": null,
   "outputs": [],
   "source": [
    "import seaborn as sns\n",
    "import matplotlib.pyplot as plt\n",
    "sns.set(rc={\"figure.figsize\":(12, 8)})\n",
    "sns.set(font_scale = 1.3)"
   ],
   "metadata": {
    "collapsed": false,
    "pycharm": {
     "name": "#%%\n",
     "is_executing": true
    }
   }
  },
  {
   "cell_type": "code",
   "execution_count": null,
   "outputs": [],
   "source": [
    "#create figure and axes objects of a predefined size\n",
    "fig, axes = plt.subplots(nrows=4, ncols=1, figsize=(18,4), sharex=True)\n",
    "sns.countplot(data=clean_data, x=\"SubjectID\",  hue=\"Session\", ax=axes[0])\n",
    "sns.countplot(data=clean_data_1, x=\"SubjectID\",  hue=\"Session\", ax=axes[1])\n",
    "sns.countplot(data=clean_data_2, x=\"SubjectID\",  hue=\"Session\", ax=axes[2])\n",
    "sns.countplot(data=clean_data_2, x=\"SubjectID\",  hue=\"Session\", ax=axes[3])\n",
    "plt.xticks(rotation = -35);\n",
    "#90*60*30 = 162000 I have around 100 frames per second but this is not stable (some missing data for some participants)"
   ],
   "metadata": {
    "collapsed": false,
    "pycharm": {
     "name": "#%%\n",
     "is_executing": true
    }
   }
  },
  {
   "cell_type": "code",
   "execution_count": null,
   "outputs": [],
   "source": [
    "The_perfect_Set.head()"
   ],
   "metadata": {
    "collapsed": false,
    "pycharm": {
     "name": "#%%\n",
     "is_executing": true
    }
   }
  },
  {
   "cell_type": "code",
   "execution_count": null,
   "outputs": [],
   "source": [
    "The_perfect_Set_2.head()\n",
    "The_perfect_Set_2.drop([\"Unnamed: 0\", \"level_0\"], axis=1, inplace=True)"
   ],
   "metadata": {
    "collapsed": false,
    "pycharm": {
     "name": "#%%\n",
     "is_executing": true
    }
   }
  },
  {
   "cell_type": "code",
   "execution_count": null,
   "outputs": [],
   "source": [
    "Concat= pd.concat([The_perfect_Set, The_perfect_Set_1])"
   ],
   "metadata": {
    "collapsed": false,
    "pycharm": {
     "name": "#%%\n",
     "is_executing": true
    }
   }
  },
  {
   "cell_type": "code",
   "execution_count": null,
   "outputs": [],
   "source": [
    "Concat= pd.concat(Concat, The_perfect_Set_2)"
   ],
   "metadata": {
    "collapsed": false,
    "pycharm": {
     "name": "#%%\n",
     "is_executing": true
    }
   }
  },
  {
   "cell_type": "code",
   "execution_count": null,
   "outputs": [],
   "source": [
    "The_perfect_Set.drop([\"level_0\"], axis=1, inplace=True)"
   ],
   "metadata": {
    "collapsed": false,
    "pycharm": {
     "name": "#%%\n",
     "is_executing": true
    }
   }
  },
  {
   "cell_type": "code",
   "execution_count": null,
   "outputs": [],
   "source": [
    "The_perfect_Set_1.shape"
   ],
   "metadata": {
    "collapsed": false,
    "pycharm": {
     "name": "#%%\n",
     "is_executing": true
    }
   }
  },
  {
   "cell_type": "code",
   "execution_count": null,
   "outputs": [],
   "source": [
    "The_perfect_Set_1.head()"
   ],
   "metadata": {
    "collapsed": false,
    "pycharm": {
     "name": "#%%\n",
     "is_executing": true
    }
   }
  },
  {
   "cell_type": "code",
   "execution_count": null,
   "outputs": [],
   "source": [
    "Complete_14.to_csv(\"/Volumes/SSD/00_Data_Processing/Pre_processed/complete_sevenParticipants.csv\")"
   ],
   "metadata": {
    "collapsed": false,
    "pycharm": {
     "name": "#%%\n",
     "is_executing": true
    }
   }
  },
  {
   "cell_type": "code",
   "execution_count": null,
   "outputs": [],
   "source": [
    "The_perfect_Set.shape"
   ],
   "metadata": {
    "collapsed": false,
    "pycharm": {
     "name": "#%%\n",
     "is_executing": true
    }
   }
  },
  {
   "cell_type": "code",
   "execution_count": null,
   "outputs": [],
   "source": [
    "sns.pointplot(data=Medianss, x='ID', y='norm').set(ylabel='Normalized difference between average absolut error (non meaningful - meaningful)')"
   ],
   "metadata": {
    "collapsed": false,
    "pycharm": {
     "name": "#%%\n",
     "is_executing": true
    }
   }
  },
  {
   "cell_type": "code",
   "execution_count": null,
   "outputs": [],
   "source": [
    "cosa = clean_data[(clean_data['SubjectID'] == 1754) & (clean_data['Session'] == 1) & (clean_data['SessionSubsection'] == 1) | (clean_data['SubjectID'] == 1754) & (clean_data['Session'] == 1) & (clean_data['SessionSubsection'] == 3)]"
   ],
   "metadata": {
    "collapsed": false,
    "pycharm": {
     "name": "#%%\n",
     "is_executing": true
    }
   }
  },
  {
   "cell_type": "code",
   "execution_count": null,
   "outputs": [],
   "source": [
    "sns.relplot(\n",
    "    data=cosa, kind=\"point\",\n",
    "    x=\"hitPointOnObject_x\", y=\"hitPointOnObject_z\",\n",
    "    hue=\"Collider_Categorical\",\n",
    "    facet_kws=dict(sharex=False),\n",
    ")"
   ],
   "metadata": {
    "collapsed": false,
    "pycharm": {
     "name": "#%%\n",
     "is_executing": true
    }
   }
  },
  {
   "cell_type": "code",
   "execution_count": null,
   "outputs": [],
   "source": [
    "cosa.head()"
   ],
   "metadata": {
    "collapsed": false,
    "pycharm": {
     "name": "#%%\n",
     "is_executing": true
    }
   }
  },
  {
   "cell_type": "code",
   "execution_count": null,
   "outputs": [],
   "source": [
    "cosa_ = clean_data[(clean_data['SubjectID'] == 1154) & (clean_data['Session'] == 1) & (clean_data['SessionSubsection'] == 1) | (clean_data['SubjectID'] == 1154) & (clean_data['Session'] == 1) & (clean_data['SessionSubsection'] == 3)]"
   ],
   "metadata": {
    "collapsed": false,
    "pycharm": {
     "name": "#%%\n",
     "is_executing": true
    }
   }
  },
  {
   "cell_type": "code",
   "execution_count": null,
   "outputs": [],
   "source": [
    "value = cosa[\"timeStampDataPointEnd\"].tolist()[-1] - cosa[\"timeStampDataPointStart\"].tolist()[0]"
   ],
   "metadata": {
    "collapsed": false,
    "pycharm": {
     "name": "#%%\n",
     "is_executing": true
    }
   }
  },
  {
   "cell_type": "code",
   "execution_count": null,
   "outputs": [],
   "source": [
    "query = clean_data.query('SubjectID == 1154')"
   ],
   "metadata": {
    "collapsed": false,
    "pycharm": {
     "name": "#%%\n",
     "is_executing": true
    }
   }
  },
  {
   "cell_type": "code",
   "execution_count": null,
   "outputs": [],
   "source": [
    "clean_data.Eucledian_distance.describe()"
   ],
   "metadata": {
    "collapsed": false,
    "pycharm": {
     "name": "#%%\n",
     "is_executing": true
    }
   }
  },
  {
   "cell_type": "code",
   "execution_count": null,
   "outputs": [],
   "source": [
    "fifty = clean_data.iloc[50].copy"
   ],
   "metadata": {
    "collapsed": false,
    "pycharm": {
     "name": "#%%\n",
     "is_executing": true
    }
   }
  },
  {
   "cell_type": "code",
   "execution_count": null,
   "outputs": [],
   "source": [
    "#Idea for later\n",
    "#indexes_to_keep = set(range(data_frame.shape[0])) - set(indexCollider)\n",
    "#df_sliced = data_frame.take(list(indexes_to_keep))"
   ],
   "metadata": {
    "collapsed": false,
    "pycharm": {
     "name": "#%%\n",
     "is_executing": true
    }
   }
  },
  {
   "cell_type": "code",
   "execution_count": null,
   "outputs": [],
   "source": [
    "fifty.head()"
   ],
   "metadata": {
    "collapsed": false,
    "pycharm": {
     "name": "#%%\n",
     "is_executing": true
    }
   }
  },
  {
   "cell_type": "code",
   "execution_count": null,
   "outputs": [],
   "source": [
    "little = clean_data.head(50)"
   ],
   "metadata": {
    "collapsed": false,
    "pycharm": {
     "name": "#%%\n",
     "is_executing": true
    }
   }
  },
  {
   "cell_type": "code",
   "execution_count": null,
   "outputs": [],
   "source": [
    "little['delta'] = little['timeStampDataPointEnd'] - little['timeStampDataPointStart']"
   ],
   "metadata": {
    "collapsed": false,
    "pycharm": {
     "name": "#%%\n",
     "is_executing": true
    }
   }
  },
  {
   "cell_type": "code",
   "execution_count": null,
   "outputs": [],
   "source": [
    "little['delta']"
   ],
   "metadata": {
    "collapsed": false,
    "pycharm": {
     "name": "#%%\n",
     "is_executing": true
    }
   }
  },
  {
   "cell_type": "code",
   "execution_count": null,
   "outputs": [],
   "source": [],
   "metadata": {
    "collapsed": false,
    "pycharm": {
     "name": "#%%\n",
     "is_executing": true
    }
   }
  }
 ],
 "metadata": {
  "kernelspec": {
   "display_name": "Python 3",
   "language": "python",
   "name": "python3"
  },
  "language_info": {
   "codemirror_mode": {
    "name": "ipython",
    "version": 3
   },
   "file_extension": ".py",
   "mimetype": "text/x-python",
   "name": "python",
   "nbconvert_exporter": "python",
   "pygments_lexer": "ipython3",
   "version": "3.8.8"
  }
 },
 "nbformat": 4,
 "nbformat_minor": 5
}