{
 "cells": [
  {
   "cell_type": "code",
   "execution_count": 1,
   "id": "7a0f35eb",
   "metadata": {
    "collapsed": false,
    "jupyter": {
     "outputs_hidden": false
    },
    "pycharm": {
     "name": "#%%\n"
    }
   },
   "outputs": [],
   "source": [
    "# Added cell to set Working Directory to your location\n",
    "import os\n",
    "import ast\n",
    "import glob\n",
    "import numpy as np\n",
    "import pandas as pd\n",
    "import json\n",
    "import time"
   ]
  },
  {
   "cell_type": "code",
   "execution_count": 2,
   "id": "6c4e6732",
   "metadata": {
    "collapsed": false,
    "jupyter": {
     "outputs_hidden": false
    },
    "pycharm": {
     "name": "#%%\n"
    }
   },
   "outputs": [
    {
     "data": {
      "text/plain": [
       "'/Volumes/SSD/00_Data_Processing/Test_Exploration'"
      ]
     },
     "execution_count": 2,
     "metadata": {},
     "output_type": "execute_result"
    }
   ],
   "source": [
    "os.chdir(\"//Volumes/SSD/00_Data_Processing/Test_Exploration\")\n",
    "os.getcwd()"
   ]
  },
  {
   "cell_type": "code",
   "execution_count": 3,
   "id": "10b0a50b",
   "metadata": {
    "collapsed": false,
    "jupyter": {
     "outputs_hidden": false
    },
    "pycharm": {
     "name": "#%%\n"
    }
   },
   "outputs": [],
   "source": [
    "# Columns to keep from the raw data.\n",
    "Keep = [\"SubjectID\", \"Session\", \"SessionSubsection\",'timeStampDataPointStart', 'timeStampDataPointEnd', 'timeStampGetVerboseData','combinedGazeValidityBitmask','rayCastHitsCombinedEyes','eyePositionCombinedWorld.x', 'eyePositionCombinedWorld.y', 'eyePositionCombinedWorld.z','eyeDirectionCombinedWorld.y', \n",
    " 'eyeDirectionCombinedWorld.z', 'eyeDirectionCombinedLocal.x', 'eyeDirectionCombinedLocal.y', 'eyeDirectionCombinedLocal.z','hmdPosition.x', 'hmdPosition.y', 'hmdPosition.z', 'hmdDirectionForward.x', 'hmdDirectionForward.y', 'hmdDirectionForward.z', \n",
    " 'hmdRotation.x', 'hmdRotation.y', 'hmdRotation.z', 'hmdDirectionUp.x', 'hmdDirectionUp.y', 'hmdDirectionUp.z','playerBodyPosition.x', 'playerBodyPosition.y', 'playerBodyPosition.z', 'bodyTrackerPosition.x', 'bodyTrackerPosition.y', \n",
    " 'bodyTrackerPosition.z', 'bodyTrackerRotation.x', 'bodyTrackerRotation.y', 'bodyTrackerRotation.z']"
   ]
  },
  {
   "cell_type": "code",
   "execution_count": 4,
   "id": "a2a0fb7e-af1d-4a8a-b6fa-7c01b0e6347e",
   "metadata": {
    "collapsed": false,
    "jupyter": {
     "outputs_hidden": false
    },
    "pycharm": {
     "name": "#%%\n"
    }
   },
   "outputs": [
    {
     "name": "stdout",
     "output_type": "stream",
     "text": [
      "['0479', '1754', '2258', '2361', '2693', '3246', '3310', '3572', '3976', '4176', '4796', '4917', '5238', '5531', '5741', '6642', '7093', '7264', '7412', '7842', '8007', '8469', '8673', '8695', '9472', '9502', '9601']\n"
     ]
    }
   ],
   "source": [
    "data_path = '/Volumes/SSD/00_Data_Processing/Test_Exploration'\n",
    "processed_data = '/Volumes/SSD/00_Data_Processing/Pre_processed'\n",
    "\n",
    "# Getting the Folder without hidden files in ascending order\n",
    "DATA_FOLDER = sorted([f for f in os.listdir(data_path) if not f.startswith('.')], key=str.lower)\n",
    "PROCESSED_DATA_FOLDER = sorted([f for f in os.listdir(processed_data) if not f.startswith('.')], key=str.lower)\n",
    "subIDs = []\n",
    "for sub in DATA_FOLDER:\n",
    "    if sub[0:4].isdigit():\n",
    "        subIDs.append(int(sub[0:4]))\n",
    "    else:\n",
    "        pass\n",
    "subIDs = np.unique(subIDs)\n",
    "#Sincesome participant IDs start with 0, we format them to show it in the string type\n",
    "IDstrings = ['{:04d}'.format(id) for id in subIDs]\n",
    "print(IDstrings)"
   ]
  },
  {
   "cell_type": "code",
   "execution_count": 7,
   "id": "2015955e",
   "metadata": {
    "collapsed": false,
    "jupyter": {
     "outputs_hidden": false
    },
    "pycharm": {
     "name": "#%%\n"
    }
   },
   "outputs": [
    {
     "name": "stdout",
     "output_type": "stream",
     "text": [
      "['1754/*.json', '2258/*.json', '2361/*.json', '2693/*.json', '3246/*.json', '3310/*.json', '3572/*.json', '3976/*.json', '4176/*.json', '4796/*.json', '4917/*.json', '5238/*.json', '5531/*.json', '5741/*.json', '6642/*.json', '7093/*.json', '7264/*.json', '7412/*.json', '7842/*.json', '8007/*.json', '8469/*.json', '8673/*.json', '8695/*.json', '9472/*.json', '9502/*.json', '9601/*.json']\n"
     ]
    }
   ],
   "source": [
    "#Create a generalized path for all json files per participant\n",
    "paths = [ID +  \"/*.json\" for ID in IDstrings]\n",
    "print(paths)\n",
    "#Create a sorted list of the paths to open de jsons\n",
    "Sorted_individual_jsons = sorted([filename for path in paths for filename in glob.glob(path)], key=str.lower)"
   ]
  },
  {
   "cell_type": "code",
   "execution_count": null,
   "id": "f647a905",
   "metadata": {
    "collapsed": false,
    "jupyter": {
     "outputs_hidden": false
    },
    "pycharm": {
     "name": "#%%\n"
    }
   },
   "outputs": [],
   "source": [
    "data_raw = pd.DataFrame()\n",
    "\n",
    "# read every file name in folder\n",
    "for path in paths:\n",
    "    for filename in glob.glob(path):\n",
    "        with open(filename, 'r') as file:\n",
    "            try:\n",
    "                # make json files parsable\n",
    "                data = \"[\" + file.read()\n",
    "                data = data[:len(data)] + \"]\"\n",
    "                raw = json.loads(data)\n",
    "            except:\n",
    "                print(\"reading did not work\")\n",
    "                \n",
    "\n",
    "            # Uneast the higher level of each file\n",
    "            currentDF_raw = pd.json_normalize(raw[0]['trials'][0]['dataPoints'])\n",
    "            print( \"Subject \" + str(filename[5:9]) + \" Session \" + str(filename[17:19]) +\" Section \" + str(filename[23:24]) + \" has been normalized\")\n",
    "            #Reduce columns to just necessary information\n",
    "            print('time is: ', time.ctime())\n",
    "\n",
    "            # insert participant id and session information from the file name\n",
    "            currentDF_raw.insert(0, \"SubjectID\", [int(filename[5:9])] * currentDF_raw.shape[0], True)\n",
    "            currentDF_raw.insert(1, \"Session\", [int(filename[17:19])] * currentDF_raw.shape[0], True)\n",
    "            currentDF_raw.insert(2, \"SessionSubsection\", [int(filename[23:24])] * currentDF_raw.shape[0], True)\n",
    "            \n",
    "            #Take out the unnecesary information\n",
    "            Reduced= currentDF_raw[Keep]\n",
    "\n",
    "            #Normalize the collider hits\n",
    "            Raycast = Reduced['rayCastHitsCombinedEyes'].explode().apply(pd.Series)\n",
    "            Combined = pd.concat([Reduced, Raycast], axis=1)\n",
    "            print('Combined')\n",
    "\n",
    "        data_raw = data_raw.append(Combined, ignore_index=True)\n",
    "        print('Appended')\n",
    "    data_raw.sort_values(by=[\"SubjectID\",\"Session\",\"SessionSubsection\"], inplace=True)\n",
    "    data_raw.to_csv(\"/Volumes/SSD/00_Data_Processing/Pre_processed/01_Indivuduals_Flat_smaller/\" + str(filename[5:9]) + \".csv\")\n",
    "    print('Saved')\n",
    "    data_raw = pd.DataFrame()"
   ]
  },
  {
   "cell_type": "code",
   "execution_count": 3,
   "id": "da2fbda5-87c6-4ef4-a63e-05feaf3aba8d",
   "metadata": {},
   "outputs": [],
   "source": [
    "filenames = glob.glob(\"/Volumes/SSD/00_Data_Processing/Pre_processed/01_Indivuduals_Flat_smaller/*.csv\")                    \n",
    "combined_csv = pd.concat( [ pd.read_csv(f) for f in filenames ])"
   ]
  },
  {
   "cell_type": "code",
   "execution_count": 5,
   "id": "429bfb17-e994-458d-9b1a-9eb8fbbe1264",
   "metadata": {},
   "outputs": [
    {
     "data": {
      "text/html": [
       "<div>\n",
       "<style scoped>\n",
       "    .dataframe tbody tr th:only-of-type {\n",
       "        vertical-align: middle;\n",
       "    }\n",
       "\n",
       "    .dataframe tbody tr th {\n",
       "        vertical-align: top;\n",
       "    }\n",
       "\n",
       "    .dataframe thead th {\n",
       "        text-align: right;\n",
       "    }\n",
       "</style>\n",
       "<table border=\"1\" class=\"dataframe\">\n",
       "  <thead>\n",
       "    <tr style=\"text-align: right;\">\n",
       "      <th></th>\n",
       "      <th>Unnamed: 0</th>\n",
       "      <th>SubjectID</th>\n",
       "      <th>Session</th>\n",
       "      <th>SessionSubsection</th>\n",
       "      <th>timeStampDataPointStart</th>\n",
       "      <th>timeStampDataPointEnd</th>\n",
       "      <th>timeStampGetVerboseData</th>\n",
       "      <th>combinedGazeValidityBitmask</th>\n",
       "      <th>rayCastHitsCombinedEyes</th>\n",
       "      <th>eyePositionCombinedWorld.x</th>\n",
       "      <th>...</th>\n",
       "      <th>bodyTrackerPosition.z</th>\n",
       "      <th>bodyTrackerRotation.x</th>\n",
       "      <th>bodyTrackerRotation.y</th>\n",
       "      <th>bodyTrackerRotation.z</th>\n",
       "      <th>0</th>\n",
       "      <th>hitColliderType</th>\n",
       "      <th>hitObjectColliderBoundsCenter</th>\n",
       "      <th>hitObjectColliderName</th>\n",
       "      <th>hitPointOnObject</th>\n",
       "      <th>ordinalOfHit</th>\n",
       "    </tr>\n",
       "  </thead>\n",
       "  <tbody>\n",
       "    <tr>\n",
       "      <th>1897596</th>\n",
       "      <td>1897596</td>\n",
       "      <td>9601</td>\n",
       "      <td>5</td>\n",
       "      <td>3</td>\n",
       "      <td>1.652798e+09</td>\n",
       "      <td>1.652798e+09</td>\n",
       "      <td>1.652798e+09</td>\n",
       "      <td>3</td>\n",
       "      <td>[{'hitPointOnObject': {'x': -295.2583618164062...</td>\n",
       "      <td>-111.037956</td>\n",
       "      <td>...</td>\n",
       "      <td>-0.122341</td>\n",
       "      <td>331.750519</td>\n",
       "      <td>255.437515</td>\n",
       "      <td>236.807922</td>\n",
       "      <td>NaN</td>\n",
       "      <td>UnityEngine.MeshCollider</td>\n",
       "      <td>{'x': -310.80328369140625, 'y': 3.311013460159...</td>\n",
       "      <td>TaskBuilding_8</td>\n",
       "      <td>{'x': -307.9334716796875, 'y': 5.1120595932006...</td>\n",
       "      <td>2.0</td>\n",
       "    </tr>\n",
       "    <tr>\n",
       "      <th>1897597</th>\n",
       "      <td>1897597</td>\n",
       "      <td>9601</td>\n",
       "      <td>5</td>\n",
       "      <td>3</td>\n",
       "      <td>1.652798e+09</td>\n",
       "      <td>1.652798e+09</td>\n",
       "      <td>1.652798e+09</td>\n",
       "      <td>3</td>\n",
       "      <td>[{'hitPointOnObject': {'x': -276.6176147460937...</td>\n",
       "      <td>-111.081200</td>\n",
       "      <td>...</td>\n",
       "      <td>-0.122575</td>\n",
       "      <td>331.776093</td>\n",
       "      <td>254.747726</td>\n",
       "      <td>236.799957</td>\n",
       "      <td>NaN</td>\n",
       "      <td>UnityEngine.MeshCollider</td>\n",
       "      <td>{'x': -291.20001220703125, 'y': 4.654793739318...</td>\n",
       "      <td>Building_213</td>\n",
       "      <td>{'x': -276.61761474609375, 'y': 5.832995891571...</td>\n",
       "      <td>1.0</td>\n",
       "    </tr>\n",
       "    <tr>\n",
       "      <th>1897598</th>\n",
       "      <td>1897598</td>\n",
       "      <td>9601</td>\n",
       "      <td>5</td>\n",
       "      <td>3</td>\n",
       "      <td>1.652798e+09</td>\n",
       "      <td>1.652798e+09</td>\n",
       "      <td>1.652798e+09</td>\n",
       "      <td>3</td>\n",
       "      <td>[{'hitPointOnObject': {'x': -276.6176147460937...</td>\n",
       "      <td>-111.081200</td>\n",
       "      <td>...</td>\n",
       "      <td>-0.122575</td>\n",
       "      <td>331.776093</td>\n",
       "      <td>254.747726</td>\n",
       "      <td>236.799957</td>\n",
       "      <td>NaN</td>\n",
       "      <td>UnityEngine.MeshCollider</td>\n",
       "      <td>{'x': -304.0008239746094, 'y': 11.011278152465...</td>\n",
       "      <td>Building_210</td>\n",
       "      <td>{'x': -300.0303955078125, 'y': 6.0868353843688...</td>\n",
       "      <td>2.0</td>\n",
       "    </tr>\n",
       "    <tr>\n",
       "      <th>1897599</th>\n",
       "      <td>1897599</td>\n",
       "      <td>9601</td>\n",
       "      <td>5</td>\n",
       "      <td>3</td>\n",
       "      <td>1.652798e+09</td>\n",
       "      <td>1.652798e+09</td>\n",
       "      <td>1.652798e+09</td>\n",
       "      <td>3</td>\n",
       "      <td>[{'hitPointOnObject': {'x': -276.6176147460937...</td>\n",
       "      <td>-111.081200</td>\n",
       "      <td>...</td>\n",
       "      <td>-0.122575</td>\n",
       "      <td>331.776093</td>\n",
       "      <td>254.747726</td>\n",
       "      <td>236.799957</td>\n",
       "      <td>NaN</td>\n",
       "      <td>UnityEngine.MeshCollider</td>\n",
       "      <td>{'x': -291.20001220703125, 'y': 4.654793739318...</td>\n",
       "      <td>Building_213</td>\n",
       "      <td>{'x': -276.61761474609375, 'y': 5.832995891571...</td>\n",
       "      <td>1.0</td>\n",
       "    </tr>\n",
       "    <tr>\n",
       "      <th>1897600</th>\n",
       "      <td>1897600</td>\n",
       "      <td>9601</td>\n",
       "      <td>5</td>\n",
       "      <td>3</td>\n",
       "      <td>1.652798e+09</td>\n",
       "      <td>1.652798e+09</td>\n",
       "      <td>1.652798e+09</td>\n",
       "      <td>3</td>\n",
       "      <td>[{'hitPointOnObject': {'x': -276.6176147460937...</td>\n",
       "      <td>-111.081200</td>\n",
       "      <td>...</td>\n",
       "      <td>-0.122575</td>\n",
       "      <td>331.776093</td>\n",
       "      <td>254.747726</td>\n",
       "      <td>236.799957</td>\n",
       "      <td>NaN</td>\n",
       "      <td>UnityEngine.MeshCollider</td>\n",
       "      <td>{'x': -304.0008239746094, 'y': 11.011278152465...</td>\n",
       "      <td>Building_210</td>\n",
       "      <td>{'x': -300.0303955078125, 'y': 6.0868353843688...</td>\n",
       "      <td>2.0</td>\n",
       "    </tr>\n",
       "  </tbody>\n",
       "</table>\n",
       "<p>5 rows × 44 columns</p>\n",
       "</div>"
      ],
      "text/plain": [
       "         Unnamed: 0  SubjectID  Session  SessionSubsection  \\\n",
       "1897596     1897596       9601        5                  3   \n",
       "1897597     1897597       9601        5                  3   \n",
       "1897598     1897598       9601        5                  3   \n",
       "1897599     1897599       9601        5                  3   \n",
       "1897600     1897600       9601        5                  3   \n",
       "\n",
       "         timeStampDataPointStart  timeStampDataPointEnd  \\\n",
       "1897596             1.652798e+09           1.652798e+09   \n",
       "1897597             1.652798e+09           1.652798e+09   \n",
       "1897598             1.652798e+09           1.652798e+09   \n",
       "1897599             1.652798e+09           1.652798e+09   \n",
       "1897600             1.652798e+09           1.652798e+09   \n",
       "\n",
       "         timeStampGetVerboseData  combinedGazeValidityBitmask  \\\n",
       "1897596             1.652798e+09                            3   \n",
       "1897597             1.652798e+09                            3   \n",
       "1897598             1.652798e+09                            3   \n",
       "1897599             1.652798e+09                            3   \n",
       "1897600             1.652798e+09                            3   \n",
       "\n",
       "                                   rayCastHitsCombinedEyes  \\\n",
       "1897596  [{'hitPointOnObject': {'x': -295.2583618164062...   \n",
       "1897597  [{'hitPointOnObject': {'x': -276.6176147460937...   \n",
       "1897598  [{'hitPointOnObject': {'x': -276.6176147460937...   \n",
       "1897599  [{'hitPointOnObject': {'x': -276.6176147460937...   \n",
       "1897600  [{'hitPointOnObject': {'x': -276.6176147460937...   \n",
       "\n",
       "         eyePositionCombinedWorld.x  ...  bodyTrackerPosition.z  \\\n",
       "1897596                 -111.037956  ...              -0.122341   \n",
       "1897597                 -111.081200  ...              -0.122575   \n",
       "1897598                 -111.081200  ...              -0.122575   \n",
       "1897599                 -111.081200  ...              -0.122575   \n",
       "1897600                 -111.081200  ...              -0.122575   \n",
       "\n",
       "         bodyTrackerRotation.x  bodyTrackerRotation.y  bodyTrackerRotation.z  \\\n",
       "1897596             331.750519             255.437515             236.807922   \n",
       "1897597             331.776093             254.747726             236.799957   \n",
       "1897598             331.776093             254.747726             236.799957   \n",
       "1897599             331.776093             254.747726             236.799957   \n",
       "1897600             331.776093             254.747726             236.799957   \n",
       "\n",
       "          0           hitColliderType  \\\n",
       "1897596 NaN  UnityEngine.MeshCollider   \n",
       "1897597 NaN  UnityEngine.MeshCollider   \n",
       "1897598 NaN  UnityEngine.MeshCollider   \n",
       "1897599 NaN  UnityEngine.MeshCollider   \n",
       "1897600 NaN  UnityEngine.MeshCollider   \n",
       "\n",
       "                             hitObjectColliderBoundsCenter  \\\n",
       "1897596  {'x': -310.80328369140625, 'y': 3.311013460159...   \n",
       "1897597  {'x': -291.20001220703125, 'y': 4.654793739318...   \n",
       "1897598  {'x': -304.0008239746094, 'y': 11.011278152465...   \n",
       "1897599  {'x': -291.20001220703125, 'y': 4.654793739318...   \n",
       "1897600  {'x': -304.0008239746094, 'y': 11.011278152465...   \n",
       "\n",
       "         hitObjectColliderName  \\\n",
       "1897596         TaskBuilding_8   \n",
       "1897597           Building_213   \n",
       "1897598           Building_210   \n",
       "1897599           Building_213   \n",
       "1897600           Building_210   \n",
       "\n",
       "                                          hitPointOnObject  ordinalOfHit  \n",
       "1897596  {'x': -307.9334716796875, 'y': 5.1120595932006...           2.0  \n",
       "1897597  {'x': -276.61761474609375, 'y': 5.832995891571...           1.0  \n",
       "1897598  {'x': -300.0303955078125, 'y': 6.0868353843688...           2.0  \n",
       "1897599  {'x': -276.61761474609375, 'y': 5.832995891571...           1.0  \n",
       "1897600  {'x': -300.0303955078125, 'y': 6.0868353843688...           2.0  \n",
       "\n",
       "[5 rows x 44 columns]"
      ]
     },
     "execution_count": 5,
     "metadata": {},
     "output_type": "execute_result"
    }
   ],
   "source": [
    "combined_csv.tail()"
   ]
  },
  {
   "cell_type": "code",
   "execution_count": null,
   "id": "56c82ec5-9053-42fd-9c31-05fd041e4496",
   "metadata": {},
   "outputs": [],
   "source": [
    "combined_csv.to_csv(\"/Volumes/SSD/00_Data_Processing/Pre_processed/Experimen1R.csv\")"
   ]
  },
  {
   "cell_type": "code",
   "execution_count": 2,
   "id": "8b406f69",
   "metadata": {
    "collapsed": false,
    "jupyter": {
     "outputs_hidden": false
    },
    "pycharm": {
     "name": "#%%\n"
    }
   },
   "outputs": [
    {
     "name": "stderr",
     "output_type": "stream",
     "text": [
      "ERROR:root:Internal Python error in the inspect module.\n",
      "Below is the traceback from this internal error.\n",
      "\n"
     ]
    },
    {
     "name": "stdout",
     "output_type": "stream",
     "text": [
      "Traceback (most recent call last):\n",
      "  File \"/Users/tracysanchezpacheco/opt/anaconda3/lib/python3.8/site-packages/pandas/io/parsers.py\", line 2061, in read\n",
      "    data = self._reader.read(nrows)\n",
      "  File \"pandas/_libs/parsers.pyx\", line 756, in pandas._libs.parsers.TextReader.read\n",
      "  File \"pandas/_libs/parsers.pyx\", line 771, in pandas._libs.parsers.TextReader._read_low_memory\n",
      "  File \"pandas/_libs/parsers.pyx\", line 850, in pandas._libs.parsers.TextReader._read_rows\n",
      "  File \"pandas/_libs/parsers.pyx\", line 982, in pandas._libs.parsers.TextReader._convert_column_data\n",
      "  File \"pandas/_libs/parsers.pyx\", line 1028, in pandas._libs.parsers.TextReader._convert_tokens\n",
      "  File \"pandas/_libs/parsers.pyx\", line 1071, in pandas._libs.parsers.TextReader._convert_with_dtype\n",
      "  File \"/Users/tracysanchezpacheco/opt/anaconda3/lib/python3.8/site-packages/pandas/core/dtypes/common.py\", line 537, in is_categorical_dtype\n",
      "    def is_categorical_dtype(arr_or_dtype) -> bool:\n",
      "KeyboardInterrupt\n",
      "\n",
      "During handling of the above exception, another exception occurred:\n",
      "\n",
      "Traceback (most recent call last):\n",
      "  File \"/Users/tracysanchezpacheco/opt/anaconda3/lib/python3.8/site-packages/IPython/core/interactiveshell.py\", line 3437, in run_code\n",
      "    exec(code_obj, self.user_global_ns, self.user_ns)\n",
      "  File \"<ipython-input-2-bd63da0f7f27>\", line 5, in <module>\n",
      "    temp_one_part = pd.read_csv(path + str(filename))\n",
      "  File \"/Users/tracysanchezpacheco/opt/anaconda3/lib/python3.8/site-packages/pandas/io/parsers.py\", line 610, in read_csv\n",
      "    return _read(filepath_or_buffer, kwds)\n",
      "  File \"/Users/tracysanchezpacheco/opt/anaconda3/lib/python3.8/site-packages/pandas/io/parsers.py\", line 468, in _read\n",
      "    return parser.read(nrows)\n",
      "  File \"/Users/tracysanchezpacheco/opt/anaconda3/lib/python3.8/site-packages/pandas/io/parsers.py\", line 1057, in read\n",
      "    index, columns, col_dict = self._engine.read(nrows)\n",
      "  File \"/Users/tracysanchezpacheco/opt/anaconda3/lib/python3.8/site-packages/pandas/io/parsers.py\", line 2061, in read\n",
      "    data = self._reader.read(nrows)\n",
      "KeyboardInterrupt\n",
      "\n",
      "During handling of the above exception, another exception occurred:\n",
      "\n",
      "Traceback (most recent call last):\n",
      "  File \"/Users/tracysanchezpacheco/opt/anaconda3/lib/python3.8/site-packages/IPython/core/interactiveshell.py\", line 2061, in showtraceback\n",
      "    stb = value._render_traceback_()\n",
      "AttributeError: 'KeyboardInterrupt' object has no attribute '_render_traceback_'\n",
      "\n",
      "During handling of the above exception, another exception occurred:\n",
      "\n",
      "Traceback (most recent call last):\n",
      "  File \"/Users/tracysanchezpacheco/opt/anaconda3/lib/python3.8/site-packages/IPython/core/ultratb.py\", line 1101, in get_records\n",
      "    return _fixed_getinnerframes(etb, number_of_lines_of_context, tb_offset)\n",
      "  File \"/Users/tracysanchezpacheco/opt/anaconda3/lib/python3.8/site-packages/IPython/core/ultratb.py\", line 248, in wrapped\n",
      "    return f(*args, **kwargs)\n",
      "  File \"/Users/tracysanchezpacheco/opt/anaconda3/lib/python3.8/site-packages/IPython/core/ultratb.py\", line 281, in _fixed_getinnerframes\n",
      "    records = fix_frame_records_filenames(inspect.getinnerframes(etb, context))\n",
      "  File \"/Users/tracysanchezpacheco/opt/anaconda3/lib/python3.8/inspect.py\", line 1515, in getinnerframes\n",
      "    frameinfo = (tb.tb_frame,) + getframeinfo(tb, context)\n",
      "  File \"/Users/tracysanchezpacheco/opt/anaconda3/lib/python3.8/inspect.py\", line 1473, in getframeinfo\n",
      "    filename = getsourcefile(frame) or getfile(frame)\n",
      "  File \"/Users/tracysanchezpacheco/opt/anaconda3/lib/python3.8/inspect.py\", line 708, in getsourcefile\n",
      "    if getattr(getmodule(object, filename), '__loader__', None) is not None:\n",
      "  File \"/Users/tracysanchezpacheco/opt/anaconda3/lib/python3.8/inspect.py\", line 754, in getmodule\n",
      "    os.path.realpath(f)] = module.__name__\n",
      "  File \"/Users/tracysanchezpacheco/opt/anaconda3/lib/python3.8/posixpath.py\", line 391, in realpath\n",
      "    path, ok = _joinrealpath(filename[:0], filename, {})\n",
      "  File \"/Users/tracysanchezpacheco/opt/anaconda3/lib/python3.8/posixpath.py\", line 425, in _joinrealpath\n",
      "    if not islink(newpath):\n",
      "  File \"/Users/tracysanchezpacheco/opt/anaconda3/lib/python3.8/posixpath.py\", line 167, in islink\n",
      "    st = os.lstat(path)\n",
      "KeyboardInterrupt\n"
     ]
    },
    {
     "ename": "TypeError",
     "evalue": "object of type 'NoneType' has no len()",
     "output_type": "error",
     "traceback": [
      "\u001B[0;31m---------------------------------------------------------------------------\u001B[0m",
      "\u001B[0;31mKeyboardInterrupt\u001B[0m                         Traceback (most recent call last)",
      "\u001B[0;32m~/opt/anaconda3/lib/python3.8/site-packages/pandas/io/parsers.py\u001B[0m in \u001B[0;36mread\u001B[0;34m(self, nrows)\u001B[0m\n\u001B[1;32m   2060\u001B[0m         \u001B[0;32mtry\u001B[0m\u001B[0;34m:\u001B[0m\u001B[0;34m\u001B[0m\u001B[0;34m\u001B[0m\u001B[0m\n\u001B[0;32m-> 2061\u001B[0;31m             \u001B[0mdata\u001B[0m \u001B[0;34m=\u001B[0m \u001B[0mself\u001B[0m\u001B[0;34m.\u001B[0m\u001B[0m_reader\u001B[0m\u001B[0;34m.\u001B[0m\u001B[0mread\u001B[0m\u001B[0;34m(\u001B[0m\u001B[0mnrows\u001B[0m\u001B[0;34m)\u001B[0m\u001B[0;34m\u001B[0m\u001B[0;34m\u001B[0m\u001B[0m\n\u001B[0m\u001B[1;32m   2062\u001B[0m         \u001B[0;32mexcept\u001B[0m \u001B[0mStopIteration\u001B[0m\u001B[0;34m:\u001B[0m\u001B[0;34m\u001B[0m\u001B[0;34m\u001B[0m\u001B[0m\n",
      "\u001B[0;32mpandas/_libs/parsers.pyx\u001B[0m in \u001B[0;36mpandas._libs.parsers.TextReader.read\u001B[0;34m()\u001B[0m\n",
      "\u001B[0;32mpandas/_libs/parsers.pyx\u001B[0m in \u001B[0;36mpandas._libs.parsers.TextReader._read_low_memory\u001B[0;34m()\u001B[0m\n",
      "\u001B[0;32mpandas/_libs/parsers.pyx\u001B[0m in \u001B[0;36mpandas._libs.parsers.TextReader._read_rows\u001B[0;34m()\u001B[0m\n",
      "\u001B[0;32mpandas/_libs/parsers.pyx\u001B[0m in \u001B[0;36mpandas._libs.parsers.TextReader._convert_column_data\u001B[0;34m()\u001B[0m\n",
      "\u001B[0;32mpandas/_libs/parsers.pyx\u001B[0m in \u001B[0;36mpandas._libs.parsers.TextReader._convert_tokens\u001B[0;34m()\u001B[0m\n",
      "\u001B[0;32mpandas/_libs/parsers.pyx\u001B[0m in \u001B[0;36mpandas._libs.parsers.TextReader._convert_with_dtype\u001B[0;34m()\u001B[0m\n",
      "\u001B[0;32m~/opt/anaconda3/lib/python3.8/site-packages/pandas/core/dtypes/common.py\u001B[0m in \u001B[0;36mis_categorical_dtype\u001B[0;34m(arr_or_dtype)\u001B[0m\n\u001B[1;32m    536\u001B[0m \u001B[0;34m\u001B[0m\u001B[0m\n\u001B[0;32m--> 537\u001B[0;31m \u001B[0;32mdef\u001B[0m \u001B[0mis_categorical_dtype\u001B[0m\u001B[0;34m(\u001B[0m\u001B[0marr_or_dtype\u001B[0m\u001B[0;34m)\u001B[0m \u001B[0;34m->\u001B[0m \u001B[0mbool\u001B[0m\u001B[0;34m:\u001B[0m\u001B[0;34m\u001B[0m\u001B[0;34m\u001B[0m\u001B[0m\n\u001B[0m\u001B[1;32m    538\u001B[0m     \"\"\"\n",
      "\u001B[0;31mKeyboardInterrupt\u001B[0m: ",
      "\nDuring handling of the above exception, another exception occurred:\n",
      "\u001B[0;31mKeyboardInterrupt\u001B[0m                         Traceback (most recent call last)",
      "    \u001B[0;31m[... skipping hidden 1 frame]\u001B[0m\n",
      "\u001B[0;32m<ipython-input-2-bd63da0f7f27>\u001B[0m in \u001B[0;36m<module>\u001B[0;34m\u001B[0m\n\u001B[1;32m      4\u001B[0m \u001B[0;32mfor\u001B[0m \u001B[0mfilename\u001B[0m \u001B[0;32min\u001B[0m \u001B[0mos\u001B[0m\u001B[0;34m.\u001B[0m\u001B[0mlistdir\u001B[0m\u001B[0;34m(\u001B[0m\u001B[0mpath\u001B[0m\u001B[0;34m)\u001B[0m\u001B[0;34m:\u001B[0m\u001B[0;34m\u001B[0m\u001B[0;34m\u001B[0m\u001B[0m\n\u001B[0;32m----> 5\u001B[0;31m     \u001B[0mtemp_one_part\u001B[0m \u001B[0;34m=\u001B[0m \u001B[0mpd\u001B[0m\u001B[0;34m.\u001B[0m\u001B[0mread_csv\u001B[0m\u001B[0;34m(\u001B[0m\u001B[0mpath\u001B[0m \u001B[0;34m+\u001B[0m \u001B[0mstr\u001B[0m\u001B[0;34m(\u001B[0m\u001B[0mfilename\u001B[0m\u001B[0;34m)\u001B[0m\u001B[0;34m)\u001B[0m\u001B[0;34m\u001B[0m\u001B[0;34m\u001B[0m\u001B[0m\n\u001B[0m\u001B[1;32m      6\u001B[0m     \u001B[0;31m# Drop unnecessary variables\u001B[0m\u001B[0;34m\u001B[0m\u001B[0;34m\u001B[0m\u001B[0;34m\u001B[0m\u001B[0m\n",
      "\u001B[0;32m~/opt/anaconda3/lib/python3.8/site-packages/pandas/io/parsers.py\u001B[0m in \u001B[0;36mread_csv\u001B[0;34m(filepath_or_buffer, sep, delimiter, header, names, index_col, usecols, squeeze, prefix, mangle_dupe_cols, dtype, engine, converters, true_values, false_values, skipinitialspace, skiprows, skipfooter, nrows, na_values, keep_default_na, na_filter, verbose, skip_blank_lines, parse_dates, infer_datetime_format, keep_date_col, date_parser, dayfirst, cache_dates, iterator, chunksize, compression, thousands, decimal, lineterminator, quotechar, quoting, doublequote, escapechar, comment, encoding, dialect, error_bad_lines, warn_bad_lines, delim_whitespace, low_memory, memory_map, float_precision, storage_options)\u001B[0m\n\u001B[1;32m    609\u001B[0m \u001B[0;34m\u001B[0m\u001B[0m\n\u001B[0;32m--> 610\u001B[0;31m     \u001B[0;32mreturn\u001B[0m \u001B[0m_read\u001B[0m\u001B[0;34m(\u001B[0m\u001B[0mfilepath_or_buffer\u001B[0m\u001B[0;34m,\u001B[0m \u001B[0mkwds\u001B[0m\u001B[0;34m)\u001B[0m\u001B[0;34m\u001B[0m\u001B[0;34m\u001B[0m\u001B[0m\n\u001B[0m\u001B[1;32m    611\u001B[0m \u001B[0;34m\u001B[0m\u001B[0m\n",
      "\u001B[0;32m~/opt/anaconda3/lib/python3.8/site-packages/pandas/io/parsers.py\u001B[0m in \u001B[0;36m_read\u001B[0;34m(filepath_or_buffer, kwds)\u001B[0m\n\u001B[1;32m    467\u001B[0m     \u001B[0;32mwith\u001B[0m \u001B[0mparser\u001B[0m\u001B[0;34m:\u001B[0m\u001B[0;34m\u001B[0m\u001B[0;34m\u001B[0m\u001B[0m\n\u001B[0;32m--> 468\u001B[0;31m         \u001B[0;32mreturn\u001B[0m \u001B[0mparser\u001B[0m\u001B[0;34m.\u001B[0m\u001B[0mread\u001B[0m\u001B[0;34m(\u001B[0m\u001B[0mnrows\u001B[0m\u001B[0;34m)\u001B[0m\u001B[0;34m\u001B[0m\u001B[0;34m\u001B[0m\u001B[0m\n\u001B[0m\u001B[1;32m    469\u001B[0m \u001B[0;34m\u001B[0m\u001B[0m\n",
      "\u001B[0;32m~/opt/anaconda3/lib/python3.8/site-packages/pandas/io/parsers.py\u001B[0m in \u001B[0;36mread\u001B[0;34m(self, nrows)\u001B[0m\n\u001B[1;32m   1056\u001B[0m         \u001B[0mnrows\u001B[0m \u001B[0;34m=\u001B[0m \u001B[0mvalidate_integer\u001B[0m\u001B[0;34m(\u001B[0m\u001B[0;34m\"nrows\"\u001B[0m\u001B[0;34m,\u001B[0m \u001B[0mnrows\u001B[0m\u001B[0;34m)\u001B[0m\u001B[0;34m\u001B[0m\u001B[0;34m\u001B[0m\u001B[0m\n\u001B[0;32m-> 1057\u001B[0;31m         \u001B[0mindex\u001B[0m\u001B[0;34m,\u001B[0m \u001B[0mcolumns\u001B[0m\u001B[0;34m,\u001B[0m \u001B[0mcol_dict\u001B[0m \u001B[0;34m=\u001B[0m \u001B[0mself\u001B[0m\u001B[0;34m.\u001B[0m\u001B[0m_engine\u001B[0m\u001B[0;34m.\u001B[0m\u001B[0mread\u001B[0m\u001B[0;34m(\u001B[0m\u001B[0mnrows\u001B[0m\u001B[0;34m)\u001B[0m\u001B[0;34m\u001B[0m\u001B[0;34m\u001B[0m\u001B[0m\n\u001B[0m\u001B[1;32m   1058\u001B[0m \u001B[0;34m\u001B[0m\u001B[0m\n",
      "\u001B[0;32m~/opt/anaconda3/lib/python3.8/site-packages/pandas/io/parsers.py\u001B[0m in \u001B[0;36mread\u001B[0;34m(self, nrows)\u001B[0m\n\u001B[1;32m   2060\u001B[0m         \u001B[0;32mtry\u001B[0m\u001B[0;34m:\u001B[0m\u001B[0;34m\u001B[0m\u001B[0;34m\u001B[0m\u001B[0m\n\u001B[0;32m-> 2061\u001B[0;31m             \u001B[0mdata\u001B[0m \u001B[0;34m=\u001B[0m \u001B[0mself\u001B[0m\u001B[0;34m.\u001B[0m\u001B[0m_reader\u001B[0m\u001B[0;34m.\u001B[0m\u001B[0mread\u001B[0m\u001B[0;34m(\u001B[0m\u001B[0mnrows\u001B[0m\u001B[0;34m)\u001B[0m\u001B[0;34m\u001B[0m\u001B[0;34m\u001B[0m\u001B[0m\n\u001B[0m\u001B[1;32m   2062\u001B[0m         \u001B[0;32mexcept\u001B[0m \u001B[0mStopIteration\u001B[0m\u001B[0;34m:\u001B[0m\u001B[0;34m\u001B[0m\u001B[0;34m\u001B[0m\u001B[0m\n",
      "\u001B[0;31mKeyboardInterrupt\u001B[0m: ",
      "\nDuring handling of the above exception, another exception occurred:\n",
      "\u001B[0;31mAttributeError\u001B[0m                            Traceback (most recent call last)",
      "\u001B[0;32m~/opt/anaconda3/lib/python3.8/site-packages/IPython/core/interactiveshell.py\u001B[0m in \u001B[0;36mshowtraceback\u001B[0;34m(self, exc_tuple, filename, tb_offset, exception_only, running_compiled_code)\u001B[0m\n\u001B[1;32m   2060\u001B[0m                         \u001B[0;31m# in the engines. This should return a list of strings.\u001B[0m\u001B[0;34m\u001B[0m\u001B[0;34m\u001B[0m\u001B[0;34m\u001B[0m\u001B[0m\n\u001B[0;32m-> 2061\u001B[0;31m                         \u001B[0mstb\u001B[0m \u001B[0;34m=\u001B[0m \u001B[0mvalue\u001B[0m\u001B[0;34m.\u001B[0m\u001B[0m_render_traceback_\u001B[0m\u001B[0;34m(\u001B[0m\u001B[0;34m)\u001B[0m\u001B[0;34m\u001B[0m\u001B[0;34m\u001B[0m\u001B[0m\n\u001B[0m\u001B[1;32m   2062\u001B[0m                     \u001B[0;32mexcept\u001B[0m \u001B[0mException\u001B[0m\u001B[0;34m:\u001B[0m\u001B[0;34m\u001B[0m\u001B[0;34m\u001B[0m\u001B[0m\n",
      "\u001B[0;31mAttributeError\u001B[0m: 'KeyboardInterrupt' object has no attribute '_render_traceback_'",
      "\nDuring handling of the above exception, another exception occurred:\n",
      "\u001B[0;31mTypeError\u001B[0m                                 Traceback (most recent call last)",
      "    \u001B[0;31m[... skipping hidden 1 frame]\u001B[0m\n",
      "\u001B[0;32m~/opt/anaconda3/lib/python3.8/site-packages/IPython/core/interactiveshell.py\u001B[0m in \u001B[0;36mshowtraceback\u001B[0;34m(self, exc_tuple, filename, tb_offset, exception_only, running_compiled_code)\u001B[0m\n\u001B[1;32m   2061\u001B[0m                         \u001B[0mstb\u001B[0m \u001B[0;34m=\u001B[0m \u001B[0mvalue\u001B[0m\u001B[0;34m.\u001B[0m\u001B[0m_render_traceback_\u001B[0m\u001B[0;34m(\u001B[0m\u001B[0;34m)\u001B[0m\u001B[0;34m\u001B[0m\u001B[0;34m\u001B[0m\u001B[0m\n\u001B[1;32m   2062\u001B[0m                     \u001B[0;32mexcept\u001B[0m \u001B[0mException\u001B[0m\u001B[0;34m:\u001B[0m\u001B[0;34m\u001B[0m\u001B[0;34m\u001B[0m\u001B[0m\n\u001B[0;32m-> 2063\u001B[0;31m                         stb = self.InteractiveTB.structured_traceback(etype,\n\u001B[0m\u001B[1;32m   2064\u001B[0m                                             value, tb, tb_offset=tb_offset)\n\u001B[1;32m   2065\u001B[0m \u001B[0;34m\u001B[0m\u001B[0m\n",
      "\u001B[0;32m~/opt/anaconda3/lib/python3.8/site-packages/IPython/core/ultratb.py\u001B[0m in \u001B[0;36mstructured_traceback\u001B[0;34m(self, etype, value, tb, tb_offset, number_of_lines_of_context)\u001B[0m\n\u001B[1;32m   1365\u001B[0m         \u001B[0;32melse\u001B[0m\u001B[0;34m:\u001B[0m\u001B[0;34m\u001B[0m\u001B[0;34m\u001B[0m\u001B[0m\n\u001B[1;32m   1366\u001B[0m             \u001B[0mself\u001B[0m\u001B[0;34m.\u001B[0m\u001B[0mtb\u001B[0m \u001B[0;34m=\u001B[0m \u001B[0mtb\u001B[0m\u001B[0;34m\u001B[0m\u001B[0;34m\u001B[0m\u001B[0m\n\u001B[0;32m-> 1367\u001B[0;31m         return FormattedTB.structured_traceback(\n\u001B[0m\u001B[1;32m   1368\u001B[0m             self, etype, value, tb, tb_offset, number_of_lines_of_context)\n\u001B[1;32m   1369\u001B[0m \u001B[0;34m\u001B[0m\u001B[0m\n",
      "\u001B[0;32m~/opt/anaconda3/lib/python3.8/site-packages/IPython/core/ultratb.py\u001B[0m in \u001B[0;36mstructured_traceback\u001B[0;34m(self, etype, value, tb, tb_offset, number_of_lines_of_context)\u001B[0m\n\u001B[1;32m   1265\u001B[0m         \u001B[0;32mif\u001B[0m \u001B[0mmode\u001B[0m \u001B[0;32min\u001B[0m \u001B[0mself\u001B[0m\u001B[0;34m.\u001B[0m\u001B[0mverbose_modes\u001B[0m\u001B[0;34m:\u001B[0m\u001B[0;34m\u001B[0m\u001B[0;34m\u001B[0m\u001B[0m\n\u001B[1;32m   1266\u001B[0m             \u001B[0;31m# Verbose modes need a full traceback\u001B[0m\u001B[0;34m\u001B[0m\u001B[0;34m\u001B[0m\u001B[0;34m\u001B[0m\u001B[0m\n\u001B[0;32m-> 1267\u001B[0;31m             return VerboseTB.structured_traceback(\n\u001B[0m\u001B[1;32m   1268\u001B[0m                 \u001B[0mself\u001B[0m\u001B[0;34m,\u001B[0m \u001B[0metype\u001B[0m\u001B[0;34m,\u001B[0m \u001B[0mvalue\u001B[0m\u001B[0;34m,\u001B[0m \u001B[0mtb\u001B[0m\u001B[0;34m,\u001B[0m \u001B[0mtb_offset\u001B[0m\u001B[0;34m,\u001B[0m \u001B[0mnumber_of_lines_of_context\u001B[0m\u001B[0;34m\u001B[0m\u001B[0;34m\u001B[0m\u001B[0m\n\u001B[1;32m   1269\u001B[0m             )\n",
      "\u001B[0;32m~/opt/anaconda3/lib/python3.8/site-packages/IPython/core/ultratb.py\u001B[0m in \u001B[0;36mstructured_traceback\u001B[0;34m(self, etype, evalue, etb, tb_offset, number_of_lines_of_context)\u001B[0m\n\u001B[1;32m   1122\u001B[0m         \u001B[0;34m\"\"\"Return a nice text document describing the traceback.\"\"\"\u001B[0m\u001B[0;34m\u001B[0m\u001B[0;34m\u001B[0m\u001B[0m\n\u001B[1;32m   1123\u001B[0m \u001B[0;34m\u001B[0m\u001B[0m\n\u001B[0;32m-> 1124\u001B[0;31m         formatted_exception = self.format_exception_as_a_whole(etype, evalue, etb, number_of_lines_of_context,\n\u001B[0m\u001B[1;32m   1125\u001B[0m                                                                tb_offset)\n\u001B[1;32m   1126\u001B[0m \u001B[0;34m\u001B[0m\u001B[0m\n",
      "\u001B[0;32m~/opt/anaconda3/lib/python3.8/site-packages/IPython/core/ultratb.py\u001B[0m in \u001B[0;36mformat_exception_as_a_whole\u001B[0;34m(self, etype, evalue, etb, number_of_lines_of_context, tb_offset)\u001B[0m\n\u001B[1;32m   1080\u001B[0m \u001B[0;34m\u001B[0m\u001B[0m\n\u001B[1;32m   1081\u001B[0m \u001B[0;34m\u001B[0m\u001B[0m\n\u001B[0;32m-> 1082\u001B[0;31m         \u001B[0mlast_unique\u001B[0m\u001B[0;34m,\u001B[0m \u001B[0mrecursion_repeat\u001B[0m \u001B[0;34m=\u001B[0m \u001B[0mfind_recursion\u001B[0m\u001B[0;34m(\u001B[0m\u001B[0morig_etype\u001B[0m\u001B[0;34m,\u001B[0m \u001B[0mevalue\u001B[0m\u001B[0;34m,\u001B[0m \u001B[0mrecords\u001B[0m\u001B[0;34m)\u001B[0m\u001B[0;34m\u001B[0m\u001B[0;34m\u001B[0m\u001B[0m\n\u001B[0m\u001B[1;32m   1083\u001B[0m \u001B[0;34m\u001B[0m\u001B[0m\n\u001B[1;32m   1084\u001B[0m         \u001B[0mframes\u001B[0m \u001B[0;34m=\u001B[0m \u001B[0mself\u001B[0m\u001B[0;34m.\u001B[0m\u001B[0mformat_records\u001B[0m\u001B[0;34m(\u001B[0m\u001B[0mrecords\u001B[0m\u001B[0;34m,\u001B[0m \u001B[0mlast_unique\u001B[0m\u001B[0;34m,\u001B[0m \u001B[0mrecursion_repeat\u001B[0m\u001B[0;34m)\u001B[0m\u001B[0;34m\u001B[0m\u001B[0;34m\u001B[0m\u001B[0m\n",
      "\u001B[0;32m~/opt/anaconda3/lib/python3.8/site-packages/IPython/core/ultratb.py\u001B[0m in \u001B[0;36mfind_recursion\u001B[0;34m(etype, value, records)\u001B[0m\n\u001B[1;32m    380\u001B[0m     \u001B[0;31m# first frame (from in to out) that looks different.\u001B[0m\u001B[0;34m\u001B[0m\u001B[0;34m\u001B[0m\u001B[0;34m\u001B[0m\u001B[0m\n\u001B[1;32m    381\u001B[0m     \u001B[0;32mif\u001B[0m \u001B[0;32mnot\u001B[0m \u001B[0mis_recursion_error\u001B[0m\u001B[0;34m(\u001B[0m\u001B[0metype\u001B[0m\u001B[0;34m,\u001B[0m \u001B[0mvalue\u001B[0m\u001B[0;34m,\u001B[0m \u001B[0mrecords\u001B[0m\u001B[0;34m)\u001B[0m\u001B[0;34m:\u001B[0m\u001B[0;34m\u001B[0m\u001B[0;34m\u001B[0m\u001B[0m\n\u001B[0;32m--> 382\u001B[0;31m         \u001B[0;32mreturn\u001B[0m \u001B[0mlen\u001B[0m\u001B[0;34m(\u001B[0m\u001B[0mrecords\u001B[0m\u001B[0;34m)\u001B[0m\u001B[0;34m,\u001B[0m \u001B[0;36m0\u001B[0m\u001B[0;34m\u001B[0m\u001B[0;34m\u001B[0m\u001B[0m\n\u001B[0m\u001B[1;32m    383\u001B[0m \u001B[0;34m\u001B[0m\u001B[0m\n\u001B[1;32m    384\u001B[0m     \u001B[0;31m# Select filename, lineno, func_name to track frames with\u001B[0m\u001B[0;34m\u001B[0m\u001B[0;34m\u001B[0m\u001B[0;34m\u001B[0m\u001B[0m\n",
      "\u001B[0;31mTypeError\u001B[0m: object of type 'NoneType' has no len()"
     ]
    }
   ],
   "source": [
    "#Create csv that cointain the coordinates of the hit on object as separate columns\n",
    "path = \"/Volumes/SSD/00_Data_Processing/Pre_processed/01_Indivuduals_Flat_smaller/now/\"\n",
    "\n",
    "for filename in os.listdir(path):\n",
    "    temp_one_part = pd.read_csv(path + str(filename))\n",
    "    # Drop unnecessary variables\n",
    "    temp_one_part.drop([\"0\"],axis=1, inplace=True)\n",
    "    # Format index column\n",
    "    temp_one_part.rename(columns = {'Unnamed: 0':'index'}, inplace=True)\n",
    "    temp_one_part.dropna(subset=['hitPointOnObject'], inplace=True)\n",
    "    # Given the way r the files have been constructed up to now, the contents of \"hitPointOnObject\" are not longer read as dictionary.\n",
    "    # So we go row by row turn them into string and then properly format them into dictionaries to be able to explote that data on the subsequent step.\n",
    "    temp_one_part[\"hitPointOnObject\"] = [ast.literal_eval(str(row_value)) for row_value in temp_one_part[\"hitPointOnObject\"]]\n",
    "    # Turn the dictionary values into columns\n",
    "    temp_one_part = temp_one_part.join(temp_one_part['hitPointOnObject'].apply(pd.Series).add_prefix(\"hitPointOnObject_\"))\n",
    "    temp_one_part.drop([\"hitPointOnObject\"], axis=1, inplace= True)\n",
    "    temp_one_part.to_csv(\"/Volumes/SSD/00_Data_Processing/Pre_processed/02_Individuals_Colliders/\" + str(filename))\n",
    "    print(str(filename) + \" Done\")"
   ]
  }
 ],
 "metadata": {
  "kernelspec": {
   "display_name": "Python 3",
   "language": "python",
   "name": "python3"
  },
  "language_info": {
   "codemirror_mode": {
    "name": "ipython",
    "version": 3
   },
   "file_extension": ".py",
   "mimetype": "text/x-python",
   "name": "python",
   "nbconvert_exporter": "python",
   "pygments_lexer": "ipython3",
   "version": "3.8.8"
  }
 },
 "nbformat": 4,
 "nbformat_minor": 5
}