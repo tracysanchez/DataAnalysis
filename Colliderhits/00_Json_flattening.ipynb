{
 "cells": [
  {
   "cell_type": "code",
   "execution_count": 2,
   "id": "7a0f35eb",
   "metadata": {
    "collapsed": false,
    "jupyter": {
     "outputs_hidden": false
    },
    "pycharm": {
     "name": "#%%\n"
    }
   },
   "outputs": [],
   "source": [
    "# Added cell to set Working Directory to your location\n",
    "import os\n",
    "import re\n",
    "import glob\n",
    "import numpy as np\n",
    "import pandas as pd\n",
    "import json\n",
    "import time"
   ]
  },
  {
   "cell_type": "code",
   "execution_count": 2,
   "id": "6c4e6732",
   "metadata": {
    "collapsed": false,
    "jupyter": {
     "outputs_hidden": false
    },
    "pycharm": {
     "name": "#%%\n"
    }
   },
   "outputs": [
    {
     "data": {
      "text/plain": [
       "'/Volumes/SSD/00_Data_Processing/Test_Exploration'"
      ]
     },
     "execution_count": 2,
     "metadata": {},
     "output_type": "execute_result"
    }
   ],
   "source": [
    "os.chdir(\"//Volumes/SSD/00_Data_Processing/Test_Exploration\")\n",
    "os.getcwd()"
   ]
  },
  {
   "cell_type": "code",
   "execution_count": 3,
   "id": "10b0a50b",
   "metadata": {
    "collapsed": false,
    "jupyter": {
     "outputs_hidden": false
    },
    "pycharm": {
     "name": "#%%\n"
    }
   },
   "outputs": [],
   "source": [
    "# Columns to keep from the raw data.\n",
    "Keep = [\"SubjectID\", \"Session\", \"SessionSubsection\",'timeStampDataPointStart', 'timeStampDataPointEnd', 'timeStampGetVerboseData','combinedGazeValidityBitmask','rayCastHitsCombinedEyes','eyePositionCombinedWorld.x', 'eyePositionCombinedWorld.y', 'eyePositionCombinedWorld.z','eyeDirectionCombinedWorld.y', \n",
    " 'eyeDirectionCombinedWorld.z', 'eyeDirectionCombinedLocal.x', 'eyeDirectionCombinedLocal.y', 'eyeDirectionCombinedLocal.z','hmdPosition.x', 'hmdPosition.y', 'hmdPosition.z', 'hmdDirectionForward.x', 'hmdDirectionForward.y', 'hmdDirectionForward.z', \n",
    " 'hmdRotation.x', 'hmdRotation.y', 'hmdRotation.z', 'hmdDirectionUp.x', 'hmdDirectionUp.y', 'hmdDirectionUp.z','playerBodyPosition.x', 'playerBodyPosition.y', 'playerBodyPosition.z', 'bodyTrackerPosition.x', 'bodyTrackerPosition.y', \n",
    " 'bodyTrackerPosition.z', 'bodyTrackerRotation.x', 'bodyTrackerRotation.y', 'bodyTrackerRotation.z']"
   ]
  },
  {
   "cell_type": "code",
   "execution_count": 4,
   "id": "a2a0fb7e-af1d-4a8a-b6fa-7c01b0e6347e",
   "metadata": {
    "collapsed": false,
    "jupyter": {
     "outputs_hidden": false
    },
    "pycharm": {
     "name": "#%%\n"
    }
   },
   "outputs": [
    {
     "name": "stdout",
     "output_type": "stream",
     "text": [
      "['0479', '1754', '2258', '2361', '2693', '3246', '3310', '3572', '3976', '4176', '4796', '4917', '5238', '5531', '5741', '6642', '7093', '7264', '7412', '7842', '8007', '8469', '8673', '8695', '9472', '9502', '9601']\n"
     ]
    }
   ],
   "source": [
    "data_path = '/Volumes/SSD/00_Data_Processing/Test_Exploration'\n",
    "processed_data = '/Volumes/SSD/00_Data_Processing/Pre_processed'\n",
    "\n",
    "# Getting the Folder without hidden files in ascending order\n",
    "DATA_FOLDER = sorted([f for f in os.listdir(data_path) if not f.startswith('.')], key=str.lower)\n",
    "PROCESSED_DATA_FOLDER = sorted([f for f in os.listdir(processed_data) if not f.startswith('.')], key=str.lower)\n",
    "subIDs = []\n",
    "for sub in DATA_FOLDER:\n",
    "    if sub[0:4].isdigit():\n",
    "        subIDs.append(int(sub[0:4]))\n",
    "    else:\n",
    "        pass\n",
    "subIDs = np.unique(subIDs)\n",
    "#Sincesome participant IDs start with 0, we format them to show it in the string type\n",
    "IDstrings = ['{:04d}'.format(id) for id in subIDs]\n",
    "print(IDstrings)"
   ]
  },
  {
   "cell_type": "code",
   "execution_count": 7,
   "id": "2015955e",
   "metadata": {
    "collapsed": false,
    "jupyter": {
     "outputs_hidden": false
    },
    "pycharm": {
     "name": "#%%\n"
    }
   },
   "outputs": [
    {
     "name": "stdout",
     "output_type": "stream",
     "text": [
      "['1754/*.json', '2258/*.json', '2361/*.json', '2693/*.json', '3246/*.json', '3310/*.json', '3572/*.json', '3976/*.json', '4176/*.json', '4796/*.json', '4917/*.json', '5238/*.json', '5531/*.json', '5741/*.json', '6642/*.json', '7093/*.json', '7264/*.json', '7412/*.json', '7842/*.json', '8007/*.json', '8469/*.json', '8673/*.json', '8695/*.json', '9472/*.json', '9502/*.json', '9601/*.json']\n"
     ]
    }
   ],
   "source": [
    "#Create a generalized path for all json files per participant\n",
    "paths = [ID +  \"/*.json\" for ID in IDstrings]\n",
    "print(paths)\n",
    "#Create a sorted list of the paths to open de jsons\n",
    "Sorted_individual_jsons = sorted([filename for path in paths for filename in glob.glob(path)], key=str.lower)"
   ]
  },
  {
   "cell_type": "code",
   "execution_count": null,
   "id": "f647a905",
   "metadata": {
    "collapsed": false,
    "jupyter": {
     "outputs_hidden": false
    },
    "pycharm": {
     "name": "#%%\n"
    }
   },
   "outputs": [],
   "source": [
    "data_raw = pd.DataFrame()\n",
    "\n",
    "# read every file name in folder\n",
    "for path in paths:\n",
    "    for filename in glob.glob(path):\n",
    "        with open(filename, 'r') as file:\n",
    "            try:\n",
    "                # make json files parsable\n",
    "                data = \"[\" + file.read()\n",
    "                data = data[:len(data)] + \"]\"\n",
    "                raw = json.loads(data)\n",
    "            except:\n",
    "                print(\"reading did not work\")\n",
    "                \n",
    "\n",
    "            # Uneast the higher level of each file\n",
    "            currentDF_raw = pd.json_normalize(raw[0]['trials'][0]['dataPoints'])\n",
    "            print( \"Subject \" + str(filename[5:9]) + \" Session \" + str(filename[17:19]) +\" Section \" + str(filename[23:24]) + \" has been normalized\")\n",
    "            #Reduce columns to just necessary information\n",
    "            print('time is: ', time.ctime())\n",
    "\n",
    "            # insert participant id and session information from the file name\n",
    "            currentDF_raw.insert(0, \"SubjectID\", [int(filename[5:9])] * currentDF_raw.shape[0], True)\n",
    "            currentDF_raw.insert(1, \"Session\", [int(filename[17:19])] * currentDF_raw.shape[0], True)\n",
    "            currentDF_raw.insert(2, \"SessionSubsection\", [int(filename[23:24])] * currentDF_raw.shape[0], True)\n",
    "            \n",
    "            #Take out the unnecesary information\n",
    "            Reduced= currentDF_raw[Keep]\n",
    "\n",
    "            #Normalize the collider hits\n",
    "            Raycast = Reduced['rayCastHitsCombinedEyes'].explode().apply(pd.Series)\n",
    "            Combined = pd.concat([Reduced, Raycast], axis=1)\n",
    "            print('Combined')\n",
    "\n",
    "        data_raw = data_raw.append(Combined, ignore_index=True)\n",
    "        print('Appended')\n",
    "    data_raw.sort_values(by=[\"SubjectID\",\"Session\",\"SessionSubsection\"], inplace=True)\n",
    "    data_raw.to_csv(\"/Volumes/SSD/00_Data_Processing/Pre_processed/01_Indivuduals_Flat_smaller/\" + str(filename[5:9]) + \".csv\")\n",
    "    print('Saved')\n",
    "    data_raw = pd.DataFrame()"
   ]
  },
  {
   "cell_type": "code",
   "execution_count": 3,
   "id": "da2fbda5-87c6-4ef4-a63e-05feaf3aba8d",
   "metadata": {},
   "outputs": [],
   "source": [
    "filenames = glob.glob(\"/Volumes/SSD/00_Data_Processing/Pre_processed/01_Indivuduals_Flat_smaller/*.csv\")                    \n",
    "combined_csv = pd.concat( [ pd.read_csv(f) for f in filenames ])"
   ]
  },
  {
   "cell_type": "code",
   "execution_count": 5,
   "id": "429bfb17-e994-458d-9b1a-9eb8fbbe1264",
   "metadata": {},
   "outputs": [
    {
     "data": {
      "text/html": [
       "<div>\n",
       "<style scoped>\n",
       "    .dataframe tbody tr th:only-of-type {\n",
       "        vertical-align: middle;\n",
       "    }\n",
       "\n",
       "    .dataframe tbody tr th {\n",
       "        vertical-align: top;\n",
       "    }\n",
       "\n",
       "    .dataframe thead th {\n",
       "        text-align: right;\n",
       "    }\n",
       "</style>\n",
       "<table border=\"1\" class=\"dataframe\">\n",
       "  <thead>\n",
       "    <tr style=\"text-align: right;\">\n",
       "      <th></th>\n",
       "      <th>Unnamed: 0</th>\n",
       "      <th>SubjectID</th>\n",
       "      <th>Session</th>\n",
       "      <th>SessionSubsection</th>\n",
       "      <th>timeStampDataPointStart</th>\n",
       "      <th>timeStampDataPointEnd</th>\n",
       "      <th>timeStampGetVerboseData</th>\n",
       "      <th>combinedGazeValidityBitmask</th>\n",
       "      <th>rayCastHitsCombinedEyes</th>\n",
       "      <th>eyePositionCombinedWorld.x</th>\n",
       "      <th>...</th>\n",
       "      <th>bodyTrackerPosition.z</th>\n",
       "      <th>bodyTrackerRotation.x</th>\n",
       "      <th>bodyTrackerRotation.y</th>\n",
       "      <th>bodyTrackerRotation.z</th>\n",
       "      <th>0</th>\n",
       "      <th>hitColliderType</th>\n",
       "      <th>hitObjectColliderBoundsCenter</th>\n",
       "      <th>hitObjectColliderName</th>\n",
       "      <th>hitPointOnObject</th>\n",
       "      <th>ordinalOfHit</th>\n",
       "    </tr>\n",
       "  </thead>\n",
       "  <tbody>\n",
       "    <tr>\n",
       "      <th>1897596</th>\n",
       "      <td>1897596</td>\n",
       "      <td>9601</td>\n",
       "      <td>5</td>\n",
       "      <td>3</td>\n",
       "      <td>1.652798e+09</td>\n",
       "      <td>1.652798e+09</td>\n",
       "      <td>1.652798e+09</td>\n",
       "      <td>3</td>\n",
       "      <td>[{'hitPointOnObject': {'x': -295.2583618164062...</td>\n",
       "      <td>-111.037956</td>\n",
       "      <td>...</td>\n",
       "      <td>-0.122341</td>\n",
       "      <td>331.750519</td>\n",
       "      <td>255.437515</td>\n",
       "      <td>236.807922</td>\n",
       "      <td>NaN</td>\n",
       "      <td>UnityEngine.MeshCollider</td>\n",
       "      <td>{'x': -310.80328369140625, 'y': 3.311013460159...</td>\n",
       "      <td>TaskBuilding_8</td>\n",
       "      <td>{'x': -307.9334716796875, 'y': 5.1120595932006...</td>\n",
       "      <td>2.0</td>\n",
       "    </tr>\n",
       "    <tr>\n",
       "      <th>1897597</th>\n",
       "      <td>1897597</td>\n",
       "      <td>9601</td>\n",
       "      <td>5</td>\n",
       "      <td>3</td>\n",
       "      <td>1.652798e+09</td>\n",
       "      <td>1.652798e+09</td>\n",
       "      <td>1.652798e+09</td>\n",
       "      <td>3</td>\n",
       "      <td>[{'hitPointOnObject': {'x': -276.6176147460937...</td>\n",
       "      <td>-111.081200</td>\n",
       "      <td>...</td>\n",
       "      <td>-0.122575</td>\n",
       "      <td>331.776093</td>\n",
       "      <td>254.747726</td>\n",
       "      <td>236.799957</td>\n",
       "      <td>NaN</td>\n",
       "      <td>UnityEngine.MeshCollider</td>\n",
       "      <td>{'x': -291.20001220703125, 'y': 4.654793739318...</td>\n",
       "      <td>Building_213</td>\n",
       "      <td>{'x': -276.61761474609375, 'y': 5.832995891571...</td>\n",
       "      <td>1.0</td>\n",
       "    </tr>\n",
       "    <tr>\n",
       "      <th>1897598</th>\n",
       "      <td>1897598</td>\n",
       "      <td>9601</td>\n",
       "      <td>5</td>\n",
       "      <td>3</td>\n",
       "      <td>1.652798e+09</td>\n",
       "      <td>1.652798e+09</td>\n",
       "      <td>1.652798e+09</td>\n",
       "      <td>3</td>\n",
       "      <td>[{'hitPointOnObject': {'x': -276.6176147460937...</td>\n",
       "      <td>-111.081200</td>\n",
       "      <td>...</td>\n",
       "      <td>-0.122575</td>\n",
       "      <td>331.776093</td>\n",
       "      <td>254.747726</td>\n",
       "      <td>236.799957</td>\n",
       "      <td>NaN</td>\n",
       "      <td>UnityEngine.MeshCollider</td>\n",
       "      <td>{'x': -304.0008239746094, 'y': 11.011278152465...</td>\n",
       "      <td>Building_210</td>\n",
       "      <td>{'x': -300.0303955078125, 'y': 6.0868353843688...</td>\n",
       "      <td>2.0</td>\n",
       "    </tr>\n",
       "    <tr>\n",
       "      <th>1897599</th>\n",
       "      <td>1897599</td>\n",
       "      <td>9601</td>\n",
       "      <td>5</td>\n",
       "      <td>3</td>\n",
       "      <td>1.652798e+09</td>\n",
       "      <td>1.652798e+09</td>\n",
       "      <td>1.652798e+09</td>\n",
       "      <td>3</td>\n",
       "      <td>[{'hitPointOnObject': {'x': -276.6176147460937...</td>\n",
       "      <td>-111.081200</td>\n",
       "      <td>...</td>\n",
       "      <td>-0.122575</td>\n",
       "      <td>331.776093</td>\n",
       "      <td>254.747726</td>\n",
       "      <td>236.799957</td>\n",
       "      <td>NaN</td>\n",
       "      <td>UnityEngine.MeshCollider</td>\n",
       "      <td>{'x': -291.20001220703125, 'y': 4.654793739318...</td>\n",
       "      <td>Building_213</td>\n",
       "      <td>{'x': -276.61761474609375, 'y': 5.832995891571...</td>\n",
       "      <td>1.0</td>\n",
       "    </tr>\n",
       "    <tr>\n",
       "      <th>1897600</th>\n",
       "      <td>1897600</td>\n",
       "      <td>9601</td>\n",
       "      <td>5</td>\n",
       "      <td>3</td>\n",
       "      <td>1.652798e+09</td>\n",
       "      <td>1.652798e+09</td>\n",
       "      <td>1.652798e+09</td>\n",
       "      <td>3</td>\n",
       "      <td>[{'hitPointOnObject': {'x': -276.6176147460937...</td>\n",
       "      <td>-111.081200</td>\n",
       "      <td>...</td>\n",
       "      <td>-0.122575</td>\n",
       "      <td>331.776093</td>\n",
       "      <td>254.747726</td>\n",
       "      <td>236.799957</td>\n",
       "      <td>NaN</td>\n",
       "      <td>UnityEngine.MeshCollider</td>\n",
       "      <td>{'x': -304.0008239746094, 'y': 11.011278152465...</td>\n",
       "      <td>Building_210</td>\n",
       "      <td>{'x': -300.0303955078125, 'y': 6.0868353843688...</td>\n",
       "      <td>2.0</td>\n",
       "    </tr>\n",
       "  </tbody>\n",
       "</table>\n",
       "<p>5 rows × 44 columns</p>\n",
       "</div>"
      ],
      "text/plain": [
       "         Unnamed: 0  SubjectID  Session  SessionSubsection  \\\n",
       "1897596     1897596       9601        5                  3   \n",
       "1897597     1897597       9601        5                  3   \n",
       "1897598     1897598       9601        5                  3   \n",
       "1897599     1897599       9601        5                  3   \n",
       "1897600     1897600       9601        5                  3   \n",
       "\n",
       "         timeStampDataPointStart  timeStampDataPointEnd  \\\n",
       "1897596             1.652798e+09           1.652798e+09   \n",
       "1897597             1.652798e+09           1.652798e+09   \n",
       "1897598             1.652798e+09           1.652798e+09   \n",
       "1897599             1.652798e+09           1.652798e+09   \n",
       "1897600             1.652798e+09           1.652798e+09   \n",
       "\n",
       "         timeStampGetVerboseData  combinedGazeValidityBitmask  \\\n",
       "1897596             1.652798e+09                            3   \n",
       "1897597             1.652798e+09                            3   \n",
       "1897598             1.652798e+09                            3   \n",
       "1897599             1.652798e+09                            3   \n",
       "1897600             1.652798e+09                            3   \n",
       "\n",
       "                                   rayCastHitsCombinedEyes  \\\n",
       "1897596  [{'hitPointOnObject': {'x': -295.2583618164062...   \n",
       "1897597  [{'hitPointOnObject': {'x': -276.6176147460937...   \n",
       "1897598  [{'hitPointOnObject': {'x': -276.6176147460937...   \n",
       "1897599  [{'hitPointOnObject': {'x': -276.6176147460937...   \n",
       "1897600  [{'hitPointOnObject': {'x': -276.6176147460937...   \n",
       "\n",
       "         eyePositionCombinedWorld.x  ...  bodyTrackerPosition.z  \\\n",
       "1897596                 -111.037956  ...              -0.122341   \n",
       "1897597                 -111.081200  ...              -0.122575   \n",
       "1897598                 -111.081200  ...              -0.122575   \n",
       "1897599                 -111.081200  ...              -0.122575   \n",
       "1897600                 -111.081200  ...              -0.122575   \n",
       "\n",
       "         bodyTrackerRotation.x  bodyTrackerRotation.y  bodyTrackerRotation.z  \\\n",
       "1897596             331.750519             255.437515             236.807922   \n",
       "1897597             331.776093             254.747726             236.799957   \n",
       "1897598             331.776093             254.747726             236.799957   \n",
       "1897599             331.776093             254.747726             236.799957   \n",
       "1897600             331.776093             254.747726             236.799957   \n",
       "\n",
       "          0           hitColliderType  \\\n",
       "1897596 NaN  UnityEngine.MeshCollider   \n",
       "1897597 NaN  UnityEngine.MeshCollider   \n",
       "1897598 NaN  UnityEngine.MeshCollider   \n",
       "1897599 NaN  UnityEngine.MeshCollider   \n",
       "1897600 NaN  UnityEngine.MeshCollider   \n",
       "\n",
       "                             hitObjectColliderBoundsCenter  \\\n",
       "1897596  {'x': -310.80328369140625, 'y': 3.311013460159...   \n",
       "1897597  {'x': -291.20001220703125, 'y': 4.654793739318...   \n",
       "1897598  {'x': -304.0008239746094, 'y': 11.011278152465...   \n",
       "1897599  {'x': -291.20001220703125, 'y': 4.654793739318...   \n",
       "1897600  {'x': -304.0008239746094, 'y': 11.011278152465...   \n",
       "\n",
       "         hitObjectColliderName  \\\n",
       "1897596         TaskBuilding_8   \n",
       "1897597           Building_213   \n",
       "1897598           Building_210   \n",
       "1897599           Building_213   \n",
       "1897600           Building_210   \n",
       "\n",
       "                                          hitPointOnObject  ordinalOfHit  \n",
       "1897596  {'x': -307.9334716796875, 'y': 5.1120595932006...           2.0  \n",
       "1897597  {'x': -276.61761474609375, 'y': 5.832995891571...           1.0  \n",
       "1897598  {'x': -300.0303955078125, 'y': 6.0868353843688...           2.0  \n",
       "1897599  {'x': -276.61761474609375, 'y': 5.832995891571...           1.0  \n",
       "1897600  {'x': -300.0303955078125, 'y': 6.0868353843688...           2.0  \n",
       "\n",
       "[5 rows x 44 columns]"
      ]
     },
     "execution_count": 5,
     "metadata": {},
     "output_type": "execute_result"
    }
   ],
   "source": [
    "combined_csv.tail()"
   ]
  },
  {
   "cell_type": "code",
   "execution_count": 7,
   "id": "56c82ec5-9053-42fd-9c31-05fd041e4496",
   "metadata": {},
   "outputs": [],
   "source": [
    "combined_csv.to_csv(\"/Volumes/SSD/00_Data_Processing/Pre_processed/Experimen1R.csv\")"
   ]
  },
  {
   "cell_type": "code",
   "execution_count": null,
   "id": "8b406f69",
   "metadata": {
    "collapsed": false,
    "jupyter": {
     "outputs_hidden": false
    },
    "pycharm": {
     "name": "#%%\n"
    }
   },
   "outputs": [],
   "source": [
    "data_raw.rayCastHitsCombinedEyes[0]"
   ]
  },
  {
   "cell_type": "code",
   "execution_count": null,
   "id": "799b1a37-c4b0-457e-90d7-b743f2db8d54",
   "metadata": {},
   "outputs": [],
   "source": [
    "data_raw.tail(25)"
   ]
  },
  {
   "cell_type": "code",
   "execution_count": null,
   "id": "ac4aa6d6",
   "metadata": {
    "collapsed": false,
    "jupyter": {
     "outputs_hidden": false
    },
    "pycharm": {
     "name": "#%%\n"
    }
   },
   "outputs": [],
   "source": [
    "reduced_data"
   ]
  }
 ],
 "metadata": {
  "kernelspec": {
   "display_name": "Python 3",
   "language": "python",
   "name": "python3"
  },
  "language_info": {
   "codemirror_mode": {
    "name": "ipython",
    "version": 3
   },
   "file_extension": ".py",
   "mimetype": "text/x-python",
   "name": "python",
   "nbconvert_exporter": "python",
   "pygments_lexer": "ipython3",
   "version": "3.8.8"
  }
 },
 "nbformat": 4,
 "nbformat_minor": 5
}
