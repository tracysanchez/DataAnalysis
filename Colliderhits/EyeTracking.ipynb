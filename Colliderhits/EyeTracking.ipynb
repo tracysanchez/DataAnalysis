{
 "cells": [
  {
   "cell_type": "code",
   "execution_count": 75,
   "outputs": [],
   "source": [
    "# Added cell to set Working Directory to your location\n",
    "import os\n",
    "import re\n",
    "import glob\n",
    "import numpy as np\n",
    "import pandas as pd\n",
    "import json\n",
    "import time"
   ],
   "metadata": {
    "collapsed": false,
    "pycharm": {
     "name": "#%%\n"
    }
   }
  },
  {
   "cell_type": "code",
   "execution_count": 76,
   "outputs": [
    {
     "data": {
      "text/plain": "'/Volumes/SSD/Test_Exploration'"
     },
     "execution_count": 76,
     "metadata": {},
     "output_type": "execute_result"
    }
   ],
   "source": [
    "os.chdir('/Volumes/SSD/Test_Exploration/')\n",
    "os.getcwd()"
   ],
   "metadata": {
    "collapsed": false,
    "pycharm": {
     "name": "#%%\n"
    }
   }
  },
  {
   "cell_type": "code",
   "execution_count": 77,
   "outputs": [
    {
     "name": "stdout",
     "output_type": "stream",
     "text": [
      "[9502 9601]\n"
     ]
    }
   ],
   "source": [
    "data_path = '/Volumes/SSD/Test_Exploration/'\n",
    "processed_data = '/Volumes/SSD/Pre_processed'\n",
    "\n",
    "# Getting the Folder without hidden files in ascending order\n",
    "DATA_FOLDER = sorted([f for f in os.listdir(data_path) if not f.startswith('.')], key=str.lower)\n",
    "PROCESSED_DATA_FOLDER = sorted([f for f in os.listdir(processed_data) if not f.startswith('.')], key=str.lower)\n",
    "subIDs = []\n",
    "for sub in DATA_FOLDER:\n",
    "    if sub[0:4].isdigit():\n",
    "        subIDs.append(int(sub[0:4]))\n",
    "    else:\n",
    "        pass\n",
    "subIDs = np.unique(subIDs)\n",
    "print(subIDs)"
   ],
   "metadata": {
    "collapsed": false,
    "pycharm": {
     "name": "#%%\n"
    }
   }
  },
  {
   "cell_type": "code",
   "execution_count": 78,
   "outputs": [],
   "source": [
    "# Columns to keep from the raw data.\n",
    "cols_to_keep = ['timeStampDataPointStart', 'timeStampDataPointEnd', 'combinedGazeValidityBitmask', 'rayCastHitsCombinedEyes', 'hmdPosition.x', 'hmdPosition.y',\n",
    "                'hmdPosition.z', 'hmdDirectionForward.x', 'hmdDirectionForward.y', 'hmdDirectionForward.z', 'hmdDirectionRight.x', 'hmdDirectionRight.y',\n",
    "                'bodyTrackerRotation.x', 'bodyTrackerRotation.y','bodyTrackerRotation.z','playerBodyPosition.x', 'playerBodyPosition.y', 'playerBodyPosition.z']"
   ],
   "metadata": {
    "collapsed": false,
    "pycharm": {
     "name": "#%%\n"
    }
   }
  },
  {
   "cell_type": "code",
   "execution_count": 79,
   "outputs": [
    {
     "name": "stdout",
     "output_type": "stream",
     "text": [
      "Subject 9502 Session 01 Section 1 has been normalized\n",
      "\n",
      "time is:  Tue Nov 22 16:18:34 2022\n",
      "Subject 9502 Session 01 Section 2 has been normalized\n",
      "\n",
      "time is:  Tue Nov 22 16:19:40 2022\n",
      "Subject 9502 Session 01 Section 3 has been normalized\n",
      "\n",
      "time is:  Tue Nov 22 16:21:12 2022\n",
      "Subject 9502 Session 02 Section 1 has been normalized\n",
      "\n",
      "time is:  Tue Nov 22 16:22:09 2022\n",
      "Subject 9502 Session 02 Section 2 has been normalized\n",
      "\n",
      "time is:  Tue Nov 22 16:23:43 2022\n",
      "Subject 9502 Session 02 Section 3 has been normalized\n",
      "\n",
      "time is:  Tue Nov 22 16:24:44 2022\n",
      "Subject 9502 Session 03 Section 1 has been normalized\n",
      "\n",
      "time is:  Tue Nov 22 16:26:23 2022\n",
      "Subject 9502 Session 03 Section 2 has been normalized\n",
      "\n",
      "time is:  Tue Nov 22 16:27:26 2022\n",
      "Subject 9502 Session 03 Section 3 has been normalized\n",
      "\n",
      "time is:  Tue Nov 22 16:28:24 2022\n",
      "Subject 9502 Session 05 Section 1 has been normalized\n",
      "\n",
      "time is:  Tue Nov 22 16:30:20 2022\n",
      "Subject 9502 Session 05 Section 2 has been normalized\n",
      "\n",
      "time is:  Tue Nov 22 16:31:23 2022\n",
      "Subject 9502 Session 05 Section 3 has been normalized\n",
      "\n",
      "time is:  Tue Nov 22 16:33:16 2022\n"
     ]
    },
    {
     "data": {
      "text/plain": "        SubjectID  Session  SessionSubsection  timeStampDataPointStart  \\\n871885       9502        5                  3             1.642413e+09   \n871886       9502        5                  3             1.642413e+09   \n871887       9502        5                  3             1.642413e+09   \n871888       9502        5                  3             1.642413e+09   \n871889       9502        5                  3             1.642413e+09   \n871890       9502        5                  3             1.642413e+09   \n871891       9502        5                  3             1.642413e+09   \n871892       9502        5                  3             1.642413e+09   \n\n        timeStampDataPointEnd  combinedGazeValidityBitmask  \\\n871885           1.642413e+09                            0   \n871886           1.642413e+09                            0   \n871887           1.642413e+09                            0   \n871888           1.642413e+09                            0   \n871889           1.642413e+09                            0   \n871890           1.642413e+09                            0   \n871891           1.642413e+09                            0   \n871892           1.642413e+09                            0   \n\n                                  rayCastHitsCombinedEyes  hmdPosition.x  \\\n871885  [{'hitPointOnObject': {'x': 151.92788696289062...     153.775696   \n871886  [{'hitPointOnObject': {'x': 151.92788696289062...     153.775696   \n871887  [{'hitPointOnObject': {'x': 152.06619262695312...     153.885284   \n871888  [{'hitPointOnObject': {'x': 152.06619262695312...     153.885284   \n871889  [{'hitPointOnObject': {'x': 152.1302490234375,...     153.939178   \n871890  [{'hitPointOnObject': {'x': 152.1302490234375,...     153.939178   \n871891  [{'hitPointOnObject': {'x': 152.26010131835938...     154.047333   \n871892  [{'hitPointOnObject': {'x': 152.26010131835938...     154.047333   \n\n        hmdPosition.y  hmdPosition.z  ...  hmdDirectionForward.y  \\\n871885      -0.465540     192.369095  ...               0.044451   \n871886      -0.465540     192.369095  ...               0.044451   \n871887      -0.466940     192.391266  ...               0.044226   \n871888      -0.466940     192.391266  ...               0.044226   \n871889      -0.467630     192.402618  ...               0.043607   \n871890      -0.467630     192.402618  ...               0.043607   \n871891      -0.469107     192.425903  ...               0.043262   \n871892      -0.469107     192.425903  ...               0.043262   \n\n        hmdDirectionForward.z  hmdDirectionRight.x  hmdDirectionRight.y  \\\n871885              -0.142243            -0.142101            -0.006356   \n871886              -0.142243            -0.142101            -0.006356   \n871887              -0.131318            -0.130856            -0.013195   \n871888              -0.131318            -0.130856            -0.013195   \n871889              -0.125590            -0.125039            -0.015165   \n871890              -0.125590            -0.125039            -0.015165   \n871891              -0.112815            -0.112165            -0.017175   \n871892              -0.112815            -0.112165            -0.017175   \n\n        bodyTrackerRotation.x  bodyTrackerRotation.y  bodyTrackerRotation.z  \\\n871885               9.006854             150.345978              77.431824   \n871886               9.006854             150.345978              77.431824   \n871887               8.994278             149.831802              77.414742   \n871888               8.994278             149.831802              77.414742   \n871889               8.974574             149.552902              77.411087   \n871890               8.974574             149.552902              77.411087   \n871891               8.927589             149.010773              77.394592   \n871892               8.927589             149.010773              77.394592   \n\n        playerBodyPosition.x  playerBodyPosition.y  playerBodyPosition.z  \n871885            153.746460             -1.971965            192.545502  \n871886            153.746460             -1.971965            192.545502  \n871887            153.852524             -1.973292            192.566711  \n871888            153.852524             -1.973292            192.566711  \n871889            153.907364             -1.974014            192.578033  \n871890            153.907364             -1.974014            192.578033  \n871891            154.016724             -1.975469            192.601425  \n871892            154.016724             -1.975469            192.601425  \n\n[8 rows x 21 columns]",
      "text/html": "<div>\n<style scoped>\n    .dataframe tbody tr th:only-of-type {\n        vertical-align: middle;\n    }\n\n    .dataframe tbody tr th {\n        vertical-align: top;\n    }\n\n    .dataframe thead th {\n        text-align: right;\n    }\n</style>\n<table border=\"1\" class=\"dataframe\">\n  <thead>\n    <tr style=\"text-align: right;\">\n      <th></th>\n      <th>SubjectID</th>\n      <th>Session</th>\n      <th>SessionSubsection</th>\n      <th>timeStampDataPointStart</th>\n      <th>timeStampDataPointEnd</th>\n      <th>combinedGazeValidityBitmask</th>\n      <th>rayCastHitsCombinedEyes</th>\n      <th>hmdPosition.x</th>\n      <th>hmdPosition.y</th>\n      <th>hmdPosition.z</th>\n      <th>...</th>\n      <th>hmdDirectionForward.y</th>\n      <th>hmdDirectionForward.z</th>\n      <th>hmdDirectionRight.x</th>\n      <th>hmdDirectionRight.y</th>\n      <th>bodyTrackerRotation.x</th>\n      <th>bodyTrackerRotation.y</th>\n      <th>bodyTrackerRotation.z</th>\n      <th>playerBodyPosition.x</th>\n      <th>playerBodyPosition.y</th>\n      <th>playerBodyPosition.z</th>\n    </tr>\n  </thead>\n  <tbody>\n    <tr>\n      <th>871885</th>\n      <td>9502</td>\n      <td>5</td>\n      <td>3</td>\n      <td>1.642413e+09</td>\n      <td>1.642413e+09</td>\n      <td>0</td>\n      <td>[{'hitPointOnObject': {'x': 151.92788696289062...</td>\n      <td>153.775696</td>\n      <td>-0.465540</td>\n      <td>192.369095</td>\n      <td>...</td>\n      <td>0.044451</td>\n      <td>-0.142243</td>\n      <td>-0.142101</td>\n      <td>-0.006356</td>\n      <td>9.006854</td>\n      <td>150.345978</td>\n      <td>77.431824</td>\n      <td>153.746460</td>\n      <td>-1.971965</td>\n      <td>192.545502</td>\n    </tr>\n    <tr>\n      <th>871886</th>\n      <td>9502</td>\n      <td>5</td>\n      <td>3</td>\n      <td>1.642413e+09</td>\n      <td>1.642413e+09</td>\n      <td>0</td>\n      <td>[{'hitPointOnObject': {'x': 151.92788696289062...</td>\n      <td>153.775696</td>\n      <td>-0.465540</td>\n      <td>192.369095</td>\n      <td>...</td>\n      <td>0.044451</td>\n      <td>-0.142243</td>\n      <td>-0.142101</td>\n      <td>-0.006356</td>\n      <td>9.006854</td>\n      <td>150.345978</td>\n      <td>77.431824</td>\n      <td>153.746460</td>\n      <td>-1.971965</td>\n      <td>192.545502</td>\n    </tr>\n    <tr>\n      <th>871887</th>\n      <td>9502</td>\n      <td>5</td>\n      <td>3</td>\n      <td>1.642413e+09</td>\n      <td>1.642413e+09</td>\n      <td>0</td>\n      <td>[{'hitPointOnObject': {'x': 152.06619262695312...</td>\n      <td>153.885284</td>\n      <td>-0.466940</td>\n      <td>192.391266</td>\n      <td>...</td>\n      <td>0.044226</td>\n      <td>-0.131318</td>\n      <td>-0.130856</td>\n      <td>-0.013195</td>\n      <td>8.994278</td>\n      <td>149.831802</td>\n      <td>77.414742</td>\n      <td>153.852524</td>\n      <td>-1.973292</td>\n      <td>192.566711</td>\n    </tr>\n    <tr>\n      <th>871888</th>\n      <td>9502</td>\n      <td>5</td>\n      <td>3</td>\n      <td>1.642413e+09</td>\n      <td>1.642413e+09</td>\n      <td>0</td>\n      <td>[{'hitPointOnObject': {'x': 152.06619262695312...</td>\n      <td>153.885284</td>\n      <td>-0.466940</td>\n      <td>192.391266</td>\n      <td>...</td>\n      <td>0.044226</td>\n      <td>-0.131318</td>\n      <td>-0.130856</td>\n      <td>-0.013195</td>\n      <td>8.994278</td>\n      <td>149.831802</td>\n      <td>77.414742</td>\n      <td>153.852524</td>\n      <td>-1.973292</td>\n      <td>192.566711</td>\n    </tr>\n    <tr>\n      <th>871889</th>\n      <td>9502</td>\n      <td>5</td>\n      <td>3</td>\n      <td>1.642413e+09</td>\n      <td>1.642413e+09</td>\n      <td>0</td>\n      <td>[{'hitPointOnObject': {'x': 152.1302490234375,...</td>\n      <td>153.939178</td>\n      <td>-0.467630</td>\n      <td>192.402618</td>\n      <td>...</td>\n      <td>0.043607</td>\n      <td>-0.125590</td>\n      <td>-0.125039</td>\n      <td>-0.015165</td>\n      <td>8.974574</td>\n      <td>149.552902</td>\n      <td>77.411087</td>\n      <td>153.907364</td>\n      <td>-1.974014</td>\n      <td>192.578033</td>\n    </tr>\n    <tr>\n      <th>871890</th>\n      <td>9502</td>\n      <td>5</td>\n      <td>3</td>\n      <td>1.642413e+09</td>\n      <td>1.642413e+09</td>\n      <td>0</td>\n      <td>[{'hitPointOnObject': {'x': 152.1302490234375,...</td>\n      <td>153.939178</td>\n      <td>-0.467630</td>\n      <td>192.402618</td>\n      <td>...</td>\n      <td>0.043607</td>\n      <td>-0.125590</td>\n      <td>-0.125039</td>\n      <td>-0.015165</td>\n      <td>8.974574</td>\n      <td>149.552902</td>\n      <td>77.411087</td>\n      <td>153.907364</td>\n      <td>-1.974014</td>\n      <td>192.578033</td>\n    </tr>\n    <tr>\n      <th>871891</th>\n      <td>9502</td>\n      <td>5</td>\n      <td>3</td>\n      <td>1.642413e+09</td>\n      <td>1.642413e+09</td>\n      <td>0</td>\n      <td>[{'hitPointOnObject': {'x': 152.26010131835938...</td>\n      <td>154.047333</td>\n      <td>-0.469107</td>\n      <td>192.425903</td>\n      <td>...</td>\n      <td>0.043262</td>\n      <td>-0.112815</td>\n      <td>-0.112165</td>\n      <td>-0.017175</td>\n      <td>8.927589</td>\n      <td>149.010773</td>\n      <td>77.394592</td>\n      <td>154.016724</td>\n      <td>-1.975469</td>\n      <td>192.601425</td>\n    </tr>\n    <tr>\n      <th>871892</th>\n      <td>9502</td>\n      <td>5</td>\n      <td>3</td>\n      <td>1.642413e+09</td>\n      <td>1.642413e+09</td>\n      <td>0</td>\n      <td>[{'hitPointOnObject': {'x': 152.26010131835938...</td>\n      <td>154.047333</td>\n      <td>-0.469107</td>\n      <td>192.425903</td>\n      <td>...</td>\n      <td>0.043262</td>\n      <td>-0.112815</td>\n      <td>-0.112165</td>\n      <td>-0.017175</td>\n      <td>8.927589</td>\n      <td>149.010773</td>\n      <td>77.394592</td>\n      <td>154.016724</td>\n      <td>-1.975469</td>\n      <td>192.601425</td>\n    </tr>\n  </tbody>\n</table>\n<p>8 rows × 21 columns</p>\n</div>"
     },
     "execution_count": 79,
     "metadata": {},
     "output_type": "execute_result"
    }
   ],
   "source": [
    "path= \"9502/*.json\"\n",
    "\n",
    "# create empty dataframe\n",
    "data_raw = pd.DataFrame()\n",
    "\n",
    "# read every file name in folder\n",
    "for filename in glob.glob(path):\n",
    "    with open(filename, 'r') as file:\n",
    "\n",
    "        # make json files parsable\n",
    "        data = \"[\" + file.read()\n",
    "        data = data[:len(data)] + \"]\"\n",
    "        raw = json.loads(data)\n",
    "\n",
    "        # Uneast the higher level of each file\n",
    "        currentDF_raw = pd.json_normalize(raw[0]['trials'][0]['dataPoints'])\n",
    "        print( \"Subject \" + str(filename[5:9]) + \" Session \" + str(filename[17:19]) +\" Section \" + str(filename[23:24]) + \" has been normalized\")\n",
    "        print()\n",
    "        #Reduce columns to just necessary information\n",
    "        reduced_data = currentDF_raw.loc[:, cols_to_keep]\n",
    "        print('time is: ', time.ctime())\n",
    "\n",
    "        # insert participant id and session information from the file name\n",
    "        reduced_data.insert(0, \"SubjectID\", [int(filename[5:9])] * reduced_data.shape[0], True)\n",
    "        reduced_data.insert(1, \"Session\", [int(filename[17:19])] * reduced_data.shape[0], True)\n",
    "        reduced_data.insert(2, \"SessionSubsection\", [int(filename[23:24])] * reduced_data.shape[0], True)\n",
    "    data_raw = data_raw.append(reduced_data, ignore_index=True)\n",
    "\n",
    "participant_flat  = data_raw.to_csv('/Users/tracysanchezpacheco/Documents/participant_flat.csv')\n",
    "data_raw.tail(8)"
   ],
   "metadata": {
    "collapsed": false,
    "pycharm": {
     "name": "#%%\n"
    }
   }
  },
  {
   "cell_type": "code",
   "execution_count": 80,
   "outputs": [
    {
     "data": {
      "text/plain": "   SubjectID  Session  SessionSubsection  timeStampDataPointStart  \\\n0       9502        1                  1             1.641807e+09   \n1       9502        1                  1             1.641807e+09   \n2       9502        1                  1             1.641807e+09   \n3       9502        1                  1             1.641807e+09   \n4       9502        1                  1             1.641807e+09   \n5       9502        1                  1             1.641807e+09   \n6       9502        1                  1             1.641807e+09   \n7       9502        1                  1             1.641807e+09   \n\n   timeStampDataPointEnd  combinedGazeValidityBitmask  \\\n0           1.641807e+09                            3   \n1           1.641807e+09                            3   \n2           1.641807e+09                            3   \n3           1.641807e+09                            3   \n4           1.641807e+09                            3   \n5           1.641807e+09                            3   \n6           1.641807e+09                            3   \n7           1.641807e+09                            3   \n\n                             rayCastHitsCombinedEyes  hmdPosition.x  \\\n0  [{'hitPointOnObject': {'x': -61.68852233886719...     -59.127670   \n1  [{'hitPointOnObject': {'x': -61.68852233886719...     -59.127670   \n2  [{'hitPointOnObject': {'x': -62.1046142578125,...     -59.127579   \n3  [{'hitPointOnObject': {'x': -62.09089279174805...     -59.127518   \n4  [{'hitPointOnObject': {'x': -61.70550537109375...     -59.127396   \n5  [{'hitPointOnObject': {'x': -61.69138717651367...     -59.127335   \n6  [{'hitPointOnObject': {'x': -61.72319412231445...     -59.127243   \n7  [{'hitPointOnObject': {'x': -61.71515274047851...     -59.127121   \n\n   hmdPosition.y  hmdPosition.z  ...  hmdDirectionForward.y  \\\n0       2.390356      34.883820  ...              -0.075769   \n1       2.390356      34.883820  ...              -0.075769   \n2       2.390353      34.883728  ...              -0.076070   \n3       2.390296      34.883667  ...              -0.076334   \n4       2.390284      34.883629  ...              -0.076719   \n5       2.390255      34.883652  ...              -0.077161   \n6       2.390241      34.883652  ...              -0.077444   \n7       2.390223      34.883598  ...              -0.077661   \n\n   hmdDirectionForward.z  hmdDirectionRight.x  hmdDirectionRight.y  \\\n0               0.949628             0.951896             0.015380   \n1               0.949628             0.951896             0.015380   \n2               0.949948             0.952237             0.015410   \n3               0.950208             0.952522             0.015276   \n4               0.950395             0.952729             0.015499   \n5               0.950594             0.952957             0.015568   \n6               0.950816             0.953182             0.016057   \n7               0.951079             0.953442             0.016551   \n\n   bodyTrackerRotation.x  bodyTrackerRotation.y  bodyTrackerRotation.z  \\\n0               8.240637             353.589417             230.976227   \n1               8.240637             353.589417             230.976227   \n2               8.206250             353.592896             230.982269   \n3               8.168610             353.600677             230.979294   \n4               8.153703             353.611572             230.982788   \n5               8.146846             353.616547             230.982849   \n6               8.139498             353.635437             230.987656   \n7               8.122176             353.634399             230.974442   \n\n   playerBodyPosition.x  playerBodyPosition.y  playerBodyPosition.z  \n0            -59.099869              0.858863             34.795731  \n1            -59.099869              0.858863             34.795731  \n2            -59.099869              0.858863             34.795731  \n3            -59.099869              0.858863             34.795731  \n4            -59.099869              0.858863             34.795731  \n5            -59.099869              0.858863             34.795731  \n6            -59.099869              0.858863             34.795731  \n7            -59.099869              0.858863             34.795731  \n\n[8 rows x 21 columns]",
      "text/html": "<div>\n<style scoped>\n    .dataframe tbody tr th:only-of-type {\n        vertical-align: middle;\n    }\n\n    .dataframe tbody tr th {\n        vertical-align: top;\n    }\n\n    .dataframe thead th {\n        text-align: right;\n    }\n</style>\n<table border=\"1\" class=\"dataframe\">\n  <thead>\n    <tr style=\"text-align: right;\">\n      <th></th>\n      <th>SubjectID</th>\n      <th>Session</th>\n      <th>SessionSubsection</th>\n      <th>timeStampDataPointStart</th>\n      <th>timeStampDataPointEnd</th>\n      <th>combinedGazeValidityBitmask</th>\n      <th>rayCastHitsCombinedEyes</th>\n      <th>hmdPosition.x</th>\n      <th>hmdPosition.y</th>\n      <th>hmdPosition.z</th>\n      <th>...</th>\n      <th>hmdDirectionForward.y</th>\n      <th>hmdDirectionForward.z</th>\n      <th>hmdDirectionRight.x</th>\n      <th>hmdDirectionRight.y</th>\n      <th>bodyTrackerRotation.x</th>\n      <th>bodyTrackerRotation.y</th>\n      <th>bodyTrackerRotation.z</th>\n      <th>playerBodyPosition.x</th>\n      <th>playerBodyPosition.y</th>\n      <th>playerBodyPosition.z</th>\n    </tr>\n  </thead>\n  <tbody>\n    <tr>\n      <th>0</th>\n      <td>9502</td>\n      <td>1</td>\n      <td>1</td>\n      <td>1.641807e+09</td>\n      <td>1.641807e+09</td>\n      <td>3</td>\n      <td>[{'hitPointOnObject': {'x': -61.68852233886719...</td>\n      <td>-59.127670</td>\n      <td>2.390356</td>\n      <td>34.883820</td>\n      <td>...</td>\n      <td>-0.075769</td>\n      <td>0.949628</td>\n      <td>0.951896</td>\n      <td>0.015380</td>\n      <td>8.240637</td>\n      <td>353.589417</td>\n      <td>230.976227</td>\n      <td>-59.099869</td>\n      <td>0.858863</td>\n      <td>34.795731</td>\n    </tr>\n    <tr>\n      <th>1</th>\n      <td>9502</td>\n      <td>1</td>\n      <td>1</td>\n      <td>1.641807e+09</td>\n      <td>1.641807e+09</td>\n      <td>3</td>\n      <td>[{'hitPointOnObject': {'x': -61.68852233886719...</td>\n      <td>-59.127670</td>\n      <td>2.390356</td>\n      <td>34.883820</td>\n      <td>...</td>\n      <td>-0.075769</td>\n      <td>0.949628</td>\n      <td>0.951896</td>\n      <td>0.015380</td>\n      <td>8.240637</td>\n      <td>353.589417</td>\n      <td>230.976227</td>\n      <td>-59.099869</td>\n      <td>0.858863</td>\n      <td>34.795731</td>\n    </tr>\n    <tr>\n      <th>2</th>\n      <td>9502</td>\n      <td>1</td>\n      <td>1</td>\n      <td>1.641807e+09</td>\n      <td>1.641807e+09</td>\n      <td>3</td>\n      <td>[{'hitPointOnObject': {'x': -62.1046142578125,...</td>\n      <td>-59.127579</td>\n      <td>2.390353</td>\n      <td>34.883728</td>\n      <td>...</td>\n      <td>-0.076070</td>\n      <td>0.949948</td>\n      <td>0.952237</td>\n      <td>0.015410</td>\n      <td>8.206250</td>\n      <td>353.592896</td>\n      <td>230.982269</td>\n      <td>-59.099869</td>\n      <td>0.858863</td>\n      <td>34.795731</td>\n    </tr>\n    <tr>\n      <th>3</th>\n      <td>9502</td>\n      <td>1</td>\n      <td>1</td>\n      <td>1.641807e+09</td>\n      <td>1.641807e+09</td>\n      <td>3</td>\n      <td>[{'hitPointOnObject': {'x': -62.09089279174805...</td>\n      <td>-59.127518</td>\n      <td>2.390296</td>\n      <td>34.883667</td>\n      <td>...</td>\n      <td>-0.076334</td>\n      <td>0.950208</td>\n      <td>0.952522</td>\n      <td>0.015276</td>\n      <td>8.168610</td>\n      <td>353.600677</td>\n      <td>230.979294</td>\n      <td>-59.099869</td>\n      <td>0.858863</td>\n      <td>34.795731</td>\n    </tr>\n    <tr>\n      <th>4</th>\n      <td>9502</td>\n      <td>1</td>\n      <td>1</td>\n      <td>1.641807e+09</td>\n      <td>1.641807e+09</td>\n      <td>3</td>\n      <td>[{'hitPointOnObject': {'x': -61.70550537109375...</td>\n      <td>-59.127396</td>\n      <td>2.390284</td>\n      <td>34.883629</td>\n      <td>...</td>\n      <td>-0.076719</td>\n      <td>0.950395</td>\n      <td>0.952729</td>\n      <td>0.015499</td>\n      <td>8.153703</td>\n      <td>353.611572</td>\n      <td>230.982788</td>\n      <td>-59.099869</td>\n      <td>0.858863</td>\n      <td>34.795731</td>\n    </tr>\n    <tr>\n      <th>5</th>\n      <td>9502</td>\n      <td>1</td>\n      <td>1</td>\n      <td>1.641807e+09</td>\n      <td>1.641807e+09</td>\n      <td>3</td>\n      <td>[{'hitPointOnObject': {'x': -61.69138717651367...</td>\n      <td>-59.127335</td>\n      <td>2.390255</td>\n      <td>34.883652</td>\n      <td>...</td>\n      <td>-0.077161</td>\n      <td>0.950594</td>\n      <td>0.952957</td>\n      <td>0.015568</td>\n      <td>8.146846</td>\n      <td>353.616547</td>\n      <td>230.982849</td>\n      <td>-59.099869</td>\n      <td>0.858863</td>\n      <td>34.795731</td>\n    </tr>\n    <tr>\n      <th>6</th>\n      <td>9502</td>\n      <td>1</td>\n      <td>1</td>\n      <td>1.641807e+09</td>\n      <td>1.641807e+09</td>\n      <td>3</td>\n      <td>[{'hitPointOnObject': {'x': -61.72319412231445...</td>\n      <td>-59.127243</td>\n      <td>2.390241</td>\n      <td>34.883652</td>\n      <td>...</td>\n      <td>-0.077444</td>\n      <td>0.950816</td>\n      <td>0.953182</td>\n      <td>0.016057</td>\n      <td>8.139498</td>\n      <td>353.635437</td>\n      <td>230.987656</td>\n      <td>-59.099869</td>\n      <td>0.858863</td>\n      <td>34.795731</td>\n    </tr>\n    <tr>\n      <th>7</th>\n      <td>9502</td>\n      <td>1</td>\n      <td>1</td>\n      <td>1.641807e+09</td>\n      <td>1.641807e+09</td>\n      <td>3</td>\n      <td>[{'hitPointOnObject': {'x': -61.71515274047851...</td>\n      <td>-59.127121</td>\n      <td>2.390223</td>\n      <td>34.883598</td>\n      <td>...</td>\n      <td>-0.077661</td>\n      <td>0.951079</td>\n      <td>0.953442</td>\n      <td>0.016551</td>\n      <td>8.122176</td>\n      <td>353.634399</td>\n      <td>230.974442</td>\n      <td>-59.099869</td>\n      <td>0.858863</td>\n      <td>34.795731</td>\n    </tr>\n  </tbody>\n</table>\n<p>8 rows × 21 columns</p>\n</div>"
     },
     "execution_count": 80,
     "metadata": {},
     "output_type": "execute_result"
    }
   ],
   "source": [
    "data_raw.head(8)"
   ],
   "metadata": {
    "collapsed": false,
    "pycharm": {
     "name": "#%%\n"
    }
   }
  },
  {
   "cell_type": "code",
   "execution_count": 81,
   "outputs": [
    {
     "data": {
      "text/plain": "(871893, 21)"
     },
     "execution_count": 81,
     "metadata": {},
     "output_type": "execute_result"
    }
   ],
   "source": [
    "data_raw.shape"
   ],
   "metadata": {
    "collapsed": false,
    "pycharm": {
     "name": "#%%\n"
    }
   }
  },
  {
   "cell_type": "code",
   "execution_count": 82,
   "outputs": [],
   "source": [
    "exploded = reduced_data['rayCastHitsCombinedEyes'].explode().apply(pd.Series)"
   ],
   "metadata": {
    "collapsed": false,
    "pycharm": {
     "name": "#%%\n"
    }
   }
  },
  {
   "cell_type": "code",
   "execution_count": 83,
   "outputs": [],
   "source": [
    "emptyDF1 = pd.DataFrame(np.nan,index=[0], columns= columns1)\n",
    "emptyDF2 = pd.DataFrame(np.nan,index=[0], columns= columns2)"
   ],
   "metadata": {
    "collapsed": false,
    "pycharm": {
     "name": "#%%\n"
    }
   }
  },
  {
   "cell_type": "code",
   "execution_count": 84,
   "outputs": [
    {
     "name": "stdout",
     "output_type": "stream",
     "text": [
      "Subject 9502 started - 1/2 subjects\n"
     ]
    },
    {
     "ename": "NameError",
     "evalue": "name 'DATA_PATH' is not defined",
     "output_type": "error",
     "traceback": [
      "\u001B[0;31m---------------------------------------------------------------------------\u001B[0m",
      "\u001B[0;31mNameError\u001B[0m                                 Traceback (most recent call last)",
      "\u001B[0;32m<ipython-input-84-70161f5963ff>\u001B[0m in \u001B[0;36m<module>\u001B[0;34m\u001B[0m\n\u001B[1;32m     16\u001B[0m \u001B[0;34m\u001B[0m\u001B[0m\n\u001B[1;32m     17\u001B[0m     \u001B[0;31m# change dir into the subject folder\u001B[0m\u001B[0;34m\u001B[0m\u001B[0;34m\u001B[0m\u001B[0;34m\u001B[0m\u001B[0m\n\u001B[0;32m---> 18\u001B[0;31m     \u001B[0mCURRENT_SUBJECT_FOLDER\u001B[0m \u001B[0;34m=\u001B[0m \u001B[0msorted\u001B[0m\u001B[0;34m(\u001B[0m\u001B[0;34m[\u001B[0m\u001B[0mf\u001B[0m \u001B[0;32mfor\u001B[0m \u001B[0mf\u001B[0m \u001B[0;32min\u001B[0m \u001B[0mos\u001B[0m\u001B[0;34m.\u001B[0m\u001B[0mlistdir\u001B[0m\u001B[0;34m(\u001B[0m\u001B[0mDATA_PATH\u001B[0m\u001B[0;34m+\u001B[0m\u001B[0mstr\u001B[0m\u001B[0;34m(\u001B[0m\u001B[0msubject\u001B[0m\u001B[0;34m)\u001B[0m\u001B[0;34m)\u001B[0m\u001B[0;34m]\u001B[0m\u001B[0;34m,\u001B[0m \u001B[0mkey\u001B[0m\u001B[0;34m=\u001B[0m\u001B[0mstr\u001B[0m\u001B[0;34m.\u001B[0m\u001B[0mlower\u001B[0m\u001B[0;34m)\u001B[0m\u001B[0;34m\u001B[0m\u001B[0;34m\u001B[0m\u001B[0m\n\u001B[0m\u001B[1;32m     19\u001B[0m     \u001B[0;31m# get the data files according to the subject, ignoring OnQuit files\u001B[0m\u001B[0;34m\u001B[0m\u001B[0;34m\u001B[0m\u001B[0;34m\u001B[0m\u001B[0m\n\u001B[1;32m     20\u001B[0m     subject_files = sorted([f for f in CURRENT_SUBJECT_FOLDER\n",
      "\u001B[0;31mNameError\u001B[0m: name 'DATA_PATH' is not defined"
     ]
    }
   ],
   "source": [
    "# data loop through all subjects and sessions\n",
    "subcount = 0\n",
    "for subject in subIDs:\n",
    "    subcount +=1\n",
    "    print('Subject '\n",
    "          + str(subject)\n",
    "          + ' started - '\n",
    "          + str(subcount)\n",
    "          + '/'\n",
    "          + str(len(subIDs))\n",
    "          + ' subjects')\n",
    "    #     # Create empty dataframe for later concatenation\n",
    "    # complete_exploration_df = pd.DataFrame(columns = col_names)\n",
    "    #     complete_exploration_df.head()\n",
    "\n",
    "\n",
    "    # change dir into the subject folder\n",
    "    CURRENT_SUBJECT_FOLDER = sorted([f for f in os.listdir(DATA_PATH+str(subject))], key=str.lower)\n",
    "    # get the data files according to the subject, ignoring OnQuit files\n",
    "    subject_files = sorted([f for f in CURRENT_SUBJECT_FOLDER\n",
    "                            if f.startswith(str(subject)+'_Expl_S_') and f.endswith(\"OnQuit.json\") == False],\n",
    "                           key=str.lower)\n",
    "\n",
    "    # the following works as long as the data name format is as follows:\n",
    "    # 'subjectID'_Expl_S_'SessionNumber'_ET_'EyeTrackingSessionNumber'_'UnixTimestamp'.json\n",
    "    folder_files = list()\n",
    "\n",
    "    # loop through the subject folder and save all numbers\n",
    "    for file in subject_files:\n",
    "        folder_files.append(re.findall(r'\\d+', file))\n",
    "\n",
    "    # Extract all SubIDs (only one), SessionNumbers, ET_SessionNumbers (and Timestamps)\n",
    "    try:\n",
    "        SubID, SessionNumbers, ET_SessionNumbers, UnixTimestamp1, UnixTimeStamp2 = map(list, zip(*folder_files))\n",
    "    except:\n",
    "        print('\\tSubject '\n",
    "              + str(subject)\n",
    "              + ' Filename is not valid!')\n",
    "\n",
    "    #     print(SubID)\n",
    "    #     print(SessionNumbers)\n",
    "    #     print(ET_SessionNumbers)\n",
    "    #     print(UnixTimestamp1)\n",
    "    #     print(UnixTimeStamp2)\n",
    "\n",
    "    session_number = int(max(SessionNumbers)) # the maximum session number of the particular subject\n",
    "    ET_session_number = int(max(ET_SessionNumbers)) # the maximum ET session number of the particular subject\n",
    "\n",
    "\n",
    "    # print info of how many files were found\n",
    "\n",
    "    print(len(SubID), ' files were found for participant ', SubID[0])\n",
    "    print('A maximum of ', session_number, 'sessions were found and will be processed')\n",
    "\n",
    "    # --------- second layer - exploration session loop ---------\n",
    "\n",
    "    # loop over exploration sessions\n",
    "    for EXP_session in range(session_number):\n",
    "        # to avoid start at 0\n",
    "        EXP_session +=1\n",
    "\n",
    "        # extract the exploration data files for each session - but exclude OnQuit files\n",
    "        subject_data = sorted([f for f in CURRENT_SUBJECT_FOLDER if f.startswith(str(subject) + '_Expl_S_')\n",
    "                               and f.endswith(\"OnQuit.json\") == False], key=str.lower)\n",
    "\n",
    "\n",
    "        print(\"\\tTotal Sessionfiles: \"\n",
    "              + str(len(subject_data))\n",
    "              + \" - Exploration Session \"\n",
    "              + str(EXP_session))\n",
    "\n",
    "        ET_session_count = 0 # session count\n",
    "        # --------- third layer - eye tracking session loop ---------\n",
    "\n",
    "        # loop over separate eye tracking sessions\n",
    "        for fileName in subject_data:\n",
    "            ET_session_count+=1\n",
    "\n",
    "            print('load data of file ', fileName)\n",
    "\n",
    "            print('Path: ', DATA_PATH + str(subject) + '/' + fileName)\n",
    "            # open the JSON file as dictionary\n",
    "            with open(DATA_PATH + str(subject) + '/' + fileName) as datafile:\n",
    "                try:\n",
    "                    print(\"read file\")\n",
    "                    dataR = '['+ datafile.read()\n",
    "                    dataR = dataR[:len(dataR)] + \"]\"\n",
    "                except:\n",
    "                    print(\"reading did not work\")\n",
    "\n",
    "                subject_session = json.loads(dataR)\n",
    "                print(\"data loaded\")\n",
    "                print('time is: ', time.ctime())\n",
    "\n",
    "\n",
    "\n",
    "            ##################################################################################################################\n",
    "\n",
    "            # Data flattening part:\n",
    "            # first save the overall trial information\n",
    "\n",
    "\n",
    "            infoDF = pd.json_normalize(subject_session[0]['trials'][0])\n",
    "            infoDF = infoDF.drop(columns=['dataPoints'])\n",
    "            infoDF.insert(0,'FileInfo',fileName[0:18])\n",
    "            infoDF.to_csv(PROCESSED_DATA_PATH + fileName[0:18] + '_infoSummary.csv', index = False)\n",
    "            print('trial info saved')\n",
    "\n",
    "\n",
    "            # flatten the majority of the variables into currentDF data frame\n",
    "            currentDF_raw = pd.json_normalize(subject_session[0]['trials'][0]['dataPoints'])\n",
    "\n",
    "            # remove the 'rayCastHitsCombinedEyes' column as it still contains a nested data structure\n",
    "            dataDF = currentDF_raw.drop(columns=['rayCastHitsCombinedEyes'])\n",
    "\n",
    "            # create an empty data frame of the required size\n",
    "            rayCastData_df = pd.DataFrame(np.nan,index=range(len(subject_session[0]['trials'][0]['dataPoints'])), columns= columnsRCall)\n",
    "\n",
    "            # now loop through the individual trials and flatten the data\n",
    "            for index in range(len(subject_session[0]['trials'][0]['dataPoints'])):\n",
    "                # depending on the size of the ray cast data - flatten data and appand it to currentDF data frame\n",
    "                # the variables are renamed to make the differentiation of first and second order collider hits more intuitive\n",
    "                #lengthRCData = len(subject_session[0]['trials'][0]['dataPoints'][index]['rayCastHitsCombinedEyes'][0])\n",
    "                lengthRCData = len(currentDF_raw.at[index,'rayCastHitsCombinedEyes'])\n",
    "\n",
    "\n",
    "                if lengthRCData ==0: #case: no ray cast data is available = no collider was hit\n",
    "\n",
    "                    combineDF = pd.concat([emptyDF1, emptyDF2], axis=1)\n",
    "                    combineDF.insert(len(combineDF.columns), 'DataRow',index)\n",
    "\n",
    "\n",
    "                elif lengthRCData == 1: # case: only one collider was hit, there is no secondary hit\n",
    "\n",
    "                    pdRC1= pd.json_normalize(currentDF_raw.at[index,'rayCastHitsCombinedEyes'][0]).rename(\n",
    "                        columns = {'hitObjectColliderName':'hitObjectColliderName_1',\n",
    "                                   'hitColliderType':'hitColliderType_1',\n",
    "                                   'ordinalOfHit':'ordinalOfHit_1',\n",
    "                                   'hitPointOnObject.x':'hitPointOnObject.x_1',\n",
    "                                   'hitPointOnObject.y':'hitPointOnObject.y_1',\n",
    "                                   'hitPointOnObject.z':'hitPointOnObject.z_1',\n",
    "                                   'hitObjectColliderBoundsCenter.x':'hitObjectColliderBoundsCenter.x_1',\n",
    "                                   'hitObjectColliderBoundsCenter.y':'hitObjectColliderBoundsCenter.y_1',\n",
    "                                   'hitObjectColliderBoundsCenter.z':'hitObjectColliderBoundsCenter.z_1'})\n",
    "                    combineDF = pd.concat([pdRC1, emptyDF2], axis=1)\n",
    "                    combineDF.insert(len(combineDF.columns), 'DataRow',index)\n",
    "\n",
    "                elif lengthRCData == 2: # case: two collider were hit\n",
    "\n",
    "                    pdRC1= pd.json_normalize(currentDF_raw.at[index,'rayCastHitsCombinedEyes'][0]).rename(\n",
    "                        columns = {'hitObjectColliderName':'hitObjectColliderName_1',\n",
    "                                   'hitColliderType':'hitColliderType_1',\n",
    "                                   'ordinalOfHit':'ordinalOfHit_1',\n",
    "                                   'hitPointOnObject.x':'hitPointOnObject.x_1',\n",
    "                                   'hitPointOnObject.y':'hitPointOnObject.y_1',\n",
    "                                   'hitPointOnObject.z':'hitPointOnObject.z_1',\n",
    "                                   'hitObjectColliderBoundsCenter.x':'hitObjectColliderBoundsCenter.x_1',\n",
    "                                   'hitObjectColliderBoundsCenter.y':'hitObjectColliderBoundsCenter.y_1',\n",
    "                                   'hitObjectColliderBoundsCenter.z':'hitObjectColliderBoundsCenter.z_1'})\n",
    "                    pdRC2 = pd.json_normalize(currentDF_raw.at[index,'rayCastHitsCombinedEyes'][1]).rename(\n",
    "                        columns = {'hitObjectColliderName':'hitObjectColliderName_2',\n",
    "                                   'hitColliderType':'hitColliderType_2',\n",
    "                                   'ordinalOfHit':'ordinalOfHit_2',\n",
    "                                   'hitPointOnObject.x':'hitPointOnObject.x_2',\n",
    "                                   'hitPointOnObject.y':'hitPointOnObject.y_2',\n",
    "                                   'hitPointOnObject.z':'hitPointOnObject.z_2',\n",
    "                                   'hitObjectColliderBoundsCenter.x':'hitObjectColliderBoundsCenter.x_2',\n",
    "                                   'hitObjectColliderBoundsCenter.y':'hitObjectColliderBoundsCenter.y_2',\n",
    "                                   'hitObjectColliderBoundsCenter.z':'hitObjectColliderBoundsCenter.z_2'})\n",
    "                    combineDF = pd.concat([pdRC1, pdRC2], axis=1)\n",
    "                    combineDF.insert(len(combineDF.columns), 'DataRow',index)\n",
    "\n",
    "\n",
    "                else:\n",
    "                    print('!!!an exception occured in the ray cast data flattening in trial ', index)\n",
    "\n",
    "                # now add the new data row to the data overview\n",
    "                # rayCastData_df = [rayCastData_df]\n",
    "\n",
    "\n",
    "                rayCastData_df.loc[index] = combineDF.loc[0]\n",
    "\n",
    "            flatData_df = pd.concat([dataDF,rayCastData_df],axis=1)\n",
    "\n",
    "            print('saving data')\n",
    "            flatData_df.to_csv(PROCESSED_DATA_PATH + fileName[0:18] + '_flattened.csv', index = False)\n",
    "            print('data saved')\n",
    "            print('time is: ', time.ctime())"
   ],
   "metadata": {
    "collapsed": false,
    "pycharm": {
     "name": "#%%\n"
    }
   }
  },
  {
   "cell_type": "code",
   "execution_count": null,
   "outputs": [],
   "source": [
    "currentDF_raw.rayCastHitsCombinedEyes[0]"
   ],
   "metadata": {
    "collapsed": false,
    "pycharm": {
     "name": "#%%\n"
    }
   }
  },
  {
   "cell_type": "code",
   "execution_count": null,
   "outputs": [],
   "source": [
    "type(CURRENT_SUBJECT_FOLDER)"
   ],
   "metadata": {
    "collapsed": false,
    "pycharm": {
     "name": "#%%\n"
    }
   }
  },
  {
   "cell_type": "code",
   "execution_count": null,
   "outputs": [],
   "source": [
    "len(CURRENT_SUBJECT_FOLDER)"
   ],
   "metadata": {
    "collapsed": false,
    "pycharm": {
     "name": "#%%\n"
    }
   }
  },
  {
   "cell_type": "code",
   "execution_count": null,
   "outputs": [],
   "source": [
    "for file in CURRENT_SUBJECT_FOLDER:\n",
    "    CURRENT_SUBJECT_FOLDER.append(re.findall(r'\\d+', file))\n",
    "\n",
    "    # Extract all SubIDs (only one), SessionNumbers, ET_SessionNumbers (and Timestamps)\n",
    "try:\n",
    "    SubID, SessionNumbers, ET_SessionNumbers, UnixTimestamp1, UnixTimeStamp2 = map(list, zip(*folder_files))\n",
    "except:\n",
    "    print('\\tSubject '\n",
    "          + str(subject)\n",
    "          + ' Filename is not valid!')"
   ],
   "metadata": {
    "collapsed": false,
    "pycharm": {
     "name": "#%%\n"
    }
   }
  },
  {
   "cell_type": "code",
   "execution_count": null,
   "outputs": [],
   "source": [
    " subject_files = sorted([file for file in CURRENT_SUBJECT_FOLDER if file.startswith(str(subject)+'_Expl_S_') and file.endswith(\"OnQuit.json\") == False],\n",
    "                        key=str.lower)\n",
    "\n",
    "# the following works as long as the data name format is as follows:\n",
    "# 'subjectID'_Expl_S_'SessionNumber'_ET_'EyeTrackingSessionNumber'_'UnixTimestamp'.json\n",
    "folder_files = list()\n",
    "\n",
    "# loop through the subject folder and save all numbers\n",
    "for file in subject_files:\n",
    "    folder_files.append(re.findall(r'\\d+', file))\n",
    "\n",
    "# Extract all SubIDs (only one), SessionNumbers, ET_SessionNumbers (and Timestamps)\n",
    "try:\n",
    "    SubID, SessionNumbers, ET_SessionNumbers, UnixTimestamp1, UnixTimeStamp2 = map(list, zip(*folder_files))\n",
    "except:\n",
    "    print('\\tSubject '\n",
    "          + str(subject)\n",
    "          + ' Filename is not valid!')"
   ],
   "metadata": {
    "collapsed": false,
    "pycharm": {
     "name": "#%%\n"
    }
   }
  },
  {
   "cell_type": "code",
   "execution_count": null,
   "outputs": [],
   "source": [
    "session_number = int(max(SessionNumbers)) # the maximum session number of the particular subject\n",
    "ET_session_number = int(max(ET_SessionNumbers)) # the maximum ET session number of the particular subject\n",
    "\n",
    "\n",
    "# print info of how many files were found\n",
    "\n",
    "print(len(SubID), ' files were found for participant ', SubID[0])\n",
    "print('A maximum of ', session_number, 'sessions were found and will be processed')"
   ],
   "metadata": {
    "collapsed": false,
    "pycharm": {
     "name": "#%%\n"
    }
   }
  },
  {
   "cell_type": "code",
   "execution_count": null,
   "outputs": [],
   "source": [
    "OneFile = \"/Volumes/SSD/Test_Exploration/9502/9502_Expl_S_01_ET_1_1641807659.90466.json\"\n",
    "with open(OneFile) as datafile:\n",
    "    try:\n",
    "        print(\"read file\")\n",
    "        dataR = '['+ datafile.read()\n",
    "        dataR = dataR[:len(dataR)] + \"]\"\n",
    "    except:\n",
    "        print(\"reading did not work\")\n",
    "\n",
    "    subject_session = json.loads(dataR)\n",
    "\n",
    "currentDF_raw = pd.json_normalize(subject_session[0]['trials'][0]['dataPoints'])"
   ],
   "metadata": {
    "collapsed": false,
    "pycharm": {
     "name": "#%%\n"
    }
   }
  },
  {
   "cell_type": "code",
   "execution_count": null,
   "outputs": [],
   "source": [
    "currentDF_raw.rayCastHitsCombinedEyes"
   ],
   "metadata": {
    "collapsed": false,
    "pycharm": {
     "name": "#%%\n"
    }
   }
  },
  {
   "cell_type": "code",
   "execution_count": null,
   "outputs": [],
   "source": [
    "currentDF_raw.columns"
   ],
   "metadata": {
    "collapsed": false,
    "pycharm": {
     "name": "#%%\n"
    }
   }
  },
  {
   "cell_type": "code",
   "execution_count": null,
   "outputs": [],
   "source": [],
   "metadata": {
    "collapsed": false,
    "pycharm": {
     "name": "#%%\n"
    }
   }
  },
  {
   "cell_type": "code",
   "execution_count": null,
   "outputs": [],
   "source": [
    "rayCastData_df = pd.DataFrame(np.nan,index=range(len(subject_session[0]['trials'][0]['dataPoints'])), columns= columnsRCall)"
   ],
   "metadata": {
    "collapsed": false,
    "pycharm": {
     "name": "#%%\n"
    }
   }
  },
  {
   "cell_type": "code",
   "execution_count": null,
   "outputs": [],
   "source": [
    "# flatten the majority of the variables into currentDF data frame\n",
    "currentDF_raw = pd.json_normalize(subject_session[0]['trials'][0]['dataPoints'])\n",
    "\n",
    "# remove the 'rayCastHitsCombinedEyes' column as it still contains a nested data structure\n",
    "dataDF = currentDF_raw.drop(columns=['rayCastHitsCombinedEyes'])\n",
    "\n",
    "# create an empty data frame of the required size\n",
    "rayCastData_df = pd.DataFrame(np.nan,index=range(len(subject_session[0]['trials'][0]['dataPoints'])), columns= columnsRCall)\n",
    "\n",
    "# now loop through the individual trials and flatten the data\n",
    "for index in range(len(subject_session[0]['trials'][0]['dataPoints'])):\n",
    "    # depending on the size of the ray cast data - flatten data and appand it to currentDF data frame\n",
    "    # the variables are renamed to make the differentiation of first and second order collider hits more intuitive\n",
    "    #lengthRCData = len(subject_session[0]['trials'][0]['dataPoints'][index]['rayCastHitsCombinedEyes'][0])\n",
    "    lengthRCData = len(currentDF_raw.at[index,'rayCastHitsCombinedEyes'])\n",
    "\n",
    "\n",
    "    if lengthRCData ==0: #case: no ray cast data is available = no collider was hit\n",
    "\n",
    "        combineDF = pd.concat([emptyDF1, emptyDF2], axis=1)\n",
    "        combineDF.insert(len(combineDF.columns), 'DataRow',index)\n",
    "\n",
    "\n",
    "    elif lengthRCData == 1: # case: only one collider was hit, there is no secondary hit\n",
    "\n",
    "        pdRC1= pd.json_normalize(currentDF_raw.at[index,'rayCastHitsCombinedEyes'][0]).rename(\n",
    "            columns = {'hitObjectColliderName':'hitObjectColliderName_1',\n",
    "                       'ordinalOfHit':'ordinalOfHit_1',\n",
    "                       'hitPointOnObject.x':'hitPointOnObject.x_1',\n",
    "                       'hitPointOnObject.y':'hitPointOnObject.y_1',\n",
    "                       'hitPointOnObject.z':'hitPointOnObject.z_1',\n",
    "                       'hitObjectColliderBoundsCenter.x':'hitObjectColliderBoundsCenter.x_1',\n",
    "                       'hitObjectColliderBoundsCenter.y':'hitObjectColliderBoundsCenter.y_1',\n",
    "                       'hitObjectColliderBoundsCenter.z':'hitObjectColliderBoundsCenter.z_1'})\n",
    "        combineDF = pd.concat([pdRC1, emptyDF2], axis=1)\n",
    "        combineDF.insert(len(combineDF.columns), 'DataRow',index)\n",
    "\n",
    "    elif lengthRCData == 2: # case: two collider were hit\n",
    "\n",
    "        pdRC1= pd.json_normalize(currentDF_raw.at[index,'rayCastHitsCombinedEyes'][0]).rename(\n",
    "            columns = {'hitObjectColliderName':'hitObjectColliderName_1',\n",
    "                       'ordinalOfHit':'ordinalOfHit_1',\n",
    "                       'hitPointOnObject.x':'hitPointOnObject.x_1',\n",
    "                       'hitPointOnObject.y':'hitPointOnObject.y_1',\n",
    "                       'hitPointOnObject.z':'hitPointOnObject.z_1',\n",
    "                       'hitObjectColliderBoundsCenter.x':'hitObjectColliderBoundsCenter.x_1',\n",
    "                       'hitObjectColliderBoundsCenter.y':'hitObjectColliderBoundsCenter.y_1',\n",
    "                       'hitObjectColliderBoundsCenter.z':'hitObjectColliderBoundsCenter.z_1'})\n",
    "        pdRC2 = pd.json_normalize(currentDF_raw.at[index,'rayCastHitsCombinedEyes'][1]).rename(\n",
    "            columns = {'hitObjectColliderName':'hitObjectColliderName_2',\n",
    "                       'ordinalOfHit':'ordinalOfHit_2',\n",
    "                       'hitPointOnObject.x':'hitPointOnObject.x_2',\n",
    "                       'hitPointOnObject.y':'hitPointOnObject.y_2',\n",
    "                       'hitPointOnObject.z':'hitPointOnObject.z_2',\n",
    "                       'hitObjectColliderBoundsCenter.x':'hitObjectColliderBoundsCenter.x_2',\n",
    "                       'hitObjectColliderBoundsCenter.y':'hitObjectColliderBoundsCenter.y_2',\n",
    "                       'hitObjectColliderBoundsCenter.z':'hitObjectColliderBoundsCenter.z_2'})\n",
    "        combineDF = pd.concat([pdRC1, pdRC2], axis=1)\n",
    "    else:\n",
    "        print('!!!an exception occured in the ray cast data flattening in trial ', index)\n",
    "\n",
    "        # now add the new data row to the data overview\n",
    "        # rayCastData_df = [rayCastData_df]\n",
    "\n",
    "\n",
    "    rayCastData_df.loc[index] = combineDF.loc[0]\n",
    "\n",
    "    flatData_df = pd.concat([dataDF,rayCastData_df],axis=1)"
   ],
   "metadata": {
    "collapsed": false,
    "pycharm": {
     "name": "#%%\n"
    }
   }
  },
  {
   "cell_type": "code",
   "execution_count": null,
   "outputs": [],
   "source": [
    "combineDF"
   ],
   "metadata": {
    "collapsed": false,
    "pycharm": {
     "name": "#%%\n"
    }
   }
  },
  {
   "cell_type": "code",
   "execution_count": null,
   "outputs": [],
   "source": [
    "rayCastData_df"
   ],
   "metadata": {
    "collapsed": false,
    "pycharm": {
     "name": "#%%\n"
    }
   }
  },
  {
   "cell_type": "code",
   "execution_count": null,
   "outputs": [],
   "source": [
    "reduced_data = currentDF_raw.loc[:, cols_to_keep]"
   ],
   "metadata": {
    "collapsed": false,
    "pycharm": {
     "name": "#%%\n"
    }
   }
  },
  {
   "cell_type": "code",
   "execution_count": null,
   "outputs": [],
   "source": [
    "reduced_data"
   ],
   "metadata": {
    "collapsed": false,
    "pycharm": {
     "name": "#%%\n"
    }
   }
  },
  {
   "cell_type": "code",
   "execution_count": null,
   "outputs": [],
   "source": [
    "reduced_data.explode('rayCastHitsCombinedEyes', ignore_index=True)"
   ],
   "metadata": {
    "collapsed": false,
    "pycharm": {
     "name": "#%%\n"
    }
   }
  },
  {
   "cell_type": "code",
   "execution_count": null,
   "outputs": [],
   "source": [
    "reduced_data.rayCastHitsCombinedEyes[0]"
   ],
   "metadata": {
    "collapsed": false,
    "pycharm": {
     "name": "#%%\n"
    }
   }
  },
  {
   "cell_type": "code",
   "execution_count": null,
   "outputs": [],
   "source": [
    "exploded = reduced_data['rayCastHitsCombinedEyes'].explode().apply(pd.Series)"
   ],
   "metadata": {
    "collapsed": false,
    "pycharm": {
     "name": "#%%\n"
    }
   }
  },
  {
   "cell_type": "code",
   "execution_count": null,
   "outputs": [],
   "source": [
    "exploded.groupby(['hitObjectColliderName', 'hitColliderType']).count()['ordinalOfHit']"
   ],
   "metadata": {
    "collapsed": false,
    "pycharm": {
     "name": "#%%\n"
    }
   }
  },
  {
   "cell_type": "code",
   "execution_count": null,
   "outputs": [],
   "source": [
    "exploded"
   ],
   "metadata": {
    "collapsed": false,
    "pycharm": {
     "name": "#%%\n"
    }
   }
  },
  {
   "cell_type": "code",
   "execution_count": null,
   "outputs": [],
   "source": [],
   "metadata": {
    "collapsed": false,
    "pycharm": {
     "name": "#%%\n"
    }
   }
  }
 ],
 "metadata": {
  "kernelspec": {
   "display_name": "Python 3",
   "language": "python",
   "name": "python3"
  },
  "language_info": {
   "codemirror_mode": {
    "name": "ipython",
    "version": 3
   },
   "file_extension": ".py",
   "mimetype": "text/x-python",
   "name": "python",
   "nbconvert_exporter": "python",
   "pygments_lexer": "ipython3",
   "version": "3.8.8"
  }
 },
 "nbformat": 4,
 "nbformat_minor": 5
}