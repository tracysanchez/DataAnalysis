{
 "cells": [
  {
   "cell_type": "code",
   "execution_count": 1,
   "id": "b6d06a85-751a-4e42-a434-a5c025194b02",
   "metadata": {},
   "outputs": [],
   "source": [
    "import os\n",
    "import re\n",
    "import ast\n",
    "import json\n",
    "import numpy as np\n",
    "import pandas as pd\n",
    "import glob"
   ]
  },
  {
   "cell_type": "code",
   "execution_count": 2,
   "id": "8d1fc42a",
   "metadata": {
    "collapsed": false,
    "jupyter": {
     "outputs_hidden": false
    },
    "pycharm": {
     "is_executing": true,
     "name": "#%%\n"
    }
   },
   "outputs": [
    {
     "name": "stdout",
     "output_type": "stream",
     "text": [
      "/Volumes/SSD/00_Data_Processing/Pre_processed/02_Individuals_Colliders/0479.csv\n",
      "/Volumes/SSD/00_Data_Processing/Pre_processed/02_Individuals_Colliders/1754.csv\n",
      "/Volumes/SSD/00_Data_Processing/Pre_processed/02_Individuals_Colliders/2258.csv\n",
      "/Volumes/SSD/00_Data_Processing/Pre_processed/02_Individuals_Colliders/2361.csv\n",
      "/Volumes/SSD/00_Data_Processing/Pre_processed/02_Individuals_Colliders/2693.csv\n",
      "/Volumes/SSD/00_Data_Processing/Pre_processed/02_Individuals_Colliders/3246.csv\n",
      "/Volumes/SSD/00_Data_Processing/Pre_processed/02_Individuals_Colliders/3310.csv\n"
     ]
    }
   ],
   "source": [
    "path = \"/Volumes/SSD/00_Data_Processing/Pre_processed/02_Individuals_Colliders/\" \n",
    "\n",
    "  \n",
    "# csv files in the path\n",
    "files = glob.glob(path + \"/*.csv\")\n",
    "  \n",
    "# defining an empty list to store \n",
    "# content\n",
    "data_frame = pd.DataFrame()\n",
    "content = []\n",
    "  \n",
    "# checking all the csv files in the \n",
    "# specified path\n",
    "for filename in files:\n",
    "    \n",
    "    # reading content of csv file\n",
    "    # content.append(filename)\n",
    "    df = pd.read_csv(filename)\n",
    "    content.append(df)\n",
    "    print(filename)\n",
    "  \n",
    "# converting content to data frame\n",
    "data_frame = pd.concat(content)\n"
   ]
  },
  {
   "cell_type": "code",
   "execution_count": 3,
   "id": "8651389f-2037-4fee-ba0f-15ca95a0da34",
   "metadata": {},
   "outputs": [
    {
     "data": {
      "text/plain": [
       "Index(['Unnamed: 0', 'index', 'SubjectID', 'Session', 'SessionSubsection',\n",
       "       'timeStampDataPointStart', 'timeStampDataPointEnd',\n",
       "       'timeStampGetVerboseData', 'combinedGazeValidityBitmask',\n",
       "       'rayCastHitsCombinedEyes', 'eyePositionCombinedWorld.x',\n",
       "       'eyePositionCombinedWorld.y', 'eyePositionCombinedWorld.z',\n",
       "       'eyeDirectionCombinedWorld.y', 'eyeDirectionCombinedWorld.z',\n",
       "       'eyeDirectionCombinedLocal.x', 'eyeDirectionCombinedLocal.y',\n",
       "       'eyeDirectionCombinedLocal.z', 'hmdPosition.x', 'hmdPosition.y',\n",
       "       'hmdPosition.z', 'hmdDirectionForward.x', 'hmdDirectionForward.y',\n",
       "       'hmdDirectionForward.z', 'hmdRotation.x', 'hmdRotation.y',\n",
       "       'hmdRotation.z', 'hmdDirectionUp.x', 'hmdDirectionUp.y',\n",
       "       'hmdDirectionUp.z', 'playerBodyPosition.x', 'playerBodyPosition.y',\n",
       "       'playerBodyPosition.z', 'bodyTrackerPosition.x',\n",
       "       'bodyTrackerPosition.y', 'bodyTrackerPosition.z',\n",
       "       'bodyTrackerRotation.x', 'bodyTrackerRotation.y',\n",
       "       'bodyTrackerRotation.z', 'hitColliderType',\n",
       "       'hitObjectColliderBoundsCenter', 'hitObjectColliderName',\n",
       "       'ordinalOfHit', 'hitPointOnObject_x', 'hitPointOnObject_y',\n",
       "       'hitPointOnObject_z'],\n",
       "      dtype='object')"
      ]
     },
     "execution_count": 3,
     "metadata": {},
     "output_type": "execute_result"
    }
   ],
   "source": [
    "data_frame.columns"
   ]
  },
  {
   "cell_type": "code",
   "execution_count": 4,
   "id": "919f8586-3420-4024-ac08-bdd286d8565d",
   "metadata": {},
   "outputs": [],
   "source": [
    "data_frame.drop(['Unnamed: 0', 'rayCastHitsCombinedEyes', 'timeStampGetVerboseData', 'hitObjectColliderBoundsCenter'],axis=1, inplace=True)"
   ]
  },
  {
   "cell_type": "code",
   "execution_count": 5,
   "id": "00f7b210-21e0-4f5c-a08e-bb40b9c34e2b",
   "metadata": {},
   "outputs": [
    {
     "data": {
      "text/html": [
       "<div>\n",
       "<style scoped>\n",
       "    .dataframe tbody tr th:only-of-type {\n",
       "        vertical-align: middle;\n",
       "    }\n",
       "\n",
       "    .dataframe tbody tr th {\n",
       "        vertical-align: top;\n",
       "    }\n",
       "\n",
       "    .dataframe thead th {\n",
       "        text-align: right;\n",
       "    }\n",
       "</style>\n",
       "<table border=\"1\" class=\"dataframe\">\n",
       "  <thead>\n",
       "    <tr style=\"text-align: right;\">\n",
       "      <th></th>\n",
       "      <th>index</th>\n",
       "      <th>SubjectID</th>\n",
       "      <th>Session</th>\n",
       "      <th>SessionSubsection</th>\n",
       "      <th>timeStampDataPointStart</th>\n",
       "      <th>timeStampDataPointEnd</th>\n",
       "      <th>combinedGazeValidityBitmask</th>\n",
       "      <th>eyePositionCombinedWorld.x</th>\n",
       "      <th>eyePositionCombinedWorld.y</th>\n",
       "      <th>eyePositionCombinedWorld.z</th>\n",
       "      <th>...</th>\n",
       "      <th>bodyTrackerPosition.z</th>\n",
       "      <th>bodyTrackerRotation.x</th>\n",
       "      <th>bodyTrackerRotation.y</th>\n",
       "      <th>bodyTrackerRotation.z</th>\n",
       "      <th>hitColliderType</th>\n",
       "      <th>hitObjectColliderName</th>\n",
       "      <th>ordinalOfHit</th>\n",
       "      <th>hitPointOnObject_x</th>\n",
       "      <th>hitPointOnObject_y</th>\n",
       "      <th>hitPointOnObject_z</th>\n",
       "    </tr>\n",
       "  </thead>\n",
       "  <tbody>\n",
       "    <tr>\n",
       "      <th>0</th>\n",
       "      <td>121419</td>\n",
       "      <td>479</td>\n",
       "      <td>1</td>\n",
       "      <td>1</td>\n",
       "      <td>1.652967e+09</td>\n",
       "      <td>1.652967e+09</td>\n",
       "      <td>3</td>\n",
       "      <td>-59.122986</td>\n",
       "      <td>2.413162</td>\n",
       "      <td>34.732815</td>\n",
       "      <td>...</td>\n",
       "      <td>-0.005739</td>\n",
       "      <td>335.889679</td>\n",
       "      <td>328.791595</td>\n",
       "      <td>55.068886</td>\n",
       "      <td>UnityEngine.MeshCollider</td>\n",
       "      <td>TaskBuilding_35</td>\n",
       "      <td>1.0</td>\n",
       "      <td>-63.126041</td>\n",
       "      <td>2.384691</td>\n",
       "      <td>44.754692</td>\n",
       "    </tr>\n",
       "    <tr>\n",
       "      <th>1</th>\n",
       "      <td>121420</td>\n",
       "      <td>479</td>\n",
       "      <td>1</td>\n",
       "      <td>1</td>\n",
       "      <td>1.652967e+09</td>\n",
       "      <td>1.652967e+09</td>\n",
       "      <td>3</td>\n",
       "      <td>-59.122986</td>\n",
       "      <td>2.413162</td>\n",
       "      <td>34.732815</td>\n",
       "      <td>...</td>\n",
       "      <td>-0.005739</td>\n",
       "      <td>335.889679</td>\n",
       "      <td>328.791595</td>\n",
       "      <td>55.068886</td>\n",
       "      <td>UnityEngine.MeshCollider</td>\n",
       "      <td>Fence_34</td>\n",
       "      <td>2.0</td>\n",
       "      <td>-85.256042</td>\n",
       "      <td>2.227267</td>\n",
       "      <td>100.158371</td>\n",
       "    </tr>\n",
       "    <tr>\n",
       "      <th>2</th>\n",
       "      <td>121421</td>\n",
       "      <td>479</td>\n",
       "      <td>1</td>\n",
       "      <td>1</td>\n",
       "      <td>1.652967e+09</td>\n",
       "      <td>1.652967e+09</td>\n",
       "      <td>3</td>\n",
       "      <td>-59.122986</td>\n",
       "      <td>2.413162</td>\n",
       "      <td>34.732815</td>\n",
       "      <td>...</td>\n",
       "      <td>-0.005739</td>\n",
       "      <td>335.889679</td>\n",
       "      <td>328.791595</td>\n",
       "      <td>55.068886</td>\n",
       "      <td>UnityEngine.MeshCollider</td>\n",
       "      <td>TaskBuilding_35</td>\n",
       "      <td>1.0</td>\n",
       "      <td>-63.126041</td>\n",
       "      <td>2.384691</td>\n",
       "      <td>44.754692</td>\n",
       "    </tr>\n",
       "    <tr>\n",
       "      <th>3</th>\n",
       "      <td>121422</td>\n",
       "      <td>479</td>\n",
       "      <td>1</td>\n",
       "      <td>1</td>\n",
       "      <td>1.652967e+09</td>\n",
       "      <td>1.652967e+09</td>\n",
       "      <td>3</td>\n",
       "      <td>-59.122986</td>\n",
       "      <td>2.413162</td>\n",
       "      <td>34.732815</td>\n",
       "      <td>...</td>\n",
       "      <td>-0.005739</td>\n",
       "      <td>335.889679</td>\n",
       "      <td>328.791595</td>\n",
       "      <td>55.068886</td>\n",
       "      <td>UnityEngine.MeshCollider</td>\n",
       "      <td>Fence_34</td>\n",
       "      <td>2.0</td>\n",
       "      <td>-85.256042</td>\n",
       "      <td>2.227267</td>\n",
       "      <td>100.158371</td>\n",
       "    </tr>\n",
       "    <tr>\n",
       "      <th>4</th>\n",
       "      <td>121423</td>\n",
       "      <td>479</td>\n",
       "      <td>1</td>\n",
       "      <td>1</td>\n",
       "      <td>1.652967e+09</td>\n",
       "      <td>1.652967e+09</td>\n",
       "      <td>3</td>\n",
       "      <td>-59.119831</td>\n",
       "      <td>2.413259</td>\n",
       "      <td>34.732769</td>\n",
       "      <td>...</td>\n",
       "      <td>-0.005700</td>\n",
       "      <td>335.919464</td>\n",
       "      <td>328.801910</td>\n",
       "      <td>55.068878</td>\n",
       "      <td>UnityEngine.MeshCollider</td>\n",
       "      <td>TaskBuilding_35</td>\n",
       "      <td>1.0</td>\n",
       "      <td>-63.102364</td>\n",
       "      <td>2.409164</td>\n",
       "      <td>44.764919</td>\n",
       "    </tr>\n",
       "  </tbody>\n",
       "</table>\n",
       "<p>5 rows × 42 columns</p>\n",
       "</div>"
      ],
      "text/plain": [
       "    index  SubjectID  Session  SessionSubsection  timeStampDataPointStart  \\\n",
       "0  121419        479        1                  1             1.652967e+09   \n",
       "1  121420        479        1                  1             1.652967e+09   \n",
       "2  121421        479        1                  1             1.652967e+09   \n",
       "3  121422        479        1                  1             1.652967e+09   \n",
       "4  121423        479        1                  1             1.652967e+09   \n",
       "\n",
       "   timeStampDataPointEnd  combinedGazeValidityBitmask  \\\n",
       "0           1.652967e+09                            3   \n",
       "1           1.652967e+09                            3   \n",
       "2           1.652967e+09                            3   \n",
       "3           1.652967e+09                            3   \n",
       "4           1.652967e+09                            3   \n",
       "\n",
       "   eyePositionCombinedWorld.x  eyePositionCombinedWorld.y  \\\n",
       "0                  -59.122986                    2.413162   \n",
       "1                  -59.122986                    2.413162   \n",
       "2                  -59.122986                    2.413162   \n",
       "3                  -59.122986                    2.413162   \n",
       "4                  -59.119831                    2.413259   \n",
       "\n",
       "   eyePositionCombinedWorld.z  ...  bodyTrackerPosition.z  \\\n",
       "0                   34.732815  ...              -0.005739   \n",
       "1                   34.732815  ...              -0.005739   \n",
       "2                   34.732815  ...              -0.005739   \n",
       "3                   34.732815  ...              -0.005739   \n",
       "4                   34.732769  ...              -0.005700   \n",
       "\n",
       "   bodyTrackerRotation.x  bodyTrackerRotation.y  bodyTrackerRotation.z  \\\n",
       "0             335.889679             328.791595              55.068886   \n",
       "1             335.889679             328.791595              55.068886   \n",
       "2             335.889679             328.791595              55.068886   \n",
       "3             335.889679             328.791595              55.068886   \n",
       "4             335.919464             328.801910              55.068878   \n",
       "\n",
       "            hitColliderType  hitObjectColliderName  ordinalOfHit  \\\n",
       "0  UnityEngine.MeshCollider        TaskBuilding_35           1.0   \n",
       "1  UnityEngine.MeshCollider               Fence_34           2.0   \n",
       "2  UnityEngine.MeshCollider        TaskBuilding_35           1.0   \n",
       "3  UnityEngine.MeshCollider               Fence_34           2.0   \n",
       "4  UnityEngine.MeshCollider        TaskBuilding_35           1.0   \n",
       "\n",
       "   hitPointOnObject_x  hitPointOnObject_y  hitPointOnObject_z  \n",
       "0          -63.126041            2.384691           44.754692  \n",
       "1          -85.256042            2.227267          100.158371  \n",
       "2          -63.126041            2.384691           44.754692  \n",
       "3          -85.256042            2.227267          100.158371  \n",
       "4          -63.102364            2.409164           44.764919  \n",
       "\n",
       "[5 rows x 42 columns]"
      ]
     },
     "execution_count": 5,
     "metadata": {},
     "output_type": "execute_result"
    }
   ],
   "source": [
    "data_frame.head()"
   ]
  },
  {
   "cell_type": "code",
   "execution_count": 6,
   "id": "a5badb2b",
   "metadata": {
    "collapsed": false,
    "jupyter": {
     "outputs_hidden": false
    },
    "pycharm": {
     "name": "#%%\n"
    }
   },
   "outputs": [],
   "source": [
    "#Since we have two colliders hits per frame, we calculate the distance between each hit and the participant\n",
    "data_frame['Eucledian_distance'] = np.linalg.norm(data_frame.loc[:, [\"hitPointOnObject_x\",\"hitPointOnObject_y\",\"hitPointOnObject_z\"]].values - data_frame.loc[:, [\"playerBodyPosition.x\",\"playerBodyPosition.y\",\"playerBodyPosition.z\"]], axis=1)"
   ]
  },
  {
   "cell_type": "code",
   "execution_count": 7,
   "id": "7c44fefd-25ae-4b51-91ad-c37a739356bf",
   "metadata": {},
   "outputs": [],
   "source": [
    "# Since the collider names are too detailed, here we create a dictionary with patterns to classify them into our categories of interest\n",
    "# INCLUDE CHURCH\n",
    "patterns = {'\\d{2}_Sa':'Passive_Agent', '\\d{2}_Cma':'Active_Agent', 'Building_\\d+': 'Building', 'Graffity_\\d+': 'Graffity'}\n",
    "patterns.update(dict.fromkeys(['Castle-TaskBuilding_56','HighSilo-TaskBuilding_49', 'Windmill-TaskBuilding_10_1', 'TaskBuilding_8'], 'Global_Landmark'))\n",
    "patterns.update(dict.fromkeys(['TaskBuilding_2','TaskBuilding_3', 'TaskBuilding_5', 'TaskBuilding_8', 'TaskBuilding_9', 'TaskBuilding_11', 'TaskBuilding_13', 'TaskBuilding_14', 'TaskBuilding_20', 'TaskBuilding_21', 'TaskBuilding_23','TaskBuilding_27', 'TaskBuilding_29', 'TaskBuilding_32', 'TaskBuilding_34',  'TaskBuilding_38', 'TaskBuilding_41', 'TaskBuilding_42', 'TaskBuilding_44', 'TaskBuilding_45', 'TaskBuilding_47', 'TaskBuilding_50', 'TaskBuilding_51', 'TaskBuilding_52', 'BasketballCourt_58'], 'TaskBuilding_Public'))\n",
    "patterns.update(dict.fromkeys(['TaskBuilding_1','TaskBuilding_4', 'TaskBuilding_6', 'TaskBuilding_7', 'TaskBuilding_12', 'TaskBuilding_15', 'TaskBuilding_17', 'TaskBuilding_18', 'TaskBuilding_19', 'TaskBuilding_22', 'TaskBuilding_24','TaskBuilding_25', 'TaskBuilding_26', 'TaskBuilding_28', 'TaskBuilding_30',  'TaskBuilding_31', 'TaskBuilding_33', 'TaskBuilding_35', 'TaskBuilding_36', 'TaskBuilding_37', 'TaskBuilding_39', 'TaskBuilding_40', 'TaskBuilding_43', 'TaskBuilding_48', 'TaskBuilding_54' ], 'TaskBuilding_Residential'))\n",
    "default_val = 'Background'"
   ]
  },
  {
   "cell_type": "code",
   "execution_count": null,
   "id": "68ff7d20-1cc3-462c-9980-07674e2cfb4a",
   "metadata": {},
   "outputs": [],
   "source": [
    "# Here we look for the patterns contained in the dictionary and create the more general/informative variable Collider_Categorical\n",
    "data_frame['Collider_Categorical'] = data_frame['hitObjectColliderName'].apply(lambda x: next((val for key, val in patterns.items() if re.match(key, x)), default_val))"
   ]
  },
  {
   "cell_type": "code",
   "execution_count": null,
   "id": "011961bb-7900-457e-bf61-a2d1ea5ff7f3",
   "metadata": {},
   "outputs": [],
   "source": [
    "# Since the double hits where unfolded in a long format in case of more than one hit per frame the second hit would be the row directly underneath.\n",
    "# Therefore, if we want to know which hit was closest to the participant per frame we can compare each row with the previous one and see which one has the smallest Euclidean distance.\n",
    "data_frame['Previous_Euclidean_value'] = data_frame['Eucledian_distance'].shift(1)\n",
    "#Here we declare the conditions to choose between collider hits:\n",
    "data_frame['Collider_stays'] = (data_frame[\"ordinalOfHit\"] == 2) & (data_frame['Collider_Categorical'] != 'Background') & (data_frame['Eucledian_distance'] <  data_frame['Previous_Euclidean_value']) "
   ]
  },
  {
   "cell_type": "code",
   "execution_count": null,
   "id": "fc2d0f66-35d1-436d-9da4-530206b494a7",
   "metadata": {},
   "outputs": [],
   "source": [
    "original_shape = data_frame.shape"
   ]
  },
  {
   "cell_type": "code",
   "execution_count": null,
   "id": "ccada2d8-a6f3-4928-97ed-fe743579223d",
   "metadata": {},
   "outputs": [],
   "source": [
    "data_frame.index_reset()\n",
    "#Drop all the second hit colliders that do not comply with the criteria\n",
    "indexCollider = data_frame[(data_frame[\"ordinalOfHit\"] == 2) & (data_frame['Collider_stays'] == False)].index\n",
    "#Take the index of all second colliders that will stay\n",
    "indexColliderStays = data_frame[data_frame['Collider_stays'] == True].index\n",
    "#We substract one from that list of indexes because now is the first collider that has to go (so row directly on top)\n",
    "indexColliderDelete = indexColliderStays - 1"
   ]
  },
  {
   "cell_type": "code",
   "execution_count": null,
   "id": "6b8d8a7b-b01b-4736-af8b-e3406a28b644",
   "metadata": {},
   "outputs": [],
   "source": [
    "indexCollider.append(indexColliderDelete)\n",
    "Colliders_to_delete= indexCollider.sort_values()"
   ]
  },
  {
   "cell_type": "code",
   "execution_count": null,
   "id": "28c273c5-c68e-4821-b750-100d738f1955",
   "metadata": {},
   "outputs": [],
   "source": [
    "Colliders_to_delete"
   ]
  },
  {
   "cell_type": "code",
   "execution_count": null,
   "id": "3f5a4b52-8138-4f51-8148-365f922ecfd3",
   "metadata": {},
   "outputs": [],
   "source": [
    "data_frame.drop(Colliders_to_delete , inplace=True)"
   ]
  },
  {
   "cell_type": "code",
   "execution_count": null,
   "id": "a4bfe41a-18c7-4621-aac9-cd29f1682fea",
   "metadata": {},
   "outputs": [],
   "source": [
    "data_frame.shape"
   ]
  },
  {
   "cell_type": "code",
   "execution_count": null,
   "id": "f5c6cb2f-93ec-427b-a341-01d82aae43a6",
   "metadata": {},
   "outputs": [],
   "source": [
    "original_shape"
   ]
  },
  {
   "cell_type": "code",
   "execution_count": null,
   "id": "a9eec737-ddfc-4e2f-9d01-25e930f016e0",
   "metadata": {},
   "outputs": [],
   "source": [
    "data_frame.groupby([\"SubjectID\",\"Session\"])[\"SessionSubsection\"].count()"
   ]
  },
  {
   "cell_type": "code",
   "execution_count": null,
   "id": "11ee0963-643b-4351-a90d-cae3ac3f7690",
   "metadata": {},
   "outputs": [],
   "source": [
    "data_frame.to_csv(\"/Volumes/SSD/00_Data_Processing/Pre_processed/clean_seven_participants.csv\")"
   ]
  }
 ],
 "metadata": {
  "kernelspec": {
   "display_name": "Python 3",
   "language": "python",
   "name": "python3"
  },
  "language_info": {
   "codemirror_mode": {
    "name": "ipython",
    "version": 3
   },
   "file_extension": ".py",
   "mimetype": "text/x-python",
   "name": "python",
   "nbconvert_exporter": "python",
   "pygments_lexer": "ipython3",
   "version": "3.8.8"
  }
 },
 "nbformat": 4,
 "nbformat_minor": 5
}
