{
 "cells": [
  {
   "cell_type": "code",
   "execution_count": 25,
   "id": "4afd94f1-cb6e-4dae-bd36-5c75136f0f63",
   "metadata": {},
   "outputs": [],
   "source": [
    "import pandas as pd \n",
    "import numpy as np\n",
    "import math \n",
    "from matplotlib import pyplot"
   ]
  },
  {
   "cell_type": "code",
   "execution_count": 8,
   "id": "6f99c711-2957-4402-ade1-24fcf56cbdc5",
   "metadata": {},
   "outputs": [],
   "source": [
    "# Function: calculate MAD saccade\n",
    "def at_mad(angular_vel, th_0=200):\n",
    "    # defines the saccade threshold (code from Ashima)\n",
    "    threshs = []\n",
    "    while True:\n",
    "        # take th_0\n",
    "        threshs.append(th_0)\n",
    "        # get all angles smaller than this\n",
    "        angular_vel = angular_vel[angular_vel < th_0]\n",
    "\n",
    "        # MAD:\n",
    "        # take the median of all angles smaller than th_0\n",
    "        median = np.median(angular_vel)\n",
    "        # substract the median value\n",
    "        diff = np.sqrt((angular_vel - median) ** 2)\n",
    "        # get the median of these values\n",
    "        med_abs_deviation = np.median(diff)\n",
    "\n",
    "        # calcualte the next threshold with the median\n",
    "        # 1.486 used when assuming a normal distribution\n",
    "        th_1 = median + 3 * 1.486 * med_abs_deviation\n",
    "        # if the thresholds are too different, redo the while loop\n",
    "        if abs(th_0 - th_1) > 1:\n",
    "            th_0 = th_1\n",
    "        # else, set the final threshold to the current one, break the while loop and return values\n",
    "        else:\n",
    "            saccade_thresh = th_1\n",
    "            threshs.append(saccade_thresh)\n",
    "            break\n",
    "    return saccade_thresh, threshs"
   ]
  },
  {
   "cell_type": "code",
   "execution_count": 34,
   "id": "ba9d7528-d670-4d7e-9387-16cfcfba6f66",
   "metadata": {},
   "outputs": [],
   "source": [
    "One_participant = pd.read_csv(\"/Volumes/SSD/00_Data_Processing/Pre_processed/04_Interpolated/0479_2.csv\" )"
   ]
  },
  {
   "cell_type": "code",
   "execution_count": 3,
   "id": "7112b5cf-9ba9-497c-aa97-0c67aeafd0ab",
   "metadata": {},
   "outputs": [],
   "source": [
    "Complete = pd.read_csv(\"/Volumes/SSD/00_Data_Processing/Pre_processed/Complete_Data_AngularV.cvs\")"
   ]
  },
  {
   "cell_type": "code",
   "execution_count": 35,
   "id": "7bcae62d-a64b-452a-a49a-608f19dc49a7",
   "metadata": {},
   "outputs": [],
   "source": [
    "One= Complete[(Complete.SubjectID == 479) & (Complete.Session == 2)].copy()"
   ]
  },
  {
   "cell_type": "code",
   "execution_count": 113,
   "id": "4f17489c-c397-4410-b17a-6038ed4df551",
   "metadata": {},
   "outputs": [
    {
     "name": "stdout",
     "output_type": "stream",
     "text": [
      "3.56 s ± 62.2 ms per loop (mean ± std. dev. of 7 runs, 1 loop each)\n"
     ]
    }
   ],
   "source": [
    "%%timeit\n",
    "######## Debbies Algorithm ########\n",
    "\n",
    "for_eye = One_participant.copy()\n",
    "time = for_eye[\"timeStampDataPointEnd\"].tolist()\n",
    "\n",
    "## Calculate Angular velocities\n",
    "# get individual coordinates\n",
    "subj = list(zip( for_eye[\"eyePositionCombinedWorld.x\"],for_eye[\"eyePositionCombinedWorld.y\"],for_eye[\"eyePositionCombinedWorld.z\"]))\n",
    "hpoo = list(zip(for_eye[\"hitPointOnObject_x\"], for_eye[\"hitPointOnObject_y\"],for_eye[\"hitPointOnObject_z\"]))\n",
    "# v_gaze_vec: get difference in hpoo\n",
    "v_gaze_vec = list(zip(for_eye[\"hitPointOnObject_x\"].diff(), for_eye[\"hitPointOnObject_y\"].diff(),for_eye[\"hitPointOnObject_z\"].diff()))\n",
    "# get difference in time:\n",
    "ts = for_eye[\"timeStampDataPointEnd\"].diff().tolist()\n",
    "# gaze_vec(t) is a unit vector in the direction of the gaze (eye+head) in world coordinates\n",
    "g_vec = list(np.subtract(hpoo, subj))\n",
    "gaze_vec = [np.array(v) / np.linalg.norm(np.array(v)) for v in g_vec]\n",
    "# v_gaze_inplane: is a scalar indicating the velocity in world coordinates at the location that is gazed at orthogonal to the gaze axis.\n",
    "z1 = [np.dot(v_gaze_vec_i, gaze_vec_i) for v_gaze_vec_i, gaze_vec_i in zip(v_gaze_vec, gaze_vec)]\n",
    "# z = (<v_gaze_vec(t), gaze_vec(t)> * gaze_vec(t))\n",
    "z = [z1[element] * np.array(gaze_vec[element]) for element in range(len(z1))]\n",
    "# ||v_gaze_vec(t) - z||\n",
    "v_gaze_inplane = np.linalg.norm(np.array(v_gaze_vec) - z, axis=-1)\n",
    "#Eucledian distance between eye coordinates and hit on object\n",
    "sub_hpoo = np.linalg.norm(np.array(subj) - np.array(hpoo), axis=-1)\n",
    "# arctan2(v_gaze_inplane, sub_hpoo)\n",
    "w_gaze = np.arctan2(v_gaze_inplane, sub_hpoo).tolist()\n",
    "# Turn angle of radians into degrees over seconds \n",
    "w_gaze = [(w / ts[idx] * 180 / math.pi) for idx, w in enumerate(w_gaze)]\n",
    "# save df\n",
    "for_eye[\"combined_vel\"] = w_gaze\n",
    "\n",
    "### 10 second for threshold calculation starts here\n",
    "\n",
    "int_len = 10  # number of seconds of the interval\n",
    "time = for_eye[\"timeStampDataPointEnd\"].values\n",
    "start = [time[0]]\n",
    "end = []\n",
    "start_idx = [0]\n",
    "end_idx = []\n",
    "for t, ti in enumerate(time[1:], start=1):\n",
    "    if ti - start[-1] > int_len:\n",
    "        end.append(time[t - 1])\n",
    "        end_idx.append(t - 1)\n",
    "        start.append(ti)\n",
    "        start_idx.append(t)\n",
    "# add the last timepoint to end\n",
    "end.append(time[-1])\n",
    "end_idx.append(len(time))\n",
    "\n",
    "# save it as new df\n",
    "int_data = pd.DataFrame({\n",
    "    \"start\": start,\n",
    "    \"end\": end,\n",
    "    \"start_idx\": start_idx,\n",
    "    \"end_idx\": end_idx\n",
    "})\n",
    "\n",
    "combined_vel = for_eye[\"combined_vel\"]\n",
    "\n",
    "# to add the final thresholds to for each segement\n",
    "scct = []\n",
    "for s, srt in enumerate(int_data[\"start\"].values):\n",
    "    # get the slice of the combined velocity\n",
    "    angular_vel = combined_vel[start_idx[s] : end_idx[s]]\n",
    "    # use the at_mad function to caluclate the threshold\n",
    "    saccade_th, thres = at_mad(angular_vel)\n",
    "    if np.isnan(saccade_th):\n",
    "        scct.append(thres[0])\n",
    "    else:\n",
    "        # add it to scct\n",
    "        scct.append(saccade_th)\n",
    "\n",
    "# add it to int_data and save\n",
    "int_data[\"thresh\"] = scct\n",
    "\n",
    "ranges = list(zip(int_data.start_idx, int_data.end_idx))    \n",
    "# go through all time intervals repeat the threshold as often as the time interval is long\n",
    "for i, (lower, upper) in enumerate(ranges):\n",
    "    for_eye.loc[lower:upper,\"thresh\"]  = int_data[\"thresh\"][i]\n",
    "\n",
    "# eye-tracking\n",
    "thres = int_data[\"thresh\"].values\n",
    "combined_vel = for_eye[\"combined_vel\"].values\n",
    "\n",
    "# define list where the fixations will be added too\n",
    "is_fix = [np.nan] * len(combined_vel)\n",
    "start = int_data[\"start_idx\"].tolist()\n",
    "end = int_data[\"end_idx\"].tolist()\n",
    "\n",
    "# eye-tracking\n",
    "thres = int_data[\"thresh\"].tolist()\n",
    "combined_vel = for_eye[\"combined_vel\"].tolist()\n",
    "\n",
    "\n",
    "for i in range(len(start)):\n",
    "    av = combined_vel[start[i] : end[i]]\n",
    "    # go through combined velocity and save all that are bigger than the threshold\n",
    "    fix = [ti if ti < thres[i] else np.nan for ti in av]\n",
    "    is_fix[start[i] : end[i]] = fix\n",
    "for_eye[\"isFix\"] = is_fix\n"
   ]
  },
  {
   "cell_type": "code",
   "execution_count": 117,
   "id": "265c0731-957d-4f82-8a41-dd05077a0c26",
   "metadata": {},
   "outputs": [],
   "source": [
    "# eye-tracking\n",
    "thres = int_data[\"thresh\"].values\n",
    "combined_vel = for_eye[\"combined_vel\"].values\n",
    "\n",
    "# define list where the fixations will be added too\n",
    "is_fix = [np.nan] * len(combined_vel)\n",
    "start = int_data[\"start_idx\"].tolist()\n",
    "end = int_data[\"end_idx\"].tolist()\n",
    "\n",
    "# eye-tracking\n",
    "thres = int_data[\"thresh\"].tolist()\n",
    "combined_vel = for_eye[\"combined_vel\"].tolist()\n",
    "for i in range(len(start)):\n",
    "    av = combined_vel[start[i] : end[i]]"
   ]
  },
  {
   "cell_type": "code",
   "execution_count": 120,
   "id": "f80ffc61-9c1b-41aa-8b80-80c5c809e39c",
   "metadata": {},
   "outputs": [
    {
     "data": {
      "text/plain": [
       "180"
      ]
     },
     "execution_count": 120,
     "metadata": {},
     "output_type": "execute_result"
    }
   ],
   "source": [
    "len(start)"
   ]
  },
  {
   "cell_type": "code",
   "execution_count": null,
   "id": "0b189e5a-2ed4-4a23-813d-b656f7e04673",
   "metadata": {},
   "outputs": [],
   "source": [
    "\n",
    "for i, (lower, upper) in enumerate(ranges):\n",
    "    for_eye.loc[lower:upper,\"is-FIXI\"]  = int_data[\"thresh\"][i]"
   ]
  },
  {
   "cell_type": "code",
   "execution_count": null,
   "id": "88f59c59-1494-4463-bdda-88f8dce63105",
   "metadata": {},
   "outputs": [],
   "source": [
    "# eye-tracking\n",
    "thres = int_data[\"thresh\"].values\n",
    "combined_vel = for_eye[\"combined_vel\"].values\n",
    "\n",
    "# define list where the fixations will be added too\n",
    "is_fix = [np.nan] * len(combined_vel)\n",
    "start = int_data[\"start_idx\"].tolist()\n",
    "end = int_data[\"end_idx\"].tolist()\n",
    "\n",
    "# eye-tracking\n",
    "thres = int_data[\"thresh\"].tolist()\n",
    "combined_vel = for_eye[\"combined_vel\"].tolist()\n",
    "\n",
    "\n",
    "for i in range(len(start)):\n",
    "    av = combined_vel[start[i] : end[i]]\n",
    "    # go through combined velocity and save all that are bigger than the threshold\n",
    "    fix = [ti if ti < thres[i] else np.nan for ti in av]\n",
    "    is_fix[start[i] : end[i]] = fix\n",
    "for_eye[\"isFix\"] = is_fix"
   ]
  },
  {
   "cell_type": "code",
   "execution_count": 116,
   "id": "cf078f43-877e-4a0d-93e4-6c07c39ad8ab",
   "metadata": {},
   "outputs": [
    {
     "name": "stdout",
     "output_type": "stream",
     "text": [
      "6.41 s ± 306 ms per loop (mean ± std. dev. of 7 runs, 1 loop each)\n"
     ]
    }
   ],
   "source": [
    "%%timeit\n",
    "\n",
    "######## Debbies Algorithm ########\n",
    "\n",
    "for_eye = One_participant.copy()\n",
    "\n",
    "time = for_eye[\"timeStampDataPointEnd\"].tolist()\n",
    "# get individual coordinates\n",
    "subj = list(zip( for_eye[\"eyePositionCombinedWorld.x\"],for_eye[\"eyePositionCombinedWorld.y\"],for_eye[\"eyePositionCombinedWorld.z\"]))\n",
    "hpoo = list(zip(for_eye[\"hitPointOnObject_x\"], for_eye[\"hitPointOnObject_y\"],for_eye[\"hitPointOnObject_z\"]))\n",
    "\n",
    "# v_gaze_vec: get difference in hpoo\n",
    "v_vX = for_eye[\"hitPointOnObject_x\"].diff()\n",
    "v_vY = for_eye[\"hitPointOnObject_y\"].diff()\n",
    "v_vZ = for_eye[\"hitPointOnObject_z\"].diff()\n",
    "\n",
    "\n",
    "# get difference in time:\n",
    "ts = pd.DataFrame(time).apply(lambda x: x.diff())[0].tolist()\n",
    "v_gaze_vec = list(zip(v_vX, v_vY, v_vZ))\n",
    "\n",
    "# gaze_vec(t) is a unit vector in the direction of the gaze (eye+head) in world coordinates\n",
    "g_vec = [np.array(hpoo[v] - np.array(subj[v])) for v in range(len(subj))]\n",
    "gaze_vec = [np.array(v) / np.linalg.norm(np.array(v)) for v in g_vec]\n",
    "\n",
    "\n",
    "# v_gaze_inplane: is a scalar indicating the velocity in world coordinates at the location that is gazed at orthogonal to the gaze axis.\n",
    "# v_gaze_inplane(t) = ||v_gaze_vec(t) - (<v_gaze_vec(t), gaze_vec(t)> * gaze_vec(t))||:\n",
    "# z1 = (<v_gaze_vec(t), gaze_vec(t)>)\n",
    "z1 = [np.array(v_gaze_vec[t]).dot(np.array(gaze_vec[t]))\n",
    "        for t in range(len(v_vX))]\n",
    "\n",
    "# z = (<v_gaze_vec(t), gaze_vec(t)> * gaze_vec(t))\n",
    "z = [z1[t] * np.array(gaze_vec[t]) for t in range(len(v_vX))]\n",
    "\n",
    "# ||v_gaze_vec(t) - z||\n",
    "v_gaze_inplane = [np.linalg.norm((np.array(v_gaze_vec[t]) - z[t]).tolist())\n",
    "        for t in range(len(v_gaze_vec))\n",
    "                 ]\n",
    "# w_gaze(t) = arctan2(||subject_vec(t) - hpoo_vec(t)||, v_gaze_inplane)\n",
    "\n",
    "# sub_hpoo = ||subject_vec(t) - hpoo_vec(t)||\n",
    "sub_hpoo = [np.linalg.norm(np.array(subj[t]) - np.array(hpoo[t]))\n",
    "        for t in range(len(hpoo))]\n",
    "\n",
    "# arctan2(v_gaze_inplane, sub_hpoo)\n",
    "w_gaze = np.arctan2(v_gaze_inplane, sub_hpoo).tolist()\n",
    "\n",
    "# turn angle of radians into degrees\n",
    "#w_gaze = [np.rad2deg(value) for value in w_gaze]\n",
    "w_gaze = [(w / ts[idx] * 180 / math.pi) for idx, w in enumerate(w_gaze)]\n",
    "# save df\n",
    "for_eye[\"combined_vel\"] = w_gaze\n",
    "### 10 second starts here \n",
    "int_len = 10  # number of seconds of the interval\n",
    "\n",
    "time = for_eye[\"timeStampDataPointEnd\"].tolist()\n",
    "start = []\n",
    "end = []\n",
    "start_idx = []\n",
    "end_idx = []\n",
    "for t, ti in enumerate(time):\n",
    "    if ti == time[0]:\n",
    "        start.append(ti)\n",
    "        start_idx.append(t)\n",
    "    if ti - start[-1] > int_len:\n",
    "        # if the current timepoint is more than int_len away from start, set it to new start\n",
    "        start.append(ti)\n",
    "        start_idx.append(t)\n",
    "        # and set end to the timepoint before that\n",
    "        end.append(time[t - 1])\n",
    "        end_idx.append(t - 1)\n",
    "# add the last timepoint to end\n",
    "# (there is a very slim chance that the last start and end are the same timepoint --> might cause errors)\n",
    "end.append(time[-1])\n",
    "end_idx.append(len(time))\n",
    "\n",
    "# save it as new df\n",
    "int_data = list(zip(start, end, start_idx, end_idx))\n",
    "int_data = pd.DataFrame(\n",
    "    int_data, columns=[\"start\", \"end\", \"start_idx\", \"end_idx\"]\n",
    ")\n",
    "\n",
    "combined_vel = for_eye[\"combined_vel\"]\n",
    "\n",
    "# to shorten the slicing in the next for loop\n",
    "start_idx = int_data[\"start_idx\"].tolist()\n",
    "end_idx = int_data[\"end_idx\"].tolist()\n",
    "\n",
    "# to add the final thresholds to for each segement\n",
    "scct = []\n",
    "for s, srt in enumerate(int_data[\"start\"].tolist()):\n",
    "    # get the slice of the combined velocity\n",
    "    angular_vel = combined_vel[start_idx[s] : end_idx[s]]\n",
    "    # use the at_mad function to caluclate the threshold\n",
    "    saccade_th, thres = at_mad(angular_vel)\n",
    "    if np.isnan(saccade_th):\n",
    "        scct.append(thres[0])\n",
    "    else:\n",
    "        # add it to scct\n",
    "        scct.append(saccade_th)\n",
    "\n",
    "# add it to int_data and save\n",
    "int_data[\"thresh\"] = scct\n",
    "int_data = pd.DataFrame(int_data)\n",
    "time = for_eye.timeStampDataPointEnd.tolist()\n",
    "start_idx = int_data[\"start_idx\"].tolist()\n",
    "end_idx = int_data[\"end_idx\"].tolist()\n",
    "thr = int_data[\"thresh\"].tolist()\n",
    "\n",
    "# go through all time intervals\n",
    "thresh = [0.0] * len(time)\n",
    "for s, srt in enumerate(int_data[\"start\"].tolist()):\n",
    "    # repeat the threshold as often as the time interval is long\n",
    "    thresh = (\n",
    "        thresh[: start_idx[s]]\n",
    "        + [thr[s]] * len(time[start_idx[s] : end_idx[s]])\n",
    "        + thresh[end_idx[s]:]\n",
    "    )\n",
    "\n",
    "# add the two lists (ht & et) to for_eye df\n",
    "for_eye[\"thresh\"] = thresh\n",
    "\n",
    "# save for_eye df\n",
    "for_eye = pd.DataFrame(for_eye)\n",
    "\n",
    "start = int_data[\"start_idx\"].tolist()\n",
    "end = int_data[\"end_idx\"].tolist()\n",
    "\n",
    "# eye-tracking\n",
    "thres = int_data[\"thresh\"].tolist()\n",
    "combined_vel = for_eye[\"combined_vel\"].tolist()\n",
    "\n",
    "# define list where the fixations will be added too\n",
    "is_fix = [np.nan] * len(combined_vel)\n",
    "\n",
    "for i in range(len(start)):\n",
    "    av = combined_vel[start[i] : end[i]]\n",
    "    # go through combined velocity and save all that are bigger than the threshold\n",
    "    fix = [ti if ti < thres[i] else np.nan for ti in av]\n",
    "    is_fix[start[i] : end[i]] = fix\n",
    "\n",
    "# save\n",
    "for_eye[\"isFix\"] = is_fix\n"
   ]
  },
  {
   "cell_type": "code",
   "execution_count": 109,
   "id": "07bb8819-9e85-4032-86d3-12341cc80492",
   "metadata": {},
   "outputs": [],
   "source": [
    "ranges = list(zip(int_data.start_idx, int_data.end_idx))\n",
    "#Replace the invalid event with the mode of 20 events prior\n",
    "for i, (lower, upper) in enumerate(ranges):\n",
    "    for_eye.loc[lower:upper,\"THRESHI\"]  = int_data[\"thresh\"][i]"
   ]
  },
  {
   "cell_type": "code",
   "execution_count": 110,
   "id": "e66d78f0-4f53-4712-ab43-a1192375f909",
   "metadata": {},
   "outputs": [
    {
     "data": {
      "text/html": [
       "<div>\n",
       "<style scoped>\n",
       "    .dataframe tbody tr th:only-of-type {\n",
       "        vertical-align: middle;\n",
       "    }\n",
       "\n",
       "    .dataframe tbody tr th {\n",
       "        vertical-align: top;\n",
       "    }\n",
       "\n",
       "    .dataframe thead th {\n",
       "        text-align: right;\n",
       "    }\n",
       "</style>\n",
       "<table border=\"1\" class=\"dataframe\">\n",
       "  <thead>\n",
       "    <tr style=\"text-align: right;\">\n",
       "      <th></th>\n",
       "      <th>Unnamed: 0</th>\n",
       "      <th>index</th>\n",
       "      <th>Unnamed: 0.1</th>\n",
       "      <th>SubjectID</th>\n",
       "      <th>Session</th>\n",
       "      <th>SessionSubsection</th>\n",
       "      <th>timeStampDataPointEnd</th>\n",
       "      <th>combinedGazeValidityBitmask</th>\n",
       "      <th>eyePositionCombinedWorld.x</th>\n",
       "      <th>eyePositionCombinedWorld.y</th>\n",
       "      <th>...</th>\n",
       "      <th>Face_Hits</th>\n",
       "      <th>Continuous_Time</th>\n",
       "      <th>Time_Shift</th>\n",
       "      <th>Bitmask_flag</th>\n",
       "      <th>Interpolated_collider</th>\n",
       "      <th>combined_vel</th>\n",
       "      <th>thresh</th>\n",
       "      <th>isFix</th>\n",
       "      <th>Threshi</th>\n",
       "      <th>THRESHI</th>\n",
       "    </tr>\n",
       "  </thead>\n",
       "  <tbody>\n",
       "    <tr>\n",
       "      <th>0</th>\n",
       "      <td>0</td>\n",
       "      <td>0</td>\n",
       "      <td>6214920</td>\n",
       "      <td>479</td>\n",
       "      <td>2</td>\n",
       "      <td>1</td>\n",
       "      <td>1.653045e+09</td>\n",
       "      <td>3</td>\n",
       "      <td>-59.108826</td>\n",
       "      <td>2.260380</td>\n",
       "      <td>...</td>\n",
       "      <td>Not_Agent</td>\n",
       "      <td>0.0</td>\n",
       "      <td>0.000496</td>\n",
       "      <td>No_change</td>\n",
       "      <td>Building_161</td>\n",
       "      <td>NaN</td>\n",
       "      <td>76.520677</td>\n",
       "      <td>NaN</td>\n",
       "      <td>NaN</td>\n",
       "      <td>76.520677</td>\n",
       "    </tr>\n",
       "    <tr>\n",
       "      <th>1</th>\n",
       "      <td>1</td>\n",
       "      <td>1</td>\n",
       "      <td>6214921</td>\n",
       "      <td>479</td>\n",
       "      <td>2</td>\n",
       "      <td>1</td>\n",
       "      <td>1.653045e+09</td>\n",
       "      <td>3</td>\n",
       "      <td>-59.116348</td>\n",
       "      <td>2.260123</td>\n",
       "      <td>...</td>\n",
       "      <td>Not_Agent</td>\n",
       "      <td>0.0</td>\n",
       "      <td>0.008432</td>\n",
       "      <td>No_change</td>\n",
       "      <td>Building_161</td>\n",
       "      <td>112.687307</td>\n",
       "      <td>76.520677</td>\n",
       "      <td>NaN</td>\n",
       "      <td>NaN</td>\n",
       "      <td>76.520677</td>\n",
       "    </tr>\n",
       "    <tr>\n",
       "      <th>2</th>\n",
       "      <td>2</td>\n",
       "      <td>2</td>\n",
       "      <td>6214922</td>\n",
       "      <td>479</td>\n",
       "      <td>2</td>\n",
       "      <td>1</td>\n",
       "      <td>1.653045e+09</td>\n",
       "      <td>3</td>\n",
       "      <td>-59.116287</td>\n",
       "      <td>2.260142</td>\n",
       "      <td>...</td>\n",
       "      <td>Not_Agent</td>\n",
       "      <td>0.0</td>\n",
       "      <td>0.006447</td>\n",
       "      <td>No_change</td>\n",
       "      <td>Building_161</td>\n",
       "      <td>1.023749</td>\n",
       "      <td>76.520677</td>\n",
       "      <td>1.023749</td>\n",
       "      <td>NaN</td>\n",
       "      <td>76.520677</td>\n",
       "    </tr>\n",
       "    <tr>\n",
       "      <th>3</th>\n",
       "      <td>3</td>\n",
       "      <td>3</td>\n",
       "      <td>6214923</td>\n",
       "      <td>479</td>\n",
       "      <td>2</td>\n",
       "      <td>1</td>\n",
       "      <td>1.653045e+09</td>\n",
       "      <td>3</td>\n",
       "      <td>-59.134151</td>\n",
       "      <td>2.259476</td>\n",
       "      <td>...</td>\n",
       "      <td>Not_Agent</td>\n",
       "      <td>0.0</td>\n",
       "      <td>0.011905</td>\n",
       "      <td>No_change</td>\n",
       "      <td>Building_161</td>\n",
       "      <td>43.790524</td>\n",
       "      <td>76.520677</td>\n",
       "      <td>43.790524</td>\n",
       "      <td>NaN</td>\n",
       "      <td>76.520677</td>\n",
       "    </tr>\n",
       "    <tr>\n",
       "      <th>4</th>\n",
       "      <td>4</td>\n",
       "      <td>4</td>\n",
       "      <td>6214925</td>\n",
       "      <td>479</td>\n",
       "      <td>2</td>\n",
       "      <td>1</td>\n",
       "      <td>1.653045e+09</td>\n",
       "      <td>3</td>\n",
       "      <td>-59.138229</td>\n",
       "      <td>2.259230</td>\n",
       "      <td>...</td>\n",
       "      <td>Not_Agent</td>\n",
       "      <td>0.0</td>\n",
       "      <td>0.011408</td>\n",
       "      <td>No_change</td>\n",
       "      <td>Building_161</td>\n",
       "      <td>53.432133</td>\n",
       "      <td>76.520677</td>\n",
       "      <td>53.432133</td>\n",
       "      <td>NaN</td>\n",
       "      <td>76.520677</td>\n",
       "    </tr>\n",
       "    <tr>\n",
       "      <th>...</th>\n",
       "      <td>...</td>\n",
       "      <td>...</td>\n",
       "      <td>...</td>\n",
       "      <td>...</td>\n",
       "      <td>...</td>\n",
       "      <td>...</td>\n",
       "      <td>...</td>\n",
       "      <td>...</td>\n",
       "      <td>...</td>\n",
       "      <td>...</td>\n",
       "      <td>...</td>\n",
       "      <td>...</td>\n",
       "      <td>...</td>\n",
       "      <td>...</td>\n",
       "      <td>...</td>\n",
       "      <td>...</td>\n",
       "      <td>...</td>\n",
       "      <td>...</td>\n",
       "      <td>...</td>\n",
       "      <td>...</td>\n",
       "      <td>...</td>\n",
       "    </tr>\n",
       "    <tr>\n",
       "      <th>195</th>\n",
       "      <td>195</td>\n",
       "      <td>195</td>\n",
       "      <td>6215280</td>\n",
       "      <td>479</td>\n",
       "      <td>2</td>\n",
       "      <td>1</td>\n",
       "      <td>1.653045e+09</td>\n",
       "      <td>0</td>\n",
       "      <td>-59.133492</td>\n",
       "      <td>2.259826</td>\n",
       "      <td>...</td>\n",
       "      <td>Not_Agent</td>\n",
       "      <td>0.0</td>\n",
       "      <td>0.022320</td>\n",
       "      <td>53.44474029541016</td>\n",
       "      <td>road_base_network.004</td>\n",
       "      <td>NaN</td>\n",
       "      <td>76.520677</td>\n",
       "      <td>NaN</td>\n",
       "      <td>NaN</td>\n",
       "      <td>76.520677</td>\n",
       "    </tr>\n",
       "    <tr>\n",
       "      <th>196</th>\n",
       "      <td>196</td>\n",
       "      <td>196</td>\n",
       "      <td>6215282</td>\n",
       "      <td>479</td>\n",
       "      <td>2</td>\n",
       "      <td>1</td>\n",
       "      <td>1.653045e+09</td>\n",
       "      <td>0</td>\n",
       "      <td>-59.133827</td>\n",
       "      <td>2.259660</td>\n",
       "      <td>...</td>\n",
       "      <td>Not_Agent</td>\n",
       "      <td>0.0</td>\n",
       "      <td>0.010912</td>\n",
       "      <td>53.44474029541016</td>\n",
       "      <td>road_base_network.004</td>\n",
       "      <td>NaN</td>\n",
       "      <td>76.520677</td>\n",
       "      <td>NaN</td>\n",
       "      <td>NaN</td>\n",
       "      <td>76.520677</td>\n",
       "    </tr>\n",
       "    <tr>\n",
       "      <th>197</th>\n",
       "      <td>197</td>\n",
       "      <td>197</td>\n",
       "      <td>6215283</td>\n",
       "      <td>479</td>\n",
       "      <td>2</td>\n",
       "      <td>1</td>\n",
       "      <td>1.653045e+09</td>\n",
       "      <td>3</td>\n",
       "      <td>-59.162273</td>\n",
       "      <td>2.257645</td>\n",
       "      <td>...</td>\n",
       "      <td>Not_Agent</td>\n",
       "      <td>0.0</td>\n",
       "      <td>0.010912</td>\n",
       "      <td>Invalid_Section_Ends</td>\n",
       "      <td>road_base_network.004</td>\n",
       "      <td>NaN</td>\n",
       "      <td>76.520677</td>\n",
       "      <td>NaN</td>\n",
       "      <td>NaN</td>\n",
       "      <td>76.520677</td>\n",
       "    </tr>\n",
       "    <tr>\n",
       "      <th>198</th>\n",
       "      <td>198</td>\n",
       "      <td>198</td>\n",
       "      <td>6215284</td>\n",
       "      <td>479</td>\n",
       "      <td>2</td>\n",
       "      <td>1</td>\n",
       "      <td>1.653045e+09</td>\n",
       "      <td>3</td>\n",
       "      <td>-59.162540</td>\n",
       "      <td>2.256933</td>\n",
       "      <td>...</td>\n",
       "      <td>Not_Agent</td>\n",
       "      <td>0.0</td>\n",
       "      <td>0.011409</td>\n",
       "      <td>No_change</td>\n",
       "      <td>TaskBuilding_35</td>\n",
       "      <td>839.159344</td>\n",
       "      <td>76.520677</td>\n",
       "      <td>NaN</td>\n",
       "      <td>NaN</td>\n",
       "      <td>76.520677</td>\n",
       "    </tr>\n",
       "    <tr>\n",
       "      <th>199</th>\n",
       "      <td>199</td>\n",
       "      <td>199</td>\n",
       "      <td>6215286</td>\n",
       "      <td>479</td>\n",
       "      <td>2</td>\n",
       "      <td>1</td>\n",
       "      <td>1.653045e+09</td>\n",
       "      <td>3</td>\n",
       "      <td>-59.162746</td>\n",
       "      <td>2.258590</td>\n",
       "      <td>...</td>\n",
       "      <td>Not_Agent</td>\n",
       "      <td>0.0</td>\n",
       "      <td>0.010911</td>\n",
       "      <td>No_change</td>\n",
       "      <td>TaskBuilding_35</td>\n",
       "      <td>315.637494</td>\n",
       "      <td>76.520677</td>\n",
       "      <td>NaN</td>\n",
       "      <td>NaN</td>\n",
       "      <td>76.520677</td>\n",
       "    </tr>\n",
       "  </tbody>\n",
       "</table>\n",
       "<p>200 rows × 42 columns</p>\n",
       "</div>"
      ],
      "text/plain": [
       "     Unnamed: 0  index  Unnamed: 0.1  SubjectID  Session  SessionSubsection  \\\n",
       "0             0      0       6214920        479        2                  1   \n",
       "1             1      1       6214921        479        2                  1   \n",
       "2             2      2       6214922        479        2                  1   \n",
       "3             3      3       6214923        479        2                  1   \n",
       "4             4      4       6214925        479        2                  1   \n",
       "..          ...    ...           ...        ...      ...                ...   \n",
       "195         195    195       6215280        479        2                  1   \n",
       "196         196    196       6215282        479        2                  1   \n",
       "197         197    197       6215283        479        2                  1   \n",
       "198         198    198       6215284        479        2                  1   \n",
       "199         199    199       6215286        479        2                  1   \n",
       "\n",
       "     timeStampDataPointEnd  combinedGazeValidityBitmask  \\\n",
       "0             1.653045e+09                            3   \n",
       "1             1.653045e+09                            3   \n",
       "2             1.653045e+09                            3   \n",
       "3             1.653045e+09                            3   \n",
       "4             1.653045e+09                            3   \n",
       "..                     ...                          ...   \n",
       "195           1.653045e+09                            0   \n",
       "196           1.653045e+09                            0   \n",
       "197           1.653045e+09                            3   \n",
       "198           1.653045e+09                            3   \n",
       "199           1.653045e+09                            3   \n",
       "\n",
       "     eyePositionCombinedWorld.x  eyePositionCombinedWorld.y  ...  Face_Hits  \\\n",
       "0                    -59.108826                    2.260380  ...  Not_Agent   \n",
       "1                    -59.116348                    2.260123  ...  Not_Agent   \n",
       "2                    -59.116287                    2.260142  ...  Not_Agent   \n",
       "3                    -59.134151                    2.259476  ...  Not_Agent   \n",
       "4                    -59.138229                    2.259230  ...  Not_Agent   \n",
       "..                          ...                         ...  ...        ...   \n",
       "195                  -59.133492                    2.259826  ...  Not_Agent   \n",
       "196                  -59.133827                    2.259660  ...  Not_Agent   \n",
       "197                  -59.162273                    2.257645  ...  Not_Agent   \n",
       "198                  -59.162540                    2.256933  ...  Not_Agent   \n",
       "199                  -59.162746                    2.258590  ...  Not_Agent   \n",
       "\n",
       "     Continuous_Time  Time_Shift          Bitmask_flag  Interpolated_collider  \\\n",
       "0                0.0    0.000496             No_change           Building_161   \n",
       "1                0.0    0.008432             No_change           Building_161   \n",
       "2                0.0    0.006447             No_change           Building_161   \n",
       "3                0.0    0.011905             No_change           Building_161   \n",
       "4                0.0    0.011408             No_change           Building_161   \n",
       "..               ...         ...                   ...                    ...   \n",
       "195              0.0    0.022320     53.44474029541016  road_base_network.004   \n",
       "196              0.0    0.010912     53.44474029541016  road_base_network.004   \n",
       "197              0.0    0.010912  Invalid_Section_Ends  road_base_network.004   \n",
       "198              0.0    0.011409             No_change        TaskBuilding_35   \n",
       "199              0.0    0.010911             No_change        TaskBuilding_35   \n",
       "\n",
       "     combined_vel     thresh      isFix  Threshi    THRESHI  \n",
       "0             NaN  76.520677        NaN      NaN  76.520677  \n",
       "1      112.687307  76.520677        NaN      NaN  76.520677  \n",
       "2        1.023749  76.520677   1.023749      NaN  76.520677  \n",
       "3       43.790524  76.520677  43.790524      NaN  76.520677  \n",
       "4       53.432133  76.520677  53.432133      NaN  76.520677  \n",
       "..            ...        ...        ...      ...        ...  \n",
       "195           NaN  76.520677        NaN      NaN  76.520677  \n",
       "196           NaN  76.520677        NaN      NaN  76.520677  \n",
       "197           NaN  76.520677        NaN      NaN  76.520677  \n",
       "198    839.159344  76.520677        NaN      NaN  76.520677  \n",
       "199    315.637494  76.520677        NaN      NaN  76.520677  \n",
       "\n",
       "[200 rows x 42 columns]"
      ]
     },
     "execution_count": 110,
     "metadata": {},
     "output_type": "execute_result"
    }
   ],
   "source": [
    "for_eye.head(200)"
   ]
  },
  {
   "cell_type": "code",
   "execution_count": 98,
   "id": "95ffbee4-a66f-4f09-8066-a9dfe3cc6092",
   "metadata": {},
   "outputs": [
    {
     "data": {
      "text/plain": [
       "0      1.653045e+09\n",
       "1      1.653045e+09\n",
       "2      1.653045e+09\n",
       "3      1.653045e+09\n",
       "4      1.653045e+09\n",
       "           ...     \n",
       "175    1.653048e+09\n",
       "176    1.653048e+09\n",
       "177    1.653048e+09\n",
       "178    1.653048e+09\n",
       "179    1.653048e+09\n",
       "Name: start, Length: 180, dtype: float64"
      ]
     },
     "execution_count": 98,
     "metadata": {},
     "output_type": "execute_result"
    }
   ],
   "source": [
    "int_data.start"
   ]
  },
  {
   "cell_type": "code",
   "execution_count": 96,
   "id": "48f9fe7f-7319-45f3-aa8e-581ce34c1f65",
   "metadata": {},
   "outputs": [
    {
     "data": {
      "text/html": [
       "<div>\n",
       "<style scoped>\n",
       "    .dataframe tbody tr th:only-of-type {\n",
       "        vertical-align: middle;\n",
       "    }\n",
       "\n",
       "    .dataframe tbody tr th {\n",
       "        vertical-align: top;\n",
       "    }\n",
       "\n",
       "    .dataframe thead th {\n",
       "        text-align: right;\n",
       "    }\n",
       "</style>\n",
       "<table border=\"1\" class=\"dataframe\">\n",
       "  <thead>\n",
       "    <tr style=\"text-align: right;\">\n",
       "      <th></th>\n",
       "      <th>Unnamed: 0</th>\n",
       "      <th>index</th>\n",
       "      <th>Unnamed: 0.1</th>\n",
       "      <th>SubjectID</th>\n",
       "      <th>Session</th>\n",
       "      <th>SessionSubsection</th>\n",
       "      <th>timeStampDataPointEnd</th>\n",
       "      <th>combinedGazeValidityBitmask</th>\n",
       "      <th>eyePositionCombinedWorld.x</th>\n",
       "      <th>eyePositionCombinedWorld.y</th>\n",
       "      <th>...</th>\n",
       "      <th>Collider_stays</th>\n",
       "      <th>Face_Hits</th>\n",
       "      <th>Continuous_Time</th>\n",
       "      <th>Time_Shift</th>\n",
       "      <th>Bitmask_flag</th>\n",
       "      <th>Interpolated_collider</th>\n",
       "      <th>combined_vel</th>\n",
       "      <th>thresh</th>\n",
       "      <th>isFix</th>\n",
       "      <th>Threshi</th>\n",
       "    </tr>\n",
       "  </thead>\n",
       "  <tbody>\n",
       "    <tr>\n",
       "      <th>0</th>\n",
       "      <td>0</td>\n",
       "      <td>0</td>\n",
       "      <td>6214920</td>\n",
       "      <td>479</td>\n",
       "      <td>2</td>\n",
       "      <td>1</td>\n",
       "      <td>1.653045e+09</td>\n",
       "      <td>3</td>\n",
       "      <td>-59.108826</td>\n",
       "      <td>2.260380</td>\n",
       "      <td>...</td>\n",
       "      <td>False</td>\n",
       "      <td>Not_Agent</td>\n",
       "      <td>0.0</td>\n",
       "      <td>0.000496</td>\n",
       "      <td>No_change</td>\n",
       "      <td>Building_161</td>\n",
       "      <td>NaN</td>\n",
       "      <td>76.520677</td>\n",
       "      <td>NaN</td>\n",
       "      <td>NaN</td>\n",
       "    </tr>\n",
       "    <tr>\n",
       "      <th>1</th>\n",
       "      <td>1</td>\n",
       "      <td>1</td>\n",
       "      <td>6214921</td>\n",
       "      <td>479</td>\n",
       "      <td>2</td>\n",
       "      <td>1</td>\n",
       "      <td>1.653045e+09</td>\n",
       "      <td>3</td>\n",
       "      <td>-59.116348</td>\n",
       "      <td>2.260123</td>\n",
       "      <td>...</td>\n",
       "      <td>False</td>\n",
       "      <td>Not_Agent</td>\n",
       "      <td>0.0</td>\n",
       "      <td>0.008432</td>\n",
       "      <td>No_change</td>\n",
       "      <td>Building_161</td>\n",
       "      <td>112.687307</td>\n",
       "      <td>76.520677</td>\n",
       "      <td>NaN</td>\n",
       "      <td>NaN</td>\n",
       "    </tr>\n",
       "    <tr>\n",
       "      <th>2</th>\n",
       "      <td>2</td>\n",
       "      <td>2</td>\n",
       "      <td>6214922</td>\n",
       "      <td>479</td>\n",
       "      <td>2</td>\n",
       "      <td>1</td>\n",
       "      <td>1.653045e+09</td>\n",
       "      <td>3</td>\n",
       "      <td>-59.116287</td>\n",
       "      <td>2.260142</td>\n",
       "      <td>...</td>\n",
       "      <td>False</td>\n",
       "      <td>Not_Agent</td>\n",
       "      <td>0.0</td>\n",
       "      <td>0.006447</td>\n",
       "      <td>No_change</td>\n",
       "      <td>Building_161</td>\n",
       "      <td>1.023749</td>\n",
       "      <td>76.520677</td>\n",
       "      <td>1.023749</td>\n",
       "      <td>NaN</td>\n",
       "    </tr>\n",
       "    <tr>\n",
       "      <th>3</th>\n",
       "      <td>3</td>\n",
       "      <td>3</td>\n",
       "      <td>6214923</td>\n",
       "      <td>479</td>\n",
       "      <td>2</td>\n",
       "      <td>1</td>\n",
       "      <td>1.653045e+09</td>\n",
       "      <td>3</td>\n",
       "      <td>-59.134151</td>\n",
       "      <td>2.259476</td>\n",
       "      <td>...</td>\n",
       "      <td>False</td>\n",
       "      <td>Not_Agent</td>\n",
       "      <td>0.0</td>\n",
       "      <td>0.011905</td>\n",
       "      <td>No_change</td>\n",
       "      <td>Building_161</td>\n",
       "      <td>43.790524</td>\n",
       "      <td>76.520677</td>\n",
       "      <td>43.790524</td>\n",
       "      <td>NaN</td>\n",
       "    </tr>\n",
       "    <tr>\n",
       "      <th>4</th>\n",
       "      <td>4</td>\n",
       "      <td>4</td>\n",
       "      <td>6214925</td>\n",
       "      <td>479</td>\n",
       "      <td>2</td>\n",
       "      <td>1</td>\n",
       "      <td>1.653045e+09</td>\n",
       "      <td>3</td>\n",
       "      <td>-59.138229</td>\n",
       "      <td>2.259230</td>\n",
       "      <td>...</td>\n",
       "      <td>False</td>\n",
       "      <td>Not_Agent</td>\n",
       "      <td>0.0</td>\n",
       "      <td>0.011408</td>\n",
       "      <td>No_change</td>\n",
       "      <td>Building_161</td>\n",
       "      <td>53.432133</td>\n",
       "      <td>76.520677</td>\n",
       "      <td>53.432133</td>\n",
       "      <td>NaN</td>\n",
       "    </tr>\n",
       "  </tbody>\n",
       "</table>\n",
       "<p>5 rows × 41 columns</p>\n",
       "</div>"
      ],
      "text/plain": [
       "   Unnamed: 0  index  Unnamed: 0.1  SubjectID  Session  SessionSubsection  \\\n",
       "0           0      0       6214920        479        2                  1   \n",
       "1           1      1       6214921        479        2                  1   \n",
       "2           2      2       6214922        479        2                  1   \n",
       "3           3      3       6214923        479        2                  1   \n",
       "4           4      4       6214925        479        2                  1   \n",
       "\n",
       "   timeStampDataPointEnd  combinedGazeValidityBitmask  \\\n",
       "0           1.653045e+09                            3   \n",
       "1           1.653045e+09                            3   \n",
       "2           1.653045e+09                            3   \n",
       "3           1.653045e+09                            3   \n",
       "4           1.653045e+09                            3   \n",
       "\n",
       "   eyePositionCombinedWorld.x  eyePositionCombinedWorld.y  ...  \\\n",
       "0                  -59.108826                    2.260380  ...   \n",
       "1                  -59.116348                    2.260123  ...   \n",
       "2                  -59.116287                    2.260142  ...   \n",
       "3                  -59.134151                    2.259476  ...   \n",
       "4                  -59.138229                    2.259230  ...   \n",
       "\n",
       "   Collider_stays  Face_Hits  Continuous_Time  Time_Shift  Bitmask_flag  \\\n",
       "0           False  Not_Agent              0.0    0.000496     No_change   \n",
       "1           False  Not_Agent              0.0    0.008432     No_change   \n",
       "2           False  Not_Agent              0.0    0.006447     No_change   \n",
       "3           False  Not_Agent              0.0    0.011905     No_change   \n",
       "4           False  Not_Agent              0.0    0.011408     No_change   \n",
       "\n",
       "   Interpolated_collider  combined_vel     thresh      isFix  Threshi  \n",
       "0           Building_161           NaN  76.520677        NaN      NaN  \n",
       "1           Building_161    112.687307  76.520677        NaN      NaN  \n",
       "2           Building_161      1.023749  76.520677   1.023749      NaN  \n",
       "3           Building_161     43.790524  76.520677  43.790524      NaN  \n",
       "4           Building_161     53.432133  76.520677  53.432133      NaN  \n",
       "\n",
       "[5 rows x 41 columns]"
      ]
     },
     "execution_count": 96,
     "metadata": {},
     "output_type": "execute_result"
    }
   ],
   "source": [
    "for_eye.head()"
   ]
  },
  {
   "cell_type": "code",
   "execution_count": 37,
   "id": "545e8e7d-bd40-4da0-b038-b9761380040e",
   "metadata": {},
   "outputs": [],
   "source": [
    "New = for_eye[\"combined_vel\"]"
   ]
  },
  {
   "cell_type": "code",
   "execution_count": 47,
   "id": "5b9caf4f-34b4-4770-927a-9161a4ede9ef",
   "metadata": {},
   "outputs": [
    {
     "data": {
      "text/plain": [
       "Index(['Unnamed: 0', 'index', 'Unnamed: 0.1', 'SubjectID', 'Session',\n",
       "       'SessionSubsection', 'timeStampDataPointEnd',\n",
       "       'combinedGazeValidityBitmask', 'eyePositionCombinedWorld.x',\n",
       "       'eyePositionCombinedWorld.y', 'eyePositionCombinedWorld.z',\n",
       "       'eyeDirectionCombinedWorld.y', 'eyeDirectionCombinedWorld.z',\n",
       "       'eyeDirectionCombinedLocal.x', 'eyeDirectionCombinedLocal.y',\n",
       "       'eyeDirectionCombinedLocal.z', 'playerBodyPosition.x',\n",
       "       'playerBodyPosition.y', 'playerBodyPosition.z', 'bodyTrackerRotation.x',\n",
       "       'bodyTrackerRotation.y', 'bodyTrackerRotation.z', 'hitColliderType',\n",
       "       'hitObjectColliderName', 'ordinalOfHit', 'hitPointOnObject_x',\n",
       "       'hitPointOnObject_y', 'hitPointOnObject_z', 'Eucledian_distance',\n",
       "       'Collider_Categorical', 'Previous_Euclidean_value', 'Collider_stays',\n",
       "       'Face_Hits', 'Continuous_Time', 'Time_Shift', 'Bitmask_flag',\n",
       "       'Interpolated_collider', 'combined_vel'],\n",
       "      dtype='object')"
      ]
     },
     "execution_count": 47,
     "metadata": {},
     "output_type": "execute_result"
    }
   ],
   "source": [
    "for_eye.columns"
   ]
  },
  {
   "cell_type": "code",
   "execution_count": 38,
   "id": "7695689c-5580-4932-98fd-fa08a42a0e95",
   "metadata": {},
   "outputs": [],
   "source": [
    "Old = One[\"combined_vel\"]"
   ]
  },
  {
   "cell_type": "code",
   "execution_count": 39,
   "id": "d6d77f67-4116-4afe-b0b3-1c3c9af44b4e",
   "metadata": {},
   "outputs": [
    {
     "data": {
      "text/plain": [
       "<matplotlib.collections.PathCollection at 0x7f8212181c40>"
      ]
     },
     "execution_count": 39,
     "metadata": {},
     "output_type": "execute_result"
    },
    {
     "data": {
      "image/png": "[encoded data removed]",
      "text/plain": [
       "<Figure size 432x288 with 1 Axes>"
      ]
     },
     "metadata": {
      "needs_background": "light"
     },
     "output_type": "display_data"
    }
   ],
   "source": [
    "pyplot.scatter(New, Old)"
   ]
  },
  {
   "cell_type": "code",
   "execution_count": 40,
   "id": "0142ad73-429c-4309-ab67-6392165ccb01",
   "metadata": {},
   "outputs": [
    {
     "name": "stdout",
     "output_type": "stream",
     "text": [
      "Spearmans correlation: 0.927\n"
     ]
    }
   ],
   "source": [
    "from scipy.stats import spearmanr\n",
    "corr, _ = spearmanr(New, Old, nan_policy='omit')\n",
    "print('Spearmans correlation: %.3f' % corr)"
   ]
  },
  {
   "cell_type": "code",
   "execution_count": 41,
   "id": "3ae71043-0552-45a1-9c20-7a939f3d637e",
   "metadata": {},
   "outputs": [],
   "source": [
    "### 10 second starts here \n",
    "int_len = 10  # number of seconds of the interval\n",
    "time = for_eye[\"timeStampDataPointEnd\"].values\n",
    "start = []\n",
    "end = []\n",
    "start_idx = []\n",
    "end_idx = []\n",
    "for t, ti in enumerate(time):\n",
    "    if ti == time[0]:\n",
    "        start.append(ti)\n",
    "        start_idx.append(t)\n",
    "    if ti - start[-1] > int_len:\n",
    "        # if the current timepoint is more than int_len away from start, set it to new start\n",
    "        start.append(ti)\n",
    "        start_idx.append(t)\n",
    "        # and set end to the timepoint before that\n",
    "        end.append(time[t - 1])\n",
    "        end_idx.append(t - 1)\n",
    "# add the last timepoint to end\n",
    "# (there is a very slim chance that the last start and end are the same timepoint --> might cause errors)\n",
    "end.append(time[-1])\n",
    "end_idx.append(len(time))"
   ]
  },
  {
   "cell_type": "code",
   "execution_count": 60,
   "id": "ad86c5fd-fe0a-4bb5-9da2-c97bd9417a9e",
   "metadata": {},
   "outputs": [
    {
     "data": {
      "text/plain": [
       "0     0.000\n",
       "1     0.000\n",
       "2     0.000\n",
       "3     0.000\n",
       "4     0.001\n",
       "5     0.001\n",
       "6     0.001\n",
       "7     0.002\n",
       "8     0.002\n",
       "9     0.002\n",
       "10    0.002\n",
       "11    0.002\n",
       "12    0.003\n",
       "13    0.003\n",
       "14    0.003\n",
       "15    0.004\n",
       "16    0.004\n",
       "17    0.004\n",
       "18    0.005\n",
       "19    0.005\n",
       "Name: Continuous_Time, dtype: float64"
      ]
     },
     "execution_count": 60,
     "metadata": {},
     "output_type": "execute_result"
    }
   ],
   "source": [
    "for_eye.Continuous_Time.head(20)"
   ]
  },
  {
   "cell_type": "code",
   "execution_count": 76,
   "id": "3df33980-8a5e-4468-b728-3dd247b1c3a6",
   "metadata": {},
   "outputs": [],
   "source": [
    "import datetime\n",
    "for_eye[\"datetime_objects\"] = [datetime.datetime.utcfromtimestamp(timestamp) for timestamp in for_eye[\"timeStampDataPointEnd\"]]\n",
    "df_resampled = for_eye.resample('10S', on='datetime_objects').first()\n",
    "# Get the index of the resampled DataFrame\n",
    "resampled_index = df_resampled.index"
   ]
  },
  {
   "cell_type": "code",
   "execution_count": 87,
   "id": "bff9b2a1-b6d0-4aa9-9383-6451b041237a",
   "metadata": {},
   "outputs": [
    {
     "ename": "ValueError",
     "evalue": "window must be an integer",
     "output_type": "error",
     "traceback": [
      "\u001b[0;31m---------------------------------------------------------------------------\u001b[0m",
      "\u001b[0;31mValueError\u001b[0m                                Traceback (most recent call last)",
      "\u001b[0;32m<ipython-input-87-856c8d28c82e>\u001b[0m in \u001b[0;36m<module>\u001b[0;34m\u001b[0m\n\u001b[0;32m----> 1\u001b[0;31m \u001b[0mdf_resampled\u001b[0m\u001b[0;34m[\u001b[0m\u001b[0;34m\"saccade_thi\"\u001b[0m\u001b[0;34m]\u001b[0m\u001b[0;34m,\u001b[0m \u001b[0mdf_resampled\u001b[0m\u001b[0;34m[\u001b[0m\u001b[0;34m\"thresi\"\u001b[0m\u001b[0;34m]\u001b[0m \u001b[0;34m=\u001b[0m \u001b[0mfor_eye\u001b[0m\u001b[0;34m[\u001b[0m\u001b[0;34m\"combined_vel\"\u001b[0m\u001b[0;34m]\u001b[0m\u001b[0;34m.\u001b[0m\u001b[0mrolling\u001b[0m\u001b[0;34m(\u001b[0m\u001b[0;34m'10s'\u001b[0m\u001b[0;34m)\u001b[0m\u001b[0;34m.\u001b[0m\u001b[0mapply\u001b[0m\u001b[0;34m(\u001b[0m\u001b[0mat_mad\u001b[0m\u001b[0;34m)\u001b[0m\u001b[0;34m\u001b[0m\u001b[0;34m\u001b[0m\u001b[0m\n\u001b[0m",
      "\u001b[0;32m~/opt/anaconda3/lib/python3.8/site-packages/pandas/core/generic.py\u001b[0m in \u001b[0;36mrolling\u001b[0;34m(self, window, min_periods, center, win_type, on, axis, closed)\u001b[0m\n\u001b[1;32m  11243\u001b[0m             )\n\u001b[1;32m  11244\u001b[0m \u001b[0;34m\u001b[0m\u001b[0m\n\u001b[0;32m> 11245\u001b[0;31m         return Rolling(\n\u001b[0m\u001b[1;32m  11246\u001b[0m             \u001b[0mself\u001b[0m\u001b[0;34m,\u001b[0m\u001b[0;34m\u001b[0m\u001b[0;34m\u001b[0m\u001b[0m\n\u001b[1;32m  11247\u001b[0m             \u001b[0mwindow\u001b[0m\u001b[0;34m=\u001b[0m\u001b[0mwindow\u001b[0m\u001b[0;34m,\u001b[0m\u001b[0;34m\u001b[0m\u001b[0;34m\u001b[0m\u001b[0m\n",
      "\u001b[0;32m~/opt/anaconda3/lib/python3.8/site-packages/pandas/core/window/rolling.py\u001b[0m in \u001b[0;36m__init__\u001b[0;34m(self, obj, window, min_periods, center, win_type, axis, on, closed, **kwargs)\u001b[0m\n\u001b[1;32m    111\u001b[0m         \u001b[0mself\u001b[0m\u001b[0;34m.\u001b[0m\u001b[0mwin_freq\u001b[0m \u001b[0;34m=\u001b[0m \u001b[0;32mNone\u001b[0m\u001b[0;34m\u001b[0m\u001b[0;34m\u001b[0m\u001b[0m\n\u001b[1;32m    112\u001b[0m         \u001b[0mself\u001b[0m\u001b[0;34m.\u001b[0m\u001b[0maxis\u001b[0m \u001b[0;34m=\u001b[0m \u001b[0mobj\u001b[0m\u001b[0;34m.\u001b[0m\u001b[0m_get_axis_number\u001b[0m\u001b[0;34m(\u001b[0m\u001b[0maxis\u001b[0m\u001b[0;34m)\u001b[0m \u001b[0;32mif\u001b[0m \u001b[0maxis\u001b[0m \u001b[0;32mis\u001b[0m \u001b[0;32mnot\u001b[0m \u001b[0;32mNone\u001b[0m \u001b[0;32melse\u001b[0m \u001b[0;32mNone\u001b[0m\u001b[0;34m\u001b[0m\u001b[0;34m\u001b[0m\u001b[0m\n\u001b[0;32m--> 113\u001b[0;31m         \u001b[0mself\u001b[0m\u001b[0;34m.\u001b[0m\u001b[0mvalidate\u001b[0m\u001b[0;34m(\u001b[0m\u001b[0;34m)\u001b[0m\u001b[0;34m\u001b[0m\u001b[0;34m\u001b[0m\u001b[0m\n\u001b[0m\u001b[1;32m    114\u001b[0m \u001b[0;34m\u001b[0m\u001b[0m\n\u001b[1;32m    115\u001b[0m     \u001b[0;34m@\u001b[0m\u001b[0mproperty\u001b[0m\u001b[0;34m\u001b[0m\u001b[0;34m\u001b[0m\u001b[0m\n",
      "\u001b[0;32m~/opt/anaconda3/lib/python3.8/site-packages/pandas/core/window/rolling.py\u001b[0m in \u001b[0;36mvalidate\u001b[0;34m(self)\u001b[0m\n\u001b[1;32m   1919\u001b[0m             \u001b[0;32mreturn\u001b[0m\u001b[0;34m\u001b[0m\u001b[0;34m\u001b[0m\u001b[0m\n\u001b[1;32m   1920\u001b[0m         \u001b[0;32melif\u001b[0m \u001b[0;32mnot\u001b[0m \u001b[0mis_integer\u001b[0m\u001b[0;34m(\u001b[0m\u001b[0mself\u001b[0m\u001b[0;34m.\u001b[0m\u001b[0mwindow\u001b[0m\u001b[0;34m)\u001b[0m\u001b[0;34m:\u001b[0m\u001b[0;34m\u001b[0m\u001b[0;34m\u001b[0m\u001b[0m\n\u001b[0;32m-> 1921\u001b[0;31m             \u001b[0;32mraise\u001b[0m \u001b[0mValueError\u001b[0m\u001b[0;34m(\u001b[0m\u001b[0;34m\"window must be an integer\"\u001b[0m\u001b[0;34m)\u001b[0m\u001b[0;34m\u001b[0m\u001b[0;34m\u001b[0m\u001b[0m\n\u001b[0m\u001b[1;32m   1922\u001b[0m         \u001b[0;32melif\u001b[0m \u001b[0mself\u001b[0m\u001b[0;34m.\u001b[0m\u001b[0mwindow\u001b[0m \u001b[0;34m<\u001b[0m \u001b[0;36m0\u001b[0m\u001b[0;34m:\u001b[0m\u001b[0;34m\u001b[0m\u001b[0;34m\u001b[0m\u001b[0m\n\u001b[1;32m   1923\u001b[0m             \u001b[0;32mraise\u001b[0m \u001b[0mValueError\u001b[0m\u001b[0;34m(\u001b[0m\u001b[0;34m\"window must be non-negative\"\u001b[0m\u001b[0;34m)\u001b[0m\u001b[0;34m\u001b[0m\u001b[0;34m\u001b[0m\u001b[0m\n",
      "\u001b[0;31mValueError\u001b[0m: window must be an integer"
     ]
    }
   ],
   "source": [
    "df_resampled[\"saccade_thi\"], df_resampled[\"thresi\"] = for_eye[\"combined_vel\"].rolling('10s').apply(at_mad)"
   ]
  },
  {
   "cell_type": "code",
   "execution_count": 82,
   "id": "3e9da493-6993-4f6f-a0ae-fd44961cc27a",
   "metadata": {},
   "outputs": [
    {
     "ename": "ValueError",
     "evalue": "Length of values (5) does not match length of index (263)",
     "output_type": "error",
     "traceback": [
      "\u001b[0;31m---------------------------------------------------------------------------\u001b[0m",
      "\u001b[0;31mValueError\u001b[0m                                Traceback (most recent call last)",
      "\u001b[0;32m<ipython-input-82-dad3d1d5b3ad>\u001b[0m in \u001b[0;36m<module>\u001b[0;34m\u001b[0m\n\u001b[0;32m----> 1\u001b[0;31m \u001b[0mdf_resampled\u001b[0m\u001b[0;34m[\u001b[0m\u001b[0;34m\"saccade_thi\"\u001b[0m\u001b[0;34m]\u001b[0m\u001b[0;34m,\u001b[0m \u001b[0mdf_resampled\u001b[0m\u001b[0;34m[\u001b[0m\u001b[0;34m\"thresi\"\u001b[0m\u001b[0;34m]\u001b[0m \u001b[0;34m=\u001b[0m \u001b[0mat_mad\u001b[0m\u001b[0;34m(\u001b[0m\u001b[0mdf_resampled\u001b[0m\u001b[0;34m.\u001b[0m\u001b[0mcombined_vel\u001b[0m\u001b[0;34m)\u001b[0m\u001b[0;34m\u001b[0m\u001b[0;34m\u001b[0m\u001b[0m\n\u001b[0m",
      "\u001b[0;32m~/opt/anaconda3/lib/python3.8/site-packages/pandas/core/frame.py\u001b[0m in \u001b[0;36m__setitem__\u001b[0;34m(self, key, value)\u001b[0m\n\u001b[1;32m   3161\u001b[0m         \u001b[0;32melse\u001b[0m\u001b[0;34m:\u001b[0m\u001b[0;34m\u001b[0m\u001b[0;34m\u001b[0m\u001b[0m\n\u001b[1;32m   3162\u001b[0m             \u001b[0;31m# set column\u001b[0m\u001b[0;34m\u001b[0m\u001b[0;34m\u001b[0m\u001b[0;34m\u001b[0m\u001b[0m\n\u001b[0;32m-> 3163\u001b[0;31m             \u001b[0mself\u001b[0m\u001b[0;34m.\u001b[0m\u001b[0m_set_item\u001b[0m\u001b[0;34m(\u001b[0m\u001b[0mkey\u001b[0m\u001b[0;34m,\u001b[0m \u001b[0mvalue\u001b[0m\u001b[0;34m)\u001b[0m\u001b[0;34m\u001b[0m\u001b[0;34m\u001b[0m\u001b[0m\n\u001b[0m\u001b[1;32m   3164\u001b[0m \u001b[0;34m\u001b[0m\u001b[0m\n\u001b[1;32m   3165\u001b[0m     \u001b[0;32mdef\u001b[0m \u001b[0m_setitem_slice\u001b[0m\u001b[0;34m(\u001b[0m\u001b[0mself\u001b[0m\u001b[0;34m,\u001b[0m \u001b[0mkey\u001b[0m\u001b[0;34m:\u001b[0m \u001b[0mslice\u001b[0m\u001b[0;34m,\u001b[0m \u001b[0mvalue\u001b[0m\u001b[0;34m)\u001b[0m\u001b[0;34m:\u001b[0m\u001b[0;34m\u001b[0m\u001b[0;34m\u001b[0m\u001b[0m\n",
      "\u001b[0;32m~/opt/anaconda3/lib/python3.8/site-packages/pandas/core/frame.py\u001b[0m in \u001b[0;36m_set_item\u001b[0;34m(self, key, value)\u001b[0m\n\u001b[1;32m   3240\u001b[0m         \"\"\"\n\u001b[1;32m   3241\u001b[0m         \u001b[0mself\u001b[0m\u001b[0;34m.\u001b[0m\u001b[0m_ensure_valid_index\u001b[0m\u001b[0;34m(\u001b[0m\u001b[0mvalue\u001b[0m\u001b[0;34m)\u001b[0m\u001b[0;34m\u001b[0m\u001b[0;34m\u001b[0m\u001b[0m\n\u001b[0;32m-> 3242\u001b[0;31m         \u001b[0mvalue\u001b[0m \u001b[0;34m=\u001b[0m \u001b[0mself\u001b[0m\u001b[0;34m.\u001b[0m\u001b[0m_sanitize_column\u001b[0m\u001b[0;34m(\u001b[0m\u001b[0mkey\u001b[0m\u001b[0;34m,\u001b[0m \u001b[0mvalue\u001b[0m\u001b[0;34m)\u001b[0m\u001b[0;34m\u001b[0m\u001b[0;34m\u001b[0m\u001b[0m\n\u001b[0m\u001b[1;32m   3243\u001b[0m         \u001b[0mNDFrame\u001b[0m\u001b[0;34m.\u001b[0m\u001b[0m_set_item\u001b[0m\u001b[0;34m(\u001b[0m\u001b[0mself\u001b[0m\u001b[0;34m,\u001b[0m \u001b[0mkey\u001b[0m\u001b[0;34m,\u001b[0m \u001b[0mvalue\u001b[0m\u001b[0;34m)\u001b[0m\u001b[0;34m\u001b[0m\u001b[0;34m\u001b[0m\u001b[0m\n\u001b[1;32m   3244\u001b[0m \u001b[0;34m\u001b[0m\u001b[0m\n",
      "\u001b[0;32m~/opt/anaconda3/lib/python3.8/site-packages/pandas/core/frame.py\u001b[0m in \u001b[0;36m_sanitize_column\u001b[0;34m(self, key, value, broadcast)\u001b[0m\n\u001b[1;32m   3897\u001b[0m \u001b[0;34m\u001b[0m\u001b[0m\n\u001b[1;32m   3898\u001b[0m             \u001b[0;31m# turn me into an ndarray\u001b[0m\u001b[0;34m\u001b[0m\u001b[0;34m\u001b[0m\u001b[0;34m\u001b[0m\u001b[0m\n\u001b[0;32m-> 3899\u001b[0;31m             \u001b[0mvalue\u001b[0m \u001b[0;34m=\u001b[0m \u001b[0msanitize_index\u001b[0m\u001b[0;34m(\u001b[0m\u001b[0mvalue\u001b[0m\u001b[0;34m,\u001b[0m \u001b[0mself\u001b[0m\u001b[0;34m.\u001b[0m\u001b[0mindex\u001b[0m\u001b[0;34m)\u001b[0m\u001b[0;34m\u001b[0m\u001b[0;34m\u001b[0m\u001b[0m\n\u001b[0m\u001b[1;32m   3900\u001b[0m             \u001b[0;32mif\u001b[0m \u001b[0;32mnot\u001b[0m \u001b[0misinstance\u001b[0m\u001b[0;34m(\u001b[0m\u001b[0mvalue\u001b[0m\u001b[0;34m,\u001b[0m \u001b[0;34m(\u001b[0m\u001b[0mnp\u001b[0m\u001b[0;34m.\u001b[0m\u001b[0mndarray\u001b[0m\u001b[0;34m,\u001b[0m \u001b[0mIndex\u001b[0m\u001b[0;34m)\u001b[0m\u001b[0;34m)\u001b[0m\u001b[0;34m:\u001b[0m\u001b[0;34m\u001b[0m\u001b[0;34m\u001b[0m\u001b[0m\n\u001b[1;32m   3901\u001b[0m                 \u001b[0;32mif\u001b[0m \u001b[0misinstance\u001b[0m\u001b[0;34m(\u001b[0m\u001b[0mvalue\u001b[0m\u001b[0;34m,\u001b[0m \u001b[0mlist\u001b[0m\u001b[0;34m)\u001b[0m \u001b[0;32mand\u001b[0m \u001b[0mlen\u001b[0m\u001b[0;34m(\u001b[0m\u001b[0mvalue\u001b[0m\u001b[0;34m)\u001b[0m \u001b[0;34m>\u001b[0m \u001b[0;36m0\u001b[0m\u001b[0;34m:\u001b[0m\u001b[0;34m\u001b[0m\u001b[0;34m\u001b[0m\u001b[0m\n",
      "\u001b[0;32m~/opt/anaconda3/lib/python3.8/site-packages/pandas/core/internals/construction.py\u001b[0m in \u001b[0;36msanitize_index\u001b[0;34m(data, index)\u001b[0m\n\u001b[1;32m    749\u001b[0m     \"\"\"\n\u001b[1;32m    750\u001b[0m     \u001b[0;32mif\u001b[0m \u001b[0mlen\u001b[0m\u001b[0;34m(\u001b[0m\u001b[0mdata\u001b[0m\u001b[0;34m)\u001b[0m \u001b[0;34m!=\u001b[0m \u001b[0mlen\u001b[0m\u001b[0;34m(\u001b[0m\u001b[0mindex\u001b[0m\u001b[0;34m)\u001b[0m\u001b[0;34m:\u001b[0m\u001b[0;34m\u001b[0m\u001b[0;34m\u001b[0m\u001b[0m\n\u001b[0;32m--> 751\u001b[0;31m         raise ValueError(\n\u001b[0m\u001b[1;32m    752\u001b[0m             \u001b[0;34m\"Length of values \"\u001b[0m\u001b[0;34m\u001b[0m\u001b[0;34m\u001b[0m\u001b[0m\n\u001b[1;32m    753\u001b[0m             \u001b[0;34mf\"({len(data)}) \"\u001b[0m\u001b[0;34m\u001b[0m\u001b[0;34m\u001b[0m\u001b[0m\n",
      "\u001b[0;31mValueError\u001b[0m: Length of values (5) does not match length of index (263)"
     ]
    }
   ],
   "source": [
    "df_resampled[\"saccade_thi\"], df_resampled[\"thresi\"] = at_mad(df_resampled.combined_vel)"
   ]
  },
  {
   "cell_type": "code",
   "execution_count": 80,
   "id": "40a3a349-f5bd-44b7-b726-7e989f486278",
   "metadata": {},
   "outputs": [
    {
     "ename": "IndexError",
     "evalue": "invalid index to scalar variable.",
     "output_type": "error",
     "traceback": [
      "\u001b[0;31m---------------------------------------------------------------------------\u001b[0m",
      "\u001b[0;31mIndexError\u001b[0m                                Traceback (most recent call last)",
      "\u001b[0;32m<ipython-input-80-0a7ee44cf10e>\u001b[0m in \u001b[0;36m<module>\u001b[0;34m\u001b[0m\n\u001b[0;32m----> 1\u001b[0;31m \u001b[0msaccade_thi\u001b[0m\u001b[0;34m[\u001b[0m\u001b[0;36m0\u001b[0m\u001b[0;34m]\u001b[0m\u001b[0;34m\u001b[0m\u001b[0;34m\u001b[0m\u001b[0m\n\u001b[0m",
      "\u001b[0;31mIndexError\u001b[0m: invalid index to scalar variable."
     ]
    }
   ],
   "source": [
    "saccade_thi"
   ]
  },
  {
   "cell_type": "code",
   "execution_count": 78,
   "id": "143c7975-753e-4c24-aebb-9cebf6ee7b31",
   "metadata": {},
   "outputs": [
    {
     "data": {
      "text/plain": [
       "Index(['Unnamed: 0', 'index', 'Unnamed: 0.1', 'SubjectID', 'Session',\n",
       "       'SessionSubsection', 'timeStampDataPointEnd',\n",
       "       'combinedGazeValidityBitmask', 'eyePositionCombinedWorld.x',\n",
       "       'eyePositionCombinedWorld.y', 'eyePositionCombinedWorld.z',\n",
       "       'eyeDirectionCombinedWorld.y', 'eyeDirectionCombinedWorld.z',\n",
       "       'eyeDirectionCombinedLocal.x', 'eyeDirectionCombinedLocal.y',\n",
       "       'eyeDirectionCombinedLocal.z', 'playerBodyPosition.x',\n",
       "       'playerBodyPosition.y', 'playerBodyPosition.z', 'bodyTrackerRotation.x',\n",
       "       'bodyTrackerRotation.y', 'bodyTrackerRotation.z', 'hitColliderType',\n",
       "       'hitObjectColliderName', 'ordinalOfHit', 'hitPointOnObject_x',\n",
       "       'hitPointOnObject_y', 'hitPointOnObject_z', 'Eucledian_distance',\n",
       "       'Collider_Categorical', 'Previous_Euclidean_value', 'Collider_stays',\n",
       "       'Face_Hits', 'Continuous_Time', 'Time_Shift', 'Bitmask_flag',\n",
       "       'Interpolated_collider', 'combined_vel', 'thresh', 'isFix',\n",
       "       'datetime_objects'],\n",
       "      dtype='object')"
      ]
     },
     "execution_count": 78,
     "metadata": {},
     "output_type": "execute_result"
    }
   ],
   "source": [
    "df_resampled.columns"
   ]
  },
  {
   "cell_type": "code",
   "execution_count": 72,
   "id": "610ee26f-3d06-4a0b-99de-45b00cf1664a",
   "metadata": {},
   "outputs": [
    {
     "data": {
      "text/plain": [
       "263"
      ]
     },
     "execution_count": 72,
     "metadata": {},
     "output_type": "execute_result"
    }
   ],
   "source": [
    "len(df_resampled)"
   ]
  },
  {
   "cell_type": "code",
   "execution_count": 66,
   "id": "c81f2c6d-01d1-4a10-8081-ebdf0aa95900",
   "metadata": {},
   "outputs": [
    {
     "data": {
      "text/plain": [
       "datetime.datetime(2022, 5, 20, 11, 17, 2, 206557)"
      ]
     },
     "execution_count": 66,
     "metadata": {},
     "output_type": "execute_result"
    }
   ],
   "source": [
    "import datetime\n",
    "for_eye[\"datetime_objects\"] = [datetime.datetime.utcfromtimestamp(timestamp) for timestamp in for_eye[\"timeStampDataPointEnd\"]]\n",
    "datetime.datetime.utcfromtimestamp(for_eye.loc[1,\"timeStampDataPointEnd\"])"
   ]
  },
  {
   "cell_type": "code",
   "execution_count": 58,
   "id": "769973a9-513d-44b5-96e2-7656a346d6a7",
   "metadata": {},
   "outputs": [
    {
     "data": {
      "text/plain": [
       "0   1970-01-01 00:00:01.653045422\n",
       "1   1970-01-01 00:00:01.653045422\n",
       "2   1970-01-01 00:00:01.653045422\n",
       "3   1970-01-01 00:00:01.653045422\n",
       "4   1970-01-01 00:00:01.653045422\n",
       "Name: time-time, dtype: datetime64[ns]"
      ]
     },
     "execution_count": 58,
     "metadata": {},
     "output_type": "execute_result"
    }
   ],
   "source": [
    "for_eye[\"time-time\"]"
   ]
  },
  {
   "cell_type": "code",
   "execution_count": 56,
   "id": "e68ac722-434b-4931-85c0-207e67138842",
   "metadata": {},
   "outputs": [
    {
     "data": {
      "text/plain": [
       "count    115535.000000\n",
       "mean         21.084083\n",
       "std          14.175100\n",
       "min           0.000000\n",
       "25%           7.556000\n",
       "50%          19.225000\n",
       "75%          36.360000\n",
       "max          43.758000\n",
       "Name: Continuous_Time, dtype: float64"
      ]
     },
     "execution_count": 56,
     "metadata": {},
     "output_type": "execute_result"
    }
   ],
   "source": [
    "for_eye[\"Continuous_Time\"].describe()"
   ]
  },
  {
   "cell_type": "code",
   "execution_count": 11,
   "id": "1441a8dc-6c93-4e97-885b-81b527eda310",
   "metadata": {},
   "outputs": [
    {
     "name": "stderr",
     "output_type": "stream",
     "text": [
      "<ipython-input-11-128daac9e578>:6: VisibleDeprecationWarning: Creating an ndarray from ragged nested sequences (which is a list-or-tuple of lists-or-tuples-or ndarrays with different lengths or shapes) is deprecated. If you meant to do this, you must specify 'dtype=object' when creating the ndarray.\n",
      "  angular_veli = np.array([combined_vel[start:end] for start, end in zip(start_idx, end_idx)])\n"
     ]
    },
    {
     "ename": "ValueError",
     "evalue": "Length of values (1) does not match length of index (180)",
     "output_type": "error",
     "traceback": [
      "\u001b[0;31m---------------------------------------------------------------------------\u001b[0m",
      "\u001b[0;31mValueError\u001b[0m                                Traceback (most recent call last)",
      "\u001b[0;32m<ipython-input-11-128daac9e578>\u001b[0m in \u001b[0;36m<module>\u001b[0;34m\u001b[0m\n\u001b[1;32m     14\u001b[0m \u001b[0;34m\u001b[0m\u001b[0m\n\u001b[1;32m     15\u001b[0m \u001b[0;31m# Assign saccade thresholds to int_data DataFrame\u001b[0m\u001b[0;34m\u001b[0m\u001b[0;34m\u001b[0m\u001b[0;34m\u001b[0m\u001b[0m\n\u001b[0;32m---> 16\u001b[0;31m \u001b[0mint_data\u001b[0m\u001b[0;34m[\u001b[0m\u001b[0;34m\"threshi\"\u001b[0m\u001b[0;34m]\u001b[0m \u001b[0;34m=\u001b[0m \u001b[0mscct\u001b[0m\u001b[0;34m\u001b[0m\u001b[0;34m\u001b[0m\u001b[0m\n\u001b[0m\u001b[1;32m     17\u001b[0m \u001b[0;34m\u001b[0m\u001b[0m\n\u001b[1;32m     18\u001b[0m \u001b[0;31m# Create a list of thresholds for each timestamp\u001b[0m\u001b[0;34m\u001b[0m\u001b[0;34m\u001b[0m\u001b[0;34m\u001b[0m\u001b[0m\n",
      "\u001b[0;32m~/opt/anaconda3/lib/python3.8/site-packages/pandas/core/frame.py\u001b[0m in \u001b[0;36m__setitem__\u001b[0;34m(self, key, value)\u001b[0m\n\u001b[1;32m   3161\u001b[0m         \u001b[0;32melse\u001b[0m\u001b[0;34m:\u001b[0m\u001b[0;34m\u001b[0m\u001b[0;34m\u001b[0m\u001b[0m\n\u001b[1;32m   3162\u001b[0m             \u001b[0;31m# set column\u001b[0m\u001b[0;34m\u001b[0m\u001b[0;34m\u001b[0m\u001b[0;34m\u001b[0m\u001b[0m\n\u001b[0;32m-> 3163\u001b[0;31m             \u001b[0mself\u001b[0m\u001b[0;34m.\u001b[0m\u001b[0m_set_item\u001b[0m\u001b[0;34m(\u001b[0m\u001b[0mkey\u001b[0m\u001b[0;34m,\u001b[0m \u001b[0mvalue\u001b[0m\u001b[0;34m)\u001b[0m\u001b[0;34m\u001b[0m\u001b[0;34m\u001b[0m\u001b[0m\n\u001b[0m\u001b[1;32m   3164\u001b[0m \u001b[0;34m\u001b[0m\u001b[0m\n\u001b[1;32m   3165\u001b[0m     \u001b[0;32mdef\u001b[0m \u001b[0m_setitem_slice\u001b[0m\u001b[0;34m(\u001b[0m\u001b[0mself\u001b[0m\u001b[0;34m,\u001b[0m \u001b[0mkey\u001b[0m\u001b[0;34m:\u001b[0m \u001b[0mslice\u001b[0m\u001b[0;34m,\u001b[0m \u001b[0mvalue\u001b[0m\u001b[0;34m)\u001b[0m\u001b[0;34m:\u001b[0m\u001b[0;34m\u001b[0m\u001b[0;34m\u001b[0m\u001b[0m\n",
      "\u001b[0;32m~/opt/anaconda3/lib/python3.8/site-packages/pandas/core/frame.py\u001b[0m in \u001b[0;36m_set_item\u001b[0;34m(self, key, value)\u001b[0m\n\u001b[1;32m   3240\u001b[0m         \"\"\"\n\u001b[1;32m   3241\u001b[0m         \u001b[0mself\u001b[0m\u001b[0;34m.\u001b[0m\u001b[0m_ensure_valid_index\u001b[0m\u001b[0;34m(\u001b[0m\u001b[0mvalue\u001b[0m\u001b[0;34m)\u001b[0m\u001b[0;34m\u001b[0m\u001b[0;34m\u001b[0m\u001b[0m\n\u001b[0;32m-> 3242\u001b[0;31m         \u001b[0mvalue\u001b[0m \u001b[0;34m=\u001b[0m \u001b[0mself\u001b[0m\u001b[0;34m.\u001b[0m\u001b[0m_sanitize_column\u001b[0m\u001b[0;34m(\u001b[0m\u001b[0mkey\u001b[0m\u001b[0;34m,\u001b[0m \u001b[0mvalue\u001b[0m\u001b[0;34m)\u001b[0m\u001b[0;34m\u001b[0m\u001b[0;34m\u001b[0m\u001b[0m\n\u001b[0m\u001b[1;32m   3243\u001b[0m         \u001b[0mNDFrame\u001b[0m\u001b[0;34m.\u001b[0m\u001b[0m_set_item\u001b[0m\u001b[0;34m(\u001b[0m\u001b[0mself\u001b[0m\u001b[0;34m,\u001b[0m \u001b[0mkey\u001b[0m\u001b[0;34m,\u001b[0m \u001b[0mvalue\u001b[0m\u001b[0;34m)\u001b[0m\u001b[0;34m\u001b[0m\u001b[0;34m\u001b[0m\u001b[0m\n\u001b[1;32m   3244\u001b[0m \u001b[0;34m\u001b[0m\u001b[0m\n",
      "\u001b[0;32m~/opt/anaconda3/lib/python3.8/site-packages/pandas/core/frame.py\u001b[0m in \u001b[0;36m_sanitize_column\u001b[0;34m(self, key, value, broadcast)\u001b[0m\n\u001b[1;32m   3897\u001b[0m \u001b[0;34m\u001b[0m\u001b[0m\n\u001b[1;32m   3898\u001b[0m             \u001b[0;31m# turn me into an ndarray\u001b[0m\u001b[0;34m\u001b[0m\u001b[0;34m\u001b[0m\u001b[0;34m\u001b[0m\u001b[0m\n\u001b[0;32m-> 3899\u001b[0;31m             \u001b[0mvalue\u001b[0m \u001b[0;34m=\u001b[0m \u001b[0msanitize_index\u001b[0m\u001b[0;34m(\u001b[0m\u001b[0mvalue\u001b[0m\u001b[0;34m,\u001b[0m \u001b[0mself\u001b[0m\u001b[0;34m.\u001b[0m\u001b[0mindex\u001b[0m\u001b[0;34m)\u001b[0m\u001b[0;34m\u001b[0m\u001b[0;34m\u001b[0m\u001b[0m\n\u001b[0m\u001b[1;32m   3900\u001b[0m             \u001b[0;32mif\u001b[0m \u001b[0;32mnot\u001b[0m \u001b[0misinstance\u001b[0m\u001b[0;34m(\u001b[0m\u001b[0mvalue\u001b[0m\u001b[0;34m,\u001b[0m \u001b[0;34m(\u001b[0m\u001b[0mnp\u001b[0m\u001b[0;34m.\u001b[0m\u001b[0mndarray\u001b[0m\u001b[0;34m,\u001b[0m \u001b[0mIndex\u001b[0m\u001b[0;34m)\u001b[0m\u001b[0;34m)\u001b[0m\u001b[0;34m:\u001b[0m\u001b[0;34m\u001b[0m\u001b[0;34m\u001b[0m\u001b[0m\n\u001b[1;32m   3901\u001b[0m                 \u001b[0;32mif\u001b[0m \u001b[0misinstance\u001b[0m\u001b[0;34m(\u001b[0m\u001b[0mvalue\u001b[0m\u001b[0;34m,\u001b[0m \u001b[0mlist\u001b[0m\u001b[0;34m)\u001b[0m \u001b[0;32mand\u001b[0m \u001b[0mlen\u001b[0m\u001b[0;34m(\u001b[0m\u001b[0mvalue\u001b[0m\u001b[0;34m)\u001b[0m \u001b[0;34m>\u001b[0m \u001b[0;36m0\u001b[0m\u001b[0;34m:\u001b[0m\u001b[0;34m\u001b[0m\u001b[0;34m\u001b[0m\u001b[0m\n",
      "\u001b[0;32m~/opt/anaconda3/lib/python3.8/site-packages/pandas/core/internals/construction.py\u001b[0m in \u001b[0;36msanitize_index\u001b[0;34m(data, index)\u001b[0m\n\u001b[1;32m    749\u001b[0m     \"\"\"\n\u001b[1;32m    750\u001b[0m     \u001b[0;32mif\u001b[0m \u001b[0mlen\u001b[0m\u001b[0;34m(\u001b[0m\u001b[0mdata\u001b[0m\u001b[0;34m)\u001b[0m \u001b[0;34m!=\u001b[0m \u001b[0mlen\u001b[0m\u001b[0;34m(\u001b[0m\u001b[0mindex\u001b[0m\u001b[0;34m)\u001b[0m\u001b[0;34m:\u001b[0m\u001b[0;34m\u001b[0m\u001b[0;34m\u001b[0m\u001b[0m\n\u001b[0;32m--> 751\u001b[0;31m         raise ValueError(\n\u001b[0m\u001b[1;32m    752\u001b[0m             \u001b[0;34m\"Length of values \"\u001b[0m\u001b[0;34m\u001b[0m\u001b[0;34m\u001b[0m\u001b[0m\n\u001b[1;32m    753\u001b[0m             \u001b[0;34mf\"({len(data)}) \"\u001b[0m\u001b[0;34m\u001b[0m\u001b[0;34m\u001b[0m\u001b[0m\n",
      "\u001b[0;31mValueError\u001b[0m: Length of values (1) does not match length of index (180)"
     ]
    }
   ],
   "source": [
    "# to shorten the slicing in the next for loop\n",
    "start_idx = int_data[\"start_idx\"].values\n",
    "end_idx = int_data[\"end_idx\"].values\n",
    "\n",
    "# Vectorize calculation of angular velocity\n",
    "angular_veli = np.array([combined_vel[start:end] for start, end in zip(start_idx, end_idx)])\n",
    "\n",
    "# Calculate saccade thresholds for all segments at once\n",
    "saccade_th, thres = at_mad(angular_vel)\n",
    "\n",
    "# Replace NaN values with corresponding threshold from thres array\n",
    "scct = []\n",
    "scct.append(np.nan_to_num(thres)[0] if np.isnan(saccade_th) else saccade_th)\n",
    "\n",
    "# Assign saccade thresholds to int_data DataFrame\n",
    "int_data[\"threshi\"] = scct\n",
    "\n",
    "# Create a list of thresholds for each timestamp\n",
    "time = for_eye.timeStampDataPointEnd.values\n",
    "thresh = np.zeros(len(time))\n",
    "for s, (start, end, th) in enumerate(zip(start_idx, end_idx, saccade_thi)):\n",
    "    threshi[start:end] = th\n",
    "\n",
    "# Add threshold column to for_eye DataFrame\n",
    "for_eye[\"threshi\"] = threshi\n"
   ]
  },
  {
   "cell_type": "code",
   "execution_count": 19,
   "id": "e2ff3a7e-dfe8-4a45-99dc-c03767ef99a4",
   "metadata": {},
   "outputs": [],
   "source": [
    "scct = [at_mad(combined_vel[start_idx[s] : end_idx[s]])[0] if not np.isnan(at_mad(combined_vel[start_idx[s] : end_idx[s]])[0]) else at_mad(combined_vel[start_idx[s] : end_idx[s]])[1][0] for s, start in enumerate(int_data[\"start\"])]"
   ]
  },
  {
   "cell_type": "code",
   "execution_count": 17,
   "id": "fe8357ec-17b9-4680-9307-a2991d3877d6",
   "metadata": {},
   "outputs": [],
   "source": [
    "int_data[\"threshi\"] =  scct"
   ]
  },
  {
   "cell_type": "code",
   "execution_count": 20,
   "id": "23a35793-eec6-43b8-b3cc-24f4e46efdb2",
   "metadata": {},
   "outputs": [
    {
     "data": {
      "text/html": [
       "<div>\n",
       "<style scoped>\n",
       "    .dataframe tbody tr th:only-of-type {\n",
       "        vertical-align: middle;\n",
       "    }\n",
       "\n",
       "    .dataframe tbody tr th {\n",
       "        vertical-align: top;\n",
       "    }\n",
       "\n",
       "    .dataframe thead th {\n",
       "        text-align: right;\n",
       "    }\n",
       "</style>\n",
       "<table border=\"1\" class=\"dataframe\">\n",
       "  <thead>\n",
       "    <tr style=\"text-align: right;\">\n",
       "      <th></th>\n",
       "      <th>start</th>\n",
       "      <th>end</th>\n",
       "      <th>start_idx</th>\n",
       "      <th>end_idx</th>\n",
       "      <th>thresh</th>\n",
       "      <th>threshi</th>\n",
       "    </tr>\n",
       "  </thead>\n",
       "  <tbody>\n",
       "    <tr>\n",
       "      <th>0</th>\n",
       "      <td>1.646919e+09</td>\n",
       "      <td>1.646919e+09</td>\n",
       "      <td>0</td>\n",
       "      <td>557</td>\n",
       "      <td>159.520112</td>\n",
       "      <td>159.520112</td>\n",
       "    </tr>\n",
       "    <tr>\n",
       "      <th>1</th>\n",
       "      <td>1.646919e+09</td>\n",
       "      <td>1.646919e+09</td>\n",
       "      <td>558</td>\n",
       "      <td>1091</td>\n",
       "      <td>126.935762</td>\n",
       "      <td>126.935762</td>\n",
       "    </tr>\n",
       "    <tr>\n",
       "      <th>2</th>\n",
       "      <td>1.646919e+09</td>\n",
       "      <td>1.646919e+09</td>\n",
       "      <td>1092</td>\n",
       "      <td>1710</td>\n",
       "      <td>109.888386</td>\n",
       "      <td>109.888386</td>\n",
       "    </tr>\n",
       "    <tr>\n",
       "      <th>3</th>\n",
       "      <td>1.646919e+09</td>\n",
       "      <td>1.646919e+09</td>\n",
       "      <td>1711</td>\n",
       "      <td>2333</td>\n",
       "      <td>87.304085</td>\n",
       "      <td>87.304085</td>\n",
       "    </tr>\n",
       "    <tr>\n",
       "      <th>4</th>\n",
       "      <td>1.646919e+09</td>\n",
       "      <td>1.646919e+09</td>\n",
       "      <td>2334</td>\n",
       "      <td>2937</td>\n",
       "      <td>103.909529</td>\n",
       "      <td>103.909529</td>\n",
       "    </tr>\n",
       "    <tr>\n",
       "      <th>...</th>\n",
       "      <td>...</td>\n",
       "      <td>...</td>\n",
       "      <td>...</td>\n",
       "      <td>...</td>\n",
       "      <td>...</td>\n",
       "      <td>...</td>\n",
       "    </tr>\n",
       "    <tr>\n",
       "      <th>175</th>\n",
       "      <td>1.646921e+09</td>\n",
       "      <td>1.646921e+09</td>\n",
       "      <td>111736</td>\n",
       "      <td>112395</td>\n",
       "      <td>83.156710</td>\n",
       "      <td>83.156710</td>\n",
       "    </tr>\n",
       "    <tr>\n",
       "      <th>176</th>\n",
       "      <td>1.646921e+09</td>\n",
       "      <td>1.646921e+09</td>\n",
       "      <td>112396</td>\n",
       "      <td>113039</td>\n",
       "      <td>133.242147</td>\n",
       "      <td>133.242147</td>\n",
       "    </tr>\n",
       "    <tr>\n",
       "      <th>177</th>\n",
       "      <td>1.646921e+09</td>\n",
       "      <td>1.646921e+09</td>\n",
       "      <td>113040</td>\n",
       "      <td>113678</td>\n",
       "      <td>57.982348</td>\n",
       "      <td>57.982348</td>\n",
       "    </tr>\n",
       "    <tr>\n",
       "      <th>178</th>\n",
       "      <td>1.646921e+09</td>\n",
       "      <td>1.646921e+09</td>\n",
       "      <td>113679</td>\n",
       "      <td>114312</td>\n",
       "      <td>81.067688</td>\n",
       "      <td>81.067688</td>\n",
       "    </tr>\n",
       "    <tr>\n",
       "      <th>179</th>\n",
       "      <td>1.646921e+09</td>\n",
       "      <td>1.646921e+09</td>\n",
       "      <td>114313</td>\n",
       "      <td>114886</td>\n",
       "      <td>78.768051</td>\n",
       "      <td>78.768051</td>\n",
       "    </tr>\n",
       "  </tbody>\n",
       "</table>\n",
       "<p>180 rows × 6 columns</p>\n",
       "</div>"
      ],
      "text/plain": [
       "            start           end  start_idx  end_idx      thresh     threshi\n",
       "0    1.646919e+09  1.646919e+09          0      557  159.520112  159.520112\n",
       "1    1.646919e+09  1.646919e+09        558     1091  126.935762  126.935762\n",
       "2    1.646919e+09  1.646919e+09       1092     1710  109.888386  109.888386\n",
       "3    1.646919e+09  1.646919e+09       1711     2333   87.304085   87.304085\n",
       "4    1.646919e+09  1.646919e+09       2334     2937  103.909529  103.909529\n",
       "..            ...           ...        ...      ...         ...         ...\n",
       "175  1.646921e+09  1.646921e+09     111736   112395   83.156710   83.156710\n",
       "176  1.646921e+09  1.646921e+09     112396   113039  133.242147  133.242147\n",
       "177  1.646921e+09  1.646921e+09     113040   113678   57.982348   57.982348\n",
       "178  1.646921e+09  1.646921e+09     113679   114312   81.067688   81.067688\n",
       "179  1.646921e+09  1.646921e+09     114313   114886   78.768051   78.768051\n",
       "\n",
       "[180 rows x 6 columns]"
      ]
     },
     "execution_count": 20,
     "metadata": {},
     "output_type": "execute_result"
    }
   ],
   "source": [
    "int_data"
   ]
  },
  {
   "cell_type": "code",
   "execution_count": 7,
   "id": "2e5de959-bec3-4402-9b54-7b572b7d6340",
   "metadata": {},
   "outputs": [
    {
     "data": {
      "text/plain": [
       "573"
      ]
     },
     "execution_count": 7,
     "metadata": {},
     "output_type": "execute_result"
    }
   ],
   "source": [
    "len(angular_vel)"
   ]
  },
  {
   "cell_type": "code",
   "execution_count": 8,
   "id": "92021d9a-62ef-466c-86f2-49fabd3072b5",
   "metadata": {},
   "outputs": [
    {
     "data": {
      "text/plain": [
       "180"
      ]
     },
     "execution_count": 8,
     "metadata": {},
     "output_type": "execute_result"
    }
   ],
   "source": [
    "len(angular_veli)"
   ]
  },
  {
   "cell_type": "code",
   "execution_count": null,
   "id": "d8fbf623-8fcb-479f-9c22-a542851960d7",
   "metadata": {},
   "outputs": [],
   "source": [
    "start_idxi[-1]"
   ]
  },
  {
   "cell_type": "code",
   "execution_count": null,
   "id": "a49e58d8-35d9-4398-a362-20444f185550",
   "metadata": {},
   "outputs": [],
   "source": [
    "start_idx[-1]"
   ]
  },
  {
   "cell_type": "code",
   "execution_count": null,
   "id": "81f17cce-ef6f-4f18-84cb-0f8a3e2fa911",
   "metadata": {},
   "outputs": [],
   "source": [
    "start_idx"
   ]
  },
  {
   "cell_type": "code",
   "execution_count": null,
   "id": "8828f718-ffe6-4559-9c13-184328e42f76",
   "metadata": {},
   "outputs": [],
   "source": [
    "import numpy as np\n",
    "\n",
    "INTERVAL_LENGTH = 10  # number of seconds of the interval\n",
    "time = for_eye[\"timeStampDataPointEnd\"].values\n",
    "start = []\n",
    "end = []\n",
    "start_idx = []\n",
    "end_idx = []\n",
    "for t, ti in enumerate(time):\n",
    "    if ti == time[0]:\n",
    "        start.append(ti)\n",
    "        start_idx.append(t)\n",
    "    if ti - start[-1] > INTERVAL_LENGTH:\n",
    "        # if the current timepoint is more than INTERVAL_LENGTH away from start, set it to new start\n",
    "        start.append(ti)\n",
    "        start_idx.append(t)\n",
    "        # and set end to the timepoint before that\n",
    "        end.append(time[t - 1])\n",
    "        end_idx.append(t - 1)\n",
    "# add the last timepoint to end\n",
    "end.append(time[-1])\n",
    "end_idx.append(len(time))\n",
    "\n",
    "# save it as new df\n",
    "int_data = {\n",
    "    \"start\": start,\n",
    "    \"end\": end,\n",
    "    \"start_idx\": np.array(start_idx),\n",
    "    \"end_idx\": np.array(end_idx),\n",
    "}\n",
    "int_data = pd.DataFrame(int_data)\n",
    "\n",
    "combined_vel = for_eye[\"combined_vel\"]\n",
    "\n",
    "# to shorten the slicing in the next for loop\n",
    "start_idx = int_data[\"start_idx\"].tolist()\n",
    "end_idx = int_data[\"end_idx\"].tolist()"
   ]
  },
  {
   "cell_type": "code",
   "execution_count": null,
   "id": "ea8ca750-9499-45f2-8a23-4ec238951a72",
   "metadata": {},
   "outputs": [],
   "source": [
    "INTERVAL_LENGTH = 10  # number of seconds of the interval\n",
    "\n",
    "time = for_eye[\"timeStampDataPointEnd\"].values\n",
    "start_idxi = [0] + [idx+1 for idx, (t1, t2) in enumerate(zip(time[:-1], time[1:])) if t2 - t1 > INTERVAL_LENGTH]\n",
    "starti = [time[idx] for idx in start_idx]\n",
    "end_idxi = [idx for idx in start_idx[:-1]]\n",
    "endi = [time[idx-1] for idx in end_idx] + [time[-1]]\n",
    "#int_data = {\n",
    "   ##"
   ]
  },
  {
   "cell_type": "code",
   "execution_count": null,
   "id": "8ff2b790-32cf-47ba-9c9d-b3a55a49e448",
   "metadata": {},
   "outputs": [],
   "source": [
    "start_idxi"
   ]
  },
  {
   "cell_type": "code",
   "execution_count": null,
   "id": "871304de-7442-412a-9476-a0da726bf484",
   "metadata": {},
   "outputs": [],
   "source": [
    "len(starti)"
   ]
  },
  {
   "cell_type": "code",
   "execution_count": null,
   "id": "cd893659-5a32-449a-86ba-dececb4bc475",
   "metadata": {},
   "outputs": [],
   "source": [
    "end[-7]"
   ]
  },
  {
   "cell_type": "code",
   "execution_count": null,
   "id": "f9bc2a66-b15e-4657-b0da-957393419ce5",
   "metadata": {},
   "outputs": [],
   "source": [
    "endi[-7]"
   ]
  },
  {
   "cell_type": "code",
   "execution_count": null,
   "id": "0b24f042-654e-4c90-85a0-af61d8c65ea3",
   "metadata": {},
   "outputs": [],
   "source": [
    "int_data"
   ]
  },
  {
   "cell_type": "code",
   "execution_count": null,
   "id": "3240fa5b-1a28-45e1-96ac-4008e998e95d",
   "metadata": {},
   "outputs": [],
   "source": [
    "df[\"diff\"] = df[\"value\"].rolling(window=2).apply(lambda x: x[1] - x[0])"
   ]
  },
  {
   "cell_type": "code",
   "execution_count": null,
   "id": "4c7224d8-e9d8-4f7c-89c9-136c644e4554",
   "metadata": {},
   "outputs": [],
   "source": [
    "v_gaze_inplane1[5]"
   ]
  },
  {
   "cell_type": "code",
   "execution_count": null,
   "id": "5f46782d-09d7-4d18-a74a-8e0972dbcff2",
   "metadata": {},
   "outputs": [],
   "source": [
    "sub_hpoo1 = np.linalg.norm(np.array(subj) - np.array(hpoo), axis=-1)"
   ]
  },
  {
   "cell_type": "code",
   "execution_count": null,
   "id": "fee648ef-b6dd-4b1a-bff3-b17f0b6318a2",
   "metadata": {},
   "outputs": [],
   "source": [
    "sub_hpoo1[658]"
   ]
  },
  {
   "cell_type": "code",
   "execution_count": null,
   "id": "b3af290a-4943-40ac-89a4-66fbd1d54d1c",
   "metadata": {},
   "outputs": [],
   "source": [
    "sub_hpoo[658]"
   ]
  },
  {
   "cell_type": "code",
   "execution_count": null,
   "id": "46deef42-1b96-4baf-b59c-e9c449629142",
   "metadata": {},
   "outputs": [],
   "source": [
    "z2 = [np.dot(v_gaze_vec_i, gaze_vec_i) for v_gaze_vec_i, gaze_vec_i in zip(v_gaze_vec, gaze_vec)]"
   ]
  },
  {
   "cell_type": "code",
   "execution_count": null,
   "id": "4a97f5c7-a27a-47a8-b06c-19ede7725ec0",
   "metadata": {},
   "outputs": [],
   "source": [
    "z2[656]"
   ]
  },
  {
   "cell_type": "code",
   "execution_count": null,
   "id": "8a85c370-8bea-4a24-b3fe-5fe1617e8874",
   "metadata": {},
   "outputs": [],
   "source": [
    "z1[656]"
   ]
  },
  {
   "cell_type": "code",
   "execution_count": null,
   "id": "3328f7c6-c88d-4868-9f70-adab388881be",
   "metadata": {},
   "outputs": [],
   "source": [
    "for_eye[\"hitPointOnObject_x\"].diff().tolist()[59]"
   ]
  },
  {
   "cell_type": "code",
   "execution_count": null,
   "id": "57ad6544-9e1d-4f00-be37-6f38cf616c3b",
   "metadata": {},
   "outputs": [],
   "source": [
    "list(np.subtract(hpoo, subj))[142]"
   ]
  },
  {
   "cell_type": "code",
   "execution_count": null,
   "id": "9dadc2a4-29dd-424e-ace0-32cea9171af4",
   "metadata": {},
   "outputs": [],
   "source": [
    "g_vec[142]"
   ]
  },
  {
   "cell_type": "code",
   "execution_count": null,
   "id": "d991c561-b682-4a30-b7c5-72e63e8f47f0",
   "metadata": {},
   "outputs": [],
   "source": [
    "\n",
    "hpoo = list(zip(for_eye[\"hitPointOnObject_x\"], for_eye[\"hitPointOnObject_y\"],for_eye[\"hitPointOnObject_z\"]))"
   ]
  },
  {
   "cell_type": "code",
   "execution_count": null,
   "id": "236da093-50cd-4b65-98d3-3393e556407f",
   "metadata": {},
   "outputs": [],
   "source": [
    "v_vX[59]"
   ]
  },
  {
   "cell_type": "code",
   "execution_count": null,
   "id": "b94febc2-e82e-40da-806b-bb387ead7e6e",
   "metadata": {},
   "outputs": [],
   "source": [
    "g_vec"
   ]
  },
  {
   "cell_type": "code",
   "execution_count": null,
   "id": "281c92e5-e40a-4974-9f5d-6899cf93a086",
   "metadata": {},
   "outputs": [],
   "source": [
    "path = \"/Volumes/SSD/6258_PointingTask_Randomization_1666084297.70049.json\"\n",
    "with open(path, 'r') as file:\n",
    "        # make json files parsable\n",
    "        data = \"[\" + file.read()\n",
    "        data = data[:len(data)-1] + \"]\"\n",
    "\n",
    "        # read data per file\n",
    "        subjectdf = pd.read_json(data)\n",
    "\n",
    "        # insert participant id in every line\n",
    "        subjectdf.insert(0, \"SubjectID\", [int(path[13:17])] * subjectdf.shape[0], True)"
   ]
  },
  {
   "cell_type": "code",
   "execution_count": null,
   "id": "26bb9371-03d6-4034-9e2b-d8cb970923c4",
   "metadata": {},
   "outputs": [],
   "source": [
    "subjectdf.head()"
   ]
  },
  {
   "cell_type": "code",
   "execution_count": null,
   "id": "a28f77bb-38d7-439f-97f9-1c0095146ae0",
   "metadata": {},
   "outputs": [],
   "source": [
    "StartingPoints = pd.DataFrame(subjectdf.explode('PointingTaskStartingLocations'))\n",
    "StartingPoints.head()"
   ]
  },
  {
   "cell_type": "code",
   "execution_count": null,
   "id": "3ce7cc88-de7b-4608-80b6-7004e8897aef",
   "metadata": {},
   "outputs": [],
   "source": [
    "StartingPointsnorm = pd.json_normalize(subjectdf[\"InitialOrientation\"]).add_prefix(\"InitialOrientation_\")\n",
    "StartingPointsnorm.head()"
   ]
  },
  {
   "cell_type": "code",
   "execution_count": null,
   "id": "4995e0f3-fa8f-46e0-84fd-5cd9d842681a",
   "metadata": {},
   "outputs": [],
   "source": [
    "%timeit -r 4 -n 1000 StartingPoints = pd.DataFrame(subjectdf.explode('PointingTaskStartingLocations'))\n",
    "%timeit -r 4 -n 1000 StartingPointsnorm = pd.json_normalize(subjectdf[\"InitialOrientation\"])"
   ]
  },
  {
   "cell_type": "code",
   "execution_count": null,
   "id": "79d88187-1836-4889-a8a1-39fd1d2c4f46",
   "metadata": {},
   "outputs": [],
   "source": [
    "subjectdf[\"PointingTaskRandomised\"][0]"
   ]
  },
  {
   "cell_type": "code",
   "execution_count": null,
   "id": "f898ab04-ccde-48b1-81f5-6d7e9a0bfbdf",
   "metadata": {},
   "outputs": [],
   "source": [
    "normalized = pd.json_normalize(subjectdf[\"PointingTaskRandomised\"][0])\n",
    "normalized.head()"
   ]
  },
  {
   "cell_type": "code",
   "execution_count": null,
   "id": "1d0dc4e6-cea9-4afc-8cbe-de8dff26a305",
   "metadata": {},
   "outputs": [],
   "source": [
    "Final = pd.DataFrame(normalized.explode('TargetLocationsRandom'))\n",
    "Final.head()"
   ]
  },
  {
   "cell_type": "code",
   "execution_count": null,
   "id": "e4dde911-aef4-42c2-9be1-c6f1b30219c8",
   "metadata": {},
   "outputs": [],
   "source": [
    "\n"
   ]
  },
  {
   "cell_type": "code",
   "execution_count": null,
   "id": "1b651fc0-508d-44a6-83cc-5d3e862e67c9",
   "metadata": {},
   "outputs": [],
   "source": [
    "pd.json_normalize(subjectdf.PointingTaskStartingLocations\")"
   ]
  },
  {
   "cell_type": "code",
   "execution_count": null,
   "id": "dd427164-6297-4d35-8437-0a253dc5b869",
   "metadata": {},
   "outputs": [],
   "source": [
    "Dataset = pd.DataFrame()"
   ]
  },
  {
   "cell_type": "code",
   "execution_count": null,
   "id": "248886c8-6ceb-4598-9cd2-cc91edd206dd",
   "metadata": {},
   "outputs": [],
   "source": []
  },
  {
   "cell_type": "code",
   "execution_count": null,
   "id": "0c114bf7-4054-4027-b09f-478fec8d1c19",
   "metadata": {},
   "outputs": [],
   "source": [
    "%%timeit -r 4 -n 1000\n",
    "StartingPointsnorm = pd.json_normalize(subjectdf[\"InitialOrientation\"]).add_suffix('_InitialOrientation')\n",
    "StartingPointsnorm.head()"
   ]
  },
  {
   "cell_type": "code",
   "execution_count": null,
   "id": "00c044ce-d250-4ca1-834f-d4863fc257a7",
   "metadata": {},
   "outputs": [],
   "source": []
  }
 ],
 "metadata": {
  "kernelspec": {
   "display_name": "Python 3",
   "language": "python",
   "name": "python3"
  },
  "language_info": {
   "codemirror_mode": {
    "name": "ipython",
    "version": 3
   },
   "file_extension": ".py",
   "mimetype": "text/x-python",
   "name": "python",
   "nbconvert_exporter": "python",
   "pygments_lexer": "ipython3",
   "version": "3.8.8"
  }
 },
 "nbformat": 4,
 "nbformat_minor": 5
}
