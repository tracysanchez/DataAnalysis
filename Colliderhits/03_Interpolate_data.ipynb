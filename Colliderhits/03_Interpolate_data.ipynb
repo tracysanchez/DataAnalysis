{
 "cells": [
  {
   "cell_type": "code",
   "execution_count": 1,
   "id": "3d91113f-7a7a-48f4-b342-92e564160582",
   "metadata": {},
   "outputs": [],
   "source": [
    "import pandas as pd \n",
    "import numpy as np\n",
    "import glob\n",
    "import re"
   ]
  },
  {
   "cell_type": "code",
   "execution_count": 2,
   "id": "6f50de05-9776-48af-b1c3-65197d8f9434",
   "metadata": {},
   "outputs": [],
   "source": [
    "def bitmask_flag_change(Data_Frame, colname):\n",
    "    \"\"\" Creates a list of values that flag the change in validity of the Eyetracking data, \n",
    "    diferentiates between the beggining and enf of an invalid event. \n",
    "    \n",
    "Parameters\n",
    "-------------\n",
    "     \n",
    "     :dataframe(DataFrame): your data frame,\n",
    "     :colname(str): Name of the column that containts the validity mask \n",
    "returns \n",
    "----------\n",
    "\n",
    "    List of len DataFrame with values that mark changes on the validity column\n",
    "     \"\"\"\n",
    "    change_flag = [\"No_change\"] # initialize flag \n",
    "    for i in range(1, len(Data_Frame)):\n",
    "        if Data_Frame[colname][i] == Data_Frame[colname][i-1]: # compare each value with the previous value\n",
    "          change_flag.append(\"No_change\") \n",
    "        elif Data_Frame[colname][i] != Data_Frame[colname][i-1]:\n",
    "            if Data_Frame[colname][i] == 3:\n",
    "                  change_flag.append(\"Invalid_Section_Ends\")\n",
    "            elif Data_Frame[colname][i] == 0:\n",
    "                change_flag.append(\"Invalid_Section_Starts\")\n",
    "            else:\n",
    "                change_flag.append(\"ERROR\")\n",
    "    return change_flag"
   ]
  },
  {
   "cell_type": "code",
   "execution_count": 3,
   "id": "c34516f9-7d0a-4695-a4a4-ead583b9fa1a",
   "metadata": {},
   "outputs": [],
   "source": [
    "def median_correction(x):\n",
    "    \"\"\"\n",
    "    Perform 5-point median correction on input signal x.\n",
    "    \"\"\"\n",
    "    y = np.zeros_like(x)\n",
    "    length = len(x)\n",
    "    for i in range(2, length-2):\n",
    "        y[i] = np.nanmedian(x[i-2:i+3])\n",
    "    y[0:2] = np.nanmedian(x[0:5])        \n",
    "    y[length-2:length] = np.nanmedian(x[length-5:length])\n",
    "    return y"
   ]
  },
  {
   "cell_type": "code",
   "execution_count": 4,
   "id": "a6e9c72a-d1f7-4b76-b0d4-b8567af4d825",
   "metadata": {},
   "outputs": [],
   "source": [
    "# Since the collider names are too detailed, here we create a dictionary with patterns to classify them into our categories of interest\n",
    "patterns = {'\\d{2}_Sa':'Passive_Agent', '\\d{2}_Cma':'Active_Agent', 'Building_\\d+': 'Building'}\n",
    "patterns.update(dict.fromkeys(['Castle-TaskBuilding_56', 'Crane_59','HighSilo-TaskBuilding_49', 'Windmill-TaskBuilding_10_1', 'Church-TaskBuilding_16'], 'Global_Landmark'))\n",
    "patterns.update(dict.fromkeys(['TaskBuilding_2','TaskBuilding_3', 'TaskBuilding_5', 'TaskBuilding_8', 'TaskBuilding_9', 'TaskBuilding_11', 'TaskBuilding_13', 'TaskBuilding_14', 'TaskBuilding_20', 'TaskBuilding_21', 'TaskBuilding_23','TaskBuilding_27', 'TaskBuilding_29', 'TaskBuilding_32', 'TaskBuilding_34',  'TaskBuilding_38', 'TaskBuilding_41', 'TaskBuilding_42', 'TaskBuilding_44', 'TaskBuilding_45', 'TaskBuilding_47', 'TaskBuilding_50', 'TaskBuilding_51', 'TaskBuilding_52', 'BasketballCourt_58', 'Construction_57', 'Graffity_02', 'Graffity_03', 'Graffity_05', 'Graffity_08', 'Graffity_09', 'Graffity_11', 'Graffity_13', 'Graffity_14', 'Graffity_20', 'Graffity_21', 'Graffity_23', 'Graffity_27', 'Graffity_29', 'Graffity_32', 'Graffity_34', 'Graffity_38', 'Graffity_41', 'Graffity_42', 'Graffity_44', 'Graffity_45', 'Graffity_47',  'Graffity_50', 'Graffity_51', 'Graffity_52'], 'TaskBuilding_Public'))\n",
    "patterns.update(dict.fromkeys(['TaskBuilding_1','TaskBuilding_4', 'TaskBuilding_6', 'TaskBuilding_7', 'TaskBuilding_12', 'TaskBuilding_15', 'TaskBuilding_17', 'TaskBuilding_18', 'TaskBuilding_19', 'TaskBuilding_22', 'TaskBuilding_24','TaskBuilding_25', 'TaskBuilding_26', 'TaskBuilding_28', 'TaskBuilding_30',  'TaskBuilding_31', 'TaskBuilding_33', 'TaskBuilding_35', 'TaskBuilding_36', 'TaskBuilding_37', 'TaskBuilding_39', 'TaskBuilding_40', 'TaskBuilding_43', 'TaskBuilding_48', 'TaskBuilding_54','TaskBuilding_55','Graffity_01','Graffity_04', 'Graffity_06', 'Graffity_07', 'Graffity_12', 'Graffity_15', 'Graffity_17', 'Graffity_18', 'Graffity_19', 'Graffity_22', 'Graffity_24','Graffity_25', 'Graffity_26', 'Graffity_28', 'Graffity_30',  'Graffity_31', 'Graffity_33', 'Graffity_35', 'Graffity_36', 'Graffity_37', 'Graffity_39', 'Graffity_40', 'Graffity_43', 'Graffity_48', 'Graffity_54', 'Graffity_55' ], 'TaskBuilding_Residential'))\n",
    "default_val = 'Background'"
   ]
  },
  {
   "cell_type": "code",
   "execution_count": 5,
   "id": "6ccb28e0-a29b-4e47-aa74-0ace31892663",
   "metadata": {},
   "outputs": [
    {
     "name": "stderr",
     "output_type": "stream",
     "text": [
      "/Users/tracysanchezpacheco/opt/anaconda3/lib/python3.8/site-packages/numpy/lib/nanfunctions.py:1113: RuntimeWarning: All-NaN slice encountered\n",
      "  r, k = function_base._ureduce(a, func=_nanmedian, axis=axis, out=out,\n"
     ]
    },
    {
     "name": "stdout",
     "output_type": "stream",
     "text": [
      "0365_1\n"
     ]
    },
    {
     "name": "stderr",
     "output_type": "stream",
     "text": [
      "/Users/tracysanchezpacheco/opt/anaconda3/lib/python3.8/site-packages/numpy/lib/nanfunctions.py:1113: RuntimeWarning: All-NaN slice encountered\n",
      "  r, k = function_base._ureduce(a, func=_nanmedian, axis=axis, out=out,\n"
     ]
    },
    {
     "name": "stdout",
     "output_type": "stream",
     "text": [
      "0365_2\n"
     ]
    },
    {
     "name": "stderr",
     "output_type": "stream",
     "text": [
      "/Users/tracysanchezpacheco/opt/anaconda3/lib/python3.8/site-packages/numpy/lib/nanfunctions.py:1113: RuntimeWarning: All-NaN slice encountered\n",
      "  r, k = function_base._ureduce(a, func=_nanmedian, axis=axis, out=out,\n"
     ]
    },
    {
     "name": "stdout",
     "output_type": "stream",
     "text": [
      "0365_3\n"
     ]
    },
    {
     "name": "stderr",
     "output_type": "stream",
     "text": [
      "/Users/tracysanchezpacheco/opt/anaconda3/lib/python3.8/site-packages/numpy/lib/nanfunctions.py:1113: RuntimeWarning: All-NaN slice encountered\n",
      "  r, k = function_base._ureduce(a, func=_nanmedian, axis=axis, out=out,\n"
     ]
    },
    {
     "name": "stdout",
     "output_type": "stream",
     "text": [
      "0479_1\n"
     ]
    },
    {
     "name": "stderr",
     "output_type": "stream",
     "text": [
      "/Users/tracysanchezpacheco/opt/anaconda3/lib/python3.8/site-packages/numpy/lib/nanfunctions.py:1113: RuntimeWarning: All-NaN slice encountered\n",
      "  r, k = function_base._ureduce(a, func=_nanmedian, axis=axis, out=out,\n"
     ]
    },
    {
     "name": "stdout",
     "output_type": "stream",
     "text": [
      "1754_1\n"
     ]
    },
    {
     "name": "stderr",
     "output_type": "stream",
     "text": [
      "/Users/tracysanchezpacheco/opt/anaconda3/lib/python3.8/site-packages/numpy/lib/nanfunctions.py:1113: RuntimeWarning: All-NaN slice encountered\n",
      "  r, k = function_base._ureduce(a, func=_nanmedian, axis=axis, out=out,\n"
     ]
    },
    {
     "name": "stdout",
     "output_type": "stream",
     "text": [
      "1754_2\n"
     ]
    },
    {
     "name": "stderr",
     "output_type": "stream",
     "text": [
      "/Users/tracysanchezpacheco/opt/anaconda3/lib/python3.8/site-packages/numpy/lib/nanfunctions.py:1113: RuntimeWarning: All-NaN slice encountered\n",
      "  r, k = function_base._ureduce(a, func=_nanmedian, axis=axis, out=out,\n"
     ]
    },
    {
     "name": "stdout",
     "output_type": "stream",
     "text": [
      "1754_3\n"
     ]
    },
    {
     "name": "stderr",
     "output_type": "stream",
     "text": [
      "/Users/tracysanchezpacheco/opt/anaconda3/lib/python3.8/site-packages/numpy/lib/nanfunctions.py:1113: RuntimeWarning: All-NaN slice encountered\n",
      "  r, k = function_base._ureduce(a, func=_nanmedian, axis=axis, out=out,\n"
     ]
    },
    {
     "name": "stdout",
     "output_type": "stream",
     "text": [
      "1754_4\n"
     ]
    },
    {
     "name": "stderr",
     "output_type": "stream",
     "text": [
      "/Users/tracysanchezpacheco/opt/anaconda3/lib/python3.8/site-packages/numpy/lib/nanfunctions.py:1113: RuntimeWarning: All-NaN slice encountered\n",
      "  r, k = function_base._ureduce(a, func=_nanmedian, axis=axis, out=out,\n"
     ]
    },
    {
     "name": "stdout",
     "output_type": "stream",
     "text": [
      "1754_5\n"
     ]
    },
    {
     "name": "stderr",
     "output_type": "stream",
     "text": [
      "/Users/tracysanchezpacheco/opt/anaconda3/lib/python3.8/site-packages/numpy/lib/nanfunctions.py:1113: RuntimeWarning: All-NaN slice encountered\n",
      "  r, k = function_base._ureduce(a, func=_nanmedian, axis=axis, out=out,\n"
     ]
    },
    {
     "name": "stdout",
     "output_type": "stream",
     "text": [
      "2258_1\n"
     ]
    },
    {
     "name": "stderr",
     "output_type": "stream",
     "text": [
      "/Users/tracysanchezpacheco/opt/anaconda3/lib/python3.8/site-packages/numpy/lib/nanfunctions.py:1113: RuntimeWarning: All-NaN slice encountered\n",
      "  r, k = function_base._ureduce(a, func=_nanmedian, axis=axis, out=out,\n"
     ]
    },
    {
     "name": "stdout",
     "output_type": "stream",
     "text": [
      "2258_2\n"
     ]
    },
    {
     "name": "stderr",
     "output_type": "stream",
     "text": [
      "/Users/tracysanchezpacheco/opt/anaconda3/lib/python3.8/site-packages/numpy/lib/nanfunctions.py:1113: RuntimeWarning: All-NaN slice encountered\n",
      "  r, k = function_base._ureduce(a, func=_nanmedian, axis=axis, out=out,\n"
     ]
    },
    {
     "name": "stdout",
     "output_type": "stream",
     "text": [
      "2258_3\n"
     ]
    },
    {
     "name": "stderr",
     "output_type": "stream",
     "text": [
      "/Users/tracysanchezpacheco/opt/anaconda3/lib/python3.8/site-packages/numpy/lib/nanfunctions.py:1113: RuntimeWarning: All-NaN slice encountered\n",
      "  r, k = function_base._ureduce(a, func=_nanmedian, axis=axis, out=out,\n"
     ]
    },
    {
     "name": "stdout",
     "output_type": "stream",
     "text": [
      "2258_4\n"
     ]
    },
    {
     "name": "stderr",
     "output_type": "stream",
     "text": [
      "/Users/tracysanchezpacheco/opt/anaconda3/lib/python3.8/site-packages/numpy/lib/nanfunctions.py:1113: RuntimeWarning: All-NaN slice encountered\n",
      "  r, k = function_base._ureduce(a, func=_nanmedian, axis=axis, out=out,\n"
     ]
    },
    {
     "name": "stdout",
     "output_type": "stream",
     "text": [
      "2258_5\n"
     ]
    },
    {
     "name": "stderr",
     "output_type": "stream",
     "text": [
      "/Users/tracysanchezpacheco/opt/anaconda3/lib/python3.8/site-packages/numpy/lib/nanfunctions.py:1113: RuntimeWarning: All-NaN slice encountered\n",
      "  r, k = function_base._ureduce(a, func=_nanmedian, axis=axis, out=out,\n"
     ]
    },
    {
     "name": "stdout",
     "output_type": "stream",
     "text": [
      "2361_2\n"
     ]
    },
    {
     "name": "stderr",
     "output_type": "stream",
     "text": [
      "/Users/tracysanchezpacheco/opt/anaconda3/lib/python3.8/site-packages/numpy/lib/nanfunctions.py:1113: RuntimeWarning: All-NaN slice encountered\n",
      "  r, k = function_base._ureduce(a, func=_nanmedian, axis=axis, out=out,\n"
     ]
    },
    {
     "name": "stdout",
     "output_type": "stream",
     "text": [
      "2361_3\n"
     ]
    },
    {
     "name": "stderr",
     "output_type": "stream",
     "text": [
      "/Users/tracysanchezpacheco/opt/anaconda3/lib/python3.8/site-packages/numpy/lib/nanfunctions.py:1113: RuntimeWarning: All-NaN slice encountered\n",
      "  r, k = function_base._ureduce(a, func=_nanmedian, axis=axis, out=out,\n"
     ]
    },
    {
     "name": "stdout",
     "output_type": "stream",
     "text": [
      "2361_4\n"
     ]
    },
    {
     "name": "stderr",
     "output_type": "stream",
     "text": [
      "/Users/tracysanchezpacheco/opt/anaconda3/lib/python3.8/site-packages/numpy/lib/nanfunctions.py:1113: RuntimeWarning: All-NaN slice encountered\n",
      "  r, k = function_base._ureduce(a, func=_nanmedian, axis=axis, out=out,\n"
     ]
    },
    {
     "name": "stdout",
     "output_type": "stream",
     "text": [
      "2361_5\n"
     ]
    },
    {
     "name": "stderr",
     "output_type": "stream",
     "text": [
      "/Users/tracysanchezpacheco/opt/anaconda3/lib/python3.8/site-packages/numpy/lib/nanfunctions.py:1113: RuntimeWarning: All-NaN slice encountered\n",
      "  r, k = function_base._ureduce(a, func=_nanmedian, axis=axis, out=out,\n"
     ]
    },
    {
     "name": "stdout",
     "output_type": "stream",
     "text": [
      "2693_1\n"
     ]
    },
    {
     "name": "stderr",
     "output_type": "stream",
     "text": [
      "/Users/tracysanchezpacheco/opt/anaconda3/lib/python3.8/site-packages/numpy/lib/nanfunctions.py:1113: RuntimeWarning: All-NaN slice encountered\n",
      "  r, k = function_base._ureduce(a, func=_nanmedian, axis=axis, out=out,\n"
     ]
    },
    {
     "name": "stdout",
     "output_type": "stream",
     "text": [
      "2693_2\n"
     ]
    },
    {
     "name": "stderr",
     "output_type": "stream",
     "text": [
      "/Users/tracysanchezpacheco/opt/anaconda3/lib/python3.8/site-packages/numpy/lib/nanfunctions.py:1113: RuntimeWarning: All-NaN slice encountered\n",
      "  r, k = function_base._ureduce(a, func=_nanmedian, axis=axis, out=out,\n"
     ]
    },
    {
     "name": "stdout",
     "output_type": "stream",
     "text": [
      "2693_3\n"
     ]
    },
    {
     "name": "stderr",
     "output_type": "stream",
     "text": [
      "/Users/tracysanchezpacheco/opt/anaconda3/lib/python3.8/site-packages/numpy/lib/nanfunctions.py:1113: RuntimeWarning: All-NaN slice encountered\n",
      "  r, k = function_base._ureduce(a, func=_nanmedian, axis=axis, out=out,\n"
     ]
    },
    {
     "name": "stdout",
     "output_type": "stream",
     "text": [
      "2693_4\n"
     ]
    },
    {
     "name": "stderr",
     "output_type": "stream",
     "text": [
      "/Users/tracysanchezpacheco/opt/anaconda3/lib/python3.8/site-packages/numpy/lib/nanfunctions.py:1113: RuntimeWarning: All-NaN slice encountered\n",
      "  r, k = function_base._ureduce(a, func=_nanmedian, axis=axis, out=out,\n"
     ]
    },
    {
     "name": "stdout",
     "output_type": "stream",
     "text": [
      "2693_5\n"
     ]
    },
    {
     "name": "stderr",
     "output_type": "stream",
     "text": [
      "/Users/tracysanchezpacheco/opt/anaconda3/lib/python3.8/site-packages/numpy/lib/nanfunctions.py:1113: RuntimeWarning: All-NaN slice encountered\n",
      "  r, k = function_base._ureduce(a, func=_nanmedian, axis=axis, out=out,\n"
     ]
    },
    {
     "name": "stdout",
     "output_type": "stream",
     "text": [
      "3246_1\n"
     ]
    },
    {
     "name": "stderr",
     "output_type": "stream",
     "text": [
      "/Users/tracysanchezpacheco/opt/anaconda3/lib/python3.8/site-packages/numpy/lib/nanfunctions.py:1113: RuntimeWarning: All-NaN slice encountered\n",
      "  r, k = function_base._ureduce(a, func=_nanmedian, axis=axis, out=out,\n"
     ]
    },
    {
     "name": "stdout",
     "output_type": "stream",
     "text": [
      "3246_2\n"
     ]
    },
    {
     "name": "stderr",
     "output_type": "stream",
     "text": [
      "/Users/tracysanchezpacheco/opt/anaconda3/lib/python3.8/site-packages/numpy/lib/nanfunctions.py:1113: RuntimeWarning: All-NaN slice encountered\n",
      "  r, k = function_base._ureduce(a, func=_nanmedian, axis=axis, out=out,\n"
     ]
    },
    {
     "name": "stdout",
     "output_type": "stream",
     "text": [
      "3246_3\n"
     ]
    },
    {
     "name": "stderr",
     "output_type": "stream",
     "text": [
      "/Users/tracysanchezpacheco/opt/anaconda3/lib/python3.8/site-packages/numpy/lib/nanfunctions.py:1113: RuntimeWarning: All-NaN slice encountered\n",
      "  r, k = function_base._ureduce(a, func=_nanmedian, axis=axis, out=out,\n"
     ]
    },
    {
     "name": "stdout",
     "output_type": "stream",
     "text": [
      "3246_5\n"
     ]
    },
    {
     "name": "stderr",
     "output_type": "stream",
     "text": [
      "/Users/tracysanchezpacheco/opt/anaconda3/lib/python3.8/site-packages/numpy/lib/nanfunctions.py:1113: RuntimeWarning: All-NaN slice encountered\n",
      "  r, k = function_base._ureduce(a, func=_nanmedian, axis=axis, out=out,\n"
     ]
    },
    {
     "name": "stdout",
     "output_type": "stream",
     "text": [
      "3310_1\n"
     ]
    },
    {
     "name": "stderr",
     "output_type": "stream",
     "text": [
      "/Users/tracysanchezpacheco/opt/anaconda3/lib/python3.8/site-packages/numpy/lib/nanfunctions.py:1113: RuntimeWarning: All-NaN slice encountered\n",
      "  r, k = function_base._ureduce(a, func=_nanmedian, axis=axis, out=out,\n"
     ]
    },
    {
     "name": "stdout",
     "output_type": "stream",
     "text": [
      "3310_2\n"
     ]
    },
    {
     "name": "stderr",
     "output_type": "stream",
     "text": [
      "/Users/tracysanchezpacheco/opt/anaconda3/lib/python3.8/site-packages/numpy/lib/nanfunctions.py:1113: RuntimeWarning: All-NaN slice encountered\n",
      "  r, k = function_base._ureduce(a, func=_nanmedian, axis=axis, out=out,\n"
     ]
    },
    {
     "name": "stdout",
     "output_type": "stream",
     "text": [
      "3310_3\n"
     ]
    },
    {
     "name": "stderr",
     "output_type": "stream",
     "text": [
      "/Users/tracysanchezpacheco/opt/anaconda3/lib/python3.8/site-packages/numpy/lib/nanfunctions.py:1113: RuntimeWarning: All-NaN slice encountered\n",
      "  r, k = function_base._ureduce(a, func=_nanmedian, axis=axis, out=out,\n"
     ]
    },
    {
     "name": "stdout",
     "output_type": "stream",
     "text": [
      "3310_4\n"
     ]
    },
    {
     "name": "stderr",
     "output_type": "stream",
     "text": [
      "/Users/tracysanchezpacheco/opt/anaconda3/lib/python3.8/site-packages/numpy/lib/nanfunctions.py:1113: RuntimeWarning: All-NaN slice encountered\n",
      "  r, k = function_base._ureduce(a, func=_nanmedian, axis=axis, out=out,\n"
     ]
    },
    {
     "name": "stdout",
     "output_type": "stream",
     "text": [
      "3310_5\n"
     ]
    },
    {
     "name": "stderr",
     "output_type": "stream",
     "text": [
      "/Users/tracysanchezpacheco/opt/anaconda3/lib/python3.8/site-packages/numpy/lib/nanfunctions.py:1113: RuntimeWarning: All-NaN slice encountered\n",
      "  r, k = function_base._ureduce(a, func=_nanmedian, axis=axis, out=out,\n"
     ]
    },
    {
     "name": "stdout",
     "output_type": "stream",
     "text": [
      "3572_1\n"
     ]
    },
    {
     "name": "stderr",
     "output_type": "stream",
     "text": [
      "/Users/tracysanchezpacheco/opt/anaconda3/lib/python3.8/site-packages/numpy/lib/nanfunctions.py:1113: RuntimeWarning: All-NaN slice encountered\n",
      "  r, k = function_base._ureduce(a, func=_nanmedian, axis=axis, out=out,\n"
     ]
    },
    {
     "name": "stdout",
     "output_type": "stream",
     "text": [
      "3572_2\n"
     ]
    },
    {
     "name": "stderr",
     "output_type": "stream",
     "text": [
      "/Users/tracysanchezpacheco/opt/anaconda3/lib/python3.8/site-packages/numpy/lib/nanfunctions.py:1113: RuntimeWarning: All-NaN slice encountered\n",
      "  r, k = function_base._ureduce(a, func=_nanmedian, axis=axis, out=out,\n"
     ]
    },
    {
     "name": "stdout",
     "output_type": "stream",
     "text": [
      "3572_3\n"
     ]
    },
    {
     "name": "stderr",
     "output_type": "stream",
     "text": [
      "/Users/tracysanchezpacheco/opt/anaconda3/lib/python3.8/site-packages/numpy/lib/nanfunctions.py:1113: RuntimeWarning: All-NaN slice encountered\n",
      "  r, k = function_base._ureduce(a, func=_nanmedian, axis=axis, out=out,\n"
     ]
    },
    {
     "name": "stdout",
     "output_type": "stream",
     "text": [
      "3572_4\n"
     ]
    },
    {
     "name": "stderr",
     "output_type": "stream",
     "text": [
      "/Users/tracysanchezpacheco/opt/anaconda3/lib/python3.8/site-packages/numpy/lib/nanfunctions.py:1113: RuntimeWarning: All-NaN slice encountered\n",
      "  r, k = function_base._ureduce(a, func=_nanmedian, axis=axis, out=out,\n"
     ]
    },
    {
     "name": "stdout",
     "output_type": "stream",
     "text": [
      "3976_1\n"
     ]
    },
    {
     "name": "stderr",
     "output_type": "stream",
     "text": [
      "/Users/tracysanchezpacheco/opt/anaconda3/lib/python3.8/site-packages/numpy/lib/nanfunctions.py:1113: RuntimeWarning: All-NaN slice encountered\n",
      "  r, k = function_base._ureduce(a, func=_nanmedian, axis=axis, out=out,\n"
     ]
    },
    {
     "name": "stdout",
     "output_type": "stream",
     "text": [
      "3976_2\n"
     ]
    },
    {
     "name": "stderr",
     "output_type": "stream",
     "text": [
      "/Users/tracysanchezpacheco/opt/anaconda3/lib/python3.8/site-packages/numpy/lib/nanfunctions.py:1113: RuntimeWarning: All-NaN slice encountered\n",
      "  r, k = function_base._ureduce(a, func=_nanmedian, axis=axis, out=out,\n"
     ]
    },
    {
     "name": "stdout",
     "output_type": "stream",
     "text": [
      "3976_3\n"
     ]
    },
    {
     "name": "stderr",
     "output_type": "stream",
     "text": [
      "/Users/tracysanchezpacheco/opt/anaconda3/lib/python3.8/site-packages/numpy/lib/nanfunctions.py:1113: RuntimeWarning: All-NaN slice encountered\n",
      "  r, k = function_base._ureduce(a, func=_nanmedian, axis=axis, out=out,\n"
     ]
    },
    {
     "name": "stdout",
     "output_type": "stream",
     "text": [
      "3976_4\n"
     ]
    },
    {
     "name": "stderr",
     "output_type": "stream",
     "text": [
      "/Users/tracysanchezpacheco/opt/anaconda3/lib/python3.8/site-packages/numpy/lib/nanfunctions.py:1113: RuntimeWarning: All-NaN slice encountered\n",
      "  r, k = function_base._ureduce(a, func=_nanmedian, axis=axis, out=out,\n"
     ]
    },
    {
     "name": "stdout",
     "output_type": "stream",
     "text": [
      "3976_5\n"
     ]
    },
    {
     "name": "stderr",
     "output_type": "stream",
     "text": [
      "/Users/tracysanchezpacheco/opt/anaconda3/lib/python3.8/site-packages/numpy/lib/nanfunctions.py:1113: RuntimeWarning: All-NaN slice encountered\n",
      "  r, k = function_base._ureduce(a, func=_nanmedian, axis=axis, out=out,\n"
     ]
    },
    {
     "name": "stdout",
     "output_type": "stream",
     "text": [
      "4176_1\n"
     ]
    },
    {
     "name": "stderr",
     "output_type": "stream",
     "text": [
      "/Users/tracysanchezpacheco/opt/anaconda3/lib/python3.8/site-packages/numpy/lib/nanfunctions.py:1113: RuntimeWarning: All-NaN slice encountered\n",
      "  r, k = function_base._ureduce(a, func=_nanmedian, axis=axis, out=out,\n"
     ]
    },
    {
     "name": "stdout",
     "output_type": "stream",
     "text": [
      "4176_2\n"
     ]
    },
    {
     "name": "stderr",
     "output_type": "stream",
     "text": [
      "/Users/tracysanchezpacheco/opt/anaconda3/lib/python3.8/site-packages/numpy/lib/nanfunctions.py:1113: RuntimeWarning: All-NaN slice encountered\n",
      "  r, k = function_base._ureduce(a, func=_nanmedian, axis=axis, out=out,\n"
     ]
    },
    {
     "name": "stdout",
     "output_type": "stream",
     "text": [
      "4176_3\n"
     ]
    },
    {
     "name": "stderr",
     "output_type": "stream",
     "text": [
      "/Users/tracysanchezpacheco/opt/anaconda3/lib/python3.8/site-packages/numpy/lib/nanfunctions.py:1113: RuntimeWarning: All-NaN slice encountered\n",
      "  r, k = function_base._ureduce(a, func=_nanmedian, axis=axis, out=out,\n"
     ]
    },
    {
     "name": "stdout",
     "output_type": "stream",
     "text": [
      "4176_4\n"
     ]
    },
    {
     "name": "stderr",
     "output_type": "stream",
     "text": [
      "/Users/tracysanchezpacheco/opt/anaconda3/lib/python3.8/site-packages/numpy/lib/nanfunctions.py:1113: RuntimeWarning: All-NaN slice encountered\n",
      "  r, k = function_base._ureduce(a, func=_nanmedian, axis=axis, out=out,\n"
     ]
    },
    {
     "name": "stdout",
     "output_type": "stream",
     "text": [
      "4176_5\n"
     ]
    },
    {
     "name": "stderr",
     "output_type": "stream",
     "text": [
      "/Users/tracysanchezpacheco/opt/anaconda3/lib/python3.8/site-packages/numpy/lib/nanfunctions.py:1113: RuntimeWarning: All-NaN slice encountered\n",
      "  r, k = function_base._ureduce(a, func=_nanmedian, axis=axis, out=out,\n"
     ]
    },
    {
     "name": "stdout",
     "output_type": "stream",
     "text": [
      "4796_1\n"
     ]
    },
    {
     "name": "stderr",
     "output_type": "stream",
     "text": [
      "/Users/tracysanchezpacheco/opt/anaconda3/lib/python3.8/site-packages/numpy/lib/nanfunctions.py:1113: RuntimeWarning: All-NaN slice encountered\n",
      "  r, k = function_base._ureduce(a, func=_nanmedian, axis=axis, out=out,\n"
     ]
    },
    {
     "name": "stdout",
     "output_type": "stream",
     "text": [
      "4796_2\n"
     ]
    },
    {
     "name": "stderr",
     "output_type": "stream",
     "text": [
      "/Users/tracysanchezpacheco/opt/anaconda3/lib/python3.8/site-packages/numpy/lib/nanfunctions.py:1113: RuntimeWarning: All-NaN slice encountered\n",
      "  r, k = function_base._ureduce(a, func=_nanmedian, axis=axis, out=out,\n"
     ]
    },
    {
     "name": "stdout",
     "output_type": "stream",
     "text": [
      "4796_3\n"
     ]
    },
    {
     "name": "stderr",
     "output_type": "stream",
     "text": [
      "/Users/tracysanchezpacheco/opt/anaconda3/lib/python3.8/site-packages/numpy/lib/nanfunctions.py:1113: RuntimeWarning: All-NaN slice encountered\n",
      "  r, k = function_base._ureduce(a, func=_nanmedian, axis=axis, out=out,\n"
     ]
    },
    {
     "name": "stdout",
     "output_type": "stream",
     "text": [
      "4796_4\n"
     ]
    },
    {
     "name": "stderr",
     "output_type": "stream",
     "text": [
      "/Users/tracysanchezpacheco/opt/anaconda3/lib/python3.8/site-packages/numpy/lib/nanfunctions.py:1113: RuntimeWarning: All-NaN slice encountered\n",
      "  r, k = function_base._ureduce(a, func=_nanmedian, axis=axis, out=out,\n"
     ]
    },
    {
     "name": "stdout",
     "output_type": "stream",
     "text": [
      "4796_5\n"
     ]
    },
    {
     "name": "stderr",
     "output_type": "stream",
     "text": [
      "/Users/tracysanchezpacheco/opt/anaconda3/lib/python3.8/site-packages/numpy/lib/nanfunctions.py:1113: RuntimeWarning: All-NaN slice encountered\n",
      "  r, k = function_base._ureduce(a, func=_nanmedian, axis=axis, out=out,\n"
     ]
    },
    {
     "name": "stdout",
     "output_type": "stream",
     "text": [
      "4917_1\n"
     ]
    },
    {
     "name": "stderr",
     "output_type": "stream",
     "text": [
      "/Users/tracysanchezpacheco/opt/anaconda3/lib/python3.8/site-packages/numpy/lib/nanfunctions.py:1113: RuntimeWarning: All-NaN slice encountered\n",
      "  r, k = function_base._ureduce(a, func=_nanmedian, axis=axis, out=out,\n"
     ]
    },
    {
     "name": "stdout",
     "output_type": "stream",
     "text": [
      "4917_2\n"
     ]
    },
    {
     "name": "stderr",
     "output_type": "stream",
     "text": [
      "/Users/tracysanchezpacheco/opt/anaconda3/lib/python3.8/site-packages/numpy/lib/nanfunctions.py:1113: RuntimeWarning: All-NaN slice encountered\n",
      "  r, k = function_base._ureduce(a, func=_nanmedian, axis=axis, out=out,\n"
     ]
    },
    {
     "name": "stdout",
     "output_type": "stream",
     "text": [
      "4917_3\n"
     ]
    },
    {
     "name": "stderr",
     "output_type": "stream",
     "text": [
      "/Users/tracysanchezpacheco/opt/anaconda3/lib/python3.8/site-packages/numpy/lib/nanfunctions.py:1113: RuntimeWarning: All-NaN slice encountered\n",
      "  r, k = function_base._ureduce(a, func=_nanmedian, axis=axis, out=out,\n"
     ]
    },
    {
     "name": "stdout",
     "output_type": "stream",
     "text": [
      "4917_4\n"
     ]
    },
    {
     "name": "stderr",
     "output_type": "stream",
     "text": [
      "/Users/tracysanchezpacheco/opt/anaconda3/lib/python3.8/site-packages/numpy/lib/nanfunctions.py:1113: RuntimeWarning: All-NaN slice encountered\n",
      "  r, k = function_base._ureduce(a, func=_nanmedian, axis=axis, out=out,\n"
     ]
    },
    {
     "name": "stdout",
     "output_type": "stream",
     "text": [
      "4917_5\n"
     ]
    },
    {
     "name": "stderr",
     "output_type": "stream",
     "text": [
      "/Users/tracysanchezpacheco/opt/anaconda3/lib/python3.8/site-packages/numpy/lib/nanfunctions.py:1113: RuntimeWarning: All-NaN slice encountered\n",
      "  r, k = function_base._ureduce(a, func=_nanmedian, axis=axis, out=out,\n"
     ]
    },
    {
     "name": "stdout",
     "output_type": "stream",
     "text": [
      "5238_1\n"
     ]
    },
    {
     "name": "stderr",
     "output_type": "stream",
     "text": [
      "/Users/tracysanchezpacheco/opt/anaconda3/lib/python3.8/site-packages/numpy/lib/nanfunctions.py:1113: RuntimeWarning: All-NaN slice encountered\n",
      "  r, k = function_base._ureduce(a, func=_nanmedian, axis=axis, out=out,\n"
     ]
    },
    {
     "name": "stdout",
     "output_type": "stream",
     "text": [
      "5238_2\n"
     ]
    },
    {
     "name": "stderr",
     "output_type": "stream",
     "text": [
      "/Users/tracysanchezpacheco/opt/anaconda3/lib/python3.8/site-packages/numpy/lib/nanfunctions.py:1113: RuntimeWarning: All-NaN slice encountered\n",
      "  r, k = function_base._ureduce(a, func=_nanmedian, axis=axis, out=out,\n"
     ]
    },
    {
     "name": "stdout",
     "output_type": "stream",
     "text": [
      "5238_3\n"
     ]
    },
    {
     "name": "stderr",
     "output_type": "stream",
     "text": [
      "/Users/tracysanchezpacheco/opt/anaconda3/lib/python3.8/site-packages/numpy/lib/nanfunctions.py:1113: RuntimeWarning: All-NaN slice encountered\n",
      "  r, k = function_base._ureduce(a, func=_nanmedian, axis=axis, out=out,\n"
     ]
    },
    {
     "name": "stdout",
     "output_type": "stream",
     "text": [
      "5238_4\n"
     ]
    },
    {
     "name": "stderr",
     "output_type": "stream",
     "text": [
      "/Users/tracysanchezpacheco/opt/anaconda3/lib/python3.8/site-packages/numpy/lib/nanfunctions.py:1113: RuntimeWarning: All-NaN slice encountered\n",
      "  r, k = function_base._ureduce(a, func=_nanmedian, axis=axis, out=out,\n"
     ]
    },
    {
     "name": "stdout",
     "output_type": "stream",
     "text": [
      "5531_1\n"
     ]
    },
    {
     "name": "stderr",
     "output_type": "stream",
     "text": [
      "/Users/tracysanchezpacheco/opt/anaconda3/lib/python3.8/site-packages/numpy/lib/nanfunctions.py:1113: RuntimeWarning: All-NaN slice encountered\n",
      "  r, k = function_base._ureduce(a, func=_nanmedian, axis=axis, out=out,\n"
     ]
    },
    {
     "name": "stdout",
     "output_type": "stream",
     "text": [
      "5531_3\n"
     ]
    },
    {
     "name": "stderr",
     "output_type": "stream",
     "text": [
      "/Users/tracysanchezpacheco/opt/anaconda3/lib/python3.8/site-packages/numpy/lib/nanfunctions.py:1113: RuntimeWarning: All-NaN slice encountered\n",
      "  r, k = function_base._ureduce(a, func=_nanmedian, axis=axis, out=out,\n"
     ]
    },
    {
     "name": "stdout",
     "output_type": "stream",
     "text": [
      "5531_4\n"
     ]
    },
    {
     "name": "stderr",
     "output_type": "stream",
     "text": [
      "/Users/tracysanchezpacheco/opt/anaconda3/lib/python3.8/site-packages/numpy/lib/nanfunctions.py:1113: RuntimeWarning: All-NaN slice encountered\n",
      "  r, k = function_base._ureduce(a, func=_nanmedian, axis=axis, out=out,\n"
     ]
    },
    {
     "name": "stdout",
     "output_type": "stream",
     "text": [
      "5531_5\n"
     ]
    },
    {
     "name": "stderr",
     "output_type": "stream",
     "text": [
      "/Users/tracysanchezpacheco/opt/anaconda3/lib/python3.8/site-packages/numpy/lib/nanfunctions.py:1113: RuntimeWarning: All-NaN slice encountered\n",
      "  r, k = function_base._ureduce(a, func=_nanmedian, axis=axis, out=out,\n"
     ]
    },
    {
     "name": "stdout",
     "output_type": "stream",
     "text": [
      "5741_1\n"
     ]
    },
    {
     "name": "stderr",
     "output_type": "stream",
     "text": [
      "/Users/tracysanchezpacheco/opt/anaconda3/lib/python3.8/site-packages/numpy/lib/nanfunctions.py:1113: RuntimeWarning: All-NaN slice encountered\n",
      "  r, k = function_base._ureduce(a, func=_nanmedian, axis=axis, out=out,\n"
     ]
    },
    {
     "name": "stdout",
     "output_type": "stream",
     "text": [
      "5741_2\n"
     ]
    },
    {
     "name": "stderr",
     "output_type": "stream",
     "text": [
      "/Users/tracysanchezpacheco/opt/anaconda3/lib/python3.8/site-packages/numpy/lib/nanfunctions.py:1113: RuntimeWarning: All-NaN slice encountered\n",
      "  r, k = function_base._ureduce(a, func=_nanmedian, axis=axis, out=out,\n"
     ]
    },
    {
     "name": "stdout",
     "output_type": "stream",
     "text": [
      "5741_3\n"
     ]
    },
    {
     "name": "stderr",
     "output_type": "stream",
     "text": [
      "/Users/tracysanchezpacheco/opt/anaconda3/lib/python3.8/site-packages/numpy/lib/nanfunctions.py:1113: RuntimeWarning: All-NaN slice encountered\n",
      "  r, k = function_base._ureduce(a, func=_nanmedian, axis=axis, out=out,\n"
     ]
    },
    {
     "name": "stdout",
     "output_type": "stream",
     "text": [
      "5741_4\n"
     ]
    },
    {
     "name": "stderr",
     "output_type": "stream",
     "text": [
      "/Users/tracysanchezpacheco/opt/anaconda3/lib/python3.8/site-packages/numpy/lib/nanfunctions.py:1113: RuntimeWarning: All-NaN slice encountered\n",
      "  r, k = function_base._ureduce(a, func=_nanmedian, axis=axis, out=out,\n"
     ]
    },
    {
     "name": "stdout",
     "output_type": "stream",
     "text": [
      "5741_5\n"
     ]
    },
    {
     "name": "stderr",
     "output_type": "stream",
     "text": [
      "/Users/tracysanchezpacheco/opt/anaconda3/lib/python3.8/site-packages/numpy/lib/nanfunctions.py:1113: RuntimeWarning: All-NaN slice encountered\n",
      "  r, k = function_base._ureduce(a, func=_nanmedian, axis=axis, out=out,\n"
     ]
    },
    {
     "name": "stdout",
     "output_type": "stream",
     "text": [
      "6642_1\n"
     ]
    },
    {
     "name": "stderr",
     "output_type": "stream",
     "text": [
      "/Users/tracysanchezpacheco/opt/anaconda3/lib/python3.8/site-packages/numpy/lib/nanfunctions.py:1113: RuntimeWarning: All-NaN slice encountered\n",
      "  r, k = function_base._ureduce(a, func=_nanmedian, axis=axis, out=out,\n"
     ]
    },
    {
     "name": "stdout",
     "output_type": "stream",
     "text": [
      "6642_2\n"
     ]
    },
    {
     "name": "stderr",
     "output_type": "stream",
     "text": [
      "/Users/tracysanchezpacheco/opt/anaconda3/lib/python3.8/site-packages/numpy/lib/nanfunctions.py:1113: RuntimeWarning: All-NaN slice encountered\n",
      "  r, k = function_base._ureduce(a, func=_nanmedian, axis=axis, out=out,\n"
     ]
    },
    {
     "name": "stdout",
     "output_type": "stream",
     "text": [
      "6642_3\n"
     ]
    },
    {
     "name": "stderr",
     "output_type": "stream",
     "text": [
      "/Users/tracysanchezpacheco/opt/anaconda3/lib/python3.8/site-packages/numpy/lib/nanfunctions.py:1113: RuntimeWarning: All-NaN slice encountered\n",
      "  r, k = function_base._ureduce(a, func=_nanmedian, axis=axis, out=out,\n"
     ]
    },
    {
     "name": "stdout",
     "output_type": "stream",
     "text": [
      "6642_4\n"
     ]
    },
    {
     "name": "stderr",
     "output_type": "stream",
     "text": [
      "/Users/tracysanchezpacheco/opt/anaconda3/lib/python3.8/site-packages/numpy/lib/nanfunctions.py:1113: RuntimeWarning: All-NaN slice encountered\n",
      "  r, k = function_base._ureduce(a, func=_nanmedian, axis=axis, out=out,\n"
     ]
    },
    {
     "name": "stdout",
     "output_type": "stream",
     "text": [
      "6642_5\n"
     ]
    },
    {
     "name": "stderr",
     "output_type": "stream",
     "text": [
      "/Users/tracysanchezpacheco/opt/anaconda3/lib/python3.8/site-packages/numpy/lib/nanfunctions.py:1113: RuntimeWarning: All-NaN slice encountered\n",
      "  r, k = function_base._ureduce(a, func=_nanmedian, axis=axis, out=out,\n"
     ]
    },
    {
     "name": "stdout",
     "output_type": "stream",
     "text": [
      "7093_1\n"
     ]
    },
    {
     "name": "stderr",
     "output_type": "stream",
     "text": [
      "/Users/tracysanchezpacheco/opt/anaconda3/lib/python3.8/site-packages/numpy/lib/nanfunctions.py:1113: RuntimeWarning: All-NaN slice encountered\n",
      "  r, k = function_base._ureduce(a, func=_nanmedian, axis=axis, out=out,\n"
     ]
    },
    {
     "name": "stdout",
     "output_type": "stream",
     "text": [
      "7093_2\n"
     ]
    },
    {
     "name": "stderr",
     "output_type": "stream",
     "text": [
      "/Users/tracysanchezpacheco/opt/anaconda3/lib/python3.8/site-packages/numpy/lib/nanfunctions.py:1113: RuntimeWarning: All-NaN slice encountered\n",
      "  r, k = function_base._ureduce(a, func=_nanmedian, axis=axis, out=out,\n"
     ]
    },
    {
     "name": "stdout",
     "output_type": "stream",
     "text": [
      "7093_3\n"
     ]
    },
    {
     "name": "stderr",
     "output_type": "stream",
     "text": [
      "/Users/tracysanchezpacheco/opt/anaconda3/lib/python3.8/site-packages/numpy/lib/nanfunctions.py:1113: RuntimeWarning: All-NaN slice encountered\n",
      "  r, k = function_base._ureduce(a, func=_nanmedian, axis=axis, out=out,\n"
     ]
    },
    {
     "name": "stdout",
     "output_type": "stream",
     "text": [
      "7093_4\n"
     ]
    },
    {
     "name": "stderr",
     "output_type": "stream",
     "text": [
      "/Users/tracysanchezpacheco/opt/anaconda3/lib/python3.8/site-packages/numpy/lib/nanfunctions.py:1113: RuntimeWarning: All-NaN slice encountered\n",
      "  r, k = function_base._ureduce(a, func=_nanmedian, axis=axis, out=out,\n"
     ]
    },
    {
     "name": "stdout",
     "output_type": "stream",
     "text": [
      "7093_5\n"
     ]
    },
    {
     "name": "stderr",
     "output_type": "stream",
     "text": [
      "/Users/tracysanchezpacheco/opt/anaconda3/lib/python3.8/site-packages/numpy/lib/nanfunctions.py:1113: RuntimeWarning: All-NaN slice encountered\n",
      "  r, k = function_base._ureduce(a, func=_nanmedian, axis=axis, out=out,\n"
     ]
    },
    {
     "name": "stdout",
     "output_type": "stream",
     "text": [
      "7264_1\n"
     ]
    },
    {
     "name": "stderr",
     "output_type": "stream",
     "text": [
      "/Users/tracysanchezpacheco/opt/anaconda3/lib/python3.8/site-packages/numpy/lib/nanfunctions.py:1113: RuntimeWarning: All-NaN slice encountered\n",
      "  r, k = function_base._ureduce(a, func=_nanmedian, axis=axis, out=out,\n"
     ]
    },
    {
     "name": "stdout",
     "output_type": "stream",
     "text": [
      "7264_2\n"
     ]
    },
    {
     "name": "stderr",
     "output_type": "stream",
     "text": [
      "/Users/tracysanchezpacheco/opt/anaconda3/lib/python3.8/site-packages/numpy/lib/nanfunctions.py:1113: RuntimeWarning: All-NaN slice encountered\n",
      "  r, k = function_base._ureduce(a, func=_nanmedian, axis=axis, out=out,\n"
     ]
    },
    {
     "name": "stdout",
     "output_type": "stream",
     "text": [
      "7264_3\n"
     ]
    },
    {
     "name": "stderr",
     "output_type": "stream",
     "text": [
      "/Users/tracysanchezpacheco/opt/anaconda3/lib/python3.8/site-packages/numpy/lib/nanfunctions.py:1113: RuntimeWarning: All-NaN slice encountered\n",
      "  r, k = function_base._ureduce(a, func=_nanmedian, axis=axis, out=out,\n"
     ]
    },
    {
     "name": "stdout",
     "output_type": "stream",
     "text": [
      "7264_4\n"
     ]
    },
    {
     "name": "stderr",
     "output_type": "stream",
     "text": [
      "/Users/tracysanchezpacheco/opt/anaconda3/lib/python3.8/site-packages/numpy/lib/nanfunctions.py:1113: RuntimeWarning: All-NaN slice encountered\n",
      "  r, k = function_base._ureduce(a, func=_nanmedian, axis=axis, out=out,\n"
     ]
    },
    {
     "name": "stdout",
     "output_type": "stream",
     "text": [
      "7264_5\n"
     ]
    },
    {
     "name": "stderr",
     "output_type": "stream",
     "text": [
      "/Users/tracysanchezpacheco/opt/anaconda3/lib/python3.8/site-packages/numpy/lib/nanfunctions.py:1113: RuntimeWarning: All-NaN slice encountered\n",
      "  r, k = function_base._ureduce(a, func=_nanmedian, axis=axis, out=out,\n"
     ]
    },
    {
     "name": "stdout",
     "output_type": "stream",
     "text": [
      "7412_1\n"
     ]
    },
    {
     "name": "stderr",
     "output_type": "stream",
     "text": [
      "/Users/tracysanchezpacheco/opt/anaconda3/lib/python3.8/site-packages/numpy/lib/nanfunctions.py:1113: RuntimeWarning: All-NaN slice encountered\n",
      "  r, k = function_base._ureduce(a, func=_nanmedian, axis=axis, out=out,\n"
     ]
    },
    {
     "name": "stdout",
     "output_type": "stream",
     "text": [
      "7412_2\n"
     ]
    },
    {
     "name": "stderr",
     "output_type": "stream",
     "text": [
      "/Users/tracysanchezpacheco/opt/anaconda3/lib/python3.8/site-packages/numpy/lib/nanfunctions.py:1113: RuntimeWarning: All-NaN slice encountered\n",
      "  r, k = function_base._ureduce(a, func=_nanmedian, axis=axis, out=out,\n"
     ]
    },
    {
     "name": "stdout",
     "output_type": "stream",
     "text": [
      "7412_3\n"
     ]
    },
    {
     "name": "stderr",
     "output_type": "stream",
     "text": [
      "/Users/tracysanchezpacheco/opt/anaconda3/lib/python3.8/site-packages/numpy/lib/nanfunctions.py:1113: RuntimeWarning: All-NaN slice encountered\n",
      "  r, k = function_base._ureduce(a, func=_nanmedian, axis=axis, out=out,\n"
     ]
    },
    {
     "name": "stdout",
     "output_type": "stream",
     "text": [
      "7412_4\n"
     ]
    },
    {
     "name": "stderr",
     "output_type": "stream",
     "text": [
      "/Users/tracysanchezpacheco/opt/anaconda3/lib/python3.8/site-packages/numpy/lib/nanfunctions.py:1113: RuntimeWarning: All-NaN slice encountered\n",
      "  r, k = function_base._ureduce(a, func=_nanmedian, axis=axis, out=out,\n"
     ]
    },
    {
     "name": "stdout",
     "output_type": "stream",
     "text": [
      "7412_5\n"
     ]
    },
    {
     "name": "stderr",
     "output_type": "stream",
     "text": [
      "/Users/tracysanchezpacheco/opt/anaconda3/lib/python3.8/site-packages/numpy/lib/nanfunctions.py:1113: RuntimeWarning: All-NaN slice encountered\n",
      "  r, k = function_base._ureduce(a, func=_nanmedian, axis=axis, out=out,\n"
     ]
    },
    {
     "name": "stdout",
     "output_type": "stream",
     "text": [
      "7842_1\n"
     ]
    },
    {
     "name": "stderr",
     "output_type": "stream",
     "text": [
      "/Users/tracysanchezpacheco/opt/anaconda3/lib/python3.8/site-packages/numpy/lib/nanfunctions.py:1113: RuntimeWarning: All-NaN slice encountered\n",
      "  r, k = function_base._ureduce(a, func=_nanmedian, axis=axis, out=out,\n"
     ]
    },
    {
     "name": "stdout",
     "output_type": "stream",
     "text": [
      "7842_2\n"
     ]
    },
    {
     "name": "stderr",
     "output_type": "stream",
     "text": [
      "/Users/tracysanchezpacheco/opt/anaconda3/lib/python3.8/site-packages/numpy/lib/nanfunctions.py:1113: RuntimeWarning: All-NaN slice encountered\n",
      "  r, k = function_base._ureduce(a, func=_nanmedian, axis=axis, out=out,\n"
     ]
    },
    {
     "name": "stdout",
     "output_type": "stream",
     "text": [
      "7842_3\n"
     ]
    },
    {
     "name": "stderr",
     "output_type": "stream",
     "text": [
      "/Users/tracysanchezpacheco/opt/anaconda3/lib/python3.8/site-packages/numpy/lib/nanfunctions.py:1113: RuntimeWarning: All-NaN slice encountered\n",
      "  r, k = function_base._ureduce(a, func=_nanmedian, axis=axis, out=out,\n"
     ]
    },
    {
     "name": "stdout",
     "output_type": "stream",
     "text": [
      "7842_4\n"
     ]
    },
    {
     "name": "stderr",
     "output_type": "stream",
     "text": [
      "/Users/tracysanchezpacheco/opt/anaconda3/lib/python3.8/site-packages/numpy/lib/nanfunctions.py:1113: RuntimeWarning: All-NaN slice encountered\n",
      "  r, k = function_base._ureduce(a, func=_nanmedian, axis=axis, out=out,\n"
     ]
    },
    {
     "name": "stdout",
     "output_type": "stream",
     "text": [
      "7842_5\n"
     ]
    },
    {
     "name": "stderr",
     "output_type": "stream",
     "text": [
      "/Users/tracysanchezpacheco/opt/anaconda3/lib/python3.8/site-packages/numpy/lib/nanfunctions.py:1113: RuntimeWarning: All-NaN slice encountered\n",
      "  r, k = function_base._ureduce(a, func=_nanmedian, axis=axis, out=out,\n"
     ]
    },
    {
     "name": "stdout",
     "output_type": "stream",
     "text": [
      "8007_1\n"
     ]
    },
    {
     "name": "stderr",
     "output_type": "stream",
     "text": [
      "/Users/tracysanchezpacheco/opt/anaconda3/lib/python3.8/site-packages/numpy/lib/nanfunctions.py:1113: RuntimeWarning: All-NaN slice encountered\n",
      "  r, k = function_base._ureduce(a, func=_nanmedian, axis=axis, out=out,\n"
     ]
    },
    {
     "name": "stdout",
     "output_type": "stream",
     "text": [
      "8007_2\n"
     ]
    },
    {
     "name": "stderr",
     "output_type": "stream",
     "text": [
      "/Users/tracysanchezpacheco/opt/anaconda3/lib/python3.8/site-packages/numpy/lib/nanfunctions.py:1113: RuntimeWarning: All-NaN slice encountered\n",
      "  r, k = function_base._ureduce(a, func=_nanmedian, axis=axis, out=out,\n"
     ]
    },
    {
     "name": "stdout",
     "output_type": "stream",
     "text": [
      "8007_3\n"
     ]
    },
    {
     "name": "stderr",
     "output_type": "stream",
     "text": [
      "/Users/tracysanchezpacheco/opt/anaconda3/lib/python3.8/site-packages/numpy/lib/nanfunctions.py:1113: RuntimeWarning: All-NaN slice encountered\n",
      "  r, k = function_base._ureduce(a, func=_nanmedian, axis=axis, out=out,\n"
     ]
    },
    {
     "name": "stdout",
     "output_type": "stream",
     "text": [
      "8007_4\n"
     ]
    },
    {
     "name": "stderr",
     "output_type": "stream",
     "text": [
      "/Users/tracysanchezpacheco/opt/anaconda3/lib/python3.8/site-packages/numpy/lib/nanfunctions.py:1113: RuntimeWarning: All-NaN slice encountered\n",
      "  r, k = function_base._ureduce(a, func=_nanmedian, axis=axis, out=out,\n"
     ]
    },
    {
     "name": "stdout",
     "output_type": "stream",
     "text": [
      "8007_5\n"
     ]
    },
    {
     "name": "stderr",
     "output_type": "stream",
     "text": [
      "/Users/tracysanchezpacheco/opt/anaconda3/lib/python3.8/site-packages/numpy/lib/nanfunctions.py:1113: RuntimeWarning: All-NaN slice encountered\n",
      "  r, k = function_base._ureduce(a, func=_nanmedian, axis=axis, out=out,\n"
     ]
    },
    {
     "name": "stdout",
     "output_type": "stream",
     "text": [
      "8469_1\n"
     ]
    },
    {
     "name": "stderr",
     "output_type": "stream",
     "text": [
      "/Users/tracysanchezpacheco/opt/anaconda3/lib/python3.8/site-packages/numpy/lib/nanfunctions.py:1113: RuntimeWarning: All-NaN slice encountered\n",
      "  r, k = function_base._ureduce(a, func=_nanmedian, axis=axis, out=out,\n"
     ]
    },
    {
     "name": "stdout",
     "output_type": "stream",
     "text": [
      "8469_2\n"
     ]
    },
    {
     "name": "stderr",
     "output_type": "stream",
     "text": [
      "/Users/tracysanchezpacheco/opt/anaconda3/lib/python3.8/site-packages/numpy/lib/nanfunctions.py:1113: RuntimeWarning: All-NaN slice encountered\n",
      "  r, k = function_base._ureduce(a, func=_nanmedian, axis=axis, out=out,\n"
     ]
    },
    {
     "name": "stdout",
     "output_type": "stream",
     "text": [
      "8469_3\n"
     ]
    },
    {
     "name": "stderr",
     "output_type": "stream",
     "text": [
      "/Users/tracysanchezpacheco/opt/anaconda3/lib/python3.8/site-packages/numpy/lib/nanfunctions.py:1113: RuntimeWarning: All-NaN slice encountered\n",
      "  r, k = function_base._ureduce(a, func=_nanmedian, axis=axis, out=out,\n"
     ]
    },
    {
     "name": "stdout",
     "output_type": "stream",
     "text": [
      "8469_4\n"
     ]
    },
    {
     "name": "stderr",
     "output_type": "stream",
     "text": [
      "/Users/tracysanchezpacheco/opt/anaconda3/lib/python3.8/site-packages/numpy/lib/nanfunctions.py:1113: RuntimeWarning: All-NaN slice encountered\n",
      "  r, k = function_base._ureduce(a, func=_nanmedian, axis=axis, out=out,\n"
     ]
    },
    {
     "name": "stdout",
     "output_type": "stream",
     "text": [
      "8469_5\n"
     ]
    },
    {
     "name": "stderr",
     "output_type": "stream",
     "text": [
      "/Users/tracysanchezpacheco/opt/anaconda3/lib/python3.8/site-packages/numpy/lib/nanfunctions.py:1113: RuntimeWarning: All-NaN slice encountered\n",
      "  r, k = function_base._ureduce(a, func=_nanmedian, axis=axis, out=out,\n"
     ]
    },
    {
     "name": "stdout",
     "output_type": "stream",
     "text": [
      "8673_1\n"
     ]
    },
    {
     "name": "stderr",
     "output_type": "stream",
     "text": [
      "/Users/tracysanchezpacheco/opt/anaconda3/lib/python3.8/site-packages/numpy/lib/nanfunctions.py:1113: RuntimeWarning: All-NaN slice encountered\n",
      "  r, k = function_base._ureduce(a, func=_nanmedian, axis=axis, out=out,\n"
     ]
    },
    {
     "name": "stdout",
     "output_type": "stream",
     "text": [
      "8673_2\n"
     ]
    },
    {
     "name": "stderr",
     "output_type": "stream",
     "text": [
      "/Users/tracysanchezpacheco/opt/anaconda3/lib/python3.8/site-packages/numpy/lib/nanfunctions.py:1113: RuntimeWarning: All-NaN slice encountered\n",
      "  r, k = function_base._ureduce(a, func=_nanmedian, axis=axis, out=out,\n"
     ]
    },
    {
     "name": "stdout",
     "output_type": "stream",
     "text": [
      "8673_3\n"
     ]
    },
    {
     "name": "stderr",
     "output_type": "stream",
     "text": [
      "/Users/tracysanchezpacheco/opt/anaconda3/lib/python3.8/site-packages/numpy/lib/nanfunctions.py:1113: RuntimeWarning: All-NaN slice encountered\n",
      "  r, k = function_base._ureduce(a, func=_nanmedian, axis=axis, out=out,\n"
     ]
    },
    {
     "name": "stdout",
     "output_type": "stream",
     "text": [
      "8673_4\n"
     ]
    },
    {
     "name": "stderr",
     "output_type": "stream",
     "text": [
      "/Users/tracysanchezpacheco/opt/anaconda3/lib/python3.8/site-packages/numpy/lib/nanfunctions.py:1113: RuntimeWarning: All-NaN slice encountered\n",
      "  r, k = function_base._ureduce(a, func=_nanmedian, axis=axis, out=out,\n"
     ]
    },
    {
     "name": "stdout",
     "output_type": "stream",
     "text": [
      "8673_5\n"
     ]
    },
    {
     "name": "stderr",
     "output_type": "stream",
     "text": [
      "/Users/tracysanchezpacheco/opt/anaconda3/lib/python3.8/site-packages/numpy/lib/nanfunctions.py:1113: RuntimeWarning: All-NaN slice encountered\n",
      "  r, k = function_base._ureduce(a, func=_nanmedian, axis=axis, out=out,\n"
     ]
    },
    {
     "name": "stdout",
     "output_type": "stream",
     "text": [
      "8695_2\n"
     ]
    },
    {
     "name": "stderr",
     "output_type": "stream",
     "text": [
      "/Users/tracysanchezpacheco/opt/anaconda3/lib/python3.8/site-packages/numpy/lib/nanfunctions.py:1113: RuntimeWarning: All-NaN slice encountered\n",
      "  r, k = function_base._ureduce(a, func=_nanmedian, axis=axis, out=out,\n"
     ]
    },
    {
     "name": "stdout",
     "output_type": "stream",
     "text": [
      "8695_3\n"
     ]
    },
    {
     "name": "stderr",
     "output_type": "stream",
     "text": [
      "/Users/tracysanchezpacheco/opt/anaconda3/lib/python3.8/site-packages/numpy/lib/nanfunctions.py:1113: RuntimeWarning: All-NaN slice encountered\n",
      "  r, k = function_base._ureduce(a, func=_nanmedian, axis=axis, out=out,\n"
     ]
    },
    {
     "name": "stdout",
     "output_type": "stream",
     "text": [
      "8695_4\n"
     ]
    },
    {
     "name": "stderr",
     "output_type": "stream",
     "text": [
      "/Users/tracysanchezpacheco/opt/anaconda3/lib/python3.8/site-packages/numpy/lib/nanfunctions.py:1113: RuntimeWarning: All-NaN slice encountered\n",
      "  r, k = function_base._ureduce(a, func=_nanmedian, axis=axis, out=out,\n"
     ]
    },
    {
     "name": "stdout",
     "output_type": "stream",
     "text": [
      "8695_5\n"
     ]
    },
    {
     "name": "stderr",
     "output_type": "stream",
     "text": [
      "/Users/tracysanchezpacheco/opt/anaconda3/lib/python3.8/site-packages/numpy/lib/nanfunctions.py:1113: RuntimeWarning: All-NaN slice encountered\n",
      "  r, k = function_base._ureduce(a, func=_nanmedian, axis=axis, out=out,\n"
     ]
    },
    {
     "name": "stdout",
     "output_type": "stream",
     "text": [
      "9472_1\n"
     ]
    },
    {
     "name": "stderr",
     "output_type": "stream",
     "text": [
      "/Users/tracysanchezpacheco/opt/anaconda3/lib/python3.8/site-packages/numpy/lib/nanfunctions.py:1113: RuntimeWarning: All-NaN slice encountered\n",
      "  r, k = function_base._ureduce(a, func=_nanmedian, axis=axis, out=out,\n"
     ]
    },
    {
     "name": "stdout",
     "output_type": "stream",
     "text": [
      "9472_2\n"
     ]
    },
    {
     "name": "stderr",
     "output_type": "stream",
     "text": [
      "/Users/tracysanchezpacheco/opt/anaconda3/lib/python3.8/site-packages/numpy/lib/nanfunctions.py:1113: RuntimeWarning: All-NaN slice encountered\n",
      "  r, k = function_base._ureduce(a, func=_nanmedian, axis=axis, out=out,\n"
     ]
    },
    {
     "name": "stdout",
     "output_type": "stream",
     "text": [
      "9472_3\n"
     ]
    },
    {
     "name": "stderr",
     "output_type": "stream",
     "text": [
      "/Users/tracysanchezpacheco/opt/anaconda3/lib/python3.8/site-packages/numpy/lib/nanfunctions.py:1113: RuntimeWarning: All-NaN slice encountered\n",
      "  r, k = function_base._ureduce(a, func=_nanmedian, axis=axis, out=out,\n"
     ]
    },
    {
     "name": "stdout",
     "output_type": "stream",
     "text": [
      "9472_4\n"
     ]
    },
    {
     "name": "stderr",
     "output_type": "stream",
     "text": [
      "/Users/tracysanchezpacheco/opt/anaconda3/lib/python3.8/site-packages/numpy/lib/nanfunctions.py:1113: RuntimeWarning: All-NaN slice encountered\n",
      "  r, k = function_base._ureduce(a, func=_nanmedian, axis=axis, out=out,\n"
     ]
    },
    {
     "name": "stdout",
     "output_type": "stream",
     "text": [
      "9472_5\n"
     ]
    },
    {
     "name": "stderr",
     "output_type": "stream",
     "text": [
      "/Users/tracysanchezpacheco/opt/anaconda3/lib/python3.8/site-packages/numpy/lib/nanfunctions.py:1113: RuntimeWarning: All-NaN slice encountered\n",
      "  r, k = function_base._ureduce(a, func=_nanmedian, axis=axis, out=out,\n"
     ]
    },
    {
     "name": "stdout",
     "output_type": "stream",
     "text": [
      "9502_1\n"
     ]
    },
    {
     "name": "stderr",
     "output_type": "stream",
     "text": [
      "/Users/tracysanchezpacheco/opt/anaconda3/lib/python3.8/site-packages/numpy/lib/nanfunctions.py:1113: RuntimeWarning: All-NaN slice encountered\n",
      "  r, k = function_base._ureduce(a, func=_nanmedian, axis=axis, out=out,\n"
     ]
    },
    {
     "name": "stdout",
     "output_type": "stream",
     "text": [
      "9502_2\n"
     ]
    },
    {
     "name": "stderr",
     "output_type": "stream",
     "text": [
      "/Users/tracysanchezpacheco/opt/anaconda3/lib/python3.8/site-packages/numpy/lib/nanfunctions.py:1113: RuntimeWarning: All-NaN slice encountered\n",
      "  r, k = function_base._ureduce(a, func=_nanmedian, axis=axis, out=out,\n"
     ]
    },
    {
     "name": "stdout",
     "output_type": "stream",
     "text": [
      "9502_3\n"
     ]
    },
    {
     "name": "stderr",
     "output_type": "stream",
     "text": [
      "/Users/tracysanchezpacheco/opt/anaconda3/lib/python3.8/site-packages/numpy/lib/nanfunctions.py:1113: RuntimeWarning: All-NaN slice encountered\n",
      "  r, k = function_base._ureduce(a, func=_nanmedian, axis=axis, out=out,\n"
     ]
    },
    {
     "name": "stdout",
     "output_type": "stream",
     "text": [
      "9502_5\n"
     ]
    },
    {
     "name": "stderr",
     "output_type": "stream",
     "text": [
      "/Users/tracysanchezpacheco/opt/anaconda3/lib/python3.8/site-packages/numpy/lib/nanfunctions.py:1113: RuntimeWarning: All-NaN slice encountered\n",
      "  r, k = function_base._ureduce(a, func=_nanmedian, axis=axis, out=out,\n"
     ]
    },
    {
     "name": "stdout",
     "output_type": "stream",
     "text": [
      "9601_1\n"
     ]
    },
    {
     "name": "stderr",
     "output_type": "stream",
     "text": [
      "/Users/tracysanchezpacheco/opt/anaconda3/lib/python3.8/site-packages/numpy/lib/nanfunctions.py:1113: RuntimeWarning: All-NaN slice encountered\n",
      "  r, k = function_base._ureduce(a, func=_nanmedian, axis=axis, out=out,\n"
     ]
    },
    {
     "name": "stdout",
     "output_type": "stream",
     "text": [
      "9601_2\n"
     ]
    },
    {
     "name": "stderr",
     "output_type": "stream",
     "text": [
      "/Users/tracysanchezpacheco/opt/anaconda3/lib/python3.8/site-packages/numpy/lib/nanfunctions.py:1113: RuntimeWarning: All-NaN slice encountered\n",
      "  r, k = function_base._ureduce(a, func=_nanmedian, axis=axis, out=out,\n"
     ]
    },
    {
     "name": "stdout",
     "output_type": "stream",
     "text": [
      "9601_3\n"
     ]
    },
    {
     "name": "stderr",
     "output_type": "stream",
     "text": [
      "/Users/tracysanchezpacheco/opt/anaconda3/lib/python3.8/site-packages/numpy/lib/nanfunctions.py:1113: RuntimeWarning: All-NaN slice encountered\n",
      "  r, k = function_base._ureduce(a, func=_nanmedian, axis=axis, out=out,\n"
     ]
    },
    {
     "name": "stdout",
     "output_type": "stream",
     "text": [
      "9601_4\n"
     ]
    },
    {
     "name": "stderr",
     "output_type": "stream",
     "text": [
      "/Users/tracysanchezpacheco/opt/anaconda3/lib/python3.8/site-packages/numpy/lib/nanfunctions.py:1113: RuntimeWarning: All-NaN slice encountered\n",
      "  r, k = function_base._ureduce(a, func=_nanmedian, axis=axis, out=out,\n"
     ]
    },
    {
     "name": "stdout",
     "output_type": "stream",
     "text": [
      "9601_5\n"
     ]
    },
    {
     "name": "stderr",
     "output_type": "stream",
     "text": [
      "/Users/tracysanchezpacheco/opt/anaconda3/lib/python3.8/site-packages/numpy/lib/nanfunctions.py:1113: RuntimeWarning: All-NaN slice encountered\n",
      "  r, k = function_base._ureduce(a, func=_nanmedian, axis=axis, out=out,\n"
     ]
    },
    {
     "name": "stdout",
     "output_type": "stream",
     "text": [
      "0365_4\n"
     ]
    },
    {
     "name": "stderr",
     "output_type": "stream",
     "text": [
      "/Users/tracysanchezpacheco/opt/anaconda3/lib/python3.8/site-packages/numpy/lib/nanfunctions.py:1113: RuntimeWarning: All-NaN slice encountered\n",
      "  r, k = function_base._ureduce(a, func=_nanmedian, axis=axis, out=out,\n"
     ]
    },
    {
     "name": "stdout",
     "output_type": "stream",
     "text": [
      "0365_5\n"
     ]
    },
    {
     "name": "stderr",
     "output_type": "stream",
     "text": [
      "/Users/tracysanchezpacheco/opt/anaconda3/lib/python3.8/site-packages/numpy/lib/nanfunctions.py:1113: RuntimeWarning: All-NaN slice encountered\n",
      "  r, k = function_base._ureduce(a, func=_nanmedian, axis=axis, out=out,\n"
     ]
    },
    {
     "name": "stdout",
     "output_type": "stream",
     "text": [
      "0479_2\n"
     ]
    },
    {
     "name": "stderr",
     "output_type": "stream",
     "text": [
      "/Users/tracysanchezpacheco/opt/anaconda3/lib/python3.8/site-packages/numpy/lib/nanfunctions.py:1113: RuntimeWarning: All-NaN slice encountered\n",
      "  r, k = function_base._ureduce(a, func=_nanmedian, axis=axis, out=out,\n"
     ]
    },
    {
     "name": "stdout",
     "output_type": "stream",
     "text": [
      "0479_3\n"
     ]
    },
    {
     "name": "stderr",
     "output_type": "stream",
     "text": [
      "/Users/tracysanchezpacheco/opt/anaconda3/lib/python3.8/site-packages/numpy/lib/nanfunctions.py:1113: RuntimeWarning: All-NaN slice encountered\n",
      "  r, k = function_base._ureduce(a, func=_nanmedian, axis=axis, out=out,\n"
     ]
    },
    {
     "name": "stdout",
     "output_type": "stream",
     "text": [
      "0479_5\n"
     ]
    },
    {
     "name": "stderr",
     "output_type": "stream",
     "text": [
      "/Users/tracysanchezpacheco/opt/anaconda3/lib/python3.8/site-packages/numpy/lib/nanfunctions.py:1113: RuntimeWarning: All-NaN slice encountered\n",
      "  r, k = function_base._ureduce(a, func=_nanmedian, axis=axis, out=out,\n"
     ]
    },
    {
     "name": "stdout",
     "output_type": "stream",
     "text": [
      "2361_1\n"
     ]
    },
    {
     "name": "stderr",
     "output_type": "stream",
     "text": [
      "/Users/tracysanchezpacheco/opt/anaconda3/lib/python3.8/site-packages/numpy/lib/nanfunctions.py:1113: RuntimeWarning: All-NaN slice encountered\n",
      "  r, k = function_base._ureduce(a, func=_nanmedian, axis=axis, out=out,\n"
     ]
    },
    {
     "name": "stdout",
     "output_type": "stream",
     "text": [
      "3246_4\n"
     ]
    },
    {
     "name": "stderr",
     "output_type": "stream",
     "text": [
      "/Users/tracysanchezpacheco/opt/anaconda3/lib/python3.8/site-packages/numpy/lib/nanfunctions.py:1113: RuntimeWarning: All-NaN slice encountered\n",
      "  r, k = function_base._ureduce(a, func=_nanmedian, axis=axis, out=out,\n"
     ]
    },
    {
     "name": "stdout",
     "output_type": "stream",
     "text": [
      "4597_1\n"
     ]
    },
    {
     "name": "stderr",
     "output_type": "stream",
     "text": [
      "/Users/tracysanchezpacheco/opt/anaconda3/lib/python3.8/site-packages/numpy/lib/nanfunctions.py:1113: RuntimeWarning: All-NaN slice encountered\n",
      "  r, k = function_base._ureduce(a, func=_nanmedian, axis=axis, out=out,\n"
     ]
    },
    {
     "name": "stdout",
     "output_type": "stream",
     "text": [
      "4597_2\n"
     ]
    },
    {
     "name": "stderr",
     "output_type": "stream",
     "text": [
      "/Users/tracysanchezpacheco/opt/anaconda3/lib/python3.8/site-packages/numpy/lib/nanfunctions.py:1113: RuntimeWarning: All-NaN slice encountered\n",
      "  r, k = function_base._ureduce(a, func=_nanmedian, axis=axis, out=out,\n"
     ]
    },
    {
     "name": "stdout",
     "output_type": "stream",
     "text": [
      "4597_3\n"
     ]
    },
    {
     "name": "stderr",
     "output_type": "stream",
     "text": [
      "/Users/tracysanchezpacheco/opt/anaconda3/lib/python3.8/site-packages/numpy/lib/nanfunctions.py:1113: RuntimeWarning: All-NaN slice encountered\n",
      "  r, k = function_base._ureduce(a, func=_nanmedian, axis=axis, out=out,\n"
     ]
    },
    {
     "name": "stdout",
     "output_type": "stream",
     "text": [
      "4597_4\n"
     ]
    },
    {
     "name": "stderr",
     "output_type": "stream",
     "text": [
      "/Users/tracysanchezpacheco/opt/anaconda3/lib/python3.8/site-packages/numpy/lib/nanfunctions.py:1113: RuntimeWarning: All-NaN slice encountered\n",
      "  r, k = function_base._ureduce(a, func=_nanmedian, axis=axis, out=out,\n"
     ]
    },
    {
     "name": "stdout",
     "output_type": "stream",
     "text": [
      "4597_5\n"
     ]
    },
    {
     "name": "stderr",
     "output_type": "stream",
     "text": [
      "/Users/tracysanchezpacheco/opt/anaconda3/lib/python3.8/site-packages/numpy/lib/nanfunctions.py:1113: RuntimeWarning: All-NaN slice encountered\n",
      "  r, k = function_base._ureduce(a, func=_nanmedian, axis=axis, out=out,\n"
     ]
    },
    {
     "name": "stdout",
     "output_type": "stream",
     "text": [
      "9502_4\n"
     ]
    },
    {
     "name": "stderr",
     "output_type": "stream",
     "text": [
      "/Users/tracysanchezpacheco/opt/anaconda3/lib/python3.8/site-packages/numpy/lib/nanfunctions.py:1113: RuntimeWarning: All-NaN slice encountered\n",
      "  r, k = function_base._ureduce(a, func=_nanmedian, axis=axis, out=out,\n"
     ]
    },
    {
     "name": "stdout",
     "output_type": "stream",
     "text": [
      "9586_1\n"
     ]
    },
    {
     "name": "stderr",
     "output_type": "stream",
     "text": [
      "/Users/tracysanchezpacheco/opt/anaconda3/lib/python3.8/site-packages/numpy/lib/nanfunctions.py:1113: RuntimeWarning: All-NaN slice encountered\n",
      "  r, k = function_base._ureduce(a, func=_nanmedian, axis=axis, out=out,\n"
     ]
    },
    {
     "name": "stdout",
     "output_type": "stream",
     "text": [
      "9586_2\n"
     ]
    },
    {
     "name": "stderr",
     "output_type": "stream",
     "text": [
      "/Users/tracysanchezpacheco/opt/anaconda3/lib/python3.8/site-packages/numpy/lib/nanfunctions.py:1113: RuntimeWarning: All-NaN slice encountered\n",
      "  r, k = function_base._ureduce(a, func=_nanmedian, axis=axis, out=out,\n"
     ]
    },
    {
     "name": "stdout",
     "output_type": "stream",
     "text": [
      "9586_3\n"
     ]
    },
    {
     "name": "stderr",
     "output_type": "stream",
     "text": [
      "/Users/tracysanchezpacheco/opt/anaconda3/lib/python3.8/site-packages/numpy/lib/nanfunctions.py:1113: RuntimeWarning: All-NaN slice encountered\n",
      "  r, k = function_base._ureduce(a, func=_nanmedian, axis=axis, out=out,\n"
     ]
    },
    {
     "name": "stdout",
     "output_type": "stream",
     "text": [
      "9586_4\n"
     ]
    },
    {
     "name": "stderr",
     "output_type": "stream",
     "text": [
      "/Users/tracysanchezpacheco/opt/anaconda3/lib/python3.8/site-packages/numpy/lib/nanfunctions.py:1113: RuntimeWarning: All-NaN slice encountered\n",
      "  r, k = function_base._ureduce(a, func=_nanmedian, axis=axis, out=out,\n"
     ]
    },
    {
     "name": "stdout",
     "output_type": "stream",
     "text": [
      "9586_5\n"
     ]
    }
   ],
   "source": [
    "path = \"/Volumes/SSD/00_Data_Processing/Pre_processed/03_Individuals_IndividualSessions/\" \n",
    "\n",
    "  \n",
    "# csv files in the path\n",
    "files = glob.glob(path + \"/*.csv\")\n",
    "  \n",
    "# defining an empty list to store \n",
    "# content\n",
    "data_frame = pd.DataFrame()\n",
    "content = []\n",
    "  \n",
    "# checking all the csv files in the \n",
    "# specified path\n",
    "for filename in files:\n",
    "    \n",
    "    # reading content of csv file\n",
    "    # content.append(filename)\n",
    "    One_participant = pd.read_csv(filename)\n",
    "    One_participant.drop(['Unnamed: 0'],axis=1, inplace=True)\n",
    "    #Apply function that marks beggining and end of invalid sections\n",
    "    One_participant[\"Bitmask_flag\"] = bitmask_flag_change(One_participant, \"combinedGazeValidityBitmask\")\n",
    "    One_participant.reset_index(inplace=True)\n",
    "    # Get index of begging and end of invalid events\n",
    "    indexLastValid = One_participant[One_participant[\"Bitmask_flag\"] == \"Invalid_Section_Starts\"].index\n",
    "    indexLastInValid = One_participant[One_participant[\"Bitmask_flag\"] == \"Invalid_Section_Ends\"].index\n",
    "    # Get 20 rows prior to the beggining of the invalid event \n",
    "    indexLower = indexLastValid - 20\n",
    "    indexUpper = indexLastValid\n",
    "    # Since it's possible that the invalid event occured less than 20 rows from the beggining of the file\n",
    "    # we need to correct so that the highest possible index is the firs value in the file\n",
    "    indexLower_r = [0 if i < 0 else i for i in indexLower]\n",
    "    #Create a list with the most common element 200ms before the invalid section started\n",
    "    Elements_to_replace = [One_participant.iloc[down:up,20].mode().iloc[0] for down, up in zip(indexLower_r, indexUpper)]\n",
    "    #Create new column for interpolated events\n",
    "    One_participant[\"Interpolated_collider\"] = One_participant[\"hitObjectColliderName\"]\n",
    "    #Concat the row indexes that need replacement\n",
    "    ranges = list(zip(indexLastValid, indexLastInValid))\n",
    "    #Replace the invalid event with the mode of 20 events prior\n",
    "    for i, (lower, upper) in enumerate(ranges):\n",
    "        One_participant.iloc[lower:upper,-2]  = Elements_to_replace[i]\n",
    "    # Here we look for the patterns contained in the dictionary and create the more general/informative variable Collider_Categorical\n",
    "    One_participant['Collider_Categorical'] = One_participant['Interpolated_collider'].apply(lambda x: next((val for key, val in patterns.items() if re.match(key, x)), default_val))\n",
    "    # Replace coordinates and eucledian distances with Nans\n",
    "    One_participant.loc[One_participant['combinedGazeValidityBitmask'] == 0, ['hitPointOnObject_x', 'hitPointOnObject_y', 'hitPointOnObject_z',' eyePositionCombinedWorld.x', 'eyePositionCombinedWorld.y', 'eyePositionCombinedWorld.z', 'Eucledian_distance']] =  np.nan\n",
    "    indexLastValid = []\n",
    "    indexLastInValid = []\n",
    "    indexLower = []\n",
    "    indexUpper = []\n",
    "    \n",
    "    # 5 point median filter\n",
    "    One_participant[\"hitPointOnObject_x\"] = median_correction(One_participant.hitPointOnObject_x)\n",
    "    One_participant[\"hitPointOnObject_y\"] = median_correction(One_participant.hitPointOnObject_y)\n",
    "    One_participant[\"hitPointOnObject_z\"] = median_correction(One_participant.hitPointOnObject_z)\n",
    "    One_participant[\"eyePositionCombinedWorld.x\"] = median_correction( One_participant[\"eyePositionCombinedWorld.x\"])\n",
    "    One_participant[\"eyePositionCombinedWorld.y\"] = median_correction( One_participant[\"eyePositionCombinedWorld.y\"])\n",
    "    One_participant[\"eyePositionCombinedWorld.z\"] = median_correction( One_participant[\"eyePositionCombinedWorld.z\"])\n",
    "     #Saves an individual file per session per subject with out duplicates\n",
    "    One_participant.to_csv(f\"/Volumes/SSD/00_Data_Processing/Pre_processed/04_Interpolated/{filename[-10:-4]}.csv\", index=True)\n",
    "    print(filename[-10:-4])\n",
    "    content.append(One_participant)\n",
    "\n",
    "# converting content to data frame\n",
    "data_frame = pd.concat(content)"
   ]
  },
  {
   "cell_type": "code",
   "execution_count": 6,
   "id": "3fa1964c-5746-46fc-9f30-d76e69006277",
   "metadata": {},
   "outputs": [
    {
     "data": {
      "text/html": [
       "<div>\n",
       "<style scoped>\n",
       "    .dataframe tbody tr th:only-of-type {\n",
       "        vertical-align: middle;\n",
       "    }\n",
       "\n",
       "    .dataframe tbody tr th {\n",
       "        vertical-align: top;\n",
       "    }\n",
       "\n",
       "    .dataframe thead th {\n",
       "        text-align: right;\n",
       "    }\n",
       "</style>\n",
       "<table border=\"1\" class=\"dataframe\">\n",
       "  <thead>\n",
       "    <tr style=\"text-align: right;\">\n",
       "      <th></th>\n",
       "      <th>index</th>\n",
       "      <th>Unnamed: 0.1</th>\n",
       "      <th>SubjectID</th>\n",
       "      <th>Session</th>\n",
       "      <th>SessionSubsection</th>\n",
       "      <th>timeStampDataPointEnd</th>\n",
       "      <th>combinedGazeValidityBitmask</th>\n",
       "      <th>eyePositionCombinedWorld.x</th>\n",
       "      <th>eyePositionCombinedWorld.y</th>\n",
       "      <th>eyePositionCombinedWorld.z</th>\n",
       "      <th>...</th>\n",
       "      <th>Eucledian_distance</th>\n",
       "      <th>Collider_Categorical</th>\n",
       "      <th>Face_Hits</th>\n",
       "      <th>Time_Shift</th>\n",
       "      <th>Continuous_Time</th>\n",
       "      <th>Bitmask_flag</th>\n",
       "      <th>Interpolated_collider</th>\n",
       "      <th>eyePositionCombinedWorld.x</th>\n",
       "      <th>Unnamed: 0.1.1</th>\n",
       "      <th>Unnamed: 0.1.1.1</th>\n",
       "    </tr>\n",
       "  </thead>\n",
       "  <tbody>\n",
       "    <tr>\n",
       "      <th>115091</th>\n",
       "      <td>115091</td>\n",
       "      <td>1071514</td>\n",
       "      <td>9586</td>\n",
       "      <td>5</td>\n",
       "      <td>3</td>\n",
       "      <td>1.655289e+09</td>\n",
       "      <td>3</td>\n",
       "      <td>82.317406</td>\n",
       "      <td>-1.818376</td>\n",
       "      <td>-93.283043</td>\n",
       "      <td>...</td>\n",
       "      <td>18.057986</td>\n",
       "      <td>Background</td>\n",
       "      <td>Not_Agent</td>\n",
       "      <td>0.013391</td>\n",
       "      <td>30.953</td>\n",
       "      <td>No_change</td>\n",
       "      <td>road_playground.002</td>\n",
       "      <td>NaN</td>\n",
       "      <td>NaN</td>\n",
       "      <td>NaN</td>\n",
       "    </tr>\n",
       "    <tr>\n",
       "      <th>115092</th>\n",
       "      <td>115092</td>\n",
       "      <td>1071517</td>\n",
       "      <td>9586</td>\n",
       "      <td>5</td>\n",
       "      <td>3</td>\n",
       "      <td>1.655289e+09</td>\n",
       "      <td>3</td>\n",
       "      <td>82.288994</td>\n",
       "      <td>-1.816867</td>\n",
       "      <td>-93.248268</td>\n",
       "      <td>...</td>\n",
       "      <td>18.012784</td>\n",
       "      <td>Background</td>\n",
       "      <td>Not_Agent</td>\n",
       "      <td>0.012898</td>\n",
       "      <td>30.954</td>\n",
       "      <td>No_change</td>\n",
       "      <td>road_playground.002</td>\n",
       "      <td>NaN</td>\n",
       "      <td>NaN</td>\n",
       "      <td>NaN</td>\n",
       "    </tr>\n",
       "    <tr>\n",
       "      <th>115093</th>\n",
       "      <td>115093</td>\n",
       "      <td>1071518</td>\n",
       "      <td>9586</td>\n",
       "      <td>5</td>\n",
       "      <td>3</td>\n",
       "      <td>1.655289e+09</td>\n",
       "      <td>3</td>\n",
       "      <td>82.265015</td>\n",
       "      <td>-1.815408</td>\n",
       "      <td>-93.211815</td>\n",
       "      <td>...</td>\n",
       "      <td>18.631635</td>\n",
       "      <td>Background</td>\n",
       "      <td>Not_Agent</td>\n",
       "      <td>0.013887</td>\n",
       "      <td>30.954</td>\n",
       "      <td>No_change</td>\n",
       "      <td>road_playground.002</td>\n",
       "      <td>NaN</td>\n",
       "      <td>NaN</td>\n",
       "      <td>NaN</td>\n",
       "    </tr>\n",
       "    <tr>\n",
       "      <th>115094</th>\n",
       "      <td>115094</td>\n",
       "      <td>1071520</td>\n",
       "      <td>9586</td>\n",
       "      <td>5</td>\n",
       "      <td>3</td>\n",
       "      <td>1.655289e+09</td>\n",
       "      <td>3</td>\n",
       "      <td>82.244522</td>\n",
       "      <td>-1.813932</td>\n",
       "      <td>-93.176727</td>\n",
       "      <td>...</td>\n",
       "      <td>19.401586</td>\n",
       "      <td>Background</td>\n",
       "      <td>Not_Agent</td>\n",
       "      <td>0.014880</td>\n",
       "      <td>30.954</td>\n",
       "      <td>No_change</td>\n",
       "      <td>road_playground.002</td>\n",
       "      <td>NaN</td>\n",
       "      <td>NaN</td>\n",
       "      <td>NaN</td>\n",
       "    </tr>\n",
       "    <tr>\n",
       "      <th>115095</th>\n",
       "      <td>115095</td>\n",
       "      <td>1071522</td>\n",
       "      <td>9586</td>\n",
       "      <td>5</td>\n",
       "      <td>3</td>\n",
       "      <td>1.655289e+09</td>\n",
       "      <td>3</td>\n",
       "      <td>82.213379</td>\n",
       "      <td>-1.812349</td>\n",
       "      <td>-93.139511</td>\n",
       "      <td>...</td>\n",
       "      <td>19.358231</td>\n",
       "      <td>Background</td>\n",
       "      <td>Not_Agent</td>\n",
       "      <td>0.012896</td>\n",
       "      <td>30.954</td>\n",
       "      <td>No_change</td>\n",
       "      <td>road_playground.002</td>\n",
       "      <td>NaN</td>\n",
       "      <td>NaN</td>\n",
       "      <td>NaN</td>\n",
       "    </tr>\n",
       "    <tr>\n",
       "      <th>115096</th>\n",
       "      <td>115096</td>\n",
       "      <td>1071524</td>\n",
       "      <td>9586</td>\n",
       "      <td>5</td>\n",
       "      <td>3</td>\n",
       "      <td>1.655289e+09</td>\n",
       "      <td>3</td>\n",
       "      <td>82.183655</td>\n",
       "      <td>-1.810817</td>\n",
       "      <td>-93.104301</td>\n",
       "      <td>...</td>\n",
       "      <td>19.442289</td>\n",
       "      <td>Background</td>\n",
       "      <td>Not_Agent</td>\n",
       "      <td>0.013392</td>\n",
       "      <td>30.954</td>\n",
       "      <td>No_change</td>\n",
       "      <td>road_playground.002</td>\n",
       "      <td>NaN</td>\n",
       "      <td>NaN</td>\n",
       "      <td>NaN</td>\n",
       "    </tr>\n",
       "    <tr>\n",
       "      <th>115097</th>\n",
       "      <td>115097</td>\n",
       "      <td>1071526</td>\n",
       "      <td>9586</td>\n",
       "      <td>5</td>\n",
       "      <td>3</td>\n",
       "      <td>1.655289e+09</td>\n",
       "      <td>3</td>\n",
       "      <td>82.154663</td>\n",
       "      <td>-1.809371</td>\n",
       "      <td>-93.069450</td>\n",
       "      <td>...</td>\n",
       "      <td>19.449582</td>\n",
       "      <td>Background</td>\n",
       "      <td>Not_Agent</td>\n",
       "      <td>0.012895</td>\n",
       "      <td>30.955</td>\n",
       "      <td>No_change</td>\n",
       "      <td>road_playground.002</td>\n",
       "      <td>NaN</td>\n",
       "      <td>NaN</td>\n",
       "      <td>NaN</td>\n",
       "    </tr>\n",
       "    <tr>\n",
       "      <th>115098</th>\n",
       "      <td>115098</td>\n",
       "      <td>1071528</td>\n",
       "      <td>9586</td>\n",
       "      <td>5</td>\n",
       "      <td>3</td>\n",
       "      <td>1.655289e+09</td>\n",
       "      <td>3</td>\n",
       "      <td>82.128334</td>\n",
       "      <td>-1.808072</td>\n",
       "      <td>-93.037086</td>\n",
       "      <td>...</td>\n",
       "      <td>19.412162</td>\n",
       "      <td>Background</td>\n",
       "      <td>Not_Agent</td>\n",
       "      <td>0.014385</td>\n",
       "      <td>30.955</td>\n",
       "      <td>No_change</td>\n",
       "      <td>road_playground.002</td>\n",
       "      <td>NaN</td>\n",
       "      <td>NaN</td>\n",
       "      <td>NaN</td>\n",
       "    </tr>\n",
       "    <tr>\n",
       "      <th>115099</th>\n",
       "      <td>115099</td>\n",
       "      <td>1071531</td>\n",
       "      <td>9586</td>\n",
       "      <td>5</td>\n",
       "      <td>3</td>\n",
       "      <td>1.655289e+09</td>\n",
       "      <td>3</td>\n",
       "      <td>82.098793</td>\n",
       "      <td>-1.806610</td>\n",
       "      <td>-93.001732</td>\n",
       "      <td>...</td>\n",
       "      <td>19.437886</td>\n",
       "      <td>Background</td>\n",
       "      <td>Not_Agent</td>\n",
       "      <td>0.014384</td>\n",
       "      <td>30.955</td>\n",
       "      <td>No_change</td>\n",
       "      <td>road_playground.002</td>\n",
       "      <td>NaN</td>\n",
       "      <td>NaN</td>\n",
       "      <td>NaN</td>\n",
       "    </tr>\n",
       "    <tr>\n",
       "      <th>115100</th>\n",
       "      <td>115100</td>\n",
       "      <td>1071532</td>\n",
       "      <td>9586</td>\n",
       "      <td>5</td>\n",
       "      <td>3</td>\n",
       "      <td>1.655289e+09</td>\n",
       "      <td>3</td>\n",
       "      <td>82.068855</td>\n",
       "      <td>-1.805019</td>\n",
       "      <td>-92.965157</td>\n",
       "      <td>...</td>\n",
       "      <td>19.568170</td>\n",
       "      <td>Background</td>\n",
       "      <td>Not_Agent</td>\n",
       "      <td>0.013392</td>\n",
       "      <td>30.955</td>\n",
       "      <td>No_change</td>\n",
       "      <td>road_playground.002</td>\n",
       "      <td>NaN</td>\n",
       "      <td>NaN</td>\n",
       "      <td>NaN</td>\n",
       "    </tr>\n",
       "    <tr>\n",
       "      <th>115101</th>\n",
       "      <td>115101</td>\n",
       "      <td>1071534</td>\n",
       "      <td>9586</td>\n",
       "      <td>5</td>\n",
       "      <td>3</td>\n",
       "      <td>1.655289e+09</td>\n",
       "      <td>3</td>\n",
       "      <td>82.041695</td>\n",
       "      <td>-1.803634</td>\n",
       "      <td>-92.932373</td>\n",
       "      <td>...</td>\n",
       "      <td>19.810249</td>\n",
       "      <td>Background</td>\n",
       "      <td>Not_Agent</td>\n",
       "      <td>0.014384</td>\n",
       "      <td>30.956</td>\n",
       "      <td>No_change</td>\n",
       "      <td>road_playground.002</td>\n",
       "      <td>NaN</td>\n",
       "      <td>NaN</td>\n",
       "      <td>NaN</td>\n",
       "    </tr>\n",
       "    <tr>\n",
       "      <th>115102</th>\n",
       "      <td>115102</td>\n",
       "      <td>1071536</td>\n",
       "      <td>9586</td>\n",
       "      <td>5</td>\n",
       "      <td>3</td>\n",
       "      <td>1.655289e+09</td>\n",
       "      <td>3</td>\n",
       "      <td>82.012810</td>\n",
       "      <td>-1.802134</td>\n",
       "      <td>-92.897110</td>\n",
       "      <td>...</td>\n",
       "      <td>19.692792</td>\n",
       "      <td>Background</td>\n",
       "      <td>Not_Agent</td>\n",
       "      <td>0.013888</td>\n",
       "      <td>30.956</td>\n",
       "      <td>No_change</td>\n",
       "      <td>road_playground.002</td>\n",
       "      <td>NaN</td>\n",
       "      <td>NaN</td>\n",
       "      <td>NaN</td>\n",
       "    </tr>\n",
       "    <tr>\n",
       "      <th>115103</th>\n",
       "      <td>115103</td>\n",
       "      <td>1071538</td>\n",
       "      <td>9586</td>\n",
       "      <td>5</td>\n",
       "      <td>3</td>\n",
       "      <td>1.655289e+09</td>\n",
       "      <td>3</td>\n",
       "      <td>81.984398</td>\n",
       "      <td>-1.800682</td>\n",
       "      <td>-92.862549</td>\n",
       "      <td>...</td>\n",
       "      <td>19.651185</td>\n",
       "      <td>Background</td>\n",
       "      <td>Not_Agent</td>\n",
       "      <td>0.013392</td>\n",
       "      <td>30.956</td>\n",
       "      <td>No_change</td>\n",
       "      <td>road_playground.002</td>\n",
       "      <td>NaN</td>\n",
       "      <td>NaN</td>\n",
       "      <td>NaN</td>\n",
       "    </tr>\n",
       "    <tr>\n",
       "      <th>115104</th>\n",
       "      <td>115104</td>\n",
       "      <td>1071540</td>\n",
       "      <td>9586</td>\n",
       "      <td>5</td>\n",
       "      <td>3</td>\n",
       "      <td>1.655289e+09</td>\n",
       "      <td>3</td>\n",
       "      <td>81.958992</td>\n",
       "      <td>-1.799309</td>\n",
       "      <td>-92.831635</td>\n",
       "      <td>...</td>\n",
       "      <td>19.548023</td>\n",
       "      <td>Background</td>\n",
       "      <td>Not_Agent</td>\n",
       "      <td>0.014879</td>\n",
       "      <td>30.956</td>\n",
       "      <td>No_change</td>\n",
       "      <td>road_playground.002</td>\n",
       "      <td>NaN</td>\n",
       "      <td>NaN</td>\n",
       "      <td>NaN</td>\n",
       "    </tr>\n",
       "    <tr>\n",
       "      <th>115105</th>\n",
       "      <td>115105</td>\n",
       "      <td>1071543</td>\n",
       "      <td>9586</td>\n",
       "      <td>5</td>\n",
       "      <td>3</td>\n",
       "      <td>1.655289e+09</td>\n",
       "      <td>3</td>\n",
       "      <td>81.926788</td>\n",
       "      <td>-1.797665</td>\n",
       "      <td>-92.792625</td>\n",
       "      <td>...</td>\n",
       "      <td>19.378727</td>\n",
       "      <td>Background</td>\n",
       "      <td>Not_Agent</td>\n",
       "      <td>0.012401</td>\n",
       "      <td>30.957</td>\n",
       "      <td>No_change</td>\n",
       "      <td>road_playground.002</td>\n",
       "      <td>NaN</td>\n",
       "      <td>NaN</td>\n",
       "      <td>NaN</td>\n",
       "    </tr>\n",
       "    <tr>\n",
       "      <th>115106</th>\n",
       "      <td>115106</td>\n",
       "      <td>1071544</td>\n",
       "      <td>9586</td>\n",
       "      <td>5</td>\n",
       "      <td>3</td>\n",
       "      <td>1.655289e+09</td>\n",
       "      <td>3</td>\n",
       "      <td>81.902878</td>\n",
       "      <td>-1.796437</td>\n",
       "      <td>-92.763100</td>\n",
       "      <td>...</td>\n",
       "      <td>19.347545</td>\n",
       "      <td>Background</td>\n",
       "      <td>Not_Agent</td>\n",
       "      <td>0.012401</td>\n",
       "      <td>30.957</td>\n",
       "      <td>No_change</td>\n",
       "      <td>road_playground.002</td>\n",
       "      <td>NaN</td>\n",
       "      <td>NaN</td>\n",
       "      <td>NaN</td>\n",
       "    </tr>\n",
       "    <tr>\n",
       "      <th>115107</th>\n",
       "      <td>115107</td>\n",
       "      <td>1071546</td>\n",
       "      <td>9586</td>\n",
       "      <td>5</td>\n",
       "      <td>3</td>\n",
       "      <td>1.655289e+09</td>\n",
       "      <td>3</td>\n",
       "      <td>81.877144</td>\n",
       "      <td>-1.795079</td>\n",
       "      <td>-92.732338</td>\n",
       "      <td>...</td>\n",
       "      <td>19.161413</td>\n",
       "      <td>Background</td>\n",
       "      <td>Not_Agent</td>\n",
       "      <td>0.014878</td>\n",
       "      <td>30.957</td>\n",
       "      <td>No_change</td>\n",
       "      <td>road_playground.002</td>\n",
       "      <td>NaN</td>\n",
       "      <td>NaN</td>\n",
       "      <td>NaN</td>\n",
       "    </tr>\n",
       "    <tr>\n",
       "      <th>115108</th>\n",
       "      <td>115108</td>\n",
       "      <td>1071548</td>\n",
       "      <td>9586</td>\n",
       "      <td>5</td>\n",
       "      <td>3</td>\n",
       "      <td>1.655289e+09</td>\n",
       "      <td>3</td>\n",
       "      <td>81.847946</td>\n",
       "      <td>-1.793601</td>\n",
       "      <td>-92.697243</td>\n",
       "      <td>...</td>\n",
       "      <td>19.072198</td>\n",
       "      <td>Background</td>\n",
       "      <td>Not_Agent</td>\n",
       "      <td>0.011510</td>\n",
       "      <td>30.957</td>\n",
       "      <td>No_change</td>\n",
       "      <td>road_playground.002</td>\n",
       "      <td>NaN</td>\n",
       "      <td>NaN</td>\n",
       "      <td>NaN</td>\n",
       "    </tr>\n",
       "    <tr>\n",
       "      <th>115109</th>\n",
       "      <td>115109</td>\n",
       "      <td>1071550</td>\n",
       "      <td>9586</td>\n",
       "      <td>5</td>\n",
       "      <td>3</td>\n",
       "      <td>1.655289e+09</td>\n",
       "      <td>3</td>\n",
       "      <td>81.821632</td>\n",
       "      <td>-1.792225</td>\n",
       "      <td>-92.665672</td>\n",
       "      <td>...</td>\n",
       "      <td>18.993283</td>\n",
       "      <td>Background</td>\n",
       "      <td>Not_Agent</td>\n",
       "      <td>0.015276</td>\n",
       "      <td>30.957</td>\n",
       "      <td>No_change</td>\n",
       "      <td>road_playground.002</td>\n",
       "      <td>NaN</td>\n",
       "      <td>NaN</td>\n",
       "      <td>NaN</td>\n",
       "    </tr>\n",
       "    <tr>\n",
       "      <th>115110</th>\n",
       "      <td>115110</td>\n",
       "      <td>1071552</td>\n",
       "      <td>9586</td>\n",
       "      <td>5</td>\n",
       "      <td>3</td>\n",
       "      <td>1.655289e+09</td>\n",
       "      <td>3</td>\n",
       "      <td>81.791969</td>\n",
       "      <td>-1.790680</td>\n",
       "      <td>-92.630547</td>\n",
       "      <td>...</td>\n",
       "      <td>18.888111</td>\n",
       "      <td>Background</td>\n",
       "      <td>Not_Agent</td>\n",
       "      <td>0.012895</td>\n",
       "      <td>30.958</td>\n",
       "      <td>No_change</td>\n",
       "      <td>road_playground.002</td>\n",
       "      <td>NaN</td>\n",
       "      <td>NaN</td>\n",
       "      <td>NaN</td>\n",
       "    </tr>\n",
       "    <tr>\n",
       "      <th>115111</th>\n",
       "      <td>115111</td>\n",
       "      <td>1071555</td>\n",
       "      <td>9586</td>\n",
       "      <td>5</td>\n",
       "      <td>3</td>\n",
       "      <td>1.655289e+09</td>\n",
       "      <td>3</td>\n",
       "      <td>81.763237</td>\n",
       "      <td>-1.789262</td>\n",
       "      <td>-92.595726</td>\n",
       "      <td>...</td>\n",
       "      <td>18.741028</td>\n",
       "      <td>Background</td>\n",
       "      <td>Not_Agent</td>\n",
       "      <td>0.014384</td>\n",
       "      <td>30.958</td>\n",
       "      <td>No_change</td>\n",
       "      <td>road_playground.002</td>\n",
       "      <td>NaN</td>\n",
       "      <td>NaN</td>\n",
       "      <td>NaN</td>\n",
       "    </tr>\n",
       "    <tr>\n",
       "      <th>115112</th>\n",
       "      <td>115112</td>\n",
       "      <td>1071557</td>\n",
       "      <td>9586</td>\n",
       "      <td>5</td>\n",
       "      <td>3</td>\n",
       "      <td>1.655289e+09</td>\n",
       "      <td>3</td>\n",
       "      <td>81.733902</td>\n",
       "      <td>-1.787746</td>\n",
       "      <td>-92.560600</td>\n",
       "      <td>...</td>\n",
       "      <td>18.659748</td>\n",
       "      <td>Background</td>\n",
       "      <td>Not_Agent</td>\n",
       "      <td>0.012400</td>\n",
       "      <td>30.958</td>\n",
       "      <td>No_change</td>\n",
       "      <td>road_playground.002</td>\n",
       "      <td>NaN</td>\n",
       "      <td>NaN</td>\n",
       "      <td>NaN</td>\n",
       "    </tr>\n",
       "    <tr>\n",
       "      <th>115113</th>\n",
       "      <td>115113</td>\n",
       "      <td>1071558</td>\n",
       "      <td>9586</td>\n",
       "      <td>5</td>\n",
       "      <td>3</td>\n",
       "      <td>1.655289e+09</td>\n",
       "      <td>3</td>\n",
       "      <td>81.707680</td>\n",
       "      <td>-1.786492</td>\n",
       "      <td>-92.528839</td>\n",
       "      <td>...</td>\n",
       "      <td>18.016887</td>\n",
       "      <td>Background</td>\n",
       "      <td>Not_Agent</td>\n",
       "      <td>0.013391</td>\n",
       "      <td>30.958</td>\n",
       "      <td>No_change</td>\n",
       "      <td>road_playground.002</td>\n",
       "      <td>NaN</td>\n",
       "      <td>NaN</td>\n",
       "      <td>NaN</td>\n",
       "    </tr>\n",
       "    <tr>\n",
       "      <th>115114</th>\n",
       "      <td>115114</td>\n",
       "      <td>1071560</td>\n",
       "      <td>9586</td>\n",
       "      <td>5</td>\n",
       "      <td>3</td>\n",
       "      <td>1.655289e+09</td>\n",
       "      <td>3</td>\n",
       "      <td>81.680138</td>\n",
       "      <td>-1.785116</td>\n",
       "      <td>-92.495407</td>\n",
       "      <td>...</td>\n",
       "      <td>15.781114</td>\n",
       "      <td>Background</td>\n",
       "      <td>Not_Agent</td>\n",
       "      <td>0.012897</td>\n",
       "      <td>30.959</td>\n",
       "      <td>No_change</td>\n",
       "      <td>road_playground.002</td>\n",
       "      <td>NaN</td>\n",
       "      <td>NaN</td>\n",
       "      <td>NaN</td>\n",
       "    </tr>\n",
       "    <tr>\n",
       "      <th>115115</th>\n",
       "      <td>115115</td>\n",
       "      <td>1071562</td>\n",
       "      <td>9586</td>\n",
       "      <td>5</td>\n",
       "      <td>3</td>\n",
       "      <td>1.655289e+09</td>\n",
       "      <td>3</td>\n",
       "      <td>81.652992</td>\n",
       "      <td>-1.783808</td>\n",
       "      <td>-92.463364</td>\n",
       "      <td>...</td>\n",
       "      <td>15.240939</td>\n",
       "      <td>Background</td>\n",
       "      <td>Not_Agent</td>\n",
       "      <td>0.013887</td>\n",
       "      <td>30.959</td>\n",
       "      <td>No_change</td>\n",
       "      <td>road_playground.002</td>\n",
       "      <td>NaN</td>\n",
       "      <td>NaN</td>\n",
       "      <td>NaN</td>\n",
       "    </tr>\n",
       "    <tr>\n",
       "      <th>115116</th>\n",
       "      <td>115116</td>\n",
       "      <td>1071564</td>\n",
       "      <td>9586</td>\n",
       "      <td>5</td>\n",
       "      <td>3</td>\n",
       "      <td>1.655289e+09</td>\n",
       "      <td>3</td>\n",
       "      <td>81.620102</td>\n",
       "      <td>-1.782324</td>\n",
       "      <td>-92.428879</td>\n",
       "      <td>...</td>\n",
       "      <td>14.996795</td>\n",
       "      <td>Background</td>\n",
       "      <td>Not_Agent</td>\n",
       "      <td>0.014384</td>\n",
       "      <td>30.959</td>\n",
       "      <td>No_change</td>\n",
       "      <td>road_playground.002</td>\n",
       "      <td>NaN</td>\n",
       "      <td>NaN</td>\n",
       "      <td>NaN</td>\n",
       "    </tr>\n",
       "    <tr>\n",
       "      <th>115117</th>\n",
       "      <td>115117</td>\n",
       "      <td>1071566</td>\n",
       "      <td>9586</td>\n",
       "      <td>5</td>\n",
       "      <td>3</td>\n",
       "      <td>1.655289e+09</td>\n",
       "      <td>3</td>\n",
       "      <td>81.591415</td>\n",
       "      <td>-1.780823</td>\n",
       "      <td>-92.394180</td>\n",
       "      <td>...</td>\n",
       "      <td>15.393724</td>\n",
       "      <td>Background</td>\n",
       "      <td>Not_Agent</td>\n",
       "      <td>0.014384</td>\n",
       "      <td>30.959</td>\n",
       "      <td>No_change</td>\n",
       "      <td>road_playground.002</td>\n",
       "      <td>NaN</td>\n",
       "      <td>NaN</td>\n",
       "      <td>NaN</td>\n",
       "    </tr>\n",
       "    <tr>\n",
       "      <th>115118</th>\n",
       "      <td>115118</td>\n",
       "      <td>1071568</td>\n",
       "      <td>9586</td>\n",
       "      <td>5</td>\n",
       "      <td>3</td>\n",
       "      <td>1.655289e+09</td>\n",
       "      <td>3</td>\n",
       "      <td>81.561417</td>\n",
       "      <td>-1.779269</td>\n",
       "      <td>-92.357193</td>\n",
       "      <td>...</td>\n",
       "      <td>15.459605</td>\n",
       "      <td>Background</td>\n",
       "      <td>Not_Agent</td>\n",
       "      <td>0.013391</td>\n",
       "      <td>30.959</td>\n",
       "      <td>No_change</td>\n",
       "      <td>road_playground.002</td>\n",
       "      <td>NaN</td>\n",
       "      <td>NaN</td>\n",
       "      <td>NaN</td>\n",
       "    </tr>\n",
       "    <tr>\n",
       "      <th>115119</th>\n",
       "      <td>115119</td>\n",
       "      <td>1071571</td>\n",
       "      <td>9586</td>\n",
       "      <td>5</td>\n",
       "      <td>3</td>\n",
       "      <td>1.655289e+09</td>\n",
       "      <td>3</td>\n",
       "      <td>81.532928</td>\n",
       "      <td>-1.778269</td>\n",
       "      <td>-92.323090</td>\n",
       "      <td>...</td>\n",
       "      <td>15.430634</td>\n",
       "      <td>Background</td>\n",
       "      <td>Not_Agent</td>\n",
       "      <td>0.012896</td>\n",
       "      <td>30.960</td>\n",
       "      <td>No_change</td>\n",
       "      <td>road_playground.002</td>\n",
       "      <td>NaN</td>\n",
       "      <td>NaN</td>\n",
       "      <td>NaN</td>\n",
       "    </tr>\n",
       "    <tr>\n",
       "      <th>115120</th>\n",
       "      <td>115120</td>\n",
       "      <td>1071572</td>\n",
       "      <td>9586</td>\n",
       "      <td>5</td>\n",
       "      <td>3</td>\n",
       "      <td>1.655289e+09</td>\n",
       "      <td>3</td>\n",
       "      <td>81.505676</td>\n",
       "      <td>-1.777646</td>\n",
       "      <td>-92.289421</td>\n",
       "      <td>...</td>\n",
       "      <td>15.298281</td>\n",
       "      <td>Background</td>\n",
       "      <td>Not_Agent</td>\n",
       "      <td>0.013888</td>\n",
       "      <td>30.960</td>\n",
       "      <td>No_change</td>\n",
       "      <td>road_playground.002</td>\n",
       "      <td>NaN</td>\n",
       "      <td>NaN</td>\n",
       "      <td>NaN</td>\n",
       "    </tr>\n",
       "    <tr>\n",
       "      <th>115121</th>\n",
       "      <td>115121</td>\n",
       "      <td>1071574</td>\n",
       "      <td>9586</td>\n",
       "      <td>5</td>\n",
       "      <td>3</td>\n",
       "      <td>1.655289e+09</td>\n",
       "      <td>3</td>\n",
       "      <td>81.478577</td>\n",
       "      <td>-1.776913</td>\n",
       "      <td>-92.256630</td>\n",
       "      <td>...</td>\n",
       "      <td>15.365673</td>\n",
       "      <td>Background</td>\n",
       "      <td>Not_Agent</td>\n",
       "      <td>0.012400</td>\n",
       "      <td>30.960</td>\n",
       "      <td>No_change</td>\n",
       "      <td>road_playground.002</td>\n",
       "      <td>NaN</td>\n",
       "      <td>NaN</td>\n",
       "      <td>NaN</td>\n",
       "    </tr>\n",
       "    <tr>\n",
       "      <th>115122</th>\n",
       "      <td>115122</td>\n",
       "      <td>1071576</td>\n",
       "      <td>9586</td>\n",
       "      <td>5</td>\n",
       "      <td>3</td>\n",
       "      <td>1.655289e+09</td>\n",
       "      <td>3</td>\n",
       "      <td>81.451958</td>\n",
       "      <td>-1.776191</td>\n",
       "      <td>-92.224525</td>\n",
       "      <td>...</td>\n",
       "      <td>15.289004</td>\n",
       "      <td>Background</td>\n",
       "      <td>Not_Agent</td>\n",
       "      <td>0.014384</td>\n",
       "      <td>30.960</td>\n",
       "      <td>No_change</td>\n",
       "      <td>road_playground.002</td>\n",
       "      <td>NaN</td>\n",
       "      <td>NaN</td>\n",
       "      <td>NaN</td>\n",
       "    </tr>\n",
       "    <tr>\n",
       "      <th>115123</th>\n",
       "      <td>115123</td>\n",
       "      <td>1071578</td>\n",
       "      <td>9586</td>\n",
       "      <td>5</td>\n",
       "      <td>3</td>\n",
       "      <td>1.655289e+09</td>\n",
       "      <td>3</td>\n",
       "      <td>81.422012</td>\n",
       "      <td>-1.775346</td>\n",
       "      <td>-92.188194</td>\n",
       "      <td>...</td>\n",
       "      <td>15.344013</td>\n",
       "      <td>Background</td>\n",
       "      <td>Not_Agent</td>\n",
       "      <td>0.013392</td>\n",
       "      <td>30.961</td>\n",
       "      <td>No_change</td>\n",
       "      <td>road_playground.002</td>\n",
       "      <td>NaN</td>\n",
       "      <td>NaN</td>\n",
       "      <td>NaN</td>\n",
       "    </tr>\n",
       "    <tr>\n",
       "      <th>115124</th>\n",
       "      <td>115124</td>\n",
       "      <td>1071580</td>\n",
       "      <td>9586</td>\n",
       "      <td>5</td>\n",
       "      <td>3</td>\n",
       "      <td>1.655289e+09</td>\n",
       "      <td>3</td>\n",
       "      <td>81.393921</td>\n",
       "      <td>-1.774680</td>\n",
       "      <td>-92.155663</td>\n",
       "      <td>...</td>\n",
       "      <td>15.364981</td>\n",
       "      <td>Background</td>\n",
       "      <td>Not_Agent</td>\n",
       "      <td>0.013392</td>\n",
       "      <td>30.961</td>\n",
       "      <td>No_change</td>\n",
       "      <td>road_playground.002</td>\n",
       "      <td>NaN</td>\n",
       "      <td>NaN</td>\n",
       "      <td>NaN</td>\n",
       "    </tr>\n",
       "    <tr>\n",
       "      <th>115125</th>\n",
       "      <td>115125</td>\n",
       "      <td>1071583</td>\n",
       "      <td>9586</td>\n",
       "      <td>5</td>\n",
       "      <td>3</td>\n",
       "      <td>1.655289e+09</td>\n",
       "      <td>3</td>\n",
       "      <td>81.366371</td>\n",
       "      <td>-1.774001</td>\n",
       "      <td>-92.122932</td>\n",
       "      <td>...</td>\n",
       "      <td>15.370849</td>\n",
       "      <td>Background</td>\n",
       "      <td>Not_Agent</td>\n",
       "      <td>0.012399</td>\n",
       "      <td>30.961</td>\n",
       "      <td>No_change</td>\n",
       "      <td>road_playground.002</td>\n",
       "      <td>NaN</td>\n",
       "      <td>NaN</td>\n",
       "      <td>NaN</td>\n",
       "    </tr>\n",
       "    <tr>\n",
       "      <th>115126</th>\n",
       "      <td>115126</td>\n",
       "      <td>1071584</td>\n",
       "      <td>9586</td>\n",
       "      <td>5</td>\n",
       "      <td>3</td>\n",
       "      <td>1.655289e+09</td>\n",
       "      <td>3</td>\n",
       "      <td>81.340233</td>\n",
       "      <td>-1.773322</td>\n",
       "      <td>-92.091896</td>\n",
       "      <td>...</td>\n",
       "      <td>15.249390</td>\n",
       "      <td>Background</td>\n",
       "      <td>Not_Agent</td>\n",
       "      <td>0.015376</td>\n",
       "      <td>30.961</td>\n",
       "      <td>No_change</td>\n",
       "      <td>road_playground.002</td>\n",
       "      <td>NaN</td>\n",
       "      <td>NaN</td>\n",
       "      <td>NaN</td>\n",
       "    </tr>\n",
       "    <tr>\n",
       "      <th>115127</th>\n",
       "      <td>115127</td>\n",
       "      <td>1071586</td>\n",
       "      <td>9586</td>\n",
       "      <td>5</td>\n",
       "      <td>3</td>\n",
       "      <td>1.655289e+09</td>\n",
       "      <td>3</td>\n",
       "      <td>81.309837</td>\n",
       "      <td>-1.772558</td>\n",
       "      <td>-92.055458</td>\n",
       "      <td>...</td>\n",
       "      <td>15.209025</td>\n",
       "      <td>Background</td>\n",
       "      <td>Not_Agent</td>\n",
       "      <td>0.013889</td>\n",
       "      <td>30.961</td>\n",
       "      <td>No_change</td>\n",
       "      <td>road_playground.002</td>\n",
       "      <td>NaN</td>\n",
       "      <td>NaN</td>\n",
       "      <td>NaN</td>\n",
       "    </tr>\n",
       "    <tr>\n",
       "      <th>115128</th>\n",
       "      <td>115128</td>\n",
       "      <td>1071588</td>\n",
       "      <td>9586</td>\n",
       "      <td>5</td>\n",
       "      <td>3</td>\n",
       "      <td>1.655289e+09</td>\n",
       "      <td>3</td>\n",
       "      <td>81.280487</td>\n",
       "      <td>-1.771794</td>\n",
       "      <td>-92.019447</td>\n",
       "      <td>...</td>\n",
       "      <td>15.053772</td>\n",
       "      <td>Background</td>\n",
       "      <td>Not_Agent</td>\n",
       "      <td>0.013887</td>\n",
       "      <td>30.962</td>\n",
       "      <td>No_change</td>\n",
       "      <td>road_playground.002</td>\n",
       "      <td>NaN</td>\n",
       "      <td>NaN</td>\n",
       "      <td>NaN</td>\n",
       "    </tr>\n",
       "    <tr>\n",
       "      <th>115129</th>\n",
       "      <td>115129</td>\n",
       "      <td>1071590</td>\n",
       "      <td>9586</td>\n",
       "      <td>5</td>\n",
       "      <td>3</td>\n",
       "      <td>1.655289e+09</td>\n",
       "      <td>3</td>\n",
       "      <td>81.252441</td>\n",
       "      <td>-1.770964</td>\n",
       "      <td>-91.985641</td>\n",
       "      <td>...</td>\n",
       "      <td>15.207968</td>\n",
       "      <td>Background</td>\n",
       "      <td>Not_Agent</td>\n",
       "      <td>0.013393</td>\n",
       "      <td>30.962</td>\n",
       "      <td>No_change</td>\n",
       "      <td>road_playground.002</td>\n",
       "      <td>NaN</td>\n",
       "      <td>NaN</td>\n",
       "      <td>NaN</td>\n",
       "    </tr>\n",
       "    <tr>\n",
       "      <th>115130</th>\n",
       "      <td>115130</td>\n",
       "      <td>1071592</td>\n",
       "      <td>9586</td>\n",
       "      <td>5</td>\n",
       "      <td>3</td>\n",
       "      <td>1.655289e+09</td>\n",
       "      <td>3</td>\n",
       "      <td>81.225327</td>\n",
       "      <td>-1.770247</td>\n",
       "      <td>-91.953369</td>\n",
       "      <td>...</td>\n",
       "      <td>14.956581</td>\n",
       "      <td>Background</td>\n",
       "      <td>Not_Agent</td>\n",
       "      <td>0.013887</td>\n",
       "      <td>30.962</td>\n",
       "      <td>No_change</td>\n",
       "      <td>road_playground.002</td>\n",
       "      <td>NaN</td>\n",
       "      <td>NaN</td>\n",
       "      <td>NaN</td>\n",
       "    </tr>\n",
       "    <tr>\n",
       "      <th>115131</th>\n",
       "      <td>115131</td>\n",
       "      <td>1071595</td>\n",
       "      <td>9586</td>\n",
       "      <td>5</td>\n",
       "      <td>3</td>\n",
       "      <td>1.655289e+09</td>\n",
       "      <td>3</td>\n",
       "      <td>81.197777</td>\n",
       "      <td>-1.769511</td>\n",
       "      <td>-91.920013</td>\n",
       "      <td>...</td>\n",
       "      <td>14.969715</td>\n",
       "      <td>Background</td>\n",
       "      <td>Not_Agent</td>\n",
       "      <td>0.013392</td>\n",
       "      <td>30.962</td>\n",
       "      <td>No_change</td>\n",
       "      <td>road_playground.002</td>\n",
       "      <td>NaN</td>\n",
       "      <td>NaN</td>\n",
       "      <td>NaN</td>\n",
       "    </tr>\n",
       "    <tr>\n",
       "      <th>115132</th>\n",
       "      <td>115132</td>\n",
       "      <td>1071596</td>\n",
       "      <td>9586</td>\n",
       "      <td>5</td>\n",
       "      <td>3</td>\n",
       "      <td>1.655289e+09</td>\n",
       "      <td>3</td>\n",
       "      <td>81.169716</td>\n",
       "      <td>-1.768756</td>\n",
       "      <td>-91.886536</td>\n",
       "      <td>...</td>\n",
       "      <td>15.038019</td>\n",
       "      <td>Background</td>\n",
       "      <td>Not_Agent</td>\n",
       "      <td>0.013392</td>\n",
       "      <td>30.963</td>\n",
       "      <td>No_change</td>\n",
       "      <td>road_playground.002</td>\n",
       "      <td>NaN</td>\n",
       "      <td>NaN</td>\n",
       "      <td>NaN</td>\n",
       "    </tr>\n",
       "    <tr>\n",
       "      <th>115133</th>\n",
       "      <td>115133</td>\n",
       "      <td>1071598</td>\n",
       "      <td>9586</td>\n",
       "      <td>5</td>\n",
       "      <td>3</td>\n",
       "      <td>1.655289e+09</td>\n",
       "      <td>3</td>\n",
       "      <td>81.142342</td>\n",
       "      <td>-1.768044</td>\n",
       "      <td>-91.853668</td>\n",
       "      <td>...</td>\n",
       "      <td>14.999132</td>\n",
       "      <td>Background</td>\n",
       "      <td>Not_Agent</td>\n",
       "      <td>0.013391</td>\n",
       "      <td>30.963</td>\n",
       "      <td>No_change</td>\n",
       "      <td>road_playground.002</td>\n",
       "      <td>NaN</td>\n",
       "      <td>NaN</td>\n",
       "      <td>NaN</td>\n",
       "    </tr>\n",
       "    <tr>\n",
       "      <th>115134</th>\n",
       "      <td>115134</td>\n",
       "      <td>1071600</td>\n",
       "      <td>9586</td>\n",
       "      <td>5</td>\n",
       "      <td>3</td>\n",
       "      <td>1.655289e+09</td>\n",
       "      <td>3</td>\n",
       "      <td>81.116112</td>\n",
       "      <td>-1.767329</td>\n",
       "      <td>-91.821838</td>\n",
       "      <td>...</td>\n",
       "      <td>14.903887</td>\n",
       "      <td>Background</td>\n",
       "      <td>Not_Agent</td>\n",
       "      <td>0.013888</td>\n",
       "      <td>30.963</td>\n",
       "      <td>No_change</td>\n",
       "      <td>road_playground.002</td>\n",
       "      <td>NaN</td>\n",
       "      <td>NaN</td>\n",
       "      <td>NaN</td>\n",
       "    </tr>\n",
       "    <tr>\n",
       "      <th>115135</th>\n",
       "      <td>115135</td>\n",
       "      <td>1071602</td>\n",
       "      <td>9586</td>\n",
       "      <td>5</td>\n",
       "      <td>3</td>\n",
       "      <td>1.655289e+09</td>\n",
       "      <td>3</td>\n",
       "      <td>81.089531</td>\n",
       "      <td>-1.766619</td>\n",
       "      <td>-91.789780</td>\n",
       "      <td>...</td>\n",
       "      <td>14.854863</td>\n",
       "      <td>Background</td>\n",
       "      <td>Not_Agent</td>\n",
       "      <td>0.012896</td>\n",
       "      <td>30.963</td>\n",
       "      <td>No_change</td>\n",
       "      <td>road_playground.002</td>\n",
       "      <td>NaN</td>\n",
       "      <td>NaN</td>\n",
       "      <td>NaN</td>\n",
       "    </tr>\n",
       "    <tr>\n",
       "      <th>115136</th>\n",
       "      <td>115136</td>\n",
       "      <td>1071604</td>\n",
       "      <td>9586</td>\n",
       "      <td>5</td>\n",
       "      <td>3</td>\n",
       "      <td>1.655289e+09</td>\n",
       "      <td>3</td>\n",
       "      <td>81.062325</td>\n",
       "      <td>-1.765854</td>\n",
       "      <td>-91.756866</td>\n",
       "      <td>...</td>\n",
       "      <td>14.844358</td>\n",
       "      <td>Background</td>\n",
       "      <td>Not_Agent</td>\n",
       "      <td>0.012896</td>\n",
       "      <td>30.963</td>\n",
       "      <td>No_change</td>\n",
       "      <td>road_playground.002</td>\n",
       "      <td>NaN</td>\n",
       "      <td>NaN</td>\n",
       "      <td>NaN</td>\n",
       "    </tr>\n",
       "    <tr>\n",
       "      <th>115137</th>\n",
       "      <td>115137</td>\n",
       "      <td>1071606</td>\n",
       "      <td>9586</td>\n",
       "      <td>5</td>\n",
       "      <td>3</td>\n",
       "      <td>1.655289e+09</td>\n",
       "      <td>3</td>\n",
       "      <td>81.036255</td>\n",
       "      <td>-1.765194</td>\n",
       "      <td>-91.725105</td>\n",
       "      <td>...</td>\n",
       "      <td>14.841749</td>\n",
       "      <td>Background</td>\n",
       "      <td>Not_Agent</td>\n",
       "      <td>0.013888</td>\n",
       "      <td>30.964</td>\n",
       "      <td>No_change</td>\n",
       "      <td>road_playground.002</td>\n",
       "      <td>NaN</td>\n",
       "      <td>NaN</td>\n",
       "      <td>NaN</td>\n",
       "    </tr>\n",
       "    <tr>\n",
       "      <th>115138</th>\n",
       "      <td>115138</td>\n",
       "      <td>1071608</td>\n",
       "      <td>9586</td>\n",
       "      <td>5</td>\n",
       "      <td>3</td>\n",
       "      <td>1.655289e+09</td>\n",
       "      <td>3</td>\n",
       "      <td>81.007980</td>\n",
       "      <td>-1.764473</td>\n",
       "      <td>-91.691658</td>\n",
       "      <td>...</td>\n",
       "      <td>14.792497</td>\n",
       "      <td>Background</td>\n",
       "      <td>Not_Agent</td>\n",
       "      <td>0.013391</td>\n",
       "      <td>30.964</td>\n",
       "      <td>No_change</td>\n",
       "      <td>road_playground.002</td>\n",
       "      <td>NaN</td>\n",
       "      <td>NaN</td>\n",
       "      <td>NaN</td>\n",
       "    </tr>\n",
       "    <tr>\n",
       "      <th>115139</th>\n",
       "      <td>115139</td>\n",
       "      <td>1071610</td>\n",
       "      <td>9586</td>\n",
       "      <td>5</td>\n",
       "      <td>3</td>\n",
       "      <td>1.655289e+09</td>\n",
       "      <td>3</td>\n",
       "      <td>81.007980</td>\n",
       "      <td>-1.764473</td>\n",
       "      <td>-91.691658</td>\n",
       "      <td>...</td>\n",
       "      <td>14.820256</td>\n",
       "      <td>Background</td>\n",
       "      <td>Not_Agent</td>\n",
       "      <td>0.015376</td>\n",
       "      <td>30.964</td>\n",
       "      <td>No_change</td>\n",
       "      <td>road_playground.002</td>\n",
       "      <td>NaN</td>\n",
       "      <td>NaN</td>\n",
       "      <td>NaN</td>\n",
       "    </tr>\n",
       "    <tr>\n",
       "      <th>115140</th>\n",
       "      <td>115140</td>\n",
       "      <td>1071612</td>\n",
       "      <td>9586</td>\n",
       "      <td>5</td>\n",
       "      <td>3</td>\n",
       "      <td>1.655289e+09</td>\n",
       "      <td>3</td>\n",
       "      <td>81.007980</td>\n",
       "      <td>-1.764473</td>\n",
       "      <td>-91.691658</td>\n",
       "      <td>...</td>\n",
       "      <td>14.635082</td>\n",
       "      <td>Background</td>\n",
       "      <td>Not_Agent</td>\n",
       "      <td>0.012896</td>\n",
       "      <td>30.964</td>\n",
       "      <td>No_change</td>\n",
       "      <td>road_playground.002</td>\n",
       "      <td>NaN</td>\n",
       "      <td>NaN</td>\n",
       "      <td>NaN</td>\n",
       "    </tr>\n",
       "  </tbody>\n",
       "</table>\n",
       "<p>50 rows × 34 columns</p>\n",
       "</div>"
      ],
      "text/plain": [
       "         index  Unnamed: 0.1  SubjectID  Session  SessionSubsection  \\\n",
       "115091  115091       1071514       9586        5                  3   \n",
       "115092  115092       1071517       9586        5                  3   \n",
       "115093  115093       1071518       9586        5                  3   \n",
       "115094  115094       1071520       9586        5                  3   \n",
       "115095  115095       1071522       9586        5                  3   \n",
       "115096  115096       1071524       9586        5                  3   \n",
       "115097  115097       1071526       9586        5                  3   \n",
       "115098  115098       1071528       9586        5                  3   \n",
       "115099  115099       1071531       9586        5                  3   \n",
       "115100  115100       1071532       9586        5                  3   \n",
       "115101  115101       1071534       9586        5                  3   \n",
       "115102  115102       1071536       9586        5                  3   \n",
       "115103  115103       1071538       9586        5                  3   \n",
       "115104  115104       1071540       9586        5                  3   \n",
       "115105  115105       1071543       9586        5                  3   \n",
       "115106  115106       1071544       9586        5                  3   \n",
       "115107  115107       1071546       9586        5                  3   \n",
       "115108  115108       1071548       9586        5                  3   \n",
       "115109  115109       1071550       9586        5                  3   \n",
       "115110  115110       1071552       9586        5                  3   \n",
       "115111  115111       1071555       9586        5                  3   \n",
       "115112  115112       1071557       9586        5                  3   \n",
       "115113  115113       1071558       9586        5                  3   \n",
       "115114  115114       1071560       9586        5                  3   \n",
       "115115  115115       1071562       9586        5                  3   \n",
       "115116  115116       1071564       9586        5                  3   \n",
       "115117  115117       1071566       9586        5                  3   \n",
       "115118  115118       1071568       9586        5                  3   \n",
       "115119  115119       1071571       9586        5                  3   \n",
       "115120  115120       1071572       9586        5                  3   \n",
       "115121  115121       1071574       9586        5                  3   \n",
       "115122  115122       1071576       9586        5                  3   \n",
       "115123  115123       1071578       9586        5                  3   \n",
       "115124  115124       1071580       9586        5                  3   \n",
       "115125  115125       1071583       9586        5                  3   \n",
       "115126  115126       1071584       9586        5                  3   \n",
       "115127  115127       1071586       9586        5                  3   \n",
       "115128  115128       1071588       9586        5                  3   \n",
       "115129  115129       1071590       9586        5                  3   \n",
       "115130  115130       1071592       9586        5                  3   \n",
       "115131  115131       1071595       9586        5                  3   \n",
       "115132  115132       1071596       9586        5                  3   \n",
       "115133  115133       1071598       9586        5                  3   \n",
       "115134  115134       1071600       9586        5                  3   \n",
       "115135  115135       1071602       9586        5                  3   \n",
       "115136  115136       1071604       9586        5                  3   \n",
       "115137  115137       1071606       9586        5                  3   \n",
       "115138  115138       1071608       9586        5                  3   \n",
       "115139  115139       1071610       9586        5                  3   \n",
       "115140  115140       1071612       9586        5                  3   \n",
       "\n",
       "        timeStampDataPointEnd  combinedGazeValidityBitmask  \\\n",
       "115091           1.655289e+09                            3   \n",
       "115092           1.655289e+09                            3   \n",
       "115093           1.655289e+09                            3   \n",
       "115094           1.655289e+09                            3   \n",
       "115095           1.655289e+09                            3   \n",
       "115096           1.655289e+09                            3   \n",
       "115097           1.655289e+09                            3   \n",
       "115098           1.655289e+09                            3   \n",
       "115099           1.655289e+09                            3   \n",
       "115100           1.655289e+09                            3   \n",
       "115101           1.655289e+09                            3   \n",
       "115102           1.655289e+09                            3   \n",
       "115103           1.655289e+09                            3   \n",
       "115104           1.655289e+09                            3   \n",
       "115105           1.655289e+09                            3   \n",
       "115106           1.655289e+09                            3   \n",
       "115107           1.655289e+09                            3   \n",
       "115108           1.655289e+09                            3   \n",
       "115109           1.655289e+09                            3   \n",
       "115110           1.655289e+09                            3   \n",
       "115111           1.655289e+09                            3   \n",
       "115112           1.655289e+09                            3   \n",
       "115113           1.655289e+09                            3   \n",
       "115114           1.655289e+09                            3   \n",
       "115115           1.655289e+09                            3   \n",
       "115116           1.655289e+09                            3   \n",
       "115117           1.655289e+09                            3   \n",
       "115118           1.655289e+09                            3   \n",
       "115119           1.655289e+09                            3   \n",
       "115120           1.655289e+09                            3   \n",
       "115121           1.655289e+09                            3   \n",
       "115122           1.655289e+09                            3   \n",
       "115123           1.655289e+09                            3   \n",
       "115124           1.655289e+09                            3   \n",
       "115125           1.655289e+09                            3   \n",
       "115126           1.655289e+09                            3   \n",
       "115127           1.655289e+09                            3   \n",
       "115128           1.655289e+09                            3   \n",
       "115129           1.655289e+09                            3   \n",
       "115130           1.655289e+09                            3   \n",
       "115131           1.655289e+09                            3   \n",
       "115132           1.655289e+09                            3   \n",
       "115133           1.655289e+09                            3   \n",
       "115134           1.655289e+09                            3   \n",
       "115135           1.655289e+09                            3   \n",
       "115136           1.655289e+09                            3   \n",
       "115137           1.655289e+09                            3   \n",
       "115138           1.655289e+09                            3   \n",
       "115139           1.655289e+09                            3   \n",
       "115140           1.655289e+09                            3   \n",
       "\n",
       "        eyePositionCombinedWorld.x  eyePositionCombinedWorld.y  \\\n",
       "115091                   82.317406                   -1.818376   \n",
       "115092                   82.288994                   -1.816867   \n",
       "115093                   82.265015                   -1.815408   \n",
       "115094                   82.244522                   -1.813932   \n",
       "115095                   82.213379                   -1.812349   \n",
       "115096                   82.183655                   -1.810817   \n",
       "115097                   82.154663                   -1.809371   \n",
       "115098                   82.128334                   -1.808072   \n",
       "115099                   82.098793                   -1.806610   \n",
       "115100                   82.068855                   -1.805019   \n",
       "115101                   82.041695                   -1.803634   \n",
       "115102                   82.012810                   -1.802134   \n",
       "115103                   81.984398                   -1.800682   \n",
       "115104                   81.958992                   -1.799309   \n",
       "115105                   81.926788                   -1.797665   \n",
       "115106                   81.902878                   -1.796437   \n",
       "115107                   81.877144                   -1.795079   \n",
       "115108                   81.847946                   -1.793601   \n",
       "115109                   81.821632                   -1.792225   \n",
       "115110                   81.791969                   -1.790680   \n",
       "115111                   81.763237                   -1.789262   \n",
       "115112                   81.733902                   -1.787746   \n",
       "115113                   81.707680                   -1.786492   \n",
       "115114                   81.680138                   -1.785116   \n",
       "115115                   81.652992                   -1.783808   \n",
       "115116                   81.620102                   -1.782324   \n",
       "115117                   81.591415                   -1.780823   \n",
       "115118                   81.561417                   -1.779269   \n",
       "115119                   81.532928                   -1.778269   \n",
       "115120                   81.505676                   -1.777646   \n",
       "115121                   81.478577                   -1.776913   \n",
       "115122                   81.451958                   -1.776191   \n",
       "115123                   81.422012                   -1.775346   \n",
       "115124                   81.393921                   -1.774680   \n",
       "115125                   81.366371                   -1.774001   \n",
       "115126                   81.340233                   -1.773322   \n",
       "115127                   81.309837                   -1.772558   \n",
       "115128                   81.280487                   -1.771794   \n",
       "115129                   81.252441                   -1.770964   \n",
       "115130                   81.225327                   -1.770247   \n",
       "115131                   81.197777                   -1.769511   \n",
       "115132                   81.169716                   -1.768756   \n",
       "115133                   81.142342                   -1.768044   \n",
       "115134                   81.116112                   -1.767329   \n",
       "115135                   81.089531                   -1.766619   \n",
       "115136                   81.062325                   -1.765854   \n",
       "115137                   81.036255                   -1.765194   \n",
       "115138                   81.007980                   -1.764473   \n",
       "115139                   81.007980                   -1.764473   \n",
       "115140                   81.007980                   -1.764473   \n",
       "\n",
       "        eyePositionCombinedWorld.z  ...  Eucledian_distance  \\\n",
       "115091                  -93.283043  ...           18.057986   \n",
       "115092                  -93.248268  ...           18.012784   \n",
       "115093                  -93.211815  ...           18.631635   \n",
       "115094                  -93.176727  ...           19.401586   \n",
       "115095                  -93.139511  ...           19.358231   \n",
       "115096                  -93.104301  ...           19.442289   \n",
       "115097                  -93.069450  ...           19.449582   \n",
       "115098                  -93.037086  ...           19.412162   \n",
       "115099                  -93.001732  ...           19.437886   \n",
       "115100                  -92.965157  ...           19.568170   \n",
       "115101                  -92.932373  ...           19.810249   \n",
       "115102                  -92.897110  ...           19.692792   \n",
       "115103                  -92.862549  ...           19.651185   \n",
       "115104                  -92.831635  ...           19.548023   \n",
       "115105                  -92.792625  ...           19.378727   \n",
       "115106                  -92.763100  ...           19.347545   \n",
       "115107                  -92.732338  ...           19.161413   \n",
       "115108                  -92.697243  ...           19.072198   \n",
       "115109                  -92.665672  ...           18.993283   \n",
       "115110                  -92.630547  ...           18.888111   \n",
       "115111                  -92.595726  ...           18.741028   \n",
       "115112                  -92.560600  ...           18.659748   \n",
       "115113                  -92.528839  ...           18.016887   \n",
       "115114                  -92.495407  ...           15.781114   \n",
       "115115                  -92.463364  ...           15.240939   \n",
       "115116                  -92.428879  ...           14.996795   \n",
       "115117                  -92.394180  ...           15.393724   \n",
       "115118                  -92.357193  ...           15.459605   \n",
       "115119                  -92.323090  ...           15.430634   \n",
       "115120                  -92.289421  ...           15.298281   \n",
       "115121                  -92.256630  ...           15.365673   \n",
       "115122                  -92.224525  ...           15.289004   \n",
       "115123                  -92.188194  ...           15.344013   \n",
       "115124                  -92.155663  ...           15.364981   \n",
       "115125                  -92.122932  ...           15.370849   \n",
       "115126                  -92.091896  ...           15.249390   \n",
       "115127                  -92.055458  ...           15.209025   \n",
       "115128                  -92.019447  ...           15.053772   \n",
       "115129                  -91.985641  ...           15.207968   \n",
       "115130                  -91.953369  ...           14.956581   \n",
       "115131                  -91.920013  ...           14.969715   \n",
       "115132                  -91.886536  ...           15.038019   \n",
       "115133                  -91.853668  ...           14.999132   \n",
       "115134                  -91.821838  ...           14.903887   \n",
       "115135                  -91.789780  ...           14.854863   \n",
       "115136                  -91.756866  ...           14.844358   \n",
       "115137                  -91.725105  ...           14.841749   \n",
       "115138                  -91.691658  ...           14.792497   \n",
       "115139                  -91.691658  ...           14.820256   \n",
       "115140                  -91.691658  ...           14.635082   \n",
       "\n",
       "        Collider_Categorical  Face_Hits  Time_Shift  Continuous_Time  \\\n",
       "115091            Background  Not_Agent    0.013391           30.953   \n",
       "115092            Background  Not_Agent    0.012898           30.954   \n",
       "115093            Background  Not_Agent    0.013887           30.954   \n",
       "115094            Background  Not_Agent    0.014880           30.954   \n",
       "115095            Background  Not_Agent    0.012896           30.954   \n",
       "115096            Background  Not_Agent    0.013392           30.954   \n",
       "115097            Background  Not_Agent    0.012895           30.955   \n",
       "115098            Background  Not_Agent    0.014385           30.955   \n",
       "115099            Background  Not_Agent    0.014384           30.955   \n",
       "115100            Background  Not_Agent    0.013392           30.955   \n",
       "115101            Background  Not_Agent    0.014384           30.956   \n",
       "115102            Background  Not_Agent    0.013888           30.956   \n",
       "115103            Background  Not_Agent    0.013392           30.956   \n",
       "115104            Background  Not_Agent    0.014879           30.956   \n",
       "115105            Background  Not_Agent    0.012401           30.957   \n",
       "115106            Background  Not_Agent    0.012401           30.957   \n",
       "115107            Background  Not_Agent    0.014878           30.957   \n",
       "115108            Background  Not_Agent    0.011510           30.957   \n",
       "115109            Background  Not_Agent    0.015276           30.957   \n",
       "115110            Background  Not_Agent    0.012895           30.958   \n",
       "115111            Background  Not_Agent    0.014384           30.958   \n",
       "115112            Background  Not_Agent    0.012400           30.958   \n",
       "115113            Background  Not_Agent    0.013391           30.958   \n",
       "115114            Background  Not_Agent    0.012897           30.959   \n",
       "115115            Background  Not_Agent    0.013887           30.959   \n",
       "115116            Background  Not_Agent    0.014384           30.959   \n",
       "115117            Background  Not_Agent    0.014384           30.959   \n",
       "115118            Background  Not_Agent    0.013391           30.959   \n",
       "115119            Background  Not_Agent    0.012896           30.960   \n",
       "115120            Background  Not_Agent    0.013888           30.960   \n",
       "115121            Background  Not_Agent    0.012400           30.960   \n",
       "115122            Background  Not_Agent    0.014384           30.960   \n",
       "115123            Background  Not_Agent    0.013392           30.961   \n",
       "115124            Background  Not_Agent    0.013392           30.961   \n",
       "115125            Background  Not_Agent    0.012399           30.961   \n",
       "115126            Background  Not_Agent    0.015376           30.961   \n",
       "115127            Background  Not_Agent    0.013889           30.961   \n",
       "115128            Background  Not_Agent    0.013887           30.962   \n",
       "115129            Background  Not_Agent    0.013393           30.962   \n",
       "115130            Background  Not_Agent    0.013887           30.962   \n",
       "115131            Background  Not_Agent    0.013392           30.962   \n",
       "115132            Background  Not_Agent    0.013392           30.963   \n",
       "115133            Background  Not_Agent    0.013391           30.963   \n",
       "115134            Background  Not_Agent    0.013888           30.963   \n",
       "115135            Background  Not_Agent    0.012896           30.963   \n",
       "115136            Background  Not_Agent    0.012896           30.963   \n",
       "115137            Background  Not_Agent    0.013888           30.964   \n",
       "115138            Background  Not_Agent    0.013391           30.964   \n",
       "115139            Background  Not_Agent    0.015376           30.964   \n",
       "115140            Background  Not_Agent    0.012896           30.964   \n",
       "\n",
       "        Bitmask_flag  Interpolated_collider   eyePositionCombinedWorld.x  \\\n",
       "115091     No_change    road_playground.002                          NaN   \n",
       "115092     No_change    road_playground.002                          NaN   \n",
       "115093     No_change    road_playground.002                          NaN   \n",
       "115094     No_change    road_playground.002                          NaN   \n",
       "115095     No_change    road_playground.002                          NaN   \n",
       "115096     No_change    road_playground.002                          NaN   \n",
       "115097     No_change    road_playground.002                          NaN   \n",
       "115098     No_change    road_playground.002                          NaN   \n",
       "115099     No_change    road_playground.002                          NaN   \n",
       "115100     No_change    road_playground.002                          NaN   \n",
       "115101     No_change    road_playground.002                          NaN   \n",
       "115102     No_change    road_playground.002                          NaN   \n",
       "115103     No_change    road_playground.002                          NaN   \n",
       "115104     No_change    road_playground.002                          NaN   \n",
       "115105     No_change    road_playground.002                          NaN   \n",
       "115106     No_change    road_playground.002                          NaN   \n",
       "115107     No_change    road_playground.002                          NaN   \n",
       "115108     No_change    road_playground.002                          NaN   \n",
       "115109     No_change    road_playground.002                          NaN   \n",
       "115110     No_change    road_playground.002                          NaN   \n",
       "115111     No_change    road_playground.002                          NaN   \n",
       "115112     No_change    road_playground.002                          NaN   \n",
       "115113     No_change    road_playground.002                          NaN   \n",
       "115114     No_change    road_playground.002                          NaN   \n",
       "115115     No_change    road_playground.002                          NaN   \n",
       "115116     No_change    road_playground.002                          NaN   \n",
       "115117     No_change    road_playground.002                          NaN   \n",
       "115118     No_change    road_playground.002                          NaN   \n",
       "115119     No_change    road_playground.002                          NaN   \n",
       "115120     No_change    road_playground.002                          NaN   \n",
       "115121     No_change    road_playground.002                          NaN   \n",
       "115122     No_change    road_playground.002                          NaN   \n",
       "115123     No_change    road_playground.002                          NaN   \n",
       "115124     No_change    road_playground.002                          NaN   \n",
       "115125     No_change    road_playground.002                          NaN   \n",
       "115126     No_change    road_playground.002                          NaN   \n",
       "115127     No_change    road_playground.002                          NaN   \n",
       "115128     No_change    road_playground.002                          NaN   \n",
       "115129     No_change    road_playground.002                          NaN   \n",
       "115130     No_change    road_playground.002                          NaN   \n",
       "115131     No_change    road_playground.002                          NaN   \n",
       "115132     No_change    road_playground.002                          NaN   \n",
       "115133     No_change    road_playground.002                          NaN   \n",
       "115134     No_change    road_playground.002                          NaN   \n",
       "115135     No_change    road_playground.002                          NaN   \n",
       "115136     No_change    road_playground.002                          NaN   \n",
       "115137     No_change    road_playground.002                          NaN   \n",
       "115138     No_change    road_playground.002                          NaN   \n",
       "115139     No_change    road_playground.002                          NaN   \n",
       "115140     No_change    road_playground.002                          NaN   \n",
       "\n",
       "       Unnamed: 0.1.1 Unnamed: 0.1.1.1  \n",
       "115091            NaN              NaN  \n",
       "115092            NaN              NaN  \n",
       "115093            NaN              NaN  \n",
       "115094            NaN              NaN  \n",
       "115095            NaN              NaN  \n",
       "115096            NaN              NaN  \n",
       "115097            NaN              NaN  \n",
       "115098            NaN              NaN  \n",
       "115099            NaN              NaN  \n",
       "115100            NaN              NaN  \n",
       "115101            NaN              NaN  \n",
       "115102            NaN              NaN  \n",
       "115103            NaN              NaN  \n",
       "115104            NaN              NaN  \n",
       "115105            NaN              NaN  \n",
       "115106            NaN              NaN  \n",
       "115107            NaN              NaN  \n",
       "115108            NaN              NaN  \n",
       "115109            NaN              NaN  \n",
       "115110            NaN              NaN  \n",
       "115111            NaN              NaN  \n",
       "115112            NaN              NaN  \n",
       "115113            NaN              NaN  \n",
       "115114            NaN              NaN  \n",
       "115115            NaN              NaN  \n",
       "115116            NaN              NaN  \n",
       "115117            NaN              NaN  \n",
       "115118            NaN              NaN  \n",
       "115119            NaN              NaN  \n",
       "115120            NaN              NaN  \n",
       "115121            NaN              NaN  \n",
       "115122            NaN              NaN  \n",
       "115123            NaN              NaN  \n",
       "115124            NaN              NaN  \n",
       "115125            NaN              NaN  \n",
       "115126            NaN              NaN  \n",
       "115127            NaN              NaN  \n",
       "115128            NaN              NaN  \n",
       "115129            NaN              NaN  \n",
       "115130            NaN              NaN  \n",
       "115131            NaN              NaN  \n",
       "115132            NaN              NaN  \n",
       "115133            NaN              NaN  \n",
       "115134            NaN              NaN  \n",
       "115135            NaN              NaN  \n",
       "115136            NaN              NaN  \n",
       "115137            NaN              NaN  \n",
       "115138            NaN              NaN  \n",
       "115139            NaN              NaN  \n",
       "115140            NaN              NaN  \n",
       "\n",
       "[50 rows x 34 columns]"
      ]
     },
     "execution_count": 6,
     "metadata": {},
     "output_type": "execute_result"
    }
   ],
   "source": [
    "data_frame.tail(50)"
   ]
  },
  {
   "cell_type": "code",
   "execution_count": 7,
   "id": "15e395c9-86e2-4800-9413-d451ac117bce",
   "metadata": {},
   "outputs": [
    {
     "ename": "SyntaxError",
     "evalue": "invalid syntax (<ipython-input-7-b462aee1c6c4>, line 1)",
     "output_type": "error",
     "traceback": [
      "\u001b[0;36m  File \u001b[0;32m\"<ipython-input-7-b462aee1c6c4>\"\u001b[0;36m, line \u001b[0;32m1\u001b[0m\n\u001b[0;31m    *\u001b[0m\n\u001b[0m     ^\u001b[0m\n\u001b[0;31mSyntaxError\u001b[0m\u001b[0;31m:\u001b[0m invalid syntax\n"
     ]
    }
   ],
   "source": [
    "*"
   ]
  }
 ],
 "metadata": {
  "kernelspec": {
   "display_name": "Python 3",
   "language": "python",
   "name": "python3"
  },
  "language_info": {
   "codemirror_mode": {
    "name": "ipython",
    "version": 3
   },
   "file_extension": ".py",
   "mimetype": "text/x-python",
   "name": "python",
   "nbconvert_exporter": "python",
   "pygments_lexer": "ipython3",
   "version": "3.8.8"
  }
 },
 "nbformat": 4,
 "nbformat_minor": 5
}
