{
 "cells": [
  {
   "cell_type": "markdown",
   "id": "1d869661",
   "metadata": {},
   "source": [
    "# Avatar questionnaire processing  "
   ]
  },
  {
   "cell_type": "markdown",
   "id": "aa5b6390",
   "metadata": {},
   "source": [
    "## Import packages "
   ]
  },
  {
   "cell_type": "code",
   "execution_count": 1,
   "id": "7bd30745",
   "metadata": {},
   "outputs": [],
   "source": [
    "import os\n",
    "import re\n",
    "import matplotlib.pyplot as plt\n",
    "import seaborn as sns\n",
    "import ptitprince as pt\n",
    "from statsmodels.stats.anova import *\n",
    "from functools import reduce"
   ]
  },
  {
   "cell_type": "markdown",
   "id": "a75fe74a",
   "metadata": {},
   "source": [
    "## Function creation"
   ]
  },
  {
   "cell_type": "markdown",
   "id": "0428d888",
   "metadata": {},
   "source": [
    "1. extraRow: Creates a function that takes:\n",
    " - **df** = a data frame and checks if any of the elements of \n",
    " - **yourlist** have a partial match with the content of the values of \n",
    " - **variable** your variable of interest, if so it assigns the correspondedn matching value to \n",
    " - **newvariable** the name of variable you want as an output \n"
   ]
  },
  {
   "cell_type": "code",
   "execution_count": 2,
   "id": "3940d48c",
   "metadata": {},
   "outputs": [],
   "source": [
    "def extraRow(df,yourlist,variable,newVariable):\n",
    "    '''Creates a new variable that contains matching data from preexiting variable\n",
    "    \n",
    "Parameters\n",
    "-------------\n",
    "     \n",
    "     df: your data frame,\n",
    "     yourlist: List of values you want to target for the partial match search\n",
    "     variable: Variable that may cointain the elements on yourlist\n",
    "     newvariable: Name for  New Variable \n",
    "     \n",
    "returns \n",
    "----------\n",
    "\n",
    "    DataFrame\n",
    "     '''\n",
    "    for idx, row in df.iterrows():\n",
    "        for l in yourlist:\n",
    "            if l in row[variable]:\n",
    "                df.loc[idx, newVariable] = l"
   ]
  },
  {
   "cell_type": "markdown",
   "id": "d4345e50",
   "metadata": {},
   "source": [
    "## Preprocessing "
   ]
  },
  {
   "cell_type": "code",
   "execution_count": 3,
   "id": "f6f63673",
   "metadata": {},
   "outputs": [
    {
     "data": {
      "text/html": [
       "<div>\n",
       "<style scoped>\n",
       "    .dataframe tbody tr th:only-of-type {\n",
       "        vertical-align: middle;\n",
       "    }\n",
       "\n",
       "    .dataframe tbody tr th {\n",
       "        vertical-align: top;\n",
       "    }\n",
       "\n",
       "    .dataframe thead th {\n",
       "        text-align: right;\n",
       "    }\n",
       "</style>\n",
       "<table border=\"1\" class=\"dataframe\">\n",
       "  <thead>\n",
       "    <tr style=\"text-align: right;\">\n",
       "      <th></th>\n",
       "      <th>0</th>\n",
       "      <th>1</th>\n",
       "      <th>2</th>\n",
       "      <th>3</th>\n",
       "    </tr>\n",
       "  </thead>\n",
       "  <tbody>\n",
       "    <tr>\n",
       "      <th>0</th>\n",
       "      <td>1.0</td>\n",
       "      <td>Remember_01_CmA</td>\n",
       "      <td>1.0</td>\n",
       "      <td>9627.0</td>\n",
       "    </tr>\n",
       "    <tr>\n",
       "      <th>1</th>\n",
       "      <td>1.0</td>\n",
       "      <td>Realistic_01_CmA</td>\n",
       "      <td>5.0</td>\n",
       "      <td>9627.0</td>\n",
       "    </tr>\n",
       "    <tr>\n",
       "      <th>2</th>\n",
       "      <td>1.0</td>\n",
       "      <td>Attractive_01_CmA</td>\n",
       "      <td>1.0</td>\n",
       "      <td>9627.0</td>\n",
       "    </tr>\n",
       "    <tr>\n",
       "      <th>3</th>\n",
       "      <td>2.0</td>\n",
       "      <td>Remember_29_Sa</td>\n",
       "      <td>1.0</td>\n",
       "      <td>9627.0</td>\n",
       "    </tr>\n",
       "    <tr>\n",
       "      <th>4</th>\n",
       "      <td>2.0</td>\n",
       "      <td>Realistic_29_Sa</td>\n",
       "      <td>4.0</td>\n",
       "      <td>9627.0</td>\n",
       "    </tr>\n",
       "  </tbody>\n",
       "</table>\n",
       "</div>"
      ],
      "text/plain": [
       "     0                  1    2       3\n",
       "0  1.0    Remember_01_CmA  1.0  9627.0\n",
       "1  1.0   Realistic_01_CmA  5.0  9627.0\n",
       "2  1.0  Attractive_01_CmA  1.0  9627.0\n",
       "3  2.0     Remember_29_Sa  1.0  9627.0\n",
       "4  2.0    Realistic_29_Sa  4.0  9627.0"
      ]
     },
     "execution_count": 3,
     "metadata": {},
     "output_type": "execute_result"
    }
   ],
   "source": [
    "# Data set loading\n",
    "df_file = '/Users/tracysanchezpacheco/Desktop/AvaQuest.csv'\n",
    "df = pd.read_csv(df_file, sep= ',', header=None)\n",
    "df.head()"
   ]
  },
  {
   "cell_type": "code",
   "execution_count": 4,
   "id": "22778423",
   "metadata": {},
   "outputs": [
    {
     "data": {
      "text/html": [
       "<div>\n",
       "<style scoped>\n",
       "    .dataframe tbody tr th:only-of-type {\n",
       "        vertical-align: middle;\n",
       "    }\n",
       "\n",
       "    .dataframe tbody tr th {\n",
       "        vertical-align: top;\n",
       "    }\n",
       "\n",
       "    .dataframe thead th {\n",
       "        text-align: right;\n",
       "    }\n",
       "</style>\n",
       "<table border=\"1\" class=\"dataframe\">\n",
       "  <thead>\n",
       "    <tr style=\"text-align: right;\">\n",
       "      <th></th>\n",
       "      <th>order</th>\n",
       "      <th>item</th>\n",
       "      <th>likert</th>\n",
       "      <th>ID</th>\n",
       "    </tr>\n",
       "  </thead>\n",
       "  <tbody>\n",
       "    <tr>\n",
       "      <th>0</th>\n",
       "      <td>1.0</td>\n",
       "      <td>Remember_01_CmA</td>\n",
       "      <td>1.0</td>\n",
       "      <td>9627.0</td>\n",
       "    </tr>\n",
       "    <tr>\n",
       "      <th>1</th>\n",
       "      <td>1.0</td>\n",
       "      <td>Realistic_01_CmA</td>\n",
       "      <td>5.0</td>\n",
       "      <td>9627.0</td>\n",
       "    </tr>\n",
       "    <tr>\n",
       "      <th>2</th>\n",
       "      <td>1.0</td>\n",
       "      <td>Attractive_01_CmA</td>\n",
       "      <td>1.0</td>\n",
       "      <td>9627.0</td>\n",
       "    </tr>\n",
       "    <tr>\n",
       "      <th>3</th>\n",
       "      <td>2.0</td>\n",
       "      <td>Remember_29_Sa</td>\n",
       "      <td>1.0</td>\n",
       "      <td>9627.0</td>\n",
       "    </tr>\n",
       "    <tr>\n",
       "      <th>4</th>\n",
       "      <td>2.0</td>\n",
       "      <td>Realistic_29_Sa</td>\n",
       "      <td>4.0</td>\n",
       "      <td>9627.0</td>\n",
       "    </tr>\n",
       "  </tbody>\n",
       "</table>\n",
       "</div>"
      ],
      "text/plain": [
       "   order               item  likert      ID\n",
       "0    1.0    Remember_01_CmA     1.0  9627.0\n",
       "1    1.0   Realistic_01_CmA     5.0  9627.0\n",
       "2    1.0  Attractive_01_CmA     1.0  9627.0\n",
       "3    2.0     Remember_29_Sa     1.0  9627.0\n",
       "4    2.0    Realistic_29_Sa     4.0  9627.0"
      ]
     },
     "execution_count": 4,
     "metadata": {},
     "output_type": "execute_result"
    }
   ],
   "source": [
    "df = df.rename({0: 'order', 1: 'item', 2: 'likert', 3: 'ID'}, axis=1)\n",
    "df.head()"
   ]
  },
  {
   "cell_type": "code",
   "execution_count": 5,
   "id": "a8e994a6",
   "metadata": {},
   "outputs": [
    {
     "name": "stdout",
     "output_type": "stream",
     "text": [
      "<class 'pandas.core.frame.DataFrame'>\n",
      "RangeIndex: 3720 entries, 0 to 3719\n",
      "Data columns (total 4 columns):\n",
      " #   Column  Non-Null Count  Dtype   \n",
      "---  ------  --------------  -----   \n",
      " 0   order   3696 non-null   float64 \n",
      " 1   item    3696 non-null   category\n",
      " 2   likert  3697 non-null   float64 \n",
      " 3   ID      3696 non-null   float64 \n",
      "dtypes: category(1), float64(3)\n",
      "memory usage: 100.0 KB\n"
     ]
    }
   ],
   "source": [
    "#Initial exploration of the data set \n",
    "df.item = df['item'].astype('category')\n",
    "df.info()"
   ]
  },
  {
   "cell_type": "code",
   "execution_count": 6,
   "id": "4e7b7178",
   "metadata": {},
   "outputs": [
    {
     "name": "stdout",
     "output_type": "stream",
     "text": [
      "<class 'pandas.core.frame.DataFrame'>\n",
      "RangeIndex: 3720 entries, 0 to 3719\n",
      "Data columns (total 6 columns):\n",
      " #   Column          Non-Null Count  Dtype   \n",
      "---  ------          --------------  -----   \n",
      " 0   order           3696 non-null   float64 \n",
      " 1   item            3696 non-null   category\n",
      " 2   likert          3697 non-null   float64 \n",
      " 3   ID              3696 non-null   float64 \n",
      " 4   avatarCat       3696 non-null   object  \n",
      " 5   avatarCategory  3696 non-null   object  \n",
      "dtypes: category(1), float64(3), object(2)\n",
      "memory usage: 158.1+ KB\n"
     ]
    }
   ],
   "source": [
    "#Creating Clarity Categorical variable \n",
    "df['avatarCat'] = df['item'].str.contains('Sa')\n",
    "df.loc[:, 'avatarCategory'] = df['avatarCat'].replace({True: 'Passive', False: 'Active'})\n",
    "df.info()"
   ]
  },
  {
   "cell_type": "code",
   "execution_count": 7,
   "id": "1033a64d",
   "metadata": {},
   "outputs": [
    {
     "data": {
      "text/html": [
       "<div>\n",
       "<style scoped>\n",
       "    .dataframe tbody tr th:only-of-type {\n",
       "        vertical-align: middle;\n",
       "    }\n",
       "\n",
       "    .dataframe tbody tr th {\n",
       "        vertical-align: top;\n",
       "    }\n",
       "\n",
       "    .dataframe thead th {\n",
       "        text-align: right;\n",
       "    }\n",
       "</style>\n",
       "<table border=\"1\" class=\"dataframe\">\n",
       "  <thead>\n",
       "    <tr style=\"text-align: right;\">\n",
       "      <th></th>\n",
       "      <th>order</th>\n",
       "      <th>item</th>\n",
       "      <th>likert</th>\n",
       "      <th>ID</th>\n",
       "      <th>avatarCat</th>\n",
       "      <th>avatarCategory</th>\n",
       "    </tr>\n",
       "  </thead>\n",
       "  <tbody>\n",
       "    <tr>\n",
       "      <th>0</th>\n",
       "      <td>1.0</td>\n",
       "      <td>Remember_01_CmA</td>\n",
       "      <td>1.0</td>\n",
       "      <td>9627.0</td>\n",
       "      <td>False</td>\n",
       "      <td>Active</td>\n",
       "    </tr>\n",
       "    <tr>\n",
       "      <th>1</th>\n",
       "      <td>1.0</td>\n",
       "      <td>Realistic_01_CmA</td>\n",
       "      <td>5.0</td>\n",
       "      <td>9627.0</td>\n",
       "      <td>False</td>\n",
       "      <td>Active</td>\n",
       "    </tr>\n",
       "    <tr>\n",
       "      <th>2</th>\n",
       "      <td>1.0</td>\n",
       "      <td>Attractive_01_CmA</td>\n",
       "      <td>1.0</td>\n",
       "      <td>9627.0</td>\n",
       "      <td>False</td>\n",
       "      <td>Active</td>\n",
       "    </tr>\n",
       "    <tr>\n",
       "      <th>3</th>\n",
       "      <td>2.0</td>\n",
       "      <td>Remember_29_Sa</td>\n",
       "      <td>1.0</td>\n",
       "      <td>9627.0</td>\n",
       "      <td>True</td>\n",
       "      <td>Passive</td>\n",
       "    </tr>\n",
       "    <tr>\n",
       "      <th>4</th>\n",
       "      <td>2.0</td>\n",
       "      <td>Realistic_29_Sa</td>\n",
       "      <td>4.0</td>\n",
       "      <td>9627.0</td>\n",
       "      <td>True</td>\n",
       "      <td>Passive</td>\n",
       "    </tr>\n",
       "  </tbody>\n",
       "</table>\n",
       "</div>"
      ],
      "text/plain": [
       "   order               item  likert      ID avatarCat avatarCategory\n",
       "0    1.0    Remember_01_CmA     1.0  9627.0     False         Active\n",
       "1    1.0   Realistic_01_CmA     5.0  9627.0     False         Active\n",
       "2    1.0  Attractive_01_CmA     1.0  9627.0     False         Active\n",
       "3    2.0     Remember_29_Sa     1.0  9627.0      True        Passive\n",
       "4    2.0    Realistic_29_Sa     4.0  9627.0      True        Passive"
      ]
     },
     "execution_count": 7,
     "metadata": {},
     "output_type": "execute_result"
    }
   ],
   "source": [
    "df.head()"
   ]
  },
  {
   "cell_type": "code",
   "execution_count": 8,
   "id": "e1d659b5",
   "metadata": {},
   "outputs": [
    {
     "data": {
      "text/plain": [
       "False    1848\n",
       "True     1848\n",
       "Name: avatarCat, dtype: int64"
      ]
     },
     "execution_count": 8,
     "metadata": {},
     "output_type": "execute_result"
    }
   ],
   "source": [
    "#Checking that value counts for Action and Standing avatars corresponds with the number of participants\n",
    "df.avatarCat.value_counts()"
   ]
  },
  {
   "cell_type": "code",
   "execution_count": 9,
   "id": "5c7b98ba",
   "metadata": {},
   "outputs": [
    {
     "ename": "TypeError",
     "evalue": "argument of type 'float' is not iterable",
     "output_type": "error",
     "traceback": [
      "\u001b[0;31m---------------------------------------------------------------------------\u001b[0m",
      "\u001b[0;31mTypeError\u001b[0m                                 Traceback (most recent call last)",
      "\u001b[0;32m<ipython-input-9-111027dabd4f>\u001b[0m in \u001b[0;36m<module>\u001b[0;34m\u001b[0m\n\u001b[1;32m      3\u001b[0m \u001b[0;34m\u001b[0m\u001b[0m\n\u001b[1;32m      4\u001b[0m \u001b[0;31m#Searching for a partial string 'ItemCat' in variable 'Item' to creat a new variable 'ItemCat'\u001b[0m\u001b[0;34m\u001b[0m\u001b[0;34m\u001b[0m\u001b[0;34m\u001b[0m\u001b[0m\n\u001b[0;32m----> 5\u001b[0;31m \u001b[0mextraRow\u001b[0m\u001b[0;34m(\u001b[0m\u001b[0mdf\u001b[0m\u001b[0;34m,\u001b[0m\u001b[0mitemCat\u001b[0m\u001b[0;34m,\u001b[0m\u001b[0;34m'item'\u001b[0m\u001b[0;34m,\u001b[0m\u001b[0;34m'itemCategory'\u001b[0m\u001b[0;34m)\u001b[0m\u001b[0;34m\u001b[0m\u001b[0;34m\u001b[0m\u001b[0m\n\u001b[0m\u001b[1;32m      6\u001b[0m \u001b[0mdf\u001b[0m\u001b[0;34m.\u001b[0m\u001b[0mtail\u001b[0m\u001b[0;34m(\u001b[0m\u001b[0;36m5\u001b[0m\u001b[0;34m)\u001b[0m\u001b[0;34m\u001b[0m\u001b[0;34m\u001b[0m\u001b[0m\n",
      "\u001b[0;32m<ipython-input-2-69545b93e994>\u001b[0m in \u001b[0;36mextraRow\u001b[0;34m(df, yourlist, variable, newVariable)\u001b[0m\n\u001b[1;32m     17\u001b[0m     \u001b[0;32mfor\u001b[0m \u001b[0midx\u001b[0m\u001b[0;34m,\u001b[0m \u001b[0mrow\u001b[0m \u001b[0;32min\u001b[0m \u001b[0mdf\u001b[0m\u001b[0;34m.\u001b[0m\u001b[0miterrows\u001b[0m\u001b[0;34m(\u001b[0m\u001b[0;34m)\u001b[0m\u001b[0;34m:\u001b[0m\u001b[0;34m\u001b[0m\u001b[0;34m\u001b[0m\u001b[0m\n\u001b[1;32m     18\u001b[0m         \u001b[0;32mfor\u001b[0m \u001b[0ml\u001b[0m \u001b[0;32min\u001b[0m \u001b[0myourlist\u001b[0m\u001b[0;34m:\u001b[0m\u001b[0;34m\u001b[0m\u001b[0;34m\u001b[0m\u001b[0m\n\u001b[0;32m---> 19\u001b[0;31m             \u001b[0;32mif\u001b[0m \u001b[0ml\u001b[0m \u001b[0;32min\u001b[0m \u001b[0mrow\u001b[0m\u001b[0;34m[\u001b[0m\u001b[0mvariable\u001b[0m\u001b[0;34m]\u001b[0m\u001b[0;34m:\u001b[0m\u001b[0;34m\u001b[0m\u001b[0;34m\u001b[0m\u001b[0m\n\u001b[0m\u001b[1;32m     20\u001b[0m                 \u001b[0mdf\u001b[0m\u001b[0;34m.\u001b[0m\u001b[0mloc\u001b[0m\u001b[0;34m[\u001b[0m\u001b[0midx\u001b[0m\u001b[0;34m,\u001b[0m \u001b[0mnewVariable\u001b[0m\u001b[0;34m]\u001b[0m \u001b[0;34m=\u001b[0m \u001b[0ml\u001b[0m\u001b[0;34m\u001b[0m\u001b[0;34m\u001b[0m\u001b[0m\n",
      "\u001b[0;31mTypeError\u001b[0m: argument of type 'float' is not iterable"
     ]
    }
   ],
   "source": [
    "#List of values for iteration search \n",
    "itemCat = ['Remember','Realistic', 'Attractive']\n",
    "\n",
    "#Searching for a partial string 'ItemCat' in variable 'Item' to creat a new variable 'ItemCat'\n",
    "extraRow(df,itemCat,'item','itemCategory')\n",
    "df.tail(5)"
   ]
  },
  {
   "cell_type": "code",
   "execution_count": null,
   "id": "dfcb31d8",
   "metadata": {},
   "outputs": [],
   "source": [
    "#Extracting the Avatar number from the variable 'Item'\n",
    "AvaIDs = []\n",
    "for idx, row in df.iterrows():\n",
    "    num = re.findall(r'\\d+', row['item']) \n",
    "    AvaIDs.append(num)\n",
    "    #Flatten the list: Every number was returned as a list of it's own with this we get one unified list\n",
    "    avatarIDsf = [item for sublist in AvaIDs for item in sublist]\n"
   ]
  },
  {
   "cell_type": "code",
   "execution_count": null,
   "id": "c1d4fa5f",
   "metadata": {},
   "outputs": [],
   "source": [
    "#Searching for a partial string contained in the lists \"AvatarIDsf\" in variable \"Item\" to creat a new variable \"AvatarID\"\n",
    "extraRow(df,avatarIDsf,'item','avatarID')\n",
    "df.head()"
   ]
  },
  {
   "cell_type": "code",
   "execution_count": null,
   "id": "6aa05fb2",
   "metadata": {
    "jupyter": {
     "outputs_hidden": false
    },
    "pycharm": {
     "name": "#%%\n"
    }
   },
   "outputs": [],
   "source": [
    "wide = df.pivot(index='ID', columns='item', values='likert')"
   ]
  },
  {
   "cell_type": "code",
   "execution_count": null,
   "id": "d26441b9",
   "metadata": {
    "jupyter": {
     "outputs_hidden": false
    },
    "pycharm": {
     "name": "#%%\n"
    }
   },
   "outputs": [],
   "source": [
    "os.chdir('/Volumes/Extreme SSD/HumanA/Data/Data_Tracy/Questionnaires/Adjusted')\n",
    "df.to_csv('CompleteLargeAvatarQues.cvs')"
   ]
  },
  {
   "cell_type": "markdown",
   "id": "30bb9963",
   "metadata": {},
   "source": [
    "# Descriptives "
   ]
  },
  {
   "cell_type": "code",
   "execution_count": null,
   "id": "24cda260",
   "metadata": {},
   "outputs": [],
   "source": [
    "#Average values Support and clarity \n",
    "df.groupby([ 'ID', 'avatarCategory','itemCategory'])['likert'].mean()"
   ]
  },
  {
   "cell_type": "code",
   "execution_count": null,
   "id": "e3494014",
   "metadata": {},
   "outputs": [],
   "source": [
    "#Average values Support and clarity \n",
    "df.groupby(['ID','avatarCategory','itemCategory'])['likert'].describe().sort_values(by='mean')"
   ]
  },
  {
   "cell_type": "code",
   "execution_count": null,
   "id": "61b10c57",
   "metadata": {},
   "outputs": [],
   "source": [
    "AvatarIDsL = df.pivot_table('likert',  'avatarID').sort_values(by='likert')\n",
    "AvatarIDsL"
   ]
  },
  {
   "cell_type": "markdown",
   "id": "ebeb7351",
   "metadata": {},
   "source": [
    "## Data Visualization"
   ]
  },
  {
   "cell_type": "code",
   "execution_count": null,
   "id": "634c217f",
   "metadata": {
    "jupyter": {
     "outputs_hidden": false
    },
    "pycharm": {
     "name": "#%%\n"
    }
   },
   "outputs": [],
   "source": [
    "# General seaborn design settings\n",
    "sns.set_palette(\"colorblind\")\n",
    "sns.set_style(\"white\")\n",
    "sns.set(rc={\"figure.figsize\":(12, 8)})\n",
    "sns.set(font_scale = 1.3)"
   ]
  },
  {
   "cell_type": "code",
   "execution_count": null,
   "id": "7fed5e2c",
   "metadata": {
    "jupyter": {
     "outputs_hidden": false
    },
    "pycharm": {
     "name": "#%%\n"
    }
   },
   "outputs": [],
   "source": [
    "fig, axes = plt.subplots(nrows=1, ncols=2, figsize=(16,4))\n",
    "\n",
    "sns.violinplot(data= df, x='avatarCategory', y='likert', ax=axes[0])\n",
    "axes[0].set_xticklabels(['Meaningful', 'Not meaningful'])\n",
    "axes[0].set_xlabel('Agent Category')\n",
    "axes[0].set_ylabel('Average likert rating across all items')\n",
    "\n",
    "sns.violinplot(data= df, x='itemCategory', y='likert', hue= 'avatarCategory',  ax=axes[1])\n",
    "#Getting the legend components in order to not lose color when reassigning labels\n",
    "handles, labels = axes[1].get_legend_handles_labels()\n",
    "labels = ['Meaningful', 'Not meaningful']\n",
    "axes[1].legend(handles, labels, bbox_to_anchor=(1.05, 1), loc=2, borderaxespad=0., title='Agent Category')\n",
    "axes[1].set_xticklabels(['Easy to remember', 'Realistic', 'Attractive'])\n",
    "axes[1].set_ylabel('Average likert rating')\n",
    "axes[1].set_xlabel('Question category')"
   ]
  },
  {
   "cell_type": "code",
   "execution_count": null,
   "id": "4b342b47",
   "metadata": {},
   "outputs": [],
   "source": [
    "fig, axes = plt.subplots(nrows=1, ncols=2, figsize=(16,4))\n",
    "\n",
    "sns.boxplot(data= df, x='avatarCategory', y='likert',   medianprops=dict(color=\"black\", alpha=0.7), ax=axes[0])\n",
    "axes[0].set_xticklabels(['Active', 'Passive'])\n",
    "axes[0].set_xlabel('Agent Category')\n",
    "axes[0].set_ylabel('Average likert rating across all items')\n",
    "\n",
    "sns.boxplot(data= df, x='itemCategory', y='likert', hue= 'avatarCategory', medianprops=dict(color=\"black\", alpha=0.7), ax=axes[1])\n",
    "#Getting the legend components in order to not lose color when reassigning labels\n",
    "handles, labels = axes[1].get_legend_handles_labels()\n",
    "labels = ['Active', 'Passive']\n",
    "axes[1].legend(handles, labels, bbox_to_anchor=(1.05, 1), loc=2, borderaxespad=0., title='Agent Category')\n",
    "axes[1].set_xticklabels(['Easy to remember', 'Realistic', 'Attractive'])\n",
    "axes[1].set_ylabel('Average likert rating')\n",
    "axes[1].set_xlabel('Question category')"
   ]
  },
  {
   "cell_type": "code",
   "execution_count": null,
   "id": "95fb980e",
   "metadata": {},
   "outputs": [],
   "source": [
    "fig, axes = plt.subplots(nrows=1, ncols=1, figsize=(18,10))\n",
    "sns.boxplot(data= df, x='avatarID', y='likert')\n",
    "plt.yticks(rotation=90)\n",
    "plt.show()"
   ]
  },
  {
   "cell_type": "code",
   "execution_count": null,
   "id": "5b588c5f",
   "metadata": {},
   "outputs": [],
   "source": [
    "dy='itemCategory'; dx='likert'; ort='h'; pal = sns.color_palette(); sigma = .2\n",
    "f, ax = plt.subplots(figsize=(7, 5))\n",
    "\n",
    "ax=pt.half_violinplot( x = dx, y = dy, data = df, palette = pal, bw = .2, cut = 0.,\n",
    "                      scale = 'area', width = .6, inner = None, orient = ort)\n",
    "ax=sns.stripplot( x = dx, y = dy, data = df, palette = pal, edgecolor = 'white',\n",
    "                 size = 3, jitter = 1, zorder = 0, orient = ort)\n",
    "ax=sns.boxplot( x = dx, y = dy, data = df, color = 'black', width = .15, zorder = 10,\\\n",
    "            showcaps = True, boxprops = {'facecolor':'none', 'zorder':10},\\\n",
    "            showfliers=True, whiskerprops = {'linewidth':2, 'zorder':10},\\\n",
    "               saturation = 1, orient = ort) "
   ]
  },
  {
   "cell_type": "markdown",
   "id": "1fdfd84b",
   "metadata": {},
   "source": [
    "## Data analysis"
   ]
  },
  {
   "cell_type": "code",
   "execution_count": null,
   "id": "59e9ba6c",
   "metadata": {
    "jupyter": {
     "outputs_hidden": false
    },
    "pycharm": {
     "name": "#%%\n"
    }
   },
   "outputs": [],
   "source": [
    "df.head()"
   ]
  },
  {
   "cell_type": "code",
   "execution_count": null,
   "id": "e208e16f",
   "metadata": {
    "jupyter": {
     "outputs_hidden": false
    },
    "pycharm": {
     "name": "#%%\n"
    }
   },
   "outputs": [],
   "source": [
    "from sklearn.datasets import load_iris\n",
    "from factor_analyzer import FactorAnalyzer\n",
    "from factor_analyzer.factor_analyzer import calculate_bartlett_sphericity\n",
    "from factor_analyzer.factor_analyzer import calculate_kmo\n",
    "\n",
    "#Droppin Nas\n",
    "wide.dropna(inplace=True);\n",
    "\n",
    "#Adecuacy test\n",
    "\n",
    "#Barlets sphericity: A significative p value indicates the date is different from an identity matrix\n",
    "chi_square_value, p_value = calculate_bartlett_sphericity(wide)\n",
    "print(chi_square_value, p_value)\n",
    "\n",
    "# Kaiser-Meyer-Olkin (KMO): Estimates the proportion of variance among all observed variables, less than 0.6 is inadequate\n",
    "kmo_all, kmo_model = calculate_kmo(wide)\n",
    "print(kmo_model)\n",
    "#Create factor analysis object and perform analysis\n",
    "fa = FactorAnalyzer(rotation='varimax')\n",
    "fa.fit(wide)\n",
    "\n",
    "loadings = fa.loadings_\n",
    "\n",
    "# Get the eigenvector\n",
    "ev, v = fa.get_eigenvalues()\n",
    "\n",
    "xvals = range(1, wide.shape[1] + 1)\n",
    "plt.scatter(xvals, ev)\n",
    "plt.plot(xvals, ev)\n",
    "plt.title('Scree Plot')\n",
    "plt.xlabel('Factor')\n",
    "plt.ylabel('Eigenvalue')\n",
    "plt.grid()\n",
    "plt.show()"
   ]
  },
  {
   "cell_type": "code",
   "execution_count": null,
   "id": "09bc17ef",
   "metadata": {
    "jupyter": {
     "outputs_hidden": false
    },
    "pycharm": {
     "name": "#%%\n"
    }
   },
   "outputs": [],
   "source": [
    "wide = pd.DataFrame(wide)\n",
    "wide.describe()"
   ]
  },
  {
   "cell_type": "code",
   "execution_count": null,
   "id": "f68bed5f",
   "metadata": {
    "jupyter": {
     "outputs_hidden": false
    },
    "pycharm": {
     "name": "#%%\n"
    }
   },
   "outputs": [],
   "source": [
    "kmo_model"
   ]
  },
  {
   "cell_type": "code",
   "execution_count": null,
   "id": "d68413b2",
   "metadata": {
    "jupyter": {
     "outputs_hidden": false
    },
    "pycharm": {
     "name": "#%%\n"
    }
   },
   "outputs": [],
   "source": [
    "from statsmodels.stats.anova import AnovaRM\n",
    "help(AnovaRM)"
   ]
  },
  {
   "cell_type": "code",
   "execution_count": null,
   "id": "336737b3",
   "metadata": {
    "jupyter": {
     "outputs_hidden": false
    },
    "pycharm": {
     "name": "#%%\n"
    }
   },
   "outputs": [],
   "source": [
    "df.boxplot([\"likert\"], by = [\"avatarCategory\", \"itemCategory\"],\n",
    "           figsize = (16, 9),\n",
    "           showmeans = True,\n",
    "           notch = True)"
   ]
  },
  {
   "cell_type": "code",
   "execution_count": null,
   "id": "6349c375",
   "metadata": {
    "jupyter": {
     "outputs_hidden": false
    },
    "pycharm": {
     "name": "#%%\n"
    }
   },
   "outputs": [],
   "source": [
    "# Separete data set into question category's\n",
    "df1 = df[df['itemCategory']== 'Remember']\n",
    "df2 = df[df['itemCategory']== 'Attractive']\n",
    "df3 = df[df['itemCategory']== 'Realistic']\n",
    "df1.head()"
   ]
  },
  {
   "cell_type": "code",
   "execution_count": null,
   "id": "a25a3ac1",
   "metadata": {
    "jupyter": {
     "outputs_hidden": false
    },
    "pycharm": {
     "name": "#%%\n"
    }
   },
   "outputs": [],
   "source": [
    "#Sum all likert punctuations for the question on how well they remember by participant and avatar category\n",
    "Topivot = pd.DataFrame(df1.groupby([ 'ID', 'avatarCategory'])['likert'].mean())\n",
    "#Reformat to a wide dataframe\n",
    "AvatarSum = pd.DataFrame(Topivot.pivot_table(index='ID', columns='avatarCategory', values='likert'))\n",
    "AvatarSum.reset_index(drop=True)"
   ]
  },
  {
   "cell_type": "code",
   "execution_count": null,
   "id": "0f53c605",
   "metadata": {
    "jupyter": {
     "outputs_hidden": false
    },
    "pycharm": {
     "name": "#%%\n"
    }
   },
   "outputs": [],
   "source": [
    "AvatarSum.rename(columns={\n",
    "    AvatarSum.columns[0]: 'remember_action_likert',\n",
    "    AvatarSum.columns[1]: 'remember_standing_likert'}, inplace=True)"
   ]
  },
  {
   "cell_type": "code",
   "execution_count": null,
   "id": "c8088457",
   "metadata": {
    "jupyter": {
     "outputs_hidden": false
    },
    "pycharm": {
     "name": "#%%\n"
    }
   },
   "outputs": [],
   "source": [
    "#Sum all likert punctuations for the question on how well they remember by participant and avatar category\n",
    "Topivot1 = pd.DataFrame(df2.groupby([ 'ID', 'avatarCategory'])['likert'].mean())\n",
    "#Reformat to a wide dataframe\n",
    "AvatarSum1 = pd.DataFrame(Topivot1.pivot_table(index='ID', columns='avatarCategory', values='likert'))\n",
    "AvatarSum1.reset_index(drop=True)"
   ]
  },
  {
   "cell_type": "code",
   "execution_count": null,
   "id": "8e15860a",
   "metadata": {
    "jupyter": {
     "outputs_hidden": false
    },
    "pycharm": {
     "name": "#%%\n"
    }
   },
   "outputs": [],
   "source": [
    "AvatarSum1.rename(columns={\n",
    "    AvatarSum1.columns[0]: 'attractive_action_likert',\n",
    "    AvatarSum1.columns[1]: 'attractive_standing_likert'}, inplace=True)"
   ]
  },
  {
   "cell_type": "code",
   "execution_count": null,
   "id": "2d1f9d84",
   "metadata": {
    "jupyter": {
     "outputs_hidden": false
    },
    "pycharm": {
     "name": "#%%\n"
    }
   },
   "outputs": [],
   "source": [
    "#Sum all likert punctuations for the question on how well they remember by participant and avatar category\n",
    "Topivot2 = pd.DataFrame(df3.groupby([ 'ID', 'avatarCategory'])['likert'].mean())\n",
    "#Reformat to a wide dataframe\n",
    "AvatarSum2 = pd.DataFrame(Topivot2.pivot_table(index='ID', columns='avatarCategory', values='likert'))\n",
    "AvatarSum2.reset_index(drop=True)"
   ]
  },
  {
   "cell_type": "code",
   "execution_count": null,
   "id": "4a100518",
   "metadata": {
    "jupyter": {
     "outputs_hidden": false
    },
    "pycharm": {
     "name": "#%%\n"
    }
   },
   "outputs": [],
   "source": [
    "AvatarSum2.rename(columns={\n",
    "    AvatarSum2.columns[0]: 'realistic_action_likert',\n",
    "    AvatarSum2.columns[1]: 'realistic_standing_likert'}, inplace=True)"
   ]
  },
  {
   "cell_type": "code",
   "execution_count": null,
   "id": "f594e4c2",
   "metadata": {
    "jupyter": {
     "outputs_hidden": false
    },
    "pycharm": {
     "name": "#%%\n"
    }
   },
   "outputs": [],
   "source": [
    "data_frames = [AvatarSum, AvatarSum1, AvatarSum2]\n",
    "AgentQuest = reduce(lambda  left,right: pd.merge(left,right,on=['ID'],\n",
    "                                                         how='outer'), data_frames)\n",
    "AgentQuest.head()"
   ]
  },
  {
   "cell_type": "code",
   "execution_count": null,
   "id": "252f2e5f",
   "metadata": {
    "jupyter": {
     "outputs_hidden": false
    },
    "pycharm": {
     "name": "#%%\n"
    }
   },
   "outputs": [],
   "source": [
    "AgentQuest.to_csv('AgentQuest.csv')\n",
    "wide.to_csv('AvatarQuestWide.csv')"
   ]
  },
  {
   "cell_type": "code",
   "execution_count": null,
   "id": "ce7b143c",
   "metadata": {
    "jupyter": {
     "outputs_hidden": false
    },
    "pycharm": {
     "name": "#%%\n"
    }
   },
   "outputs": [],
   "source": [
    "print(AnovaRM(data=df, depvar='likert', subject='ID', within=['avatarCategory', 'itemCategory'], aggregate_func = 'median').fit())"
   ]
  },
  {
   "cell_type": "code",
   "execution_count": null,
   "id": "80783049",
   "metadata": {
    "jupyter": {
     "outputs_hidden": false
    },
    "pycharm": {
     "name": "#%%\n"
    }
   },
   "outputs": [],
   "source": [
    "from statsmodels.formula.api import ols, glm\n",
    "import statsmodels.api as sm\n",
    "import statsmodels.formula.api as smf"
   ]
  },
  {
   "cell_type": "code",
   "execution_count": null,
   "id": "aedb43fc",
   "metadata": {
    "jupyter": {
     "outputs_hidden": false
    },
    "pycharm": {
     "name": "#%%\n"
    }
   },
   "outputs": [],
   "source": [
    "# Define model formula\n",
    "formula = 'likert  ~ C(avatarCategory, Treatment(reference=\"Passive\")) + C(itemCategory, Treatment(reference=\"Realistic\")) + C(avatarCategory, Treatment(reference=\"Passive\")):C(itemCategory, Treatment(reference=\"Realistic\"))'\n",
    "\n",
    "# Define and fit a linear regression model\n",
    "model_LM = smf.mixedlm(formula = formula, data = df, groups=df['ID']).fit()\n",
    "print(model_LM.summary())\n",
    "model_LM.t_test(np.array([[0,1,1,0,0,0]]))"
   ]
  },
  {
   "cell_type": "code",
   "execution_count": null,
   "id": "6b30b0dd",
   "metadata": {
    "jupyter": {
     "outputs_hidden": false
    },
    "pycharm": {
     "name": "#%%\n"
    }
   },
   "outputs": [],
   "source": [
    "ax = sns.boxplot(x = model_LM.model.groups, y = model_LM.resid)\n",
    "\n",
    "ax.set_title(\"Distribution of Residuals per subject\")\n",
    "ax.set_ylabel(\"Residuals\")\n",
    "ax.set_xlabel(\"Subject\")\n",
    "plt.xticks(rotation = 45)"
   ]
  },
  {
   "cell_type": "code",
   "execution_count": null,
   "id": "37f3d340",
   "metadata": {
    "jupyter": {
     "outputs_hidden": false
    },
    "pycharm": {
     "name": "#%%\n"
    }
   },
   "outputs": [],
   "source": [
    "df['AgentCat_ItemCat'] =  df['avatarCategory'] + '_' + df['itemCategory']\n",
    "df.head()"
   ]
  },
  {
   "cell_type": "code",
   "execution_count": null,
   "id": "a7d3d680",
   "metadata": {
    "jupyter": {
     "outputs_hidden": false
    },
    "pycharm": {
     "name": "#%%\n"
    }
   },
   "outputs": [],
   "source": [
    "df_Dunn = df[['AgentCat_ItemCat', 'likert']]"
   ]
  },
  {
   "cell_type": "code",
   "execution_count": null,
   "id": "1dce9802",
   "metadata": {
    "jupyter": {
     "outputs_hidden": false
    },
    "pycharm": {
     "name": "#%%\n"
    }
   },
   "outputs": [],
   "source": [
    "import scikit_posthocs as sp\n",
    "posthoc = sp.posthoc_dunn(df_Dunn, val_col='likert', group_col='AgentCat_ItemCat', p_adjust = 'bonferroni')\n",
    "posthoc\n",
    "\n",
    "def highlight_sig(s):\n",
    "    is_sig = s < 0.0019\n",
    "    return ['background-color: cyan' if v else '' for v in is_sig]\n",
    "posthoc.style.apply(highlight_sig)"
   ]
  },
  {
   "cell_type": "code",
   "execution_count": null,
   "id": "e42682be",
   "metadata": {
    "jupyter": {
     "outputs_hidden": false
    },
    "pycharm": {
     "name": "#%%\n"
    }
   },
   "outputs": [],
   "source": []
  }
 ],
 "metadata": {
  "kernelspec": {
   "display_name": "Python 3",
   "language": "python",
   "name": "python3"
  },
  "language_info": {
   "codemirror_mode": {
    "name": "ipython",
    "version": 3
   },
   "file_extension": ".py",
   "mimetype": "text/x-python",
   "name": "python",
   "nbconvert_exporter": "python",
   "pygments_lexer": "ipython3",
   "version": "3.8.8"
  },
  "toc-autonumbering": true
 },
 "nbformat": 4,
 "nbformat_minor": 5
}
