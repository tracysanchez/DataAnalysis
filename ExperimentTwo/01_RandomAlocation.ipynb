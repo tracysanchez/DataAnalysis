{
 "cells": [
  {
   "cell_type": "markdown",
   "source": [
    "## Random alocation for second experiment\n",
    "\n",
    "In this experiment we will switch set all non_ meaningful agents into meaningful locations and the meaningful agents into residential areas"
   ],
   "attachments": {},
   "metadata": {
    "datalore": {
     "type": "MD",
     "hide_input_from_viewers": false,
     "hide_output_from_viewers": false,
     "node_id": "YLC4ZAFRd02f8ZtuH6KO2f"
    }
   }
  },
  {
   "cell_type": "code",
   "source": [
    "import pandas as pd\n",
    "import random\n",
    "import numpy as np"
   ],
   "execution_count": 66,
   "outputs": [],
   "metadata": {
    "datalore": {
     "type": "CODE",
     "hide_input_from_viewers": false,
     "hide_output_from_viewers": false,
     "node_id": "HJH6ftVaDhLDtpz6fGRPEg"
    }
   }
  },
  {
   "cell_type": "code",
   "source": [
    "BuildingIDs = pd.read_csv('/Users/tracysanchezpacheco/Documents/Resources/BuildingCoordinates_short.csv')\n",
    "BuildingIDs.head()"
   ],
   "execution_count": 61,
   "outputs": [
    {
     "data": {
      "text/plain": "   Unnamed: 0  BuildingCenterWorld.x  BuildingCenterWorld.z     Name  \\\n0           0             255.062286             -18.984482  30_SaNo   \n1           1             255.062286             -18.984482    30_Sa   \n2           2             197.370117             234.419739  3_CmANo   \n3           3             197.370117             234.419739    3_CmA   \n4           4             132.904114              29.115139   13_CmA   \n\n     BuildingName  PointingTargetBuildingId  AgentID PointingTargetCondition  \\\n0  TaskBuilding_1                         1       30                    SaNo   \n1  TaskBuilding_1                         1       30                      Sa   \n2  TaskBuilding_2                         2        3                   CmANo   \n3  TaskBuilding_2                         2        3                     CmA   \n4  TaskBuilding_3                         3       13                     CmA   \n\n   Context  Agent  \n0    False  False  \n1    False   True  \n2     True  False  \n3     True   True  \n4     True   True  ",
      "text/html": "<div>\n<style scoped>\n    .dataframe tbody tr th:only-of-type {\n        vertical-align: middle;\n    }\n\n    .dataframe tbody tr th {\n        vertical-align: top;\n    }\n\n    .dataframe thead th {\n        text-align: right;\n    }\n</style>\n<table border=\"1\" class=\"dataframe\">\n  <thead>\n    <tr style=\"text-align: right;\">\n      <th></th>\n      <th>Unnamed: 0</th>\n      <th>BuildingCenterWorld.x</th>\n      <th>BuildingCenterWorld.z</th>\n      <th>Name</th>\n      <th>BuildingName</th>\n      <th>PointingTargetBuildingId</th>\n      <th>AgentID</th>\n      <th>PointingTargetCondition</th>\n      <th>Context</th>\n      <th>Agent</th>\n    </tr>\n  </thead>\n  <tbody>\n    <tr>\n      <th>0</th>\n      <td>0</td>\n      <td>255.062286</td>\n      <td>-18.984482</td>\n      <td>30_SaNo</td>\n      <td>TaskBuilding_1</td>\n      <td>1</td>\n      <td>30</td>\n      <td>SaNo</td>\n      <td>False</td>\n      <td>False</td>\n    </tr>\n    <tr>\n      <th>1</th>\n      <td>1</td>\n      <td>255.062286</td>\n      <td>-18.984482</td>\n      <td>30_Sa</td>\n      <td>TaskBuilding_1</td>\n      <td>1</td>\n      <td>30</td>\n      <td>Sa</td>\n      <td>False</td>\n      <td>True</td>\n    </tr>\n    <tr>\n      <th>2</th>\n      <td>2</td>\n      <td>197.370117</td>\n      <td>234.419739</td>\n      <td>3_CmANo</td>\n      <td>TaskBuilding_2</td>\n      <td>2</td>\n      <td>3</td>\n      <td>CmANo</td>\n      <td>True</td>\n      <td>False</td>\n    </tr>\n    <tr>\n      <th>3</th>\n      <td>3</td>\n      <td>197.370117</td>\n      <td>234.419739</td>\n      <td>3_CmA</td>\n      <td>TaskBuilding_2</td>\n      <td>2</td>\n      <td>3</td>\n      <td>CmA</td>\n      <td>True</td>\n      <td>True</td>\n    </tr>\n    <tr>\n      <th>4</th>\n      <td>4</td>\n      <td>132.904114</td>\n      <td>29.115139</td>\n      <td>13_CmA</td>\n      <td>TaskBuilding_3</td>\n      <td>3</td>\n      <td>13</td>\n      <td>CmA</td>\n      <td>True</td>\n      <td>True</td>\n    </tr>\n  </tbody>\n</table>\n</div>"
     },
     "execution_count": 61,
     "metadata": {},
     "output_type": "execute_result"
    }
   ],
   "metadata": {
    "datalore": {
     "type": "CODE",
     "hide_input_from_viewers": false,
     "hide_output_from_viewers": false,
     "node_id": "5EYaBw181WNzQZWibywrFC"
    }
   }
  },
  {
   "cell_type": "code",
   "execution_count": 62,
   "outputs": [
    {
     "name": "stdout",
     "output_type": "stream",
     "text": [
      "<class 'pandas.core.frame.DataFrame'>\n",
      "RangeIndex: 56 entries, 0 to 55\n",
      "Data columns (total 4 columns):\n",
      " #   Column                    Non-Null Count  Dtype \n",
      "---  ------                    --------------  ----- \n",
      " 0   AgentID                   56 non-null     int64 \n",
      " 1   BuildingName              56 non-null     object\n",
      " 2   PointingTargetBuildingId  56 non-null     int64 \n",
      " 3   Context                   56 non-null     bool  \n",
      "dtypes: bool(1), int64(2), object(1)\n",
      "memory usage: 1.5+ KB\n",
      "None\n"
     ]
    },
    {
     "data": {
      "text/plain": "    AgentID                BuildingName  PointingTargetBuildingId  Context\n51       52             TaskBuilding_48                        48    False\n52       53             TaskBuilding_54                        54    False\n53       54             TaskBuilding_55                        55    False\n54       55  Windmill-TaskBuilding_10_1                        10    False\n55       56    HighSilo-TaskBuilding_49                        49    False",
      "text/html": "<div>\n<style scoped>\n    .dataframe tbody tr th:only-of-type {\n        vertical-align: middle;\n    }\n\n    .dataframe tbody tr th {\n        vertical-align: top;\n    }\n\n    .dataframe thead th {\n        text-align: right;\n    }\n</style>\n<table border=\"1\" class=\"dataframe\">\n  <thead>\n    <tr style=\"text-align: right;\">\n      <th></th>\n      <th>AgentID</th>\n      <th>BuildingName</th>\n      <th>PointingTargetBuildingId</th>\n      <th>Context</th>\n    </tr>\n  </thead>\n  <tbody>\n    <tr>\n      <th>51</th>\n      <td>52</td>\n      <td>TaskBuilding_48</td>\n      <td>48</td>\n      <td>False</td>\n    </tr>\n    <tr>\n      <th>52</th>\n      <td>53</td>\n      <td>TaskBuilding_54</td>\n      <td>54</td>\n      <td>False</td>\n    </tr>\n    <tr>\n      <th>53</th>\n      <td>54</td>\n      <td>TaskBuilding_55</td>\n      <td>55</td>\n      <td>False</td>\n    </tr>\n    <tr>\n      <th>54</th>\n      <td>55</td>\n      <td>Windmill-TaskBuilding_10_1</td>\n      <td>10</td>\n      <td>False</td>\n    </tr>\n    <tr>\n      <th>55</th>\n      <td>56</td>\n      <td>HighSilo-TaskBuilding_49</td>\n      <td>49</td>\n      <td>False</td>\n    </tr>\n  </tbody>\n</table>\n</div>"
     },
     "execution_count": 62,
     "metadata": {},
     "output_type": "execute_result"
    }
   ],
   "source": [
    "#Grouping data to get a key  of agent-building\n",
    "Building_Agent = pd.DataFrame(BuildingIDs.groupby(['AgentID', 'BuildingName', 'PointingTargetBuildingId', 'Context'])['Agent'].count())\n",
    "Building_Agent.drop('Agent', axis=1, inplace=True)\n",
    "Building_Agent.reset_index(inplace=True)\n",
    "print(Building_Agent.info())\n",
    "Building_Agent.tail()"
   ],
   "metadata": {
    "collapsed": false,
    "pycharm": {
     "name": "#%%\n"
    }
   }
  },
  {
   "cell_type": "code",
   "execution_count": 65,
   "outputs": [
    {
     "data": {
      "text/plain": "   AgentID     BuildingName  PointingTargetBuildingId  Context  AgentID_Exp2\n0        1  TaskBuilding_14                        14     True            54\n1        2  TaskBuilding_41                        41     True            43\n2        3   TaskBuilding_2                         2     True            40\n3        4  TaskBuilding_47                        47     True            52\n4        5  Construction_57                        57     True            35",
      "text/html": "<div>\n<style scoped>\n    .dataframe tbody tr th:only-of-type {\n        vertical-align: middle;\n    }\n\n    .dataframe tbody tr th {\n        vertical-align: top;\n    }\n\n    .dataframe thead th {\n        text-align: right;\n    }\n</style>\n<table border=\"1\" class=\"dataframe\">\n  <thead>\n    <tr style=\"text-align: right;\">\n      <th></th>\n      <th>AgentID</th>\n      <th>BuildingName</th>\n      <th>PointingTargetBuildingId</th>\n      <th>Context</th>\n      <th>AgentID_Exp2</th>\n    </tr>\n  </thead>\n  <tbody>\n    <tr>\n      <th>0</th>\n      <td>1</td>\n      <td>TaskBuilding_14</td>\n      <td>14</td>\n      <td>True</td>\n      <td>54</td>\n    </tr>\n    <tr>\n      <th>1</th>\n      <td>2</td>\n      <td>TaskBuilding_41</td>\n      <td>41</td>\n      <td>True</td>\n      <td>43</td>\n    </tr>\n    <tr>\n      <th>2</th>\n      <td>3</td>\n      <td>TaskBuilding_2</td>\n      <td>2</td>\n      <td>True</td>\n      <td>40</td>\n    </tr>\n    <tr>\n      <th>3</th>\n      <td>4</td>\n      <td>TaskBuilding_47</td>\n      <td>47</td>\n      <td>True</td>\n      <td>52</td>\n    </tr>\n    <tr>\n      <th>4</th>\n      <td>5</td>\n      <td>Construction_57</td>\n      <td>57</td>\n      <td>True</td>\n      <td>35</td>\n    </tr>\n  </tbody>\n</table>\n</div>"
     },
     "execution_count": 65,
     "metadata": {},
     "output_type": "execute_result"
    }
   ],
   "source": [
    "#Randomly assigning non meaningful agents to meaningful locations\n",
    "Meaningful_Agents = list(range(1,29))#The original agent ID for non meaningful locations go from 1 to 28\n",
    "Standing_Agents = list(range(29,57)) #The original agent ID for non meaningful locations go from 29 to 56\n",
    "random.seed(7) # for reproducibility\n",
    "\n",
    "# We shuffle the IDs to later add to our data set for reasignation\n",
    "random.shuffle(Meaningful_Agents)\n",
    "random.shuffle(Standing_Agents)\n",
    "AgentID_Exp2 = [*Standing_Agents, *Meaningful_Agents]  # We concat Standing_Agents first because the first 28 buildings of Building_Agent are meaningful\n",
    "Building_Agent['AgentID_Exp2'] = AgentID_Exp2\n",
    "\n",
    "Building_Agent.head()"
   ],
   "metadata": {
    "collapsed": false,
    "pycharm": {
     "name": "#%%\n"
    }
   }
  },
  {
   "cell_type": "code",
   "execution_count": 67,
   "outputs": [
    {
     "data": {
      "text/plain": "1596"
     },
     "execution_count": 67,
     "metadata": {},
     "output_type": "execute_result"
    }
   ],
   "source": [
    "np.sum(Building_Agent.AgentID_Exp2)"
   ],
   "metadata": {
    "collapsed": false,
    "pycharm": {
     "name": "#%%\n"
    }
   }
  }
 ],
 "metadata": {
  "kernelspec": {
   "name": "python3",
   "language": "python",
   "display_name": "Python 3"
  },
  "datalore": {
   "version": 1,
   "computation_mode": "JUPYTER",
   "package_manager": "pip",
   "base_environment": "default",
   "packages": []
  }
 },
 "nbformat": 4,
 "nbformat_minor": 4
}