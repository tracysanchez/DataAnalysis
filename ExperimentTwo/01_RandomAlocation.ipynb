{
 "cells": [
  {
   "cell_type": "markdown",
   "source": [
    "## Random alocation for second experiment\n",
    "\n",
    "In this experiment we will switch set all non_ meaningful agents into meaningful locations and the meaningful agents into residential areas"
   ],
   "attachments": {},
   "metadata": {
    "datalore": {
     "type": "MD",
     "hide_input_from_viewers": false,
     "hide_output_from_viewers": false,
     "node_id": "YLC4ZAFRd02f8ZtuH6KO2f"
    }
   }
  },
  {
   "cell_type": "code",
   "source": [
    "import pandas as pd\n",
    "import random\n",
    "import numpy as np"
   ],
   "execution_count": 18,
   "outputs": [],
   "metadata": {
    "datalore": {
     "type": "CODE",
     "hide_input_from_viewers": false,
     "hide_output_from_viewers": false,
     "node_id": "HJH6ftVaDhLDtpz6fGRPEg"
    }
   }
  },
  {
   "cell_type": "code",
   "source": [
    "BuildingIDs = pd.read_csv('/Users/tracysanchezpacheco/Documents/Resources/BuildingCoordinates_short.csv')\n",
    "BuildingIDs.head()"
   ],
   "execution_count": 19,
   "outputs": [
    {
     "data": {
      "text/plain": "   Unnamed: 0  BuildingCenterWorld.x  BuildingCenterWorld.z     Name  \\\n0           0             255.062286             -18.984482  30_SaNo   \n1           1             255.062286             -18.984482    30_Sa   \n2           2             197.370117             234.419739  3_CmANo   \n3           3             197.370117             234.419739    3_CmA   \n4           4             132.904114              29.115139   13_CmA   \n\n     BuildingName  PointingTargetBuildingId  AgentID PointingTargetCondition  \\\n0  TaskBuilding_1                         1       30                    SaNo   \n1  TaskBuilding_1                         1       30                      Sa   \n2  TaskBuilding_2                         2        3                   CmANo   \n3  TaskBuilding_2                         2        3                     CmA   \n4  TaskBuilding_3                         3       13                     CmA   \n\n   Context  Agent  \n0    False  False  \n1    False   True  \n2     True  False  \n3     True   True  \n4     True   True  ",
      "text/html": "<div>\n<style scoped>\n    .dataframe tbody tr th:only-of-type {\n        vertical-align: middle;\n    }\n\n    .dataframe tbody tr th {\n        vertical-align: top;\n    }\n\n    .dataframe thead th {\n        text-align: right;\n    }\n</style>\n<table border=\"1\" class=\"dataframe\">\n  <thead>\n    <tr style=\"text-align: right;\">\n      <th></th>\n      <th>Unnamed: 0</th>\n      <th>BuildingCenterWorld.x</th>\n      <th>BuildingCenterWorld.z</th>\n      <th>Name</th>\n      <th>BuildingName</th>\n      <th>PointingTargetBuildingId</th>\n      <th>AgentID</th>\n      <th>PointingTargetCondition</th>\n      <th>Context</th>\n      <th>Agent</th>\n    </tr>\n  </thead>\n  <tbody>\n    <tr>\n      <th>0</th>\n      <td>0</td>\n      <td>255.062286</td>\n      <td>-18.984482</td>\n      <td>30_SaNo</td>\n      <td>TaskBuilding_1</td>\n      <td>1</td>\n      <td>30</td>\n      <td>SaNo</td>\n      <td>False</td>\n      <td>False</td>\n    </tr>\n    <tr>\n      <th>1</th>\n      <td>1</td>\n      <td>255.062286</td>\n      <td>-18.984482</td>\n      <td>30_Sa</td>\n      <td>TaskBuilding_1</td>\n      <td>1</td>\n      <td>30</td>\n      <td>Sa</td>\n      <td>False</td>\n      <td>True</td>\n    </tr>\n    <tr>\n      <th>2</th>\n      <td>2</td>\n      <td>197.370117</td>\n      <td>234.419739</td>\n      <td>3_CmANo</td>\n      <td>TaskBuilding_2</td>\n      <td>2</td>\n      <td>3</td>\n      <td>CmANo</td>\n      <td>True</td>\n      <td>False</td>\n    </tr>\n    <tr>\n      <th>3</th>\n      <td>3</td>\n      <td>197.370117</td>\n      <td>234.419739</td>\n      <td>3_CmA</td>\n      <td>TaskBuilding_2</td>\n      <td>2</td>\n      <td>3</td>\n      <td>CmA</td>\n      <td>True</td>\n      <td>True</td>\n    </tr>\n    <tr>\n      <th>4</th>\n      <td>4</td>\n      <td>132.904114</td>\n      <td>29.115139</td>\n      <td>13_CmA</td>\n      <td>TaskBuilding_3</td>\n      <td>3</td>\n      <td>13</td>\n      <td>CmA</td>\n      <td>True</td>\n      <td>True</td>\n    </tr>\n  </tbody>\n</table>\n</div>"
     },
     "execution_count": 19,
     "metadata": {},
     "output_type": "execute_result"
    }
   ],
   "metadata": {
    "datalore": {
     "type": "CODE",
     "hide_input_from_viewers": false,
     "hide_output_from_viewers": false,
     "node_id": "5EYaBw181WNzQZWibywrFC"
    }
   }
  },
  {
   "cell_type": "code",
   "execution_count": 20,
   "outputs": [
    {
     "name": "stdout",
     "output_type": "stream",
     "text": [
      "<class 'pandas.core.frame.DataFrame'>\n",
      "RangeIndex: 56 entries, 0 to 55\n",
      "Data columns (total 4 columns):\n",
      " #   Column                    Non-Null Count  Dtype \n",
      "---  ------                    --------------  ----- \n",
      " 0   AgentID                   56 non-null     int64 \n",
      " 1   BuildingName              56 non-null     object\n",
      " 2   PointingTargetBuildingId  56 non-null     int64 \n",
      " 3   Context                   56 non-null     bool  \n",
      "dtypes: bool(1), int64(2), object(1)\n",
      "memory usage: 1.5+ KB\n",
      "None\n"
     ]
    },
    {
     "data": {
      "text/plain": "    AgentID                BuildingName  PointingTargetBuildingId  Context\n51       52             TaskBuilding_48                        48    False\n52       53             TaskBuilding_54                        54    False\n53       54             TaskBuilding_55                        55    False\n54       55  Windmill-TaskBuilding_10_1                        10    False\n55       56    HighSilo-TaskBuilding_49                        49    False",
      "text/html": "<div>\n<style scoped>\n    .dataframe tbody tr th:only-of-type {\n        vertical-align: middle;\n    }\n\n    .dataframe tbody tr th {\n        vertical-align: top;\n    }\n\n    .dataframe thead th {\n        text-align: right;\n    }\n</style>\n<table border=\"1\" class=\"dataframe\">\n  <thead>\n    <tr style=\"text-align: right;\">\n      <th></th>\n      <th>AgentID</th>\n      <th>BuildingName</th>\n      <th>PointingTargetBuildingId</th>\n      <th>Context</th>\n    </tr>\n  </thead>\n  <tbody>\n    <tr>\n      <th>51</th>\n      <td>52</td>\n      <td>TaskBuilding_48</td>\n      <td>48</td>\n      <td>False</td>\n    </tr>\n    <tr>\n      <th>52</th>\n      <td>53</td>\n      <td>TaskBuilding_54</td>\n      <td>54</td>\n      <td>False</td>\n    </tr>\n    <tr>\n      <th>53</th>\n      <td>54</td>\n      <td>TaskBuilding_55</td>\n      <td>55</td>\n      <td>False</td>\n    </tr>\n    <tr>\n      <th>54</th>\n      <td>55</td>\n      <td>Windmill-TaskBuilding_10_1</td>\n      <td>10</td>\n      <td>False</td>\n    </tr>\n    <tr>\n      <th>55</th>\n      <td>56</td>\n      <td>HighSilo-TaskBuilding_49</td>\n      <td>49</td>\n      <td>False</td>\n    </tr>\n  </tbody>\n</table>\n</div>"
     },
     "execution_count": 20,
     "metadata": {},
     "output_type": "execute_result"
    }
   ],
   "source": [
    "#Grouping data to get a key  of agent-building\n",
    "Building_Agent = pd.DataFrame(BuildingIDs.groupby(['AgentID', 'BuildingName', 'PointingTargetBuildingId', 'Context'])['Agent'].count())\n",
    "Building_Agent.drop('Agent', axis=1, inplace=True)\n",
    "Building_Agent.reset_index(inplace=True)\n",
    "print(Building_Agent.info())\n",
    "Building_Agent.tail()"
   ],
   "metadata": {
    "collapsed": false,
    "pycharm": {
     "name": "#%%\n"
    }
   }
  },
  {
   "cell_type": "code",
   "execution_count": 21,
   "outputs": [
    {
     "name": "stdout",
     "output_type": "stream",
     "text": [
      "    AgentID    BuildingName  PointingTargetBuildingId  Context  AgentID_Exp2\n",
      "29       30  TaskBuilding_1                         1    False            31\n",
      "2         3  TaskBuilding_2                         2     True            55\n",
      "12       13  TaskBuilding_3                         3     True            52\n",
      "28       29  TaskBuilding_4                         4    False            34\n",
      "20       21  TaskBuilding_5                         5     True            17\n"
     ]
    }
   ],
   "source": [
    "#Randomly assigning non meaningful agents to meaningful locations\n",
    "Meaningful_Agents1 = list(range(1,15))\n",
    "Standing_Agents1 = list(range(29,44))#The original agent ID for non meaningful locations go from 1 to 28\n",
    "Meaningful_Agents2 = list(range(15,29)) #The original agent ID for non meaningful locations go from 29 to 56\n",
    "Standing_Agents2 = list(range(44,57))\n",
    "random.seed(7) # for reproducibility\n",
    "\n",
    "# We shuffle the IDs to later add to our data set for reasignation\n",
    "random.shuffle(Meaningful_Agents1)\n",
    "random.shuffle(Standing_Agents1)\n",
    "random.shuffle(Meaningful_Agents2)\n",
    "random.shuffle(Standing_Agents2)\n",
    "\n",
    "AgentID_Exp2 = [*Standing_Agents2, *Meaningful_Agents2,*Standing_Agents1, *Meaningful_Agents1]  # We concat Standing_Agents first because the first 28 buildings of Building_Agent are meaningful\n",
    "Building_Agent['AgentID_Exp2'] = AgentID_Exp2\n",
    "Building_Agent.sort_values('PointingTargetBuildingId', inplace=True)\n",
    "\n",
    "print(Building_Agent.head())\n",
    "Building_Agent.to_csv('/Users/tracysanchezpacheco/Documents/Resources/Exp2.csv')"
   ],
   "metadata": {
    "collapsed": false,
    "pycharm": {
     "name": "#%%\n"
    }
   }
  },
  {
   "cell_type": "code",
   "execution_count": 22,
   "outputs": [
    {
     "data": {
      "text/plain": "1596"
     },
     "execution_count": 22,
     "metadata": {},
     "output_type": "execute_result"
    }
   ],
   "source": [
    "np.sum(Building_Agent.AgentID_Exp2)"
   ],
   "metadata": {
    "collapsed": false,
    "pycharm": {
     "name": "#%%\n"
    }
   }
  },
  {
   "cell_type": "code",
   "execution_count": 23,
   "outputs": [
    {
     "data": {
      "text/plain": "   Unnamed: 0  AgentID                BuildingName  PointingTargetBuildingId  \\\n0        29.0     30.0              TaskBuilding_1                       1.0   \n1        28.0     29.0              TaskBuilding_4                       4.0   \n2        30.0     31.0              TaskBuilding_6                       6.0   \n3        31.0     32.0              TaskBuilding_7                       7.0   \n4        54.0     55.0  Windmill-TaskBuilding_10_1                      10.0   \n\n  Context  AgentID_Exp2  Unnamed: 6  Unnamed: 7  Unnamed: 8  Unnamed: 9  \\\n0   False          53.0         1.0         NaN         NaN         NaN   \n1   False           6.0         0.0         NaN         NaN         NaN   \n2   False          56.0         1.0         NaN         NaN         NaN   \n3   False          55.0         1.0         NaN         NaN         NaN   \n4   False          28.0         0.0         NaN         NaN         NaN   \n\n   Unnamed: 10  \n0          NaN  \n1          NaN  \n2          NaN  \n3          NaN  \n4          NaN  ",
      "text/html": "<div>\n<style scoped>\n    .dataframe tbody tr th:only-of-type {\n        vertical-align: middle;\n    }\n\n    .dataframe tbody tr th {\n        vertical-align: top;\n    }\n\n    .dataframe thead th {\n        text-align: right;\n    }\n</style>\n<table border=\"1\" class=\"dataframe\">\n  <thead>\n    <tr style=\"text-align: right;\">\n      <th></th>\n      <th>Unnamed: 0</th>\n      <th>AgentID</th>\n      <th>BuildingName</th>\n      <th>PointingTargetBuildingId</th>\n      <th>Context</th>\n      <th>AgentID_Exp2</th>\n      <th>Unnamed: 6</th>\n      <th>Unnamed: 7</th>\n      <th>Unnamed: 8</th>\n      <th>Unnamed: 9</th>\n      <th>Unnamed: 10</th>\n    </tr>\n  </thead>\n  <tbody>\n    <tr>\n      <th>0</th>\n      <td>29.0</td>\n      <td>30.0</td>\n      <td>TaskBuilding_1</td>\n      <td>1.0</td>\n      <td>False</td>\n      <td>53.0</td>\n      <td>1.0</td>\n      <td>NaN</td>\n      <td>NaN</td>\n      <td>NaN</td>\n      <td>NaN</td>\n    </tr>\n    <tr>\n      <th>1</th>\n      <td>28.0</td>\n      <td>29.0</td>\n      <td>TaskBuilding_4</td>\n      <td>4.0</td>\n      <td>False</td>\n      <td>6.0</td>\n      <td>0.0</td>\n      <td>NaN</td>\n      <td>NaN</td>\n      <td>NaN</td>\n      <td>NaN</td>\n    </tr>\n    <tr>\n      <th>2</th>\n      <td>30.0</td>\n      <td>31.0</td>\n      <td>TaskBuilding_6</td>\n      <td>6.0</td>\n      <td>False</td>\n      <td>56.0</td>\n      <td>1.0</td>\n      <td>NaN</td>\n      <td>NaN</td>\n      <td>NaN</td>\n      <td>NaN</td>\n    </tr>\n    <tr>\n      <th>3</th>\n      <td>31.0</td>\n      <td>32.0</td>\n      <td>TaskBuilding_7</td>\n      <td>7.0</td>\n      <td>False</td>\n      <td>55.0</td>\n      <td>1.0</td>\n      <td>NaN</td>\n      <td>NaN</td>\n      <td>NaN</td>\n      <td>NaN</td>\n    </tr>\n    <tr>\n      <th>4</th>\n      <td>54.0</td>\n      <td>55.0</td>\n      <td>Windmill-TaskBuilding_10_1</td>\n      <td>10.0</td>\n      <td>False</td>\n      <td>28.0</td>\n      <td>0.0</td>\n      <td>NaN</td>\n      <td>NaN</td>\n      <td>NaN</td>\n      <td>NaN</td>\n    </tr>\n  </tbody>\n</table>\n</div>"
     },
     "execution_count": 23,
     "metadata": {},
     "output_type": "execute_result"
    }
   ],
   "source": [
    "Exp2new = pd.read_csv('/Users/tracysanchezpacheco/Library/CloudStorage/OneDrive-Personal/PhD/Creation/Experiment2/Exp2new.csv', sep=\";\")\n",
    "Exp2new.head()"
   ],
   "metadata": {
    "collapsed": false,
    "pycharm": {
     "name": "#%%\n"
    }
   }
  },
  {
   "cell_type": "code",
   "execution_count": 24,
   "outputs": [
    {
     "data": {
      "text/plain": "    AgentID     BuildingName  PointingTargetBuildingId  Context  AgentID_Exp2  \\\n51        4  TaskBuilding_47                        47     True            52   \n52       23  TaskBuilding_32                        32     True            53   \n53        1  TaskBuilding_14                        14     True            54   \n54       14  TaskBuilding_11                        11     True            55   \n55       27         Crane_59                        59     True            56   \n\n   Unity          X        Y          Z   Xr       Yr   Zr  \n51  True        NaN      NaN        NaN  NaN      NaN  NaN  \n52  True        NaN      NaN        NaN  NaN      NaN  NaN  \n53  True     p25.51   p2.659    n105.59  NaN      NaN  NaN  \n54  True  p139.3607  p2.5194  n203.8523  NaN  121.637  NaN  \n55   NaN    n517.62   p5.705    n378.48  NaN  n40.238  NaN  ",
      "text/html": "<div>\n<style scoped>\n    .dataframe tbody tr th:only-of-type {\n        vertical-align: middle;\n    }\n\n    .dataframe tbody tr th {\n        vertical-align: top;\n    }\n\n    .dataframe thead th {\n        text-align: right;\n    }\n</style>\n<table border=\"1\" class=\"dataframe\">\n  <thead>\n    <tr style=\"text-align: right;\">\n      <th></th>\n      <th>AgentID</th>\n      <th>BuildingName</th>\n      <th>PointingTargetBuildingId</th>\n      <th>Context</th>\n      <th>AgentID_Exp2</th>\n      <th>Unity</th>\n      <th>X</th>\n      <th>Y</th>\n      <th>Z</th>\n      <th>Xr</th>\n      <th>Yr</th>\n      <th>Zr</th>\n    </tr>\n  </thead>\n  <tbody>\n    <tr>\n      <th>51</th>\n      <td>4</td>\n      <td>TaskBuilding_47</td>\n      <td>47</td>\n      <td>True</td>\n      <td>52</td>\n      <td>True</td>\n      <td>NaN</td>\n      <td>NaN</td>\n      <td>NaN</td>\n      <td>NaN</td>\n      <td>NaN</td>\n      <td>NaN</td>\n    </tr>\n    <tr>\n      <th>52</th>\n      <td>23</td>\n      <td>TaskBuilding_32</td>\n      <td>32</td>\n      <td>True</td>\n      <td>53</td>\n      <td>True</td>\n      <td>NaN</td>\n      <td>NaN</td>\n      <td>NaN</td>\n      <td>NaN</td>\n      <td>NaN</td>\n      <td>NaN</td>\n    </tr>\n    <tr>\n      <th>53</th>\n      <td>1</td>\n      <td>TaskBuilding_14</td>\n      <td>14</td>\n      <td>True</td>\n      <td>54</td>\n      <td>True</td>\n      <td>p25.51</td>\n      <td>p2.659</td>\n      <td>n105.59</td>\n      <td>NaN</td>\n      <td>NaN</td>\n      <td>NaN</td>\n    </tr>\n    <tr>\n      <th>54</th>\n      <td>14</td>\n      <td>TaskBuilding_11</td>\n      <td>11</td>\n      <td>True</td>\n      <td>55</td>\n      <td>True</td>\n      <td>p139.3607</td>\n      <td>p2.5194</td>\n      <td>n203.8523</td>\n      <td>NaN</td>\n      <td>121.637</td>\n      <td>NaN</td>\n    </tr>\n    <tr>\n      <th>55</th>\n      <td>27</td>\n      <td>Crane_59</td>\n      <td>59</td>\n      <td>True</td>\n      <td>56</td>\n      <td>NaN</td>\n      <td>n517.62</td>\n      <td>p5.705</td>\n      <td>n378.48</td>\n      <td>NaN</td>\n      <td>n40.238</td>\n      <td>NaN</td>\n    </tr>\n  </tbody>\n</table>\n</div>"
     },
     "execution_count": 24,
     "metadata": {},
     "output_type": "execute_result"
    }
   ],
   "source": [
    "Exp2old = pd.read_csv('/Users/tracysanchezpacheco/Library/CloudStorage/OneDrive-Personal/PhD/Creation/Experiment2/Exp2old.csv', sep=\";\")\n",
    "Exp2old.tail()"
   ],
   "metadata": {
    "collapsed": false,
    "pycharm": {
     "name": "#%%\n"
    }
   }
  },
  {
   "cell_type": "code",
   "execution_count": 25,
   "outputs": [],
   "source": [
    "Exp2oldrev = Exp2old.iloc[:,[0,1,-6,-5,-4,-3,-2,-1]]\n",
    "Exp2newrev = Exp2new.iloc[:,[1,2,3,5]]"
   ],
   "metadata": {
    "collapsed": false,
    "pycharm": {
     "name": "#%%\n"
    }
   }
  },
  {
   "cell_type": "code",
   "execution_count": 26,
   "outputs": [
    {
     "data": {
      "text/plain": "   AgentID                BuildingName  PointingTargetBuildingId  AgentID_Exp2\n0     30.0              TaskBuilding_1                       1.0          53.0\n1     29.0              TaskBuilding_4                       4.0           6.0\n2     31.0              TaskBuilding_6                       6.0          56.0\n3     32.0              TaskBuilding_7                       7.0          55.0\n4     55.0  Windmill-TaskBuilding_10_1                      10.0          28.0",
      "text/html": "<div>\n<style scoped>\n    .dataframe tbody tr th:only-of-type {\n        vertical-align: middle;\n    }\n\n    .dataframe tbody tr th {\n        vertical-align: top;\n    }\n\n    .dataframe thead th {\n        text-align: right;\n    }\n</style>\n<table border=\"1\" class=\"dataframe\">\n  <thead>\n    <tr style=\"text-align: right;\">\n      <th></th>\n      <th>AgentID</th>\n      <th>BuildingName</th>\n      <th>PointingTargetBuildingId</th>\n      <th>AgentID_Exp2</th>\n    </tr>\n  </thead>\n  <tbody>\n    <tr>\n      <th>0</th>\n      <td>30.0</td>\n      <td>TaskBuilding_1</td>\n      <td>1.0</td>\n      <td>53.0</td>\n    </tr>\n    <tr>\n      <th>1</th>\n      <td>29.0</td>\n      <td>TaskBuilding_4</td>\n      <td>4.0</td>\n      <td>6.0</td>\n    </tr>\n    <tr>\n      <th>2</th>\n      <td>31.0</td>\n      <td>TaskBuilding_6</td>\n      <td>6.0</td>\n      <td>56.0</td>\n    </tr>\n    <tr>\n      <th>3</th>\n      <td>32.0</td>\n      <td>TaskBuilding_7</td>\n      <td>7.0</td>\n      <td>55.0</td>\n    </tr>\n    <tr>\n      <th>4</th>\n      <td>55.0</td>\n      <td>Windmill-TaskBuilding_10_1</td>\n      <td>10.0</td>\n      <td>28.0</td>\n    </tr>\n  </tbody>\n</table>\n</div>"
     },
     "execution_count": 26,
     "metadata": {},
     "output_type": "execute_result"
    }
   ],
   "source": [
    "Exp2newrev.head()"
   ],
   "metadata": {
    "collapsed": false,
    "pycharm": {
     "name": "#%%\n"
    }
   }
  },
  {
   "cell_type": "code",
   "execution_count": 27,
   "outputs": [
    {
     "data": {
      "text/plain": "   AgentID                BuildingName          X           Y          Z   Xr  \\\n0       43             TaskBuilding_30  n166.3933     p3.8089  n174.4359  NaN   \n1       52             TaskBuilding_48   n343.753      p4.699   n281.723  NaN   \n2       51             TaskBuilding_43    n312.29  p6.1014899    n104.46  NaN   \n3       49             TaskBuilding_39        NaN         NaN        NaN  NaN   \n4       55  Windmill-TaskBuilding_10_1     p67.76      p1.188     n42.12  NaN   \n\n         Yr   Zr  \n0      p180  NaN  \n1   n41.176  NaN  \n2  p123.365  NaN  \n3       NaN  NaN  \n4   n63.081  NaN  ",
      "text/html": "<div>\n<style scoped>\n    .dataframe tbody tr th:only-of-type {\n        vertical-align: middle;\n    }\n\n    .dataframe tbody tr th {\n        vertical-align: top;\n    }\n\n    .dataframe thead th {\n        text-align: right;\n    }\n</style>\n<table border=\"1\" class=\"dataframe\">\n  <thead>\n    <tr style=\"text-align: right;\">\n      <th></th>\n      <th>AgentID</th>\n      <th>BuildingName</th>\n      <th>X</th>\n      <th>Y</th>\n      <th>Z</th>\n      <th>Xr</th>\n      <th>Yr</th>\n      <th>Zr</th>\n    </tr>\n  </thead>\n  <tbody>\n    <tr>\n      <th>0</th>\n      <td>43</td>\n      <td>TaskBuilding_30</td>\n      <td>n166.3933</td>\n      <td>p3.8089</td>\n      <td>n174.4359</td>\n      <td>NaN</td>\n      <td>p180</td>\n      <td>NaN</td>\n    </tr>\n    <tr>\n      <th>1</th>\n      <td>52</td>\n      <td>TaskBuilding_48</td>\n      <td>n343.753</td>\n      <td>p4.699</td>\n      <td>n281.723</td>\n      <td>NaN</td>\n      <td>n41.176</td>\n      <td>NaN</td>\n    </tr>\n    <tr>\n      <th>2</th>\n      <td>51</td>\n      <td>TaskBuilding_43</td>\n      <td>n312.29</td>\n      <td>p6.1014899</td>\n      <td>n104.46</td>\n      <td>NaN</td>\n      <td>p123.365</td>\n      <td>NaN</td>\n    </tr>\n    <tr>\n      <th>3</th>\n      <td>49</td>\n      <td>TaskBuilding_39</td>\n      <td>NaN</td>\n      <td>NaN</td>\n      <td>NaN</td>\n      <td>NaN</td>\n      <td>NaN</td>\n      <td>NaN</td>\n    </tr>\n    <tr>\n      <th>4</th>\n      <td>55</td>\n      <td>Windmill-TaskBuilding_10_1</td>\n      <td>p67.76</td>\n      <td>p1.188</td>\n      <td>n42.12</td>\n      <td>NaN</td>\n      <td>n63.081</td>\n      <td>NaN</td>\n    </tr>\n  </tbody>\n</table>\n</div>"
     },
     "execution_count": 27,
     "metadata": {},
     "output_type": "execute_result"
    }
   ],
   "source": [
    "Exp2oldrev.head()"
   ],
   "metadata": {
    "collapsed": false,
    "pycharm": {
     "name": "#%%\n"
    }
   }
  },
  {
   "cell_type": "code",
   "execution_count": 29,
   "outputs": [],
   "source": [
    "Merged = Exp2newrev.merge(Exp2oldrev, on='AgentID')"
   ],
   "metadata": {
    "collapsed": false,
    "pycharm": {
     "name": "#%%\n"
    }
   }
  },
  {
   "cell_type": "code",
   "execution_count": 30,
   "outputs": [],
   "source": [
    "Merged.to_csv('/Users/tracysanchezpacheco/Library/CloudStorage/OneDrive-Personal/PhD/Creation/Experiment2/Exp2merged.csv')"
   ],
   "metadata": {
    "collapsed": false,
    "pycharm": {
     "name": "#%%\n"
    }
   }
  },
  {
   "cell_type": "code",
   "execution_count": null,
   "outputs": [],
   "source": [],
   "metadata": {
    "collapsed": false,
    "pycharm": {
     "name": "#%%\n"
    }
   }
  }
 ],
 "metadata": {
  "kernelspec": {
   "name": "python3",
   "language": "python",
   "display_name": "Python 3"
  },
  "datalore": {
   "version": 1,
   "computation_mode": "JUPYTER",
   "package_manager": "pip",
   "base_environment": "default",
   "packages": []
  }
 },
 "nbformat": 4,
 "nbformat_minor": 4
}