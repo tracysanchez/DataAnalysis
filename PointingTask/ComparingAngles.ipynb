{
 "cells": [
  {
   "cell_type": "code",
   "execution_count": 5,
   "outputs": [],
   "source": [
    "import glob\n",
    "import os\n",
    "import pandas as pd\n",
    "import numpy as np\n",
    "import warnings\n",
    "import math\n",
    "from scipy.spatial import distance\n",
    "import matplotlib.pyplot as plt\n",
    "import seaborn as sns\n",
    "warnings.simplefilter(action='ignore', category=FutureWarning)\n",
    "from datetime import datetime"
   ],
   "metadata": {
    "collapsed": false,
    "pycharm": {
     "name": "#%%\n"
    }
   }
  },
  {
   "cell_type": "code",
   "execution_count": 6,
   "outputs": [],
   "source": [
    "PointingTask = pd.read_csv('/Users/tracysanchezpacheco/Documents/CoordinatesIntegrated.csv')"
   ],
   "metadata": {
    "collapsed": false,
    "pycharm": {
     "name": "#%%\n"
    }
   }
  },
  {
   "cell_type": "code",
   "execution_count": 9,
   "outputs": [
    {
     "ename": "IndentationError",
     "evalue": "unexpected indent (<ipython-input-9-db159808c6a2>, line 8)",
     "output_type": "error",
     "traceback": [
      "\u001B[0;36m  File \u001B[0;32m\"<ipython-input-9-db159808c6a2>\"\u001B[0;36m, line \u001B[0;32m8\u001B[0m\n\u001B[0;31m    fig, axes = plt.subplots(nrows=1, ncols=2, figsize=(16,8))\u001B[0m\n\u001B[0m    ^\u001B[0m\n\u001B[0;31mIndentationError\u001B[0m\u001B[0;31m:\u001B[0m unexpected indent\n"
     ]
    }
   ],
   "source": [
    "distances = pd.DataFrame()\n",
    "middle = [np.average(PointingTask['BuildingPositionLocal_x']), np.average(\n",
    "    PointingTask['BuildingPositionLocal_y']), np.average(PointingTask['BuildingPositionLocal_z'])]\n",
    "for x in PointingTask.BuildingPositionLocal_x.unique():\n",
    "    distances = distances.append({'AvgAccuracy': np.average(PointingTask[PointingTask.BuildingPositionLocal_x == x]['Angle']), 'Centricity': distance.euclidean(middle, [x, np.average(\n",
    "        PointingTask[PointingTask.BuildingPositionLocal_x == x]['BuildingPositionLocal_y']), np.average(PointingTask[PointingTask.BuildingPositionLocal_x == x]['BuildingPositionLocal_z'])])}, ignore_index=True)\n",
    "#plt.title(\"Target distance from center by divergence from Target\", weight = 'bold')\n",
    "plt.xlabel(\"Distance from center\", weight='bold')\n",
    "# plotting the datapoints\n",
    "#plt.scatter(distances['Centricity'], distances['AvgAccuracy'], cmap=\"Reds\")\n",
    "sns.regplot(data=distances, x='Centricity', y='AvgAccuracy', color=\"tab:orange\")\n",
    "plt.xlabel(\"Target distance from center of the map\", weight='bold', fontsize=18)\n",
    "plt.ylabel(\"Mean Divergence per Target (in °)\", weight='bold', fontsize=18)\n",
    "plt.xticks(fontsize=15)\n",
    "plt.yticks(fontsize=15)\n",
    "plt.show()"
   ],
   "metadata": {
    "collapsed": false,
    "pycharm": {
     "name": "#%%\n"
    }
   }
  },
  {
   "cell_type": "code",
   "execution_count": null,
   "outputs": [],
   "source": [
    "distances = pd.DataFrame()\n",
    "middle = [np.average(PointingTask['BuildingPositionLocal_x']), np.average(\n",
    "    PointingTask['BuildingPositionLocal_y']), np.average(PointingTask['BuildingPositionLocal_z'])]\n",
    "for x in PointingTask.BuildingPositionLocal_x.unique():\n",
    "    distances = distances.append({'AvgAccuracy': np.average(PointingTask[PointingTask.BuildingPositionLocal_x == x]['degrees']), 'Centricity': distance.euclidean(middle, [x, np.average(\n",
    "        PointingTask[PointingTask.BuildingPositionLocal_x == x]['BuildingPositionLocal_y']), np.average(PointingTask[PointingTask.BuildingPositionLocal_x == x]['BuildingPositionLocal_z'])])}, ignore_index=True)\n",
    "#plt.title(\"Target distance from center by divergence from Target\", weight = 'bold')\n",
    "plt.xlabel(\"Distance from center\", weight='bold')\n",
    "# plotting the datapoints\n",
    "#plt.scatter(distances['Centricity'], distances['AvgAccuracy'], cmap=\"Reds\")\n",
    "sns.regplot(data=distances, x='Centricity', y='AvgAccuracy', color=\"tab:orange\")\n",
    "plt.xlabel(\"Target distance from center of the map\", weight='bold', fontsize=18)\n",
    "plt.ylabel(\"Mean Divergence per Target (in °)\", weight='bold', fontsize=18)\n",
    "plt.xticks(fontsize=15)\n",
    "plt.yticks(fontsize=15)\n",
    "plt.show()"
   ],
   "metadata": {
    "collapsed": false,
    "pycharm": {
     "name": "#%%\n"
    }
   }
  }
 ],
 "metadata": {},
 "nbformat": 4,
 "nbformat_minor": 5
}