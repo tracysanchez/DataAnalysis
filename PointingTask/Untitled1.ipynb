{
 "cells": [
  {
   "cell_type": "code",
   "execution_count": 6,
   "id": "7db6b83b-172c-4dbc-b5fa-5ba326cd982d",
   "metadata": {},
   "outputs": [
    {
     "name": "stdout",
     "output_type": "stream",
     "text": [
      "2043\n"
     ]
    }
   ],
   "source": [
    " "
   ]
  },
  {
   "cell_type": "code",
   "execution_count": 2,
   "id": "0e8f784b-494c-4b4b-8347-175d04492a6d",
   "metadata": {},
   "outputs": [
    {
     "name": "stdout",
     "output_type": "stream",
     "text": [
      "5766\n"
     ]
    }
   ],
   "source": [
    "from random import choice\n",
    "\n",
    "Past_Participants = [479, 1754, 2258, 2361, 2693, 3246, 3310, 3572, 3976, 4176, 4796, 4917, 5238, 5531, \n",
    "                5741, 6642, 7093, 7264, 7412, 7842, 8007, 8469, 8673, 8695, 9472, 9502, 9586, 9601, 8629, \n",
    "                5766, 9627, 4598, 1031, 4847, 9297,5189, 6406, 7081]\n",
    "\n",
    "\n",
    "print(choice([id for id in range(1000,9999) if id not in Past_Participants]))"
   ]
  },
  {
   "cell_type": "code",
   "execution_count": null,
   "id": "f960f2a1-fa2d-4d3e-8d8c-50f7c25ebaec",
   "metadata": {},
   "outputs": [],
   "source": []
  }
 ],
 "metadata": {
  "kernelspec": {
   "display_name": "Python 3",
   "language": "python",
   "name": "python3"
  },
  "language_info": {
   "codemirror_mode": {
    "name": "ipython",
    "version": 3
   },
   "file_extension": ".py",
   "mimetype": "text/x-python",
   "name": "python",
   "nbconvert_exporter": "python",
   "pygments_lexer": "ipython3",
   "version": "3.8.8"
  }
 },
 "nbformat": 4,
 "nbformat_minor": 5
}
