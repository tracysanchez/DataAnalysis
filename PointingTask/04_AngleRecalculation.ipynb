{
 "cells": [
  {
   "cell_type": "markdown",
   "id": "f76460dd-4dc0-42e7-8601-238c9cfc62d5",
   "metadata": {},
   "source": [
    "# Angle recalculations\n",
    "\n",
    "The angular deviation between two vectors will be reconstructed using two methods:\n",
    "   - The acute angular method: Calculated by applying cosine.\n",
    "   - The obtuse angular method: Calculated by applying atan2.\n",
    "   \n",
    " "
   ]
  },
  {
   "cell_type": "code",
   "execution_count": 1,
   "id": "ce28f25e-723c-4b40-9217-eba59e8feb45",
   "metadata": {},
   "outputs": [],
   "source": [
    "import os\n",
    "import pandas as pd\n",
    "import numpy as np\n",
    "import warnings\n",
    "import math\n",
    "warnings.simplefilter(action='ignore', category=FutureWarning)"
   ]
  },
  {
   "cell_type": "markdown",
   "id": "b8abd6bd-4f5e-4052-b89b-2a5d60c17f4d",
   "metadata": {},
   "source": [
    "### Load corrected integrated Pointing task\n",
    "\n",
    "Data comes as a result of script `02_ParticipantsDataReconstruction`"
   ]
  },
  {
   "cell_type": "code",
   "execution_count": 2,
   "id": "6d0f3737-c4e1-4cb0-9b1e-721b7c649d5d",
   "metadata": {},
   "outputs": [
    {
     "name": "stdout",
     "output_type": "stream",
     "text": [
      "<class 'pandas.core.frame.DataFrame'>\n",
      "RangeIndex: 7728 entries, 0 to 7727\n",
      "Data columns (total 32 columns):\n",
      " #   Column                         Non-Null Count  Dtype  \n",
      "---  ------                         --------------  -----  \n",
      " 0   Unnamed: 0                     7728 non-null   int64  \n",
      " 1   SubjectID                      7728 non-null   int64  \n",
      " 2   ParticipantPosition_x          7728 non-null   float64\n",
      " 3   ParticipantPosition_z          7728 non-null   float64\n",
      " 4   PointerPosition_x              7728 non-null   float64\n",
      " 5   PointerPosition_z              7728 non-null   float64\n",
      " 6   PointerDirection_x             7728 non-null   float64\n",
      " 7   PointerDirection_z             7728 non-null   float64\n",
      " 8   BuildingCenterWorld_z          7728 non-null   float64\n",
      " 9   BuildingCenterWorld_x          7728 non-null   float64\n",
      " 10  DistanceToParticipant          7728 non-null   float64\n",
      " 11  PointingTaskStartingLocations  7728 non-null   int64  \n",
      " 12  PointingTargetId               7728 non-null   int64  \n",
      " 13  Name                           7728 non-null   object \n",
      " 14  StartPointID                   7728 non-null   int64  \n",
      " 15  PointingTargetCondition        7728 non-null   object \n",
      " 16  Context                        7728 non-null   bool   \n",
      " 17  Agent                          7728 non-null   bool   \n",
      " 18  avatarID                       7728 non-null   int64  \n",
      " 19  AvatarPresence                 7728 non-null   bool   \n",
      " 20  AvatarPresenceCategory         7728 non-null   object \n",
      " 21  meaningful                     7728 non-null   bool   \n",
      " 22  meaningfulBuilding             7728 non-null   object \n",
      " 23  Trials                         7728 non-null   int64  \n",
      " 24  TrialID                        7728 non-null   int64  \n",
      " 25  ID_for_StartingPosition        7728 non-null   int64  \n",
      " 26  ImageName                      7728 non-null   object \n",
      " 27  TimeDelta                      7728 non-null   object \n",
      " 28  RT                             7728 non-null   float64\n",
      " 29  TimeOut                        7728 non-null   bool   \n",
      " 30  TimeStampBegin                 7728 non-null   object \n",
      " 31  TimeStampEnd                   7728 non-null   object \n",
      "dtypes: bool(5), float64(10), int64(9), object(8)\n",
      "memory usage: 1.6+ MB\n"
     ]
    }
   ],
   "source": [
    "CoordinatesIntegrated = pd.read_csv('/Users/tracysanchezpacheco/Documents/Resources/PointingTask_Integrated.csv')\n",
    "CoordinatesIntegrated.info()"
   ]
  },
  {
   "cell_type": "markdown",
   "id": "7ddc1acd-130c-4d3a-909e-7b1521567820",
   "metadata": {},
   "source": [
    "## Creation of vectors"
   ]
  },
  {
   "cell_type": "code",
   "execution_count": 3,
   "id": "8f588fc6-291c-4818-b6e5-78fcf83f639f",
   "metadata": {},
   "outputs": [],
   "source": [
    "CoordinatesIntegrated['vector_PartPos'] = list(zip(CoordinatesIntegrated.ParticipantPosition_x, CoordinatesIntegrated.ParticipantPosition_z))\n",
    "CoordinatesIntegrated['vector_BuildingPos'] = list(zip(CoordinatesIntegrated['BuildingCenterWorld_x'], CoordinatesIntegrated['BuildingCenterWorld_z']))\n",
    "CoordinatesIntegrated['vector_PointerPos'] =list(zip(CoordinatesIntegrated.PointerDirection_x, CoordinatesIntegrated.PointerDirection_z))"
   ]
  },
  {
   "cell_type": "code",
   "execution_count": 4,
   "id": "4c2dc30f-79f2-40b9-b4de-1b6401ddf9ea",
   "metadata": {},
   "outputs": [],
   "source": [
    "PartList = list(CoordinatesIntegrated['vector_PartPos'])\n",
    "BuiltList = list(CoordinatesIntegrated['vector_BuildingPos'])\n",
    "PointList = list(CoordinatesIntegrated['vector_PointerPos'])"
   ]
  },
  {
   "cell_type": "code",
   "execution_count": 5,
   "id": "5d7ec289-9831-4090-91c5-8d2f5f47cc6c",
   "metadata": {},
   "outputs": [
    {
     "data": {
      "text/plain": "  meaningfulBuilding  Trials  TrialID  ID_for_StartingPosition ImageName  \\\n0     Not meaningful      90        1                        1     46_Sa   \n1     Not meaningful      91       78                        6   46_SaNo   \n2     Not meaningful      90       88                        4     46_Sa   \n3     Not meaningful      91       95                       11   46_SaNo   \n4     Not meaningful      91      131                       11   46_SaNo   \n\n                   TimeDelta         RT  \n0  0 days 00:00:25.825714432  25.825715  \n1  0 days 00:00:04.799789312   4.799789  \n2  0 days 00:00:04.638590208   4.638590  \n3  0 days 00:00:02.361455104   2.361455  \n4  0 days 00:00:05.975303680   5.975304  ",
      "text/html": "<div>\n<style scoped>\n    .dataframe tbody tr th:only-of-type {\n        vertical-align: middle;\n    }\n\n    .dataframe tbody tr th {\n        vertical-align: top;\n    }\n\n    .dataframe thead th {\n        text-align: right;\n    }\n</style>\n<table border=\"1\" class=\"dataframe\">\n  <thead>\n    <tr style=\"text-align: right;\">\n      <th></th>\n      <th>meaningfulBuilding</th>\n      <th>Trials</th>\n      <th>TrialID</th>\n      <th>ID_for_StartingPosition</th>\n      <th>ImageName</th>\n      <th>TimeDelta</th>\n      <th>RT</th>\n    </tr>\n  </thead>\n  <tbody>\n    <tr>\n      <th>0</th>\n      <td>Not meaningful</td>\n      <td>90</td>\n      <td>1</td>\n      <td>1</td>\n      <td>46_Sa</td>\n      <td>0 days 00:00:25.825714432</td>\n      <td>25.825715</td>\n    </tr>\n    <tr>\n      <th>1</th>\n      <td>Not meaningful</td>\n      <td>91</td>\n      <td>78</td>\n      <td>6</td>\n      <td>46_SaNo</td>\n      <td>0 days 00:00:04.799789312</td>\n      <td>4.799789</td>\n    </tr>\n    <tr>\n      <th>2</th>\n      <td>Not meaningful</td>\n      <td>90</td>\n      <td>88</td>\n      <td>4</td>\n      <td>46_Sa</td>\n      <td>0 days 00:00:04.638590208</td>\n      <td>4.638590</td>\n    </tr>\n    <tr>\n      <th>3</th>\n      <td>Not meaningful</td>\n      <td>91</td>\n      <td>95</td>\n      <td>11</td>\n      <td>46_SaNo</td>\n      <td>0 days 00:00:02.361455104</td>\n      <td>2.361455</td>\n    </tr>\n    <tr>\n      <th>4</th>\n      <td>Not meaningful</td>\n      <td>91</td>\n      <td>131</td>\n      <td>11</td>\n      <td>46_SaNo</td>\n      <td>0 days 00:00:05.975303680</td>\n      <td>5.975304</td>\n    </tr>\n  </tbody>\n</table>\n</div>"
     },
     "execution_count": 5,
     "metadata": {},
     "output_type": "execute_result"
    }
   ],
   "source": [
    "### Calculating direction vector from Participant Position (a) to Target Building Position (b): b- **  component form is terminal minus initial\n",
    "CoordinatesIntegrated['Vector_Participant-Building'] = [tuple(x-y for x, y in zip(tup1, tup2)) for tup1, tup2 in zip(BuiltList, PartList)]\n",
    "### Calculating direction vector from Participant Position (a) to pointer (b): a-b\n",
    "CoordinatesIntegrated['Vector_Participant-Pointer'] = [tuple(x-y for x, y in zip(tup1, tup2)) for tup1, tup2 in zip(PointList, PartList)] # addition\n",
    "CoordinatesIntegrated.iloc[:,-15:-8].head(5)"
   ]
  },
  {
   "cell_type": "code",
   "execution_count": 6,
   "id": "ae40c28d-7e07-4cea-acf9-50d306188b22",
   "metadata": {},
   "outputs": [
    {
     "data": {
      "text/plain": "                                                       Unnamed: 0  SubjectID  \\\nBuildingCenterWorld_z BuildingCenterWorld_x ImageName                          \n-255.873932           -3.336735             23_CmA             79         79   \n                                            23_CmANo           64         64   \n-205.836075           -42.972923            48_Sa              72         72   \n                                            48_SaNo            75         75   \n-204.096573            96.337585            40_Sa              71         71   \n...                                                           ...        ...   \n 226.580154           -72.436798            18_CmANo           63         63   \n 234.419739            197.370117           03_CmA             62         62   \n                                            03_CmANo           75         75   \n 288.053894           -234.506821           56_Sa              68         68   \n                                            56_SaNo            78         78   \n\n                                                       ParticipantPosition_x  \\\nBuildingCenterWorld_z BuildingCenterWorld_x ImageName                          \n-255.873932           -3.336735             23_CmA                        79   \n                                            23_CmANo                      64   \n-205.836075           -42.972923            48_Sa                         72   \n                                            48_SaNo                       75   \n-204.096573            96.337585            40_Sa                         71   \n...                                                                      ...   \n 226.580154           -72.436798            18_CmANo                      63   \n 234.419739            197.370117           03_CmA                        62   \n                                            03_CmANo                      75   \n 288.053894           -234.506821           56_Sa                         68   \n                                            56_SaNo                       78   \n\n                                                       ParticipantPosition_z  \\\nBuildingCenterWorld_z BuildingCenterWorld_x ImageName                          \n-255.873932           -3.336735             23_CmA                        79   \n                                            23_CmANo                      64   \n-205.836075           -42.972923            48_Sa                         72   \n                                            48_SaNo                       75   \n-204.096573            96.337585            40_Sa                         71   \n...                                                                      ...   \n 226.580154           -72.436798            18_CmANo                      63   \n 234.419739            197.370117           03_CmA                        62   \n                                            03_CmANo                      75   \n 288.053894           -234.506821           56_Sa                         68   \n                                            56_SaNo                       78   \n\n                                                       PointerPosition_x  \\\nBuildingCenterWorld_z BuildingCenterWorld_x ImageName                      \n-255.873932           -3.336735             23_CmA                    79   \n                                            23_CmANo                  64   \n-205.836075           -42.972923            48_Sa                     72   \n                                            48_SaNo                   75   \n-204.096573            96.337585            40_Sa                     71   \n...                                                                  ...   \n 226.580154           -72.436798            18_CmANo                  63   \n 234.419739            197.370117           03_CmA                    62   \n                                            03_CmANo                  75   \n 288.053894           -234.506821           56_Sa                     68   \n                                            56_SaNo                   78   \n\n                                                       PointerPosition_z  \\\nBuildingCenterWorld_z BuildingCenterWorld_x ImageName                      \n-255.873932           -3.336735             23_CmA                    79   \n                                            23_CmANo                  64   \n-205.836075           -42.972923            48_Sa                     72   \n                                            48_SaNo                   75   \n-204.096573            96.337585            40_Sa                     71   \n...                                                                  ...   \n 226.580154           -72.436798            18_CmANo                  63   \n 234.419739            197.370117           03_CmA                    62   \n                                            03_CmANo                  75   \n 288.053894           -234.506821           56_Sa                     68   \n                                            56_SaNo                   78   \n\n                                                       PointerDirection_x  \\\nBuildingCenterWorld_z BuildingCenterWorld_x ImageName                       \n-255.873932           -3.336735             23_CmA                     79   \n                                            23_CmANo                   64   \n-205.836075           -42.972923            48_Sa                      72   \n                                            48_SaNo                    75   \n-204.096573            96.337585            40_Sa                      71   \n...                                                                   ...   \n 226.580154           -72.436798            18_CmANo                   63   \n 234.419739            197.370117           03_CmA                     62   \n                                            03_CmANo                   75   \n 288.053894           -234.506821           56_Sa                      68   \n                                            56_SaNo                    78   \n\n                                                       PointerDirection_z  \\\nBuildingCenterWorld_z BuildingCenterWorld_x ImageName                       \n-255.873932           -3.336735             23_CmA                     79   \n                                            23_CmANo                   64   \n-205.836075           -42.972923            48_Sa                      72   \n                                            48_SaNo                    75   \n-204.096573            96.337585            40_Sa                      71   \n...                                                                   ...   \n 226.580154           -72.436798            18_CmANo                   63   \n 234.419739            197.370117           03_CmA                     62   \n                                            03_CmANo                   75   \n 288.053894           -234.506821           56_Sa                      68   \n                                            56_SaNo                    78   \n\n                                                       DistanceToParticipant  \\\nBuildingCenterWorld_z BuildingCenterWorld_x ImageName                          \n-255.873932           -3.336735             23_CmA                        79   \n                                            23_CmANo                      64   \n-205.836075           -42.972923            48_Sa                         72   \n                                            48_SaNo                       75   \n-204.096573            96.337585            40_Sa                         71   \n...                                                                      ...   \n 226.580154           -72.436798            18_CmANo                      63   \n 234.419739            197.370117           03_CmA                        62   \n                                            03_CmANo                      75   \n 288.053894           -234.506821           56_Sa                         68   \n                                            56_SaNo                       78   \n\n                                                       PointingTaskStartingLocations  \\\nBuildingCenterWorld_z BuildingCenterWorld_x ImageName                                  \n-255.873932           -3.336735             23_CmA                                79   \n                                            23_CmANo                              64   \n-205.836075           -42.972923            48_Sa                                 72   \n                                            48_SaNo                               75   \n-204.096573            96.337585            40_Sa                                 71   \n...                                                                              ...   \n 226.580154           -72.436798            18_CmANo                              63   \n 234.419739            197.370117           03_CmA                                62   \n                                            03_CmANo                              75   \n 288.053894           -234.506821           56_Sa                                 68   \n                                            56_SaNo                               78   \n\n                                                       ...  TimeDelta  RT  \\\nBuildingCenterWorld_z BuildingCenterWorld_x ImageName  ...                  \n-255.873932           -3.336735             23_CmA     ...         79  79   \n                                            23_CmANo   ...         64  64   \n-205.836075           -42.972923            48_Sa      ...         72  72   \n                                            48_SaNo    ...         75  75   \n-204.096573            96.337585            40_Sa      ...         71  71   \n...                                                    ...        ...  ..   \n 226.580154           -72.436798            18_CmANo   ...         63  63   \n 234.419739            197.370117           03_CmA     ...         62  62   \n                                            03_CmANo   ...         75  75   \n 288.053894           -234.506821           56_Sa      ...         68  68   \n                                            56_SaNo    ...         78  78   \n\n                                                       TimeOut  \\\nBuildingCenterWorld_z BuildingCenterWorld_x ImageName            \n-255.873932           -3.336735             23_CmA          79   \n                                            23_CmANo        64   \n-205.836075           -42.972923            48_Sa           72   \n                                            48_SaNo         75   \n-204.096573            96.337585            40_Sa           71   \n...                                                        ...   \n 226.580154           -72.436798            18_CmANo        63   \n 234.419739            197.370117           03_CmA          62   \n                                            03_CmANo        75   \n 288.053894           -234.506821           56_Sa           68   \n                                            56_SaNo         78   \n\n                                                       TimeStampBegin  \\\nBuildingCenterWorld_z BuildingCenterWorld_x ImageName                   \n-255.873932           -3.336735             23_CmA                 79   \n                                            23_CmANo               64   \n-205.836075           -42.972923            48_Sa                  72   \n                                            48_SaNo                75   \n-204.096573            96.337585            40_Sa                  71   \n...                                                               ...   \n 226.580154           -72.436798            18_CmANo               63   \n 234.419739            197.370117           03_CmA                 62   \n                                            03_CmANo               75   \n 288.053894           -234.506821           56_Sa                  68   \n                                            56_SaNo                78   \n\n                                                       TimeStampEnd  \\\nBuildingCenterWorld_z BuildingCenterWorld_x ImageName                 \n-255.873932           -3.336735             23_CmA               79   \n                                            23_CmANo             64   \n-205.836075           -42.972923            48_Sa                72   \n                                            48_SaNo              75   \n-204.096573            96.337585            40_Sa                71   \n...                                                             ...   \n 226.580154           -72.436798            18_CmANo             63   \n 234.419739            197.370117           03_CmA               62   \n                                            03_CmANo             75   \n 288.053894           -234.506821           56_Sa                68   \n                                            56_SaNo              78   \n\n                                                       vector_PartPos  \\\nBuildingCenterWorld_z BuildingCenterWorld_x ImageName                   \n-255.873932           -3.336735             23_CmA                 79   \n                                            23_CmANo               64   \n-205.836075           -42.972923            48_Sa                  72   \n                                            48_SaNo                75   \n-204.096573            96.337585            40_Sa                  71   \n...                                                               ...   \n 226.580154           -72.436798            18_CmANo               63   \n 234.419739            197.370117           03_CmA                 62   \n                                            03_CmANo               75   \n 288.053894           -234.506821           56_Sa                  68   \n                                            56_SaNo                78   \n\n                                                       vector_BuildingPos  \\\nBuildingCenterWorld_z BuildingCenterWorld_x ImageName                       \n-255.873932           -3.336735             23_CmA                     79   \n                                            23_CmANo                   64   \n-205.836075           -42.972923            48_Sa                      72   \n                                            48_SaNo                    75   \n-204.096573            96.337585            40_Sa                      71   \n...                                                                   ...   \n 226.580154           -72.436798            18_CmANo                   63   \n 234.419739            197.370117           03_CmA                     62   \n                                            03_CmANo                   75   \n 288.053894           -234.506821           56_Sa                      68   \n                                            56_SaNo                    78   \n\n                                                       vector_PointerPos  \\\nBuildingCenterWorld_z BuildingCenterWorld_x ImageName                      \n-255.873932           -3.336735             23_CmA                    79   \n                                            23_CmANo                  64   \n-205.836075           -42.972923            48_Sa                     72   \n                                            48_SaNo                   75   \n-204.096573            96.337585            40_Sa                     71   \n...                                                                  ...   \n 226.580154           -72.436798            18_CmANo                  63   \n 234.419739            197.370117           03_CmA                    62   \n                                            03_CmANo                  75   \n 288.053894           -234.506821           56_Sa                     68   \n                                            56_SaNo                   78   \n\n                                                       Vector_Participant-Building  \\\nBuildingCenterWorld_z BuildingCenterWorld_x ImageName                                \n-255.873932           -3.336735             23_CmA                              79   \n                                            23_CmANo                            64   \n-205.836075           -42.972923            48_Sa                               72   \n                                            48_SaNo                             75   \n-204.096573            96.337585            40_Sa                               71   \n...                                                                            ...   \n 226.580154           -72.436798            18_CmANo                            63   \n 234.419739            197.370117           03_CmA                              62   \n                                            03_CmANo                            75   \n 288.053894           -234.506821           56_Sa                               68   \n                                            56_SaNo                             78   \n\n                                                       Vector_Participant-Pointer  \nBuildingCenterWorld_z BuildingCenterWorld_x ImageName                              \n-255.873932           -3.336735             23_CmA                             79  \n                                            23_CmANo                           64  \n-205.836075           -42.972923            48_Sa                              72  \n                                            48_SaNo                            75  \n-204.096573            96.337585            40_Sa                              71  \n...                                                                           ...  \n 226.580154           -72.436798            18_CmANo                           63  \n 234.419739            197.370117           03_CmA                             62  \n                                            03_CmANo                           75  \n 288.053894           -234.506821           56_Sa                              68  \n                                            56_SaNo                            78  \n\n[112 rows x 34 columns]",
      "text/html": "<div>\n<style scoped>\n    .dataframe tbody tr th:only-of-type {\n        vertical-align: middle;\n    }\n\n    .dataframe tbody tr th {\n        vertical-align: top;\n    }\n\n    .dataframe thead th {\n        text-align: right;\n    }\n</style>\n<table border=\"1\" class=\"dataframe\">\n  <thead>\n    <tr style=\"text-align: right;\">\n      <th></th>\n      <th></th>\n      <th></th>\n      <th>Unnamed: 0</th>\n      <th>SubjectID</th>\n      <th>ParticipantPosition_x</th>\n      <th>ParticipantPosition_z</th>\n      <th>PointerPosition_x</th>\n      <th>PointerPosition_z</th>\n      <th>PointerDirection_x</th>\n      <th>PointerDirection_z</th>\n      <th>DistanceToParticipant</th>\n      <th>PointingTaskStartingLocations</th>\n      <th>...</th>\n      <th>TimeDelta</th>\n      <th>RT</th>\n      <th>TimeOut</th>\n      <th>TimeStampBegin</th>\n      <th>TimeStampEnd</th>\n      <th>vector_PartPos</th>\n      <th>vector_BuildingPos</th>\n      <th>vector_PointerPos</th>\n      <th>Vector_Participant-Building</th>\n      <th>Vector_Participant-Pointer</th>\n    </tr>\n    <tr>\n      <th>BuildingCenterWorld_z</th>\n      <th>BuildingCenterWorld_x</th>\n      <th>ImageName</th>\n      <th></th>\n      <th></th>\n      <th></th>\n      <th></th>\n      <th></th>\n      <th></th>\n      <th></th>\n      <th></th>\n      <th></th>\n      <th></th>\n      <th></th>\n      <th></th>\n      <th></th>\n      <th></th>\n      <th></th>\n      <th></th>\n      <th></th>\n      <th></th>\n      <th></th>\n      <th></th>\n      <th></th>\n    </tr>\n  </thead>\n  <tbody>\n    <tr>\n      <th rowspan=\"2\" valign=\"top\">-255.873932</th>\n      <th rowspan=\"2\" valign=\"top\">-3.336735</th>\n      <th>23_CmA</th>\n      <td>79</td>\n      <td>79</td>\n      <td>79</td>\n      <td>79</td>\n      <td>79</td>\n      <td>79</td>\n      <td>79</td>\n      <td>79</td>\n      <td>79</td>\n      <td>79</td>\n      <td>...</td>\n      <td>79</td>\n      <td>79</td>\n      <td>79</td>\n      <td>79</td>\n      <td>79</td>\n      <td>79</td>\n      <td>79</td>\n      <td>79</td>\n      <td>79</td>\n      <td>79</td>\n    </tr>\n    <tr>\n      <th>23_CmANo</th>\n      <td>64</td>\n      <td>64</td>\n      <td>64</td>\n      <td>64</td>\n      <td>64</td>\n      <td>64</td>\n      <td>64</td>\n      <td>64</td>\n      <td>64</td>\n      <td>64</td>\n      <td>...</td>\n      <td>64</td>\n      <td>64</td>\n      <td>64</td>\n      <td>64</td>\n      <td>64</td>\n      <td>64</td>\n      <td>64</td>\n      <td>64</td>\n      <td>64</td>\n      <td>64</td>\n    </tr>\n    <tr>\n      <th rowspan=\"2\" valign=\"top\">-205.836075</th>\n      <th rowspan=\"2\" valign=\"top\">-42.972923</th>\n      <th>48_Sa</th>\n      <td>72</td>\n      <td>72</td>\n      <td>72</td>\n      <td>72</td>\n      <td>72</td>\n      <td>72</td>\n      <td>72</td>\n      <td>72</td>\n      <td>72</td>\n      <td>72</td>\n      <td>...</td>\n      <td>72</td>\n      <td>72</td>\n      <td>72</td>\n      <td>72</td>\n      <td>72</td>\n      <td>72</td>\n      <td>72</td>\n      <td>72</td>\n      <td>72</td>\n      <td>72</td>\n    </tr>\n    <tr>\n      <th>48_SaNo</th>\n      <td>75</td>\n      <td>75</td>\n      <td>75</td>\n      <td>75</td>\n      <td>75</td>\n      <td>75</td>\n      <td>75</td>\n      <td>75</td>\n      <td>75</td>\n      <td>75</td>\n      <td>...</td>\n      <td>75</td>\n      <td>75</td>\n      <td>75</td>\n      <td>75</td>\n      <td>75</td>\n      <td>75</td>\n      <td>75</td>\n      <td>75</td>\n      <td>75</td>\n      <td>75</td>\n    </tr>\n    <tr>\n      <th>-204.096573</th>\n      <th>96.337585</th>\n      <th>40_Sa</th>\n      <td>71</td>\n      <td>71</td>\n      <td>71</td>\n      <td>71</td>\n      <td>71</td>\n      <td>71</td>\n      <td>71</td>\n      <td>71</td>\n      <td>71</td>\n      <td>71</td>\n      <td>...</td>\n      <td>71</td>\n      <td>71</td>\n      <td>71</td>\n      <td>71</td>\n      <td>71</td>\n      <td>71</td>\n      <td>71</td>\n      <td>71</td>\n      <td>71</td>\n      <td>71</td>\n    </tr>\n    <tr>\n      <th>...</th>\n      <th>...</th>\n      <th>...</th>\n      <td>...</td>\n      <td>...</td>\n      <td>...</td>\n      <td>...</td>\n      <td>...</td>\n      <td>...</td>\n      <td>...</td>\n      <td>...</td>\n      <td>...</td>\n      <td>...</td>\n      <td>...</td>\n      <td>...</td>\n      <td>...</td>\n      <td>...</td>\n      <td>...</td>\n      <td>...</td>\n      <td>...</td>\n      <td>...</td>\n      <td>...</td>\n      <td>...</td>\n      <td>...</td>\n    </tr>\n    <tr>\n      <th>226.580154</th>\n      <th>-72.436798</th>\n      <th>18_CmANo</th>\n      <td>63</td>\n      <td>63</td>\n      <td>63</td>\n      <td>63</td>\n      <td>63</td>\n      <td>63</td>\n      <td>63</td>\n      <td>63</td>\n      <td>63</td>\n      <td>63</td>\n      <td>...</td>\n      <td>63</td>\n      <td>63</td>\n      <td>63</td>\n      <td>63</td>\n      <td>63</td>\n      <td>63</td>\n      <td>63</td>\n      <td>63</td>\n      <td>63</td>\n      <td>63</td>\n    </tr>\n    <tr>\n      <th rowspan=\"2\" valign=\"top\">234.419739</th>\n      <th rowspan=\"2\" valign=\"top\">197.370117</th>\n      <th>03_CmA</th>\n      <td>62</td>\n      <td>62</td>\n      <td>62</td>\n      <td>62</td>\n      <td>62</td>\n      <td>62</td>\n      <td>62</td>\n      <td>62</td>\n      <td>62</td>\n      <td>62</td>\n      <td>...</td>\n      <td>62</td>\n      <td>62</td>\n      <td>62</td>\n      <td>62</td>\n      <td>62</td>\n      <td>62</td>\n      <td>62</td>\n      <td>62</td>\n      <td>62</td>\n      <td>62</td>\n    </tr>\n    <tr>\n      <th>03_CmANo</th>\n      <td>75</td>\n      <td>75</td>\n      <td>75</td>\n      <td>75</td>\n      <td>75</td>\n      <td>75</td>\n      <td>75</td>\n      <td>75</td>\n      <td>75</td>\n      <td>75</td>\n      <td>...</td>\n      <td>75</td>\n      <td>75</td>\n      <td>75</td>\n      <td>75</td>\n      <td>75</td>\n      <td>75</td>\n      <td>75</td>\n      <td>75</td>\n      <td>75</td>\n      <td>75</td>\n    </tr>\n    <tr>\n      <th rowspan=\"2\" valign=\"top\">288.053894</th>\n      <th rowspan=\"2\" valign=\"top\">-234.506821</th>\n      <th>56_Sa</th>\n      <td>68</td>\n      <td>68</td>\n      <td>68</td>\n      <td>68</td>\n      <td>68</td>\n      <td>68</td>\n      <td>68</td>\n      <td>68</td>\n      <td>68</td>\n      <td>68</td>\n      <td>...</td>\n      <td>68</td>\n      <td>68</td>\n      <td>68</td>\n      <td>68</td>\n      <td>68</td>\n      <td>68</td>\n      <td>68</td>\n      <td>68</td>\n      <td>68</td>\n      <td>68</td>\n    </tr>\n    <tr>\n      <th>56_SaNo</th>\n      <td>78</td>\n      <td>78</td>\n      <td>78</td>\n      <td>78</td>\n      <td>78</td>\n      <td>78</td>\n      <td>78</td>\n      <td>78</td>\n      <td>78</td>\n      <td>78</td>\n      <td>...</td>\n      <td>78</td>\n      <td>78</td>\n      <td>78</td>\n      <td>78</td>\n      <td>78</td>\n      <td>78</td>\n      <td>78</td>\n      <td>78</td>\n      <td>78</td>\n      <td>78</td>\n    </tr>\n  </tbody>\n</table>\n<p>112 rows × 34 columns</p>\n</div>"
     },
     "execution_count": 6,
     "metadata": {},
     "output_type": "execute_result"
    }
   ],
   "source": [
    "CoordinatesIntegrated.groupby(['BuildingCenterWorld_z','BuildingCenterWorld_x',  'ImageName']).count()"
   ]
  },
  {
   "cell_type": "markdown",
   "id": "c1e01734-cdd0-4848-b67c-45ea3b68bd2e",
   "metadata": {},
   "source": [
    "## Angle functions acute method"
   ]
  },
  {
   "cell_type": "code",
   "execution_count": 7,
   "id": "52ffdbe9-aaea-47ce-9deb-1267d45384d4",
   "metadata": {},
   "outputs": [],
   "source": [
    "def DotTuple(v1,v2):\n",
    "    \"\"\"Returns the dot product of two vectors of two elements each\n",
    "Parameters\n",
    "-------------\n",
    "    v1: tuple of two elements\n",
    "    v2: tuple of two elements\n",
    "returns\n",
    "----------\n",
    "    list of dot product of tuples\n",
    "\"\"\"\n",
    "    dotList = []\n",
    "    dot = [sum(x*y for x, y in zip(tup1, tup2))for tup1, tup2 in zip(v1, v2)]\n",
    "    dotList.append(dot)\n",
    "    flatlist = [item for sublist in dotList for item in sublist]\n",
    "    return flatlist"
   ]
  },
  {
   "cell_type": "code",
   "execution_count": 8,
   "id": "dccd2e01-bc64-4ebc-ad88-5ba859c4b2c2",
   "metadata": {},
   "outputs": [],
   "source": [
    "def Magnitud(v1):\n",
    "    \"\"\"Returns the magnitute of a vector\n",
    "Parameters\n",
    "-------------\n",
    "    v1: tuple of two elements\n",
    "returns\n",
    "----------\n",
    "    list with magnitude of vectors\n",
    "\"\"\"\n",
    "    v1 = [x ** 2 + y ** 2 for x,y in v1]\n",
    "    squared = [math.sqrt(value) for value in v1]\n",
    "    return(squared)"
   ]
  },
  {
   "cell_type": "code",
   "execution_count": 9,
   "id": "48df16c4-fa36-46cf-ab4c-1c66a95d1a5b",
   "metadata": {},
   "outputs": [],
   "source": [
    "CoordinatesIntegrated['building-Participant_x'] = CoordinatesIntegrated['BuildingCenterWorld_x'] -  CoordinatesIntegrated['ParticipantPosition_x']\n",
    "CoordinatesIntegrated['building-Participant_z'] = CoordinatesIntegrated['BuildingCenterWorld_z'] - CoordinatesIntegrated['ParticipantPosition_z']"
   ]
  },
  {
   "cell_type": "code",
   "execution_count": 10,
   "id": "b15aebe9-1408-49b4-9be0-dd8f4397169d",
   "metadata": {},
   "outputs": [],
   "source": [
    "# Creating the individual elements of the arc cos formula and inserting them on the dataframe\n",
    "CoordinatesIntegrated['Dot_Pointer-Building-Participant'] = DotTuple(CoordinatesIntegrated['Vector_Participant-Pointer'],CoordinatesIntegrated['Vector_Participant-Building'])\n",
    "CoordinatesIntegrated['Magnitud_Participant-Pointer'] = Magnitud(CoordinatesIntegrated['Vector_Participant-Pointer'])\n",
    "CoordinatesIntegrated['Magnitud_Participant-Building'] = Magnitud(CoordinatesIntegrated['Vector_Participant-Building'])"
   ]
  },
  {
   "cell_type": "code",
   "execution_count": 11,
   "id": "9ce7adf6-b063-4865-8cfb-ce5e1099188e",
   "metadata": {},
   "outputs": [
    {
     "data": {
      "text/plain": "count    7728.000000\nmean       43.006016\nstd        38.400238\nmin         0.006036\n25%        14.545801\n50%        31.150621\n75%        60.069120\nmax       179.736428\nName: degrees, dtype: float64"
     },
     "execution_count": 11,
     "metadata": {},
     "output_type": "execute_result"
    }
   ],
   "source": [
    "# Calculating degrees using the arc cos formula and inserting them on the dataframe\n",
    "my_angle = CoordinatesIntegrated['Dot_Pointer-Building-Participant']/ (CoordinatesIntegrated['Magnitud_Participant-Pointer'] * CoordinatesIntegrated['Magnitud_Participant-Building'])\n",
    "CoordinatesIntegrated['radians'] =  [math.acos(value) for value in my_angle]\n",
    "CoordinatesIntegrated['degrees'] = [np.rad2deg(value) for value in CoordinatesIntegrated['radians']]\n",
    "CoordinatesIntegrated['degrees'].describe()"
   ]
  },
  {
   "cell_type": "markdown",
   "id": "de3a4a69-424a-4353-9cec-eff26daddf64",
   "metadata": {},
   "source": [
    "## Angle functions obtuse method"
   ]
  },
  {
   "cell_type": "code",
   "execution_count": 12,
   "id": "f3c26edb-dc3b-4cac-b75c-6877d7a31a38",
   "metadata": {},
   "outputs": [],
   "source": [
    "def signedAngle(v1, v2):\n",
    "    \"\"\"\" Returns the subtraction of arc tangent of vector 2 minus vector 1\n",
    "Parameters\n",
    "-------------\n",
    "v1: tuple of values that contains the coordinates of your reference initial vector,\n",
    "    in our case the perfect angle between position and target (remember to order them y,x)\n",
    "v2: tuple of values that contains the coordinates of your vector of contrast,\n",
    "    in our case the real reply from the participants (remember to order them y,x)\n",
    "returns\n",
    "----------\n",
    "\n",
    "\"\"\"\n",
    "    angle = math.atan2(v2[1], v2[0]) - math.atan2(v1[1], v1[0])\n",
    "    return(np.rad2deg(angle))"
   ]
  },
  {
   "cell_type": "code",
   "execution_count": 13,
   "id": "dddac3c8-f872-4fc3-be31-9b99683bc010",
   "metadata": {},
   "outputs": [
    {
     "data": {
      "text/plain": "count    7728.000000\nmean       -5.933381\nstd        65.184125\nmin      -179.881808\n25%       -40.694701\n50%        -5.548962\n75%        25.345031\nmax       179.983386\nName: SignedAngle-+180, dtype: float64"
     },
     "execution_count": 13,
     "metadata": {},
     "output_type": "execute_result"
    }
   ],
   "source": [
    "signedAngles = []\n",
    "\n",
    "for count, x in enumerate(CoordinatesIntegrated['PointerDirection_z']):\n",
    "    signedAngles = signedAngles + [signedAngle([ CoordinatesIntegrated['PointerDirection_z'][count], CoordinatesIntegrated['PointerDirection_x'][count]], [CoordinatesIntegrated['building-Participant_z'][count]\n",
    "       , CoordinatesIntegrated['building-Participant_x'][count]])]\n",
    "\n",
    "# Account for angle deviations > 180°\n",
    "for count, angle in enumerate(signedAngles):\n",
    "    if angle < 0:\n",
    "        signedAngles[count] = angle + 360\n",
    "CoordinatesIntegrated.insert(11, \"SignedAngle360\", signedAngles, True)\n",
    "\n",
    "for count, angle in enumerate(signedAngles):\n",
    "    if angle > 180:\n",
    "        signedAngles[count] = angle - 360\n",
    "    elif angle < -180:\n",
    "        signedAngles[count] = angle + 360\n",
    "CoordinatesIntegrated.insert(11, \"SignedAngle-+180\", signedAngles, True)\n",
    "CoordinatesIntegrated['SignedAngle-+180'].describe()"
   ]
  },
  {
   "cell_type": "code",
   "execution_count": 14,
   "outputs": [],
   "source": [
    "PointerZ = CoordinatesIntegrated.loc[:,'PointerDirection_z'].values\n",
    "PointerX = CoordinatesIntegrated.loc[:,'PointerDirection_x'].values\n",
    "BuildingParticipantZ = CoordinatesIntegrated.loc[:,'building-Participant_z'].values\n",
    "BuldingParticipantX= CoordinatesIntegrated.loc[:,'building-Participant_x'].values"
   ],
   "metadata": {
    "collapsed": false,
    "pycharm": {
     "name": "#%%\n"
    }
   }
  },
  {
   "cell_type": "code",
   "execution_count": 15,
   "id": "ed401f03-012b-4dc9-83b2-b4c136ad3da2",
   "metadata": {},
   "outputs": [],
   "source": [
    "CoordinatesIntegrated['atanPointer'] = [math.atan2(z, x) for z, x in zip(PointerZ , PointerX)]\n",
    "CoordinatesIntegrated['atanBuild-Part'] = [math.atan2(z, x) for z, x in zip(BuildingParticipantZ , BuldingParticipantX)]\n",
    "CoordinatesIntegrated['atanSubs'] = CoordinatesIntegrated['atanPointer'] - CoordinatesIntegrated['atanBuild-Part']\n",
    "CoordinatesIntegrated['rad2degree']= [np.rad2deg(value) for value in CoordinatesIntegrated['atanSubs']]\n",
    "signedAngles = CoordinatesIntegrated['rad2degree'].values"
   ]
  },
  {
   "cell_type": "code",
   "execution_count": 16,
   "id": "adcdbafa-bc3c-493d-8eb2-ceb8066f8a0a",
   "metadata": {},
   "outputs": [],
   "source": [
    "for count, angle in enumerate(signedAngles):\n",
    "    if angle > 180:\n",
    "        signedAngles[count] = angle - 360\n",
    "    elif angle < -180:\n",
    "        signedAngles[count] = angle + 360\n",
    "CoordinatesIntegrated.insert(11, \"SignedAngle-+1802\", signedAngles, True)"
   ]
  },
  {
   "cell_type": "code",
   "execution_count": 17,
   "id": "481dea20-7d8c-4cd1-b2a2-6ce2c9fb523b",
   "metadata": {},
   "outputs": [
    {
     "data": {
      "text/plain": "       AbsolutError\ncount   7728.000000\nmean      48.142479\nstd       44.346427\nmin        0.009861\n25%       12.876588\n50%       33.791781\n75%       71.571709\nmax      179.983386",
      "text/html": "<div>\n<style scoped>\n    .dataframe tbody tr th:only-of-type {\n        vertical-align: middle;\n    }\n\n    .dataframe tbody tr th {\n        vertical-align: top;\n    }\n\n    .dataframe thead th {\n        text-align: right;\n    }\n</style>\n<table border=\"1\" class=\"dataframe\">\n  <thead>\n    <tr style=\"text-align: right;\">\n      <th></th>\n      <th>AbsolutError</th>\n    </tr>\n  </thead>\n  <tbody>\n    <tr>\n      <th>count</th>\n      <td>7728.000000</td>\n    </tr>\n    <tr>\n      <th>mean</th>\n      <td>48.142479</td>\n    </tr>\n    <tr>\n      <th>std</th>\n      <td>44.346427</td>\n    </tr>\n    <tr>\n      <th>min</th>\n      <td>0.009861</td>\n    </tr>\n    <tr>\n      <th>25%</th>\n      <td>12.876588</td>\n    </tr>\n    <tr>\n      <th>50%</th>\n      <td>33.791781</td>\n    </tr>\n    <tr>\n      <th>75%</th>\n      <td>71.571709</td>\n    </tr>\n    <tr>\n      <th>max</th>\n      <td>179.983386</td>\n    </tr>\n  </tbody>\n</table>\n</div>"
     },
     "execution_count": 17,
     "metadata": {},
     "output_type": "execute_result"
    }
   ],
   "source": [
    "CoordinatesIntegrated['AbsolutError'] = abs(CoordinatesIntegrated['rad2degree'])\n",
    "CoordinatesIntegrated[['AbsolutError']].describe()"
   ]
  },
  {
   "cell_type": "markdown",
   "source": [
    "## Identifying extreme values and flagging first trials"
   ],
   "metadata": {
    "collapsed": false,
    "pycharm": {
     "name": "#%% md\n"
    }
   }
  },
  {
   "cell_type": "markdown",
   "source": [
    "# Flagging the absolute values that transcend 1.5 times and 3 times the inter-quartile range"
   ],
   "metadata": {
    "collapsed": false
   }
  },
  {
   "cell_type": "code",
   "execution_count": 18,
   "outputs": [],
   "source": [
    "def find_iqr(x):\n",
    "    \"\"\"\"\n",
    "    Returns inter-quartile range of a numeric (i.e, integer or float)\n",
    "Parameters\n",
    "-------------\n",
    "    x: Numeric (i.e, integer or float) variable one wants to calculate interquartile range from\n",
    "returns\n",
    "----------\n",
    "    float that contains interquartile range\n",
    "    \"\"\"\n",
    "    return np.subtract(*np.percentile(x, [75, 25]))\n"
   ],
   "metadata": {
    "collapsed": false,
    "pycharm": {
     "name": "#%%\n"
    }
   }
  },
  {
   "cell_type": "code",
   "execution_count": 19,
   "outputs": [
    {
     "data": {
      "text/plain": "   SubjectID        IQR    IQRlimit   IQRlimit2\n7       4176  22.212112   33.318168   66.636336\n15      7412  22.267043   33.400564   66.801128\n1        479  25.855071   38.782607   77.565214\n3       2258  31.996184   47.994275   95.988551\n12      6642  41.924538   62.886807  125.773614\n4       3246  43.714881   65.572322  131.144644\n6       3976  48.755161   73.132742  146.265483\n22      9601  48.844684   73.267026  146.534053\n18      8469  49.615955   74.423933  148.847865\n16      7842  51.103673   76.655509  153.311018\n5       3572  52.353178   78.529767  157.059535\n19      8695  54.858665   82.287997  164.575994\n8       4796  62.478557   93.717835  187.435671\n11      5741  63.405367   95.108051  190.216102\n0        365  63.921884   95.882826  191.765652\n13      7093  64.618153    96.92723   193.85446\n14      7264   66.76581  100.148716  200.297431\n2       1754  66.803331  100.204996  200.409992\n9       5238  68.271486   102.40723  204.814459\n17      8007  69.048874  103.573311  207.146622\n21      9502  70.038664  105.057996  210.115993\n20      9472  73.890298  110.835447  221.670894\n10      5531  79.984012  119.976018  239.952035",
      "text/html": "<div>\n<style scoped>\n    .dataframe tbody tr th:only-of-type {\n        vertical-align: middle;\n    }\n\n    .dataframe tbody tr th {\n        vertical-align: top;\n    }\n\n    .dataframe thead th {\n        text-align: right;\n    }\n</style>\n<table border=\"1\" class=\"dataframe\">\n  <thead>\n    <tr style=\"text-align: right;\">\n      <th></th>\n      <th>SubjectID</th>\n      <th>IQR</th>\n      <th>IQRlimit</th>\n      <th>IQRlimit2</th>\n    </tr>\n  </thead>\n  <tbody>\n    <tr>\n      <th>7</th>\n      <td>4176</td>\n      <td>22.212112</td>\n      <td>33.318168</td>\n      <td>66.636336</td>\n    </tr>\n    <tr>\n      <th>15</th>\n      <td>7412</td>\n      <td>22.267043</td>\n      <td>33.400564</td>\n      <td>66.801128</td>\n    </tr>\n    <tr>\n      <th>1</th>\n      <td>479</td>\n      <td>25.855071</td>\n      <td>38.782607</td>\n      <td>77.565214</td>\n    </tr>\n    <tr>\n      <th>3</th>\n      <td>2258</td>\n      <td>31.996184</td>\n      <td>47.994275</td>\n      <td>95.988551</td>\n    </tr>\n    <tr>\n      <th>12</th>\n      <td>6642</td>\n      <td>41.924538</td>\n      <td>62.886807</td>\n      <td>125.773614</td>\n    </tr>\n    <tr>\n      <th>4</th>\n      <td>3246</td>\n      <td>43.714881</td>\n      <td>65.572322</td>\n      <td>131.144644</td>\n    </tr>\n    <tr>\n      <th>6</th>\n      <td>3976</td>\n      <td>48.755161</td>\n      <td>73.132742</td>\n      <td>146.265483</td>\n    </tr>\n    <tr>\n      <th>22</th>\n      <td>9601</td>\n      <td>48.844684</td>\n      <td>73.267026</td>\n      <td>146.534053</td>\n    </tr>\n    <tr>\n      <th>18</th>\n      <td>8469</td>\n      <td>49.615955</td>\n      <td>74.423933</td>\n      <td>148.847865</td>\n    </tr>\n    <tr>\n      <th>16</th>\n      <td>7842</td>\n      <td>51.103673</td>\n      <td>76.655509</td>\n      <td>153.311018</td>\n    </tr>\n    <tr>\n      <th>5</th>\n      <td>3572</td>\n      <td>52.353178</td>\n      <td>78.529767</td>\n      <td>157.059535</td>\n    </tr>\n    <tr>\n      <th>19</th>\n      <td>8695</td>\n      <td>54.858665</td>\n      <td>82.287997</td>\n      <td>164.575994</td>\n    </tr>\n    <tr>\n      <th>8</th>\n      <td>4796</td>\n      <td>62.478557</td>\n      <td>93.717835</td>\n      <td>187.435671</td>\n    </tr>\n    <tr>\n      <th>11</th>\n      <td>5741</td>\n      <td>63.405367</td>\n      <td>95.108051</td>\n      <td>190.216102</td>\n    </tr>\n    <tr>\n      <th>0</th>\n      <td>365</td>\n      <td>63.921884</td>\n      <td>95.882826</td>\n      <td>191.765652</td>\n    </tr>\n    <tr>\n      <th>13</th>\n      <td>7093</td>\n      <td>64.618153</td>\n      <td>96.92723</td>\n      <td>193.85446</td>\n    </tr>\n    <tr>\n      <th>14</th>\n      <td>7264</td>\n      <td>66.76581</td>\n      <td>100.148716</td>\n      <td>200.297431</td>\n    </tr>\n    <tr>\n      <th>2</th>\n      <td>1754</td>\n      <td>66.803331</td>\n      <td>100.204996</td>\n      <td>200.409992</td>\n    </tr>\n    <tr>\n      <th>9</th>\n      <td>5238</td>\n      <td>68.271486</td>\n      <td>102.40723</td>\n      <td>204.814459</td>\n    </tr>\n    <tr>\n      <th>17</th>\n      <td>8007</td>\n      <td>69.048874</td>\n      <td>103.573311</td>\n      <td>207.146622</td>\n    </tr>\n    <tr>\n      <th>21</th>\n      <td>9502</td>\n      <td>70.038664</td>\n      <td>105.057996</td>\n      <td>210.115993</td>\n    </tr>\n    <tr>\n      <th>20</th>\n      <td>9472</td>\n      <td>73.890298</td>\n      <td>110.835447</td>\n      <td>221.670894</td>\n    </tr>\n    <tr>\n      <th>10</th>\n      <td>5531</td>\n      <td>79.984012</td>\n      <td>119.976018</td>\n      <td>239.952035</td>\n    </tr>\n  </tbody>\n</table>\n</div>"
     },
     "execution_count": 19,
     "metadata": {},
     "output_type": "execute_result"
    }
   ],
   "source": [
    "# Create and empty dataframe that will countain interquartile range\n",
    "inter_quartile_range = pd.DataFrame(columns=['SubjectID', 'IQR'])\n",
    "\n",
    "#Loop through all subjects and calculate personal IQR\n",
    "for i, subject in enumerate(CoordinatesIntegrated.SubjectID.unique()):\n",
    "    inter_quartile_range.at[i, 'SubjectID'] = subject\n",
    "    inter_quartile_range.at[i, 'IQR'] = find_iqr(CoordinatesIntegrated[CoordinatesIntegrated.SubjectID == subject]['AbsolutError'])\n",
    "\n",
    "inter_quartile_range['IQRlimit'] = inter_quartile_range['IQR'] * 1.5\n",
    "inter_quartile_range['IQRlimit2'] = inter_quartile_range['IQR'] * 3\n",
    "\n",
    "inter_quartile_range.sort_values('IQR')"
   ],
   "metadata": {
    "collapsed": false,
    "pycharm": {
     "name": "#%%\n"
    }
   }
  },
  {
   "cell_type": "code",
   "execution_count": 20,
   "outputs": [
    {
     "data": {
      "text/plain": "   SubjectID        IQR   IQRlimit   IQRlimit2  Unnamed: 0  \\\n0        365  63.921884  95.882826  191.765652           0   \n1        365  63.921884  95.882826  191.765652           2   \n2        365  63.921884  95.882826  191.765652           4   \n3        365  63.921884  95.882826  191.765652           6   \n4        365  63.921884  95.882826  191.765652           8   \n5        365  63.921884  95.882826  191.765652          10   \n6        365  63.921884  95.882826  191.765652          12   \n7        365  63.921884  95.882826  191.765652          14   \n8        365  63.921884  95.882826  191.765652          16   \n9        365  63.921884  95.882826  191.765652          18   \n10       365  63.921884  95.882826  191.765652         276   \n11       365  63.921884  95.882826  191.765652         278   \n12       365  63.921884  95.882826  191.765652         280   \n13       365  63.921884  95.882826  191.765652         282   \n14       365  63.921884  95.882826  191.765652         284   \n15       365  63.921884  95.882826  191.765652         556   \n16       365  63.921884  95.882826  191.765652         558   \n17       365  63.921884  95.882826  191.765652         560   \n18       365  63.921884  95.882826  191.765652         562   \n19       365  63.921884  95.882826  191.765652         564   \n20       365  63.921884  95.882826  191.765652         566   \n21       365  63.921884  95.882826  191.765652         834   \n22       365  63.921884  95.882826  191.765652         836   \n23       365  63.921884  95.882826  191.765652         838   \n24       365  63.921884  95.882826  191.765652         840   \n25       365  63.921884  95.882826  191.765652         842   \n26       365  63.921884  95.882826  191.765652         844   \n27       365  63.921884  95.882826  191.765652        1156   \n28       365  63.921884  95.882826  191.765652        1158   \n29       365  63.921884  95.882826  191.765652        1160   \n30       365  63.921884  95.882826  191.765652        1162   \n31       365  63.921884  95.882826  191.765652        1410   \n32       365  63.921884  95.882826  191.765652        1412   \n33       365  63.921884  95.882826  191.765652        1414   \n34       365  63.921884  95.882826  191.765652        1416   \n35       365  63.921884  95.882826  191.765652        1418   \n36       365  63.921884  95.882826  191.765652        1420   \n37       365  63.921884  95.882826  191.765652        1740   \n38       365  63.921884  95.882826  191.765652        1742   \n39       365  63.921884  95.882826  191.765652        1744   \n40       365  63.921884  95.882826  191.765652        1746   \n41       365  63.921884  95.882826  191.765652        1748   \n42       365  63.921884  95.882826  191.765652        1750   \n43       365  63.921884  95.882826  191.765652        1752   \n44       365  63.921884  95.882826  191.765652        1754   \n45       365  63.921884  95.882826  191.765652        1756   \n46       365  63.921884  95.882826  191.765652        2032   \n47       365  63.921884  95.882826  191.765652        2034   \n48       365  63.921884  95.882826  191.765652        2036   \n49       365  63.921884  95.882826  191.765652        2038   \n\n    ParticipantPosition_x  ParticipantPosition_z  PointerPosition_x  \\\n0             -114.329147            -139.997375        -114.236984   \n1              -65.669235            -159.945099         -65.474716   \n2               38.849380              53.547638          38.471634   \n3               38.880081              53.564148          38.700195   \n4              110.754181             196.522675         110.428146   \n5             -228.862320             189.713608        -228.800003   \n6              257.815582             -33.150925         257.569214   \n7              138.625366            -128.793640         138.342194   \n8              366.767181             108.779312         366.540100   \n9              366.760132             108.726776         366.563049   \n10            -114.264938            -139.996460        -114.031693   \n11             195.905914             -81.007034         195.682022   \n12             257.952576             -33.106873         257.599030   \n13            -145.191238             -40.728958        -145.001175   \n14            -145.232742             -40.650330        -145.017960   \n15            -114.299942            -139.961884        -114.061569   \n16            -228.788925             189.682526        -228.867172   \n17             257.807648             -33.225784         257.973724   \n18             216.950668             133.046616         216.664978   \n19              47.104309            -156.820862          46.771957   \n20             366.756836             108.816208         366.602081   \n21            -114.295120            -139.949188        -113.934219   \n22             -33.362106            -190.905579         -33.507980   \n23             -54.861343             235.485718         -54.747574   \n24              38.852203              53.504791          38.397263   \n25             138.623596            -128.767303         138.316162   \n26            -145.189651             -40.701538        -145.545547   \n27            -114.277084            -140.014740        -114.006210   \n28             118.363914             -62.988754         118.608673   \n29             110.740044             196.510422         110.421440   \n30            -228.804886             189.688156        -228.769119   \n31            -114.286270            -139.981323        -114.254471   \n32             118.418083             -62.967758         118.542160   \n33            -228.851852             189.673004        -228.942947   \n34             257.856232             -33.124603         257.676758   \n35             -46.205673             150.912292         -46.621109   \n36             -46.275345             150.925827         -46.208725   \n37            -114.200058            -139.944458        -114.005905   \n38             195.984650             -80.932632         195.665375   \n39              38.812912              53.440681          38.720825   \n40             110.737823             196.590790         110.485550   \n41             257.874573             -33.053452         257.624512   \n42             138.595642            -128.802368         138.426086   \n43             -46.302048             150.929657         -46.374283   \n44             366.742981             108.791023         366.609100   \n45             174.621521             140.401459         174.395279   \n46            -114.258072            -139.931274        -114.512711   \n47            -114.296524            -139.958191        -113.934799   \n48              30.161087             177.592743          30.157837   \n49             -65.702377            -159.985077         -65.450302   \n\n    PointerPosition_z  PointerDirection_x  ...  \\\n0         -139.696228           -0.055459  ...   \n1         -159.710205            0.072550  ...   \n2           53.516281           -0.993265  ...   \n3           53.581047           -0.995648  ...   \n4          196.550751           -0.941145  ...   \n5          189.430649            0.052264  ...   \n6          -33.181824           -0.990357  ...   \n7         -128.611328           -0.886482  ...   \n8          108.767654           -0.957100  ...   \n9          108.749207           -0.859302  ...   \n10        -139.985962            0.928706  ...   \n11         -81.054611           -0.739078  ...   \n12         -32.971573           -0.799476  ...   \n13         -40.573227            0.614777  ...   \n14         -40.681519            0.600722  ...   \n15        -139.765411            0.492234  ...   \n16         189.439392           -0.445232  ...   \n17         -32.808746            0.001343  ...   \n18         133.118362           -0.903030  ...   \n19        -156.773163           -0.971934  ...   \n20         108.699081           -0.642230  ...   \n21        -139.899109            0.925734  ...   \n22        -190.554291           -0.517750  ...   \n23         235.106934            0.374437  ...   \n24          53.840721           -0.652527  ...   \n25        -128.616516           -0.975714  ...   \n26         -40.807449           -0.934735  ...   \n27        -139.814026            0.587291  ...   \n28         -62.892502            0.659258  ...   \n29         196.583527           -0.986563  ...   \n30         189.449280            0.068531  ...   \n31        -139.710114           -0.474944  ...   \n32         -62.827560            0.225739  ...   \n33         189.465286           -0.193994  ...   \n34         -32.824356           -0.730905  ...   \n35         151.015305           -0.749870  ...   \n36         150.363800           -0.433192  ...   \n37        -139.634216           -0.569885  ...   \n38         -80.875168           -0.983025  ...   \n39          53.707710           -0.749580  ...   \n40         196.228027           -0.362722  ...   \n41         -33.072906           -0.926267  ...   \n42        -128.948242           -0.588894  ...   \n43         150.982941           -0.071536  ...   \n44         108.758179           -0.331197  ...   \n45         140.283325           -0.452081  ...   \n46        -139.714630           -0.989938  ...   \n47        -140.280060            0.747369  ...   \n48         177.181671            0.326168  ...   \n49        -159.673187            0.108378  ...   \n\n    Dot_Pointer-Building-Participant  Magnitud_Participant-Pointer  \\\n0                       32021.797071                    181.482199   \n1                       33863.023381                    173.847081   \n2                        4453.481807                     66.834707   \n3                        4459.269897                     66.829809   \n4                       48672.268414                    226.326423   \n5                       61793.390879                    297.946867   \n6                       88383.092609                    260.934694   \n7                       52999.822407                    190.182931   \n8                      167609.469643                    383.554183   \n9                      167563.226130                    383.495456   \n10                      23107.980875                    181.583261   \n11                      41437.093201                    212.421268   \n12                      67669.495515                    260.937009   \n13                      19155.933563                    151.601687   \n14                      19164.043785                    151.609230   \n15                      52187.732878                    181.685278   \n16                     113189.948984                    297.419693   \n17                      34334.274920                    260.067595   \n18                      32181.347493                    255.487495   \n19                      25048.882748                    164.102729   \n20                      94649.298618                    383.386758   \n21                      48808.492531                    181.569633   \n22                      48761.873178                    194.549661   \n23                      53370.161436                    242.779047   \n24                      -1327.205045                     65.911815   \n25                      29376.912868                    190.066909   \n26                      36825.281263                    149.793835   \n27                      68897.801700                    181.727121   \n28                       7492.587805                    133.848490   \n29                       8348.420270                    226.182944   \n30                     100361.175961                    297.898062   \n31                      50569.088263                    181.092011   \n32                      -3365.491825                    134.371264   \n33                     130775.723688                    297.712939   \n34                      22447.756336                    260.787501   \n35                      34924.683561                    158.241937   \n36                      35054.688651                    158.585154   \n37                      58754.308784                    180.905636   \n38                      51511.969705                    212.887215   \n39                      -5322.104096                     65.960985   \n40                      16125.447127                    226.621757   \n41                      64525.423744                    260.855654   \n42                      51543.611076                    189.096673   \n43                       2459.679500                    158.778638   \n44                     117104.332346                    383.118166   \n45                      22234.698201                    224.937113   \n46                      25119.408902                    180.131341   \n47                      24923.753716                    180.660434   \n48                      25816.430549                    180.982150   \n49                      30677.634894                    173.907709   \n\n    Magnitud_Participant-Building   radians     degrees  atanPointer  \\\n0                      197.743621  0.468390   26.836743     1.626782   \n1                      213.345438  0.420196   24.075485     1.497808   \n2                      111.427967  0.929789   53.272987    -3.028520   \n3                      111.458707  0.928970   53.226082    -3.075803   \n4                      232.651757  0.391448   22.428323    -2.811994   \n5                      207.452469  0.023052    1.320792    -1.518411   \n6                      341.514086  0.128067    7.337709     3.029311   \n7                      278.856352  0.035755    2.048609     2.664697   \n8                      442.835947  0.162663    9.319878    -2.862593   \n9                      442.822373  0.163223    9.351997    -2.637894   \n10                     131.650932  0.259047   14.842328     0.379664   \n11                     204.165223  0.299604   17.166049    -2.402885   \n12                     267.097794  0.241719   13.849498     2.505595   \n13                     139.517864  0.437842   25.086472     0.908408   \n14                     139.571414  0.437863   25.087722     0.925482   \n15                     299.494382  0.287021   16.445099     1.053591   \n16                     395.731904  0.277679   15.909812    -2.034954   \n17                     139.596861  0.330970   18.963210     1.569447   \n18                     133.662168  0.341122   19.544828    -2.705269   \n19                     204.777447  0.729659   41.806379     3.057840   \n20                     247.061442  0.038663    2.215232    -2.283233   \n21                     271.683341  0.145460    8.334246     0.387552   \n22                     262.766738  0.304994   17.474871     2.117053   \n23                     239.099030  0.404217   23.159935    -1.186675   \n24                      49.051167  1.993811  114.236975     2.291056   \n25                     179.260121  0.531169   30.433714     2.920815   \n26                     246.493973  0.072873    4.175302    -2.788734   \n27                     381.426288  0.109837    6.293217     0.942023   \n28                     194.370883  1.278662   73.261955     0.841339   \n29                      83.630761  1.113699   63.810259    -2.989275   \n30                     391.557320  0.534733   30.637960    -1.502057   \n31                     314.413149  0.477498   27.358614     2.066741   \n32                      74.053713  1.915818  109.768275     1.338841   \n33                     450.868277  0.227333   13.025226    -1.766218   \n34                      86.490943  0.097898    5.609128     2.391586   \n35                     274.543788  0.636981   36.496337    -2.419553   \n36                     274.607680  0.635199   36.394215    -2.024207   \n37                     332.944504  0.221931   12.715726     2.177335   \n38                     290.019098  0.583901   33.455037    -2.983211   \n39                     105.535978  2.441111  139.865379     2.418667   \n40                      86.637921  0.607109   34.784798    -1.943016   \n41                     295.768846  0.580240   33.245316    -2.755724   \n42                     306.456185  0.474651   27.195522    -2.206779   \n43                      79.467675  1.374602   78.758913    -1.644439   \n44                     337.692437  0.439072   25.156977    -1.917031   \n45                     143.035680  0.807820   46.284665    -2.070236   \n46                     203.523326  0.815943   46.750078     3.009355   \n47                     203.544788  0.826054   47.329390    -0.725797   \n48                     207.390500  0.812322   46.542611    -1.227792   \n49                     234.408344  0.718885   41.189060     1.461710   \n\n    atanBuild-Part  atanSubs  rad2degree AbsolutError  \n0         1.358059  0.268723   15.396716    15.396716  \n1         1.603186 -0.105378   -6.037733     6.037733  \n2        -3.139266  0.110746    6.345290     6.345290  \n3        -3.139119  0.063316    3.627752     3.627752  \n4        -2.478370 -0.333624  -19.115237    19.115237  \n5        -0.717657 -0.800754  -45.879831    45.879831  \n6         2.885703  0.143608    8.228125     8.228125  \n7         2.430106  0.234591   13.441060    13.441060  \n8        -3.015954  0.153362    8.786976     8.786976  \n9        -3.016070  0.378176   21.667869    21.667869  \n10        0.624537 -0.244872  -14.030148    14.030148  \n11        3.053365 -5.456250   47.379892    47.379892  \n12       -3.029374  5.534969  -42.869653    42.869653  \n13       -0.160440  1.068848   61.240507    61.240507  \n14       -0.160949  1.086431   62.247934    62.247934  \n15        0.599878  0.453713   25.995860    25.995860  \n16       -0.417797 -1.617157  -92.656289    92.656289  \n17        2.678655 -1.109208  -63.552964    63.552964  \n18       -2.250803 -0.454466  -26.038975    26.038975  \n19        1.138463  1.919376  109.972171   109.972171  \n20       -2.813122  0.529888   30.360366    30.360366  \n21        0.737869 -0.350316  -20.071653    20.071653  \n22        1.096167  1.020886   58.492451    58.492451  \n23       -0.937055 -0.249620  -14.302195    14.302195  \n24       -0.219683  2.510739  143.854772   143.854772  \n25        1.864520  1.056295   60.521256    60.521256  \n26        0.345662 -3.134396 -179.587660   179.587660  \n27        0.776737  0.165287    9.470232     9.470232  \n28        1.366708 -0.525369  -30.101398    30.101398  \n29       -0.973742 -2.015533 -115.481516   115.481516  \n30       -0.159891 -1.342166  -76.900450    76.900450  \n31        0.413711  1.653030   94.711669    94.711669  \n32        0.729990  0.608852   34.884629    34.884629  \n33       -0.467676 -1.298543  -74.401013    74.401013  \n34        2.913700 -0.522114  -29.914954    29.914954  \n35       -0.642455 -1.777097 -101.820181   101.820181  \n36       -0.642343 -1.381864  -79.174991    79.174991  \n37        1.113595  1.063740   60.947803    60.947803  \n38        2.168513 -5.151724   64.827973    64.827973  \n39        1.628044  0.790623   45.299369    45.299369  \n40       -2.690278  0.747262   42.814954    42.814954  \n41        2.435753 -5.191477   62.550270    62.550270  \n42        1.923361 -4.130140  123.360417   123.360417  \n43        0.099249 -1.743687  -99.905925    99.905925  \n44        2.992944 -4.909975   78.679133    78.679133  \n45        3.012580 -5.082815   68.776131    68.776131  \n46        1.706719  1.302636   74.635555    74.635555  \n47        1.706514 -2.432311 -139.361182   139.361182  \n48       -2.548724  1.320932   75.683855    75.683855  \n49        1.901589 -0.439878  -25.203170    25.203170  \n\n[50 rows x 55 columns]",
      "text/html": "<div>\n<style scoped>\n    .dataframe tbody tr th:only-of-type {\n        vertical-align: middle;\n    }\n\n    .dataframe tbody tr th {\n        vertical-align: top;\n    }\n\n    .dataframe thead th {\n        text-align: right;\n    }\n</style>\n<table border=\"1\" class=\"dataframe\">\n  <thead>\n    <tr style=\"text-align: right;\">\n      <th></th>\n      <th>SubjectID</th>\n      <th>IQR</th>\n      <th>IQRlimit</th>\n      <th>IQRlimit2</th>\n      <th>Unnamed: 0</th>\n      <th>ParticipantPosition_x</th>\n      <th>ParticipantPosition_z</th>\n      <th>PointerPosition_x</th>\n      <th>PointerPosition_z</th>\n      <th>PointerDirection_x</th>\n      <th>...</th>\n      <th>Dot_Pointer-Building-Participant</th>\n      <th>Magnitud_Participant-Pointer</th>\n      <th>Magnitud_Participant-Building</th>\n      <th>radians</th>\n      <th>degrees</th>\n      <th>atanPointer</th>\n      <th>atanBuild-Part</th>\n      <th>atanSubs</th>\n      <th>rad2degree</th>\n      <th>AbsolutError</th>\n    </tr>\n  </thead>\n  <tbody>\n    <tr>\n      <th>0</th>\n      <td>365</td>\n      <td>63.921884</td>\n      <td>95.882826</td>\n      <td>191.765652</td>\n      <td>0</td>\n      <td>-114.329147</td>\n      <td>-139.997375</td>\n      <td>-114.236984</td>\n      <td>-139.696228</td>\n      <td>-0.055459</td>\n      <td>...</td>\n      <td>32021.797071</td>\n      <td>181.482199</td>\n      <td>197.743621</td>\n      <td>0.468390</td>\n      <td>26.836743</td>\n      <td>1.626782</td>\n      <td>1.358059</td>\n      <td>0.268723</td>\n      <td>15.396716</td>\n      <td>15.396716</td>\n    </tr>\n    <tr>\n      <th>1</th>\n      <td>365</td>\n      <td>63.921884</td>\n      <td>95.882826</td>\n      <td>191.765652</td>\n      <td>2</td>\n      <td>-65.669235</td>\n      <td>-159.945099</td>\n      <td>-65.474716</td>\n      <td>-159.710205</td>\n      <td>0.072550</td>\n      <td>...</td>\n      <td>33863.023381</td>\n      <td>173.847081</td>\n      <td>213.345438</td>\n      <td>0.420196</td>\n      <td>24.075485</td>\n      <td>1.497808</td>\n      <td>1.603186</td>\n      <td>-0.105378</td>\n      <td>-6.037733</td>\n      <td>6.037733</td>\n    </tr>\n    <tr>\n      <th>2</th>\n      <td>365</td>\n      <td>63.921884</td>\n      <td>95.882826</td>\n      <td>191.765652</td>\n      <td>4</td>\n      <td>38.849380</td>\n      <td>53.547638</td>\n      <td>38.471634</td>\n      <td>53.516281</td>\n      <td>-0.993265</td>\n      <td>...</td>\n      <td>4453.481807</td>\n      <td>66.834707</td>\n      <td>111.427967</td>\n      <td>0.929789</td>\n      <td>53.272987</td>\n      <td>-3.028520</td>\n      <td>-3.139266</td>\n      <td>0.110746</td>\n      <td>6.345290</td>\n      <td>6.345290</td>\n    </tr>\n    <tr>\n      <th>3</th>\n      <td>365</td>\n      <td>63.921884</td>\n      <td>95.882826</td>\n      <td>191.765652</td>\n      <td>6</td>\n      <td>38.880081</td>\n      <td>53.564148</td>\n      <td>38.700195</td>\n      <td>53.581047</td>\n      <td>-0.995648</td>\n      <td>...</td>\n      <td>4459.269897</td>\n      <td>66.829809</td>\n      <td>111.458707</td>\n      <td>0.928970</td>\n      <td>53.226082</td>\n      <td>-3.075803</td>\n      <td>-3.139119</td>\n      <td>0.063316</td>\n      <td>3.627752</td>\n      <td>3.627752</td>\n    </tr>\n    <tr>\n      <th>4</th>\n      <td>365</td>\n      <td>63.921884</td>\n      <td>95.882826</td>\n      <td>191.765652</td>\n      <td>8</td>\n      <td>110.754181</td>\n      <td>196.522675</td>\n      <td>110.428146</td>\n      <td>196.550751</td>\n      <td>-0.941145</td>\n      <td>...</td>\n      <td>48672.268414</td>\n      <td>226.326423</td>\n      <td>232.651757</td>\n      <td>0.391448</td>\n      <td>22.428323</td>\n      <td>-2.811994</td>\n      <td>-2.478370</td>\n      <td>-0.333624</td>\n      <td>-19.115237</td>\n      <td>19.115237</td>\n    </tr>\n    <tr>\n      <th>5</th>\n      <td>365</td>\n      <td>63.921884</td>\n      <td>95.882826</td>\n      <td>191.765652</td>\n      <td>10</td>\n      <td>-228.862320</td>\n      <td>189.713608</td>\n      <td>-228.800003</td>\n      <td>189.430649</td>\n      <td>0.052264</td>\n      <td>...</td>\n      <td>61793.390879</td>\n      <td>297.946867</td>\n      <td>207.452469</td>\n      <td>0.023052</td>\n      <td>1.320792</td>\n      <td>-1.518411</td>\n      <td>-0.717657</td>\n      <td>-0.800754</td>\n      <td>-45.879831</td>\n      <td>45.879831</td>\n    </tr>\n    <tr>\n      <th>6</th>\n      <td>365</td>\n      <td>63.921884</td>\n      <td>95.882826</td>\n      <td>191.765652</td>\n      <td>12</td>\n      <td>257.815582</td>\n      <td>-33.150925</td>\n      <td>257.569214</td>\n      <td>-33.181824</td>\n      <td>-0.990357</td>\n      <td>...</td>\n      <td>88383.092609</td>\n      <td>260.934694</td>\n      <td>341.514086</td>\n      <td>0.128067</td>\n      <td>7.337709</td>\n      <td>3.029311</td>\n      <td>2.885703</td>\n      <td>0.143608</td>\n      <td>8.228125</td>\n      <td>8.228125</td>\n    </tr>\n    <tr>\n      <th>7</th>\n      <td>365</td>\n      <td>63.921884</td>\n      <td>95.882826</td>\n      <td>191.765652</td>\n      <td>14</td>\n      <td>138.625366</td>\n      <td>-128.793640</td>\n      <td>138.342194</td>\n      <td>-128.611328</td>\n      <td>-0.886482</td>\n      <td>...</td>\n      <td>52999.822407</td>\n      <td>190.182931</td>\n      <td>278.856352</td>\n      <td>0.035755</td>\n      <td>2.048609</td>\n      <td>2.664697</td>\n      <td>2.430106</td>\n      <td>0.234591</td>\n      <td>13.441060</td>\n      <td>13.441060</td>\n    </tr>\n    <tr>\n      <th>8</th>\n      <td>365</td>\n      <td>63.921884</td>\n      <td>95.882826</td>\n      <td>191.765652</td>\n      <td>16</td>\n      <td>366.767181</td>\n      <td>108.779312</td>\n      <td>366.540100</td>\n      <td>108.767654</td>\n      <td>-0.957100</td>\n      <td>...</td>\n      <td>167609.469643</td>\n      <td>383.554183</td>\n      <td>442.835947</td>\n      <td>0.162663</td>\n      <td>9.319878</td>\n      <td>-2.862593</td>\n      <td>-3.015954</td>\n      <td>0.153362</td>\n      <td>8.786976</td>\n      <td>8.786976</td>\n    </tr>\n    <tr>\n      <th>9</th>\n      <td>365</td>\n      <td>63.921884</td>\n      <td>95.882826</td>\n      <td>191.765652</td>\n      <td>18</td>\n      <td>366.760132</td>\n      <td>108.726776</td>\n      <td>366.563049</td>\n      <td>108.749207</td>\n      <td>-0.859302</td>\n      <td>...</td>\n      <td>167563.226130</td>\n      <td>383.495456</td>\n      <td>442.822373</td>\n      <td>0.163223</td>\n      <td>9.351997</td>\n      <td>-2.637894</td>\n      <td>-3.016070</td>\n      <td>0.378176</td>\n      <td>21.667869</td>\n      <td>21.667869</td>\n    </tr>\n    <tr>\n      <th>10</th>\n      <td>365</td>\n      <td>63.921884</td>\n      <td>95.882826</td>\n      <td>191.765652</td>\n      <td>276</td>\n      <td>-114.264938</td>\n      <td>-139.996460</td>\n      <td>-114.031693</td>\n      <td>-139.985962</td>\n      <td>0.928706</td>\n      <td>...</td>\n      <td>23107.980875</td>\n      <td>181.583261</td>\n      <td>131.650932</td>\n      <td>0.259047</td>\n      <td>14.842328</td>\n      <td>0.379664</td>\n      <td>0.624537</td>\n      <td>-0.244872</td>\n      <td>-14.030148</td>\n      <td>14.030148</td>\n    </tr>\n    <tr>\n      <th>11</th>\n      <td>365</td>\n      <td>63.921884</td>\n      <td>95.882826</td>\n      <td>191.765652</td>\n      <td>278</td>\n      <td>195.905914</td>\n      <td>-81.007034</td>\n      <td>195.682022</td>\n      <td>-81.054611</td>\n      <td>-0.739078</td>\n      <td>...</td>\n      <td>41437.093201</td>\n      <td>212.421268</td>\n      <td>204.165223</td>\n      <td>0.299604</td>\n      <td>17.166049</td>\n      <td>-2.402885</td>\n      <td>3.053365</td>\n      <td>-5.456250</td>\n      <td>47.379892</td>\n      <td>47.379892</td>\n    </tr>\n    <tr>\n      <th>12</th>\n      <td>365</td>\n      <td>63.921884</td>\n      <td>95.882826</td>\n      <td>191.765652</td>\n      <td>280</td>\n      <td>257.952576</td>\n      <td>-33.106873</td>\n      <td>257.599030</td>\n      <td>-32.971573</td>\n      <td>-0.799476</td>\n      <td>...</td>\n      <td>67669.495515</td>\n      <td>260.937009</td>\n      <td>267.097794</td>\n      <td>0.241719</td>\n      <td>13.849498</td>\n      <td>2.505595</td>\n      <td>-3.029374</td>\n      <td>5.534969</td>\n      <td>-42.869653</td>\n      <td>42.869653</td>\n    </tr>\n    <tr>\n      <th>13</th>\n      <td>365</td>\n      <td>63.921884</td>\n      <td>95.882826</td>\n      <td>191.765652</td>\n      <td>282</td>\n      <td>-145.191238</td>\n      <td>-40.728958</td>\n      <td>-145.001175</td>\n      <td>-40.573227</td>\n      <td>0.614777</td>\n      <td>...</td>\n      <td>19155.933563</td>\n      <td>151.601687</td>\n      <td>139.517864</td>\n      <td>0.437842</td>\n      <td>25.086472</td>\n      <td>0.908408</td>\n      <td>-0.160440</td>\n      <td>1.068848</td>\n      <td>61.240507</td>\n      <td>61.240507</td>\n    </tr>\n    <tr>\n      <th>14</th>\n      <td>365</td>\n      <td>63.921884</td>\n      <td>95.882826</td>\n      <td>191.765652</td>\n      <td>284</td>\n      <td>-145.232742</td>\n      <td>-40.650330</td>\n      <td>-145.017960</td>\n      <td>-40.681519</td>\n      <td>0.600722</td>\n      <td>...</td>\n      <td>19164.043785</td>\n      <td>151.609230</td>\n      <td>139.571414</td>\n      <td>0.437863</td>\n      <td>25.087722</td>\n      <td>0.925482</td>\n      <td>-0.160949</td>\n      <td>1.086431</td>\n      <td>62.247934</td>\n      <td>62.247934</td>\n    </tr>\n    <tr>\n      <th>15</th>\n      <td>365</td>\n      <td>63.921884</td>\n      <td>95.882826</td>\n      <td>191.765652</td>\n      <td>556</td>\n      <td>-114.299942</td>\n      <td>-139.961884</td>\n      <td>-114.061569</td>\n      <td>-139.765411</td>\n      <td>0.492234</td>\n      <td>...</td>\n      <td>52187.732878</td>\n      <td>181.685278</td>\n      <td>299.494382</td>\n      <td>0.287021</td>\n      <td>16.445099</td>\n      <td>1.053591</td>\n      <td>0.599878</td>\n      <td>0.453713</td>\n      <td>25.995860</td>\n      <td>25.995860</td>\n    </tr>\n    <tr>\n      <th>16</th>\n      <td>365</td>\n      <td>63.921884</td>\n      <td>95.882826</td>\n      <td>191.765652</td>\n      <td>558</td>\n      <td>-228.788925</td>\n      <td>189.682526</td>\n      <td>-228.867172</td>\n      <td>189.439392</td>\n      <td>-0.445232</td>\n      <td>...</td>\n      <td>113189.948984</td>\n      <td>297.419693</td>\n      <td>395.731904</td>\n      <td>0.277679</td>\n      <td>15.909812</td>\n      <td>-2.034954</td>\n      <td>-0.417797</td>\n      <td>-1.617157</td>\n      <td>-92.656289</td>\n      <td>92.656289</td>\n    </tr>\n    <tr>\n      <th>17</th>\n      <td>365</td>\n      <td>63.921884</td>\n      <td>95.882826</td>\n      <td>191.765652</td>\n      <td>560</td>\n      <td>257.807648</td>\n      <td>-33.225784</td>\n      <td>257.973724</td>\n      <td>-32.808746</td>\n      <td>0.001343</td>\n      <td>...</td>\n      <td>34334.274920</td>\n      <td>260.067595</td>\n      <td>139.596861</td>\n      <td>0.330970</td>\n      <td>18.963210</td>\n      <td>1.569447</td>\n      <td>2.678655</td>\n      <td>-1.109208</td>\n      <td>-63.552964</td>\n      <td>63.552964</td>\n    </tr>\n    <tr>\n      <th>18</th>\n      <td>365</td>\n      <td>63.921884</td>\n      <td>95.882826</td>\n      <td>191.765652</td>\n      <td>562</td>\n      <td>216.950668</td>\n      <td>133.046616</td>\n      <td>216.664978</td>\n      <td>133.118362</td>\n      <td>-0.903030</td>\n      <td>...</td>\n      <td>32181.347493</td>\n      <td>255.487495</td>\n      <td>133.662168</td>\n      <td>0.341122</td>\n      <td>19.544828</td>\n      <td>-2.705269</td>\n      <td>-2.250803</td>\n      <td>-0.454466</td>\n      <td>-26.038975</td>\n      <td>26.038975</td>\n    </tr>\n    <tr>\n      <th>19</th>\n      <td>365</td>\n      <td>63.921884</td>\n      <td>95.882826</td>\n      <td>191.765652</td>\n      <td>564</td>\n      <td>47.104309</td>\n      <td>-156.820862</td>\n      <td>46.771957</td>\n      <td>-156.773163</td>\n      <td>-0.971934</td>\n      <td>...</td>\n      <td>25048.882748</td>\n      <td>164.102729</td>\n      <td>204.777447</td>\n      <td>0.729659</td>\n      <td>41.806379</td>\n      <td>3.057840</td>\n      <td>1.138463</td>\n      <td>1.919376</td>\n      <td>109.972171</td>\n      <td>109.972171</td>\n    </tr>\n    <tr>\n      <th>20</th>\n      <td>365</td>\n      <td>63.921884</td>\n      <td>95.882826</td>\n      <td>191.765652</td>\n      <td>566</td>\n      <td>366.756836</td>\n      <td>108.816208</td>\n      <td>366.602081</td>\n      <td>108.699081</td>\n      <td>-0.642230</td>\n      <td>...</td>\n      <td>94649.298618</td>\n      <td>383.386758</td>\n      <td>247.061442</td>\n      <td>0.038663</td>\n      <td>2.215232</td>\n      <td>-2.283233</td>\n      <td>-2.813122</td>\n      <td>0.529888</td>\n      <td>30.360366</td>\n      <td>30.360366</td>\n    </tr>\n    <tr>\n      <th>21</th>\n      <td>365</td>\n      <td>63.921884</td>\n      <td>95.882826</td>\n      <td>191.765652</td>\n      <td>834</td>\n      <td>-114.295120</td>\n      <td>-139.949188</td>\n      <td>-113.934219</td>\n      <td>-139.899109</td>\n      <td>0.925734</td>\n      <td>...</td>\n      <td>48808.492531</td>\n      <td>181.569633</td>\n      <td>271.683341</td>\n      <td>0.145460</td>\n      <td>8.334246</td>\n      <td>0.387552</td>\n      <td>0.737869</td>\n      <td>-0.350316</td>\n      <td>-20.071653</td>\n      <td>20.071653</td>\n    </tr>\n    <tr>\n      <th>22</th>\n      <td>365</td>\n      <td>63.921884</td>\n      <td>95.882826</td>\n      <td>191.765652</td>\n      <td>836</td>\n      <td>-33.362106</td>\n      <td>-190.905579</td>\n      <td>-33.507980</td>\n      <td>-190.554291</td>\n      <td>-0.517750</td>\n      <td>...</td>\n      <td>48761.873178</td>\n      <td>194.549661</td>\n      <td>262.766738</td>\n      <td>0.304994</td>\n      <td>17.474871</td>\n      <td>2.117053</td>\n      <td>1.096167</td>\n      <td>1.020886</td>\n      <td>58.492451</td>\n      <td>58.492451</td>\n    </tr>\n    <tr>\n      <th>23</th>\n      <td>365</td>\n      <td>63.921884</td>\n      <td>95.882826</td>\n      <td>191.765652</td>\n      <td>838</td>\n      <td>-54.861343</td>\n      <td>235.485718</td>\n      <td>-54.747574</td>\n      <td>235.106934</td>\n      <td>0.374437</td>\n      <td>...</td>\n      <td>53370.161436</td>\n      <td>242.779047</td>\n      <td>239.099030</td>\n      <td>0.404217</td>\n      <td>23.159935</td>\n      <td>-1.186675</td>\n      <td>-0.937055</td>\n      <td>-0.249620</td>\n      <td>-14.302195</td>\n      <td>14.302195</td>\n    </tr>\n    <tr>\n      <th>24</th>\n      <td>365</td>\n      <td>63.921884</td>\n      <td>95.882826</td>\n      <td>191.765652</td>\n      <td>840</td>\n      <td>38.852203</td>\n      <td>53.504791</td>\n      <td>38.397263</td>\n      <td>53.840721</td>\n      <td>-0.652527</td>\n      <td>...</td>\n      <td>-1327.205045</td>\n      <td>65.911815</td>\n      <td>49.051167</td>\n      <td>1.993811</td>\n      <td>114.236975</td>\n      <td>2.291056</td>\n      <td>-0.219683</td>\n      <td>2.510739</td>\n      <td>143.854772</td>\n      <td>143.854772</td>\n    </tr>\n    <tr>\n      <th>25</th>\n      <td>365</td>\n      <td>63.921884</td>\n      <td>95.882826</td>\n      <td>191.765652</td>\n      <td>842</td>\n      <td>138.623596</td>\n      <td>-128.767303</td>\n      <td>138.316162</td>\n      <td>-128.616516</td>\n      <td>-0.975714</td>\n      <td>...</td>\n      <td>29376.912868</td>\n      <td>190.066909</td>\n      <td>179.260121</td>\n      <td>0.531169</td>\n      <td>30.433714</td>\n      <td>2.920815</td>\n      <td>1.864520</td>\n      <td>1.056295</td>\n      <td>60.521256</td>\n      <td>60.521256</td>\n    </tr>\n    <tr>\n      <th>26</th>\n      <td>365</td>\n      <td>63.921884</td>\n      <td>95.882826</td>\n      <td>191.765652</td>\n      <td>844</td>\n      <td>-145.189651</td>\n      <td>-40.701538</td>\n      <td>-145.545547</td>\n      <td>-40.807449</td>\n      <td>-0.934735</td>\n      <td>...</td>\n      <td>36825.281263</td>\n      <td>149.793835</td>\n      <td>246.493973</td>\n      <td>0.072873</td>\n      <td>4.175302</td>\n      <td>-2.788734</td>\n      <td>0.345662</td>\n      <td>-3.134396</td>\n      <td>-179.587660</td>\n      <td>179.587660</td>\n    </tr>\n    <tr>\n      <th>27</th>\n      <td>365</td>\n      <td>63.921884</td>\n      <td>95.882826</td>\n      <td>191.765652</td>\n      <td>1156</td>\n      <td>-114.277084</td>\n      <td>-140.014740</td>\n      <td>-114.006210</td>\n      <td>-139.814026</td>\n      <td>0.587291</td>\n      <td>...</td>\n      <td>68897.801700</td>\n      <td>181.727121</td>\n      <td>381.426288</td>\n      <td>0.109837</td>\n      <td>6.293217</td>\n      <td>0.942023</td>\n      <td>0.776737</td>\n      <td>0.165287</td>\n      <td>9.470232</td>\n      <td>9.470232</td>\n    </tr>\n    <tr>\n      <th>28</th>\n      <td>365</td>\n      <td>63.921884</td>\n      <td>95.882826</td>\n      <td>191.765652</td>\n      <td>1158</td>\n      <td>118.363914</td>\n      <td>-62.988754</td>\n      <td>118.608673</td>\n      <td>-62.892502</td>\n      <td>0.659258</td>\n      <td>...</td>\n      <td>7492.587805</td>\n      <td>133.848490</td>\n      <td>194.370883</td>\n      <td>1.278662</td>\n      <td>73.261955</td>\n      <td>0.841339</td>\n      <td>1.366708</td>\n      <td>-0.525369</td>\n      <td>-30.101398</td>\n      <td>30.101398</td>\n    </tr>\n    <tr>\n      <th>29</th>\n      <td>365</td>\n      <td>63.921884</td>\n      <td>95.882826</td>\n      <td>191.765652</td>\n      <td>1160</td>\n      <td>110.740044</td>\n      <td>196.510422</td>\n      <td>110.421440</td>\n      <td>196.583527</td>\n      <td>-0.986563</td>\n      <td>...</td>\n      <td>8348.420270</td>\n      <td>226.182944</td>\n      <td>83.630761</td>\n      <td>1.113699</td>\n      <td>63.810259</td>\n      <td>-2.989275</td>\n      <td>-0.973742</td>\n      <td>-2.015533</td>\n      <td>-115.481516</td>\n      <td>115.481516</td>\n    </tr>\n    <tr>\n      <th>30</th>\n      <td>365</td>\n      <td>63.921884</td>\n      <td>95.882826</td>\n      <td>191.765652</td>\n      <td>1162</td>\n      <td>-228.804886</td>\n      <td>189.688156</td>\n      <td>-228.769119</td>\n      <td>189.449280</td>\n      <td>0.068531</td>\n      <td>...</td>\n      <td>100361.175961</td>\n      <td>297.898062</td>\n      <td>391.557320</td>\n      <td>0.534733</td>\n      <td>30.637960</td>\n      <td>-1.502057</td>\n      <td>-0.159891</td>\n      <td>-1.342166</td>\n      <td>-76.900450</td>\n      <td>76.900450</td>\n    </tr>\n    <tr>\n      <th>31</th>\n      <td>365</td>\n      <td>63.921884</td>\n      <td>95.882826</td>\n      <td>191.765652</td>\n      <td>1410</td>\n      <td>-114.286270</td>\n      <td>-139.981323</td>\n      <td>-114.254471</td>\n      <td>-139.710114</td>\n      <td>-0.474944</td>\n      <td>...</td>\n      <td>50569.088263</td>\n      <td>181.092011</td>\n      <td>314.413149</td>\n      <td>0.477498</td>\n      <td>27.358614</td>\n      <td>2.066741</td>\n      <td>0.413711</td>\n      <td>1.653030</td>\n      <td>94.711669</td>\n      <td>94.711669</td>\n    </tr>\n    <tr>\n      <th>32</th>\n      <td>365</td>\n      <td>63.921884</td>\n      <td>95.882826</td>\n      <td>191.765652</td>\n      <td>1412</td>\n      <td>118.418083</td>\n      <td>-62.967758</td>\n      <td>118.542160</td>\n      <td>-62.827560</td>\n      <td>0.225739</td>\n      <td>...</td>\n      <td>-3365.491825</td>\n      <td>134.371264</td>\n      <td>74.053713</td>\n      <td>1.915818</td>\n      <td>109.768275</td>\n      <td>1.338841</td>\n      <td>0.729990</td>\n      <td>0.608852</td>\n      <td>34.884629</td>\n      <td>34.884629</td>\n    </tr>\n    <tr>\n      <th>33</th>\n      <td>365</td>\n      <td>63.921884</td>\n      <td>95.882826</td>\n      <td>191.765652</td>\n      <td>1414</td>\n      <td>-228.851852</td>\n      <td>189.673004</td>\n      <td>-228.942947</td>\n      <td>189.465286</td>\n      <td>-0.193994</td>\n      <td>...</td>\n      <td>130775.723688</td>\n      <td>297.712939</td>\n      <td>450.868277</td>\n      <td>0.227333</td>\n      <td>13.025226</td>\n      <td>-1.766218</td>\n      <td>-0.467676</td>\n      <td>-1.298543</td>\n      <td>-74.401013</td>\n      <td>74.401013</td>\n    </tr>\n    <tr>\n      <th>34</th>\n      <td>365</td>\n      <td>63.921884</td>\n      <td>95.882826</td>\n      <td>191.765652</td>\n      <td>1416</td>\n      <td>257.856232</td>\n      <td>-33.124603</td>\n      <td>257.676758</td>\n      <td>-32.824356</td>\n      <td>-0.730905</td>\n      <td>...</td>\n      <td>22447.756336</td>\n      <td>260.787501</td>\n      <td>86.490943</td>\n      <td>0.097898</td>\n      <td>5.609128</td>\n      <td>2.391586</td>\n      <td>2.913700</td>\n      <td>-0.522114</td>\n      <td>-29.914954</td>\n      <td>29.914954</td>\n    </tr>\n    <tr>\n      <th>35</th>\n      <td>365</td>\n      <td>63.921884</td>\n      <td>95.882826</td>\n      <td>191.765652</td>\n      <td>1418</td>\n      <td>-46.205673</td>\n      <td>150.912292</td>\n      <td>-46.621109</td>\n      <td>151.015305</td>\n      <td>-0.749870</td>\n      <td>...</td>\n      <td>34924.683561</td>\n      <td>158.241937</td>\n      <td>274.543788</td>\n      <td>0.636981</td>\n      <td>36.496337</td>\n      <td>-2.419553</td>\n      <td>-0.642455</td>\n      <td>-1.777097</td>\n      <td>-101.820181</td>\n      <td>101.820181</td>\n    </tr>\n    <tr>\n      <th>36</th>\n      <td>365</td>\n      <td>63.921884</td>\n      <td>95.882826</td>\n      <td>191.765652</td>\n      <td>1420</td>\n      <td>-46.275345</td>\n      <td>150.925827</td>\n      <td>-46.208725</td>\n      <td>150.363800</td>\n      <td>-0.433192</td>\n      <td>...</td>\n      <td>35054.688651</td>\n      <td>158.585154</td>\n      <td>274.607680</td>\n      <td>0.635199</td>\n      <td>36.394215</td>\n      <td>-2.024207</td>\n      <td>-0.642343</td>\n      <td>-1.381864</td>\n      <td>-79.174991</td>\n      <td>79.174991</td>\n    </tr>\n    <tr>\n      <th>37</th>\n      <td>365</td>\n      <td>63.921884</td>\n      <td>95.882826</td>\n      <td>191.765652</td>\n      <td>1740</td>\n      <td>-114.200058</td>\n      <td>-139.944458</td>\n      <td>-114.005905</td>\n      <td>-139.634216</td>\n      <td>-0.569885</td>\n      <td>...</td>\n      <td>58754.308784</td>\n      <td>180.905636</td>\n      <td>332.944504</td>\n      <td>0.221931</td>\n      <td>12.715726</td>\n      <td>2.177335</td>\n      <td>1.113595</td>\n      <td>1.063740</td>\n      <td>60.947803</td>\n      <td>60.947803</td>\n    </tr>\n    <tr>\n      <th>38</th>\n      <td>365</td>\n      <td>63.921884</td>\n      <td>95.882826</td>\n      <td>191.765652</td>\n      <td>1742</td>\n      <td>195.984650</td>\n      <td>-80.932632</td>\n      <td>195.665375</td>\n      <td>-80.875168</td>\n      <td>-0.983025</td>\n      <td>...</td>\n      <td>51511.969705</td>\n      <td>212.887215</td>\n      <td>290.019098</td>\n      <td>0.583901</td>\n      <td>33.455037</td>\n      <td>-2.983211</td>\n      <td>2.168513</td>\n      <td>-5.151724</td>\n      <td>64.827973</td>\n      <td>64.827973</td>\n    </tr>\n    <tr>\n      <th>39</th>\n      <td>365</td>\n      <td>63.921884</td>\n      <td>95.882826</td>\n      <td>191.765652</td>\n      <td>1744</td>\n      <td>38.812912</td>\n      <td>53.440681</td>\n      <td>38.720825</td>\n      <td>53.707710</td>\n      <td>-0.749580</td>\n      <td>...</td>\n      <td>-5322.104096</td>\n      <td>65.960985</td>\n      <td>105.535978</td>\n      <td>2.441111</td>\n      <td>139.865379</td>\n      <td>2.418667</td>\n      <td>1.628044</td>\n      <td>0.790623</td>\n      <td>45.299369</td>\n      <td>45.299369</td>\n    </tr>\n    <tr>\n      <th>40</th>\n      <td>365</td>\n      <td>63.921884</td>\n      <td>95.882826</td>\n      <td>191.765652</td>\n      <td>1746</td>\n      <td>110.737823</td>\n      <td>196.590790</td>\n      <td>110.485550</td>\n      <td>196.228027</td>\n      <td>-0.362722</td>\n      <td>...</td>\n      <td>16125.447127</td>\n      <td>226.621757</td>\n      <td>86.637921</td>\n      <td>0.607109</td>\n      <td>34.784798</td>\n      <td>-1.943016</td>\n      <td>-2.690278</td>\n      <td>0.747262</td>\n      <td>42.814954</td>\n      <td>42.814954</td>\n    </tr>\n    <tr>\n      <th>41</th>\n      <td>365</td>\n      <td>63.921884</td>\n      <td>95.882826</td>\n      <td>191.765652</td>\n      <td>1748</td>\n      <td>257.874573</td>\n      <td>-33.053452</td>\n      <td>257.624512</td>\n      <td>-33.072906</td>\n      <td>-0.926267</td>\n      <td>...</td>\n      <td>64525.423744</td>\n      <td>260.855654</td>\n      <td>295.768846</td>\n      <td>0.580240</td>\n      <td>33.245316</td>\n      <td>-2.755724</td>\n      <td>2.435753</td>\n      <td>-5.191477</td>\n      <td>62.550270</td>\n      <td>62.550270</td>\n    </tr>\n    <tr>\n      <th>42</th>\n      <td>365</td>\n      <td>63.921884</td>\n      <td>95.882826</td>\n      <td>191.765652</td>\n      <td>1750</td>\n      <td>138.595642</td>\n      <td>-128.802368</td>\n      <td>138.426086</td>\n      <td>-128.948242</td>\n      <td>-0.588894</td>\n      <td>...</td>\n      <td>51543.611076</td>\n      <td>189.096673</td>\n      <td>306.456185</td>\n      <td>0.474651</td>\n      <td>27.195522</td>\n      <td>-2.206779</td>\n      <td>1.923361</td>\n      <td>-4.130140</td>\n      <td>123.360417</td>\n      <td>123.360417</td>\n    </tr>\n    <tr>\n      <th>43</th>\n      <td>365</td>\n      <td>63.921884</td>\n      <td>95.882826</td>\n      <td>191.765652</td>\n      <td>1752</td>\n      <td>-46.302048</td>\n      <td>150.929657</td>\n      <td>-46.374283</td>\n      <td>150.982941</td>\n      <td>-0.071536</td>\n      <td>...</td>\n      <td>2459.679500</td>\n      <td>158.778638</td>\n      <td>79.467675</td>\n      <td>1.374602</td>\n      <td>78.758913</td>\n      <td>-1.644439</td>\n      <td>0.099249</td>\n      <td>-1.743687</td>\n      <td>-99.905925</td>\n      <td>99.905925</td>\n    </tr>\n    <tr>\n      <th>44</th>\n      <td>365</td>\n      <td>63.921884</td>\n      <td>95.882826</td>\n      <td>191.765652</td>\n      <td>1754</td>\n      <td>366.742981</td>\n      <td>108.791023</td>\n      <td>366.609100</td>\n      <td>108.758179</td>\n      <td>-0.331197</td>\n      <td>...</td>\n      <td>117104.332346</td>\n      <td>383.118166</td>\n      <td>337.692437</td>\n      <td>0.439072</td>\n      <td>25.156977</td>\n      <td>-1.917031</td>\n      <td>2.992944</td>\n      <td>-4.909975</td>\n      <td>78.679133</td>\n      <td>78.679133</td>\n    </tr>\n    <tr>\n      <th>45</th>\n      <td>365</td>\n      <td>63.921884</td>\n      <td>95.882826</td>\n      <td>191.765652</td>\n      <td>1756</td>\n      <td>174.621521</td>\n      <td>140.401459</td>\n      <td>174.395279</td>\n      <td>140.283325</td>\n      <td>-0.452081</td>\n      <td>...</td>\n      <td>22234.698201</td>\n      <td>224.937113</td>\n      <td>143.035680</td>\n      <td>0.807820</td>\n      <td>46.284665</td>\n      <td>-2.070236</td>\n      <td>3.012580</td>\n      <td>-5.082815</td>\n      <td>68.776131</td>\n      <td>68.776131</td>\n    </tr>\n    <tr>\n      <th>46</th>\n      <td>365</td>\n      <td>63.921884</td>\n      <td>95.882826</td>\n      <td>191.765652</td>\n      <td>2032</td>\n      <td>-114.258072</td>\n      <td>-139.931274</td>\n      <td>-114.512711</td>\n      <td>-139.714630</td>\n      <td>-0.989938</td>\n      <td>...</td>\n      <td>25119.408902</td>\n      <td>180.131341</td>\n      <td>203.523326</td>\n      <td>0.815943</td>\n      <td>46.750078</td>\n      <td>3.009355</td>\n      <td>1.706719</td>\n      <td>1.302636</td>\n      <td>74.635555</td>\n      <td>74.635555</td>\n    </tr>\n    <tr>\n      <th>47</th>\n      <td>365</td>\n      <td>63.921884</td>\n      <td>95.882826</td>\n      <td>191.765652</td>\n      <td>2034</td>\n      <td>-114.296524</td>\n      <td>-139.958191</td>\n      <td>-113.934799</td>\n      <td>-140.280060</td>\n      <td>0.747369</td>\n      <td>...</td>\n      <td>24923.753716</td>\n      <td>180.660434</td>\n      <td>203.544788</td>\n      <td>0.826054</td>\n      <td>47.329390</td>\n      <td>-0.725797</td>\n      <td>1.706514</td>\n      <td>-2.432311</td>\n      <td>-139.361182</td>\n      <td>139.361182</td>\n    </tr>\n    <tr>\n      <th>48</th>\n      <td>365</td>\n      <td>63.921884</td>\n      <td>95.882826</td>\n      <td>191.765652</td>\n      <td>2036</td>\n      <td>30.161087</td>\n      <td>177.592743</td>\n      <td>30.157837</td>\n      <td>177.181671</td>\n      <td>0.326168</td>\n      <td>...</td>\n      <td>25816.430549</td>\n      <td>180.982150</td>\n      <td>207.390500</td>\n      <td>0.812322</td>\n      <td>46.542611</td>\n      <td>-1.227792</td>\n      <td>-2.548724</td>\n      <td>1.320932</td>\n      <td>75.683855</td>\n      <td>75.683855</td>\n    </tr>\n    <tr>\n      <th>49</th>\n      <td>365</td>\n      <td>63.921884</td>\n      <td>95.882826</td>\n      <td>191.765652</td>\n      <td>2038</td>\n      <td>-65.702377</td>\n      <td>-159.985077</td>\n      <td>-65.450302</td>\n      <td>-159.673187</td>\n      <td>0.108378</td>\n      <td>...</td>\n      <td>30677.634894</td>\n      <td>173.907709</td>\n      <td>234.408344</td>\n      <td>0.718885</td>\n      <td>41.189060</td>\n      <td>1.461710</td>\n      <td>1.901589</td>\n      <td>-0.439878</td>\n      <td>-25.203170</td>\n      <td>25.203170</td>\n    </tr>\n  </tbody>\n</table>\n<p>50 rows × 55 columns</p>\n</div>"
     },
     "execution_count": 20,
     "metadata": {},
     "output_type": "execute_result"
    }
   ],
   "source": [
    "# Merged finished data base with inter-quartile range base\n",
    "interQ = pd.merge(inter_quartile_range,CoordinatesIntegrated, on='SubjectID')\n",
    "interQ.head(50)"
   ],
   "metadata": {
    "collapsed": false,
    "pycharm": {
     "name": "#%%\n"
    }
   }
  },
  {
   "cell_type": "code",
   "execution_count": 21,
   "outputs": [
    {
     "data": {
      "text/plain": "   SubjectID        IQR   IQRlimit   IQRlimit2  Unnamed: 0  \\\n0        365  63.921884  95.882826  191.765652           0   \n1        365  63.921884  95.882826  191.765652           2   \n2        365  63.921884  95.882826  191.765652           4   \n3        365  63.921884  95.882826  191.765652           6   \n4        365  63.921884  95.882826  191.765652           8   \n5        365  63.921884  95.882826  191.765652          10   \n6        365  63.921884  95.882826  191.765652          12   \n7        365  63.921884  95.882826  191.765652          14   \n8        365  63.921884  95.882826  191.765652          16   \n9        365  63.921884  95.882826  191.765652          18   \n10       365  63.921884  95.882826  191.765652         276   \n11       365  63.921884  95.882826  191.765652         278   \n12       365  63.921884  95.882826  191.765652         280   \n13       365  63.921884  95.882826  191.765652         282   \n14       365  63.921884  95.882826  191.765652         284   \n15       365  63.921884  95.882826  191.765652         556   \n16       365  63.921884  95.882826  191.765652         558   \n17       365  63.921884  95.882826  191.765652         560   \n18       365  63.921884  95.882826  191.765652         562   \n19       365  63.921884  95.882826  191.765652         564   \n20       365  63.921884  95.882826  191.765652         566   \n21       365  63.921884  95.882826  191.765652         834   \n22       365  63.921884  95.882826  191.765652         836   \n23       365  63.921884  95.882826  191.765652         838   \n24       365  63.921884  95.882826  191.765652         840   \n25       365  63.921884  95.882826  191.765652         842   \n26       365  63.921884  95.882826  191.765652         844   \n27       365  63.921884  95.882826  191.765652        1156   \n28       365  63.921884  95.882826  191.765652        1158   \n29       365  63.921884  95.882826  191.765652        1160   \n30       365  63.921884  95.882826  191.765652        1162   \n31       365  63.921884  95.882826  191.765652        1410   \n32       365  63.921884  95.882826  191.765652        1412   \n33       365  63.921884  95.882826  191.765652        1414   \n34       365  63.921884  95.882826  191.765652        1416   \n35       365  63.921884  95.882826  191.765652        1418   \n36       365  63.921884  95.882826  191.765652        1420   \n37       365  63.921884  95.882826  191.765652        1740   \n38       365  63.921884  95.882826  191.765652        1742   \n39       365  63.921884  95.882826  191.765652        1744   \n40       365  63.921884  95.882826  191.765652        1746   \n41       365  63.921884  95.882826  191.765652        1748   \n42       365  63.921884  95.882826  191.765652        1750   \n43       365  63.921884  95.882826  191.765652        1752   \n44       365  63.921884  95.882826  191.765652        1754   \n45       365  63.921884  95.882826  191.765652        1756   \n46       365  63.921884  95.882826  191.765652        2032   \n47       365  63.921884  95.882826  191.765652        2034   \n48       365  63.921884  95.882826  191.765652        2036   \n49       365  63.921884  95.882826  191.765652        2038   \n\n    ParticipantPosition_x  ParticipantPosition_z  PointerPosition_x  \\\n0             -114.329147            -139.997375        -114.236984   \n1              -65.669235            -159.945099         -65.474716   \n2               38.849380              53.547638          38.471634   \n3               38.880081              53.564148          38.700195   \n4              110.754181             196.522675         110.428146   \n5             -228.862320             189.713608        -228.800003   \n6              257.815582             -33.150925         257.569214   \n7              138.625366            -128.793640         138.342194   \n8              366.767181             108.779312         366.540100   \n9              366.760132             108.726776         366.563049   \n10            -114.264938            -139.996460        -114.031693   \n11             195.905914             -81.007034         195.682022   \n12             257.952576             -33.106873         257.599030   \n13            -145.191238             -40.728958        -145.001175   \n14            -145.232742             -40.650330        -145.017960   \n15            -114.299942            -139.961884        -114.061569   \n16            -228.788925             189.682526        -228.867172   \n17             257.807648             -33.225784         257.973724   \n18             216.950668             133.046616         216.664978   \n19              47.104309            -156.820862          46.771957   \n20             366.756836             108.816208         366.602081   \n21            -114.295120            -139.949188        -113.934219   \n22             -33.362106            -190.905579         -33.507980   \n23             -54.861343             235.485718         -54.747574   \n24              38.852203              53.504791          38.397263   \n25             138.623596            -128.767303         138.316162   \n26            -145.189651             -40.701538        -145.545547   \n27            -114.277084            -140.014740        -114.006210   \n28             118.363914             -62.988754         118.608673   \n29             110.740044             196.510422         110.421440   \n30            -228.804886             189.688156        -228.769119   \n31            -114.286270            -139.981323        -114.254471   \n32             118.418083             -62.967758         118.542160   \n33            -228.851852             189.673004        -228.942947   \n34             257.856232             -33.124603         257.676758   \n35             -46.205673             150.912292         -46.621109   \n36             -46.275345             150.925827         -46.208725   \n37            -114.200058            -139.944458        -114.005905   \n38             195.984650             -80.932632         195.665375   \n39              38.812912              53.440681          38.720825   \n40             110.737823             196.590790         110.485550   \n41             257.874573             -33.053452         257.624512   \n42             138.595642            -128.802368         138.426086   \n43             -46.302048             150.929657         -46.374283   \n44             366.742981             108.791023         366.609100   \n45             174.621521             140.401459         174.395279   \n46            -114.258072            -139.931274        -114.512711   \n47            -114.296524            -139.958191        -113.934799   \n48              30.161087             177.592743          30.157837   \n49             -65.702377            -159.985077         -65.450302   \n\n    PointerPosition_z  PointerDirection_x  ...  Magnitud_Participant-Building  \\\n0         -139.696228           -0.055459  ...                     197.743621   \n1         -159.710205            0.072550  ...                     213.345438   \n2           53.516281           -0.993265  ...                     111.427967   \n3           53.581047           -0.995648  ...                     111.458707   \n4          196.550751           -0.941145  ...                     232.651757   \n5          189.430649            0.052264  ...                     207.452469   \n6          -33.181824           -0.990357  ...                     341.514086   \n7         -128.611328           -0.886482  ...                     278.856352   \n8          108.767654           -0.957100  ...                     442.835947   \n9          108.749207           -0.859302  ...                     442.822373   \n10        -139.985962            0.928706  ...                     131.650932   \n11         -81.054611           -0.739078  ...                     204.165223   \n12         -32.971573           -0.799476  ...                     267.097794   \n13         -40.573227            0.614777  ...                     139.517864   \n14         -40.681519            0.600722  ...                     139.571414   \n15        -139.765411            0.492234  ...                     299.494382   \n16         189.439392           -0.445232  ...                     395.731904   \n17         -32.808746            0.001343  ...                     139.596861   \n18         133.118362           -0.903030  ...                     133.662168   \n19        -156.773163           -0.971934  ...                     204.777447   \n20         108.699081           -0.642230  ...                     247.061442   \n21        -139.899109            0.925734  ...                     271.683341   \n22        -190.554291           -0.517750  ...                     262.766738   \n23         235.106934            0.374437  ...                     239.099030   \n24          53.840721           -0.652527  ...                      49.051167   \n25        -128.616516           -0.975714  ...                     179.260121   \n26         -40.807449           -0.934735  ...                     246.493973   \n27        -139.814026            0.587291  ...                     381.426288   \n28         -62.892502            0.659258  ...                     194.370883   \n29         196.583527           -0.986563  ...                      83.630761   \n30         189.449280            0.068531  ...                     391.557320   \n31        -139.710114           -0.474944  ...                     314.413149   \n32         -62.827560            0.225739  ...                      74.053713   \n33         189.465286           -0.193994  ...                     450.868277   \n34         -32.824356           -0.730905  ...                      86.490943   \n35         151.015305           -0.749870  ...                     274.543788   \n36         150.363800           -0.433192  ...                     274.607680   \n37        -139.634216           -0.569885  ...                     332.944504   \n38         -80.875168           -0.983025  ...                     290.019098   \n39          53.707710           -0.749580  ...                     105.535978   \n40         196.228027           -0.362722  ...                      86.637921   \n41         -33.072906           -0.926267  ...                     295.768846   \n42        -128.948242           -0.588894  ...                     306.456185   \n43         150.982941           -0.071536  ...                      79.467675   \n44         108.758179           -0.331197  ...                     337.692437   \n45         140.283325           -0.452081  ...                     143.035680   \n46        -139.714630           -0.989938  ...                     203.523326   \n47        -140.280060            0.747369  ...                     203.544788   \n48         177.181671            0.326168  ...                     207.390500   \n49        -159.673187            0.108378  ...                     234.408344   \n\n     radians     degrees  atanPointer  atanBuild-Part  atanSubs  rad2degree  \\\n0   0.468390   26.836743     1.626782        1.358059  0.268723   15.396716   \n1   0.420196   24.075485     1.497808        1.603186 -0.105378   -6.037733   \n2   0.929789   53.272987    -3.028520       -3.139266  0.110746    6.345290   \n3   0.928970   53.226082    -3.075803       -3.139119  0.063316    3.627752   \n4   0.391448   22.428323    -2.811994       -2.478370 -0.333624  -19.115237   \n5   0.023052    1.320792    -1.518411       -0.717657 -0.800754  -45.879831   \n6   0.128067    7.337709     3.029311        2.885703  0.143608    8.228125   \n7   0.035755    2.048609     2.664697        2.430106  0.234591   13.441060   \n8   0.162663    9.319878    -2.862593       -3.015954  0.153362    8.786976   \n9   0.163223    9.351997    -2.637894       -3.016070  0.378176   21.667869   \n10  0.259047   14.842328     0.379664        0.624537 -0.244872  -14.030148   \n11  0.299604   17.166049    -2.402885        3.053365 -5.456250   47.379892   \n12  0.241719   13.849498     2.505595       -3.029374  5.534969  -42.869653   \n13  0.437842   25.086472     0.908408       -0.160440  1.068848   61.240507   \n14  0.437863   25.087722     0.925482       -0.160949  1.086431   62.247934   \n15  0.287021   16.445099     1.053591        0.599878  0.453713   25.995860   \n16  0.277679   15.909812    -2.034954       -0.417797 -1.617157  -92.656289   \n17  0.330970   18.963210     1.569447        2.678655 -1.109208  -63.552964   \n18  0.341122   19.544828    -2.705269       -2.250803 -0.454466  -26.038975   \n19  0.729659   41.806379     3.057840        1.138463  1.919376  109.972171   \n20  0.038663    2.215232    -2.283233       -2.813122  0.529888   30.360366   \n21  0.145460    8.334246     0.387552        0.737869 -0.350316  -20.071653   \n22  0.304994   17.474871     2.117053        1.096167  1.020886   58.492451   \n23  0.404217   23.159935    -1.186675       -0.937055 -0.249620  -14.302195   \n24  1.993811  114.236975     2.291056       -0.219683  2.510739  143.854772   \n25  0.531169   30.433714     2.920815        1.864520  1.056295   60.521256   \n26  0.072873    4.175302    -2.788734        0.345662 -3.134396 -179.587660   \n27  0.109837    6.293217     0.942023        0.776737  0.165287    9.470232   \n28  1.278662   73.261955     0.841339        1.366708 -0.525369  -30.101398   \n29  1.113699   63.810259    -2.989275       -0.973742 -2.015533 -115.481516   \n30  0.534733   30.637960    -1.502057       -0.159891 -1.342166  -76.900450   \n31  0.477498   27.358614     2.066741        0.413711  1.653030   94.711669   \n32  1.915818  109.768275     1.338841        0.729990  0.608852   34.884629   \n33  0.227333   13.025226    -1.766218       -0.467676 -1.298543  -74.401013   \n34  0.097898    5.609128     2.391586        2.913700 -0.522114  -29.914954   \n35  0.636981   36.496337    -2.419553       -0.642455 -1.777097 -101.820181   \n36  0.635199   36.394215    -2.024207       -0.642343 -1.381864  -79.174991   \n37  0.221931   12.715726     2.177335        1.113595  1.063740   60.947803   \n38  0.583901   33.455037    -2.983211        2.168513 -5.151724   64.827973   \n39  2.441111  139.865379     2.418667        1.628044  0.790623   45.299369   \n40  0.607109   34.784798    -1.943016       -2.690278  0.747262   42.814954   \n41  0.580240   33.245316    -2.755724        2.435753 -5.191477   62.550270   \n42  0.474651   27.195522    -2.206779        1.923361 -4.130140  123.360417   \n43  1.374602   78.758913    -1.644439        0.099249 -1.743687  -99.905925   \n44  0.439072   25.156977    -1.917031        2.992944 -4.909975   78.679133   \n45  0.807820   46.284665    -2.070236        3.012580 -5.082815   68.776131   \n46  0.815943   46.750078     3.009355        1.706719  1.302636   74.635555   \n47  0.826054   47.329390    -0.725797        1.706514 -2.432311 -139.361182   \n48  0.812322   46.542611    -1.227792       -2.548724  1.320932   75.683855   \n49  0.718885   41.189060     1.461710        1.901589 -0.439878  -25.203170   \n\n    AbsolutError   Flag Flag2  \n0      15.396716   True  True  \n1       6.037733   True  True  \n2       6.345290   True  True  \n3       3.627752   True  True  \n4      19.115237   True  True  \n5      45.879831   True  True  \n6       8.228125   True  True  \n7      13.441060   True  True  \n8       8.786976   True  True  \n9      21.667869   True  True  \n10     14.030148   True  True  \n11     47.379892   True  True  \n12     42.869653   True  True  \n13     61.240507   True  True  \n14     62.247934   True  True  \n15     25.995860   True  True  \n16     92.656289   True  True  \n17     63.552964   True  True  \n18     26.038975   True  True  \n19    109.972171  False  True  \n20     30.360366   True  True  \n21     20.071653   True  True  \n22     58.492451   True  True  \n23     14.302195   True  True  \n24    143.854772  False  True  \n25     60.521256   True  True  \n26    179.587660  False  True  \n27      9.470232   True  True  \n28     30.101398   True  True  \n29    115.481516  False  True  \n30     76.900450   True  True  \n31     94.711669   True  True  \n32     34.884629   True  True  \n33     74.401013   True  True  \n34     29.914954   True  True  \n35    101.820181  False  True  \n36     79.174991   True  True  \n37     60.947803   True  True  \n38     64.827973   True  True  \n39     45.299369   True  True  \n40     42.814954   True  True  \n41     62.550270   True  True  \n42    123.360417  False  True  \n43     99.905925  False  True  \n44     78.679133   True  True  \n45     68.776131   True  True  \n46     74.635555   True  True  \n47    139.361182  False  True  \n48     75.683855   True  True  \n49     25.203170   True  True  \n\n[50 rows x 57 columns]",
      "text/html": "<div>\n<style scoped>\n    .dataframe tbody tr th:only-of-type {\n        vertical-align: middle;\n    }\n\n    .dataframe tbody tr th {\n        vertical-align: top;\n    }\n\n    .dataframe thead th {\n        text-align: right;\n    }\n</style>\n<table border=\"1\" class=\"dataframe\">\n  <thead>\n    <tr style=\"text-align: right;\">\n      <th></th>\n      <th>SubjectID</th>\n      <th>IQR</th>\n      <th>IQRlimit</th>\n      <th>IQRlimit2</th>\n      <th>Unnamed: 0</th>\n      <th>ParticipantPosition_x</th>\n      <th>ParticipantPosition_z</th>\n      <th>PointerPosition_x</th>\n      <th>PointerPosition_z</th>\n      <th>PointerDirection_x</th>\n      <th>...</th>\n      <th>Magnitud_Participant-Building</th>\n      <th>radians</th>\n      <th>degrees</th>\n      <th>atanPointer</th>\n      <th>atanBuild-Part</th>\n      <th>atanSubs</th>\n      <th>rad2degree</th>\n      <th>AbsolutError</th>\n      <th>Flag</th>\n      <th>Flag2</th>\n    </tr>\n  </thead>\n  <tbody>\n    <tr>\n      <th>0</th>\n      <td>365</td>\n      <td>63.921884</td>\n      <td>95.882826</td>\n      <td>191.765652</td>\n      <td>0</td>\n      <td>-114.329147</td>\n      <td>-139.997375</td>\n      <td>-114.236984</td>\n      <td>-139.696228</td>\n      <td>-0.055459</td>\n      <td>...</td>\n      <td>197.743621</td>\n      <td>0.468390</td>\n      <td>26.836743</td>\n      <td>1.626782</td>\n      <td>1.358059</td>\n      <td>0.268723</td>\n      <td>15.396716</td>\n      <td>15.396716</td>\n      <td>True</td>\n      <td>True</td>\n    </tr>\n    <tr>\n      <th>1</th>\n      <td>365</td>\n      <td>63.921884</td>\n      <td>95.882826</td>\n      <td>191.765652</td>\n      <td>2</td>\n      <td>-65.669235</td>\n      <td>-159.945099</td>\n      <td>-65.474716</td>\n      <td>-159.710205</td>\n      <td>0.072550</td>\n      <td>...</td>\n      <td>213.345438</td>\n      <td>0.420196</td>\n      <td>24.075485</td>\n      <td>1.497808</td>\n      <td>1.603186</td>\n      <td>-0.105378</td>\n      <td>-6.037733</td>\n      <td>6.037733</td>\n      <td>True</td>\n      <td>True</td>\n    </tr>\n    <tr>\n      <th>2</th>\n      <td>365</td>\n      <td>63.921884</td>\n      <td>95.882826</td>\n      <td>191.765652</td>\n      <td>4</td>\n      <td>38.849380</td>\n      <td>53.547638</td>\n      <td>38.471634</td>\n      <td>53.516281</td>\n      <td>-0.993265</td>\n      <td>...</td>\n      <td>111.427967</td>\n      <td>0.929789</td>\n      <td>53.272987</td>\n      <td>-3.028520</td>\n      <td>-3.139266</td>\n      <td>0.110746</td>\n      <td>6.345290</td>\n      <td>6.345290</td>\n      <td>True</td>\n      <td>True</td>\n    </tr>\n    <tr>\n      <th>3</th>\n      <td>365</td>\n      <td>63.921884</td>\n      <td>95.882826</td>\n      <td>191.765652</td>\n      <td>6</td>\n      <td>38.880081</td>\n      <td>53.564148</td>\n      <td>38.700195</td>\n      <td>53.581047</td>\n      <td>-0.995648</td>\n      <td>...</td>\n      <td>111.458707</td>\n      <td>0.928970</td>\n      <td>53.226082</td>\n      <td>-3.075803</td>\n      <td>-3.139119</td>\n      <td>0.063316</td>\n      <td>3.627752</td>\n      <td>3.627752</td>\n      <td>True</td>\n      <td>True</td>\n    </tr>\n    <tr>\n      <th>4</th>\n      <td>365</td>\n      <td>63.921884</td>\n      <td>95.882826</td>\n      <td>191.765652</td>\n      <td>8</td>\n      <td>110.754181</td>\n      <td>196.522675</td>\n      <td>110.428146</td>\n      <td>196.550751</td>\n      <td>-0.941145</td>\n      <td>...</td>\n      <td>232.651757</td>\n      <td>0.391448</td>\n      <td>22.428323</td>\n      <td>-2.811994</td>\n      <td>-2.478370</td>\n      <td>-0.333624</td>\n      <td>-19.115237</td>\n      <td>19.115237</td>\n      <td>True</td>\n      <td>True</td>\n    </tr>\n    <tr>\n      <th>5</th>\n      <td>365</td>\n      <td>63.921884</td>\n      <td>95.882826</td>\n      <td>191.765652</td>\n      <td>10</td>\n      <td>-228.862320</td>\n      <td>189.713608</td>\n      <td>-228.800003</td>\n      <td>189.430649</td>\n      <td>0.052264</td>\n      <td>...</td>\n      <td>207.452469</td>\n      <td>0.023052</td>\n      <td>1.320792</td>\n      <td>-1.518411</td>\n      <td>-0.717657</td>\n      <td>-0.800754</td>\n      <td>-45.879831</td>\n      <td>45.879831</td>\n      <td>True</td>\n      <td>True</td>\n    </tr>\n    <tr>\n      <th>6</th>\n      <td>365</td>\n      <td>63.921884</td>\n      <td>95.882826</td>\n      <td>191.765652</td>\n      <td>12</td>\n      <td>257.815582</td>\n      <td>-33.150925</td>\n      <td>257.569214</td>\n      <td>-33.181824</td>\n      <td>-0.990357</td>\n      <td>...</td>\n      <td>341.514086</td>\n      <td>0.128067</td>\n      <td>7.337709</td>\n      <td>3.029311</td>\n      <td>2.885703</td>\n      <td>0.143608</td>\n      <td>8.228125</td>\n      <td>8.228125</td>\n      <td>True</td>\n      <td>True</td>\n    </tr>\n    <tr>\n      <th>7</th>\n      <td>365</td>\n      <td>63.921884</td>\n      <td>95.882826</td>\n      <td>191.765652</td>\n      <td>14</td>\n      <td>138.625366</td>\n      <td>-128.793640</td>\n      <td>138.342194</td>\n      <td>-128.611328</td>\n      <td>-0.886482</td>\n      <td>...</td>\n      <td>278.856352</td>\n      <td>0.035755</td>\n      <td>2.048609</td>\n      <td>2.664697</td>\n      <td>2.430106</td>\n      <td>0.234591</td>\n      <td>13.441060</td>\n      <td>13.441060</td>\n      <td>True</td>\n      <td>True</td>\n    </tr>\n    <tr>\n      <th>8</th>\n      <td>365</td>\n      <td>63.921884</td>\n      <td>95.882826</td>\n      <td>191.765652</td>\n      <td>16</td>\n      <td>366.767181</td>\n      <td>108.779312</td>\n      <td>366.540100</td>\n      <td>108.767654</td>\n      <td>-0.957100</td>\n      <td>...</td>\n      <td>442.835947</td>\n      <td>0.162663</td>\n      <td>9.319878</td>\n      <td>-2.862593</td>\n      <td>-3.015954</td>\n      <td>0.153362</td>\n      <td>8.786976</td>\n      <td>8.786976</td>\n      <td>True</td>\n      <td>True</td>\n    </tr>\n    <tr>\n      <th>9</th>\n      <td>365</td>\n      <td>63.921884</td>\n      <td>95.882826</td>\n      <td>191.765652</td>\n      <td>18</td>\n      <td>366.760132</td>\n      <td>108.726776</td>\n      <td>366.563049</td>\n      <td>108.749207</td>\n      <td>-0.859302</td>\n      <td>...</td>\n      <td>442.822373</td>\n      <td>0.163223</td>\n      <td>9.351997</td>\n      <td>-2.637894</td>\n      <td>-3.016070</td>\n      <td>0.378176</td>\n      <td>21.667869</td>\n      <td>21.667869</td>\n      <td>True</td>\n      <td>True</td>\n    </tr>\n    <tr>\n      <th>10</th>\n      <td>365</td>\n      <td>63.921884</td>\n      <td>95.882826</td>\n      <td>191.765652</td>\n      <td>276</td>\n      <td>-114.264938</td>\n      <td>-139.996460</td>\n      <td>-114.031693</td>\n      <td>-139.985962</td>\n      <td>0.928706</td>\n      <td>...</td>\n      <td>131.650932</td>\n      <td>0.259047</td>\n      <td>14.842328</td>\n      <td>0.379664</td>\n      <td>0.624537</td>\n      <td>-0.244872</td>\n      <td>-14.030148</td>\n      <td>14.030148</td>\n      <td>True</td>\n      <td>True</td>\n    </tr>\n    <tr>\n      <th>11</th>\n      <td>365</td>\n      <td>63.921884</td>\n      <td>95.882826</td>\n      <td>191.765652</td>\n      <td>278</td>\n      <td>195.905914</td>\n      <td>-81.007034</td>\n      <td>195.682022</td>\n      <td>-81.054611</td>\n      <td>-0.739078</td>\n      <td>...</td>\n      <td>204.165223</td>\n      <td>0.299604</td>\n      <td>17.166049</td>\n      <td>-2.402885</td>\n      <td>3.053365</td>\n      <td>-5.456250</td>\n      <td>47.379892</td>\n      <td>47.379892</td>\n      <td>True</td>\n      <td>True</td>\n    </tr>\n    <tr>\n      <th>12</th>\n      <td>365</td>\n      <td>63.921884</td>\n      <td>95.882826</td>\n      <td>191.765652</td>\n      <td>280</td>\n      <td>257.952576</td>\n      <td>-33.106873</td>\n      <td>257.599030</td>\n      <td>-32.971573</td>\n      <td>-0.799476</td>\n      <td>...</td>\n      <td>267.097794</td>\n      <td>0.241719</td>\n      <td>13.849498</td>\n      <td>2.505595</td>\n      <td>-3.029374</td>\n      <td>5.534969</td>\n      <td>-42.869653</td>\n      <td>42.869653</td>\n      <td>True</td>\n      <td>True</td>\n    </tr>\n    <tr>\n      <th>13</th>\n      <td>365</td>\n      <td>63.921884</td>\n      <td>95.882826</td>\n      <td>191.765652</td>\n      <td>282</td>\n      <td>-145.191238</td>\n      <td>-40.728958</td>\n      <td>-145.001175</td>\n      <td>-40.573227</td>\n      <td>0.614777</td>\n      <td>...</td>\n      <td>139.517864</td>\n      <td>0.437842</td>\n      <td>25.086472</td>\n      <td>0.908408</td>\n      <td>-0.160440</td>\n      <td>1.068848</td>\n      <td>61.240507</td>\n      <td>61.240507</td>\n      <td>True</td>\n      <td>True</td>\n    </tr>\n    <tr>\n      <th>14</th>\n      <td>365</td>\n      <td>63.921884</td>\n      <td>95.882826</td>\n      <td>191.765652</td>\n      <td>284</td>\n      <td>-145.232742</td>\n      <td>-40.650330</td>\n      <td>-145.017960</td>\n      <td>-40.681519</td>\n      <td>0.600722</td>\n      <td>...</td>\n      <td>139.571414</td>\n      <td>0.437863</td>\n      <td>25.087722</td>\n      <td>0.925482</td>\n      <td>-0.160949</td>\n      <td>1.086431</td>\n      <td>62.247934</td>\n      <td>62.247934</td>\n      <td>True</td>\n      <td>True</td>\n    </tr>\n    <tr>\n      <th>15</th>\n      <td>365</td>\n      <td>63.921884</td>\n      <td>95.882826</td>\n      <td>191.765652</td>\n      <td>556</td>\n      <td>-114.299942</td>\n      <td>-139.961884</td>\n      <td>-114.061569</td>\n      <td>-139.765411</td>\n      <td>0.492234</td>\n      <td>...</td>\n      <td>299.494382</td>\n      <td>0.287021</td>\n      <td>16.445099</td>\n      <td>1.053591</td>\n      <td>0.599878</td>\n      <td>0.453713</td>\n      <td>25.995860</td>\n      <td>25.995860</td>\n      <td>True</td>\n      <td>True</td>\n    </tr>\n    <tr>\n      <th>16</th>\n      <td>365</td>\n      <td>63.921884</td>\n      <td>95.882826</td>\n      <td>191.765652</td>\n      <td>558</td>\n      <td>-228.788925</td>\n      <td>189.682526</td>\n      <td>-228.867172</td>\n      <td>189.439392</td>\n      <td>-0.445232</td>\n      <td>...</td>\n      <td>395.731904</td>\n      <td>0.277679</td>\n      <td>15.909812</td>\n      <td>-2.034954</td>\n      <td>-0.417797</td>\n      <td>-1.617157</td>\n      <td>-92.656289</td>\n      <td>92.656289</td>\n      <td>True</td>\n      <td>True</td>\n    </tr>\n    <tr>\n      <th>17</th>\n      <td>365</td>\n      <td>63.921884</td>\n      <td>95.882826</td>\n      <td>191.765652</td>\n      <td>560</td>\n      <td>257.807648</td>\n      <td>-33.225784</td>\n      <td>257.973724</td>\n      <td>-32.808746</td>\n      <td>0.001343</td>\n      <td>...</td>\n      <td>139.596861</td>\n      <td>0.330970</td>\n      <td>18.963210</td>\n      <td>1.569447</td>\n      <td>2.678655</td>\n      <td>-1.109208</td>\n      <td>-63.552964</td>\n      <td>63.552964</td>\n      <td>True</td>\n      <td>True</td>\n    </tr>\n    <tr>\n      <th>18</th>\n      <td>365</td>\n      <td>63.921884</td>\n      <td>95.882826</td>\n      <td>191.765652</td>\n      <td>562</td>\n      <td>216.950668</td>\n      <td>133.046616</td>\n      <td>216.664978</td>\n      <td>133.118362</td>\n      <td>-0.903030</td>\n      <td>...</td>\n      <td>133.662168</td>\n      <td>0.341122</td>\n      <td>19.544828</td>\n      <td>-2.705269</td>\n      <td>-2.250803</td>\n      <td>-0.454466</td>\n      <td>-26.038975</td>\n      <td>26.038975</td>\n      <td>True</td>\n      <td>True</td>\n    </tr>\n    <tr>\n      <th>19</th>\n      <td>365</td>\n      <td>63.921884</td>\n      <td>95.882826</td>\n      <td>191.765652</td>\n      <td>564</td>\n      <td>47.104309</td>\n      <td>-156.820862</td>\n      <td>46.771957</td>\n      <td>-156.773163</td>\n      <td>-0.971934</td>\n      <td>...</td>\n      <td>204.777447</td>\n      <td>0.729659</td>\n      <td>41.806379</td>\n      <td>3.057840</td>\n      <td>1.138463</td>\n      <td>1.919376</td>\n      <td>109.972171</td>\n      <td>109.972171</td>\n      <td>False</td>\n      <td>True</td>\n    </tr>\n    <tr>\n      <th>20</th>\n      <td>365</td>\n      <td>63.921884</td>\n      <td>95.882826</td>\n      <td>191.765652</td>\n      <td>566</td>\n      <td>366.756836</td>\n      <td>108.816208</td>\n      <td>366.602081</td>\n      <td>108.699081</td>\n      <td>-0.642230</td>\n      <td>...</td>\n      <td>247.061442</td>\n      <td>0.038663</td>\n      <td>2.215232</td>\n      <td>-2.283233</td>\n      <td>-2.813122</td>\n      <td>0.529888</td>\n      <td>30.360366</td>\n      <td>30.360366</td>\n      <td>True</td>\n      <td>True</td>\n    </tr>\n    <tr>\n      <th>21</th>\n      <td>365</td>\n      <td>63.921884</td>\n      <td>95.882826</td>\n      <td>191.765652</td>\n      <td>834</td>\n      <td>-114.295120</td>\n      <td>-139.949188</td>\n      <td>-113.934219</td>\n      <td>-139.899109</td>\n      <td>0.925734</td>\n      <td>...</td>\n      <td>271.683341</td>\n      <td>0.145460</td>\n      <td>8.334246</td>\n      <td>0.387552</td>\n      <td>0.737869</td>\n      <td>-0.350316</td>\n      <td>-20.071653</td>\n      <td>20.071653</td>\n      <td>True</td>\n      <td>True</td>\n    </tr>\n    <tr>\n      <th>22</th>\n      <td>365</td>\n      <td>63.921884</td>\n      <td>95.882826</td>\n      <td>191.765652</td>\n      <td>836</td>\n      <td>-33.362106</td>\n      <td>-190.905579</td>\n      <td>-33.507980</td>\n      <td>-190.554291</td>\n      <td>-0.517750</td>\n      <td>...</td>\n      <td>262.766738</td>\n      <td>0.304994</td>\n      <td>17.474871</td>\n      <td>2.117053</td>\n      <td>1.096167</td>\n      <td>1.020886</td>\n      <td>58.492451</td>\n      <td>58.492451</td>\n      <td>True</td>\n      <td>True</td>\n    </tr>\n    <tr>\n      <th>23</th>\n      <td>365</td>\n      <td>63.921884</td>\n      <td>95.882826</td>\n      <td>191.765652</td>\n      <td>838</td>\n      <td>-54.861343</td>\n      <td>235.485718</td>\n      <td>-54.747574</td>\n      <td>235.106934</td>\n      <td>0.374437</td>\n      <td>...</td>\n      <td>239.099030</td>\n      <td>0.404217</td>\n      <td>23.159935</td>\n      <td>-1.186675</td>\n      <td>-0.937055</td>\n      <td>-0.249620</td>\n      <td>-14.302195</td>\n      <td>14.302195</td>\n      <td>True</td>\n      <td>True</td>\n    </tr>\n    <tr>\n      <th>24</th>\n      <td>365</td>\n      <td>63.921884</td>\n      <td>95.882826</td>\n      <td>191.765652</td>\n      <td>840</td>\n      <td>38.852203</td>\n      <td>53.504791</td>\n      <td>38.397263</td>\n      <td>53.840721</td>\n      <td>-0.652527</td>\n      <td>...</td>\n      <td>49.051167</td>\n      <td>1.993811</td>\n      <td>114.236975</td>\n      <td>2.291056</td>\n      <td>-0.219683</td>\n      <td>2.510739</td>\n      <td>143.854772</td>\n      <td>143.854772</td>\n      <td>False</td>\n      <td>True</td>\n    </tr>\n    <tr>\n      <th>25</th>\n      <td>365</td>\n      <td>63.921884</td>\n      <td>95.882826</td>\n      <td>191.765652</td>\n      <td>842</td>\n      <td>138.623596</td>\n      <td>-128.767303</td>\n      <td>138.316162</td>\n      <td>-128.616516</td>\n      <td>-0.975714</td>\n      <td>...</td>\n      <td>179.260121</td>\n      <td>0.531169</td>\n      <td>30.433714</td>\n      <td>2.920815</td>\n      <td>1.864520</td>\n      <td>1.056295</td>\n      <td>60.521256</td>\n      <td>60.521256</td>\n      <td>True</td>\n      <td>True</td>\n    </tr>\n    <tr>\n      <th>26</th>\n      <td>365</td>\n      <td>63.921884</td>\n      <td>95.882826</td>\n      <td>191.765652</td>\n      <td>844</td>\n      <td>-145.189651</td>\n      <td>-40.701538</td>\n      <td>-145.545547</td>\n      <td>-40.807449</td>\n      <td>-0.934735</td>\n      <td>...</td>\n      <td>246.493973</td>\n      <td>0.072873</td>\n      <td>4.175302</td>\n      <td>-2.788734</td>\n      <td>0.345662</td>\n      <td>-3.134396</td>\n      <td>-179.587660</td>\n      <td>179.587660</td>\n      <td>False</td>\n      <td>True</td>\n    </tr>\n    <tr>\n      <th>27</th>\n      <td>365</td>\n      <td>63.921884</td>\n      <td>95.882826</td>\n      <td>191.765652</td>\n      <td>1156</td>\n      <td>-114.277084</td>\n      <td>-140.014740</td>\n      <td>-114.006210</td>\n      <td>-139.814026</td>\n      <td>0.587291</td>\n      <td>...</td>\n      <td>381.426288</td>\n      <td>0.109837</td>\n      <td>6.293217</td>\n      <td>0.942023</td>\n      <td>0.776737</td>\n      <td>0.165287</td>\n      <td>9.470232</td>\n      <td>9.470232</td>\n      <td>True</td>\n      <td>True</td>\n    </tr>\n    <tr>\n      <th>28</th>\n      <td>365</td>\n      <td>63.921884</td>\n      <td>95.882826</td>\n      <td>191.765652</td>\n      <td>1158</td>\n      <td>118.363914</td>\n      <td>-62.988754</td>\n      <td>118.608673</td>\n      <td>-62.892502</td>\n      <td>0.659258</td>\n      <td>...</td>\n      <td>194.370883</td>\n      <td>1.278662</td>\n      <td>73.261955</td>\n      <td>0.841339</td>\n      <td>1.366708</td>\n      <td>-0.525369</td>\n      <td>-30.101398</td>\n      <td>30.101398</td>\n      <td>True</td>\n      <td>True</td>\n    </tr>\n    <tr>\n      <th>29</th>\n      <td>365</td>\n      <td>63.921884</td>\n      <td>95.882826</td>\n      <td>191.765652</td>\n      <td>1160</td>\n      <td>110.740044</td>\n      <td>196.510422</td>\n      <td>110.421440</td>\n      <td>196.583527</td>\n      <td>-0.986563</td>\n      <td>...</td>\n      <td>83.630761</td>\n      <td>1.113699</td>\n      <td>63.810259</td>\n      <td>-2.989275</td>\n      <td>-0.973742</td>\n      <td>-2.015533</td>\n      <td>-115.481516</td>\n      <td>115.481516</td>\n      <td>False</td>\n      <td>True</td>\n    </tr>\n    <tr>\n      <th>30</th>\n      <td>365</td>\n      <td>63.921884</td>\n      <td>95.882826</td>\n      <td>191.765652</td>\n      <td>1162</td>\n      <td>-228.804886</td>\n      <td>189.688156</td>\n      <td>-228.769119</td>\n      <td>189.449280</td>\n      <td>0.068531</td>\n      <td>...</td>\n      <td>391.557320</td>\n      <td>0.534733</td>\n      <td>30.637960</td>\n      <td>-1.502057</td>\n      <td>-0.159891</td>\n      <td>-1.342166</td>\n      <td>-76.900450</td>\n      <td>76.900450</td>\n      <td>True</td>\n      <td>True</td>\n    </tr>\n    <tr>\n      <th>31</th>\n      <td>365</td>\n      <td>63.921884</td>\n      <td>95.882826</td>\n      <td>191.765652</td>\n      <td>1410</td>\n      <td>-114.286270</td>\n      <td>-139.981323</td>\n      <td>-114.254471</td>\n      <td>-139.710114</td>\n      <td>-0.474944</td>\n      <td>...</td>\n      <td>314.413149</td>\n      <td>0.477498</td>\n      <td>27.358614</td>\n      <td>2.066741</td>\n      <td>0.413711</td>\n      <td>1.653030</td>\n      <td>94.711669</td>\n      <td>94.711669</td>\n      <td>True</td>\n      <td>True</td>\n    </tr>\n    <tr>\n      <th>32</th>\n      <td>365</td>\n      <td>63.921884</td>\n      <td>95.882826</td>\n      <td>191.765652</td>\n      <td>1412</td>\n      <td>118.418083</td>\n      <td>-62.967758</td>\n      <td>118.542160</td>\n      <td>-62.827560</td>\n      <td>0.225739</td>\n      <td>...</td>\n      <td>74.053713</td>\n      <td>1.915818</td>\n      <td>109.768275</td>\n      <td>1.338841</td>\n      <td>0.729990</td>\n      <td>0.608852</td>\n      <td>34.884629</td>\n      <td>34.884629</td>\n      <td>True</td>\n      <td>True</td>\n    </tr>\n    <tr>\n      <th>33</th>\n      <td>365</td>\n      <td>63.921884</td>\n      <td>95.882826</td>\n      <td>191.765652</td>\n      <td>1414</td>\n      <td>-228.851852</td>\n      <td>189.673004</td>\n      <td>-228.942947</td>\n      <td>189.465286</td>\n      <td>-0.193994</td>\n      <td>...</td>\n      <td>450.868277</td>\n      <td>0.227333</td>\n      <td>13.025226</td>\n      <td>-1.766218</td>\n      <td>-0.467676</td>\n      <td>-1.298543</td>\n      <td>-74.401013</td>\n      <td>74.401013</td>\n      <td>True</td>\n      <td>True</td>\n    </tr>\n    <tr>\n      <th>34</th>\n      <td>365</td>\n      <td>63.921884</td>\n      <td>95.882826</td>\n      <td>191.765652</td>\n      <td>1416</td>\n      <td>257.856232</td>\n      <td>-33.124603</td>\n      <td>257.676758</td>\n      <td>-32.824356</td>\n      <td>-0.730905</td>\n      <td>...</td>\n      <td>86.490943</td>\n      <td>0.097898</td>\n      <td>5.609128</td>\n      <td>2.391586</td>\n      <td>2.913700</td>\n      <td>-0.522114</td>\n      <td>-29.914954</td>\n      <td>29.914954</td>\n      <td>True</td>\n      <td>True</td>\n    </tr>\n    <tr>\n      <th>35</th>\n      <td>365</td>\n      <td>63.921884</td>\n      <td>95.882826</td>\n      <td>191.765652</td>\n      <td>1418</td>\n      <td>-46.205673</td>\n      <td>150.912292</td>\n      <td>-46.621109</td>\n      <td>151.015305</td>\n      <td>-0.749870</td>\n      <td>...</td>\n      <td>274.543788</td>\n      <td>0.636981</td>\n      <td>36.496337</td>\n      <td>-2.419553</td>\n      <td>-0.642455</td>\n      <td>-1.777097</td>\n      <td>-101.820181</td>\n      <td>101.820181</td>\n      <td>False</td>\n      <td>True</td>\n    </tr>\n    <tr>\n      <th>36</th>\n      <td>365</td>\n      <td>63.921884</td>\n      <td>95.882826</td>\n      <td>191.765652</td>\n      <td>1420</td>\n      <td>-46.275345</td>\n      <td>150.925827</td>\n      <td>-46.208725</td>\n      <td>150.363800</td>\n      <td>-0.433192</td>\n      <td>...</td>\n      <td>274.607680</td>\n      <td>0.635199</td>\n      <td>36.394215</td>\n      <td>-2.024207</td>\n      <td>-0.642343</td>\n      <td>-1.381864</td>\n      <td>-79.174991</td>\n      <td>79.174991</td>\n      <td>True</td>\n      <td>True</td>\n    </tr>\n    <tr>\n      <th>37</th>\n      <td>365</td>\n      <td>63.921884</td>\n      <td>95.882826</td>\n      <td>191.765652</td>\n      <td>1740</td>\n      <td>-114.200058</td>\n      <td>-139.944458</td>\n      <td>-114.005905</td>\n      <td>-139.634216</td>\n      <td>-0.569885</td>\n      <td>...</td>\n      <td>332.944504</td>\n      <td>0.221931</td>\n      <td>12.715726</td>\n      <td>2.177335</td>\n      <td>1.113595</td>\n      <td>1.063740</td>\n      <td>60.947803</td>\n      <td>60.947803</td>\n      <td>True</td>\n      <td>True</td>\n    </tr>\n    <tr>\n      <th>38</th>\n      <td>365</td>\n      <td>63.921884</td>\n      <td>95.882826</td>\n      <td>191.765652</td>\n      <td>1742</td>\n      <td>195.984650</td>\n      <td>-80.932632</td>\n      <td>195.665375</td>\n      <td>-80.875168</td>\n      <td>-0.983025</td>\n      <td>...</td>\n      <td>290.019098</td>\n      <td>0.583901</td>\n      <td>33.455037</td>\n      <td>-2.983211</td>\n      <td>2.168513</td>\n      <td>-5.151724</td>\n      <td>64.827973</td>\n      <td>64.827973</td>\n      <td>True</td>\n      <td>True</td>\n    </tr>\n    <tr>\n      <th>39</th>\n      <td>365</td>\n      <td>63.921884</td>\n      <td>95.882826</td>\n      <td>191.765652</td>\n      <td>1744</td>\n      <td>38.812912</td>\n      <td>53.440681</td>\n      <td>38.720825</td>\n      <td>53.707710</td>\n      <td>-0.749580</td>\n      <td>...</td>\n      <td>105.535978</td>\n      <td>2.441111</td>\n      <td>139.865379</td>\n      <td>2.418667</td>\n      <td>1.628044</td>\n      <td>0.790623</td>\n      <td>45.299369</td>\n      <td>45.299369</td>\n      <td>True</td>\n      <td>True</td>\n    </tr>\n    <tr>\n      <th>40</th>\n      <td>365</td>\n      <td>63.921884</td>\n      <td>95.882826</td>\n      <td>191.765652</td>\n      <td>1746</td>\n      <td>110.737823</td>\n      <td>196.590790</td>\n      <td>110.485550</td>\n      <td>196.228027</td>\n      <td>-0.362722</td>\n      <td>...</td>\n      <td>86.637921</td>\n      <td>0.607109</td>\n      <td>34.784798</td>\n      <td>-1.943016</td>\n      <td>-2.690278</td>\n      <td>0.747262</td>\n      <td>42.814954</td>\n      <td>42.814954</td>\n      <td>True</td>\n      <td>True</td>\n    </tr>\n    <tr>\n      <th>41</th>\n      <td>365</td>\n      <td>63.921884</td>\n      <td>95.882826</td>\n      <td>191.765652</td>\n      <td>1748</td>\n      <td>257.874573</td>\n      <td>-33.053452</td>\n      <td>257.624512</td>\n      <td>-33.072906</td>\n      <td>-0.926267</td>\n      <td>...</td>\n      <td>295.768846</td>\n      <td>0.580240</td>\n      <td>33.245316</td>\n      <td>-2.755724</td>\n      <td>2.435753</td>\n      <td>-5.191477</td>\n      <td>62.550270</td>\n      <td>62.550270</td>\n      <td>True</td>\n      <td>True</td>\n    </tr>\n    <tr>\n      <th>42</th>\n      <td>365</td>\n      <td>63.921884</td>\n      <td>95.882826</td>\n      <td>191.765652</td>\n      <td>1750</td>\n      <td>138.595642</td>\n      <td>-128.802368</td>\n      <td>138.426086</td>\n      <td>-128.948242</td>\n      <td>-0.588894</td>\n      <td>...</td>\n      <td>306.456185</td>\n      <td>0.474651</td>\n      <td>27.195522</td>\n      <td>-2.206779</td>\n      <td>1.923361</td>\n      <td>-4.130140</td>\n      <td>123.360417</td>\n      <td>123.360417</td>\n      <td>False</td>\n      <td>True</td>\n    </tr>\n    <tr>\n      <th>43</th>\n      <td>365</td>\n      <td>63.921884</td>\n      <td>95.882826</td>\n      <td>191.765652</td>\n      <td>1752</td>\n      <td>-46.302048</td>\n      <td>150.929657</td>\n      <td>-46.374283</td>\n      <td>150.982941</td>\n      <td>-0.071536</td>\n      <td>...</td>\n      <td>79.467675</td>\n      <td>1.374602</td>\n      <td>78.758913</td>\n      <td>-1.644439</td>\n      <td>0.099249</td>\n      <td>-1.743687</td>\n      <td>-99.905925</td>\n      <td>99.905925</td>\n      <td>False</td>\n      <td>True</td>\n    </tr>\n    <tr>\n      <th>44</th>\n      <td>365</td>\n      <td>63.921884</td>\n      <td>95.882826</td>\n      <td>191.765652</td>\n      <td>1754</td>\n      <td>366.742981</td>\n      <td>108.791023</td>\n      <td>366.609100</td>\n      <td>108.758179</td>\n      <td>-0.331197</td>\n      <td>...</td>\n      <td>337.692437</td>\n      <td>0.439072</td>\n      <td>25.156977</td>\n      <td>-1.917031</td>\n      <td>2.992944</td>\n      <td>-4.909975</td>\n      <td>78.679133</td>\n      <td>78.679133</td>\n      <td>True</td>\n      <td>True</td>\n    </tr>\n    <tr>\n      <th>45</th>\n      <td>365</td>\n      <td>63.921884</td>\n      <td>95.882826</td>\n      <td>191.765652</td>\n      <td>1756</td>\n      <td>174.621521</td>\n      <td>140.401459</td>\n      <td>174.395279</td>\n      <td>140.283325</td>\n      <td>-0.452081</td>\n      <td>...</td>\n      <td>143.035680</td>\n      <td>0.807820</td>\n      <td>46.284665</td>\n      <td>-2.070236</td>\n      <td>3.012580</td>\n      <td>-5.082815</td>\n      <td>68.776131</td>\n      <td>68.776131</td>\n      <td>True</td>\n      <td>True</td>\n    </tr>\n    <tr>\n      <th>46</th>\n      <td>365</td>\n      <td>63.921884</td>\n      <td>95.882826</td>\n      <td>191.765652</td>\n      <td>2032</td>\n      <td>-114.258072</td>\n      <td>-139.931274</td>\n      <td>-114.512711</td>\n      <td>-139.714630</td>\n      <td>-0.989938</td>\n      <td>...</td>\n      <td>203.523326</td>\n      <td>0.815943</td>\n      <td>46.750078</td>\n      <td>3.009355</td>\n      <td>1.706719</td>\n      <td>1.302636</td>\n      <td>74.635555</td>\n      <td>74.635555</td>\n      <td>True</td>\n      <td>True</td>\n    </tr>\n    <tr>\n      <th>47</th>\n      <td>365</td>\n      <td>63.921884</td>\n      <td>95.882826</td>\n      <td>191.765652</td>\n      <td>2034</td>\n      <td>-114.296524</td>\n      <td>-139.958191</td>\n      <td>-113.934799</td>\n      <td>-140.280060</td>\n      <td>0.747369</td>\n      <td>...</td>\n      <td>203.544788</td>\n      <td>0.826054</td>\n      <td>47.329390</td>\n      <td>-0.725797</td>\n      <td>1.706514</td>\n      <td>-2.432311</td>\n      <td>-139.361182</td>\n      <td>139.361182</td>\n      <td>False</td>\n      <td>True</td>\n    </tr>\n    <tr>\n      <th>48</th>\n      <td>365</td>\n      <td>63.921884</td>\n      <td>95.882826</td>\n      <td>191.765652</td>\n      <td>2036</td>\n      <td>30.161087</td>\n      <td>177.592743</td>\n      <td>30.157837</td>\n      <td>177.181671</td>\n      <td>0.326168</td>\n      <td>...</td>\n      <td>207.390500</td>\n      <td>0.812322</td>\n      <td>46.542611</td>\n      <td>-1.227792</td>\n      <td>-2.548724</td>\n      <td>1.320932</td>\n      <td>75.683855</td>\n      <td>75.683855</td>\n      <td>True</td>\n      <td>True</td>\n    </tr>\n    <tr>\n      <th>49</th>\n      <td>365</td>\n      <td>63.921884</td>\n      <td>95.882826</td>\n      <td>191.765652</td>\n      <td>2038</td>\n      <td>-65.702377</td>\n      <td>-159.985077</td>\n      <td>-65.450302</td>\n      <td>-159.673187</td>\n      <td>0.108378</td>\n      <td>...</td>\n      <td>234.408344</td>\n      <td>0.718885</td>\n      <td>41.189060</td>\n      <td>1.461710</td>\n      <td>1.901589</td>\n      <td>-0.439878</td>\n      <td>-25.203170</td>\n      <td>25.203170</td>\n      <td>True</td>\n      <td>True</td>\n    </tr>\n  </tbody>\n</table>\n<p>50 rows × 57 columns</p>\n</div>"
     },
     "execution_count": 21,
     "metadata": {},
     "output_type": "execute_result"
    }
   ],
   "source": [
    "## Add flag that's true if the puntuaction should stay false if it should go\n",
    "interQ['Flag'] =  [limit > absolut  for absolut,limit in zip(interQ['AbsolutError'],interQ['IQRlimit'])]\n",
    "interQ['Flag2'] =  [limit > absolut  for absolut,limit in zip(interQ['AbsolutError'],interQ['IQRlimit2'])]\n",
    "interQ.head(50)"
   ],
   "metadata": {
    "collapsed": false,
    "pycharm": {
     "name": "#%%\n"
    }
   }
  },
  {
   "cell_type": "code",
   "execution_count": 22,
   "outputs": [
    {
     "name": "stdout",
     "output_type": "stream",
     "text": [
      "<class 'pandas.core.frame.DataFrame'>\n",
      "Int64Index: 7728 entries, 0 to 7727\n",
      "Data columns (total 57 columns):\n",
      " #   Column                            Non-Null Count  Dtype  \n",
      "---  ------                            --------------  -----  \n",
      " 0   SubjectID                         7728 non-null   object \n",
      " 1   IQR                               7728 non-null   object \n",
      " 2   IQRlimit                          7728 non-null   object \n",
      " 3   IQRlimit2                         7728 non-null   object \n",
      " 4   Unnamed: 0                        7728 non-null   int64  \n",
      " 5   ParticipantPosition_x             7728 non-null   float64\n",
      " 6   ParticipantPosition_z             7728 non-null   float64\n",
      " 7   PointerPosition_x                 7728 non-null   float64\n",
      " 8   PointerPosition_z                 7728 non-null   float64\n",
      " 9   PointerDirection_x                7728 non-null   float64\n",
      " 10  PointerDirection_z                7728 non-null   float64\n",
      " 11  BuildingCenterWorld_z             7728 non-null   float64\n",
      " 12  BuildingCenterWorld_x             7728 non-null   float64\n",
      " 13  DistanceToParticipant             7728 non-null   float64\n",
      " 14  SignedAngle-+1802                 7728 non-null   float64\n",
      " 15  SignedAngle-+180                  7728 non-null   float64\n",
      " 16  SignedAngle360                    7728 non-null   float64\n",
      " 17  PointingTaskStartingLocations     7728 non-null   int64  \n",
      " 18  PointingTargetId                  7728 non-null   int64  \n",
      " 19  Name                              7728 non-null   object \n",
      " 20  StartPointID                      7728 non-null   int64  \n",
      " 21  PointingTargetCondition           7728 non-null   object \n",
      " 22  Context                           7728 non-null   bool   \n",
      " 23  Agent                             7728 non-null   bool   \n",
      " 24  avatarID                          7728 non-null   int64  \n",
      " 25  AvatarPresence                    7728 non-null   bool   \n",
      " 26  AvatarPresenceCategory            7728 non-null   object \n",
      " 27  meaningful                        7728 non-null   bool   \n",
      " 28  meaningfulBuilding                7728 non-null   object \n",
      " 29  Trials                            7728 non-null   int64  \n",
      " 30  TrialID                           7728 non-null   int64  \n",
      " 31  ID_for_StartingPosition           7728 non-null   int64  \n",
      " 32  ImageName                         7728 non-null   object \n",
      " 33  TimeDelta                         7728 non-null   object \n",
      " 34  RT                                7728 non-null   float64\n",
      " 35  TimeOut                           7728 non-null   bool   \n",
      " 36  TimeStampBegin                    7728 non-null   object \n",
      " 37  TimeStampEnd                      7728 non-null   object \n",
      " 38  vector_PartPos                    7728 non-null   object \n",
      " 39  vector_BuildingPos                7728 non-null   object \n",
      " 40  vector_PointerPos                 7728 non-null   object \n",
      " 41  Vector_Participant-Building       7728 non-null   object \n",
      " 42  Vector_Participant-Pointer        7728 non-null   object \n",
      " 43  building-Participant_x            7728 non-null   float64\n",
      " 44  building-Participant_z            7728 non-null   float64\n",
      " 45  Dot_Pointer-Building-Participant  7728 non-null   float64\n",
      " 46  Magnitud_Participant-Pointer      7728 non-null   float64\n",
      " 47  Magnitud_Participant-Building     7728 non-null   float64\n",
      " 48  radians                           7728 non-null   float64\n",
      " 49  degrees                           7728 non-null   float64\n",
      " 50  atanPointer                       7728 non-null   float64\n",
      " 51  atanBuild-Part                    7728 non-null   float64\n",
      " 52  atanSubs                          7728 non-null   float64\n",
      " 53  rad2degree                        7728 non-null   float64\n",
      " 54  AbsolutError                      7728 non-null   float64\n",
      " 55  Flag                              7728 non-null   bool   \n",
      " 56  Flag2                             7728 non-null   bool   \n",
      "dtypes: bool(7), float64(25), int64(8), object(17)\n",
      "memory usage: 3.1+ MB\n"
     ]
    }
   ],
   "source": [
    "interQ.info()"
   ],
   "metadata": {
    "collapsed": false,
    "pycharm": {
     "name": "#%%\n"
    }
   }
  },
  {
   "cell_type": "code",
   "execution_count": 23,
   "outputs": [
    {
     "data": {
      "text/plain": "True     6192\nFalse    1536\nName: Flag, dtype: int64"
     },
     "execution_count": 23,
     "metadata": {},
     "output_type": "execute_result"
    }
   ],
   "source": [
    "interQ.Flag.value_counts()"
   ],
   "metadata": {
    "collapsed": false,
    "pycharm": {
     "name": "#%%\n"
    }
   }
  },
  {
   "cell_type": "code",
   "execution_count": 24,
   "outputs": [
    {
     "data": {
      "text/plain": "True     7531\nFalse     197\nName: Flag2, dtype: int64"
     },
     "execution_count": 24,
     "metadata": {},
     "output_type": "execute_result"
    }
   ],
   "source": [
    "interQ.Flag2.value_counts()"
   ],
   "metadata": {
    "collapsed": false,
    "pycharm": {
     "name": "#%%\n"
    }
   }
  },
  {
   "cell_type": "markdown",
   "source": [
    "## First pointing trial\n",
    "\n",
    "In our design the participants have to point to targets from 28 starting locations, they switch positions every 12 trials. It would be sensible to assume that the first trial in each location can count more variance of error since they are starting to familiarize themselves with the environment."
   ],
   "metadata": {
    "collapsed": false,
    "pycharm": {
     "name": "#%% md\n"
    }
   }
  },
  {
   "cell_type": "code",
   "execution_count": 25,
   "outputs": [
    {
     "data": {
      "text/plain": "    TrialID  Removefirst\n0         1         True\n1        78         True\n2        88         True\n3        95         True\n4       131         True\n5       137         True\n6       146         True\n7       180        False\n8       289         True\n9       292         True\n10        2         True\n11       21         True\n12      145         True",
      "text/html": "<div>\n<style scoped>\n    .dataframe tbody tr th:only-of-type {\n        vertical-align: middle;\n    }\n\n    .dataframe tbody tr th {\n        vertical-align: top;\n    }\n\n    .dataframe thead th {\n        text-align: right;\n    }\n</style>\n<table border=\"1\" class=\"dataframe\">\n  <thead>\n    <tr style=\"text-align: right;\">\n      <th></th>\n      <th>TrialID</th>\n      <th>Removefirst</th>\n    </tr>\n  </thead>\n  <tbody>\n    <tr>\n      <th>0</th>\n      <td>1</td>\n      <td>True</td>\n    </tr>\n    <tr>\n      <th>1</th>\n      <td>78</td>\n      <td>True</td>\n    </tr>\n    <tr>\n      <th>2</th>\n      <td>88</td>\n      <td>True</td>\n    </tr>\n    <tr>\n      <th>3</th>\n      <td>95</td>\n      <td>True</td>\n    </tr>\n    <tr>\n      <th>4</th>\n      <td>131</td>\n      <td>True</td>\n    </tr>\n    <tr>\n      <th>5</th>\n      <td>137</td>\n      <td>True</td>\n    </tr>\n    <tr>\n      <th>6</th>\n      <td>146</td>\n      <td>True</td>\n    </tr>\n    <tr>\n      <th>7</th>\n      <td>180</td>\n      <td>False</td>\n    </tr>\n    <tr>\n      <th>8</th>\n      <td>289</td>\n      <td>True</td>\n    </tr>\n    <tr>\n      <th>9</th>\n      <td>292</td>\n      <td>True</td>\n    </tr>\n    <tr>\n      <th>10</th>\n      <td>2</td>\n      <td>True</td>\n    </tr>\n    <tr>\n      <th>11</th>\n      <td>21</td>\n      <td>True</td>\n    </tr>\n    <tr>\n      <th>12</th>\n      <td>145</td>\n      <td>True</td>\n    </tr>\n  </tbody>\n</table>\n</div>"
     },
     "execution_count": 25,
     "metadata": {},
     "output_type": "execute_result"
    }
   ],
   "source": [
    "# Flag the first trial of every starting position.\n",
    "# This has the limitation that it wrongly flags for the last trial of first pointing position\n",
    "interQ['Removefirst'] = [not (value % 12 == 0) for value in interQ['TrialID']]\n",
    "# The not operator it's used in this case so that all trials that stay are true and the ones to be eliminated are false\n",
    "interQ[['TrialID', 'Removefirst']].head(13)"
   ],
   "metadata": {
    "collapsed": false,
    "pycharm": {
     "name": "#%%\n"
    }
   }
  },
  {
   "cell_type": "code",
   "execution_count": 26,
   "outputs": [],
   "source": [
    "# Here we correct for the mistake the previous method created (i.e., deflag the 12th trial)\n",
    "interQ.loc[interQ['TrialID'] == 12, 'Removefirst'] = True\n",
    "# And we flag all first trials\n",
    "interQ.loc[interQ['TrialID'] == 1, 'Removefirst'] = False"
   ],
   "metadata": {
    "collapsed": false,
    "pycharm": {
     "name": "#%%\n"
    }
   }
  },
  {
   "cell_type": "code",
   "execution_count": 27,
   "outputs": [
    {
     "data": {
      "text/plain": "                0\ncount   28.000000\nmean   173.607143\nstd     99.399806\nmin      1.000000\n25%     93.000000\n50%    174.000000\n75%    255.000000\nmax    336.000000",
      "text/html": "<div>\n<style scoped>\n    .dataframe tbody tr th:only-of-type {\n        vertical-align: middle;\n    }\n\n    .dataframe tbody tr th {\n        vertical-align: top;\n    }\n\n    .dataframe thead th {\n        text-align: right;\n    }\n</style>\n<table border=\"1\" class=\"dataframe\">\n  <thead>\n    <tr style=\"text-align: right;\">\n      <th></th>\n      <th>0</th>\n    </tr>\n  </thead>\n  <tbody>\n    <tr>\n      <th>count</th>\n      <td>28.000000</td>\n    </tr>\n    <tr>\n      <th>mean</th>\n      <td>173.607143</td>\n    </tr>\n    <tr>\n      <th>std</th>\n      <td>99.399806</td>\n    </tr>\n    <tr>\n      <th>min</th>\n      <td>1.000000</td>\n    </tr>\n    <tr>\n      <th>25%</th>\n      <td>93.000000</td>\n    </tr>\n    <tr>\n      <th>50%</th>\n      <td>174.000000</td>\n    </tr>\n    <tr>\n      <th>75%</th>\n      <td>255.000000</td>\n    </tr>\n    <tr>\n      <th>max</th>\n      <td>336.000000</td>\n    </tr>\n  </tbody>\n</table>\n</div>"
     },
     "execution_count": 27,
     "metadata": {},
     "output_type": "execute_result"
    }
   ],
   "source": [
    "# Proof of concept: Here we retain only the flagged trials and check if the correct Trial Ids have been identified\n",
    "TeoryFirst = interQ[interQ['Removefirst'] == False].copy()\n",
    "check = pd.DataFrame(TeoryFirst['TrialID'].unique())\n",
    "check.describe()"
   ],
   "metadata": {
    "collapsed": false,
    "pycharm": {
     "name": "#%%\n"
    }
   }
  },
  {
   "cell_type": "code",
   "execution_count": 28,
   "outputs": [],
   "source": [
    "# Added cell to set Working Directory to your location\n",
    "os.chdir('/Users/tracysanchezpacheco/Documents/Resources')\n",
    "os.getcwd()\n",
    "interQ.to_csv('PointingTask_IQR_Final.csv')"
   ],
   "metadata": {
    "collapsed": false,
    "pycharm": {
     "name": "#%%\n"
    }
   }
  },
  {
   "cell_type": "code",
   "execution_count": 29,
   "outputs": [
    {
     "name": "stdout",
     "output_type": "stream",
     "text": [
      "<class 'pandas.core.frame.DataFrame'>\n",
      "Int64Index: 7728 entries, 0 to 7727\n",
      "Data columns (total 58 columns):\n",
      " #   Column                            Non-Null Count  Dtype  \n",
      "---  ------                            --------------  -----  \n",
      " 0   SubjectID                         7728 non-null   object \n",
      " 1   IQR                               7728 non-null   object \n",
      " 2   IQRlimit                          7728 non-null   object \n",
      " 3   IQRlimit2                         7728 non-null   object \n",
      " 4   Unnamed: 0                        7728 non-null   int64  \n",
      " 5   ParticipantPosition_x             7728 non-null   float64\n",
      " 6   ParticipantPosition_z             7728 non-null   float64\n",
      " 7   PointerPosition_x                 7728 non-null   float64\n",
      " 8   PointerPosition_z                 7728 non-null   float64\n",
      " 9   PointerDirection_x                7728 non-null   float64\n",
      " 10  PointerDirection_z                7728 non-null   float64\n",
      " 11  BuildingCenterWorld_z             7728 non-null   float64\n",
      " 12  BuildingCenterWorld_x             7728 non-null   float64\n",
      " 13  DistanceToParticipant             7728 non-null   float64\n",
      " 14  SignedAngle-+1802                 7728 non-null   float64\n",
      " 15  SignedAngle-+180                  7728 non-null   float64\n",
      " 16  SignedAngle360                    7728 non-null   float64\n",
      " 17  PointingTaskStartingLocations     7728 non-null   int64  \n",
      " 18  PointingTargetId                  7728 non-null   int64  \n",
      " 19  Name                              7728 non-null   object \n",
      " 20  StartPointID                      7728 non-null   int64  \n",
      " 21  PointingTargetCondition           7728 non-null   object \n",
      " 22  Context                           7728 non-null   bool   \n",
      " 23  Agent                             7728 non-null   bool   \n",
      " 24  avatarID                          7728 non-null   int64  \n",
      " 25  AvatarPresence                    7728 non-null   bool   \n",
      " 26  AvatarPresenceCategory            7728 non-null   object \n",
      " 27  meaningful                        7728 non-null   bool   \n",
      " 28  meaningfulBuilding                7728 non-null   object \n",
      " 29  Trials                            7728 non-null   int64  \n",
      " 30  TrialID                           7728 non-null   int64  \n",
      " 31  ID_for_StartingPosition           7728 non-null   int64  \n",
      " 32  ImageName                         7728 non-null   object \n",
      " 33  TimeDelta                         7728 non-null   object \n",
      " 34  RT                                7728 non-null   float64\n",
      " 35  TimeOut                           7728 non-null   bool   \n",
      " 36  TimeStampBegin                    7728 non-null   object \n",
      " 37  TimeStampEnd                      7728 non-null   object \n",
      " 38  vector_PartPos                    7728 non-null   object \n",
      " 39  vector_BuildingPos                7728 non-null   object \n",
      " 40  vector_PointerPos                 7728 non-null   object \n",
      " 41  Vector_Participant-Building       7728 non-null   object \n",
      " 42  Vector_Participant-Pointer        7728 non-null   object \n",
      " 43  building-Participant_x            7728 non-null   float64\n",
      " 44  building-Participant_z            7728 non-null   float64\n",
      " 45  Dot_Pointer-Building-Participant  7728 non-null   float64\n",
      " 46  Magnitud_Participant-Pointer      7728 non-null   float64\n",
      " 47  Magnitud_Participant-Building     7728 non-null   float64\n",
      " 48  radians                           7728 non-null   float64\n",
      " 49  degrees                           7728 non-null   float64\n",
      " 50  atanPointer                       7728 non-null   float64\n",
      " 51  atanBuild-Part                    7728 non-null   float64\n",
      " 52  atanSubs                          7728 non-null   float64\n",
      " 53  rad2degree                        7728 non-null   float64\n",
      " 54  AbsolutError                      7728 non-null   float64\n",
      " 55  Flag                              7728 non-null   bool   \n",
      " 56  Flag2                             7728 non-null   bool   \n",
      " 57  Removefirst                       7728 non-null   bool   \n",
      "dtypes: bool(8), float64(25), int64(8), object(17)\n",
      "memory usage: 3.1+ MB\n"
     ]
    }
   ],
   "source": [
    "interQ.info()"
   ],
   "metadata": {
    "collapsed": false,
    "pycharm": {
     "name": "#%%\n"
    }
   }
  },
  {
   "cell_type": "code",
   "execution_count": 30,
   "outputs": [],
   "source": [
    "#Elimininating trails were the participant ran out of time\n",
    "Clean = interQ[interQ['TimeOut']== False]"
   ],
   "metadata": {
    "collapsed": false,
    "pycharm": {
     "name": "#%%\n"
    }
   }
  },
  {
   "cell_type": "code",
   "execution_count": 31,
   "outputs": [],
   "source": [
    "PointingSum = pd.DataFrame(Clean[['SubjectID', 'AbsolutError', 'SignedAngle-+180', 'IQR', 'RT',  'DistanceToParticipant', 'PointingTaskStartingLocations',  'TrialID', 'ID_for_StartingPosition','PointingTaskStartingLocations',  'avatarID', 'AvatarPresenceCategory', 'Context', 'meaningfulBuilding',  'ImageName']].values)"
   ],
   "metadata": {
    "collapsed": false,
    "pycharm": {
     "name": "#%%\n"
    }
   }
  },
  {
   "cell_type": "code",
   "execution_count": 32,
   "outputs": [
    {
     "data": {
      "text/plain": "    ID AbsolutError SignedAngle-+180        IQR         RT  \\\n0  365    15.396716        15.396716  63.921884  25.825715   \n1  365     6.037733        -6.037733  63.921884   4.799789   \n2  365      6.34529          6.34529  63.921884    4.63859   \n3  365     3.627752         3.627752  63.921884   2.361455   \n4  365    19.115237       -19.115237  63.921884   5.975304   \n\n  DistanceToParticipant PointingTaskStartingLocations TrialID  \\\n0            197.768723                            21       1   \n1            213.475525                            16      78   \n2            111.623512                            13      88   \n3            111.623512                            13      95   \n4            232.765823                             8     131   \n\n  ID_for_StartingPosition PointingTaskStartingLocations avatarID  \\\n0                       1                            21       46   \n1                       6                            16       46   \n2                       4                            13       46   \n3                      11                            13       46   \n4                      11                             8       46   \n\n  AvatarPresenceCategory Context meaningfulBuilding ImageName  \n0                 Avatar   False     Not meaningful     46_Sa  \n1               NoAvatar   False     Not meaningful   46_SaNo  \n2                 Avatar   False     Not meaningful     46_Sa  \n3               NoAvatar   False     Not meaningful   46_SaNo  \n4               NoAvatar   False     Not meaningful   46_SaNo  ",
      "text/html": "<div>\n<style scoped>\n    .dataframe tbody tr th:only-of-type {\n        vertical-align: middle;\n    }\n\n    .dataframe tbody tr th {\n        vertical-align: top;\n    }\n\n    .dataframe thead th {\n        text-align: right;\n    }\n</style>\n<table border=\"1\" class=\"dataframe\">\n  <thead>\n    <tr style=\"text-align: right;\">\n      <th></th>\n      <th>ID</th>\n      <th>AbsolutError</th>\n      <th>SignedAngle-+180</th>\n      <th>IQR</th>\n      <th>RT</th>\n      <th>DistanceToParticipant</th>\n      <th>PointingTaskStartingLocations</th>\n      <th>TrialID</th>\n      <th>ID_for_StartingPosition</th>\n      <th>PointingTaskStartingLocations</th>\n      <th>avatarID</th>\n      <th>AvatarPresenceCategory</th>\n      <th>Context</th>\n      <th>meaningfulBuilding</th>\n      <th>ImageName</th>\n    </tr>\n  </thead>\n  <tbody>\n    <tr>\n      <th>0</th>\n      <td>365</td>\n      <td>15.396716</td>\n      <td>15.396716</td>\n      <td>63.921884</td>\n      <td>25.825715</td>\n      <td>197.768723</td>\n      <td>21</td>\n      <td>1</td>\n      <td>1</td>\n      <td>21</td>\n      <td>46</td>\n      <td>Avatar</td>\n      <td>False</td>\n      <td>Not meaningful</td>\n      <td>46_Sa</td>\n    </tr>\n    <tr>\n      <th>1</th>\n      <td>365</td>\n      <td>6.037733</td>\n      <td>-6.037733</td>\n      <td>63.921884</td>\n      <td>4.799789</td>\n      <td>213.475525</td>\n      <td>16</td>\n      <td>78</td>\n      <td>6</td>\n      <td>16</td>\n      <td>46</td>\n      <td>NoAvatar</td>\n      <td>False</td>\n      <td>Not meaningful</td>\n      <td>46_SaNo</td>\n    </tr>\n    <tr>\n      <th>2</th>\n      <td>365</td>\n      <td>6.34529</td>\n      <td>6.34529</td>\n      <td>63.921884</td>\n      <td>4.63859</td>\n      <td>111.623512</td>\n      <td>13</td>\n      <td>88</td>\n      <td>4</td>\n      <td>13</td>\n      <td>46</td>\n      <td>Avatar</td>\n      <td>False</td>\n      <td>Not meaningful</td>\n      <td>46_Sa</td>\n    </tr>\n    <tr>\n      <th>3</th>\n      <td>365</td>\n      <td>3.627752</td>\n      <td>3.627752</td>\n      <td>63.921884</td>\n      <td>2.361455</td>\n      <td>111.623512</td>\n      <td>13</td>\n      <td>95</td>\n      <td>11</td>\n      <td>13</td>\n      <td>46</td>\n      <td>NoAvatar</td>\n      <td>False</td>\n      <td>Not meaningful</td>\n      <td>46_SaNo</td>\n    </tr>\n    <tr>\n      <th>4</th>\n      <td>365</td>\n      <td>19.115237</td>\n      <td>-19.115237</td>\n      <td>63.921884</td>\n      <td>5.975304</td>\n      <td>232.765823</td>\n      <td>8</td>\n      <td>131</td>\n      <td>11</td>\n      <td>8</td>\n      <td>46</td>\n      <td>NoAvatar</td>\n      <td>False</td>\n      <td>Not meaningful</td>\n      <td>46_SaNo</td>\n    </tr>\n  </tbody>\n</table>\n</div>"
     },
     "execution_count": 32,
     "metadata": {},
     "output_type": "execute_result"
    }
   ],
   "source": [
    "PointingSum.columns = ['ID', 'AbsolutError', 'SignedAngle-+180', 'IQR', 'RT',  'DistanceToParticipant', 'PointingTaskStartingLocations',  'TrialID', 'ID_for_StartingPosition','PointingTaskStartingLocations',  'avatarID', 'AvatarPresenceCategory', 'Context', 'meaningfulBuilding',  'ImageName']\n",
    "PointingSum.head()"
   ],
   "metadata": {
    "collapsed": false,
    "pycharm": {
     "name": "#%%\n"
    }
   }
  },
  {
   "cell_type": "code",
   "execution_count": 33,
   "outputs": [],
   "source": [
    "os.chdir('/Users/tracysanchezpacheco/Documents/Resources')\n",
    "PointingSum.to_csv('PointingSummary.csv')\n",
    "Clean.to_csv('FULL_Pointing.csv')"
   ],
   "metadata": {
    "collapsed": false,
    "pycharm": {
     "name": "#%%\n"
    }
   }
  }
 ],
 "metadata": {
  "kernelspec": {
   "display_name": "Python 3",
   "language": "python",
   "name": "python3"
  },
  "language_info": {
   "codemirror_mode": {
    "name": "ipython",
    "version": 3
   },
   "file_extension": ".py",
   "mimetype": "text/x-python",
   "name": "python",
   "nbconvert_exporter": "python",
   "pygments_lexer": "ipython3",
   "version": "3.8.8"
  }
 },
 "nbformat": 4,
 "nbformat_minor": 5
}