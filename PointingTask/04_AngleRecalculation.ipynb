{
 "cells": [
  {
   "cell_type": "markdown",
   "id": "f76460dd-4dc0-42e7-8601-238c9cfc62d5",
   "metadata": {},
   "source": [
    "# Angle recalculations\n",
    "\n",
    "The angular deviation between two vectors will be reconstructed using two methods:\n",
    "   - The acute angular method: Calculated by applying cosine.\n",
    "   - The obtuse angular method: Calculated by applying atan2.\n",
    "   \n",
    " "
   ]
  },
  {
   "cell_type": "code",
   "execution_count": 37,
   "id": "ce28f25e-723c-4b40-9217-eba59e8feb45",
   "metadata": {},
   "outputs": [],
   "source": [
    "import os\n",
    "import pandas as pd\n",
    "import numpy as np\n",
    "import warnings\n",
    "import math\n",
    "warnings.simplefilter(action='ignore', category=FutureWarning)"
   ]
  },
  {
   "cell_type": "markdown",
   "id": "b8abd6bd-4f5e-4052-b89b-2a5d60c17f4d",
   "metadata": {},
   "source": [
    "### Load corrected integrated Pointing task\n",
    "\n",
    "Data comes as a result of script `02_ParticipantsDataReconstruction`"
   ]
  },
  {
   "cell_type": "code",
   "execution_count": 38,
   "id": "6d0f3737-c4e1-4cb0-9b1e-721b7c649d5d",
   "metadata": {},
   "outputs": [
    {
     "name": "stdout",
     "output_type": "stream",
     "text": [
      "<class 'pandas.core.frame.DataFrame'>\n",
      "RangeIndex: 9408 entries, 0 to 9407\n",
      "Data columns (total 33 columns):\n",
      " #   Column                         Non-Null Count  Dtype  \n",
      "---  ------                         --------------  -----  \n",
      " 0   Unnamed: 0                     9408 non-null   int64  \n",
      " 1   SubjectID                      9408 non-null   int64  \n",
      " 2   ParticipantPosition_x          9408 non-null   float64\n",
      " 3   ParticipantPosition_z          9408 non-null   float64\n",
      " 4   PointerPosition_x              9408 non-null   float64\n",
      " 5   PointerPosition_z              9408 non-null   float64\n",
      " 6   PointerDirection_x             9408 non-null   float64\n",
      " 7   PointerDirection_z             9408 non-null   float64\n",
      " 8   BuildingCenterWorld_z          9408 non-null   float64\n",
      " 9   BuildingCenterWorld_x          9408 non-null   float64\n",
      " 10  DistanceToParticipant          9408 non-null   float64\n",
      " 11  PointingTaskStartingLocations  9408 non-null   int64  \n",
      " 12  AgentID                        9408 non-null   int64  \n",
      " 13  Name                           9408 non-null   object \n",
      " 14  StartPointID                   9408 non-null   int64  \n",
      " 15  PointingTargetCondition        9408 non-null   object \n",
      " 16  Context                        9408 non-null   bool   \n",
      " 17  Agent                          9408 non-null   bool   \n",
      " 18  avatarID                       9408 non-null   int64  \n",
      " 19  AvatarPresence                 9408 non-null   bool   \n",
      " 20  AvatarPresenceCategory         9408 non-null   object \n",
      " 21  meaningful                     9408 non-null   bool   \n",
      " 22  meaningfulBuilding             9408 non-null   object \n",
      " 23  Trials                         9408 non-null   int64  \n",
      " 24  TrialNumber                    9408 non-null   int64  \n",
      " 25  StartPointID.1                 9408 non-null   int64  \n",
      " 26  ID_for_StartingPosition        9408 non-null   int64  \n",
      " 27  ImageName                      9408 non-null   object \n",
      " 28  TimeDelta                      9408 non-null   object \n",
      " 29  RT                             9408 non-null   float64\n",
      " 30  TimeOut                        9408 non-null   bool   \n",
      " 31  TimeStampBegin                 9408 non-null   object \n",
      " 32  TimeStampEnd                   9408 non-null   object \n",
      "dtypes: bool(5), float64(10), int64(10), object(8)\n",
      "memory usage: 2.1+ MB\n"
     ]
    }
   ],
   "source": [
    "CoordinatesIntegrated = pd.read_csv('/Users/tracysanchezpacheco/Documents/Resources/PointingTask_Integrated.csv')\n",
    "CoordinatesIntegrated.info()"
   ]
  },
  {
   "cell_type": "markdown",
   "id": "7ddc1acd-130c-4d3a-909e-7b1521567820",
   "metadata": {},
   "source": [
    "## Creation of vectors"
   ]
  },
  {
   "cell_type": "code",
   "execution_count": 39,
   "id": "8f588fc6-291c-4818-b6e5-78fcf83f639f",
   "metadata": {},
   "outputs": [],
   "source": [
    "CoordinatesIntegrated['vector_PartPos'] = list(zip(CoordinatesIntegrated.ParticipantPosition_x, CoordinatesIntegrated.ParticipantPosition_z))\n",
    "CoordinatesIntegrated['vector_BuildingPos'] = list(zip(CoordinatesIntegrated['BuildingCenterWorld_x'], CoordinatesIntegrated['BuildingCenterWorld_z']))\n",
    "CoordinatesIntegrated['vector_PointerPos'] =list(zip(CoordinatesIntegrated.PointerDirection_x, CoordinatesIntegrated.PointerDirection_z))"
   ]
  },
  {
   "cell_type": "code",
   "execution_count": 40,
   "id": "4c2dc30f-79f2-40b9-b4de-1b6401ddf9ea",
   "metadata": {},
   "outputs": [],
   "source": [
    "PartList = list(CoordinatesIntegrated['vector_PartPos'])\n",
    "BuiltList = list(CoordinatesIntegrated['vector_BuildingPos'])\n",
    "PointList = list(CoordinatesIntegrated['vector_PointerPos'])"
   ]
  },
  {
   "cell_type": "code",
   "execution_count": 41,
   "id": "5d7ec289-9831-4090-91c5-8d2f5f47cc6c",
   "metadata": {},
   "outputs": [
    {
     "data": {
      "text/plain": "   Trials  TrialNumber  StartPointID.1  ID_for_StartingPosition ImageName  \\\n0       9            1               1                        1  05_CmANo   \n1       8           49               5                        1    05_CmA   \n2       8          173              15                        5    05_CmA   \n3       9          176              15                        8  05_CmANo   \n4       9          262              22                       10  05_CmANo   \n\n                   TimeDelta         RT  \n0  0 days 00:00:25.632290816  25.632291  \n1  0 days 00:00:09.823777024   9.823777  \n2  0 days 00:00:02.202241280   2.202241  \n3  0 days 00:00:06.977730048   6.977730  \n4  0 days 00:00:06.163793408   6.163794  ",
      "text/html": "<div>\n<style scoped>\n    .dataframe tbody tr th:only-of-type {\n        vertical-align: middle;\n    }\n\n    .dataframe tbody tr th {\n        vertical-align: top;\n    }\n\n    .dataframe thead th {\n        text-align: right;\n    }\n</style>\n<table border=\"1\" class=\"dataframe\">\n  <thead>\n    <tr style=\"text-align: right;\">\n      <th></th>\n      <th>Trials</th>\n      <th>TrialNumber</th>\n      <th>StartPointID.1</th>\n      <th>ID_for_StartingPosition</th>\n      <th>ImageName</th>\n      <th>TimeDelta</th>\n      <th>RT</th>\n    </tr>\n  </thead>\n  <tbody>\n    <tr>\n      <th>0</th>\n      <td>9</td>\n      <td>1</td>\n      <td>1</td>\n      <td>1</td>\n      <td>05_CmANo</td>\n      <td>0 days 00:00:25.632290816</td>\n      <td>25.632291</td>\n    </tr>\n    <tr>\n      <th>1</th>\n      <td>8</td>\n      <td>49</td>\n      <td>5</td>\n      <td>1</td>\n      <td>05_CmA</td>\n      <td>0 days 00:00:09.823777024</td>\n      <td>9.823777</td>\n    </tr>\n    <tr>\n      <th>2</th>\n      <td>8</td>\n      <td>173</td>\n      <td>15</td>\n      <td>5</td>\n      <td>05_CmA</td>\n      <td>0 days 00:00:02.202241280</td>\n      <td>2.202241</td>\n    </tr>\n    <tr>\n      <th>3</th>\n      <td>9</td>\n      <td>176</td>\n      <td>15</td>\n      <td>8</td>\n      <td>05_CmANo</td>\n      <td>0 days 00:00:06.977730048</td>\n      <td>6.977730</td>\n    </tr>\n    <tr>\n      <th>4</th>\n      <td>9</td>\n      <td>262</td>\n      <td>22</td>\n      <td>10</td>\n      <td>05_CmANo</td>\n      <td>0 days 00:00:06.163793408</td>\n      <td>6.163794</td>\n    </tr>\n  </tbody>\n</table>\n</div>"
     },
     "execution_count": 41,
     "metadata": {},
     "output_type": "execute_result"
    }
   ],
   "source": [
    "### Calculating direction vector from Participant Position (a) to Target Building Position (b): b- **  component form is terminal minus initial\n",
    "CoordinatesIntegrated['Vector_Participant-Building'] = [tuple(x-y for x, y in zip(tup1, tup2)) for tup1, tup2 in zip(BuiltList, PartList)]\n",
    "### Calculating direction vector from Participant Position (a) to pointer (b): a-b\n",
    "CoordinatesIntegrated['Vector_Participant-Pointer'] = [tuple(x-y for x, y in zip(tup1, tup2)) for tup1, tup2 in zip(PointList, PartList)] # addition\n",
    "CoordinatesIntegrated.iloc[:,-15:-8].head(5)"
   ]
  },
  {
   "cell_type": "code",
   "execution_count": 42,
   "id": "ae40c28d-7e07-4cea-acf9-50d306188b22",
   "metadata": {},
   "outputs": [
    {
     "data": {
      "text/plain": "                                                       Unnamed: 0  SubjectID  \\\nBuildingCenterWorld_z BuildingCenterWorld_x ImageName                          \n-255.873932           -3.336735             23_CmA            102        102   \n                                            23_CmANo           77         77   \n-205.836075           -42.972923            48_Sa              88         88   \n                                            48_SaNo            90         90   \n-204.096573            96.337585            40_Sa              82         82   \n...                                                           ...        ...   \n 226.580154           -72.436798            18_CmANo           74         74   \n 234.419739            197.370117           03_CmA             68         68   \n                                            03_CmANo           91         91   \n 288.053894           -234.506821           56_Sa              80         80   \n                                            56_SaNo            88         88   \n\n                                                       ParticipantPosition_x  \\\nBuildingCenterWorld_z BuildingCenterWorld_x ImageName                          \n-255.873932           -3.336735             23_CmA                       102   \n                                            23_CmANo                      77   \n-205.836075           -42.972923            48_Sa                         88   \n                                            48_SaNo                       90   \n-204.096573            96.337585            40_Sa                         82   \n...                                                                      ...   \n 226.580154           -72.436798            18_CmANo                      74   \n 234.419739            197.370117           03_CmA                        68   \n                                            03_CmANo                      91   \n 288.053894           -234.506821           56_Sa                         80   \n                                            56_SaNo                       88   \n\n                                                       ParticipantPosition_z  \\\nBuildingCenterWorld_z BuildingCenterWorld_x ImageName                          \n-255.873932           -3.336735             23_CmA                       102   \n                                            23_CmANo                      77   \n-205.836075           -42.972923            48_Sa                         88   \n                                            48_SaNo                       90   \n-204.096573            96.337585            40_Sa                         82   \n...                                                                      ...   \n 226.580154           -72.436798            18_CmANo                      74   \n 234.419739            197.370117           03_CmA                        68   \n                                            03_CmANo                      91   \n 288.053894           -234.506821           56_Sa                         80   \n                                            56_SaNo                       88   \n\n                                                       PointerPosition_x  \\\nBuildingCenterWorld_z BuildingCenterWorld_x ImageName                      \n-255.873932           -3.336735             23_CmA                   102   \n                                            23_CmANo                  77   \n-205.836075           -42.972923            48_Sa                     88   \n                                            48_SaNo                   90   \n-204.096573            96.337585            40_Sa                     82   \n...                                                                  ...   \n 226.580154           -72.436798            18_CmANo                  74   \n 234.419739            197.370117           03_CmA                    68   \n                                            03_CmANo                  91   \n 288.053894           -234.506821           56_Sa                     80   \n                                            56_SaNo                   88   \n\n                                                       PointerPosition_z  \\\nBuildingCenterWorld_z BuildingCenterWorld_x ImageName                      \n-255.873932           -3.336735             23_CmA                   102   \n                                            23_CmANo                  77   \n-205.836075           -42.972923            48_Sa                     88   \n                                            48_SaNo                   90   \n-204.096573            96.337585            40_Sa                     82   \n...                                                                  ...   \n 226.580154           -72.436798            18_CmANo                  74   \n 234.419739            197.370117           03_CmA                    68   \n                                            03_CmANo                  91   \n 288.053894           -234.506821           56_Sa                     80   \n                                            56_SaNo                   88   \n\n                                                       PointerDirection_x  \\\nBuildingCenterWorld_z BuildingCenterWorld_x ImageName                       \n-255.873932           -3.336735             23_CmA                    102   \n                                            23_CmANo                   77   \n-205.836075           -42.972923            48_Sa                      88   \n                                            48_SaNo                    90   \n-204.096573            96.337585            40_Sa                      82   \n...                                                                   ...   \n 226.580154           -72.436798            18_CmANo                   74   \n 234.419739            197.370117           03_CmA                     68   \n                                            03_CmANo                   91   \n 288.053894           -234.506821           56_Sa                      80   \n                                            56_SaNo                    88   \n\n                                                       PointerDirection_z  \\\nBuildingCenterWorld_z BuildingCenterWorld_x ImageName                       \n-255.873932           -3.336735             23_CmA                    102   \n                                            23_CmANo                   77   \n-205.836075           -42.972923            48_Sa                      88   \n                                            48_SaNo                    90   \n-204.096573            96.337585            40_Sa                      82   \n...                                                                   ...   \n 226.580154           -72.436798            18_CmANo                   74   \n 234.419739            197.370117           03_CmA                     68   \n                                            03_CmANo                   91   \n 288.053894           -234.506821           56_Sa                      80   \n                                            56_SaNo                    88   \n\n                                                       DistanceToParticipant  \\\nBuildingCenterWorld_z BuildingCenterWorld_x ImageName                          \n-255.873932           -3.336735             23_CmA                       102   \n                                            23_CmANo                      77   \n-205.836075           -42.972923            48_Sa                         88   \n                                            48_SaNo                       90   \n-204.096573            96.337585            40_Sa                         82   \n...                                                                      ...   \n 226.580154           -72.436798            18_CmANo                      74   \n 234.419739            197.370117           03_CmA                        68   \n                                            03_CmANo                      91   \n 288.053894           -234.506821           56_Sa                         80   \n                                            56_SaNo                       88   \n\n                                                       PointingTaskStartingLocations  \\\nBuildingCenterWorld_z BuildingCenterWorld_x ImageName                                  \n-255.873932           -3.336735             23_CmA                               102   \n                                            23_CmANo                              77   \n-205.836075           -42.972923            48_Sa                                 88   \n                                            48_SaNo                               90   \n-204.096573            96.337585            40_Sa                                 82   \n...                                                                              ...   \n 226.580154           -72.436798            18_CmANo                              74   \n 234.419739            197.370117           03_CmA                                68   \n                                            03_CmANo                              91   \n 288.053894           -234.506821           56_Sa                                 80   \n                                            56_SaNo                               88   \n\n                                                       ...  TimeDelta   RT  \\\nBuildingCenterWorld_z BuildingCenterWorld_x ImageName  ...                   \n-255.873932           -3.336735             23_CmA     ...        102  102   \n                                            23_CmANo   ...         77   77   \n-205.836075           -42.972923            48_Sa      ...         88   88   \n                                            48_SaNo    ...         90   90   \n-204.096573            96.337585            40_Sa      ...         82   82   \n...                                                    ...        ...  ...   \n 226.580154           -72.436798            18_CmANo   ...         74   74   \n 234.419739            197.370117           03_CmA     ...         68   68   \n                                            03_CmANo   ...         91   91   \n 288.053894           -234.506821           56_Sa      ...         80   80   \n                                            56_SaNo    ...         88   88   \n\n                                                       TimeOut  \\\nBuildingCenterWorld_z BuildingCenterWorld_x ImageName            \n-255.873932           -3.336735             23_CmA         102   \n                                            23_CmANo        77   \n-205.836075           -42.972923            48_Sa           88   \n                                            48_SaNo         90   \n-204.096573            96.337585            40_Sa           82   \n...                                                        ...   \n 226.580154           -72.436798            18_CmANo        74   \n 234.419739            197.370117           03_CmA          68   \n                                            03_CmANo        91   \n 288.053894           -234.506821           56_Sa           80   \n                                            56_SaNo         88   \n\n                                                       TimeStampBegin  \\\nBuildingCenterWorld_z BuildingCenterWorld_x ImageName                   \n-255.873932           -3.336735             23_CmA                102   \n                                            23_CmANo               77   \n-205.836075           -42.972923            48_Sa                  88   \n                                            48_SaNo                90   \n-204.096573            96.337585            40_Sa                  82   \n...                                                               ...   \n 226.580154           -72.436798            18_CmANo               74   \n 234.419739            197.370117           03_CmA                 68   \n                                            03_CmANo               91   \n 288.053894           -234.506821           56_Sa                  80   \n                                            56_SaNo                88   \n\n                                                       TimeStampEnd  \\\nBuildingCenterWorld_z BuildingCenterWorld_x ImageName                 \n-255.873932           -3.336735             23_CmA              102   \n                                            23_CmANo             77   \n-205.836075           -42.972923            48_Sa                88   \n                                            48_SaNo              90   \n-204.096573            96.337585            40_Sa                82   \n...                                                             ...   \n 226.580154           -72.436798            18_CmANo             74   \n 234.419739            197.370117           03_CmA               68   \n                                            03_CmANo             91   \n 288.053894           -234.506821           56_Sa                80   \n                                            56_SaNo              88   \n\n                                                       vector_PartPos  \\\nBuildingCenterWorld_z BuildingCenterWorld_x ImageName                   \n-255.873932           -3.336735             23_CmA                102   \n                                            23_CmANo               77   \n-205.836075           -42.972923            48_Sa                  88   \n                                            48_SaNo                90   \n-204.096573            96.337585            40_Sa                  82   \n...                                                               ...   \n 226.580154           -72.436798            18_CmANo               74   \n 234.419739            197.370117           03_CmA                 68   \n                                            03_CmANo               91   \n 288.053894           -234.506821           56_Sa                  80   \n                                            56_SaNo                88   \n\n                                                       vector_BuildingPos  \\\nBuildingCenterWorld_z BuildingCenterWorld_x ImageName                       \n-255.873932           -3.336735             23_CmA                    102   \n                                            23_CmANo                   77   \n-205.836075           -42.972923            48_Sa                      88   \n                                            48_SaNo                    90   \n-204.096573            96.337585            40_Sa                      82   \n...                                                                   ...   \n 226.580154           -72.436798            18_CmANo                   74   \n 234.419739            197.370117           03_CmA                     68   \n                                            03_CmANo                   91   \n 288.053894           -234.506821           56_Sa                      80   \n                                            56_SaNo                    88   \n\n                                                       vector_PointerPos  \\\nBuildingCenterWorld_z BuildingCenterWorld_x ImageName                      \n-255.873932           -3.336735             23_CmA                   102   \n                                            23_CmANo                  77   \n-205.836075           -42.972923            48_Sa                     88   \n                                            48_SaNo                   90   \n-204.096573            96.337585            40_Sa                     82   \n...                                                                  ...   \n 226.580154           -72.436798            18_CmANo                  74   \n 234.419739            197.370117           03_CmA                    68   \n                                            03_CmANo                  91   \n 288.053894           -234.506821           56_Sa                     80   \n                                            56_SaNo                   88   \n\n                                                       Vector_Participant-Building  \\\nBuildingCenterWorld_z BuildingCenterWorld_x ImageName                                \n-255.873932           -3.336735             23_CmA                             102   \n                                            23_CmANo                            77   \n-205.836075           -42.972923            48_Sa                               88   \n                                            48_SaNo                             90   \n-204.096573            96.337585            40_Sa                               82   \n...                                                                            ...   \n 226.580154           -72.436798            18_CmANo                            74   \n 234.419739            197.370117           03_CmA                              68   \n                                            03_CmANo                            91   \n 288.053894           -234.506821           56_Sa                               80   \n                                            56_SaNo                             88   \n\n                                                       Vector_Participant-Pointer  \nBuildingCenterWorld_z BuildingCenterWorld_x ImageName                              \n-255.873932           -3.336735             23_CmA                            102  \n                                            23_CmANo                           77  \n-205.836075           -42.972923            48_Sa                              88  \n                                            48_SaNo                            90  \n-204.096573            96.337585            40_Sa                              82  \n...                                                                           ...  \n 226.580154           -72.436798            18_CmANo                           74  \n 234.419739            197.370117           03_CmA                             68  \n                                            03_CmANo                           91  \n 288.053894           -234.506821           56_Sa                              80  \n                                            56_SaNo                            88  \n\n[112 rows x 35 columns]",
      "text/html": "<div>\n<style scoped>\n    .dataframe tbody tr th:only-of-type {\n        vertical-align: middle;\n    }\n\n    .dataframe tbody tr th {\n        vertical-align: top;\n    }\n\n    .dataframe thead th {\n        text-align: right;\n    }\n</style>\n<table border=\"1\" class=\"dataframe\">\n  <thead>\n    <tr style=\"text-align: right;\">\n      <th></th>\n      <th></th>\n      <th></th>\n      <th>Unnamed: 0</th>\n      <th>SubjectID</th>\n      <th>ParticipantPosition_x</th>\n      <th>ParticipantPosition_z</th>\n      <th>PointerPosition_x</th>\n      <th>PointerPosition_z</th>\n      <th>PointerDirection_x</th>\n      <th>PointerDirection_z</th>\n      <th>DistanceToParticipant</th>\n      <th>PointingTaskStartingLocations</th>\n      <th>...</th>\n      <th>TimeDelta</th>\n      <th>RT</th>\n      <th>TimeOut</th>\n      <th>TimeStampBegin</th>\n      <th>TimeStampEnd</th>\n      <th>vector_PartPos</th>\n      <th>vector_BuildingPos</th>\n      <th>vector_PointerPos</th>\n      <th>Vector_Participant-Building</th>\n      <th>Vector_Participant-Pointer</th>\n    </tr>\n    <tr>\n      <th>BuildingCenterWorld_z</th>\n      <th>BuildingCenterWorld_x</th>\n      <th>ImageName</th>\n      <th></th>\n      <th></th>\n      <th></th>\n      <th></th>\n      <th></th>\n      <th></th>\n      <th></th>\n      <th></th>\n      <th></th>\n      <th></th>\n      <th></th>\n      <th></th>\n      <th></th>\n      <th></th>\n      <th></th>\n      <th></th>\n      <th></th>\n      <th></th>\n      <th></th>\n      <th></th>\n      <th></th>\n    </tr>\n  </thead>\n  <tbody>\n    <tr>\n      <th rowspan=\"2\" valign=\"top\">-255.873932</th>\n      <th rowspan=\"2\" valign=\"top\">-3.336735</th>\n      <th>23_CmA</th>\n      <td>102</td>\n      <td>102</td>\n      <td>102</td>\n      <td>102</td>\n      <td>102</td>\n      <td>102</td>\n      <td>102</td>\n      <td>102</td>\n      <td>102</td>\n      <td>102</td>\n      <td>...</td>\n      <td>102</td>\n      <td>102</td>\n      <td>102</td>\n      <td>102</td>\n      <td>102</td>\n      <td>102</td>\n      <td>102</td>\n      <td>102</td>\n      <td>102</td>\n      <td>102</td>\n    </tr>\n    <tr>\n      <th>23_CmANo</th>\n      <td>77</td>\n      <td>77</td>\n      <td>77</td>\n      <td>77</td>\n      <td>77</td>\n      <td>77</td>\n      <td>77</td>\n      <td>77</td>\n      <td>77</td>\n      <td>77</td>\n      <td>...</td>\n      <td>77</td>\n      <td>77</td>\n      <td>77</td>\n      <td>77</td>\n      <td>77</td>\n      <td>77</td>\n      <td>77</td>\n      <td>77</td>\n      <td>77</td>\n      <td>77</td>\n    </tr>\n    <tr>\n      <th rowspan=\"2\" valign=\"top\">-205.836075</th>\n      <th rowspan=\"2\" valign=\"top\">-42.972923</th>\n      <th>48_Sa</th>\n      <td>88</td>\n      <td>88</td>\n      <td>88</td>\n      <td>88</td>\n      <td>88</td>\n      <td>88</td>\n      <td>88</td>\n      <td>88</td>\n      <td>88</td>\n      <td>88</td>\n      <td>...</td>\n      <td>88</td>\n      <td>88</td>\n      <td>88</td>\n      <td>88</td>\n      <td>88</td>\n      <td>88</td>\n      <td>88</td>\n      <td>88</td>\n      <td>88</td>\n      <td>88</td>\n    </tr>\n    <tr>\n      <th>48_SaNo</th>\n      <td>90</td>\n      <td>90</td>\n      <td>90</td>\n      <td>90</td>\n      <td>90</td>\n      <td>90</td>\n      <td>90</td>\n      <td>90</td>\n      <td>90</td>\n      <td>90</td>\n      <td>...</td>\n      <td>90</td>\n      <td>90</td>\n      <td>90</td>\n      <td>90</td>\n      <td>90</td>\n      <td>90</td>\n      <td>90</td>\n      <td>90</td>\n      <td>90</td>\n      <td>90</td>\n    </tr>\n    <tr>\n      <th>-204.096573</th>\n      <th>96.337585</th>\n      <th>40_Sa</th>\n      <td>82</td>\n      <td>82</td>\n      <td>82</td>\n      <td>82</td>\n      <td>82</td>\n      <td>82</td>\n      <td>82</td>\n      <td>82</td>\n      <td>82</td>\n      <td>82</td>\n      <td>...</td>\n      <td>82</td>\n      <td>82</td>\n      <td>82</td>\n      <td>82</td>\n      <td>82</td>\n      <td>82</td>\n      <td>82</td>\n      <td>82</td>\n      <td>82</td>\n      <td>82</td>\n    </tr>\n    <tr>\n      <th>...</th>\n      <th>...</th>\n      <th>...</th>\n      <td>...</td>\n      <td>...</td>\n      <td>...</td>\n      <td>...</td>\n      <td>...</td>\n      <td>...</td>\n      <td>...</td>\n      <td>...</td>\n      <td>...</td>\n      <td>...</td>\n      <td>...</td>\n      <td>...</td>\n      <td>...</td>\n      <td>...</td>\n      <td>...</td>\n      <td>...</td>\n      <td>...</td>\n      <td>...</td>\n      <td>...</td>\n      <td>...</td>\n      <td>...</td>\n    </tr>\n    <tr>\n      <th>226.580154</th>\n      <th>-72.436798</th>\n      <th>18_CmANo</th>\n      <td>74</td>\n      <td>74</td>\n      <td>74</td>\n      <td>74</td>\n      <td>74</td>\n      <td>74</td>\n      <td>74</td>\n      <td>74</td>\n      <td>74</td>\n      <td>74</td>\n      <td>...</td>\n      <td>74</td>\n      <td>74</td>\n      <td>74</td>\n      <td>74</td>\n      <td>74</td>\n      <td>74</td>\n      <td>74</td>\n      <td>74</td>\n      <td>74</td>\n      <td>74</td>\n    </tr>\n    <tr>\n      <th rowspan=\"2\" valign=\"top\">234.419739</th>\n      <th rowspan=\"2\" valign=\"top\">197.370117</th>\n      <th>03_CmA</th>\n      <td>68</td>\n      <td>68</td>\n      <td>68</td>\n      <td>68</td>\n      <td>68</td>\n      <td>68</td>\n      <td>68</td>\n      <td>68</td>\n      <td>68</td>\n      <td>68</td>\n      <td>...</td>\n      <td>68</td>\n      <td>68</td>\n      <td>68</td>\n      <td>68</td>\n      <td>68</td>\n      <td>68</td>\n      <td>68</td>\n      <td>68</td>\n      <td>68</td>\n      <td>68</td>\n    </tr>\n    <tr>\n      <th>03_CmANo</th>\n      <td>91</td>\n      <td>91</td>\n      <td>91</td>\n      <td>91</td>\n      <td>91</td>\n      <td>91</td>\n      <td>91</td>\n      <td>91</td>\n      <td>91</td>\n      <td>91</td>\n      <td>...</td>\n      <td>91</td>\n      <td>91</td>\n      <td>91</td>\n      <td>91</td>\n      <td>91</td>\n      <td>91</td>\n      <td>91</td>\n      <td>91</td>\n      <td>91</td>\n      <td>91</td>\n    </tr>\n    <tr>\n      <th rowspan=\"2\" valign=\"top\">288.053894</th>\n      <th rowspan=\"2\" valign=\"top\">-234.506821</th>\n      <th>56_Sa</th>\n      <td>80</td>\n      <td>80</td>\n      <td>80</td>\n      <td>80</td>\n      <td>80</td>\n      <td>80</td>\n      <td>80</td>\n      <td>80</td>\n      <td>80</td>\n      <td>80</td>\n      <td>...</td>\n      <td>80</td>\n      <td>80</td>\n      <td>80</td>\n      <td>80</td>\n      <td>80</td>\n      <td>80</td>\n      <td>80</td>\n      <td>80</td>\n      <td>80</td>\n      <td>80</td>\n    </tr>\n    <tr>\n      <th>56_SaNo</th>\n      <td>88</td>\n      <td>88</td>\n      <td>88</td>\n      <td>88</td>\n      <td>88</td>\n      <td>88</td>\n      <td>88</td>\n      <td>88</td>\n      <td>88</td>\n      <td>88</td>\n      <td>...</td>\n      <td>88</td>\n      <td>88</td>\n      <td>88</td>\n      <td>88</td>\n      <td>88</td>\n      <td>88</td>\n      <td>88</td>\n      <td>88</td>\n      <td>88</td>\n      <td>88</td>\n    </tr>\n  </tbody>\n</table>\n<p>112 rows × 35 columns</p>\n</div>"
     },
     "execution_count": 42,
     "metadata": {},
     "output_type": "execute_result"
    }
   ],
   "source": [
    "CoordinatesIntegrated.groupby(['BuildingCenterWorld_z','BuildingCenterWorld_x',  'ImageName']).count()"
   ]
  },
  {
   "cell_type": "markdown",
   "id": "c1e01734-cdd0-4848-b67c-45ea3b68bd2e",
   "metadata": {},
   "source": [
    "## Angle functions acute method"
   ]
  },
  {
   "cell_type": "code",
   "execution_count": 43,
   "id": "52ffdbe9-aaea-47ce-9deb-1267d45384d4",
   "metadata": {},
   "outputs": [],
   "source": [
    "def DotTuple(v1,v2):\n",
    "    \"\"\"Returns the dot product of two vectors of two elements each\n",
    "Parameters\n",
    "-------------\n",
    "    v1: tuple of two elements\n",
    "    v2: tuple of two elements\n",
    "returns\n",
    "----------\n",
    "    list of dot product of tuples\n",
    "\"\"\"\n",
    "    dotList = []\n",
    "    dot = [sum(x*y for x, y in zip(tup1, tup2))for tup1, tup2 in zip(v1, v2)]\n",
    "    dotList.append(dot)\n",
    "    flatlist = [item for sublist in dotList for item in sublist]\n",
    "    return flatlist"
   ]
  },
  {
   "cell_type": "code",
   "execution_count": 44,
   "id": "dccd2e01-bc64-4ebc-ad88-5ba859c4b2c2",
   "metadata": {},
   "outputs": [],
   "source": [
    "def Magnitud(v1):\n",
    "    \"\"\"Returns the magnitute of a vector\n",
    "Parameters\n",
    "-------------\n",
    "    v1: tuple of two elements\n",
    "returns\n",
    "----------\n",
    "    list with magnitude of vectors\n",
    "\"\"\"\n",
    "    v1 = [x ** 2 + y ** 2 for x,y in v1]\n",
    "    squared = [math.sqrt(value) for value in v1]\n",
    "    return(squared)"
   ]
  },
  {
   "cell_type": "code",
   "execution_count": 45,
   "id": "48df16c4-fa36-46cf-ab4c-1c66a95d1a5b",
   "metadata": {},
   "outputs": [],
   "source": [
    "CoordinatesIntegrated['building-Participant_x'] = CoordinatesIntegrated['BuildingCenterWorld_x'] -  CoordinatesIntegrated['ParticipantPosition_x']\n",
    "CoordinatesIntegrated['building-Participant_z'] = CoordinatesIntegrated['BuildingCenterWorld_z'] - CoordinatesIntegrated['ParticipantPosition_z']"
   ]
  },
  {
   "cell_type": "code",
   "execution_count": 46,
   "id": "b15aebe9-1408-49b4-9be0-dd8f4397169d",
   "metadata": {},
   "outputs": [],
   "source": [
    "# Creating the individual elements of the arc cos formula and inserting them on the dataframe\n",
    "CoordinatesIntegrated['Dot_Pointer-Building-Participant'] = DotTuple(CoordinatesIntegrated['Vector_Participant-Pointer'],CoordinatesIntegrated['Vector_Participant-Building'])\n",
    "CoordinatesIntegrated['Magnitud_Participant-Pointer'] = Magnitud(CoordinatesIntegrated['Vector_Participant-Pointer'])\n",
    "CoordinatesIntegrated['Magnitud_Participant-Building'] = Magnitud(CoordinatesIntegrated['Vector_Participant-Building'])"
   ]
  },
  {
   "cell_type": "code",
   "execution_count": 47,
   "id": "9ce7adf6-b063-4865-8cfb-ce5e1099188e",
   "metadata": {},
   "outputs": [
    {
     "data": {
      "text/plain": "count    9408.000000\nmean       42.838051\nstd        38.198586\nmin         0.006036\n25%        14.470790\n50%        31.088278\n75%        59.811312\nmax       179.736428\nName: degrees, dtype: float64"
     },
     "execution_count": 47,
     "metadata": {},
     "output_type": "execute_result"
    }
   ],
   "source": [
    "# Calculating degrees using the arc cos formula and inserting them on the dataframe\n",
    "my_angle = CoordinatesIntegrated['Dot_Pointer-Building-Participant']/ (CoordinatesIntegrated['Magnitud_Participant-Pointer'] * CoordinatesIntegrated['Magnitud_Participant-Building'])\n",
    "CoordinatesIntegrated['radians'] =  [math.acos(value) for value in my_angle]\n",
    "CoordinatesIntegrated['degrees'] = [np.rad2deg(value) for value in CoordinatesIntegrated['radians']]\n",
    "CoordinatesIntegrated['degrees'].describe()"
   ]
  },
  {
   "cell_type": "markdown",
   "id": "de3a4a69-424a-4353-9cec-eff26daddf64",
   "metadata": {},
   "source": [
    "## Angle functions obtuse method"
   ]
  },
  {
   "cell_type": "code",
   "execution_count": 48,
   "id": "f3c26edb-dc3b-4cac-b75c-6877d7a31a38",
   "metadata": {},
   "outputs": [],
   "source": [
    "def signedAngle(v1, v2):\n",
    "    \"\"\"\" Returns the subtraction of arc tangent of vector 2 minus vector 1\n",
    "Parameters\n",
    "-------------\n",
    "v1: tuple of values that contains the coordinates of your reference initial vector,\n",
    "    in our case the perfect angle between position and target (remember to order them y,x)\n",
    "v2: tuple of values that contains the coordinates of your vector of contrast,\n",
    "    in our case the real reply from the participants (remember to order them y,x)\n",
    "returns\n",
    "----------\n",
    "\n",
    "\"\"\"\n",
    "    angle = math.atan2(v2[1], v2[0]) - math.atan2(v1[1], v1[0])\n",
    "    return(np.rad2deg(angle))"
   ]
  },
  {
   "cell_type": "code",
   "execution_count": 49,
   "id": "dddac3c8-f872-4fc3-be31-9b99683bc010",
   "metadata": {},
   "outputs": [
    {
     "data": {
      "text/plain": "count    9408.000000\nmean       -6.209709\nstd        65.613022\nmin      -179.881808\n25%       -40.558605\n50%        -5.681134\n75%        24.726616\nmax       179.983386\nName: SignedAngle-+180, dtype: float64"
     },
     "execution_count": 49,
     "metadata": {},
     "output_type": "execute_result"
    }
   ],
   "source": [
    "signedAngles = []\n",
    "\n",
    "for count, x in enumerate(CoordinatesIntegrated['PointerDirection_z']):\n",
    "    signedAngles = signedAngles + [signedAngle([ CoordinatesIntegrated['PointerDirection_z'][count], CoordinatesIntegrated['PointerDirection_x'][count]], [CoordinatesIntegrated['building-Participant_z'][count]\n",
    "       , CoordinatesIntegrated['building-Participant_x'][count]])]\n",
    "\n",
    "# Account for angle deviations > 180°\n",
    "for count, angle in enumerate(signedAngles):\n",
    "    if angle < 0:\n",
    "        signedAngles[count] = angle + 360\n",
    "CoordinatesIntegrated.insert(11, \"SignedAngle360\", signedAngles, True)\n",
    "\n",
    "for count, angle in enumerate(signedAngles):\n",
    "    if angle > 180:\n",
    "        signedAngles[count] = angle - 360\n",
    "    elif angle < -180:\n",
    "        signedAngles[count] = angle + 360\n",
    "CoordinatesIntegrated.insert(11, \"SignedAngle-+180\", signedAngles, True)\n",
    "CoordinatesIntegrated['SignedAngle-+180'].describe()"
   ]
  },
  {
   "cell_type": "code",
   "execution_count": 50,
   "outputs": [],
   "source": [
    "PointerZ = CoordinatesIntegrated.loc[:,'PointerDirection_z'].values\n",
    "PointerX = CoordinatesIntegrated.loc[:,'PointerDirection_x'].values\n",
    "BuildingParticipantZ = CoordinatesIntegrated.loc[:,'building-Participant_z'].values\n",
    "BuldingParticipantX= CoordinatesIntegrated.loc[:,'building-Participant_x'].values"
   ],
   "metadata": {
    "collapsed": false,
    "pycharm": {
     "name": "#%%\n"
    }
   }
  },
  {
   "cell_type": "code",
   "execution_count": 51,
   "id": "ed401f03-012b-4dc9-83b2-b4c136ad3da2",
   "metadata": {},
   "outputs": [],
   "source": [
    "CoordinatesIntegrated['atanPointer'] = [math.atan2(z, x) for z, x in zip(PointerZ , PointerX)]\n",
    "CoordinatesIntegrated['atanBuild-Part'] = [math.atan2(z, x) for z, x in zip(BuildingParticipantZ , BuldingParticipantX)]\n",
    "CoordinatesIntegrated['atanSubs'] = CoordinatesIntegrated['atanPointer'] - CoordinatesIntegrated['atanBuild-Part']\n",
    "CoordinatesIntegrated['rad2degree']= [np.rad2deg(value) for value in CoordinatesIntegrated['atanSubs']]\n",
    "signedAngles = CoordinatesIntegrated['rad2degree'].values"
   ]
  },
  {
   "cell_type": "code",
   "execution_count": 52,
   "id": "adcdbafa-bc3c-493d-8eb2-ceb8066f8a0a",
   "metadata": {},
   "outputs": [],
   "source": [
    "for count, angle in enumerate(signedAngles):\n",
    "    if angle > 180:\n",
    "        signedAngles[count] = angle - 360\n",
    "    elif angle < -180:\n",
    "        signedAngles[count] = angle + 360\n",
    "CoordinatesIntegrated.insert(11, \"SignedAngle-+1802\", signedAngles, True)"
   ]
  },
  {
   "cell_type": "code",
   "execution_count": 53,
   "id": "481dea20-7d8c-4cd1-b2a2-6ce2c9fb523b",
   "metadata": {},
   "outputs": [
    {
     "data": {
      "text/plain": "       AbsolutError\ncount   9408.000000\nmean      48.265339\nstd       44.882953\nmin        0.009861\n25%       12.452814\n50%       33.523792\n75%       71.989249\nmax      179.983386",
      "text/html": "<div>\n<style scoped>\n    .dataframe tbody tr th:only-of-type {\n        vertical-align: middle;\n    }\n\n    .dataframe tbody tr th {\n        vertical-align: top;\n    }\n\n    .dataframe thead th {\n        text-align: right;\n    }\n</style>\n<table border=\"1\" class=\"dataframe\">\n  <thead>\n    <tr style=\"text-align: right;\">\n      <th></th>\n      <th>AbsolutError</th>\n    </tr>\n  </thead>\n  <tbody>\n    <tr>\n      <th>count</th>\n      <td>9408.000000</td>\n    </tr>\n    <tr>\n      <th>mean</th>\n      <td>48.265339</td>\n    </tr>\n    <tr>\n      <th>std</th>\n      <td>44.882953</td>\n    </tr>\n    <tr>\n      <th>min</th>\n      <td>0.009861</td>\n    </tr>\n    <tr>\n      <th>25%</th>\n      <td>12.452814</td>\n    </tr>\n    <tr>\n      <th>50%</th>\n      <td>33.523792</td>\n    </tr>\n    <tr>\n      <th>75%</th>\n      <td>71.989249</td>\n    </tr>\n    <tr>\n      <th>max</th>\n      <td>179.983386</td>\n    </tr>\n  </tbody>\n</table>\n</div>"
     },
     "execution_count": 53,
     "metadata": {},
     "output_type": "execute_result"
    }
   ],
   "source": [
    "CoordinatesIntegrated['AbsolutError'] = abs(CoordinatesIntegrated['rad2degree'])\n",
    "CoordinatesIntegrated[['AbsolutError']].describe()"
   ]
  },
  {
   "cell_type": "markdown",
   "source": [
    "## Identifying extreme values and flagging first trials"
   ],
   "metadata": {
    "collapsed": false,
    "pycharm": {
     "name": "#%% md\n"
    }
   }
  },
  {
   "cell_type": "markdown",
   "source": [
    "# Flagging the absolute values that transcend 1.5 times and 3 times the inter-quartile range"
   ],
   "metadata": {
    "collapsed": false
   }
  },
  {
   "cell_type": "code",
   "execution_count": 54,
   "outputs": [],
   "source": [
    "def find_iqr(x):\n",
    "    \"\"\"\"\n",
    "    Returns inter-quartile range of a numeric (i.e, integer or float)\n",
    "Parameters\n",
    "-------------\n",
    "    x: Numeric (i.e, integer or float) variable one wants to calculate interquartile range from\n",
    "returns\n",
    "----------\n",
    "    float that contains interquartile range\n",
    "    \"\"\"\n",
    "    return np.subtract(*np.percentile(x, [75, 25]))\n"
   ],
   "metadata": {
    "collapsed": false,
    "pycharm": {
     "name": "#%%\n"
    }
   }
  },
  {
   "cell_type": "code",
   "execution_count": 55,
   "outputs": [
    {
     "data": {
      "text/plain": "   SubjectID        IQR    IQRlimit   IQRlimit2\n11      4917  15.933994    23.90099   47.801981\n9       4176  22.212112   33.318168   66.636336\n18      7412  22.267043   33.400564   66.801128\n0        479  25.855071   38.782607   77.565214\n2       2258  31.996184   47.994275   95.988551\n26      9586  41.605113    62.40767   124.81534\n15      6642  41.924538   62.886807  125.773614\n5       3246  43.714881   65.572322  131.144644\n3       2361  45.523749   68.285624  136.571248\n8       3976  48.755161   73.132742  146.265483\n27      9601  48.844684   73.267026  146.534053\n21      8469  49.615955   74.423933  148.847865\n19      7842  51.103673   76.655509  153.311018\n7       3572  52.353178   78.529767  157.059535\n23      8695  54.858665   82.287997  164.575994\n10      4796  62.478557   93.717835  187.435671\n14      5741  63.405367   95.108051  190.216102\n16      7093  64.618153    96.92723   193.85446\n17      7264   66.76581  100.148716  200.297431\n1       1754  66.803331  100.204996  200.409992\n12      5238  68.271486   102.40723  204.814459\n20      8007  69.048874  103.573311  207.146622\n25      9502  70.038664  105.057996  210.115993\n4       2693  72.655967  108.983951  217.967902\n24      9472  73.890298  110.835447  221.670894\n13      5531  79.984012  119.976018  239.952035\n22      8673  81.282034  121.923051  243.846101\n6       3310  85.688554  128.532831  257.065662",
      "text/html": "<div>\n<style scoped>\n    .dataframe tbody tr th:only-of-type {\n        vertical-align: middle;\n    }\n\n    .dataframe tbody tr th {\n        vertical-align: top;\n    }\n\n    .dataframe thead th {\n        text-align: right;\n    }\n</style>\n<table border=\"1\" class=\"dataframe\">\n  <thead>\n    <tr style=\"text-align: right;\">\n      <th></th>\n      <th>SubjectID</th>\n      <th>IQR</th>\n      <th>IQRlimit</th>\n      <th>IQRlimit2</th>\n    </tr>\n  </thead>\n  <tbody>\n    <tr>\n      <th>11</th>\n      <td>4917</td>\n      <td>15.933994</td>\n      <td>23.90099</td>\n      <td>47.801981</td>\n    </tr>\n    <tr>\n      <th>9</th>\n      <td>4176</td>\n      <td>22.212112</td>\n      <td>33.318168</td>\n      <td>66.636336</td>\n    </tr>\n    <tr>\n      <th>18</th>\n      <td>7412</td>\n      <td>22.267043</td>\n      <td>33.400564</td>\n      <td>66.801128</td>\n    </tr>\n    <tr>\n      <th>0</th>\n      <td>479</td>\n      <td>25.855071</td>\n      <td>38.782607</td>\n      <td>77.565214</td>\n    </tr>\n    <tr>\n      <th>2</th>\n      <td>2258</td>\n      <td>31.996184</td>\n      <td>47.994275</td>\n      <td>95.988551</td>\n    </tr>\n    <tr>\n      <th>26</th>\n      <td>9586</td>\n      <td>41.605113</td>\n      <td>62.40767</td>\n      <td>124.81534</td>\n    </tr>\n    <tr>\n      <th>15</th>\n      <td>6642</td>\n      <td>41.924538</td>\n      <td>62.886807</td>\n      <td>125.773614</td>\n    </tr>\n    <tr>\n      <th>5</th>\n      <td>3246</td>\n      <td>43.714881</td>\n      <td>65.572322</td>\n      <td>131.144644</td>\n    </tr>\n    <tr>\n      <th>3</th>\n      <td>2361</td>\n      <td>45.523749</td>\n      <td>68.285624</td>\n      <td>136.571248</td>\n    </tr>\n    <tr>\n      <th>8</th>\n      <td>3976</td>\n      <td>48.755161</td>\n      <td>73.132742</td>\n      <td>146.265483</td>\n    </tr>\n    <tr>\n      <th>27</th>\n      <td>9601</td>\n      <td>48.844684</td>\n      <td>73.267026</td>\n      <td>146.534053</td>\n    </tr>\n    <tr>\n      <th>21</th>\n      <td>8469</td>\n      <td>49.615955</td>\n      <td>74.423933</td>\n      <td>148.847865</td>\n    </tr>\n    <tr>\n      <th>19</th>\n      <td>7842</td>\n      <td>51.103673</td>\n      <td>76.655509</td>\n      <td>153.311018</td>\n    </tr>\n    <tr>\n      <th>7</th>\n      <td>3572</td>\n      <td>52.353178</td>\n      <td>78.529767</td>\n      <td>157.059535</td>\n    </tr>\n    <tr>\n      <th>23</th>\n      <td>8695</td>\n      <td>54.858665</td>\n      <td>82.287997</td>\n      <td>164.575994</td>\n    </tr>\n    <tr>\n      <th>10</th>\n      <td>4796</td>\n      <td>62.478557</td>\n      <td>93.717835</td>\n      <td>187.435671</td>\n    </tr>\n    <tr>\n      <th>14</th>\n      <td>5741</td>\n      <td>63.405367</td>\n      <td>95.108051</td>\n      <td>190.216102</td>\n    </tr>\n    <tr>\n      <th>16</th>\n      <td>7093</td>\n      <td>64.618153</td>\n      <td>96.92723</td>\n      <td>193.85446</td>\n    </tr>\n    <tr>\n      <th>17</th>\n      <td>7264</td>\n      <td>66.76581</td>\n      <td>100.148716</td>\n      <td>200.297431</td>\n    </tr>\n    <tr>\n      <th>1</th>\n      <td>1754</td>\n      <td>66.803331</td>\n      <td>100.204996</td>\n      <td>200.409992</td>\n    </tr>\n    <tr>\n      <th>12</th>\n      <td>5238</td>\n      <td>68.271486</td>\n      <td>102.40723</td>\n      <td>204.814459</td>\n    </tr>\n    <tr>\n      <th>20</th>\n      <td>8007</td>\n      <td>69.048874</td>\n      <td>103.573311</td>\n      <td>207.146622</td>\n    </tr>\n    <tr>\n      <th>25</th>\n      <td>9502</td>\n      <td>70.038664</td>\n      <td>105.057996</td>\n      <td>210.115993</td>\n    </tr>\n    <tr>\n      <th>4</th>\n      <td>2693</td>\n      <td>72.655967</td>\n      <td>108.983951</td>\n      <td>217.967902</td>\n    </tr>\n    <tr>\n      <th>24</th>\n      <td>9472</td>\n      <td>73.890298</td>\n      <td>110.835447</td>\n      <td>221.670894</td>\n    </tr>\n    <tr>\n      <th>13</th>\n      <td>5531</td>\n      <td>79.984012</td>\n      <td>119.976018</td>\n      <td>239.952035</td>\n    </tr>\n    <tr>\n      <th>22</th>\n      <td>8673</td>\n      <td>81.282034</td>\n      <td>121.923051</td>\n      <td>243.846101</td>\n    </tr>\n    <tr>\n      <th>6</th>\n      <td>3310</td>\n      <td>85.688554</td>\n      <td>128.532831</td>\n      <td>257.065662</td>\n    </tr>\n  </tbody>\n</table>\n</div>"
     },
     "execution_count": 55,
     "metadata": {},
     "output_type": "execute_result"
    }
   ],
   "source": [
    "# Create and empty dataframe that will countain interquartile range\n",
    "inter_quartile_range = pd.DataFrame(columns=['SubjectID', 'IQR'])\n",
    "\n",
    "#Loop through all subjects and calculate personal IQR\n",
    "for i, subject in enumerate(CoordinatesIntegrated.SubjectID.unique()):\n",
    "    inter_quartile_range.at[i, 'SubjectID'] = subject\n",
    "    inter_quartile_range.at[i, 'IQR'] = find_iqr(CoordinatesIntegrated[CoordinatesIntegrated.SubjectID == subject]['AbsolutError'])\n",
    "\n",
    "inter_quartile_range['IQRlimit'] = inter_quartile_range['IQR'] * 1.5\n",
    "inter_quartile_range['IQRlimit2'] = inter_quartile_range['IQR'] * 3\n",
    "\n",
    "inter_quartile_range.sort_values('IQR')"
   ],
   "metadata": {
    "collapsed": false,
    "pycharm": {
     "name": "#%%\n"
    }
   }
  },
  {
   "cell_type": "code",
   "execution_count": 56,
   "outputs": [
    {
     "data": {
      "text/plain": "   SubjectID        IQR   IQRlimit  IQRlimit2  Unnamed: 0  \\\n0        479  25.855071  38.782607  77.565214           0   \n1        479  25.855071  38.782607  77.565214           2   \n2        479  25.855071  38.782607  77.565214           4   \n3        479  25.855071  38.782607  77.565214           6   \n4        479  25.855071  38.782607  77.565214           8   \n5        479  25.855071  38.782607  77.565214          10   \n6        479  25.855071  38.782607  77.565214          12   \n7        479  25.855071  38.782607  77.565214          14   \n8        479  25.855071  38.782607  77.565214          16   \n9        479  25.855071  38.782607  77.565214          18   \n10       479  25.855071  38.782607  77.565214          20   \n11       479  25.855071  38.782607  77.565214         336   \n12       479  25.855071  38.782607  77.565214         338   \n13       479  25.855071  38.782607  77.565214         340   \n14       479  25.855071  38.782607  77.565214         342   \n15       479  25.855071  38.782607  77.565214         344   \n16       479  25.855071  38.782607  77.565214         346   \n17       479  25.855071  38.782607  77.565214         694   \n18       479  25.855071  38.782607  77.565214        1018   \n19       479  25.855071  38.782607  77.565214        1020   \n20       479  25.855071  38.782607  77.565214        1022   \n21       479  25.855071  38.782607  77.565214        1334   \n22       479  25.855071  38.782607  77.565214        1336   \n23       479  25.855071  38.782607  77.565214        1338   \n24       479  25.855071  38.782607  77.565214        1340   \n25       479  25.855071  38.782607  77.565214        1342   \n26       479  25.855071  38.782607  77.565214        1344   \n27       479  25.855071  38.782607  77.565214        1658   \n28       479  25.855071  38.782607  77.565214        1660   \n29       479  25.855071  38.782607  77.565214        1662   \n30       479  25.855071  38.782607  77.565214        1664   \n31       479  25.855071  38.782607  77.565214        1666   \n32       479  25.855071  38.782607  77.565214        1668   \n33       479  25.855071  38.782607  77.565214        1670   \n34       479  25.855071  38.782607  77.565214        2032   \n35       479  25.855071  38.782607  77.565214        2034   \n36       479  25.855071  38.782607  77.565214        2036   \n37       479  25.855071  38.782607  77.565214        2038   \n38       479  25.855071  38.782607  77.565214        2040   \n39       479  25.855071  38.782607  77.565214        2394   \n40       479  25.855071  38.782607  77.565214        2396   \n41       479  25.855071  38.782607  77.565214        2398   \n42       479  25.855071  38.782607  77.565214        2400   \n43       479  25.855071  38.782607  77.565214        2402   \n44       479  25.855071  38.782607  77.565214        2404   \n45       479  25.855071  38.782607  77.565214        2702   \n46       479  25.855071  38.782607  77.565214        2704   \n47       479  25.855071  38.782607  77.565214        2706   \n48       479  25.855071  38.782607  77.565214        2708   \n49       479  25.855071  38.782607  77.565214        2710   \n\n    ParticipantPosition_x  ParticipantPosition_z  PointerPosition_x  \\\n0              174.565613             140.809692         174.247833   \n1             -142.220413            -185.136780        -142.066452   \n2              -54.895859             235.641327         -55.132767   \n3              -54.882858             235.573914         -55.164627   \n4             -101.070389             122.244217        -101.253830   \n5             -228.852768             189.914307        -228.790115   \n6                2.501694              41.494225           1.941864   \n7             -243.134811              39.133606        -242.769119   \n8             -242.994522              39.181503        -242.767929   \n9             -242.984116              39.292313        -242.606277   \n10            -242.957443              39.244644        -242.707840   \n11             174.531342             140.444107         174.712006   \n12             174.614929             140.490997         174.725647   \n13             201.579193             215.401001         201.552078   \n14             -46.311844             151.328384         -46.181503   \n15              38.693375              53.712143          38.707245   \n16            -243.153671              39.354713        -242.837296   \n17             174.621384             140.489441         173.795654   \n18             174.370575             140.593613         174.177307   \n19             118.347977             -62.609619         118.064713   \n20             110.651199             196.760895         110.159874   \n21             174.430801             140.513351         173.952606   \n22            -145.175705             -40.456314        -144.681808   \n23            -320.964783              77.382172        -320.368652   \n24            -185.575333            -159.733246        -185.026779   \n25             366.568054             108.987633         366.287445   \n26             366.586914             109.017609         366.295654   \n27             174.405472             140.546616         173.874054   \n28             174.488785             140.477600         173.876266   \n29             118.270485             -62.652618         117.969711   \n30             -33.320084            -190.586945         -33.172409   \n31             -46.236588             151.070190         -46.598099   \n32            -242.994064              39.181427        -242.568100   \n33            -243.009445              39.326698        -242.709518   \n34             174.405273             140.556717         173.793884   \n35            -142.166122            -184.866272        -141.595901   \n36              30.056305             177.601822          29.359741   \n37             -46.286270             151.067444         -46.989700   \n38            -228.842484             189.930756        -229.231491   \n39             174.386612             140.595993         174.265701   \n40            -142.138657            -184.964722        -141.608810   \n41            -320.982666              77.400490        -320.531067   \n42             -54.941086             235.559967         -55.068619   \n43             110.653900             196.823242         110.253654   \n44            -101.042465             122.252129        -101.118759   \n45             174.507782             140.467438         174.114182   \n46            -114.266586            -139.678741        -114.977768   \n47            -320.999023              77.417046        -320.962708   \n48            -326.808716               3.788925        -327.063354   \n49             -33.394547            -190.612823         -34.042099   \n\n    PointerPosition_z  PointerDirection_x  ...  \\\n0          139.919708           -0.488963  ...   \n1         -184.297974            0.285370  ...   \n2          235.065857           -0.440328  ...   \n3          235.090149           -0.548326  ...   \n4          121.961014           -0.362058  ...   \n5          189.486603            0.207335  ...   \n6           41.325203           -0.939452  ...   \n7           39.015350            0.913717  ...   \n8           39.021866            0.920065  ...   \n9           39.034195            0.919398  ...   \n10          39.050415            0.926090  ...   \n11         139.943497            0.164158  ...   \n12         139.954010            0.228637  ...   \n13         215.052963            0.099733  ...   \n14         150.597580            0.214914  ...   \n15          53.361916           -0.183606  ...   \n16          38.840096            0.585446  ...   \n17         140.840851           -0.901066  ...   \n18         140.051208           -0.474947  ...   \n19         -63.258652           -0.491342  ...   \n20         196.431351           -0.821248  ...   \n21         140.205383           -0.798514  ...   \n22         -40.813614            0.852607  ...   \n23          77.165070            0.953957  ...   \n24        -159.644562            0.984863  ...   \n25         109.079170           -0.987319  ...   \n26         109.052979           -0.994832  ...   \n27         140.301834           -0.911939  ...   \n28         140.183380           -0.900416  ...   \n29         -62.217789           -0.497391  ...   \n30        -190.324432            0.452941  ...   \n31         150.776138           -0.590640  ...   \n32          39.127640            0.980117  ...   \n33          39.149582            0.999563  ...   \n34         140.781067           -0.957560  ...   \n35        -185.151215            0.971780  ...   \n36         177.646576           -0.996786  ...   \n37         150.969559           -0.988927  ...   \n38         189.429062           -0.600768  ...   \n39         139.895172           -0.436418  ...   \n40        -184.787750            0.954317  ...   \n41          76.993233            0.774268  ...   \n42         235.048676           -0.336250  ...   \n43         196.377701           -0.712413  ...   \n44         121.867241           -0.160760  ...   \n45         139.964401           -0.618761  ...   \n46        -139.808167           -0.995590  ...   \n47          76.737862            0.031094  ...   \n48           3.305054           -0.625794  ...   \n49        -190.832947           -0.991554  ...   \n\n    Dot_Pointer-Building-Participant  Magnitud_Participant-Pointer  \\\n0                       66776.007572                    225.203300   \n1                       39619.954136                    234.388836   \n2                       61029.230009                    242.723846   \n3                       60981.321518                    242.572809   \n4                       21247.075678                    159.101590   \n5                       77260.140114                    298.174508   \n6                        3088.702667                     41.973191   \n7                       44423.883519                    247.229747   \n8                       44370.881627                    247.103123   \n9                       44378.345271                    247.110581   \n10                      44362.492468                    247.080974   \n11                      87065.186682                    224.512925   \n12                      87103.289364                    224.549215   \n13                     143267.545043                    295.669499   \n14                      64016.295481                    159.248068   \n15                      18566.161179                     67.102399   \n16                      70310.324106                    247.026116   \n17                      89298.118801                    224.556969   \n18                      62405.654724                    224.907939   \n19                      -6119.849418                    133.920639   \n20                      80695.066036                    226.635280   \n21                      44263.962433                    224.980209   \n22                      39162.172385                    151.398306   \n23                     169369.483793                    331.157557   \n24                      65287.381907                    245.712882   \n25                     106651.132910                    383.334720   \n26                     106698.825645                    383.395633   \n27                      48404.746020                    224.951310   \n28                      48419.045615                    224.982209   \n29                      22094.838958                    134.686656   \n30                      43591.905039                    194.432297   \n31                      19152.624899                    158.581854   \n32                      55569.918912                    247.131454   \n33                      55586.980313                    247.156357   \n34                     100797.237668                    224.566672   \n35                      17508.889069                    233.617255   \n36                      32168.445353                    180.262224   \n37                        549.749179                    157.824598   \n38                        138.238442                    297.424215   \n39                      71778.496098                    224.904024   \n40                      32513.461189                    234.077789   \n41                      92229.733229                    331.083853   \n42                      70517.915913                    242.721358   \n43                      71906.135969                    226.752237   \n44                      26408.796384                    159.263207   \n45                     129813.974187                    224.979051   \n46                     -27021.813100                    179.805490   \n47                      20152.428636                    330.468391   \n48                       3611.772088                    326.214609   \n49                      -4884.291455                    193.263680   \n\n    Magnitud_Participant-Building   radians     degrees  atanPointer  \\\n0                      297.572725  0.084366    4.833836    -2.084065   \n1                      173.846204  0.235808   13.510811     1.280485   \n2                      262.417916  0.290340   16.635255    -2.027988   \n3                      262.351473  0.290037   16.617918    -2.151675   \n4                      151.360317  0.490086   28.079838    -1.943147   \n5                      267.245917  0.247376   14.173609    -1.361691   \n6                      100.463456  0.748838   42.905261    -2.796541   \n7                      183.480110  0.203699   11.671115    -0.412150   \n8                      183.366117  0.203990   11.687753    -0.397708   \n9                      183.395960  0.204109   11.694599    -0.401528   \n10                     183.354019  0.204152   11.697020    -0.386080   \n11                     434.401934  0.467468   26.783944    -1.405625   \n12                     434.478943  0.467273   26.772743    -1.339766   \n13                     513.897460  0.339569   19.455884    -1.470723   \n14                     409.463779  0.191342   10.963082    -1.353051   \n15                     312.426100  0.483016   27.674764    -1.755864   \n16                     380.357879  0.725280   41.555467    -0.944516   \n17                     429.139746  0.385388   22.081086     2.699752   \n18                     353.412608  0.667903   38.268041    -2.069355   \n19                     143.188740  1.895621  108.611062    -2.085593   \n20                     401.112938  0.478530   27.417777    -2.539117   \n21                     286.202509  0.812843   46.572480    -2.503457   \n22                     314.533920  0.605196   34.675151    -0.523016   \n23                     522.138610  0.202717   11.614848    -0.299354   \n24                     337.462742  0.664275   38.060158     0.174211   \n25                     332.603450  0.579951   33.228730     3.004146   \n26                     332.638513  0.579672   33.212739     3.100268   \n27                     218.223224  0.167234    9.581823    -2.725147   \n28                     218.262275  0.167358    9.588915    -2.693910   \n29                     165.502396  0.132751    7.606046     2.091864   \n30                     225.279147  0.097876    5.607899     1.099894   \n31                     120.869143  0.039601    2.268980    -2.206577   \n32                     226.996657  0.137322    7.867943    -0.197028   \n33                     227.015378  0.136423    7.816464     0.009164   \n34                     517.000940  0.519264   29.751661     2.858862   \n35                     312.932146  1.328947   76.143034    -0.237648   \n36                     384.670279  1.088389   62.360092     3.107055   \n37                     303.880433  1.559333   89.343221    -3.023769   \n38                     168.249481  1.568034   89.841721    -2.233185   \n39                     319.235813  0.022960    1.315484    -2.026007   \n40                     139.706136  0.107462    6.157128     0.288531   \n41                     289.794484  0.279243   15.999448    -0.684194   \n42                     301.771517  0.273804   15.687801    -1.914514   \n43                     318.307361  0.086647    4.964493    -2.367357   \n44                     190.826640  0.517722   29.663297    -1.732408   \n45                     581.148485  0.119489    6.846207    -2.251661   \n46                     205.795099  2.389496  136.908054    -3.104013   \n47                     245.257764  1.319518   75.602826    -1.539671   \n48                     171.832248  1.506318   86.305669    -2.261106   \n49                     285.643954  1.659388   95.075948    -3.056194   \n\n    atanBuild-Part  atanSubs  rad2degree AbsolutError  \n0        -2.545554  0.461489   26.441377    26.441377  \n1         1.153080  0.127405    7.299795     7.299795  \n2        -1.634858 -0.393129  -22.524660    22.524660  \n3        -1.634924 -0.516751  -29.607650    29.607650  \n4        -1.375484 -0.567663  -32.524715    32.524715  \n5        -0.942135 -0.419556  -24.038798    24.038798  \n6        -2.401711 -0.394830  -22.622087    22.622087  \n7        -0.364293 -0.047857   -2.742014     2.742014  \n8        -0.364810 -0.032898   -1.884937     1.884937  \n9        -0.365394 -0.036133   -2.070286     2.070286  \n10       -0.365203 -0.020877   -1.196163     1.196163  \n11       -1.992653  0.587028   33.634244    33.634244  \n12       -1.992784  0.653018   37.415196    37.415196  \n13       -1.980948  0.510226   29.233770    29.233770  \n14       -1.465648  0.112597    6.451356     6.451356  \n15       -1.705734 -0.050130   -2.872252     2.872252  \n16       -0.888595 -0.055922   -3.204074     3.204074  \n17       -2.853473  5.553224  -41.823675    41.823675  \n18       -1.793429 -0.275926  -15.809369    15.809369  \n19       -1.725124 -0.360469  -20.653356    20.653356  \n20       -1.606489 -0.932629  -53.435692    53.435692  \n21       -1.650808 -0.852648  -48.853156    48.853156  \n22       -0.338059 -0.184957  -10.597273    10.597273  \n23       -0.439484  0.140130    8.028862     8.028862  \n24        0.044345  0.129867    7.440824     7.440824  \n25       -2.273722  5.277869  -57.600409    57.600409  \n26       -2.273707  5.373975  -52.093897    52.093897  \n27       -2.631670 -0.093477   -5.355835     5.355835  \n28       -2.632132 -0.061777   -3.539588     3.539588  \n29        2.517730 -0.425866  -24.400330    24.400330  \n30        1.494086 -0.394192  -22.585544    22.585544  \n31       -1.318429 -0.888148  -50.887140    50.887140  \n32       -0.022697 -0.174331   -9.988418     9.988418  \n33       -0.023335  0.032499    1.862084     1.862084  \n34       -2.986157  5.845019  -25.105098    25.105098  \n35        2.240267 -2.477915 -141.974068   141.974068  \n36       -2.832315  5.939370  -19.699188    19.699188  \n37       -2.839025 -0.184744  -10.585043    10.585043  \n38       -2.264063  0.030878    1.769160     1.769160  \n39       -2.438236  0.412229   23.618975    23.618975  \n40        1.020550 -0.732019  -41.941597    41.941597  \n41       -0.517168 -0.167026   -9.569867     9.569867  \n42       -1.617689 -0.296826  -17.006864    17.006864  \n43       -2.170837 -0.196520  -11.259753    11.259753  \n44       -1.402544 -0.329864  -18.899807    18.899807  \n45       -2.582418  0.330758   18.951024    18.951024  \n46       -3.004400 -0.099614   -5.707438     5.707438  \n47       -1.559090  0.019419    1.112638     1.112638  \n48       -1.520256 -0.740850  -42.447593    42.447593  \n49        3.061727 -6.117921    9.468922     9.468922  \n\n[50 rows x 56 columns]",
      "text/html": "<div>\n<style scoped>\n    .dataframe tbody tr th:only-of-type {\n        vertical-align: middle;\n    }\n\n    .dataframe tbody tr th {\n        vertical-align: top;\n    }\n\n    .dataframe thead th {\n        text-align: right;\n    }\n</style>\n<table border=\"1\" class=\"dataframe\">\n  <thead>\n    <tr style=\"text-align: right;\">\n      <th></th>\n      <th>SubjectID</th>\n      <th>IQR</th>\n      <th>IQRlimit</th>\n      <th>IQRlimit2</th>\n      <th>Unnamed: 0</th>\n      <th>ParticipantPosition_x</th>\n      <th>ParticipantPosition_z</th>\n      <th>PointerPosition_x</th>\n      <th>PointerPosition_z</th>\n      <th>PointerDirection_x</th>\n      <th>...</th>\n      <th>Dot_Pointer-Building-Participant</th>\n      <th>Magnitud_Participant-Pointer</th>\n      <th>Magnitud_Participant-Building</th>\n      <th>radians</th>\n      <th>degrees</th>\n      <th>atanPointer</th>\n      <th>atanBuild-Part</th>\n      <th>atanSubs</th>\n      <th>rad2degree</th>\n      <th>AbsolutError</th>\n    </tr>\n  </thead>\n  <tbody>\n    <tr>\n      <th>0</th>\n      <td>479</td>\n      <td>25.855071</td>\n      <td>38.782607</td>\n      <td>77.565214</td>\n      <td>0</td>\n      <td>174.565613</td>\n      <td>140.809692</td>\n      <td>174.247833</td>\n      <td>139.919708</td>\n      <td>-0.488963</td>\n      <td>...</td>\n      <td>66776.007572</td>\n      <td>225.203300</td>\n      <td>297.572725</td>\n      <td>0.084366</td>\n      <td>4.833836</td>\n      <td>-2.084065</td>\n      <td>-2.545554</td>\n      <td>0.461489</td>\n      <td>26.441377</td>\n      <td>26.441377</td>\n    </tr>\n    <tr>\n      <th>1</th>\n      <td>479</td>\n      <td>25.855071</td>\n      <td>38.782607</td>\n      <td>77.565214</td>\n      <td>2</td>\n      <td>-142.220413</td>\n      <td>-185.136780</td>\n      <td>-142.066452</td>\n      <td>-184.297974</td>\n      <td>0.285370</td>\n      <td>...</td>\n      <td>39619.954136</td>\n      <td>234.388836</td>\n      <td>173.846204</td>\n      <td>0.235808</td>\n      <td>13.510811</td>\n      <td>1.280485</td>\n      <td>1.153080</td>\n      <td>0.127405</td>\n      <td>7.299795</td>\n      <td>7.299795</td>\n    </tr>\n    <tr>\n      <th>2</th>\n      <td>479</td>\n      <td>25.855071</td>\n      <td>38.782607</td>\n      <td>77.565214</td>\n      <td>4</td>\n      <td>-54.895859</td>\n      <td>235.641327</td>\n      <td>-55.132767</td>\n      <td>235.065857</td>\n      <td>-0.440328</td>\n      <td>...</td>\n      <td>61029.230009</td>\n      <td>242.723846</td>\n      <td>262.417916</td>\n      <td>0.290340</td>\n      <td>16.635255</td>\n      <td>-2.027988</td>\n      <td>-1.634858</td>\n      <td>-0.393129</td>\n      <td>-22.524660</td>\n      <td>22.524660</td>\n    </tr>\n    <tr>\n      <th>3</th>\n      <td>479</td>\n      <td>25.855071</td>\n      <td>38.782607</td>\n      <td>77.565214</td>\n      <td>6</td>\n      <td>-54.882858</td>\n      <td>235.573914</td>\n      <td>-55.164627</td>\n      <td>235.090149</td>\n      <td>-0.548326</td>\n      <td>...</td>\n      <td>60981.321518</td>\n      <td>242.572809</td>\n      <td>262.351473</td>\n      <td>0.290037</td>\n      <td>16.617918</td>\n      <td>-2.151675</td>\n      <td>-1.634924</td>\n      <td>-0.516751</td>\n      <td>-29.607650</td>\n      <td>29.607650</td>\n    </tr>\n    <tr>\n      <th>4</th>\n      <td>479</td>\n      <td>25.855071</td>\n      <td>38.782607</td>\n      <td>77.565214</td>\n      <td>8</td>\n      <td>-101.070389</td>\n      <td>122.244217</td>\n      <td>-101.253830</td>\n      <td>121.961014</td>\n      <td>-0.362058</td>\n      <td>...</td>\n      <td>21247.075678</td>\n      <td>159.101590</td>\n      <td>151.360317</td>\n      <td>0.490086</td>\n      <td>28.079838</td>\n      <td>-1.943147</td>\n      <td>-1.375484</td>\n      <td>-0.567663</td>\n      <td>-32.524715</td>\n      <td>32.524715</td>\n    </tr>\n    <tr>\n      <th>5</th>\n      <td>479</td>\n      <td>25.855071</td>\n      <td>38.782607</td>\n      <td>77.565214</td>\n      <td>10</td>\n      <td>-228.852768</td>\n      <td>189.914307</td>\n      <td>-228.790115</td>\n      <td>189.486603</td>\n      <td>0.207335</td>\n      <td>...</td>\n      <td>77260.140114</td>\n      <td>298.174508</td>\n      <td>267.245917</td>\n      <td>0.247376</td>\n      <td>14.173609</td>\n      <td>-1.361691</td>\n      <td>-0.942135</td>\n      <td>-0.419556</td>\n      <td>-24.038798</td>\n      <td>24.038798</td>\n    </tr>\n    <tr>\n      <th>6</th>\n      <td>479</td>\n      <td>25.855071</td>\n      <td>38.782607</td>\n      <td>77.565214</td>\n      <td>12</td>\n      <td>2.501694</td>\n      <td>41.494225</td>\n      <td>1.941864</td>\n      <td>41.325203</td>\n      <td>-0.939452</td>\n      <td>...</td>\n      <td>3088.702667</td>\n      <td>41.973191</td>\n      <td>100.463456</td>\n      <td>0.748838</td>\n      <td>42.905261</td>\n      <td>-2.796541</td>\n      <td>-2.401711</td>\n      <td>-0.394830</td>\n      <td>-22.622087</td>\n      <td>22.622087</td>\n    </tr>\n    <tr>\n      <th>7</th>\n      <td>479</td>\n      <td>25.855071</td>\n      <td>38.782607</td>\n      <td>77.565214</td>\n      <td>14</td>\n      <td>-243.134811</td>\n      <td>39.133606</td>\n      <td>-242.769119</td>\n      <td>39.015350</td>\n      <td>0.913717</td>\n      <td>...</td>\n      <td>44423.883519</td>\n      <td>247.229747</td>\n      <td>183.480110</td>\n      <td>0.203699</td>\n      <td>11.671115</td>\n      <td>-0.412150</td>\n      <td>-0.364293</td>\n      <td>-0.047857</td>\n      <td>-2.742014</td>\n      <td>2.742014</td>\n    </tr>\n    <tr>\n      <th>8</th>\n      <td>479</td>\n      <td>25.855071</td>\n      <td>38.782607</td>\n      <td>77.565214</td>\n      <td>16</td>\n      <td>-242.994522</td>\n      <td>39.181503</td>\n      <td>-242.767929</td>\n      <td>39.021866</td>\n      <td>0.920065</td>\n      <td>...</td>\n      <td>44370.881627</td>\n      <td>247.103123</td>\n      <td>183.366117</td>\n      <td>0.203990</td>\n      <td>11.687753</td>\n      <td>-0.397708</td>\n      <td>-0.364810</td>\n      <td>-0.032898</td>\n      <td>-1.884937</td>\n      <td>1.884937</td>\n    </tr>\n    <tr>\n      <th>9</th>\n      <td>479</td>\n      <td>25.855071</td>\n      <td>38.782607</td>\n      <td>77.565214</td>\n      <td>18</td>\n      <td>-242.984116</td>\n      <td>39.292313</td>\n      <td>-242.606277</td>\n      <td>39.034195</td>\n      <td>0.919398</td>\n      <td>...</td>\n      <td>44378.345271</td>\n      <td>247.110581</td>\n      <td>183.395960</td>\n      <td>0.204109</td>\n      <td>11.694599</td>\n      <td>-0.401528</td>\n      <td>-0.365394</td>\n      <td>-0.036133</td>\n      <td>-2.070286</td>\n      <td>2.070286</td>\n    </tr>\n    <tr>\n      <th>10</th>\n      <td>479</td>\n      <td>25.855071</td>\n      <td>38.782607</td>\n      <td>77.565214</td>\n      <td>20</td>\n      <td>-242.957443</td>\n      <td>39.244644</td>\n      <td>-242.707840</td>\n      <td>39.050415</td>\n      <td>0.926090</td>\n      <td>...</td>\n      <td>44362.492468</td>\n      <td>247.080974</td>\n      <td>183.354019</td>\n      <td>0.204152</td>\n      <td>11.697020</td>\n      <td>-0.386080</td>\n      <td>-0.365203</td>\n      <td>-0.020877</td>\n      <td>-1.196163</td>\n      <td>1.196163</td>\n    </tr>\n    <tr>\n      <th>11</th>\n      <td>479</td>\n      <td>25.855071</td>\n      <td>38.782607</td>\n      <td>77.565214</td>\n      <td>336</td>\n      <td>174.531342</td>\n      <td>140.444107</td>\n      <td>174.712006</td>\n      <td>139.943497</td>\n      <td>0.164158</td>\n      <td>...</td>\n      <td>87065.186682</td>\n      <td>224.512925</td>\n      <td>434.401934</td>\n      <td>0.467468</td>\n      <td>26.783944</td>\n      <td>-1.405625</td>\n      <td>-1.992653</td>\n      <td>0.587028</td>\n      <td>33.634244</td>\n      <td>33.634244</td>\n    </tr>\n    <tr>\n      <th>12</th>\n      <td>479</td>\n      <td>25.855071</td>\n      <td>38.782607</td>\n      <td>77.565214</td>\n      <td>338</td>\n      <td>174.614929</td>\n      <td>140.490997</td>\n      <td>174.725647</td>\n      <td>139.954010</td>\n      <td>0.228637</td>\n      <td>...</td>\n      <td>87103.289364</td>\n      <td>224.549215</td>\n      <td>434.478943</td>\n      <td>0.467273</td>\n      <td>26.772743</td>\n      <td>-1.339766</td>\n      <td>-1.992784</td>\n      <td>0.653018</td>\n      <td>37.415196</td>\n      <td>37.415196</td>\n    </tr>\n    <tr>\n      <th>13</th>\n      <td>479</td>\n      <td>25.855071</td>\n      <td>38.782607</td>\n      <td>77.565214</td>\n      <td>340</td>\n      <td>201.579193</td>\n      <td>215.401001</td>\n      <td>201.552078</td>\n      <td>215.052963</td>\n      <td>0.099733</td>\n      <td>...</td>\n      <td>143267.545043</td>\n      <td>295.669499</td>\n      <td>513.897460</td>\n      <td>0.339569</td>\n      <td>19.455884</td>\n      <td>-1.470723</td>\n      <td>-1.980948</td>\n      <td>0.510226</td>\n      <td>29.233770</td>\n      <td>29.233770</td>\n    </tr>\n    <tr>\n      <th>14</th>\n      <td>479</td>\n      <td>25.855071</td>\n      <td>38.782607</td>\n      <td>77.565214</td>\n      <td>342</td>\n      <td>-46.311844</td>\n      <td>151.328384</td>\n      <td>-46.181503</td>\n      <td>150.597580</td>\n      <td>0.214914</td>\n      <td>...</td>\n      <td>64016.295481</td>\n      <td>159.248068</td>\n      <td>409.463779</td>\n      <td>0.191342</td>\n      <td>10.963082</td>\n      <td>-1.353051</td>\n      <td>-1.465648</td>\n      <td>0.112597</td>\n      <td>6.451356</td>\n      <td>6.451356</td>\n    </tr>\n    <tr>\n      <th>15</th>\n      <td>479</td>\n      <td>25.855071</td>\n      <td>38.782607</td>\n      <td>77.565214</td>\n      <td>344</td>\n      <td>38.693375</td>\n      <td>53.712143</td>\n      <td>38.707245</td>\n      <td>53.361916</td>\n      <td>-0.183606</td>\n      <td>...</td>\n      <td>18566.161179</td>\n      <td>67.102399</td>\n      <td>312.426100</td>\n      <td>0.483016</td>\n      <td>27.674764</td>\n      <td>-1.755864</td>\n      <td>-1.705734</td>\n      <td>-0.050130</td>\n      <td>-2.872252</td>\n      <td>2.872252</td>\n    </tr>\n    <tr>\n      <th>16</th>\n      <td>479</td>\n      <td>25.855071</td>\n      <td>38.782607</td>\n      <td>77.565214</td>\n      <td>346</td>\n      <td>-243.153671</td>\n      <td>39.354713</td>\n      <td>-242.837296</td>\n      <td>38.840096</td>\n      <td>0.585446</td>\n      <td>...</td>\n      <td>70310.324106</td>\n      <td>247.026116</td>\n      <td>380.357879</td>\n      <td>0.725280</td>\n      <td>41.555467</td>\n      <td>-0.944516</td>\n      <td>-0.888595</td>\n      <td>-0.055922</td>\n      <td>-3.204074</td>\n      <td>3.204074</td>\n    </tr>\n    <tr>\n      <th>17</th>\n      <td>479</td>\n      <td>25.855071</td>\n      <td>38.782607</td>\n      <td>77.565214</td>\n      <td>694</td>\n      <td>174.621384</td>\n      <td>140.489441</td>\n      <td>173.795654</td>\n      <td>140.840851</td>\n      <td>-0.901066</td>\n      <td>...</td>\n      <td>89298.118801</td>\n      <td>224.556969</td>\n      <td>429.139746</td>\n      <td>0.385388</td>\n      <td>22.081086</td>\n      <td>2.699752</td>\n      <td>-2.853473</td>\n      <td>5.553224</td>\n      <td>-41.823675</td>\n      <td>41.823675</td>\n    </tr>\n    <tr>\n      <th>18</th>\n      <td>479</td>\n      <td>25.855071</td>\n      <td>38.782607</td>\n      <td>77.565214</td>\n      <td>1018</td>\n      <td>174.370575</td>\n      <td>140.593613</td>\n      <td>174.177307</td>\n      <td>140.051208</td>\n      <td>-0.474947</td>\n      <td>...</td>\n      <td>62405.654724</td>\n      <td>224.907939</td>\n      <td>353.412608</td>\n      <td>0.667903</td>\n      <td>38.268041</td>\n      <td>-2.069355</td>\n      <td>-1.793429</td>\n      <td>-0.275926</td>\n      <td>-15.809369</td>\n      <td>15.809369</td>\n    </tr>\n    <tr>\n      <th>19</th>\n      <td>479</td>\n      <td>25.855071</td>\n      <td>38.782607</td>\n      <td>77.565214</td>\n      <td>1020</td>\n      <td>118.347977</td>\n      <td>-62.609619</td>\n      <td>118.064713</td>\n      <td>-63.258652</td>\n      <td>-0.491342</td>\n      <td>...</td>\n      <td>-6119.849418</td>\n      <td>133.920639</td>\n      <td>143.188740</td>\n      <td>1.895621</td>\n      <td>108.611062</td>\n      <td>-2.085593</td>\n      <td>-1.725124</td>\n      <td>-0.360469</td>\n      <td>-20.653356</td>\n      <td>20.653356</td>\n    </tr>\n    <tr>\n      <th>20</th>\n      <td>479</td>\n      <td>25.855071</td>\n      <td>38.782607</td>\n      <td>77.565214</td>\n      <td>1022</td>\n      <td>110.651199</td>\n      <td>196.760895</td>\n      <td>110.159874</td>\n      <td>196.431351</td>\n      <td>-0.821248</td>\n      <td>...</td>\n      <td>80695.066036</td>\n      <td>226.635280</td>\n      <td>401.112938</td>\n      <td>0.478530</td>\n      <td>27.417777</td>\n      <td>-2.539117</td>\n      <td>-1.606489</td>\n      <td>-0.932629</td>\n      <td>-53.435692</td>\n      <td>53.435692</td>\n    </tr>\n    <tr>\n      <th>21</th>\n      <td>479</td>\n      <td>25.855071</td>\n      <td>38.782607</td>\n      <td>77.565214</td>\n      <td>1334</td>\n      <td>174.430801</td>\n      <td>140.513351</td>\n      <td>173.952606</td>\n      <td>140.205383</td>\n      <td>-0.798514</td>\n      <td>...</td>\n      <td>44263.962433</td>\n      <td>224.980209</td>\n      <td>286.202509</td>\n      <td>0.812843</td>\n      <td>46.572480</td>\n      <td>-2.503457</td>\n      <td>-1.650808</td>\n      <td>-0.852648</td>\n      <td>-48.853156</td>\n      <td>48.853156</td>\n    </tr>\n    <tr>\n      <th>22</th>\n      <td>479</td>\n      <td>25.855071</td>\n      <td>38.782607</td>\n      <td>77.565214</td>\n      <td>1336</td>\n      <td>-145.175705</td>\n      <td>-40.456314</td>\n      <td>-144.681808</td>\n      <td>-40.813614</td>\n      <td>0.852607</td>\n      <td>...</td>\n      <td>39162.172385</td>\n      <td>151.398306</td>\n      <td>314.533920</td>\n      <td>0.605196</td>\n      <td>34.675151</td>\n      <td>-0.523016</td>\n      <td>-0.338059</td>\n      <td>-0.184957</td>\n      <td>-10.597273</td>\n      <td>10.597273</td>\n    </tr>\n    <tr>\n      <th>23</th>\n      <td>479</td>\n      <td>25.855071</td>\n      <td>38.782607</td>\n      <td>77.565214</td>\n      <td>1338</td>\n      <td>-320.964783</td>\n      <td>77.382172</td>\n      <td>-320.368652</td>\n      <td>77.165070</td>\n      <td>0.953957</td>\n      <td>...</td>\n      <td>169369.483793</td>\n      <td>331.157557</td>\n      <td>522.138610</td>\n      <td>0.202717</td>\n      <td>11.614848</td>\n      <td>-0.299354</td>\n      <td>-0.439484</td>\n      <td>0.140130</td>\n      <td>8.028862</td>\n      <td>8.028862</td>\n    </tr>\n    <tr>\n      <th>24</th>\n      <td>479</td>\n      <td>25.855071</td>\n      <td>38.782607</td>\n      <td>77.565214</td>\n      <td>1340</td>\n      <td>-185.575333</td>\n      <td>-159.733246</td>\n      <td>-185.026779</td>\n      <td>-159.644562</td>\n      <td>0.984863</td>\n      <td>...</td>\n      <td>65287.381907</td>\n      <td>245.712882</td>\n      <td>337.462742</td>\n      <td>0.664275</td>\n      <td>38.060158</td>\n      <td>0.174211</td>\n      <td>0.044345</td>\n      <td>0.129867</td>\n      <td>7.440824</td>\n      <td>7.440824</td>\n    </tr>\n    <tr>\n      <th>25</th>\n      <td>479</td>\n      <td>25.855071</td>\n      <td>38.782607</td>\n      <td>77.565214</td>\n      <td>1342</td>\n      <td>366.568054</td>\n      <td>108.987633</td>\n      <td>366.287445</td>\n      <td>109.079170</td>\n      <td>-0.987319</td>\n      <td>...</td>\n      <td>106651.132910</td>\n      <td>383.334720</td>\n      <td>332.603450</td>\n      <td>0.579951</td>\n      <td>33.228730</td>\n      <td>3.004146</td>\n      <td>-2.273722</td>\n      <td>5.277869</td>\n      <td>-57.600409</td>\n      <td>57.600409</td>\n    </tr>\n    <tr>\n      <th>26</th>\n      <td>479</td>\n      <td>25.855071</td>\n      <td>38.782607</td>\n      <td>77.565214</td>\n      <td>1344</td>\n      <td>366.586914</td>\n      <td>109.017609</td>\n      <td>366.295654</td>\n      <td>109.052979</td>\n      <td>-0.994832</td>\n      <td>...</td>\n      <td>106698.825645</td>\n      <td>383.395633</td>\n      <td>332.638513</td>\n      <td>0.579672</td>\n      <td>33.212739</td>\n      <td>3.100268</td>\n      <td>-2.273707</td>\n      <td>5.373975</td>\n      <td>-52.093897</td>\n      <td>52.093897</td>\n    </tr>\n    <tr>\n      <th>27</th>\n      <td>479</td>\n      <td>25.855071</td>\n      <td>38.782607</td>\n      <td>77.565214</td>\n      <td>1658</td>\n      <td>174.405472</td>\n      <td>140.546616</td>\n      <td>173.874054</td>\n      <td>140.301834</td>\n      <td>-0.911939</td>\n      <td>...</td>\n      <td>48404.746020</td>\n      <td>224.951310</td>\n      <td>218.223224</td>\n      <td>0.167234</td>\n      <td>9.581823</td>\n      <td>-2.725147</td>\n      <td>-2.631670</td>\n      <td>-0.093477</td>\n      <td>-5.355835</td>\n      <td>5.355835</td>\n    </tr>\n    <tr>\n      <th>28</th>\n      <td>479</td>\n      <td>25.855071</td>\n      <td>38.782607</td>\n      <td>77.565214</td>\n      <td>1660</td>\n      <td>174.488785</td>\n      <td>140.477600</td>\n      <td>173.876266</td>\n      <td>140.183380</td>\n      <td>-0.900416</td>\n      <td>...</td>\n      <td>48419.045615</td>\n      <td>224.982209</td>\n      <td>218.262275</td>\n      <td>0.167358</td>\n      <td>9.588915</td>\n      <td>-2.693910</td>\n      <td>-2.632132</td>\n      <td>-0.061777</td>\n      <td>-3.539588</td>\n      <td>3.539588</td>\n    </tr>\n    <tr>\n      <th>29</th>\n      <td>479</td>\n      <td>25.855071</td>\n      <td>38.782607</td>\n      <td>77.565214</td>\n      <td>1662</td>\n      <td>118.270485</td>\n      <td>-62.652618</td>\n      <td>117.969711</td>\n      <td>-62.217789</td>\n      <td>-0.497391</td>\n      <td>...</td>\n      <td>22094.838958</td>\n      <td>134.686656</td>\n      <td>165.502396</td>\n      <td>0.132751</td>\n      <td>7.606046</td>\n      <td>2.091864</td>\n      <td>2.517730</td>\n      <td>-0.425866</td>\n      <td>-24.400330</td>\n      <td>24.400330</td>\n    </tr>\n    <tr>\n      <th>30</th>\n      <td>479</td>\n      <td>25.855071</td>\n      <td>38.782607</td>\n      <td>77.565214</td>\n      <td>1664</td>\n      <td>-33.320084</td>\n      <td>-190.586945</td>\n      <td>-33.172409</td>\n      <td>-190.324432</td>\n      <td>0.452941</td>\n      <td>...</td>\n      <td>43591.905039</td>\n      <td>194.432297</td>\n      <td>225.279147</td>\n      <td>0.097876</td>\n      <td>5.607899</td>\n      <td>1.099894</td>\n      <td>1.494086</td>\n      <td>-0.394192</td>\n      <td>-22.585544</td>\n      <td>22.585544</td>\n    </tr>\n    <tr>\n      <th>31</th>\n      <td>479</td>\n      <td>25.855071</td>\n      <td>38.782607</td>\n      <td>77.565214</td>\n      <td>1666</td>\n      <td>-46.236588</td>\n      <td>151.070190</td>\n      <td>-46.598099</td>\n      <td>150.776138</td>\n      <td>-0.590640</td>\n      <td>...</td>\n      <td>19152.624899</td>\n      <td>158.581854</td>\n      <td>120.869143</td>\n      <td>0.039601</td>\n      <td>2.268980</td>\n      <td>-2.206577</td>\n      <td>-1.318429</td>\n      <td>-0.888148</td>\n      <td>-50.887140</td>\n      <td>50.887140</td>\n    </tr>\n    <tr>\n      <th>32</th>\n      <td>479</td>\n      <td>25.855071</td>\n      <td>38.782607</td>\n      <td>77.565214</td>\n      <td>1668</td>\n      <td>-242.994064</td>\n      <td>39.181427</td>\n      <td>-242.568100</td>\n      <td>39.127640</td>\n      <td>0.980117</td>\n      <td>...</td>\n      <td>55569.918912</td>\n      <td>247.131454</td>\n      <td>226.996657</td>\n      <td>0.137322</td>\n      <td>7.867943</td>\n      <td>-0.197028</td>\n      <td>-0.022697</td>\n      <td>-0.174331</td>\n      <td>-9.988418</td>\n      <td>9.988418</td>\n    </tr>\n    <tr>\n      <th>33</th>\n      <td>479</td>\n      <td>25.855071</td>\n      <td>38.782607</td>\n      <td>77.565214</td>\n      <td>1670</td>\n      <td>-243.009445</td>\n      <td>39.326698</td>\n      <td>-242.709518</td>\n      <td>39.149582</td>\n      <td>0.999563</td>\n      <td>...</td>\n      <td>55586.980313</td>\n      <td>247.156357</td>\n      <td>227.015378</td>\n      <td>0.136423</td>\n      <td>7.816464</td>\n      <td>0.009164</td>\n      <td>-0.023335</td>\n      <td>0.032499</td>\n      <td>1.862084</td>\n      <td>1.862084</td>\n    </tr>\n    <tr>\n      <th>34</th>\n      <td>479</td>\n      <td>25.855071</td>\n      <td>38.782607</td>\n      <td>77.565214</td>\n      <td>2032</td>\n      <td>174.405273</td>\n      <td>140.556717</td>\n      <td>173.793884</td>\n      <td>140.781067</td>\n      <td>-0.957560</td>\n      <td>...</td>\n      <td>100797.237668</td>\n      <td>224.566672</td>\n      <td>517.000940</td>\n      <td>0.519264</td>\n      <td>29.751661</td>\n      <td>2.858862</td>\n      <td>-2.986157</td>\n      <td>5.845019</td>\n      <td>-25.105098</td>\n      <td>25.105098</td>\n    </tr>\n    <tr>\n      <th>35</th>\n      <td>479</td>\n      <td>25.855071</td>\n      <td>38.782607</td>\n      <td>77.565214</td>\n      <td>2034</td>\n      <td>-142.166122</td>\n      <td>-184.866272</td>\n      <td>-141.595901</td>\n      <td>-185.151215</td>\n      <td>0.971780</td>\n      <td>...</td>\n      <td>17508.889069</td>\n      <td>233.617255</td>\n      <td>312.932146</td>\n      <td>1.328947</td>\n      <td>76.143034</td>\n      <td>-0.237648</td>\n      <td>2.240267</td>\n      <td>-2.477915</td>\n      <td>-141.974068</td>\n      <td>141.974068</td>\n    </tr>\n    <tr>\n      <th>36</th>\n      <td>479</td>\n      <td>25.855071</td>\n      <td>38.782607</td>\n      <td>77.565214</td>\n      <td>2036</td>\n      <td>30.056305</td>\n      <td>177.601822</td>\n      <td>29.359741</td>\n      <td>177.646576</td>\n      <td>-0.996786</td>\n      <td>...</td>\n      <td>32168.445353</td>\n      <td>180.262224</td>\n      <td>384.670279</td>\n      <td>1.088389</td>\n      <td>62.360092</td>\n      <td>3.107055</td>\n      <td>-2.832315</td>\n      <td>5.939370</td>\n      <td>-19.699188</td>\n      <td>19.699188</td>\n    </tr>\n    <tr>\n      <th>37</th>\n      <td>479</td>\n      <td>25.855071</td>\n      <td>38.782607</td>\n      <td>77.565214</td>\n      <td>2038</td>\n      <td>-46.286270</td>\n      <td>151.067444</td>\n      <td>-46.989700</td>\n      <td>150.969559</td>\n      <td>-0.988927</td>\n      <td>...</td>\n      <td>549.749179</td>\n      <td>157.824598</td>\n      <td>303.880433</td>\n      <td>1.559333</td>\n      <td>89.343221</td>\n      <td>-3.023769</td>\n      <td>-2.839025</td>\n      <td>-0.184744</td>\n      <td>-10.585043</td>\n      <td>10.585043</td>\n    </tr>\n    <tr>\n      <th>38</th>\n      <td>479</td>\n      <td>25.855071</td>\n      <td>38.782607</td>\n      <td>77.565214</td>\n      <td>2040</td>\n      <td>-228.842484</td>\n      <td>189.930756</td>\n      <td>-229.231491</td>\n      <td>189.429062</td>\n      <td>-0.600768</td>\n      <td>...</td>\n      <td>138.238442</td>\n      <td>297.424215</td>\n      <td>168.249481</td>\n      <td>1.568034</td>\n      <td>89.841721</td>\n      <td>-2.233185</td>\n      <td>-2.264063</td>\n      <td>0.030878</td>\n      <td>1.769160</td>\n      <td>1.769160</td>\n    </tr>\n    <tr>\n      <th>39</th>\n      <td>479</td>\n      <td>25.855071</td>\n      <td>38.782607</td>\n      <td>77.565214</td>\n      <td>2394</td>\n      <td>174.386612</td>\n      <td>140.595993</td>\n      <td>174.265701</td>\n      <td>139.895172</td>\n      <td>-0.436418</td>\n      <td>...</td>\n      <td>71778.496098</td>\n      <td>224.904024</td>\n      <td>319.235813</td>\n      <td>0.022960</td>\n      <td>1.315484</td>\n      <td>-2.026007</td>\n      <td>-2.438236</td>\n      <td>0.412229</td>\n      <td>23.618975</td>\n      <td>23.618975</td>\n    </tr>\n    <tr>\n      <th>40</th>\n      <td>479</td>\n      <td>25.855071</td>\n      <td>38.782607</td>\n      <td>77.565214</td>\n      <td>2396</td>\n      <td>-142.138657</td>\n      <td>-184.964722</td>\n      <td>-141.608810</td>\n      <td>-184.787750</td>\n      <td>0.954317</td>\n      <td>...</td>\n      <td>32513.461189</td>\n      <td>234.077789</td>\n      <td>139.706136</td>\n      <td>0.107462</td>\n      <td>6.157128</td>\n      <td>0.288531</td>\n      <td>1.020550</td>\n      <td>-0.732019</td>\n      <td>-41.941597</td>\n      <td>41.941597</td>\n    </tr>\n    <tr>\n      <th>41</th>\n      <td>479</td>\n      <td>25.855071</td>\n      <td>38.782607</td>\n      <td>77.565214</td>\n      <td>2398</td>\n      <td>-320.982666</td>\n      <td>77.400490</td>\n      <td>-320.531067</td>\n      <td>76.993233</td>\n      <td>0.774268</td>\n      <td>...</td>\n      <td>92229.733229</td>\n      <td>331.083853</td>\n      <td>289.794484</td>\n      <td>0.279243</td>\n      <td>15.999448</td>\n      <td>-0.684194</td>\n      <td>-0.517168</td>\n      <td>-0.167026</td>\n      <td>-9.569867</td>\n      <td>9.569867</td>\n    </tr>\n    <tr>\n      <th>42</th>\n      <td>479</td>\n      <td>25.855071</td>\n      <td>38.782607</td>\n      <td>77.565214</td>\n      <td>2400</td>\n      <td>-54.941086</td>\n      <td>235.559967</td>\n      <td>-55.068619</td>\n      <td>235.048676</td>\n      <td>-0.336250</td>\n      <td>...</td>\n      <td>70517.915913</td>\n      <td>242.721358</td>\n      <td>301.771517</td>\n      <td>0.273804</td>\n      <td>15.687801</td>\n      <td>-1.914514</td>\n      <td>-1.617689</td>\n      <td>-0.296826</td>\n      <td>-17.006864</td>\n      <td>17.006864</td>\n    </tr>\n    <tr>\n      <th>43</th>\n      <td>479</td>\n      <td>25.855071</td>\n      <td>38.782607</td>\n      <td>77.565214</td>\n      <td>2402</td>\n      <td>110.653900</td>\n      <td>196.823242</td>\n      <td>110.253654</td>\n      <td>196.377701</td>\n      <td>-0.712413</td>\n      <td>...</td>\n      <td>71906.135969</td>\n      <td>226.752237</td>\n      <td>318.307361</td>\n      <td>0.086647</td>\n      <td>4.964493</td>\n      <td>-2.367357</td>\n      <td>-2.170837</td>\n      <td>-0.196520</td>\n      <td>-11.259753</td>\n      <td>11.259753</td>\n    </tr>\n    <tr>\n      <th>44</th>\n      <td>479</td>\n      <td>25.855071</td>\n      <td>38.782607</td>\n      <td>77.565214</td>\n      <td>2404</td>\n      <td>-101.042465</td>\n      <td>122.252129</td>\n      <td>-101.118759</td>\n      <td>121.867241</td>\n      <td>-0.160760</td>\n      <td>...</td>\n      <td>26408.796384</td>\n      <td>159.263207</td>\n      <td>190.826640</td>\n      <td>0.517722</td>\n      <td>29.663297</td>\n      <td>-1.732408</td>\n      <td>-1.402544</td>\n      <td>-0.329864</td>\n      <td>-18.899807</td>\n      <td>18.899807</td>\n    </tr>\n    <tr>\n      <th>45</th>\n      <td>479</td>\n      <td>25.855071</td>\n      <td>38.782607</td>\n      <td>77.565214</td>\n      <td>2702</td>\n      <td>174.507782</td>\n      <td>140.467438</td>\n      <td>174.114182</td>\n      <td>139.964401</td>\n      <td>-0.618761</td>\n      <td>...</td>\n      <td>129813.974187</td>\n      <td>224.979051</td>\n      <td>581.148485</td>\n      <td>0.119489</td>\n      <td>6.846207</td>\n      <td>-2.251661</td>\n      <td>-2.582418</td>\n      <td>0.330758</td>\n      <td>18.951024</td>\n      <td>18.951024</td>\n    </tr>\n    <tr>\n      <th>46</th>\n      <td>479</td>\n      <td>25.855071</td>\n      <td>38.782607</td>\n      <td>77.565214</td>\n      <td>2704</td>\n      <td>-114.266586</td>\n      <td>-139.678741</td>\n      <td>-114.977768</td>\n      <td>-139.808167</td>\n      <td>-0.995590</td>\n      <td>...</td>\n      <td>-27021.813100</td>\n      <td>179.805490</td>\n      <td>205.795099</td>\n      <td>2.389496</td>\n      <td>136.908054</td>\n      <td>-3.104013</td>\n      <td>-3.004400</td>\n      <td>-0.099614</td>\n      <td>-5.707438</td>\n      <td>5.707438</td>\n    </tr>\n    <tr>\n      <th>47</th>\n      <td>479</td>\n      <td>25.855071</td>\n      <td>38.782607</td>\n      <td>77.565214</td>\n      <td>2706</td>\n      <td>-320.999023</td>\n      <td>77.417046</td>\n      <td>-320.962708</td>\n      <td>76.737862</td>\n      <td>0.031094</td>\n      <td>...</td>\n      <td>20152.428636</td>\n      <td>330.468391</td>\n      <td>245.257764</td>\n      <td>1.319518</td>\n      <td>75.602826</td>\n      <td>-1.539671</td>\n      <td>-1.559090</td>\n      <td>0.019419</td>\n      <td>1.112638</td>\n      <td>1.112638</td>\n    </tr>\n    <tr>\n      <th>48</th>\n      <td>479</td>\n      <td>25.855071</td>\n      <td>38.782607</td>\n      <td>77.565214</td>\n      <td>2708</td>\n      <td>-326.808716</td>\n      <td>3.788925</td>\n      <td>-327.063354</td>\n      <td>3.305054</td>\n      <td>-0.625794</td>\n      <td>...</td>\n      <td>3611.772088</td>\n      <td>326.214609</td>\n      <td>171.832248</td>\n      <td>1.506318</td>\n      <td>86.305669</td>\n      <td>-2.261106</td>\n      <td>-1.520256</td>\n      <td>-0.740850</td>\n      <td>-42.447593</td>\n      <td>42.447593</td>\n    </tr>\n    <tr>\n      <th>49</th>\n      <td>479</td>\n      <td>25.855071</td>\n      <td>38.782607</td>\n      <td>77.565214</td>\n      <td>2710</td>\n      <td>-33.394547</td>\n      <td>-190.612823</td>\n      <td>-34.042099</td>\n      <td>-190.832947</td>\n      <td>-0.991554</td>\n      <td>...</td>\n      <td>-4884.291455</td>\n      <td>193.263680</td>\n      <td>285.643954</td>\n      <td>1.659388</td>\n      <td>95.075948</td>\n      <td>-3.056194</td>\n      <td>3.061727</td>\n      <td>-6.117921</td>\n      <td>9.468922</td>\n      <td>9.468922</td>\n    </tr>\n  </tbody>\n</table>\n<p>50 rows × 56 columns</p>\n</div>"
     },
     "execution_count": 56,
     "metadata": {},
     "output_type": "execute_result"
    }
   ],
   "source": [
    "# Merged finished data base with inter-quartile range base\n",
    "interQ = pd.merge(inter_quartile_range,CoordinatesIntegrated, on='SubjectID')\n",
    "interQ.head(50)"
   ],
   "metadata": {
    "collapsed": false,
    "pycharm": {
     "name": "#%%\n"
    }
   }
  },
  {
   "cell_type": "code",
   "execution_count": 57,
   "outputs": [
    {
     "data": {
      "text/plain": "   SubjectID        IQR   IQRlimit  IQRlimit2  Unnamed: 0  \\\n0        479  25.855071  38.782607  77.565214           0   \n1        479  25.855071  38.782607  77.565214           2   \n2        479  25.855071  38.782607  77.565214           4   \n3        479  25.855071  38.782607  77.565214           6   \n4        479  25.855071  38.782607  77.565214           8   \n5        479  25.855071  38.782607  77.565214          10   \n6        479  25.855071  38.782607  77.565214          12   \n7        479  25.855071  38.782607  77.565214          14   \n8        479  25.855071  38.782607  77.565214          16   \n9        479  25.855071  38.782607  77.565214          18   \n10       479  25.855071  38.782607  77.565214          20   \n11       479  25.855071  38.782607  77.565214         336   \n12       479  25.855071  38.782607  77.565214         338   \n13       479  25.855071  38.782607  77.565214         340   \n14       479  25.855071  38.782607  77.565214         342   \n15       479  25.855071  38.782607  77.565214         344   \n16       479  25.855071  38.782607  77.565214         346   \n17       479  25.855071  38.782607  77.565214         694   \n18       479  25.855071  38.782607  77.565214        1018   \n19       479  25.855071  38.782607  77.565214        1020   \n20       479  25.855071  38.782607  77.565214        1022   \n21       479  25.855071  38.782607  77.565214        1334   \n22       479  25.855071  38.782607  77.565214        1336   \n23       479  25.855071  38.782607  77.565214        1338   \n24       479  25.855071  38.782607  77.565214        1340   \n25       479  25.855071  38.782607  77.565214        1342   \n26       479  25.855071  38.782607  77.565214        1344   \n27       479  25.855071  38.782607  77.565214        1658   \n28       479  25.855071  38.782607  77.565214        1660   \n29       479  25.855071  38.782607  77.565214        1662   \n30       479  25.855071  38.782607  77.565214        1664   \n31       479  25.855071  38.782607  77.565214        1666   \n32       479  25.855071  38.782607  77.565214        1668   \n33       479  25.855071  38.782607  77.565214        1670   \n34       479  25.855071  38.782607  77.565214        2032   \n35       479  25.855071  38.782607  77.565214        2034   \n36       479  25.855071  38.782607  77.565214        2036   \n37       479  25.855071  38.782607  77.565214        2038   \n38       479  25.855071  38.782607  77.565214        2040   \n39       479  25.855071  38.782607  77.565214        2394   \n40       479  25.855071  38.782607  77.565214        2396   \n41       479  25.855071  38.782607  77.565214        2398   \n42       479  25.855071  38.782607  77.565214        2400   \n43       479  25.855071  38.782607  77.565214        2402   \n44       479  25.855071  38.782607  77.565214        2404   \n45       479  25.855071  38.782607  77.565214        2702   \n46       479  25.855071  38.782607  77.565214        2704   \n47       479  25.855071  38.782607  77.565214        2706   \n48       479  25.855071  38.782607  77.565214        2708   \n49       479  25.855071  38.782607  77.565214        2710   \n\n    ParticipantPosition_x  ParticipantPosition_z  PointerPosition_x  \\\n0              174.565613             140.809692         174.247833   \n1             -142.220413            -185.136780        -142.066452   \n2              -54.895859             235.641327         -55.132767   \n3              -54.882858             235.573914         -55.164627   \n4             -101.070389             122.244217        -101.253830   \n5             -228.852768             189.914307        -228.790115   \n6                2.501694              41.494225           1.941864   \n7             -243.134811              39.133606        -242.769119   \n8             -242.994522              39.181503        -242.767929   \n9             -242.984116              39.292313        -242.606277   \n10            -242.957443              39.244644        -242.707840   \n11             174.531342             140.444107         174.712006   \n12             174.614929             140.490997         174.725647   \n13             201.579193             215.401001         201.552078   \n14             -46.311844             151.328384         -46.181503   \n15              38.693375              53.712143          38.707245   \n16            -243.153671              39.354713        -242.837296   \n17             174.621384             140.489441         173.795654   \n18             174.370575             140.593613         174.177307   \n19             118.347977             -62.609619         118.064713   \n20             110.651199             196.760895         110.159874   \n21             174.430801             140.513351         173.952606   \n22            -145.175705             -40.456314        -144.681808   \n23            -320.964783              77.382172        -320.368652   \n24            -185.575333            -159.733246        -185.026779   \n25             366.568054             108.987633         366.287445   \n26             366.586914             109.017609         366.295654   \n27             174.405472             140.546616         173.874054   \n28             174.488785             140.477600         173.876266   \n29             118.270485             -62.652618         117.969711   \n30             -33.320084            -190.586945         -33.172409   \n31             -46.236588             151.070190         -46.598099   \n32            -242.994064              39.181427        -242.568100   \n33            -243.009445              39.326698        -242.709518   \n34             174.405273             140.556717         173.793884   \n35            -142.166122            -184.866272        -141.595901   \n36              30.056305             177.601822          29.359741   \n37             -46.286270             151.067444         -46.989700   \n38            -228.842484             189.930756        -229.231491   \n39             174.386612             140.595993         174.265701   \n40            -142.138657            -184.964722        -141.608810   \n41            -320.982666              77.400490        -320.531067   \n42             -54.941086             235.559967         -55.068619   \n43             110.653900             196.823242         110.253654   \n44            -101.042465             122.252129        -101.118759   \n45             174.507782             140.467438         174.114182   \n46            -114.266586            -139.678741        -114.977768   \n47            -320.999023              77.417046        -320.962708   \n48            -326.808716               3.788925        -327.063354   \n49             -33.394547            -190.612823         -34.042099   \n\n    PointerPosition_z  PointerDirection_x  ...  Magnitud_Participant-Building  \\\n0          139.919708           -0.488963  ...                     297.572725   \n1         -184.297974            0.285370  ...                     173.846204   \n2          235.065857           -0.440328  ...                     262.417916   \n3          235.090149           -0.548326  ...                     262.351473   \n4          121.961014           -0.362058  ...                     151.360317   \n5          189.486603            0.207335  ...                     267.245917   \n6           41.325203           -0.939452  ...                     100.463456   \n7           39.015350            0.913717  ...                     183.480110   \n8           39.021866            0.920065  ...                     183.366117   \n9           39.034195            0.919398  ...                     183.395960   \n10          39.050415            0.926090  ...                     183.354019   \n11         139.943497            0.164158  ...                     434.401934   \n12         139.954010            0.228637  ...                     434.478943   \n13         215.052963            0.099733  ...                     513.897460   \n14         150.597580            0.214914  ...                     409.463779   \n15          53.361916           -0.183606  ...                     312.426100   \n16          38.840096            0.585446  ...                     380.357879   \n17         140.840851           -0.901066  ...                     429.139746   \n18         140.051208           -0.474947  ...                     353.412608   \n19         -63.258652           -0.491342  ...                     143.188740   \n20         196.431351           -0.821248  ...                     401.112938   \n21         140.205383           -0.798514  ...                     286.202509   \n22         -40.813614            0.852607  ...                     314.533920   \n23          77.165070            0.953957  ...                     522.138610   \n24        -159.644562            0.984863  ...                     337.462742   \n25         109.079170           -0.987319  ...                     332.603450   \n26         109.052979           -0.994832  ...                     332.638513   \n27         140.301834           -0.911939  ...                     218.223224   \n28         140.183380           -0.900416  ...                     218.262275   \n29         -62.217789           -0.497391  ...                     165.502396   \n30        -190.324432            0.452941  ...                     225.279147   \n31         150.776138           -0.590640  ...                     120.869143   \n32          39.127640            0.980117  ...                     226.996657   \n33          39.149582            0.999563  ...                     227.015378   \n34         140.781067           -0.957560  ...                     517.000940   \n35        -185.151215            0.971780  ...                     312.932146   \n36         177.646576           -0.996786  ...                     384.670279   \n37         150.969559           -0.988927  ...                     303.880433   \n38         189.429062           -0.600768  ...                     168.249481   \n39         139.895172           -0.436418  ...                     319.235813   \n40        -184.787750            0.954317  ...                     139.706136   \n41          76.993233            0.774268  ...                     289.794484   \n42         235.048676           -0.336250  ...                     301.771517   \n43         196.377701           -0.712413  ...                     318.307361   \n44         121.867241           -0.160760  ...                     190.826640   \n45         139.964401           -0.618761  ...                     581.148485   \n46        -139.808167           -0.995590  ...                     205.795099   \n47          76.737862            0.031094  ...                     245.257764   \n48           3.305054           -0.625794  ...                     171.832248   \n49        -190.832947           -0.991554  ...                     285.643954   \n\n     radians     degrees  atanPointer  atanBuild-Part  atanSubs  rad2degree  \\\n0   0.084366    4.833836    -2.084065       -2.545554  0.461489   26.441377   \n1   0.235808   13.510811     1.280485        1.153080  0.127405    7.299795   \n2   0.290340   16.635255    -2.027988       -1.634858 -0.393129  -22.524660   \n3   0.290037   16.617918    -2.151675       -1.634924 -0.516751  -29.607650   \n4   0.490086   28.079838    -1.943147       -1.375484 -0.567663  -32.524715   \n5   0.247376   14.173609    -1.361691       -0.942135 -0.419556  -24.038798   \n6   0.748838   42.905261    -2.796541       -2.401711 -0.394830  -22.622087   \n7   0.203699   11.671115    -0.412150       -0.364293 -0.047857   -2.742014   \n8   0.203990   11.687753    -0.397708       -0.364810 -0.032898   -1.884937   \n9   0.204109   11.694599    -0.401528       -0.365394 -0.036133   -2.070286   \n10  0.204152   11.697020    -0.386080       -0.365203 -0.020877   -1.196163   \n11  0.467468   26.783944    -1.405625       -1.992653  0.587028   33.634244   \n12  0.467273   26.772743    -1.339766       -1.992784  0.653018   37.415196   \n13  0.339569   19.455884    -1.470723       -1.980948  0.510226   29.233770   \n14  0.191342   10.963082    -1.353051       -1.465648  0.112597    6.451356   \n15  0.483016   27.674764    -1.755864       -1.705734 -0.050130   -2.872252   \n16  0.725280   41.555467    -0.944516       -0.888595 -0.055922   -3.204074   \n17  0.385388   22.081086     2.699752       -2.853473  5.553224  -41.823675   \n18  0.667903   38.268041    -2.069355       -1.793429 -0.275926  -15.809369   \n19  1.895621  108.611062    -2.085593       -1.725124 -0.360469  -20.653356   \n20  0.478530   27.417777    -2.539117       -1.606489 -0.932629  -53.435692   \n21  0.812843   46.572480    -2.503457       -1.650808 -0.852648  -48.853156   \n22  0.605196   34.675151    -0.523016       -0.338059 -0.184957  -10.597273   \n23  0.202717   11.614848    -0.299354       -0.439484  0.140130    8.028862   \n24  0.664275   38.060158     0.174211        0.044345  0.129867    7.440824   \n25  0.579951   33.228730     3.004146       -2.273722  5.277869  -57.600409   \n26  0.579672   33.212739     3.100268       -2.273707  5.373975  -52.093897   \n27  0.167234    9.581823    -2.725147       -2.631670 -0.093477   -5.355835   \n28  0.167358    9.588915    -2.693910       -2.632132 -0.061777   -3.539588   \n29  0.132751    7.606046     2.091864        2.517730 -0.425866  -24.400330   \n30  0.097876    5.607899     1.099894        1.494086 -0.394192  -22.585544   \n31  0.039601    2.268980    -2.206577       -1.318429 -0.888148  -50.887140   \n32  0.137322    7.867943    -0.197028       -0.022697 -0.174331   -9.988418   \n33  0.136423    7.816464     0.009164       -0.023335  0.032499    1.862084   \n34  0.519264   29.751661     2.858862       -2.986157  5.845019  -25.105098   \n35  1.328947   76.143034    -0.237648        2.240267 -2.477915 -141.974068   \n36  1.088389   62.360092     3.107055       -2.832315  5.939370  -19.699188   \n37  1.559333   89.343221    -3.023769       -2.839025 -0.184744  -10.585043   \n38  1.568034   89.841721    -2.233185       -2.264063  0.030878    1.769160   \n39  0.022960    1.315484    -2.026007       -2.438236  0.412229   23.618975   \n40  0.107462    6.157128     0.288531        1.020550 -0.732019  -41.941597   \n41  0.279243   15.999448    -0.684194       -0.517168 -0.167026   -9.569867   \n42  0.273804   15.687801    -1.914514       -1.617689 -0.296826  -17.006864   \n43  0.086647    4.964493    -2.367357       -2.170837 -0.196520  -11.259753   \n44  0.517722   29.663297    -1.732408       -1.402544 -0.329864  -18.899807   \n45  0.119489    6.846207    -2.251661       -2.582418  0.330758   18.951024   \n46  2.389496  136.908054    -3.104013       -3.004400 -0.099614   -5.707438   \n47  1.319518   75.602826    -1.539671       -1.559090  0.019419    1.112638   \n48  1.506318   86.305669    -2.261106       -1.520256 -0.740850  -42.447593   \n49  1.659388   95.075948    -3.056194        3.061727 -6.117921    9.468922   \n\n    AbsolutError   Flag  Flag2  \n0      26.441377   True   True  \n1       7.299795   True   True  \n2      22.524660   True   True  \n3      29.607650   True   True  \n4      32.524715   True   True  \n5      24.038798   True   True  \n6      22.622087   True   True  \n7       2.742014   True   True  \n8       1.884937   True   True  \n9       2.070286   True   True  \n10      1.196163   True   True  \n11     33.634244   True   True  \n12     37.415196   True   True  \n13     29.233770   True   True  \n14      6.451356   True   True  \n15      2.872252   True   True  \n16      3.204074   True   True  \n17     41.823675  False   True  \n18     15.809369   True   True  \n19     20.653356   True   True  \n20     53.435692  False   True  \n21     48.853156  False   True  \n22     10.597273   True   True  \n23      8.028862   True   True  \n24      7.440824   True   True  \n25     57.600409  False   True  \n26     52.093897  False   True  \n27      5.355835   True   True  \n28      3.539588   True   True  \n29     24.400330   True   True  \n30     22.585544   True   True  \n31     50.887140  False   True  \n32      9.988418   True   True  \n33      1.862084   True   True  \n34     25.105098   True   True  \n35    141.974068  False  False  \n36     19.699188   True   True  \n37     10.585043   True   True  \n38      1.769160   True   True  \n39     23.618975   True   True  \n40     41.941597  False   True  \n41      9.569867   True   True  \n42     17.006864   True   True  \n43     11.259753   True   True  \n44     18.899807   True   True  \n45     18.951024   True   True  \n46      5.707438   True   True  \n47      1.112638   True   True  \n48     42.447593  False   True  \n49      9.468922   True   True  \n\n[50 rows x 58 columns]",
      "text/html": "<div>\n<style scoped>\n    .dataframe tbody tr th:only-of-type {\n        vertical-align: middle;\n    }\n\n    .dataframe tbody tr th {\n        vertical-align: top;\n    }\n\n    .dataframe thead th {\n        text-align: right;\n    }\n</style>\n<table border=\"1\" class=\"dataframe\">\n  <thead>\n    <tr style=\"text-align: right;\">\n      <th></th>\n      <th>SubjectID</th>\n      <th>IQR</th>\n      <th>IQRlimit</th>\n      <th>IQRlimit2</th>\n      <th>Unnamed: 0</th>\n      <th>ParticipantPosition_x</th>\n      <th>ParticipantPosition_z</th>\n      <th>PointerPosition_x</th>\n      <th>PointerPosition_z</th>\n      <th>PointerDirection_x</th>\n      <th>...</th>\n      <th>Magnitud_Participant-Building</th>\n      <th>radians</th>\n      <th>degrees</th>\n      <th>atanPointer</th>\n      <th>atanBuild-Part</th>\n      <th>atanSubs</th>\n      <th>rad2degree</th>\n      <th>AbsolutError</th>\n      <th>Flag</th>\n      <th>Flag2</th>\n    </tr>\n  </thead>\n  <tbody>\n    <tr>\n      <th>0</th>\n      <td>479</td>\n      <td>25.855071</td>\n      <td>38.782607</td>\n      <td>77.565214</td>\n      <td>0</td>\n      <td>174.565613</td>\n      <td>140.809692</td>\n      <td>174.247833</td>\n      <td>139.919708</td>\n      <td>-0.488963</td>\n      <td>...</td>\n      <td>297.572725</td>\n      <td>0.084366</td>\n      <td>4.833836</td>\n      <td>-2.084065</td>\n      <td>-2.545554</td>\n      <td>0.461489</td>\n      <td>26.441377</td>\n      <td>26.441377</td>\n      <td>True</td>\n      <td>True</td>\n    </tr>\n    <tr>\n      <th>1</th>\n      <td>479</td>\n      <td>25.855071</td>\n      <td>38.782607</td>\n      <td>77.565214</td>\n      <td>2</td>\n      <td>-142.220413</td>\n      <td>-185.136780</td>\n      <td>-142.066452</td>\n      <td>-184.297974</td>\n      <td>0.285370</td>\n      <td>...</td>\n      <td>173.846204</td>\n      <td>0.235808</td>\n      <td>13.510811</td>\n      <td>1.280485</td>\n      <td>1.153080</td>\n      <td>0.127405</td>\n      <td>7.299795</td>\n      <td>7.299795</td>\n      <td>True</td>\n      <td>True</td>\n    </tr>\n    <tr>\n      <th>2</th>\n      <td>479</td>\n      <td>25.855071</td>\n      <td>38.782607</td>\n      <td>77.565214</td>\n      <td>4</td>\n      <td>-54.895859</td>\n      <td>235.641327</td>\n      <td>-55.132767</td>\n      <td>235.065857</td>\n      <td>-0.440328</td>\n      <td>...</td>\n      <td>262.417916</td>\n      <td>0.290340</td>\n      <td>16.635255</td>\n      <td>-2.027988</td>\n      <td>-1.634858</td>\n      <td>-0.393129</td>\n      <td>-22.524660</td>\n      <td>22.524660</td>\n      <td>True</td>\n      <td>True</td>\n    </tr>\n    <tr>\n      <th>3</th>\n      <td>479</td>\n      <td>25.855071</td>\n      <td>38.782607</td>\n      <td>77.565214</td>\n      <td>6</td>\n      <td>-54.882858</td>\n      <td>235.573914</td>\n      <td>-55.164627</td>\n      <td>235.090149</td>\n      <td>-0.548326</td>\n      <td>...</td>\n      <td>262.351473</td>\n      <td>0.290037</td>\n      <td>16.617918</td>\n      <td>-2.151675</td>\n      <td>-1.634924</td>\n      <td>-0.516751</td>\n      <td>-29.607650</td>\n      <td>29.607650</td>\n      <td>True</td>\n      <td>True</td>\n    </tr>\n    <tr>\n      <th>4</th>\n      <td>479</td>\n      <td>25.855071</td>\n      <td>38.782607</td>\n      <td>77.565214</td>\n      <td>8</td>\n      <td>-101.070389</td>\n      <td>122.244217</td>\n      <td>-101.253830</td>\n      <td>121.961014</td>\n      <td>-0.362058</td>\n      <td>...</td>\n      <td>151.360317</td>\n      <td>0.490086</td>\n      <td>28.079838</td>\n      <td>-1.943147</td>\n      <td>-1.375484</td>\n      <td>-0.567663</td>\n      <td>-32.524715</td>\n      <td>32.524715</td>\n      <td>True</td>\n      <td>True</td>\n    </tr>\n    <tr>\n      <th>5</th>\n      <td>479</td>\n      <td>25.855071</td>\n      <td>38.782607</td>\n      <td>77.565214</td>\n      <td>10</td>\n      <td>-228.852768</td>\n      <td>189.914307</td>\n      <td>-228.790115</td>\n      <td>189.486603</td>\n      <td>0.207335</td>\n      <td>...</td>\n      <td>267.245917</td>\n      <td>0.247376</td>\n      <td>14.173609</td>\n      <td>-1.361691</td>\n      <td>-0.942135</td>\n      <td>-0.419556</td>\n      <td>-24.038798</td>\n      <td>24.038798</td>\n      <td>True</td>\n      <td>True</td>\n    </tr>\n    <tr>\n      <th>6</th>\n      <td>479</td>\n      <td>25.855071</td>\n      <td>38.782607</td>\n      <td>77.565214</td>\n      <td>12</td>\n      <td>2.501694</td>\n      <td>41.494225</td>\n      <td>1.941864</td>\n      <td>41.325203</td>\n      <td>-0.939452</td>\n      <td>...</td>\n      <td>100.463456</td>\n      <td>0.748838</td>\n      <td>42.905261</td>\n      <td>-2.796541</td>\n      <td>-2.401711</td>\n      <td>-0.394830</td>\n      <td>-22.622087</td>\n      <td>22.622087</td>\n      <td>True</td>\n      <td>True</td>\n    </tr>\n    <tr>\n      <th>7</th>\n      <td>479</td>\n      <td>25.855071</td>\n      <td>38.782607</td>\n      <td>77.565214</td>\n      <td>14</td>\n      <td>-243.134811</td>\n      <td>39.133606</td>\n      <td>-242.769119</td>\n      <td>39.015350</td>\n      <td>0.913717</td>\n      <td>...</td>\n      <td>183.480110</td>\n      <td>0.203699</td>\n      <td>11.671115</td>\n      <td>-0.412150</td>\n      <td>-0.364293</td>\n      <td>-0.047857</td>\n      <td>-2.742014</td>\n      <td>2.742014</td>\n      <td>True</td>\n      <td>True</td>\n    </tr>\n    <tr>\n      <th>8</th>\n      <td>479</td>\n      <td>25.855071</td>\n      <td>38.782607</td>\n      <td>77.565214</td>\n      <td>16</td>\n      <td>-242.994522</td>\n      <td>39.181503</td>\n      <td>-242.767929</td>\n      <td>39.021866</td>\n      <td>0.920065</td>\n      <td>...</td>\n      <td>183.366117</td>\n      <td>0.203990</td>\n      <td>11.687753</td>\n      <td>-0.397708</td>\n      <td>-0.364810</td>\n      <td>-0.032898</td>\n      <td>-1.884937</td>\n      <td>1.884937</td>\n      <td>True</td>\n      <td>True</td>\n    </tr>\n    <tr>\n      <th>9</th>\n      <td>479</td>\n      <td>25.855071</td>\n      <td>38.782607</td>\n      <td>77.565214</td>\n      <td>18</td>\n      <td>-242.984116</td>\n      <td>39.292313</td>\n      <td>-242.606277</td>\n      <td>39.034195</td>\n      <td>0.919398</td>\n      <td>...</td>\n      <td>183.395960</td>\n      <td>0.204109</td>\n      <td>11.694599</td>\n      <td>-0.401528</td>\n      <td>-0.365394</td>\n      <td>-0.036133</td>\n      <td>-2.070286</td>\n      <td>2.070286</td>\n      <td>True</td>\n      <td>True</td>\n    </tr>\n    <tr>\n      <th>10</th>\n      <td>479</td>\n      <td>25.855071</td>\n      <td>38.782607</td>\n      <td>77.565214</td>\n      <td>20</td>\n      <td>-242.957443</td>\n      <td>39.244644</td>\n      <td>-242.707840</td>\n      <td>39.050415</td>\n      <td>0.926090</td>\n      <td>...</td>\n      <td>183.354019</td>\n      <td>0.204152</td>\n      <td>11.697020</td>\n      <td>-0.386080</td>\n      <td>-0.365203</td>\n      <td>-0.020877</td>\n      <td>-1.196163</td>\n      <td>1.196163</td>\n      <td>True</td>\n      <td>True</td>\n    </tr>\n    <tr>\n      <th>11</th>\n      <td>479</td>\n      <td>25.855071</td>\n      <td>38.782607</td>\n      <td>77.565214</td>\n      <td>336</td>\n      <td>174.531342</td>\n      <td>140.444107</td>\n      <td>174.712006</td>\n      <td>139.943497</td>\n      <td>0.164158</td>\n      <td>...</td>\n      <td>434.401934</td>\n      <td>0.467468</td>\n      <td>26.783944</td>\n      <td>-1.405625</td>\n      <td>-1.992653</td>\n      <td>0.587028</td>\n      <td>33.634244</td>\n      <td>33.634244</td>\n      <td>True</td>\n      <td>True</td>\n    </tr>\n    <tr>\n      <th>12</th>\n      <td>479</td>\n      <td>25.855071</td>\n      <td>38.782607</td>\n      <td>77.565214</td>\n      <td>338</td>\n      <td>174.614929</td>\n      <td>140.490997</td>\n      <td>174.725647</td>\n      <td>139.954010</td>\n      <td>0.228637</td>\n      <td>...</td>\n      <td>434.478943</td>\n      <td>0.467273</td>\n      <td>26.772743</td>\n      <td>-1.339766</td>\n      <td>-1.992784</td>\n      <td>0.653018</td>\n      <td>37.415196</td>\n      <td>37.415196</td>\n      <td>True</td>\n      <td>True</td>\n    </tr>\n    <tr>\n      <th>13</th>\n      <td>479</td>\n      <td>25.855071</td>\n      <td>38.782607</td>\n      <td>77.565214</td>\n      <td>340</td>\n      <td>201.579193</td>\n      <td>215.401001</td>\n      <td>201.552078</td>\n      <td>215.052963</td>\n      <td>0.099733</td>\n      <td>...</td>\n      <td>513.897460</td>\n      <td>0.339569</td>\n      <td>19.455884</td>\n      <td>-1.470723</td>\n      <td>-1.980948</td>\n      <td>0.510226</td>\n      <td>29.233770</td>\n      <td>29.233770</td>\n      <td>True</td>\n      <td>True</td>\n    </tr>\n    <tr>\n      <th>14</th>\n      <td>479</td>\n      <td>25.855071</td>\n      <td>38.782607</td>\n      <td>77.565214</td>\n      <td>342</td>\n      <td>-46.311844</td>\n      <td>151.328384</td>\n      <td>-46.181503</td>\n      <td>150.597580</td>\n      <td>0.214914</td>\n      <td>...</td>\n      <td>409.463779</td>\n      <td>0.191342</td>\n      <td>10.963082</td>\n      <td>-1.353051</td>\n      <td>-1.465648</td>\n      <td>0.112597</td>\n      <td>6.451356</td>\n      <td>6.451356</td>\n      <td>True</td>\n      <td>True</td>\n    </tr>\n    <tr>\n      <th>15</th>\n      <td>479</td>\n      <td>25.855071</td>\n      <td>38.782607</td>\n      <td>77.565214</td>\n      <td>344</td>\n      <td>38.693375</td>\n      <td>53.712143</td>\n      <td>38.707245</td>\n      <td>53.361916</td>\n      <td>-0.183606</td>\n      <td>...</td>\n      <td>312.426100</td>\n      <td>0.483016</td>\n      <td>27.674764</td>\n      <td>-1.755864</td>\n      <td>-1.705734</td>\n      <td>-0.050130</td>\n      <td>-2.872252</td>\n      <td>2.872252</td>\n      <td>True</td>\n      <td>True</td>\n    </tr>\n    <tr>\n      <th>16</th>\n      <td>479</td>\n      <td>25.855071</td>\n      <td>38.782607</td>\n      <td>77.565214</td>\n      <td>346</td>\n      <td>-243.153671</td>\n      <td>39.354713</td>\n      <td>-242.837296</td>\n      <td>38.840096</td>\n      <td>0.585446</td>\n      <td>...</td>\n      <td>380.357879</td>\n      <td>0.725280</td>\n      <td>41.555467</td>\n      <td>-0.944516</td>\n      <td>-0.888595</td>\n      <td>-0.055922</td>\n      <td>-3.204074</td>\n      <td>3.204074</td>\n      <td>True</td>\n      <td>True</td>\n    </tr>\n    <tr>\n      <th>17</th>\n      <td>479</td>\n      <td>25.855071</td>\n      <td>38.782607</td>\n      <td>77.565214</td>\n      <td>694</td>\n      <td>174.621384</td>\n      <td>140.489441</td>\n      <td>173.795654</td>\n      <td>140.840851</td>\n      <td>-0.901066</td>\n      <td>...</td>\n      <td>429.139746</td>\n      <td>0.385388</td>\n      <td>22.081086</td>\n      <td>2.699752</td>\n      <td>-2.853473</td>\n      <td>5.553224</td>\n      <td>-41.823675</td>\n      <td>41.823675</td>\n      <td>False</td>\n      <td>True</td>\n    </tr>\n    <tr>\n      <th>18</th>\n      <td>479</td>\n      <td>25.855071</td>\n      <td>38.782607</td>\n      <td>77.565214</td>\n      <td>1018</td>\n      <td>174.370575</td>\n      <td>140.593613</td>\n      <td>174.177307</td>\n      <td>140.051208</td>\n      <td>-0.474947</td>\n      <td>...</td>\n      <td>353.412608</td>\n      <td>0.667903</td>\n      <td>38.268041</td>\n      <td>-2.069355</td>\n      <td>-1.793429</td>\n      <td>-0.275926</td>\n      <td>-15.809369</td>\n      <td>15.809369</td>\n      <td>True</td>\n      <td>True</td>\n    </tr>\n    <tr>\n      <th>19</th>\n      <td>479</td>\n      <td>25.855071</td>\n      <td>38.782607</td>\n      <td>77.565214</td>\n      <td>1020</td>\n      <td>118.347977</td>\n      <td>-62.609619</td>\n      <td>118.064713</td>\n      <td>-63.258652</td>\n      <td>-0.491342</td>\n      <td>...</td>\n      <td>143.188740</td>\n      <td>1.895621</td>\n      <td>108.611062</td>\n      <td>-2.085593</td>\n      <td>-1.725124</td>\n      <td>-0.360469</td>\n      <td>-20.653356</td>\n      <td>20.653356</td>\n      <td>True</td>\n      <td>True</td>\n    </tr>\n    <tr>\n      <th>20</th>\n      <td>479</td>\n      <td>25.855071</td>\n      <td>38.782607</td>\n      <td>77.565214</td>\n      <td>1022</td>\n      <td>110.651199</td>\n      <td>196.760895</td>\n      <td>110.159874</td>\n      <td>196.431351</td>\n      <td>-0.821248</td>\n      <td>...</td>\n      <td>401.112938</td>\n      <td>0.478530</td>\n      <td>27.417777</td>\n      <td>-2.539117</td>\n      <td>-1.606489</td>\n      <td>-0.932629</td>\n      <td>-53.435692</td>\n      <td>53.435692</td>\n      <td>False</td>\n      <td>True</td>\n    </tr>\n    <tr>\n      <th>21</th>\n      <td>479</td>\n      <td>25.855071</td>\n      <td>38.782607</td>\n      <td>77.565214</td>\n      <td>1334</td>\n      <td>174.430801</td>\n      <td>140.513351</td>\n      <td>173.952606</td>\n      <td>140.205383</td>\n      <td>-0.798514</td>\n      <td>...</td>\n      <td>286.202509</td>\n      <td>0.812843</td>\n      <td>46.572480</td>\n      <td>-2.503457</td>\n      <td>-1.650808</td>\n      <td>-0.852648</td>\n      <td>-48.853156</td>\n      <td>48.853156</td>\n      <td>False</td>\n      <td>True</td>\n    </tr>\n    <tr>\n      <th>22</th>\n      <td>479</td>\n      <td>25.855071</td>\n      <td>38.782607</td>\n      <td>77.565214</td>\n      <td>1336</td>\n      <td>-145.175705</td>\n      <td>-40.456314</td>\n      <td>-144.681808</td>\n      <td>-40.813614</td>\n      <td>0.852607</td>\n      <td>...</td>\n      <td>314.533920</td>\n      <td>0.605196</td>\n      <td>34.675151</td>\n      <td>-0.523016</td>\n      <td>-0.338059</td>\n      <td>-0.184957</td>\n      <td>-10.597273</td>\n      <td>10.597273</td>\n      <td>True</td>\n      <td>True</td>\n    </tr>\n    <tr>\n      <th>23</th>\n      <td>479</td>\n      <td>25.855071</td>\n      <td>38.782607</td>\n      <td>77.565214</td>\n      <td>1338</td>\n      <td>-320.964783</td>\n      <td>77.382172</td>\n      <td>-320.368652</td>\n      <td>77.165070</td>\n      <td>0.953957</td>\n      <td>...</td>\n      <td>522.138610</td>\n      <td>0.202717</td>\n      <td>11.614848</td>\n      <td>-0.299354</td>\n      <td>-0.439484</td>\n      <td>0.140130</td>\n      <td>8.028862</td>\n      <td>8.028862</td>\n      <td>True</td>\n      <td>True</td>\n    </tr>\n    <tr>\n      <th>24</th>\n      <td>479</td>\n      <td>25.855071</td>\n      <td>38.782607</td>\n      <td>77.565214</td>\n      <td>1340</td>\n      <td>-185.575333</td>\n      <td>-159.733246</td>\n      <td>-185.026779</td>\n      <td>-159.644562</td>\n      <td>0.984863</td>\n      <td>...</td>\n      <td>337.462742</td>\n      <td>0.664275</td>\n      <td>38.060158</td>\n      <td>0.174211</td>\n      <td>0.044345</td>\n      <td>0.129867</td>\n      <td>7.440824</td>\n      <td>7.440824</td>\n      <td>True</td>\n      <td>True</td>\n    </tr>\n    <tr>\n      <th>25</th>\n      <td>479</td>\n      <td>25.855071</td>\n      <td>38.782607</td>\n      <td>77.565214</td>\n      <td>1342</td>\n      <td>366.568054</td>\n      <td>108.987633</td>\n      <td>366.287445</td>\n      <td>109.079170</td>\n      <td>-0.987319</td>\n      <td>...</td>\n      <td>332.603450</td>\n      <td>0.579951</td>\n      <td>33.228730</td>\n      <td>3.004146</td>\n      <td>-2.273722</td>\n      <td>5.277869</td>\n      <td>-57.600409</td>\n      <td>57.600409</td>\n      <td>False</td>\n      <td>True</td>\n    </tr>\n    <tr>\n      <th>26</th>\n      <td>479</td>\n      <td>25.855071</td>\n      <td>38.782607</td>\n      <td>77.565214</td>\n      <td>1344</td>\n      <td>366.586914</td>\n      <td>109.017609</td>\n      <td>366.295654</td>\n      <td>109.052979</td>\n      <td>-0.994832</td>\n      <td>...</td>\n      <td>332.638513</td>\n      <td>0.579672</td>\n      <td>33.212739</td>\n      <td>3.100268</td>\n      <td>-2.273707</td>\n      <td>5.373975</td>\n      <td>-52.093897</td>\n      <td>52.093897</td>\n      <td>False</td>\n      <td>True</td>\n    </tr>\n    <tr>\n      <th>27</th>\n      <td>479</td>\n      <td>25.855071</td>\n      <td>38.782607</td>\n      <td>77.565214</td>\n      <td>1658</td>\n      <td>174.405472</td>\n      <td>140.546616</td>\n      <td>173.874054</td>\n      <td>140.301834</td>\n      <td>-0.911939</td>\n      <td>...</td>\n      <td>218.223224</td>\n      <td>0.167234</td>\n      <td>9.581823</td>\n      <td>-2.725147</td>\n      <td>-2.631670</td>\n      <td>-0.093477</td>\n      <td>-5.355835</td>\n      <td>5.355835</td>\n      <td>True</td>\n      <td>True</td>\n    </tr>\n    <tr>\n      <th>28</th>\n      <td>479</td>\n      <td>25.855071</td>\n      <td>38.782607</td>\n      <td>77.565214</td>\n      <td>1660</td>\n      <td>174.488785</td>\n      <td>140.477600</td>\n      <td>173.876266</td>\n      <td>140.183380</td>\n      <td>-0.900416</td>\n      <td>...</td>\n      <td>218.262275</td>\n      <td>0.167358</td>\n      <td>9.588915</td>\n      <td>-2.693910</td>\n      <td>-2.632132</td>\n      <td>-0.061777</td>\n      <td>-3.539588</td>\n      <td>3.539588</td>\n      <td>True</td>\n      <td>True</td>\n    </tr>\n    <tr>\n      <th>29</th>\n      <td>479</td>\n      <td>25.855071</td>\n      <td>38.782607</td>\n      <td>77.565214</td>\n      <td>1662</td>\n      <td>118.270485</td>\n      <td>-62.652618</td>\n      <td>117.969711</td>\n      <td>-62.217789</td>\n      <td>-0.497391</td>\n      <td>...</td>\n      <td>165.502396</td>\n      <td>0.132751</td>\n      <td>7.606046</td>\n      <td>2.091864</td>\n      <td>2.517730</td>\n      <td>-0.425866</td>\n      <td>-24.400330</td>\n      <td>24.400330</td>\n      <td>True</td>\n      <td>True</td>\n    </tr>\n    <tr>\n      <th>30</th>\n      <td>479</td>\n      <td>25.855071</td>\n      <td>38.782607</td>\n      <td>77.565214</td>\n      <td>1664</td>\n      <td>-33.320084</td>\n      <td>-190.586945</td>\n      <td>-33.172409</td>\n      <td>-190.324432</td>\n      <td>0.452941</td>\n      <td>...</td>\n      <td>225.279147</td>\n      <td>0.097876</td>\n      <td>5.607899</td>\n      <td>1.099894</td>\n      <td>1.494086</td>\n      <td>-0.394192</td>\n      <td>-22.585544</td>\n      <td>22.585544</td>\n      <td>True</td>\n      <td>True</td>\n    </tr>\n    <tr>\n      <th>31</th>\n      <td>479</td>\n      <td>25.855071</td>\n      <td>38.782607</td>\n      <td>77.565214</td>\n      <td>1666</td>\n      <td>-46.236588</td>\n      <td>151.070190</td>\n      <td>-46.598099</td>\n      <td>150.776138</td>\n      <td>-0.590640</td>\n      <td>...</td>\n      <td>120.869143</td>\n      <td>0.039601</td>\n      <td>2.268980</td>\n      <td>-2.206577</td>\n      <td>-1.318429</td>\n      <td>-0.888148</td>\n      <td>-50.887140</td>\n      <td>50.887140</td>\n      <td>False</td>\n      <td>True</td>\n    </tr>\n    <tr>\n      <th>32</th>\n      <td>479</td>\n      <td>25.855071</td>\n      <td>38.782607</td>\n      <td>77.565214</td>\n      <td>1668</td>\n      <td>-242.994064</td>\n      <td>39.181427</td>\n      <td>-242.568100</td>\n      <td>39.127640</td>\n      <td>0.980117</td>\n      <td>...</td>\n      <td>226.996657</td>\n      <td>0.137322</td>\n      <td>7.867943</td>\n      <td>-0.197028</td>\n      <td>-0.022697</td>\n      <td>-0.174331</td>\n      <td>-9.988418</td>\n      <td>9.988418</td>\n      <td>True</td>\n      <td>True</td>\n    </tr>\n    <tr>\n      <th>33</th>\n      <td>479</td>\n      <td>25.855071</td>\n      <td>38.782607</td>\n      <td>77.565214</td>\n      <td>1670</td>\n      <td>-243.009445</td>\n      <td>39.326698</td>\n      <td>-242.709518</td>\n      <td>39.149582</td>\n      <td>0.999563</td>\n      <td>...</td>\n      <td>227.015378</td>\n      <td>0.136423</td>\n      <td>7.816464</td>\n      <td>0.009164</td>\n      <td>-0.023335</td>\n      <td>0.032499</td>\n      <td>1.862084</td>\n      <td>1.862084</td>\n      <td>True</td>\n      <td>True</td>\n    </tr>\n    <tr>\n      <th>34</th>\n      <td>479</td>\n      <td>25.855071</td>\n      <td>38.782607</td>\n      <td>77.565214</td>\n      <td>2032</td>\n      <td>174.405273</td>\n      <td>140.556717</td>\n      <td>173.793884</td>\n      <td>140.781067</td>\n      <td>-0.957560</td>\n      <td>...</td>\n      <td>517.000940</td>\n      <td>0.519264</td>\n      <td>29.751661</td>\n      <td>2.858862</td>\n      <td>-2.986157</td>\n      <td>5.845019</td>\n      <td>-25.105098</td>\n      <td>25.105098</td>\n      <td>True</td>\n      <td>True</td>\n    </tr>\n    <tr>\n      <th>35</th>\n      <td>479</td>\n      <td>25.855071</td>\n      <td>38.782607</td>\n      <td>77.565214</td>\n      <td>2034</td>\n      <td>-142.166122</td>\n      <td>-184.866272</td>\n      <td>-141.595901</td>\n      <td>-185.151215</td>\n      <td>0.971780</td>\n      <td>...</td>\n      <td>312.932146</td>\n      <td>1.328947</td>\n      <td>76.143034</td>\n      <td>-0.237648</td>\n      <td>2.240267</td>\n      <td>-2.477915</td>\n      <td>-141.974068</td>\n      <td>141.974068</td>\n      <td>False</td>\n      <td>False</td>\n    </tr>\n    <tr>\n      <th>36</th>\n      <td>479</td>\n      <td>25.855071</td>\n      <td>38.782607</td>\n      <td>77.565214</td>\n      <td>2036</td>\n      <td>30.056305</td>\n      <td>177.601822</td>\n      <td>29.359741</td>\n      <td>177.646576</td>\n      <td>-0.996786</td>\n      <td>...</td>\n      <td>384.670279</td>\n      <td>1.088389</td>\n      <td>62.360092</td>\n      <td>3.107055</td>\n      <td>-2.832315</td>\n      <td>5.939370</td>\n      <td>-19.699188</td>\n      <td>19.699188</td>\n      <td>True</td>\n      <td>True</td>\n    </tr>\n    <tr>\n      <th>37</th>\n      <td>479</td>\n      <td>25.855071</td>\n      <td>38.782607</td>\n      <td>77.565214</td>\n      <td>2038</td>\n      <td>-46.286270</td>\n      <td>151.067444</td>\n      <td>-46.989700</td>\n      <td>150.969559</td>\n      <td>-0.988927</td>\n      <td>...</td>\n      <td>303.880433</td>\n      <td>1.559333</td>\n      <td>89.343221</td>\n      <td>-3.023769</td>\n      <td>-2.839025</td>\n      <td>-0.184744</td>\n      <td>-10.585043</td>\n      <td>10.585043</td>\n      <td>True</td>\n      <td>True</td>\n    </tr>\n    <tr>\n      <th>38</th>\n      <td>479</td>\n      <td>25.855071</td>\n      <td>38.782607</td>\n      <td>77.565214</td>\n      <td>2040</td>\n      <td>-228.842484</td>\n      <td>189.930756</td>\n      <td>-229.231491</td>\n      <td>189.429062</td>\n      <td>-0.600768</td>\n      <td>...</td>\n      <td>168.249481</td>\n      <td>1.568034</td>\n      <td>89.841721</td>\n      <td>-2.233185</td>\n      <td>-2.264063</td>\n      <td>0.030878</td>\n      <td>1.769160</td>\n      <td>1.769160</td>\n      <td>True</td>\n      <td>True</td>\n    </tr>\n    <tr>\n      <th>39</th>\n      <td>479</td>\n      <td>25.855071</td>\n      <td>38.782607</td>\n      <td>77.565214</td>\n      <td>2394</td>\n      <td>174.386612</td>\n      <td>140.595993</td>\n      <td>174.265701</td>\n      <td>139.895172</td>\n      <td>-0.436418</td>\n      <td>...</td>\n      <td>319.235813</td>\n      <td>0.022960</td>\n      <td>1.315484</td>\n      <td>-2.026007</td>\n      <td>-2.438236</td>\n      <td>0.412229</td>\n      <td>23.618975</td>\n      <td>23.618975</td>\n      <td>True</td>\n      <td>True</td>\n    </tr>\n    <tr>\n      <th>40</th>\n      <td>479</td>\n      <td>25.855071</td>\n      <td>38.782607</td>\n      <td>77.565214</td>\n      <td>2396</td>\n      <td>-142.138657</td>\n      <td>-184.964722</td>\n      <td>-141.608810</td>\n      <td>-184.787750</td>\n      <td>0.954317</td>\n      <td>...</td>\n      <td>139.706136</td>\n      <td>0.107462</td>\n      <td>6.157128</td>\n      <td>0.288531</td>\n      <td>1.020550</td>\n      <td>-0.732019</td>\n      <td>-41.941597</td>\n      <td>41.941597</td>\n      <td>False</td>\n      <td>True</td>\n    </tr>\n    <tr>\n      <th>41</th>\n      <td>479</td>\n      <td>25.855071</td>\n      <td>38.782607</td>\n      <td>77.565214</td>\n      <td>2398</td>\n      <td>-320.982666</td>\n      <td>77.400490</td>\n      <td>-320.531067</td>\n      <td>76.993233</td>\n      <td>0.774268</td>\n      <td>...</td>\n      <td>289.794484</td>\n      <td>0.279243</td>\n      <td>15.999448</td>\n      <td>-0.684194</td>\n      <td>-0.517168</td>\n      <td>-0.167026</td>\n      <td>-9.569867</td>\n      <td>9.569867</td>\n      <td>True</td>\n      <td>True</td>\n    </tr>\n    <tr>\n      <th>42</th>\n      <td>479</td>\n      <td>25.855071</td>\n      <td>38.782607</td>\n      <td>77.565214</td>\n      <td>2400</td>\n      <td>-54.941086</td>\n      <td>235.559967</td>\n      <td>-55.068619</td>\n      <td>235.048676</td>\n      <td>-0.336250</td>\n      <td>...</td>\n      <td>301.771517</td>\n      <td>0.273804</td>\n      <td>15.687801</td>\n      <td>-1.914514</td>\n      <td>-1.617689</td>\n      <td>-0.296826</td>\n      <td>-17.006864</td>\n      <td>17.006864</td>\n      <td>True</td>\n      <td>True</td>\n    </tr>\n    <tr>\n      <th>43</th>\n      <td>479</td>\n      <td>25.855071</td>\n      <td>38.782607</td>\n      <td>77.565214</td>\n      <td>2402</td>\n      <td>110.653900</td>\n      <td>196.823242</td>\n      <td>110.253654</td>\n      <td>196.377701</td>\n      <td>-0.712413</td>\n      <td>...</td>\n      <td>318.307361</td>\n      <td>0.086647</td>\n      <td>4.964493</td>\n      <td>-2.367357</td>\n      <td>-2.170837</td>\n      <td>-0.196520</td>\n      <td>-11.259753</td>\n      <td>11.259753</td>\n      <td>True</td>\n      <td>True</td>\n    </tr>\n    <tr>\n      <th>44</th>\n      <td>479</td>\n      <td>25.855071</td>\n      <td>38.782607</td>\n      <td>77.565214</td>\n      <td>2404</td>\n      <td>-101.042465</td>\n      <td>122.252129</td>\n      <td>-101.118759</td>\n      <td>121.867241</td>\n      <td>-0.160760</td>\n      <td>...</td>\n      <td>190.826640</td>\n      <td>0.517722</td>\n      <td>29.663297</td>\n      <td>-1.732408</td>\n      <td>-1.402544</td>\n      <td>-0.329864</td>\n      <td>-18.899807</td>\n      <td>18.899807</td>\n      <td>True</td>\n      <td>True</td>\n    </tr>\n    <tr>\n      <th>45</th>\n      <td>479</td>\n      <td>25.855071</td>\n      <td>38.782607</td>\n      <td>77.565214</td>\n      <td>2702</td>\n      <td>174.507782</td>\n      <td>140.467438</td>\n      <td>174.114182</td>\n      <td>139.964401</td>\n      <td>-0.618761</td>\n      <td>...</td>\n      <td>581.148485</td>\n      <td>0.119489</td>\n      <td>6.846207</td>\n      <td>-2.251661</td>\n      <td>-2.582418</td>\n      <td>0.330758</td>\n      <td>18.951024</td>\n      <td>18.951024</td>\n      <td>True</td>\n      <td>True</td>\n    </tr>\n    <tr>\n      <th>46</th>\n      <td>479</td>\n      <td>25.855071</td>\n      <td>38.782607</td>\n      <td>77.565214</td>\n      <td>2704</td>\n      <td>-114.266586</td>\n      <td>-139.678741</td>\n      <td>-114.977768</td>\n      <td>-139.808167</td>\n      <td>-0.995590</td>\n      <td>...</td>\n      <td>205.795099</td>\n      <td>2.389496</td>\n      <td>136.908054</td>\n      <td>-3.104013</td>\n      <td>-3.004400</td>\n      <td>-0.099614</td>\n      <td>-5.707438</td>\n      <td>5.707438</td>\n      <td>True</td>\n      <td>True</td>\n    </tr>\n    <tr>\n      <th>47</th>\n      <td>479</td>\n      <td>25.855071</td>\n      <td>38.782607</td>\n      <td>77.565214</td>\n      <td>2706</td>\n      <td>-320.999023</td>\n      <td>77.417046</td>\n      <td>-320.962708</td>\n      <td>76.737862</td>\n      <td>0.031094</td>\n      <td>...</td>\n      <td>245.257764</td>\n      <td>1.319518</td>\n      <td>75.602826</td>\n      <td>-1.539671</td>\n      <td>-1.559090</td>\n      <td>0.019419</td>\n      <td>1.112638</td>\n      <td>1.112638</td>\n      <td>True</td>\n      <td>True</td>\n    </tr>\n    <tr>\n      <th>48</th>\n      <td>479</td>\n      <td>25.855071</td>\n      <td>38.782607</td>\n      <td>77.565214</td>\n      <td>2708</td>\n      <td>-326.808716</td>\n      <td>3.788925</td>\n      <td>-327.063354</td>\n      <td>3.305054</td>\n      <td>-0.625794</td>\n      <td>...</td>\n      <td>171.832248</td>\n      <td>1.506318</td>\n      <td>86.305669</td>\n      <td>-2.261106</td>\n      <td>-1.520256</td>\n      <td>-0.740850</td>\n      <td>-42.447593</td>\n      <td>42.447593</td>\n      <td>False</td>\n      <td>True</td>\n    </tr>\n    <tr>\n      <th>49</th>\n      <td>479</td>\n      <td>25.855071</td>\n      <td>38.782607</td>\n      <td>77.565214</td>\n      <td>2710</td>\n      <td>-33.394547</td>\n      <td>-190.612823</td>\n      <td>-34.042099</td>\n      <td>-190.832947</td>\n      <td>-0.991554</td>\n      <td>...</td>\n      <td>285.643954</td>\n      <td>1.659388</td>\n      <td>95.075948</td>\n      <td>-3.056194</td>\n      <td>3.061727</td>\n      <td>-6.117921</td>\n      <td>9.468922</td>\n      <td>9.468922</td>\n      <td>True</td>\n      <td>True</td>\n    </tr>\n  </tbody>\n</table>\n<p>50 rows × 58 columns</p>\n</div>"
     },
     "execution_count": 57,
     "metadata": {},
     "output_type": "execute_result"
    }
   ],
   "source": [
    "## Add flag that's true if the puntuaction should stay false if it should go\n",
    "interQ['Flag'] =  [limit > absolut  for absolut,limit in zip(interQ['AbsolutError'],interQ['IQRlimit'])]\n",
    "interQ['Flag2'] =  [limit > absolut  for absolut,limit in zip(interQ['AbsolutError'],interQ['IQRlimit2'])]\n",
    "interQ.head(50)"
   ],
   "metadata": {
    "collapsed": false,
    "pycharm": {
     "name": "#%%\n"
    }
   }
  },
  {
   "cell_type": "code",
   "execution_count": 58,
   "outputs": [
    {
     "name": "stdout",
     "output_type": "stream",
     "text": [
      "<class 'pandas.core.frame.DataFrame'>\n",
      "Int64Index: 9408 entries, 0 to 9407\n",
      "Data columns (total 58 columns):\n",
      " #   Column                            Non-Null Count  Dtype  \n",
      "---  ------                            --------------  -----  \n",
      " 0   SubjectID                         9408 non-null   object \n",
      " 1   IQR                               9408 non-null   object \n",
      " 2   IQRlimit                          9408 non-null   object \n",
      " 3   IQRlimit2                         9408 non-null   object \n",
      " 4   Unnamed: 0                        9408 non-null   int64  \n",
      " 5   ParticipantPosition_x             9408 non-null   float64\n",
      " 6   ParticipantPosition_z             9408 non-null   float64\n",
      " 7   PointerPosition_x                 9408 non-null   float64\n",
      " 8   PointerPosition_z                 9408 non-null   float64\n",
      " 9   PointerDirection_x                9408 non-null   float64\n",
      " 10  PointerDirection_z                9408 non-null   float64\n",
      " 11  BuildingCenterWorld_z             9408 non-null   float64\n",
      " 12  BuildingCenterWorld_x             9408 non-null   float64\n",
      " 13  DistanceToParticipant             9408 non-null   float64\n",
      " 14  SignedAngle-+1802                 9408 non-null   float64\n",
      " 15  SignedAngle-+180                  9408 non-null   float64\n",
      " 16  SignedAngle360                    9408 non-null   float64\n",
      " 17  PointingTaskStartingLocations     9408 non-null   int64  \n",
      " 18  AgentID                           9408 non-null   int64  \n",
      " 19  Name                              9408 non-null   object \n",
      " 20  StartPointID                      9408 non-null   int64  \n",
      " 21  PointingTargetCondition           9408 non-null   object \n",
      " 22  Context                           9408 non-null   bool   \n",
      " 23  Agent                             9408 non-null   bool   \n",
      " 24  avatarID                          9408 non-null   int64  \n",
      " 25  AvatarPresence                    9408 non-null   bool   \n",
      " 26  AvatarPresenceCategory            9408 non-null   object \n",
      " 27  meaningful                        9408 non-null   bool   \n",
      " 28  meaningfulBuilding                9408 non-null   object \n",
      " 29  Trials                            9408 non-null   int64  \n",
      " 30  TrialNumber                       9408 non-null   int64  \n",
      " 31  StartPointID.1                    9408 non-null   int64  \n",
      " 32  ID_for_StartingPosition           9408 non-null   int64  \n",
      " 33  ImageName                         9408 non-null   object \n",
      " 34  TimeDelta                         9408 non-null   object \n",
      " 35  RT                                9408 non-null   float64\n",
      " 36  TimeOut                           9408 non-null   bool   \n",
      " 37  TimeStampBegin                    9408 non-null   object \n",
      " 38  TimeStampEnd                      9408 non-null   object \n",
      " 39  vector_PartPos                    9408 non-null   object \n",
      " 40  vector_BuildingPos                9408 non-null   object \n",
      " 41  vector_PointerPos                 9408 non-null   object \n",
      " 42  Vector_Participant-Building       9408 non-null   object \n",
      " 43  Vector_Participant-Pointer        9408 non-null   object \n",
      " 44  building-Participant_x            9408 non-null   float64\n",
      " 45  building-Participant_z            9408 non-null   float64\n",
      " 46  Dot_Pointer-Building-Participant  9408 non-null   float64\n",
      " 47  Magnitud_Participant-Pointer      9408 non-null   float64\n",
      " 48  Magnitud_Participant-Building     9408 non-null   float64\n",
      " 49  radians                           9408 non-null   float64\n",
      " 50  degrees                           9408 non-null   float64\n",
      " 51  atanPointer                       9408 non-null   float64\n",
      " 52  atanBuild-Part                    9408 non-null   float64\n",
      " 53  atanSubs                          9408 non-null   float64\n",
      " 54  rad2degree                        9408 non-null   float64\n",
      " 55  AbsolutError                      9408 non-null   float64\n",
      " 56  Flag                              9408 non-null   bool   \n",
      " 57  Flag2                             9408 non-null   bool   \n",
      "dtypes: bool(7), float64(25), int64(9), object(17)\n",
      "memory usage: 3.8+ MB\n"
     ]
    }
   ],
   "source": [
    "interQ.info()"
   ],
   "metadata": {
    "collapsed": false,
    "pycharm": {
     "name": "#%%\n"
    }
   }
  },
  {
   "cell_type": "code",
   "execution_count": 59,
   "outputs": [
    {
     "data": {
      "text/plain": "True     7534\nFalse    1874\nName: Flag, dtype: int64"
     },
     "execution_count": 59,
     "metadata": {},
     "output_type": "execute_result"
    }
   ],
   "source": [
    "interQ.Flag.value_counts()"
   ],
   "metadata": {
    "collapsed": false,
    "pycharm": {
     "name": "#%%\n"
    }
   }
  },
  {
   "cell_type": "code",
   "execution_count": 60,
   "outputs": [
    {
     "data": {
      "text/plain": "True     9146\nFalse     262\nName: Flag2, dtype: int64"
     },
     "execution_count": 60,
     "metadata": {},
     "output_type": "execute_result"
    }
   ],
   "source": [
    "interQ.Flag2.value_counts()"
   ],
   "metadata": {
    "collapsed": false,
    "pycharm": {
     "name": "#%%\n"
    }
   }
  },
  {
   "cell_type": "code",
   "execution_count": 61,
   "outputs": [
    {
     "data": {
      "text/plain": "Index(['Unnamed: 0', 'SubjectID', 'ParticipantPosition_x',\n       'ParticipantPosition_z', 'PointerPosition_x', 'PointerPosition_z',\n       'PointerDirection_x', 'PointerDirection_z', 'BuildingCenterWorld_z',\n       'BuildingCenterWorld_x', 'DistanceToParticipant', 'SignedAngle-+1802',\n       'SignedAngle-+180', 'SignedAngle360', 'PointingTaskStartingLocations',\n       'AgentID', 'Name', 'StartPointID', 'PointingTargetCondition', 'Context',\n       'Agent', 'avatarID', 'AvatarPresence', 'AvatarPresenceCategory',\n       'meaningful', 'meaningfulBuilding', 'Trials', 'TrialNumber',\n       'StartPointID.1', 'ID_for_StartingPosition', 'ImageName', 'TimeDelta',\n       'RT', 'TimeOut', 'TimeStampBegin', 'TimeStampEnd', 'vector_PartPos',\n       'vector_BuildingPos', 'vector_PointerPos',\n       'Vector_Participant-Building', 'Vector_Participant-Pointer',\n       'building-Participant_x', 'building-Participant_z',\n       'Dot_Pointer-Building-Participant', 'Magnitud_Participant-Pointer',\n       'Magnitud_Participant-Building', 'radians', 'degrees', 'atanPointer',\n       'atanBuild-Part', 'atanSubs', 'rad2degree', 'AbsolutError'],\n      dtype='object')"
     },
     "execution_count": 61,
     "metadata": {},
     "output_type": "execute_result"
    }
   ],
   "source": [
    "CoordinatesIntegrated.columns"
   ],
   "metadata": {
    "collapsed": false,
    "pycharm": {
     "name": "#%%\n"
    }
   }
  },
  {
   "cell_type": "markdown",
   "source": [
    "## First pointing trial\n",
    "\n",
    "In our design the participants have to point to targets from 28 starting locations, they switch positions every 12 trials. It would be sensible to assume that the first trial in each location can count more variance of error since they are starting to familiarize themselves with the environment."
   ],
   "metadata": {
    "collapsed": false,
    "pycharm": {
     "name": "#%% md\n"
    }
   }
  },
  {
   "cell_type": "code",
   "execution_count": 62,
   "outputs": [
    {
     "data": {
      "text/plain": "    TrialNumber  Removefirst\n0             1         True\n1            49         True\n2           173         True\n3           176         True\n4           262         True\n5           270         True\n6           277         True\n7           313         True\n8           314         True\n9           317         True\n10          321         True\n11            2         True\n12            3         True",
      "text/html": "<div>\n<style scoped>\n    .dataframe tbody tr th:only-of-type {\n        vertical-align: middle;\n    }\n\n    .dataframe tbody tr th {\n        vertical-align: top;\n    }\n\n    .dataframe thead th {\n        text-align: right;\n    }\n</style>\n<table border=\"1\" class=\"dataframe\">\n  <thead>\n    <tr style=\"text-align: right;\">\n      <th></th>\n      <th>TrialNumber</th>\n      <th>Removefirst</th>\n    </tr>\n  </thead>\n  <tbody>\n    <tr>\n      <th>0</th>\n      <td>1</td>\n      <td>True</td>\n    </tr>\n    <tr>\n      <th>1</th>\n      <td>49</td>\n      <td>True</td>\n    </tr>\n    <tr>\n      <th>2</th>\n      <td>173</td>\n      <td>True</td>\n    </tr>\n    <tr>\n      <th>3</th>\n      <td>176</td>\n      <td>True</td>\n    </tr>\n    <tr>\n      <th>4</th>\n      <td>262</td>\n      <td>True</td>\n    </tr>\n    <tr>\n      <th>5</th>\n      <td>270</td>\n      <td>True</td>\n    </tr>\n    <tr>\n      <th>6</th>\n      <td>277</td>\n      <td>True</td>\n    </tr>\n    <tr>\n      <th>7</th>\n      <td>313</td>\n      <td>True</td>\n    </tr>\n    <tr>\n      <th>8</th>\n      <td>314</td>\n      <td>True</td>\n    </tr>\n    <tr>\n      <th>9</th>\n      <td>317</td>\n      <td>True</td>\n    </tr>\n    <tr>\n      <th>10</th>\n      <td>321</td>\n      <td>True</td>\n    </tr>\n    <tr>\n      <th>11</th>\n      <td>2</td>\n      <td>True</td>\n    </tr>\n    <tr>\n      <th>12</th>\n      <td>3</td>\n      <td>True</td>\n    </tr>\n  </tbody>\n</table>\n</div>"
     },
     "execution_count": 62,
     "metadata": {},
     "output_type": "execute_result"
    }
   ],
   "source": [
    "# Flag the first trial of every starting position.\n",
    "# This has the limitation that it wrongly flags for the last trial of first pointing position\n",
    "interQ['Removefirst'] = [not (value % 12 == 0) for value in interQ['TrialNumber']]\n",
    "# The not operator it's used in this case so that all trials that stay are true and the ones to be eliminated are false\n",
    "interQ[['TrialNumber', 'Removefirst']].head(13)"
   ],
   "metadata": {
    "collapsed": false,
    "pycharm": {
     "name": "#%%\n"
    }
   }
  },
  {
   "cell_type": "code",
   "execution_count": 63,
   "outputs": [],
   "source": [
    "# Here we correct for the mistake the previous method created (i.e., deflag the 12th trial)\n",
    "interQ.loc[interQ['TrialNumber'] == 12, 'Removefirst'] = True\n",
    "# And we flag all first trials\n",
    "interQ.loc[interQ['TrialNumber'] == 1, 'Removefirst'] = False"
   ],
   "metadata": {
    "collapsed": false,
    "pycharm": {
     "name": "#%%\n"
    }
   }
  },
  {
   "cell_type": "code",
   "execution_count": 64,
   "outputs": [
    {
     "data": {
      "text/plain": "                0\ncount   28.000000\nmean   173.607143\nstd     99.399806\nmin      1.000000\n25%     93.000000\n50%    174.000000\n75%    255.000000\nmax    336.000000",
      "text/html": "<div>\n<style scoped>\n    .dataframe tbody tr th:only-of-type {\n        vertical-align: middle;\n    }\n\n    .dataframe tbody tr th {\n        vertical-align: top;\n    }\n\n    .dataframe thead th {\n        text-align: right;\n    }\n</style>\n<table border=\"1\" class=\"dataframe\">\n  <thead>\n    <tr style=\"text-align: right;\">\n      <th></th>\n      <th>0</th>\n    </tr>\n  </thead>\n  <tbody>\n    <tr>\n      <th>count</th>\n      <td>28.000000</td>\n    </tr>\n    <tr>\n      <th>mean</th>\n      <td>173.607143</td>\n    </tr>\n    <tr>\n      <th>std</th>\n      <td>99.399806</td>\n    </tr>\n    <tr>\n      <th>min</th>\n      <td>1.000000</td>\n    </tr>\n    <tr>\n      <th>25%</th>\n      <td>93.000000</td>\n    </tr>\n    <tr>\n      <th>50%</th>\n      <td>174.000000</td>\n    </tr>\n    <tr>\n      <th>75%</th>\n      <td>255.000000</td>\n    </tr>\n    <tr>\n      <th>max</th>\n      <td>336.000000</td>\n    </tr>\n  </tbody>\n</table>\n</div>"
     },
     "execution_count": 64,
     "metadata": {},
     "output_type": "execute_result"
    }
   ],
   "source": [
    "# Proof of concept: Here we retain only the flagged trials and check if the correct Trial Ids have been identified\n",
    "TeoryFirst = interQ[interQ['Removefirst'] == False].copy()\n",
    "check = pd.DataFrame(TeoryFirst['TrialNumber'].unique())\n",
    "check.describe()"
   ],
   "metadata": {
    "collapsed": false,
    "pycharm": {
     "name": "#%%\n"
    }
   }
  },
  {
   "cell_type": "code",
   "execution_count": 65,
   "outputs": [],
   "source": [
    "# Added cell to set Working Directory to your location\n",
    "os.chdir('/Users/tracysanchezpacheco/Documents/Resources')\n",
    "os.getcwd()\n",
    "interQ.to_csv('PointingTask_IQR_Final.csv')"
   ],
   "metadata": {
    "collapsed": false,
    "pycharm": {
     "name": "#%%\n"
    }
   }
  },
  {
   "cell_type": "code",
   "execution_count": 66,
   "outputs": [
    {
     "name": "stdout",
     "output_type": "stream",
     "text": [
      "<class 'pandas.core.frame.DataFrame'>\n",
      "Int64Index: 9408 entries, 0 to 9407\n",
      "Data columns (total 59 columns):\n",
      " #   Column                            Non-Null Count  Dtype  \n",
      "---  ------                            --------------  -----  \n",
      " 0   SubjectID                         9408 non-null   object \n",
      " 1   IQR                               9408 non-null   object \n",
      " 2   IQRlimit                          9408 non-null   object \n",
      " 3   IQRlimit2                         9408 non-null   object \n",
      " 4   Unnamed: 0                        9408 non-null   int64  \n",
      " 5   ParticipantPosition_x             9408 non-null   float64\n",
      " 6   ParticipantPosition_z             9408 non-null   float64\n",
      " 7   PointerPosition_x                 9408 non-null   float64\n",
      " 8   PointerPosition_z                 9408 non-null   float64\n",
      " 9   PointerDirection_x                9408 non-null   float64\n",
      " 10  PointerDirection_z                9408 non-null   float64\n",
      " 11  BuildingCenterWorld_z             9408 non-null   float64\n",
      " 12  BuildingCenterWorld_x             9408 non-null   float64\n",
      " 13  DistanceToParticipant             9408 non-null   float64\n",
      " 14  SignedAngle-+1802                 9408 non-null   float64\n",
      " 15  SignedAngle-+180                  9408 non-null   float64\n",
      " 16  SignedAngle360                    9408 non-null   float64\n",
      " 17  PointingTaskStartingLocations     9408 non-null   int64  \n",
      " 18  AgentID                           9408 non-null   int64  \n",
      " 19  Name                              9408 non-null   object \n",
      " 20  StartPointID                      9408 non-null   int64  \n",
      " 21  PointingTargetCondition           9408 non-null   object \n",
      " 22  Context                           9408 non-null   bool   \n",
      " 23  Agent                             9408 non-null   bool   \n",
      " 24  avatarID                          9408 non-null   int64  \n",
      " 25  AvatarPresence                    9408 non-null   bool   \n",
      " 26  AvatarPresenceCategory            9408 non-null   object \n",
      " 27  meaningful                        9408 non-null   bool   \n",
      " 28  meaningfulBuilding                9408 non-null   object \n",
      " 29  Trials                            9408 non-null   int64  \n",
      " 30  TrialNumber                       9408 non-null   int64  \n",
      " 31  StartPointID.1                    9408 non-null   int64  \n",
      " 32  ID_for_StartingPosition           9408 non-null   int64  \n",
      " 33  ImageName                         9408 non-null   object \n",
      " 34  TimeDelta                         9408 non-null   object \n",
      " 35  RT                                9408 non-null   float64\n",
      " 36  TimeOut                           9408 non-null   bool   \n",
      " 37  TimeStampBegin                    9408 non-null   object \n",
      " 38  TimeStampEnd                      9408 non-null   object \n",
      " 39  vector_PartPos                    9408 non-null   object \n",
      " 40  vector_BuildingPos                9408 non-null   object \n",
      " 41  vector_PointerPos                 9408 non-null   object \n",
      " 42  Vector_Participant-Building       9408 non-null   object \n",
      " 43  Vector_Participant-Pointer        9408 non-null   object \n",
      " 44  building-Participant_x            9408 non-null   float64\n",
      " 45  building-Participant_z            9408 non-null   float64\n",
      " 46  Dot_Pointer-Building-Participant  9408 non-null   float64\n",
      " 47  Magnitud_Participant-Pointer      9408 non-null   float64\n",
      " 48  Magnitud_Participant-Building     9408 non-null   float64\n",
      " 49  radians                           9408 non-null   float64\n",
      " 50  degrees                           9408 non-null   float64\n",
      " 51  atanPointer                       9408 non-null   float64\n",
      " 52  atanBuild-Part                    9408 non-null   float64\n",
      " 53  atanSubs                          9408 non-null   float64\n",
      " 54  rad2degree                        9408 non-null   float64\n",
      " 55  AbsolutError                      9408 non-null   float64\n",
      " 56  Flag                              9408 non-null   bool   \n",
      " 57  Flag2                             9408 non-null   bool   \n",
      " 58  Removefirst                       9408 non-null   bool   \n",
      "dtypes: bool(8), float64(25), int64(9), object(17)\n",
      "memory usage: 3.8+ MB\n"
     ]
    }
   ],
   "source": [
    "interQ.info()"
   ],
   "metadata": {
    "collapsed": false,
    "pycharm": {
     "name": "#%%\n"
    }
   }
  },
  {
   "cell_type": "code",
   "execution_count": 67,
   "outputs": [],
   "source": [
    "#Elimininating trails were the participant ran out of time\n",
    "Clean = interQ[interQ['TimeOut']== False]"
   ],
   "metadata": {
    "collapsed": false,
    "pycharm": {
     "name": "#%%\n"
    }
   }
  },
  {
   "cell_type": "code",
   "execution_count": 68,
   "outputs": [],
   "source": [
    "PointingSum = pd.DataFrame(Clean[['SubjectID', 'AbsolutError', 'SignedAngle-+180', 'IQR', 'RT',  'DistanceToParticipant', 'PointingTaskStartingLocations',  'TrialNumber', 'StartPointID', 'ID_for_StartingPosition','avatarID', 'AvatarPresenceCategory', 'Context', 'meaningfulBuilding',  'ImageName']].values)"
   ],
   "metadata": {
    "collapsed": false,
    "pycharm": {
     "name": "#%%\n"
    }
   }
  },
  {
   "cell_type": "code",
   "execution_count": 69,
   "outputs": [
    {
     "data": {
      "text/plain": "    ID AbsolutError SignedAngle-+180        IQR         RT  \\\n0  479    26.441377        26.441377  25.855071  25.632291   \n1  479     7.299795         7.299795  25.855071   9.823777   \n2  479     22.52466        -22.52466  25.855071   2.202241   \n3  479     29.60765        -29.60765  25.855071    6.97773   \n4  479    32.524715       -32.524715  25.855071   6.163794   \n\n  DistanceToParticipant PointingTaskStartingLocations TrialNumber  \\\n0            297.913635                             7           1   \n1            173.046249                            22          49   \n2            263.186127                            18         173   \n3            263.186127                            18         176   \n4            152.117493                            19         262   \n\n  StartPointID ID_for_StartingPosition avatarID AvatarPresenceCategory  \\\n0            1                       1        5                Omitted   \n1            5                       1        5                Present   \n2           15                       5        5                Present   \n3           15                       8        5                Omitted   \n4           22                      10        5                Omitted   \n\n  Context meaningfulBuilding ImageName  \n0    True         Meaningful  05_CmANo  \n1    True         Meaningful    05_CmA  \n2    True         Meaningful    05_CmA  \n3    True         Meaningful  05_CmANo  \n4    True         Meaningful  05_CmANo  ",
      "text/html": "<div>\n<style scoped>\n    .dataframe tbody tr th:only-of-type {\n        vertical-align: middle;\n    }\n\n    .dataframe tbody tr th {\n        vertical-align: top;\n    }\n\n    .dataframe thead th {\n        text-align: right;\n    }\n</style>\n<table border=\"1\" class=\"dataframe\">\n  <thead>\n    <tr style=\"text-align: right;\">\n      <th></th>\n      <th>ID</th>\n      <th>AbsolutError</th>\n      <th>SignedAngle-+180</th>\n      <th>IQR</th>\n      <th>RT</th>\n      <th>DistanceToParticipant</th>\n      <th>PointingTaskStartingLocations</th>\n      <th>TrialNumber</th>\n      <th>StartPointID</th>\n      <th>ID_for_StartingPosition</th>\n      <th>avatarID</th>\n      <th>AvatarPresenceCategory</th>\n      <th>Context</th>\n      <th>meaningfulBuilding</th>\n      <th>ImageName</th>\n    </tr>\n  </thead>\n  <tbody>\n    <tr>\n      <th>0</th>\n      <td>479</td>\n      <td>26.441377</td>\n      <td>26.441377</td>\n      <td>25.855071</td>\n      <td>25.632291</td>\n      <td>297.913635</td>\n      <td>7</td>\n      <td>1</td>\n      <td>1</td>\n      <td>1</td>\n      <td>5</td>\n      <td>Omitted</td>\n      <td>True</td>\n      <td>Meaningful</td>\n      <td>05_CmANo</td>\n    </tr>\n    <tr>\n      <th>1</th>\n      <td>479</td>\n      <td>7.299795</td>\n      <td>7.299795</td>\n      <td>25.855071</td>\n      <td>9.823777</td>\n      <td>173.046249</td>\n      <td>22</td>\n      <td>49</td>\n      <td>5</td>\n      <td>1</td>\n      <td>5</td>\n      <td>Present</td>\n      <td>True</td>\n      <td>Meaningful</td>\n      <td>05_CmA</td>\n    </tr>\n    <tr>\n      <th>2</th>\n      <td>479</td>\n      <td>22.52466</td>\n      <td>-22.52466</td>\n      <td>25.855071</td>\n      <td>2.202241</td>\n      <td>263.186127</td>\n      <td>18</td>\n      <td>173</td>\n      <td>15</td>\n      <td>5</td>\n      <td>5</td>\n      <td>Present</td>\n      <td>True</td>\n      <td>Meaningful</td>\n      <td>05_CmA</td>\n    </tr>\n    <tr>\n      <th>3</th>\n      <td>479</td>\n      <td>29.60765</td>\n      <td>-29.60765</td>\n      <td>25.855071</td>\n      <td>6.97773</td>\n      <td>263.186127</td>\n      <td>18</td>\n      <td>176</td>\n      <td>15</td>\n      <td>8</td>\n      <td>5</td>\n      <td>Omitted</td>\n      <td>True</td>\n      <td>Meaningful</td>\n      <td>05_CmANo</td>\n    </tr>\n    <tr>\n      <th>4</th>\n      <td>479</td>\n      <td>32.524715</td>\n      <td>-32.524715</td>\n      <td>25.855071</td>\n      <td>6.163794</td>\n      <td>152.117493</td>\n      <td>19</td>\n      <td>262</td>\n      <td>22</td>\n      <td>10</td>\n      <td>5</td>\n      <td>Omitted</td>\n      <td>True</td>\n      <td>Meaningful</td>\n      <td>05_CmANo</td>\n    </tr>\n  </tbody>\n</table>\n</div>"
     },
     "execution_count": 69,
     "metadata": {},
     "output_type": "execute_result"
    }
   ],
   "source": [
    "PointingSum.columns = ['ID', 'AbsolutError', 'SignedAngle-+180', 'IQR', 'RT',  'DistanceToParticipant', 'PointingTaskStartingLocations',  'TrialNumber', 'StartPointID', 'ID_for_StartingPosition','avatarID', 'AvatarPresenceCategory', 'Context', 'meaningfulBuilding',  'ImageName']\n",
    "PointingSum.head()"
   ],
   "metadata": {
    "collapsed": false,
    "pycharm": {
     "name": "#%%\n"
    }
   }
  },
  {
   "cell_type": "code",
   "execution_count": 70,
   "outputs": [],
   "source": [
    "os.chdir('/Users/tracysanchezpacheco/Documents/Resources')\n",
    "PointingSum.to_csv('PointingSummary.csv')\n",
    "Clean.to_csv('FULL_Pointing.csv')"
   ],
   "metadata": {
    "collapsed": false,
    "pycharm": {
     "name": "#%%\n"
    }
   }
  },
  {
   "cell_type": "code",
   "execution_count": 71,
   "outputs": [
    {
     "data": {
      "text/plain": "     ImageName avatarID\n0     05_CmANo        5\n1       05_CmA        5\n2       05_CmA        5\n3     05_CmANo        5\n4     05_CmANo        5\n...        ...      ...\n9379   36_SaNo       36\n9380     36_Sa       36\n9381   36_SaNo       36\n9382   36_SaNo       36\n9383     36_Sa       36\n\n[9384 rows x 2 columns]",
      "text/html": "<div>\n<style scoped>\n    .dataframe tbody tr th:only-of-type {\n        vertical-align: middle;\n    }\n\n    .dataframe tbody tr th {\n        vertical-align: top;\n    }\n\n    .dataframe thead th {\n        text-align: right;\n    }\n</style>\n<table border=\"1\" class=\"dataframe\">\n  <thead>\n    <tr style=\"text-align: right;\">\n      <th></th>\n      <th>ImageName</th>\n      <th>avatarID</th>\n    </tr>\n  </thead>\n  <tbody>\n    <tr>\n      <th>0</th>\n      <td>05_CmANo</td>\n      <td>5</td>\n    </tr>\n    <tr>\n      <th>1</th>\n      <td>05_CmA</td>\n      <td>5</td>\n    </tr>\n    <tr>\n      <th>2</th>\n      <td>05_CmA</td>\n      <td>5</td>\n    </tr>\n    <tr>\n      <th>3</th>\n      <td>05_CmANo</td>\n      <td>5</td>\n    </tr>\n    <tr>\n      <th>4</th>\n      <td>05_CmANo</td>\n      <td>5</td>\n    </tr>\n    <tr>\n      <th>...</th>\n      <td>...</td>\n      <td>...</td>\n    </tr>\n    <tr>\n      <th>9379</th>\n      <td>36_SaNo</td>\n      <td>36</td>\n    </tr>\n    <tr>\n      <th>9380</th>\n      <td>36_Sa</td>\n      <td>36</td>\n    </tr>\n    <tr>\n      <th>9381</th>\n      <td>36_SaNo</td>\n      <td>36</td>\n    </tr>\n    <tr>\n      <th>9382</th>\n      <td>36_SaNo</td>\n      <td>36</td>\n    </tr>\n    <tr>\n      <th>9383</th>\n      <td>36_Sa</td>\n      <td>36</td>\n    </tr>\n  </tbody>\n</table>\n<p>9384 rows × 2 columns</p>\n</div>"
     },
     "execution_count": 71,
     "metadata": {},
     "output_type": "execute_result"
    }
   ],
   "source": [
    "PointingSum[['ImageName', 'avatarID']]"
   ],
   "metadata": {
    "collapsed": false,
    "pycharm": {
     "name": "#%%\n"
    }
   }
  }
 ],
 "metadata": {
  "kernelspec": {
   "display_name": "Python 3",
   "language": "python",
   "name": "python3"
  },
  "language_info": {
   "codemirror_mode": {
    "name": "ipython",
    "version": 3
   },
   "file_extension": ".py",
   "mimetype": "text/x-python",
   "name": "python",
   "nbconvert_exporter": "python",
   "pygments_lexer": "ipython3",
   "version": "3.8.8"
  }
 },
 "nbformat": 4,
 "nbformat_minor": 5
}