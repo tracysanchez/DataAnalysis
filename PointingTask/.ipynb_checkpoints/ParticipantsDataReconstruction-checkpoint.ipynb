{
 "cells": [
  {
   "cell_type": "code",
   "execution_count": null,
   "id": "9e8920fc-08ca-4f3f-9f92-41387d409eed",
   "metadata": {},
   "outputs": [],
   "source": [
    "import os\n",
    "import re\n",
    "import glob\n",
    "import pandas as pd\n",
    "import numpy as np\n",
    "import warnings\n",
    "import math\n",
    "warnings.simplefilter(action='ignore', category=FutureWarning)"
   ]
  },
  {
   "cell_type": "markdown",
   "id": "e25d9d72-7c04-4d4b-b171-c1c267eac482",
   "metadata": {},
   "source": [
    "# Extracting information from the randomization file"
   ]
  },
  {
   "cell_type": "code",
   "execution_count": null,
   "id": "073772f1-8e83-4c05-82e5-9ed9cb5b4d2b",
   "metadata": {},
   "outputs": [],
   "source": [
    "# Added cell to set Working Directory to your location\n",
    "os.chdir('/Users/tracysanchezpacheco/Documents/') \n",
    "os.getcwd()"
   ]
  },
  {
   "cell_type": "markdown",
   "id": "b628a67c-f780-4a0a-98c4-38be091be7b0",
   "metadata": {},
   "source": [
    "## Importing the individual randomization files per participant"
   ]
  },
  {
   "cell_type": "code",
   "execution_count": null,
   "id": "e094f9e0-3c08-41f3-9d0b-5ac200e8c514",
   "metadata": {},
   "outputs": [],
   "source": [
    "## Extracting all subject IDs from the data folder\n",
    "subIDs = []\n",
    "for sub in glob.glob(path):\n",
    "    if sub[15].isdigit():\n",
    "        subIDs.append(int(sub[15:19]))\n",
    "    else:\n",
    "        pass\n",
    "subIDs = np.unique(subIDs)\n",
    "print(subIDs)"
   ]
  },
  {
   "cell_type": "code",
   "execution_count": null,
   "id": "cdebedba-8ebf-4895-8edd-8907a17a8bb3",
   "metadata": {},
   "outputs": [],
   "source": [
    "# create empty dataframe\n",
    "df = pd.DataFrame()\n",
    "\n",
    "# read every file name in folder\n",
    "for filename in glob.glob(path):\n",
    "    with open(filename, 'r') as file:\n",
    "        # make json files parsable\n",
    "        data = \"[\" + file.read()\n",
    "        data = data[:len(data)-1] + \"]\"\n",
    "\n",
    "        # read data per file\n",
    "        subjectdf = pd.read_json(data)\n",
    "\n",
    "        # insert participant id in every line\n",
    "        subjectdf.insert(0, \"SubjectID\", [int(filename[15:19])] * subjectdf.shape[0], True)\n",
    "        df = df.append(subjectdf, ignore_index=True)\n",
    "df.head(8)"
   ]
  },
  {
   "cell_type": "code",
   "execution_count": null,
   "id": "eac10786-da7e-499b-aad9-8c27f0495934",
   "metadata": {},
   "outputs": [],
   "source": [
    "df.tail(10)"
   ]
  },
  {
   "cell_type": "markdown",
   "id": "77fae665-a401-443f-a779-291e96d895aa",
   "metadata": {},
   "source": [
    "## Detangling starting positions\n",
    "\n",
    "`.explote('VariableName')` is a method that transforms each element of a list-like \n",
    "**in this case the list of start locations contained on** to a row, replicating index values"
   ]
  },
  {
   "cell_type": "code",
   "execution_count": null,
   "id": "0524aed9-552a-4773-a127-de354bccf8f3",
   "metadata": {},
   "outputs": [],
   "source": [
    "StartingPoints = pd.DataFrame(df.explode('PointingTaskStartingLocations', ignore_index=True))\n",
    "StartingPoints.head(29)"
   ]
  },
  {
   "cell_type": "code",
   "execution_count": null,
   "id": "8c84ae80-c891-43c7-aff8-2bc0592f3704",
   "metadata": {},
   "outputs": [],
   "source": [
    "StartingPoints.shape"
   ]
  },
  {
   "cell_type": "code",
   "execution_count": null,
   "id": "43e344c7-c503-4b52-b976-8e183478a4a4",
   "metadata": {},
   "outputs": [],
   "source": [
    "StartingPoints = pd.DataFrame(df.explode('PointingTaskStartingLocations'))"
   ]
  },
  {
   "cell_type": "markdown",
   "id": "b0a303cd-4790-4d76-a6f4-5ca7e083dd2d",
   "metadata": {},
   "source": [
    "### Creating StartingPoint ID\n",
    "\n",
    "We have 28 starting locations, `np.arange(1,29,1)` creates a list starting at 1 and stopping at 28 in 1 unit incrementals and repeats that for the lenght of participants in the data base `len(StartingPoints.ParticipantID.unique()`."
   ]
  },
  {
   "cell_type": "code",
   "execution_count": null,
   "id": "f7808367-9c60-475a-a8d9-352e9a881671",
   "metadata": {},
   "outputs": [],
   "source": [
    "StartingPoints['StartPointID']= np.tile(np.arange(1,29,1), len(StartingPoints.ParticipantID.unique()))\n",
    "StartingPoints.head()"
   ]
  },
  {
   "cell_type": "markdown",
   "id": "e1722439-409a-4ce2-8fc7-d444726151a2",
   "metadata": {},
   "source": [
    "### Exploding the target places accordingly \n",
    "\n",
    "Since it's necessary to explote 28 diferent variables into specific row ranges, this process starts by creating a list of the future row range conditionals `ExploteID` and a list of the variables to explote `ColumnList`. \n",
    "\n",
    "This two list are then merge into a dictionary `ExploteDic`"
   ]
  },
  {
   "cell_type": "code",
   "execution_count": null,
   "id": "829b14d5-d679-42fd-8c7a-261d9217aa5b",
   "metadata": {},
   "outputs": [],
   "source": [
    "# Create list of future conditionals for query\n",
    "ExploteID = []\n",
    "for item in range(1,29):\n",
    "    step = 'StartPointID == '  + str(item)\n",
    "    ExploteID.append(step)"
   ]
  },
  {
   "cell_type": "code",
   "execution_count": null,
   "id": "3792e41e-656c-4ff6-9f1d-a139b8556e6f",
   "metadata": {},
   "outputs": [],
   "source": [
    "# Create a list of the column names of variables to explote\n",
    "ColumnList = list(StartingPoints.iloc[:,7:35].columns)"
   ]
  },
  {
   "cell_type": "code",
   "execution_count": null,
   "id": "6a9ea194-5f3c-4932-891a-f3c8341b4879",
   "metadata": {},
   "outputs": [],
   "source": [
    "# Create dictionary \n",
    "ExploteDic = dict(zip(ExploteID, ColumnList))\n",
    "ExploteDic"
   ]
  },
  {
   "cell_type": "code",
   "execution_count": null,
   "id": "c6d0182d-f030-47ed-94ae-f010b4066763",
   "metadata": {},
   "outputs": [],
   "source": [
    "def explote_multiple(dataframe, dic):\n",
    "    \n",
    "    \"\"\" Creates a list of dataframes that include one exploted variable based row conditionals derivated from\n",
    "    keys, values contain of a Dictionary\n",
    "    \n",
    "Parameters\n",
    "-------------\n",
    "     \n",
    "     dataframe: your data frame,\n",
    "     dic: Dictionary contains a list of key values that will inform a query of the df\n",
    "     and values that contain the names of columns to explote. \n",
    "returns \n",
    "----------\n",
    "\n",
    "    List of DataFrames\n",
    "     \"\"\"\n",
    "\n",
    "    tempdf = [] #Empty list to store each exploted data set\n",
    "    for conditional, variable_to_explote in dic.items():\n",
    "        data_q = dataframe.query(conditional).explode(variable_to_explote)\n",
    "        ques = pd.DataFrame(data_q)\n",
    "        tempdf.append(ques)\n",
    "    data_frames_list = pd.concat(tempdf, axis=0)\n",
    "    return data_frames_list"
   ]
  },
  {
   "cell_type": "code",
   "execution_count": null,
   "id": "4a008a6e-8b52-4b4c-8421-da523185b2a7",
   "metadata": {},
   "outputs": [],
   "source": [
    "ExploteAplication = explote_multiple(StartingPoints, ExploteDic)\n",
    "ExploteAplication.shape"
   ]
  },
  {
   "cell_type": "code",
   "execution_count": null,
   "id": "85028c07-ad16-4e17-9ddd-cd521dfea87c",
   "metadata": {},
   "outputs": [],
   "source": [
    "ExploteAplication.set_index(['ParticipantID', 'StartPointID'], inplace= True)"
   ]
  },
  {
   "cell_type": "code",
   "execution_count": null,
   "id": "9a0cb7f2-d6cd-4a31-8977-fd5d4d31f324",
   "metadata": {},
   "outputs": [],
   "source": [
    "# Probe of concept how to just retain integers AKA the exploted data\n",
    "b = pd.DataFrame( ExploteAplication['PointingTaskTargets_1'][ExploteAplication['PointingTaskTargets_1'].map(type)==int])\n",
    "b.tail()"
   ]
  },
  {
   "cell_type": "code",
   "execution_count": null,
   "id": "c68fcbd0-27a3-4f9e-ad23-b882c8b693bb",
   "metadata": {},
   "outputs": [],
   "source": [
    "def integrate_explote(dataframe, list_variables):\n",
    "    empty = []\n",
    "    for l in  list_variables:\n",
    "        step = dataframe[l][dataframe[l].map(type)==int]\n",
    "        empty.append(step)\n",
    "    finals = pd.DataFrame(pd.concat(empty, axis=0), columns= ['Target'])\n",
    "    dataframe['Trials'] = finals['Target']\n",
    "    return dataframe"
   ]
  },
  {
   "cell_type": "code",
   "execution_count": null,
   "id": "a84fb32b-ca4a-4558-9274-df9d25d00a3b",
   "metadata": {},
   "outputs": [],
   "source": [
    "Integrated = integrate_explote(ExploteAplication, ColumnList)\n",
    "Integrated.info()\n",
    "print(Integrated.tail())"
   ]
  },
  {
   "cell_type": "code",
   "execution_count": null,
   "id": "f61af9ff-c22c-4822-86e0-99a2c6d02c9e",
   "metadata": {},
   "outputs": [],
   "source": [
    "Integrated.sort_index(level= ['ParticipantID'], inplace=True)\n",
    "Integrated.head()"
   ]
  },
  {
   "cell_type": "code",
   "execution_count": null,
   "id": "a4c903af-7158-4308-b08e-b89f531b18a0",
   "metadata": {},
   "outputs": [],
   "source": [
    "Targets = Integrated.loc[:,['SubjectID','PointingTaskStartingLocations','Trials']]\n",
    "Targets.head()\n",
    "print(Targets.info())"
   ]
  },
  {
   "cell_type": "code",
   "execution_count": null,
   "id": "ffc2089a-c957-449e-9857-25a3b0584182",
   "metadata": {},
   "outputs": [],
   "source": [
    "Final = Targets\n",
    "Final['TrialID']= np.tile(np.arange(1,337,1), len(Final.SubjectID.unique()))\n",
    "Final.head()"
   ]
  },
  {
   "cell_type": "code",
   "execution_count": null,
   "id": "eb95131d-eba2-4b00-a2c0-3e9707d9cae6",
   "metadata": {},
   "outputs": [],
   "source": [
    "FinalIds = Targets.reset_index()\n",
    "FinalIds.head()"
   ]
  },
  {
   "cell_type": "markdown",
   "id": "d2a2b365-3ec2-4734-9291-fa23122dd61e",
   "metadata": {},
   "source": [
    "# Reading the participants data from the pointingTask files"
   ]
  },
  {
   "cell_type": "markdown",
   "id": "2e89e66e-a6bb-4c5b-836e-50e422781dd1",
   "metadata": {},
   "source": [
    "## Loading performance data"
   ]
  },
  {
   "cell_type": "code",
   "execution_count": null,
   "id": "fc503caa-8cce-4bd6-9687-8920a4d1aac0",
   "metadata": {},
   "outputs": [],
   "source": [
    "#Setting a new path for performance data\n",
    "path = \"Final/*.json\""
   ]
  },
  {
   "cell_type": "code",
   "execution_count": null,
   "id": "d9be0d2f-298c-4914-9cf9-34d745548752",
   "metadata": {},
   "outputs": [],
   "source": [
    "# create empty dataframe\n",
    "df = pd.DataFrame()\n",
    "\n",
    "# read every file name in folder\n",
    "for filename in glob.glob(path):\n",
    "    with open(filename, 'r') as file:\n",
    "        # make json files parsable\n",
    "        data = \"[\" + file.read()\n",
    "        data = data[:len(data)-2] + \"]\"\n",
    "\n",
    "        # read data per file\n",
    "        subjectdf = pd.read_json(data)\n",
    "\n",
    "        # insert participant id in every line\n",
    "        subjectdf.insert(0, \"SubjectID\", [int(filename[6:10])] * subjectdf.shape[0], True)\n",
    "        df = df.append(subjectdf, ignore_index=True)\n",
    "df"
   ]
  },
  {
   "cell_type": "code",
   "execution_count": null,
   "id": "a5d3a678-0b2e-476a-94d7-c8711406e6c4",
   "metadata": {},
   "outputs": [],
   "source": [
    "## Data Wrangling"
   ]
  },
  {
   "cell_type": "markdown",
   "id": "1f309bd7-0cbf-4b0b-aa52-364942b87489",
   "metadata": {},
   "source": [
    "### Avatar Categorical\n",
    "In this section the variable `'ImageName'` will be desagrated into categorical variables tha provide information about the presence and nature of avatars in the trial.\n",
    "\n",
    "  - ` extraRow ` function that creates a new variable that contains matching data from preexisting variable\n",
    "  - `'AvatarPresence'` variable that shows if the trial image contained an Avatar\n",
    "  - `'AvatarCategory'` variable that shows if the trial asked to point to a location that originally had an Action or Standing Avatar\n",
    "  - ` 'avatarIDsf' ` variable that shows the ID of the Avatar placed on the location to which the participant has to point"
   ]
  },
  {
   "cell_type": "code",
   "execution_count": null,
   "id": "5bbd7bb4-2755-4829-a72d-129ea3a1d7e4",
   "metadata": {},
   "outputs": [],
   "source": [
    "def VariableExtraction (df,yourList, variable,newVariable):\n",
    "\n",
    "    \"\"\" Creates a new variable that contains matching data from preexisting variable\n",
    "    Parameters\n",
    "\n",
    "    Parameters\n",
    "    -------------\n",
    "\n",
    "        df: your data frame,\n",
    "        yourList: List of values you want to target for the partial match search\n",
    "        variable: Variable that may contain the elements on yourlist\n",
    "        newVariable: Name for  New Variable\n",
    "\n",
    "    returns\n",
    "    ----------\n",
    "        DataFrame\n",
    "    \"\"\"\n",
    "\n",
    "    for idx, row in df.iterrows():\n",
    "        for l in yourList:\n",
    "            if l in row[variable]:\n",
    "                df.loc[idx, newVariable] = l"
   ]
  },
  {
   "cell_type": "markdown",
   "id": "23c76184-e536-468a-a9c1-0f88a2cd1d7c",
   "metadata": {},
   "source": [
    "## Extracting the Avatar number from the variable 'ImageName'"
   ]
  },
  {
   "cell_type": "code",
   "execution_count": null,
   "id": "fa5fcc91-4835-4288-af66-019fe256139a",
   "metadata": {},
   "outputs": [],
   "source": [
    "AvaIDs = []\n",
    "for idx, row in df.iterrows():\n",
    "    num = re.findall(r'\\d+', row['ImageName'])\n",
    "    AvaIDs.append(num)\n",
    "# Flatten the list: Every number was returned as a list of it's own with this we get one unified list\n",
    "avatarIDsf = [item for sublist in AvaIDs for item in sublist]"
   ]
  },
  {
   "cell_type": "code",
   "execution_count": null,
   "id": "88866c17-d04c-4890-b13c-a70f4a5bfa43",
   "metadata": {},
   "outputs": [],
   "source": [
    "#Searching for a partial string contained in the lists \"AvatarIDsf\" in variable \"ImageName\" to create a new variable \"AvatarID\"\n",
    "VariableExtraction(df,avatarIDsf,'ImageName','avatarID')\n",
    "df.head()"
   ]
  },
  {
   "cell_type": "code",
   "execution_count": null,
   "id": "cdf2f685-3cac-49d5-ace9-5badb58085b4",
   "metadata": {},
   "outputs": [],
   "source": [
    "df['AvatarPresence'] = df['ImageName'].str.contains('No')\n",
    "df.loc[:, 'AvatarPresenceCategory'] = df['AvatarPresence'].replace({True: 'NoAvatar', False: 'Avatar'})\n",
    "df.head()"
   ]
  },
  {
   "cell_type": "code",
   "execution_count": null,
   "id": "5c830d68-0da0-4d31-8ec9-b2b90ed6ecd0",
   "metadata": {},
   "outputs": [],
   "source": [
    "#Checking that value counts for Avatar presence [Should be 50/50]\n",
    "df.AvatarPresenceCategory.value_counts()"
   ]
  },
  {
   "cell_type": "code",
   "execution_count": null,
   "id": "0520fc4a-551b-4f2f-8b75-ea128bca3653",
   "metadata": {},
   "outputs": [],
   "source": [
    "df['meaningful'] = df['ImageName'].str.contains('CmA')\n",
    "df.loc[:, 'meaningfulBuilding'] = df['meaningful'].replace({True: 'Meaningful', False: 'Not meaningful'})\n",
    "df.head()"
   ]
  },
  {
   "cell_type": "code",
   "execution_count": null,
   "id": "23f787b2-8559-4fa9-832e-61bd5472eef6",
   "metadata": {},
   "outputs": [],
   "source": [
    "#Checking that value counts for Action and Standing avatars [Should be 50/50]\n",
    "df.meaningfulBuilding.value_counts()"
   ]
  },
  {
   "cell_type": "markdown",
   "id": "8423186e-7d80-497e-a306-b85e916e3cf6",
   "metadata": {},
   "source": [
    "### Unesting variables"
   ]
  },
  {
   "cell_type": "code",
   "execution_count": null,
   "id": "8888802d-ce67-455d-afef-adbfbe8749de",
   "metadata": {},
   "outputs": [],
   "source": [
    "def unnest(dframe):\n",
    "\n",
    "    \"\"\"Unnest nested data that is needed from a JSON file by inserting each coordinates\n",
    "    as a seperate column of the DataFrame.\n",
    "    This Function is specific for the variable\n",
    "Parameters\n",
    "-------------\n",
    "     dframe: your data frame\n",
    "returns\n",
    "----------\n",
    "    DataFrame\n",
    "\n",
    "    \"\"\"\n",
    "\n",
    "    TargetBuildingDirection = pd.DataFrame.from_records(dframe['TargetBuildingForward'])\n",
    "    dframe.insert(25, \"TargetBuildingDirection_z\",TargetBuildingDirection['z'], True)\n",
    "    dframe.insert(25, \"TargetBuildingDirection_y\",TargetBuildingDirection['y'], True)\n",
    "    dframe.insert(25, \"TargetBuildingDirection_x\",TargetBuildingDirection['x'], True)\n",
    "\n",
    "    TargetBuildingRotation = pd.DataFrame.from_records(dframe['TargetBuildingRotation'])\n",
    "    dframe.insert(24, \"TargetBuildingRotation_z\",TargetBuildingRotation['z'], True)\n",
    "    dframe.insert(24, \"TargetBuildingRotation_y\",TargetBuildingRotation['y'], True)\n",
    "    dframe.insert(24, \"TargetBuildingRotation_x\",TargetBuildingRotation['x'], True)\n",
    "\n",
    "    TargetBuildingPosition = pd.DataFrame.from_records(dframe['TargetBuildingPosition'])\n",
    "    dframe.insert(23, \"TargetBuildingPosition_z\",TargetBuildingPosition['z'], True)\n",
    "    dframe.insert(23, \"TargetBuildingPosition_y\",TargetBuildingPosition['y'], True)\n",
    "    dframe.insert(23, \"TargetBuildingPosition_x\",TargetBuildingPosition['x'], True)\n",
    "\n",
    "    PointerDirection = pd.DataFrame.from_records(dframe['PointerDirection'])\n",
    "    dframe.insert(21, \"PointerDirection_z\",PointerDirection['z'], True)\n",
    "    dframe.insert(21, \"PointerDirection_y\",PointerDirection['y'], True)\n",
    "    dframe.insert(21, \"PointerDirection_x\",PointerDirection['x'], True)\n",
    "\n",
    "    PointerRotation = pd.DataFrame.from_records(dframe['PointerRotation'])\n",
    "    dframe.insert(19, \"PointerRotation_z\", PointerRotation['z'], True)\n",
    "    dframe.insert(19, \"PointerRotation_y\", PointerRotation['y'], True)\n",
    "    dframe.insert(19, \"PointerRotation_x\", PointerRotation['x'], True)\n",
    "\n",
    "    PointerPosition = pd.DataFrame.from_records(dframe['PointerPosition'])\n",
    "    dframe.insert(18, \"PointerPosition_z\", PointerPosition['z'], True)\n",
    "    dframe.insert(18, \"PointerPosition_y\", PointerPosition['y'], True)\n",
    "    dframe.insert(18, \"PointerPosition_x\", PointerPosition['x'], True)\n",
    "\n",
    "    ParticipantRotation = pd.DataFrame.from_records(dframe['ParticipantRotation'])\n",
    "    dframe.insert(17, \"ParticipantRotation_z\",ParticipantRotation['z'], True)\n",
    "    dframe.insert(17, \"ParticipantRotation_y\", ParticipantRotation['y'], True)\n",
    "    dframe.insert(17, \"ParticipantRotation_x\", ParticipantRotation['x'], True)\n",
    "\n",
    "    ParticipantPosition = pd.DataFrame.from_records(dframe['ParticipantPosition'])\n",
    "    dframe.insert(16, \"ParticipantPosition_z\", ParticipantPosition['z'], True)\n",
    "    dframe.insert(16, \"ParticipantPosition_y\", ParticipantPosition['y'], True)\n",
    "    dframe.insert(16, \"ParticipantPosition_x\", ParticipantPosition['x'], True)\n",
    "\n",
    "    return dframe"
   ]
  },
  {
   "cell_type": "code",
   "execution_count": null,
   "id": "877ecfe3-118c-4345-a9a3-793a1d4c1936",
   "metadata": {},
   "outputs": [],
   "source": [
    "df = unnest(df)\n",
    "df.head()"
   ]
  },
  {
   "cell_type": "code",
   "execution_count": null,
   "id": "30d20367-2dfd-4bfd-af3a-1618b4544921",
   "metadata": {},
   "outputs": [],
   "source": [
    "df.to_csv('PointingTask.csv')"
   ]
  },
  {
   "cell_type": "code",
   "execution_count": null,
   "id": "f9a68b2c-dd7d-4aa5-b0b0-9813d64b0d7e",
   "metadata": {},
   "outputs": [],
   "source": [
    "PointingTask = pd.read_csv('/Users/tracysanchezpacheco/Documents/PointingTask.csv')"
   ]
  },
  {
   "cell_type": "code",
   "execution_count": null,
   "id": "844ae960-38e2-4eb4-aae8-803b1abd2a0b",
   "metadata": {},
   "outputs": [],
   "source": [
    "### Merging the two data frames (Data + Ids)"
   ]
  },
  {
   "cell_type": "code",
   "execution_count": null,
   "id": "e6a101ed-8db8-4ff3-9138-ef60ce7cf00f",
   "metadata": {},
   "outputs": [],
   "source": [
    "AnglesMerged = df.merge(FinalIds, how='right',\n",
    "                                      left_on=['SubjectID', 'TrialNumber'],\n",
    "                                      right_on=['SubjectID', 'TrialID'])\n",
    "FinalIds.head()"
   ]
  },
  {
   "cell_type": "code",
   "execution_count": null,
   "id": "a1013c54-0cc0-440b-8872-4f9c04fb83db",
   "metadata": {},
   "outputs": [],
   "source": [
    "AnglesMerged.columns"
   ]
  },
  {
   "cell_type": "code",
   "execution_count": null,
   "id": "b8817aa4-b434-4a55-80e8-e63b4f508249",
   "metadata": {},
   "outputs": [],
   "source": [
    "# Dropping unnecessary columns\n",
    "AnglesMerged = AnglesMerged.drop(['TriggerPressedFreq',\n",
    "                   'CancelPressedFreq', 'PhotoToCenterFreq', 'TriggerPressedTimeStamps',\n",
    "                   'CancelPressedTimeStamps', 'PhotoToCenterTimeStamps',\n",
    "                   'PhotoReleasedTimeStamps','ParticipantPosition', 'PointerPosition'], axis=1)"
   ]
  },
  {
   "cell_type": "code",
   "execution_count": null,
   "id": "b26bd0a6-4d48-4560-a72f-3524f9f9ef95",
   "metadata": {},
   "outputs": [],
   "source": [
    "# Creating trial time duration\n",
    "AnglesMerged['TimeStampEnd'] = pd.to_datetime(AnglesMerged['TimeStampEnd'])\n",
    "AnglesMerged['TimeStampBegin'] = pd.to_datetime(AnglesMerged['TimeStampBegin'])\n",
    "AnglesMerged['TimeDelta'] = AnglesMerged['TimeStampEnd'] - AnglesMerged['TimeStampBegin']"
   ]
  },
  {
   "cell_type": "markdown",
   "id": "e8fe7ba0-433c-4bdf-855a-42c21566357d",
   "metadata": {},
   "source": [
    "Checking if the columns `Trials` and `ImageIndexNumber` coincide, in theory both of them hold the buildings reference number"
   ]
  },
  {
   "cell_type": "code",
   "execution_count": null,
   "id": "a78b8b6b-a934-42d9-a59d-6e1703e56336",
   "metadata": {},
   "outputs": [],
   "source": [
    "c = AnglesMerged\n",
    "c['Equals'] = np.where((c['Trials'] == c['ImageIndexNumber']), 1, 0)"
   ]
  },
  {
   "cell_type": "code",
   "execution_count": null,
   "id": "e30f753d-bb47-4c55-b215-714f42aba4d6",
   "metadata": {},
   "outputs": [],
   "source": [
    "d = c[c['Equals'] == 0 ]\n",
    "d.head()"
   ]
  },
  {
   "cell_type": "code",
   "execution_count": null,
   "id": "ec3a1237-d858-4d4a-ab30-d4c099e872ee",
   "metadata": {},
   "outputs": [],
   "source": [
    "AnglesMerged.columns"
   ]
  },
  {
   "cell_type": "code",
   "execution_count": null,
   "id": "1b2f1d67-a11b-48e1-9d8a-9fdcb5bda876",
   "metadata": {},
   "outputs": [],
   "source": [
    "final = AnglesMerged[['SubjectID', 'ParticipantPosition_x', 'ParticipantPosition_z', 'PointerPosition_x','PointerPosition_z', 'PointerDirection_x', 'PointerDirection_z', 'PointerDirection_y',  'TargetBuildingPosition_x', 'TargetBuildingPosition_z','DistanceToParticipant','avatarID','AvatarPresence', 'AvatarPresenceCategory', 'meaningful','meaningfulBuilding','StartPointID','PointingTaskStartingLocations', 'Trials', 'TrialID', 'ImageIndexNumber','ImageName','TimeDelta','RT', 'TimeOut', 'TimeStampBegin', 'TimeStampEnd','Angle' ]]\n",
    "final.head()"
   ]
  }
 ],
 "metadata": {
  "kernelspec": {
   "display_name": "Python 3",
   "language": "python",
   "name": "python3"
  },
  "language_info": {
   "codemirror_mode": {
    "name": "ipython",
    "version": 3
   },
   "file_extension": ".py",
   "mimetype": "text/x-python",
   "name": "python",
   "nbconvert_exporter": "python",
   "pygments_lexer": "ipython3",
   "version": "3.8.8"
  }
 },
 "nbformat": 4,
 "nbformat_minor": 5
}
