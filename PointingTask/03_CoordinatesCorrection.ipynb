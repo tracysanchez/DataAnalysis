{
 "cells": [
  {
   "cell_type": "markdown",
   "id": "fff23ef0-92ba-4623-8651-643ceb400879",
   "metadata": {},
   "source": [
    "## Correcting coordinates\n",
    "Since some of the coordinates from Unity were not accurate, they were recalculated and will now be mapped on the final data frame."
   ]
  },
  {
   "cell_type": "code",
   "execution_count": 2,
   "id": "9dfd57df-255b-4a5b-9c09-1338783ec0d5",
   "metadata": {},
   "outputs": [],
   "source": [
    "import os\n",
    "import pandas as pd\n",
    "import warnings\n",
    "warnings.simplefilter(action='ignore', category=FutureWarning)"
   ]
  },
  {
   "cell_type": "markdown",
   "id": "c80c5e4e-f78c-427f-bd52-0fcb54f500c4",
   "metadata": {},
   "source": [
    "### Load corrected coordinates\n",
    "built on script `01_CoordinatesJasons`"
   ]
  },
  {
   "cell_type": "code",
   "execution_count": 3,
   "id": "60c0ca95-ff46-40d9-8bf5-82dec18be7e0",
   "metadata": {},
   "outputs": [
    {
     "data": {
      "text/plain": "   Unnamed: 0  BuildingCenterWorld.x  BuildingCenterWorld.z     Name  \\\n0           0             255.062286             -18.984482  30_SaNo   \n1           1             255.062286             -18.984482    30_Sa   \n2           2             197.370117             234.419739  3_CmANo   \n3           3             197.370117             234.419739    3_CmA   \n4           4             132.904114              29.115139   13_CmA   \n\n   PointingTargetBuildingId  BuildingID  PointingTargetId    BuildingName  \\\n0                         1           1                30  TaskBuilding_1   \n1                         1           1                30  TaskBuilding_1   \n2                         2           2                 3  TaskBuilding_2   \n3                         2           2                 3  TaskBuilding_2   \n4                         3           3                13  TaskBuilding_3   \n\n  PointingTargetCondition  Context  Agent  \n0                    SaNo    False  False  \n1                      Sa    False   True  \n2                   CmANo     True  False  \n3                     CmA     True   True  \n4                     CmA     True   True  ",
      "text/html": "<div>\n<style scoped>\n    .dataframe tbody tr th:only-of-type {\n        vertical-align: middle;\n    }\n\n    .dataframe tbody tr th {\n        vertical-align: top;\n    }\n\n    .dataframe thead th {\n        text-align: right;\n    }\n</style>\n<table border=\"1\" class=\"dataframe\">\n  <thead>\n    <tr style=\"text-align: right;\">\n      <th></th>\n      <th>Unnamed: 0</th>\n      <th>BuildingCenterWorld.x</th>\n      <th>BuildingCenterWorld.z</th>\n      <th>Name</th>\n      <th>PointingTargetBuildingId</th>\n      <th>BuildingID</th>\n      <th>PointingTargetId</th>\n      <th>BuildingName</th>\n      <th>PointingTargetCondition</th>\n      <th>Context</th>\n      <th>Agent</th>\n    </tr>\n  </thead>\n  <tbody>\n    <tr>\n      <th>0</th>\n      <td>0</td>\n      <td>255.062286</td>\n      <td>-18.984482</td>\n      <td>30_SaNo</td>\n      <td>1</td>\n      <td>1</td>\n      <td>30</td>\n      <td>TaskBuilding_1</td>\n      <td>SaNo</td>\n      <td>False</td>\n      <td>False</td>\n    </tr>\n    <tr>\n      <th>1</th>\n      <td>1</td>\n      <td>255.062286</td>\n      <td>-18.984482</td>\n      <td>30_Sa</td>\n      <td>1</td>\n      <td>1</td>\n      <td>30</td>\n      <td>TaskBuilding_1</td>\n      <td>Sa</td>\n      <td>False</td>\n      <td>True</td>\n    </tr>\n    <tr>\n      <th>2</th>\n      <td>2</td>\n      <td>197.370117</td>\n      <td>234.419739</td>\n      <td>3_CmANo</td>\n      <td>2</td>\n      <td>2</td>\n      <td>3</td>\n      <td>TaskBuilding_2</td>\n      <td>CmANo</td>\n      <td>True</td>\n      <td>False</td>\n    </tr>\n    <tr>\n      <th>3</th>\n      <td>3</td>\n      <td>197.370117</td>\n      <td>234.419739</td>\n      <td>3_CmA</td>\n      <td>2</td>\n      <td>2</td>\n      <td>3</td>\n      <td>TaskBuilding_2</td>\n      <td>CmA</td>\n      <td>True</td>\n      <td>True</td>\n    </tr>\n    <tr>\n      <th>4</th>\n      <td>4</td>\n      <td>132.904114</td>\n      <td>29.115139</td>\n      <td>13_CmA</td>\n      <td>3</td>\n      <td>3</td>\n      <td>13</td>\n      <td>TaskBuilding_3</td>\n      <td>CmA</td>\n      <td>True</td>\n      <td>True</td>\n    </tr>\n  </tbody>\n</table>\n</div>"
     },
     "execution_count": 3,
     "metadata": {},
     "output_type": "execute_result"
    }
   ],
   "source": [
    "CorrectedCoordinates = pd.read_csv('/Users/tracysanchezpacheco/Documents/Resources/BuildingCoordinates_short.csv')\n",
    "CorrectedCoordinates.head()"
   ]
  },
  {
   "cell_type": "markdown",
   "id": "92a25efc-2789-4a40-b31f-7eed9b8621f6",
   "metadata": {},
   "source": [
    "### Reading the participants data from the participants data reconstruction pipeline"
   ]
  },
  {
   "cell_type": "code",
   "execution_count": 4,
   "outputs": [
    {
     "data": {
      "text/plain": "     PointingTargetId  PointingTargetBuildingId PointingTargetCondition\n0                  30                         1                    SaNo\n1                  30                         1                      Sa\n2                   3                         2                   CmANo\n3                   3                         2                     CmA\n4                  13                         3                     CmA\n..                ...                       ...                     ...\n107                 5                        57                     CmA\n108                20                        58                     CmA\n109                20                        58                   CmANo\n110                27                        59                   CmANo\n111                27                        59                     CmA\n\n[112 rows x 3 columns]",
      "text/html": "<div>\n<style scoped>\n    .dataframe tbody tr th:only-of-type {\n        vertical-align: middle;\n    }\n\n    .dataframe tbody tr th {\n        vertical-align: top;\n    }\n\n    .dataframe thead th {\n        text-align: right;\n    }\n</style>\n<table border=\"1\" class=\"dataframe\">\n  <thead>\n    <tr style=\"text-align: right;\">\n      <th></th>\n      <th>PointingTargetId</th>\n      <th>PointingTargetBuildingId</th>\n      <th>PointingTargetCondition</th>\n    </tr>\n  </thead>\n  <tbody>\n    <tr>\n      <th>0</th>\n      <td>30</td>\n      <td>1</td>\n      <td>SaNo</td>\n    </tr>\n    <tr>\n      <th>1</th>\n      <td>30</td>\n      <td>1</td>\n      <td>Sa</td>\n    </tr>\n    <tr>\n      <th>2</th>\n      <td>3</td>\n      <td>2</td>\n      <td>CmANo</td>\n    </tr>\n    <tr>\n      <th>3</th>\n      <td>3</td>\n      <td>2</td>\n      <td>CmA</td>\n    </tr>\n    <tr>\n      <th>4</th>\n      <td>13</td>\n      <td>3</td>\n      <td>CmA</td>\n    </tr>\n    <tr>\n      <th>...</th>\n      <td>...</td>\n      <td>...</td>\n      <td>...</td>\n    </tr>\n    <tr>\n      <th>107</th>\n      <td>5</td>\n      <td>57</td>\n      <td>CmA</td>\n    </tr>\n    <tr>\n      <th>108</th>\n      <td>20</td>\n      <td>58</td>\n      <td>CmA</td>\n    </tr>\n    <tr>\n      <th>109</th>\n      <td>20</td>\n      <td>58</td>\n      <td>CmANo</td>\n    </tr>\n    <tr>\n      <th>110</th>\n      <td>27</td>\n      <td>59</td>\n      <td>CmANo</td>\n    </tr>\n    <tr>\n      <th>111</th>\n      <td>27</td>\n      <td>59</td>\n      <td>CmA</td>\n    </tr>\n  </tbody>\n</table>\n<p>112 rows × 3 columns</p>\n</div>"
     },
     "execution_count": 4,
     "metadata": {},
     "output_type": "execute_result"
    }
   ],
   "source": [
    "CorrectedCoordinates[['PointingTargetId', 'PointingTargetBuildingId', 'PointingTargetCondition']]"
   ],
   "metadata": {
    "collapsed": false,
    "pycharm": {
     "name": "#%%\n"
    }
   }
  },
  {
   "cell_type": "code",
   "execution_count": 5,
   "outputs": [
    {
     "data": {
      "text/plain": "27_CmANo    108\n41_Sa       107\n16_CmA      106\n23_CmA      102\n54_Sa       102\n           ... \n18_CmA       68\n24_CmA       67\n49_Sa        66\n32_Sa        65\n44_Sa        65\nName: ImageName, Length: 112, dtype: int64"
     },
     "execution_count": 5,
     "metadata": {},
     "output_type": "execute_result"
    }
   ],
   "source": [
    "PointingTask = pd.read_csv('/Users/tracysanchezpacheco/Documents/PointingTask.csv')\n",
    "PointingTask.ImageName.astype('category')\n",
    "PointingTask.ImageName.value_counts()"
   ],
   "metadata": {
    "collapsed": false,
    "pycharm": {
     "name": "#%%\n"
    }
   }
  },
  {
   "cell_type": "code",
   "execution_count": 6,
   "outputs": [
    {
     "data": {
      "text/plain": "   Unnamed: 0  SubjectID  ParticipantPosition_x  ParticipantPosition_z  \\\n0           0        479             174.565613             140.809692   \n1           1        479             174.531342             140.444107   \n2           2        479             174.614929             140.490997   \n3           3        479             174.621384             140.489441   \n4           4        479             174.370575             140.593613   \n\n   PointerPosition_x  PointerPosition_z  PointerDirection_x  \\\n0         174.247833         139.919708           -0.488963   \n1         174.712006         139.943497            0.164158   \n2         174.725647         139.954010            0.228637   \n3         173.795654         140.840851           -0.901066   \n4         174.177307         140.051208           -0.474947   \n\n   PointerDirection_z  PointerDirection_y  TargetBuildingPosition_x  ...  \\\n0           -0.867482            0.091598                -71.803406  ...   \n1           -0.984810            0.056574                 -3.306354  ...   \n2           -0.971968            0.054798                 -3.306354  ...   \n3            0.426233            0.080042               -236.721527  ...   \n4           -0.872370            0.115739                 96.397911  ...   \n\n   StartPointID.1  ID_for_StartingPosition  ImageIndexNumber  ImageName  \\\n0               1                        1                 9   05_CmANo   \n1               1                        2                45   23_CmANo   \n2               1                        3                44     23_CmA   \n3               1                        4                14     08_CmA   \n4               1                        5                79    40_SaNo   \n\n                   TimeDelta         RT TimeOut  \\\n0  0 days 00:00:25.632290816  25.632291   False   \n1  0 days 00:00:11.640624896  11.640625   False   \n2  0 days 00:00:03.087104768   3.087105   False   \n3  0 days 00:00:12.037424128  12.037424   False   \n4  0 days 00:00:04.494256640   4.494257   False   \n\n                  TimeStampBegin                   TimeStampEnd      Angle  \n0  2022-05-30 08:44:10.108874240  2022-05-30 08:44:35.741165056  26.484230  \n1  2022-05-30 08:44:36.005534464  2022-05-30 08:44:47.646159360  33.669758  \n2  2022-05-30 08:44:47.913008128  2022-05-30 08:44:51.000112896  37.444256  \n3  2022-05-30 08:44:51.267459072  2022-05-30 08:45:03.304883200  41.907997  \n4  2022-05-30 08:45:03.570243584  2022-05-30 08:45:08.064500224  15.833681  \n\n[5 rows x 31 columns]",
      "text/html": "<div>\n<style scoped>\n    .dataframe tbody tr th:only-of-type {\n        vertical-align: middle;\n    }\n\n    .dataframe tbody tr th {\n        vertical-align: top;\n    }\n\n    .dataframe thead th {\n        text-align: right;\n    }\n</style>\n<table border=\"1\" class=\"dataframe\">\n  <thead>\n    <tr style=\"text-align: right;\">\n      <th></th>\n      <th>Unnamed: 0</th>\n      <th>SubjectID</th>\n      <th>ParticipantPosition_x</th>\n      <th>ParticipantPosition_z</th>\n      <th>PointerPosition_x</th>\n      <th>PointerPosition_z</th>\n      <th>PointerDirection_x</th>\n      <th>PointerDirection_z</th>\n      <th>PointerDirection_y</th>\n      <th>TargetBuildingPosition_x</th>\n      <th>...</th>\n      <th>StartPointID.1</th>\n      <th>ID_for_StartingPosition</th>\n      <th>ImageIndexNumber</th>\n      <th>ImageName</th>\n      <th>TimeDelta</th>\n      <th>RT</th>\n      <th>TimeOut</th>\n      <th>TimeStampBegin</th>\n      <th>TimeStampEnd</th>\n      <th>Angle</th>\n    </tr>\n  </thead>\n  <tbody>\n    <tr>\n      <th>0</th>\n      <td>0</td>\n      <td>479</td>\n      <td>174.565613</td>\n      <td>140.809692</td>\n      <td>174.247833</td>\n      <td>139.919708</td>\n      <td>-0.488963</td>\n      <td>-0.867482</td>\n      <td>0.091598</td>\n      <td>-71.803406</td>\n      <td>...</td>\n      <td>1</td>\n      <td>1</td>\n      <td>9</td>\n      <td>05_CmANo</td>\n      <td>0 days 00:00:25.632290816</td>\n      <td>25.632291</td>\n      <td>False</td>\n      <td>2022-05-30 08:44:10.108874240</td>\n      <td>2022-05-30 08:44:35.741165056</td>\n      <td>26.484230</td>\n    </tr>\n    <tr>\n      <th>1</th>\n      <td>1</td>\n      <td>479</td>\n      <td>174.531342</td>\n      <td>140.444107</td>\n      <td>174.712006</td>\n      <td>139.943497</td>\n      <td>0.164158</td>\n      <td>-0.984810</td>\n      <td>0.056574</td>\n      <td>-3.306354</td>\n      <td>...</td>\n      <td>1</td>\n      <td>2</td>\n      <td>45</td>\n      <td>23_CmANo</td>\n      <td>0 days 00:00:11.640624896</td>\n      <td>11.640625</td>\n      <td>False</td>\n      <td>2022-05-30 08:44:36.005534464</td>\n      <td>2022-05-30 08:44:47.646159360</td>\n      <td>33.669758</td>\n    </tr>\n    <tr>\n      <th>2</th>\n      <td>2</td>\n      <td>479</td>\n      <td>174.614929</td>\n      <td>140.490997</td>\n      <td>174.725647</td>\n      <td>139.954010</td>\n      <td>0.228637</td>\n      <td>-0.971968</td>\n      <td>0.054798</td>\n      <td>-3.306354</td>\n      <td>...</td>\n      <td>1</td>\n      <td>3</td>\n      <td>44</td>\n      <td>23_CmA</td>\n      <td>0 days 00:00:03.087104768</td>\n      <td>3.087105</td>\n      <td>False</td>\n      <td>2022-05-30 08:44:47.913008128</td>\n      <td>2022-05-30 08:44:51.000112896</td>\n      <td>37.444256</td>\n    </tr>\n    <tr>\n      <th>3</th>\n      <td>3</td>\n      <td>479</td>\n      <td>174.621384</td>\n      <td>140.489441</td>\n      <td>173.795654</td>\n      <td>140.840851</td>\n      <td>-0.901066</td>\n      <td>0.426233</td>\n      <td>0.080042</td>\n      <td>-236.721527</td>\n      <td>...</td>\n      <td>1</td>\n      <td>4</td>\n      <td>14</td>\n      <td>08_CmA</td>\n      <td>0 days 00:00:12.037424128</td>\n      <td>12.037424</td>\n      <td>False</td>\n      <td>2022-05-30 08:44:51.267459072</td>\n      <td>2022-05-30 08:45:03.304883200</td>\n      <td>41.907997</td>\n    </tr>\n    <tr>\n      <th>4</th>\n      <td>4</td>\n      <td>479</td>\n      <td>174.370575</td>\n      <td>140.593613</td>\n      <td>174.177307</td>\n      <td>140.051208</td>\n      <td>-0.474947</td>\n      <td>-0.872370</td>\n      <td>0.115739</td>\n      <td>96.397911</td>\n      <td>...</td>\n      <td>1</td>\n      <td>5</td>\n      <td>79</td>\n      <td>40_SaNo</td>\n      <td>0 days 00:00:04.494256640</td>\n      <td>4.494257</td>\n      <td>False</td>\n      <td>2022-05-30 08:45:03.570243584</td>\n      <td>2022-05-30 08:45:08.064500224</td>\n      <td>15.833681</td>\n    </tr>\n  </tbody>\n</table>\n<p>5 rows × 31 columns</p>\n</div>"
     },
     "execution_count": 6,
     "metadata": {},
     "output_type": "execute_result"
    }
   ],
   "source": [
    "PointingTask.head()"
   ],
   "metadata": {
    "collapsed": false,
    "pycharm": {
     "name": "#%%\n"
    }
   }
  },
  {
   "cell_type": "code",
   "execution_count": 7,
   "id": "52e64466-58fb-43ef-b530-c1a800585f31",
   "metadata": {},
   "outputs": [
    {
     "name": "stdout",
     "output_type": "stream",
     "text": [
      "<class 'pandas.core.frame.DataFrame'>\n",
      "Int64Index: 18816 entries, 0 to 18815\n",
      "Data columns (total 42 columns):\n",
      " #   Column                         Non-Null Count  Dtype  \n",
      "---  ------                         --------------  -----  \n",
      " 0   Unnamed: 0_drop                18816 non-null  int64  \n",
      " 1   SubjectID                      18816 non-null  int64  \n",
      " 2   ParticipantPosition_x          18816 non-null  float64\n",
      " 3   ParticipantPosition_z          18816 non-null  float64\n",
      " 4   PointerPosition_x              18816 non-null  float64\n",
      " 5   PointerPosition_z              18816 non-null  float64\n",
      " 6   PointerDirection_x             18816 non-null  float64\n",
      " 7   PointerDirection_z             18816 non-null  float64\n",
      " 8   PointerDirection_y             18816 non-null  float64\n",
      " 9   TargetBuildingPosition_x       18816 non-null  float64\n",
      " 10  TargetBuildingPosition_z       18816 non-null  float64\n",
      " 11  DistanceToParticipant          18816 non-null  float64\n",
      " 12  avatarID                       18816 non-null  int64  \n",
      " 13  AvatarPresence                 18816 non-null  bool   \n",
      " 14  AvatarPresenceCategory         18816 non-null  object \n",
      " 15  meaningful                     18816 non-null  bool   \n",
      " 16  meaningfulBuilding             18816 non-null  object \n",
      " 17  StartPointID                   18816 non-null  int64  \n",
      " 18  PointingTaskStartingLocations  18816 non-null  int64  \n",
      " 19  Trials                         18816 non-null  int64  \n",
      " 20  TrialNumber                    18816 non-null  int64  \n",
      " 21  StartPointID.1                 18816 non-null  int64  \n",
      " 22  ID_for_StartingPosition        18816 non-null  int64  \n",
      " 23  ImageIndexNumber               18816 non-null  int64  \n",
      " 24  ImageName                      18816 non-null  object \n",
      " 25  TimeDelta                      18816 non-null  object \n",
      " 26  RT                             18816 non-null  float64\n",
      " 27  TimeOut                        18816 non-null  bool   \n",
      " 28  TimeStampBegin                 18816 non-null  object \n",
      " 29  TimeStampEnd                   18816 non-null  object \n",
      " 30  Angle                          18816 non-null  float64\n",
      " 31  Unnamed: 0_keep                18816 non-null  int64  \n",
      " 32  BuildingCenterWorld.x          18816 non-null  float64\n",
      " 33  BuildingCenterWorld.z          18816 non-null  float64\n",
      " 34  Name                           18816 non-null  object \n",
      " 35  PointingTargetBuildingId       18816 non-null  int64  \n",
      " 36  BuildingID                     18816 non-null  int64  \n",
      " 37  PointingTargetId               18816 non-null  int64  \n",
      " 38  BuildingName                   18816 non-null  object \n",
      " 39  PointingTargetCondition        18816 non-null  object \n",
      " 40  Context                        18816 non-null  bool   \n",
      " 41  Agent                          18816 non-null  bool   \n",
      "dtypes: bool(5), float64(14), int64(14), object(9)\n",
      "memory usage: 5.5+ MB\n"
     ]
    }
   ],
   "source": [
    "#Merging the updated set of coordinates from new list with final participant data set\n",
    "CoordinatesIntegrated = pd.merge(PointingTask, CorrectedCoordinates,\n",
    "                                 left_on= ['avatarID' , 'meaningful'],\n",
    "                                 right_on=['PointingTargetId','Context'],\n",
    "                                 how='outer',\n",
    "                                 suffixes= ['_drop','_keep'])\n",
    "CoordinatesIntegrated.info()"
   ]
  },
  {
   "cell_type": "code",
   "execution_count": 8,
   "outputs": [
    {
     "data": {
      "text/plain": "                       Unnamed: 0_drop  ParticipantPosition_x  \\\nSubjectID TrialNumber                                           \n479       1                          2                      2   \n          2                          2                      2   \n          3                          2                      2   \n          4                          2                      2   \n          5                          2                      2   \n...                                ...                    ...   \n9601      332                        2                      2   \n          333                        2                      2   \n          334                        2                      2   \n          335                        2                      2   \n          336                        2                      2   \n\n                       ParticipantPosition_z  PointerPosition_x  \\\nSubjectID TrialNumber                                             \n479       1                                2                  2   \n          2                                2                  2   \n          3                                2                  2   \n          4                                2                  2   \n          5                                2                  2   \n...                                      ...                ...   \n9601      332                              2                  2   \n          333                              2                  2   \n          334                              2                  2   \n          335                              2                  2   \n          336                              2                  2   \n\n                       PointerPosition_z  PointerDirection_x  \\\nSubjectID TrialNumber                                          \n479       1                            2                   2   \n          2                            2                   2   \n          3                            2                   2   \n          4                            2                   2   \n          5                            2                   2   \n...                                  ...                 ...   \n9601      332                          2                   2   \n          333                          2                   2   \n          334                          2                   2   \n          335                          2                   2   \n          336                          2                   2   \n\n                       PointerDirection_z  PointerDirection_y  \\\nSubjectID TrialNumber                                           \n479       1                             2                   2   \n          2                             2                   2   \n          3                             2                   2   \n          4                             2                   2   \n          5                             2                   2   \n...                                   ...                 ...   \n9601      332                           2                   2   \n          333                           2                   2   \n          334                           2                   2   \n          335                           2                   2   \n          336                           2                   2   \n\n                       TargetBuildingPosition_x  TargetBuildingPosition_z  \\\nSubjectID TrialNumber                                                       \n479       1                                   2                         2   \n          2                                   2                         2   \n          3                                   2                         2   \n          4                                   2                         2   \n          5                                   2                         2   \n...                                         ...                       ...   \n9601      332                                 2                         2   \n          333                                 2                         2   \n          334                                 2                         2   \n          335                                 2                         2   \n          336                                 2                         2   \n\n                       ...  BuildingCenterWorld.x  BuildingCenterWorld.z  \\\nSubjectID TrialNumber  ...                                                 \n479       1            ...                      2                      2   \n          2            ...                      2                      2   \n          3            ...                      2                      2   \n          4            ...                      2                      2   \n          5            ...                      2                      2   \n...                    ...                    ...                    ...   \n9601      332          ...                      2                      2   \n          333          ...                      2                      2   \n          334          ...                      2                      2   \n          335          ...                      2                      2   \n          336          ...                      2                      2   \n\n                       Name  PointingTargetBuildingId  BuildingID  \\\nSubjectID TrialNumber                                               \n479       1               2                         2           2   \n          2               2                         2           2   \n          3               2                         2           2   \n          4               2                         2           2   \n          5               2                         2           2   \n...                     ...                       ...         ...   \n9601      332             2                         2           2   \n          333             2                         2           2   \n          334             2                         2           2   \n          335             2                         2           2   \n          336             2                         2           2   \n\n                       PointingTargetId  BuildingName  \\\nSubjectID TrialNumber                                   \n479       1                           2             2   \n          2                           2             2   \n          3                           2             2   \n          4                           2             2   \n          5                           2             2   \n...                                 ...           ...   \n9601      332                         2             2   \n          333                         2             2   \n          334                         2             2   \n          335                         2             2   \n          336                         2             2   \n\n                       PointingTargetCondition  Context  Agent  \nSubjectID TrialNumber                                           \n479       1                                  2        2      2  \n          2                                  2        2      2  \n          3                                  2        2      2  \n          4                                  2        2      2  \n          5                                  2        2      2  \n...                                        ...      ...    ...  \n9601      332                                2        2      2  \n          333                                2        2      2  \n          334                                2        2      2  \n          335                                2        2      2  \n          336                                2        2      2  \n\n[9408 rows x 40 columns]",
      "text/html": "<div>\n<style scoped>\n    .dataframe tbody tr th:only-of-type {\n        vertical-align: middle;\n    }\n\n    .dataframe tbody tr th {\n        vertical-align: top;\n    }\n\n    .dataframe thead th {\n        text-align: right;\n    }\n</style>\n<table border=\"1\" class=\"dataframe\">\n  <thead>\n    <tr style=\"text-align: right;\">\n      <th></th>\n      <th></th>\n      <th>Unnamed: 0_drop</th>\n      <th>ParticipantPosition_x</th>\n      <th>ParticipantPosition_z</th>\n      <th>PointerPosition_x</th>\n      <th>PointerPosition_z</th>\n      <th>PointerDirection_x</th>\n      <th>PointerDirection_z</th>\n      <th>PointerDirection_y</th>\n      <th>TargetBuildingPosition_x</th>\n      <th>TargetBuildingPosition_z</th>\n      <th>...</th>\n      <th>BuildingCenterWorld.x</th>\n      <th>BuildingCenterWorld.z</th>\n      <th>Name</th>\n      <th>PointingTargetBuildingId</th>\n      <th>BuildingID</th>\n      <th>PointingTargetId</th>\n      <th>BuildingName</th>\n      <th>PointingTargetCondition</th>\n      <th>Context</th>\n      <th>Agent</th>\n    </tr>\n    <tr>\n      <th>SubjectID</th>\n      <th>TrialNumber</th>\n      <th></th>\n      <th></th>\n      <th></th>\n      <th></th>\n      <th></th>\n      <th></th>\n      <th></th>\n      <th></th>\n      <th></th>\n      <th></th>\n      <th></th>\n      <th></th>\n      <th></th>\n      <th></th>\n      <th></th>\n      <th></th>\n      <th></th>\n      <th></th>\n      <th></th>\n      <th></th>\n      <th></th>\n    </tr>\n  </thead>\n  <tbody>\n    <tr>\n      <th rowspan=\"5\" valign=\"top\">479</th>\n      <th>1</th>\n      <td>2</td>\n      <td>2</td>\n      <td>2</td>\n      <td>2</td>\n      <td>2</td>\n      <td>2</td>\n      <td>2</td>\n      <td>2</td>\n      <td>2</td>\n      <td>2</td>\n      <td>...</td>\n      <td>2</td>\n      <td>2</td>\n      <td>2</td>\n      <td>2</td>\n      <td>2</td>\n      <td>2</td>\n      <td>2</td>\n      <td>2</td>\n      <td>2</td>\n      <td>2</td>\n    </tr>\n    <tr>\n      <th>2</th>\n      <td>2</td>\n      <td>2</td>\n      <td>2</td>\n      <td>2</td>\n      <td>2</td>\n      <td>2</td>\n      <td>2</td>\n      <td>2</td>\n      <td>2</td>\n      <td>2</td>\n      <td>...</td>\n      <td>2</td>\n      <td>2</td>\n      <td>2</td>\n      <td>2</td>\n      <td>2</td>\n      <td>2</td>\n      <td>2</td>\n      <td>2</td>\n      <td>2</td>\n      <td>2</td>\n    </tr>\n    <tr>\n      <th>3</th>\n      <td>2</td>\n      <td>2</td>\n      <td>2</td>\n      <td>2</td>\n      <td>2</td>\n      <td>2</td>\n      <td>2</td>\n      <td>2</td>\n      <td>2</td>\n      <td>2</td>\n      <td>...</td>\n      <td>2</td>\n      <td>2</td>\n      <td>2</td>\n      <td>2</td>\n      <td>2</td>\n      <td>2</td>\n      <td>2</td>\n      <td>2</td>\n      <td>2</td>\n      <td>2</td>\n    </tr>\n    <tr>\n      <th>4</th>\n      <td>2</td>\n      <td>2</td>\n      <td>2</td>\n      <td>2</td>\n      <td>2</td>\n      <td>2</td>\n      <td>2</td>\n      <td>2</td>\n      <td>2</td>\n      <td>2</td>\n      <td>...</td>\n      <td>2</td>\n      <td>2</td>\n      <td>2</td>\n      <td>2</td>\n      <td>2</td>\n      <td>2</td>\n      <td>2</td>\n      <td>2</td>\n      <td>2</td>\n      <td>2</td>\n    </tr>\n    <tr>\n      <th>5</th>\n      <td>2</td>\n      <td>2</td>\n      <td>2</td>\n      <td>2</td>\n      <td>2</td>\n      <td>2</td>\n      <td>2</td>\n      <td>2</td>\n      <td>2</td>\n      <td>2</td>\n      <td>...</td>\n      <td>2</td>\n      <td>2</td>\n      <td>2</td>\n      <td>2</td>\n      <td>2</td>\n      <td>2</td>\n      <td>2</td>\n      <td>2</td>\n      <td>2</td>\n      <td>2</td>\n    </tr>\n    <tr>\n      <th>...</th>\n      <th>...</th>\n      <td>...</td>\n      <td>...</td>\n      <td>...</td>\n      <td>...</td>\n      <td>...</td>\n      <td>...</td>\n      <td>...</td>\n      <td>...</td>\n      <td>...</td>\n      <td>...</td>\n      <td>...</td>\n      <td>...</td>\n      <td>...</td>\n      <td>...</td>\n      <td>...</td>\n      <td>...</td>\n      <td>...</td>\n      <td>...</td>\n      <td>...</td>\n      <td>...</td>\n      <td>...</td>\n    </tr>\n    <tr>\n      <th rowspan=\"5\" valign=\"top\">9601</th>\n      <th>332</th>\n      <td>2</td>\n      <td>2</td>\n      <td>2</td>\n      <td>2</td>\n      <td>2</td>\n      <td>2</td>\n      <td>2</td>\n      <td>2</td>\n      <td>2</td>\n      <td>2</td>\n      <td>...</td>\n      <td>2</td>\n      <td>2</td>\n      <td>2</td>\n      <td>2</td>\n      <td>2</td>\n      <td>2</td>\n      <td>2</td>\n      <td>2</td>\n      <td>2</td>\n      <td>2</td>\n    </tr>\n    <tr>\n      <th>333</th>\n      <td>2</td>\n      <td>2</td>\n      <td>2</td>\n      <td>2</td>\n      <td>2</td>\n      <td>2</td>\n      <td>2</td>\n      <td>2</td>\n      <td>2</td>\n      <td>2</td>\n      <td>...</td>\n      <td>2</td>\n      <td>2</td>\n      <td>2</td>\n      <td>2</td>\n      <td>2</td>\n      <td>2</td>\n      <td>2</td>\n      <td>2</td>\n      <td>2</td>\n      <td>2</td>\n    </tr>\n    <tr>\n      <th>334</th>\n      <td>2</td>\n      <td>2</td>\n      <td>2</td>\n      <td>2</td>\n      <td>2</td>\n      <td>2</td>\n      <td>2</td>\n      <td>2</td>\n      <td>2</td>\n      <td>2</td>\n      <td>...</td>\n      <td>2</td>\n      <td>2</td>\n      <td>2</td>\n      <td>2</td>\n      <td>2</td>\n      <td>2</td>\n      <td>2</td>\n      <td>2</td>\n      <td>2</td>\n      <td>2</td>\n    </tr>\n    <tr>\n      <th>335</th>\n      <td>2</td>\n      <td>2</td>\n      <td>2</td>\n      <td>2</td>\n      <td>2</td>\n      <td>2</td>\n      <td>2</td>\n      <td>2</td>\n      <td>2</td>\n      <td>2</td>\n      <td>...</td>\n      <td>2</td>\n      <td>2</td>\n      <td>2</td>\n      <td>2</td>\n      <td>2</td>\n      <td>2</td>\n      <td>2</td>\n      <td>2</td>\n      <td>2</td>\n      <td>2</td>\n    </tr>\n    <tr>\n      <th>336</th>\n      <td>2</td>\n      <td>2</td>\n      <td>2</td>\n      <td>2</td>\n      <td>2</td>\n      <td>2</td>\n      <td>2</td>\n      <td>2</td>\n      <td>2</td>\n      <td>2</td>\n      <td>...</td>\n      <td>2</td>\n      <td>2</td>\n      <td>2</td>\n      <td>2</td>\n      <td>2</td>\n      <td>2</td>\n      <td>2</td>\n      <td>2</td>\n      <td>2</td>\n      <td>2</td>\n    </tr>\n  </tbody>\n</table>\n<p>9408 rows × 40 columns</p>\n</div>"
     },
     "execution_count": 8,
     "metadata": {},
     "output_type": "execute_result"
    }
   ],
   "source": [
    "CoordinatesIntegrated.groupby(['SubjectID', 'TrialNumber']).count()"
   ],
   "metadata": {
    "collapsed": false,
    "pycharm": {
     "name": "#%%\n"
    }
   }
  },
  {
   "cell_type": "code",
   "execution_count": 9,
   "outputs": [],
   "source": [
    "CoordinatesIntegrated.rename(columns={\"BuildingCenterWorld.z\": \"BuildingCenterWorld_z\", \"BuildingCenterWorld.x\": \"BuildingCenterWorld_x\"}, inplace=True)"
   ],
   "metadata": {
    "collapsed": false,
    "pycharm": {
     "name": "#%%\n"
    }
   }
  },
  {
   "cell_type": "code",
   "execution_count": 10,
   "id": "f56ba8c5-4fca-440d-9358-60341535c203",
   "metadata": {},
   "outputs": [],
   "source": [
    "CoordinatesIntegrated = CoordinatesIntegrated[['SubjectID',\n",
    "                                               'ParticipantPosition_x', 'ParticipantPosition_z',\n",
    "                                               'PointerPosition_x','PointerPosition_z',\n",
    "                                               'PointerDirection_x', 'PointerDirection_z',\n",
    "                                               'BuildingCenterWorld_z', 'BuildingCenterWorld_x', 'DistanceToParticipant',\n",
    "                                               'PointingTaskStartingLocations','PointingTargetId', 'Name',\n",
    "                                               'StartPointID','PointingTargetCondition', 'Context', 'Agent', 'avatarID','AvatarPresence', 'AvatarPresenceCategory', 'meaningful','meaningfulBuilding',\n",
    "                                               'Trials', 'TrialNumber', 'StartPointID' ,'ID_for_StartingPosition','ImageName',\n",
    "                                               'TimeDelta','RT', 'TimeOut', 'TimeStampBegin', 'TimeStampEnd']]"
   ]
  },
  {
   "cell_type": "code",
   "execution_count": 11,
   "outputs": [
    {
     "name": "stdout",
     "output_type": "stream",
     "text": [
      "<class 'pandas.core.frame.DataFrame'>\n",
      "Int64Index: 9408 entries, 0 to 18814\n",
      "Data columns (total 32 columns):\n",
      " #   Column                         Non-Null Count  Dtype  \n",
      "---  ------                         --------------  -----  \n",
      " 0   SubjectID                      9408 non-null   int64  \n",
      " 1   ParticipantPosition_x          9408 non-null   float64\n",
      " 2   ParticipantPosition_z          9408 non-null   float64\n",
      " 3   PointerPosition_x              9408 non-null   float64\n",
      " 4   PointerPosition_z              9408 non-null   float64\n",
      " 5   PointerDirection_x             9408 non-null   float64\n",
      " 6   PointerDirection_z             9408 non-null   float64\n",
      " 7   BuildingCenterWorld_z          9408 non-null   float64\n",
      " 8   BuildingCenterWorld_x          9408 non-null   float64\n",
      " 9   DistanceToParticipant          9408 non-null   float64\n",
      " 10  PointingTaskStartingLocations  9408 non-null   int64  \n",
      " 11  PointingTargetId               9408 non-null   int64  \n",
      " 12  Name                           9408 non-null   object \n",
      " 13  StartPointID                   9408 non-null   int64  \n",
      " 14  PointingTargetCondition        9408 non-null   object \n",
      " 15  Context                        9408 non-null   bool   \n",
      " 16  Agent                          9408 non-null   bool   \n",
      " 17  avatarID                       9408 non-null   int64  \n",
      " 18  AvatarPresence                 9408 non-null   bool   \n",
      " 19  AvatarPresenceCategory         9408 non-null   object \n",
      " 20  meaningful                     9408 non-null   bool   \n",
      " 21  meaningfulBuilding             9408 non-null   object \n",
      " 22  Trials                         9408 non-null   int64  \n",
      " 23  TrialNumber                    9408 non-null   int64  \n",
      " 24  StartPointID                   9408 non-null   int64  \n",
      " 25  ID_for_StartingPosition        9408 non-null   int64  \n",
      " 26  ImageName                      9408 non-null   object \n",
      " 27  TimeDelta                      9408 non-null   object \n",
      " 28  RT                             9408 non-null   float64\n",
      " 29  TimeOut                        9408 non-null   bool   \n",
      " 30  TimeStampBegin                 9408 non-null   object \n",
      " 31  TimeStampEnd                   9408 non-null   object \n",
      "dtypes: bool(5), float64(10), int64(9), object(8)\n",
      "memory usage: 2.1+ MB\n"
     ]
    }
   ],
   "source": [
    "CoordinatesIntegrated.drop_duplicates(subset=['SubjectID', 'TrialNumber'], inplace=True)\n",
    "CoordinatesIntegrated.info()"
   ],
   "metadata": {
    "collapsed": false,
    "pycharm": {
     "name": "#%%\n"
    }
   }
  },
  {
   "cell_type": "code",
   "execution_count": 17,
   "outputs": [
    {
     "data": {
      "text/plain": "       AvatarPresence AvatarPresenceCategory ImageName\n0                True               NoAvatar  05_CmANo\n2               False                 Avatar    05_CmA\n4               False                 Avatar    05_CmA\n6                True               NoAvatar  05_CmANo\n8                True               NoAvatar  05_CmANo\n...               ...                    ...       ...\n18806            True               NoAvatar   36_SaNo\n18808           False                 Avatar     36_Sa\n18810            True               NoAvatar   36_SaNo\n18812            True               NoAvatar   36_SaNo\n18814           False                 Avatar     36_Sa\n\n[9408 rows x 3 columns]",
      "text/html": "<div>\n<style scoped>\n    .dataframe tbody tr th:only-of-type {\n        vertical-align: middle;\n    }\n\n    .dataframe tbody tr th {\n        vertical-align: top;\n    }\n\n    .dataframe thead th {\n        text-align: right;\n    }\n</style>\n<table border=\"1\" class=\"dataframe\">\n  <thead>\n    <tr style=\"text-align: right;\">\n      <th></th>\n      <th>AvatarPresence</th>\n      <th>AvatarPresenceCategory</th>\n      <th>ImageName</th>\n    </tr>\n  </thead>\n  <tbody>\n    <tr>\n      <th>0</th>\n      <td>True</td>\n      <td>NoAvatar</td>\n      <td>05_CmANo</td>\n    </tr>\n    <tr>\n      <th>2</th>\n      <td>False</td>\n      <td>Avatar</td>\n      <td>05_CmA</td>\n    </tr>\n    <tr>\n      <th>4</th>\n      <td>False</td>\n      <td>Avatar</td>\n      <td>05_CmA</td>\n    </tr>\n    <tr>\n      <th>6</th>\n      <td>True</td>\n      <td>NoAvatar</td>\n      <td>05_CmANo</td>\n    </tr>\n    <tr>\n      <th>8</th>\n      <td>True</td>\n      <td>NoAvatar</td>\n      <td>05_CmANo</td>\n    </tr>\n    <tr>\n      <th>...</th>\n      <td>...</td>\n      <td>...</td>\n      <td>...</td>\n    </tr>\n    <tr>\n      <th>18806</th>\n      <td>True</td>\n      <td>NoAvatar</td>\n      <td>36_SaNo</td>\n    </tr>\n    <tr>\n      <th>18808</th>\n      <td>False</td>\n      <td>Avatar</td>\n      <td>36_Sa</td>\n    </tr>\n    <tr>\n      <th>18810</th>\n      <td>True</td>\n      <td>NoAvatar</td>\n      <td>36_SaNo</td>\n    </tr>\n    <tr>\n      <th>18812</th>\n      <td>True</td>\n      <td>NoAvatar</td>\n      <td>36_SaNo</td>\n    </tr>\n    <tr>\n      <th>18814</th>\n      <td>False</td>\n      <td>Avatar</td>\n      <td>36_Sa</td>\n    </tr>\n  </tbody>\n</table>\n<p>9408 rows × 3 columns</p>\n</div>"
     },
     "execution_count": 17,
     "metadata": {},
     "output_type": "execute_result"
    }
   ],
   "source": [
    "CoordinatesIntegrated[['AvatarPresence', 'AvatarPresenceCategory', 'ImageName']]"
   ],
   "metadata": {
    "collapsed": false,
    "pycharm": {
     "name": "#%%\n"
    }
   }
  },
  {
   "cell_type": "code",
   "execution_count": 13,
   "outputs": [
    {
     "data": {
      "text/plain": "'/Users/tracysanchezpacheco/Documents/Resources'"
     },
     "execution_count": 13,
     "metadata": {},
     "output_type": "execute_result"
    }
   ],
   "source": [
    "# Added cell to set Working Directory to your location\n",
    "os.chdir('/Users/tracysanchezpacheco/Documents/Resources')\n",
    "os.getcwd()"
   ],
   "metadata": {
    "collapsed": false,
    "pycharm": {
     "name": "#%%\n"
    }
   }
  },
  {
   "cell_type": "code",
   "execution_count": 14,
   "outputs": [
    {
     "data": {
      "text/plain": "      ImageName  avatarID\n0      05_CmANo         5\n2        05_CmA         5\n4        05_CmA         5\n6      05_CmANo         5\n8      05_CmANo         5\n...         ...       ...\n18806   36_SaNo        36\n18808     36_Sa        36\n18810   36_SaNo        36\n18812   36_SaNo        36\n18814     36_Sa        36\n\n[9408 rows x 2 columns]",
      "text/html": "<div>\n<style scoped>\n    .dataframe tbody tr th:only-of-type {\n        vertical-align: middle;\n    }\n\n    .dataframe tbody tr th {\n        vertical-align: top;\n    }\n\n    .dataframe thead th {\n        text-align: right;\n    }\n</style>\n<table border=\"1\" class=\"dataframe\">\n  <thead>\n    <tr style=\"text-align: right;\">\n      <th></th>\n      <th>ImageName</th>\n      <th>avatarID</th>\n    </tr>\n  </thead>\n  <tbody>\n    <tr>\n      <th>0</th>\n      <td>05_CmANo</td>\n      <td>5</td>\n    </tr>\n    <tr>\n      <th>2</th>\n      <td>05_CmA</td>\n      <td>5</td>\n    </tr>\n    <tr>\n      <th>4</th>\n      <td>05_CmA</td>\n      <td>5</td>\n    </tr>\n    <tr>\n      <th>6</th>\n      <td>05_CmANo</td>\n      <td>5</td>\n    </tr>\n    <tr>\n      <th>8</th>\n      <td>05_CmANo</td>\n      <td>5</td>\n    </tr>\n    <tr>\n      <th>...</th>\n      <td>...</td>\n      <td>...</td>\n    </tr>\n    <tr>\n      <th>18806</th>\n      <td>36_SaNo</td>\n      <td>36</td>\n    </tr>\n    <tr>\n      <th>18808</th>\n      <td>36_Sa</td>\n      <td>36</td>\n    </tr>\n    <tr>\n      <th>18810</th>\n      <td>36_SaNo</td>\n      <td>36</td>\n    </tr>\n    <tr>\n      <th>18812</th>\n      <td>36_SaNo</td>\n      <td>36</td>\n    </tr>\n    <tr>\n      <th>18814</th>\n      <td>36_Sa</td>\n      <td>36</td>\n    </tr>\n  </tbody>\n</table>\n<p>9408 rows × 2 columns</p>\n</div>"
     },
     "execution_count": 14,
     "metadata": {},
     "output_type": "execute_result"
    }
   ],
   "source": [
    "CoordinatesIntegrated[['ImageName', 'avatarID']]"
   ],
   "metadata": {
    "collapsed": false,
    "pycharm": {
     "name": "#%%\n"
    }
   }
  },
  {
   "cell_type": "code",
   "execution_count": 15,
   "id": "82cbb607-d842-4615-b7e1-155a6fd86aec",
   "metadata": {
    "pycharm": {
     "name": "#%%\n"
    }
   },
   "outputs": [],
   "source": [
    "CoordinatesIntegrated.to_csv('PointingTask_Integrated.csv')"
   ]
  }
 ],
 "metadata": {
  "kernelspec": {
   "display_name": "Python 3",
   "language": "python",
   "name": "python3"
  },
  "language_info": {
   "codemirror_mode": {
    "name": "ipython",
    "version": 3
   },
   "file_extension": ".py",
   "mimetype": "text/x-python",
   "name": "python",
   "nbconvert_exporter": "python",
   "pygments_lexer": "ipython3",
   "version": "3.8.8"
  }
 },
 "nbformat": 4,
 "nbformat_minor": 5
}