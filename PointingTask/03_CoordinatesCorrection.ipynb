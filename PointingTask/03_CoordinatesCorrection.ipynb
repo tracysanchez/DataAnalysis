{
 "cells": [
  {
   "cell_type": "markdown",
   "id": "fff23ef0-92ba-4623-8651-643ceb400879",
   "metadata": {},
   "source": [
    "## Correcting coordinates\n",
    "Since some of the coordinates from Unity were not accurate, they were recalculated and will now be mapped on the final data frame."
   ]
  },
  {
   "cell_type": "code",
   "execution_count": 25,
   "id": "9dfd57df-255b-4a5b-9c09-1338783ec0d5",
   "metadata": {},
   "outputs": [],
   "source": [
    "import os\n",
    "import pandas as pd\n",
    "import warnings\n",
    "warnings.simplefilter(action='ignore', category=FutureWarning)"
   ]
  },
  {
   "cell_type": "markdown",
   "id": "c80c5e4e-f78c-427f-bd52-0fcb54f500c4",
   "metadata": {},
   "source": [
    "### Load corrected coordinates\n",
    "built on script `01_CoordinatesJasons`"
   ]
  },
  {
   "cell_type": "code",
   "execution_count": 26,
   "id": "60c0ca95-ff46-40d9-8bf5-82dec18be7e0",
   "metadata": {},
   "outputs": [
    {
     "data": {
      "text/plain": "   Unnamed: 0  BuildingCenterWorld.x  BuildingCenterWorld.z     Name  \\\n0           0             255.062286             -18.984482  30_SaNo   \n1           1             255.062286             -18.984482    30_Sa   \n2           2             197.370117             234.419739  3_CmANo   \n3           3             197.370117             234.419739    3_CmA   \n4           4             132.904114              29.115139   13_CmA   \n\n   PointingTargetBuildingId  BuildingID  PointingTargetId    BuildingName  \\\n0                         1           1                30  TaskBuilding_1   \n1                         1           1                30  TaskBuilding_1   \n2                         2           2                 3  TaskBuilding_2   \n3                         2           2                 3  TaskBuilding_2   \n4                         3           3                13  TaskBuilding_3   \n\n  PointingTargetCondition  Context  Agent  \n0                    SaNo    False  False  \n1                      Sa    False   True  \n2                   CmANo     True  False  \n3                     CmA     True   True  \n4                     CmA     True   True  ",
      "text/html": "<div>\n<style scoped>\n    .dataframe tbody tr th:only-of-type {\n        vertical-align: middle;\n    }\n\n    .dataframe tbody tr th {\n        vertical-align: top;\n    }\n\n    .dataframe thead th {\n        text-align: right;\n    }\n</style>\n<table border=\"1\" class=\"dataframe\">\n  <thead>\n    <tr style=\"text-align: right;\">\n      <th></th>\n      <th>Unnamed: 0</th>\n      <th>BuildingCenterWorld.x</th>\n      <th>BuildingCenterWorld.z</th>\n      <th>Name</th>\n      <th>PointingTargetBuildingId</th>\n      <th>BuildingID</th>\n      <th>PointingTargetId</th>\n      <th>BuildingName</th>\n      <th>PointingTargetCondition</th>\n      <th>Context</th>\n      <th>Agent</th>\n    </tr>\n  </thead>\n  <tbody>\n    <tr>\n      <th>0</th>\n      <td>0</td>\n      <td>255.062286</td>\n      <td>-18.984482</td>\n      <td>30_SaNo</td>\n      <td>1</td>\n      <td>1</td>\n      <td>30</td>\n      <td>TaskBuilding_1</td>\n      <td>SaNo</td>\n      <td>False</td>\n      <td>False</td>\n    </tr>\n    <tr>\n      <th>1</th>\n      <td>1</td>\n      <td>255.062286</td>\n      <td>-18.984482</td>\n      <td>30_Sa</td>\n      <td>1</td>\n      <td>1</td>\n      <td>30</td>\n      <td>TaskBuilding_1</td>\n      <td>Sa</td>\n      <td>False</td>\n      <td>True</td>\n    </tr>\n    <tr>\n      <th>2</th>\n      <td>2</td>\n      <td>197.370117</td>\n      <td>234.419739</td>\n      <td>3_CmANo</td>\n      <td>2</td>\n      <td>2</td>\n      <td>3</td>\n      <td>TaskBuilding_2</td>\n      <td>CmANo</td>\n      <td>True</td>\n      <td>False</td>\n    </tr>\n    <tr>\n      <th>3</th>\n      <td>3</td>\n      <td>197.370117</td>\n      <td>234.419739</td>\n      <td>3_CmA</td>\n      <td>2</td>\n      <td>2</td>\n      <td>3</td>\n      <td>TaskBuilding_2</td>\n      <td>CmA</td>\n      <td>True</td>\n      <td>True</td>\n    </tr>\n    <tr>\n      <th>4</th>\n      <td>4</td>\n      <td>132.904114</td>\n      <td>29.115139</td>\n      <td>13_CmA</td>\n      <td>3</td>\n      <td>3</td>\n      <td>13</td>\n      <td>TaskBuilding_3</td>\n      <td>CmA</td>\n      <td>True</td>\n      <td>True</td>\n    </tr>\n  </tbody>\n</table>\n</div>"
     },
     "execution_count": 26,
     "metadata": {},
     "output_type": "execute_result"
    }
   ],
   "source": [
    "CorrectedCoordinates = pd.read_csv('/Users/tracysanchezpacheco/Documents/Resources/BuildingCoordinates_short.csv')\n",
    "CorrectedCoordinates.head()"
   ]
  },
  {
   "cell_type": "markdown",
   "id": "92a25efc-2789-4a40-b31f-7eed9b8621f6",
   "metadata": {},
   "source": [
    "### Reading the participants data from the participants data reconstruction pipeline"
   ]
  },
  {
   "cell_type": "code",
   "execution_count": 27,
   "outputs": [
    {
     "data": {
      "text/plain": "     PointingTargetId  PointingTargetBuildingId PointingTargetCondition\n0                  30                         1                    SaNo\n1                  30                         1                      Sa\n2                   3                         2                   CmANo\n3                   3                         2                     CmA\n4                  13                         3                     CmA\n..                ...                       ...                     ...\n107                 5                        57                     CmA\n108                20                        58                     CmA\n109                20                        58                   CmANo\n110                27                        59                   CmANo\n111                27                        59                     CmA\n\n[112 rows x 3 columns]",
      "text/html": "<div>\n<style scoped>\n    .dataframe tbody tr th:only-of-type {\n        vertical-align: middle;\n    }\n\n    .dataframe tbody tr th {\n        vertical-align: top;\n    }\n\n    .dataframe thead th {\n        text-align: right;\n    }\n</style>\n<table border=\"1\" class=\"dataframe\">\n  <thead>\n    <tr style=\"text-align: right;\">\n      <th></th>\n      <th>PointingTargetId</th>\n      <th>PointingTargetBuildingId</th>\n      <th>PointingTargetCondition</th>\n    </tr>\n  </thead>\n  <tbody>\n    <tr>\n      <th>0</th>\n      <td>30</td>\n      <td>1</td>\n      <td>SaNo</td>\n    </tr>\n    <tr>\n      <th>1</th>\n      <td>30</td>\n      <td>1</td>\n      <td>Sa</td>\n    </tr>\n    <tr>\n      <th>2</th>\n      <td>3</td>\n      <td>2</td>\n      <td>CmANo</td>\n    </tr>\n    <tr>\n      <th>3</th>\n      <td>3</td>\n      <td>2</td>\n      <td>CmA</td>\n    </tr>\n    <tr>\n      <th>4</th>\n      <td>13</td>\n      <td>3</td>\n      <td>CmA</td>\n    </tr>\n    <tr>\n      <th>...</th>\n      <td>...</td>\n      <td>...</td>\n      <td>...</td>\n    </tr>\n    <tr>\n      <th>107</th>\n      <td>5</td>\n      <td>57</td>\n      <td>CmA</td>\n    </tr>\n    <tr>\n      <th>108</th>\n      <td>20</td>\n      <td>58</td>\n      <td>CmA</td>\n    </tr>\n    <tr>\n      <th>109</th>\n      <td>20</td>\n      <td>58</td>\n      <td>CmANo</td>\n    </tr>\n    <tr>\n      <th>110</th>\n      <td>27</td>\n      <td>59</td>\n      <td>CmANo</td>\n    </tr>\n    <tr>\n      <th>111</th>\n      <td>27</td>\n      <td>59</td>\n      <td>CmA</td>\n    </tr>\n  </tbody>\n</table>\n<p>112 rows × 3 columns</p>\n</div>"
     },
     "execution_count": 27,
     "metadata": {},
     "output_type": "execute_result"
    }
   ],
   "source": [
    "CorrectedCoordinates[['PointingTargetId', 'PointingTargetBuildingId', 'PointingTargetCondition']]"
   ],
   "metadata": {
    "collapsed": false,
    "pycharm": {
     "name": "#%%\n"
    }
   }
  },
  {
   "cell_type": "code",
   "execution_count": 28,
   "outputs": [
    {
     "data": {
      "text/plain": "41_Sa       92\n27_CmANo    89\n52_SaNo     88\n33_SaNo     86\n16_CmA      86\n            ..\n09_CmANo    56\n06_CmA      55\n32_Sa       53\n44_Sa       50\n24_CmA      49\nName: ImageName, Length: 112, dtype: int64"
     },
     "execution_count": 28,
     "metadata": {},
     "output_type": "execute_result"
    }
   ],
   "source": [
    "PointingTask = pd.read_csv('/Users/tracysanchezpacheco/Documents/PointingTask.csv')\n",
    "PointingTask.ImageName.astype('category')\n",
    "PointingTask.ImageName.value_counts()"
   ],
   "metadata": {
    "collapsed": false,
    "pycharm": {
     "name": "#%%\n"
    }
   }
  },
  {
   "cell_type": "code",
   "execution_count": 29,
   "outputs": [
    {
     "data": {
      "text/plain": "   Unnamed: 0  SubjectID  ParticipantPosition_x  ParticipantPosition_z  \\\n0           0        365            -114.329147            -139.997375   \n1           1        365            -114.264938            -139.996460   \n2           2        365            -114.299942            -139.961884   \n3           3        365            -114.295120            -139.949188   \n4           4        365            -114.277084            -140.014740   \n\n   PointerPosition_x  PointerPosition_z  PointerDirection_x  \\\n0        -114.236984        -139.696228           -0.055459   \n1        -114.031693        -139.985962            0.928706   \n2        -114.061569        -139.765411            0.492234   \n3        -113.934219        -139.899109            0.925734   \n4        -114.006210        -139.814026            0.587291   \n\n   PointerDirection_z  PointerDirection_y  TargetBuildingPosition_x  ...  \\\n0            0.989548            0.133112                -72.798836  ...   \n1            0.370576            0.013347                 -7.537856  ...   \n2            0.865303            0.094636                132.779266  ...   \n3            0.377881            0.014902                 87.632721  ...   \n4            0.807565            0.054103                157.620819  ...   \n\n   TrialID  ID_for_StartingPosition  ImageIndexNumber  ImageName  \\\n0        1                        1                90      46_Sa   \n1        2                        2                88      45_Sa   \n2        3                        3                25   13_CmANo   \n3        4                        4                80      41_Sa   \n4        5                        5                71    36_SaNo   \n\n                   TimeDelta         RT TimeOut  \\\n0  0 days 00:00:25.825714432  25.825715   False   \n1  0 days 00:00:25.492403456  25.492404   False   \n2  0 days 00:00:19.030518016  19.030518   False   \n3  0 days 00:00:17.538549248  17.538549   False   \n4  0 days 00:00:04.151518464   4.151519   False   \n\n                  TimeStampBegin                   TimeStampEnd      Angle  \n0  2021-11-18 10:22:23.050529792  2021-11-18 10:22:48.876244224  15.294643  \n1  2021-11-18 10:22:49.152516864  2021-11-18 10:23:14.644920320  14.686119  \n2  2021-11-18 10:23:14.911271936  2021-11-18 10:23:33.941789952  25.987650  \n3  2021-11-18 10:23:34.213599744  2021-11-18 10:23:51.752148992  20.002567  \n4  2021-11-18 10:23:52.016517632  2021-11-18 10:23:56.168036096   9.460410  \n\n[5 rows x 30 columns]",
      "text/html": "<div>\n<style scoped>\n    .dataframe tbody tr th:only-of-type {\n        vertical-align: middle;\n    }\n\n    .dataframe tbody tr th {\n        vertical-align: top;\n    }\n\n    .dataframe thead th {\n        text-align: right;\n    }\n</style>\n<table border=\"1\" class=\"dataframe\">\n  <thead>\n    <tr style=\"text-align: right;\">\n      <th></th>\n      <th>Unnamed: 0</th>\n      <th>SubjectID</th>\n      <th>ParticipantPosition_x</th>\n      <th>ParticipantPosition_z</th>\n      <th>PointerPosition_x</th>\n      <th>PointerPosition_z</th>\n      <th>PointerDirection_x</th>\n      <th>PointerDirection_z</th>\n      <th>PointerDirection_y</th>\n      <th>TargetBuildingPosition_x</th>\n      <th>...</th>\n      <th>TrialID</th>\n      <th>ID_for_StartingPosition</th>\n      <th>ImageIndexNumber</th>\n      <th>ImageName</th>\n      <th>TimeDelta</th>\n      <th>RT</th>\n      <th>TimeOut</th>\n      <th>TimeStampBegin</th>\n      <th>TimeStampEnd</th>\n      <th>Angle</th>\n    </tr>\n  </thead>\n  <tbody>\n    <tr>\n      <th>0</th>\n      <td>0</td>\n      <td>365</td>\n      <td>-114.329147</td>\n      <td>-139.997375</td>\n      <td>-114.236984</td>\n      <td>-139.696228</td>\n      <td>-0.055459</td>\n      <td>0.989548</td>\n      <td>0.133112</td>\n      <td>-72.798836</td>\n      <td>...</td>\n      <td>1</td>\n      <td>1</td>\n      <td>90</td>\n      <td>46_Sa</td>\n      <td>0 days 00:00:25.825714432</td>\n      <td>25.825715</td>\n      <td>False</td>\n      <td>2021-11-18 10:22:23.050529792</td>\n      <td>2021-11-18 10:22:48.876244224</td>\n      <td>15.294643</td>\n    </tr>\n    <tr>\n      <th>1</th>\n      <td>1</td>\n      <td>365</td>\n      <td>-114.264938</td>\n      <td>-139.996460</td>\n      <td>-114.031693</td>\n      <td>-139.985962</td>\n      <td>0.928706</td>\n      <td>0.370576</td>\n      <td>0.013347</td>\n      <td>-7.537856</td>\n      <td>...</td>\n      <td>2</td>\n      <td>2</td>\n      <td>88</td>\n      <td>45_Sa</td>\n      <td>0 days 00:00:25.492403456</td>\n      <td>25.492404</td>\n      <td>False</td>\n      <td>2021-11-18 10:22:49.152516864</td>\n      <td>2021-11-18 10:23:14.644920320</td>\n      <td>14.686119</td>\n    </tr>\n    <tr>\n      <th>2</th>\n      <td>2</td>\n      <td>365</td>\n      <td>-114.299942</td>\n      <td>-139.961884</td>\n      <td>-114.061569</td>\n      <td>-139.765411</td>\n      <td>0.492234</td>\n      <td>0.865303</td>\n      <td>0.094636</td>\n      <td>132.779266</td>\n      <td>...</td>\n      <td>3</td>\n      <td>3</td>\n      <td>25</td>\n      <td>13_CmANo</td>\n      <td>0 days 00:00:19.030518016</td>\n      <td>19.030518</td>\n      <td>False</td>\n      <td>2021-11-18 10:23:14.911271936</td>\n      <td>2021-11-18 10:23:33.941789952</td>\n      <td>25.987650</td>\n    </tr>\n    <tr>\n      <th>3</th>\n      <td>3</td>\n      <td>365</td>\n      <td>-114.295120</td>\n      <td>-139.949188</td>\n      <td>-113.934219</td>\n      <td>-139.899109</td>\n      <td>0.925734</td>\n      <td>0.377881</td>\n      <td>0.014902</td>\n      <td>87.632721</td>\n      <td>...</td>\n      <td>4</td>\n      <td>4</td>\n      <td>80</td>\n      <td>41_Sa</td>\n      <td>0 days 00:00:17.538549248</td>\n      <td>17.538549</td>\n      <td>False</td>\n      <td>2021-11-18 10:23:34.213599744</td>\n      <td>2021-11-18 10:23:51.752148992</td>\n      <td>20.002567</td>\n    </tr>\n    <tr>\n      <th>4</th>\n      <td>4</td>\n      <td>365</td>\n      <td>-114.277084</td>\n      <td>-140.014740</td>\n      <td>-114.006210</td>\n      <td>-139.814026</td>\n      <td>0.587291</td>\n      <td>0.807565</td>\n      <td>0.054103</td>\n      <td>157.620819</td>\n      <td>...</td>\n      <td>5</td>\n      <td>5</td>\n      <td>71</td>\n      <td>36_SaNo</td>\n      <td>0 days 00:00:04.151518464</td>\n      <td>4.151519</td>\n      <td>False</td>\n      <td>2021-11-18 10:23:52.016517632</td>\n      <td>2021-11-18 10:23:56.168036096</td>\n      <td>9.460410</td>\n    </tr>\n  </tbody>\n</table>\n<p>5 rows × 30 columns</p>\n</div>"
     },
     "execution_count": 29,
     "metadata": {},
     "output_type": "execute_result"
    }
   ],
   "source": [
    "PointingTask.head()"
   ],
   "metadata": {
    "collapsed": false,
    "pycharm": {
     "name": "#%%\n"
    }
   }
  },
  {
   "cell_type": "code",
   "execution_count": 30,
   "id": "52e64466-58fb-43ef-b530-c1a800585f31",
   "metadata": {},
   "outputs": [
    {
     "name": "stdout",
     "output_type": "stream",
     "text": [
      "<class 'pandas.core.frame.DataFrame'>\n",
      "Int64Index: 15456 entries, 0 to 15455\n",
      "Data columns (total 41 columns):\n",
      " #   Column                         Non-Null Count  Dtype  \n",
      "---  ------                         --------------  -----  \n",
      " 0   Unnamed: 0_drop                15456 non-null  int64  \n",
      " 1   SubjectID                      15456 non-null  int64  \n",
      " 2   ParticipantPosition_x          15456 non-null  float64\n",
      " 3   ParticipantPosition_z          15456 non-null  float64\n",
      " 4   PointerPosition_x              15456 non-null  float64\n",
      " 5   PointerPosition_z              15456 non-null  float64\n",
      " 6   PointerDirection_x             15456 non-null  float64\n",
      " 7   PointerDirection_z             15456 non-null  float64\n",
      " 8   PointerDirection_y             15456 non-null  float64\n",
      " 9   TargetBuildingPosition_x       15456 non-null  float64\n",
      " 10  TargetBuildingPosition_z       15456 non-null  float64\n",
      " 11  DistanceToParticipant          15456 non-null  float64\n",
      " 12  avatarID                       15456 non-null  int64  \n",
      " 13  AvatarPresence                 15456 non-null  bool   \n",
      " 14  AvatarPresenceCategory         15456 non-null  object \n",
      " 15  meaningful                     15456 non-null  bool   \n",
      " 16  meaningfulBuilding             15456 non-null  object \n",
      " 17  StartPointID                   15456 non-null  int64  \n",
      " 18  PointingTaskStartingLocations  15456 non-null  int64  \n",
      " 19  Trials                         15456 non-null  int64  \n",
      " 20  TrialID                        15456 non-null  int64  \n",
      " 21  ID_for_StartingPosition        15456 non-null  int64  \n",
      " 22  ImageIndexNumber               15456 non-null  int64  \n",
      " 23  ImageName                      15456 non-null  object \n",
      " 24  TimeDelta                      15456 non-null  object \n",
      " 25  RT                             15456 non-null  float64\n",
      " 26  TimeOut                        15456 non-null  bool   \n",
      " 27  TimeStampBegin                 15456 non-null  object \n",
      " 28  TimeStampEnd                   15456 non-null  object \n",
      " 29  Angle                          15456 non-null  float64\n",
      " 30  Unnamed: 0_keep                15456 non-null  int64  \n",
      " 31  BuildingCenterWorld.x          15456 non-null  float64\n",
      " 32  BuildingCenterWorld.z          15456 non-null  float64\n",
      " 33  Name                           15456 non-null  object \n",
      " 34  PointingTargetBuildingId       15456 non-null  int64  \n",
      " 35  BuildingID                     15456 non-null  int64  \n",
      " 36  PointingTargetId               15456 non-null  int64  \n",
      " 37  BuildingName                   15456 non-null  object \n",
      " 38  PointingTargetCondition        15456 non-null  object \n",
      " 39  Context                        15456 non-null  bool   \n",
      " 40  Agent                          15456 non-null  bool   \n",
      "dtypes: bool(5), float64(14), int64(13), object(9)\n",
      "memory usage: 4.4+ MB\n"
     ]
    }
   ],
   "source": [
    "#Merging the updated set of coordinates from new list with final participant data set\n",
    "CoordinatesIntegrated = pd.merge(PointingTask, CorrectedCoordinates,\n",
    "                                 left_on= ['avatarID' , 'meaningful'],\n",
    "                                 right_on=['PointingTargetId','Context'],\n",
    "                                 how='outer',\n",
    "                                 suffixes= ['_drop','_keep'])\n",
    "CoordinatesIntegrated.info()"
   ]
  },
  {
   "cell_type": "code",
   "execution_count": 31,
   "outputs": [
    {
     "data": {
      "text/plain": "                   Unnamed: 0_drop  ParticipantPosition_x  \\\nSubjectID TrialID                                           \n365       1                      2                      2   \n          2                      2                      2   \n          3                      2                      2   \n          4                      2                      2   \n          5                      2                      2   \n...                            ...                    ...   \n9601      332                    2                      2   \n          333                    2                      2   \n          334                    2                      2   \n          335                    2                      2   \n          336                    2                      2   \n\n                   ParticipantPosition_z  PointerPosition_x  \\\nSubjectID TrialID                                             \n365       1                            2                  2   \n          2                            2                  2   \n          3                            2                  2   \n          4                            2                  2   \n          5                            2                  2   \n...                                  ...                ...   \n9601      332                          2                  2   \n          333                          2                  2   \n          334                          2                  2   \n          335                          2                  2   \n          336                          2                  2   \n\n                   PointerPosition_z  PointerDirection_x  PointerDirection_z  \\\nSubjectID TrialID                                                              \n365       1                        2                   2                   2   \n          2                        2                   2                   2   \n          3                        2                   2                   2   \n          4                        2                   2                   2   \n          5                        2                   2                   2   \n...                              ...                 ...                 ...   \n9601      332                      2                   2                   2   \n          333                      2                   2                   2   \n          334                      2                   2                   2   \n          335                      2                   2                   2   \n          336                      2                   2                   2   \n\n                   PointerDirection_y  TargetBuildingPosition_x  \\\nSubjectID TrialID                                                 \n365       1                         2                         2   \n          2                         2                         2   \n          3                         2                         2   \n          4                         2                         2   \n          5                         2                         2   \n...                               ...                       ...   \n9601      332                       2                         2   \n          333                       2                         2   \n          334                       2                         2   \n          335                       2                         2   \n          336                       2                         2   \n\n                   TargetBuildingPosition_z  ...  BuildingCenterWorld.x  \\\nSubjectID TrialID                            ...                          \n365       1                               2  ...                      2   \n          2                               2  ...                      2   \n          3                               2  ...                      2   \n          4                               2  ...                      2   \n          5                               2  ...                      2   \n...                                     ...  ...                    ...   \n9601      332                             2  ...                      2   \n          333                             2  ...                      2   \n          334                             2  ...                      2   \n          335                             2  ...                      2   \n          336                             2  ...                      2   \n\n                   BuildingCenterWorld.z  Name  PointingTargetBuildingId  \\\nSubjectID TrialID                                                          \n365       1                            2     2                         2   \n          2                            2     2                         2   \n          3                            2     2                         2   \n          4                            2     2                         2   \n          5                            2     2                         2   \n...                                  ...   ...                       ...   \n9601      332                          2     2                         2   \n          333                          2     2                         2   \n          334                          2     2                         2   \n          335                          2     2                         2   \n          336                          2     2                         2   \n\n                   BuildingID  PointingTargetId  BuildingName  \\\nSubjectID TrialID                                               \n365       1                 2                 2             2   \n          2                 2                 2             2   \n          3                 2                 2             2   \n          4                 2                 2             2   \n          5                 2                 2             2   \n...                       ...               ...           ...   \n9601      332               2                 2             2   \n          333               2                 2             2   \n          334               2                 2             2   \n          335               2                 2             2   \n          336               2                 2             2   \n\n                   PointingTargetCondition  Context  Agent  \nSubjectID TrialID                                           \n365       1                              2        2      2  \n          2                              2        2      2  \n          3                              2        2      2  \n          4                              2        2      2  \n          5                              2        2      2  \n...                                    ...      ...    ...  \n9601      332                            2        2      2  \n          333                            2        2      2  \n          334                            2        2      2  \n          335                            2        2      2  \n          336                            2        2      2  \n\n[7728 rows x 39 columns]",
      "text/html": "<div>\n<style scoped>\n    .dataframe tbody tr th:only-of-type {\n        vertical-align: middle;\n    }\n\n    .dataframe tbody tr th {\n        vertical-align: top;\n    }\n\n    .dataframe thead th {\n        text-align: right;\n    }\n</style>\n<table border=\"1\" class=\"dataframe\">\n  <thead>\n    <tr style=\"text-align: right;\">\n      <th></th>\n      <th></th>\n      <th>Unnamed: 0_drop</th>\n      <th>ParticipantPosition_x</th>\n      <th>ParticipantPosition_z</th>\n      <th>PointerPosition_x</th>\n      <th>PointerPosition_z</th>\n      <th>PointerDirection_x</th>\n      <th>PointerDirection_z</th>\n      <th>PointerDirection_y</th>\n      <th>TargetBuildingPosition_x</th>\n      <th>TargetBuildingPosition_z</th>\n      <th>...</th>\n      <th>BuildingCenterWorld.x</th>\n      <th>BuildingCenterWorld.z</th>\n      <th>Name</th>\n      <th>PointingTargetBuildingId</th>\n      <th>BuildingID</th>\n      <th>PointingTargetId</th>\n      <th>BuildingName</th>\n      <th>PointingTargetCondition</th>\n      <th>Context</th>\n      <th>Agent</th>\n    </tr>\n    <tr>\n      <th>SubjectID</th>\n      <th>TrialID</th>\n      <th></th>\n      <th></th>\n      <th></th>\n      <th></th>\n      <th></th>\n      <th></th>\n      <th></th>\n      <th></th>\n      <th></th>\n      <th></th>\n      <th></th>\n      <th></th>\n      <th></th>\n      <th></th>\n      <th></th>\n      <th></th>\n      <th></th>\n      <th></th>\n      <th></th>\n      <th></th>\n      <th></th>\n    </tr>\n  </thead>\n  <tbody>\n    <tr>\n      <th rowspan=\"5\" valign=\"top\">365</th>\n      <th>1</th>\n      <td>2</td>\n      <td>2</td>\n      <td>2</td>\n      <td>2</td>\n      <td>2</td>\n      <td>2</td>\n      <td>2</td>\n      <td>2</td>\n      <td>2</td>\n      <td>2</td>\n      <td>...</td>\n      <td>2</td>\n      <td>2</td>\n      <td>2</td>\n      <td>2</td>\n      <td>2</td>\n      <td>2</td>\n      <td>2</td>\n      <td>2</td>\n      <td>2</td>\n      <td>2</td>\n    </tr>\n    <tr>\n      <th>2</th>\n      <td>2</td>\n      <td>2</td>\n      <td>2</td>\n      <td>2</td>\n      <td>2</td>\n      <td>2</td>\n      <td>2</td>\n      <td>2</td>\n      <td>2</td>\n      <td>2</td>\n      <td>...</td>\n      <td>2</td>\n      <td>2</td>\n      <td>2</td>\n      <td>2</td>\n      <td>2</td>\n      <td>2</td>\n      <td>2</td>\n      <td>2</td>\n      <td>2</td>\n      <td>2</td>\n    </tr>\n    <tr>\n      <th>3</th>\n      <td>2</td>\n      <td>2</td>\n      <td>2</td>\n      <td>2</td>\n      <td>2</td>\n      <td>2</td>\n      <td>2</td>\n      <td>2</td>\n      <td>2</td>\n      <td>2</td>\n      <td>...</td>\n      <td>2</td>\n      <td>2</td>\n      <td>2</td>\n      <td>2</td>\n      <td>2</td>\n      <td>2</td>\n      <td>2</td>\n      <td>2</td>\n      <td>2</td>\n      <td>2</td>\n    </tr>\n    <tr>\n      <th>4</th>\n      <td>2</td>\n      <td>2</td>\n      <td>2</td>\n      <td>2</td>\n      <td>2</td>\n      <td>2</td>\n      <td>2</td>\n      <td>2</td>\n      <td>2</td>\n      <td>2</td>\n      <td>...</td>\n      <td>2</td>\n      <td>2</td>\n      <td>2</td>\n      <td>2</td>\n      <td>2</td>\n      <td>2</td>\n      <td>2</td>\n      <td>2</td>\n      <td>2</td>\n      <td>2</td>\n    </tr>\n    <tr>\n      <th>5</th>\n      <td>2</td>\n      <td>2</td>\n      <td>2</td>\n      <td>2</td>\n      <td>2</td>\n      <td>2</td>\n      <td>2</td>\n      <td>2</td>\n      <td>2</td>\n      <td>2</td>\n      <td>...</td>\n      <td>2</td>\n      <td>2</td>\n      <td>2</td>\n      <td>2</td>\n      <td>2</td>\n      <td>2</td>\n      <td>2</td>\n      <td>2</td>\n      <td>2</td>\n      <td>2</td>\n    </tr>\n    <tr>\n      <th>...</th>\n      <th>...</th>\n      <td>...</td>\n      <td>...</td>\n      <td>...</td>\n      <td>...</td>\n      <td>...</td>\n      <td>...</td>\n      <td>...</td>\n      <td>...</td>\n      <td>...</td>\n      <td>...</td>\n      <td>...</td>\n      <td>...</td>\n      <td>...</td>\n      <td>...</td>\n      <td>...</td>\n      <td>...</td>\n      <td>...</td>\n      <td>...</td>\n      <td>...</td>\n      <td>...</td>\n      <td>...</td>\n    </tr>\n    <tr>\n      <th rowspan=\"5\" valign=\"top\">9601</th>\n      <th>332</th>\n      <td>2</td>\n      <td>2</td>\n      <td>2</td>\n      <td>2</td>\n      <td>2</td>\n      <td>2</td>\n      <td>2</td>\n      <td>2</td>\n      <td>2</td>\n      <td>2</td>\n      <td>...</td>\n      <td>2</td>\n      <td>2</td>\n      <td>2</td>\n      <td>2</td>\n      <td>2</td>\n      <td>2</td>\n      <td>2</td>\n      <td>2</td>\n      <td>2</td>\n      <td>2</td>\n    </tr>\n    <tr>\n      <th>333</th>\n      <td>2</td>\n      <td>2</td>\n      <td>2</td>\n      <td>2</td>\n      <td>2</td>\n      <td>2</td>\n      <td>2</td>\n      <td>2</td>\n      <td>2</td>\n      <td>2</td>\n      <td>...</td>\n      <td>2</td>\n      <td>2</td>\n      <td>2</td>\n      <td>2</td>\n      <td>2</td>\n      <td>2</td>\n      <td>2</td>\n      <td>2</td>\n      <td>2</td>\n      <td>2</td>\n    </tr>\n    <tr>\n      <th>334</th>\n      <td>2</td>\n      <td>2</td>\n      <td>2</td>\n      <td>2</td>\n      <td>2</td>\n      <td>2</td>\n      <td>2</td>\n      <td>2</td>\n      <td>2</td>\n      <td>2</td>\n      <td>...</td>\n      <td>2</td>\n      <td>2</td>\n      <td>2</td>\n      <td>2</td>\n      <td>2</td>\n      <td>2</td>\n      <td>2</td>\n      <td>2</td>\n      <td>2</td>\n      <td>2</td>\n    </tr>\n    <tr>\n      <th>335</th>\n      <td>2</td>\n      <td>2</td>\n      <td>2</td>\n      <td>2</td>\n      <td>2</td>\n      <td>2</td>\n      <td>2</td>\n      <td>2</td>\n      <td>2</td>\n      <td>2</td>\n      <td>...</td>\n      <td>2</td>\n      <td>2</td>\n      <td>2</td>\n      <td>2</td>\n      <td>2</td>\n      <td>2</td>\n      <td>2</td>\n      <td>2</td>\n      <td>2</td>\n      <td>2</td>\n    </tr>\n    <tr>\n      <th>336</th>\n      <td>2</td>\n      <td>2</td>\n      <td>2</td>\n      <td>2</td>\n      <td>2</td>\n      <td>2</td>\n      <td>2</td>\n      <td>2</td>\n      <td>2</td>\n      <td>2</td>\n      <td>...</td>\n      <td>2</td>\n      <td>2</td>\n      <td>2</td>\n      <td>2</td>\n      <td>2</td>\n      <td>2</td>\n      <td>2</td>\n      <td>2</td>\n      <td>2</td>\n      <td>2</td>\n    </tr>\n  </tbody>\n</table>\n<p>7728 rows × 39 columns</p>\n</div>"
     },
     "execution_count": 31,
     "metadata": {},
     "output_type": "execute_result"
    }
   ],
   "source": [
    "CoordinatesIntegrated.groupby(['SubjectID', 'TrialID']).count()"
   ],
   "metadata": {
    "collapsed": false,
    "pycharm": {
     "name": "#%%\n"
    }
   }
  },
  {
   "cell_type": "code",
   "execution_count": 32,
   "outputs": [],
   "source": [
    "CoordinatesIntegrated.rename(columns={\"BuildingCenterWorld.z\": \"BuildingCenterWorld_z\", \"BuildingCenterWorld.x\": \"BuildingCenterWorld_x\"}, inplace=True)"
   ],
   "metadata": {
    "collapsed": false,
    "pycharm": {
     "name": "#%%\n"
    }
   }
  },
  {
   "cell_type": "code",
   "execution_count": 33,
   "id": "f56ba8c5-4fca-440d-9358-60341535c203",
   "metadata": {},
   "outputs": [],
   "source": [
    "CoordinatesIntegrated = CoordinatesIntegrated[['SubjectID',\n",
    "                                               'ParticipantPosition_x', 'ParticipantPosition_z',\n",
    "                                               'PointerPosition_x','PointerPosition_z',\n",
    "                                               'PointerDirection_x', 'PointerDirection_z',\n",
    "                                               'BuildingCenterWorld_z', 'BuildingCenterWorld_x', 'DistanceToParticipant',\n",
    "                                               'PointingTaskStartingLocations','PointingTargetId', 'Name',\n",
    "                                               'StartPointID','PointingTargetCondition', 'Context', 'Agent', 'avatarID','AvatarPresence', 'AvatarPresenceCategory', 'meaningful','meaningfulBuilding',\n",
    "                                               'Trials', 'TrialID', 'ID_for_StartingPosition','ImageName',\n",
    "                                               'TimeDelta','RT', 'TimeOut', 'TimeStampBegin', 'TimeStampEnd']]"
   ]
  },
  {
   "cell_type": "code",
   "execution_count": 34,
   "outputs": [
    {
     "name": "stdout",
     "output_type": "stream",
     "text": [
      "<class 'pandas.core.frame.DataFrame'>\n",
      "Int64Index: 7728 entries, 0 to 15454\n",
      "Data columns (total 31 columns):\n",
      " #   Column                         Non-Null Count  Dtype  \n",
      "---  ------                         --------------  -----  \n",
      " 0   SubjectID                      7728 non-null   int64  \n",
      " 1   ParticipantPosition_x          7728 non-null   float64\n",
      " 2   ParticipantPosition_z          7728 non-null   float64\n",
      " 3   PointerPosition_x              7728 non-null   float64\n",
      " 4   PointerPosition_z              7728 non-null   float64\n",
      " 5   PointerDirection_x             7728 non-null   float64\n",
      " 6   PointerDirection_z             7728 non-null   float64\n",
      " 7   BuildingCenterWorld_z          7728 non-null   float64\n",
      " 8   BuildingCenterWorld_x          7728 non-null   float64\n",
      " 9   DistanceToParticipant          7728 non-null   float64\n",
      " 10  PointingTaskStartingLocations  7728 non-null   int64  \n",
      " 11  PointingTargetId               7728 non-null   int64  \n",
      " 12  Name                           7728 non-null   object \n",
      " 13  StartPointID                   7728 non-null   int64  \n",
      " 14  PointingTargetCondition        7728 non-null   object \n",
      " 15  Context                        7728 non-null   bool   \n",
      " 16  Agent                          7728 non-null   bool   \n",
      " 17  avatarID                       7728 non-null   int64  \n",
      " 18  AvatarPresence                 7728 non-null   bool   \n",
      " 19  AvatarPresenceCategory         7728 non-null   object \n",
      " 20  meaningful                     7728 non-null   bool   \n",
      " 21  meaningfulBuilding             7728 non-null   object \n",
      " 22  Trials                         7728 non-null   int64  \n",
      " 23  TrialID                        7728 non-null   int64  \n",
      " 24  ID_for_StartingPosition        7728 non-null   int64  \n",
      " 25  ImageName                      7728 non-null   object \n",
      " 26  TimeDelta                      7728 non-null   object \n",
      " 27  RT                             7728 non-null   float64\n",
      " 28  TimeOut                        7728 non-null   bool   \n",
      " 29  TimeStampBegin                 7728 non-null   object \n",
      " 30  TimeStampEnd                   7728 non-null   object \n",
      "dtypes: bool(5), float64(10), int64(8), object(8)\n",
      "memory usage: 1.6+ MB\n"
     ]
    }
   ],
   "source": [
    "CoordinatesIntegrated.drop_duplicates(subset=['SubjectID', 'TrialID'], inplace=True)\n",
    "CoordinatesIntegrated.info()"
   ],
   "metadata": {
    "collapsed": false,
    "pycharm": {
     "name": "#%%\n"
    }
   }
  },
  {
   "cell_type": "code",
   "execution_count": 35,
   "outputs": [
    {
     "data": {
      "text/plain": "'/Users/tracysanchezpacheco/Documents/Resources'"
     },
     "execution_count": 35,
     "metadata": {},
     "output_type": "execute_result"
    }
   ],
   "source": [
    "# Added cell to set Working Directory to your location\n",
    "os.chdir('/Users/tracysanchezpacheco/Documents/Resources')\n",
    "os.getcwd()"
   ],
   "metadata": {
    "collapsed": false,
    "pycharm": {
     "name": "#%%\n"
    }
   }
  },
  {
   "cell_type": "code",
   "execution_count": 36,
   "id": "82cbb607-d842-4615-b7e1-155a6fd86aec",
   "metadata": {
    "pycharm": {
     "name": "#%%\n"
    }
   },
   "outputs": [],
   "source": [
    "CoordinatesIntegrated.to_csv('PointingTask_Integrated.csv')"
   ]
  }
 ],
 "metadata": {
  "kernelspec": {
   "display_name": "Python 3",
   "language": "python",
   "name": "python3"
  },
  "language_info": {
   "codemirror_mode": {
    "name": "ipython",
    "version": 3
   },
   "file_extension": ".py",
   "mimetype": "text/x-python",
   "name": "python",
   "nbconvert_exporter": "python",
   "pygments_lexer": "ipython3",
   "version": "3.8.8"
  }
 },
 "nbformat": 4,
 "nbformat_minor": 5
}