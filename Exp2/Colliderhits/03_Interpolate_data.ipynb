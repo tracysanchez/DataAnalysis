{
 "cells": [
  {
   "cell_type": "code",
   "execution_count": 1,
   "id": "3d91113f-7a7a-48f4-b342-92e564160582",
   "metadata": {},
   "outputs": [],
   "source": [
    "import pandas as pd \n",
    "import numpy as np\n",
    "import glob\n",
    "import re"
   ]
  },
  {
   "cell_type": "code",
   "execution_count": 2,
   "id": "6f50de05-9776-48af-b1c3-65197d8f9434",
   "metadata": {},
   "outputs": [],
   "source": [
    "def bitmask_flag_change(Data_Frame, colname):\n",
    "    \"\"\" Creates a list of values that flag the change in validity of the Eyetracking data, \n",
    "    diferentiates between the beggining and enf of an invalid event. \n",
    "    \n",
    "Parameters\n",
    "-------------\n",
    "     \n",
    "     :dataframe(DataFrame): your data frame,\n",
    "     :colname(str): Name of the column that containts the validity mask \n",
    "returns \n",
    "----------\n",
    "\n",
    "    List of len DataFrame with values that mark changes on the validity column\n",
    "     \"\"\"\n",
    "    change_flag = [\"No_change\"] # initialize flag \n",
    "    for i in range(1, len(Data_Frame)):\n",
    "        if Data_Frame[colname][i] == Data_Frame[colname][i-1]: # compare each value with the previous value\n",
    "          change_flag.append(\"No_change\") \n",
    "        elif Data_Frame[colname][i] != Data_Frame[colname][i-1]:\n",
    "            if Data_Frame[colname][i] == 3:\n",
    "                  change_flag.append(\"Invalid_Section_Ends\")\n",
    "            elif Data_Frame[colname][i] == 0:\n",
    "                change_flag.append(\"Invalid_Section_Starts\")\n",
    "            else:\n",
    "                change_flag.append(\"ERROR\")\n",
    "    return change_flag"
   ]
  },
  {
   "cell_type": "code",
   "execution_count": 3,
   "id": "c34516f9-7d0a-4695-a4a4-ead583b9fa1a",
   "metadata": {},
   "outputs": [],
   "source": [
    "def median_correction(x):\n",
    "    \"\"\"\n",
    "    Perform 5-point median correction on input signal x.\n",
    "    \"\"\"\n",
    "    y = np.zeros_like(x)\n",
    "    length = len(x)\n",
    "    for i in range(2, length-2):\n",
    "        y[i] = np.nanmedian(x[i-2:i+3])\n",
    "    y[0:2] = np.nanmedian(x[0:5])        \n",
    "    y[length-2:length] = np.nanmedian(x[length-5:length])\n",
    "    return y"
   ]
  },
  {
   "cell_type": "code",
   "execution_count": 4,
   "id": "a6e9c72a-d1f7-4b76-b0d4-b8567af4d825",
   "metadata": {},
   "outputs": [],
   "source": [
    "# Since the collider names are too detailed, here we create a dictionary with patterns to classify them into our categories of interest\n",
    "\n",
    "patterns = {'\\d{2}_Sa':'Passive_Agent', '\\d{2}_Cma':'Active_Agent', 'Building_\\d+': 'Building'}\n",
    "patterns.update(dict.fromkeys(['Castle-TaskBuilding_56', 'Crane_59','HighSilo-TaskBuilding_49', 'Windmill-TaskBuilding_10_1', 'Church-TaskBuilding_16'], 'Global_Landmark'))\n",
    "patterns.update(dict.fromkeys(['^TaskBuilding_2$','^TaskBuilding_3$', '^TaskBuilding_5$', '^TaskBuilding_8$', '^TaskBuilding_9$', '^TaskBuilding_11$', '^TaskBuilding_13$', '^TaskBuilding_14$', '^TaskBuilding_20$', \n",
    "                               '^TaskBuilding_21$', '^TaskBuilding_23$','^TaskBuilding_27$', '^TaskBuilding_29$', '^TaskBuilding_32$', '^TaskBuilding_34$',  '^TaskBuilding_38$', '^TaskBuilding_41$', '^TaskBuilding_42$', \n",
    "                               '^TaskBuilding_44$', '^TaskBuilding_45$', '^TaskBuilding_47$', '^TaskBuilding_50$', '^TaskBuilding_51$', '^TaskBuilding_52$', 'BasketballCourt_58', 'Construction_57', \n",
    "                               '^Graffity_02$', '^Graffity_03$', '^Graffity_05$', '^Graffity_08$', '^Graffity_09$', '^Graffity_11$', '^Graffity_13$', '^Graffity_14$', '^Graffity_20$', \n",
    "                               '^Graffity_21$', '^Graffity_23$', '^Graffity_27$', '^Graffity_29$', '^Graffity_32$', '^Graffity_34$', '^Graffity_38$', '^Graffity_41$', '^Graffity_42$', \n",
    "                               '^Graffity_44$', '^Graffity_45$', '^Graffity_47$',  '^Graffity_50$', '^Graffity_51$', '^Graffity_52$'], 'TaskBuilding_Public'))\n",
    "\n",
    "patterns.update(dict.fromkeys(['^TaskBuilding_1$','^TaskBuilding_4$', '^TaskBuilding_6$', '^TaskBuilding_7$', '^TaskBuilding_12$', '^TaskBuilding_15$', '^TaskBuilding_17$', '^TaskBuilding_18$', '^TaskBuilding_19$', \n",
    "                               '^TaskBuilding_22$', '^TaskBuilding_24$','^TaskBuilding_25$', '^TaskBuilding_26$', '^TaskBuilding_28$', '^TaskBuilding_30$',  '^TaskBuilding_31$', '^TaskBuilding_33$', '^TaskBuilding_35$', \n",
    "                               '^TaskBuilding_36$', '^TaskBuilding_37$', '^TaskBuilding_39$', '^TaskBuilding_40$', '^TaskBuilding_43$', '^TaskBuilding_48$', '^TaskBuilding_54$','^TaskBuilding_55$',\n",
    "                               '^Graffity_01$','^Graffity_04$', '^Graffity_06$', '^Graffity_07$', '^Graffity_12$', '^Graffity_15$', '^Graffity_17$', '^Graffity_18$', '^Graffity_19$', '^Graffity_22$', \n",
    "                               '^Graffity_24$','^Graffity_25$', '^Graffity_26$', '^Graffity_28$', '^Graffity_30$',  '^Graffity_31$', '^Graffity_33$', '^Graffity_35$', '^Graffity_36$', '^Graffity_37$', '^Graffity_39$', \n",
    "                               '^Graffity_40$', '^Graffity_43$', '^Graffity_48$', '^Graffity_54$', '^Graffity_55$' ], 'TaskBuilding_Residential'))\n",
    "default_val = 'Background'"
   ]
  },
  {
   "cell_type": "code",
   "execution_count": 5,
   "id": "6ccb28e0-a29b-4e47-aa74-0ace31892663",
   "metadata": {},
   "outputs": [
    {
     "name": "stderr",
     "output_type": "stream",
     "text": [
      "/Users/tracysanchezpacheco/opt/anaconda3/lib/python3.8/site-packages/numpy/lib/nanfunctions.py:1113: RuntimeWarning: All-NaN slice encountered\n",
      "  r, k = function_base._ureduce(a, func=_nanmedian, axis=axis, out=out,\n"
     ]
    },
    {
     "name": "stdout",
     "output_type": "stream",
     "text": [
      "1031_1\n"
     ]
    },
    {
     "name": "stderr",
     "output_type": "stream",
     "text": [
      "/Users/tracysanchezpacheco/opt/anaconda3/lib/python3.8/site-packages/numpy/lib/nanfunctions.py:1113: RuntimeWarning: All-NaN slice encountered\n",
      "  r, k = function_base._ureduce(a, func=_nanmedian, axis=axis, out=out,\n"
     ]
    },
    {
     "name": "stdout",
     "output_type": "stream",
     "text": [
      "1031_2\n"
     ]
    },
    {
     "name": "stderr",
     "output_type": "stream",
     "text": [
      "/Users/tracysanchezpacheco/opt/anaconda3/lib/python3.8/site-packages/numpy/lib/nanfunctions.py:1113: RuntimeWarning: All-NaN slice encountered\n",
      "  r, k = function_base._ureduce(a, func=_nanmedian, axis=axis, out=out,\n"
     ]
    },
    {
     "name": "stdout",
     "output_type": "stream",
     "text": [
      "1031_3\n"
     ]
    },
    {
     "name": "stderr",
     "output_type": "stream",
     "text": [
      "/Users/tracysanchezpacheco/opt/anaconda3/lib/python3.8/site-packages/numpy/lib/nanfunctions.py:1113: RuntimeWarning: All-NaN slice encountered\n",
      "  r, k = function_base._ureduce(a, func=_nanmedian, axis=axis, out=out,\n"
     ]
    },
    {
     "name": "stdout",
     "output_type": "stream",
     "text": [
      "1031_4\n"
     ]
    },
    {
     "name": "stderr",
     "output_type": "stream",
     "text": [
      "/Users/tracysanchezpacheco/opt/anaconda3/lib/python3.8/site-packages/numpy/lib/nanfunctions.py:1113: RuntimeWarning: All-NaN slice encountered\n",
      "  r, k = function_base._ureduce(a, func=_nanmedian, axis=axis, out=out,\n"
     ]
    },
    {
     "name": "stdout",
     "output_type": "stream",
     "text": [
      "1031_5\n"
     ]
    },
    {
     "name": "stderr",
     "output_type": "stream",
     "text": [
      "/Users/tracysanchezpacheco/opt/anaconda3/lib/python3.8/site-packages/numpy/lib/nanfunctions.py:1113: RuntimeWarning: All-NaN slice encountered\n",
      "  r, k = function_base._ureduce(a, func=_nanmedian, axis=axis, out=out,\n"
     ]
    },
    {
     "name": "stdout",
     "output_type": "stream",
     "text": [
      "1268_1\n"
     ]
    },
    {
     "name": "stderr",
     "output_type": "stream",
     "text": [
      "/Users/tracysanchezpacheco/opt/anaconda3/lib/python3.8/site-packages/numpy/lib/nanfunctions.py:1113: RuntimeWarning: All-NaN slice encountered\n",
      "  r, k = function_base._ureduce(a, func=_nanmedian, axis=axis, out=out,\n"
     ]
    },
    {
     "name": "stdout",
     "output_type": "stream",
     "text": [
      "1268_2\n"
     ]
    },
    {
     "name": "stderr",
     "output_type": "stream",
     "text": [
      "/Users/tracysanchezpacheco/opt/anaconda3/lib/python3.8/site-packages/numpy/lib/nanfunctions.py:1113: RuntimeWarning: All-NaN slice encountered\n",
      "  r, k = function_base._ureduce(a, func=_nanmedian, axis=axis, out=out,\n"
     ]
    },
    {
     "name": "stdout",
     "output_type": "stream",
     "text": [
      "1268_3\n"
     ]
    },
    {
     "name": "stderr",
     "output_type": "stream",
     "text": [
      "/Users/tracysanchezpacheco/opt/anaconda3/lib/python3.8/site-packages/numpy/lib/nanfunctions.py:1113: RuntimeWarning: All-NaN slice encountered\n",
      "  r, k = function_base._ureduce(a, func=_nanmedian, axis=axis, out=out,\n"
     ]
    },
    {
     "name": "stdout",
     "output_type": "stream",
     "text": [
      "1268_4\n"
     ]
    },
    {
     "name": "stderr",
     "output_type": "stream",
     "text": [
      "/Users/tracysanchezpacheco/opt/anaconda3/lib/python3.8/site-packages/numpy/lib/nanfunctions.py:1113: RuntimeWarning: All-NaN slice encountered\n",
      "  r, k = function_base._ureduce(a, func=_nanmedian, axis=axis, out=out,\n"
     ]
    },
    {
     "name": "stdout",
     "output_type": "stream",
     "text": [
      "1268_5\n"
     ]
    },
    {
     "name": "stderr",
     "output_type": "stream",
     "text": [
      "/Users/tracysanchezpacheco/opt/anaconda3/lib/python3.8/site-packages/numpy/lib/nanfunctions.py:1113: RuntimeWarning: All-NaN slice encountered\n",
      "  r, k = function_base._ureduce(a, func=_nanmedian, axis=axis, out=out,\n"
     ]
    },
    {
     "name": "stdout",
     "output_type": "stream",
     "text": [
      "1574_1\n"
     ]
    },
    {
     "name": "stderr",
     "output_type": "stream",
     "text": [
      "/Users/tracysanchezpacheco/opt/anaconda3/lib/python3.8/site-packages/numpy/lib/nanfunctions.py:1113: RuntimeWarning: All-NaN slice encountered\n",
      "  r, k = function_base._ureduce(a, func=_nanmedian, axis=axis, out=out,\n"
     ]
    },
    {
     "name": "stdout",
     "output_type": "stream",
     "text": [
      "1574_2\n"
     ]
    },
    {
     "name": "stderr",
     "output_type": "stream",
     "text": [
      "/Users/tracysanchezpacheco/opt/anaconda3/lib/python3.8/site-packages/numpy/lib/nanfunctions.py:1113: RuntimeWarning: All-NaN slice encountered\n",
      "  r, k = function_base._ureduce(a, func=_nanmedian, axis=axis, out=out,\n"
     ]
    },
    {
     "name": "stdout",
     "output_type": "stream",
     "text": [
      "1574_3\n"
     ]
    },
    {
     "name": "stderr",
     "output_type": "stream",
     "text": [
      "/Users/tracysanchezpacheco/opt/anaconda3/lib/python3.8/site-packages/numpy/lib/nanfunctions.py:1113: RuntimeWarning: All-NaN slice encountered\n",
      "  r, k = function_base._ureduce(a, func=_nanmedian, axis=axis, out=out,\n"
     ]
    },
    {
     "name": "stdout",
     "output_type": "stream",
     "text": [
      "1574_4\n"
     ]
    },
    {
     "name": "stderr",
     "output_type": "stream",
     "text": [
      "/Users/tracysanchezpacheco/opt/anaconda3/lib/python3.8/site-packages/numpy/lib/nanfunctions.py:1113: RuntimeWarning: All-NaN slice encountered\n",
      "  r, k = function_base._ureduce(a, func=_nanmedian, axis=axis, out=out,\n"
     ]
    },
    {
     "name": "stdout",
     "output_type": "stream",
     "text": [
      "1574_5\n"
     ]
    },
    {
     "name": "stderr",
     "output_type": "stream",
     "text": [
      "/Users/tracysanchezpacheco/opt/anaconda3/lib/python3.8/site-packages/numpy/lib/nanfunctions.py:1113: RuntimeWarning: All-NaN slice encountered\n",
      "  r, k = function_base._ureduce(a, func=_nanmedian, axis=axis, out=out,\n"
     ]
    },
    {
     "name": "stdout",
     "output_type": "stream",
     "text": [
      "1843_1\n"
     ]
    },
    {
     "name": "stderr",
     "output_type": "stream",
     "text": [
      "/Users/tracysanchezpacheco/opt/anaconda3/lib/python3.8/site-packages/numpy/lib/nanfunctions.py:1113: RuntimeWarning: All-NaN slice encountered\n",
      "  r, k = function_base._ureduce(a, func=_nanmedian, axis=axis, out=out,\n"
     ]
    },
    {
     "name": "stdout",
     "output_type": "stream",
     "text": [
      "1843_2\n"
     ]
    },
    {
     "name": "stderr",
     "output_type": "stream",
     "text": [
      "/Users/tracysanchezpacheco/opt/anaconda3/lib/python3.8/site-packages/numpy/lib/nanfunctions.py:1113: RuntimeWarning: All-NaN slice encountered\n",
      "  r, k = function_base._ureduce(a, func=_nanmedian, axis=axis, out=out,\n"
     ]
    },
    {
     "name": "stdout",
     "output_type": "stream",
     "text": [
      "1843_3\n"
     ]
    },
    {
     "name": "stderr",
     "output_type": "stream",
     "text": [
      "/Users/tracysanchezpacheco/opt/anaconda3/lib/python3.8/site-packages/numpy/lib/nanfunctions.py:1113: RuntimeWarning: All-NaN slice encountered\n",
      "  r, k = function_base._ureduce(a, func=_nanmedian, axis=axis, out=out,\n"
     ]
    },
    {
     "name": "stdout",
     "output_type": "stream",
     "text": [
      "1843_4\n"
     ]
    },
    {
     "name": "stderr",
     "output_type": "stream",
     "text": [
      "/Users/tracysanchezpacheco/opt/anaconda3/lib/python3.8/site-packages/numpy/lib/nanfunctions.py:1113: RuntimeWarning: All-NaN slice encountered\n",
      "  r, k = function_base._ureduce(a, func=_nanmedian, axis=axis, out=out,\n"
     ]
    },
    {
     "name": "stdout",
     "output_type": "stream",
     "text": [
      "1843_5\n"
     ]
    },
    {
     "name": "stderr",
     "output_type": "stream",
     "text": [
      "/Users/tracysanchezpacheco/opt/anaconda3/lib/python3.8/site-packages/numpy/lib/nanfunctions.py:1113: RuntimeWarning: All-NaN slice encountered\n",
      "  r, k = function_base._ureduce(a, func=_nanmedian, axis=axis, out=out,\n"
     ]
    },
    {
     "name": "stdout",
     "output_type": "stream",
     "text": [
      "2069_1\n"
     ]
    },
    {
     "name": "stderr",
     "output_type": "stream",
     "text": [
      "/Users/tracysanchezpacheco/opt/anaconda3/lib/python3.8/site-packages/numpy/lib/nanfunctions.py:1113: RuntimeWarning: All-NaN slice encountered\n",
      "  r, k = function_base._ureduce(a, func=_nanmedian, axis=axis, out=out,\n"
     ]
    },
    {
     "name": "stdout",
     "output_type": "stream",
     "text": [
      "2069_2\n"
     ]
    },
    {
     "name": "stderr",
     "output_type": "stream",
     "text": [
      "/Users/tracysanchezpacheco/opt/anaconda3/lib/python3.8/site-packages/numpy/lib/nanfunctions.py:1113: RuntimeWarning: All-NaN slice encountered\n",
      "  r, k = function_base._ureduce(a, func=_nanmedian, axis=axis, out=out,\n"
     ]
    },
    {
     "name": "stdout",
     "output_type": "stream",
     "text": [
      "2069_3\n"
     ]
    },
    {
     "name": "stderr",
     "output_type": "stream",
     "text": [
      "/Users/tracysanchezpacheco/opt/anaconda3/lib/python3.8/site-packages/numpy/lib/nanfunctions.py:1113: RuntimeWarning: All-NaN slice encountered\n",
      "  r, k = function_base._ureduce(a, func=_nanmedian, axis=axis, out=out,\n"
     ]
    },
    {
     "name": "stdout",
     "output_type": "stream",
     "text": [
      "2069_4\n"
     ]
    },
    {
     "name": "stderr",
     "output_type": "stream",
     "text": [
      "/Users/tracysanchezpacheco/opt/anaconda3/lib/python3.8/site-packages/numpy/lib/nanfunctions.py:1113: RuntimeWarning: All-NaN slice encountered\n",
      "  r, k = function_base._ureduce(a, func=_nanmedian, axis=axis, out=out,\n"
     ]
    },
    {
     "name": "stdout",
     "output_type": "stream",
     "text": [
      "2069_5\n"
     ]
    },
    {
     "name": "stderr",
     "output_type": "stream",
     "text": [
      "/Users/tracysanchezpacheco/opt/anaconda3/lib/python3.8/site-packages/numpy/lib/nanfunctions.py:1113: RuntimeWarning: All-NaN slice encountered\n",
      "  r, k = function_base._ureduce(a, func=_nanmedian, axis=axis, out=out,\n"
     ]
    },
    {
     "name": "stdout",
     "output_type": "stream",
     "text": [
      "3193_1\n"
     ]
    },
    {
     "name": "stderr",
     "output_type": "stream",
     "text": [
      "/Users/tracysanchezpacheco/opt/anaconda3/lib/python3.8/site-packages/numpy/lib/nanfunctions.py:1113: RuntimeWarning: All-NaN slice encountered\n",
      "  r, k = function_base._ureduce(a, func=_nanmedian, axis=axis, out=out,\n"
     ]
    },
    {
     "name": "stdout",
     "output_type": "stream",
     "text": [
      "3193_2\n"
     ]
    },
    {
     "name": "stderr",
     "output_type": "stream",
     "text": [
      "/Users/tracysanchezpacheco/opt/anaconda3/lib/python3.8/site-packages/numpy/lib/nanfunctions.py:1113: RuntimeWarning: All-NaN slice encountered\n",
      "  r, k = function_base._ureduce(a, func=_nanmedian, axis=axis, out=out,\n"
     ]
    },
    {
     "name": "stdout",
     "output_type": "stream",
     "text": [
      "3193_3\n"
     ]
    },
    {
     "name": "stderr",
     "output_type": "stream",
     "text": [
      "/Users/tracysanchezpacheco/opt/anaconda3/lib/python3.8/site-packages/numpy/lib/nanfunctions.py:1113: RuntimeWarning: All-NaN slice encountered\n",
      "  r, k = function_base._ureduce(a, func=_nanmedian, axis=axis, out=out,\n"
     ]
    },
    {
     "name": "stdout",
     "output_type": "stream",
     "text": [
      "3193_4\n"
     ]
    },
    {
     "name": "stderr",
     "output_type": "stream",
     "text": [
      "/Users/tracysanchezpacheco/opt/anaconda3/lib/python3.8/site-packages/numpy/lib/nanfunctions.py:1113: RuntimeWarning: All-NaN slice encountered\n",
      "  r, k = function_base._ureduce(a, func=_nanmedian, axis=axis, out=out,\n"
     ]
    },
    {
     "name": "stdout",
     "output_type": "stream",
     "text": [
      "3193_5\n"
     ]
    },
    {
     "name": "stderr",
     "output_type": "stream",
     "text": [
      "/Users/tracysanchezpacheco/opt/anaconda3/lib/python3.8/site-packages/numpy/lib/nanfunctions.py:1113: RuntimeWarning: All-NaN slice encountered\n",
      "  r, k = function_base._ureduce(a, func=_nanmedian, axis=axis, out=out,\n"
     ]
    },
    {
     "name": "stdout",
     "output_type": "stream",
     "text": [
      "3540_1\n"
     ]
    },
    {
     "name": "stderr",
     "output_type": "stream",
     "text": [
      "/Users/tracysanchezpacheco/opt/anaconda3/lib/python3.8/site-packages/numpy/lib/nanfunctions.py:1113: RuntimeWarning: All-NaN slice encountered\n",
      "  r, k = function_base._ureduce(a, func=_nanmedian, axis=axis, out=out,\n"
     ]
    },
    {
     "name": "stdout",
     "output_type": "stream",
     "text": [
      "3540_2\n"
     ]
    },
    {
     "name": "stderr",
     "output_type": "stream",
     "text": [
      "/Users/tracysanchezpacheco/opt/anaconda3/lib/python3.8/site-packages/numpy/lib/nanfunctions.py:1113: RuntimeWarning: All-NaN slice encountered\n",
      "  r, k = function_base._ureduce(a, func=_nanmedian, axis=axis, out=out,\n"
     ]
    },
    {
     "name": "stdout",
     "output_type": "stream",
     "text": [
      "3540_3\n"
     ]
    },
    {
     "name": "stderr",
     "output_type": "stream",
     "text": [
      "/Users/tracysanchezpacheco/opt/anaconda3/lib/python3.8/site-packages/numpy/lib/nanfunctions.py:1113: RuntimeWarning: All-NaN slice encountered\n",
      "  r, k = function_base._ureduce(a, func=_nanmedian, axis=axis, out=out,\n"
     ]
    },
    {
     "name": "stdout",
     "output_type": "stream",
     "text": [
      "3540_4\n"
     ]
    },
    {
     "name": "stderr",
     "output_type": "stream",
     "text": [
      "/Users/tracysanchezpacheco/opt/anaconda3/lib/python3.8/site-packages/numpy/lib/nanfunctions.py:1113: RuntimeWarning: All-NaN slice encountered\n",
      "  r, k = function_base._ureduce(a, func=_nanmedian, axis=axis, out=out,\n"
     ]
    },
    {
     "name": "stdout",
     "output_type": "stream",
     "text": [
      "3540_5\n"
     ]
    },
    {
     "name": "stderr",
     "output_type": "stream",
     "text": [
      "/Users/tracysanchezpacheco/opt/anaconda3/lib/python3.8/site-packages/numpy/lib/nanfunctions.py:1113: RuntimeWarning: All-NaN slice encountered\n",
      "  r, k = function_base._ureduce(a, func=_nanmedian, axis=axis, out=out,\n"
     ]
    },
    {
     "name": "stdout",
     "output_type": "stream",
     "text": [
      "4580_1\n"
     ]
    },
    {
     "name": "stderr",
     "output_type": "stream",
     "text": [
      "/Users/tracysanchezpacheco/opt/anaconda3/lib/python3.8/site-packages/numpy/lib/nanfunctions.py:1113: RuntimeWarning: All-NaN slice encountered\n",
      "  r, k = function_base._ureduce(a, func=_nanmedian, axis=axis, out=out,\n"
     ]
    },
    {
     "name": "stdout",
     "output_type": "stream",
     "text": [
      "4580_2\n"
     ]
    },
    {
     "name": "stderr",
     "output_type": "stream",
     "text": [
      "/Users/tracysanchezpacheco/opt/anaconda3/lib/python3.8/site-packages/numpy/lib/nanfunctions.py:1113: RuntimeWarning: All-NaN slice encountered\n",
      "  r, k = function_base._ureduce(a, func=_nanmedian, axis=axis, out=out,\n"
     ]
    },
    {
     "name": "stdout",
     "output_type": "stream",
     "text": [
      "4580_3\n"
     ]
    },
    {
     "name": "stderr",
     "output_type": "stream",
     "text": [
      "/Users/tracysanchezpacheco/opt/anaconda3/lib/python3.8/site-packages/numpy/lib/nanfunctions.py:1113: RuntimeWarning: All-NaN slice encountered\n",
      "  r, k = function_base._ureduce(a, func=_nanmedian, axis=axis, out=out,\n"
     ]
    },
    {
     "name": "stdout",
     "output_type": "stream",
     "text": [
      "4580_4\n"
     ]
    },
    {
     "name": "stderr",
     "output_type": "stream",
     "text": [
      "/Users/tracysanchezpacheco/opt/anaconda3/lib/python3.8/site-packages/numpy/lib/nanfunctions.py:1113: RuntimeWarning: All-NaN slice encountered\n",
      "  r, k = function_base._ureduce(a, func=_nanmedian, axis=axis, out=out,\n"
     ]
    },
    {
     "name": "stdout",
     "output_type": "stream",
     "text": [
      "4580_5\n"
     ]
    },
    {
     "name": "stderr",
     "output_type": "stream",
     "text": [
      "/Users/tracysanchezpacheco/opt/anaconda3/lib/python3.8/site-packages/numpy/lib/nanfunctions.py:1113: RuntimeWarning: All-NaN slice encountered\n",
      "  r, k = function_base._ureduce(a, func=_nanmedian, axis=axis, out=out,\n"
     ]
    },
    {
     "name": "stdout",
     "output_type": "stream",
     "text": [
      "4598_1\n"
     ]
    },
    {
     "name": "stderr",
     "output_type": "stream",
     "text": [
      "/Users/tracysanchezpacheco/opt/anaconda3/lib/python3.8/site-packages/numpy/lib/nanfunctions.py:1113: RuntimeWarning: All-NaN slice encountered\n",
      "  r, k = function_base._ureduce(a, func=_nanmedian, axis=axis, out=out,\n"
     ]
    },
    {
     "name": "stdout",
     "output_type": "stream",
     "text": [
      "4598_2\n"
     ]
    },
    {
     "name": "stderr",
     "output_type": "stream",
     "text": [
      "/Users/tracysanchezpacheco/opt/anaconda3/lib/python3.8/site-packages/numpy/lib/nanfunctions.py:1113: RuntimeWarning: All-NaN slice encountered\n",
      "  r, k = function_base._ureduce(a, func=_nanmedian, axis=axis, out=out,\n"
     ]
    },
    {
     "name": "stdout",
     "output_type": "stream",
     "text": [
      "4598_3\n"
     ]
    },
    {
     "name": "stderr",
     "output_type": "stream",
     "text": [
      "/Users/tracysanchezpacheco/opt/anaconda3/lib/python3.8/site-packages/numpy/lib/nanfunctions.py:1113: RuntimeWarning: All-NaN slice encountered\n",
      "  r, k = function_base._ureduce(a, func=_nanmedian, axis=axis, out=out,\n"
     ]
    },
    {
     "name": "stdout",
     "output_type": "stream",
     "text": [
      "4598_4\n"
     ]
    },
    {
     "name": "stderr",
     "output_type": "stream",
     "text": [
      "/Users/tracysanchezpacheco/opt/anaconda3/lib/python3.8/site-packages/numpy/lib/nanfunctions.py:1113: RuntimeWarning: All-NaN slice encountered\n",
      "  r, k = function_base._ureduce(a, func=_nanmedian, axis=axis, out=out,\n"
     ]
    },
    {
     "name": "stdout",
     "output_type": "stream",
     "text": [
      "4598_5\n"
     ]
    },
    {
     "name": "stderr",
     "output_type": "stream",
     "text": [
      "/Users/tracysanchezpacheco/opt/anaconda3/lib/python3.8/site-packages/numpy/lib/nanfunctions.py:1113: RuntimeWarning: All-NaN slice encountered\n",
      "  r, k = function_base._ureduce(a, func=_nanmedian, axis=axis, out=out,\n"
     ]
    },
    {
     "name": "stdout",
     "output_type": "stream",
     "text": [
      "4847_1\n"
     ]
    },
    {
     "name": "stderr",
     "output_type": "stream",
     "text": [
      "/Users/tracysanchezpacheco/opt/anaconda3/lib/python3.8/site-packages/numpy/lib/nanfunctions.py:1113: RuntimeWarning: All-NaN slice encountered\n",
      "  r, k = function_base._ureduce(a, func=_nanmedian, axis=axis, out=out,\n"
     ]
    },
    {
     "name": "stdout",
     "output_type": "stream",
     "text": [
      "4847_2\n"
     ]
    },
    {
     "name": "stderr",
     "output_type": "stream",
     "text": [
      "/Users/tracysanchezpacheco/opt/anaconda3/lib/python3.8/site-packages/numpy/lib/nanfunctions.py:1113: RuntimeWarning: All-NaN slice encountered\n",
      "  r, k = function_base._ureduce(a, func=_nanmedian, axis=axis, out=out,\n"
     ]
    },
    {
     "name": "stdout",
     "output_type": "stream",
     "text": [
      "4847_3\n"
     ]
    },
    {
     "name": "stderr",
     "output_type": "stream",
     "text": [
      "/Users/tracysanchezpacheco/opt/anaconda3/lib/python3.8/site-packages/numpy/lib/nanfunctions.py:1113: RuntimeWarning: All-NaN slice encountered\n",
      "  r, k = function_base._ureduce(a, func=_nanmedian, axis=axis, out=out,\n"
     ]
    },
    {
     "name": "stdout",
     "output_type": "stream",
     "text": [
      "4847_4\n"
     ]
    },
    {
     "name": "stderr",
     "output_type": "stream",
     "text": [
      "/Users/tracysanchezpacheco/opt/anaconda3/lib/python3.8/site-packages/numpy/lib/nanfunctions.py:1113: RuntimeWarning: All-NaN slice encountered\n",
      "  r, k = function_base._ureduce(a, func=_nanmedian, axis=axis, out=out,\n"
     ]
    },
    {
     "name": "stdout",
     "output_type": "stream",
     "text": [
      "4847_5\n"
     ]
    },
    {
     "name": "stderr",
     "output_type": "stream",
     "text": [
      "/Users/tracysanchezpacheco/opt/anaconda3/lib/python3.8/site-packages/numpy/lib/nanfunctions.py:1113: RuntimeWarning: All-NaN slice encountered\n",
      "  r, k = function_base._ureduce(a, func=_nanmedian, axis=axis, out=out,\n"
     ]
    },
    {
     "name": "stdout",
     "output_type": "stream",
     "text": [
      "4875_1\n"
     ]
    },
    {
     "name": "stderr",
     "output_type": "stream",
     "text": [
      "/Users/tracysanchezpacheco/opt/anaconda3/lib/python3.8/site-packages/numpy/lib/nanfunctions.py:1113: RuntimeWarning: All-NaN slice encountered\n",
      "  r, k = function_base._ureduce(a, func=_nanmedian, axis=axis, out=out,\n"
     ]
    },
    {
     "name": "stdout",
     "output_type": "stream",
     "text": [
      "4875_2\n"
     ]
    },
    {
     "name": "stderr",
     "output_type": "stream",
     "text": [
      "/Users/tracysanchezpacheco/opt/anaconda3/lib/python3.8/site-packages/numpy/lib/nanfunctions.py:1113: RuntimeWarning: All-NaN slice encountered\n",
      "  r, k = function_base._ureduce(a, func=_nanmedian, axis=axis, out=out,\n"
     ]
    },
    {
     "name": "stdout",
     "output_type": "stream",
     "text": [
      "4875_3\n"
     ]
    },
    {
     "name": "stderr",
     "output_type": "stream",
     "text": [
      "/Users/tracysanchezpacheco/opt/anaconda3/lib/python3.8/site-packages/numpy/lib/nanfunctions.py:1113: RuntimeWarning: All-NaN slice encountered\n",
      "  r, k = function_base._ureduce(a, func=_nanmedian, axis=axis, out=out,\n"
     ]
    },
    {
     "name": "stdout",
     "output_type": "stream",
     "text": [
      "4875_4\n"
     ]
    },
    {
     "name": "stderr",
     "output_type": "stream",
     "text": [
      "/Users/tracysanchezpacheco/opt/anaconda3/lib/python3.8/site-packages/numpy/lib/nanfunctions.py:1113: RuntimeWarning: All-NaN slice encountered\n",
      "  r, k = function_base._ureduce(a, func=_nanmedian, axis=axis, out=out,\n"
     ]
    },
    {
     "name": "stdout",
     "output_type": "stream",
     "text": [
      "4875_5\n"
     ]
    },
    {
     "name": "stderr",
     "output_type": "stream",
     "text": [
      "/Users/tracysanchezpacheco/opt/anaconda3/lib/python3.8/site-packages/numpy/lib/nanfunctions.py:1113: RuntimeWarning: All-NaN slice encountered\n",
      "  r, k = function_base._ureduce(a, func=_nanmedian, axis=axis, out=out,\n"
     ]
    },
    {
     "name": "stdout",
     "output_type": "stream",
     "text": [
      "5161_1\n"
     ]
    },
    {
     "name": "stderr",
     "output_type": "stream",
     "text": [
      "/Users/tracysanchezpacheco/opt/anaconda3/lib/python3.8/site-packages/numpy/lib/nanfunctions.py:1113: RuntimeWarning: All-NaN slice encountered\n",
      "  r, k = function_base._ureduce(a, func=_nanmedian, axis=axis, out=out,\n"
     ]
    },
    {
     "name": "stdout",
     "output_type": "stream",
     "text": [
      "5161_2\n"
     ]
    },
    {
     "name": "stderr",
     "output_type": "stream",
     "text": [
      "/Users/tracysanchezpacheco/opt/anaconda3/lib/python3.8/site-packages/numpy/lib/nanfunctions.py:1113: RuntimeWarning: All-NaN slice encountered\n",
      "  r, k = function_base._ureduce(a, func=_nanmedian, axis=axis, out=out,\n"
     ]
    },
    {
     "name": "stdout",
     "output_type": "stream",
     "text": [
      "5161_3\n"
     ]
    },
    {
     "name": "stderr",
     "output_type": "stream",
     "text": [
      "/Users/tracysanchezpacheco/opt/anaconda3/lib/python3.8/site-packages/numpy/lib/nanfunctions.py:1113: RuntimeWarning: All-NaN slice encountered\n",
      "  r, k = function_base._ureduce(a, func=_nanmedian, axis=axis, out=out,\n"
     ]
    },
    {
     "name": "stdout",
     "output_type": "stream",
     "text": [
      "5161_4\n"
     ]
    },
    {
     "name": "stderr",
     "output_type": "stream",
     "text": [
      "/Users/tracysanchezpacheco/opt/anaconda3/lib/python3.8/site-packages/numpy/lib/nanfunctions.py:1113: RuntimeWarning: All-NaN slice encountered\n",
      "  r, k = function_base._ureduce(a, func=_nanmedian, axis=axis, out=out,\n"
     ]
    },
    {
     "name": "stdout",
     "output_type": "stream",
     "text": [
      "5161_5\n"
     ]
    },
    {
     "name": "stderr",
     "output_type": "stream",
     "text": [
      "/Users/tracysanchezpacheco/opt/anaconda3/lib/python3.8/site-packages/numpy/lib/nanfunctions.py:1113: RuntimeWarning: All-NaN slice encountered\n",
      "  r, k = function_base._ureduce(a, func=_nanmedian, axis=axis, out=out,\n"
     ]
    },
    {
     "name": "stdout",
     "output_type": "stream",
     "text": [
      "5189_1\n"
     ]
    },
    {
     "name": "stderr",
     "output_type": "stream",
     "text": [
      "/Users/tracysanchezpacheco/opt/anaconda3/lib/python3.8/site-packages/numpy/lib/nanfunctions.py:1113: RuntimeWarning: All-NaN slice encountered\n",
      "  r, k = function_base._ureduce(a, func=_nanmedian, axis=axis, out=out,\n"
     ]
    },
    {
     "name": "stdout",
     "output_type": "stream",
     "text": [
      "5189_2\n"
     ]
    },
    {
     "name": "stderr",
     "output_type": "stream",
     "text": [
      "/Users/tracysanchezpacheco/opt/anaconda3/lib/python3.8/site-packages/numpy/lib/nanfunctions.py:1113: RuntimeWarning: All-NaN slice encountered\n",
      "  r, k = function_base._ureduce(a, func=_nanmedian, axis=axis, out=out,\n"
     ]
    },
    {
     "name": "stdout",
     "output_type": "stream",
     "text": [
      "5189_3\n"
     ]
    },
    {
     "name": "stderr",
     "output_type": "stream",
     "text": [
      "/Users/tracysanchezpacheco/opt/anaconda3/lib/python3.8/site-packages/numpy/lib/nanfunctions.py:1113: RuntimeWarning: All-NaN slice encountered\n",
      "  r, k = function_base._ureduce(a, func=_nanmedian, axis=axis, out=out,\n"
     ]
    },
    {
     "name": "stdout",
     "output_type": "stream",
     "text": [
      "5189_4\n"
     ]
    },
    {
     "name": "stderr",
     "output_type": "stream",
     "text": [
      "/Users/tracysanchezpacheco/opt/anaconda3/lib/python3.8/site-packages/numpy/lib/nanfunctions.py:1113: RuntimeWarning: All-NaN slice encountered\n",
      "  r, k = function_base._ureduce(a, func=_nanmedian, axis=axis, out=out,\n"
     ]
    },
    {
     "name": "stdout",
     "output_type": "stream",
     "text": [
      "5189_5\n"
     ]
    },
    {
     "name": "stderr",
     "output_type": "stream",
     "text": [
      "/Users/tracysanchezpacheco/opt/anaconda3/lib/python3.8/site-packages/numpy/lib/nanfunctions.py:1113: RuntimeWarning: All-NaN slice encountered\n",
      "  r, k = function_base._ureduce(a, func=_nanmedian, axis=axis, out=out,\n"
     ]
    },
    {
     "name": "stdout",
     "output_type": "stream",
     "text": [
      "5743_1\n"
     ]
    },
    {
     "name": "stderr",
     "output_type": "stream",
     "text": [
      "/Users/tracysanchezpacheco/opt/anaconda3/lib/python3.8/site-packages/numpy/lib/nanfunctions.py:1113: RuntimeWarning: All-NaN slice encountered\n",
      "  r, k = function_base._ureduce(a, func=_nanmedian, axis=axis, out=out,\n"
     ]
    },
    {
     "name": "stdout",
     "output_type": "stream",
     "text": [
      "5743_2\n"
     ]
    },
    {
     "name": "stderr",
     "output_type": "stream",
     "text": [
      "/Users/tracysanchezpacheco/opt/anaconda3/lib/python3.8/site-packages/numpy/lib/nanfunctions.py:1113: RuntimeWarning: All-NaN slice encountered\n",
      "  r, k = function_base._ureduce(a, func=_nanmedian, axis=axis, out=out,\n"
     ]
    },
    {
     "name": "stdout",
     "output_type": "stream",
     "text": [
      "5743_3\n"
     ]
    },
    {
     "name": "stderr",
     "output_type": "stream",
     "text": [
      "/Users/tracysanchezpacheco/opt/anaconda3/lib/python3.8/site-packages/numpy/lib/nanfunctions.py:1113: RuntimeWarning: All-NaN slice encountered\n",
      "  r, k = function_base._ureduce(a, func=_nanmedian, axis=axis, out=out,\n"
     ]
    },
    {
     "name": "stdout",
     "output_type": "stream",
     "text": [
      "5743_4\n"
     ]
    },
    {
     "name": "stderr",
     "output_type": "stream",
     "text": [
      "/Users/tracysanchezpacheco/opt/anaconda3/lib/python3.8/site-packages/numpy/lib/nanfunctions.py:1113: RuntimeWarning: All-NaN slice encountered\n",
      "  r, k = function_base._ureduce(a, func=_nanmedian, axis=axis, out=out,\n"
     ]
    },
    {
     "name": "stdout",
     "output_type": "stream",
     "text": [
      "5743_5\n"
     ]
    },
    {
     "name": "stderr",
     "output_type": "stream",
     "text": [
      "/Users/tracysanchezpacheco/opt/anaconda3/lib/python3.8/site-packages/numpy/lib/nanfunctions.py:1113: RuntimeWarning: All-NaN slice encountered\n",
      "  r, k = function_base._ureduce(a, func=_nanmedian, axis=axis, out=out,\n"
     ]
    },
    {
     "name": "stdout",
     "output_type": "stream",
     "text": [
      "5766_1\n"
     ]
    },
    {
     "name": "stderr",
     "output_type": "stream",
     "text": [
      "/Users/tracysanchezpacheco/opt/anaconda3/lib/python3.8/site-packages/numpy/lib/nanfunctions.py:1113: RuntimeWarning: All-NaN slice encountered\n",
      "  r, k = function_base._ureduce(a, func=_nanmedian, axis=axis, out=out,\n"
     ]
    },
    {
     "name": "stdout",
     "output_type": "stream",
     "text": [
      "5766_2\n"
     ]
    },
    {
     "name": "stderr",
     "output_type": "stream",
     "text": [
      "/Users/tracysanchezpacheco/opt/anaconda3/lib/python3.8/site-packages/numpy/lib/nanfunctions.py:1113: RuntimeWarning: All-NaN slice encountered\n",
      "  r, k = function_base._ureduce(a, func=_nanmedian, axis=axis, out=out,\n"
     ]
    },
    {
     "name": "stdout",
     "output_type": "stream",
     "text": [
      "5766_3\n"
     ]
    },
    {
     "name": "stderr",
     "output_type": "stream",
     "text": [
      "/Users/tracysanchezpacheco/opt/anaconda3/lib/python3.8/site-packages/numpy/lib/nanfunctions.py:1113: RuntimeWarning: All-NaN slice encountered\n",
      "  r, k = function_base._ureduce(a, func=_nanmedian, axis=axis, out=out,\n"
     ]
    },
    {
     "name": "stdout",
     "output_type": "stream",
     "text": [
      "5766_4\n"
     ]
    },
    {
     "name": "stderr",
     "output_type": "stream",
     "text": [
      "/Users/tracysanchezpacheco/opt/anaconda3/lib/python3.8/site-packages/numpy/lib/nanfunctions.py:1113: RuntimeWarning: All-NaN slice encountered\n",
      "  r, k = function_base._ureduce(a, func=_nanmedian, axis=axis, out=out,\n"
     ]
    },
    {
     "name": "stdout",
     "output_type": "stream",
     "text": [
      "5766_5\n"
     ]
    },
    {
     "name": "stderr",
     "output_type": "stream",
     "text": [
      "/Users/tracysanchezpacheco/opt/anaconda3/lib/python3.8/site-packages/numpy/lib/nanfunctions.py:1113: RuntimeWarning: All-NaN slice encountered\n",
      "  r, k = function_base._ureduce(a, func=_nanmedian, axis=axis, out=out,\n"
     ]
    },
    {
     "name": "stdout",
     "output_type": "stream",
     "text": [
      "5851_1\n"
     ]
    },
    {
     "name": "stderr",
     "output_type": "stream",
     "text": [
      "/Users/tracysanchezpacheco/opt/anaconda3/lib/python3.8/site-packages/numpy/lib/nanfunctions.py:1113: RuntimeWarning: All-NaN slice encountered\n",
      "  r, k = function_base._ureduce(a, func=_nanmedian, axis=axis, out=out,\n"
     ]
    },
    {
     "name": "stdout",
     "output_type": "stream",
     "text": [
      "5851_2\n"
     ]
    },
    {
     "name": "stderr",
     "output_type": "stream",
     "text": [
      "/Users/tracysanchezpacheco/opt/anaconda3/lib/python3.8/site-packages/numpy/lib/nanfunctions.py:1113: RuntimeWarning: All-NaN slice encountered\n",
      "  r, k = function_base._ureduce(a, func=_nanmedian, axis=axis, out=out,\n"
     ]
    },
    {
     "name": "stdout",
     "output_type": "stream",
     "text": [
      "5851_3\n"
     ]
    },
    {
     "name": "stderr",
     "output_type": "stream",
     "text": [
      "/Users/tracysanchezpacheco/opt/anaconda3/lib/python3.8/site-packages/numpy/lib/nanfunctions.py:1113: RuntimeWarning: All-NaN slice encountered\n",
      "  r, k = function_base._ureduce(a, func=_nanmedian, axis=axis, out=out,\n"
     ]
    },
    {
     "name": "stdout",
     "output_type": "stream",
     "text": [
      "5851_4\n"
     ]
    },
    {
     "name": "stderr",
     "output_type": "stream",
     "text": [
      "/Users/tracysanchezpacheco/opt/anaconda3/lib/python3.8/site-packages/numpy/lib/nanfunctions.py:1113: RuntimeWarning: All-NaN slice encountered\n",
      "  r, k = function_base._ureduce(a, func=_nanmedian, axis=axis, out=out,\n"
     ]
    },
    {
     "name": "stdout",
     "output_type": "stream",
     "text": [
      "5851_5\n"
     ]
    },
    {
     "name": "stderr",
     "output_type": "stream",
     "text": [
      "/Users/tracysanchezpacheco/opt/anaconda3/lib/python3.8/site-packages/numpy/lib/nanfunctions.py:1113: RuntimeWarning: All-NaN slice encountered\n",
      "  r, k = function_base._ureduce(a, func=_nanmedian, axis=axis, out=out,\n"
     ]
    },
    {
     "name": "stdout",
     "output_type": "stream",
     "text": [
      "5972_1\n"
     ]
    },
    {
     "name": "stderr",
     "output_type": "stream",
     "text": [
      "/Users/tracysanchezpacheco/opt/anaconda3/lib/python3.8/site-packages/numpy/lib/nanfunctions.py:1113: RuntimeWarning: All-NaN slice encountered\n",
      "  r, k = function_base._ureduce(a, func=_nanmedian, axis=axis, out=out,\n"
     ]
    },
    {
     "name": "stdout",
     "output_type": "stream",
     "text": [
      "5972_2\n"
     ]
    },
    {
     "name": "stderr",
     "output_type": "stream",
     "text": [
      "/Users/tracysanchezpacheco/opt/anaconda3/lib/python3.8/site-packages/numpy/lib/nanfunctions.py:1113: RuntimeWarning: All-NaN slice encountered\n",
      "  r, k = function_base._ureduce(a, func=_nanmedian, axis=axis, out=out,\n"
     ]
    },
    {
     "name": "stdout",
     "output_type": "stream",
     "text": [
      "5972_3\n"
     ]
    },
    {
     "name": "stderr",
     "output_type": "stream",
     "text": [
      "/Users/tracysanchezpacheco/opt/anaconda3/lib/python3.8/site-packages/numpy/lib/nanfunctions.py:1113: RuntimeWarning: All-NaN slice encountered\n",
      "  r, k = function_base._ureduce(a, func=_nanmedian, axis=axis, out=out,\n"
     ]
    },
    {
     "name": "stdout",
     "output_type": "stream",
     "text": [
      "5972_4\n"
     ]
    },
    {
     "name": "stderr",
     "output_type": "stream",
     "text": [
      "/Users/tracysanchezpacheco/opt/anaconda3/lib/python3.8/site-packages/numpy/lib/nanfunctions.py:1113: RuntimeWarning: All-NaN slice encountered\n",
      "  r, k = function_base._ureduce(a, func=_nanmedian, axis=axis, out=out,\n"
     ]
    },
    {
     "name": "stdout",
     "output_type": "stream",
     "text": [
      "5972_5\n"
     ]
    },
    {
     "name": "stderr",
     "output_type": "stream",
     "text": [
      "/Users/tracysanchezpacheco/opt/anaconda3/lib/python3.8/site-packages/numpy/lib/nanfunctions.py:1113: RuntimeWarning: All-NaN slice encountered\n",
      "  r, k = function_base._ureduce(a, func=_nanmedian, axis=axis, out=out,\n"
     ]
    },
    {
     "name": "stdout",
     "output_type": "stream",
     "text": [
      "6406_1\n"
     ]
    },
    {
     "name": "stderr",
     "output_type": "stream",
     "text": [
      "/Users/tracysanchezpacheco/opt/anaconda3/lib/python3.8/site-packages/numpy/lib/nanfunctions.py:1113: RuntimeWarning: All-NaN slice encountered\n",
      "  r, k = function_base._ureduce(a, func=_nanmedian, axis=axis, out=out,\n"
     ]
    },
    {
     "name": "stdout",
     "output_type": "stream",
     "text": [
      "6406_2\n"
     ]
    },
    {
     "name": "stderr",
     "output_type": "stream",
     "text": [
      "/Users/tracysanchezpacheco/opt/anaconda3/lib/python3.8/site-packages/numpy/lib/nanfunctions.py:1113: RuntimeWarning: All-NaN slice encountered\n",
      "  r, k = function_base._ureduce(a, func=_nanmedian, axis=axis, out=out,\n"
     ]
    },
    {
     "name": "stdout",
     "output_type": "stream",
     "text": [
      "6406_3\n"
     ]
    },
    {
     "name": "stderr",
     "output_type": "stream",
     "text": [
      "/Users/tracysanchezpacheco/opt/anaconda3/lib/python3.8/site-packages/numpy/lib/nanfunctions.py:1113: RuntimeWarning: All-NaN slice encountered\n",
      "  r, k = function_base._ureduce(a, func=_nanmedian, axis=axis, out=out,\n"
     ]
    },
    {
     "name": "stdout",
     "output_type": "stream",
     "text": [
      "6406_4\n"
     ]
    },
    {
     "name": "stderr",
     "output_type": "stream",
     "text": [
      "/Users/tracysanchezpacheco/opt/anaconda3/lib/python3.8/site-packages/numpy/lib/nanfunctions.py:1113: RuntimeWarning: All-NaN slice encountered\n",
      "  r, k = function_base._ureduce(a, func=_nanmedian, axis=axis, out=out,\n"
     ]
    },
    {
     "name": "stdout",
     "output_type": "stream",
     "text": [
      "6406_5\n"
     ]
    },
    {
     "name": "stderr",
     "output_type": "stream",
     "text": [
      "/Users/tracysanchezpacheco/opt/anaconda3/lib/python3.8/site-packages/numpy/lib/nanfunctions.py:1113: RuntimeWarning: All-NaN slice encountered\n",
      "  r, k = function_base._ureduce(a, func=_nanmedian, axis=axis, out=out,\n"
     ]
    },
    {
     "name": "stdout",
     "output_type": "stream",
     "text": [
      "7081_1\n"
     ]
    },
    {
     "name": "stderr",
     "output_type": "stream",
     "text": [
      "/Users/tracysanchezpacheco/opt/anaconda3/lib/python3.8/site-packages/numpy/lib/nanfunctions.py:1113: RuntimeWarning: All-NaN slice encountered\n",
      "  r, k = function_base._ureduce(a, func=_nanmedian, axis=axis, out=out,\n"
     ]
    },
    {
     "name": "stdout",
     "output_type": "stream",
     "text": [
      "7081_2\n"
     ]
    },
    {
     "name": "stderr",
     "output_type": "stream",
     "text": [
      "/Users/tracysanchezpacheco/opt/anaconda3/lib/python3.8/site-packages/numpy/lib/nanfunctions.py:1113: RuntimeWarning: All-NaN slice encountered\n",
      "  r, k = function_base._ureduce(a, func=_nanmedian, axis=axis, out=out,\n"
     ]
    },
    {
     "name": "stdout",
     "output_type": "stream",
     "text": [
      "7081_3\n"
     ]
    },
    {
     "name": "stderr",
     "output_type": "stream",
     "text": [
      "/Users/tracysanchezpacheco/opt/anaconda3/lib/python3.8/site-packages/numpy/lib/nanfunctions.py:1113: RuntimeWarning: All-NaN slice encountered\n",
      "  r, k = function_base._ureduce(a, func=_nanmedian, axis=axis, out=out,\n"
     ]
    },
    {
     "name": "stdout",
     "output_type": "stream",
     "text": [
      "7081_4\n"
     ]
    },
    {
     "name": "stderr",
     "output_type": "stream",
     "text": [
      "/Users/tracysanchezpacheco/opt/anaconda3/lib/python3.8/site-packages/numpy/lib/nanfunctions.py:1113: RuntimeWarning: All-NaN slice encountered\n",
      "  r, k = function_base._ureduce(a, func=_nanmedian, axis=axis, out=out,\n"
     ]
    },
    {
     "name": "stdout",
     "output_type": "stream",
     "text": [
      "7081_5\n"
     ]
    },
    {
     "name": "stderr",
     "output_type": "stream",
     "text": [
      "/Users/tracysanchezpacheco/opt/anaconda3/lib/python3.8/site-packages/numpy/lib/nanfunctions.py:1113: RuntimeWarning: All-NaN slice encountered\n",
      "  r, k = function_base._ureduce(a, func=_nanmedian, axis=axis, out=out,\n"
     ]
    },
    {
     "name": "stdout",
     "output_type": "stream",
     "text": [
      "7393_1\n"
     ]
    },
    {
     "name": "stderr",
     "output_type": "stream",
     "text": [
      "/Users/tracysanchezpacheco/opt/anaconda3/lib/python3.8/site-packages/numpy/lib/nanfunctions.py:1113: RuntimeWarning: All-NaN slice encountered\n",
      "  r, k = function_base._ureduce(a, func=_nanmedian, axis=axis, out=out,\n"
     ]
    },
    {
     "name": "stdout",
     "output_type": "stream",
     "text": [
      "7393_2\n"
     ]
    },
    {
     "name": "stderr",
     "output_type": "stream",
     "text": [
      "/Users/tracysanchezpacheco/opt/anaconda3/lib/python3.8/site-packages/numpy/lib/nanfunctions.py:1113: RuntimeWarning: All-NaN slice encountered\n",
      "  r, k = function_base._ureduce(a, func=_nanmedian, axis=axis, out=out,\n"
     ]
    },
    {
     "name": "stdout",
     "output_type": "stream",
     "text": [
      "7393_3\n"
     ]
    },
    {
     "name": "stderr",
     "output_type": "stream",
     "text": [
      "/Users/tracysanchezpacheco/opt/anaconda3/lib/python3.8/site-packages/numpy/lib/nanfunctions.py:1113: RuntimeWarning: All-NaN slice encountered\n",
      "  r, k = function_base._ureduce(a, func=_nanmedian, axis=axis, out=out,\n"
     ]
    },
    {
     "name": "stdout",
     "output_type": "stream",
     "text": [
      "7393_4\n"
     ]
    },
    {
     "name": "stderr",
     "output_type": "stream",
     "text": [
      "/Users/tracysanchezpacheco/opt/anaconda3/lib/python3.8/site-packages/numpy/lib/nanfunctions.py:1113: RuntimeWarning: All-NaN slice encountered\n",
      "  r, k = function_base._ureduce(a, func=_nanmedian, axis=axis, out=out,\n"
     ]
    },
    {
     "name": "stdout",
     "output_type": "stream",
     "text": [
      "7393_5\n"
     ]
    },
    {
     "name": "stderr",
     "output_type": "stream",
     "text": [
      "/Users/tracysanchezpacheco/opt/anaconda3/lib/python3.8/site-packages/numpy/lib/nanfunctions.py:1113: RuntimeWarning: All-NaN slice encountered\n",
      "  r, k = function_base._ureduce(a, func=_nanmedian, axis=axis, out=out,\n"
     ]
    },
    {
     "name": "stdout",
     "output_type": "stream",
     "text": [
      "7823_1\n"
     ]
    },
    {
     "name": "stderr",
     "output_type": "stream",
     "text": [
      "/Users/tracysanchezpacheco/opt/anaconda3/lib/python3.8/site-packages/numpy/lib/nanfunctions.py:1113: RuntimeWarning: All-NaN slice encountered\n",
      "  r, k = function_base._ureduce(a, func=_nanmedian, axis=axis, out=out,\n"
     ]
    },
    {
     "name": "stdout",
     "output_type": "stream",
     "text": [
      "7823_2\n"
     ]
    },
    {
     "name": "stderr",
     "output_type": "stream",
     "text": [
      "/Users/tracysanchezpacheco/opt/anaconda3/lib/python3.8/site-packages/numpy/lib/nanfunctions.py:1113: RuntimeWarning: All-NaN slice encountered\n",
      "  r, k = function_base._ureduce(a, func=_nanmedian, axis=axis, out=out,\n"
     ]
    },
    {
     "name": "stdout",
     "output_type": "stream",
     "text": [
      "7823_3\n"
     ]
    },
    {
     "name": "stderr",
     "output_type": "stream",
     "text": [
      "/Users/tracysanchezpacheco/opt/anaconda3/lib/python3.8/site-packages/numpy/lib/nanfunctions.py:1113: RuntimeWarning: All-NaN slice encountered\n",
      "  r, k = function_base._ureduce(a, func=_nanmedian, axis=axis, out=out,\n"
     ]
    },
    {
     "name": "stdout",
     "output_type": "stream",
     "text": [
      "7823_4\n"
     ]
    },
    {
     "name": "stderr",
     "output_type": "stream",
     "text": [
      "/Users/tracysanchezpacheco/opt/anaconda3/lib/python3.8/site-packages/numpy/lib/nanfunctions.py:1113: RuntimeWarning: All-NaN slice encountered\n",
      "  r, k = function_base._ureduce(a, func=_nanmedian, axis=axis, out=out,\n"
     ]
    },
    {
     "name": "stdout",
     "output_type": "stream",
     "text": [
      "7823_5\n"
     ]
    },
    {
     "name": "stderr",
     "output_type": "stream",
     "text": [
      "/Users/tracysanchezpacheco/opt/anaconda3/lib/python3.8/site-packages/numpy/lib/nanfunctions.py:1113: RuntimeWarning: All-NaN slice encountered\n",
      "  r, k = function_base._ureduce(a, func=_nanmedian, axis=axis, out=out,\n"
     ]
    },
    {
     "name": "stdout",
     "output_type": "stream",
     "text": [
      "7935_1\n"
     ]
    },
    {
     "name": "stderr",
     "output_type": "stream",
     "text": [
      "/Users/tracysanchezpacheco/opt/anaconda3/lib/python3.8/site-packages/numpy/lib/nanfunctions.py:1113: RuntimeWarning: All-NaN slice encountered\n",
      "  r, k = function_base._ureduce(a, func=_nanmedian, axis=axis, out=out,\n"
     ]
    },
    {
     "name": "stdout",
     "output_type": "stream",
     "text": [
      "7935_2\n"
     ]
    },
    {
     "name": "stderr",
     "output_type": "stream",
     "text": [
      "/Users/tracysanchezpacheco/opt/anaconda3/lib/python3.8/site-packages/numpy/lib/nanfunctions.py:1113: RuntimeWarning: All-NaN slice encountered\n",
      "  r, k = function_base._ureduce(a, func=_nanmedian, axis=axis, out=out,\n"
     ]
    },
    {
     "name": "stdout",
     "output_type": "stream",
     "text": [
      "7935_3\n"
     ]
    },
    {
     "name": "stderr",
     "output_type": "stream",
     "text": [
      "/Users/tracysanchezpacheco/opt/anaconda3/lib/python3.8/site-packages/numpy/lib/nanfunctions.py:1113: RuntimeWarning: All-NaN slice encountered\n",
      "  r, k = function_base._ureduce(a, func=_nanmedian, axis=axis, out=out,\n"
     ]
    },
    {
     "name": "stdout",
     "output_type": "stream",
     "text": [
      "7935_4\n"
     ]
    },
    {
     "name": "stderr",
     "output_type": "stream",
     "text": [
      "/Users/tracysanchezpacheco/opt/anaconda3/lib/python3.8/site-packages/numpy/lib/nanfunctions.py:1113: RuntimeWarning: All-NaN slice encountered\n",
      "  r, k = function_base._ureduce(a, func=_nanmedian, axis=axis, out=out,\n"
     ]
    },
    {
     "name": "stdout",
     "output_type": "stream",
     "text": [
      "7935_5\n"
     ]
    },
    {
     "name": "stderr",
     "output_type": "stream",
     "text": [
      "/Users/tracysanchezpacheco/opt/anaconda3/lib/python3.8/site-packages/numpy/lib/nanfunctions.py:1113: RuntimeWarning: All-NaN slice encountered\n",
      "  r, k = function_base._ureduce(a, func=_nanmedian, axis=axis, out=out,\n"
     ]
    },
    {
     "name": "stdout",
     "output_type": "stream",
     "text": [
      "8629_1\n"
     ]
    },
    {
     "name": "stderr",
     "output_type": "stream",
     "text": [
      "/Users/tracysanchezpacheco/opt/anaconda3/lib/python3.8/site-packages/numpy/lib/nanfunctions.py:1113: RuntimeWarning: All-NaN slice encountered\n",
      "  r, k = function_base._ureduce(a, func=_nanmedian, axis=axis, out=out,\n"
     ]
    },
    {
     "name": "stdout",
     "output_type": "stream",
     "text": [
      "8629_2\n"
     ]
    },
    {
     "name": "stderr",
     "output_type": "stream",
     "text": [
      "/Users/tracysanchezpacheco/opt/anaconda3/lib/python3.8/site-packages/numpy/lib/nanfunctions.py:1113: RuntimeWarning: All-NaN slice encountered\n",
      "  r, k = function_base._ureduce(a, func=_nanmedian, axis=axis, out=out,\n"
     ]
    },
    {
     "name": "stdout",
     "output_type": "stream",
     "text": [
      "8629_3\n"
     ]
    },
    {
     "name": "stderr",
     "output_type": "stream",
     "text": [
      "/Users/tracysanchezpacheco/opt/anaconda3/lib/python3.8/site-packages/numpy/lib/nanfunctions.py:1113: RuntimeWarning: All-NaN slice encountered\n",
      "  r, k = function_base._ureduce(a, func=_nanmedian, axis=axis, out=out,\n"
     ]
    },
    {
     "name": "stdout",
     "output_type": "stream",
     "text": [
      "8629_4\n"
     ]
    },
    {
     "name": "stderr",
     "output_type": "stream",
     "text": [
      "/Users/tracysanchezpacheco/opt/anaconda3/lib/python3.8/site-packages/numpy/lib/nanfunctions.py:1113: RuntimeWarning: All-NaN slice encountered\n",
      "  r, k = function_base._ureduce(a, func=_nanmedian, axis=axis, out=out,\n"
     ]
    },
    {
     "name": "stdout",
     "output_type": "stream",
     "text": [
      "8629_5\n"
     ]
    },
    {
     "name": "stderr",
     "output_type": "stream",
     "text": [
      "/Users/tracysanchezpacheco/opt/anaconda3/lib/python3.8/site-packages/numpy/lib/nanfunctions.py:1113: RuntimeWarning: All-NaN slice encountered\n",
      "  r, k = function_base._ureduce(a, func=_nanmedian, axis=axis, out=out,\n"
     ]
    },
    {
     "name": "stdout",
     "output_type": "stream",
     "text": [
      "9297_1\n"
     ]
    },
    {
     "name": "stderr",
     "output_type": "stream",
     "text": [
      "/Users/tracysanchezpacheco/opt/anaconda3/lib/python3.8/site-packages/numpy/lib/nanfunctions.py:1113: RuntimeWarning: All-NaN slice encountered\n",
      "  r, k = function_base._ureduce(a, func=_nanmedian, axis=axis, out=out,\n"
     ]
    },
    {
     "name": "stdout",
     "output_type": "stream",
     "text": [
      "9297_2\n"
     ]
    },
    {
     "name": "stderr",
     "output_type": "stream",
     "text": [
      "/Users/tracysanchezpacheco/opt/anaconda3/lib/python3.8/site-packages/numpy/lib/nanfunctions.py:1113: RuntimeWarning: All-NaN slice encountered\n",
      "  r, k = function_base._ureduce(a, func=_nanmedian, axis=axis, out=out,\n"
     ]
    },
    {
     "name": "stdout",
     "output_type": "stream",
     "text": [
      "9297_3\n"
     ]
    },
    {
     "name": "stderr",
     "output_type": "stream",
     "text": [
      "/Users/tracysanchezpacheco/opt/anaconda3/lib/python3.8/site-packages/numpy/lib/nanfunctions.py:1113: RuntimeWarning: All-NaN slice encountered\n",
      "  r, k = function_base._ureduce(a, func=_nanmedian, axis=axis, out=out,\n"
     ]
    },
    {
     "name": "stdout",
     "output_type": "stream",
     "text": [
      "9297_4\n"
     ]
    },
    {
     "name": "stderr",
     "output_type": "stream",
     "text": [
      "/Users/tracysanchezpacheco/opt/anaconda3/lib/python3.8/site-packages/numpy/lib/nanfunctions.py:1113: RuntimeWarning: All-NaN slice encountered\n",
      "  r, k = function_base._ureduce(a, func=_nanmedian, axis=axis, out=out,\n"
     ]
    },
    {
     "name": "stdout",
     "output_type": "stream",
     "text": [
      "9297_5\n"
     ]
    },
    {
     "name": "stderr",
     "output_type": "stream",
     "text": [
      "/Users/tracysanchezpacheco/opt/anaconda3/lib/python3.8/site-packages/numpy/lib/nanfunctions.py:1113: RuntimeWarning: All-NaN slice encountered\n",
      "  r, k = function_base._ureduce(a, func=_nanmedian, axis=axis, out=out,\n"
     ]
    },
    {
     "name": "stdout",
     "output_type": "stream",
     "text": [
      "9627_1\n"
     ]
    },
    {
     "name": "stderr",
     "output_type": "stream",
     "text": [
      "/Users/tracysanchezpacheco/opt/anaconda3/lib/python3.8/site-packages/numpy/lib/nanfunctions.py:1113: RuntimeWarning: All-NaN slice encountered\n",
      "  r, k = function_base._ureduce(a, func=_nanmedian, axis=axis, out=out,\n"
     ]
    },
    {
     "name": "stdout",
     "output_type": "stream",
     "text": [
      "9627_2\n"
     ]
    },
    {
     "name": "stderr",
     "output_type": "stream",
     "text": [
      "/Users/tracysanchezpacheco/opt/anaconda3/lib/python3.8/site-packages/numpy/lib/nanfunctions.py:1113: RuntimeWarning: All-NaN slice encountered\n",
      "  r, k = function_base._ureduce(a, func=_nanmedian, axis=axis, out=out,\n"
     ]
    },
    {
     "name": "stdout",
     "output_type": "stream",
     "text": [
      "9627_3\n"
     ]
    },
    {
     "name": "stderr",
     "output_type": "stream",
     "text": [
      "/Users/tracysanchezpacheco/opt/anaconda3/lib/python3.8/site-packages/numpy/lib/nanfunctions.py:1113: RuntimeWarning: All-NaN slice encountered\n",
      "  r, k = function_base._ureduce(a, func=_nanmedian, axis=axis, out=out,\n"
     ]
    },
    {
     "name": "stdout",
     "output_type": "stream",
     "text": [
      "9627_4\n"
     ]
    },
    {
     "name": "stderr",
     "output_type": "stream",
     "text": [
      "/Users/tracysanchezpacheco/opt/anaconda3/lib/python3.8/site-packages/numpy/lib/nanfunctions.py:1113: RuntimeWarning: All-NaN slice encountered\n",
      "  r, k = function_base._ureduce(a, func=_nanmedian, axis=axis, out=out,\n"
     ]
    },
    {
     "name": "stdout",
     "output_type": "stream",
     "text": [
      "9627_5\n"
     ]
    }
   ],
   "source": [
    "path = \"/Volumes/TwoTeras/1_Experiment_2/Eye_Tracking/Pre_processed/03_Individuals_IndividualSessions/\" \n",
    "\n",
    "  \n",
    "# csv files in the path\n",
    "files = glob.glob(path + \"/*.csv\")\n",
    "  \n",
    "# defining an empty list to store \n",
    "# content\n",
    "data_frame = pd.DataFrame()\n",
    "content = []\n",
    "  \n",
    "# checking all the csv files in the \n",
    "# specified path\n",
    "for filename in files:\n",
    "    \n",
    "    # reading content of csv file\n",
    "    # content.append(filename)\n",
    "    One_participant = pd.read_csv(filename)\n",
    "    One_participant.drop(['Unnamed: 0'],axis=1, inplace=True)\n",
    "    #Apply function that marks beggining and end of invalid sections\n",
    "    One_participant[\"Bitmask_flag\"] = bitmask_flag_change(One_participant, \"combinedGazeValidityBitmask\")\n",
    "    One_participant.reset_index(inplace=True)\n",
    "    # Get index of begging and end of invalid events\n",
    "    indexLastValid = One_participant[One_participant[\"Bitmask_flag\"] == \"Invalid_Section_Starts\"].index\n",
    "    indexLastInValid = One_participant[One_participant[\"Bitmask_flag\"] == \"Invalid_Section_Ends\"].index\n",
    "    # Get 20 rows prior to the beggining of the invalid event \n",
    "    indexLower = indexLastValid - 20\n",
    "    indexUpper = indexLastValid\n",
    "    # Since it's possible that the invalid event occured less than 20 rows from the beggining of the file\n",
    "    # we need to correct so that the highest possible index is the firs value in the file\n",
    "    indexLower_r = [0 if i < 0 else i for i in indexLower]\n",
    "    #Create a list with the most common element 200ms before the invalid section started\n",
    "    Elements_to_replace = [One_participant.iloc[down:up,20].mode().iloc[0] for down, up in zip(indexLower_r, indexUpper)]\n",
    "    #Create new column for interpolated events\n",
    "    One_participant[\"Interpolated_collider\"] = One_participant[\"hitObjectColliderName\"]\n",
    "    #Concat the row indexes that need replacement\n",
    "    ranges = list(zip(indexLastValid, indexLastInValid))\n",
    "    #Replace the invalid event with the mode of 20 events prior\n",
    "    for i, (lower, upper) in enumerate(ranges):\n",
    "        One_participant.iloc[lower:upper,-2]  = Elements_to_replace[i]\n",
    "    # Here we look for the patterns contained in the dictionary and create the more general/informative variable Collider_Categorical\n",
    "    One_participant['Collider_Categorical'] = One_participant['Interpolated_collider'].apply(lambda x: next((val for key, val in patterns.items() if re.match(key, x)), default_val))\n",
    "    # Replace coordinates and eucledian distances with Nans\n",
    "    One_participant.loc[One_participant['combinedGazeValidityBitmask'] == 0, ['hitPointOnObject_x', 'hitPointOnObject_y', 'hitPointOnObject_z',' eyePositionCombinedWorld.x', 'eyePositionCombinedWorld.y', 'eyePositionCombinedWorld.z', 'Eucledian_distance']] =  np.nan\n",
    "    indexLastValid = []\n",
    "    indexLastInValid = []\n",
    "    indexLower = []\n",
    "    indexUpper = []\n",
    "    \n",
    "    # 5 point median filter\n",
    "    One_participant[\"hitPointOnObject_x\"] = median_correction(One_participant.hitPointOnObject_x)\n",
    "    One_participant[\"hitPointOnObject_y\"] = median_correction(One_participant.hitPointOnObject_y)\n",
    "    One_participant[\"hitPointOnObject_z\"] = median_correction(One_participant.hitPointOnObject_z)\n",
    "    One_participant[\"eyePositionCombinedWorld.x\"] = median_correction( One_participant[\"eyePositionCombinedWorld.x\"])\n",
    "    One_participant[\"eyePositionCombinedWorld.y\"] = median_correction( One_participant[\"eyePositionCombinedWorld.y\"])\n",
    "    One_participant[\"eyePositionCombinedWorld.z\"] = median_correction( One_participant[\"eyePositionCombinedWorld.z\"])\n",
    "     #Saves an individual file per session per subject with out duplicates\n",
    "    One_participant.to_csv(f\"/Volumes/TwoTeras/1_Experiment_2/Eye_Tracking/Pre_processed/04_Interpolated/{filename[-10:-4]}.csv\", index=True)\n",
    "    print(filename[-10:-4])\n",
    "    content.append(One_participant)\n",
    "\n",
    "# converting content to data frame\n",
    "data_frame = pd.concat(content)"
   ]
  },
  {
   "cell_type": "code",
   "execution_count": 6,
   "id": "3fa1964c-5746-46fc-9f30-d76e69006277",
   "metadata": {},
   "outputs": [
    {
     "data": {
      "text/html": [
       "<div>\n",
       "<style scoped>\n",
       "    .dataframe tbody tr th:only-of-type {\n",
       "        vertical-align: middle;\n",
       "    }\n",
       "\n",
       "    .dataframe tbody tr th {\n",
       "        vertical-align: top;\n",
       "    }\n",
       "\n",
       "    .dataframe thead th {\n",
       "        text-align: right;\n",
       "    }\n",
       "</style>\n",
       "<table border=\"1\" class=\"dataframe\">\n",
       "  <thead>\n",
       "    <tr style=\"text-align: right;\">\n",
       "      <th></th>\n",
       "      <th>index</th>\n",
       "      <th>SubjectID</th>\n",
       "      <th>Session</th>\n",
       "      <th>SessionSubsection</th>\n",
       "      <th>timeStampDataPointEnd</th>\n",
       "      <th>combinedGazeValidityBitmask</th>\n",
       "      <th>eyePositionCombinedWorld.x</th>\n",
       "      <th>eyePositionCombinedWorld.y</th>\n",
       "      <th>eyePositionCombinedWorld.z</th>\n",
       "      <th>eyeDirectionCombinedWorld.y</th>\n",
       "      <th>...</th>\n",
       "      <th>hitPointOnObject_y</th>\n",
       "      <th>hitPointOnObject_z</th>\n",
       "      <th>Eucledian_distance</th>\n",
       "      <th>Collider_Categorical</th>\n",
       "      <th>Face_Hits</th>\n",
       "      <th>Time_Shift</th>\n",
       "      <th>Continuous_Time</th>\n",
       "      <th>Bitmask_flag</th>\n",
       "      <th>Interpolated_collider</th>\n",
       "      <th>eyePositionCombinedWorld.x</th>\n",
       "    </tr>\n",
       "  </thead>\n",
       "  <tbody>\n",
       "    <tr>\n",
       "      <th>114435</th>\n",
       "      <td>114435</td>\n",
       "      <td>9627</td>\n",
       "      <td>5</td>\n",
       "      <td>3</td>\n",
       "      <td>1.668586e+09</td>\n",
       "      <td>3</td>\n",
       "      <td>156.188293</td>\n",
       "      <td>-0.466330</td>\n",
       "      <td>194.696960</td>\n",
       "      <td>0.040248</td>\n",
       "      <td>...</td>\n",
       "      <td>2.447964</td>\n",
       "      <td>184.033463</td>\n",
       "      <td>21.007784</td>\n",
       "      <td>Building</td>\n",
       "      <td>Not_Agent</td>\n",
       "      <td>0.015872</td>\n",
       "      <td>40.003</td>\n",
       "      <td>No_change</td>\n",
       "      <td>Building_94</td>\n",
       "      <td>NaN</td>\n",
       "    </tr>\n",
       "    <tr>\n",
       "      <th>114436</th>\n",
       "      <td>114436</td>\n",
       "      <td>9627</td>\n",
       "      <td>5</td>\n",
       "      <td>3</td>\n",
       "      <td>1.668586e+09</td>\n",
       "      <td>0</td>\n",
       "      <td>156.077850</td>\n",
       "      <td>-0.465736</td>\n",
       "      <td>194.690529</td>\n",
       "      <td>-1.118201</td>\n",
       "      <td>...</td>\n",
       "      <td>1.410450</td>\n",
       "      <td>183.935150</td>\n",
       "      <td>NaN</td>\n",
       "      <td>Background</td>\n",
       "      <td>Not_Agent</td>\n",
       "      <td>0.014880</td>\n",
       "      <td>40.004</td>\n",
       "      <td>121.812462</td>\n",
       "      <td>road_base_network.004</td>\n",
       "      <td>NaN</td>\n",
       "    </tr>\n",
       "    <tr>\n",
       "      <th>114437</th>\n",
       "      <td>114437</td>\n",
       "      <td>9627</td>\n",
       "      <td>5</td>\n",
       "      <td>3</td>\n",
       "      <td>1.668586e+09</td>\n",
       "      <td>0</td>\n",
       "      <td>156.000809</td>\n",
       "      <td>-0.465142</td>\n",
       "      <td>194.684097</td>\n",
       "      <td>-1.119434</td>\n",
       "      <td>...</td>\n",
       "      <td>0.372935</td>\n",
       "      <td>183.836838</td>\n",
       "      <td>NaN</td>\n",
       "      <td>Background</td>\n",
       "      <td>Not_Agent</td>\n",
       "      <td>0.017360</td>\n",
       "      <td>40.004</td>\n",
       "      <td>121.812462</td>\n",
       "      <td>road_base_network.004</td>\n",
       "      <td>NaN</td>\n",
       "    </tr>\n",
       "    <tr>\n",
       "      <th>114438</th>\n",
       "      <td>114438</td>\n",
       "      <td>9627</td>\n",
       "      <td>5</td>\n",
       "      <td>3</td>\n",
       "      <td>1.668586e+09</td>\n",
       "      <td>0</td>\n",
       "      <td>155.917892</td>\n",
       "      <td>NaN</td>\n",
       "      <td>NaN</td>\n",
       "      <td>-1.121739</td>\n",
       "      <td>...</td>\n",
       "      <td>NaN</td>\n",
       "      <td>NaN</td>\n",
       "      <td>NaN</td>\n",
       "      <td>Background</td>\n",
       "      <td>Not_Agent</td>\n",
       "      <td>0.015872</td>\n",
       "      <td>40.004</td>\n",
       "      <td>121.812462</td>\n",
       "      <td>road_base_network.004</td>\n",
       "      <td>NaN</td>\n",
       "    </tr>\n",
       "    <tr>\n",
       "      <th>114439</th>\n",
       "      <td>114439</td>\n",
       "      <td>9627</td>\n",
       "      <td>5</td>\n",
       "      <td>3</td>\n",
       "      <td>1.668586e+09</td>\n",
       "      <td>0</td>\n",
       "      <td>155.840256</td>\n",
       "      <td>NaN</td>\n",
       "      <td>NaN</td>\n",
       "      <td>-1.122891</td>\n",
       "      <td>...</td>\n",
       "      <td>NaN</td>\n",
       "      <td>NaN</td>\n",
       "      <td>NaN</td>\n",
       "      <td>Background</td>\n",
       "      <td>Not_Agent</td>\n",
       "      <td>0.015377</td>\n",
       "      <td>40.004</td>\n",
       "      <td>121.812462</td>\n",
       "      <td>road_base_network.004</td>\n",
       "      <td>NaN</td>\n",
       "    </tr>\n",
       "    <tr>\n",
       "      <th>114440</th>\n",
       "      <td>114440</td>\n",
       "      <td>9627</td>\n",
       "      <td>5</td>\n",
       "      <td>3</td>\n",
       "      <td>1.668586e+09</td>\n",
       "      <td>0</td>\n",
       "      <td>155.767273</td>\n",
       "      <td>-0.458764</td>\n",
       "      <td>194.595917</td>\n",
       "      <td>-1.124001</td>\n",
       "      <td>...</td>\n",
       "      <td>3.469473</td>\n",
       "      <td>170.495651</td>\n",
       "      <td>NaN</td>\n",
       "      <td>Background</td>\n",
       "      <td>Not_Agent</td>\n",
       "      <td>0.015376</td>\n",
       "      <td>40.005</td>\n",
       "      <td>121.812462</td>\n",
       "      <td>road_base_network.004</td>\n",
       "      <td>NaN</td>\n",
       "    </tr>\n",
       "    <tr>\n",
       "      <th>114441</th>\n",
       "      <td>114441</td>\n",
       "      <td>9627</td>\n",
       "      <td>5</td>\n",
       "      <td>3</td>\n",
       "      <td>1.668586e+09</td>\n",
       "      <td>0</td>\n",
       "      <td>155.691559</td>\n",
       "      <td>-0.458491</td>\n",
       "      <td>194.589500</td>\n",
       "      <td>-1.124369</td>\n",
       "      <td>...</td>\n",
       "      <td>3.206465</td>\n",
       "      <td>156.405624</td>\n",
       "      <td>NaN</td>\n",
       "      <td>Background</td>\n",
       "      <td>Not_Agent</td>\n",
       "      <td>0.015872</td>\n",
       "      <td>40.005</td>\n",
       "      <td>121.812462</td>\n",
       "      <td>road_base_network.004</td>\n",
       "      <td>NaN</td>\n",
       "    </tr>\n",
       "    <tr>\n",
       "      <th>114442</th>\n",
       "      <td>114442</td>\n",
       "      <td>9627</td>\n",
       "      <td>5</td>\n",
       "      <td>3</td>\n",
       "      <td>1.668586e+09</td>\n",
       "      <td>3</td>\n",
       "      <td>155.641266</td>\n",
       "      <td>-0.458764</td>\n",
       "      <td>194.583084</td>\n",
       "      <td>0.059437</td>\n",
       "      <td>...</td>\n",
       "      <td>3.345662</td>\n",
       "      <td>157.158630</td>\n",
       "      <td>66.231726</td>\n",
       "      <td>Background</td>\n",
       "      <td>Not_Agent</td>\n",
       "      <td>0.016864</td>\n",
       "      <td>40.005</td>\n",
       "      <td>Invalid_Section_Ends</td>\n",
       "      <td>CollisionObject1</td>\n",
       "      <td>NaN</td>\n",
       "    </tr>\n",
       "    <tr>\n",
       "      <th>114443</th>\n",
       "      <td>114443</td>\n",
       "      <td>9627</td>\n",
       "      <td>5</td>\n",
       "      <td>3</td>\n",
       "      <td>1.668586e+09</td>\n",
       "      <td>3</td>\n",
       "      <td>155.559509</td>\n",
       "      <td>-0.459119</td>\n",
       "      <td>194.576935</td>\n",
       "      <td>0.023262</td>\n",
       "      <td>...</td>\n",
       "      <td>3.144560</td>\n",
       "      <td>163.827141</td>\n",
       "      <td>146.308296</td>\n",
       "      <td>Background</td>\n",
       "      <td>Not_Agent</td>\n",
       "      <td>0.014880</td>\n",
       "      <td>40.005</td>\n",
       "      <td>No_change</td>\n",
       "      <td>Cypress_v1_2 (5)</td>\n",
       "      <td>NaN</td>\n",
       "    </tr>\n",
       "    <tr>\n",
       "      <th>114444</th>\n",
       "      <td>114444</td>\n",
       "      <td>9627</td>\n",
       "      <td>5</td>\n",
       "      <td>3</td>\n",
       "      <td>1.668586e+09</td>\n",
       "      <td>3</td>\n",
       "      <td>155.482727</td>\n",
       "      <td>-0.459474</td>\n",
       "      <td>194.570786</td>\n",
       "      <td>0.036100</td>\n",
       "      <td>...</td>\n",
       "      <td>3.345662</td>\n",
       "      <td>157.158630</td>\n",
       "      <td>105.507892</td>\n",
       "      <td>Building</td>\n",
       "      <td>Not_Agent</td>\n",
       "      <td>0.016037</td>\n",
       "      <td>40.006</td>\n",
       "      <td>No_change</td>\n",
       "      <td>Building_103</td>\n",
       "      <td>NaN</td>\n",
       "    </tr>\n",
       "    <tr>\n",
       "      <th>114445</th>\n",
       "      <td>114445</td>\n",
       "      <td>9627</td>\n",
       "      <td>5</td>\n",
       "      <td>3</td>\n",
       "      <td>1.668586e+09</td>\n",
       "      <td>3</td>\n",
       "      <td>155.406952</td>\n",
       "      <td>-0.459860</td>\n",
       "      <td>194.558289</td>\n",
       "      <td>0.049465</td>\n",
       "      <td>...</td>\n",
       "      <td>2.943458</td>\n",
       "      <td>157.158630</td>\n",
       "      <td>65.533434</td>\n",
       "      <td>Background</td>\n",
       "      <td>Not_Agent</td>\n",
       "      <td>0.015211</td>\n",
       "      <td>40.006</td>\n",
       "      <td>No_change</td>\n",
       "      <td>CollisionObject1</td>\n",
       "      <td>NaN</td>\n",
       "    </tr>\n",
       "    <tr>\n",
       "      <th>114446</th>\n",
       "      <td>114446</td>\n",
       "      <td>9627</td>\n",
       "      <td>5</td>\n",
       "      <td>3</td>\n",
       "      <td>1.668586e+09</td>\n",
       "      <td>3</td>\n",
       "      <td>155.331039</td>\n",
       "      <td>-0.459860</td>\n",
       "      <td>194.545486</td>\n",
       "      <td>0.044747</td>\n",
       "      <td>...</td>\n",
       "      <td>2.770829</td>\n",
       "      <td>170.640244</td>\n",
       "      <td>144.111122</td>\n",
       "      <td>Background</td>\n",
       "      <td>Not_Agent</td>\n",
       "      <td>0.015376</td>\n",
       "      <td>40.006</td>\n",
       "      <td>No_change</td>\n",
       "      <td>Cypress_v1_2 (5)</td>\n",
       "      <td>NaN</td>\n",
       "    </tr>\n",
       "    <tr>\n",
       "      <th>114447</th>\n",
       "      <td>114447</td>\n",
       "      <td>9627</td>\n",
       "      <td>5</td>\n",
       "      <td>3</td>\n",
       "      <td>1.668586e+09</td>\n",
       "      <td>3</td>\n",
       "      <td>155.257080</td>\n",
       "      <td>-0.459860</td>\n",
       "      <td>194.532776</td>\n",
       "      <td>0.046733</td>\n",
       "      <td>...</td>\n",
       "      <td>2.770829</td>\n",
       "      <td>170.640244</td>\n",
       "      <td>66.301662</td>\n",
       "      <td>Background</td>\n",
       "      <td>Not_Agent</td>\n",
       "      <td>0.016368</td>\n",
       "      <td>40.006</td>\n",
       "      <td>No_change</td>\n",
       "      <td>CollisionObject1</td>\n",
       "      <td>NaN</td>\n",
       "    </tr>\n",
       "    <tr>\n",
       "      <th>114448</th>\n",
       "      <td>114448</td>\n",
       "      <td>9627</td>\n",
       "      <td>5</td>\n",
       "      <td>3</td>\n",
       "      <td>1.668586e+09</td>\n",
       "      <td>3</td>\n",
       "      <td>155.171646</td>\n",
       "      <td>-0.458309</td>\n",
       "      <td>194.519348</td>\n",
       "      <td>0.037188</td>\n",
       "      <td>...</td>\n",
       "      <td>4.271846</td>\n",
       "      <td>142.315598</td>\n",
       "      <td>66.982508</td>\n",
       "      <td>Background</td>\n",
       "      <td>Not_Agent</td>\n",
       "      <td>0.047617</td>\n",
       "      <td>40.007</td>\n",
       "      <td>No_change</td>\n",
       "      <td>CollisionObject1</td>\n",
       "      <td>NaN</td>\n",
       "    </tr>\n",
       "    <tr>\n",
       "      <th>114449</th>\n",
       "      <td>114449</td>\n",
       "      <td>9627</td>\n",
       "      <td>5</td>\n",
       "      <td>3</td>\n",
       "      <td>1.668586e+09</td>\n",
       "      <td>3</td>\n",
       "      <td>154.888794</td>\n",
       "      <td>-0.451597</td>\n",
       "      <td>194.471451</td>\n",
       "      <td>0.035961</td>\n",
       "      <td>...</td>\n",
       "      <td>2.711248</td>\n",
       "      <td>142.315598</td>\n",
       "      <td>145.012491</td>\n",
       "      <td>Background</td>\n",
       "      <td>Not_Agent</td>\n",
       "      <td>0.023809</td>\n",
       "      <td>40.008</td>\n",
       "      <td>No_change</td>\n",
       "      <td>Cypress_v1_2 (5)</td>\n",
       "      <td>NaN</td>\n",
       "    </tr>\n",
       "    <tr>\n",
       "      <th>114450</th>\n",
       "      <td>114450</td>\n",
       "      <td>9627</td>\n",
       "      <td>5</td>\n",
       "      <td>3</td>\n",
       "      <td>1.668586e+09</td>\n",
       "      <td>3</td>\n",
       "      <td>154.814865</td>\n",
       "      <td>-0.449886</td>\n",
       "      <td>194.458878</td>\n",
       "      <td>0.032667</td>\n",
       "      <td>...</td>\n",
       "      <td>2.711248</td>\n",
       "      <td>142.315598</td>\n",
       "      <td>144.640784</td>\n",
       "      <td>Background</td>\n",
       "      <td>Not_Agent</td>\n",
       "      <td>0.015375</td>\n",
       "      <td>40.008</td>\n",
       "      <td>No_change</td>\n",
       "      <td>Cypress_v1_2 (5)</td>\n",
       "      <td>NaN</td>\n",
       "    </tr>\n",
       "    <tr>\n",
       "      <th>114451</th>\n",
       "      <td>114451</td>\n",
       "      <td>9627</td>\n",
       "      <td>5</td>\n",
       "      <td>3</td>\n",
       "      <td>1.668586e+09</td>\n",
       "      <td>3</td>\n",
       "      <td>154.729462</td>\n",
       "      <td>-0.449011</td>\n",
       "      <td>194.446228</td>\n",
       "      <td>0.022127</td>\n",
       "      <td>...</td>\n",
       "      <td>2.711248</td>\n",
       "      <td>142.315598</td>\n",
       "      <td>142.914449</td>\n",
       "      <td>Background</td>\n",
       "      <td>Not_Agent</td>\n",
       "      <td>0.015872</td>\n",
       "      <td>40.008</td>\n",
       "      <td>No_change</td>\n",
       "      <td>Cypress_v1_2 (5)</td>\n",
       "      <td>NaN</td>\n",
       "    </tr>\n",
       "    <tr>\n",
       "      <th>114452</th>\n",
       "      <td>114452</td>\n",
       "      <td>9627</td>\n",
       "      <td>5</td>\n",
       "      <td>3</td>\n",
       "      <td>1.668586e+09</td>\n",
       "      <td>3</td>\n",
       "      <td>154.642258</td>\n",
       "      <td>-0.447572</td>\n",
       "      <td>194.432602</td>\n",
       "      <td>0.020772</td>\n",
       "      <td>...</td>\n",
       "      <td>2.499768</td>\n",
       "      <td>142.094116</td>\n",
       "      <td>141.986386</td>\n",
       "      <td>Background</td>\n",
       "      <td>Not_Agent</td>\n",
       "      <td>0.016367</td>\n",
       "      <td>40.008</td>\n",
       "      <td>No_change</td>\n",
       "      <td>Cypress_v1_2 (5)</td>\n",
       "      <td>NaN</td>\n",
       "    </tr>\n",
       "    <tr>\n",
       "      <th>114453</th>\n",
       "      <td>114453</td>\n",
       "      <td>9627</td>\n",
       "      <td>5</td>\n",
       "      <td>3</td>\n",
       "      <td>1.668586e+09</td>\n",
       "      <td>3</td>\n",
       "      <td>154.564423</td>\n",
       "      <td>-0.445751</td>\n",
       "      <td>194.419678</td>\n",
       "      <td>0.017987</td>\n",
       "      <td>...</td>\n",
       "      <td>2.105255</td>\n",
       "      <td>142.094116</td>\n",
       "      <td>141.915683</td>\n",
       "      <td>Background</td>\n",
       "      <td>Not_Agent</td>\n",
       "      <td>0.015872</td>\n",
       "      <td>40.009</td>\n",
       "      <td>No_change</td>\n",
       "      <td>Cypress_v1_2 (5)</td>\n",
       "      <td>NaN</td>\n",
       "    </tr>\n",
       "    <tr>\n",
       "      <th>114454</th>\n",
       "      <td>114454</td>\n",
       "      <td>9627</td>\n",
       "      <td>5</td>\n",
       "      <td>3</td>\n",
       "      <td>1.668586e+09</td>\n",
       "      <td>3</td>\n",
       "      <td>154.487350</td>\n",
       "      <td>-0.443924</td>\n",
       "      <td>194.406754</td>\n",
       "      <td>0.016811</td>\n",
       "      <td>...</td>\n",
       "      <td>1.939031</td>\n",
       "      <td>142.094116</td>\n",
       "      <td>141.846360</td>\n",
       "      <td>Background</td>\n",
       "      <td>Not_Agent</td>\n",
       "      <td>0.015378</td>\n",
       "      <td>40.009</td>\n",
       "      <td>No_change</td>\n",
       "      <td>Cypress_v1_2 (5)</td>\n",
       "      <td>NaN</td>\n",
       "    </tr>\n",
       "    <tr>\n",
       "      <th>114455</th>\n",
       "      <td>114455</td>\n",
       "      <td>9627</td>\n",
       "      <td>5</td>\n",
       "      <td>3</td>\n",
       "      <td>1.668586e+09</td>\n",
       "      <td>3</td>\n",
       "      <td>154.411118</td>\n",
       "      <td>-0.442104</td>\n",
       "      <td>194.394180</td>\n",
       "      <td>0.009240</td>\n",
       "      <td>...</td>\n",
       "      <td>0.361232</td>\n",
       "      <td>171.827667</td>\n",
       "      <td>62.308994</td>\n",
       "      <td>Background</td>\n",
       "      <td>Not_Agent</td>\n",
       "      <td>0.017855</td>\n",
       "      <td>40.009</td>\n",
       "      <td>No_change</td>\n",
       "      <td>Hedge_7</td>\n",
       "      <td>NaN</td>\n",
       "    </tr>\n",
       "    <tr>\n",
       "      <th>114456</th>\n",
       "      <td>114456</td>\n",
       "      <td>9627</td>\n",
       "      <td>5</td>\n",
       "      <td>3</td>\n",
       "      <td>1.668586e+09</td>\n",
       "      <td>3</td>\n",
       "      <td>154.324936</td>\n",
       "      <td>-0.439916</td>\n",
       "      <td>194.379852</td>\n",
       "      <td>0.011320</td>\n",
       "      <td>...</td>\n",
       "      <td>0.275608</td>\n",
       "      <td>171.895660</td>\n",
       "      <td>62.316794</td>\n",
       "      <td>Background</td>\n",
       "      <td>Not_Agent</td>\n",
       "      <td>0.015376</td>\n",
       "      <td>40.010</td>\n",
       "      <td>No_change</td>\n",
       "      <td>Hedge_7</td>\n",
       "      <td>NaN</td>\n",
       "    </tr>\n",
       "    <tr>\n",
       "      <th>114457</th>\n",
       "      <td>114457</td>\n",
       "      <td>9627</td>\n",
       "      <td>5</td>\n",
       "      <td>3</td>\n",
       "      <td>1.668586e+09</td>\n",
       "      <td>3</td>\n",
       "      <td>154.246582</td>\n",
       "      <td>-0.439481</td>\n",
       "      <td>194.366699</td>\n",
       "      <td>0.012886</td>\n",
       "      <td>...</td>\n",
       "      <td>0.264457</td>\n",
       "      <td>171.995361</td>\n",
       "      <td>62.228906</td>\n",
       "      <td>Background</td>\n",
       "      <td>Not_Agent</td>\n",
       "      <td>0.016369</td>\n",
       "      <td>40.010</td>\n",
       "      <td>No_change</td>\n",
       "      <td>Hedge_7</td>\n",
       "      <td>NaN</td>\n",
       "    </tr>\n",
       "    <tr>\n",
       "      <th>114458</th>\n",
       "      <td>114458</td>\n",
       "      <td>9627</td>\n",
       "      <td>5</td>\n",
       "      <td>3</td>\n",
       "      <td>1.668586e+09</td>\n",
       "      <td>3</td>\n",
       "      <td>154.165756</td>\n",
       "      <td>-0.439343</td>\n",
       "      <td>194.353394</td>\n",
       "      <td>0.011524</td>\n",
       "      <td>...</td>\n",
       "      <td>0.264457</td>\n",
       "      <td>171.995361</td>\n",
       "      <td>62.129306</td>\n",
       "      <td>Background</td>\n",
       "      <td>Not_Agent</td>\n",
       "      <td>0.015872</td>\n",
       "      <td>40.010</td>\n",
       "      <td>No_change</td>\n",
       "      <td>Hedge_7</td>\n",
       "      <td>NaN</td>\n",
       "    </tr>\n",
       "    <tr>\n",
       "      <th>114459</th>\n",
       "      <td>114459</td>\n",
       "      <td>9627</td>\n",
       "      <td>5</td>\n",
       "      <td>3</td>\n",
       "      <td>1.668586e+09</td>\n",
       "      <td>3</td>\n",
       "      <td>154.084473</td>\n",
       "      <td>-0.439343</td>\n",
       "      <td>194.340454</td>\n",
       "      <td>0.010989</td>\n",
       "      <td>...</td>\n",
       "      <td>0.241449</td>\n",
       "      <td>171.995361</td>\n",
       "      <td>62.045960</td>\n",
       "      <td>Background</td>\n",
       "      <td>Not_Agent</td>\n",
       "      <td>0.015376</td>\n",
       "      <td>40.010</td>\n",
       "      <td>No_change</td>\n",
       "      <td>Hedge_7</td>\n",
       "      <td>NaN</td>\n",
       "    </tr>\n",
       "    <tr>\n",
       "      <th>114460</th>\n",
       "      <td>114460</td>\n",
       "      <td>9627</td>\n",
       "      <td>5</td>\n",
       "      <td>3</td>\n",
       "      <td>1.668586e+09</td>\n",
       "      <td>3</td>\n",
       "      <td>154.009659</td>\n",
       "      <td>-0.439343</td>\n",
       "      <td>194.328476</td>\n",
       "      <td>0.009295</td>\n",
       "      <td>...</td>\n",
       "      <td>0.165709</td>\n",
       "      <td>172.049332</td>\n",
       "      <td>61.961181</td>\n",
       "      <td>Background</td>\n",
       "      <td>Not_Agent</td>\n",
       "      <td>0.015872</td>\n",
       "      <td>40.011</td>\n",
       "      <td>No_change</td>\n",
       "      <td>Hedge_7</td>\n",
       "      <td>NaN</td>\n",
       "    </tr>\n",
       "    <tr>\n",
       "      <th>114461</th>\n",
       "      <td>114461</td>\n",
       "      <td>9627</td>\n",
       "      <td>5</td>\n",
       "      <td>3</td>\n",
       "      <td>1.668586e+09</td>\n",
       "      <td>3</td>\n",
       "      <td>153.925537</td>\n",
       "      <td>-0.439497</td>\n",
       "      <td>194.315842</td>\n",
       "      <td>0.007289</td>\n",
       "      <td>...</td>\n",
       "      <td>0.165709</td>\n",
       "      <td>172.066391</td>\n",
       "      <td>61.889021</td>\n",
       "      <td>Background</td>\n",
       "      <td>Not_Agent</td>\n",
       "      <td>0.016369</td>\n",
       "      <td>40.011</td>\n",
       "      <td>No_change</td>\n",
       "      <td>Hedge_7</td>\n",
       "      <td>NaN</td>\n",
       "    </tr>\n",
       "    <tr>\n",
       "      <th>114462</th>\n",
       "      <td>114462</td>\n",
       "      <td>9627</td>\n",
       "      <td>5</td>\n",
       "      <td>3</td>\n",
       "      <td>1.668586e+09</td>\n",
       "      <td>3</td>\n",
       "      <td>153.840775</td>\n",
       "      <td>-0.439510</td>\n",
       "      <td>194.302872</td>\n",
       "      <td>0.009809</td>\n",
       "      <td>...</td>\n",
       "      <td>0.135807</td>\n",
       "      <td>172.071365</td>\n",
       "      <td>61.800420</td>\n",
       "      <td>Background</td>\n",
       "      <td>Not_Agent</td>\n",
       "      <td>0.015872</td>\n",
       "      <td>40.011</td>\n",
       "      <td>No_change</td>\n",
       "      <td>Hedge_7</td>\n",
       "      <td>NaN</td>\n",
       "    </tr>\n",
       "    <tr>\n",
       "      <th>114463</th>\n",
       "      <td>114463</td>\n",
       "      <td>9627</td>\n",
       "      <td>5</td>\n",
       "      <td>3</td>\n",
       "      <td>1.668586e+09</td>\n",
       "      <td>3</td>\n",
       "      <td>153.759628</td>\n",
       "      <td>-0.439510</td>\n",
       "      <td>194.290329</td>\n",
       "      <td>0.009868</td>\n",
       "      <td>...</td>\n",
       "      <td>0.130701</td>\n",
       "      <td>172.096146</td>\n",
       "      <td>61.718088</td>\n",
       "      <td>Background</td>\n",
       "      <td>Not_Agent</td>\n",
       "      <td>0.017360</td>\n",
       "      <td>40.011</td>\n",
       "      <td>No_change</td>\n",
       "      <td>Hedge_7</td>\n",
       "      <td>NaN</td>\n",
       "    </tr>\n",
       "    <tr>\n",
       "      <th>114464</th>\n",
       "      <td>114464</td>\n",
       "      <td>9627</td>\n",
       "      <td>5</td>\n",
       "      <td>3</td>\n",
       "      <td>1.668586e+09</td>\n",
       "      <td>3</td>\n",
       "      <td>153.679855</td>\n",
       "      <td>-0.439510</td>\n",
       "      <td>194.278076</td>\n",
       "      <td>0.009175</td>\n",
       "      <td>...</td>\n",
       "      <td>0.130701</td>\n",
       "      <td>172.191956</td>\n",
       "      <td>61.626563</td>\n",
       "      <td>Background</td>\n",
       "      <td>Not_Agent</td>\n",
       "      <td>0.014880</td>\n",
       "      <td>40.012</td>\n",
       "      <td>No_change</td>\n",
       "      <td>Hedge_7</td>\n",
       "      <td>NaN</td>\n",
       "    </tr>\n",
       "    <tr>\n",
       "      <th>114465</th>\n",
       "      <td>114465</td>\n",
       "      <td>9627</td>\n",
       "      <td>5</td>\n",
       "      <td>3</td>\n",
       "      <td>1.668586e+09</td>\n",
       "      <td>3</td>\n",
       "      <td>153.604431</td>\n",
       "      <td>-0.439484</td>\n",
       "      <td>194.266296</td>\n",
       "      <td>0.009280</td>\n",
       "      <td>...</td>\n",
       "      <td>0.124902</td>\n",
       "      <td>172.191956</td>\n",
       "      <td>61.535585</td>\n",
       "      <td>Background</td>\n",
       "      <td>Not_Agent</td>\n",
       "      <td>0.016864</td>\n",
       "      <td>40.012</td>\n",
       "      <td>No_change</td>\n",
       "      <td>Hedge_7</td>\n",
       "      <td>NaN</td>\n",
       "    </tr>\n",
       "    <tr>\n",
       "      <th>114466</th>\n",
       "      <td>114466</td>\n",
       "      <td>9627</td>\n",
       "      <td>5</td>\n",
       "      <td>3</td>\n",
       "      <td>1.668586e+09</td>\n",
       "      <td>3</td>\n",
       "      <td>153.523926</td>\n",
       "      <td>-0.439479</td>\n",
       "      <td>194.254089</td>\n",
       "      <td>0.007811</td>\n",
       "      <td>...</td>\n",
       "      <td>0.039709</td>\n",
       "      <td>172.266861</td>\n",
       "      <td>61.441489</td>\n",
       "      <td>Background</td>\n",
       "      <td>Not_Agent</td>\n",
       "      <td>0.016368</td>\n",
       "      <td>40.012</td>\n",
       "      <td>No_change</td>\n",
       "      <td>Hedge_7</td>\n",
       "      <td>NaN</td>\n",
       "    </tr>\n",
       "    <tr>\n",
       "      <th>114467</th>\n",
       "      <td>114467</td>\n",
       "      <td>9627</td>\n",
       "      <td>5</td>\n",
       "      <td>3</td>\n",
       "      <td>1.668586e+09</td>\n",
       "      <td>3</td>\n",
       "      <td>153.446884</td>\n",
       "      <td>-0.439163</td>\n",
       "      <td>194.241409</td>\n",
       "      <td>-0.000362</td>\n",
       "      <td>...</td>\n",
       "      <td>-0.460560</td>\n",
       "      <td>172.324036</td>\n",
       "      <td>59.487290</td>\n",
       "      <td>Background</td>\n",
       "      <td>Not_Agent</td>\n",
       "      <td>0.015872</td>\n",
       "      <td>40.012</td>\n",
       "      <td>No_change</td>\n",
       "      <td>Hedge_7</td>\n",
       "      <td>NaN</td>\n",
       "    </tr>\n",
       "    <tr>\n",
       "      <th>114468</th>\n",
       "      <td>114468</td>\n",
       "      <td>9627</td>\n",
       "      <td>5</td>\n",
       "      <td>3</td>\n",
       "      <td>1.668586e+09</td>\n",
       "      <td>3</td>\n",
       "      <td>153.368774</td>\n",
       "      <td>-0.439163</td>\n",
       "      <td>194.229431</td>\n",
       "      <td>-0.007998</td>\n",
       "      <td>...</td>\n",
       "      <td>-0.698125</td>\n",
       "      <td>176.415375</td>\n",
       "      <td>35.334891</td>\n",
       "      <td>Building</td>\n",
       "      <td>Not_Agent</td>\n",
       "      <td>0.015376</td>\n",
       "      <td>40.013</td>\n",
       "      <td>No_change</td>\n",
       "      <td>Building_94</td>\n",
       "      <td>NaN</td>\n",
       "    </tr>\n",
       "    <tr>\n",
       "      <th>114469</th>\n",
       "      <td>114469</td>\n",
       "      <td>9627</td>\n",
       "      <td>5</td>\n",
       "      <td>3</td>\n",
       "      <td>1.668586e+09</td>\n",
       "      <td>3</td>\n",
       "      <td>153.290070</td>\n",
       "      <td>-0.439163</td>\n",
       "      <td>194.218018</td>\n",
       "      <td>-0.006344</td>\n",
       "      <td>...</td>\n",
       "      <td>-0.720734</td>\n",
       "      <td>176.839203</td>\n",
       "      <td>40.917192</td>\n",
       "      <td>Building</td>\n",
       "      <td>Not_Agent</td>\n",
       "      <td>0.013392</td>\n",
       "      <td>40.013</td>\n",
       "      <td>No_change</td>\n",
       "      <td>Building_94</td>\n",
       "      <td>NaN</td>\n",
       "    </tr>\n",
       "    <tr>\n",
       "      <th>114470</th>\n",
       "      <td>114470</td>\n",
       "      <td>9627</td>\n",
       "      <td>5</td>\n",
       "      <td>3</td>\n",
       "      <td>1.668586e+09</td>\n",
       "      <td>3</td>\n",
       "      <td>153.210373</td>\n",
       "      <td>-0.439335</td>\n",
       "      <td>194.207214</td>\n",
       "      <td>-0.010840</td>\n",
       "      <td>...</td>\n",
       "      <td>-0.866354</td>\n",
       "      <td>177.297699</td>\n",
       "      <td>39.455570</td>\n",
       "      <td>Building</td>\n",
       "      <td>Not_Agent</td>\n",
       "      <td>0.016865</td>\n",
       "      <td>40.013</td>\n",
       "      <td>No_change</td>\n",
       "      <td>Building_94</td>\n",
       "      <td>NaN</td>\n",
       "    </tr>\n",
       "    <tr>\n",
       "      <th>114471</th>\n",
       "      <td>114471</td>\n",
       "      <td>9627</td>\n",
       "      <td>5</td>\n",
       "      <td>3</td>\n",
       "      <td>1.668586e+09</td>\n",
       "      <td>3</td>\n",
       "      <td>153.131042</td>\n",
       "      <td>-0.439335</td>\n",
       "      <td>194.195709</td>\n",
       "      <td>-0.013407</td>\n",
       "      <td>...</td>\n",
       "      <td>-0.947362</td>\n",
       "      <td>177.297699</td>\n",
       "      <td>38.308343</td>\n",
       "      <td>Background</td>\n",
       "      <td>Not_Agent</td>\n",
       "      <td>0.015376</td>\n",
       "      <td>40.013</td>\n",
       "      <td>No_change</td>\n",
       "      <td>pavement_T01.003</td>\n",
       "      <td>NaN</td>\n",
       "    </tr>\n",
       "    <tr>\n",
       "      <th>114472</th>\n",
       "      <td>114472</td>\n",
       "      <td>9627</td>\n",
       "      <td>5</td>\n",
       "      <td>3</td>\n",
       "      <td>1.668586e+09</td>\n",
       "      <td>3</td>\n",
       "      <td>153.059448</td>\n",
       "      <td>-0.439335</td>\n",
       "      <td>194.184250</td>\n",
       "      <td>-0.013188</td>\n",
       "      <td>...</td>\n",
       "      <td>-0.947362</td>\n",
       "      <td>177.297699</td>\n",
       "      <td>38.603318</td>\n",
       "      <td>Background</td>\n",
       "      <td>Not_Agent</td>\n",
       "      <td>0.017360</td>\n",
       "      <td>40.014</td>\n",
       "      <td>No_change</td>\n",
       "      <td>pavement_T01.003</td>\n",
       "      <td>NaN</td>\n",
       "    </tr>\n",
       "    <tr>\n",
       "      <th>114473</th>\n",
       "      <td>114473</td>\n",
       "      <td>9627</td>\n",
       "      <td>5</td>\n",
       "      <td>3</td>\n",
       "      <td>1.668586e+09</td>\n",
       "      <td>3</td>\n",
       "      <td>152.977478</td>\n",
       "      <td>-0.432764</td>\n",
       "      <td>194.171829</td>\n",
       "      <td>-0.014616</td>\n",
       "      <td>...</td>\n",
       "      <td>-0.952060</td>\n",
       "      <td>177.327576</td>\n",
       "      <td>36.769756</td>\n",
       "      <td>Background</td>\n",
       "      <td>Not_Agent</td>\n",
       "      <td>0.014384</td>\n",
       "      <td>40.014</td>\n",
       "      <td>No_change</td>\n",
       "      <td>pavement_T01.003</td>\n",
       "      <td>NaN</td>\n",
       "    </tr>\n",
       "    <tr>\n",
       "      <th>114474</th>\n",
       "      <td>114474</td>\n",
       "      <td>9627</td>\n",
       "      <td>5</td>\n",
       "      <td>3</td>\n",
       "      <td>1.668586e+09</td>\n",
       "      <td>3</td>\n",
       "      <td>152.902130</td>\n",
       "      <td>-0.427013</td>\n",
       "      <td>194.160919</td>\n",
       "      <td>-0.013232</td>\n",
       "      <td>...</td>\n",
       "      <td>-0.947362</td>\n",
       "      <td>177.297699</td>\n",
       "      <td>38.982798</td>\n",
       "      <td>Background</td>\n",
       "      <td>Not_Agent</td>\n",
       "      <td>0.015376</td>\n",
       "      <td>40.014</td>\n",
       "      <td>No_change</td>\n",
       "      <td>pavement_T01.003</td>\n",
       "      <td>NaN</td>\n",
       "    </tr>\n",
       "    <tr>\n",
       "      <th>114475</th>\n",
       "      <td>114475</td>\n",
       "      <td>9627</td>\n",
       "      <td>5</td>\n",
       "      <td>3</td>\n",
       "      <td>1.668586e+09</td>\n",
       "      <td>3</td>\n",
       "      <td>152.822586</td>\n",
       "      <td>-0.426195</td>\n",
       "      <td>194.149261</td>\n",
       "      <td>-0.013918</td>\n",
       "      <td>...</td>\n",
       "      <td>-0.941706</td>\n",
       "      <td>177.422821</td>\n",
       "      <td>37.933836</td>\n",
       "      <td>Background</td>\n",
       "      <td>Not_Agent</td>\n",
       "      <td>0.015872</td>\n",
       "      <td>40.015</td>\n",
       "      <td>No_change</td>\n",
       "      <td>pavement_T01.003</td>\n",
       "      <td>NaN</td>\n",
       "    </tr>\n",
       "    <tr>\n",
       "      <th>114476</th>\n",
       "      <td>114476</td>\n",
       "      <td>9627</td>\n",
       "      <td>5</td>\n",
       "      <td>3</td>\n",
       "      <td>1.668586e+09</td>\n",
       "      <td>3</td>\n",
       "      <td>152.747681</td>\n",
       "      <td>-0.425380</td>\n",
       "      <td>194.138062</td>\n",
       "      <td>-0.010198</td>\n",
       "      <td>...</td>\n",
       "      <td>-0.826489</td>\n",
       "      <td>177.021286</td>\n",
       "      <td>39.421982</td>\n",
       "      <td>Building</td>\n",
       "      <td>Not_Agent</td>\n",
       "      <td>0.016369</td>\n",
       "      <td>40.015</td>\n",
       "      <td>No_change</td>\n",
       "      <td>Building_94</td>\n",
       "      <td>NaN</td>\n",
       "    </tr>\n",
       "    <tr>\n",
       "      <th>114477</th>\n",
       "      <td>114477</td>\n",
       "      <td>9627</td>\n",
       "      <td>5</td>\n",
       "      <td>3</td>\n",
       "      <td>1.668586e+09</td>\n",
       "      <td>3</td>\n",
       "      <td>152.673660</td>\n",
       "      <td>-0.423986</td>\n",
       "      <td>194.126083</td>\n",
       "      <td>-0.007809</td>\n",
       "      <td>...</td>\n",
       "      <td>-0.700868</td>\n",
       "      <td>177.021286</td>\n",
       "      <td>35.541954</td>\n",
       "      <td>Building</td>\n",
       "      <td>Not_Agent</td>\n",
       "      <td>0.018351</td>\n",
       "      <td>40.015</td>\n",
       "      <td>No_change</td>\n",
       "      <td>Building_94</td>\n",
       "      <td>NaN</td>\n",
       "    </tr>\n",
       "    <tr>\n",
       "      <th>114478</th>\n",
       "      <td>114478</td>\n",
       "      <td>9627</td>\n",
       "      <td>5</td>\n",
       "      <td>3</td>\n",
       "      <td>1.668586e+09</td>\n",
       "      <td>3</td>\n",
       "      <td>152.592392</td>\n",
       "      <td>-0.422431</td>\n",
       "      <td>194.112976</td>\n",
       "      <td>-0.002672</td>\n",
       "      <td>...</td>\n",
       "      <td>-0.700868</td>\n",
       "      <td>177.021286</td>\n",
       "      <td>38.625706</td>\n",
       "      <td>Building</td>\n",
       "      <td>Not_Agent</td>\n",
       "      <td>0.015376</td>\n",
       "      <td>40.015</td>\n",
       "      <td>No_change</td>\n",
       "      <td>Building_94</td>\n",
       "      <td>NaN</td>\n",
       "    </tr>\n",
       "    <tr>\n",
       "      <th>114479</th>\n",
       "      <td>114479</td>\n",
       "      <td>9627</td>\n",
       "      <td>5</td>\n",
       "      <td>3</td>\n",
       "      <td>1.668586e+09</td>\n",
       "      <td>3</td>\n",
       "      <td>152.521133</td>\n",
       "      <td>-0.421761</td>\n",
       "      <td>194.107300</td>\n",
       "      <td>-0.004143</td>\n",
       "      <td>...</td>\n",
       "      <td>-0.643313</td>\n",
       "      <td>177.650513</td>\n",
       "      <td>39.825087</td>\n",
       "      <td>Building</td>\n",
       "      <td>Not_Agent</td>\n",
       "      <td>0.015872</td>\n",
       "      <td>40.016</td>\n",
       "      <td>No_change</td>\n",
       "      <td>Building_94</td>\n",
       "      <td>NaN</td>\n",
       "    </tr>\n",
       "    <tr>\n",
       "      <th>114480</th>\n",
       "      <td>114480</td>\n",
       "      <td>9627</td>\n",
       "      <td>5</td>\n",
       "      <td>3</td>\n",
       "      <td>1.668586e+09</td>\n",
       "      <td>3</td>\n",
       "      <td>152.442429</td>\n",
       "      <td>-0.421091</td>\n",
       "      <td>194.101624</td>\n",
       "      <td>-0.038927</td>\n",
       "      <td>...</td>\n",
       "      <td>-0.585759</td>\n",
       "      <td>177.021286</td>\n",
       "      <td>25.380559</td>\n",
       "      <td>Background</td>\n",
       "      <td>Not_Agent</td>\n",
       "      <td>0.015872</td>\n",
       "      <td>40.016</td>\n",
       "      <td>No_change</td>\n",
       "      <td>pavement_T01.003</td>\n",
       "      <td>NaN</td>\n",
       "    </tr>\n",
       "    <tr>\n",
       "      <th>114481</th>\n",
       "      <td>114481</td>\n",
       "      <td>9627</td>\n",
       "      <td>5</td>\n",
       "      <td>3</td>\n",
       "      <td>1.668586e+09</td>\n",
       "      <td>0</td>\n",
       "      <td>152.334229</td>\n",
       "      <td>-0.420585</td>\n",
       "      <td>194.095695</td>\n",
       "      <td>-1.114960</td>\n",
       "      <td>...</td>\n",
       "      <td>-0.996107</td>\n",
       "      <td>179.876755</td>\n",
       "      <td>NaN</td>\n",
       "      <td>Background</td>\n",
       "      <td>Not_Agent</td>\n",
       "      <td>0.017360</td>\n",
       "      <td>40.016</td>\n",
       "      <td>Invalid_Section_Starts</td>\n",
       "      <td>road_base_network.004</td>\n",
       "      <td>NaN</td>\n",
       "    </tr>\n",
       "    <tr>\n",
       "      <th>114482</th>\n",
       "      <td>114482</td>\n",
       "      <td>9627</td>\n",
       "      <td>5</td>\n",
       "      <td>3</td>\n",
       "      <td>1.668586e+09</td>\n",
       "      <td>0</td>\n",
       "      <td>152.247101</td>\n",
       "      <td>-0.420080</td>\n",
       "      <td>194.089767</td>\n",
       "      <td>-1.114889</td>\n",
       "      <td>...</td>\n",
       "      <td>-1.406455</td>\n",
       "      <td>183.236099</td>\n",
       "      <td>NaN</td>\n",
       "      <td>Background</td>\n",
       "      <td>Not_Agent</td>\n",
       "      <td>0.016864</td>\n",
       "      <td>40.016</td>\n",
       "      <td>No_change</td>\n",
       "      <td>road_base_network.004</td>\n",
       "      <td>NaN</td>\n",
       "    </tr>\n",
       "    <tr>\n",
       "      <th>114483</th>\n",
       "      <td>114483</td>\n",
       "      <td>9627</td>\n",
       "      <td>5</td>\n",
       "      <td>3</td>\n",
       "      <td>1.668586e+09</td>\n",
       "      <td>0</td>\n",
       "      <td>152.247101</td>\n",
       "      <td>-0.420080</td>\n",
       "      <td>194.089767</td>\n",
       "      <td>-1.114593</td>\n",
       "      <td>...</td>\n",
       "      <td>-1.406455</td>\n",
       "      <td>183.236099</td>\n",
       "      <td>NaN</td>\n",
       "      <td>Background</td>\n",
       "      <td>Not_Agent</td>\n",
       "      <td>0.014385</td>\n",
       "      <td>40.017</td>\n",
       "      <td>No_change</td>\n",
       "      <td>road_base_network.004</td>\n",
       "      <td>NaN</td>\n",
       "    </tr>\n",
       "    <tr>\n",
       "      <th>114484</th>\n",
       "      <td>114484</td>\n",
       "      <td>9627</td>\n",
       "      <td>5</td>\n",
       "      <td>3</td>\n",
       "      <td>1.668586e+09</td>\n",
       "      <td>0</td>\n",
       "      <td>152.247101</td>\n",
       "      <td>-0.420080</td>\n",
       "      <td>194.089767</td>\n",
       "      <td>-1.114348</td>\n",
       "      <td>...</td>\n",
       "      <td>-1.406455</td>\n",
       "      <td>183.236099</td>\n",
       "      <td>NaN</td>\n",
       "      <td>Background</td>\n",
       "      <td>Not_Agent</td>\n",
       "      <td>0.015376</td>\n",
       "      <td>40.017</td>\n",
       "      <td>No_change</td>\n",
       "      <td>road_base_network.004</td>\n",
       "      <td>NaN</td>\n",
       "    </tr>\n",
       "  </tbody>\n",
       "</table>\n",
       "<p>50 rows × 31 columns</p>\n",
       "</div>"
      ],
      "text/plain": [
       "         index  SubjectID  Session  SessionSubsection  timeStampDataPointEnd  \\\n",
       "114435  114435       9627        5                  3           1.668586e+09   \n",
       "114436  114436       9627        5                  3           1.668586e+09   \n",
       "114437  114437       9627        5                  3           1.668586e+09   \n",
       "114438  114438       9627        5                  3           1.668586e+09   \n",
       "114439  114439       9627        5                  3           1.668586e+09   \n",
       "114440  114440       9627        5                  3           1.668586e+09   \n",
       "114441  114441       9627        5                  3           1.668586e+09   \n",
       "114442  114442       9627        5                  3           1.668586e+09   \n",
       "114443  114443       9627        5                  3           1.668586e+09   \n",
       "114444  114444       9627        5                  3           1.668586e+09   \n",
       "114445  114445       9627        5                  3           1.668586e+09   \n",
       "114446  114446       9627        5                  3           1.668586e+09   \n",
       "114447  114447       9627        5                  3           1.668586e+09   \n",
       "114448  114448       9627        5                  3           1.668586e+09   \n",
       "114449  114449       9627        5                  3           1.668586e+09   \n",
       "114450  114450       9627        5                  3           1.668586e+09   \n",
       "114451  114451       9627        5                  3           1.668586e+09   \n",
       "114452  114452       9627        5                  3           1.668586e+09   \n",
       "114453  114453       9627        5                  3           1.668586e+09   \n",
       "114454  114454       9627        5                  3           1.668586e+09   \n",
       "114455  114455       9627        5                  3           1.668586e+09   \n",
       "114456  114456       9627        5                  3           1.668586e+09   \n",
       "114457  114457       9627        5                  3           1.668586e+09   \n",
       "114458  114458       9627        5                  3           1.668586e+09   \n",
       "114459  114459       9627        5                  3           1.668586e+09   \n",
       "114460  114460       9627        5                  3           1.668586e+09   \n",
       "114461  114461       9627        5                  3           1.668586e+09   \n",
       "114462  114462       9627        5                  3           1.668586e+09   \n",
       "114463  114463       9627        5                  3           1.668586e+09   \n",
       "114464  114464       9627        5                  3           1.668586e+09   \n",
       "114465  114465       9627        5                  3           1.668586e+09   \n",
       "114466  114466       9627        5                  3           1.668586e+09   \n",
       "114467  114467       9627        5                  3           1.668586e+09   \n",
       "114468  114468       9627        5                  3           1.668586e+09   \n",
       "114469  114469       9627        5                  3           1.668586e+09   \n",
       "114470  114470       9627        5                  3           1.668586e+09   \n",
       "114471  114471       9627        5                  3           1.668586e+09   \n",
       "114472  114472       9627        5                  3           1.668586e+09   \n",
       "114473  114473       9627        5                  3           1.668586e+09   \n",
       "114474  114474       9627        5                  3           1.668586e+09   \n",
       "114475  114475       9627        5                  3           1.668586e+09   \n",
       "114476  114476       9627        5                  3           1.668586e+09   \n",
       "114477  114477       9627        5                  3           1.668586e+09   \n",
       "114478  114478       9627        5                  3           1.668586e+09   \n",
       "114479  114479       9627        5                  3           1.668586e+09   \n",
       "114480  114480       9627        5                  3           1.668586e+09   \n",
       "114481  114481       9627        5                  3           1.668586e+09   \n",
       "114482  114482       9627        5                  3           1.668586e+09   \n",
       "114483  114483       9627        5                  3           1.668586e+09   \n",
       "114484  114484       9627        5                  3           1.668586e+09   \n",
       "\n",
       "        combinedGazeValidityBitmask  eyePositionCombinedWorld.x  \\\n",
       "114435                            3                  156.188293   \n",
       "114436                            0                  156.077850   \n",
       "114437                            0                  156.000809   \n",
       "114438                            0                  155.917892   \n",
       "114439                            0                  155.840256   \n",
       "114440                            0                  155.767273   \n",
       "114441                            0                  155.691559   \n",
       "114442                            3                  155.641266   \n",
       "114443                            3                  155.559509   \n",
       "114444                            3                  155.482727   \n",
       "114445                            3                  155.406952   \n",
       "114446                            3                  155.331039   \n",
       "114447                            3                  155.257080   \n",
       "114448                            3                  155.171646   \n",
       "114449                            3                  154.888794   \n",
       "114450                            3                  154.814865   \n",
       "114451                            3                  154.729462   \n",
       "114452                            3                  154.642258   \n",
       "114453                            3                  154.564423   \n",
       "114454                            3                  154.487350   \n",
       "114455                            3                  154.411118   \n",
       "114456                            3                  154.324936   \n",
       "114457                            3                  154.246582   \n",
       "114458                            3                  154.165756   \n",
       "114459                            3                  154.084473   \n",
       "114460                            3                  154.009659   \n",
       "114461                            3                  153.925537   \n",
       "114462                            3                  153.840775   \n",
       "114463                            3                  153.759628   \n",
       "114464                            3                  153.679855   \n",
       "114465                            3                  153.604431   \n",
       "114466                            3                  153.523926   \n",
       "114467                            3                  153.446884   \n",
       "114468                            3                  153.368774   \n",
       "114469                            3                  153.290070   \n",
       "114470                            3                  153.210373   \n",
       "114471                            3                  153.131042   \n",
       "114472                            3                  153.059448   \n",
       "114473                            3                  152.977478   \n",
       "114474                            3                  152.902130   \n",
       "114475                            3                  152.822586   \n",
       "114476                            3                  152.747681   \n",
       "114477                            3                  152.673660   \n",
       "114478                            3                  152.592392   \n",
       "114479                            3                  152.521133   \n",
       "114480                            3                  152.442429   \n",
       "114481                            0                  152.334229   \n",
       "114482                            0                  152.247101   \n",
       "114483                            0                  152.247101   \n",
       "114484                            0                  152.247101   \n",
       "\n",
       "        eyePositionCombinedWorld.y  eyePositionCombinedWorld.z  \\\n",
       "114435                   -0.466330                  194.696960   \n",
       "114436                   -0.465736                  194.690529   \n",
       "114437                   -0.465142                  194.684097   \n",
       "114438                         NaN                         NaN   \n",
       "114439                         NaN                         NaN   \n",
       "114440                   -0.458764                  194.595917   \n",
       "114441                   -0.458491                  194.589500   \n",
       "114442                   -0.458764                  194.583084   \n",
       "114443                   -0.459119                  194.576935   \n",
       "114444                   -0.459474                  194.570786   \n",
       "114445                   -0.459860                  194.558289   \n",
       "114446                   -0.459860                  194.545486   \n",
       "114447                   -0.459860                  194.532776   \n",
       "114448                   -0.458309                  194.519348   \n",
       "114449                   -0.451597                  194.471451   \n",
       "114450                   -0.449886                  194.458878   \n",
       "114451                   -0.449011                  194.446228   \n",
       "114452                   -0.447572                  194.432602   \n",
       "114453                   -0.445751                  194.419678   \n",
       "114454                   -0.443924                  194.406754   \n",
       "114455                   -0.442104                  194.394180   \n",
       "114456                   -0.439916                  194.379852   \n",
       "114457                   -0.439481                  194.366699   \n",
       "114458                   -0.439343                  194.353394   \n",
       "114459                   -0.439343                  194.340454   \n",
       "114460                   -0.439343                  194.328476   \n",
       "114461                   -0.439497                  194.315842   \n",
       "114462                   -0.439510                  194.302872   \n",
       "114463                   -0.439510                  194.290329   \n",
       "114464                   -0.439510                  194.278076   \n",
       "114465                   -0.439484                  194.266296   \n",
       "114466                   -0.439479                  194.254089   \n",
       "114467                   -0.439163                  194.241409   \n",
       "114468                   -0.439163                  194.229431   \n",
       "114469                   -0.439163                  194.218018   \n",
       "114470                   -0.439335                  194.207214   \n",
       "114471                   -0.439335                  194.195709   \n",
       "114472                   -0.439335                  194.184250   \n",
       "114473                   -0.432764                  194.171829   \n",
       "114474                   -0.427013                  194.160919   \n",
       "114475                   -0.426195                  194.149261   \n",
       "114476                   -0.425380                  194.138062   \n",
       "114477                   -0.423986                  194.126083   \n",
       "114478                   -0.422431                  194.112976   \n",
       "114479                   -0.421761                  194.107300   \n",
       "114480                   -0.421091                  194.101624   \n",
       "114481                   -0.420585                  194.095695   \n",
       "114482                   -0.420080                  194.089767   \n",
       "114483                   -0.420080                  194.089767   \n",
       "114484                   -0.420080                  194.089767   \n",
       "\n",
       "        eyeDirectionCombinedWorld.y  ...  hitPointOnObject_y  \\\n",
       "114435                     0.040248  ...            2.447964   \n",
       "114436                    -1.118201  ...            1.410450   \n",
       "114437                    -1.119434  ...            0.372935   \n",
       "114438                    -1.121739  ...                 NaN   \n",
       "114439                    -1.122891  ...                 NaN   \n",
       "114440                    -1.124001  ...            3.469473   \n",
       "114441                    -1.124369  ...            3.206465   \n",
       "114442                     0.059437  ...            3.345662   \n",
       "114443                     0.023262  ...            3.144560   \n",
       "114444                     0.036100  ...            3.345662   \n",
       "114445                     0.049465  ...            2.943458   \n",
       "114446                     0.044747  ...            2.770829   \n",
       "114447                     0.046733  ...            2.770829   \n",
       "114448                     0.037188  ...            4.271846   \n",
       "114449                     0.035961  ...            2.711248   \n",
       "114450                     0.032667  ...            2.711248   \n",
       "114451                     0.022127  ...            2.711248   \n",
       "114452                     0.020772  ...            2.499768   \n",
       "114453                     0.017987  ...            2.105255   \n",
       "114454                     0.016811  ...            1.939031   \n",
       "114455                     0.009240  ...            0.361232   \n",
       "114456                     0.011320  ...            0.275608   \n",
       "114457                     0.012886  ...            0.264457   \n",
       "114458                     0.011524  ...            0.264457   \n",
       "114459                     0.010989  ...            0.241449   \n",
       "114460                     0.009295  ...            0.165709   \n",
       "114461                     0.007289  ...            0.165709   \n",
       "114462                     0.009809  ...            0.135807   \n",
       "114463                     0.009868  ...            0.130701   \n",
       "114464                     0.009175  ...            0.130701   \n",
       "114465                     0.009280  ...            0.124902   \n",
       "114466                     0.007811  ...            0.039709   \n",
       "114467                    -0.000362  ...           -0.460560   \n",
       "114468                    -0.007998  ...           -0.698125   \n",
       "114469                    -0.006344  ...           -0.720734   \n",
       "114470                    -0.010840  ...           -0.866354   \n",
       "114471                    -0.013407  ...           -0.947362   \n",
       "114472                    -0.013188  ...           -0.947362   \n",
       "114473                    -0.014616  ...           -0.952060   \n",
       "114474                    -0.013232  ...           -0.947362   \n",
       "114475                    -0.013918  ...           -0.941706   \n",
       "114476                    -0.010198  ...           -0.826489   \n",
       "114477                    -0.007809  ...           -0.700868   \n",
       "114478                    -0.002672  ...           -0.700868   \n",
       "114479                    -0.004143  ...           -0.643313   \n",
       "114480                    -0.038927  ...           -0.585759   \n",
       "114481                    -1.114960  ...           -0.996107   \n",
       "114482                    -1.114889  ...           -1.406455   \n",
       "114483                    -1.114593  ...           -1.406455   \n",
       "114484                    -1.114348  ...           -1.406455   \n",
       "\n",
       "        hitPointOnObject_z  Eucledian_distance  Collider_Categorical  \\\n",
       "114435          184.033463           21.007784              Building   \n",
       "114436          183.935150                 NaN            Background   \n",
       "114437          183.836838                 NaN            Background   \n",
       "114438                 NaN                 NaN            Background   \n",
       "114439                 NaN                 NaN            Background   \n",
       "114440          170.495651                 NaN            Background   \n",
       "114441          156.405624                 NaN            Background   \n",
       "114442          157.158630           66.231726            Background   \n",
       "114443          163.827141          146.308296            Background   \n",
       "114444          157.158630          105.507892              Building   \n",
       "114445          157.158630           65.533434            Background   \n",
       "114446          170.640244          144.111122            Background   \n",
       "114447          170.640244           66.301662            Background   \n",
       "114448          142.315598           66.982508            Background   \n",
       "114449          142.315598          145.012491            Background   \n",
       "114450          142.315598          144.640784            Background   \n",
       "114451          142.315598          142.914449            Background   \n",
       "114452          142.094116          141.986386            Background   \n",
       "114453          142.094116          141.915683            Background   \n",
       "114454          142.094116          141.846360            Background   \n",
       "114455          171.827667           62.308994            Background   \n",
       "114456          171.895660           62.316794            Background   \n",
       "114457          171.995361           62.228906            Background   \n",
       "114458          171.995361           62.129306            Background   \n",
       "114459          171.995361           62.045960            Background   \n",
       "114460          172.049332           61.961181            Background   \n",
       "114461          172.066391           61.889021            Background   \n",
       "114462          172.071365           61.800420            Background   \n",
       "114463          172.096146           61.718088            Background   \n",
       "114464          172.191956           61.626563            Background   \n",
       "114465          172.191956           61.535585            Background   \n",
       "114466          172.266861           61.441489            Background   \n",
       "114467          172.324036           59.487290            Background   \n",
       "114468          176.415375           35.334891              Building   \n",
       "114469          176.839203           40.917192              Building   \n",
       "114470          177.297699           39.455570              Building   \n",
       "114471          177.297699           38.308343            Background   \n",
       "114472          177.297699           38.603318            Background   \n",
       "114473          177.327576           36.769756            Background   \n",
       "114474          177.297699           38.982798            Background   \n",
       "114475          177.422821           37.933836            Background   \n",
       "114476          177.021286           39.421982              Building   \n",
       "114477          177.021286           35.541954              Building   \n",
       "114478          177.021286           38.625706              Building   \n",
       "114479          177.650513           39.825087              Building   \n",
       "114480          177.021286           25.380559            Background   \n",
       "114481          179.876755                 NaN            Background   \n",
       "114482          183.236099                 NaN            Background   \n",
       "114483          183.236099                 NaN            Background   \n",
       "114484          183.236099                 NaN            Background   \n",
       "\n",
       "        Face_Hits  Time_Shift  Continuous_Time            Bitmask_flag  \\\n",
       "114435  Not_Agent    0.015872           40.003               No_change   \n",
       "114436  Not_Agent    0.014880           40.004              121.812462   \n",
       "114437  Not_Agent    0.017360           40.004              121.812462   \n",
       "114438  Not_Agent    0.015872           40.004              121.812462   \n",
       "114439  Not_Agent    0.015377           40.004              121.812462   \n",
       "114440  Not_Agent    0.015376           40.005              121.812462   \n",
       "114441  Not_Agent    0.015872           40.005              121.812462   \n",
       "114442  Not_Agent    0.016864           40.005    Invalid_Section_Ends   \n",
       "114443  Not_Agent    0.014880           40.005               No_change   \n",
       "114444  Not_Agent    0.016037           40.006               No_change   \n",
       "114445  Not_Agent    0.015211           40.006               No_change   \n",
       "114446  Not_Agent    0.015376           40.006               No_change   \n",
       "114447  Not_Agent    0.016368           40.006               No_change   \n",
       "114448  Not_Agent    0.047617           40.007               No_change   \n",
       "114449  Not_Agent    0.023809           40.008               No_change   \n",
       "114450  Not_Agent    0.015375           40.008               No_change   \n",
       "114451  Not_Agent    0.015872           40.008               No_change   \n",
       "114452  Not_Agent    0.016367           40.008               No_change   \n",
       "114453  Not_Agent    0.015872           40.009               No_change   \n",
       "114454  Not_Agent    0.015378           40.009               No_change   \n",
       "114455  Not_Agent    0.017855           40.009               No_change   \n",
       "114456  Not_Agent    0.015376           40.010               No_change   \n",
       "114457  Not_Agent    0.016369           40.010               No_change   \n",
       "114458  Not_Agent    0.015872           40.010               No_change   \n",
       "114459  Not_Agent    0.015376           40.010               No_change   \n",
       "114460  Not_Agent    0.015872           40.011               No_change   \n",
       "114461  Not_Agent    0.016369           40.011               No_change   \n",
       "114462  Not_Agent    0.015872           40.011               No_change   \n",
       "114463  Not_Agent    0.017360           40.011               No_change   \n",
       "114464  Not_Agent    0.014880           40.012               No_change   \n",
       "114465  Not_Agent    0.016864           40.012               No_change   \n",
       "114466  Not_Agent    0.016368           40.012               No_change   \n",
       "114467  Not_Agent    0.015872           40.012               No_change   \n",
       "114468  Not_Agent    0.015376           40.013               No_change   \n",
       "114469  Not_Agent    0.013392           40.013               No_change   \n",
       "114470  Not_Agent    0.016865           40.013               No_change   \n",
       "114471  Not_Agent    0.015376           40.013               No_change   \n",
       "114472  Not_Agent    0.017360           40.014               No_change   \n",
       "114473  Not_Agent    0.014384           40.014               No_change   \n",
       "114474  Not_Agent    0.015376           40.014               No_change   \n",
       "114475  Not_Agent    0.015872           40.015               No_change   \n",
       "114476  Not_Agent    0.016369           40.015               No_change   \n",
       "114477  Not_Agent    0.018351           40.015               No_change   \n",
       "114478  Not_Agent    0.015376           40.015               No_change   \n",
       "114479  Not_Agent    0.015872           40.016               No_change   \n",
       "114480  Not_Agent    0.015872           40.016               No_change   \n",
       "114481  Not_Agent    0.017360           40.016  Invalid_Section_Starts   \n",
       "114482  Not_Agent    0.016864           40.016               No_change   \n",
       "114483  Not_Agent    0.014385           40.017               No_change   \n",
       "114484  Not_Agent    0.015376           40.017               No_change   \n",
       "\n",
       "        Interpolated_collider   eyePositionCombinedWorld.x  \n",
       "114435            Building_94                          NaN  \n",
       "114436  road_base_network.004                          NaN  \n",
       "114437  road_base_network.004                          NaN  \n",
       "114438  road_base_network.004                          NaN  \n",
       "114439  road_base_network.004                          NaN  \n",
       "114440  road_base_network.004                          NaN  \n",
       "114441  road_base_network.004                          NaN  \n",
       "114442       CollisionObject1                          NaN  \n",
       "114443       Cypress_v1_2 (5)                          NaN  \n",
       "114444           Building_103                          NaN  \n",
       "114445       CollisionObject1                          NaN  \n",
       "114446       Cypress_v1_2 (5)                          NaN  \n",
       "114447       CollisionObject1                          NaN  \n",
       "114448       CollisionObject1                          NaN  \n",
       "114449       Cypress_v1_2 (5)                          NaN  \n",
       "114450       Cypress_v1_2 (5)                          NaN  \n",
       "114451       Cypress_v1_2 (5)                          NaN  \n",
       "114452       Cypress_v1_2 (5)                          NaN  \n",
       "114453       Cypress_v1_2 (5)                          NaN  \n",
       "114454       Cypress_v1_2 (5)                          NaN  \n",
       "114455                Hedge_7                          NaN  \n",
       "114456                Hedge_7                          NaN  \n",
       "114457                Hedge_7                          NaN  \n",
       "114458                Hedge_7                          NaN  \n",
       "114459                Hedge_7                          NaN  \n",
       "114460                Hedge_7                          NaN  \n",
       "114461                Hedge_7                          NaN  \n",
       "114462                Hedge_7                          NaN  \n",
       "114463                Hedge_7                          NaN  \n",
       "114464                Hedge_7                          NaN  \n",
       "114465                Hedge_7                          NaN  \n",
       "114466                Hedge_7                          NaN  \n",
       "114467                Hedge_7                          NaN  \n",
       "114468            Building_94                          NaN  \n",
       "114469            Building_94                          NaN  \n",
       "114470            Building_94                          NaN  \n",
       "114471       pavement_T01.003                          NaN  \n",
       "114472       pavement_T01.003                          NaN  \n",
       "114473       pavement_T01.003                          NaN  \n",
       "114474       pavement_T01.003                          NaN  \n",
       "114475       pavement_T01.003                          NaN  \n",
       "114476            Building_94                          NaN  \n",
       "114477            Building_94                          NaN  \n",
       "114478            Building_94                          NaN  \n",
       "114479            Building_94                          NaN  \n",
       "114480       pavement_T01.003                          NaN  \n",
       "114481  road_base_network.004                          NaN  \n",
       "114482  road_base_network.004                          NaN  \n",
       "114483  road_base_network.004                          NaN  \n",
       "114484  road_base_network.004                          NaN  \n",
       "\n",
       "[50 rows x 31 columns]"
      ]
     },
     "execution_count": 6,
     "metadata": {},
     "output_type": "execute_result"
    }
   ],
   "source": [
    "data_frame.tail(50)"
   ]
  }
 ],
 "metadata": {
  "kernelspec": {
   "display_name": "Python 3",
   "language": "python",
   "name": "python3"
  },
  "language_info": {
   "codemirror_mode": {
    "name": "ipython",
    "version": 3
   },
   "file_extension": ".py",
   "mimetype": "text/x-python",
   "name": "python",
   "nbconvert_exporter": "python",
   "pygments_lexer": "ipython3",
   "version": "3.8.8"
  }
 },
 "nbformat": 4,
 "nbformat_minor": 5
}
