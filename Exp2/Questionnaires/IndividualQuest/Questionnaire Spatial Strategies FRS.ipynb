{
 "cells": [
  {
   "cell_type": "markdown",
   "id": "6d261deb",
   "metadata": {},
   "source": [
    "# Questionnaire Spatial Strategies FRS\n"
   ]
  },
  {
   "cell_type": "markdown",
   "id": "2440772a",
   "metadata": {},
   "source": [
    "## Import packages "
   ]
  },
  {
   "cell_type": "markdown",
   "metadata": {
    "collapsed": false
   },
   "source": []
  },
  {
   "cell_type": "code",
   "execution_count": 1,
   "id": "7b4650ee",
   "metadata": {},
   "outputs": [],
   "source": [
    "import os\n",
    "import matplotlib.pyplot as plt\n",
    "import seaborn as sns\n",
    "import pingouin as pg\n",
    "#import ptitprince as pt\n",
    "from statsmodels.stats.anova import *"
   ]
  },
  {
   "cell_type": "code",
   "execution_count": 5,
   "id": "09766ab8",
   "metadata": {},
   "outputs": [
    {
     "data": {
      "text/html": [
       "<div>\n",
       "<style scoped>\n",
       "    .dataframe tbody tr th:only-of-type {\n",
       "        vertical-align: middle;\n",
       "    }\n",
       "\n",
       "    .dataframe tbody tr th {\n",
       "        vertical-align: top;\n",
       "    }\n",
       "\n",
       "    .dataframe thead th {\n",
       "        text-align: right;\n",
       "    }\n",
       "</style>\n",
       "<table border=\"1\" class=\"dataframe\">\n",
       "  <thead>\n",
       "    <tr style=\"text-align: right;\">\n",
       "      <th></th>\n",
       "      <th>ID</th>\n",
       "      <th>Item1</th>\n",
       "      <th>Item2</th>\n",
       "      <th>Item3</th>\n",
       "      <th>Item4</th>\n",
       "      <th>Item5</th>\n",
       "      <th>Item6</th>\n",
       "      <th>Item7</th>\n",
       "      <th>Item8</th>\n",
       "      <th>Item9</th>\n",
       "      <th>...</th>\n",
       "      <th>Item11</th>\n",
       "      <th>Item12</th>\n",
       "      <th>Item13</th>\n",
       "      <th>Item14</th>\n",
       "      <th>Item15</th>\n",
       "      <th>Item16</th>\n",
       "      <th>Item17</th>\n",
       "      <th>Item18</th>\n",
       "      <th>Item19</th>\n",
       "      <th>Alter</th>\n",
       "    </tr>\n",
       "  </thead>\n",
       "  <tbody>\n",
       "    <tr>\n",
       "      <th>count</th>\n",
       "      <td>26.000000</td>\n",
       "      <td>26.000000</td>\n",
       "      <td>26.000000</td>\n",
       "      <td>26.000000</td>\n",
       "      <td>26.000000</td>\n",
       "      <td>26.000000</td>\n",
       "      <td>26.000000</td>\n",
       "      <td>25.000000</td>\n",
       "      <td>26.000000</td>\n",
       "      <td>26.000000</td>\n",
       "      <td>...</td>\n",
       "      <td>26.000000</td>\n",
       "      <td>26.000000</td>\n",
       "      <td>26.000000</td>\n",
       "      <td>26.000000</td>\n",
       "      <td>26.000000</td>\n",
       "      <td>26.000000</td>\n",
       "      <td>26.000000</td>\n",
       "      <td>26.000000</td>\n",
       "      <td>26.000000</td>\n",
       "      <td>26.000000</td>\n",
       "    </tr>\n",
       "    <tr>\n",
       "      <th>mean</th>\n",
       "      <td>5209.423077</td>\n",
       "      <td>4.807692</td>\n",
       "      <td>3.730769</td>\n",
       "      <td>4.346154</td>\n",
       "      <td>4.346154</td>\n",
       "      <td>5.192308</td>\n",
       "      <td>2.346154</td>\n",
       "      <td>4.000000</td>\n",
       "      <td>4.269231</td>\n",
       "      <td>3.076923</td>\n",
       "      <td>...</td>\n",
       "      <td>4.423077</td>\n",
       "      <td>5.076923</td>\n",
       "      <td>5.038462</td>\n",
       "      <td>4.307692</td>\n",
       "      <td>4.846154</td>\n",
       "      <td>4.538462</td>\n",
       "      <td>2.461538</td>\n",
       "      <td>4.038462</td>\n",
       "      <td>4.115385</td>\n",
       "      <td>22.384615</td>\n",
       "    </tr>\n",
       "    <tr>\n",
       "      <th>std</th>\n",
       "      <td>2448.303709</td>\n",
       "      <td>0.938903</td>\n",
       "      <td>1.733383</td>\n",
       "      <td>1.495120</td>\n",
       "      <td>1.324909</td>\n",
       "      <td>1.200641</td>\n",
       "      <td>1.231010</td>\n",
       "      <td>1.322876</td>\n",
       "      <td>1.185165</td>\n",
       "      <td>1.521133</td>\n",
       "      <td>...</td>\n",
       "      <td>1.724484</td>\n",
       "      <td>1.293772</td>\n",
       "      <td>1.684773</td>\n",
       "      <td>1.257592</td>\n",
       "      <td>1.189699</td>\n",
       "      <td>1.392286</td>\n",
       "      <td>1.502818</td>\n",
       "      <td>1.455494</td>\n",
       "      <td>1.478565</td>\n",
       "      <td>2.801099</td>\n",
       "    </tr>\n",
       "    <tr>\n",
       "      <th>min</th>\n",
       "      <td>1031.000000</td>\n",
       "      <td>2.000000</td>\n",
       "      <td>1.000000</td>\n",
       "      <td>2.000000</td>\n",
       "      <td>2.000000</td>\n",
       "      <td>2.000000</td>\n",
       "      <td>1.000000</td>\n",
       "      <td>2.000000</td>\n",
       "      <td>2.000000</td>\n",
       "      <td>1.000000</td>\n",
       "      <td>...</td>\n",
       "      <td>1.000000</td>\n",
       "      <td>2.000000</td>\n",
       "      <td>1.000000</td>\n",
       "      <td>1.000000</td>\n",
       "      <td>3.000000</td>\n",
       "      <td>1.000000</td>\n",
       "      <td>1.000000</td>\n",
       "      <td>1.000000</td>\n",
       "      <td>1.000000</td>\n",
       "      <td>19.000000</td>\n",
       "    </tr>\n",
       "    <tr>\n",
       "      <th>25%</th>\n",
       "      <td>3693.500000</td>\n",
       "      <td>4.250000</td>\n",
       "      <td>2.000000</td>\n",
       "      <td>3.250000</td>\n",
       "      <td>3.000000</td>\n",
       "      <td>5.000000</td>\n",
       "      <td>1.250000</td>\n",
       "      <td>3.000000</td>\n",
       "      <td>3.250000</td>\n",
       "      <td>2.000000</td>\n",
       "      <td>...</td>\n",
       "      <td>3.000000</td>\n",
       "      <td>4.250000</td>\n",
       "      <td>4.250000</td>\n",
       "      <td>4.000000</td>\n",
       "      <td>4.000000</td>\n",
       "      <td>4.000000</td>\n",
       "      <td>1.000000</td>\n",
       "      <td>3.000000</td>\n",
       "      <td>3.000000</td>\n",
       "      <td>21.000000</td>\n",
       "    </tr>\n",
       "    <tr>\n",
       "      <th>50%</th>\n",
       "      <td>5175.000000</td>\n",
       "      <td>5.000000</td>\n",
       "      <td>3.000000</td>\n",
       "      <td>4.000000</td>\n",
       "      <td>5.000000</td>\n",
       "      <td>5.000000</td>\n",
       "      <td>2.000000</td>\n",
       "      <td>4.000000</td>\n",
       "      <td>4.000000</td>\n",
       "      <td>3.000000</td>\n",
       "      <td>...</td>\n",
       "      <td>4.000000</td>\n",
       "      <td>5.000000</td>\n",
       "      <td>6.000000</td>\n",
       "      <td>5.000000</td>\n",
       "      <td>5.000000</td>\n",
       "      <td>5.000000</td>\n",
       "      <td>2.000000</td>\n",
       "      <td>4.000000</td>\n",
       "      <td>4.000000</td>\n",
       "      <td>22.000000</td>\n",
       "    </tr>\n",
       "    <tr>\n",
       "      <th>75%</th>\n",
       "      <td>6912.250000</td>\n",
       "      <td>5.000000</td>\n",
       "      <td>5.000000</td>\n",
       "      <td>5.000000</td>\n",
       "      <td>5.000000</td>\n",
       "      <td>6.000000</td>\n",
       "      <td>3.000000</td>\n",
       "      <td>5.000000</td>\n",
       "      <td>5.000000</td>\n",
       "      <td>4.000000</td>\n",
       "      <td>...</td>\n",
       "      <td>6.000000</td>\n",
       "      <td>6.000000</td>\n",
       "      <td>6.000000</td>\n",
       "      <td>5.000000</td>\n",
       "      <td>6.000000</td>\n",
       "      <td>5.000000</td>\n",
       "      <td>3.000000</td>\n",
       "      <td>5.000000</td>\n",
       "      <td>5.000000</td>\n",
       "      <td>23.000000</td>\n",
       "    </tr>\n",
       "    <tr>\n",
       "      <th>max</th>\n",
       "      <td>9627.000000</td>\n",
       "      <td>6.000000</td>\n",
       "      <td>7.000000</td>\n",
       "      <td>7.000000</td>\n",
       "      <td>6.000000</td>\n",
       "      <td>7.000000</td>\n",
       "      <td>5.000000</td>\n",
       "      <td>6.000000</td>\n",
       "      <td>6.000000</td>\n",
       "      <td>6.000000</td>\n",
       "      <td>...</td>\n",
       "      <td>7.000000</td>\n",
       "      <td>7.000000</td>\n",
       "      <td>7.000000</td>\n",
       "      <td>6.000000</td>\n",
       "      <td>7.000000</td>\n",
       "      <td>7.000000</td>\n",
       "      <td>6.000000</td>\n",
       "      <td>7.000000</td>\n",
       "      <td>7.000000</td>\n",
       "      <td>31.000000</td>\n",
       "    </tr>\n",
       "  </tbody>\n",
       "</table>\n",
       "<p>8 rows × 21 columns</p>\n",
       "</div>"
      ],
      "text/plain": [
       "                ID      Item1      Item2      Item3      Item4      Item5  \\\n",
       "count    26.000000  26.000000  26.000000  26.000000  26.000000  26.000000   \n",
       "mean   5209.423077   4.807692   3.730769   4.346154   4.346154   5.192308   \n",
       "std    2448.303709   0.938903   1.733383   1.495120   1.324909   1.200641   \n",
       "min    1031.000000   2.000000   1.000000   2.000000   2.000000   2.000000   \n",
       "25%    3693.500000   4.250000   2.000000   3.250000   3.000000   5.000000   \n",
       "50%    5175.000000   5.000000   3.000000   4.000000   5.000000   5.000000   \n",
       "75%    6912.250000   5.000000   5.000000   5.000000   5.000000   6.000000   \n",
       "max    9627.000000   6.000000   7.000000   7.000000   6.000000   7.000000   \n",
       "\n",
       "           Item6      Item7      Item8      Item9  ...     Item11     Item12  \\\n",
       "count  26.000000  25.000000  26.000000  26.000000  ...  26.000000  26.000000   \n",
       "mean    2.346154   4.000000   4.269231   3.076923  ...   4.423077   5.076923   \n",
       "std     1.231010   1.322876   1.185165   1.521133  ...   1.724484   1.293772   \n",
       "min     1.000000   2.000000   2.000000   1.000000  ...   1.000000   2.000000   \n",
       "25%     1.250000   3.000000   3.250000   2.000000  ...   3.000000   4.250000   \n",
       "50%     2.000000   4.000000   4.000000   3.000000  ...   4.000000   5.000000   \n",
       "75%     3.000000   5.000000   5.000000   4.000000  ...   6.000000   6.000000   \n",
       "max     5.000000   6.000000   6.000000   6.000000  ...   7.000000   7.000000   \n",
       "\n",
       "          Item13     Item14     Item15     Item16     Item17     Item18  \\\n",
       "count  26.000000  26.000000  26.000000  26.000000  26.000000  26.000000   \n",
       "mean    5.038462   4.307692   4.846154   4.538462   2.461538   4.038462   \n",
       "std     1.684773   1.257592   1.189699   1.392286   1.502818   1.455494   \n",
       "min     1.000000   1.000000   3.000000   1.000000   1.000000   1.000000   \n",
       "25%     4.250000   4.000000   4.000000   4.000000   1.000000   3.000000   \n",
       "50%     6.000000   5.000000   5.000000   5.000000   2.000000   4.000000   \n",
       "75%     6.000000   5.000000   6.000000   5.000000   3.000000   5.000000   \n",
       "max     7.000000   6.000000   7.000000   7.000000   6.000000   7.000000   \n",
       "\n",
       "          Item19     Alter   \n",
       "count  26.000000  26.000000  \n",
       "mean    4.115385  22.384615  \n",
       "std     1.478565   2.801099  \n",
       "min     1.000000  19.000000  \n",
       "25%     3.000000  21.000000  \n",
       "50%     4.000000  22.000000  \n",
       "75%     5.000000  23.000000  \n",
       "max     7.000000  31.000000  \n",
       "\n",
       "[8 rows x 21 columns]"
      ]
     },
     "execution_count": 5,
     "metadata": {},
     "output_type": "execute_result"
    }
   ],
   "source": [
    "# Data set loading\n",
    "df_file = \"E:/HumanA/Data/Data_Tracy/Questionnaires/FRS.csv\"\n",
    "df = pd.read_csv(df_file, sep= ',')\n",
    "\n",
    "df.describe()"
   ]
  },
  {
   "cell_type": "markdown",
   "id": "a7be1527",
   "metadata": {},
   "source": [
    "## „Globale Einschätzung der Orientierungsfähigkeit mit Richtungs- und Wegstrategie“"
   ]
  },
  {
   "cell_type": "code",
   "execution_count": 6,
   "id": "1d611024",
   "metadata": {},
   "outputs": [
    {
     "data": {
      "text/plain": [
       "(0.838029123581581, array([0.68 , 0.934]))"
      ]
     },
     "execution_count": 6,
     "metadata": {},
     "output_type": "execute_result"
    }
   ],
   "source": [
    "df[\"Global\"] = df[[\"Item1\", \"Item4\", \"Item5\", \"Item8\", \"Item10\", \"Item12\", \"Item13\", \"Item14\", \"Item15\",\n",
    "\"Item18\"]].mean(axis=1)\n",
    "df[\"Global\"].describe()\n",
    "Global = df[[\"Item1\", \"Item4\", \"Item5\", \"Item8\", \"Item10\", \"Item12\", \"Item13\", \"Item14\", \"Item15\",\"Item18\"]]\n",
    "pg.cronbach_alpha(data=Global, ci=.99)"
   ]
  },
  {
   "cell_type": "markdown",
   "id": "39c351ff",
   "metadata": {},
   "source": [
    "## „Verwendung einer Überblicksstrategie“"
   ]
  },
  {
   "cell_type": "code",
   "execution_count": 7,
   "id": "a99f0e75",
   "metadata": {},
   "outputs": [
    {
     "data": {
      "text/plain": [
       "(0.8030110335261318, array([0.6 , 0.92]))"
      ]
     },
     "execution_count": 7,
     "metadata": {},
     "output_type": "execute_result"
    }
   ],
   "source": [
    "df[\"Overview\"] = df[[\"Item2\", \"Item3\", \"Item7\", \"Item9\", \"Item11\", \"Item16\", \"Item19\"]].mean(axis=1)\n",
    "Overview = df[[\"Item2\", \"Item3\", \"Item7\", \"Item9\", \"Item11\", \"Item16\", \"Item19\"]]\n",
    "pg.cronbach_alpha(data=Overview, ci=.99)"
   ]
  },
  {
   "cell_type": "markdown",
   "id": "46d7f6da",
   "metadata": {},
   "source": [
    "## „Kenntnis der Himmelsrichtungen“"
   ]
  },
  {
   "cell_type": "code",
   "execution_count": 8,
   "id": "948751ce",
   "metadata": {},
   "outputs": [
    {
     "data": {
      "text/plain": [
       "(0.7907320680305645, array([0.394, 0.928]))"
      ]
     },
     "execution_count": 8,
     "metadata": {},
     "output_type": "execute_result"
    }
   ],
   "source": [
    "df[\"Cardinal\"] = df[[\"Item6\", \"Item17\"]].mean(axis=1)\n",
    "Cardinal = df[[\"Item6\", \"Item17\"]]\n",
    "pg.cronbach_alpha(data=Cardinal, ci=.99)\n"
   ]
  },
  {
   "cell_type": "code",
   "execution_count": 9,
   "id": "5299f8a8",
   "metadata": {},
   "outputs": [
    {
     "name": "stdout",
     "output_type": "stream",
     "text": [
      "<class 'pandas.core.frame.DataFrame'>\n",
      "Int64Index: 26 entries, 0 to 25\n",
      "Data columns (total 5 columns):\n",
      " #   Column    Non-Null Count  Dtype  \n",
      "---  ------    --------------  -----  \n",
      " 0   ID        26 non-null     int64  \n",
      " 1   Alter     26 non-null     int64  \n",
      " 2   Global    26 non-null     float64\n",
      " 3   Overview  26 non-null     float64\n",
      " 4   Cardinal  26 non-null     float64\n",
      "dtypes: float64(3), int64(2)\n",
      "memory usage: 1.2 KB\n"
     ]
    }
   ],
   "source": [
    "df1 = df.iloc[:, [2,22,24,25,26]].copy()\n",
    "FRSsubs= df1.dropna()\n",
    "FRSsubs.info()"
   ]
  },
  {
   "cell_type": "code",
   "execution_count": 10,
   "id": "4c7183fd",
   "metadata": {},
   "outputs": [
    {
     "name": "stdout",
     "output_type": "stream",
     "text": [
      "<class 'pandas.core.frame.DataFrame'>\n",
      "RangeIndex: 78 entries, 0 to 77\n",
      "Data columns (total 3 columns):\n",
      " #   Column    Non-Null Count  Dtype  \n",
      "---  ------    --------------  -----  \n",
      " 0   ID        78 non-null     int64  \n",
      " 1   Subscale  78 non-null     object \n",
      " 2   Average   78 non-null     float64\n",
      "dtypes: float64(1), int64(1), object(1)\n",
      "memory usage: 2.0+ KB\n"
     ]
    }
   ],
   "source": [
    "FRSsubsLong = pd.melt(FRSsubs, id_vars=['ID'], value_vars=[\"Global\", \"Overview\", \"Cardinal\"], var_name='Subscale', value_name='Average')\n",
    "FRSsubsLong.info()"
   ]
  },
  {
   "cell_type": "markdown",
   "metadata": {
    "collapsed": false,
    "pycharm": {
     "name": "#%% md\n"
    }
   },
   "source": [
    "## Export File to CSV"
   ]
  },
  {
   "cell_type": "code",
   "execution_count": 11,
   "metadata": {
    "collapsed": false,
    "pycharm": {
     "name": "#%%\n"
    }
   },
   "outputs": [],
   "source": [
    "os.chdir('E:/HumanA/Data/Data_Tracy/Questionnaires/Adjusted')\n",
    "FRSsubs.to_csv('FRSsubs.csv')"
   ]
  },
  {
   "cell_type": "markdown",
   "metadata": {
    "collapsed": false,
    "pycharm": {
     "name": "#%% md\n"
    }
   },
   "source": [
    "## Plotting"
   ]
  },
  {
   "cell_type": "code",
   "execution_count": 12,
   "metadata": {
    "collapsed": false,
    "pycharm": {
     "name": "#%%\n"
    }
   },
   "outputs": [
    {
     "data": {
      "image/png": "[encoded data removed]",
      "text/plain": [
       "<Figure size 576x288 with 1 Axes>"
      ]
     },
     "metadata": {
      "needs_background": "light"
     },
     "output_type": "display_data"
    }
   ],
   "source": [
    "dy=\"Subscale\"; dx=\"Average\"; ort=\"H\"; pal = sns.color_palette(\"Set2\"); sigma = .2\n",
    "sns.set_palette('colorblind')\n",
    "#create figure and axes objects of a predefined size\n",
    "fig, axes = plt.subplots(nrows=1, ncols=1, figsize=(8,4))\n",
    "sns.violinplot(data= FRSsubsLong, x=dx, y=dy, scale=\"width\")\n",
    "plt.show()"
   ]
  },
  {
   "cell_type": "code",
   "execution_count": 13,
   "id": "bc4b187a",
   "metadata": {},
   "outputs": [
    {
     "data": {
      "text/plain": [
       "<Figure size 864x576 with 0 Axes>"
      ]
     },
     "metadata": {},
     "output_type": "display_data"
    },
    {
     "data": {
      "image/png": "[encoded data removed]",
      "text/plain": [
       "<Figure size 576x288 with 1 Axes>"
      ]
     },
     "metadata": {},
     "output_type": "display_data"
    }
   ],
   "source": [
    "dy=\"Subscale\"; dx=\"Average\"; ort=\"H\";  sigma = .2\n",
    "sns.set_palette(\"colorblind\")\n",
    "sns.set_style(\"white\")\n",
    "sns.set(rc={\"figure.figsize\":(12, 8)})\n",
    "sns.set(font_scale = 1.3)\n",
    "plt.tight_layout()\n",
    "#create figure and axes objects of a predefined size\n",
    "fig, axes = plt.subplots(nrows=1, ncols=1, figsize=(8,4))\n",
    "sns.boxplot(data= FRSsubsLong, y=dx, x=dy, palette='colorblind').set( xlabel='FRS sub-scales')\n",
    "sns.scatterplot(data= FRSsubsLong, y=dx, x=dy, hue=dy, palette='dark', legend=False)\n",
    "plt.title('“Fragebogen Räumlicher Strategien” (FRS) questionnaire', weight='bold').set_fontsize('18')\n",
    "plt.show()"
   ]
  },
  {
   "cell_type": "code",
   "execution_count": 14,
   "id": "960ff8de",
   "metadata": {},
   "outputs": [
    {
     "ename": "NameError",
     "evalue": "name 'pt' is not defined",
     "output_type": "error",
     "traceback": [
      "\u001b[1;31m---------------------------------------------------------------------------\u001b[0m",
      "\u001b[1;31mNameError\u001b[0m                                 Traceback (most recent call last)",
      "\u001b[1;32m~\\AppData\\Local\\Temp/ipykernel_16072/1696876740.py\u001b[0m in \u001b[0;36m<module>\u001b[1;34m\u001b[0m\n\u001b[0;32m      2\u001b[0m \u001b[0mf\u001b[0m\u001b[1;33m,\u001b[0m \u001b[0max\u001b[0m \u001b[1;33m=\u001b[0m \u001b[0mplt\u001b[0m\u001b[1;33m.\u001b[0m\u001b[0msubplots\u001b[0m\u001b[1;33m(\u001b[0m\u001b[0mfigsize\u001b[0m\u001b[1;33m=\u001b[0m\u001b[1;33m(\u001b[0m\u001b[1;36m16\u001b[0m\u001b[1;33m,\u001b[0m \u001b[1;36m4\u001b[0m\u001b[1;33m)\u001b[0m\u001b[1;33m)\u001b[0m\u001b[1;33m\u001b[0m\u001b[1;33m\u001b[0m\u001b[0m\n\u001b[0;32m      3\u001b[0m \u001b[1;33m\u001b[0m\u001b[0m\n\u001b[1;32m----> 4\u001b[1;33m ax=pt.half_violinplot( x = dx, y = dy, data =\n\u001b[0m\u001b[0;32m      5\u001b[0m \u001b[0mFRSsubsLong\u001b[0m\u001b[1;33m,\u001b[0m \u001b[0mpalette\u001b[0m \u001b[1;33m=\u001b[0m \u001b[0mpal\u001b[0m\u001b[1;33m,\u001b[0m \u001b[0mbw\u001b[0m \u001b[1;33m=\u001b[0m \u001b[1;36m.2\u001b[0m\u001b[1;33m,\u001b[0m \u001b[0mcut\u001b[0m \u001b[1;33m=\u001b[0m \u001b[1;36m0.\u001b[0m\u001b[1;33m,\u001b[0m\u001b[1;33m\u001b[0m\u001b[1;33m\u001b[0m\u001b[0m\n\u001b[0;32m      6\u001b[0m                       scale = \"area\", width = .6, inner = None, orient = ort)\n",
      "\u001b[1;31mNameError\u001b[0m: name 'pt' is not defined"
     ]
    },
    {
     "data": {
      "image/png": "[encoded data removed]",
      "text/plain": [
       "<Figure size 1152x288 with 1 Axes>"
      ]
     },
     "metadata": {},
     "output_type": "display_data"
    }
   ],
   "source": [
    "\n",
    "dy=\"Subscale\"; dx=\"Average\"; ort=\"h\"; pal = sns.color_palette(); sigma = .2\n",
    "f, ax = plt.subplots(figsize=(16, 4))\n",
    "\n",
    "ax=pt.half_violinplot( x = dx, y = dy, data =\n",
    "FRSsubsLong, palette = pal, bw = .2, cut = 0.,\n",
    "                      scale = \"area\", width = .6, inner = None, orient = ort)\n",
    "ax=sns.stripplot( x = dx, y = dy, data = FRSsubsLong, palette = pal, edgecolor = \"white\",\n",
    "                 size = 3, jitter = 1, zorder = 0, orient = ort)\n",
    "ax=sns.boxplot( x = dx, y = dy, data = FRSsubsLong, color = \"black\", width = .15, zorder = 10,\\\n",
    "            showcaps = True, boxprops = {'facecolor':'none', \"zorder\":10},\\\n",
    "            showfliers=True, whiskerprops = {'linewidth':2, \"zorder\":10},\\\n",
    "               saturation = 1, orient = ort) "
   ]
  },
  {
   "cell_type": "code",
   "execution_count": null,
   "id": "430b62b6",
   "metadata": {},
   "outputs": [],
   "source": []
  }
 ],
 "metadata": {
  "kernelspec": {
   "display_name": "Python 3",
   "language": "python",
   "name": "python3"
  },
  "language_info": {
   "codemirror_mode": {
    "name": "ipython",
    "version": 3
   },
   "file_extension": ".py",
   "mimetype": "text/x-python",
   "name": "python",
   "nbconvert_exporter": "python",
   "pygments_lexer": "ipython3",
   "version": "3.9.7"
  }
 },
 "nbformat": 4,
 "nbformat_minor": 5
}
