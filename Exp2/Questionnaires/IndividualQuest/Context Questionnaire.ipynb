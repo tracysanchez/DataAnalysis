{
 "cells": [
  {
   "cell_type": "markdown",
   "id": "94f5d37b",
   "metadata": {},
   "source": [
    "## Context Questionnaire"
   ]
  },
  {
   "cell_type": "markdown",
   "id": "bb37695d",
   "metadata": {},
   "source": [
    "## Import packages "
   ]
  },
  {
   "cell_type": "code",
   "execution_count": 1,
   "id": "50e04eaf",
   "metadata": {},
   "outputs": [],
   "source": [
    "import os\n",
    "import pandas as pd\n",
    "import matplotlib.pyplot as plt\n",
    "import seaborn as sns\n",
    "from statsmodels.stats.anova import *"
   ]
  },
  {
   "cell_type": "markdown",
   "id": "37fce07f",
   "metadata": {},
   "source": [
    "## Preprocessing "
   ]
  },
  {
   "cell_type": "code",
   "execution_count": 2,
   "id": "76bb9746",
   "metadata": {},
   "outputs": [
    {
     "name": "stdout",
     "output_type": "stream",
     "text": [
      "<class 'pandas.core.frame.DataFrame'>\n",
      "RangeIndex: 20 entries, 0 to 19\n",
      "Data columns (total 6 columns):\n",
      " #   Column                                                                              Non-Null Count  Dtype \n",
      "---  ------                                                                              --------------  ----- \n",
      " 0   Timestamp                                                                           20 non-null     object\n",
      " 1   ID                                                                                  20 non-null     int64 \n",
      " 2   1. The avatars increased my feeling of presence in the Virtual environment. ​       20 non-null     int64 \n",
      " 3   2. The Virtual environment was more natural with avatars in it.                     20 non-null     int64 \n",
      " 4   ​3. I felt like I was with other people in the city                                 20 non-null     int64 \n",
      " 5   4. The exploration of the virtual town felt similar to exploring a real world city  20 non-null     int64 \n",
      "dtypes: int64(5), object(1)\n",
      "memory usage: 1.1+ KB\n"
     ]
    }
   ],
   "source": [
    "# Data set loading\n",
    "df_file = 'E:/HumanA/Data/Data_Tracy/Questionnaires/ContextQuest.csv'\n",
    "df = pd.read_csv(df_file, sep= ',')\n",
    "df.info()"
   ]
  },
  {
   "cell_type": "code",
   "execution_count": 3,
   "id": "371ba885",
   "metadata": {},
   "outputs": [
    {
     "data": {
      "text/html": [
       "<div>\n",
       "<style scoped>\n",
       "    .dataframe tbody tr th:only-of-type {\n",
       "        vertical-align: middle;\n",
       "    }\n",
       "\n",
       "    .dataframe tbody tr th {\n",
       "        vertical-align: top;\n",
       "    }\n",
       "\n",
       "    .dataframe thead th {\n",
       "        text-align: right;\n",
       "    }\n",
       "</style>\n",
       "<table border=\"1\" class=\"dataframe\">\n",
       "  <thead>\n",
       "    <tr style=\"text-align: right;\">\n",
       "      <th></th>\n",
       "      <th>Timestamp</th>\n",
       "      <th>ID</th>\n",
       "      <th>1. The avatars increased my feeling of presence in the Virtual environment. ​</th>\n",
       "      <th>2. The Virtual environment was more natural with avatars in it.</th>\n",
       "      <th>​3. I felt like I was with other people in the city</th>\n",
       "      <th>4. The exploration of the virtual town felt similar to exploring a real world city</th>\n",
       "    </tr>\n",
       "  </thead>\n",
       "  <tbody>\n",
       "    <tr>\n",
       "      <th>15</th>\n",
       "      <td>2/23/2023 11:07:21</td>\n",
       "      <td>7393</td>\n",
       "      <td>3</td>\n",
       "      <td>5</td>\n",
       "      <td>2</td>\n",
       "      <td>6</td>\n",
       "    </tr>\n",
       "    <tr>\n",
       "      <th>16</th>\n",
       "      <td>2/28/2023 12:25:18</td>\n",
       "      <td>5161</td>\n",
       "      <td>7</td>\n",
       "      <td>6</td>\n",
       "      <td>5</td>\n",
       "      <td>6</td>\n",
       "    </tr>\n",
       "    <tr>\n",
       "      <th>17</th>\n",
       "      <td>3/10/2023 11:37:53</td>\n",
       "      <td>5851</td>\n",
       "      <td>5</td>\n",
       "      <td>6</td>\n",
       "      <td>1</td>\n",
       "      <td>5</td>\n",
       "    </tr>\n",
       "    <tr>\n",
       "      <th>18</th>\n",
       "      <td>3/30/2023 14:19:01</td>\n",
       "      <td>1843</td>\n",
       "      <td>6</td>\n",
       "      <td>6</td>\n",
       "      <td>3</td>\n",
       "      <td>3</td>\n",
       "    </tr>\n",
       "    <tr>\n",
       "      <th>19</th>\n",
       "      <td>4/18/2023 11:06:42</td>\n",
       "      <td>3540</td>\n",
       "      <td>2</td>\n",
       "      <td>2</td>\n",
       "      <td>3</td>\n",
       "      <td>5</td>\n",
       "    </tr>\n",
       "  </tbody>\n",
       "</table>\n",
       "</div>"
      ],
      "text/plain": [
       "             Timestamp    ID  \\\n",
       "15  2/23/2023 11:07:21  7393   \n",
       "16  2/28/2023 12:25:18  5161   \n",
       "17  3/10/2023 11:37:53  5851   \n",
       "18  3/30/2023 14:19:01  1843   \n",
       "19  4/18/2023 11:06:42  3540   \n",
       "\n",
       "    1. The avatars increased my feeling of presence in the Virtual environment. ​  \\\n",
       "15                                                  3                               \n",
       "16                                                  7                               \n",
       "17                                                  5                               \n",
       "18                                                  6                               \n",
       "19                                                  2                               \n",
       "\n",
       "    2. The Virtual environment was more natural with avatars in it.   \\\n",
       "15                                                  5                  \n",
       "16                                                  6                  \n",
       "17                                                  6                  \n",
       "18                                                  6                  \n",
       "19                                                  2                  \n",
       "\n",
       "    ​3. I felt like I was with other people in the city   \\\n",
       "15                                                  2      \n",
       "16                                                  5      \n",
       "17                                                  1      \n",
       "18                                                  3      \n",
       "19                                                  3      \n",
       "\n",
       "    4. The exploration of the virtual town felt similar to exploring a real world city  \n",
       "15                                                  6                                   \n",
       "16                                                  6                                   \n",
       "17                                                  5                                   \n",
       "18                                                  3                                   \n",
       "19                                                  5                                   "
      ]
     },
     "execution_count": 3,
     "metadata": {},
     "output_type": "execute_result"
    }
   ],
   "source": [
    "df.tail()"
   ]
  },
  {
   "cell_type": "code",
   "execution_count": 4,
   "id": "e60de606",
   "metadata": {},
   "outputs": [
    {
     "name": "stdout",
     "output_type": "stream",
     "text": [
      "<class 'pandas.core.frame.DataFrame'>\n",
      "RangeIndex: 20 entries, 0 to 19\n",
      "Data columns (total 6 columns):\n",
      " #   Column     Non-Null Count  Dtype \n",
      "---  ------     --------------  ----- \n",
      " 0   timeStamp  20 non-null     object\n",
      " 1   ID         20 non-null     int64 \n",
      " 2   item1      20 non-null     int64 \n",
      " 3   item2      20 non-null     int64 \n",
      " 4   item3      20 non-null     int64 \n",
      " 5   item4      20 non-null     int64 \n",
      "dtypes: int64(5), object(1)\n",
      "memory usage: 1.1+ KB\n"
     ]
    }
   ],
   "source": [
    "#Renaming the column names \n",
    "column_names = ['timeStamp', 'ID', 'item1', 'item2', 'item3', 'item4']\n",
    "df.columns = column_names\n",
    "df.head()\n",
    "df.info()"
   ]
  },
  {
   "cell_type": "code",
   "execution_count": 5,
   "id": "385ff978",
   "metadata": {},
   "outputs": [
    {
     "data": {
      "text/html": [
       "<div>\n",
       "<style scoped>\n",
       "    .dataframe tbody tr th:only-of-type {\n",
       "        vertical-align: middle;\n",
       "    }\n",
       "\n",
       "    .dataframe tbody tr th {\n",
       "        vertical-align: top;\n",
       "    }\n",
       "\n",
       "    .dataframe thead th {\n",
       "        text-align: right;\n",
       "    }\n",
       "</style>\n",
       "<table border=\"1\" class=\"dataframe\">\n",
       "  <thead>\n",
       "    <tr style=\"text-align: right;\">\n",
       "      <th></th>\n",
       "      <th>ID</th>\n",
       "      <th>item</th>\n",
       "      <th>likert</th>\n",
       "    </tr>\n",
       "  </thead>\n",
       "  <tbody>\n",
       "    <tr>\n",
       "      <th>0</th>\n",
       "      <td>9627</td>\n",
       "      <td>item1</td>\n",
       "      <td>4</td>\n",
       "    </tr>\n",
       "    <tr>\n",
       "      <th>1</th>\n",
       "      <td>4598</td>\n",
       "      <td>item1</td>\n",
       "      <td>5</td>\n",
       "    </tr>\n",
       "    <tr>\n",
       "      <th>2</th>\n",
       "      <td>1031</td>\n",
       "      <td>item1</td>\n",
       "      <td>6</td>\n",
       "    </tr>\n",
       "    <tr>\n",
       "      <th>3</th>\n",
       "      <td>8629</td>\n",
       "      <td>item1</td>\n",
       "      <td>4</td>\n",
       "    </tr>\n",
       "    <tr>\n",
       "      <th>4</th>\n",
       "      <td>4847</td>\n",
       "      <td>item1</td>\n",
       "      <td>3</td>\n",
       "    </tr>\n",
       "  </tbody>\n",
       "</table>\n",
       "</div>"
      ],
      "text/plain": [
       "     ID   item  likert\n",
       "0  9627  item1       4\n",
       "1  4598  item1       5\n",
       "2  1031  item1       6\n",
       "3  8629  item1       4\n",
       "4  4847  item1       3"
      ]
     },
     "execution_count": 5,
     "metadata": {},
     "output_type": "execute_result"
    }
   ],
   "source": [
    "# From a wide format to a long format \n",
    "Long = pd.melt(df, id_vars=['ID'], value_vars=['item1', 'item2', 'item3', 'item4'], var_name='item', value_name='likert')\n",
    "Long.head()"
   ]
  },
  {
   "cell_type": "code",
   "execution_count": 6,
   "id": "d2b8ec11",
   "metadata": {},
   "outputs": [
    {
     "data": {
      "text/html": [
       "<div>\n",
       "<style scoped>\n",
       "    .dataframe tbody tr th:only-of-type {\n",
       "        vertical-align: middle;\n",
       "    }\n",
       "\n",
       "    .dataframe tbody tr th {\n",
       "        vertical-align: top;\n",
       "    }\n",
       "\n",
       "    .dataframe thead th {\n",
       "        text-align: right;\n",
       "    }\n",
       "</style>\n",
       "<table border=\"1\" class=\"dataframe\">\n",
       "  <thead>\n",
       "    <tr style=\"text-align: right;\">\n",
       "      <th></th>\n",
       "      <th>timeStamp</th>\n",
       "      <th>ID</th>\n",
       "      <th>item1</th>\n",
       "      <th>item2</th>\n",
       "      <th>item3</th>\n",
       "      <th>item4</th>\n",
       "      <th>ContextQ_average</th>\n",
       "    </tr>\n",
       "  </thead>\n",
       "  <tbody>\n",
       "    <tr>\n",
       "      <th>0</th>\n",
       "      <td>11/17/2022 17:32:14</td>\n",
       "      <td>9627</td>\n",
       "      <td>4</td>\n",
       "      <td>6</td>\n",
       "      <td>2</td>\n",
       "      <td>6</td>\n",
       "      <td>5.0</td>\n",
       "    </tr>\n",
       "    <tr>\n",
       "      <th>1</th>\n",
       "      <td>11/21/2022 15:26:47</td>\n",
       "      <td>4598</td>\n",
       "      <td>5</td>\n",
       "      <td>6</td>\n",
       "      <td>4</td>\n",
       "      <td>4</td>\n",
       "      <td>5.5</td>\n",
       "    </tr>\n",
       "    <tr>\n",
       "      <th>2</th>\n",
       "      <td>11/22/2022 15:48:55</td>\n",
       "      <td>1031</td>\n",
       "      <td>6</td>\n",
       "      <td>7</td>\n",
       "      <td>2</td>\n",
       "      <td>4</td>\n",
       "      <td>6.5</td>\n",
       "    </tr>\n",
       "    <tr>\n",
       "      <th>3</th>\n",
       "      <td>11/24/2022 11:50:24</td>\n",
       "      <td>8629</td>\n",
       "      <td>4</td>\n",
       "      <td>5</td>\n",
       "      <td>2</td>\n",
       "      <td>3</td>\n",
       "      <td>4.5</td>\n",
       "    </tr>\n",
       "    <tr>\n",
       "      <th>4</th>\n",
       "      <td>11/25/2022 9:45:38</td>\n",
       "      <td>4847</td>\n",
       "      <td>3</td>\n",
       "      <td>6</td>\n",
       "      <td>5</td>\n",
       "      <td>2</td>\n",
       "      <td>4.5</td>\n",
       "    </tr>\n",
       "  </tbody>\n",
       "</table>\n",
       "</div>"
      ],
      "text/plain": [
       "             timeStamp    ID  item1  item2  item3  item4  ContextQ_average\n",
       "0  11/17/2022 17:32:14  9627      4      6      2      6               5.0\n",
       "1  11/21/2022 15:26:47  4598      5      6      4      4               5.5\n",
       "2  11/22/2022 15:48:55  1031      6      7      2      4               6.5\n",
       "3  11/24/2022 11:50:24  8629      4      5      2      3               4.5\n",
       "4   11/25/2022 9:45:38  4847      3      6      5      2               4.5"
      ]
     },
     "execution_count": 6,
     "metadata": {},
     "output_type": "execute_result"
    }
   ],
   "source": [
    "# Calculating the average for all context items \n",
    "df['ContextQ_average'] = df[['item1','item2']].mean(axis=1)\n",
    "df.head()"
   ]
  },
  {
   "cell_type": "markdown",
   "metadata": {
    "collapsed": false
   },
   "source": [
    "## Write CSV file"
   ]
  },
  {
   "cell_type": "code",
   "execution_count": 7,
   "metadata": {
    "collapsed": false,
    "pycharm": {
     "name": "#%%\n"
    }
   },
   "outputs": [],
   "source": [
    "os.chdir('E:/HumanA/Data/Data_Tracy/Questionnaires/Adjusted')\n",
    "df.to_csv('ContextQuest.csv')"
   ]
  },
  {
   "cell_type": "code",
   "execution_count": 8,
   "id": "64a25699",
   "metadata": {},
   "outputs": [
    {
     "data": {
      "text/html": [
       "<div>\n",
       "<style scoped>\n",
       "    .dataframe tbody tr th:only-of-type {\n",
       "        vertical-align: middle;\n",
       "    }\n",
       "\n",
       "    .dataframe tbody tr th {\n",
       "        vertical-align: top;\n",
       "    }\n",
       "\n",
       "    .dataframe thead th {\n",
       "        text-align: right;\n",
       "    }\n",
       "</style>\n",
       "<table border=\"1\" class=\"dataframe\">\n",
       "  <thead>\n",
       "    <tr style=\"text-align: right;\">\n",
       "      <th></th>\n",
       "      <th>ID</th>\n",
       "      <th>item1</th>\n",
       "      <th>item2</th>\n",
       "      <th>item3</th>\n",
       "      <th>item4</th>\n",
       "      <th>ContextQ_average</th>\n",
       "    </tr>\n",
       "  </thead>\n",
       "  <tbody>\n",
       "    <tr>\n",
       "      <th>count</th>\n",
       "      <td>20.000000</td>\n",
       "      <td>20.000000</td>\n",
       "      <td>20.000000</td>\n",
       "      <td>20.000000</td>\n",
       "      <td>20.00000</td>\n",
       "      <td>20.000000</td>\n",
       "    </tr>\n",
       "    <tr>\n",
       "      <th>mean</th>\n",
       "      <td>5624.300000</td>\n",
       "      <td>4.450000</td>\n",
       "      <td>4.850000</td>\n",
       "      <td>3.300000</td>\n",
       "      <td>4.50000</td>\n",
       "      <td>4.650000</td>\n",
       "    </tr>\n",
       "    <tr>\n",
       "      <th>std</th>\n",
       "      <td>2357.904067</td>\n",
       "      <td>1.605091</td>\n",
       "      <td>1.755443</td>\n",
       "      <td>1.719853</td>\n",
       "      <td>1.60591</td>\n",
       "      <td>1.556819</td>\n",
       "    </tr>\n",
       "    <tr>\n",
       "      <th>min</th>\n",
       "      <td>1031.000000</td>\n",
       "      <td>2.000000</td>\n",
       "      <td>2.000000</td>\n",
       "      <td>1.000000</td>\n",
       "      <td>1.00000</td>\n",
       "      <td>2.000000</td>\n",
       "    </tr>\n",
       "    <tr>\n",
       "      <th>25%</th>\n",
       "      <td>4575.500000</td>\n",
       "      <td>3.750000</td>\n",
       "      <td>3.000000</td>\n",
       "      <td>2.000000</td>\n",
       "      <td>3.75000</td>\n",
       "      <td>3.875000</td>\n",
       "    </tr>\n",
       "    <tr>\n",
       "      <th>50%</th>\n",
       "      <td>5754.500000</td>\n",
       "      <td>4.000000</td>\n",
       "      <td>5.500000</td>\n",
       "      <td>3.000000</td>\n",
       "      <td>5.00000</td>\n",
       "      <td>4.500000</td>\n",
       "    </tr>\n",
       "    <tr>\n",
       "      <th>75%</th>\n",
       "      <td>7159.000000</td>\n",
       "      <td>5.250000</td>\n",
       "      <td>6.000000</td>\n",
       "      <td>5.000000</td>\n",
       "      <td>6.00000</td>\n",
       "      <td>6.000000</td>\n",
       "    </tr>\n",
       "    <tr>\n",
       "      <th>max</th>\n",
       "      <td>9627.000000</td>\n",
       "      <td>7.000000</td>\n",
       "      <td>7.000000</td>\n",
       "      <td>7.000000</td>\n",
       "      <td>7.00000</td>\n",
       "      <td>7.000000</td>\n",
       "    </tr>\n",
       "  </tbody>\n",
       "</table>\n",
       "</div>"
      ],
      "text/plain": [
       "                ID      item1      item2      item3     item4  \\\n",
       "count    20.000000  20.000000  20.000000  20.000000  20.00000   \n",
       "mean   5624.300000   4.450000   4.850000   3.300000   4.50000   \n",
       "std    2357.904067   1.605091   1.755443   1.719853   1.60591   \n",
       "min    1031.000000   2.000000   2.000000   1.000000   1.00000   \n",
       "25%    4575.500000   3.750000   3.000000   2.000000   3.75000   \n",
       "50%    5754.500000   4.000000   5.500000   3.000000   5.00000   \n",
       "75%    7159.000000   5.250000   6.000000   5.000000   6.00000   \n",
       "max    9627.000000   7.000000   7.000000   7.000000   7.00000   \n",
       "\n",
       "       ContextQ_average  \n",
       "count         20.000000  \n",
       "mean           4.650000  \n",
       "std            1.556819  \n",
       "min            2.000000  \n",
       "25%            3.875000  \n",
       "50%            4.500000  \n",
       "75%            6.000000  \n",
       "max            7.000000  "
      ]
     },
     "execution_count": 8,
     "metadata": {},
     "output_type": "execute_result"
    }
   ],
   "source": [
    "df.describe()"
   ]
  },
  {
   "cell_type": "markdown",
   "id": "77a830c9",
   "metadata": {},
   "source": [
    "## Data Visualization"
   ]
  },
  {
   "cell_type": "code",
   "execution_count": 9,
   "id": "6820c22d",
   "metadata": {},
   "outputs": [
    {
     "data": {
      "image/png": "[encoded data removed]",
      "text/plain": [
       "<Figure size 1080x360 with 1 Axes>"
      ]
     },
     "metadata": {
      "needs_background": "light"
     },
     "output_type": "display_data"
    }
   ],
   "source": [
    "sns.set_palette('colorblind')\n",
    "dy='item'; dx='likert'; ort='H';  sigma = .2\n",
    "#Change y axist from 1 to seven\n",
    "fig, ax = plt.subplots(figsize=(15,5))\n",
    "sns.boxplot(data= Long, x=dy, y=dx, ax=ax)\n",
    "sns.swarmplot(data= Long, x=dy, y=dx,  ax=ax, linewidth=1)\n",
    "\n",
    "plt.show()"
   ]
  },
  {
   "cell_type": "code",
   "execution_count": 10,
   "id": "d4738816",
   "metadata": {},
   "outputs": [
    {
     "data": {
      "text/html": [
       "<div>\n",
       "<style scoped>\n",
       "    .dataframe tbody tr th:only-of-type {\n",
       "        vertical-align: middle;\n",
       "    }\n",
       "\n",
       "    .dataframe tbody tr th {\n",
       "        vertical-align: top;\n",
       "    }\n",
       "\n",
       "    .dataframe thead th {\n",
       "        text-align: right;\n",
       "    }\n",
       "</style>\n",
       "<table border=\"1\" class=\"dataframe\">\n",
       "  <thead>\n",
       "    <tr style=\"text-align: right;\">\n",
       "      <th></th>\n",
       "      <th>ID</th>\n",
       "      <th>item</th>\n",
       "      <th>likert</th>\n",
       "    </tr>\n",
       "  </thead>\n",
       "  <tbody>\n",
       "    <tr>\n",
       "      <th>0</th>\n",
       "      <td>9627</td>\n",
       "      <td>ContextQ_average</td>\n",
       "      <td>5.0</td>\n",
       "    </tr>\n",
       "    <tr>\n",
       "      <th>1</th>\n",
       "      <td>4598</td>\n",
       "      <td>ContextQ_average</td>\n",
       "      <td>5.5</td>\n",
       "    </tr>\n",
       "    <tr>\n",
       "      <th>2</th>\n",
       "      <td>1031</td>\n",
       "      <td>ContextQ_average</td>\n",
       "      <td>6.5</td>\n",
       "    </tr>\n",
       "    <tr>\n",
       "      <th>3</th>\n",
       "      <td>8629</td>\n",
       "      <td>ContextQ_average</td>\n",
       "      <td>4.5</td>\n",
       "    </tr>\n",
       "    <tr>\n",
       "      <th>4</th>\n",
       "      <td>4847</td>\n",
       "      <td>ContextQ_average</td>\n",
       "      <td>4.5</td>\n",
       "    </tr>\n",
       "  </tbody>\n",
       "</table>\n",
       "</div>"
      ],
      "text/plain": [
       "     ID              item  likert\n",
       "0  9627  ContextQ_average     5.0\n",
       "1  4598  ContextQ_average     5.5\n",
       "2  1031  ContextQ_average     6.5\n",
       "3  8629  ContextQ_average     4.5\n",
       "4  4847  ContextQ_average     4.5"
      ]
     },
     "execution_count": 10,
     "metadata": {},
     "output_type": "execute_result"
    }
   ],
   "source": [
    "LongAv = pd.melt(df, id_vars=['ID'], value_vars=['ContextQ_average'], var_name='item', value_name='likert')\n",
    "LongAv.head()"
   ]
  },
  {
   "cell_type": "code",
   "execution_count": 11,
   "id": "59768cda",
   "metadata": {},
   "outputs": [
    {
     "data": {
      "image/png": "[encoded data removed]",
      "text/plain": [
       "<Figure size 1080x360 with 1 Axes>"
      ]
     },
     "metadata": {
      "needs_background": "light"
     },
     "output_type": "display_data"
    }
   ],
   "source": [
    "dy='item'; dx='likert'; ort='H'; pal = sns.set_palette('colorblind'); sigma = .2\n",
    "\n",
    "fig, ax = plt.subplots(figsize=(15,5))\n",
    "sns.violinplot(data= LongAv, x=dy, y=dx, ax=ax)\n",
    "sns.swarmplot(data= LongAv, x=dy, y=dx,  ax=ax, linewidth=1)\n",
    "\n",
    "plt.show()"
   ]
  },
  {
   "cell_type": "code",
   "execution_count": null,
   "id": "746cbaaf",
   "metadata": {},
   "outputs": [],
   "source": []
  }
 ],
 "metadata": {
  "kernelspec": {
   "display_name": "Python 3",
   "language": "python",
   "name": "python3"
  },
  "language_info": {
   "codemirror_mode": {
    "name": "ipython",
    "version": 3
   },
   "file_extension": ".py",
   "mimetype": "text/x-python",
   "name": "python",
   "nbconvert_exporter": "python",
   "pygments_lexer": "ipython3",
   "version": "3.9.7"
  }
 },
 "nbformat": 4,
 "nbformat_minor": 5
}
