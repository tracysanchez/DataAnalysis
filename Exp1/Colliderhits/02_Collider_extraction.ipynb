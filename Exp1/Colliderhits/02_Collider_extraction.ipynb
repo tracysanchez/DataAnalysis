{
 "cells": [
  {
   "cell_type": "code",
   "execution_count": 1,
   "id": "b6d06a85-751a-4e42-a434-a5c025194b02",
   "metadata": {},
   "outputs": [],
   "source": [
    "import os\n",
    "import re\n",
    "import numpy as np\n",
    "import pandas as pd\n",
    "import glob"
   ]
  },
  {
   "cell_type": "code",
   "execution_count": 2,
   "id": "e99a4a4f-2972-43e6-9094-4408f5a082c8",
   "metadata": {},
   "outputs": [],
   "source": [
    "# Since the collider names are too detailed, here we create a dictionary with patterns to classify them into our categories of interest\n",
    "\n",
    "patterns = {'\\d{2}_Sa':'Passive_Agent', '\\d{2}_Cma':'Active_Agent', 'Building_\\d+': 'Building'}\n",
    "patterns.update(dict.fromkeys(['Castle-TaskBuilding_56', 'Crane_59','HighSilo-TaskBuilding_49', 'Windmill-TaskBuilding_10_1', 'Church-TaskBuilding_16'], 'Global_Landmark'))\n",
    "patterns.update(dict.fromkeys(['^TaskBuilding_2$','^TaskBuilding_3$', '^TaskBuilding_5$', '^TaskBuilding_8$', '^TaskBuilding_9$', '^TaskBuilding_11$', '^TaskBuilding_13$', '^TaskBuilding_14$', '^TaskBuilding_20$', \n",
    "                               '^TaskBuilding_21$', '^TaskBuilding_23$','^TaskBuilding_27$', '^TaskBuilding_29$', '^TaskBuilding_32$', '^TaskBuilding_34$',  '^TaskBuilding_38$', '^TaskBuilding_41$', '^TaskBuilding_42$', \n",
    "                               '^TaskBuilding_44$', '^TaskBuilding_45$', '^TaskBuilding_47$', '^TaskBuilding_50$', '^TaskBuilding_51$', '^TaskBuilding_52$', 'BasketballCourt_58', 'Construction_57', \n",
    "                               '^Graffity_02$', '^Graffity_03$', '^Graffity_05$', '^Graffity_08$', '^Graffity_09$', '^Graffity_11$', '^Graffity_13$', '^Graffity_14$', '^Graffity_20$', \n",
    "                               '^Graffity_21$', '^Graffity_23$', '^Graffity_27$', '^Graffity_29$', '^Graffity_32$', '^Graffity_34$', '^Graffity_38$', '^Graffity_41$', '^Graffity_42$', \n",
    "                               '^Graffity_44$', '^Graffity_45$', '^Graffity_47$',  '^Graffity_50$', '^Graffity_51$', '^Graffity_52$'], 'TaskBuilding_Public'))\n",
    "\n",
    "patterns.update(dict.fromkeys(['^TaskBuilding_1$','^TaskBuilding_4$', '^TaskBuilding_6$', '^TaskBuilding_7$', '^TaskBuilding_12$', '^TaskBuilding_15$', '^TaskBuilding_17$', '^TaskBuilding_18$', '^TaskBuilding_19$', \n",
    "                               '^TaskBuilding_22$', '^TaskBuilding_24$','^TaskBuilding_25$', '^TaskBuilding_26$', '^TaskBuilding_28$', '^TaskBuilding_30$',  '^TaskBuilding_31$', '^TaskBuilding_33$', '^TaskBuilding_35$', \n",
    "                               '^TaskBuilding_36$', '^TaskBuilding_37$', '^TaskBuilding_39$', '^TaskBuilding_40$', '^TaskBuilding_43$', '^TaskBuilding_48$', '^TaskBuilding_54$','^TaskBuilding_55$',\n",
    "                               '^Graffity_01$','^Graffity_04$', '^Graffity_06$', '^Graffity_07$', '^Graffity_12$', '^Graffity_15$', '^Graffity_17$', '^Graffity_18$', '^Graffity_19$', '^Graffity_22$', \n",
    "                               '^Graffity_24$','^Graffity_25$', '^Graffity_26$', '^Graffity_28$', '^Graffity_30$',  '^Graffity_31$', '^Graffity_33$', '^Graffity_35$', '^Graffity_36$', '^Graffity_37$', '^Graffity_39$', \n",
    "                               '^Graffity_40$', '^Graffity_43$', '^Graffity_48$', '^Graffity_54$', '^Graffity_55$' ], 'TaskBuilding_Residential'))\n",
    "default_val = 'Background'"
   ]
  },
  {
   "cell_type": "code",
   "execution_count": 3,
   "id": "8d1fc42a",
   "metadata": {
    "collapsed": false,
    "jupyter": {
     "outputs_hidden": false
    },
    "pycharm": {
     "name": "#%%\n"
    }
   },
   "outputs": [
    {
     "name": "stdout",
     "output_type": "stream",
     "text": [
      "/Volumes/TwoTeras/0_Experiment_1/Eye_Tracking/Pre_processed/02_Individuals_Colliders/3246.csv\n",
      "/Volumes/TwoTeras/0_Experiment_1/Eye_Tracking/Pre_processed/02_Individuals_Colliders/0365.csv\n",
      "/Volumes/TwoTeras/0_Experiment_1/Eye_Tracking/Pre_processed/02_Individuals_Colliders/0479.csv\n",
      "/Volumes/TwoTeras/0_Experiment_1/Eye_Tracking/Pre_processed/02_Individuals_Colliders/1754.csv\n",
      "/Volumes/TwoTeras/0_Experiment_1/Eye_Tracking/Pre_processed/02_Individuals_Colliders/2258.csv\n",
      "/Volumes/TwoTeras/0_Experiment_1/Eye_Tracking/Pre_processed/02_Individuals_Colliders/2361.csv\n",
      "/Volumes/TwoTeras/0_Experiment_1/Eye_Tracking/Pre_processed/02_Individuals_Colliders/2693.csv\n",
      "/Volumes/TwoTeras/0_Experiment_1/Eye_Tracking/Pre_processed/02_Individuals_Colliders/3310.csv\n",
      "/Volumes/TwoTeras/0_Experiment_1/Eye_Tracking/Pre_processed/02_Individuals_Colliders/3572.csv\n",
      "/Volumes/TwoTeras/0_Experiment_1/Eye_Tracking/Pre_processed/02_Individuals_Colliders/3976.csv\n",
      "/Volumes/TwoTeras/0_Experiment_1/Eye_Tracking/Pre_processed/02_Individuals_Colliders/4176.csv\n",
      "/Volumes/TwoTeras/0_Experiment_1/Eye_Tracking/Pre_processed/02_Individuals_Colliders/4597.csv\n",
      "/Volumes/TwoTeras/0_Experiment_1/Eye_Tracking/Pre_processed/02_Individuals_Colliders/4796.csv\n",
      "/Volumes/TwoTeras/0_Experiment_1/Eye_Tracking/Pre_processed/02_Individuals_Colliders/4917.csv\n",
      "/Volumes/TwoTeras/0_Experiment_1/Eye_Tracking/Pre_processed/02_Individuals_Colliders/5531.csv\n",
      "/Volumes/TwoTeras/0_Experiment_1/Eye_Tracking/Pre_processed/02_Individuals_Colliders/5741.csv\n",
      "/Volumes/TwoTeras/0_Experiment_1/Eye_Tracking/Pre_processed/02_Individuals_Colliders/6642.csv\n",
      "/Volumes/TwoTeras/0_Experiment_1/Eye_Tracking/Pre_processed/02_Individuals_Colliders/7093.csv\n",
      "/Volumes/TwoTeras/0_Experiment_1/Eye_Tracking/Pre_processed/02_Individuals_Colliders/7264.csv\n",
      "/Volumes/TwoTeras/0_Experiment_1/Eye_Tracking/Pre_processed/02_Individuals_Colliders/7412.csv\n",
      "/Volumes/TwoTeras/0_Experiment_1/Eye_Tracking/Pre_processed/02_Individuals_Colliders/7842.csv\n",
      "/Volumes/TwoTeras/0_Experiment_1/Eye_Tracking/Pre_processed/02_Individuals_Colliders/8007.csv\n",
      "/Volumes/TwoTeras/0_Experiment_1/Eye_Tracking/Pre_processed/02_Individuals_Colliders/8469.csv\n",
      "/Volumes/TwoTeras/0_Experiment_1/Eye_Tracking/Pre_processed/02_Individuals_Colliders/8673.csv\n",
      "/Volumes/TwoTeras/0_Experiment_1/Eye_Tracking/Pre_processed/02_Individuals_Colliders/9472.csv\n",
      "/Volumes/TwoTeras/0_Experiment_1/Eye_Tracking/Pre_processed/02_Individuals_Colliders/9502.csv\n",
      "/Volumes/TwoTeras/0_Experiment_1/Eye_Tracking/Pre_processed/02_Individuals_Colliders/9586.csv\n",
      "/Volumes/TwoTeras/0_Experiment_1/Eye_Tracking/Pre_processed/02_Individuals_Colliders/9601.csv\n"
     ]
    }
   ],
   "source": [
    "path = \"/Volumes/TwoTeras/0_Experiment_1/Eye_Tracking/Pre_processed/02_Individuals_Colliders\" \n",
    "\n",
    "  \n",
    "# csv files in the path\n",
    "files = glob.glob(path + \"/*.csv\")\n",
    "  \n",
    "# defining an empty list to store \n",
    "# content\n",
    "data_frame = pd.DataFrame()\n",
    "content = []\n",
    "  \n",
    "# checking all the csv files in the \n",
    "# specified path\n",
    "for filename in files:\n",
    "    \n",
    "    # reading content of csv file\n",
    "    # content.append(filename)\n",
    "    df = pd.read_csv(filename)\n",
    "    df.drop(['Unnamed: 0', 'rayCastHitsCombinedEyes', 'timeStampGetVerboseData', 'hitObjectColliderBoundsCenter', 'timeStampDataPointStart', \n",
    "             'bodyTrackerPosition.x', 'bodyTrackerPosition.y', 'bodyTrackerPosition.z', 'hmdPosition.x', 'hmdPosition.y',\n",
    "             'hmdPosition.z', 'hmdDirectionForward.x', 'hmdDirectionForward.y',\n",
    "             'hmdDirectionForward.z', 'hmdRotation.x', 'hmdRotation.y',\n",
    "             'hmdRotation.z', 'hmdDirectionUp.x', 'hmdDirectionUp.y',\n",
    "             'hmdDirectionUp.z', 'bodyTrackerRotation.x', 'bodyTrackerRotation.y','bodyTrackerRotation.z',],axis=1, inplace=True)\n",
    "    #Since we have two colliders hits per frame, we calculate the distance between each hit and the participant\n",
    "    df['Eucledian_distance'] = np.linalg.norm(df.loc[:, [\"hitPointOnObject_x\",\"hitPointOnObject_y\",\"hitPointOnObject_z\"]].values - df.loc[:, [\"playerBodyPosition.x\",\"playerBodyPosition.y\",\"playerBodyPosition.z\"]], axis=1)\n",
    "    # Here we look for the patterns contained in the dictionary and create the more general/informative variable Collider_Categorical\n",
    "    df['Collider_Categorical'] =  df['hitObjectColliderName'].apply(lambda x: next((val for key, val in patterns.items() if re.match(key, x)), default_val))\n",
    "    df['Previous_Euclidean_value'] = df['Eucledian_distance'].shift(1)\n",
    "    #Here we declare the conditions to choose between collider hits:\n",
    "    df['Collider_stays'] = (df[\"ordinalOfHit\"] == 2) & (df['Collider_Categorical'] != 'Background') & (df['Eucledian_distance'] <  df['Previous_Euclidean_value'])\n",
    "    df.reset_index(inplace=True)\n",
    "    #Drop all the second hit colliders that do not comply with the criteria\n",
    "    indexCollider = df[(df[\"ordinalOfHit\"] == 2) & (df['Collider_stays'] == False)].index\n",
    "    depleted_data = df.drop(index=indexCollider)\n",
    "    depleted_data.reset_index(inplace=True, drop=True)\n",
    "    #Take the index of all second colliders that will stay\n",
    "    indexColliderStays = depleted_data[depleted_data['Collider_stays'] == True].index\n",
    "    #We subtract one from that list of indexes because now is the first collider that has to go (so row directly on top)\n",
    "    indexColliderDelete = indexColliderStays - 1\n",
    "    depleted_data_1 = depleted_data.drop(indexColliderDelete)\n",
    "    #Create variable that differenciates body from face hits on agents\n",
    "    depleted_data_1[\"Face_Hits\"] = \"Not_Agent\"\n",
    "    mask_Face = ((depleted_data_1[\"Collider_Categorical\"].str.contains(pat=\"_Agent\")) & (depleted_data_1[\"hitColliderType\"] == \"UnityEngine.SphereCollider\"))\n",
    "    mask_Body = ((depleted_data_1[\"Collider_Categorical\"].str.contains(pat=\"_Agent\")) & (depleted_data_1[\"hitColliderType\"] == \"UnityEngine.BoxCollider\"))\n",
    "    depleted_data_1.loc[mask_Face, 'Face_Hits'] = \"Face\"\n",
    "    depleted_data_1.loc[mask_Body, 'Face_Hits'] = \"Body\"\n",
    "    content.append(depleted_data_1)\n",
    "    print(filename)\n",
    "  \n",
    "# converting content to data frame\n",
    "data_frame = pd.concat(content)\n"
   ]
  },
  {
   "cell_type": "code",
   "execution_count": 4,
   "id": "8651389f-2037-4fee-ba0f-15ca95a0da34",
   "metadata": {},
   "outputs": [
    {
     "data": {
      "text/plain": [
       "Index(['level_0', 'index', 'SubjectID', 'Session', 'SessionSubsection',\n",
       "       'timeStampDataPointEnd', 'combinedGazeValidityBitmask',\n",
       "       'eyePositionCombinedWorld.x', 'eyePositionCombinedWorld.y',\n",
       "       'eyePositionCombinedWorld.z', 'eyeDirectionCombinedWorld.y',\n",
       "       'eyeDirectionCombinedWorld.z', 'eyeDirectionCombinedLocal.x',\n",
       "       'eyeDirectionCombinedLocal.y', 'eyeDirectionCombinedLocal.z',\n",
       "       'playerBodyPosition.x', 'playerBodyPosition.y', 'playerBodyPosition.z',\n",
       "       'hitColliderType', 'hitObjectColliderName', 'ordinalOfHit',\n",
       "       'hitPointOnObject_x', 'hitPointOnObject_y', 'hitPointOnObject_z',\n",
       "       'Eucledian_distance', 'Collider_Categorical',\n",
       "       'Previous_Euclidean_value', 'Collider_stays', 'Face_Hits'],\n",
       "      dtype='object')"
      ]
     },
     "execution_count": 4,
     "metadata": {},
     "output_type": "execute_result"
    }
   ],
   "source": [
    "data_frame.columns"
   ]
  },
  {
   "cell_type": "code",
   "execution_count": 5,
   "id": "63165a9d-0067-46b7-95c6-b92800969b50",
   "metadata": {},
   "outputs": [],
   "source": [
    "data_frame.drop(['level_0', 'index','Collider_stays', 'Previous_Euclidean_value'],axis=1, inplace=True)"
   ]
  },
  {
   "cell_type": "code",
   "execution_count": 6,
   "id": "b4cde1c7-932c-42b5-9dd0-40b2b4ab172a",
   "metadata": {},
   "outputs": [],
   "source": [
    "data_frame.to_csv(\"/Volumes/TwoTeras/0_Experiment_1/Eye_Tracking/Pre_processed/Data_Sets/Complete_data_Categorical_L.csv\")"
   ]
  },
  {
   "cell_type": "code",
   "execution_count": 7,
   "id": "fc2d0f66-35d1-436d-9da4-530206b494a7",
   "metadata": {},
   "outputs": [
    {
     "ename": "NameError",
     "evalue": "name 'Trash' is not defined",
     "output_type": "error",
     "traceback": [
      "\u001b[0;31m---------------------------------------------------------------------------\u001b[0m",
      "\u001b[0;31mNameError\u001b[0m                                 Traceback (most recent call last)",
      "\u001b[0;32m<ipython-input-7-b677259a4ef3>\u001b[0m in \u001b[0;36m<module>\u001b[0;34m\u001b[0m\n\u001b[0;32m----> 1\u001b[0;31m \u001b[0mTrash\u001b[0m\u001b[0;34m\u001b[0m\u001b[0;34m\u001b[0m\u001b[0m\n\u001b[0m",
      "\u001b[0;31mNameError\u001b[0m: name 'Trash' is not defined"
     ]
    }
   ],
   "source": [
    "Trash"
   ]
  },
  {
   "cell_type": "markdown",
   "id": "85b97509",
   "metadata": {
    "pycharm": {
     "name": "#%% md\n"
    }
   },
   "source": [
    "## Dealing with time \n",
    " \n",
    "- Create continues time \n",
    "- Delete duplicate time stamps\n",
    "- Create individual csv files per subject per session"
   ]
  },
  {
   "cell_type": "code",
   "execution_count": null,
   "id": "4fc036f8",
   "metadata": {
    "collapsed": false,
    "jupyter": {
     "outputs_hidden": false
    },
    "pycharm": {
     "name": "#%%\n"
    }
   },
   "outputs": [],
   "source": [
    "data_frame =  pd.read_csv(\"/Volumes/TwoTeras/0_Experiment_1/Eye_Tracking/Pre_processed/Data_Sets/Complete_data_Categorical_L.csv\")"
   ]
  },
  {
   "cell_type": "code",
   "execution_count": 8,
   "id": "a74f4792",
   "metadata": {
    "collapsed": false,
    "jupyter": {
     "outputs_hidden": false
    },
    "pycharm": {
     "name": "#%%\n"
    }
   },
   "outputs": [],
   "source": [
    "# Group by Subject and Session because the continuous time only makes sence on a session scale\n",
    "all_participants_sessions = pd.DataFrame(data_frame.groupby([\"SubjectID\", \"Session\"])[\"hitColliderType\"].count())\n",
    "all_participants_sessions.reset_index(inplace=True)\n",
    "# Create tuples to later subset data to subject-session scale. We create this because subjects can have a different number of sessions, in this way we only subset for the existing pairs S-S.\n",
    "L_all_participants_sessions = list(zip(all_participants_sessions.SubjectID, all_participants_sessions.Session))"
   ]
  },
  {
   "cell_type": "code",
   "execution_count": 9,
   "id": "aabf6faa",
   "metadata": {
    "collapsed": false,
    "jupyter": {
     "outputs_hidden": false
    },
    "pycharm": {
     "name": "#%%\n"
    }
   },
   "outputs": [
    {
     "data": {
      "text/plain": [
       "139"
      ]
     },
     "execution_count": 9,
     "metadata": {},
     "output_type": "execute_result"
    }
   ],
   "source": [
    "len(L_all_participants_sessions)"
   ]
  },
  {
   "cell_type": "code",
   "execution_count": 10,
   "id": "51461cba",
   "metadata": {
    "collapsed": false,
    "jupyter": {
     "outputs_hidden": false
    },
    "pycharm": {
     "name": "#%%\n"
    }
   },
   "outputs": [
    {
     "name": "stdout",
     "output_type": "stream",
     "text": [
      "(365, 1)\n",
      "(365, 2)\n",
      "(365, 3)\n",
      "(365, 4)\n",
      "(365, 5)\n",
      "(479, 1)\n",
      "(479, 2)\n",
      "(479, 3)\n",
      "(479, 4)\n",
      "(479, 5)\n",
      "(1754, 1)\n",
      "(1754, 2)\n",
      "(1754, 3)\n",
      "(1754, 4)\n",
      "(1754, 5)\n",
      "(2258, 1)\n",
      "(2258, 2)\n",
      "(2258, 3)\n",
      "(2258, 4)\n",
      "(2258, 5)\n",
      "(2361, 1)\n",
      "(2361, 2)\n",
      "(2361, 3)\n",
      "(2361, 4)\n",
      "(2361, 5)\n",
      "(2693, 1)\n",
      "(2693, 2)\n",
      "(2693, 3)\n",
      "(2693, 4)\n",
      "(2693, 5)\n",
      "(3246, 1)\n",
      "(3246, 2)\n",
      "(3246, 3)\n",
      "(3246, 4)\n",
      "(3246, 5)\n",
      "(3310, 1)\n",
      "(3310, 2)\n",
      "(3310, 3)\n",
      "(3310, 4)\n",
      "(3310, 5)\n",
      "(3572, 1)\n",
      "(3572, 2)\n",
      "(3572, 3)\n",
      "(3572, 4)\n",
      "(3976, 1)\n",
      "(3976, 2)\n",
      "(3976, 3)\n",
      "(3976, 4)\n",
      "(3976, 5)\n",
      "(4176, 1)\n",
      "(4176, 2)\n",
      "(4176, 3)\n",
      "(4176, 4)\n",
      "(4176, 5)\n",
      "(4597, 1)\n",
      "(4597, 2)\n",
      "(4597, 3)\n",
      "(4597, 4)\n",
      "(4597, 5)\n",
      "(4796, 1)\n",
      "(4796, 2)\n",
      "(4796, 3)\n",
      "(4796, 4)\n",
      "(4796, 5)\n",
      "(4917, 1)\n",
      "(4917, 2)\n",
      "(4917, 3)\n",
      "(4917, 4)\n",
      "(4917, 5)\n",
      "(5531, 1)\n",
      "(5531, 2)\n",
      "(5531, 3)\n",
      "(5531, 4)\n",
      "(5531, 5)\n",
      "(5741, 1)\n",
      "(5741, 2)\n",
      "(5741, 3)\n",
      "(5741, 4)\n",
      "(5741, 5)\n",
      "(6642, 1)\n",
      "(6642, 2)\n",
      "(6642, 3)\n",
      "(6642, 4)\n",
      "(6642, 5)\n",
      "(7093, 1)\n",
      "(7093, 2)\n",
      "(7093, 3)\n",
      "(7093, 4)\n",
      "(7093, 5)\n",
      "(7264, 1)\n",
      "(7264, 2)\n",
      "(7264, 3)\n",
      "(7264, 4)\n",
      "(7264, 5)\n",
      "(7412, 1)\n",
      "(7412, 2)\n",
      "(7412, 3)\n",
      "(7412, 4)\n",
      "(7412, 5)\n",
      "(7842, 1)\n",
      "(7842, 2)\n",
      "(7842, 3)\n",
      "(7842, 4)\n",
      "(7842, 5)\n",
      "(8007, 1)\n",
      "(8007, 2)\n",
      "(8007, 3)\n",
      "(8007, 4)\n",
      "(8007, 5)\n",
      "(8469, 1)\n",
      "(8469, 2)\n",
      "(8469, 3)\n",
      "(8469, 4)\n",
      "(8469, 5)\n",
      "(8673, 1)\n",
      "(8673, 2)\n",
      "(8673, 3)\n",
      "(8673, 4)\n",
      "(8673, 5)\n",
      "(9472, 1)\n",
      "(9472, 2)\n",
      "(9472, 3)\n",
      "(9472, 4)\n",
      "(9472, 5)\n",
      "(9502, 1)\n",
      "(9502, 2)\n",
      "(9502, 3)\n",
      "(9502, 4)\n",
      "(9502, 5)\n",
      "(9586, 1)\n",
      "(9586, 2)\n",
      "(9586, 3)\n",
      "(9586, 4)\n",
      "(9586, 5)\n",
      "(9601, 1)\n",
      "(9601, 2)\n",
      "(9601, 3)\n",
      "(9601, 4)\n",
      "(9601, 5)\n"
     ]
    }
   ],
   "source": [
    "temporalss = []\n",
    "for tuples in L_all_participants_sessions:\n",
    "    subject, session = tuples\n",
    "    temporal = data_frame[(data_frame['SubjectID'] == subject) & (data_frame['Session'] == session)]\n",
    "    temporal_c = temporal.sort_values(by=['timeStampDataPointEnd'])\n",
    "    temporal_cr = temporal_c.reset_index(drop=True)\n",
    "    temporal_cr[\"Time_Shift\"] = temporal_cr.timeStampDataPointEnd.diff()\n",
    "    temporal_c_ND =  temporal_cr[(temporal_cr[\"Time_Shift\"] > 0.001) & (temporal_cr[\"Time_Shift\"] < 1)].copy()\n",
    "    number = temporal_c_ND.columns.get_loc('timeStampDataPointEnd')\n",
    "    first_time= temporal_c_ND.iloc[0, number]\n",
    "    temporal_c_ND[\"Continuous_Time\"] = np.round(((temporal_c_ND.iloc[:, number] - first_time)/60), 3)\n",
    "    # Delete duplicate time stamps\n",
    "    temporal_c_ND.to_csv(f\"/Volumes/TwoTeras/0_Experiment_1/Eye_Tracking/Pre_processed/03_Individuals_IndividualSessions/{subject}_{session}.csv\", index=True)\n",
    "    temporalss.append(temporal_c_ND)\n",
    "    print(tuples)"
   ]
  },
  {
   "cell_type": "markdown",
   "id": "d5b750aa-3ae3-480b-a4de-18cd29c6aa1b",
   "metadata": {},
   "source": [
    "## Change files that were damaged during recordings"
   ]
  },
  {
   "cell_type": "code",
   "execution_count": 11,
   "id": "4197dad1-baab-40d6-9e76-412fcdf2b0bc",
   "metadata": {},
   "outputs": [],
   "source": [
    "a2361_1 = pd.read_csv(\"/Volumes/TwoTeras/0_Experiment_1/Eye_Tracking/Pre_processed/03_Individuals_IndividualSessions/2361_1.csv\")\n",
    "a2361_1_1 = a2361_1[a2361_1.SessionSubsection == 1].copy()\n",
    "a2361_1_1.to_csv(\"/Volumes/TwoTeras/0_Experiment_1/Eye_Tracking/Pre_processed/03_Individuals_IndividualSessions/2361_1.csv\")\n",
    "a2361_2 = pd.read_csv(\"/Volumes/TwoTeras/0_Experiment_1/Eye_Tracking/Pre_processed/03_Individuals_IndividualSessions/2361_2.csv\")\n",
    "a2361_2 = a2361_2[a2361_2.SessionSubsection != 1].copy()\n",
    "a2361_2.to_csv(\"/Volumes/TwoTeras/0_Experiment_1/Eye_Tracking/Pre_processed/03_Individuals_IndividualSessions/2361_2.csv\")"
   ]
  },
  {
   "cell_type": "code",
   "execution_count": 12,
   "id": "c2d7e0ef-0630-42b1-98e9-457122d61b76",
   "metadata": {},
   "outputs": [],
   "source": [
    "a3246_4 = pd.read_csv(\"/Volumes/TwoTeras/0_Experiment_1/Eye_Tracking/Pre_processed/03_Individuals_IndividualSessions/3246_4.csv\")\n",
    "a3246_4 = a3246_4[a3246_4.SessionSubsection != 1].copy()\n",
    "a3246_4.to_csv(\"/Volumes/TwoTeras/0_Experiment_1/Eye_Tracking/Pre_processed/03_Individuals_IndividualSessions/3246_4.csv\")\n",
    "a3246_5 = pd.read_csv(\"/Volumes/TwoTeras/0_Experiment_1/Eye_Tracking/Pre_processed/03_Individuals_IndividualSessions/3246_5.csv\")\n",
    "a3246_5 = a3246_5[a3246_5.SessionSubsection != 2].copy()\n",
    "a3246_5.to_csv(\"/Volumes/TwoTeras/0_Experiment_1/Eye_Tracking/Pre_processed/03_Individuals_IndividualSessions/3246_5.csv\")"
   ]
  },
  {
   "cell_type": "code",
   "execution_count": 13,
   "id": "6ca3a2c7-56b3-4e23-ba3a-8b1f100fd374",
   "metadata": {},
   "outputs": [],
   "source": [
    "a3310_4 = pd.read_csv(\"/Volumes/TwoTeras/0_Experiment_1/Eye_Tracking/Pre_processed/03_Individuals_IndividualSessions/3310_4.csv\")\n",
    "a3310_4 = a3310_4[(a3310_4.SessionSubsection != 2)&(a3310_4.SessionSubsection != 3)].copy()\n",
    "a3310_4.to_csv(\"/Volumes/TwoTeras/0_Experiment_1/Eye_Tracking/Pre_processed/03_Individuals_IndividualSessions/3310_4.csv\")"
   ]
  },
  {
   "cell_type": "code",
   "execution_count": 14,
   "id": "91b59313-d153-4e18-a473-c1b8c75d2cb9",
   "metadata": {},
   "outputs": [],
   "source": [
    "a3976_1 = pd.read_csv(\"/Volumes/TwoTeras/0_Experiment_1/Eye_Tracking/Pre_processed/03_Individuals_IndividualSessions/3976_1.csv\")\n",
    "a3976_1 = a3976_1[(a3976_1.SessionSubsection != 1)&(a3976_1.SessionSubsection != 4)].copy()\n",
    "a3976_1.to_csv(\"/Volumes/TwoTeras/0_Experiment_1/Eye_Tracking/Pre_processed/03_Individuals_IndividualSessions/3976_1.csv\")\n",
    "a3976_3 = pd.read_csv(\"/Volumes/TwoTeras/0_Experiment_1/Eye_Tracking/Pre_processed/03_Individuals_IndividualSessions/3976_3.csv\")\n",
    "a3976_3 = a3976_3[(a3976_3.SessionSubsection != 1)&(a3976_3.SessionSubsection != 4)].copy()\n",
    "a3976_3.to_csv(\"/Volumes/TwoTeras/0_Experiment_1/Eye_Tracking/Pre_processed/03_Individuals_IndividualSessions/3976_3.csv\")"
   ]
  },
  {
   "cell_type": "code",
   "execution_count": 15,
   "id": "a61072c5-e65d-4530-a0d1-b9a2c925d0fb",
   "metadata": {},
   "outputs": [],
   "source": [
    "a5741_4 = pd.read_csv(\"/Volumes/TwoTeras/0_Experiment_1/Eye_Tracking/Pre_processed/03_Individuals_IndividualSessions/5741_4.csv\")\n",
    "a5741_4 = a5741_4[(a5741_4.SessionSubsection != 1)&(a5741_4.SessionSubsection != 2)].copy()\n",
    "a5741_4.to_csv(\"/Volumes/TwoTeras/0_Experiment_1/Eye_Tracking/Pre_processed/03_Individuals_IndividualSessions/5741_4.csv\")\n",
    "a5741_5 = pd.read_csv(\"/Volumes/TwoTeras/0_Experiment_1/Eye_Tracking/Pre_processed/03_Individuals_IndividualSessions/5741_5.csv\")\n",
    "a5741_5 = a5741_5[(a5741_5.SessionSubsection != 4)&(a5741_5.SessionSubsection != 4)].copy()\n",
    "a5741_5.to_csv(\"/Volumes/TwoTeras/0_Experiment_1/Eye_Tracking/Pre_processed/03_Individuals_IndividualSessions/5741_5.csv\")"
   ]
  },
  {
   "cell_type": "code",
   "execution_count": 16,
   "id": "b7137dd8-07f2-4520-b634-7e3a3559da0a",
   "metadata": {},
   "outputs": [],
   "source": [
    "a5531_1 = pd.read_csv(\"/Volumes/TwoTeras/0_Experiment_1/Eye_Tracking/Pre_processed/03_Individuals_IndividualSessions/5531_1.csv\")\n",
    "a5531_1 = a5531_1[(a5531_1.SessionSubsection != 3)].copy()\n",
    "a5531_1.to_csv(\"/Volumes/TwoTeras/0_Experiment_1/Eye_Tracking/Pre_processed/03_Individuals_IndividualSessions/5531_1.csv\")\n",
    "os.remove(\"/Volumes/TwoTeras/0_Experiment_1/Eye_Tracking/Pre_processed/03_Individuals_IndividualSessions/5531_2.csv\")"
   ]
  },
  {
   "cell_type": "code",
   "execution_count": 17,
   "id": "dfebd852-c14b-422f-bc7c-d7a9b87095a9",
   "metadata": {},
   "outputs": [],
   "source": [
    "a7264_1 = pd.read_csv(\"/Volumes/TwoTeras/0_Experiment_1/Eye_Tracking/Pre_processed/03_Individuals_IndividualSessions/7264_1.csv\")\n",
    "a7264_1 = a7264_1[(a7264_1.SessionSubsection != 3)&(a7264_1.SessionSubsection != 4)].copy()\n",
    "a7264_1.to_csv(\"/Volumes/TwoTeras/0_Experiment_1/Eye_Tracking/Pre_processed/03_Individuals_IndividualSessions/7264_1.csv\")"
   ]
  },
  {
   "cell_type": "code",
   "execution_count": 18,
   "id": "b0bda1f2-1e07-40f1-b23a-59842e242508",
   "metadata": {},
   "outputs": [],
   "source": [
    "a8469_1 = pd.read_csv(\"/Volumes/TwoTeras/0_Experiment_1/Eye_Tracking/Pre_processed/03_Individuals_IndividualSessions/8469_1.csv\")\n",
    "a8469_1 = a8469_1[(a8469_1.SessionSubsection != 2)&(a8469_1.SessionSubsection != 3)].copy()\n",
    "a8469_1.to_csv(\"/Volumes/TwoTeras/0_Experiment_1/Eye_Tracking/Pre_processed/03_Individuals_IndividualSessions/8469_1.csv\")"
   ]
  },
  {
   "cell_type": "code",
   "execution_count": 19,
   "id": "9ec1b940-1e20-4db7-8e0f-c4bd3b807c30",
   "metadata": {},
   "outputs": [],
   "source": [
    "a9601_5 = pd.read_csv(\"/Volumes/TwoTeras/0_Experiment_1/Eye_Tracking/Pre_processed/03_Individuals_IndividualSessions/9601_5.csv\")\n",
    "a9601_5 = a9601_5[(a9601_5.SessionSubsection != 4)].copy()\n",
    "a8469_1.to_csv(\"/Volumes/TwoTeras/0_Experiment_1/Eye_Tracking/Pre_processed/03_Individuals_IndividualSessions/8469_1.csv\")"
   ]
  },
  {
   "cell_type": "code",
   "execution_count": null,
   "id": "c357a597-3add-4449-a0ee-94085c4f6d10",
   "metadata": {},
   "outputs": [],
   "source": []
  }
 ],
 "metadata": {
  "kernelspec": {
   "display_name": "Python 3 (ipykernel)",
   "language": "python",
   "name": "python3"
  },
  "language_info": {
   "codemirror_mode": {
    "name": "ipython",
    "version": 3
   },
   "file_extension": ".py",
   "mimetype": "text/x-python",
   "name": "python",
   "nbconvert_exporter": "python",
   "pygments_lexer": "ipython3",
   "version": "3.11.5"
  }
 },
 "nbformat": 4,
 "nbformat_minor": 5
}
