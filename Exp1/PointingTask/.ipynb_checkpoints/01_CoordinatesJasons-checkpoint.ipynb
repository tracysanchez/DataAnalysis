{
 "cells": [
  {
   "cell_type": "code",
   "execution_count": 4,
   "id": "21927e11",
   "metadata": {
    "collapsed": false,
    "jupyter": {
     "outputs_hidden": false
    },
    "pycharm": {
     "name": "#%%\n"
    }
   },
   "outputs": [],
   "source": [
    "# Import packages\n",
    "import os\n",
    "import glob\n",
    "import pandas as pd\n",
    "import warnings\n",
    "warnings.simplefilter(action='ignore', category=FutureWarning)"
   ]
  },
  {
   "cell_type": "code",
   "execution_count": 5,
   "id": "15f4abb6",
   "metadata": {
    "collapsed": false,
    "jupyter": {
     "outputs_hidden": false
    },
    "pycharm": {
     "name": "#%%\n"
    }
   },
   "outputs": [
    {
     "data": {
      "text/plain": "'/Users/tracysanchezpacheco/Documents/Resources'"
     },
     "execution_count": 5,
     "metadata": {},
     "output_type": "execute_result"
    }
   ],
   "source": [
    "# Added cell to set Working Directory to your location\n",
    "os.chdir('/Users/tracysanchezpacheco/Documents/Resources/')\n",
    "os.getcwd()"
   ]
  },
  {
   "cell_type": "code",
   "execution_count": 6,
   "id": "50b83dd3",
   "metadata": {
    "collapsed": false,
    "jupyter": {
     "outputs_hidden": false
    },
    "pycharm": {
     "name": "#%%\n"
    }
   },
   "outputs": [],
   "source": [
    "# specify data folder\n",
    "# with wildcard for every file with a certain name\n",
    "path = \"AngleReco/*.json\""
   ]
  },
  {
   "cell_type": "code",
   "execution_count": 7,
   "id": "dc2861cc",
   "metadata": {
    "collapsed": false,
    "jupyter": {
     "outputs_hidden": false
    },
    "pycharm": {
     "name": "#%%\n"
    }
   },
   "outputs": [
    {
     "data": {
      "text/plain": "   PointingTargetId  PointingTargetIndex PointingTargetName  \\\n0                 4                    6        04_CmA_6_47   \n1                 2                    2        02_CmA_2_41   \n2                 3                    5       03_CmANo_5_2   \n3                 2                    3      02_CmANo_3_41   \n4                 3                    4         03_CmA_4_2   \n5                 1                    0        01_CmA_0_14   \n6                 4                    7      04_CmANo_7_47   \n7                 1                    1      01_CmANo_1_14   \n\n  PointingTargetCondition  PointingTargetBuildingId  Context  Agent  \n0                     CmA                        47     True   True  \n1                     CmA                        41     True   True  \n2                   CmANo                         2     True  False  \n3                   CmANo                        41     True  False  \n4                     CmA                         2     True   True  \n5                     CmA                        14     True   True  \n6                   CmANo                        47     True  False  \n7                   CmANo                        14     True  False  ",
      "text/html": "<div>\n<style scoped>\n    .dataframe tbody tr th:only-of-type {\n        vertical-align: middle;\n    }\n\n    .dataframe tbody tr th {\n        vertical-align: top;\n    }\n\n    .dataframe thead th {\n        text-align: right;\n    }\n</style>\n<table border=\"1\" class=\"dataframe\">\n  <thead>\n    <tr style=\"text-align: right;\">\n      <th></th>\n      <th>PointingTargetId</th>\n      <th>PointingTargetIndex</th>\n      <th>PointingTargetName</th>\n      <th>PointingTargetCondition</th>\n      <th>PointingTargetBuildingId</th>\n      <th>Context</th>\n      <th>Agent</th>\n    </tr>\n  </thead>\n  <tbody>\n    <tr>\n      <th>0</th>\n      <td>4</td>\n      <td>6</td>\n      <td>04_CmA_6_47</td>\n      <td>CmA</td>\n      <td>47</td>\n      <td>True</td>\n      <td>True</td>\n    </tr>\n    <tr>\n      <th>1</th>\n      <td>2</td>\n      <td>2</td>\n      <td>02_CmA_2_41</td>\n      <td>CmA</td>\n      <td>41</td>\n      <td>True</td>\n      <td>True</td>\n    </tr>\n    <tr>\n      <th>2</th>\n      <td>3</td>\n      <td>5</td>\n      <td>03_CmANo_5_2</td>\n      <td>CmANo</td>\n      <td>2</td>\n      <td>True</td>\n      <td>False</td>\n    </tr>\n    <tr>\n      <th>3</th>\n      <td>2</td>\n      <td>3</td>\n      <td>02_CmANo_3_41</td>\n      <td>CmANo</td>\n      <td>41</td>\n      <td>True</td>\n      <td>False</td>\n    </tr>\n    <tr>\n      <th>4</th>\n      <td>3</td>\n      <td>4</td>\n      <td>03_CmA_4_2</td>\n      <td>CmA</td>\n      <td>2</td>\n      <td>True</td>\n      <td>True</td>\n    </tr>\n    <tr>\n      <th>5</th>\n      <td>1</td>\n      <td>0</td>\n      <td>01_CmA_0_14</td>\n      <td>CmA</td>\n      <td>14</td>\n      <td>True</td>\n      <td>True</td>\n    </tr>\n    <tr>\n      <th>6</th>\n      <td>4</td>\n      <td>7</td>\n      <td>04_CmANo_7_47</td>\n      <td>CmANo</td>\n      <td>47</td>\n      <td>True</td>\n      <td>False</td>\n    </tr>\n    <tr>\n      <th>7</th>\n      <td>1</td>\n      <td>1</td>\n      <td>01_CmANo_1_14</td>\n      <td>CmANo</td>\n      <td>14</td>\n      <td>True</td>\n      <td>False</td>\n    </tr>\n  </tbody>\n</table>\n</div>"
     },
     "execution_count": 7,
     "metadata": {},
     "output_type": "execute_result"
    }
   ],
   "source": [
    "# create empty dataframe\n",
    "CoordinateIndexing = pd.DataFrame()\n",
    "\n",
    "# read every file name in folder, in this case folder with one file with coordinates and codes for each building\n",
    "for filename in glob.glob(path):\n",
    "    with open(filename, 'r') as file:\n",
    "        # make json files parsable\n",
    "        data = \"[\" + file.read()\n",
    "        data = data[:len(data)-2] + \"]\"\n",
    "\n",
    "        # read data per file\n",
    "        subjectdf = pd.read_json(data)\n",
    "        CoordinateIndexing = CoordinateIndexing.append(subjectdf, ignore_index=True)\n",
    "CoordinateIndexing.head(8)"
   ]
  },
  {
   "cell_type": "code",
   "execution_count": 8,
   "outputs": [
    {
     "data": {
      "text/plain": "       PointingTargetId  PointingTargetIndex  PointingTargetBuildingId\ncount        112.000000           112.000000                112.000000\nmean          28.500000            55.500000                 28.839286\nstd           16.235874            32.475632                 16.751256\nmin            1.000000             0.000000                  1.000000\n25%           14.750000            27.750000                 14.750000\n50%           28.500000            55.500000                 28.500000\n75%           42.250000            83.250000                 42.250000\nmax           56.000000           111.000000                 59.000000",
      "text/html": "<div>\n<style scoped>\n    .dataframe tbody tr th:only-of-type {\n        vertical-align: middle;\n    }\n\n    .dataframe tbody tr th {\n        vertical-align: top;\n    }\n\n    .dataframe thead th {\n        text-align: right;\n    }\n</style>\n<table border=\"1\" class=\"dataframe\">\n  <thead>\n    <tr style=\"text-align: right;\">\n      <th></th>\n      <th>PointingTargetId</th>\n      <th>PointingTargetIndex</th>\n      <th>PointingTargetBuildingId</th>\n    </tr>\n  </thead>\n  <tbody>\n    <tr>\n      <th>count</th>\n      <td>112.000000</td>\n      <td>112.000000</td>\n      <td>112.000000</td>\n    </tr>\n    <tr>\n      <th>mean</th>\n      <td>28.500000</td>\n      <td>55.500000</td>\n      <td>28.839286</td>\n    </tr>\n    <tr>\n      <th>std</th>\n      <td>16.235874</td>\n      <td>32.475632</td>\n      <td>16.751256</td>\n    </tr>\n    <tr>\n      <th>min</th>\n      <td>1.000000</td>\n      <td>0.000000</td>\n      <td>1.000000</td>\n    </tr>\n    <tr>\n      <th>25%</th>\n      <td>14.750000</td>\n      <td>27.750000</td>\n      <td>14.750000</td>\n    </tr>\n    <tr>\n      <th>50%</th>\n      <td>28.500000</td>\n      <td>55.500000</td>\n      <td>28.500000</td>\n    </tr>\n    <tr>\n      <th>75%</th>\n      <td>42.250000</td>\n      <td>83.250000</td>\n      <td>42.250000</td>\n    </tr>\n    <tr>\n      <th>max</th>\n      <td>56.000000</td>\n      <td>111.000000</td>\n      <td>59.000000</td>\n    </tr>\n  </tbody>\n</table>\n</div>"
     },
     "execution_count": 8,
     "metadata": {},
     "output_type": "execute_result"
    }
   ],
   "source": [
    "CoordinateIndexing.describe()"
   ],
   "metadata": {
    "collapsed": false,
    "pycharm": {
     "name": "#%%\n"
    }
   }
  },
  {
   "cell_type": "code",
   "execution_count": 9,
   "outputs": [
    {
     "data": {
      "text/plain": "                                      PointingTargetBuildingId\nPointingTargetId PointingTargetIndex                          \n1                0                                           1\n                 1                                           1\n2                2                                           1\n                 3                                           1\n3                4                                           1\n...                                                        ...\n54               107                                         1\n55               108                                         1\n                 109                                         1\n56               110                                         1\n                 111                                         1\n\n[112 rows x 1 columns]",
      "text/html": "<div>\n<style scoped>\n    .dataframe tbody tr th:only-of-type {\n        vertical-align: middle;\n    }\n\n    .dataframe tbody tr th {\n        vertical-align: top;\n    }\n\n    .dataframe thead th {\n        text-align: right;\n    }\n</style>\n<table border=\"1\" class=\"dataframe\">\n  <thead>\n    <tr style=\"text-align: right;\">\n      <th></th>\n      <th></th>\n      <th>PointingTargetBuildingId</th>\n    </tr>\n    <tr>\n      <th>PointingTargetId</th>\n      <th>PointingTargetIndex</th>\n      <th></th>\n    </tr>\n  </thead>\n  <tbody>\n    <tr>\n      <th rowspan=\"2\" valign=\"top\">1</th>\n      <th>0</th>\n      <td>1</td>\n    </tr>\n    <tr>\n      <th>1</th>\n      <td>1</td>\n    </tr>\n    <tr>\n      <th rowspan=\"2\" valign=\"top\">2</th>\n      <th>2</th>\n      <td>1</td>\n    </tr>\n    <tr>\n      <th>3</th>\n      <td>1</td>\n    </tr>\n    <tr>\n      <th>3</th>\n      <th>4</th>\n      <td>1</td>\n    </tr>\n    <tr>\n      <th>...</th>\n      <th>...</th>\n      <td>...</td>\n    </tr>\n    <tr>\n      <th>54</th>\n      <th>107</th>\n      <td>1</td>\n    </tr>\n    <tr>\n      <th rowspan=\"2\" valign=\"top\">55</th>\n      <th>108</th>\n      <td>1</td>\n    </tr>\n    <tr>\n      <th>109</th>\n      <td>1</td>\n    </tr>\n    <tr>\n      <th rowspan=\"2\" valign=\"top\">56</th>\n      <th>110</th>\n      <td>1</td>\n    </tr>\n    <tr>\n      <th>111</th>\n      <td>1</td>\n    </tr>\n  </tbody>\n</table>\n<p>112 rows × 1 columns</p>\n</div>"
     },
     "execution_count": 9,
     "metadata": {},
     "output_type": "execute_result"
    }
   ],
   "source": [
    "#Getting the relationship between PointingTargetId and PointingTargetIndex\n",
    "CoordinateIndexing[['PointingTargetId','PointingTargetIndex', 'PointingTargetBuildingId']].groupby(['PointingTargetId','PointingTargetIndex']).count()"
   ],
   "metadata": {
    "collapsed": false,
    "pycharm": {
     "name": "#%%\n"
    }
   }
  },
  {
   "cell_type": "code",
   "execution_count": 10,
   "id": "75625194-4214-42ff-923c-b2a077cec3f2",
   "metadata": {},
   "outputs": [
    {
     "data": {
      "text/plain": "'/Users/tracysanchezpacheco/Documents'"
     },
     "execution_count": 10,
     "metadata": {},
     "output_type": "execute_result"
    }
   ],
   "source": [
    "# Added cell to set Working Directory to your location\n",
    "os.chdir('/Users/tracysanchezpacheco/Documents/')\n",
    "os.getcwd()"
   ]
  },
  {
   "cell_type": "code",
   "execution_count": 11,
   "id": "3e4fc219",
   "metadata": {
    "collapsed": false,
    "jupyter": {
     "outputs_hidden": false
    },
    "pycharm": {
     "name": "#%%\n"
    }
   },
   "outputs": [],
   "source": [
    "# specify data folder\n",
    "# with wildcard for every file with a certain name\n",
    "path = \"Resources/*.json\""
   ]
  },
  {
   "cell_type": "code",
   "execution_count": 12,
   "id": "87a66b08-e2bd-4d75-a87d-91882fb60368",
   "metadata": {},
   "outputs": [
    {
     "data": {
      "text/plain": "   BuildingID            BuildingName  \\\n0          16  Church-TaskBuilding_16   \n1          31         TaskBuilding_31   \n2          35         TaskBuilding_35   \n3           7          TaskBuilding_7   \n4          36         TaskBuilding_36   \n5          52         TaskBuilding_52   \n6           1          TaskBuilding_1   \n7          55         TaskBuilding_55   \n\n                                 BuildingCenterWorld  \\\n0  {'x': 277.2083740234375, 'y': 19.8706207275390...   \n1  {'x': 6.088593006134033, 'y': 5.04663658142089...   \n2  {'x': -72.57828521728516, 'y': 6.8504829406738...   \n3  {'x': -192.46141052246094, 'y': 6.050417423248...   \n4  {'x': -51.411949157714844, 'y': 4.593465805053...   \n5  {'x': -247.1856689453125, 'y': 4.5703678131103...   \n6  {'x': 255.06228637695312, 'y': 4.1294870376586...   \n7  {'x': -334.680419921875, 'y': 8.00319671630859...   \n\n                              BuildingPositionGlobal  \\\n0  {'x': 280.644775390625, 'y': -2.90533447265625...   \n1  {'x': 5.910362243652344, 'y': -0.8442910909652...   \n2  {'x': -72.79883575439453, 'y': 0.7274017333984...   \n3  {'x': -192.46141052246094, 'y': -0.94664001464...   \n4  {'x': -52.68944549560547, 'y': -3.524444580078...   \n5  {'x': -247.203369140625, 'y': 2.41047668457031...   \n6  {'x': 255.06228637695312, 'y': -1.663043975830...   \n7  {'x': -334.5362854003906, 'y': 2.2612752914428...   \n\n                               BuildingPositionLocal  \\\n0  {'x': 280.644775390625, 'y': -2.9053475856781,...   \n1  {'x': 5.910362243652344, 'y': 0.36402130126953...   \n2  {'x': -72.79883575439453, 'y': -53.81172561645...   \n3  {'x': -192.46141052246094, 'y': 173.5100555419...   \n4  {'x': -52.68944549560547, 'y': 144.38082885742...   \n5  {'x': -247.203369140625, 'y': -54.642482757568...   \n6  {'x': 255.06228637695312, 'y': 18.984483718872...   \n7  {'x': -334.5362854003906, 'y': 4.9532914161682...   \n\n                              BuildingRotationGlobal  \\\n0  {'x': 0.6761559247970581, 'y': -0.206913754343...   \n1  {'x': 2.9802322387695312e-08, 'y': 0.964094460...   \n2  {'x': 7.450580596923828e-09, 'y': 0.9792929887...   \n3  {'x': -5.960464477539064e-08, 'y': 0.237362623...   \n4  {'x': 0.0, 'y': 0.9373086690902711, 'z': -1.49...   \n5  {'x': 0.0, 'y': 0.9983477592468261, 'z': -2.08...   \n6  {'x': 1.490116119384765e-08, 'y': 0.9545681476...   \n7  {'x': 2.9802322387695312e-08, 'y': 0.933660328...   \n\n                               BuildingRotationLocal  \\\n0  {'x': 0.6761559247970581, 'y': -0.206913769245...   \n1  {'x': 0.18777889013290402, 'y': 0.681717813014...   \n2  {'x': 0.143152445554733, 'y': 0.69246482849121...   \n3  {'x': 0.6868984699249261, 'y': 0.1678407192230...   \n4  {'x': -0.24642699956893901, 'y': 0.66277736425...   \n5  {'x': 0.040630914270877005, 'y': 0.70593857765...   \n6  {'x': 0.210712701082229, 'y': 0.67498171329498...   \n7  {'x': -0.253257185220718, 'y': 0.6601976156234...   \n\n                       BuildingRotationVector3Global  \\\n0        {'x': 90.0, 'y': 325.97021484375, 'z': 0.0}   \n1  {'x': 2.0661756934e-05, 'y': 149.1996154785156...   \n2  {'x': 2.3583492293000003e-05, 'y': 156.6396942...   \n3  {'x': -6.027028575e-06, 'y': 27.46186447143554...   \n4  {'x': 1.6004989447e-05, 'y': 220.7912292480468...   \n5  {'x': 2.3866165065000003e-05, 'y': 173.4118499...   \n6  {'x': 2.3328420866e-05, 'y': 145.3258361816406...   \n7  {'x': 1.7908081645e-05, 'y': 221.9744415283203...   \n\n                        BuildingRotationVector3Local  \\\n0        {'x': 90.0, 'y': 325.97021484375, 'z': 0.0}   \n1  {'x': 300.8004150390625, 'y': 90.0000228881836...   \n2  {'x': 293.36029052734375, 'y': 90.000038146972...   \n3    {'x': 62.538143157958984, 'y': 90.0, 'z': 90.0}   \n4   {'x': 310.7912292480469, 'y': 270.0, 'z': 270.0}   \n5  {'x': 276.588134765625, 'y': 90.00012969970703...   \n6  {'x': 304.6741638183594, 'y': 90.0000305175781...   \n7  {'x': 311.97442626953125, 'y': 270.0, 'z': 270.0}   \n\n                                  BuildingLossyScale  \\\n0  {'x': 0.9999998807907101, 'y': 1.0000002384185...   \n1  {'x': 0.9999997615814201, 'y': 0.9999999403953...   \n2       {'x': 1.000000119209289, 'y': 1.0, 'z': 1.0}   \n3  {'x': 0.9999999403953551, 'y': 0.9999999403953...   \n4  {'x': 1.000000119209289, 'y': 0.99999994039535...   \n5                     {'x': 1.0, 'y': 1.0, 'z': 1.0}   \n6                     {'x': 1.0, 'y': 1.0, 'z': 1.0}   \n7  {'x': 1.0, 'y': 0.9999999403953551, 'z': 1.000...   \n\n               BuildingLocalScale  \\\n0  {'x': 1.0, 'y': 1.0, 'z': 1.0}   \n1  {'x': 1.0, 'y': 1.0, 'z': 1.0}   \n2  {'x': 1.0, 'y': 1.0, 'z': 1.0}   \n3  {'x': 1.0, 'y': 1.0, 'z': 1.0}   \n4  {'x': 1.0, 'y': 1.0, 'z': 1.0}   \n5  {'x': 1.0, 'y': 1.0, 'z': 1.0}   \n6  {'x': 1.0, 'y': 1.0, 'z': 1.0}   \n7  {'x': 1.0, 'y': 1.0, 'z': 1.0}   \n\n                            BuildingForwardDirection  \\\n0  {'x': -3.576278686523437e-07, 'y': -1.0, 'z': ...   \n1  {'x': 0.512048721313476, 'y': -3.6061561559108...   \n2  {'x': 0.396512001752853, 'y': -4.1160959085573...   \n3  {'x': 0.46115812659263605, 'y': 1.051914892968...   \n4  {'x': -0.6533048152923581, 'y': -2.79339758435...   \n5  {'x': 0.11473169177770601, 'y': -4.16543144865...   \n6  {'x': 0.56890869140625, 'y': -4.07157756399101...   \n7  {'x': -0.6687991023063661, 'y': -3.12554988113...   \n\n                                 BuildingUpDirection  \\\n0  {'x': -0.5596234202384941, 'y': -5.21540641784...   \n1  {'x': 1.524359447557799e-07, 'y': 1.0, 'z': -3...   \n2  {'x': 9.90605286688151e-08, 'y': 1.0, 'z': -4....   \n3  {'x': 1.5130076747027478e-08, 'y': 1.0, 'z': -...   \n4  {'x': -1.038612040815678e-07, 'y': 1.0, 'z': -...   \n5  {'x': 2.397450771240983e-08, 'y': 1.0, 'z': -4...   \n6  {'x': 1.52780586404333e-07, 'y': 1.0, 'z': -3....   \n7  {'x': -7.243741606544063e-08, 'y': 1.0, 'z': -...   \n\n                              BuildingRightDirection  \n0  {'x': 0.8287470340728761, 'y': -4.172325134277...  \n1  {'x': -0.8589562177658081, 'y': -3.75069326707...  \n2  {'x': -0.9180295467376701, 'y': -6.98753268579...  \n3  {'x': 0.8873179554939271, 'y': -7.172173610570...  \n4  {'x': -0.7570950984954831, 'y': 1.038612040815...  \n5  {'x': -0.993396520614624, 'y': -2.397450771240...  \n6  {'x': -0.822400689125061, 'y': -9.588389815462...  \n7  {'x': -0.743443250656127, 'y': 1.8373839338892...  ",
      "text/html": "<div>\n<style scoped>\n    .dataframe tbody tr th:only-of-type {\n        vertical-align: middle;\n    }\n\n    .dataframe tbody tr th {\n        vertical-align: top;\n    }\n\n    .dataframe thead th {\n        text-align: right;\n    }\n</style>\n<table border=\"1\" class=\"dataframe\">\n  <thead>\n    <tr style=\"text-align: right;\">\n      <th></th>\n      <th>BuildingID</th>\n      <th>BuildingName</th>\n      <th>BuildingCenterWorld</th>\n      <th>BuildingPositionGlobal</th>\n      <th>BuildingPositionLocal</th>\n      <th>BuildingRotationGlobal</th>\n      <th>BuildingRotationLocal</th>\n      <th>BuildingRotationVector3Global</th>\n      <th>BuildingRotationVector3Local</th>\n      <th>BuildingLossyScale</th>\n      <th>BuildingLocalScale</th>\n      <th>BuildingForwardDirection</th>\n      <th>BuildingUpDirection</th>\n      <th>BuildingRightDirection</th>\n    </tr>\n  </thead>\n  <tbody>\n    <tr>\n      <th>0</th>\n      <td>16</td>\n      <td>Church-TaskBuilding_16</td>\n      <td>{'x': 277.2083740234375, 'y': 19.8706207275390...</td>\n      <td>{'x': 280.644775390625, 'y': -2.90533447265625...</td>\n      <td>{'x': 280.644775390625, 'y': -2.9053475856781,...</td>\n      <td>{'x': 0.6761559247970581, 'y': -0.206913754343...</td>\n      <td>{'x': 0.6761559247970581, 'y': -0.206913769245...</td>\n      <td>{'x': 90.0, 'y': 325.97021484375, 'z': 0.0}</td>\n      <td>{'x': 90.0, 'y': 325.97021484375, 'z': 0.0}</td>\n      <td>{'x': 0.9999998807907101, 'y': 1.0000002384185...</td>\n      <td>{'x': 1.0, 'y': 1.0, 'z': 1.0}</td>\n      <td>{'x': -3.576278686523437e-07, 'y': -1.0, 'z': ...</td>\n      <td>{'x': -0.5596234202384941, 'y': -5.21540641784...</td>\n      <td>{'x': 0.8287470340728761, 'y': -4.172325134277...</td>\n    </tr>\n    <tr>\n      <th>1</th>\n      <td>31</td>\n      <td>TaskBuilding_31</td>\n      <td>{'x': 6.088593006134033, 'y': 5.04663658142089...</td>\n      <td>{'x': 5.910362243652344, 'y': -0.8442910909652...</td>\n      <td>{'x': 5.910362243652344, 'y': 0.36402130126953...</td>\n      <td>{'x': 2.9802322387695312e-08, 'y': 0.964094460...</td>\n      <td>{'x': 0.18777889013290402, 'y': 0.681717813014...</td>\n      <td>{'x': 2.0661756934e-05, 'y': 149.1996154785156...</td>\n      <td>{'x': 300.8004150390625, 'y': 90.0000228881836...</td>\n      <td>{'x': 0.9999997615814201, 'y': 0.9999999403953...</td>\n      <td>{'x': 1.0, 'y': 1.0, 'z': 1.0}</td>\n      <td>{'x': 0.512048721313476, 'y': -3.6061561559108...</td>\n      <td>{'x': 1.524359447557799e-07, 'y': 1.0, 'z': -3...</td>\n      <td>{'x': -0.8589562177658081, 'y': -3.75069326707...</td>\n    </tr>\n    <tr>\n      <th>2</th>\n      <td>35</td>\n      <td>TaskBuilding_35</td>\n      <td>{'x': -72.57828521728516, 'y': 6.8504829406738...</td>\n      <td>{'x': -72.79883575439453, 'y': 0.7274017333984...</td>\n      <td>{'x': -72.79883575439453, 'y': -53.81172561645...</td>\n      <td>{'x': 7.450580596923828e-09, 'y': 0.9792929887...</td>\n      <td>{'x': 0.143152445554733, 'y': 0.69246482849121...</td>\n      <td>{'x': 2.3583492293000003e-05, 'y': 156.6396942...</td>\n      <td>{'x': 293.36029052734375, 'y': 90.000038146972...</td>\n      <td>{'x': 1.000000119209289, 'y': 1.0, 'z': 1.0}</td>\n      <td>{'x': 1.0, 'y': 1.0, 'z': 1.0}</td>\n      <td>{'x': 0.396512001752853, 'y': -4.1160959085573...</td>\n      <td>{'x': 9.90605286688151e-08, 'y': 1.0, 'z': -4....</td>\n      <td>{'x': -0.9180295467376701, 'y': -6.98753268579...</td>\n    </tr>\n    <tr>\n      <th>3</th>\n      <td>7</td>\n      <td>TaskBuilding_7</td>\n      <td>{'x': -192.46141052246094, 'y': 6.050417423248...</td>\n      <td>{'x': -192.46141052246094, 'y': -0.94664001464...</td>\n      <td>{'x': -192.46141052246094, 'y': 173.5100555419...</td>\n      <td>{'x': -5.960464477539064e-08, 'y': 0.237362623...</td>\n      <td>{'x': 0.6868984699249261, 'y': 0.1678407192230...</td>\n      <td>{'x': -6.027028575e-06, 'y': 27.46186447143554...</td>\n      <td>{'x': 62.538143157958984, 'y': 90.0, 'z': 90.0}</td>\n      <td>{'x': 0.9999999403953551, 'y': 0.9999999403953...</td>\n      <td>{'x': 1.0, 'y': 1.0, 'z': 1.0}</td>\n      <td>{'x': 0.46115812659263605, 'y': 1.051914892968...</td>\n      <td>{'x': 1.5130076747027478e-08, 'y': 1.0, 'z': -...</td>\n      <td>{'x': 0.8873179554939271, 'y': -7.172173610570...</td>\n    </tr>\n    <tr>\n      <th>4</th>\n      <td>36</td>\n      <td>TaskBuilding_36</td>\n      <td>{'x': -51.411949157714844, 'y': 4.593465805053...</td>\n      <td>{'x': -52.68944549560547, 'y': -3.524444580078...</td>\n      <td>{'x': -52.68944549560547, 'y': 144.38082885742...</td>\n      <td>{'x': 0.0, 'y': 0.9373086690902711, 'z': -1.49...</td>\n      <td>{'x': -0.24642699956893901, 'y': 0.66277736425...</td>\n      <td>{'x': 1.6004989447e-05, 'y': 220.7912292480468...</td>\n      <td>{'x': 310.7912292480469, 'y': 270.0, 'z': 270.0}</td>\n      <td>{'x': 1.000000119209289, 'y': 0.99999994039535...</td>\n      <td>{'x': 1.0, 'y': 1.0, 'z': 1.0}</td>\n      <td>{'x': -0.6533048152923581, 'y': -2.79339758435...</td>\n      <td>{'x': -1.038612040815678e-07, 'y': 1.0, 'z': -...</td>\n      <td>{'x': -0.7570950984954831, 'y': 1.038612040815...</td>\n    </tr>\n    <tr>\n      <th>5</th>\n      <td>52</td>\n      <td>TaskBuilding_52</td>\n      <td>{'x': -247.1856689453125, 'y': 4.5703678131103...</td>\n      <td>{'x': -247.203369140625, 'y': 2.41047668457031...</td>\n      <td>{'x': -247.203369140625, 'y': -54.642482757568...</td>\n      <td>{'x': 0.0, 'y': 0.9983477592468261, 'z': -2.08...</td>\n      <td>{'x': 0.040630914270877005, 'y': 0.70593857765...</td>\n      <td>{'x': 2.3866165065000003e-05, 'y': 173.4118499...</td>\n      <td>{'x': 276.588134765625, 'y': 90.00012969970703...</td>\n      <td>{'x': 1.0, 'y': 1.0, 'z': 1.0}</td>\n      <td>{'x': 1.0, 'y': 1.0, 'z': 1.0}</td>\n      <td>{'x': 0.11473169177770601, 'y': -4.16543144865...</td>\n      <td>{'x': 2.397450771240983e-08, 'y': 1.0, 'z': -4...</td>\n      <td>{'x': -0.993396520614624, 'y': -2.397450771240...</td>\n    </tr>\n    <tr>\n      <th>6</th>\n      <td>1</td>\n      <td>TaskBuilding_1</td>\n      <td>{'x': 255.06228637695312, 'y': 4.1294870376586...</td>\n      <td>{'x': 255.06228637695312, 'y': -1.663043975830...</td>\n      <td>{'x': 255.06228637695312, 'y': 18.984483718872...</td>\n      <td>{'x': 1.490116119384765e-08, 'y': 0.9545681476...</td>\n      <td>{'x': 0.210712701082229, 'y': 0.67498171329498...</td>\n      <td>{'x': 2.3328420866e-05, 'y': 145.3258361816406...</td>\n      <td>{'x': 304.6741638183594, 'y': 90.0000305175781...</td>\n      <td>{'x': 1.0, 'y': 1.0, 'z': 1.0}</td>\n      <td>{'x': 1.0, 'y': 1.0, 'z': 1.0}</td>\n      <td>{'x': 0.56890869140625, 'y': -4.07157756399101...</td>\n      <td>{'x': 1.52780586404333e-07, 'y': 1.0, 'z': -3....</td>\n      <td>{'x': -0.822400689125061, 'y': -9.588389815462...</td>\n    </tr>\n    <tr>\n      <th>7</th>\n      <td>55</td>\n      <td>TaskBuilding_55</td>\n      <td>{'x': -334.680419921875, 'y': 8.00319671630859...</td>\n      <td>{'x': -334.5362854003906, 'y': 2.2612752914428...</td>\n      <td>{'x': -334.5362854003906, 'y': 4.9532914161682...</td>\n      <td>{'x': 2.9802322387695312e-08, 'y': 0.933660328...</td>\n      <td>{'x': -0.253257185220718, 'y': 0.6601976156234...</td>\n      <td>{'x': 1.7908081645e-05, 'y': 221.9744415283203...</td>\n      <td>{'x': 311.97442626953125, 'y': 270.0, 'z': 270.0}</td>\n      <td>{'x': 1.0, 'y': 0.9999999403953551, 'z': 1.000...</td>\n      <td>{'x': 1.0, 'y': 1.0, 'z': 1.0}</td>\n      <td>{'x': -0.6687991023063661, 'y': -3.12554988113...</td>\n      <td>{'x': -7.243741606544063e-08, 'y': 1.0, 'z': -...</td>\n      <td>{'x': -0.743443250656127, 'y': 1.8373839338892...</td>\n    </tr>\n  </tbody>\n</table>\n</div>"
     },
     "execution_count": 12,
     "metadata": {},
     "output_type": "execute_result"
    }
   ],
   "source": [
    "# create empty dataframe\n",
    "AllBuildings = pd.DataFrame()\n",
    "\n",
    "# read every file name in folder\n",
    "for filename in glob.glob(path):\n",
    "    with open(filename, 'r') as file:\n",
    "        # make json files parsable\n",
    "        data = \"[\" + file.read()\n",
    "        data = data[:len(data)-2] + \"]\"\n",
    "\n",
    "        # read data per file\n",
    "        subjectdf = pd.read_json(data)\n",
    "        AllBuildings = AllBuildings.append(subjectdf, ignore_index=True)\n",
    "AllBuildings.head(8)"
   ]
  },
  {
   "cell_type": "code",
   "execution_count": 13,
   "id": "9a35e5d5-5511-428f-b80b-1c686b824208",
   "metadata": {},
   "outputs": [
    {
     "data": {
      "text/plain": "Index(['BuildingID', 'BuildingName', 'BuildingCenterWorld',\n       'BuildingPositionGlobal', 'BuildingPositionLocal',\n       'BuildingRotationGlobal', 'BuildingRotationLocal',\n       'BuildingRotationVector3Global', 'BuildingRotationVector3Local',\n       'BuildingLossyScale', 'BuildingLocalScale', 'BuildingForwardDirection',\n       'BuildingUpDirection', 'BuildingRightDirection'],\n      dtype='object')"
     },
     "execution_count": 13,
     "metadata": {},
     "output_type": "execute_result"
    }
   ],
   "source": [
    "AllBuildings.columns"
   ]
  },
  {
   "cell_type": "code",
   "execution_count": 14,
   "outputs": [],
   "source": [
    "BuildingPositionGlobal = pd.DataFrame.from_records(AllBuildings['BuildingPositionGlobal'])\n",
    "AllBuildings.insert(2, \"BuildingPositionGlobal_z\",BuildingPositionGlobal['z'], True)\n",
    "AllBuildings.insert(2, \"BuildingPositionGlobal_y\",BuildingPositionGlobal['y'], True)\n",
    "AllBuildings.insert(2, \"BuildingPositionGlobal_x\",BuildingPositionGlobal['x'], True)\n",
    "BuildingPositionLocal = pd.DataFrame.from_records(AllBuildings['BuildingPositionLocal'])\n",
    "AllBuildings.insert(3, \"BuildingPositionLocal_z\",BuildingPositionLocal['z'], True)\n",
    "AllBuildings.insert(3, \"BuildingPositionLocal_y\",BuildingPositionLocal['y'], True)\n",
    "AllBuildings.insert(3, \"BuildingPositionLocal_x\",BuildingPositionLocal['x'], True)\n",
    "BuildingCenterWorld = pd.DataFrame.from_records(AllBuildings['BuildingCenterWorld'])\n",
    "AllBuildings.insert(3, \"BuildingCenterWorld_z\",BuildingCenterWorld['z'], True)\n",
    "AllBuildings.insert(3, \"BuildingCenterWorld_y\",BuildingCenterWorld['y'], True)\n",
    "AllBuildings.insert(3, \"BuildingCenterWorld_x\",BuildingCenterWorld['x'], True)"
   ],
   "metadata": {
    "collapsed": false,
    "pycharm": {
     "name": "#%%\n"
    }
   }
  },
  {
   "cell_type": "code",
   "execution_count": 15,
   "outputs": [
    {
     "data": {
      "text/plain": "Index(['BuildingID', 'BuildingName', 'BuildingPositionGlobal_x',\n       'BuildingCenterWorld_x', 'BuildingCenterWorld_y',\n       'BuildingCenterWorld_z', 'BuildingPositionLocal_x',\n       'BuildingPositionLocal_y', 'BuildingPositionLocal_z',\n       'BuildingPositionGlobal_y', 'BuildingPositionGlobal_z',\n       'BuildingCenterWorld', 'BuildingPositionGlobal',\n       'BuildingPositionLocal', 'BuildingRotationGlobal',\n       'BuildingRotationLocal', 'BuildingRotationVector3Global',\n       'BuildingRotationVector3Local', 'BuildingLossyScale',\n       'BuildingLocalScale', 'BuildingForwardDirection', 'BuildingUpDirection',\n       'BuildingRightDirection'],\n      dtype='object')"
     },
     "execution_count": 15,
     "metadata": {},
     "output_type": "execute_result"
    }
   ],
   "source": [
    "AllBuildings.columns"
   ],
   "metadata": {
    "collapsed": false,
    "pycharm": {
     "name": "#%%\n"
    }
   }
  },
  {
   "cell_type": "code",
   "execution_count": 16,
   "outputs": [],
   "source": [
    "AllBuildingsf = AllBuildings[['BuildingID', 'BuildingName','BuildingPositionLocal_x',\n",
    "                              'BuildingPositionGlobal_x', 'BuildingPositionLocal_y',\n",
    "                              'BuildingPositionLocal_z', 'BuildingPositionGlobal_y',\n",
    "                              'BuildingPositionGlobal_z','BuildingCenterWorld_x', 'BuildingCenterWorld_y',\n",
    "                            'BuildingCenterWorld_z']]"
   ],
   "metadata": {
    "collapsed": false,
    "pycharm": {
     "name": "#%%\n"
    }
   }
  },
  {
   "cell_type": "code",
   "execution_count": 17,
   "outputs": [
    {
     "data": {
      "text/plain": "    BuildingID                BuildingName  BuildingPositionLocal_x  \\\n0           16      Church-TaskBuilding_16               280.644775   \n1           31             TaskBuilding_31                 5.910362   \n2           35             TaskBuilding_35               -72.798836   \n3            7              TaskBuilding_7              -192.461411   \n4           36             TaskBuilding_36               -52.689445   \n5           52             TaskBuilding_52              -247.203369   \n6            1              TaskBuilding_1               255.062286   \n7           55             TaskBuilding_55              -334.536285   \n8           48             TaskBuilding_48              -195.637512   \n9           44             TaskBuilding_44              -127.001320   \n10          32             TaskBuilding_32                -3.306354   \n11          51             TaskBuilding_51              -238.297058   \n12           8              TaskBuilding_8              -311.341309   \n13          47             TaskBuilding_47              -189.705505   \n14          38             TaskBuilding_38               -70.737579   \n15          39             TaskBuilding_39               -69.552185   \n16          23             TaskBuilding_23               110.384758   \n17          14             TaskBuilding_14               228.290726   \n18          50             TaskBuilding_50              -236.721527   \n19          27             TaskBuilding_27                60.148254   \n20          49    HighSilo-TaskBuilding_49              -240.543549   \n21           2              TaskBuilding_2               197.395660   \n22          37             TaskBuilding_37               -43.785809   \n23          10  Windmill-TaskBuilding_10_1               300.002319   \n24          26             TaskBuilding_26                87.632721   \n\n    BuildingPositionGlobal_x  BuildingPositionLocal_y  \\\n0                 280.644775                -2.905348   \n1                   5.910362                 0.364021   \n2                 -72.798836               -53.811726   \n3                -192.461411               173.510056   \n4                 -52.689445               144.380829   \n5                -247.203369               -54.642483   \n6                 255.062286                18.984484   \n7                -334.536285                 4.953291   \n8                -195.637512               130.434067   \n9                -127.001320               128.001511   \n10                 -3.306354               256.052246   \n11               -238.297058              -180.166992   \n12               -311.341309                93.570648   \n13               -189.705505                22.110201   \n14                -70.737579              -226.887344   \n15                -69.552185                66.100250   \n16                110.384758              -109.118088   \n17                228.290726              -120.714043   \n18               -236.721527               -18.519928   \n19                 60.148254              -100.204842   \n20               -240.543549              -293.247589   \n21                197.395660              -234.249420   \n22                -43.785809               203.120132   \n23                300.002319              -190.718414   \n24                 87.632721               -42.919765   \n\n    BuildingPositionLocal_z  BuildingPositionGlobal_y  \\\n0                -91.287888                 -2.905334   \n1                 -0.844291                 -0.844291   \n2                  0.727393                  0.727402   \n3                 -0.946624                 -0.946640   \n4                 -3.524430                 -3.524445   \n5                  2.410471                  2.410477   \n6                 -1.663043                 -1.663044   \n7                  2.261276                  2.261275   \n8                  0.000002                 -0.000015   \n9                 -1.687382                 -1.687393   \n10                -6.045331                 -6.045349   \n11                 1.779521                  1.779541   \n12                 1.271662                  1.271652   \n13                 2.215900                  2.215899   \n14                 0.000000                  0.000031   \n15                -1.522846                 -1.522850   \n16                -0.667304                 -0.667290   \n17                -1.392295                 -1.392281   \n18                 2.793331                  2.793333   \n19                -0.742719                 -0.742706   \n20                18.361364                 18.361389   \n21                -2.951026                 -2.950989   \n22                -4.851378                 -4.851410   \n23                -2.397297                 -2.397278   \n24                -0.747421                 -0.747417   \n\n    BuildingPositionGlobal_z  BuildingCenterWorld_x  BuildingCenterWorld_y  \\\n0                 -91.287842             277.208374              19.870621   \n1                  -0.364021               6.088593               5.046637   \n2                  53.811722             -72.578285               6.850483   \n3                -173.510040            -192.461411               6.050417   \n4                -144.380814             -51.411949               4.593466   \n5                  54.642479            -247.185669               4.570368   \n6                 -18.984482             255.062286               4.129487   \n7                  -4.953291            -334.680420               8.003197   \n8                -130.434052            -195.637009               7.350957   \n9                -128.001495            -125.220001               5.564151   \n10               -256.052216              -3.336735               0.540142   \n11                180.166977            -238.284302               9.141197   \n12                -93.570641            -310.829041               3.311012   \n13                -22.110199            -189.705154               5.869164   \n14                226.887329             -72.436798               7.611973   \n15                -66.100235             -69.086670               3.709456   \n16                109.118080             110.384514               5.985385   \n17                120.714035             227.649185               5.136594   \n18                 18.519926            -236.829163               8.486180   \n19                100.204834              59.807579               4.368341   \n20                293.247559            -234.506821              31.293985   \n21                234.249405             197.370117              -0.791109   \n22               -203.120117             -42.972923               0.504111   \n23                190.718399             300.989563               8.644463   \n24                 42.919762              86.724503               5.826372   \n\n    BuildingCenterWorld_z  \n0              -91.080727  \n1               -0.542253  \n2               53.288437  \n3             -174.973267  \n4             -142.603455  \n5               54.489395  \n6              -18.984482  \n7               -5.111259  \n8             -130.434052  \n9             -129.826355  \n10            -255.873932  \n11             180.257141  \n12             -93.570648  \n13             -22.378126  \n14             226.580154  \n15             -65.879829  \n16             107.857498  \n17             119.052856  \n18              18.549416  \n19             100.443855  \n20             288.053894  \n21             234.419739  \n22            -205.836075  \n23             190.718399  \n24              42.815548  ",
      "text/html": "<div>\n<style scoped>\n    .dataframe tbody tr th:only-of-type {\n        vertical-align: middle;\n    }\n\n    .dataframe tbody tr th {\n        vertical-align: top;\n    }\n\n    .dataframe thead th {\n        text-align: right;\n    }\n</style>\n<table border=\"1\" class=\"dataframe\">\n  <thead>\n    <tr style=\"text-align: right;\">\n      <th></th>\n      <th>BuildingID</th>\n      <th>BuildingName</th>\n      <th>BuildingPositionLocal_x</th>\n      <th>BuildingPositionGlobal_x</th>\n      <th>BuildingPositionLocal_y</th>\n      <th>BuildingPositionLocal_z</th>\n      <th>BuildingPositionGlobal_y</th>\n      <th>BuildingPositionGlobal_z</th>\n      <th>BuildingCenterWorld_x</th>\n      <th>BuildingCenterWorld_y</th>\n      <th>BuildingCenterWorld_z</th>\n    </tr>\n  </thead>\n  <tbody>\n    <tr>\n      <th>0</th>\n      <td>16</td>\n      <td>Church-TaskBuilding_16</td>\n      <td>280.644775</td>\n      <td>280.644775</td>\n      <td>-2.905348</td>\n      <td>-91.287888</td>\n      <td>-2.905334</td>\n      <td>-91.287842</td>\n      <td>277.208374</td>\n      <td>19.870621</td>\n      <td>-91.080727</td>\n    </tr>\n    <tr>\n      <th>1</th>\n      <td>31</td>\n      <td>TaskBuilding_31</td>\n      <td>5.910362</td>\n      <td>5.910362</td>\n      <td>0.364021</td>\n      <td>-0.844291</td>\n      <td>-0.844291</td>\n      <td>-0.364021</td>\n      <td>6.088593</td>\n      <td>5.046637</td>\n      <td>-0.542253</td>\n    </tr>\n    <tr>\n      <th>2</th>\n      <td>35</td>\n      <td>TaskBuilding_35</td>\n      <td>-72.798836</td>\n      <td>-72.798836</td>\n      <td>-53.811726</td>\n      <td>0.727393</td>\n      <td>0.727402</td>\n      <td>53.811722</td>\n      <td>-72.578285</td>\n      <td>6.850483</td>\n      <td>53.288437</td>\n    </tr>\n    <tr>\n      <th>3</th>\n      <td>7</td>\n      <td>TaskBuilding_7</td>\n      <td>-192.461411</td>\n      <td>-192.461411</td>\n      <td>173.510056</td>\n      <td>-0.946624</td>\n      <td>-0.946640</td>\n      <td>-173.510040</td>\n      <td>-192.461411</td>\n      <td>6.050417</td>\n      <td>-174.973267</td>\n    </tr>\n    <tr>\n      <th>4</th>\n      <td>36</td>\n      <td>TaskBuilding_36</td>\n      <td>-52.689445</td>\n      <td>-52.689445</td>\n      <td>144.380829</td>\n      <td>-3.524430</td>\n      <td>-3.524445</td>\n      <td>-144.380814</td>\n      <td>-51.411949</td>\n      <td>4.593466</td>\n      <td>-142.603455</td>\n    </tr>\n    <tr>\n      <th>5</th>\n      <td>52</td>\n      <td>TaskBuilding_52</td>\n      <td>-247.203369</td>\n      <td>-247.203369</td>\n      <td>-54.642483</td>\n      <td>2.410471</td>\n      <td>2.410477</td>\n      <td>54.642479</td>\n      <td>-247.185669</td>\n      <td>4.570368</td>\n      <td>54.489395</td>\n    </tr>\n    <tr>\n      <th>6</th>\n      <td>1</td>\n      <td>TaskBuilding_1</td>\n      <td>255.062286</td>\n      <td>255.062286</td>\n      <td>18.984484</td>\n      <td>-1.663043</td>\n      <td>-1.663044</td>\n      <td>-18.984482</td>\n      <td>255.062286</td>\n      <td>4.129487</td>\n      <td>-18.984482</td>\n    </tr>\n    <tr>\n      <th>7</th>\n      <td>55</td>\n      <td>TaskBuilding_55</td>\n      <td>-334.536285</td>\n      <td>-334.536285</td>\n      <td>4.953291</td>\n      <td>2.261276</td>\n      <td>2.261275</td>\n      <td>-4.953291</td>\n      <td>-334.680420</td>\n      <td>8.003197</td>\n      <td>-5.111259</td>\n    </tr>\n    <tr>\n      <th>8</th>\n      <td>48</td>\n      <td>TaskBuilding_48</td>\n      <td>-195.637512</td>\n      <td>-195.637512</td>\n      <td>130.434067</td>\n      <td>0.000002</td>\n      <td>-0.000015</td>\n      <td>-130.434052</td>\n      <td>-195.637009</td>\n      <td>7.350957</td>\n      <td>-130.434052</td>\n    </tr>\n    <tr>\n      <th>9</th>\n      <td>44</td>\n      <td>TaskBuilding_44</td>\n      <td>-127.001320</td>\n      <td>-127.001320</td>\n      <td>128.001511</td>\n      <td>-1.687382</td>\n      <td>-1.687393</td>\n      <td>-128.001495</td>\n      <td>-125.220001</td>\n      <td>5.564151</td>\n      <td>-129.826355</td>\n    </tr>\n    <tr>\n      <th>10</th>\n      <td>32</td>\n      <td>TaskBuilding_32</td>\n      <td>-3.306354</td>\n      <td>-3.306354</td>\n      <td>256.052246</td>\n      <td>-6.045331</td>\n      <td>-6.045349</td>\n      <td>-256.052216</td>\n      <td>-3.336735</td>\n      <td>0.540142</td>\n      <td>-255.873932</td>\n    </tr>\n    <tr>\n      <th>11</th>\n      <td>51</td>\n      <td>TaskBuilding_51</td>\n      <td>-238.297058</td>\n      <td>-238.297058</td>\n      <td>-180.166992</td>\n      <td>1.779521</td>\n      <td>1.779541</td>\n      <td>180.166977</td>\n      <td>-238.284302</td>\n      <td>9.141197</td>\n      <td>180.257141</td>\n    </tr>\n    <tr>\n      <th>12</th>\n      <td>8</td>\n      <td>TaskBuilding_8</td>\n      <td>-311.341309</td>\n      <td>-311.341309</td>\n      <td>93.570648</td>\n      <td>1.271662</td>\n      <td>1.271652</td>\n      <td>-93.570641</td>\n      <td>-310.829041</td>\n      <td>3.311012</td>\n      <td>-93.570648</td>\n    </tr>\n    <tr>\n      <th>13</th>\n      <td>47</td>\n      <td>TaskBuilding_47</td>\n      <td>-189.705505</td>\n      <td>-189.705505</td>\n      <td>22.110201</td>\n      <td>2.215900</td>\n      <td>2.215899</td>\n      <td>-22.110199</td>\n      <td>-189.705154</td>\n      <td>5.869164</td>\n      <td>-22.378126</td>\n    </tr>\n    <tr>\n      <th>14</th>\n      <td>38</td>\n      <td>TaskBuilding_38</td>\n      <td>-70.737579</td>\n      <td>-70.737579</td>\n      <td>-226.887344</td>\n      <td>0.000000</td>\n      <td>0.000031</td>\n      <td>226.887329</td>\n      <td>-72.436798</td>\n      <td>7.611973</td>\n      <td>226.580154</td>\n    </tr>\n    <tr>\n      <th>15</th>\n      <td>39</td>\n      <td>TaskBuilding_39</td>\n      <td>-69.552185</td>\n      <td>-69.552185</td>\n      <td>66.100250</td>\n      <td>-1.522846</td>\n      <td>-1.522850</td>\n      <td>-66.100235</td>\n      <td>-69.086670</td>\n      <td>3.709456</td>\n      <td>-65.879829</td>\n    </tr>\n    <tr>\n      <th>16</th>\n      <td>23</td>\n      <td>TaskBuilding_23</td>\n      <td>110.384758</td>\n      <td>110.384758</td>\n      <td>-109.118088</td>\n      <td>-0.667304</td>\n      <td>-0.667290</td>\n      <td>109.118080</td>\n      <td>110.384514</td>\n      <td>5.985385</td>\n      <td>107.857498</td>\n    </tr>\n    <tr>\n      <th>17</th>\n      <td>14</td>\n      <td>TaskBuilding_14</td>\n      <td>228.290726</td>\n      <td>228.290726</td>\n      <td>-120.714043</td>\n      <td>-1.392295</td>\n      <td>-1.392281</td>\n      <td>120.714035</td>\n      <td>227.649185</td>\n      <td>5.136594</td>\n      <td>119.052856</td>\n    </tr>\n    <tr>\n      <th>18</th>\n      <td>50</td>\n      <td>TaskBuilding_50</td>\n      <td>-236.721527</td>\n      <td>-236.721527</td>\n      <td>-18.519928</td>\n      <td>2.793331</td>\n      <td>2.793333</td>\n      <td>18.519926</td>\n      <td>-236.829163</td>\n      <td>8.486180</td>\n      <td>18.549416</td>\n    </tr>\n    <tr>\n      <th>19</th>\n      <td>27</td>\n      <td>TaskBuilding_27</td>\n      <td>60.148254</td>\n      <td>60.148254</td>\n      <td>-100.204842</td>\n      <td>-0.742719</td>\n      <td>-0.742706</td>\n      <td>100.204834</td>\n      <td>59.807579</td>\n      <td>4.368341</td>\n      <td>100.443855</td>\n    </tr>\n    <tr>\n      <th>20</th>\n      <td>49</td>\n      <td>HighSilo-TaskBuilding_49</td>\n      <td>-240.543549</td>\n      <td>-240.543549</td>\n      <td>-293.247589</td>\n      <td>18.361364</td>\n      <td>18.361389</td>\n      <td>293.247559</td>\n      <td>-234.506821</td>\n      <td>31.293985</td>\n      <td>288.053894</td>\n    </tr>\n    <tr>\n      <th>21</th>\n      <td>2</td>\n      <td>TaskBuilding_2</td>\n      <td>197.395660</td>\n      <td>197.395660</td>\n      <td>-234.249420</td>\n      <td>-2.951026</td>\n      <td>-2.950989</td>\n      <td>234.249405</td>\n      <td>197.370117</td>\n      <td>-0.791109</td>\n      <td>234.419739</td>\n    </tr>\n    <tr>\n      <th>22</th>\n      <td>37</td>\n      <td>TaskBuilding_37</td>\n      <td>-43.785809</td>\n      <td>-43.785809</td>\n      <td>203.120132</td>\n      <td>-4.851378</td>\n      <td>-4.851410</td>\n      <td>-203.120117</td>\n      <td>-42.972923</td>\n      <td>0.504111</td>\n      <td>-205.836075</td>\n    </tr>\n    <tr>\n      <th>23</th>\n      <td>10</td>\n      <td>Windmill-TaskBuilding_10_1</td>\n      <td>300.002319</td>\n      <td>300.002319</td>\n      <td>-190.718414</td>\n      <td>-2.397297</td>\n      <td>-2.397278</td>\n      <td>190.718399</td>\n      <td>300.989563</td>\n      <td>8.644463</td>\n      <td>190.718399</td>\n    </tr>\n    <tr>\n      <th>24</th>\n      <td>26</td>\n      <td>TaskBuilding_26</td>\n      <td>87.632721</td>\n      <td>87.632721</td>\n      <td>-42.919765</td>\n      <td>-0.747421</td>\n      <td>-0.747417</td>\n      <td>42.919762</td>\n      <td>86.724503</td>\n      <td>5.826372</td>\n      <td>42.815548</td>\n    </tr>\n  </tbody>\n</table>\n</div>"
     },
     "execution_count": 17,
     "metadata": {},
     "output_type": "execute_result"
    }
   ],
   "source": [
    "AllBuildingsf.head(25)"
   ],
   "metadata": {
    "collapsed": false,
    "pycharm": {
     "name": "#%%\n"
    }
   }
  },
  {
   "cell_type": "code",
   "execution_count": 18,
   "outputs": [],
   "source": [
    "All = pd.merge_ordered(AllBuildingsf,CoordinateIndexing, left_on='BuildingID', right_on='PointingTargetId')"
   ],
   "metadata": {
    "collapsed": false,
    "pycharm": {
     "name": "#%%\n"
    }
   }
  },
  {
   "cell_type": "code",
   "execution_count": 19,
   "outputs": [
    {
     "name": "stdout",
     "output_type": "stream",
     "text": [
      "<class 'pandas.core.frame.DataFrame'>\n",
      "Int64Index: 112 entries, 0 to 111\n",
      "Data columns (total 18 columns):\n",
      " #   Column                    Non-Null Count  Dtype  \n",
      "---  ------                    --------------  -----  \n",
      " 0   BuildingID                112 non-null    int64  \n",
      " 1   BuildingName              112 non-null    object \n",
      " 2   BuildingPositionLocal_x   112 non-null    float64\n",
      " 3   BuildingPositionGlobal_x  112 non-null    float64\n",
      " 4   BuildingPositionLocal_y   112 non-null    float64\n",
      " 5   BuildingPositionLocal_z   112 non-null    float64\n",
      " 6   BuildingPositionGlobal_y  112 non-null    float64\n",
      " 7   BuildingPositionGlobal_z  112 non-null    float64\n",
      " 8   BuildingCenterWorld_x     112 non-null    float64\n",
      " 9   BuildingCenterWorld_y     112 non-null    float64\n",
      " 10  BuildingCenterWorld_z     112 non-null    float64\n",
      " 11  PointingTargetId          112 non-null    int64  \n",
      " 12  PointingTargetIndex       112 non-null    int64  \n",
      " 13  PointingTargetName        112 non-null    object \n",
      " 14  PointingTargetCondition   112 non-null    object \n",
      " 15  PointingTargetBuildingId  112 non-null    int64  \n",
      " 16  Context                   112 non-null    bool   \n",
      " 17  Agent                     112 non-null    bool   \n",
      "dtypes: bool(2), float64(9), int64(4), object(3)\n",
      "memory usage: 15.1+ KB\n"
     ]
    }
   ],
   "source": [
    "All.info()"
   ],
   "metadata": {
    "collapsed": false,
    "pycharm": {
     "name": "#%%\n"
    }
   }
  },
  {
   "cell_type": "code",
   "execution_count": 20,
   "outputs": [
    {
     "data": {
      "text/plain": "                                                                                               BuildingName  \\\nBuildingCenterWorld_z BuildingCenterWorld_x PointingTargetName PointingTargetIndex BuildingID                 \n-18.984482             255.062286           01_CmANo_1_14      1                   1                      1   \n                                            01_CmA_0_14        0                   1                      1   \n 234.419739            197.370117           02_CmA_2_41        2                   2                      1   \n                                            02_CmANo_3_41      3                   2                      1   \n 29.115139             132.904114           03_CmA_4_2         4                   3                      1   \n...                                                                                                     ...   \n 60.519508            -336.362793           54_Sa_106_55       106                 54                     1   \n-5.111259             -334.680420           55_Sa_108_10       108                 55                     1   \n                                            55_SaNo_109_10     109                 55                     1   \n-263.656067           -424.961121           56_Sa_110_49       110                 56                     1   \n                                            56_SaNo_111_49     111                 56                     1   \n\n                                                                                               BuildingPositionLocal_x  \\\nBuildingCenterWorld_z BuildingCenterWorld_x PointingTargetName PointingTargetIndex BuildingID                            \n-18.984482             255.062286           01_CmANo_1_14      1                   1                                 1   \n                                            01_CmA_0_14        0                   1                                 1   \n 234.419739            197.370117           02_CmA_2_41        2                   2                                 1   \n                                            02_CmANo_3_41      3                   2                                 1   \n 29.115139             132.904114           03_CmA_4_2         4                   3                                 1   \n...                                                                                                                ...   \n 60.519508            -336.362793           54_Sa_106_55       106                 54                                1   \n-5.111259             -334.680420           55_Sa_108_10       108                 55                                1   \n                                            55_SaNo_109_10     109                 55                                1   \n-263.656067           -424.961121           56_Sa_110_49       110                 56                                1   \n                                            56_SaNo_111_49     111                 56                                1   \n\n                                                                                               BuildingPositionGlobal_x  \\\nBuildingCenterWorld_z BuildingCenterWorld_x PointingTargetName PointingTargetIndex BuildingID                             \n-18.984482             255.062286           01_CmANo_1_14      1                   1                                  1   \n                                            01_CmA_0_14        0                   1                                  1   \n 234.419739            197.370117           02_CmA_2_41        2                   2                                  1   \n                                            02_CmANo_3_41      3                   2                                  1   \n 29.115139             132.904114           03_CmA_4_2         4                   3                                  1   \n...                                                                                                                 ...   \n 60.519508            -336.362793           54_Sa_106_55       106                 54                                 1   \n-5.111259             -334.680420           55_Sa_108_10       108                 55                                 1   \n                                            55_SaNo_109_10     109                 55                                 1   \n-263.656067           -424.961121           56_Sa_110_49       110                 56                                 1   \n                                            56_SaNo_111_49     111                 56                                 1   \n\n                                                                                               BuildingPositionLocal_y  \\\nBuildingCenterWorld_z BuildingCenterWorld_x PointingTargetName PointingTargetIndex BuildingID                            \n-18.984482             255.062286           01_CmANo_1_14      1                   1                                 1   \n                                            01_CmA_0_14        0                   1                                 1   \n 234.419739            197.370117           02_CmA_2_41        2                   2                                 1   \n                                            02_CmANo_3_41      3                   2                                 1   \n 29.115139             132.904114           03_CmA_4_2         4                   3                                 1   \n...                                                                                                                ...   \n 60.519508            -336.362793           54_Sa_106_55       106                 54                                1   \n-5.111259             -334.680420           55_Sa_108_10       108                 55                                1   \n                                            55_SaNo_109_10     109                 55                                1   \n-263.656067           -424.961121           56_Sa_110_49       110                 56                                1   \n                                            56_SaNo_111_49     111                 56                                1   \n\n                                                                                               BuildingPositionLocal_z  \\\nBuildingCenterWorld_z BuildingCenterWorld_x PointingTargetName PointingTargetIndex BuildingID                            \n-18.984482             255.062286           01_CmANo_1_14      1                   1                                 1   \n                                            01_CmA_0_14        0                   1                                 1   \n 234.419739            197.370117           02_CmA_2_41        2                   2                                 1   \n                                            02_CmANo_3_41      3                   2                                 1   \n 29.115139             132.904114           03_CmA_4_2         4                   3                                 1   \n...                                                                                                                ...   \n 60.519508            -336.362793           54_Sa_106_55       106                 54                                1   \n-5.111259             -334.680420           55_Sa_108_10       108                 55                                1   \n                                            55_SaNo_109_10     109                 55                                1   \n-263.656067           -424.961121           56_Sa_110_49       110                 56                                1   \n                                            56_SaNo_111_49     111                 56                                1   \n\n                                                                                               BuildingPositionGlobal_y  \\\nBuildingCenterWorld_z BuildingCenterWorld_x PointingTargetName PointingTargetIndex BuildingID                             \n-18.984482             255.062286           01_CmANo_1_14      1                   1                                  1   \n                                            01_CmA_0_14        0                   1                                  1   \n 234.419739            197.370117           02_CmA_2_41        2                   2                                  1   \n                                            02_CmANo_3_41      3                   2                                  1   \n 29.115139             132.904114           03_CmA_4_2         4                   3                                  1   \n...                                                                                                                 ...   \n 60.519508            -336.362793           54_Sa_106_55       106                 54                                 1   \n-5.111259             -334.680420           55_Sa_108_10       108                 55                                 1   \n                                            55_SaNo_109_10     109                 55                                 1   \n-263.656067           -424.961121           56_Sa_110_49       110                 56                                 1   \n                                            56_SaNo_111_49     111                 56                                 1   \n\n                                                                                               BuildingPositionGlobal_z  \\\nBuildingCenterWorld_z BuildingCenterWorld_x PointingTargetName PointingTargetIndex BuildingID                             \n-18.984482             255.062286           01_CmANo_1_14      1                   1                                  1   \n                                            01_CmA_0_14        0                   1                                  1   \n 234.419739            197.370117           02_CmA_2_41        2                   2                                  1   \n                                            02_CmANo_3_41      3                   2                                  1   \n 29.115139             132.904114           03_CmA_4_2         4                   3                                  1   \n...                                                                                                                 ...   \n 60.519508            -336.362793           54_Sa_106_55       106                 54                                 1   \n-5.111259             -334.680420           55_Sa_108_10       108                 55                                 1   \n                                            55_SaNo_109_10     109                 55                                 1   \n-263.656067           -424.961121           56_Sa_110_49       110                 56                                 1   \n                                            56_SaNo_111_49     111                 56                                 1   \n\n                                                                                               BuildingCenterWorld_y  \\\nBuildingCenterWorld_z BuildingCenterWorld_x PointingTargetName PointingTargetIndex BuildingID                          \n-18.984482             255.062286           01_CmANo_1_14      1                   1                               1   \n                                            01_CmA_0_14        0                   1                               1   \n 234.419739            197.370117           02_CmA_2_41        2                   2                               1   \n                                            02_CmANo_3_41      3                   2                               1   \n 29.115139             132.904114           03_CmA_4_2         4                   3                               1   \n...                                                                                                              ...   \n 60.519508            -336.362793           54_Sa_106_55       106                 54                              1   \n-5.111259             -334.680420           55_Sa_108_10       108                 55                              1   \n                                            55_SaNo_109_10     109                 55                              1   \n-263.656067           -424.961121           56_Sa_110_49       110                 56                              1   \n                                            56_SaNo_111_49     111                 56                              1   \n\n                                                                                               PointingTargetId  \\\nBuildingCenterWorld_z BuildingCenterWorld_x PointingTargetName PointingTargetIndex BuildingID                     \n-18.984482             255.062286           01_CmANo_1_14      1                   1                          1   \n                                            01_CmA_0_14        0                   1                          1   \n 234.419739            197.370117           02_CmA_2_41        2                   2                          1   \n                                            02_CmANo_3_41      3                   2                          1   \n 29.115139             132.904114           03_CmA_4_2         4                   3                          1   \n...                                                                                                         ...   \n 60.519508            -336.362793           54_Sa_106_55       106                 54                         1   \n-5.111259             -334.680420           55_Sa_108_10       108                 55                         1   \n                                            55_SaNo_109_10     109                 55                         1   \n-263.656067           -424.961121           56_Sa_110_49       110                 56                         1   \n                                            56_SaNo_111_49     111                 56                         1   \n\n                                                                                               PointingTargetCondition  \\\nBuildingCenterWorld_z BuildingCenterWorld_x PointingTargetName PointingTargetIndex BuildingID                            \n-18.984482             255.062286           01_CmANo_1_14      1                   1                                 1   \n                                            01_CmA_0_14        0                   1                                 1   \n 234.419739            197.370117           02_CmA_2_41        2                   2                                 1   \n                                            02_CmANo_3_41      3                   2                                 1   \n 29.115139             132.904114           03_CmA_4_2         4                   3                                 1   \n...                                                                                                                ...   \n 60.519508            -336.362793           54_Sa_106_55       106                 54                                1   \n-5.111259             -334.680420           55_Sa_108_10       108                 55                                1   \n                                            55_SaNo_109_10     109                 55                                1   \n-263.656067           -424.961121           56_Sa_110_49       110                 56                                1   \n                                            56_SaNo_111_49     111                 56                                1   \n\n                                                                                               PointingTargetBuildingId  \\\nBuildingCenterWorld_z BuildingCenterWorld_x PointingTargetName PointingTargetIndex BuildingID                             \n-18.984482             255.062286           01_CmANo_1_14      1                   1                                  1   \n                                            01_CmA_0_14        0                   1                                  1   \n 234.419739            197.370117           02_CmA_2_41        2                   2                                  1   \n                                            02_CmANo_3_41      3                   2                                  1   \n 29.115139             132.904114           03_CmA_4_2         4                   3                                  1   \n...                                                                                                                 ...   \n 60.519508            -336.362793           54_Sa_106_55       106                 54                                 1   \n-5.111259             -334.680420           55_Sa_108_10       108                 55                                 1   \n                                            55_SaNo_109_10     109                 55                                 1   \n-263.656067           -424.961121           56_Sa_110_49       110                 56                                 1   \n                                            56_SaNo_111_49     111                 56                                 1   \n\n                                                                                               Context  \\\nBuildingCenterWorld_z BuildingCenterWorld_x PointingTargetName PointingTargetIndex BuildingID            \n-18.984482             255.062286           01_CmANo_1_14      1                   1                 1   \n                                            01_CmA_0_14        0                   1                 1   \n 234.419739            197.370117           02_CmA_2_41        2                   2                 1   \n                                            02_CmANo_3_41      3                   2                 1   \n 29.115139             132.904114           03_CmA_4_2         4                   3                 1   \n...                                                                                                ...   \n 60.519508            -336.362793           54_Sa_106_55       106                 54                1   \n-5.111259             -334.680420           55_Sa_108_10       108                 55                1   \n                                            55_SaNo_109_10     109                 55                1   \n-263.656067           -424.961121           56_Sa_110_49       110                 56                1   \n                                            56_SaNo_111_49     111                 56                1   \n\n                                                                                               Agent  \nBuildingCenterWorld_z BuildingCenterWorld_x PointingTargetName PointingTargetIndex BuildingID         \n-18.984482             255.062286           01_CmANo_1_14      1                   1               1  \n                                            01_CmA_0_14        0                   1               1  \n 234.419739            197.370117           02_CmA_2_41        2                   2               1  \n                                            02_CmANo_3_41      3                   2               1  \n 29.115139             132.904114           03_CmA_4_2         4                   3               1  \n...                                                                                              ...  \n 60.519508            -336.362793           54_Sa_106_55       106                 54              1  \n-5.111259             -334.680420           55_Sa_108_10       108                 55              1  \n                                            55_SaNo_109_10     109                 55              1  \n-263.656067           -424.961121           56_Sa_110_49       110                 56              1  \n                                            56_SaNo_111_49     111                 56              1  \n\n[112 rows x 13 columns]",
      "text/html": "<div>\n<style scoped>\n    .dataframe tbody tr th:only-of-type {\n        vertical-align: middle;\n    }\n\n    .dataframe tbody tr th {\n        vertical-align: top;\n    }\n\n    .dataframe thead th {\n        text-align: right;\n    }\n</style>\n<table border=\"1\" class=\"dataframe\">\n  <thead>\n    <tr style=\"text-align: right;\">\n      <th></th>\n      <th></th>\n      <th></th>\n      <th></th>\n      <th></th>\n      <th>BuildingName</th>\n      <th>BuildingPositionLocal_x</th>\n      <th>BuildingPositionGlobal_x</th>\n      <th>BuildingPositionLocal_y</th>\n      <th>BuildingPositionLocal_z</th>\n      <th>BuildingPositionGlobal_y</th>\n      <th>BuildingPositionGlobal_z</th>\n      <th>BuildingCenterWorld_y</th>\n      <th>PointingTargetId</th>\n      <th>PointingTargetCondition</th>\n      <th>PointingTargetBuildingId</th>\n      <th>Context</th>\n      <th>Agent</th>\n    </tr>\n    <tr>\n      <th>BuildingCenterWorld_z</th>\n      <th>BuildingCenterWorld_x</th>\n      <th>PointingTargetName</th>\n      <th>PointingTargetIndex</th>\n      <th>BuildingID</th>\n      <th></th>\n      <th></th>\n      <th></th>\n      <th></th>\n      <th></th>\n      <th></th>\n      <th></th>\n      <th></th>\n      <th></th>\n      <th></th>\n      <th></th>\n      <th></th>\n      <th></th>\n    </tr>\n  </thead>\n  <tbody>\n    <tr>\n      <th rowspan=\"2\" valign=\"top\">-18.984482</th>\n      <th rowspan=\"2\" valign=\"top\">255.062286</th>\n      <th>01_CmANo_1_14</th>\n      <th>1</th>\n      <th>1</th>\n      <td>1</td>\n      <td>1</td>\n      <td>1</td>\n      <td>1</td>\n      <td>1</td>\n      <td>1</td>\n      <td>1</td>\n      <td>1</td>\n      <td>1</td>\n      <td>1</td>\n      <td>1</td>\n      <td>1</td>\n      <td>1</td>\n    </tr>\n    <tr>\n      <th>01_CmA_0_14</th>\n      <th>0</th>\n      <th>1</th>\n      <td>1</td>\n      <td>1</td>\n      <td>1</td>\n      <td>1</td>\n      <td>1</td>\n      <td>1</td>\n      <td>1</td>\n      <td>1</td>\n      <td>1</td>\n      <td>1</td>\n      <td>1</td>\n      <td>1</td>\n      <td>1</td>\n    </tr>\n    <tr>\n      <th rowspan=\"2\" valign=\"top\">234.419739</th>\n      <th rowspan=\"2\" valign=\"top\">197.370117</th>\n      <th>02_CmA_2_41</th>\n      <th>2</th>\n      <th>2</th>\n      <td>1</td>\n      <td>1</td>\n      <td>1</td>\n      <td>1</td>\n      <td>1</td>\n      <td>1</td>\n      <td>1</td>\n      <td>1</td>\n      <td>1</td>\n      <td>1</td>\n      <td>1</td>\n      <td>1</td>\n      <td>1</td>\n    </tr>\n    <tr>\n      <th>02_CmANo_3_41</th>\n      <th>3</th>\n      <th>2</th>\n      <td>1</td>\n      <td>1</td>\n      <td>1</td>\n      <td>1</td>\n      <td>1</td>\n      <td>1</td>\n      <td>1</td>\n      <td>1</td>\n      <td>1</td>\n      <td>1</td>\n      <td>1</td>\n      <td>1</td>\n      <td>1</td>\n    </tr>\n    <tr>\n      <th>29.115139</th>\n      <th>132.904114</th>\n      <th>03_CmA_4_2</th>\n      <th>4</th>\n      <th>3</th>\n      <td>1</td>\n      <td>1</td>\n      <td>1</td>\n      <td>1</td>\n      <td>1</td>\n      <td>1</td>\n      <td>1</td>\n      <td>1</td>\n      <td>1</td>\n      <td>1</td>\n      <td>1</td>\n      <td>1</td>\n      <td>1</td>\n    </tr>\n    <tr>\n      <th>...</th>\n      <th>...</th>\n      <th>...</th>\n      <th>...</th>\n      <th>...</th>\n      <td>...</td>\n      <td>...</td>\n      <td>...</td>\n      <td>...</td>\n      <td>...</td>\n      <td>...</td>\n      <td>...</td>\n      <td>...</td>\n      <td>...</td>\n      <td>...</td>\n      <td>...</td>\n      <td>...</td>\n      <td>...</td>\n    </tr>\n    <tr>\n      <th>60.519508</th>\n      <th>-336.362793</th>\n      <th>54_Sa_106_55</th>\n      <th>106</th>\n      <th>54</th>\n      <td>1</td>\n      <td>1</td>\n      <td>1</td>\n      <td>1</td>\n      <td>1</td>\n      <td>1</td>\n      <td>1</td>\n      <td>1</td>\n      <td>1</td>\n      <td>1</td>\n      <td>1</td>\n      <td>1</td>\n      <td>1</td>\n    </tr>\n    <tr>\n      <th rowspan=\"2\" valign=\"top\">-5.111259</th>\n      <th rowspan=\"2\" valign=\"top\">-334.680420</th>\n      <th>55_Sa_108_10</th>\n      <th>108</th>\n      <th>55</th>\n      <td>1</td>\n      <td>1</td>\n      <td>1</td>\n      <td>1</td>\n      <td>1</td>\n      <td>1</td>\n      <td>1</td>\n      <td>1</td>\n      <td>1</td>\n      <td>1</td>\n      <td>1</td>\n      <td>1</td>\n      <td>1</td>\n    </tr>\n    <tr>\n      <th>55_SaNo_109_10</th>\n      <th>109</th>\n      <th>55</th>\n      <td>1</td>\n      <td>1</td>\n      <td>1</td>\n      <td>1</td>\n      <td>1</td>\n      <td>1</td>\n      <td>1</td>\n      <td>1</td>\n      <td>1</td>\n      <td>1</td>\n      <td>1</td>\n      <td>1</td>\n      <td>1</td>\n    </tr>\n    <tr>\n      <th rowspan=\"2\" valign=\"top\">-263.656067</th>\n      <th rowspan=\"2\" valign=\"top\">-424.961121</th>\n      <th>56_Sa_110_49</th>\n      <th>110</th>\n      <th>56</th>\n      <td>1</td>\n      <td>1</td>\n      <td>1</td>\n      <td>1</td>\n      <td>1</td>\n      <td>1</td>\n      <td>1</td>\n      <td>1</td>\n      <td>1</td>\n      <td>1</td>\n      <td>1</td>\n      <td>1</td>\n      <td>1</td>\n    </tr>\n    <tr>\n      <th>56_SaNo_111_49</th>\n      <th>111</th>\n      <th>56</th>\n      <td>1</td>\n      <td>1</td>\n      <td>1</td>\n      <td>1</td>\n      <td>1</td>\n      <td>1</td>\n      <td>1</td>\n      <td>1</td>\n      <td>1</td>\n      <td>1</td>\n      <td>1</td>\n      <td>1</td>\n      <td>1</td>\n    </tr>\n  </tbody>\n</table>\n<p>112 rows × 13 columns</p>\n</div>"
     },
     "execution_count": 20,
     "metadata": {},
     "output_type": "execute_result"
    }
   ],
   "source": [
    "All.groupby(['BuildingCenterWorld_z','BuildingCenterWorld_x', 'PointingTargetName', 'PointingTargetIndex', 'BuildingID']).count().sort_values('BuildingID')"
   ],
   "metadata": {
    "collapsed": false,
    "pycharm": {
     "name": "#%%\n"
    }
   }
  },
  {
   "cell_type": "code",
   "execution_count": 21,
   "outputs": [],
   "source": [
    "All.to_csv('BuildingCoordinatesr.csv')"
   ],
   "metadata": {
    "collapsed": false,
    "pycharm": {
     "name": "#%%\n"
    }
   }
  },
  {
   "cell_type": "code",
   "execution_count": 22,
   "outputs": [
    {
     "ename": "NameError",
     "evalue": "name 'final' is not defined",
     "output_type": "error",
     "traceback": [
      "\u001B[0;31m---------------------------------------------------------------------------\u001B[0m",
      "\u001B[0;31mNameError\u001B[0m                                 Traceback (most recent call last)",
      "\u001B[0;32m<ipython-input-22-9ac2233748ea>\u001B[0m in \u001B[0;36m<module>\u001B[0;34m\u001B[0m\n\u001B[0;32m----> 1\u001B[0;31m \u001B[0mfinal\u001B[0m\u001B[0;34m[\u001B[0m\u001B[0;34m'mergeHere'\u001B[0m\u001B[0;34m]\u001B[0m \u001B[0;34m=\u001B[0m \u001B[0mfinal\u001B[0m\u001B[0;34m.\u001B[0m\u001B[0mImageName\u001B[0m\u001B[0;34m.\u001B[0m\u001B[0mastype\u001B[0m\u001B[0;34m(\u001B[0m\u001B[0mstr\u001B[0m\u001B[0;34m)\u001B[0m\u001B[0;34m.\u001B[0m\u001B[0mstr\u001B[0m\u001B[0;34m[\u001B[0m\u001B[0;34m:\u001B[0m\u001B[0;36m2\u001B[0m\u001B[0;34m]\u001B[0m\u001B[0;34m.\u001B[0m\u001B[0mastype\u001B[0m\u001B[0;34m(\u001B[0m\u001B[0mint\u001B[0m\u001B[0;34m)\u001B[0m\u001B[0;34m\u001B[0m\u001B[0;34m\u001B[0m\u001B[0m\n\u001B[0m",
      "\u001B[0;31mNameError\u001B[0m: name 'final' is not defined"
     ]
    }
   ],
   "source": [
    "final['mergeHere'] = final.ImageName.astype(str).str[:2].astype(int)"
   ],
   "metadata": {
    "collapsed": false,
    "pycharm": {
     "name": "#%%\n"
    }
   }
  }
 ],
 "metadata": {
  "kernelspec": {
   "display_name": "Python 3",
   "language": "python",
   "name": "python3"
  },
  "language_info": {
   "codemirror_mode": {
    "name": "ipython",
    "version": 3
   },
   "file_extension": ".py",
   "mimetype": "text/x-python",
   "name": "python",
   "nbconvert_exporter": "python",
   "pygments_lexer": "ipython3",
   "version": "3.8.8"
  }
 },
 "nbformat": 4,
 "nbformat_minor": 5
}