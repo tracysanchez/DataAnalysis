{
 "cells": [
  {
   "cell_type": "markdown",
   "id": "fff23ef0-92ba-4623-8651-643ceb400879",
   "metadata": {},
   "source": [
    "## Correcting coordinates\n",
    "Since some of the coordinates from Unity were not accurate, they were recalculated and will now be mapped on the final data frame."
   ]
  },
  {
   "cell_type": "code",
   "execution_count": null,
   "id": "9dfd57df-255b-4a5b-9c09-1338783ec0d5",
   "metadata": {},
   "outputs": [],
   "source": [
    "import os\n",
    "import re\n",
    "import glob\n",
    "import pandas as pd\n",
    "import numpy as np\n",
    "import warnings\n",
    "import math\n",
    "warnings.simplefilter(action='ignore', category=FutureWarning)"
   ]
  },
  {
   "cell_type": "markdown",
   "id": "c80c5e4e-f78c-427f-bd52-0fcb54f500c4",
   "metadata": {},
   "source": [
    "### Load corrected coordinates (built on script CoordinatesJasons)"
   ]
  },
  {
   "cell_type": "code",
   "execution_count": null,
   "id": "60c0ca95-ff46-40d9-8bf5-82dec18be7e0",
   "metadata": {},
   "outputs": [],
   "source": [
    "CorrectedCoordinates = pd.read_csv('/Users/tracysanchezpacheco/Documents/BuildingCoordinatesr.csv')\n",
    "CorrectedCoordinates.head()"
   ]
  },
  {
   "cell_type": "markdown",
   "id": "92a25efc-2789-4a40-b31f-7eed9b8621f6",
   "metadata": {},
   "source": [
    "### Reading the participants data from the participants data reconstruction pipeline "
   ]
  },
  {
   "cell_type": "code",
   "execution_count": null,
   "id": "c9b545b8-79bb-495f-804a-cf3c92cc7dee",
   "metadata": {},
   "outputs": [],
   "source": [
    "PointingTask = pd.read_csv('/Users/tracysanchezpacheco/Documents/PointingTask.csv')"
   ]
  },
  {
   "cell_type": "code",
   "execution_count": null,
   "id": "f2e01cb2-1fe9-448c-9d77-402711c856bb",
   "metadata": {},
   "outputs": [],
   "source": [
    "PointingTask.head()"
   ]
  },
  {
   "cell_type": "code",
   "execution_count": null,
   "id": "52e64466-58fb-43ef-b530-c1a800585f31",
   "metadata": {},
   "outputs": [],
   "source": [
    "#Merging the updated set of coordinates from new list with final participant data set\n",
    "CoordinatesIntegrated = pd.merge(final1, CorrectedCoordinates, \n",
    "                                 left_on= 'ImageIndexNumber' ,\n",
    "                                 right_on='PointingTargetIndex')\n",
    "CoordinatesIntegrated[CoordinatesIntegrated['ImageIndexNumber']==0]"
   ]
  },
  {
   "cell_type": "code",
   "execution_count": null,
   "id": "37337468-6833-4356-b7ce-0e3fd8066bd5",
   "metadata": {},
   "outputs": [],
   "source": [
    "CoordinatesIntegrated.drop(['Unnamed: 0'],axis = 1, inplace=True)\n",
    "CoordinatesIntegrated.columns"
   ]
  },
  {
   "cell_type": "code",
   "execution_count": null,
   "id": "a9851172-3da9-47b4-856f-47d785bb6305",
   "metadata": {},
   "outputs": [],
   "source": [
    "check =pd.DataFrame()\n",
    "check['PointingTargetIndex']= CorrectedCoordinates['PointingTargetIndex']\n",
    "check['Trials']= final['Trials']\n",
    "check.tail()"
   ]
  },
  {
   "cell_type": "code",
   "execution_count": null,
   "id": "f56ba8c5-4fca-440d-9358-60341535c203",
   "metadata": {},
   "outputs": [],
   "source": [
    "CoordinatesIntegrated = CoordinatesIntegrated[['SubjectID',\n",
    "                                               'ParticipantPosition_x', 'ParticipantPosition_z', 'PointerPosition_x','PointerPosition_z', 'PointerDirection_x', 'PointerDirection_y', 'PointerDirection_z', 'Angle',\n",
    "                                               'BuildingPositionGlobal_z','BuildingCenterWorld_z', 'BuildingCenterWorld_x','BuildingPositionGlobal_x', 'BuildingPositionGlobal_y','BuildingPositionGlobal_z', 'DistanceToParticipant',\n",
    "                                               'PointingTaskStartingLocations','PointingTargetId', 'PointingTargetIndex', 'PointingTargetName', 'PointingTargetBuildingId',\n",
    "                                               'StartPointID','PointingTargetCondition', 'Context', 'Agent', 'avatarID','AvatarPresence', 'AvatarPresenceCategory', 'meaningful','meaningfulBuilding',\n",
    "                                               'Trials', 'TrialID', 'ImageName',\n",
    "                                               'TimeDelta','RT', 'TimeOut', 'TimeStampBegin', 'TimeStampEnd']]"
   ]
  },
  {
   "cell_type": "code",
   "execution_count": null,
   "id": "82cbb607-d842-4615-b7e1-155a6fd86aec",
   "metadata": {},
   "outputs": [],
   "source": [
    "CoordinatesIntegrated.head()"
   ]
  }
 ],
 "metadata": {
  "kernelspec": {
   "display_name": "Python 3",
   "language": "python",
   "name": "python3"
  },
  "language_info": {
   "codemirror_mode": {
    "name": "ipython",
    "version": 3
   },
   "file_extension": ".py",
   "mimetype": "text/x-python",
   "name": "python",
   "nbconvert_exporter": "python",
   "pygments_lexer": "ipython3",
   "version": "3.8.8"
  }
 },
 "nbformat": 4,
 "nbformat_minor": 5
}
