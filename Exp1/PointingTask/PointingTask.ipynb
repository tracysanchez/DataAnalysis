{
 "cells": [
  {
   "cell_type": "markdown",
   "id": "4d3ae0a4",
   "metadata": {},
   "source": [
    "# Pointing Task"
   ]
  },
  {
   "cell_type": "code",
   "execution_count": 1,
   "id": "894f588c",
   "metadata": {},
   "outputs": [],
   "source": [
    "import pandas as pd\n",
    "import numpy as np\n",
    "import seaborn as sns\n",
    "import matplotlib.pyplot as plt\n",
    "import math\n",
    "import re\n",
    "from scipy.spatial import distance\n",
    "import dexplot as dxp\n",
    "import glob\n",
    "import os"
   ]
  },
  {
   "cell_type": "markdown",
   "id": "ca63536d",
   "metadata": {},
   "source": [
    "## Loading data "
   ]
  },
  {
   "cell_type": "code",
   "execution_count": 2,
   "id": "d0602a3f",
   "metadata": {},
   "outputs": [
    {
     "data": {
      "text/plain": "'/Users/tracysanchezpacheco/Documents'"
     },
     "execution_count": 2,
     "metadata": {},
     "output_type": "execute_result"
    }
   ],
   "source": [
    "# Added cell to set Working Directory to your location\n",
    "os.chdir('/Users/tracysanchezpacheco/Documents/')\n",
    "os.getcwd()"
   ]
  },
  {
   "cell_type": "code",
   "execution_count": 3,
   "id": "5973e1ff",
   "metadata": {},
   "outputs": [],
   "source": [
    "# specify data folder\n",
    "# with wildcard for every file with a certain name\n",
    "path = \"Final/*.json\""
   ]
  },
  {
   "cell_type": "code",
   "execution_count": 4,
   "id": "fb116fd6",
   "metadata": {},
   "outputs": [
    {
     "name": "stdout",
     "output_type": "stream",
     "text": [
      "[]\n"
     ]
    }
   ],
   "source": [
    "## Extracting all subject IDs from the data folder\n",
    "subIDs = []\n",
    "for sub in glob.glob(path):\n",
    "    if sub[15].isdigit():\n",
    "        subIDs.append(int(sub[15:19]))\n",
    "    else:\n",
    "        pass\n",
    "subIDs = np.unique(subIDs)\n",
    "print(subIDs)"
   ]
  },
  {
   "cell_type": "code",
   "execution_count": 5,
   "id": "82b4dc31",
   "metadata": {},
   "outputs": [
    {
     "data": {
      "text/plain": "      SubjectID  TrialNumber  ImageIndexNumber ImageName  TimeOut  \\\n0          9502            1                 8    05_CmA    False   \n1          9502            2                93   47_SaNo    False   \n2          9502            3                76     39_Sa    False   \n3          9502            4                46    24_CmA    False   \n4          9502            5                56     29_Sa    False   \n...         ...          ...               ...       ...      ...   \n6043        365          332                 7  04_CmANo    False   \n6044        365          333                51  26_CmANo    False   \n6045        365          334                19  10_CmANo    False   \n6046        365          335                45  23_CmANo    False   \n6047        365          336                52    27_CmA    False   \n\n                    TimeStampBegin                  TimeStampEnd         RT  \\\n0    2022-01-19 09:48:26.554751744 2022-01-19 09:48:44.418413568  17.863662   \n1    2022-01-19 09:48:44.685265664 2022-01-19 09:49:01.546499840  16.861234   \n2    2022-01-19 09:49:01.812859904 2022-01-19 09:49:13.701626368  11.888766   \n3    2022-01-19 09:49:13.973439488 2022-01-19 09:49:19.097182464   5.123743   \n4    2022-01-19 09:49:19.368497920 2022-01-19 09:49:37.969225472  18.600728   \n...                            ...                           ...        ...   \n6043 2021-11-18 11:11:33.002092800 2021-11-18 11:11:35.149771008   2.147678   \n6044 2021-11-18 11:11:35.426538752 2021-11-18 11:11:37.393674496   1.967136   \n6045 2021-11-18 11:11:37.672426752 2021-11-18 11:11:39.195643904   1.523217   \n6046 2021-11-18 11:11:39.475385088 2021-11-18 11:11:44.734966272   5.259581   \n6047 2021-11-18 11:11:45.003302912 2021-11-18 11:11:50.321906688   5.318604   \n\n           Angle  TriggerPressedFreq  ...  \\\n0      40.437199                   2  ...   \n1     120.685226                   2  ...   \n2     121.014168                   2  ...   \n3     125.008446                   2  ...   \n4       0.138476                   2  ...   \n...          ...                 ...  ...   \n6043   54.931797                   2  ...   \n6044   44.949802                   2  ...   \n6045  116.567482                   2  ...   \n6046   39.491604                   2  ...   \n6047   12.379703                   2  ...   \n\n                                        PointerPosition  \\\n0     {'x': 118.23081970214844, 'y': -1.350625514984...   \n1     {'x': 118.65898895263672, 'y': -1.376985669136...   \n2     {'x': 117.97553253173828, 'y': -1.426169872283...   \n3     {'x': 117.92505645751953, 'y': -1.392626166343...   \n4     {'x': 117.97706604003906, 'y': -1.401260852813...   \n...                                                 ...   \n6043  {'x': -326.48236083984375, 'y': 3.822918176651...   \n6044  {'x': -326.5516357421875, 'y': 3.8300259113311...   \n6045  {'x': -326.52154541015625, 'y': 3.830097436904...   \n6046  {'x': -326.4957275390625, 'y': 3.7955143451690...   \n6047  {'x': -326.71087646484375, 'y': 3.870374441146...   \n\n                                        PointerRotation  \\\n0     {'x': 357.6038513183594, 'y': 321.033660888671...   \n1     {'x': 0.244551584124565, 'y': 123.902748107910...   \n2     {'x': 1.165244102478027, 'y': 229.784042358398...   \n3     {'x': 358.65802001953125, 'y': 290.02307128906...   \n4     {'x': 1.144634366035461, 'y': 230.53076171875,...   \n...                                                 ...   \n6043  {'x': 356.91522216796875, 'y': 45.651470184326...   \n6044  {'x': 351.8089294433594, 'y': 62.2749938964843...   \n6045  {'x': 350.3485412597656, 'y': 54.5383148193359...   \n6046  {'x': 356.9952697753906, 'y': 89.2608032226562...   \n6047  {'x': 353.94854736328125, 'y': 187.46244812011...   \n\n                              PointerRotationQuaternion  \\\n0     {'x': -0.033457286655902, 'y': -0.332359403371...   \n1     {'x': -0.004838359542191, 'y': 0.8825341463088...   \n2     {'x': -0.314511060714721, 'y': -0.850794494152...   \n3     {'x': 0.026874465867877003, 'y': -0.5728224515...   \n4     {'x': -0.128414317965507, 'y': -0.895141482353...   \n...                                                 ...   \n6043  {'x': 0.07049431651830601, 'y': 0.382133960723...   \n6044  {'x': 0.057768866419792, 'y': 0.51616042852401...   \n6045  {'x': 0.026073658838868002, 'y': 0.46189478039...   \n6046  {'x': -0.071398220956325, 'y': 0.6988996267318...   \n6047  {'x': 0.17818260192871002, 'y': -0.98043537139...   \n\n                                       PointerDirection TargetBuildingName  \\\n0     {'x': -0.6283138990402221, 'y': 0.041808746755...    Construction_57   \n1     {'x': 0.829977929592132, 'y': -0.0042682173661...    TaskBuilding_36   \n2     {'x': -0.7634582519531251, 'y': -0.02033594250...    TaskBuilding_24   \n3     {'x': -0.939297199249267, 'y': 0.0234198942780...    TaskBuilding_13   \n4     {'x': -0.7718119025230401, 'y': -0.01997631043...     TaskBuilding_4   \n...                                                 ...                ...   \n6043  {'x': 0.7140647768974301, 'y': 0.0538134872913...    TaskBuilding_47   \n6044  {'x': 0.8761603832244871, 'y': 0.1424744576215...    TaskBuilding_21   \n6045  {'x': 0.802975058555603, 'y': 0.16765442490577...     TaskBuilding_8   \n6046  {'x': 0.998542189598083, 'y': 0.05241816490888...    TaskBuilding_32   \n6047  {'x': -0.129152849316596, 'y': 0.1054213792085...           Crane_59   \n\n                                 TargetBuildingPosition  \\\n0     {'x': -71.80340576171875, 'y': 0.5511384606361...   \n1     {'x': -52.68944549560547, 'y': -3.524444580078...   \n2     {'x': 109.38978576660156, 'y': -1.843081474304...   \n3     {'x': 293.9781188964844, 'y': -1.6604042053222...   \n4     {'x': 45.866539001464844, 'y': -4.682556152343...   \n...                                                 ...   \n6043  {'x': -189.70550537109375, 'y': 2.215898513793...   \n6044  {'x': 151.60597229003906, 'y': -5.046661376953...   \n6045  {'x': -311.34130859375, 'y': 1.271652221679687...   \n6046  {'x': -3.306353569030761, 'y': -6.045349121093...   \n6047  {'x': -313.49945068359375, 'y': 1.614944458007...   \n\n                                 TargetBuildingRotation  \\\n0     {'x': -0.638303041458129, 'y': -0.304252058267...   \n1     {'x': 0.0, 'y': 0.9373086690902711, 'z': -1.49...   \n2     {'x': 0.0, 'y': 0.41718846559524503, 'z': -8.9...   \n3     {'x': -8.940696716308594e-08, 'y': 0.809439539...   \n4              {'x': 0.0, 'y': 0.0, 'z': 0.0, 'w': 1.0}   \n...                                                 ...   \n6043  {'x': -0.65238744020462, 'y': -0.2727466523647...   \n6044  {'x': 0.0, 'y': -0.34445929527282704, 'z': 5.9...   \n6045  {'x': -0.503975987434387, 'y': 0.4959922432899...   \n6046  {'x': 0.0, 'y': -0.40766543149948103, 'z': 5.9...   \n6047  {'x': 0.0, 'y': 0.122096240520477, 'z': -2.980...   \n\n                                  TargetBuildingForward DistanceToParticipant  \\\n0     {'x': 1.4901161193847648e-07, 'y': 1.000000119...            193.552795   \n1     {'x': -0.6533048152923581, 'y': -2.79339758435...            189.633423   \n2     {'x': 0.7582983970642091, 'y': -7.459911444129...             53.742500   \n3     {'x': -0.9506110548973081, 'y': -3.94478263388...            214.571426   \n4                        {'x': 0.0, 'y': 0.0, 'z': 1.0}             93.917465   \n...                                                 ...                   ...   \n6043  {'x': -2.9802322387695312e-08, 'y': 1.0, 'z': ...            139.473969   \n6044  {'x': -0.6467576026916501, 'y': -4.10627478686...            500.991364   \n6045  {'x': -2.086162567138672e-07, 'y': 0.999999880...             98.715668   \n6046  {'x': -0.7445042729377741, 'y': -4.85975064634...            415.051086   \n6047  {'x': 0.242365509271621, 'y': -7.2775030446337...            155.011719   \n\n                                      PointedDirections  \n0     [{'x': -0.6283138990402221, 'y': 0.04180874675...  \n1     [{'x': 0.829977929592132, 'y': -0.004268217366...  \n2     [{'x': -0.7634582519531251, 'y': -0.0203359425...  \n3     [{'x': -0.939297199249267, 'y': 0.023419894278...  \n4     [{'x': -0.7718119025230401, 'y': -0.0199763104...  \n...                                                 ...  \n6043  [{'x': 0.7140647768974301, 'y': 0.053813487291...  \n6044  [{'x': 0.8761603832244871, 'y': 0.142474457621...  \n6045  [{'x': 0.802975058555603, 'y': 0.1676544249057...  \n6046  [{'x': 0.998542189598083, 'y': 0.0524181649088...  \n6047  [{'x': -0.129152849316596, 'y': 0.105421379208...  \n\n[6048 rows x 28 columns]",
      "text/html": "<div>\n<style scoped>\n    .dataframe tbody tr th:only-of-type {\n        vertical-align: middle;\n    }\n\n    .dataframe tbody tr th {\n        vertical-align: top;\n    }\n\n    .dataframe thead th {\n        text-align: right;\n    }\n</style>\n<table border=\"1\" class=\"dataframe\">\n  <thead>\n    <tr style=\"text-align: right;\">\n      <th></th>\n      <th>SubjectID</th>\n      <th>TrialNumber</th>\n      <th>ImageIndexNumber</th>\n      <th>ImageName</th>\n      <th>TimeOut</th>\n      <th>TimeStampBegin</th>\n      <th>TimeStampEnd</th>\n      <th>RT</th>\n      <th>Angle</th>\n      <th>TriggerPressedFreq</th>\n      <th>...</th>\n      <th>PointerPosition</th>\n      <th>PointerRotation</th>\n      <th>PointerRotationQuaternion</th>\n      <th>PointerDirection</th>\n      <th>TargetBuildingName</th>\n      <th>TargetBuildingPosition</th>\n      <th>TargetBuildingRotation</th>\n      <th>TargetBuildingForward</th>\n      <th>DistanceToParticipant</th>\n      <th>PointedDirections</th>\n    </tr>\n  </thead>\n  <tbody>\n    <tr>\n      <th>0</th>\n      <td>9502</td>\n      <td>1</td>\n      <td>8</td>\n      <td>05_CmA</td>\n      <td>False</td>\n      <td>2022-01-19 09:48:26.554751744</td>\n      <td>2022-01-19 09:48:44.418413568</td>\n      <td>17.863662</td>\n      <td>40.437199</td>\n      <td>2</td>\n      <td>...</td>\n      <td>{'x': 118.23081970214844, 'y': -1.350625514984...</td>\n      <td>{'x': 357.6038513183594, 'y': 321.033660888671...</td>\n      <td>{'x': -0.033457286655902, 'y': -0.332359403371...</td>\n      <td>{'x': -0.6283138990402221, 'y': 0.041808746755...</td>\n      <td>Construction_57</td>\n      <td>{'x': -71.80340576171875, 'y': 0.5511384606361...</td>\n      <td>{'x': -0.638303041458129, 'y': -0.304252058267...</td>\n      <td>{'x': 1.4901161193847648e-07, 'y': 1.000000119...</td>\n      <td>193.552795</td>\n      <td>[{'x': -0.6283138990402221, 'y': 0.04180874675...</td>\n    </tr>\n    <tr>\n      <th>1</th>\n      <td>9502</td>\n      <td>2</td>\n      <td>93</td>\n      <td>47_SaNo</td>\n      <td>False</td>\n      <td>2022-01-19 09:48:44.685265664</td>\n      <td>2022-01-19 09:49:01.546499840</td>\n      <td>16.861234</td>\n      <td>120.685226</td>\n      <td>2</td>\n      <td>...</td>\n      <td>{'x': 118.65898895263672, 'y': -1.376985669136...</td>\n      <td>{'x': 0.244551584124565, 'y': 123.902748107910...</td>\n      <td>{'x': -0.004838359542191, 'y': 0.8825341463088...</td>\n      <td>{'x': 0.829977929592132, 'y': -0.0042682173661...</td>\n      <td>TaskBuilding_36</td>\n      <td>{'x': -52.68944549560547, 'y': -3.524444580078...</td>\n      <td>{'x': 0.0, 'y': 0.9373086690902711, 'z': -1.49...</td>\n      <td>{'x': -0.6533048152923581, 'y': -2.79339758435...</td>\n      <td>189.633423</td>\n      <td>[{'x': 0.829977929592132, 'y': -0.004268217366...</td>\n    </tr>\n    <tr>\n      <th>2</th>\n      <td>9502</td>\n      <td>3</td>\n      <td>76</td>\n      <td>39_Sa</td>\n      <td>False</td>\n      <td>2022-01-19 09:49:01.812859904</td>\n      <td>2022-01-19 09:49:13.701626368</td>\n      <td>11.888766</td>\n      <td>121.014168</td>\n      <td>2</td>\n      <td>...</td>\n      <td>{'x': 117.97553253173828, 'y': -1.426169872283...</td>\n      <td>{'x': 1.165244102478027, 'y': 229.784042358398...</td>\n      <td>{'x': -0.314511060714721, 'y': -0.850794494152...</td>\n      <td>{'x': -0.7634582519531251, 'y': -0.02033594250...</td>\n      <td>TaskBuilding_24</td>\n      <td>{'x': 109.38978576660156, 'y': -1.843081474304...</td>\n      <td>{'x': 0.0, 'y': 0.41718846559524503, 'z': -8.9...</td>\n      <td>{'x': 0.7582983970642091, 'y': -7.459911444129...</td>\n      <td>53.742500</td>\n      <td>[{'x': -0.7634582519531251, 'y': -0.0203359425...</td>\n    </tr>\n    <tr>\n      <th>3</th>\n      <td>9502</td>\n      <td>4</td>\n      <td>46</td>\n      <td>24_CmA</td>\n      <td>False</td>\n      <td>2022-01-19 09:49:13.973439488</td>\n      <td>2022-01-19 09:49:19.097182464</td>\n      <td>5.123743</td>\n      <td>125.008446</td>\n      <td>2</td>\n      <td>...</td>\n      <td>{'x': 117.92505645751953, 'y': -1.392626166343...</td>\n      <td>{'x': 358.65802001953125, 'y': 290.02307128906...</td>\n      <td>{'x': 0.026874465867877003, 'y': -0.5728224515...</td>\n      <td>{'x': -0.939297199249267, 'y': 0.0234198942780...</td>\n      <td>TaskBuilding_13</td>\n      <td>{'x': 293.9781188964844, 'y': -1.6604042053222...</td>\n      <td>{'x': -8.940696716308594e-08, 'y': 0.809439539...</td>\n      <td>{'x': -0.9506110548973081, 'y': -3.94478263388...</td>\n      <td>214.571426</td>\n      <td>[{'x': -0.939297199249267, 'y': 0.023419894278...</td>\n    </tr>\n    <tr>\n      <th>4</th>\n      <td>9502</td>\n      <td>5</td>\n      <td>56</td>\n      <td>29_Sa</td>\n      <td>False</td>\n      <td>2022-01-19 09:49:19.368497920</td>\n      <td>2022-01-19 09:49:37.969225472</td>\n      <td>18.600728</td>\n      <td>0.138476</td>\n      <td>2</td>\n      <td>...</td>\n      <td>{'x': 117.97706604003906, 'y': -1.401260852813...</td>\n      <td>{'x': 1.144634366035461, 'y': 230.53076171875,...</td>\n      <td>{'x': -0.128414317965507, 'y': -0.895141482353...</td>\n      <td>{'x': -0.7718119025230401, 'y': -0.01997631043...</td>\n      <td>TaskBuilding_4</td>\n      <td>{'x': 45.866539001464844, 'y': -4.682556152343...</td>\n      <td>{'x': 0.0, 'y': 0.0, 'z': 0.0, 'w': 1.0}</td>\n      <td>{'x': 0.0, 'y': 0.0, 'z': 1.0}</td>\n      <td>93.917465</td>\n      <td>[{'x': -0.7718119025230401, 'y': -0.0199763104...</td>\n    </tr>\n    <tr>\n      <th>...</th>\n      <td>...</td>\n      <td>...</td>\n      <td>...</td>\n      <td>...</td>\n      <td>...</td>\n      <td>...</td>\n      <td>...</td>\n      <td>...</td>\n      <td>...</td>\n      <td>...</td>\n      <td>...</td>\n      <td>...</td>\n      <td>...</td>\n      <td>...</td>\n      <td>...</td>\n      <td>...</td>\n      <td>...</td>\n      <td>...</td>\n      <td>...</td>\n      <td>...</td>\n      <td>...</td>\n    </tr>\n    <tr>\n      <th>6043</th>\n      <td>365</td>\n      <td>332</td>\n      <td>7</td>\n      <td>04_CmANo</td>\n      <td>False</td>\n      <td>2021-11-18 11:11:33.002092800</td>\n      <td>2021-11-18 11:11:35.149771008</td>\n      <td>2.147678</td>\n      <td>54.931797</td>\n      <td>2</td>\n      <td>...</td>\n      <td>{'x': -326.48236083984375, 'y': 3.822918176651...</td>\n      <td>{'x': 356.91522216796875, 'y': 45.651470184326...</td>\n      <td>{'x': 0.07049431651830601, 'y': 0.382133960723...</td>\n      <td>{'x': 0.7140647768974301, 'y': 0.0538134872913...</td>\n      <td>TaskBuilding_47</td>\n      <td>{'x': -189.70550537109375, 'y': 2.215898513793...</td>\n      <td>{'x': -0.65238744020462, 'y': -0.2727466523647...</td>\n      <td>{'x': -2.9802322387695312e-08, 'y': 1.0, 'z': ...</td>\n      <td>139.473969</td>\n      <td>[{'x': 0.7140647768974301, 'y': 0.053813487291...</td>\n    </tr>\n    <tr>\n      <th>6044</th>\n      <td>365</td>\n      <td>333</td>\n      <td>51</td>\n      <td>26_CmANo</td>\n      <td>False</td>\n      <td>2021-11-18 11:11:35.426538752</td>\n      <td>2021-11-18 11:11:37.393674496</td>\n      <td>1.967136</td>\n      <td>44.949802</td>\n      <td>2</td>\n      <td>...</td>\n      <td>{'x': -326.5516357421875, 'y': 3.8300259113311...</td>\n      <td>{'x': 351.8089294433594, 'y': 62.2749938964843...</td>\n      <td>{'x': 0.057768866419792, 'y': 0.51616042852401...</td>\n      <td>{'x': 0.8761603832244871, 'y': 0.1424744576215...</td>\n      <td>TaskBuilding_21</td>\n      <td>{'x': 151.60597229003906, 'y': -5.046661376953...</td>\n      <td>{'x': 0.0, 'y': -0.34445929527282704, 'z': 5.9...</td>\n      <td>{'x': -0.6467576026916501, 'y': -4.10627478686...</td>\n      <td>500.991364</td>\n      <td>[{'x': 0.8761603832244871, 'y': 0.142474457621...</td>\n    </tr>\n    <tr>\n      <th>6045</th>\n      <td>365</td>\n      <td>334</td>\n      <td>19</td>\n      <td>10_CmANo</td>\n      <td>False</td>\n      <td>2021-11-18 11:11:37.672426752</td>\n      <td>2021-11-18 11:11:39.195643904</td>\n      <td>1.523217</td>\n      <td>116.567482</td>\n      <td>2</td>\n      <td>...</td>\n      <td>{'x': -326.52154541015625, 'y': 3.830097436904...</td>\n      <td>{'x': 350.3485412597656, 'y': 54.5383148193359...</td>\n      <td>{'x': 0.026073658838868002, 'y': 0.46189478039...</td>\n      <td>{'x': 0.802975058555603, 'y': 0.16765442490577...</td>\n      <td>TaskBuilding_8</td>\n      <td>{'x': -311.34130859375, 'y': 1.271652221679687...</td>\n      <td>{'x': -0.503975987434387, 'y': 0.4959922432899...</td>\n      <td>{'x': -2.086162567138672e-07, 'y': 0.999999880...</td>\n      <td>98.715668</td>\n      <td>[{'x': 0.802975058555603, 'y': 0.1676544249057...</td>\n    </tr>\n    <tr>\n      <th>6046</th>\n      <td>365</td>\n      <td>335</td>\n      <td>45</td>\n      <td>23_CmANo</td>\n      <td>False</td>\n      <td>2021-11-18 11:11:39.475385088</td>\n      <td>2021-11-18 11:11:44.734966272</td>\n      <td>5.259581</td>\n      <td>39.491604</td>\n      <td>2</td>\n      <td>...</td>\n      <td>{'x': -326.4957275390625, 'y': 3.7955143451690...</td>\n      <td>{'x': 356.9952697753906, 'y': 89.2608032226562...</td>\n      <td>{'x': -0.071398220956325, 'y': 0.6988996267318...</td>\n      <td>{'x': 0.998542189598083, 'y': 0.05241816490888...</td>\n      <td>TaskBuilding_32</td>\n      <td>{'x': -3.306353569030761, 'y': -6.045349121093...</td>\n      <td>{'x': 0.0, 'y': -0.40766543149948103, 'z': 5.9...</td>\n      <td>{'x': -0.7445042729377741, 'y': -4.85975064634...</td>\n      <td>415.051086</td>\n      <td>[{'x': 0.998542189598083, 'y': 0.0524181649088...</td>\n    </tr>\n    <tr>\n      <th>6047</th>\n      <td>365</td>\n      <td>336</td>\n      <td>52</td>\n      <td>27_CmA</td>\n      <td>False</td>\n      <td>2021-11-18 11:11:45.003302912</td>\n      <td>2021-11-18 11:11:50.321906688</td>\n      <td>5.318604</td>\n      <td>12.379703</td>\n      <td>2</td>\n      <td>...</td>\n      <td>{'x': -326.71087646484375, 'y': 3.870374441146...</td>\n      <td>{'x': 353.94854736328125, 'y': 187.46244812011...</td>\n      <td>{'x': 0.17818260192871002, 'y': -0.98043537139...</td>\n      <td>{'x': -0.129152849316596, 'y': 0.1054213792085...</td>\n      <td>Crane_59</td>\n      <td>{'x': -313.49945068359375, 'y': 1.614944458007...</td>\n      <td>{'x': 0.0, 'y': 0.122096240520477, 'z': -2.980...</td>\n      <td>{'x': 0.242365509271621, 'y': -7.2775030446337...</td>\n      <td>155.011719</td>\n      <td>[{'x': -0.129152849316596, 'y': 0.105421379208...</td>\n    </tr>\n  </tbody>\n</table>\n<p>6048 rows × 28 columns</p>\n</div>"
     },
     "execution_count": 5,
     "metadata": {},
     "output_type": "execute_result"
    }
   ],
   "source": [
    "# create empty dataframe\n",
    "df = pd.DataFrame()\n",
    "\n",
    "# read every file name in folder\n",
    "for filename in glob.glob(path):\n",
    "    with open(filename, 'r') as file:\n",
    "        # make json files parsable\n",
    "        data = \"[\" + file.read()\n",
    "        data = data[:len(data)-2] + \"]\"\n",
    "        \n",
    "        # read data per file\n",
    "        subjectdf = pd.read_json(data)\n",
    "\n",
    "        # insert participant id in every line\n",
    "        subjectdf.insert(0, \"SubjectID\", [int(filename[6:10])] * subjectdf.shape[0], True)\n",
    "        df = df.append(subjectdf, ignore_index=True)\n",
    "df"
   ]
  },
  {
   "cell_type": "markdown",
   "id": "6c4df4a5",
   "metadata": {},
   "source": [
    "## Data Wrangling "
   ]
  },
  {
   "cell_type": "markdown",
   "id": "6de915b5",
   "metadata": {},
   "source": [
    "### Avatar Categoricals \n",
    "\n",
    "In this section the variable `'ImageName'` will be desagrated into categorical variables tha provide information about the presence and nature of avatars in the trial. \n",
    "\n",
    "  \n",
    "  - ` extraRow ` funtion that creates a new variable that contains matching data from preexiting variable\n",
    "  - `'AvatarPresence'` variable that shows if the trial image contained an Avatar\n",
    "  - `'AvatarCategory'` variable that shows if the trial asked to point to a location that originaly had an Action or Standing Avatar \n",
    "  - ` 'avatarIDsf' ` variable that shows the ID of the Avatar placed on the location to which the participant has to point\n",
    "   "
   ]
  },
  {
   "cell_type": "code",
   "execution_count": 6,
   "id": "b527390c",
   "metadata": {},
   "outputs": [],
   "source": [
    "def extraRow(df,yourlist,variable,newVariable):\n",
    "    '''Creates a new variable that contains matching data from preexiting variable\n",
    "    \n",
    "Parameters\n",
    "-------------\n",
    "     \n",
    "     df: your data frame,\n",
    "     yourlist: List of values you want to target for the partial match search\n",
    "     variable: Variable that may cointain the elements on yourlist\n",
    "     newvariable: Name for  New Variable \n",
    "     \n",
    "returns \n",
    "----------\n",
    "\n",
    "    DataFrame\n",
    "     '''\n",
    "    for idx, row in df.iterrows():\n",
    "        for l in yourlist:\n",
    "            if l in row[variable]:\n",
    "                df.loc[idx, newVariable] = l\n",
    "                "
   ]
  },
  {
   "cell_type": "code",
   "execution_count": 7,
   "id": "14680541",
   "metadata": {},
   "outputs": [],
   "source": [
    "#Extracting the Avatar number from the variable 'ImageName'\n",
    "AvaIDs = []\n",
    "for idx, row in df.iterrows():\n",
    "    num = re.findall(r'\\d+', row['ImageName']) \n",
    "    AvaIDs.append(num)\n",
    "    #Flatten the list: Every number was returned as a list of it's own with this we get one unified list\n",
    "    avatarIDsf = [item for sublist in AvaIDs for item in sublist]\n"
   ]
  },
  {
   "cell_type": "code",
   "execution_count": 8,
   "id": "77a68938",
   "metadata": {},
   "outputs": [
    {
     "ename": "KeyboardInterrupt",
     "evalue": "",
     "output_type": "error",
     "traceback": [
      "\u001B[0;31m---------------------------------------------------------------------------\u001B[0m",
      "\u001B[0;31mKeyboardInterrupt\u001B[0m                         Traceback (most recent call last)",
      "\u001B[0;32m<ipython-input-8-dec5e0a47510>\u001B[0m in \u001B[0;36m<module>\u001B[0;34m\u001B[0m\n\u001B[1;32m      1\u001B[0m \u001B[0;31m#Searching for a partial string contained in the lists \"AvatarIDsf\" in variable \"ImageName\" to creat a new variable \"AvatarID\"\u001B[0m\u001B[0;34m\u001B[0m\u001B[0;34m\u001B[0m\u001B[0;34m\u001B[0m\u001B[0m\n\u001B[0;32m----> 2\u001B[0;31m \u001B[0mextraRow\u001B[0m\u001B[0;34m(\u001B[0m\u001B[0mdf\u001B[0m\u001B[0;34m,\u001B[0m\u001B[0mavatarIDsf\u001B[0m\u001B[0;34m,\u001B[0m\u001B[0;34m'ImageName'\u001B[0m\u001B[0;34m,\u001B[0m\u001B[0;34m'avatarID'\u001B[0m\u001B[0;34m)\u001B[0m\u001B[0;34m\u001B[0m\u001B[0;34m\u001B[0m\u001B[0m\n\u001B[0m\u001B[1;32m      3\u001B[0m \u001B[0mdf\u001B[0m\u001B[0;34m.\u001B[0m\u001B[0mhead\u001B[0m\u001B[0;34m(\u001B[0m\u001B[0;34m)\u001B[0m\u001B[0;34m\u001B[0m\u001B[0;34m\u001B[0m\u001B[0m\n",
      "\u001B[0;32m<ipython-input-6-ebb920ef893d>\u001B[0m in \u001B[0;36mextraRow\u001B[0;34m(df, yourlist, variable, newVariable)\u001B[0m\n\u001B[1;32m     18\u001B[0m         \u001B[0;32mfor\u001B[0m \u001B[0ml\u001B[0m \u001B[0;32min\u001B[0m \u001B[0myourlist\u001B[0m\u001B[0;34m:\u001B[0m\u001B[0;34m\u001B[0m\u001B[0;34m\u001B[0m\u001B[0m\n\u001B[1;32m     19\u001B[0m             \u001B[0;32mif\u001B[0m \u001B[0ml\u001B[0m \u001B[0;32min\u001B[0m \u001B[0mrow\u001B[0m\u001B[0;34m[\u001B[0m\u001B[0mvariable\u001B[0m\u001B[0;34m]\u001B[0m\u001B[0;34m:\u001B[0m\u001B[0;34m\u001B[0m\u001B[0;34m\u001B[0m\u001B[0m\n\u001B[0;32m---> 20\u001B[0;31m                 \u001B[0mdf\u001B[0m\u001B[0;34m.\u001B[0m\u001B[0mloc\u001B[0m\u001B[0;34m[\u001B[0m\u001B[0midx\u001B[0m\u001B[0;34m,\u001B[0m \u001B[0mnewVariable\u001B[0m\u001B[0;34m]\u001B[0m \u001B[0;34m=\u001B[0m \u001B[0ml\u001B[0m\u001B[0;34m\u001B[0m\u001B[0;34m\u001B[0m\u001B[0m\n\u001B[0m\u001B[1;32m     21\u001B[0m \u001B[0;34m\u001B[0m\u001B[0m\n",
      "\u001B[0;32m~/opt/anaconda3/lib/python3.8/site-packages/pandas/core/indexing.py\u001B[0m in \u001B[0;36m__setitem__\u001B[0;34m(self, key, value)\u001B[0m\n\u001B[1;32m    690\u001B[0m \u001B[0;34m\u001B[0m\u001B[0m\n\u001B[1;32m    691\u001B[0m         \u001B[0miloc\u001B[0m \u001B[0;34m=\u001B[0m \u001B[0mself\u001B[0m \u001B[0;32mif\u001B[0m \u001B[0mself\u001B[0m\u001B[0;34m.\u001B[0m\u001B[0mname\u001B[0m \u001B[0;34m==\u001B[0m \u001B[0;34m\"iloc\"\u001B[0m \u001B[0;32melse\u001B[0m \u001B[0mself\u001B[0m\u001B[0;34m.\u001B[0m\u001B[0mobj\u001B[0m\u001B[0;34m.\u001B[0m\u001B[0miloc\u001B[0m\u001B[0;34m\u001B[0m\u001B[0;34m\u001B[0m\u001B[0m\n\u001B[0;32m--> 692\u001B[0;31m         \u001B[0miloc\u001B[0m\u001B[0;34m.\u001B[0m\u001B[0m_setitem_with_indexer\u001B[0m\u001B[0;34m(\u001B[0m\u001B[0mindexer\u001B[0m\u001B[0;34m,\u001B[0m \u001B[0mvalue\u001B[0m\u001B[0;34m,\u001B[0m \u001B[0mself\u001B[0m\u001B[0;34m.\u001B[0m\u001B[0mname\u001B[0m\u001B[0;34m)\u001B[0m\u001B[0;34m\u001B[0m\u001B[0;34m\u001B[0m\u001B[0m\n\u001B[0m\u001B[1;32m    693\u001B[0m \u001B[0;34m\u001B[0m\u001B[0m\n\u001B[1;32m    694\u001B[0m     \u001B[0;32mdef\u001B[0m \u001B[0m_validate_key\u001B[0m\u001B[0;34m(\u001B[0m\u001B[0mself\u001B[0m\u001B[0;34m,\u001B[0m \u001B[0mkey\u001B[0m\u001B[0;34m,\u001B[0m \u001B[0maxis\u001B[0m\u001B[0;34m:\u001B[0m \u001B[0mint\u001B[0m\u001B[0;34m)\u001B[0m\u001B[0;34m:\u001B[0m\u001B[0;34m\u001B[0m\u001B[0;34m\u001B[0m\u001B[0m\n",
      "\u001B[0;32m~/opt/anaconda3/lib/python3.8/site-packages/pandas/core/indexing.py\u001B[0m in \u001B[0;36m_setitem_with_indexer\u001B[0;34m(self, indexer, value, name)\u001B[0m\n\u001B[1;32m   1633\u001B[0m         \u001B[0;32mif\u001B[0m \u001B[0mtake_split_path\u001B[0m\u001B[0;34m:\u001B[0m\u001B[0;34m\u001B[0m\u001B[0;34m\u001B[0m\u001B[0m\n\u001B[1;32m   1634\u001B[0m             \u001B[0;31m# We have to operate column-wise\u001B[0m\u001B[0;34m\u001B[0m\u001B[0;34m\u001B[0m\u001B[0;34m\u001B[0m\u001B[0m\n\u001B[0;32m-> 1635\u001B[0;31m             \u001B[0mself\u001B[0m\u001B[0;34m.\u001B[0m\u001B[0m_setitem_with_indexer_split_path\u001B[0m\u001B[0;34m(\u001B[0m\u001B[0mindexer\u001B[0m\u001B[0;34m,\u001B[0m \u001B[0mvalue\u001B[0m\u001B[0;34m,\u001B[0m \u001B[0mname\u001B[0m\u001B[0;34m)\u001B[0m\u001B[0;34m\u001B[0m\u001B[0;34m\u001B[0m\u001B[0m\n\u001B[0m\u001B[1;32m   1636\u001B[0m         \u001B[0;32melse\u001B[0m\u001B[0;34m:\u001B[0m\u001B[0;34m\u001B[0m\u001B[0;34m\u001B[0m\u001B[0m\n\u001B[1;32m   1637\u001B[0m             \u001B[0mself\u001B[0m\u001B[0;34m.\u001B[0m\u001B[0m_setitem_single_block\u001B[0m\u001B[0;34m(\u001B[0m\u001B[0mindexer\u001B[0m\u001B[0;34m,\u001B[0m \u001B[0mvalue\u001B[0m\u001B[0;34m,\u001B[0m \u001B[0mname\u001B[0m\u001B[0;34m)\u001B[0m\u001B[0;34m\u001B[0m\u001B[0;34m\u001B[0m\u001B[0m\n",
      "\u001B[0;32m~/opt/anaconda3/lib/python3.8/site-packages/pandas/core/indexing.py\u001B[0m in \u001B[0;36m_setitem_with_indexer_split_path\u001B[0;34m(self, indexer, value, name)\u001B[0m\n\u001B[1;32m   1718\u001B[0m             \u001B[0;31m# scalar value\u001B[0m\u001B[0;34m\u001B[0m\u001B[0;34m\u001B[0m\u001B[0;34m\u001B[0m\u001B[0m\n\u001B[1;32m   1719\u001B[0m             \u001B[0;32mfor\u001B[0m \u001B[0mloc\u001B[0m \u001B[0;32min\u001B[0m \u001B[0milocs\u001B[0m\u001B[0;34m:\u001B[0m\u001B[0;34m\u001B[0m\u001B[0;34m\u001B[0m\u001B[0m\n\u001B[0;32m-> 1720\u001B[0;31m                 \u001B[0mself\u001B[0m\u001B[0;34m.\u001B[0m\u001B[0m_setitem_single_column\u001B[0m\u001B[0;34m(\u001B[0m\u001B[0mloc\u001B[0m\u001B[0;34m,\u001B[0m \u001B[0mvalue\u001B[0m\u001B[0;34m,\u001B[0m \u001B[0mpi\u001B[0m\u001B[0;34m)\u001B[0m\u001B[0;34m\u001B[0m\u001B[0;34m\u001B[0m\u001B[0m\n\u001B[0m\u001B[1;32m   1721\u001B[0m \u001B[0;34m\u001B[0m\u001B[0m\n\u001B[1;32m   1722\u001B[0m     \u001B[0;32mdef\u001B[0m \u001B[0m_setitem_with_indexer_2d_value\u001B[0m\u001B[0;34m(\u001B[0m\u001B[0mself\u001B[0m\u001B[0;34m,\u001B[0m \u001B[0mindexer\u001B[0m\u001B[0;34m,\u001B[0m \u001B[0mvalue\u001B[0m\u001B[0;34m)\u001B[0m\u001B[0;34m:\u001B[0m\u001B[0;34m\u001B[0m\u001B[0;34m\u001B[0m\u001B[0m\n",
      "\u001B[0;32m~/opt/anaconda3/lib/python3.8/site-packages/pandas/core/indexing.py\u001B[0m in \u001B[0;36m_setitem_single_column\u001B[0;34m(self, loc, value, plane_indexer)\u001B[0m\n\u001B[1;32m   1815\u001B[0m \u001B[0;34m\u001B[0m\u001B[0m\n\u001B[1;32m   1816\u001B[0m         \u001B[0;31m# reset the sliced object if unique\u001B[0m\u001B[0;34m\u001B[0m\u001B[0;34m\u001B[0m\u001B[0;34m\u001B[0m\u001B[0m\n\u001B[0;32m-> 1817\u001B[0;31m         \u001B[0mself\u001B[0m\u001B[0;34m.\u001B[0m\u001B[0mobj\u001B[0m\u001B[0;34m.\u001B[0m\u001B[0m_iset_item\u001B[0m\u001B[0;34m(\u001B[0m\u001B[0mloc\u001B[0m\u001B[0;34m,\u001B[0m \u001B[0mser\u001B[0m\u001B[0;34m)\u001B[0m\u001B[0;34m\u001B[0m\u001B[0;34m\u001B[0m\u001B[0m\n\u001B[0m\u001B[1;32m   1818\u001B[0m \u001B[0;34m\u001B[0m\u001B[0m\n\u001B[1;32m   1819\u001B[0m     \u001B[0;32mdef\u001B[0m \u001B[0m_setitem_single_block\u001B[0m\u001B[0;34m(\u001B[0m\u001B[0mself\u001B[0m\u001B[0;34m,\u001B[0m \u001B[0mindexer\u001B[0m\u001B[0;34m,\u001B[0m \u001B[0mvalue\u001B[0m\u001B[0;34m,\u001B[0m \u001B[0mname\u001B[0m\u001B[0;34m:\u001B[0m \u001B[0mstr\u001B[0m\u001B[0;34m)\u001B[0m\u001B[0;34m:\u001B[0m\u001B[0;34m\u001B[0m\u001B[0;34m\u001B[0m\u001B[0m\n",
      "\u001B[0;32m~/opt/anaconda3/lib/python3.8/site-packages/pandas/core/frame.py\u001B[0m in \u001B[0;36m_iset_item\u001B[0;34m(self, loc, value)\u001B[0m\n\u001B[1;32m   3221\u001B[0m         \u001B[0;31m#  but the behavior is the same as long as we pass broadcast=False\u001B[0m\u001B[0;34m\u001B[0m\u001B[0;34m\u001B[0m\u001B[0;34m\u001B[0m\u001B[0m\n\u001B[1;32m   3222\u001B[0m         \u001B[0mvalue\u001B[0m \u001B[0;34m=\u001B[0m \u001B[0mself\u001B[0m\u001B[0;34m.\u001B[0m\u001B[0m_sanitize_column\u001B[0m\u001B[0;34m(\u001B[0m\u001B[0mloc\u001B[0m\u001B[0;34m,\u001B[0m \u001B[0mvalue\u001B[0m\u001B[0;34m,\u001B[0m \u001B[0mbroadcast\u001B[0m\u001B[0;34m=\u001B[0m\u001B[0;32mFalse\u001B[0m\u001B[0;34m)\u001B[0m\u001B[0;34m\u001B[0m\u001B[0;34m\u001B[0m\u001B[0m\n\u001B[0;32m-> 3223\u001B[0;31m         \u001B[0mNDFrame\u001B[0m\u001B[0;34m.\u001B[0m\u001B[0m_iset_item\u001B[0m\u001B[0;34m(\u001B[0m\u001B[0mself\u001B[0m\u001B[0;34m,\u001B[0m \u001B[0mloc\u001B[0m\u001B[0;34m,\u001B[0m \u001B[0mvalue\u001B[0m\u001B[0;34m)\u001B[0m\u001B[0;34m\u001B[0m\u001B[0;34m\u001B[0m\u001B[0m\n\u001B[0m\u001B[1;32m   3224\u001B[0m \u001B[0;34m\u001B[0m\u001B[0m\n\u001B[1;32m   3225\u001B[0m         \u001B[0;31m# check if we are modifying a copy\u001B[0m\u001B[0;34m\u001B[0m\u001B[0;34m\u001B[0m\u001B[0;34m\u001B[0m\u001B[0m\n",
      "\u001B[0;32m~/opt/anaconda3/lib/python3.8/site-packages/pandas/core/generic.py\u001B[0m in \u001B[0;36m_iset_item\u001B[0;34m(self, loc, value)\u001B[0m\n\u001B[1;32m   3819\u001B[0m \u001B[0;34m\u001B[0m\u001B[0m\n\u001B[1;32m   3820\u001B[0m     \u001B[0;32mdef\u001B[0m \u001B[0m_iset_item\u001B[0m\u001B[0;34m(\u001B[0m\u001B[0mself\u001B[0m\u001B[0;34m,\u001B[0m \u001B[0mloc\u001B[0m\u001B[0;34m:\u001B[0m \u001B[0mint\u001B[0m\u001B[0;34m,\u001B[0m \u001B[0mvalue\u001B[0m\u001B[0;34m)\u001B[0m \u001B[0;34m->\u001B[0m \u001B[0;32mNone\u001B[0m\u001B[0;34m:\u001B[0m\u001B[0;34m\u001B[0m\u001B[0;34m\u001B[0m\u001B[0m\n\u001B[0;32m-> 3821\u001B[0;31m         \u001B[0mself\u001B[0m\u001B[0;34m.\u001B[0m\u001B[0m_mgr\u001B[0m\u001B[0;34m.\u001B[0m\u001B[0miset\u001B[0m\u001B[0;34m(\u001B[0m\u001B[0mloc\u001B[0m\u001B[0;34m,\u001B[0m \u001B[0mvalue\u001B[0m\u001B[0;34m)\u001B[0m\u001B[0;34m\u001B[0m\u001B[0;34m\u001B[0m\u001B[0m\n\u001B[0m\u001B[1;32m   3822\u001B[0m         \u001B[0mself\u001B[0m\u001B[0;34m.\u001B[0m\u001B[0m_clear_item_cache\u001B[0m\u001B[0;34m(\u001B[0m\u001B[0;34m)\u001B[0m\u001B[0;34m\u001B[0m\u001B[0;34m\u001B[0m\u001B[0m\n\u001B[1;32m   3823\u001B[0m \u001B[0;34m\u001B[0m\u001B[0m\n",
      "\u001B[0;32m~/opt/anaconda3/lib/python3.8/site-packages/pandas/core/internals/managers.py\u001B[0m in \u001B[0;36miset\u001B[0;34m(self, loc, value)\u001B[0m\n\u001B[1;32m   1098\u001B[0m \u001B[0;34m\u001B[0m\u001B[0m\n\u001B[1;32m   1099\u001B[0m         \u001B[0;31m# Accessing public blknos ensures the public versions are initialized\u001B[0m\u001B[0;34m\u001B[0m\u001B[0;34m\u001B[0m\u001B[0;34m\u001B[0m\u001B[0m\n\u001B[0;32m-> 1100\u001B[0;31m         \u001B[0mblknos\u001B[0m \u001B[0;34m=\u001B[0m \u001B[0mself\u001B[0m\u001B[0;34m.\u001B[0m\u001B[0mblknos\u001B[0m\u001B[0;34m[\u001B[0m\u001B[0mloc\u001B[0m\u001B[0;34m]\u001B[0m\u001B[0;34m\u001B[0m\u001B[0;34m\u001B[0m\u001B[0m\n\u001B[0m\u001B[1;32m   1101\u001B[0m         \u001B[0mblklocs\u001B[0m \u001B[0;34m=\u001B[0m \u001B[0mself\u001B[0m\u001B[0;34m.\u001B[0m\u001B[0mblklocs\u001B[0m\u001B[0;34m[\u001B[0m\u001B[0mloc\u001B[0m\u001B[0;34m]\u001B[0m\u001B[0;34m.\u001B[0m\u001B[0mcopy\u001B[0m\u001B[0;34m(\u001B[0m\u001B[0;34m)\u001B[0m\u001B[0;34m\u001B[0m\u001B[0;34m\u001B[0m\u001B[0m\n\u001B[1;32m   1102\u001B[0m \u001B[0;34m\u001B[0m\u001B[0m\n",
      "\u001B[0;32m~/opt/anaconda3/lib/python3.8/site-packages/pandas/core/internals/managers.py\u001B[0m in \u001B[0;36mblknos\u001B[0;34m(self)\u001B[0m\n\u001B[1;32m    165\u001B[0m         \u001B[0mself\u001B[0m\u001B[0;34m.\u001B[0m\u001B[0mblocks\u001B[0m\u001B[0;34m[\u001B[0m\u001B[0mself\u001B[0m\u001B[0;34m.\u001B[0m\u001B[0mblknos\u001B[0m\u001B[0;34m[\u001B[0m\u001B[0mi\u001B[0m\u001B[0;34m]\u001B[0m\u001B[0;34m]\u001B[0m\u001B[0;34m\u001B[0m\u001B[0;34m\u001B[0m\u001B[0m\n\u001B[1;32m    166\u001B[0m         \"\"\"\n\u001B[0;32m--> 167\u001B[0;31m         \u001B[0;32mif\u001B[0m \u001B[0mself\u001B[0m\u001B[0;34m.\u001B[0m\u001B[0m_blknos\u001B[0m \u001B[0;32mis\u001B[0m \u001B[0;32mNone\u001B[0m\u001B[0;34m:\u001B[0m\u001B[0;34m\u001B[0m\u001B[0;34m\u001B[0m\u001B[0m\n\u001B[0m\u001B[1;32m    168\u001B[0m             \u001B[0;31m# Note: these can be altered by other BlockManager methods.\u001B[0m\u001B[0;34m\u001B[0m\u001B[0;34m\u001B[0m\u001B[0;34m\u001B[0m\u001B[0m\n\u001B[1;32m    169\u001B[0m             \u001B[0mself\u001B[0m\u001B[0;34m.\u001B[0m\u001B[0m_rebuild_blknos_and_blklocs\u001B[0m\u001B[0;34m(\u001B[0m\u001B[0;34m)\u001B[0m\u001B[0;34m\u001B[0m\u001B[0;34m\u001B[0m\u001B[0m\n",
      "\u001B[0;31mKeyboardInterrupt\u001B[0m: "
     ]
    }
   ],
   "source": [
    "#Searching for a partial string contained in the lists \"AvatarIDsf\" in variable \"ImageName\" to creat a new variable \"AvatarID\"\n",
    "extraRow(df,avatarIDsf,'ImageName','avatarID')\n",
    "df.head()"
   ]
  },
  {
   "cell_type": "code",
   "execution_count": null,
   "id": "7193aa59",
   "metadata": {},
   "outputs": [],
   "source": [
    "df['AvatarPresence'] = df['ImageName'].str.contains('No')\n",
    "df.loc[:, 'AvatarPresenceCategory'] = df['AvatarPresence'].replace({True: 'NoAvatar', False: 'Avatar'})\n",
    "df.head()"
   ]
  },
  {
   "cell_type": "code",
   "execution_count": null,
   "id": "6ba101e3",
   "metadata": {},
   "outputs": [],
   "source": [
    "#Checking that value counts for Avatar presence [Should be 50/50]\n",
    "df.AvatarPresenceCategory.value_counts()"
   ]
  },
  {
   "cell_type": "code",
   "execution_count": null,
   "id": "2105870d",
   "metadata": {},
   "outputs": [],
   "source": [
    "df['meaningful'] = df['ImageName'].str.contains('CmA')\n",
    "df.loc[:, 'meaningfulBuilding'] = df['meaningful'].replace({True: 'Action', False: 'Standing'})\n",
    "df.head()"
   ]
  },
  {
   "cell_type": "code",
   "execution_count": null,
   "id": "d7bf74b5",
   "metadata": {},
   "outputs": [],
   "source": [
    "#Checking that value counts for Action and Standing avatars [Should be 50/50]\n",
    "df.meaningfulBuilding.value_counts()"
   ]
  },
  {
   "cell_type": "markdown",
   "id": "b1a02cbb",
   "metadata": {},
   "source": [
    "### Unesting variables "
   ]
  },
  {
   "cell_type": "code",
   "execution_count": null,
   "id": "83f0f5bd",
   "metadata": {},
   "outputs": [],
   "source": [
    "# exclude all rows where the participant didn't submit in time\n",
    "dfT = df[df.TimeOut == False].reset_index(drop=True)\n",
    "dfT.info()"
   ]
  },
  {
   "cell_type": "code",
   "execution_count": null,
   "id": "e67b363e",
   "metadata": {},
   "outputs": [],
   "source": [
    "def unnest(dframe):\n",
    "    \n",
    "    '''Unnest nested data that is needed from a JSON file by inserting each koordinate \n",
    "    as a seperate column of the DataFrame. \n",
    "    This Function is specific for the variable \n",
    "\n",
    "    Parameters\n",
    "    -------------\n",
    "     \n",
    "     df: your data frame \n",
    "    returns \n",
    "    ----------\n",
    "    DataFrame\n",
    "        \n",
    "    '''\n",
    "    TargetBuildingDirection = pd.DataFrame.from_records(dframe['TargetBuildingForward'])\n",
    "    dframe.insert(25, \"TargetBuildingDirection_z\",TargetBuildingDirection['z'], True)\n",
    "    dframe.insert(25, \"TargetBuildingDirection_y\",TargetBuildingDirection['y'], True)\n",
    "    dframe.insert(25, \"TargetBuildingDirection_x\",TargetBuildingDirection['x'], True)\n",
    "\n",
    "    TargetBuildingRotation = pd.DataFrame.from_records(dframe['TargetBuildingRotation'])\n",
    "    dframe.insert(24, \"TargetBuildingRotation_z\",TargetBuildingRotation['z'], True)\n",
    "    dframe.insert(24, \"TargetBuildingRotation_y\",TargetBuildingRotation['y'], True)\n",
    "    dframe.insert(24, \"TargetBuildingRotation_x\",TargetBuildingRotation['x'], True)\n",
    "\n",
    "    TargetBuildingPosition = pd.DataFrame.from_records(dframe['TargetBuildingPosition'])\n",
    "    dframe.insert(23, \"TargetBuildingPosition_z\",TargetBuildingPosition['z'], True)\n",
    "    dframe.insert(23, \"TargetBuildingPosition_y\",TargetBuildingPosition['y'], True)\n",
    "    dframe.insert(23, \"TargetBuildingPosition_x\",TargetBuildingPosition['x'], True)\n",
    "\n",
    "    PointerDirection = pd.DataFrame.from_records(dframe['PointerDirection'])\n",
    "    dframe.insert(21, \"PointerDirection_z\",PointerDirection['z'], True)\n",
    "    dframe.insert(21, \"PointerDirection_y\",PointerDirection['y'], True)\n",
    "    dframe.insert(21, \"PointerDirection_x\",PointerDirection['x'], True)\n",
    "\n",
    "    PointerRotation = pd.DataFrame.from_records(dframe['PointerRotation'])\n",
    "    dframe.insert(19, \"PointerRotation_z\", PointerRotation['z'], True)\n",
    "    dframe.insert(19, \"PointerRotation_y\", PointerRotation['y'], True)\n",
    "    dframe.insert(19, \"PointerRotation_x\", PointerRotation['x'], True)\n",
    "\n",
    "    PointerPosition = pd.DataFrame.from_records(dframe['PointerPosition'])\n",
    "    dframe.insert(18, \"PointerPosition_z\", PointerPosition['z'], True)\n",
    "    dframe.insert(18, \"PointerPosition_y\", PointerPosition['y'], True)\n",
    "    dframe.insert(18, \"PointerPosition_x\", PointerPosition['x'], True)\n",
    "\n",
    "    ParticipantRotation = pd.DataFrame.from_records(dframe['ParticipantRotation'])\n",
    "    dframe.insert(17, \"ParticipantRotation_z\",ParticipantRotation['z'], True)\n",
    "    dframe.insert(17, \"ParticipantRotation_y\", ParticipantRotation['y'], True)\n",
    "    dframe.insert(17, \"ParticipantRotation_x\", ParticipantRotation['x'], True)\n",
    "\n",
    "    ParticipantPosition = pd.DataFrame.from_records(dframe['ParticipantPosition'])\n",
    "    dframe.insert(16, \"ParticipantPosition_z\", ParticipantPosition['z'], True)\n",
    "    dframe.insert(16, \"ParticipantPosition_y\", ParticipantPosition['y'], True)\n",
    "    dframe.insert(1, \"ParticipantPosition_x\", ParticipantPosition['x'], True)\n",
    "        \n",
    "    return dframe"
   ]
  },
  {
   "cell_type": "code",
   "execution_count": null,
   "id": "77308001",
   "metadata": {},
   "outputs": [],
   "source": [
    "dfT = unnest(dfT)\n",
    "dfT.head()"
   ]
  },
  {
   "cell_type": "code",
   "execution_count": null,
   "id": "628046c1",
   "metadata": {
    "slideshow": {
     "slide_type": "-"
    }
   },
   "outputs": [],
   "source": [
    "dfT.info()"
   ]
  },
  {
   "cell_type": "code",
   "execution_count": null,
   "id": "c98943e8",
   "metadata": {},
   "outputs": [],
   "source": [
    "dfT.to_csv('PointingTask.csv')"
   ]
  },
  {
   "cell_type": "markdown",
   "id": "e403ec17",
   "metadata": {},
   "source": [
    "## Data exploration"
   ]
  },
  {
   "cell_type": "markdown",
   "id": "dbef37e2",
   "metadata": {},
   "source": [
    "### Avatar Factors"
   ]
  },
  {
   "cell_type": "code",
   "execution_count": null,
   "id": "ecbc9035",
   "metadata": {},
   "outputs": [],
   "source": [
    "dfT.AvatarPresenceCategory.value_counts()"
   ]
  },
  {
   "cell_type": "code",
   "execution_count": null,
   "id": "d0abe7d6",
   "metadata": {},
   "outputs": [],
   "source": [
    "dxp.count('SubjectID', data=df, split='AvatarPresenceCategory')"
   ]
  },
  {
   "cell_type": "code",
   "execution_count": null,
   "id": "3e71327f",
   "metadata": {},
   "outputs": [],
   "source": [
    "dfT[[  \"SubjectID\", \"AvatarPresenceCategory\"]].groupby([ \"SubjectID\", \"AvatarPresenceCategory\"]).size()"
   ]
  },
  {
   "cell_type": "code",
   "execution_count": null,
   "id": "7eda65d0",
   "metadata": {},
   "outputs": [],
   "source": [
    "dfT.meaningfulBuilding.value_counts()"
   ]
  },
  {
   "cell_type": "code",
   "execution_count": null,
   "id": "07533806",
   "metadata": {},
   "outputs": [],
   "source": [
    "dxp.count('SubjectID', data=df, split='meaningfulBuilding')"
   ]
  },
  {
   "cell_type": "code",
   "execution_count": null,
   "id": "6f91a840",
   "metadata": {},
   "outputs": [],
   "source": [
    "dfT[[ \"SubjectID\", \"meaningfulBuilding\"]].groupby([ \"SubjectID\", \"meaningfulBuilding\"]).size()"
   ]
  },
  {
   "cell_type": "markdown",
   "id": "382c1fe2",
   "metadata": {},
   "source": [
    "### Building counts"
   ]
  },
  {
   "cell_type": "code",
   "execution_count": null,
   "id": "53ff9b15",
   "metadata": {},
   "outputs": [],
   "source": [
    "plt.rcParams['figure.figsize'] = (20,14)\n",
    "sns.countplot(data= dfT, x='ImageName')\n",
    "plt.xticks(fontsize=9, rotation=90)\n",
    "plt.xlabel('Task Stimuli', fontsize=18)\n",
    "plt.ylabel( 'Frenquecy', fontsize=16)\n",
    "plt.yticks(fontsize=10)\n",
    "plt.show()"
   ]
  },
  {
   "cell_type": "code",
   "execution_count": null,
   "id": "b19c62cd",
   "metadata": {},
   "outputs": [],
   "source": [
    "print(dfT[[ 'ImageName']].value_counts().to_markdown())"
   ]
  },
  {
   "cell_type": "code",
   "execution_count": null,
   "id": "7d664375",
   "metadata": {},
   "outputs": [],
   "source": [
    "print(dfT[['SubjectID', 'ImageName']].value_counts().to_markdown())"
   ]
  },
  {
   "cell_type": "markdown",
   "id": "10021c5b",
   "metadata": {},
   "source": [
    "### Angles"
   ]
  },
  {
   "cell_type": "code",
   "execution_count": null,
   "id": "38f84c7b",
   "metadata": {},
   "outputs": [],
   "source": [
    "dfT.Angle.describe()"
   ]
  },
  {
   "cell_type": "code",
   "execution_count": null,
   "id": "7513d3ec",
   "metadata": {},
   "outputs": [],
   "source": [
    "dfT.groupby( \"SubjectID\")['Angle'].describe()"
   ]
  },
  {
   "cell_type": "code",
   "execution_count": null,
   "id": "737d68ad",
   "metadata": {},
   "outputs": [],
   "source": [
    "#Histogram response times \n",
    "plt.title(\"Binned frequencies for Angular error\", fontsize=18)\n",
    "sns.histplot(data=dfT, x=\"Angle\", binwidth=2)\n",
    "plt.xticks(fontsize=10, rotation=90)\n",
    "plt.xlabel('Angular error in Degrees', fontsize=18)\n",
    "plt.ylabel( 'Frenquecy', fontsize=16)\n",
    "plt.yticks(fontsize=10)\n",
    "plt.show()"
   ]
  },
  {
   "cell_type": "markdown",
   "id": "6eb7a795",
   "metadata": {},
   "source": [
    "### Response Time "
   ]
  },
  {
   "cell_type": "code",
   "execution_count": null,
   "id": "7ab434a6",
   "metadata": {},
   "outputs": [],
   "source": [
    "dfT.RT.describe()"
   ]
  },
  {
   "cell_type": "code",
   "execution_count": null,
   "id": "c69af116",
   "metadata": {},
   "outputs": [],
   "source": [
    "#Histogram response times \n",
    "plt.title(\"Binned frequencies for Response Time\", fontsize=18)\n",
    "sns.histplot(data=dfT, x=\"RT\", binwidth=2)\n",
    "plt.xticks(fontsize=10, rotation=90)\n",
    "plt.xlabel('Response time in seconds', fontsize=18)\n",
    "plt.ylabel( 'Frenquecy', fontsize=16)\n",
    "plt.yticks(fontsize=10)\n",
    "plt.show()"
   ]
  },
  {
   "cell_type": "code",
   "execution_count": null,
   "id": "8e9fc096",
   "metadata": {},
   "outputs": [],
   "source": [
    "# Log-transform response times\n",
    "dfT['log_time'] = np.log(dfT['RT']) "
   ]
  },
  {
   "cell_type": "code",
   "execution_count": null,
   "id": "92ee773b-bfe3-4879-8f70-4c1cc4ba1691",
   "metadata": {},
   "outputs": [],
   "source": [
    "plt.title(\"Binned frequencies for Log Response Time\", fontsize=18)\n",
    "sns.histplot(data=dfT, x=\"log_time\", binwidth=0.100)\n",
    "plt.xticks(fontsize=10, rotation=90)\n",
    "plt.xlabel('Response time in seconds', fontsize=18)\n",
    "plt.ylabel( 'Frenquecy', fontsize=16)\n",
    "plt.yticks(fontsize=10)\n",
    "plt.show()"
   ]
  },
  {
   "cell_type": "markdown",
   "id": "90a44902",
   "metadata": {},
   "source": [
    "### Dealing with  angles "
   ]
  },
  {
   "cell_type": "code",
   "execution_count": null,
   "id": "9f55734a",
   "metadata": {},
   "outputs": [],
   "source": [
    "# Recalculate angles from vectors in order to include sign\n",
    "# Functions for calculating signed angles\n",
    "\n",
    "\n",
    "def Normalize(v):\n",
    "    v1 = math.sqrt(sum([x ** 2 for x in v]))\n",
    "    return([x/v1 for x in v])\n",
    "\n",
    "# Calc the signed angle between two vectors\n",
    "\n",
    "\n",
    "def signedAngle(v1, v2):\n",
    "    v1Norm = Normalize(v1)\n",
    "    v2Norm = Normalize(v2)\n",
    "\n",
    "    angle = math.atan2(v2[1], v2[0]) - math.atan2(v1[1], v1[0])\n",
    "    return(np.rad2deg(angle))\n",
    "\n",
    "\n",
    "# Insert corrected signed angles into the dataframe\n",
    "signedAngles = []\n",
    "\n",
    "for count, x in enumerate(dfT['DistanceToParticipant']):\n",
    "    signedAngles = signedAngles + [signedAngle([dfT['PointerDirection_x'][count], dfT['PointerDirection_z'][count]], [\n",
    "                                               dfT['TargetBuildingDirection_x'][count], dfT['TargetBuildingDirection_z'][count]])]\n",
    "\n",
    "# Account for angle deviations > 180°\n",
    "for count, angle in enumerate(signedAngles):\n",
    "    if angle > 180:\n",
    "        signedAngles[count] = angle - 360\n",
    "    elif angle < -180:\n",
    "        signedAngles[count] = angle + 360\n",
    "\n",
    "dfT.insert(11, \"SignedAngle\", signedAngles, True)\n",
    "\n"
   ]
  },
  {
   "cell_type": "code",
   "execution_count": null,
   "id": "9227ebac",
   "metadata": {},
   "outputs": [],
   "source": [
    "# Order participants from best avg performance (left) to worst avg performance (right) for the heatmap\n",
    "\n",
    "def orderParticipants(inputdf=pd.DataFrame(), orderBy=\"\"):\n",
    "    inputdf = inputdf.sort_values(orderBy)\n",
    "    for i, x in enumerate(inputdf.SubjectID.unique()):\n",
    "        inputdf = inputdf.replace(x, i + 1)\n",
    "    return inputdf\n",
    "\n",
    "\n",
    "\n",
    "# Heatmap plots\n",
    "\n",
    "\n",
    "def meanErrXTargetB(participantgroup):\n",
    "    heatmapdf = pd.DataFrame()\n",
    "    # Draw mean deviation per participant (x) and target building (y)\n",
    "    for x in participantgroup.ImageName.unique():\n",
    "        targets = participantgroup[participantgroup.ImageName == x]\n",
    "        for y in targets.SubjectID.unique():\n",
    "            heatmapdf = heatmapdf.append({'ImageName': str(x), 'SubjectID': str(y), 'MeanError': np.average(\n",
    "                targets[targets.SubjectID == y]['Angle']), 'SubjectMean': np.average(participantgroup[participantgroup.SubjectID == y]['Angle'])}, ignore_index=True)\n",
    "\n",
    "    return orderParticipants(heatmapdf, \"SubjectMean\")\n"
   ]
  },
  {
   "cell_type": "code",
   "execution_count": null,
   "id": "0519700e",
   "metadata": {},
   "outputs": [],
   "source": [
    "# Draw graphs for control and test group\n",
    "fig, axes = plt.subplots(nrows=1, ncols=1, figsize=(10,24))\n",
    "\n",
    "plt.title(\"Absolute average divergence from Target (in °) per Participant and Target Building\",  fontsize=18)\n",
    "sns.heatmap(meanErrXTargetB(dfT).pivot(\"ImageName\",\n",
    "            \"SubjectID\", \"MeanError\"), cmap=\"Spectral\", center=40)\n",
    "\n",
    "plt.xticks(fontsize=10, rotation=90)\n",
    "plt.xlabel('Subject', fontsize=18)\n",
    "plt.ylabel( 'Target', fontsize=18)\n",
    "plt.yticks(fontsize=10)\n",
    "plt.show()\n"
   ]
  },
  {
   "cell_type": "code",
   "execution_count": null,
   "id": "dff17c50",
   "metadata": {},
   "outputs": [],
   "source": [
    "def stdXTargetB(participantgroup):\n",
    "    heatmapdf = pd.DataFrame()\n",
    "    # Draw standard deviation of deviation per participant (x) and target building (y)\n",
    "    for x in participantgroup.ImageName.unique():\n",
    "        targets = participantgroup[participantgroup.ImageName == x]\n",
    "        for y in targets.SubjectID.unique():\n",
    "            heatmapdf = heatmapdf.append({'ImageName': str(x), 'SubjectID': str(y), 'SdevError': np.std(\n",
    "                targets[targets.SubjectID == y]['Angle']), 'SubjectStd': np.std(participantgroup[participantgroup.SubjectID == y]['Angle'])}, ignore_index=True)\n",
    "\n",
    "    return orderParticipants(heatmapdf, \"SubjectStd\")"
   ]
  },
  {
   "cell_type": "code",
   "execution_count": null,
   "id": "5736a364",
   "metadata": {},
   "outputs": [],
   "source": [
    "# Draw graph\n",
    "fig, axes = plt.subplots(nrows=1, ncols=1, figsize=(10,24))\n",
    "plt.title(\"Absolute Standard of divergences from Target (in °) per Participant and Target Building\",  fontsize=18)\n",
    "sns.heatmap(stdXTargetB(dfT).pivot(\"ImageName\",\n",
    "            \"SubjectID\", \"SdevError\"), cmap=\"Spectral\", center=40)\n",
    "plt.xticks(fontsize=10, rotation=90)\n",
    "plt.xlabel('Subject', fontsize=18)\n",
    "plt.ylabel( 'Target', fontsize=18)\n",
    "plt.yticks(fontsize=10)\n",
    "plt.show()"
   ]
  },
  {
   "cell_type": "code",
   "execution_count": null,
   "id": "0d8d55d8",
   "metadata": {},
   "outputs": [],
   "source": [
    "distances = pd.DataFrame()\n",
    "middle = [np.average(dfT['TargetBuildingPosition_x']), np.average(\n",
    "    dfT['TargetBuildingPosition_y']), np.average(dfT['TargetBuildingPosition_z'])]\n",
    "for x in dfT.TargetBuildingPosition_x.unique():\n",
    "    distances = distances.append({'AvgAccuracy': np.average(dfT[dfT.TargetBuildingPosition_x == x]['Angle']), 'Centricity': distance.euclidean(middle, [x, np.average(\n",
    "        dfT[dfT.TargetBuildingPosition_x == x]['TargetBuildingPosition_y']), np.average(dfT[dfT.TargetBuildingPosition_x == x]['TargetBuildingPosition_z'])])}, ignore_index=True)\n",
    "#plt.title(\"Target distance from center by divergence from Target\", weight = 'bold')\n",
    "plt.xlabel(\"Distance from center\", weight='bold')\n",
    "# plotting the datapoints\n",
    "#plt.scatter(distances['Centricity'], distances['AvgAccuracy'], cmap=\"Reds\")\n",
    "sns.regplot(data=distances, x='Centricity', y='AvgAccuracy', color=\"tab:orange\")\n",
    "plt.xlabel(\"Target distance from center of the map\", weight='bold', fontsize=18)\n",
    "plt.ylabel(\"Mean Divergence per Target (in °)\", weight='bold', fontsize=18)\n",
    "plt.xticks(fontsize=15)\n",
    "plt.yticks(fontsize=15)\n",
    "plt.show()"
   ]
  },
  {
   "cell_type": "code",
   "execution_count": null,
   "id": "5fa4ca13",
   "metadata": {},
   "outputs": [],
   "source": [
    "abw = []\n",
    "dist = []\n",
    "for x in dfT.DistanceToParticipant.unique():\n",
    "    dist = dist + [x]\n",
    "    abw = abw + \\\n",
    "        [np.average(dfT[dfT.DistanceToParticipant == x]\n",
    "                    ['Angle'])]\n",
    "\n",
    "#plt.title(\"Distance to target by divergence (in °) from target\")\n",
    "\n",
    "# plotting the datapoints\n",
    "#plt.scatter(dist, abw, 20, cmap=\"Blues\")\n",
    "sns.regplot( y=abw, x=dist, color=\"tab:blue\", scatter_kws={'s': 20})\n",
    "\n",
    "\n",
    "plt.xlabel(\"Distance to Target (Meters)\", weight='bold', fontsize=18)\n",
    "plt.ylabel(\"Divergence from Target (in °)\", weight='bold', fontsize=18)\n",
    "plt.xticks(fontsize=15)\n",
    "plt.yticks(fontsize=15)\n",
    "plt.show()\n"
   ]
  },
  {
   "cell_type": "code",
   "execution_count": null,
   "id": "9b858649",
   "metadata": {},
   "outputs": [],
   "source": [
    "yvals, grp = [], []\n",
    "\n",
    "for i, subject in enumerate(dfT.SubjectID.unique()):\n",
    "    yvals.append(np.average(dfT[dfT.SubjectID == subject]['Angle']))\n",
    "    grp.append(\"dfT\")\n",
    "\n",
    "# %%\n",
    "sns.boxplot(x=grp, y=yvals, palette='Blues')\n",
    "sns.swarmplot(x=grp, y=yvals, palette='Reds')\n",
    "plt.axhline(np.average(yvals), color='black', linestyle='--')\n",
    "plt.ylabel(\"Mean Absolute Deviation from target (in °)\", fontsize=18)\n",
    "plt.xlabel('')\n",
    "plt.xticks(fontsize=10)\n",
    "plt.yticks(fontsize=10)\n",
    "plt.show()\n"
   ]
  },
  {
   "cell_type": "code",
   "execution_count": null,
   "id": "30363edf",
   "metadata": {},
   "outputs": [],
   "source": [
    "\n",
    "for subject in dfT.SubjectID.unique():\n",
    "    plt.axes(projection='polar')\n",
    "    plt.title(\"SubjectID: \" + str(subject) + \" Accuracy per building\", fontsize=18)\n",
    "    dev = dfT[dfT.SubjectID == subject]\n",
    "    rads = []\n",
    "    dur = []\n",
    "    buildings = []\n",
    "    for building in dev.avatarID.unique():\n",
    "        rads = rads + \\\n",
    "            [math.radians(np.average(dev[dev.avatarID == building]['Angle']))]\n",
    "        dur = dur + \\\n",
    "            [math.radians(np.average(\n",
    "                dev[dev.avatarID == building]['RT']))]\n",
    "        buildings = buildings + [int(building)]\n",
    "     # plotting the circle\n",
    "    plt.scatter(rads, dur, c=buildings)\n",
    "    plt.xticks(fontsize=10)\n",
    "    plt.yticks(fontsize=10)\n",
    "\n",
    "# display the Polar plot\n",
    "    plt.show()\n",
    "# %%"
   ]
  },
  {
   "cell_type": "code",
   "execution_count": null,
   "id": "acaf3b45",
   "metadata": {},
   "outputs": [],
   "source": [
    "rads = []\n",
    "dur = []\n",
    "buildings = []\n",
    "for building in dfT.avatarID.unique():\n",
    "        rads = rads +  [math.radians(np.average(dfT[dfT.avatarID == building]['Angle']))]\n",
    "        dur = dur +  [math.radians(np.average(dfT[dfT.avatarID == building]['RT']))]\n",
    "        buildings = buildings + [int(building)]\n",
    "\n",
    " # plotting the circle\n",
    "plt.axes(projection='polar')\n",
    "plt.scatter(rads, dur, c=buildings)\n",
    "plt.title( \"Average angle error to target across all participants\", fontsize=18)\n",
    "plt.xticks(fontsize=10)\n",
    "plt.yticks(fontsize=10)\n",
    "# display the Polar plot\n",
    "plt.show()\n",
    "# %%"
   ]
  },
  {
   "cell_type": "markdown",
   "id": "fb9ab195",
   "metadata": {},
   "source": [
    "## Data Analysis "
   ]
  },
  {
   "cell_type": "code",
   "execution_count": null,
   "id": "ed5cdef3",
   "metadata": {},
   "outputs": [],
   "source": [
    "from statsmodels.formula.api import ols, glm\n",
    "import statsmodels.api as sm"
   ]
  },
  {
   "cell_type": "code",
   "execution_count": null,
   "id": "62797adc",
   "metadata": {},
   "outputs": [],
   "source": [
    "# Define model formula\n",
    "formula = 'log_time ~ AvatarPresence'\n",
    "\n",
    "# Define probability distribution for the response variable for \n",
    "# the linear (LM) and logistic (GLM) model\n",
    "family_LM = sm.families.Gaussian()\n",
    "family_GLM = sm.families.Binomial()\n",
    "\n",
    "# Define and fit a linear regression model\n",
    "model_LM = glm(formula = formula, data = dfT, family = family_LM).fit()\n",
    "print(model_LM.summary())"
   ]
  },
  {
   "cell_type": "code",
   "execution_count": null,
   "id": "5df33bd5",
   "metadata": {},
   "outputs": [],
   "source": [
    "dfT.groupby( [\"SubjectID\", \"AvatarPresenceCategory\"])['RT'].describe()"
   ]
  },
  {
   "cell_type": "code",
   "execution_count": null,
   "id": "3316091e",
   "metadata": {},
   "outputs": [],
   "source": [
    "# Define model formula\n",
    "formula = 'Angle ~ AvatarPresence'\n",
    "\n",
    "# Define and fit a linear regression model\n",
    "model_LM = glm(formula = formula, data = dfT, family = family_LM).fit()\n",
    "print(model_LM.summary())"
   ]
  },
  {
   "cell_type": "code",
   "execution_count": null,
   "id": "4ec69115",
   "metadata": {},
   "outputs": [],
   "source": [
    "dfT.groupby( [\"SubjectID\", \"AvatarPresenceCategory\"])['Angle'].describe().sort_values(by='mean')"
   ]
  },
  {
   "cell_type": "code",
   "execution_count": null,
   "id": "7ced74ed",
   "metadata": {},
   "outputs": [],
   "source": [
    "pd.set_option('display.max_rows',1000)\n",
    "dfT.groupby( \"ImageName\")['Angle'].describe().sort_values(by='mean')\n",
    "\n"
   ]
  },
  {
   "cell_type": "code",
   "execution_count": null,
   "id": "da2fd693-8d75-4cd3-97c2-39e35a0eb4b7",
   "metadata": {},
   "outputs": [],
   "source": [
    "\n",
    "\n",
    "# %%\n",
    "# calculate distance TODO für alle Gebäude\n",
    "distances = pd.DataFrame()\n",
    "middle = [np.average(PTBcontrol['TargetBuildingPosition_x']), np.average(\n",
    "    PTBcontrol['TargetBuildingPosition_y']), np.average(PTBcontrol['TargetBuildingPosition_z'])]\n",
    "for x in PTBcontrol.TargetBuildingPosition_x.unique():\n",
    "    distances = distances.append({'AvgAccuracy': np.average(PTBcontrol[PTBcontrol.TargetBuildingPosition_x == x]['RecalculatedAngle']), 'Centricity': distance.euclidean(middle, [x, np.average(\n",
    "        PTBcontrol[PTBcontrol.TargetBuildingPosition_x == x]['TargetBuildingPosition_y']), np.average(PTBcontrol[PTBcontrol.TargetBuildingPosition_x == x]['TargetBuildingPosition_z'])])}, ignore_index=True)\n",
    "#plt.title(\"Target distance from center by divergence from Target\", weight = 'bold')\n",
    "plt.xlabel(\"Distance from center\", weight='bold')\n",
    "\n",
    "\n",
    "# plotting the datapoints\n",
    "sns.regplot(data=distances, x='Centricity', y='AvgAccuracy',\n",
    "            label=\"Control group\", color=\"tab:blue\")\n",
    "#plt.scatter(distances['Centricity'], distances['AvgAccuracy'])\n",
    "distances = pd.DataFrame()\n",
    "middle = [np.average(PTBbelt['TargetBuildingPosition_x']), np.average(\n",
    "    PTBbelt['TargetBuildingPosition_y']), np.average(PTBbelt['TargetBuildingPosition_z'])]\n",
    "for x in PTBbelt.TargetBuildingPosition_x.unique():\n",
    "    distances = distances.append({'AvgAccuracy': np.average(PTBbelt[PTBbelt.TargetBuildingPosition_x == x]['RecalculatedAngle']), 'Centricity': distance.euclidean(middle, [x, np.average(\n",
    "        PTBbelt[PTBbelt.TargetBuildingPosition_x == x]['TargetBuildingPosition_y']), np.average(PTBbelt[PTBbelt.TargetBuildingPosition_x == x]['TargetBuildingPosition_z'])])}, ignore_index=True)\n",
    "\n",
    "# plotting the datapoints\n",
    "#plt.scatter(distances['Centricity'], distances['AvgAccuracy'], cmap=\"Reds\")\n",
    "sns.regplot(data=distances, x='Centricity', y='AvgAccuracy',\n",
    "            label=\"Belt group\", color=\"tab:orange\")\n",
    "plt.xlabel(\"Target distance from center of the map\", weight='bold')\n",
    "plt.ylabel(\"Mean Divergence per Target (in °)\", weight='bold')\n",
    "plt.legend()\n",
    "plt.show()\n",
    "# %%\n",
    "abw = []\n",
    "dist = []\n",
    "for x in PTBcontrol.DistanceToParticipant.unique():\n",
    "    dist = dist + [x]\n",
    "    abw = abw + \\\n",
    "        [np.average(PTBcontrol[PTBcontrol.DistanceToParticipant == x]\n",
    "                    ['RecalculatedAngle'])]\n",
    "\n",
    "#plt.title(\"Distance to target by divergence (in °) from target\")\n",
    "\n",
    "# plotting the datapoints\n",
    "#plt.scatter(dist, abw, 20, cmap=\"Blues\")\n",
    "sns.regplot(dist, abw, label=\"Control group\",\n",
    "            color=\"tab:blue\", scatter_kws={'s': 20})\n",
    "\n",
    "abw = []\n",
    "dist = []\n",
    "for x in PTBbelt.DistanceToParticipant.unique():\n",
    "    dist = dist + [x]\n",
    "    abw = abw + \\\n",
    "        [np.average(PTBbelt[PTBbelt.DistanceToParticipant == x]\n",
    "                    ['RecalculatedAngle'])]\n",
    "\n",
    "# plotting the datapoints\n",
    "#plt.scatter(dist, abw, 20, cmap=\"Reds\")\n",
    "sns.regplot(dist, abw, label=\"Belt group\",\n",
    "            color=\"tab:orange\", scatter_kws={'s': 20})\n",
    "\n",
    "plt.xlabel(\"Distance to Target (Meters)\", weight='bold')\n",
    "plt.ylabel(\"Divergence from Target (in °)\", weight='bold')\n",
    "plt.legend()\n",
    "plt.show()\n",
    "\n",
    "\n",
    "# %% Plots beginnen hier\n",
    "# for subject in cgroup.SubjectID.unique():\n",
    "#     plt.axes(projection='polar')\n",
    "#     plt.title(\"SubjectID: \" + str(subject) + \" Genauigkeit je Gebäude\")\n",
    "#     dev = cgroup[cgroup.SubjectID == subject]\n",
    "#     rads = []\n",
    "#     dur = []\n",
    "#     buildings = []\n",
    "#     for building in dev.ImageName.unique():\n",
    "#         rads = rads + \\\n",
    "#             [math.radians(np.average(dev[dev.ImageName == building]['RecalculatedAngle']))]\n",
    "#         dur = dur + \\\n",
    "#             [math.radians(np.average(\n",
    "#                 dev[dev.ImageName == building]['TrialDuration']))]\n",
    "#         buildings = buildings + [int(building[13:])]\n",
    "\n",
    "#     # plotting the circle\n",
    "#     plt.scatter(rads, dur, c=buildings)\n",
    "\n",
    "#     # display the Polar plot\n",
    "#     plt.show()\n",
    "# %%\n",
    "\n",
    "# deviation from building per participant\n",
    "ax = plt.axes(projection='polar')\n",
    "ax.set_theta_zero_location(\"N\")\n",
    "# ax.set_thetamin(90)  # set the limits\n",
    "# ax.set_thetamax(-90)\n",
    "ax.set_xlabel(\"Divergence from Target\", weight='bold')\n",
    "ax.set_ylabel(\"Standard deviation of Divergence\", labelpad=33, weight='bold')\n",
    "ax.set_rlabel_position(-120.5)\n",
    "#plt.title(\"Directional bias\")\n",
    "avg = []\n",
    "subj = []\n",
    "for subject in PTBcontrol.SubjectID.unique():\n",
    "    avg = avg + \\\n",
    "        [math.radians(np.average(\n",
    "            PTBcontrol[PTBcontrol.SubjectID == subject]['SignedAngle']))]\n",
    "    subj = subj + \\\n",
    "        [np.std(PTBcontrol[PTBcontrol.SubjectID == subject]['SignedAngle'])]\n",
    "\n",
    "# plotting the datapoints\n",
    "sns.scatterplot(avg, subj, cmap='Blues', label=\"Control participants\")\n",
    "\n",
    "avg = []\n",
    "subj = []\n",
    "for subject in PTBbelt.SubjectID.unique():\n",
    "    avg = avg + [math.radians(np.average(\n",
    "        PTBbelt[PTBbelt.SubjectID == subject]['SignedAngle']))]\n",
    "    subj = subj + \\\n",
    "        [np.std(PTBbelt[PTBbelt.SubjectID == subject]['SignedAngle'])]\n",
    "\n",
    "# plotting the datapoints\n",
    "sns.scatterplot(avg, subj, cmap='Reds', label=\"Belt participants\")\n",
    "plt.legend(bbox_to_anchor=(1.02, 1), loc='upper left', borderaxespad=0)\n",
    "\n",
    "plt.show()\n",
    "\n",
    "# %%\n",
    "# deviation from building per participant\n",
    "ax = plt.axes(projection='polar')\n",
    "ax.set_theta_zero_location(\"E\")\n",
    "ax.set_thetamin(0)  # set the limits\n",
    "ax.set_thetamax(180)\n",
    "ax.set_xticks(np.pi/180. * np.linspace(0, 180, 7))\n",
    "ax.set_xlabel(\"Divergence from Target\", labelpad=-45, weight='bold')\n",
    "ax.set_ylabel(\"Standard deviation of Divergence\", labelpad=33, weight='bold')\n",
    "#plt.title(\"Mean divergence (in °) from target per participant\")\n",
    "avg = []\n",
    "subj = []\n",
    "for subject in PTBcontrol.SubjectID.unique():\n",
    "    avg = avg + \\\n",
    "        [math.radians(np.average(\n",
    "            PTBcontrol[PTBcontrol.SubjectID == subject]['RecalculatedAngle']))]\n",
    "    subj = subj + \\\n",
    "        [np.std(PTBcontrol[PTBcontrol.SubjectID == subject]['RecalculatedAngle'])]\n",
    "\n",
    "# plotting the datapoints\n",
    "sns.scatterplot(avg, subj, cmap='Blues', label=\"Control participants\")\n",
    "\n",
    "avg = []\n",
    "subj = []\n",
    "for subject in PTBbelt.SubjectID.unique():\n",
    "    avg = avg + [math.radians(np.average(\n",
    "        PTBbelt[PTBbelt.SubjectID == subject]['RecalculatedAngle']))]\n",
    "    subj = subj + \\\n",
    "        [np.std(PTBbelt[PTBbelt.SubjectID == subject]['RecalculatedAngle'])]\n",
    "\n",
    "# plotting the datapoints\n",
    "sns.scatterplot(avg, subj, cmap='Reds', label=\"Belt participants\")\n",
    "plt.legend(loc='upper right', borderaxespad=0)\n",
    "\n",
    "plt.show()\n",
    "\n",
    "# %%\n",
    "\n",
    "yvals, grp = [], []\n",
    "\n",
    "for i, subject in enumerate(PTBcontrol.SubjectID.unique()):\n",
    "    yvals.append(np.average(\n",
    "        PTBcontrol[PTBcontrol.SubjectID == subject]['RecalculatedAngle']))\n",
    "    grp.append(\"Control Group\")\n",
    "\n",
    "for i, subject in enumerate(PTBbelt.SubjectID.unique()):\n",
    "    yvals.append(np.average(\n",
    "        PTBbelt[PTBbelt.SubjectID == subject]['RecalculatedAngle']))\n",
    "    grp.append(\"Belt Group\")\n",
    "\n",
    "#plt.title(\"Average Divergence per Participants of the respective Groups\")\n",
    "sns.set(rc={\"figure.figsize\": (5, 5)}, style=\"ticks\")\n",
    "sns.boxplot(x=grp, y=yvals, palette=['tab:blue', 'tab:orange'])\n",
    "sns.swarmplot(x=grp, y=yvals, palette='rocket_r')\n",
    "plt.ylabel(\"Angle of divergence\", weight='bold')\n",
    "plt.xlabel(\"Pointing to Building Task\", weight='bold', labelpad=10)\n",
    "\n",
    "plt.axhline(np.average(yvals), color='black', linestyle='--')\n",
    "\n",
    "plt.show()\n",
    "# %%\n",
    "# Histogram über alle trials\n",
    "#plt.title(\"Binned frequencies for divergence from Target (Control group)\")\n",
    "f, axs = plt.subplots(1, 2,\n",
    "                      figsize=(14, 7),\n",
    "                      # sharey=True,\n",
    "                      gridspec_kw={'width_ratios': [2, 2]})\n",
    "\n",
    "sns.histplot(data=PTBcontrol, x=\"RecalculatedAngle\", binwidth=5,\n",
    "             stat=\"frequency\", color=\"tab:blue\", kde=True, ax=axs[0])\n",
    "axs[0].set(ylim=(0, 60))\n",
    "axs[0].set_xlabel(\"Angle (Bin = 5°)\", weight='bold')\n",
    "axs[0].axvline(x=PTBcontrol[\"RecalculatedAngle\"].mean(),\n",
    "               color='red', label=\"Mean\")\n",
    "axs[0].axvline(x=np.median(PTBcontrol[\"RecalculatedAngle\"]),\n",
    "               color='green', ls=\"--\", label=\"Median\")\n",
    "\n",
    "#plt.title(\"Binned frequencies for divergence from Target (Test Group)\")\n",
    "sns.histplot(data=PTBbelt, x=\"RecalculatedAngle\", binwidth=5,\n",
    "             stat=\"frequency\", color=\"tab:orange\", kde=True, ax=axs[1])\n",
    "axs[1].set(ylim=(0, 60))\n",
    "axs[1].set_xlabel(\"Angle (Bin = 5°)\", weight='bold')\n",
    "axs[1].axvline(x=PTBbelt[\"RecalculatedAngle\"].mean(),\n",
    "               color='red', label=\"Mean\")\n",
    "axs[1].axvline(x=np.median(PTBbelt[\"RecalculatedAngle\"]),\n",
    "               color='green', ls=\"--\", label=\"Median\")\n",
    "axs[0].legend()\n",
    "axs[1].legend()\n",
    "plt.show()\n",
    "\n",
    "\n",
    "# %%\n",
    "# sns.set resets the style or theme preferences to the seaborn standard if not specifically mentioned\n",
    "# just mention N size instead of normalizing plots\n",
    "f, axs = plt.subplots(1, 2,\n",
    "                      figsize=(14, 7),\n",
    "                      # sharey=True,\n",
    "                      gridspec_kw={'width_ratios': [25, 13]})\n",
    "#sns.set(rc={\"figure.figsize\": (12, 7)}, style=\"ticks\")\n",
    "sns.boxplot(data=PTBcontrol, x='SubjectID', y='RecalculatedAngle',\n",
    "            color=\"tab:blue\", ax=axs[0])\n",
    "axs[0].set_xlabel(\"Control Participant\", weight='bold')\n",
    "axs[0].set_ylabel(\"Divergence from target (in °)\", weight='bold')\n",
    "axs[0].set_xticklabels(['1', '2', '3', '4', '5', '6', '7', '8', '9', '10', '11', '12',\n",
    "                       '13', '14', '15', '16', '17', '18', '19', '20', '21', '22', '23', '24', '25', '26'])\n",
    "\n",
    "\n",
    "#sns.set(rc={\"figure.figsize\": (6, 7)}, style=\"ticks\")\n",
    "sns.boxplot(data=PTBbelt, x='SubjectID', y='RecalculatedAngle',\n",
    "            color=\"tab:orange\", ax=axs[1])\n",
    "axs[1].set_xlabel(\"Belt Participant\", weight='bold')\n",
    "axs[1].set_ylabel(\"Divergence from target (in °)\", weight='bold')\n",
    "axs[1].set_xticklabels(['1', '2', '3', '4', '5', '6', '7',\n",
    "                       '8', '9', '10', '11', '12', '13', '14'])\n",
    "\n",
    "plt.show()\n",
    "\n",
    "# %%\n",
    "# test for homogenity of variances\n",
    "#stats.levene(cgroup.groupby(\"SubjectID\")['Angle'].describe()['mean'], tgroup.groupby(\"SubjectID\")['Angle'].describe()['mean'])\n",
    "print(\"independend t-test for the averages of both groups\")\n",
    "#Studnt, n=25,  2-tail\n",
    "#stats.t.ppf(1-0.025, cgroup)\n",
    "# df=n-1=25-1=24\n",
    "print(\"t-value:\", stats.t.ppf(1-0.05, PTBcontrol['SubjectID'].nunique() - 1))\n",
    "scipy.stats.ttest_ind(PTBcontroldescribe[\n",
    "                      'mean'], PTBbeltdescribe['mean'])\n",
    "# %%\n",
    "print(\"independend t-test for the stds of both groups\")\n",
    "print(\"t-value:\", stats.t.ppf(1-0.05, PTBbelt['SubjectID'].nunique() - 1))\n",
    "scipy.stats.ttest_ind(PTBcontroldescribe[\n",
    "                      'std'], PTBbeltdescribe['std'])\n",
    "\n",
    "# %%\n",
    "beltP = PTBbelt[PTBbelt.SubjectID == 1041]\n",
    "# %%\n",
    "#plt.title(\"Participant 1041: Absolute Angles\")\n",
    "sns.histplot(data=beltP, x=\"RecalculatedAngle\", binwidth=5,\n",
    "             color=\"tab:orange\", binrange=(0, 180))\n",
    "plt.xlabel(\"Angle (Bin = 5°)\", weight='bold')\n",
    "plt.show()\n",
    "#plt.title(\"Participant 1041: Signed Angles\")\n",
    "sns.histplot(data=beltP, x=\"SignedAngle\", binwidth=10,\n",
    "             color=\"tab:orange\", binrange=(-180, 180))\n",
    "plt.xlabel(\"Angle (Bin = 10°)\", weight='bold')\n",
    "plt.show()\n",
    "# %%\n",
    "beltP = PTBcontrol[PTBcontrol.SubjectID == 1023]\n",
    "# %%\n",
    "#plt.title(\"Participant 1023: Absolute Angles\")\n",
    "sns.histplot(data=beltP, x=\"RecalculatedAngle\", binwidth=5,\n",
    "             color=\"tab:blue\", binrange=(0, 180))\n",
    "plt.xlabel(\"Angle (Bin = 5°)\", weight='bold')\n",
    "plt.show()\n",
    "#plt.title(\"Participant 1023: Signed Angles\")\n",
    "sns.histplot(data=beltP, x=\"SignedAngle\", binwidth=10,\n",
    "             color=\"tab:blue\", binrange=(-180, 180))\n",
    "plt.xlabel(\"Angle (Bin = 10°)\", weight='bold')\n",
    "plt.show()\n",
    "\n",
    "\n",
    "# %%\n",
    "acontrol = PTBcontrol.groupby(\"SubjectID\")['SignedAngle'].describe()\n",
    "atest = PTBbelt.groupby(\"SubjectID\")['SignedAngle'].describe()\n",
    "\n",
    "# %%\n",
    "violina = PTBbelt['StartingPositionIndex'].tolist()\n",
    "violinb = PTBbelt['ImageName'].tolist()\n",
    "\n",
    "violin = []\n",
    "for i, row in enumerate(violina):\n",
    "    violin += [str(violina[i]) + violinb[i]]\n",
    "PTBbelt['violin'] = violin\n",
    "violina = PTBcontrol['StartingPositionIndex'].tolist()\n",
    "violinb = PTBcontrol['ImageName'].tolist()\n",
    "\n",
    "violin = []\n",
    "for i, row in enumerate(violina):\n",
    "    violin += [str(violina[i]) + violinb[i]]\n",
    "PTBcontrol['violin'] = violin\n",
    "\n",
    "# %%\n",
    "# pairing averages in scatter plot from belt on y and control on x\n",
    "dicts = pd.DataFrame()\n",
    "for x in PTBcontrol.violin.unique():\n",
    "    dicts = dicts.append({'pairing': x, 'controlperformance': np.average(PTBcontrol[PTBcontrol.violin == x][\"RecalculatedAngle\"]), 'beltperformance': np.average(\n",
    "        PTBbelt[PTBbelt.violin == x][\"RecalculatedAngle\"])}, ignore_index=True)\n",
    "# %%\n",
    "sns.set(rc={\"figure.figsize\": (6, 6)}, style='ticks')\n",
    "ax = sns.scatterplot(data=dicts[dicts.controlperformance > dicts.beltperformance],\n",
    "                     x='controlperformance', y='beltperformance', color=\"tab:orange\")\n",
    "ax = sns.scatterplot(data=dicts[dicts.controlperformance < dicts.beltperformance],\n",
    "                     x='controlperformance', y='beltperformance', color=\"tab:blue\")\n",
    "# draw diagonal line\n",
    "ax.plot([0, 1], [0, 1], transform=ax.transAxes, color='green')\n",
    "plt.ylabel(\"Control participants were better\", weight='bold')\n",
    "plt.xlabel(\"Belt participants were better\", weight='bold')\n",
    "#plt.title(\"Average group accuracy per Starting location/Target pair\")\n",
    "ax.set_xticks(range(0, 100, 10))\n",
    "ax.set_yticks(range(0, 100, 10))\n",
    "plt.show()\n",
    "# %%\n",
    "TasksControl = pd.read_csv(\"controlTasks.csv\")\n",
    "TasksBelt = pd.read_csv(\"beltTasks.csv\")\n",
    "\n",
    "sns.set(rc={\"figure.figsize\": (7, 5)}, style='ticks')\n",
    "ax = sns.regplot(data=TasksControl, x=\"mean\", y=\"buildingmean\", color='tab:blue')\n",
    "ax = sns.regplot(data=TasksBelt, x=\"mean\",\n",
    "                 y=\"buildingmean\", color='tab:orange')\n",
    "# draw diagonal line\n",
    "#ax.plot([0, 1], [0, 1], transform=ax.transAxes, color='green')\n",
    "plt.ylabel(\"Divergence from Target Building (in °)\", weight='bold')\n",
    "plt.xlabel(\"Divergence from North (in °)\", weight='bold')\n",
    "#plt.title(\"Average Deviation from Target per Participant\")\n",
    "#ax.set_xticks(range(20, 180, 20))\n",
    "ax.set_ylim(0, 130)\n",
    "ax.set_xlim(0, 180)\n",
    "#ax.set_yticks(range(20, 180, 20))\n",
    "plt.show()\n",
    "# %%\n",
    "sns.set(rc={\"figure.figsize\": (5, 5)}, style='ticks')\n",
    "ax = sns.regplot(data=TasksControl, x=\"std\", y=\"buildingstd\", color='tab:blue')\n",
    "ax = sns.regplot(data=TasksBelt, x=\"std\", y=\"buildingstd\", color='tab:orange')\n",
    "# draw diagonal line\n",
    "#ax.plot([0, 1], [0, 1], transform=ax.transAxes, color='green')\n",
    "plt.ylabel(\"Divergence from Target Building (in °)\", weight='bold')\n",
    "plt.xlabel(\"Divergence from North (in °)\", weight='bold')\n",
    "#plt.title(\"Standard Deviation of Divergence from Target per Participant\")\n",
    "#ax.set_xticks(range(20, 180, 20))\n",
    "ax.set_ylim(0, 60)\n",
    "ax.set_xlim(0, 60)\n",
    "#ax.set_yticks(range(20, 180, 20))\n",
    "plt.show()\n",
    "# %%\n",
    "print(\"Pearsonr Control\\n\" +\n",
    "      str(pearsonr(TasksControl['mean'], TasksControl['buildingmean'])))\n",
    "print(\"Pearsonr Belt\\n\" +\n",
    "      str(pearsonr(TasksBelt['mean'], TasksBelt['buildingmean'])))\n",
    "# %%\n",
    "print(\"Pearsonr Control Sdev\\n\" +\n",
    "      str(pearsonr(TasksControl['std'], TasksControl['buildingstd'])))\n",
    "print(\"Pearsonr Belt Sdev\\n\" +\n",
    "      str(pearsonr(TasksBelt['std'], TasksBelt['buildingstd'])))\n",
    "# %%\n",
    "print(\"independend t-test for the averages of both groups\")\n",
    "#Studnt, n=25,  2-tail\n",
    "#stats.t.ppf(1-0.025, cgroup)\n",
    "# df=n-1=25-1=24\n",
    "# This is a two-sided test for the null hypothesis that 2 independent samples have identical average (expected) values.\n",
    "# This test assumes that the populations have identical variances by default.\n",
    "print(\"t-value:\", stats.t.ppf(1-0.025,\n",
    "                              PTBcontrol['SubjectID'].nunique() + PTBbelt['SubjectID'].nunique() - 1))\n",
    "scipy.stats.ttest_ind(PTBcontroldescribe[\n",
    "                      'mean'], PTBbeltdescribe['mean'])\n",
    "# %%\n",
    "print(\"independend t-test for the stds of both groups\")\n",
    "print(\"t-value:\", stats.t.ppf(1-0.05, PTBbelt['SubjectID'].nunique() - 1))\n",
    "scipy.stats.ttest_ind(PTBcontroldescribe[\n",
    "                      'std'], PTBbeltdescribe['std'])\n",
    "\n",
    "# %%\n"
   ]
  }
 ],
 "metadata": {
  "kernelspec": {
   "display_name": "Python 3",
   "language": "python",
   "name": "python3"
  },
  "language_info": {
   "codemirror_mode": {
    "name": "ipython",
    "version": 3
   },
   "file_extension": ".py",
   "mimetype": "text/x-python",
   "name": "python",
   "nbconvert_exporter": "python",
   "pygments_lexer": "ipython3",
   "version": "3.8.8"
  }
 },
 "nbformat": 4,
 "nbformat_minor": 5
}