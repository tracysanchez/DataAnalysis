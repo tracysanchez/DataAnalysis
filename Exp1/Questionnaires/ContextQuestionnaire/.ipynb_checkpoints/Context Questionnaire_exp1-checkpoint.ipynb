{
 "cells": [
  {
   "cell_type": "markdown",
   "id": "94f5d37b",
   "metadata": {},
   "source": [
    "## Context Questionnaire"
   ]
  },
  {
   "cell_type": "markdown",
   "id": "bb37695d",
   "metadata": {},
   "source": [
    "## Import packages "
   ]
  },
  {
   "cell_type": "code",
   "execution_count": 1,
   "id": "50e04eaf",
   "metadata": {},
   "outputs": [],
   "source": [
    "import os\n",
    "import pandas as pd\n",
    "import matplotlib.pyplot as plt\n",
    "import seaborn as sns\n",
    "from statsmodels.stats.anova import *"
   ]
  },
  {
   "cell_type": "code",
   "execution_count": null,
   "id": "b437eb7f",
   "metadata": {},
   "outputs": [],
   "source": [
    "os.chdir()"
   ]
  },
  {
   "cell_type": "markdown",
   "id": "37fce07f",
   "metadata": {},
   "source": [
    "## Preprocessing "
   ]
  },
  {
   "cell_type": "code",
   "execution_count": 2,
   "id": "76bb9746",
   "metadata": {},
   "outputs": [
    {
     "name": "stdout",
     "output_type": "stream",
     "text": [
      "<class 'pandas.core.frame.DataFrame'>\n",
      "RangeIndex: 29 entries, 0 to 28\n",
      "Data columns (total 6 columns):\n",
      " #   Column                                                                              Non-Null Count  Dtype \n",
      "---  ------                                                                              --------------  ----- \n",
      " 0   Timestamp                                                                           29 non-null     object\n",
      " 1   ID                                                                                  29 non-null     int64 \n",
      " 2   1. The avatars increased my feeling of presence in the Virtual environment. ​       29 non-null     int64 \n",
      " 3   2. The Virtual environment was more natural with avatars in it.                     29 non-null     int64 \n",
      " 4   ​3. I felt like I was with other people in the city                                 29 non-null     int64 \n",
      " 5   4. The exploration of the virtual town felt similar to exploring a real world city  29 non-null     int64 \n",
      "dtypes: int64(5), object(1)\n",
      "memory usage: 1.5+ KB\n"
     ]
    }
   ],
   "source": [
    "# Data set loading\n",
    "df_file = '/Users/tracysanchezpacheco/OneDrive/PhD/DataAnalysis/DataAnalysis/ContextQuestionnaire/ContextQuest.csv'\n",
    "df = pd.read_csv(df_file, sep= ';')\n",
    "df.info()"
   ]
  },
  {
   "cell_type": "code",
   "execution_count": 3,
   "id": "371ba885",
   "metadata": {},
   "outputs": [
    {
     "data": {
      "text/html": [
       "<div>\n",
       "<style scoped>\n",
       "    .dataframe tbody tr th:only-of-type {\n",
       "        vertical-align: middle;\n",
       "    }\n",
       "\n",
       "    .dataframe tbody tr th {\n",
       "        vertical-align: top;\n",
       "    }\n",
       "\n",
       "    .dataframe thead th {\n",
       "        text-align: right;\n",
       "    }\n",
       "</style>\n",
       "<table border=\"1\" class=\"dataframe\">\n",
       "  <thead>\n",
       "    <tr style=\"text-align: right;\">\n",
       "      <th></th>\n",
       "      <th>Timestamp</th>\n",
       "      <th>ID</th>\n",
       "      <th>1. The avatars increased my feeling of presence in the Virtual environment. ​</th>\n",
       "      <th>2. The Virtual environment was more natural with avatars in it.</th>\n",
       "      <th>​3. I felt like I was with other people in the city</th>\n",
       "      <th>4. The exploration of the virtual town felt similar to exploring a real world city</th>\n",
       "    </tr>\n",
       "  </thead>\n",
       "  <tbody>\n",
       "    <tr>\n",
       "      <th>24</th>\n",
       "      <td>06.03.22 09:31</td>\n",
       "      <td>8673</td>\n",
       "      <td>2</td>\n",
       "      <td>6</td>\n",
       "      <td>1</td>\n",
       "      <td>2</td>\n",
       "    </tr>\n",
       "    <tr>\n",
       "      <th>25</th>\n",
       "      <td>6/16/2022 9:54:43</td>\n",
       "      <td>9586</td>\n",
       "      <td>1</td>\n",
       "      <td>1</td>\n",
       "      <td>2</td>\n",
       "      <td>1</td>\n",
       "    </tr>\n",
       "    <tr>\n",
       "      <th>26</th>\n",
       "      <td>6/16/2022 13:39:30</td>\n",
       "      <td>2693</td>\n",
       "      <td>5</td>\n",
       "      <td>6</td>\n",
       "      <td>1</td>\n",
       "      <td>2</td>\n",
       "    </tr>\n",
       "    <tr>\n",
       "      <th>27</th>\n",
       "      <td>6/20/2022 11:20:02</td>\n",
       "      <td>3310</td>\n",
       "      <td>6</td>\n",
       "      <td>6</td>\n",
       "      <td>2</td>\n",
       "      <td>3</td>\n",
       "    </tr>\n",
       "    <tr>\n",
       "      <th>28</th>\n",
       "      <td>07.04.22 11:23</td>\n",
       "      <td>4917</td>\n",
       "      <td>4</td>\n",
       "      <td>4</td>\n",
       "      <td>3</td>\n",
       "      <td>5</td>\n",
       "    </tr>\n",
       "  </tbody>\n",
       "</table>\n",
       "</div>"
      ],
      "text/plain": [
       "             Timestamp    ID  \\\n",
       "24      06.03.22 09:31  8673   \n",
       "25   6/16/2022 9:54:43  9586   \n",
       "26  6/16/2022 13:39:30  2693   \n",
       "27  6/20/2022 11:20:02  3310   \n",
       "28      07.04.22 11:23  4917   \n",
       "\n",
       "    1. The avatars increased my feeling of presence in the Virtual environment. ​  \\\n",
       "24                                                  2                               \n",
       "25                                                  1                               \n",
       "26                                                  5                               \n",
       "27                                                  6                               \n",
       "28                                                  4                               \n",
       "\n",
       "    2. The Virtual environment was more natural with avatars in it.   \\\n",
       "24                                                  6                  \n",
       "25                                                  1                  \n",
       "26                                                  6                  \n",
       "27                                                  6                  \n",
       "28                                                  4                  \n",
       "\n",
       "    ​3. I felt like I was with other people in the city   \\\n",
       "24                                                  1      \n",
       "25                                                  2      \n",
       "26                                                  1      \n",
       "27                                                  2      \n",
       "28                                                  3      \n",
       "\n",
       "    4. The exploration of the virtual town felt similar to exploring a real world city  \n",
       "24                                                  2                                   \n",
       "25                                                  1                                   \n",
       "26                                                  2                                   \n",
       "27                                                  3                                   \n",
       "28                                                  5                                   "
      ]
     },
     "execution_count": 3,
     "metadata": {},
     "output_type": "execute_result"
    }
   ],
   "source": [
    "df.tail()"
   ]
  },
  {
   "cell_type": "code",
   "execution_count": 4,
   "id": "e60de606",
   "metadata": {},
   "outputs": [
    {
     "name": "stdout",
     "output_type": "stream",
     "text": [
      "<class 'pandas.core.frame.DataFrame'>\n",
      "RangeIndex: 29 entries, 0 to 28\n",
      "Data columns (total 6 columns):\n",
      " #   Column     Non-Null Count  Dtype \n",
      "---  ------     --------------  ----- \n",
      " 0   timeStamp  29 non-null     object\n",
      " 1   ID         29 non-null     int64 \n",
      " 2   item1      29 non-null     int64 \n",
      " 3   item2      29 non-null     int64 \n",
      " 4   item3      29 non-null     int64 \n",
      " 5   item4      29 non-null     int64 \n",
      "dtypes: int64(5), object(1)\n",
      "memory usage: 1.5+ KB\n"
     ]
    }
   ],
   "source": [
    "#Renaming the column names \n",
    "column_names = ['timeStamp', 'ID', 'item1', 'item2', 'item3', 'item4']\n",
    "df.columns = column_names\n",
    "df.head()\n",
    "df.info()"
   ]
  },
  {
   "cell_type": "code",
   "execution_count": 5,
   "id": "385ff978",
   "metadata": {},
   "outputs": [
    {
     "data": {
      "text/html": [
       "<div>\n",
       "<style scoped>\n",
       "    .dataframe tbody tr th:only-of-type {\n",
       "        vertical-align: middle;\n",
       "    }\n",
       "\n",
       "    .dataframe tbody tr th {\n",
       "        vertical-align: top;\n",
       "    }\n",
       "\n",
       "    .dataframe thead th {\n",
       "        text-align: right;\n",
       "    }\n",
       "</style>\n",
       "<table border=\"1\" class=\"dataframe\">\n",
       "  <thead>\n",
       "    <tr style=\"text-align: right;\">\n",
       "      <th></th>\n",
       "      <th>ID</th>\n",
       "      <th>item</th>\n",
       "      <th>likert</th>\n",
       "    </tr>\n",
       "  </thead>\n",
       "  <tbody>\n",
       "    <tr>\n",
       "      <th>0</th>\n",
       "      <td>8469</td>\n",
       "      <td>item1</td>\n",
       "      <td>4</td>\n",
       "    </tr>\n",
       "    <tr>\n",
       "      <th>1</th>\n",
       "      <td>7264</td>\n",
       "      <td>item1</td>\n",
       "      <td>7</td>\n",
       "    </tr>\n",
       "    <tr>\n",
       "      <th>2</th>\n",
       "      <td>3572</td>\n",
       "      <td>item1</td>\n",
       "      <td>4</td>\n",
       "    </tr>\n",
       "    <tr>\n",
       "      <th>3</th>\n",
       "      <td>365</td>\n",
       "      <td>item1</td>\n",
       "      <td>3</td>\n",
       "    </tr>\n",
       "    <tr>\n",
       "      <th>4</th>\n",
       "      <td>6642</td>\n",
       "      <td>item1</td>\n",
       "      <td>6</td>\n",
       "    </tr>\n",
       "  </tbody>\n",
       "</table>\n",
       "</div>"
      ],
      "text/plain": [
       "     ID   item  likert\n",
       "0  8469  item1       4\n",
       "1  7264  item1       7\n",
       "2  3572  item1       4\n",
       "3   365  item1       3\n",
       "4  6642  item1       6"
      ]
     },
     "execution_count": 5,
     "metadata": {},
     "output_type": "execute_result"
    }
   ],
   "source": [
    "# From a wide format to a long format \n",
    "Long = pd.melt(df, id_vars=['ID'], value_vars=['item1', 'item2', 'item3', 'item4'], var_name='item', value_name='likert')\n",
    "Long.head()"
   ]
  },
  {
   "cell_type": "code",
   "execution_count": 6,
   "id": "d2b8ec11",
   "metadata": {},
   "outputs": [
    {
     "data": {
      "text/html": [
       "<div>\n",
       "<style scoped>\n",
       "    .dataframe tbody tr th:only-of-type {\n",
       "        vertical-align: middle;\n",
       "    }\n",
       "\n",
       "    .dataframe tbody tr th {\n",
       "        vertical-align: top;\n",
       "    }\n",
       "\n",
       "    .dataframe thead th {\n",
       "        text-align: right;\n",
       "    }\n",
       "</style>\n",
       "<table border=\"1\" class=\"dataframe\">\n",
       "  <thead>\n",
       "    <tr style=\"text-align: right;\">\n",
       "      <th></th>\n",
       "      <th>timeStamp</th>\n",
       "      <th>ID</th>\n",
       "      <th>item1</th>\n",
       "      <th>item2</th>\n",
       "      <th>item3</th>\n",
       "      <th>item4</th>\n",
       "      <th>ContextQ_average</th>\n",
       "    </tr>\n",
       "  </thead>\n",
       "  <tbody>\n",
       "    <tr>\n",
       "      <th>0</th>\n",
       "      <td>11.12.21 16:35</td>\n",
       "      <td>8469</td>\n",
       "      <td>4</td>\n",
       "      <td>6</td>\n",
       "      <td>4</td>\n",
       "      <td>4</td>\n",
       "      <td>5.0</td>\n",
       "    </tr>\n",
       "    <tr>\n",
       "      <th>1</th>\n",
       "      <td>11/15/2021 15:05:58</td>\n",
       "      <td>7264</td>\n",
       "      <td>7</td>\n",
       "      <td>7</td>\n",
       "      <td>3</td>\n",
       "      <td>5</td>\n",
       "      <td>7.0</td>\n",
       "    </tr>\n",
       "    <tr>\n",
       "      <th>2</th>\n",
       "      <td>11/17/2021 13:37:14</td>\n",
       "      <td>3572</td>\n",
       "      <td>4</td>\n",
       "      <td>5</td>\n",
       "      <td>2</td>\n",
       "      <td>5</td>\n",
       "      <td>4.5</td>\n",
       "    </tr>\n",
       "    <tr>\n",
       "      <th>3</th>\n",
       "      <td>11/18/2021 12:14:47</td>\n",
       "      <td>365</td>\n",
       "      <td>3</td>\n",
       "      <td>4</td>\n",
       "      <td>2</td>\n",
       "      <td>5</td>\n",
       "      <td>3.5</td>\n",
       "    </tr>\n",
       "    <tr>\n",
       "      <th>4</th>\n",
       "      <td>11/30/2021 11:31:21</td>\n",
       "      <td>6642</td>\n",
       "      <td>6</td>\n",
       "      <td>6</td>\n",
       "      <td>3</td>\n",
       "      <td>3</td>\n",
       "      <td>6.0</td>\n",
       "    </tr>\n",
       "  </tbody>\n",
       "</table>\n",
       "</div>"
      ],
      "text/plain": [
       "             timeStamp    ID  item1  item2  item3  item4  ContextQ_average\n",
       "0       11.12.21 16:35  8469      4      6      4      4               5.0\n",
       "1  11/15/2021 15:05:58  7264      7      7      3      5               7.0\n",
       "2  11/17/2021 13:37:14  3572      4      5      2      5               4.5\n",
       "3  11/18/2021 12:14:47   365      3      4      2      5               3.5\n",
       "4  11/30/2021 11:31:21  6642      6      6      3      3               6.0"
      ]
     },
     "execution_count": 6,
     "metadata": {},
     "output_type": "execute_result"
    }
   ],
   "source": [
    "# Calculating the average for all context items \n",
    "df['ContextQ_average'] = df[['item1','item2']].mean(axis=1)\n",
    "df.head()"
   ]
  },
  {
   "cell_type": "markdown",
   "id": "9e7035bb",
   "metadata": {},
   "source": [
    "## Write CSV file"
   ]
  },
  {
   "cell_type": "code",
   "execution_count": 7,
   "id": "c0a340c4",
   "metadata": {
    "jupyter": {
     "outputs_hidden": false
    },
    "pycharm": {
     "name": "#%%\n"
    }
   },
   "outputs": [],
   "source": [
    "os.chdir('/Users/tracysanchezpacheco/Documents/Resources')\n",
    "df.to_csv('ContextQuest.csv')"
   ]
  },
  {
   "cell_type": "code",
   "execution_count": 8,
   "id": "64a25699",
   "metadata": {},
   "outputs": [
    {
     "data": {
      "text/html": [
       "<div>\n",
       "<style scoped>\n",
       "    .dataframe tbody tr th:only-of-type {\n",
       "        vertical-align: middle;\n",
       "    }\n",
       "\n",
       "    .dataframe tbody tr th {\n",
       "        vertical-align: top;\n",
       "    }\n",
       "\n",
       "    .dataframe thead th {\n",
       "        text-align: right;\n",
       "    }\n",
       "</style>\n",
       "<table border=\"1\" class=\"dataframe\">\n",
       "  <thead>\n",
       "    <tr style=\"text-align: right;\">\n",
       "      <th></th>\n",
       "      <th>ID</th>\n",
       "      <th>item1</th>\n",
       "      <th>item2</th>\n",
       "      <th>item3</th>\n",
       "      <th>item4</th>\n",
       "      <th>ContextQ_average</th>\n",
       "    </tr>\n",
       "  </thead>\n",
       "  <tbody>\n",
       "    <tr>\n",
       "      <th>count</th>\n",
       "      <td>29.000000</td>\n",
       "      <td>29.000000</td>\n",
       "      <td>29.000000</td>\n",
       "      <td>29.000000</td>\n",
       "      <td>29.000000</td>\n",
       "      <td>29.000000</td>\n",
       "    </tr>\n",
       "    <tr>\n",
       "      <th>mean</th>\n",
       "      <td>5687.344828</td>\n",
       "      <td>4.517241</td>\n",
       "      <td>4.965517</td>\n",
       "      <td>2.586207</td>\n",
       "      <td>3.620690</td>\n",
       "      <td>4.741379</td>\n",
       "    </tr>\n",
       "    <tr>\n",
       "      <th>std</th>\n",
       "      <td>2797.712002</td>\n",
       "      <td>1.660910</td>\n",
       "      <td>1.475581</td>\n",
       "      <td>1.401969</td>\n",
       "      <td>1.544895</td>\n",
       "      <td>1.405478</td>\n",
       "    </tr>\n",
       "    <tr>\n",
       "      <th>min</th>\n",
       "      <td>365.000000</td>\n",
       "      <td>1.000000</td>\n",
       "      <td>1.000000</td>\n",
       "      <td>1.000000</td>\n",
       "      <td>1.000000</td>\n",
       "      <td>1.000000</td>\n",
       "    </tr>\n",
       "    <tr>\n",
       "      <th>25%</th>\n",
       "      <td>3572.000000</td>\n",
       "      <td>4.000000</td>\n",
       "      <td>4.000000</td>\n",
       "      <td>2.000000</td>\n",
       "      <td>2.000000</td>\n",
       "      <td>4.000000</td>\n",
       "    </tr>\n",
       "    <tr>\n",
       "      <th>50%</th>\n",
       "      <td>5531.000000</td>\n",
       "      <td>5.000000</td>\n",
       "      <td>5.000000</td>\n",
       "      <td>2.000000</td>\n",
       "      <td>3.000000</td>\n",
       "      <td>4.500000</td>\n",
       "    </tr>\n",
       "    <tr>\n",
       "      <th>75%</th>\n",
       "      <td>8007.000000</td>\n",
       "      <td>6.000000</td>\n",
       "      <td>6.000000</td>\n",
       "      <td>3.000000</td>\n",
       "      <td>5.000000</td>\n",
       "      <td>6.000000</td>\n",
       "    </tr>\n",
       "    <tr>\n",
       "      <th>max</th>\n",
       "      <td>9601.000000</td>\n",
       "      <td>7.000000</td>\n",
       "      <td>7.000000</td>\n",
       "      <td>7.000000</td>\n",
       "      <td>6.000000</td>\n",
       "      <td>7.000000</td>\n",
       "    </tr>\n",
       "  </tbody>\n",
       "</table>\n",
       "</div>"
      ],
      "text/plain": [
       "                ID      item1      item2      item3      item4  \\\n",
       "count    29.000000  29.000000  29.000000  29.000000  29.000000   \n",
       "mean   5687.344828   4.517241   4.965517   2.586207   3.620690   \n",
       "std    2797.712002   1.660910   1.475581   1.401969   1.544895   \n",
       "min     365.000000   1.000000   1.000000   1.000000   1.000000   \n",
       "25%    3572.000000   4.000000   4.000000   2.000000   2.000000   \n",
       "50%    5531.000000   5.000000   5.000000   2.000000   3.000000   \n",
       "75%    8007.000000   6.000000   6.000000   3.000000   5.000000   \n",
       "max    9601.000000   7.000000   7.000000   7.000000   6.000000   \n",
       "\n",
       "       ContextQ_average  \n",
       "count         29.000000  \n",
       "mean           4.741379  \n",
       "std            1.405478  \n",
       "min            1.000000  \n",
       "25%            4.000000  \n",
       "50%            4.500000  \n",
       "75%            6.000000  \n",
       "max            7.000000  "
      ]
     },
     "execution_count": 8,
     "metadata": {},
     "output_type": "execute_result"
    }
   ],
   "source": [
    "df.describe()"
   ]
  },
  {
   "cell_type": "markdown",
   "id": "77a830c9",
   "metadata": {},
   "source": [
    "## Data Visualization"
   ]
  },
  {
   "cell_type": "code",
   "execution_count": 9,
   "id": "6820c22d",
   "metadata": {},
   "outputs": [
    {
     "data": {
      "image/png": "[encoded data removed]",
      "text/plain": [
       "<Figure size 1080x360 with 1 Axes>"
      ]
     },
     "metadata": {
      "needs_background": "light"
     },
     "output_type": "display_data"
    }
   ],
   "source": [
    "sns.set_palette('colorblind')\n",
    "dy='item'; dx='likert'; ort='H';  sigma = .2\n",
    "#Change y axist from 1 to seven\n",
    "fig, ax = plt.subplots(figsize=(15,5))\n",
    "sns.boxplot(data= Long, x=dy, y=dx, ax=ax)\n",
    "sns.swarmplot(data= Long, x=dy, y=dx,  ax=ax, linewidth=1)\n",
    "\n",
    "plt.show()"
   ]
  },
  {
   "cell_type": "code",
   "execution_count": 10,
   "id": "d4738816",
   "metadata": {},
   "outputs": [
    {
     "data": {
      "text/html": [
       "<div>\n",
       "<style scoped>\n",
       "    .dataframe tbody tr th:only-of-type {\n",
       "        vertical-align: middle;\n",
       "    }\n",
       "\n",
       "    .dataframe tbody tr th {\n",
       "        vertical-align: top;\n",
       "    }\n",
       "\n",
       "    .dataframe thead th {\n",
       "        text-align: right;\n",
       "    }\n",
       "</style>\n",
       "<table border=\"1\" class=\"dataframe\">\n",
       "  <thead>\n",
       "    <tr style=\"text-align: right;\">\n",
       "      <th></th>\n",
       "      <th>ID</th>\n",
       "      <th>item</th>\n",
       "      <th>likert</th>\n",
       "    </tr>\n",
       "  </thead>\n",
       "  <tbody>\n",
       "    <tr>\n",
       "      <th>0</th>\n",
       "      <td>8469</td>\n",
       "      <td>ContextQ_average</td>\n",
       "      <td>5.0</td>\n",
       "    </tr>\n",
       "    <tr>\n",
       "      <th>1</th>\n",
       "      <td>7264</td>\n",
       "      <td>ContextQ_average</td>\n",
       "      <td>7.0</td>\n",
       "    </tr>\n",
       "    <tr>\n",
       "      <th>2</th>\n",
       "      <td>3572</td>\n",
       "      <td>ContextQ_average</td>\n",
       "      <td>4.5</td>\n",
       "    </tr>\n",
       "    <tr>\n",
       "      <th>3</th>\n",
       "      <td>365</td>\n",
       "      <td>ContextQ_average</td>\n",
       "      <td>3.5</td>\n",
       "    </tr>\n",
       "    <tr>\n",
       "      <th>4</th>\n",
       "      <td>6642</td>\n",
       "      <td>ContextQ_average</td>\n",
       "      <td>6.0</td>\n",
       "    </tr>\n",
       "  </tbody>\n",
       "</table>\n",
       "</div>"
      ],
      "text/plain": [
       "     ID              item  likert\n",
       "0  8469  ContextQ_average     5.0\n",
       "1  7264  ContextQ_average     7.0\n",
       "2  3572  ContextQ_average     4.5\n",
       "3   365  ContextQ_average     3.5\n",
       "4  6642  ContextQ_average     6.0"
      ]
     },
     "execution_count": 10,
     "metadata": {},
     "output_type": "execute_result"
    }
   ],
   "source": [
    "LongAv = pd.melt(df, id_vars=['ID'], value_vars=['ContextQ_average'], var_name='item', value_name='likert')\n",
    "LongAv.head()"
   ]
  },
  {
   "cell_type": "code",
   "execution_count": 11,
   "id": "59768cda",
   "metadata": {},
   "outputs": [
    {
     "data": {
      "image/png": "[encoded data removed]",
      "text/plain": [
       "<Figure size 1080x360 with 1 Axes>"
      ]
     },
     "metadata": {
      "needs_background": "light"
     },
     "output_type": "display_data"
    }
   ],
   "source": [
    "dy='item'; dx='likert'; ort='H'; pal = sns.set_palette('colorblind'); sigma = .2\n",
    "\n",
    "fig, ax = plt.subplots(figsize=(15,5))\n",
    "sns.violinplot(data= LongAv, x=dy, y=dx, ax=ax)\n",
    "sns.swarmplot(data= LongAv, x=dy, y=dx,  ax=ax, linewidth=1)\n",
    "\n",
    "plt.show()"
   ]
  }
 ],
 "metadata": {
  "kernelspec": {
   "display_name": "Python 3",
   "language": "python",
   "name": "python3"
  },
  "language_info": {
   "codemirror_mode": {
    "name": "ipython",
    "version": 3
   },
   "file_extension": ".py",
   "mimetype": "text/x-python",
   "name": "python",
   "nbconvert_exporter": "python",
   "pygments_lexer": "ipython3",
   "version": "3.8.8"
  }
 },
 "nbformat": 4,
 "nbformat_minor": 5
}
