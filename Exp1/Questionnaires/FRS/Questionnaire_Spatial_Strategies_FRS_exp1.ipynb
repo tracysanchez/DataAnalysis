{
 "cells": [
  {
   "cell_type": "markdown",
   "id": "6d261deb",
   "metadata": {},
   "source": [
    "# Questionnaire Spatial Strategies FRS\n"
   ]
  },
  {
   "cell_type": "markdown",
   "id": "2440772a",
   "metadata": {},
   "source": [
    "## Import packages "
   ]
  },
  {
   "cell_type": "code",
   "execution_count": 1,
   "id": "7b4650ee",
   "metadata": {},
   "outputs": [],
   "source": [
    "import os\n",
    "import matplotlib.pyplot as plt\n",
    "import seaborn as sns\n",
    "import pingouin as pg\n",
    "import ptitprince as pt\n",
    "from statsmodels.stats.anova import *"
   ]
  },
  {
   "cell_type": "code",
   "execution_count": 2,
   "id": "574ca204",
   "metadata": {},
   "outputs": [],
   "source": [
    "os.chdir(\"/Volumes/TwoTeras/0_Experiment_1/Questionnaires/\")"
   ]
  },
  {
   "cell_type": "code",
   "execution_count": 3,
   "id": "09766ab8",
   "metadata": {},
   "outputs": [
    {
     "data": {
      "text/html": [
       "<div>\n",
       "<style scoped>\n",
       "    .dataframe tbody tr th:only-of-type {\n",
       "        vertical-align: middle;\n",
       "    }\n",
       "\n",
       "    .dataframe tbody tr th {\n",
       "        vertical-align: top;\n",
       "    }\n",
       "\n",
       "    .dataframe thead th {\n",
       "        text-align: right;\n",
       "    }\n",
       "</style>\n",
       "<table border=\"1\" class=\"dataframe\">\n",
       "  <thead>\n",
       "    <tr style=\"text-align: right;\">\n",
       "      <th></th>\n",
       "      <th>ID</th>\n",
       "      <th>Item1</th>\n",
       "      <th>Item2</th>\n",
       "      <th>Item3</th>\n",
       "      <th>Item4</th>\n",
       "      <th>Item5</th>\n",
       "      <th>Item6</th>\n",
       "      <th>Item7</th>\n",
       "      <th>Item8</th>\n",
       "      <th>Item9</th>\n",
       "      <th>...</th>\n",
       "      <th>Item11</th>\n",
       "      <th>Item12</th>\n",
       "      <th>Item13</th>\n",
       "      <th>Item14</th>\n",
       "      <th>Item15</th>\n",
       "      <th>Item16</th>\n",
       "      <th>Item17</th>\n",
       "      <th>Item18</th>\n",
       "      <th>Item19</th>\n",
       "      <th>Alter</th>\n",
       "    </tr>\n",
       "  </thead>\n",
       "  <tbody>\n",
       "    <tr>\n",
       "      <th>count</th>\n",
       "      <td>30.000000</td>\n",
       "      <td>31.000000</td>\n",
       "      <td>32.00000</td>\n",
       "      <td>32.000000</td>\n",
       "      <td>32.000000</td>\n",
       "      <td>32.00000</td>\n",
       "      <td>32.000000</td>\n",
       "      <td>32.000000</td>\n",
       "      <td>32.000000</td>\n",
       "      <td>32.000000</td>\n",
       "      <td>...</td>\n",
       "      <td>32.000000</td>\n",
       "      <td>32.000000</td>\n",
       "      <td>32.000000</td>\n",
       "      <td>32.000000</td>\n",
       "      <td>32.000000</td>\n",
       "      <td>32.000000</td>\n",
       "      <td>32.000000</td>\n",
       "      <td>32.000000</td>\n",
       "      <td>32.00000</td>\n",
       "      <td>30.000000</td>\n",
       "    </tr>\n",
       "    <tr>\n",
       "      <th>mean</th>\n",
       "      <td>5576.466667</td>\n",
       "      <td>4.774194</td>\n",
       "      <td>4.15625</td>\n",
       "      <td>3.781250</td>\n",
       "      <td>4.062500</td>\n",
       "      <td>4.43750</td>\n",
       "      <td>2.375000</td>\n",
       "      <td>3.875000</td>\n",
       "      <td>4.343750</td>\n",
       "      <td>3.125000</td>\n",
       "      <td>...</td>\n",
       "      <td>4.406250</td>\n",
       "      <td>4.562500</td>\n",
       "      <td>4.500000</td>\n",
       "      <td>4.250000</td>\n",
       "      <td>4.625000</td>\n",
       "      <td>4.406250</td>\n",
       "      <td>2.312500</td>\n",
       "      <td>3.937500</td>\n",
       "      <td>3.56250</td>\n",
       "      <td>24.800000</td>\n",
       "    </tr>\n",
       "    <tr>\n",
       "      <th>std</th>\n",
       "      <td>2815.334484</td>\n",
       "      <td>1.499104</td>\n",
       "      <td>1.68694</td>\n",
       "      <td>1.809195</td>\n",
       "      <td>1.605183</td>\n",
       "      <td>1.66438</td>\n",
       "      <td>1.288911</td>\n",
       "      <td>1.844783</td>\n",
       "      <td>1.578267</td>\n",
       "      <td>1.660742</td>\n",
       "      <td>...</td>\n",
       "      <td>1.701221</td>\n",
       "      <td>1.479701</td>\n",
       "      <td>1.391217</td>\n",
       "      <td>1.545023</td>\n",
       "      <td>1.475608</td>\n",
       "      <td>1.662865</td>\n",
       "      <td>1.490562</td>\n",
       "      <td>1.389767</td>\n",
       "      <td>1.58496</td>\n",
       "      <td>6.870226</td>\n",
       "    </tr>\n",
       "    <tr>\n",
       "      <th>min</th>\n",
       "      <td>365.000000</td>\n",
       "      <td>2.000000</td>\n",
       "      <td>2.00000</td>\n",
       "      <td>1.000000</td>\n",
       "      <td>1.000000</td>\n",
       "      <td>1.00000</td>\n",
       "      <td>1.000000</td>\n",
       "      <td>1.000000</td>\n",
       "      <td>1.000000</td>\n",
       "      <td>1.000000</td>\n",
       "      <td>...</td>\n",
       "      <td>1.000000</td>\n",
       "      <td>2.000000</td>\n",
       "      <td>2.000000</td>\n",
       "      <td>2.000000</td>\n",
       "      <td>1.000000</td>\n",
       "      <td>1.000000</td>\n",
       "      <td>1.000000</td>\n",
       "      <td>1.000000</td>\n",
       "      <td>1.00000</td>\n",
       "      <td>19.000000</td>\n",
       "    </tr>\n",
       "    <tr>\n",
       "      <th>25%</th>\n",
       "      <td>3375.500000</td>\n",
       "      <td>3.500000</td>\n",
       "      <td>2.75000</td>\n",
       "      <td>2.000000</td>\n",
       "      <td>3.000000</td>\n",
       "      <td>3.00000</td>\n",
       "      <td>1.000000</td>\n",
       "      <td>3.000000</td>\n",
       "      <td>3.000000</td>\n",
       "      <td>2.000000</td>\n",
       "      <td>...</td>\n",
       "      <td>3.000000</td>\n",
       "      <td>3.000000</td>\n",
       "      <td>3.000000</td>\n",
       "      <td>3.000000</td>\n",
       "      <td>3.750000</td>\n",
       "      <td>3.000000</td>\n",
       "      <td>1.000000</td>\n",
       "      <td>3.000000</td>\n",
       "      <td>2.00000</td>\n",
       "      <td>21.000000</td>\n",
       "    </tr>\n",
       "    <tr>\n",
       "      <th>50%</th>\n",
       "      <td>5384.500000</td>\n",
       "      <td>5.000000</td>\n",
       "      <td>4.00000</td>\n",
       "      <td>3.000000</td>\n",
       "      <td>4.000000</td>\n",
       "      <td>5.00000</td>\n",
       "      <td>2.000000</td>\n",
       "      <td>3.500000</td>\n",
       "      <td>5.000000</td>\n",
       "      <td>3.000000</td>\n",
       "      <td>...</td>\n",
       "      <td>5.000000</td>\n",
       "      <td>5.000000</td>\n",
       "      <td>5.000000</td>\n",
       "      <td>4.500000</td>\n",
       "      <td>5.000000</td>\n",
       "      <td>5.000000</td>\n",
       "      <td>2.000000</td>\n",
       "      <td>4.000000</td>\n",
       "      <td>3.00000</td>\n",
       "      <td>23.000000</td>\n",
       "    </tr>\n",
       "    <tr>\n",
       "      <th>75%</th>\n",
       "      <td>7965.750000</td>\n",
       "      <td>6.000000</td>\n",
       "      <td>6.00000</td>\n",
       "      <td>5.250000</td>\n",
       "      <td>5.000000</td>\n",
       "      <td>6.00000</td>\n",
       "      <td>3.250000</td>\n",
       "      <td>5.000000</td>\n",
       "      <td>5.250000</td>\n",
       "      <td>4.000000</td>\n",
       "      <td>...</td>\n",
       "      <td>6.000000</td>\n",
       "      <td>5.250000</td>\n",
       "      <td>6.000000</td>\n",
       "      <td>6.000000</td>\n",
       "      <td>6.000000</td>\n",
       "      <td>6.000000</td>\n",
       "      <td>3.000000</td>\n",
       "      <td>5.000000</td>\n",
       "      <td>5.00000</td>\n",
       "      <td>24.750000</td>\n",
       "    </tr>\n",
       "    <tr>\n",
       "      <th>max</th>\n",
       "      <td>9601.000000</td>\n",
       "      <td>7.000000</td>\n",
       "      <td>7.00000</td>\n",
       "      <td>7.000000</td>\n",
       "      <td>7.000000</td>\n",
       "      <td>7.00000</td>\n",
       "      <td>5.000000</td>\n",
       "      <td>7.000000</td>\n",
       "      <td>7.000000</td>\n",
       "      <td>7.000000</td>\n",
       "      <td>...</td>\n",
       "      <td>7.000000</td>\n",
       "      <td>7.000000</td>\n",
       "      <td>7.000000</td>\n",
       "      <td>6.000000</td>\n",
       "      <td>7.000000</td>\n",
       "      <td>7.000000</td>\n",
       "      <td>6.000000</td>\n",
       "      <td>6.000000</td>\n",
       "      <td>7.00000</td>\n",
       "      <td>46.000000</td>\n",
       "    </tr>\n",
       "  </tbody>\n",
       "</table>\n",
       "<p>8 rows × 21 columns</p>\n",
       "</div>"
      ],
      "text/plain": [
       "                ID      Item1     Item2      Item3      Item4     Item5  \\\n",
       "count    30.000000  31.000000  32.00000  32.000000  32.000000  32.00000   \n",
       "mean   5576.466667   4.774194   4.15625   3.781250   4.062500   4.43750   \n",
       "std    2815.334484   1.499104   1.68694   1.809195   1.605183   1.66438   \n",
       "min     365.000000   2.000000   2.00000   1.000000   1.000000   1.00000   \n",
       "25%    3375.500000   3.500000   2.75000   2.000000   3.000000   3.00000   \n",
       "50%    5384.500000   5.000000   4.00000   3.000000   4.000000   5.00000   \n",
       "75%    7965.750000   6.000000   6.00000   5.250000   5.000000   6.00000   \n",
       "max    9601.000000   7.000000   7.00000   7.000000   7.000000   7.00000   \n",
       "\n",
       "           Item6      Item7      Item8      Item9  ...     Item11     Item12  \\\n",
       "count  32.000000  32.000000  32.000000  32.000000  ...  32.000000  32.000000   \n",
       "mean    2.375000   3.875000   4.343750   3.125000  ...   4.406250   4.562500   \n",
       "std     1.288911   1.844783   1.578267   1.660742  ...   1.701221   1.479701   \n",
       "min     1.000000   1.000000   1.000000   1.000000  ...   1.000000   2.000000   \n",
       "25%     1.000000   3.000000   3.000000   2.000000  ...   3.000000   3.000000   \n",
       "50%     2.000000   3.500000   5.000000   3.000000  ...   5.000000   5.000000   \n",
       "75%     3.250000   5.000000   5.250000   4.000000  ...   6.000000   5.250000   \n",
       "max     5.000000   7.000000   7.000000   7.000000  ...   7.000000   7.000000   \n",
       "\n",
       "          Item13     Item14     Item15     Item16     Item17     Item18  \\\n",
       "count  32.000000  32.000000  32.000000  32.000000  32.000000  32.000000   \n",
       "mean    4.500000   4.250000   4.625000   4.406250   2.312500   3.937500   \n",
       "std     1.391217   1.545023   1.475608   1.662865   1.490562   1.389767   \n",
       "min     2.000000   2.000000   1.000000   1.000000   1.000000   1.000000   \n",
       "25%     3.000000   3.000000   3.750000   3.000000   1.000000   3.000000   \n",
       "50%     5.000000   4.500000   5.000000   5.000000   2.000000   4.000000   \n",
       "75%     6.000000   6.000000   6.000000   6.000000   3.000000   5.000000   \n",
       "max     7.000000   6.000000   7.000000   7.000000   6.000000   6.000000   \n",
       "\n",
       "         Item19     Alter   \n",
       "count  32.00000  30.000000  \n",
       "mean    3.56250  24.800000  \n",
       "std     1.58496   6.870226  \n",
       "min     1.00000  19.000000  \n",
       "25%     2.00000  21.000000  \n",
       "50%     3.00000  23.000000  \n",
       "75%     5.00000  24.750000  \n",
       "max     7.00000  46.000000  \n",
       "\n",
       "[8 rows x 21 columns]"
      ]
     },
     "execution_count": 3,
     "metadata": {},
     "output_type": "execute_result"
    }
   ],
   "source": [
    "# Data set loading\n",
    "df_file = \"FRS_exp1.csv\"\n",
    "df = pd.read_csv(df_file, sep= ',')\n",
    "df.describe()"
   ]
  },
  {
   "cell_type": "markdown",
   "id": "a7be1527",
   "metadata": {},
   "source": [
    "## „Globale Einschätzung der Orientierungsfähigkeit mit Richtungs- und Wegstrategie“"
   ]
  },
  {
   "cell_type": "code",
   "execution_count": 4,
   "id": "1d611024",
   "metadata": {},
   "outputs": [
    {
     "data": {
      "text/plain": [
       "(0.9087514675597128, array([0.831, 0.959]))"
      ]
     },
     "execution_count": 4,
     "metadata": {},
     "output_type": "execute_result"
    }
   ],
   "source": [
    "df[\"Global\"] = df[[\"Item1\", \"Item4\", \"Item5\", \"Item8\", \"Item10\", \"Item12\", \"Item13\", \"Item14\", \"Item15\",\n",
    "\"Item18\"]].mean(axis=1)\n",
    "df[\"Global\"].describe()\n",
    "Global = df[[\"Item1\", \"Item4\", \"Item5\", \"Item8\", \"Item10\", \"Item12\", \"Item13\", \"Item14\", \"Item15\",\"Item18\"]]\n",
    "pg.cronbach_alpha(data=Global, ci=.99)"
   ]
  },
  {
   "cell_type": "markdown",
   "id": "39c351ff",
   "metadata": {},
   "source": [
    "## „Verwendung einer Überblicksstrategie“"
   ]
  },
  {
   "cell_type": "code",
   "execution_count": 5,
   "id": "a99f0e75",
   "metadata": {},
   "outputs": [
    {
     "data": {
      "text/plain": [
       "(0.9137783665968631, array([0.836, 0.961]))"
      ]
     },
     "execution_count": 5,
     "metadata": {},
     "output_type": "execute_result"
    }
   ],
   "source": [
    "df[\"Overview\"] = df[[\"Item2\", \"Item3\", \"Item7\", \"Item9\", \"Item11\", \"Item16\", \"Item19\"]].mean(axis=1)\n",
    "Overview = df[[\"Item2\", \"Item3\", \"Item7\", \"Item9\", \"Item11\", \"Item16\", \"Item19\"]]\n",
    "pg.cronbach_alpha(data=Overview, ci=.99)"
   ]
  },
  {
   "cell_type": "markdown",
   "id": "46d7f6da",
   "metadata": {},
   "source": [
    "## „Kenntnis der Himmelsrichtungen“"
   ]
  },
  {
   "cell_type": "code",
   "execution_count": 6,
   "id": "948751ce",
   "metadata": {},
   "outputs": [
    {
     "data": {
      "text/plain": [
       "(0.8133086876155269, array([0.517, 0.928]))"
      ]
     },
     "execution_count": 6,
     "metadata": {},
     "output_type": "execute_result"
    }
   ],
   "source": [
    "df[\"Cardinal\"] = df[[\"Item6\", \"Item17\"]].mean(axis=1)\n",
    "Cardinal = df[[\"Item6\", \"Item17\"]]\n",
    "pg.cronbach_alpha(data=Cardinal, ci=.99)\n"
   ]
  },
  {
   "cell_type": "code",
   "execution_count": 7,
   "id": "5299f8a8",
   "metadata": {},
   "outputs": [
    {
     "name": "stdout",
     "output_type": "stream",
     "text": [
      "<class 'pandas.core.frame.DataFrame'>\n",
      "Int64Index: 30 entries, 0 to 31\n",
      "Data columns (total 5 columns):\n",
      " #   Column    Non-Null Count  Dtype  \n",
      "---  ------    --------------  -----  \n",
      " 0   ID        30 non-null     float64\n",
      " 1   Alter     30 non-null     float64\n",
      " 2   Global    30 non-null     float64\n",
      " 3   Overview  30 non-null     float64\n",
      " 4   Cardinal  30 non-null     float64\n",
      "dtypes: float64(5)\n",
      "memory usage: 1.4 KB\n"
     ]
    }
   ],
   "source": [
    "df1 = df.iloc[:, [2,22,24,25,26]].copy()\n",
    "FRSsubs= df1.dropna()\n",
    "FRSsubs.info()"
   ]
  },
  {
   "cell_type": "code",
   "execution_count": 8,
   "id": "4c7183fd",
   "metadata": {},
   "outputs": [
    {
     "name": "stdout",
     "output_type": "stream",
     "text": [
      "<class 'pandas.core.frame.DataFrame'>\n",
      "RangeIndex: 90 entries, 0 to 89\n",
      "Data columns (total 3 columns):\n",
      " #   Column    Non-Null Count  Dtype  \n",
      "---  ------    --------------  -----  \n",
      " 0   ID        90 non-null     float64\n",
      " 1   Subscale  90 non-null     object \n",
      " 2   Average   90 non-null     float64\n",
      "dtypes: float64(2), object(1)\n",
      "memory usage: 2.2+ KB\n"
     ]
    }
   ],
   "source": [
    "FRSsubsLong = pd.melt(FRSsubs, id_vars=['ID'], value_vars=[\"Global\", \"Overview\", \"Cardinal\"], var_name='Subscale', value_name='Average')\n",
    "FRSsubsLong.info()"
   ]
  },
  {
   "cell_type": "markdown",
   "id": "94a1a855",
   "metadata": {
    "pycharm": {
     "name": "#%% md\n"
    }
   },
   "source": [
    "## Export File to CSV"
   ]
  },
  {
   "cell_type": "code",
   "execution_count": 9,
   "id": "d0b492f9",
   "metadata": {
    "collapsed": false,
    "jupyter": {
     "outputs_hidden": false
    },
    "pycharm": {
     "name": "#%%\n"
    }
   },
   "outputs": [],
   "source": [
    "FRSsubs.to_csv('Results/FRSsubs_exp1.csv')"
   ]
  },
  {
   "cell_type": "markdown",
   "id": "7853abbc",
   "metadata": {
    "pycharm": {
     "name": "#%% md\n"
    }
   },
   "source": [
    "## Plotting"
   ]
  },
  {
   "cell_type": "code",
   "execution_count": 10,
   "id": "7003436e",
   "metadata": {
    "collapsed": false,
    "jupyter": {
     "outputs_hidden": false
    },
    "pycharm": {
     "name": "#%%\n"
    }
   },
   "outputs": [
    {
     "data": {
      "image/png": "[encoded data removed]",
      "text/plain": [
       "<Figure size 576x288 with 1 Axes>"
      ]
     },
     "metadata": {
      "needs_background": "light"
     },
     "output_type": "display_data"
    }
   ],
   "source": [
    "dy=\"Subscale\"; dx=\"Average\"; ort=\"H\"; pal = sns.color_palette(\"Set2\"); sigma = .2\n",
    "sns.set_palette('colorblind')\n",
    "#create figure and axes objects of a predefined size\n",
    "fig, axes = plt.subplots(nrows=1, ncols=1, figsize=(8,4))\n",
    "sns.violinplot(data= FRSsubsLong, x=dx, y=dy, scale=\"width\")\n",
    "plt.show()"
   ]
  },
  {
   "cell_type": "code",
   "execution_count": 11,
   "id": "bc4b187a",
   "metadata": {},
   "outputs": [
    {
     "data": {
      "text/plain": [
       "<Figure size 864x576 with 0 Axes>"
      ]
     },
     "metadata": {},
     "output_type": "display_data"
    },
    {
     "data": {
      "image/png": "[encoded data removed]",
      "text/plain": [
       "<Figure size 576x288 with 1 Axes>"
      ]
     },
     "metadata": {},
     "output_type": "display_data"
    }
   ],
   "source": [
    "dy=\"Subscale\"; dx=\"Average\"; ort=\"H\";  sigma = .2\n",
    "sns.set_palette(\"colorblind\")\n",
    "sns.set_style(\"white\")\n",
    "sns.set(rc={\"figure.figsize\":(12, 8)})\n",
    "sns.set(font_scale = 1.3)\n",
    "plt.tight_layout()\n",
    "#create figure and axes objects of a predefined size\n",
    "fig, axes = plt.subplots(nrows=1, ncols=1, figsize=(8,4))\n",
    "sns.boxplot(data= FRSsubsLong, y=dx, x=dy, palette='colorblind').set( xlabel='FRS sub-scales')\n",
    "sns.scatterplot(data= FRSsubsLong, y=dx, x=dy, hue=dy, palette='dark', legend=False)\n",
    "plt.title('“Fragebogen Räumlicher Strategien” (FRS) questionnaire', weight='bold').set_fontsize('18')\n",
    "plt.show()"
   ]
  },
  {
   "cell_type": "code",
   "execution_count": 12,
   "id": "960ff8de",
   "metadata": {},
   "outputs": [
    {
     "data": {
      "image/png": "[encoded data removed]",
      "text/plain": [
       "<Figure size 1152x288 with 1 Axes>"
      ]
     },
     "metadata": {},
     "output_type": "display_data"
    },
    {
     "name": "stderr",
     "output_type": "stream",
     "text": [
      "/Users/tracysanchezpacheco/opt/anaconda3/lib/python3.8/site-packages/outdated/utils.py:14: OutdatedPackageWarning: The package outdated is out of date. Your version is 0.2.1, the latest is 0.2.2.\n",
      "Set the environment variable OUTDATED_IGNORE=1 to disable these warnings.\n",
      "  return warn(\n",
      "/Users/tracysanchezpacheco/opt/anaconda3/lib/python3.8/site-packages/outdated/utils.py:14: OutdatedPackageWarning: The package pingouin is out of date. Your version is 0.5.1, the latest is 0.5.3.\n",
      "Set the environment variable OUTDATED_IGNORE=1 to disable these warnings.\n",
      "  return warn(\n"
     ]
    }
   ],
   "source": [
    "\n",
    "dy=\"Subscale\"; dx=\"Average\"; ort=\"h\"; pal = sns.color_palette(); sigma = .2\n",
    "f, ax = plt.subplots(figsize=(16, 4))\n",
    "\n",
    "ax=pt.half_violinplot( x = dx, y = dy, data =\n",
    "FRSsubsLong, palette = pal, bw = .2, cut = 0.,\n",
    "                      scale = \"area\", width = .6, inner = None, orient = ort)\n",
    "ax=sns.stripplot( x = dx, y = dy, data = FRSsubsLong, palette = pal, edgecolor = \"white\",\n",
    "                 size = 3, jitter = 1, zorder = 0, orient = ort)\n",
    "ax=sns.boxplot( x = dx, y = dy, data = FRSsubsLong, color = \"black\", width = .15, zorder = 10,\\\n",
    "            showcaps = True, boxprops = {'facecolor':'none', \"zorder\":10},\\\n",
    "            showfliers=True, whiskerprops = {'linewidth':2, \"zorder\":10},\\\n",
    "               saturation = 1, orient = ort) "
   ]
  },
  {
   "cell_type": "code",
   "execution_count": null,
   "id": "eaad5895-274b-4a51-9a7a-8f6754a270f9",
   "metadata": {},
   "outputs": [],
   "source": []
  }
 ],
 "metadata": {
  "kernelspec": {
   "display_name": "Python 3",
   "language": "python",
   "name": "python3"
  },
  "language_info": {
   "codemirror_mode": {
    "name": "ipython",
    "version": 3
   },
   "file_extension": ".py",
   "mimetype": "text/x-python",
   "name": "python",
   "nbconvert_exporter": "python",
   "pygments_lexer": "ipython3",
   "version": "3.8.8"
  }
 },
 "nbformat": 4,
 "nbformat_minor": 5
}
