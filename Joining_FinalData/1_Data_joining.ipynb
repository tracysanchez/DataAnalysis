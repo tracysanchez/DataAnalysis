{
 "cells": [
  {
   "cell_type": "markdown",
   "id": "4f9d77f1-1a10-4e4f-9adb-9757cebe2a9d",
   "metadata": {
    "pycharm": {
     "name": "#%% md\n"
    }
   },
   "source": [
    "# Joining final data sets\n"
   ]
  },
  {
   "cell_type": "code",
   "execution_count": 41,
   "id": "8bd25d78-385e-48d2-a05a-c2415f93c133",
   "metadata": {},
   "outputs": [],
   "source": [
    "import os\n",
    "import pandas as pd\n",
    "from functools import reduce"
   ]
  },
  {
   "cell_type": "code",
   "execution_count": 42,
   "id": "1aadeed8-dbba-42c4-8790-4ed7275ae3ab",
   "metadata": {},
   "outputs": [
    {
     "data": {
      "text/plain": "       ID  Alter   Global  Overview  Cardinal\n0   365.0    37.0     5.6  6.285714       2.5\n1  3572.0    23.0     5.7  3.142857       1.0\n2  7264.0    23.0     4.7  5.000000       1.0\n3  8469.0    29.0     4.2  2.857143       1.0\n4  6642.0    19.0     4.9  4.714286       4.0",
      "text/html": "<div>\n<style scoped>\n    .dataframe tbody tr th:only-of-type {\n        vertical-align: middle;\n    }\n\n    .dataframe tbody tr th {\n        vertical-align: top;\n    }\n\n    .dataframe thead th {\n        text-align: right;\n    }\n</style>\n<table border=\"1\" class=\"dataframe\">\n  <thead>\n    <tr style=\"text-align: right;\">\n      <th></th>\n      <th>ID</th>\n      <th>Alter</th>\n      <th>Global</th>\n      <th>Overview</th>\n      <th>Cardinal</th>\n    </tr>\n  </thead>\n  <tbody>\n    <tr>\n      <th>0</th>\n      <td>365.0</td>\n      <td>37.0</td>\n      <td>5.6</td>\n      <td>6.285714</td>\n      <td>2.5</td>\n    </tr>\n    <tr>\n      <th>1</th>\n      <td>3572.0</td>\n      <td>23.0</td>\n      <td>5.7</td>\n      <td>3.142857</td>\n      <td>1.0</td>\n    </tr>\n    <tr>\n      <th>2</th>\n      <td>7264.0</td>\n      <td>23.0</td>\n      <td>4.7</td>\n      <td>5.000000</td>\n      <td>1.0</td>\n    </tr>\n    <tr>\n      <th>3</th>\n      <td>8469.0</td>\n      <td>29.0</td>\n      <td>4.2</td>\n      <td>2.857143</td>\n      <td>1.0</td>\n    </tr>\n    <tr>\n      <th>4</th>\n      <td>6642.0</td>\n      <td>19.0</td>\n      <td>4.9</td>\n      <td>4.714286</td>\n      <td>4.0</td>\n    </tr>\n  </tbody>\n</table>\n</div>"
     },
     "execution_count": 42,
     "metadata": {},
     "output_type": "execute_result"
    }
   ],
   "source": [
    "# Loading the final datasets data come as a result of the jupiter notebooks contained in  \n",
    "FRSquest = pd.read_csv('/Users/tracysanchezpacheco/Documents/Resources/FRSsubs.csv')\n",
    "FRSquest.drop('Unnamed: 0', axis=1, inplace=True)\n",
    "FRSquest.head()"
   ]
  },
  {
   "cell_type": "code",
   "execution_count": 43,
   "outputs": [
    {
     "data": {
      "text/plain": "      ID  AffiliativeQ_average\n0   8469                   3.8\n1   7264                   1.4\n2   3572                   4.0\n3    365                   5.2\n4   6642                   4.2\n5   5741                   2.8\n6   7842                   3.4\n7   4176                   3.4\n8   9472                   4.6\n9   4623                   2.2\n10  9502                   2.4\n11  7093                   3.6\n12  2258                   5.0\n13  1754                   2.4\n14  5238                   5.0\n15  8695                   4.8\n16  3976                   2.4\n17  5531                   5.6",
      "text/html": "<div>\n<style scoped>\n    .dataframe tbody tr th:only-of-type {\n        vertical-align: middle;\n    }\n\n    .dataframe tbody tr th {\n        vertical-align: top;\n    }\n\n    .dataframe thead th {\n        text-align: right;\n    }\n</style>\n<table border=\"1\" class=\"dataframe\">\n  <thead>\n    <tr style=\"text-align: right;\">\n      <th></th>\n      <th>ID</th>\n      <th>AffiliativeQ_average</th>\n    </tr>\n  </thead>\n  <tbody>\n    <tr>\n      <th>0</th>\n      <td>8469</td>\n      <td>3.8</td>\n    </tr>\n    <tr>\n      <th>1</th>\n      <td>7264</td>\n      <td>1.4</td>\n    </tr>\n    <tr>\n      <th>2</th>\n      <td>3572</td>\n      <td>4.0</td>\n    </tr>\n    <tr>\n      <th>3</th>\n      <td>365</td>\n      <td>5.2</td>\n    </tr>\n    <tr>\n      <th>4</th>\n      <td>6642</td>\n      <td>4.2</td>\n    </tr>\n    <tr>\n      <th>5</th>\n      <td>5741</td>\n      <td>2.8</td>\n    </tr>\n    <tr>\n      <th>6</th>\n      <td>7842</td>\n      <td>3.4</td>\n    </tr>\n    <tr>\n      <th>7</th>\n      <td>4176</td>\n      <td>3.4</td>\n    </tr>\n    <tr>\n      <th>8</th>\n      <td>9472</td>\n      <td>4.6</td>\n    </tr>\n    <tr>\n      <th>9</th>\n      <td>4623</td>\n      <td>2.2</td>\n    </tr>\n    <tr>\n      <th>10</th>\n      <td>9502</td>\n      <td>2.4</td>\n    </tr>\n    <tr>\n      <th>11</th>\n      <td>7093</td>\n      <td>3.6</td>\n    </tr>\n    <tr>\n      <th>12</th>\n      <td>2258</td>\n      <td>5.0</td>\n    </tr>\n    <tr>\n      <th>13</th>\n      <td>1754</td>\n      <td>2.4</td>\n    </tr>\n    <tr>\n      <th>14</th>\n      <td>5238</td>\n      <td>5.0</td>\n    </tr>\n    <tr>\n      <th>15</th>\n      <td>8695</td>\n      <td>4.8</td>\n    </tr>\n    <tr>\n      <th>16</th>\n      <td>3976</td>\n      <td>2.4</td>\n    </tr>\n    <tr>\n      <th>17</th>\n      <td>5531</td>\n      <td>5.6</td>\n    </tr>\n  </tbody>\n</table>\n</div>"
     },
     "execution_count": 43,
     "metadata": {},
     "output_type": "execute_result"
    }
   ],
   "source": [
    "affiliative = pd.read_csv('/Users/tracysanchezpacheco/Documents/Resources/AffilliativeTend.csv')\n",
    "affiliative = affiliative[['ID', 'AffiliativeQ_average']]\n",
    "affiliative.head(18)"
   ],
   "metadata": {
    "collapsed": false,
    "pycharm": {
     "name": "#%%\n"
    }
   }
  },
  {
   "cell_type": "code",
   "execution_count": 44,
   "outputs": [
    {
     "data": {
      "text/plain": "     ID  ContextQ_average\n0  8469               4.5\n1  7264               5.5\n2  3572               4.0\n3   365               3.5\n4  6642               4.5",
      "text/html": "<div>\n<style scoped>\n    .dataframe tbody tr th:only-of-type {\n        vertical-align: middle;\n    }\n\n    .dataframe tbody tr th {\n        vertical-align: top;\n    }\n\n    .dataframe thead th {\n        text-align: right;\n    }\n</style>\n<table border=\"1\" class=\"dataframe\">\n  <thead>\n    <tr style=\"text-align: right;\">\n      <th></th>\n      <th>ID</th>\n      <th>ContextQ_average</th>\n    </tr>\n  </thead>\n  <tbody>\n    <tr>\n      <th>0</th>\n      <td>8469</td>\n      <td>4.5</td>\n    </tr>\n    <tr>\n      <th>1</th>\n      <td>7264</td>\n      <td>5.5</td>\n    </tr>\n    <tr>\n      <th>2</th>\n      <td>3572</td>\n      <td>4.0</td>\n    </tr>\n    <tr>\n      <th>3</th>\n      <td>365</td>\n      <td>3.5</td>\n    </tr>\n    <tr>\n      <th>4</th>\n      <td>6642</td>\n      <td>4.5</td>\n    </tr>\n  </tbody>\n</table>\n</div>"
     },
     "execution_count": 44,
     "metadata": {},
     "output_type": "execute_result"
    }
   ],
   "source": [
    "context = pd.read_csv('/Users/tracysanchezpacheco/Documents/Resources/ContextQuest.csv')\n",
    "context = context[['ID', 'ContextQ_average']]\n",
    "context.head()"
   ],
   "metadata": {
    "collapsed": false,
    "pycharm": {
     "name": "#%%\n"
    }
   }
  },
  {
   "cell_type": "code",
   "execution_count": 45,
   "outputs": [
    {
     "data": {
      "text/plain": "      ID  avatar_action_likert  avatar_standing_likert\n0    365                    76                      31\n1   1754                    47                      29\n2   2258                    97                      41\n3   3572                    63                      48\n4   3976                    53                      28\n5   4176                    84                      31\n6   4597                    93                      35\n7   4623                    65                      48\n8   4796                    90                      35\n9   5238                    95                      43\n10  5531                   100                      63\n11  5741                   108                      82\n12  6642                   102                      61\n13  7093                    83                      42\n14  7264                    61                      50\n15  7412                   101                      47\n16  7842                    81                      50\n17  8469                    62                      33\n18  8695                    69                      32\n19  9472                    76                      62\n20  9502                    90                      36",
      "text/html": "<div>\n<style scoped>\n    .dataframe tbody tr th:only-of-type {\n        vertical-align: middle;\n    }\n\n    .dataframe tbody tr th {\n        vertical-align: top;\n    }\n\n    .dataframe thead th {\n        text-align: right;\n    }\n</style>\n<table border=\"1\" class=\"dataframe\">\n  <thead>\n    <tr style=\"text-align: right;\">\n      <th></th>\n      <th>ID</th>\n      <th>avatar_action_likert</th>\n      <th>avatar_standing_likert</th>\n    </tr>\n  </thead>\n  <tbody>\n    <tr>\n      <th>0</th>\n      <td>365</td>\n      <td>76</td>\n      <td>31</td>\n    </tr>\n    <tr>\n      <th>1</th>\n      <td>1754</td>\n      <td>47</td>\n      <td>29</td>\n    </tr>\n    <tr>\n      <th>2</th>\n      <td>2258</td>\n      <td>97</td>\n      <td>41</td>\n    </tr>\n    <tr>\n      <th>3</th>\n      <td>3572</td>\n      <td>63</td>\n      <td>48</td>\n    </tr>\n    <tr>\n      <th>4</th>\n      <td>3976</td>\n      <td>53</td>\n      <td>28</td>\n    </tr>\n    <tr>\n      <th>5</th>\n      <td>4176</td>\n      <td>84</td>\n      <td>31</td>\n    </tr>\n    <tr>\n      <th>6</th>\n      <td>4597</td>\n      <td>93</td>\n      <td>35</td>\n    </tr>\n    <tr>\n      <th>7</th>\n      <td>4623</td>\n      <td>65</td>\n      <td>48</td>\n    </tr>\n    <tr>\n      <th>8</th>\n      <td>4796</td>\n      <td>90</td>\n      <td>35</td>\n    </tr>\n    <tr>\n      <th>9</th>\n      <td>5238</td>\n      <td>95</td>\n      <td>43</td>\n    </tr>\n    <tr>\n      <th>10</th>\n      <td>5531</td>\n      <td>100</td>\n      <td>63</td>\n    </tr>\n    <tr>\n      <th>11</th>\n      <td>5741</td>\n      <td>108</td>\n      <td>82</td>\n    </tr>\n    <tr>\n      <th>12</th>\n      <td>6642</td>\n      <td>102</td>\n      <td>61</td>\n    </tr>\n    <tr>\n      <th>13</th>\n      <td>7093</td>\n      <td>83</td>\n      <td>42</td>\n    </tr>\n    <tr>\n      <th>14</th>\n      <td>7264</td>\n      <td>61</td>\n      <td>50</td>\n    </tr>\n    <tr>\n      <th>15</th>\n      <td>7412</td>\n      <td>101</td>\n      <td>47</td>\n    </tr>\n    <tr>\n      <th>16</th>\n      <td>7842</td>\n      <td>81</td>\n      <td>50</td>\n    </tr>\n    <tr>\n      <th>17</th>\n      <td>8469</td>\n      <td>62</td>\n      <td>33</td>\n    </tr>\n    <tr>\n      <th>18</th>\n      <td>8695</td>\n      <td>69</td>\n      <td>32</td>\n    </tr>\n    <tr>\n      <th>19</th>\n      <td>9472</td>\n      <td>76</td>\n      <td>62</td>\n    </tr>\n    <tr>\n      <th>20</th>\n      <td>9502</td>\n      <td>90</td>\n      <td>36</td>\n    </tr>\n  </tbody>\n</table>\n</div>"
     },
     "execution_count": 45,
     "metadata": {},
     "output_type": "execute_result"
    }
   ],
   "source": [
    "avatar_sum = pd.read_csv('/Users/tracysanchezpacheco/Documents/Resources/AvatarSum.csv')\n",
    "avatar_sum.head(21)"
   ],
   "metadata": {
    "collapsed": false,
    "pycharm": {
     "name": "#%%\n"
    }
   }
  },
  {
   "cell_type": "code",
   "execution_count": 46,
   "outputs": [
    {
     "data": {
      "text/plain": "    ID  AbsolutError  SignedAngle-+180        IQR         RT  \\\n0  365     15.396716         15.396716  63.921884  25.825715   \n1  365      6.037733         -6.037733  63.921884   4.799789   \n2  365      6.345290          6.345290  63.921884   4.638590   \n3  365      3.627752          3.627752  63.921884   2.361455   \n4  365     19.115237        -19.115237  63.921884   5.975304   \n\n   DistanceToParticipant  PointingTaskStartingLocations  TrialID  \\\n0             197.768723                             21        1   \n1             213.475525                             16       78   \n2             111.623512                             13       88   \n3             111.623512                             13       95   \n4             232.765823                              8      131   \n\n   ID_for_StartingPosition  PointingTaskStartingLocations.1  avatarID  \\\n0                        1                               21        46   \n1                        6                               16        46   \n2                        4                               13        46   \n3                       11                               13        46   \n4                       11                                8        46   \n\n  AvatarPresenceCategory  Context meaningfulBuilding ImageName  \n0                 Avatar    False     Not meaningful     46_Sa  \n1               NoAvatar    False     Not meaningful   46_SaNo  \n2                 Avatar    False     Not meaningful     46_Sa  \n3               NoAvatar    False     Not meaningful   46_SaNo  \n4               NoAvatar    False     Not meaningful   46_SaNo  ",
      "text/html": "<div>\n<style scoped>\n    .dataframe tbody tr th:only-of-type {\n        vertical-align: middle;\n    }\n\n    .dataframe tbody tr th {\n        vertical-align: top;\n    }\n\n    .dataframe thead th {\n        text-align: right;\n    }\n</style>\n<table border=\"1\" class=\"dataframe\">\n  <thead>\n    <tr style=\"text-align: right;\">\n      <th></th>\n      <th>ID</th>\n      <th>AbsolutError</th>\n      <th>SignedAngle-+180</th>\n      <th>IQR</th>\n      <th>RT</th>\n      <th>DistanceToParticipant</th>\n      <th>PointingTaskStartingLocations</th>\n      <th>TrialID</th>\n      <th>ID_for_StartingPosition</th>\n      <th>PointingTaskStartingLocations.1</th>\n      <th>avatarID</th>\n      <th>AvatarPresenceCategory</th>\n      <th>Context</th>\n      <th>meaningfulBuilding</th>\n      <th>ImageName</th>\n    </tr>\n  </thead>\n  <tbody>\n    <tr>\n      <th>0</th>\n      <td>365</td>\n      <td>15.396716</td>\n      <td>15.396716</td>\n      <td>63.921884</td>\n      <td>25.825715</td>\n      <td>197.768723</td>\n      <td>21</td>\n      <td>1</td>\n      <td>1</td>\n      <td>21</td>\n      <td>46</td>\n      <td>Avatar</td>\n      <td>False</td>\n      <td>Not meaningful</td>\n      <td>46_Sa</td>\n    </tr>\n    <tr>\n      <th>1</th>\n      <td>365</td>\n      <td>6.037733</td>\n      <td>-6.037733</td>\n      <td>63.921884</td>\n      <td>4.799789</td>\n      <td>213.475525</td>\n      <td>16</td>\n      <td>78</td>\n      <td>6</td>\n      <td>16</td>\n      <td>46</td>\n      <td>NoAvatar</td>\n      <td>False</td>\n      <td>Not meaningful</td>\n      <td>46_SaNo</td>\n    </tr>\n    <tr>\n      <th>2</th>\n      <td>365</td>\n      <td>6.345290</td>\n      <td>6.345290</td>\n      <td>63.921884</td>\n      <td>4.638590</td>\n      <td>111.623512</td>\n      <td>13</td>\n      <td>88</td>\n      <td>4</td>\n      <td>13</td>\n      <td>46</td>\n      <td>Avatar</td>\n      <td>False</td>\n      <td>Not meaningful</td>\n      <td>46_Sa</td>\n    </tr>\n    <tr>\n      <th>3</th>\n      <td>365</td>\n      <td>3.627752</td>\n      <td>3.627752</td>\n      <td>63.921884</td>\n      <td>2.361455</td>\n      <td>111.623512</td>\n      <td>13</td>\n      <td>95</td>\n      <td>11</td>\n      <td>13</td>\n      <td>46</td>\n      <td>NoAvatar</td>\n      <td>False</td>\n      <td>Not meaningful</td>\n      <td>46_SaNo</td>\n    </tr>\n    <tr>\n      <th>4</th>\n      <td>365</td>\n      <td>19.115237</td>\n      <td>-19.115237</td>\n      <td>63.921884</td>\n      <td>5.975304</td>\n      <td>232.765823</td>\n      <td>8</td>\n      <td>131</td>\n      <td>11</td>\n      <td>8</td>\n      <td>46</td>\n      <td>NoAvatar</td>\n      <td>False</td>\n      <td>Not meaningful</td>\n      <td>46_SaNo</td>\n    </tr>\n  </tbody>\n</table>\n</div>"
     },
     "execution_count": 46,
     "metadata": {},
     "output_type": "execute_result"
    }
   ],
   "source": [
    "pointing_sum= pd.read_csv('/Users/tracysanchezpacheco/Documents/Resources/PointingSummary.csv')\n",
    "pointing_sum.drop('Unnamed: 0', axis=1, inplace=True)\n",
    "pointing_sum.head()"
   ],
   "metadata": {
    "collapsed": false,
    "pycharm": {
     "name": "#%%\n"
    }
   }
  },
  {
   "cell_type": "code",
   "execution_count": 47,
   "outputs": [
    {
     "name": "stdout",
     "output_type": "stream",
     "text": [
      "<class 'pandas.core.frame.DataFrame'>\n",
      "RangeIndex: 6030 entries, 0 to 6029\n",
      "Data columns (total 15 columns):\n",
      " #   Column                           Non-Null Count  Dtype  \n",
      "---  ------                           --------------  -----  \n",
      " 0   ID                               6030 non-null   int64  \n",
      " 1   AbsolutError                     6030 non-null   float64\n",
      " 2   SignedAngle-+180                 6030 non-null   float64\n",
      " 3   IQR                              6030 non-null   float64\n",
      " 4   RT                               6030 non-null   float64\n",
      " 5   DistanceToParticipant            6030 non-null   float64\n",
      " 6   PointingTaskStartingLocations    6030 non-null   int64  \n",
      " 7   TrialID                          6030 non-null   int64  \n",
      " 8   ID_for_StartingPosition          6030 non-null   int64  \n",
      " 9   PointingTaskStartingLocations.1  6030 non-null   int64  \n",
      " 10  avatarID                         6030 non-null   int64  \n",
      " 11  AvatarPresenceCategory           6030 non-null   object \n",
      " 12  Context                          6030 non-null   bool   \n",
      " 13  meaningfulBuilding               6030 non-null   object \n",
      " 14  ImageName                        6030 non-null   object \n",
      "dtypes: bool(1), float64(5), int64(6), object(3)\n",
      "memory usage: 665.5+ KB\n"
     ]
    }
   ],
   "source": [
    "pointing_sum.info()"
   ],
   "metadata": {
    "collapsed": false,
    "pycharm": {
     "name": "#%%\n"
    }
   }
  },
  {
   "cell_type": "code",
   "execution_count": 48,
   "outputs": [],
   "source": [
    "data_frames = [FRSquest, affiliative, context, avatar_sum, pointing_sum]\n",
    "humanA_Behavioural = reduce(lambda  left,right: pd.merge(left,right,on=['ID'],\n",
    "                                                how='outer'), data_frames)"
   ],
   "metadata": {
    "collapsed": false,
    "pycharm": {
     "name": "#%%\n"
    }
   }
  },
  {
   "cell_type": "code",
   "execution_count": 49,
   "outputs": [
    {
     "name": "stdout",
     "output_type": "stream",
     "text": [
      "<class 'pandas.core.frame.DataFrame'>\n",
      "Int64Index: 6033 entries, 0 to 6032\n",
      "Data columns (total 23 columns):\n",
      " #   Column                           Non-Null Count  Dtype  \n",
      "---  ------                           --------------  -----  \n",
      " 0   ID                               6033 non-null   float64\n",
      " 1   Alter                            6032 non-null   float64\n",
      " 2   Global                           6032 non-null   float64\n",
      " 3   Overview                         6032 non-null   float64\n",
      " 4   Cardinal                         6032 non-null   float64\n",
      " 5   AffiliativeQ_average             6032 non-null   float64\n",
      " 6   ContextQ_average                 6032 non-null   float64\n",
      " 7   avatar_action_likert             6033 non-null   int64  \n",
      " 8   avatar_standing_likert           6033 non-null   int64  \n",
      " 9   AbsolutError                     6030 non-null   float64\n",
      " 10  SignedAngle-+180                 6030 non-null   float64\n",
      " 11  IQR                              6030 non-null   float64\n",
      " 12  RT                               6030 non-null   float64\n",
      " 13  DistanceToParticipant            6030 non-null   float64\n",
      " 14  PointingTaskStartingLocations    6030 non-null   float64\n",
      " 15  TrialID                          6030 non-null   float64\n",
      " 16  ID_for_StartingPosition          6030 non-null   float64\n",
      " 17  PointingTaskStartingLocations.1  6030 non-null   float64\n",
      " 18  avatarID                         6030 non-null   float64\n",
      " 19  AvatarPresenceCategory           6030 non-null   object \n",
      " 20  Context                          6030 non-null   object \n",
      " 21  meaningfulBuilding               6030 non-null   object \n",
      " 22  ImageName                        6030 non-null   object \n",
      "dtypes: float64(17), int64(2), object(4)\n",
      "memory usage: 1.1+ MB\n"
     ]
    }
   ],
   "source": [
    "humanA_Behavioural.info()"
   ],
   "metadata": {
    "collapsed": false,
    "pycharm": {
     "name": "#%%\n"
    }
   }
  },
  {
   "cell_type": "code",
   "execution_count": 50,
   "outputs": [],
   "source": [
    "os.chdir('/Users/tracysanchezpacheco/Documents/Resources')\n",
    "humanA_Behavioural.to_csv('humanA_Behavioural.csv')"
   ],
   "metadata": {
    "collapsed": false,
    "pycharm": {
     "name": "#%%\n"
    }
   }
  }
 ],
 "metadata": {
  "kernelspec": {
   "display_name": "Python 3",
   "language": "python",
   "name": "python3"
  },
  "language_info": {
   "codemirror_mode": {
    "name": "ipython",
    "version": 3
   },
   "file_extension": ".py",
   "mimetype": "text/x-python",
   "name": "python",
   "nbconvert_exporter": "python",
   "pygments_lexer": "ipython3",
   "version": "3.8.8"
  }
 },
 "nbformat": 4,
 "nbformat_minor": 5
}