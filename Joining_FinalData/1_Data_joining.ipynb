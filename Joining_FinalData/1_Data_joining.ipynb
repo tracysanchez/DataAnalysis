{
 "cells": [
  {
   "cell_type": "markdown",
   "id": "4f9d77f1-1a10-4e4f-9adb-9757cebe2a9d",
   "metadata": {
    "pycharm": {
     "name": "#%% md\n"
    }
   },
   "source": [
    "# Joining final data sets\n"
   ]
  },
  {
   "cell_type": "code",
   "execution_count": 1,
   "id": "8bd25d78-385e-48d2-a05a-c2415f93c133",
   "metadata": {},
   "outputs": [],
   "source": [
    "import os\n",
    "import pandas as pd\n",
    "from functools import reduce"
   ]
  },
  {
   "cell_type": "code",
   "execution_count": 2,
   "id": "1aadeed8-dbba-42c4-8790-4ed7275ae3ab",
   "metadata": {},
   "outputs": [
    {
     "data": {
      "text/plain": "       ID  Alter   Global  Overview  Cardinal\n0   365.0    37.0     5.6  6.285714       2.5\n1  3572.0    23.0     5.7  3.142857       1.0\n2  7264.0    23.0     4.7  5.000000       1.0\n3  8469.0    29.0     4.2  2.857143       1.0\n4  6642.0    19.0     4.9  4.714286       4.0",
      "text/html": "<div>\n<style scoped>\n    .dataframe tbody tr th:only-of-type {\n        vertical-align: middle;\n    }\n\n    .dataframe tbody tr th {\n        vertical-align: top;\n    }\n\n    .dataframe thead th {\n        text-align: right;\n    }\n</style>\n<table border=\"1\" class=\"dataframe\">\n  <thead>\n    <tr style=\"text-align: right;\">\n      <th></th>\n      <th>ID</th>\n      <th>Alter</th>\n      <th>Global</th>\n      <th>Overview</th>\n      <th>Cardinal</th>\n    </tr>\n  </thead>\n  <tbody>\n    <tr>\n      <th>0</th>\n      <td>365.0</td>\n      <td>37.0</td>\n      <td>5.6</td>\n      <td>6.285714</td>\n      <td>2.5</td>\n    </tr>\n    <tr>\n      <th>1</th>\n      <td>3572.0</td>\n      <td>23.0</td>\n      <td>5.7</td>\n      <td>3.142857</td>\n      <td>1.0</td>\n    </tr>\n    <tr>\n      <th>2</th>\n      <td>7264.0</td>\n      <td>23.0</td>\n      <td>4.7</td>\n      <td>5.000000</td>\n      <td>1.0</td>\n    </tr>\n    <tr>\n      <th>3</th>\n      <td>8469.0</td>\n      <td>29.0</td>\n      <td>4.2</td>\n      <td>2.857143</td>\n      <td>1.0</td>\n    </tr>\n    <tr>\n      <th>4</th>\n      <td>6642.0</td>\n      <td>19.0</td>\n      <td>4.9</td>\n      <td>4.714286</td>\n      <td>4.0</td>\n    </tr>\n  </tbody>\n</table>\n</div>"
     },
     "execution_count": 2,
     "metadata": {},
     "output_type": "execute_result"
    }
   ],
   "source": [
    "# Loading the final datasets data come as a result of the jupiter notebooks contained in  \n",
    "FRSquest = pd.read_csv('/Users/tracysanchezpacheco/Documents/Resources/FRSsubs.csv')\n",
    "FRSquest.drop('Unnamed: 0', axis=1, inplace=True)\n",
    "FRSquest.head()"
   ]
  },
  {
   "cell_type": "code",
   "execution_count": 3,
   "outputs": [
    {
     "data": {
      "text/plain": "      ID  AffiliativeQ_average\n0   8469                   3.8\n1   7264                   1.4\n2   3572                   4.0\n3    365                   5.2\n4   6642                   4.2\n5   5741                   2.8\n6   7842                   3.4\n7   4176                   3.4\n8   9472                   4.6\n9   4623                   2.2\n10  9502                   2.4\n11  7093                   3.6\n12  2258                   5.0\n13  1754                   2.4\n14  5238                   5.0\n15  8695                   4.8\n16  3976                   2.4\n17  5531                   5.6",
      "text/html": "<div>\n<style scoped>\n    .dataframe tbody tr th:only-of-type {\n        vertical-align: middle;\n    }\n\n    .dataframe tbody tr th {\n        vertical-align: top;\n    }\n\n    .dataframe thead th {\n        text-align: right;\n    }\n</style>\n<table border=\"1\" class=\"dataframe\">\n  <thead>\n    <tr style=\"text-align: right;\">\n      <th></th>\n      <th>ID</th>\n      <th>AffiliativeQ_average</th>\n    </tr>\n  </thead>\n  <tbody>\n    <tr>\n      <th>0</th>\n      <td>8469</td>\n      <td>3.8</td>\n    </tr>\n    <tr>\n      <th>1</th>\n      <td>7264</td>\n      <td>1.4</td>\n    </tr>\n    <tr>\n      <th>2</th>\n      <td>3572</td>\n      <td>4.0</td>\n    </tr>\n    <tr>\n      <th>3</th>\n      <td>365</td>\n      <td>5.2</td>\n    </tr>\n    <tr>\n      <th>4</th>\n      <td>6642</td>\n      <td>4.2</td>\n    </tr>\n    <tr>\n      <th>5</th>\n      <td>5741</td>\n      <td>2.8</td>\n    </tr>\n    <tr>\n      <th>6</th>\n      <td>7842</td>\n      <td>3.4</td>\n    </tr>\n    <tr>\n      <th>7</th>\n      <td>4176</td>\n      <td>3.4</td>\n    </tr>\n    <tr>\n      <th>8</th>\n      <td>9472</td>\n      <td>4.6</td>\n    </tr>\n    <tr>\n      <th>9</th>\n      <td>4623</td>\n      <td>2.2</td>\n    </tr>\n    <tr>\n      <th>10</th>\n      <td>9502</td>\n      <td>2.4</td>\n    </tr>\n    <tr>\n      <th>11</th>\n      <td>7093</td>\n      <td>3.6</td>\n    </tr>\n    <tr>\n      <th>12</th>\n      <td>2258</td>\n      <td>5.0</td>\n    </tr>\n    <tr>\n      <th>13</th>\n      <td>1754</td>\n      <td>2.4</td>\n    </tr>\n    <tr>\n      <th>14</th>\n      <td>5238</td>\n      <td>5.0</td>\n    </tr>\n    <tr>\n      <th>15</th>\n      <td>8695</td>\n      <td>4.8</td>\n    </tr>\n    <tr>\n      <th>16</th>\n      <td>3976</td>\n      <td>2.4</td>\n    </tr>\n    <tr>\n      <th>17</th>\n      <td>5531</td>\n      <td>5.6</td>\n    </tr>\n  </tbody>\n</table>\n</div>"
     },
     "execution_count": 3,
     "metadata": {},
     "output_type": "execute_result"
    }
   ],
   "source": [
    "affiliative = pd.read_csv('/Users/tracysanchezpacheco/Documents/Resources/AffilliativeTend.csv')\n",
    "affiliative = affiliative[['ID', 'AffiliativeQ_average']]\n",
    "affiliative.head(18)"
   ],
   "metadata": {
    "collapsed": false,
    "pycharm": {
     "name": "#%%\n"
    }
   }
  },
  {
   "cell_type": "code",
   "execution_count": 4,
   "outputs": [
    {
     "data": {
      "text/plain": "     ID  item3  ContextQ_average\n0  8469      4               5.0\n1  7264      3               7.0\n2  3572      2               4.5\n3   365      2               3.5\n4  6642      3               6.0",
      "text/html": "<div>\n<style scoped>\n    .dataframe tbody tr th:only-of-type {\n        vertical-align: middle;\n    }\n\n    .dataframe tbody tr th {\n        vertical-align: top;\n    }\n\n    .dataframe thead th {\n        text-align: right;\n    }\n</style>\n<table border=\"1\" class=\"dataframe\">\n  <thead>\n    <tr style=\"text-align: right;\">\n      <th></th>\n      <th>ID</th>\n      <th>item3</th>\n      <th>ContextQ_average</th>\n    </tr>\n  </thead>\n  <tbody>\n    <tr>\n      <th>0</th>\n      <td>8469</td>\n      <td>4</td>\n      <td>5.0</td>\n    </tr>\n    <tr>\n      <th>1</th>\n      <td>7264</td>\n      <td>3</td>\n      <td>7.0</td>\n    </tr>\n    <tr>\n      <th>2</th>\n      <td>3572</td>\n      <td>2</td>\n      <td>4.5</td>\n    </tr>\n    <tr>\n      <th>3</th>\n      <td>365</td>\n      <td>2</td>\n      <td>3.5</td>\n    </tr>\n    <tr>\n      <th>4</th>\n      <td>6642</td>\n      <td>3</td>\n      <td>6.0</td>\n    </tr>\n  </tbody>\n</table>\n</div>"
     },
     "execution_count": 4,
     "metadata": {},
     "output_type": "execute_result"
    }
   ],
   "source": [
    "context = pd.read_csv('/Users/tracysanchezpacheco/Documents/Resources/ContextQuest.csv')\n",
    "context = context[['ID', 'item3','ContextQ_average']]\n",
    "context.head()"
   ],
   "metadata": {
    "collapsed": false,
    "pycharm": {
     "name": "#%%\n"
    }
   }
  },
  {
   "cell_type": "code",
   "execution_count": 5,
   "outputs": [
    {
     "data": {
      "text/plain": "      ID  remember_action_likert  remember_standing_likert  \\\n0    365                2.714286                  1.107143   \n1    479                4.178571                  2.214286   \n2   1754                1.678571                  1.035714   \n3   2258                3.464286                  1.464286   \n4   2693                1.642857                  1.000000   \n5   3246                3.357143                  1.750000   \n6   3310                2.464286                  1.607143   \n7   3572                2.250000                  1.714286   \n8   3976                1.892857                  1.000000   \n9   4176                3.000000                  1.107143   \n10  4597                3.321429                  1.250000   \n11  4623                2.321429                  1.714286   \n12  4796                3.214286                  1.250000   \n13  5238                3.392857                  1.535714   \n14  5531                3.571429                  2.250000   \n15  5741                3.857143                  2.928571   \n16  6642                3.642857                  2.178571   \n17  7093                2.964286                  1.500000   \n18  7264                2.178571                  1.785714   \n19  7412                3.607143                  1.678571   \n20  7842                2.892857                  1.785714   \n\n    attractive_action_likert  attractive_standing_likert  \\\n0                   2.214286                    1.178571   \n1                   1.000000                    1.000000   \n2                   3.107143                    2.892857   \n3                   2.142857                    2.000000   \n4                   1.714286                    1.250000   \n5                   2.392857                    2.214286   \n6                   3.107143                    2.750000   \n7                   2.607143                    2.607143   \n8                   1.035714                    1.035714   \n9                   1.607143                    1.500000   \n10                  3.107143                    2.607143   \n11                  2.178571                    1.857143   \n12                  3.035714                    2.428571   \n13                  3.142857                    2.571429   \n14                  3.392857                    3.035714   \n15                  2.535714                    1.821429   \n16                  2.857143                    2.428571   \n17                  2.464286                    1.714286   \n18                  2.535714                    2.178571   \n19                  2.428571                    2.000000   \n20                  2.000000                    2.000000   \n\n    realistic_action_likert  realistic_standing_likert  \n0                  3.392857                   1.964286  \n1                  3.571429                   3.250000  \n2                  3.821429                   3.464286  \n3                  3.035714                   2.000000  \n4                  3.250000                   2.428571  \n5                  3.678571                   3.607143  \n6                  3.142857                   2.928571  \n7                  2.964286                   2.678571  \n8                  4.321429                   3.750000  \n9                  3.321429                   2.892857  \n10                 3.785714                   3.035714  \n11                 2.750000                   2.285714  \n12                 3.857143                   2.535714  \n13                 3.821429                   3.071429  \n14                 3.821429                   2.928571  \n15                 3.214286                   2.857143  \n16                 3.892857                   3.214286  \n17                 3.392857                   2.821429  \n18                 3.107143                   2.928571  \n19                 2.928571                   2.357143  \n20                 2.428571                   2.071429  ",
      "text/html": "<div>\n<style scoped>\n    .dataframe tbody tr th:only-of-type {\n        vertical-align: middle;\n    }\n\n    .dataframe tbody tr th {\n        vertical-align: top;\n    }\n\n    .dataframe thead th {\n        text-align: right;\n    }\n</style>\n<table border=\"1\" class=\"dataframe\">\n  <thead>\n    <tr style=\"text-align: right;\">\n      <th></th>\n      <th>ID</th>\n      <th>remember_action_likert</th>\n      <th>remember_standing_likert</th>\n      <th>attractive_action_likert</th>\n      <th>attractive_standing_likert</th>\n      <th>realistic_action_likert</th>\n      <th>realistic_standing_likert</th>\n    </tr>\n  </thead>\n  <tbody>\n    <tr>\n      <th>0</th>\n      <td>365</td>\n      <td>2.714286</td>\n      <td>1.107143</td>\n      <td>2.214286</td>\n      <td>1.178571</td>\n      <td>3.392857</td>\n      <td>1.964286</td>\n    </tr>\n    <tr>\n      <th>1</th>\n      <td>479</td>\n      <td>4.178571</td>\n      <td>2.214286</td>\n      <td>1.000000</td>\n      <td>1.000000</td>\n      <td>3.571429</td>\n      <td>3.250000</td>\n    </tr>\n    <tr>\n      <th>2</th>\n      <td>1754</td>\n      <td>1.678571</td>\n      <td>1.035714</td>\n      <td>3.107143</td>\n      <td>2.892857</td>\n      <td>3.821429</td>\n      <td>3.464286</td>\n    </tr>\n    <tr>\n      <th>3</th>\n      <td>2258</td>\n      <td>3.464286</td>\n      <td>1.464286</td>\n      <td>2.142857</td>\n      <td>2.000000</td>\n      <td>3.035714</td>\n      <td>2.000000</td>\n    </tr>\n    <tr>\n      <th>4</th>\n      <td>2693</td>\n      <td>1.642857</td>\n      <td>1.000000</td>\n      <td>1.714286</td>\n      <td>1.250000</td>\n      <td>3.250000</td>\n      <td>2.428571</td>\n    </tr>\n    <tr>\n      <th>5</th>\n      <td>3246</td>\n      <td>3.357143</td>\n      <td>1.750000</td>\n      <td>2.392857</td>\n      <td>2.214286</td>\n      <td>3.678571</td>\n      <td>3.607143</td>\n    </tr>\n    <tr>\n      <th>6</th>\n      <td>3310</td>\n      <td>2.464286</td>\n      <td>1.607143</td>\n      <td>3.107143</td>\n      <td>2.750000</td>\n      <td>3.142857</td>\n      <td>2.928571</td>\n    </tr>\n    <tr>\n      <th>7</th>\n      <td>3572</td>\n      <td>2.250000</td>\n      <td>1.714286</td>\n      <td>2.607143</td>\n      <td>2.607143</td>\n      <td>2.964286</td>\n      <td>2.678571</td>\n    </tr>\n    <tr>\n      <th>8</th>\n      <td>3976</td>\n      <td>1.892857</td>\n      <td>1.000000</td>\n      <td>1.035714</td>\n      <td>1.035714</td>\n      <td>4.321429</td>\n      <td>3.750000</td>\n    </tr>\n    <tr>\n      <th>9</th>\n      <td>4176</td>\n      <td>3.000000</td>\n      <td>1.107143</td>\n      <td>1.607143</td>\n      <td>1.500000</td>\n      <td>3.321429</td>\n      <td>2.892857</td>\n    </tr>\n    <tr>\n      <th>10</th>\n      <td>4597</td>\n      <td>3.321429</td>\n      <td>1.250000</td>\n      <td>3.107143</td>\n      <td>2.607143</td>\n      <td>3.785714</td>\n      <td>3.035714</td>\n    </tr>\n    <tr>\n      <th>11</th>\n      <td>4623</td>\n      <td>2.321429</td>\n      <td>1.714286</td>\n      <td>2.178571</td>\n      <td>1.857143</td>\n      <td>2.750000</td>\n      <td>2.285714</td>\n    </tr>\n    <tr>\n      <th>12</th>\n      <td>4796</td>\n      <td>3.214286</td>\n      <td>1.250000</td>\n      <td>3.035714</td>\n      <td>2.428571</td>\n      <td>3.857143</td>\n      <td>2.535714</td>\n    </tr>\n    <tr>\n      <th>13</th>\n      <td>5238</td>\n      <td>3.392857</td>\n      <td>1.535714</td>\n      <td>3.142857</td>\n      <td>2.571429</td>\n      <td>3.821429</td>\n      <td>3.071429</td>\n    </tr>\n    <tr>\n      <th>14</th>\n      <td>5531</td>\n      <td>3.571429</td>\n      <td>2.250000</td>\n      <td>3.392857</td>\n      <td>3.035714</td>\n      <td>3.821429</td>\n      <td>2.928571</td>\n    </tr>\n    <tr>\n      <th>15</th>\n      <td>5741</td>\n      <td>3.857143</td>\n      <td>2.928571</td>\n      <td>2.535714</td>\n      <td>1.821429</td>\n      <td>3.214286</td>\n      <td>2.857143</td>\n    </tr>\n    <tr>\n      <th>16</th>\n      <td>6642</td>\n      <td>3.642857</td>\n      <td>2.178571</td>\n      <td>2.857143</td>\n      <td>2.428571</td>\n      <td>3.892857</td>\n      <td>3.214286</td>\n    </tr>\n    <tr>\n      <th>17</th>\n      <td>7093</td>\n      <td>2.964286</td>\n      <td>1.500000</td>\n      <td>2.464286</td>\n      <td>1.714286</td>\n      <td>3.392857</td>\n      <td>2.821429</td>\n    </tr>\n    <tr>\n      <th>18</th>\n      <td>7264</td>\n      <td>2.178571</td>\n      <td>1.785714</td>\n      <td>2.535714</td>\n      <td>2.178571</td>\n      <td>3.107143</td>\n      <td>2.928571</td>\n    </tr>\n    <tr>\n      <th>19</th>\n      <td>7412</td>\n      <td>3.607143</td>\n      <td>1.678571</td>\n      <td>2.428571</td>\n      <td>2.000000</td>\n      <td>2.928571</td>\n      <td>2.357143</td>\n    </tr>\n    <tr>\n      <th>20</th>\n      <td>7842</td>\n      <td>2.892857</td>\n      <td>1.785714</td>\n      <td>2.000000</td>\n      <td>2.000000</td>\n      <td>2.428571</td>\n      <td>2.071429</td>\n    </tr>\n  </tbody>\n</table>\n</div>"
     },
     "execution_count": 5,
     "metadata": {},
     "output_type": "execute_result"
    }
   ],
   "source": [
    "avatar_sum = pd.read_csv('/Users/tracysanchezpacheco/Documents/Resources/AgentQuest.csv')\n",
    "avatar_sum.head(21)"
   ],
   "metadata": {
    "collapsed": false,
    "pycharm": {
     "name": "#%%\n"
    }
   }
  },
  {
   "cell_type": "code",
   "execution_count": 6,
   "outputs": [
    {
     "data": {
      "text/plain": "    ID  AbsolutError  SignedAngle-+180        IQR         RT  \\\n0  479     26.441377         26.441377  25.855071  25.632291   \n1  479      7.299795          7.299795  25.855071   9.823777   \n2  479     22.524660        -22.524660  25.855071   2.202241   \n3  479     29.607650        -29.607650  25.855071   6.977730   \n4  479     32.524715        -32.524715  25.855071   6.163794   \n\n   DistanceToParticipant  PointingTaskStartingLocations  TrialNumber  \\\n0             297.913635                              7            1   \n1             173.046249                             22           49   \n2             263.186127                             18          173   \n3             263.186127                             18          176   \n4             152.117493                             19          262   \n\n   StartPointID  ID_for_StartingPosition  avatarID AvatarPresenceCategory  \\\n0             1                        1         5               NoAvatar   \n1             5                        1         5                 Avatar   \n2            15                        5         5                 Avatar   \n3            15                        8         5               NoAvatar   \n4            22                       10         5               NoAvatar   \n\n   Context meaningfulBuilding ImageName  \n0     True         Meaningful  05_CmANo  \n1     True         Meaningful    05_CmA  \n2     True         Meaningful    05_CmA  \n3     True         Meaningful  05_CmANo  \n4     True         Meaningful  05_CmANo  ",
      "text/html": "<div>\n<style scoped>\n    .dataframe tbody tr th:only-of-type {\n        vertical-align: middle;\n    }\n\n    .dataframe tbody tr th {\n        vertical-align: top;\n    }\n\n    .dataframe thead th {\n        text-align: right;\n    }\n</style>\n<table border=\"1\" class=\"dataframe\">\n  <thead>\n    <tr style=\"text-align: right;\">\n      <th></th>\n      <th>ID</th>\n      <th>AbsolutError</th>\n      <th>SignedAngle-+180</th>\n      <th>IQR</th>\n      <th>RT</th>\n      <th>DistanceToParticipant</th>\n      <th>PointingTaskStartingLocations</th>\n      <th>TrialNumber</th>\n      <th>StartPointID</th>\n      <th>ID_for_StartingPosition</th>\n      <th>avatarID</th>\n      <th>AvatarPresenceCategory</th>\n      <th>Context</th>\n      <th>meaningfulBuilding</th>\n      <th>ImageName</th>\n    </tr>\n  </thead>\n  <tbody>\n    <tr>\n      <th>0</th>\n      <td>479</td>\n      <td>26.441377</td>\n      <td>26.441377</td>\n      <td>25.855071</td>\n      <td>25.632291</td>\n      <td>297.913635</td>\n      <td>7</td>\n      <td>1</td>\n      <td>1</td>\n      <td>1</td>\n      <td>5</td>\n      <td>NoAvatar</td>\n      <td>True</td>\n      <td>Meaningful</td>\n      <td>05_CmANo</td>\n    </tr>\n    <tr>\n      <th>1</th>\n      <td>479</td>\n      <td>7.299795</td>\n      <td>7.299795</td>\n      <td>25.855071</td>\n      <td>9.823777</td>\n      <td>173.046249</td>\n      <td>22</td>\n      <td>49</td>\n      <td>5</td>\n      <td>1</td>\n      <td>5</td>\n      <td>Avatar</td>\n      <td>True</td>\n      <td>Meaningful</td>\n      <td>05_CmA</td>\n    </tr>\n    <tr>\n      <th>2</th>\n      <td>479</td>\n      <td>22.524660</td>\n      <td>-22.524660</td>\n      <td>25.855071</td>\n      <td>2.202241</td>\n      <td>263.186127</td>\n      <td>18</td>\n      <td>173</td>\n      <td>15</td>\n      <td>5</td>\n      <td>5</td>\n      <td>Avatar</td>\n      <td>True</td>\n      <td>Meaningful</td>\n      <td>05_CmA</td>\n    </tr>\n    <tr>\n      <th>3</th>\n      <td>479</td>\n      <td>29.607650</td>\n      <td>-29.607650</td>\n      <td>25.855071</td>\n      <td>6.977730</td>\n      <td>263.186127</td>\n      <td>18</td>\n      <td>176</td>\n      <td>15</td>\n      <td>8</td>\n      <td>5</td>\n      <td>NoAvatar</td>\n      <td>True</td>\n      <td>Meaningful</td>\n      <td>05_CmANo</td>\n    </tr>\n    <tr>\n      <th>4</th>\n      <td>479</td>\n      <td>32.524715</td>\n      <td>-32.524715</td>\n      <td>25.855071</td>\n      <td>6.163794</td>\n      <td>152.117493</td>\n      <td>19</td>\n      <td>262</td>\n      <td>22</td>\n      <td>10</td>\n      <td>5</td>\n      <td>NoAvatar</td>\n      <td>True</td>\n      <td>Meaningful</td>\n      <td>05_CmANo</td>\n    </tr>\n  </tbody>\n</table>\n</div>"
     },
     "execution_count": 6,
     "metadata": {},
     "output_type": "execute_result"
    }
   ],
   "source": [
    "pointing_sum= pd.read_csv('/Users/tracysanchezpacheco/Documents/Resources/PointingSummary.csv')\n",
    "pointing_sum.drop('Unnamed: 0', axis=1, inplace=True)\n",
    "pointing_sum.head()"
   ],
   "metadata": {
    "collapsed": false,
    "pycharm": {
     "name": "#%%\n"
    }
   }
  },
  {
   "cell_type": "code",
   "execution_count": 7,
   "outputs": [
    {
     "name": "stdout",
     "output_type": "stream",
     "text": [
      "<class 'pandas.core.frame.DataFrame'>\n",
      "RangeIndex: 9384 entries, 0 to 9383\n",
      "Data columns (total 15 columns):\n",
      " #   Column                         Non-Null Count  Dtype  \n",
      "---  ------                         --------------  -----  \n",
      " 0   ID                             9384 non-null   int64  \n",
      " 1   AbsolutError                   9384 non-null   float64\n",
      " 2   SignedAngle-+180               9384 non-null   float64\n",
      " 3   IQR                            9384 non-null   float64\n",
      " 4   RT                             9384 non-null   float64\n",
      " 5   DistanceToParticipant          9384 non-null   float64\n",
      " 6   PointingTaskStartingLocations  9384 non-null   int64  \n",
      " 7   TrialNumber                    9384 non-null   int64  \n",
      " 8   StartPointID                   9384 non-null   int64  \n",
      " 9   ID_for_StartingPosition        9384 non-null   int64  \n",
      " 10  avatarID                       9384 non-null   int64  \n",
      " 11  AvatarPresenceCategory         9384 non-null   object \n",
      " 12  Context                        9384 non-null   bool   \n",
      " 13  meaningfulBuilding             9384 non-null   object \n",
      " 14  ImageName                      9384 non-null   object \n",
      "dtypes: bool(1), float64(5), int64(6), object(3)\n",
      "memory usage: 1.0+ MB\n"
     ]
    }
   ],
   "source": [
    "pointing_sum.info()"
   ],
   "metadata": {
    "collapsed": false,
    "pycharm": {
     "name": "#%%\n"
    }
   }
  },
  {
   "cell_type": "code",
   "execution_count": 8,
   "outputs": [],
   "source": [
    "data_frames = [FRSquest, affiliative, context, avatar_sum, pointing_sum]\n",
    "humanA_Behavioural = reduce(lambda  left,right: pd.merge(left,right,on=['ID'],\n",
    "                                                how='outer'), data_frames)"
   ],
   "metadata": {
    "collapsed": false,
    "pycharm": {
     "name": "#%%\n"
    }
   }
  },
  {
   "cell_type": "code",
   "execution_count": 9,
   "outputs": [
    {
     "name": "stdout",
     "output_type": "stream",
     "text": [
      "<class 'pandas.core.frame.DataFrame'>\n",
      "Int64Index: 9388 entries, 0 to 9387\n",
      "Data columns (total 28 columns):\n",
      " #   Column                         Non-Null Count  Dtype  \n",
      "---  ------                         --------------  -----  \n",
      " 0   ID                             9388 non-null   float64\n",
      " 1   Alter                          9052 non-null   float64\n",
      " 2   Global                         9052 non-null   float64\n",
      " 3   Overview                       9052 non-null   float64\n",
      " 4   Cardinal                       9052 non-null   float64\n",
      " 5   AffiliativeQ_average           8715 non-null   float64\n",
      " 6   item3                          8715 non-null   float64\n",
      " 7   ContextQ_average               8715 non-null   float64\n",
      " 8   remember_action_likert         8716 non-null   float64\n",
      " 9   remember_standing_likert       8716 non-null   float64\n",
      " 10  attractive_action_likert       8716 non-null   float64\n",
      " 11  attractive_standing_likert     8716 non-null   float64\n",
      " 12  realistic_action_likert        8716 non-null   float64\n",
      " 13  realistic_standing_likert      8716 non-null   float64\n",
      " 14  AbsolutError                   9384 non-null   float64\n",
      " 15  SignedAngle-+180               9384 non-null   float64\n",
      " 16  IQR                            9384 non-null   float64\n",
      " 17  RT                             9384 non-null   float64\n",
      " 18  DistanceToParticipant          9384 non-null   float64\n",
      " 19  PointingTaskStartingLocations  9384 non-null   float64\n",
      " 20  TrialNumber                    9384 non-null   float64\n",
      " 21  StartPointID                   9384 non-null   float64\n",
      " 22  ID_for_StartingPosition        9384 non-null   float64\n",
      " 23  avatarID                       9384 non-null   float64\n",
      " 24  AvatarPresenceCategory         9384 non-null   object \n",
      " 25  Context                        9384 non-null   object \n",
      " 26  meaningfulBuilding             9384 non-null   object \n",
      " 27  ImageName                      9384 non-null   object \n",
      "dtypes: float64(24), object(4)\n",
      "memory usage: 2.1+ MB\n"
     ]
    }
   ],
   "source": [
    "humanA_Behavioural.info()"
   ],
   "metadata": {
    "collapsed": false,
    "pycharm": {
     "name": "#%%\n"
    }
   }
  },
  {
   "cell_type": "code",
   "execution_count": 10,
   "outputs": [],
   "source": [
    "humanA_Behavioural.to_csv('/Users/tracysanchezpacheco/Documents/Resources/humanA_Behavioural.csv')"
   ],
   "metadata": {
    "collapsed": false,
    "pycharm": {
     "name": "#%%\n"
    }
   }
  },
  {
   "cell_type": "code",
   "execution_count": 11,
   "outputs": [
    {
     "data": {
      "text/plain": "     ImageName  avatarID\n0          NaN       NaN\n1     05_CmANo       5.0\n2       05_CmA       5.0\n3       05_CmA       5.0\n4       05_CmA       5.0\n...        ...       ...\n9383     54_Sa      54.0\n9384   36_SaNo      36.0\n9385     36_Sa      36.0\n9386     36_Sa      36.0\n9387   36_SaNo      36.0\n\n[9388 rows x 2 columns]",
      "text/html": "<div>\n<style scoped>\n    .dataframe tbody tr th:only-of-type {\n        vertical-align: middle;\n    }\n\n    .dataframe tbody tr th {\n        vertical-align: top;\n    }\n\n    .dataframe thead th {\n        text-align: right;\n    }\n</style>\n<table border=\"1\" class=\"dataframe\">\n  <thead>\n    <tr style=\"text-align: right;\">\n      <th></th>\n      <th>ImageName</th>\n      <th>avatarID</th>\n    </tr>\n  </thead>\n  <tbody>\n    <tr>\n      <th>0</th>\n      <td>NaN</td>\n      <td>NaN</td>\n    </tr>\n    <tr>\n      <th>1</th>\n      <td>05_CmANo</td>\n      <td>5.0</td>\n    </tr>\n    <tr>\n      <th>2</th>\n      <td>05_CmA</td>\n      <td>5.0</td>\n    </tr>\n    <tr>\n      <th>3</th>\n      <td>05_CmA</td>\n      <td>5.0</td>\n    </tr>\n    <tr>\n      <th>4</th>\n      <td>05_CmA</td>\n      <td>5.0</td>\n    </tr>\n    <tr>\n      <th>...</th>\n      <td>...</td>\n      <td>...</td>\n    </tr>\n    <tr>\n      <th>9383</th>\n      <td>54_Sa</td>\n      <td>54.0</td>\n    </tr>\n    <tr>\n      <th>9384</th>\n      <td>36_SaNo</td>\n      <td>36.0</td>\n    </tr>\n    <tr>\n      <th>9385</th>\n      <td>36_Sa</td>\n      <td>36.0</td>\n    </tr>\n    <tr>\n      <th>9386</th>\n      <td>36_Sa</td>\n      <td>36.0</td>\n    </tr>\n    <tr>\n      <th>9387</th>\n      <td>36_SaNo</td>\n      <td>36.0</td>\n    </tr>\n  </tbody>\n</table>\n<p>9388 rows × 2 columns</p>\n</div>"
     },
     "execution_count": 11,
     "metadata": {},
     "output_type": "execute_result"
    }
   ],
   "source": [
    "humanA_Behavioural[['ImageName', 'avatarID']]"
   ],
   "metadata": {
    "collapsed": false,
    "pycharm": {
     "name": "#%%\n"
    }
   }
  },
  {
   "cell_type": "code",
   "execution_count": 11,
   "outputs": [],
   "source": [],
   "metadata": {
    "collapsed": false,
    "pycharm": {
     "name": "#%%\n"
    }
   }
  }
 ],
 "metadata": {
  "kernelspec": {
   "display_name": "Python 3",
   "language": "python",
   "name": "python3"
  },
  "language_info": {
   "codemirror_mode": {
    "name": "ipython",
    "version": 3
   },
   "file_extension": ".py",
   "mimetype": "text/x-python",
   "name": "python",
   "nbconvert_exporter": "python",
   "pygments_lexer": "ipython3",
   "version": "3.8.8"
  }
 },
 "nbformat": 4,
 "nbformat_minor": 5
}