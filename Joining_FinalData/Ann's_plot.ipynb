{
 "cells": [
  {
   "cell_type": "code",
   "execution_count": 3,
   "id": "ac7c98c7-0324-4be3-a647-d88d19db3f77",
   "metadata": {},
   "outputs": [],
   "source": [
    "import pandas as pd\n",
    "import matplotlib.pyplot as plt"
   ]
  },
  {
   "cell_type": "code",
   "execution_count": 4,
   "id": "e12cb930-7015-4bf3-b965-dded98104320",
   "metadata": {},
   "outputs": [],
   "source": [
    "Data = pd.DataFrame({'Previous_response': [ \"Right\",\"Right\",\"Left\",\"Left\"], 'Predicted_Probability': [0.77, 0.72, 0.72,0.77], \"Previous_Trial_Identity\": ['Own', \"Partner\",'Own',\"Partner\" ], \"Standard_Error\": [0.1,0.1,0.1,0.1] })\n",
    "Data_Left= Data[Data.Previous_response == \"Left\"]\n",
    "Data_Right= Data[Data.Previous_response == \"Right\"]"
   ]
  },
  {
   "cell_type": "code",
   "execution_count": null,
   "id": "134b6f23-8b26-4ad1-a2f4-69e6c164a99d",
   "metadata": {},
   "outputs": [],
   "source": []
  }
 ],
 "metadata": {
  "kernelspec": {
   "display_name": "Python 3 (ipykernel)",
   "language": "python",
   "name": "python3"
  },
  "language_info": {
   "codemirror_mode": {
    "name": "ipython",
    "version": 3
   },
   "file_extension": ".py",
   "mimetype": "text/x-python",
   "name": "python",
   "nbconvert_exporter": "python",
   "pygments_lexer": "ipython3",
   "version": "3.11.5"
  }
 },
 "nbformat": 4,
 "nbformat_minor": 5
}
