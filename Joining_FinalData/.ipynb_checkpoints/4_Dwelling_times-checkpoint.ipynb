{
 "cells": [
  {
   "cell_type": "code",
   "execution_count": null,
   "id": "51547744-97a3-482a-adfe-74291730b0e8",
   "metadata": {},
   "outputs": [],
   "source": [
    "import pandas as pd\n",
    "import seaborn as sns\n",
    "import numpy as np\n",
    "from pylab import MaxNLocator \n",
    "import matplotlib\n",
    "import matplotlib.pyplot as plt\n",
    "import matplotlib.pylab as pylab\n",
    "from matplotlib import container\n",
    "from matplotlib.lines import Line2D      \n",
    "from matplotlib.legend_handler import HandlerErrorbar\n",
    "from matplotlib import rc\n",
    "from scipy import stats"
   ]
  },
  {
   "cell_type": "code",
   "execution_count": null,
   "id": "51a50bb5-4738-4869-934a-9b0a39905560",
   "metadata": {},
   "outputs": [],
   "source": [
    "params = {'legend.fontsize': 'x-large',\n",
    "          'figure.figsize': (15, 5),\n",
    "         'axes.labelsize': 'x-large',\n",
    "         'axes.titlesize':'x-large',\n",
    "         'xtick.labelsize':'x-large',\n",
    "         'ytick.labelsize':'x-large'}\n",
    "pylab.rcParams.update(params)\n",
    "matplotlib.rcParams['legend.numpoints'] = 1\n",
    "rc('font',**{'family':'serif','serif':['Times']})"
   ]
  },
  {
   "cell_type": "code",
   "execution_count": null,
   "id": "6224cf09-44ee-40b0-b8bc-f5e18233cfab",
   "metadata": {},
   "outputs": [],
   "source": [
    "# Get data for experiment 1 \n",
    "BehavioralData_Fixations_Wide_Exp1 = pd.read_csv((\"/Volumes/TwoTeras/0_Experiment_1/Eye_Tracking/Pre_processed/Data_Sets/BehavioralData_Fixations_Wide.csv\"))\n",
    "BehavioralData_Fixations_Wide_Exp1.loc[:, 'Building_Category'] = BehavioralData_Fixations_Wide_Exp1.loc[:,'meaningfulBuilding']\n",
    "BehavioralData_Fixations_Wide_Exp1['Building_Category'].replace({'Meaningful':'Public', 'Not meaningful':'Residential'}, inplace=True)\n",
    "\n",
    "# Get data for experiment 2 \n",
    "BehavioralData_Fixations_Wide_Exp2 = pd.read_csv((\"/Volumes/TwoTeras/1_Experiment_2/Eye_Tracking/Pre_processed/Data_Sets/BehavioralData_Fixations_Wide.csv\"))\n",
    "BehavioralData_Fixations_Wide_Exp2.rename({\"BuildingCategory\":\"Building_Category\"}, axis=1, inplace=True)  \n",
    "BehavioralData_Fixations_Wide_Exp2['Building_Category'].replace({'meaningful':'Public', 'Not meaningful':'Residential'}, inplace=True)\n",
    "\n",
    "# Get data for experiment 2: Pointing to agent\n",
    "AgentData_Fixations_Wide_Exp2 = pd.read_csv((\"/Volumes/TwoTeras/1_Experiment_2/Eye_Tracking/Pre_processed/Data_Sets/AgentData_Fixations_Wide.csv\"))\n",
    "AgentData_Fixations_Wide_Exp2.rename({\"meaningfulBuilding\":\"Building_Category\"}, axis=1, inplace=True)  \n",
    "AgentData_Fixations_Wide_Exp2['Building_Category'].replace({'meaningful':'Public', 'Not meaningful':'Residential'}, inplace=True)"
   ]
  },
  {
   "cell_type": "code",
   "execution_count": null,
   "id": "b9b00a32-4a18-4e68-b279-d019faf93dfe",
   "metadata": {},
   "outputs": [],
   "source": [
    "AgentData_Fixations_Wide_Exp2.Building_Category"
   ]
  },
  {
   "cell_type": "code",
   "execution_count": null,
   "id": "54e9894d-4f0c-4e0b-9123-4e6fa1588ff4",
   "metadata": {},
   "outputs": [],
   "source": [
    "AgentData_Fixations_Wide_Exp2[\"Task\"] = \"Agent\"\n",
    "BehavioralData_Fixations_Wide_Exp2[\"Task\"] = \"Building\""
   ]
  },
  {
   "cell_type": "code",
   "execution_count": null,
   "id": "40a13a15-2641-49e4-b563-94c4b3fa761f",
   "metadata": {},
   "outputs": [],
   "source": [
    "ConcatSecondExperiment = pd.concat([AgentData_Fixations_Wide_Exp2, BehavioralData_Fixations_Wide_Exp2])"
   ]
  },
  {
   "cell_type": "code",
   "execution_count": null,
   "id": "49ac6568-71ad-4a51-b4a8-00587263eebd",
   "metadata": {},
   "outputs": [],
   "source": [
    "ConcatSecondExperiment.head()"
   ]
  },
  {
   "cell_type": "code",
   "execution_count": null,
   "id": "07841d22-160e-41ef-8d96-07a2a4827a5f",
   "metadata": {},
   "outputs": [],
   "source": [
    "ConcatSecondExperiment.to_csv(\"/Users/tracysanchezpacheco/Desktop/ConcatSecondExperiment.csv\")"
   ]
  },
  {
   "cell_type": "code",
   "execution_count": null,
   "id": "09c18900-4ea2-4f10-8dd1-89de87c7508a",
   "metadata": {},
   "outputs": [],
   "source": [
    "AgentData_Fixations_Wide_Exp2.columns\n"
   ]
  },
  {
   "cell_type": "code",
   "execution_count": null,
   "id": "63729509-491a-4e43-aa02-e09ac5f2a13c",
   "metadata": {},
   "outputs": [],
   "source": [
    "AgentData_Fixations_Wide_Exp2.SubjectID.unique()"
   ]
  },
  {
   "cell_type": "code",
   "execution_count": null,
   "id": "3a2a2703-77f2-4aa3-9174-e3936cbdda00",
   "metadata": {},
   "outputs": [],
   "source": [
    "BehavioralData_Fixations_Wide_Exp1.columns"
   ]
  },
  {
   "cell_type": "code",
   "execution_count": null,
   "id": "46e34239-1301-42a6-9b66-df814bcc5419",
   "metadata": {},
   "outputs": [],
   "source": [
    "Mask1 = BehavioralData_Fixations_Wide_Exp1['Building_Category'] == \"Public\"\n",
    "Public1 = BehavioralData_Fixations_Wide_Exp1.loc[Mask1].copy()\n",
    "Residential1 = BehavioralData_Fixations_Wide_Exp1.loc[~Mask1].copy()\n",
    "def statistic(Public1, Residential1):\n",
    "  return np.mean(Residential1) - np.mean(Public1)\n",
    "\n",
    "# Conduct a permutation test using 100 resamples\n",
    "perm_result = stats.permutation_test((Public1['AbsolutError'], Residential1['AbsolutError']),\n",
    "                                    statistic=statistic,\n",
    "                                    n_resamples=1000,\n",
    "                                    vectorized=False)\n",
    "# Print the p-value\n",
    "print(perm_result.pvalue)"
   ]
  },
  {
   "cell_type": "code",
   "execution_count": null,
   "id": "80186258-6285-47b9-91dc-28e8f1fd4bd9",
   "metadata": {},
   "outputs": [],
   "source": [
    "Mask2 = BehavioralData_Fixations_Wide_Exp2['Building_Category'] == \"Public\"\n",
    "Public2 = BehavioralData_Fixations_Wide_Exp2.loc[Mask2].copy()\n",
    "Residential2 = BehavioralData_Fixations_Wide_Exp2.loc[~Mask2].copy()\n",
    "def statistic(Public2, Residential2):\n",
    "  return np.mean(Residential2) - np.mean(Public2)\n",
    "\n",
    "# Conduct a permutation test using 100 resamples\n",
    "perm_result2 = stats.permutation_test((Public2['AbsolutError'], Residential2['AbsolutError']),\n",
    "                                    statistic=statistic,\n",
    "                                    n_resamples=10000,\n",
    "                                    vectorized=False)\n",
    "# Print the p-value\n",
    "print(perm_result.pvalue)"
   ]
  },
  {
   "cell_type": "code",
   "execution_count": null,
   "id": "9a4fed26-49c8-4a3f-907d-9f3de0a594a4",
   "metadata": {},
   "outputs": [],
   "source": [
    "Mask2a = BehavioralData_Fixations_Wide_Exp2['Agent_Category'] == \"Active\"\n",
    "Active = BehavioralData_Fixations_Wide_Exp2.loc[Mask2a].copy()\n",
    "Passive = BehavioralData_Fixations_Wide_Exp2.loc[~Mask2a].copy()\n",
    "def statistic(Public2, Residential2):\n",
    "  return np.mean(Residential2) - np.mean(Public2)\n",
    "\n",
    "# Conduct a permutation test using 100 resamples\n",
    "perm_result2 = stats.permutation_test((Active['AbsolutError'], Passive['AbsolutError']),\n",
    "                                    statistic=statistic,\n",
    "                                    n_resamples=10000,\n",
    "                                    vectorized=False)\n",
    "# Print the p-value\n",
    "print(perm_result.pvalue)"
   ]
  },
  {
   "cell_type": "code",
   "execution_count": null,
   "id": "7bb04fb5-0530-4a5a-b758-dedae5b132b1",
   "metadata": {},
   "outputs": [],
   "source": [
    "Active"
   ]
  },
  {
   "cell_type": "code",
   "execution_count": null,
   "id": "158150f4-0304-4f72-8fbe-7380f8f61236",
   "metadata": {},
   "outputs": [],
   "source": [
    "BehavioralData_Fixations_Wide_Exp2.Agent_Category.unique()"
   ]
  },
  {
   "cell_type": "code",
   "execution_count": null,
   "id": "4764edb7-9806-4227-b9e8-238a3dd597bd",
   "metadata": {},
   "outputs": [],
   "source": [
    "#np.mean(Residential['AbsolutError']) - np.mean(Public['AbsolutError']) "
   ]
  },
  {
   "cell_type": "code",
   "execution_count": null,
   "id": "dcd86463-716e-495a-8d03-f5a9a65a42f6",
   "metadata": {},
   "outputs": [],
   "source": [
    "Complete_Experiments = pd.concat([BehavioralData_Fixations_Wide_Exp1, BehavioralData_Fixations_Wide_Exp2])"
   ]
  },
  {
   "cell_type": "code",
   "execution_count": null,
   "id": "5278ebb3-75ac-4e2c-83e5-32aa60aea6cb",
   "metadata": {},
   "outputs": [],
   "source": [
    "Complete_Experiments.groupby(\"Agent_Category\")[\"Dwelling_Time_Agent_Gaze\"].agg(['size','mean','median', 'std'])\n"
   ]
  },
  {
   "cell_type": "code",
   "execution_count": null,
   "id": "3f682406-fe1f-4bcf-9e2e-7ba162863f2e",
   "metadata": {},
   "outputs": [],
   "source": [
    "display(BehavioralData_Fixations_Wide_Exp1.Building_Category.value_counts())\n",
    "display(BehavioralData_Fixations_Wide_Exp2.Building_Category.value_counts())\n",
    "display(AgentData_Fixations_Wide_Exp2.Building_Category.value_counts())"
   ]
  },
  {
   "cell_type": "code",
   "execution_count": null,
   "id": "d35a0f07-45bb-4c42-a114-e2b4074b3b7e",
   "metadata": {},
   "outputs": [],
   "source": [
    "Dwelling_Summary_Exp1 = pd.DataFrame(BehavioralData_Fixations_Wide_Exp1.groupby([\"Agent_Category\", \"Building_Category\"])[\"Dwelling_Time_Agent_Gaze\", \"Dwelling_Time_Building_Gaze\"].agg(['size','mean','median', 'std']))\n",
    "Dwelling_Summary_Exp1.columns = ['_'.join(col) for col in Dwelling_Summary_Exp1.columns]\n",
    "Dwelling_Summary_Exp1.reset_index(inplace=True)\n",
    "Dwelling_Summary_Exp1.rename({\"Dwelling_Time_Agent_Gaze_size\":\"Size\"}, inplace=True, axis=1)\n",
    "Dwelling_Summary_Exp1[\"Standard_error_building\"] = Dwelling_Summary_Exp1.Dwelling_Time_Building_Gaze_std/np.sqrt(Dwelling_Summary_Exp1[\"Size\"])\n",
    "Dwelling_Summary_Exp1[\"Standard_error_agent\"] =  Dwelling_Summary_Exp1.Dwelling_Time_Agent_Gaze_std/np.sqrt(Dwelling_Summary_Exp1[\"Size\"])\n",
    "Dwelling_Summary_Exp1"
   ]
  },
  {
   "cell_type": "code",
   "execution_count": null,
   "id": "22bc56a5-6e0a-4782-907a-8ee8097b842f",
   "metadata": {},
   "outputs": [],
   "source": [
    "BehavioralData_Fixations_Wide_Exp2.groupby([\"Avatar_ID\"])"
   ]
  },
  {
   "cell_type": "code",
   "execution_count": null,
   "id": "e0ac0614-f276-44bc-8d92-c46c97308b2e",
   "metadata": {},
   "outputs": [],
   "source": [
    "Dwelling_Summary_Exp2 = pd.DataFrame(BehavioralData_Fixations_Wide_Exp2.groupby([\"Agent_Category\", \"Building_Category\"])[\"Dwelling_Time_Agent_Gaze\", \"Dwelling_Time_Building_Gaze\"].agg(['size','mean','median', 'std']))\n",
    "Dwelling_Summary_Exp2.columns = ['_'.join(col) for col in Dwelling_Summary_Exp2.columns]\n",
    "Dwelling_Summary_Exp2.reset_index(inplace=True)\n",
    "Dwelling_Summary_Exp2.rename({\"Dwelling_Time_Agent_Gaze_size\":\"Size\"}, inplace=True, axis=1)\n",
    "Dwelling_Summary_Exp2[\"Standard_error_building\"] = Dwelling_Summary_Exp2.Dwelling_Time_Building_Gaze_std/np.sqrt(Dwelling_Summary_Exp2[\"Size\"])\n",
    "Dwelling_Summary_Exp2[\"Standard_error_agent\"] = Dwelling_Summary_Exp2.Dwelling_Time_Agent_Gaze_std/np.sqrt(Dwelling_Summary_Exp2[\"Size\"])\n",
    "Dwelling_Summary_Exp2"
   ]
  },
  {
   "cell_type": "code",
   "execution_count": null,
   "id": "2ab91f55-0511-4478-896f-c4627beba527",
   "metadata": {},
   "outputs": [],
   "source": [
    "Dwelling_Summary_Exp1[\"Standard_error_building\"] = Dwelling_Summary_Exp1.Dwelling_Time_Building_Gaze_std/np.sqrt(Dwelling_Summary_Exp1.Size)\n",
    "Dwelling_Summary_Exp1[\"Standard_error_agent\"] = Dwelling_Summary_Exp1.Dwelling_Time_Agent_Gaze_std/np.sqrt(Dwelling_Summary_Exp1.Size)\n",
    "Active1 = Dwelling_Summary_Exp1[Dwelling_Summary_Exp1.Agent_Category == \"Active\"]\n",
    "Passive1 = Dwelling_Summary_Exp1[Dwelling_Summary_Exp1.Agent_Category == \"Passive\"]\n",
    "Active2 = Dwelling_Summary_Exp2[Dwelling_Summary_Exp2.Agent_Category == \"Active\"]\n",
    "Passive2 = Dwelling_Summary_Exp2[Dwelling_Summary_Exp2.Agent_Category == \"Passive\"]\n",
    "Public1 = Dwelling_Summary_Exp1[Dwelling_Summary_Exp1.Building_Category == \"Public\"]\n",
    "Residential1 = Dwelling_Summary_Exp1[Dwelling_Summary_Exp1.Building_Category == \"Residential\"]\n",
    "Public2 = Dwelling_Summary_Exp2[Dwelling_Summary_Exp2.Building_Category == \"Public\"]\n",
    "Residential2 = Dwelling_Summary_Exp2[Dwelling_Summary_Exp2.Building_Category == \"Residential\"]"
   ]
  },
  {
   "cell_type": "code",
   "execution_count": null,
   "id": "0c24ba88-e428-43b4-87a0-ca0fe107acf6",
   "metadata": {},
   "outputs": [],
   "source": [
    "Dwelling_Summary_Exp1"
   ]
  },
  {
   "cell_type": "code",
   "execution_count": null,
   "id": "cbaf95b1-fc77-4fe9-a5f5-9df8b96c40d2",
   "metadata": {},
   "outputs": [],
   "source": [
    "Public1\n"
   ]
  },
  {
   "cell_type": "code",
   "execution_count": null,
   "id": "a96f601e-06ad-407b-bf45-4e77a3d089ee",
   "metadata": {},
   "outputs": [],
   "source": [
    "plt.style.use('default')\n",
    "plt.rcParams[\"font.family\"] = \"Arial\"\n",
    "\n",
    "fig, axes = plt.subplots(1, 2, sharey=True,  figsize=(8, 6))\n",
    "fig.suptitle('Average dwelling time on buildings \\n', fontsize=17)\n",
    "fig.tight_layout()\n",
    "\n",
    "\n",
    "\n",
    "axes[0].errorbar( x=Public1[\"Agent_Category\"],y=Public1[\"Dwelling_Time_Building_Gaze_mean\"].values,\n",
    "             yerr=Public1.Standard_error_building, fmt='o',  color='#9b2226', label= \"Public location\", markersize=7, capthick=20)\n",
    "axes[0].errorbar( x=Residential1[\"Agent_Category\"],y=Residential1[\"Dwelling_Time_Building_Gaze_mean\"].values,\n",
    "             yerr=Residential1.Standard_error_building, fmt='o',  color='#577590', label= \"Residential location\", markersize=7, capthick=20)\n",
    "axes[0].set_ylabel(\"Dwelling time in seconds\")\n",
    "axes[0].set_title('Experiment 1', fontsize=16)\n",
    "axes[0].legend(loc='upper center')\n",
    "handles, labels = axes[0].get_legend_handles_labels()\n",
    "line2d_obj = Line2D([0], [0],  marker='o',markeredgewidth=1, linewidth=0) #linewidth=1, linestyle='solid', alpha = 1.0\n",
    "handles = [h[0] if isinstance(h, container.ErrorbarContainer) else h for h in handles]\n",
    "handles[-1] = line2d_obj\n",
    "axes[0].legend(handles[0:],labels[-2:],loc=\"upper center\", fontsize=16)\n",
    "\n",
    "\n",
    "axes[1].errorbar(x=Public2[\"Agent_Category\"],y=Public2[\"Dwelling_Time_Building_Gaze_mean\"].values, \n",
    "             yerr=Public2.Standard_error_building, fmt='o', color= '#9b2226', label= \"Public location\", markersize=7, capthick=20)\n",
    "axes[1].errorbar(x=Residential2[\"Agent_Category\"],y=Residential2[\"Dwelling_Time_Building_Gaze_mean\"].values, \n",
    "             yerr=Residential2.Standard_error_building, fmt='o', color= '#577590',  label= \"Residential location\", markersize=7, capthick=20)\n",
    "axes[1].set_title('Experiment 2', fontsize=16)\n",
    "\n",
    "\n",
    "for n, subplot in np.ndenumerate(axes):\n",
    "    subplot.set_xlim((-0.5, 1.5))\n",
    "    subplot.set_xticklabels(labels=[\"Active agent\", \"Passive Agent\"])\n",
    "    subplot.grid(True, color = \"grey\", linewidth = \"0.3\", linestyle = \"-.\")\n",
    "    subplot.tick_params(axis='both', labelsize=16)\n",
    "    subplot.yaxis.get_label().set_fontsize(16)\n",
    "\n",
    "    \n",
    "plt.savefig(\"/Users/tracysanchezpacheco/Desktop/Dwelling_Building.png\",  bbox_inches=\"tight\",\n",
    "            pad_inches=0.3, transparent=True)"
   ]
  },
  {
   "cell_type": "code",
   "execution_count": null,
   "id": "5c8e0bb7-b054-49a0-ab80-8f3eb3069543",
   "metadata": {},
   "outputs": [],
   "source": [
    "plt.style.use('default')\n",
    "fig, axes = plt.subplots(1, 2, sharey=True,  figsize=(8, 6))\n",
    "fig.suptitle('Average dwelling time on  agents \\n', fontsize=17)\n",
    "fig.tight_layout()\n",
    "\n",
    "\n",
    "\n",
    "axes[0].errorbar(  x=Active1[\"Building_Category\"],y=Active1[\"Dwelling_Time_Agent_Gaze_mean\"],\n",
    "             yerr=Active1.Standard_error_building, fmt='o',  color='#9b2226', label= \"Active agent\", markersize=7, capthick=20)\n",
    "axes[0].errorbar( x=Passive1[\"Building_Category\"],y=Passive1[\"Dwelling_Time_Agent_Gaze_mean\"],\n",
    "             yerr=Passive1.Standard_error_building, fmt='o--',  color='#006ba6', label= \"Passive agent\",markersize=7)\n",
    "axes[0].set_ylabel(\"Dwelling time in seconds\")\n",
    "axes[0].set_title('Experiment 1', fontsize=16)\n",
    "handles, labels = axes[0].get_legend_handles_labels()\n",
    "line2d_obj = Line2D([0], [0],  marker='o',markeredgewidth=2, linewidth=0) #linewidth=1, linestyle='solid', alpha = 1.0\n",
    "handles = [h[0] if isinstance(h, container.ErrorbarContainer) else h for h in handles]\n",
    "handles[-1] = line2d_obj\n",
    "axes[0].legend(handles[0:],labels[-2:],loc=\"upper center\", fontsize=14)\n",
    "\n",
    "\n",
    "\n",
    "axes[1].errorbar(x=Active2[\"Building_Category\"],y=Active2[\"Dwelling_Time_Agent_Gaze_mean\"].values, \n",
    "             yerr=Active2.Standard_error_building, fmt='o', color= '#9b2226', label= \"Active agent\", markersize=7, capthick=20)\n",
    "axes[1].errorbar(x=Passive2[\"Building_Category\"],y=Passive2[\"Dwelling_Time_Agent_Gaze_mean\"].values, \n",
    "             yerr=Passive2.Standard_error_building, fmt='o', color= '#577590',  label= \"Passive agent\", markersize=7, capthick=20)\n",
    "axes[1].set_title('Experiment 2', fontsize=16)\n",
    "\n",
    "\n",
    "for n, subplot in np.ndenumerate(axes):\n",
    "    subplot.set_xlim((-0.5, 1.5))\n",
    "    subplot.set_ylim((1.5, 5.5))\n",
    "    subplot.grid(True, color = \"grey\", linewidth = \"0.3\", linestyle = \"-.\")\n",
    "    subplot.tick_params(axis='both', labelsize=13)\n",
    "    subplot.set_xticklabels(labels=[\"Public location\", \"Residential location\"])\n",
    "    subplot.yaxis.get_label().set_fontsize(16)\n",
    "    subplot.yaxis.set_major_locator(MaxNLocator(integer=True))\n",
    "    \n",
    "\n",
    "\n",
    "plt.savefig(\"/Users/tracysanchezpacheco/Desktop/Dwelling_Agent.png\",  bbox_inches=\"tight\",\n",
    "            pad_inches=0.3, transparent=True)"
   ]
  },
  {
   "cell_type": "code",
   "execution_count": null,
   "id": "7c5904ff-76e9-4536-9020-b610cd93b16a",
   "metadata": {},
   "outputs": [],
   "source": [
    "Performance_Summary_Exp2 = pd.DataFrame(BehavioralData_Fixations_Wide_Exp2.groupby([\"Agent_Category\", \"Building_Category\"])[\"AbsolutError\", \"RT\"].agg(['size','mean','median', 'std']))\n",
    "Performance_Summary_Exp2.columns = ['_'.join(col) for col in Performance_Summary_Exp2.columns]\n",
    "Performance_Summary_Exp2.reset_index(inplace=True)\n",
    "Performance_Summary_Exp2.rename({\"AbsolutError_size\":\"Size\"}, inplace=True, axis=1)\n",
    "Performance_Summary_Exp2[\"Standard_error_performance\"] = (Performance_Summary_Exp2.AbsolutError_std)/np.sqrt(Performance_Summary_Exp2[\"Size\"])"
   ]
  },
  {
   "cell_type": "code",
   "execution_count": null,
   "id": "422aea03-22ff-40a0-b696-f5ed5095334e",
   "metadata": {},
   "outputs": [],
   "source": [
    "Performance_Summary_Exp2"
   ]
  },
  {
   "cell_type": "code",
   "execution_count": null,
   "id": "0cfb0293-cbd8-4c78-b04e-ad9d5c232fcc",
   "metadata": {},
   "outputs": [],
   "source": [
    "Performance_Summary_Agent= pd.DataFrame(AgentData_Fixations_Wide_Exp2.groupby([ \"Building_Category\", \"Agent_Category\"])[\"AbsolutError\", \"RT\"].agg(['size','mean','median', 'std']))\n",
    "Performance_Summary_Agent.columns = ['_'.join(col) for col in Performance_Summary_Agent.columns]\n",
    "Performance_Summary_Agent.reset_index(inplace=True)\n",
    "Performance_Summary_Agent.rename({\"AbsolutError_size\":\"Size\"}, inplace=True, axis=1)\n",
    "Performance_Summary_Agent[\"Standard_error_performance\"] = Performance_Summary_Agent.AbsolutError_std/np.sqrt(Performance_Summary_Agent[\"Size\"])\n",
    "Performance_Summary_Agent"
   ]
  },
  {
   "cell_type": "code",
   "execution_count": null,
   "id": "e4bd2549-a1c2-48be-b921-e8ecf916befc",
   "metadata": {},
   "outputs": [],
   "source": [
    "Performance_Summary_Exp1 = pd.DataFrame(BehavioralData_Fixations_Wide_Exp1.groupby([\"Agent_Category\", \"Building_Category\"])[\"AbsolutError\", \"RT\"].agg(['size','mean','median', 'std']))\n",
    "Performance_Summary_Exp1.columns = ['_'.join(col) for col in Performance_Summary_Exp1.columns]\n",
    "Performance_Summary_Exp1.reset_index(inplace=True)\n",
    "Performance_Summary_Exp1.rename({\"AbsolutError_size\":\"Size\"}, inplace=True, axis=1)\n",
    "Performance_Summary_Exp1[\"Standard_error_performance\"] = Performance_Summary_Exp1.AbsolutError_std/np.sqrt(Performance_Summary_Exp1[\"Size\"])\n",
    "#Performance_Summary_Exp1[\"Standard_error_RT\"] = Performance_Summary_Exp1.RT_std/np.sqrt(Performance_Summary_Exp1[\"Size\"])"
   ]
  },
  {
   "cell_type": "code",
   "execution_count": null,
   "id": "5b2dd5bf-374c-4afc-87f8-a4f8a3682a5b",
   "metadata": {},
   "outputs": [],
   "source": [
    "BehavioralData_Fixations_Wide_Exp1.Building_Category.value_counts()"
   ]
  },
  {
   "cell_type": "code",
   "execution_count": null,
   "id": "6900771f-c5e0-45fa-8e12-a8bedace5716",
   "metadata": {},
   "outputs": [],
   "source": [
    "Exp1Passive = BehavioralData_Fixations_Wide_Exp1.loc[((BehavioralData_Fixations_Wide_Exp1.Agent_Category == \"Passive\") & (BehavioralData_Fixations_Wide_Exp1.Building_Category == \"Residential\")), \"AbsolutError\"]\n",
    "Exp1Active = BehavioralData_Fixations_Wide_Exp1.loc[((BehavioralData_Fixations_Wide_Exp1.Agent_Category == \"Active\") & (BehavioralData_Fixations_Wide_Exp1.Building_Category == \"Public\")), \"AbsolutError\"]"
   ]
  },
  {
   "cell_type": "code",
   "execution_count": null,
   "id": "ecc3b2d3-b978-4eab-a276-32529c47d33e",
   "metadata": {},
   "outputs": [],
   "source": [
    "len(Exp1Active)"
   ]
  },
  {
   "cell_type": "code",
   "execution_count": null,
   "id": "1b97f480-3462-4953-ac60-8c3655913196",
   "metadata": {},
   "outputs": [],
   "source": [
    "import scipy.stats as stats\n",
    "confidence = 0.95\n",
    "group1 = Exp1Passive\n",
    "group2 = Exp1Active\n",
    "\n",
    "\n",
    "mean1, sem1 = np.mean(group1), stats.sem(group1)\n",
    "interval1 = stats.t.interval(confidence, len(group1) - 1, loc=mean1, scale=sem1)\n",
    "\n",
    "mean2, sem2 = np.mean(group2), stats.sem(group2)\n",
    "interval2 = stats.t.interval(confidence, len(group2) - 1, loc=mean2, scale=sem2)"
   ]
  },
  {
   "cell_type": "code",
   "execution_count": null,
   "id": "4aeb33c5-b772-4a28-bf59-98938218c389",
   "metadata": {},
   "outputs": [],
   "source": [
    "display(interval1)\n",
    "display(interval2)"
   ]
  },
  {
   "cell_type": "code",
   "execution_count": null,
   "id": "76a98ca7-40a4-4884-86e7-656171898bf9",
   "metadata": {},
   "outputs": [],
   "source": [
    "display(Performance_Summary_Exp1)\n",
    "display(Performance_Summary_Exp2)"
   ]
  },
  {
   "cell_type": "code",
   "execution_count": null,
   "id": "dc0959ea-ebab-4def-8e78-d123e91f28ec",
   "metadata": {},
   "outputs": [],
   "source": [
    "Active1p = Performance_Summary_Exp1[Performance_Summary_Exp1.Agent_Category == \"Active\"]\n",
    "Passive1p = Performance_Summary_Exp1[Performance_Summary_Exp1.Agent_Category == \"Passive\"]\n",
    "Active2p = Performance_Summary_Exp2[Performance_Summary_Exp2.Agent_Category == \"Active\"]\n",
    "Passive2p = Performance_Summary_Exp2[Performance_Summary_Exp2.Agent_Category == \"Passive\"]\n",
    "Public1p = Performance_Summary_Exp1[Performance_Summary_Exp1.Building_Category == \"Public\"]\n",
    "Residential1p = Performance_Summary_Exp1[Performance_Summary_Exp1.Building_Category == \"Residential\"]\n",
    "Public2p = Performance_Summary_Exp2[Performance_Summary_Exp2.Building_Category == \"Public\"]\n",
    "Residential2p = Performance_Summary_Exp2[Performance_Summary_Exp2.Building_Category == \"Residential\"]\n",
    "Active2a = Performance_Summary_Agent[Performance_Summary_Agent.Agent_Category == \"Active\"]\n",
    "Passive2a = Performance_Summary_Agent[Performance_Summary_Agent.Agent_Category == \"Passive\"]\n",
    "Public2a = Performance_Summary_Agent[Performance_Summary_Agent.Building_Category == \"Public\"]\n",
    "Residential2a = Performance_Summary_Agent[Performance_Summary_Agent.Building_Category == \"Residential\"]"
   ]
  },
  {
   "cell_type": "code",
   "execution_count": null,
   "id": "d116dea3-0035-4df5-9478-76978d0ae53d",
   "metadata": {},
   "outputs": [],
   "source": [
    "Active2p"
   ]
  },
  {
   "cell_type": "code",
   "execution_count": null,
   "id": "28c754a9-0805-4655-b1a6-ec0ecea8e244",
   "metadata": {},
   "outputs": [],
   "source": [
    "plt.style.use('default')\n",
    "fig, axes = plt.subplots(1, 2, sharey=True,  figsize=(8, 6))\n",
    "fig.suptitle('Pointing to building task performance \\n', fontsize=17)\n",
    "fig.tight_layout()\n",
    "\n",
    "\n",
    "axes[0].errorbar( x=Public1p[\"Agent_Category\"],y=Public1p[\"AbsolutError_mean\"].values,\n",
    "             yerr=Public1p.Standard_error_performance, fmt='o',  color='#9b2226', label= \"Public location\", markersize=7, capthick=20)\n",
    "axes[0].errorbar( x=Residential1p[\"Agent_Category\"],y=Residential1p[\"AbsolutError_mean\"].values,\n",
    "             yerr=(Residential1p.Standard_error_performance), fmt='o--',  color='#006ba6', label= \"Residential location\", markersize=7, capthick=20)\n",
    "axes[0].legend( loc='upper center')\n",
    "axes[0].set_title('Experiment 1', fontsize=16)\n",
    "axes[0].set_ylabel(\"Average absolute angular error in degrees($^\\circ$)\")\n",
    "handles, labels = axes[0].get_legend_handles_labels()\n",
    "line2d_obj = Line2D([0], [0],  marker='o',markeredgewidth=1, linewidth=0) \n",
    "handles = [h[0] if isinstance(h, container.ErrorbarContainer) else h for h in handles]\n",
    "handles[-1] = line2d_obj\n",
    "axes[0].legend(handles[0:],labels[-2:],loc=\"upper center\", fontsize=14)\n",
    "\n",
    "\n",
    "axes[1].errorbar(x=Public2p[\"Agent_Category\"],y=Public2p[\"AbsolutError_mean\"].values, \n",
    "             yerr=Public2p.Standard_error_performance, fmt='o', color= '#9b2226', label= \"Public location\", markersize=7, capthick=20)\n",
    "axes[1].errorbar(x=Residential2p[\"Agent_Category\"],y=Residential2p[\"AbsolutError_mean\"].values, \n",
    "             yerr=Residential2p.Standard_error_performance, fmt='o', color= '#006ba6',  label= \"Residential location\", markersize=7, capthick=20)\n",
    "axes[1].set_title('Experiment 2', fontsize=16)\n",
    "\n",
    "\n",
    "\n",
    "for n, subplot in np.ndenumerate(axes):\n",
    "    subplot.set_xlim((-0.5, 1.5))\n",
    "    subplot.grid(True, color = \"grey\", linewidth = \"0.3\", linestyle = \"-.\")\n",
    "    subplot.tick_params(axis='both', labelsize=16)\n",
    "    subplot.set_xticklabels(labels=[\"Active agent\", \"Passive Agent\"])\n",
    "    subplot.yaxis.get_label().set_fontsize(16)\n",
    "    subplot.yaxis.set_major_locator(MaxNLocator(integer=True))\n",
    "plt.savefig(\"/Users/tracysanchezpacheco/Desktop/Absolut_Error_OneStandard.png\",  bbox_inches=\"tight\",\n",
    "            pad_inches=0.3, transparent=True)"
   ]
  },
  {
   "cell_type": "code",
   "execution_count": null,
   "id": "97a30805-fa37-4dab-b923-187b7951d4e6",
   "metadata": {},
   "outputs": [],
   "source": [
    "fig, axes = plt.subplots(1, 1, sharey=True,  figsize=(8, 6))\n",
    "plt.errorbar(x=Active2a[\"Building_Category\"],y=Active2a[\"AbsolutError_mean\"].values, \n",
    "             yerr=Active2a.Standard_error_performance, fmt='o', color= '#9b2226', label= \"Active agent\", markersize=7, capthick=20)\n",
    "plt.errorbar(x=Passive2a[\"Building_Category\"],y=Passive2a[\"AbsolutError_mean\"].values, \n",
    "             yerr=Passive2a.Standard_error_performance, fmt='o', color= '#006ba6',  label= \"Passive agent\", markersize=7, capthick=20)\n",
    "plt.title('Pointing to agent task performance', fontsize=16)\n",
    "handles, labels = axes.get_legend_handles_labels()\n",
    "line2d_obj = Line2D([0], [0],  marker='o',markeredgewidth=1, linewidth=0) \n",
    "handles = [h[0] if isinstance(h, container.ErrorbarContainer) else h for h in handles]\n",
    "handles[-1] = line2d_obj\n",
    "axes.legend(handles[0:],labels[-2:],loc=\"upper center\", fontsize=16)\n",
    "axes.tick_params(axis='both', labelsize=16)\n",
    "axes.set_ylabel(\"Average absolute angular error in degrees($^\\circ$)\")\n",
    "axes.yaxis.get_label().set_fontsize(16)\n",
    "axes.set_xticklabels(labels=[\"Public location\", \"Residential location\"])\n",
    "plt.xlim((-0.5, 1.5))\n",
    "plt.grid(True, color = \"grey\", linewidth = \"0.3\", linestyle = \"-.\")\n",
    "plt.savefig(\"/Users/tracysanchezpacheco/Desktop/Absolut_Error_OneStandard_Agent.png\",  bbox_inches=\"tight\",\n",
    "            pad_inches=0.3, transparent=True)"
   ]
  },
  {
   "cell_type": "code",
   "execution_count": null,
   "id": "cf7bc31e-de9d-4960-b9a4-d400911cbf73",
   "metadata": {},
   "outputs": [],
   "source": [
    "Complete_model = pd.read_csv( \"/Volumes/TwoTeras/Resources/Complete_model.csv\")\n",
    "Complete_model['term'] = [\"Intercept\", \"Dwealling time on task Building\",  \"Dwealling time on agent\",\"Location  (Public vs. Residential)\",\"Agent category (Active vs. Passive)\",\"Agent Presence in Task Stimuli\", \"Congruent Pair\", \"Location x Agent category\"]\n",
    "Complete_model.rename({'term': 'Factor',\"Std. Error\": \"Standard_Error\"}, axis=1, inplace=True)\n",
    "Complete_model[\"Significance\"] = np.where(Complete_model[\"Pr(>|t|)\"] < 0.001, \"***\", \" \")\n",
    "Complete_model[\"Anotate\"] = Complete_model[\"Estimate\"].round(2).astype(str)  + Complete_model[\"Significance\"]"
   ]
  },
  {
   "cell_type": "code",
   "execution_count": null,
   "id": "211888e2-a423-43cf-b835-9dfe9fc35d7c",
   "metadata": {},
   "outputs": [],
   "source": [
    "Complete_model.columns"
   ]
  },
  {
   "cell_type": "code",
   "execution_count": null,
   "id": "c86e85a1-8fe6-474c-a604-4150438b008f",
   "metadata": {},
   "outputs": [],
   "source": [
    "fig, axes = plt.subplots(1, 1,sharey=True,  figsize=(8, 6))\n",
    "fig.tight_layout()\n",
    "\n",
    "# Sample data (replace this with your actual data)\n",
    "Complete_modelf = Complete_model.iloc[1:].copy()\n",
    "Complete_modelf.sort_values('Unnamed: 0',  ascending=False, inplace=True)\n",
    "Complete_modelf[\"Significance\"] = np.where(Complete_modelf[\"Pr(>|t|)\"] < 0.001, \"***\", np.where(Complete_modelf[\"Pr(>|t|)\"] < 0.05, \"*\", \" \"))\n",
    "Complete_modelf[\"Anotate\"] = Complete_modelf[\"Estimate\"].round(2).astype(str) + Complete_modelf[\"Significance\"]\n",
    "\n",
    "# Create the error bar plot\n",
    "plt.errorbar(x=Complete_modelf[\"Estimate\"], y=Complete_modelf[\"Factor\"],\n",
    "                  xerr=Complete_modelf[\"Standard_Error\"], fmt='o', color='black', markersize=7, capthick=20)\n",
    "\n",
    "# Annotate each point with the \"Anotate\" values\n",
    "for xi, yi, annotation in zip(Complete_modelf[\"Estimate\"], Complete_modelf[\"Factor\"], Complete_modelf[\"Anotate\"]):\n",
    "    plt.annotate(annotation, (xi, yi), textcoords=\"offset points\", xytext=(-7, 7), ha='center', fontsize=14)\n",
    "\n",
    "# Adding grid lines and vertical red line at x=0\n",
    "plt.grid(True, color=\"grey\", linewidth=0.3, linestyle=\"-.\")\n",
    "plt.axvline(x=0, color='r')\n",
    "\n",
    "# Set labels and title\n",
    "plt.xlabel(r\"Fixed effects coefficients\")\n",
    "plt.title(r'Fixed effects coefficients')\n",
    "plt.xlim((-10, 10))\n",
    "axes.tick_params(axis='both', labelsize=14)\n",
    "axes.margins(0.1)\n",
    "\n",
    "plt.savefig(\"/Users/tracysanchezpacheco/Desktop/Model_Estimates.png\",  bbox_inches=\"tight\",\n",
    "            pad_inches=0.3)"
   ]
  },
  {
   "cell_type": "code",
   "execution_count": null,
   "id": "7760d47c-82d3-42ca-a94a-4c87b197435f",
   "metadata": {},
   "outputs": [],
   "source": [
    "plt.style.use('default')\n",
    "fig, axes = plt.subplots(1, 3, sharey=True,  figsize=(10, 6))\n",
    "#fig.suptitle('Pointing task performance \\n', fontsize=18)\n",
    "fig.tight_layout()\n",
    "\n",
    "#Experiment 1\n",
    "axes[0].errorbar( x=Public1p[\"Agent_Category\"],y=Public1p[\"AbsolutError_mean\"].values,\n",
    "             yerr=Public1p.Standard_error_performance, fmt='o',  color='#9b2226', label= \"Public location\", markersize=7, capthick=20)\n",
    "axes[0].errorbar( x=Residential1p[\"Agent_Category\"],y=Residential1p[\"AbsolutError_mean\"].values,\n",
    "             yerr=(Residential1p.Standard_error_performance), fmt='o--',  color='#006ba6', label= \"Residential location\", markersize=7, capthick=20)\n",
    "axes[0].legend( loc='upper center')\n",
    "axes[0].set_title('Pointing to building \\n (Experiment 1)', fontsize=16)\n",
    "axes[0].set_ylabel(\"Absolute angular error [$^\\circ$]\")\n",
    "handles, labels = axes[0].get_legend_handles_labels()\n",
    "line2d_obj = Line2D([0], [0],  marker='o',markeredgewidth=1, linewidth=0) \n",
    "handles = [h[0] if isinstance(h, container.ErrorbarContainer) else h for h in handles]\n",
    "handles[-1] = line2d_obj\n",
    "axes[0].legend(handles[0:],labels[-2:],loc=\"upper center\", fontsize=14)\n",
    "\n",
    "# Experiment 2 \n",
    "x_positioner_p = np.arange(len(Public2p[\"Building_Category\"]))\n",
    "x_positioner_r = np.arange(len(Residential2p[\"Agent_Category\"]))\n",
    "offset = 0.07\n",
    "          \n",
    "axes[1].errorbar(x=x_positioner_p + offset,y=Public2p[\"AbsolutError_mean\"].values, \n",
    "             yerr=Public2p.Standard_error_performance, fmt='o', color= '#9b2226', label= \"Public location\", markersize=7, capthick=20)\n",
    "axes[1].errorbar(x=x_positioner_r - offset,y=Residential2p[\"AbsolutError_mean\"].values, \n",
    "             yerr=Residential2p.Standard_error_performance, fmt='o', color= '#006ba6',  label= \"Residential location\", markersize=7, capthick=20)\n",
    "axes[1].set_title('Pointing to building \\n (Experiment 2)', fontsize=16)\n",
    "\n",
    "# Pointing to agent\n",
    "\n",
    "\n",
    "\n",
    "axes[2].errorbar(x=x_positioner_p + offset,y=Public2a[\"AbsolutError_mean\"].values, \n",
    "             yerr=Public2a.Standard_error_performance, fmt='o', color= '#9b2226', label= \"Public location\")\n",
    "axes[2].errorbar(x=x_positioner_r - offset,y=Residential2a[\"AbsolutError_mean\"].values, \n",
    "             yerr=Residential2a.Standard_error_performance, fmt='o', color= '#006ba6',  label= \"Residential location\")\n",
    "axes[2].set_title('Pointing to agent \\n (Experiment 2)', fontsize=16)\n",
    "axes[2].set_xlim((-0.5, 1.5))\n",
    "for n, subplot in np.ndenumerate(axes):\n",
    "    subplot.set_xlim((-0.5, 1.5))\n",
    "    subplot.xaxis.set_major_locator(matplotlib.ticker.FixedLocator([0,1]))\n",
    "    subplot.grid(True, color = \"grey\", linewidth = \"0.3\", linestyle = \"-.\")\n",
    "    subplot.tick_params(axis='both', labelsize=14)\n",
    "    subplot.set_xticklabels(labels=[\"Active agent\", \"Passive Agent\"], multialignment= \"right\")\n",
    "    subplot.yaxis.get_label().set_fontsize(14)\n",
    "    subplot.yaxis.set_major_locator(MaxNLocator(integer=True))\n",
    "plt.savefig(\"/Users/tracysanchezpacheco/Desktop/Absolut_Error_OneStandard_3plots.png\",  bbox_inches=\"tight\",\n",
    "            pad_inches=0.3, transparent=True)"
   ]
  },
  {
   "cell_type": "code",
   "execution_count": null,
   "id": "68f8ec76-5ed1-4c1f-b985-52723135ff81",
   "metadata": {},
   "outputs": [],
   "source": [
    "# Two experiments: Just location distintion \n",
    "Performance_Building = pd.DataFrame(Complete_Experiments.groupby(\"Building_Category\")['AbsolutError'].agg(['size','mean','median', 'std']))\n",
    "Performance_Building.reset_index(inplace=True)\n",
    "Performance_Building[\"Standard_error_performance\"] = (Performance_Building['std'])/np.sqrt(Performance_Building[\"size\"])\n",
    "#Two experiments: Just agent distintion\n",
    "Performance_Agent = pd.DataFrame(Complete_Experiments.groupby(\"Agent_Category\")['AbsolutError'].agg(['size','mean','median', 'std']))\n",
    "Performance_Agent.reset_index(inplace=True)\n",
    "Performance_Agent[\"Standard_error_performance\"] = (Performance_Agent['std'])/np.sqrt(Performance_Agent[\"size\"])\n",
    "#Two experiments: Interaction\n",
    "Performance_Interaction = pd.DataFrame(Complete_Experiments.groupby([\"Building_Category\",\"Agent_Category\"])['AbsolutError'].agg(['size','mean','median', 'std']))\n",
    "Performance_Interaction.reset_index(inplace=True)\n",
    "Performance_Interaction[\"Standard_error_performance\"] = (Performance_Interaction['std'])/np.sqrt(Performance_Interaction[\"size\"])\n"
   ]
  },
  {
   "cell_type": "code",
   "execution_count": null,
   "id": "b49775cd-5e88-428c-91bb-307010c8a677",
   "metadata": {},
   "outputs": [],
   "source": [
    "import matplotlib.pyplot as plt\n",
    "import matplotlib.gridspec as gridspec\n",
    "# Create a new figure\n",
    "fig = plt.figure(figsize=(10, 6))\n",
    "fig.tight_layout()\n",
    "# Define the grid structure. 2 rows by 2 columns. \n",
    "# The second column (the one on the right) will span 2 rows.\n",
    "gs = gridspec.GridSpec(2, 2, width_ratios=[1, 1])\n",
    "\n",
    "# Add the first plot to the top-left\n",
    "ax0 = fig.add_subplot(gs[0])\n",
    "ax0.errorbar(x=Performance_Building.iloc[0][0],y=Performance_Building.iloc[0][2], \n",
    "             yerr=Performance_Building.iloc[0][5], fmt='o', color= '#000000', label= \"Public\", markersize=7, capthick=20)\n",
    "ax0.errorbar(x=1,y=Performance_Building.iloc[1][2], \n",
    "             yerr=Performance_Building.iloc[1][5], fmt='o', color= '#000000', label= \"Residential\", markersize=7, capthick=20)\n",
    "ax0.set_xticklabels(labels=[\"Public\", \"Residential\"], multialignment= \"right\")\n",
    "ax0.set_title('A) Location category')\n",
    "\n",
    "# Add the second plot to the bottom-left\n",
    "ax1 = fig.add_subplot(gs[2])\n",
    "ax1.errorbar(x=Performance_Agent.iloc[0][0],y=Performance_Agent.iloc[0][2], \n",
    "             yerr=Performance_Agent.iloc[0][5], fmt='o', color= '#000000', label= \"Active\", markersize=7, capthick=20)\n",
    "ax1.errorbar(x=Performance_Agent.iloc[1][0],y=Performance_Agent.iloc[1][2], \n",
    "             yerr=Performance_Agent.iloc[1][5], fmt='o', color= '#000000', label= \"Passive\", markersize=7, capthick=20)\n",
    "\n",
    "ax1.set_title('B) Agent category')\n",
    "\n",
    "# Add the third plot, which spans two rows on the right\n",
    "ax2 = fig.add_subplot(gs[:,1])  # this makes it span two rows\n",
    "ax2.errorbar(x=0 + 0.05,y=Performance_Interaction.iloc[0][3], \n",
    "             yerr=Performance_Interaction.iloc[0][6], fmt='o', color= '#9b2226', label= \"Public\", markersize=7, capthick=20)\n",
    "ax2.errorbar(x=Performance_Interaction.iloc[2][1],y=Performance_Interaction.iloc[2][3], \n",
    "             yerr=Performance_Interaction.iloc[2][6], fmt='o', color= '#006ba6', label= \"Passive\", markersize=7, capthick=20)\n",
    "ax2.errorbar(x=1 + 0.05,y=Performance_Interaction.iloc[1][3], \n",
    "             yerr=Performance_Interaction.iloc[1][6], fmt='o', color= '#9b2226', label= \"Public\", markersize=7, capthick=20)\n",
    "ax2.errorbar(x=Performance_Interaction.iloc[3][1],y=Performance_Interaction.iloc[3][3], \n",
    "             yerr=Performance_Interaction.iloc[3][6], fmt='o', color= '#006ba6', label= \"Passive\", markersize=7, capthick=20)\n",
    "ax2.legend(handles[0:],labels[-2:],loc=\"upper center\", fontsize=14)\n",
    "ax2.set_title('C) Interaction of agent and location category')\n",
    "\n",
    "for n, subplot in np.ndenumerate([ax0,ax1,ax2]):\n",
    "    subplot.set_xlim((-0.5, 1.5))\n",
    "    subplot.set_ylim((44,54))\n",
    "    subplot.set_ylabel(\"Absolute angular error [$^\\circ$]\")\n",
    "    subplot.xaxis.set_major_locator(matplotlib.ticker.FixedLocator([0,1]))\n",
    "    subplot.grid(True, color = \"grey\", linewidth = \"0.3\", linestyle = \"-.\")\n",
    "    subplot.tick_params(axis='both', labelsize=14)\n",
    "    #subplot.yaxis.get_label().set_fontsize(14)\n",
    "    subplot.yaxis.set_major_locator(MaxNLocator(integer=True))\n",
    "fig.suptitle('Average Scores from Subjects Pointing to Building Performance', fontsize=16)\n",
    "plt.tight_layout(rect=[0.02, 0.03, 1, 0.95])\n",
    "plt.show()\n",
    "plt.savefig(\"/Users/tracysanchezpacheco/Desktop/Two_Experiments_Three_plots.png\",  bbox_inches=\"tight\",\n",
    "            pad_inches=0.3, transparent=True)"
   ]
  },
  {
   "cell_type": "code",
   "execution_count": null,
   "id": "9cc9c588-b028-432b-a01d-779c9a263e65",
   "metadata": {},
   "outputs": [],
   "source": [
    "# Create a new figure\n",
    "fig = plt.figure(figsize=(10, 6))\n",
    "# Define the grid structure. 2 rows by 2 columns. \n",
    "# The second column (the one on the right) will span 2 rows.\n",
    "gs = gridspec.GridSpec(1, 3)\n",
    "\n",
    "# Add the first plot to the top-left\n",
    "ax0 = fig.add_subplot(gs[0,0])\n",
    "ax0.errorbar(x=Performance_Building.iloc[0][0],y=Performance_Building.iloc[0][2], \n",
    "             yerr=Performance_Building.iloc[0][5], fmt='o', color= '#000000', label= \"Public\", markersize=7, capthick=20)\n",
    "ax0.errorbar(x=1,y=Performance_Building.iloc[1][2], \n",
    "             yerr=Performance_Building.iloc[1][5], fmt='o', color= '#000000', label= \"Residential\", markersize=7, capthick=20)\n",
    "ax0.set_xticklabels(labels=[\"Public\", \"Residential\"], multialignment= \"right\")\n",
    "ax0.set_title('A) Location type')\n",
    "ax0.set_ylim((44,54))\n",
    "ax0.set_ylabel(\"Absolute pointing angular error [$^\\circ$]\")\n",
    "\n",
    "# Add the second plot to the bottom-left\n",
    "ax1 = fig.add_subplot(gs[0,1], sharey=ax0)\n",
    "ax1.errorbar(x=Performance_Agent.iloc[0][0],y=Performance_Agent.iloc[0][2], \n",
    "             yerr=Performance_Agent.iloc[0][5], fmt='o', color= '#000000', label= \"Active\", markersize=7, capthick=20)\n",
    "ax1.errorbar(x=Performance_Agent.iloc[1][0],y=Performance_Agent.iloc[1][2], \n",
    "             yerr=Performance_Agent.iloc[1][5], fmt='o', color= '#000000', label= \"Passive\", markersize=7, capthick=20)\n",
    "#ax1.set_yticklabels([])\n",
    "ax1.set_title('B) Agent type')\n",
    "\n",
    "# Add the third plot, which spans two rows on the right\n",
    "ax2 = fig.add_subplot(gs[0,2], sharey=ax0)  # this makes it span two rows\n",
    "ax2.errorbar(x=0 + 0.07,y=Performance_Interaction.iloc[0][3], \n",
    "             yerr=Performance_Interaction.iloc[0][6], fmt='o', color= '#9b2226', label= \"Public\", markersize=7, capthick=20)\n",
    "ax2.errorbar(x=Performance_Interaction.iloc[2][1],y=Performance_Interaction.iloc[2][3], \n",
    "             yerr=Performance_Interaction.iloc[2][6], fmt='o', color= '#006ba6', label= \"Passive\", markersize=7, capthick=20)\n",
    "ax2.errorbar(x=1 + 0.07,y=Performance_Interaction.iloc[1][3], \n",
    "             yerr=Performance_Interaction.iloc[1][6], fmt='o', color= '#9b2226', label= \"Public\", markersize=7, capthick=20)\n",
    "ax2.errorbar(x=Performance_Interaction.iloc[3][1],y=Performance_Interaction.iloc[3][3], \n",
    "             yerr=Performance_Interaction.iloc[3][6], fmt='o', color= '#006ba6', label= \"Passive\", markersize=7, capthick=20)\n",
    "#ax2.set_yticklabels([])\n",
    "ax2.legend(handles[0:],labels[-2:],loc=\"upper center\", fontsize=10)\n",
    "\n",
    "ax2.set_title('C) Interaction of agent \\n and location types')\n",
    "\n",
    "for n, subplot in np.ndenumerate([ax0,ax1,ax2]):\n",
    "    subplot.set_xlim((-0.5, 1.5))\n",
    "    subplot.xaxis.set_major_locator(matplotlib.ticker.FixedLocator([0,1]))\n",
    "    subplot.grid(True, color = \"grey\", linewidth = \"0.3\", linestyle = \"-.\")\n",
    "    subplot.tick_params(axis='both', labelsize=10)\n",
    "fig.suptitle('Grand averages of subjects pointing to building performance', fontsize=16)\n",
    "plt.tight_layout(rect=[0.02, 0.03, 1, 0.95])\n",
    "plt.show()\n",
    "plt.savefig(\"/Users/tracysanchezpacheco/Desktop/Two_Experiments_Three_plots.png\",  bbox_inches=\"tight\",\n",
    "            pad_inches=0.3, transparent=True)"
   ]
  },
  {
   "cell_type": "code",
   "execution_count": null,
   "id": "63a8f0cc-0189-4c07-ba2c-17fc659c6141",
   "metadata": {},
   "outputs": [],
   "source": [
    "SecondExp = pd.DataFrame(ConcatSecondExperiment.groupby('Task')[\"AbsolutError\"].agg(['size','mean','median', 'std']))\n",
    "SecondExp.reset_index(inplace=True)\n",
    "SecondExp[\"Standard_error_performance\"] = (SecondExp['std'])/np.sqrt(SecondExp[\"size\"])\n",
    "SecondExp"
   ]
  },
  {
   "cell_type": "code",
   "execution_count": null,
   "id": "8cad3788-267f-4549-9b48-7024954866d7",
   "metadata": {},
   "outputs": [],
   "source": [
    "SecondExp_Inter = pd.DataFrame(ConcatSecondExperiment.groupby(['Task', 'Building_Category', 'Agent_Category'])[\"AbsolutError\"].agg(['size','mean','median', 'std']))\n",
    "SecondExp_Inter.reset_index(inplace=True)\n",
    "SecondExp_Inter[\"Standard_error_performance\"] = (SecondExp_Inter['std'])/np.sqrt(SecondExp_Inter[\"size\"])\n",
    "SecondExp_Inter"
   ]
  },
  {
   "cell_type": "code",
   "execution_count": null,
   "id": "bbfcebd7-339b-4327-8232-a52e7b973823",
   "metadata": {},
   "outputs": [],
   "source": [
    "# Create a new figure\n",
    "fig = plt.figure(figsize=(10, 6))\n",
    "# Define the grid structure. 2 rows by 2 columns. \n",
    "# The second column (the one on the right) will span 2 rows.\n",
    "gs = gridspec.GridSpec(1, 3)\n",
    "\n",
    "# Add the first plot to the top-left\n",
    "ax0 = fig.add_subplot(gs[0,0])\n",
    "ax0.errorbar(x=SecondExp.iloc[1][0],y=SecondExp.iloc[1][2], \n",
    "             yerr=SecondExp.iloc[1][5], fmt='o', color= '#000000',  markersize=7, capthick=20)\n",
    "ax0.errorbar(x=SecondExp.iloc[0][0],y=SecondExp.iloc[0][2], \n",
    "             yerr=SecondExp.iloc[0][5], fmt='o', color= '#000000',  markersize=7, capthick=20)\n",
    "\n",
    "ax0.set_title('A) Task: Stimuli type')\n",
    "ax0.set_ylabel(\"Absolute pointing angular error [$^\\circ$]\")\n",
    "ax0.set_xlim((-0.5, 1.5))\n",
    "ax0.xaxis.set_major_locator(matplotlib.ticker.FixedLocator([0,1]))\n",
    "ax0.grid(True, color = \"grey\", linewidth = \"0.3\", linestyle = \"-.\")\n",
    "ax0.tick_params(axis='both', labelsize=10)"
   ]
  },
  {
   "cell_type": "code",
   "execution_count": null,
   "id": "cd50ff04-05da-4740-955b-35d7f3a581be",
   "metadata": {},
   "outputs": [],
   "source": [
    "SecondExp"
   ]
  },
  {
   "cell_type": "code",
   "execution_count": null,
   "id": "0806e514-189d-44de-97ba-4c59ad371443",
   "metadata": {},
   "outputs": [],
   "source": [
    "import pandas as pd\n",
    "import numpy as np\n",
    "import matplotlib.pyplot as plt\n",
    "import matplotlib.cm as cm\n",
    "\n",
    "def scotts_rule(data):\n",
    "    std_dev = np.std(data)  # Standard deviation of data\n",
    "    n = len(data)  # Number of data points\n",
    "    bin_width = 3.5 * std_dev * (n ** (-1/3))  # Bin width using Scott's rule\n",
    "    n_bins = int(np.ptp(data) / bin_width)  # Number of bins\n",
    "    return n_bins\n",
    "\n",
    "# Get the number of bins based on Scott's rule\n",
    "n_bins_scott = scotts_rule(ConcatSecondExperiment['SignedAngle-+180'])\n",
    "\n",
    "# Create bins based on the number of bins determined by the rule\n",
    "bin_edges = np.linspace(-180, 180, n_bins_scott+1)\n",
    "bin_labels = 0.5 * (bin_edges[1:] + bin_edges[:-1])\n",
    "\n",
    "# Categorize the data into these bins\n",
    "ConcatSecondExperiment['bins'] = pd.cut(ConcatSecondExperiment['SignedAngle-+180'], bins=bin_edges, labels=bin_labels, include_lowest=True)\n",
    "bin_counts = ConcatSecondExperiment['bins'].value_counts(normalize=True) \n",
    "\n",
    "# Convert bin labels back to radians for plotting\n",
    "bin_labels_radians = np.deg2rad(bin_labels)\n",
    "\n",
    "# Create a polar plot\n",
    "plt.figure(figsize=(10, 10))\n",
    "ax = plt.subplot(111, projection='polar')\n",
    "\n",
    "# Get colormap\n",
    "colors = cm.viridis(bin_counts / bin_counts.max())\n",
    "\n",
    "# Plot data as bars\n",
    "bars = ax.bar(bin_labels_radians, bin_counts, width=np.deg2rad(360/n_bins_scott), edgecolor='white', color=colors, alpha=0.7)\n",
    "\n",
    "# Set the direction of azimuthal labels\n",
    "ax.set_theta_zero_location(\"N\")  # This sets 0 degrees to the top of the plot\n",
    "ax.set_theta_direction(1)  # Clockwise\n",
    "\n",
    "# Set grid and title\n",
    "ax.set_title(\"Distribution of Angular Errors\", va='bottom')\n",
    "plt.show()\n"
   ]
  },
  {
   "cell_type": "code",
   "execution_count": null,
   "id": "756ac264-4fa7-4554-bace-ef30f180e23c",
   "metadata": {},
   "outputs": [],
   "source": [
    "# Assuming you have 'AbsolutError' column in your DataFrame\n",
    "# ConcatSecondExperiment['AbsolutError'] = ...\n",
    "\n",
    "def scotts_rule(data):\n",
    "    std_dev = np.std(data)\n",
    "    n = len(data)\n",
    "    bin_width = 3.5 * std_dev * (n ** (-1/3))\n",
    "    n_bins = int(np.ptp(data) / bin_width)\n",
    "    return n_bins\n",
    "\n",
    "# Get the number of bins based on Scott's rule\n",
    "n_bins_scott = scotts_rule(ConcatSecondExperiment['AbsolutError'])\n",
    "\n",
    "# Create bins based on the number of bins determined by the rule\n",
    "bin_edges = np.linspace(0, 180, n_bins_scott+1)\n",
    "\n",
    "# Categorize the data into these bins\n",
    "ConcatSecondExperiment['bins'] = pd.cut(ConcatSecondExperiment['AbsolutError'], bins=bin_edges)\n",
    "\n",
    "# Calculate bin counts and normalize\n",
    "bin_counts = ConcatSecondExperiment['bins'].value_counts()\n",
    "normalized_bin_counts = (bin_counts / len(ConcatSecondExperiment)) * 100\n",
    "\n",
    "# Convert bin labels back to radians for plotting\n",
    "bin_centers = 0.5 * (bin_edges[1:] + bin_edges[:-1])\n",
    "bin_centers_radians = np.deg2rad(bin_centers)\n",
    "\n",
    "# Create a half polar plot\n",
    "plt.figure(figsize=(10, 5))\n",
    "ax = plt.subplot(111, projection='polar')\n",
    "\n",
    "# Limit the display to half a circle\n",
    "ax.set_thetamin(0)\n",
    "ax.set_thetamax(180)\n",
    "\n",
    "# Get colormap\n",
    "colors = cm.viridis(normalized_bin_counts / normalized_bin_counts.max())\n",
    "\n",
    "# Plot data as bars\n",
    "bars = ax.bar(bin_centers_radians, normalized_bin_counts, width=np.deg2rad(180/n_bins_scott), edgecolor='white', color=colors, alpha=0.7)\n",
    "\n",
    "# Set the direction of azimuthal labels\n",
    "ax.set_theta_zero_location(\"W\")\n",
    "ax.set_theta_direction(-1)\n",
    "\n",
    "# Set grid and title\n",
    "ax.set_title(\"Distribution of Absolute Angular Errors\", va='bottom')\n",
    "plt.show()\n",
    "\n",
    "# Print out the percentage of data points in each bin for verification\n",
    "print(normalized_bin_counts.sort_index())\n"
   ]
  },
  {
   "cell_type": "code",
   "execution_count": null,
   "id": "6159be30-26f3-43da-bf4f-6d27d9dca9dc",
   "metadata": {},
   "outputs": [],
   "source": [
    "ConcatSecondExperiment['SignedAngle-+180'].describe()"
   ]
  },
  {
   "cell_type": "code",
   "execution_count": null,
   "id": "348818d4-c703-47e4-905c-2a8763d67819",
   "metadata": {},
   "outputs": [],
   "source": [
    "SecondExp.iloc[0][5]"
   ]
  },
  {
   "cell_type": "code",
   "execution_count": null,
   "id": "4cde92de-dd4b-4243-9421-08b2cfd38440",
   "metadata": {},
   "outputs": [],
   "source": [
    "Performance_Building.iloc[1][4]"
   ]
  },
  {
   "cell_type": "code",
   "execution_count": null,
   "id": "66838b15-f7e9-4130-af4c-e91ed28b478f",
   "metadata": {},
   "outputs": [],
   "source": [
    "Performance_Building.iloc[1][0]"
   ]
  },
  {
   "cell_type": "code",
   "execution_count": null,
   "id": "c380ee2f-2ea2-4069-ad50-ba9e320f9084",
   "metadata": {},
   "outputs": [],
   "source": [
    "Complete_Experiments.columns"
   ]
  },
  {
   "cell_type": "code",
   "execution_count": null,
   "id": "5ee4f1c1-ac35-4107-9a89-17cef2fe15f4",
   "metadata": {},
   "outputs": [],
   "source": [
    "import matplotlib.gridspec as gridspec\n",
    "# Create 2x2 sub plots\n",
    "gs = gridspec.GridSpec(2, 2)\n",
    "plt.figure()\n",
    "\n",
    "ax = plt.subplot(gs[0, 0]) # row 0, col 0\n",
    "plt.errorbar( x=Active1p[\"Building_Category\"],y=Active1p[\"AbsolutError_mean\"].values,\n",
    "             yerr=Active1p.Standard_error_performance, fmt='o',  color='#9b2226', label= \"Active agent\")\n",
    "plt.errorbar( x=Passive1p[\"Building_Category\"],y=Passive1p[\"AbsolutError_mean\"].values,\n",
    "             yerr=(Passive1p.Standard_error_performance), fmt='o--',  color='#006ba6', label= \"Passive agent\")\n",
    "plt.legend(loc='best')\n",
    "plt.title('Disaggregated group')\n",
    "plt.xlim((-0.5, 1.5))\n",
    "plt.grid(True, color = \"grey\", linewidth = \"0.3\", linestyle = \"-.\")\n",
    "plt.ylabel(\"Average absolute angular error\")\n",
    "\n",
    "\n",
    "ax = plt.subplot(gs[0, 1],  sharey=ax) # row 0, col 1\n",
    "plt.errorbar(x=Active2p[\"Building_Category\"],y=Active2p[\"AbsolutError_mean\"].values, \n",
    "             yerr=Active2p.Standard_error_performance, fmt='o', color= '#9b2226', label= \"Active agent\")\n",
    "plt.errorbar(x=Passive2p[\"Building_Category\"],y=Passive2p[\"AbsolutError_mean\"].values, \n",
    "             yerr=Passive2p.Standard_error_performance, fmt='o', color= '#006ba6',  label= \"Passive agent\")\n",
    "#plt.legend(loc='best')\n",
    "plt.title('Congruent group')\n",
    "plt.xlim((-0.5, 1.5))\n",
    "plt.grid(True, color = \"grey\", linewidth = \"0.3\", linestyle = \"-.\")\n",
    "\n",
    "\n",
    "ax = plt.subplot(gs[1, 1], sharey=ax) # row 1, span all columns\n",
    "plt.tight_layout()\n",
    "plt.errorbar(x=Active2a[\"Building_Category\"],y=Active2a[\"AbsolutError_mean\"].values, \n",
    "             yerr=Active2a.Standard_error_performance, fmt='o', color= '#9b2226', label= \"Active agent\")\n",
    "plt.errorbar(x=Passive2a[\"Building_Category\"],y=Passive2a[\"AbsolutError_mean\"].values, \n",
    "             yerr=Passive2a.Standard_error_performance, fmt='o', color= '#006ba6',  label= \"Passive agent\")\n",
    "plt.tight_layout()\n",
    "plt.title('Pointing to agent')\n",
    "plt.xlim((-0.5, 1.5))\n",
    "plt.grid(True, color = \"grey\", linewidth = \"0.3\", linestyle = \"-.\")"
   ]
  },
  {
   "cell_type": "code",
   "execution_count": null,
   "id": "96c769d9-ec2e-492c-ae49-31bb48ed3e37",
   "metadata": {},
   "outputs": [],
   "source": [
    "import matplotlib.pyplot as plt\n",
    "import numpy as np\n",
    "\n",
    "# Sample data\n",
    "x_labels = ['A', 'B', 'C', 'D', 'E']\n",
    "y1 = np.array([1, 2, 3, 4, 5])\n",
    "y2 = np.array([5, 4, 3, 2, 1])\n",
    "error1 = np.array([0.1, 0.2, 0.1, 0.3, 0.15])\n",
    "error2 = np.array([0.2, 0.15, 0.2, 0.1, 0.25])\n",
    "\n",
    "# Create a numerical representation of x labels\n",
    "x = np.arange(len(x_labels))\n",
    "\n",
    "# Define a small horizontal offset\n",
    "offset = 0.1\n",
    "\n",
    "# Create a subplot\n",
    "plt.figure(figsize=(8, 6))\n",
    "plt.subplot(1, 1, 1)  # 1 row, 1 column, first subplot\n",
    "\n",
    "# Plot the first errorbar plot\n",
    "plt.errorbar(x - offset, y1, yerr=error1, fmt='o-', label='Dataset 1', capsize=5)\n",
    "\n",
    "# Plot the second errorbar plot with a horizontal offset\n",
    "plt.errorbar(x + offset, y2, yerr=error2, fmt='x-', label='Dataset 2', capsize=5)\n",
    "\n",
    "# Customize the x-axis labels\n",
    "plt.xticks(x, x_labels)\n",
    "\n",
    "# Customize the plot\n",
    "plt.xlabel('X-axis (Categories)')\n",
    "plt.ylabel('Y-axis')\n",
    "plt.title('Two Errorbar Plots with Offset for Coinciding Points')\n",
    "plt.legend()\n",
    "\n",
    "# Show the plot\n",
    "plt.grid(True)\n",
    "plt.show()\n"
   ]
  },
  {
   "cell_type": "code",
   "execution_count": null,
   "id": "71e98d26-13aa-4207-8d0b-d30f25524a09",
   "metadata": {},
   "outputs": [],
   "source": [
    "sns.displot(data=BehavioralData_Fixations_Wide_Exp1, x=\"Dwelling_Time_Agent_Gaze\", hue=\"Building_Category\")"
   ]
  },
  {
   "cell_type": "code",
   "execution_count": null,
   "id": "d09596d3-b774-4515-be98-c691c92acc51",
   "metadata": {},
   "outputs": [],
   "source": [
    "sns.boxplot(data=BehavioralData_Fixations_Wide_Exp1, x=\"AbsolutError\", y=\"Building_Category\")\n",
    "sns.stripplot(data=BehavioralData_Fixations_Wide_Exp1, x=\"AbsolutError\", y=\"Building_Category\", alpha=0.4)"
   ]
  },
  {
   "cell_type": "code",
   "execution_count": null,
   "id": "354d0a71-2116-46b9-9de3-f92ac13d989f",
   "metadata": {},
   "outputs": [],
   "source": [
    "import matplotlib.pyplot as plt\n",
    "import numpy as np\n",
    "\n",
    "\n",
    "x = np.linspace(-np.pi/2, np.pi/2, 31)\n",
    "y = np.cos(x)**3\n",
    "\n",
    "# 1) remove points where y > 0.7\n",
    "x2 = x[y <= 0.7]\n",
    "y2 = y[y <= 0.7]\n",
    "\n",
    "# 2) mask points where y > 0.7\n",
    "y3 = np.ma.masked_where(y > 0.7, y)\n",
    "\n",
    "# 3) set to NaN where y > 0.7\n",
    "y4 = y.copy()\n",
    "y4[y3 > 0.7] = np.nan\n",
    "\n",
    "plt.plot(x*0.1, y, 'o-', color='lightgrey', label='No mask')\n",
    "plt.plot(x2*0.4, y2, 'o-', label='Points removed')\n",
    "plt.plot(x*0.7, y3, 'o-', label='Masked values')\n",
    "plt.plot(x*1.0, y4, 'o-', label='NaN values')\n",
    "plt.legend()\n",
    "plt.title('Masked and NaN data')\n",
    "plt.show()\n"
   ]
  },
  {
   "cell_type": "code",
   "execution_count": null,
   "id": "3f95e043-7bf3-421c-9ca7-bd4a85c8399d",
   "metadata": {},
   "outputs": [],
   "source": [
    "\n",
    "df = pd.DataFrame(data)\n",
    "grouped = BehavioralData_Fixations_Wide_Exp2.groupby([\"Agent_Category\", \"Building_Category\"]).mean().reset_index()\n",
    "grouped[\"Building_Agent\"] = grouped[\"Building_Category\"] + \" location \\n\" + grouped[\"Agent_Category\" ] + \" Agent\"  \n",
    "plt.tight_layout()\n",
    "# Define the position for the bars\n",
    "bar_positions = range(len(grouped))\n",
    "\n",
    "# Create a new figure\n",
    "fig = plt.figure(figsize=(12, 6))\n",
    "# Define the grid structure. 2 rows by 2 columns. \n",
    "# The second column (the one on the right) will span 2 rows.\n",
    "gs = gridspec.GridSpec(1, 2)\n",
    "\n",
    "# Add the first plot to the top-left\n",
    "ax0 = fig.add_subplot(gs[0,0])\n",
    "\n",
    "# Plot the data\n",
    "ax0.bar(bar_positions, grouped['Dwelling_Time_Building_Gaze'], label='Dwelling Time on Building', color= '#006ba6')\n",
    "ax0.bar(bar_positions, grouped['Dwelling_Time_Agent_Gaze'], bottom=grouped['Dwelling_Time_Building_Gaze'], label='Dwelling Time on Agent',  color= '#9b2226')\n",
    "\n",
    "# Set the x-ticks and their labels\n",
    "ax0.set_xticks(bar_positions, grouped['Building_Agent'], rotation=0)\n",
    "\n",
    "# Add labels, legend and title\n",
    "ax0.set_xlabel('Experimental buildings')\n",
    "ax0.set_ylabel('Average Dwelling Time')\n",
    "ax0.set_title('Stacked Histogram of Dwelling Times')\n",
    "ax0.legend()\n",
    "\n",
    "# Display the plot\n",
    "\n",
    "plt.show()\n"
   ]
  },
  {
   "cell_type": "code",
   "execution_count": null,
   "id": "27f05ffc-0bcd-4b69-952c-ec679e8d4fea",
   "metadata": {},
   "outputs": [],
   "source": [
    "grouped.head()"
   ]
  },
  {
   "cell_type": "code",
   "execution_count": null,
   "id": "de861bf9-890c-4dea-8529-1ba7c915d643",
   "metadata": {},
   "outputs": [],
   "source": [
    "BehavioralData_Fixations_Wide_Exp2.co"
   ]
  },
  {
   "cell_type": "code",
   "execution_count": null,
   "id": "c948e4e5-fa19-4c2b-8029-afca2714a8a6",
   "metadata": {},
   "outputs": [],
   "source": []
  }
 ],
 "metadata": {
  "kernelspec": {
   "display_name": "Python 3",
   "language": "python",
   "name": "python3"
  },
  "language_info": {
   "codemirror_mode": {
    "name": "ipython",
    "version": 3
   },
   "file_extension": ".py",
   "mimetype": "text/x-python",
   "name": "python",
   "nbconvert_exporter": "python",
   "pygments_lexer": "ipython3",
   "version": "3.8.8"
  }
 },
 "nbformat": 4,
 "nbformat_minor": 5
}
