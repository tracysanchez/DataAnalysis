{
 "cells": [
  {
   "cell_type": "code",
   "execution_count": 62,
   "id": "2e4926c6-7f2d-4bad-b8ae-8b0f9731344f",
   "metadata": {},
   "outputs": [],
   "source": [
    "import pandas as pd\n",
    "import numpy as np\n",
    "from statsmodels.formula.api import ols, glm\n",
    "import statsmodels.formula.api as smf\n",
    "import statsmodels.api as sm\n",
    "import scipy.stats as stats\n",
    "import seaborn as sns\n",
    "import matplotlib.pyplot as plt"
   ]
  },
  {
   "cell_type": "code",
   "execution_count": 63,
   "outputs": [],
   "source": [
    "#import the merged data set\n",
    "HumanA= pd.read_csv('/Users/tracysanchezpacheco/Documents/Resources/humanA_Behavioural.csv')\n",
    "HumanA.dropna(axis=0, inplace=True)\n",
    "HumanAf = HumanA[HumanA['ID'] != 4623]"
   ],
   "metadata": {
    "collapsed": false,
    "pycharm": {
     "name": "#%%\n"
    }
   }
  },
  {
   "cell_type": "code",
   "execution_count": 64,
   "outputs": [],
   "source": [
    "# Define probability distribution for the response variable for the linear (LM) and logistic (GLM) model\n",
    "family_LM = sm.families.Gaussian()\n",
    "family_GLM = sm.families.Binomial()"
   ],
   "metadata": {
    "collapsed": false,
    "pycharm": {
     "name": "#%%\n"
    }
   }
  },
  {
   "cell_type": "markdown",
   "source": [
    "## Order effects"
   ],
   "metadata": {
    "collapsed": false,
    "pycharm": {
     "name": "#%% md\n"
    }
   }
  },
  {
   "cell_type": "code",
   "execution_count": 65,
   "outputs": [
    {
     "data": {
      "text/plain": "Text(0.5, 0, 'Residuals')"
     },
     "execution_count": 65,
     "metadata": {},
     "output_type": "execute_result"
    },
    {
     "data": {
      "text/plain": "<Figure size 432x288 with 1 Axes>",
      "image/png": "[encoded data removed]"
     },
     "metadata": {
      "needs_background": "light"
     },
     "output_type": "display_data"
    }
   ],
   "source": [
    "#Plotting KDE for first independent variable\n",
    "ax = sns.kdeplot(x='AbsolutError', data= HumanAf, shade='fill', palette='Crest', alpha=.5, linewidth=0,)\n",
    "ax.set_title(\"Absolut Errror distribution\")\n",
    "ax.set_xlabel(\"Residuals\")"
   ],
   "metadata": {
    "collapsed": false,
    "pycharm": {
     "name": "#%%\n"
    }
   }
  },
  {
   "cell_type": "code",
   "execution_count": 66,
   "outputs": [
    {
     "data": {
      "text/plain": "Text(0.5, 0, 'Residuals')"
     },
     "execution_count": 66,
     "metadata": {},
     "output_type": "execute_result"
    },
    {
     "data": {
      "text/plain": "<Figure size 432x288 with 1 Axes>",
      "image/png": "[encoded data removed]"
     },
     "metadata": {
      "needs_background": "light"
     },
     "output_type": "display_data"
    }
   ],
   "source": [
    "#Plotting KDE for second independent variable\n",
    "ax = sns.kdeplot(x='RT', data= HumanAf, shade='fill', palette='Crest', alpha=.5, linewidth=0,)\n",
    "ax.set_title(\"Response time distribution\")\n",
    "ax.set_xlabel(\"Residuals\")"
   ],
   "metadata": {
    "collapsed": false,
    "pycharm": {
     "name": "#%%\n"
    }
   }
  },
  {
   "cell_type": "code",
   "execution_count": 67,
   "outputs": [
    {
     "name": "stdout",
     "output_type": "stream",
     "text": [
      "                                Mixed Linear Model Regression Results\n",
      "=====================================================================================================\n",
      "Model:                           MixedLM                Dependent Variable:                np.log(RT)\n",
      "No. Observations:                8713                   Method:                            REML      \n",
      "No. Groups:                      26                     Scale:                             0.3320    \n",
      "Min. group size:                 329                    Log-Likelihood:                    -7643.6524\n",
      "Max. group size:                 336                    Converged:                         Yes       \n",
      "Mean group size:                 335.1                                                               \n",
      "-----------------------------------------------------------------------------------------------------\n",
      "                                                            Coef. Std.Err.   z    P>|z| [0.025 0.975]\n",
      "-----------------------------------------------------------------------------------------------------\n",
      "Intercept                                                   1.713    0.058 29.535 0.000  1.599  1.827\n",
      "C(ID_for_StartingPosition, Treatment(reference=12))[T.1.0]  1.024    0.030 33.775 0.000  0.965  1.083\n",
      "C(ID_for_StartingPosition, Treatment(reference=12))[T.2.0]  0.192    0.030  6.342 0.000  0.133  0.251\n",
      "C(ID_for_StartingPosition, Treatment(reference=12))[T.3.0]  0.111    0.030  3.666 0.000  0.052  0.170\n",
      "C(ID_for_StartingPosition, Treatment(reference=12))[T.4.0]  0.066    0.030  2.171 0.030  0.006  0.125\n",
      "C(ID_for_StartingPosition, Treatment(reference=12))[T.5.0]  0.092    0.030  3.059 0.002  0.033  0.152\n",
      "C(ID_for_StartingPosition, Treatment(reference=12))[T.6.0]  0.057    0.030  1.882 0.060 -0.002  0.116\n",
      "C(ID_for_StartingPosition, Treatment(reference=12))[T.7.0]  0.022    0.030  0.731 0.465 -0.037  0.081\n",
      "C(ID_for_StartingPosition, Treatment(reference=12))[T.8.0]  0.006    0.030  0.199 0.842 -0.053  0.065\n",
      "C(ID_for_StartingPosition, Treatment(reference=12))[T.9.0]  0.049    0.030  1.606 0.108 -0.011  0.108\n",
      "C(ID_for_StartingPosition, Treatment(reference=12))[T.10.0] 0.004    0.030  0.140 0.889 -0.055  0.063\n",
      "C(ID_for_StartingPosition, Treatment(reference=12))[T.11.0] 0.002    0.030  0.073 0.942 -0.057  0.061\n",
      "Group Var                                                   0.076    0.038                           \n",
      "=====================================================================================================\n",
      "\n"
     ]
    }
   ],
   "source": [
    "# Response time predicted by trial order in each starting location\n",
    "formula = 'np.log(RT) ~ C(ID_for_StartingPosition, Treatment(reference=12))'\n",
    "\n",
    "# Define and fit a linear regression model\n",
    "model_LM = smf.mixedlm(formula = formula, data = HumanAf, groups=HumanAf['ID']).fit()\n",
    "print(model_LM.summary())"
   ],
   "metadata": {
    "collapsed": false,
    "pycharm": {
     "name": "#%%\n"
    }
   }
  },
  {
   "cell_type": "code",
   "execution_count": 68,
   "outputs": [
    {
     "data": {
      "text/plain": "Text(0.5, 17.200000000000003, 'Residuals')"
     },
     "execution_count": 68,
     "metadata": {},
     "output_type": "execute_result"
    },
    {
     "data": {
      "text/plain": "<Figure size 432x288 with 1 Axes>",
      "image/png": "[encoded data removed]"
     },
     "metadata": {
      "needs_background": "light"
     },
     "output_type": "display_data"
    }
   ],
   "source": [
    "#Plotting residual to check for a normal distribution\n",
    "sns.kdeplot(model_LM.resid, shade='fill', palette='Crest', alpha=.5, linewidth=0)\n",
    "ax.set_title(\"KDE Plot of Model Residuals (Blue) and Normal Distribution (Black)\")\n",
    "ax.set_xlabel(\"Residuals\")"
   ],
   "metadata": {
    "collapsed": false,
    "pycharm": {
     "name": "#%%\n"
    }
   }
  },
  {
   "cell_type": "markdown",
   "source": [
    "### CONCLUSION\n",
    "__________________\n",
    "Subjects are **significantly** slower on the first three trials in each pointing position."
   ],
   "metadata": {
    "collapsed": false,
    "pycharm": {
     "name": "#%% md\n"
    }
   }
  },
  {
   "cell_type": "code",
   "execution_count": null,
   "outputs": [],
   "source": [
    "# Response time predicted by trial order in each starting location\n",
    "formula = 'np.log(AbsolutError) ~ C(ID_for_StartingPosition, Treatment(reference=12))'\n",
    "\n",
    "# Define and fit a linear regression model\n",
    "model_LM = smf.mixedlm(formula = formula, data = HumanAf, groups=HumanAf['ID']).fit()\n",
    "print(model_LM.summary())"
   ],
   "metadata": {
    "collapsed": false,
    "pycharm": {
     "name": "#%%\n",
     "is_executing": true
    }
   }
  },
  {
   "cell_type": "markdown",
   "source": [
    "### Result\n",
    "__________________\n",
    "Subjects do not significantly differ in their precision across time spent at pointing position.\n"
   ],
   "metadata": {
    "collapsed": false,
    "pycharm": {
     "name": "#%% md\n"
    }
   }
  },
  {
   "cell_type": "code",
   "execution_count": null,
   "outputs": [],
   "source": [
    "#Plotting residual to check for a normal distribution\n",
    "sns.kdeplot(model_LM.resid, shade='fill', palette='Crest', alpha=.5, linewidth=0)\n",
    "ax.set_title(\"KDE Plot of Model Residuals (Blue) and Normal Distribution (Black)\")\n",
    "ax.set_xlabel(\"Residuals\")"
   ],
   "metadata": {
    "collapsed": false,
    "pycharm": {
     "name": "#%%\n",
     "is_executing": true
    }
   }
  },
  {
   "cell_type": "code",
   "execution_count": null,
   "outputs": [],
   "source": [
    "# Response time predicted by trial order at the overall test\n",
    "formula = 'np.log(AbsolutError) ~ C(StartPointID, Treatment(reference=14))'\n",
    "\n",
    "# Define and fit a linear regression model\n",
    "model_LM = smf.mixedlm(formula = formula, data = HumanAf, groups=HumanAf['ID']).fit()\n",
    "print(model_LM.summary())"
   ],
   "metadata": {
    "collapsed": false,
    "pycharm": {
     "name": "#%%\n",
     "is_executing": true
    }
   }
  },
  {
   "cell_type": "markdown",
   "source": [
    "### Result\n",
    "__________________\n",
    "Subjects are in average 1.5 seconds slower during  the first 10 trials\n"
   ],
   "metadata": {
    "collapsed": false,
    "pycharm": {
     "name": "#%% md\n"
    }
   }
  },
  {
   "cell_type": "code",
   "execution_count": null,
   "outputs": [],
   "source": [
    "# Response time predicted by trial order for the overall test\n",
    "formula = 'RT ~ C(StartPointID, Treatment(reference=27))'\n",
    "\n",
    "# Define and fit a linear regression model\n",
    "model_LM = smf.mixedlm(formula = formula, data = HumanAf, groups=HumanAf['ID']).fit()\n",
    "print(model_LM.summary())"
   ],
   "metadata": {
    "collapsed": false,
    "pycharm": {
     "name": "#%%\n",
     "is_executing": true
    }
   }
  },
  {
   "cell_type": "markdown",
   "source": [
    "### Result\n",
    "__________________\n",
    "Subjects accuracy does not increase throughout the task\n"
   ],
   "metadata": {
    "collapsed": false,
    "pycharm": {
     "name": "#%% md\n"
    }
   }
  },
  {
   "cell_type": "markdown",
   "source": [
    "### CONCLUSION\n",
    "__________________\n",
    "Subjects accuracy does not improve through the task, but their responsable does. This could be evidence of a learning effect of the testing format that does not enhance their performance. Their knwoledge is stable throughout."
   ],
   "metadata": {
    "collapsed": false,
    "pycharm": {
     "name": "#%% md\n"
    }
   }
  },
  {
   "cell_type": "markdown",
   "source": [
    "## The two factor interaction: Meaningfulness*Presence"
   ],
   "metadata": {
    "collapsed": false,
    "pycharm": {
     "name": "#%% md\n"
    }
   }
  },
  {
   "cell_type": "code",
   "execution_count": null,
   "outputs": [],
   "source": [
    "# Absolute predicted by Avatar Presence + Avatar Category\n",
    "formula = \"np.log(AbsolutError) ~ C(Context, Treatment(reference=False)) + C(AvatarPresenceCategory, Treatment(reference='NoAvatar')) + C(Context, Treatment(reference=False))*C(AvatarPresenceCategory, Treatment(reference='NoAvatar'))\"\n",
    "\n",
    "# Define and fit a linear regression model\n",
    "model_LM = smf.mixedlm(formula = formula, data = HumanAf, groups=HumanAf['ID']).fit()\n",
    "print(model_LM.summary())"
   ],
   "metadata": {
    "collapsed": false,
    "pycharm": {
     "name": "#%%\n",
     "is_executing": true
    }
   }
  },
  {
   "cell_type": "code",
   "execution_count": null,
   "outputs": [],
   "source": [
    "HumanAf[[\"ID\", \"avatarID\", \"PointingTaskStartingLocations\", \"StartPointID\"]] = HumanAf[[\"ID\", \"avatarID\", \"PointingTaskStartingLocations\", \"StartPointID\"]].astype(int)\n",
    "HumanAf[[\"ID\", \"avatarID\", \"PointingTaskStartingLocations\", \"StartPointID\"]] = HumanAf[[\"ID\", \"avatarID\", \"PointingTaskStartingLocations\", \"StartPointID\"]].values.astype(str)"
   ],
   "metadata": {
    "collapsed": false,
    "pycharm": {
     "name": "#%%\n",
     "is_executing": true
    }
   }
  },
  {
   "cell_type": "code",
   "execution_count": null,
   "outputs": [],
   "source": [
    "HumanAf[\"ID_StartPointID\"] =str(HumanAf['ID']) + \"_\" + str(HumanAf['StartPointID'])\n"
   ],
   "metadata": {
    "collapsed": false,
    "pycharm": {
     "name": "#%%\n",
     "is_executing": true
    }
   }
  },
  {
   "cell_type": "code",
   "execution_count": null,
   "outputs": [],
   "source": [
    "# Absolute predicted by Avatar Presence + Avatar Category\n",
    "formula = \"np.log(AbsolutError) ~  C(Context, Treatment(reference=False)) + C(AvatarPresenceCategory, Treatment(reference='NoAvatar'))  + C(AvatarPresenceCategory, Treatment(reference='NoAvatar'))*C(Context, Treatment(reference=False))\"\n",
    "\n",
    "# Define and fit a linear regression model\n",
    "model_LM = smf.mixedlm(formula = formula, data = HumanAf, groups=HumanAf['ID_StartPointID']).fit()\n",
    "print(model_LM.summary())"
   ],
   "metadata": {
    "collapsed": false,
    "pycharm": {
     "name": "#%%\n",
     "is_executing": true
    }
   }
  },
  {
   "cell_type": "code",
   "execution_count": null,
   "outputs": [],
   "source": [
    "HumanAf[\"ID_PointingTaskStartingLocations\"] = HumanAf.loc[:,\"ID\"] + \"_\" + HumanAf.loc[:,\"PointingTaskStartingLocations\"]"
   ],
   "metadata": {
    "collapsed": false,
    "pycharm": {
     "name": "#%%\n",
     "is_executing": true
    }
   }
  },
  {
   "cell_type": "code",
   "execution_count": null,
   "outputs": [],
   "source": [
    "HumanAf[\"ID_PointingTaskStartingLocations\"].head()"
   ],
   "metadata": {
    "collapsed": false,
    "pycharm": {
     "name": "#%%\n",
     "is_executing": true
    }
   }
  },
  {
   "cell_type": "code",
   "execution_count": null,
   "outputs": [],
   "source": [
    "# Whithout global landmarks\n",
    "HumanAfnoL = HumanAf[(HumanAf.avatarID != 27) | (HumanAf.avatarID != 28) | (HumanAf.avatarID != 55)| (HumanAf.avatarID != 56)]\n"
   ],
   "metadata": {
    "collapsed": false,
    "pycharm": {
     "name": "#%%\n",
     "is_executing": true
    }
   }
  },
  {
   "cell_type": "code",
   "execution_count": null,
   "outputs": [],
   "source": [
    "# Absolute predicted by Avatar Presence + Avatar Category\n",
    "formula = \"np.log(AbsolutError) ~ C(Context, Treatment(reference=False)) + C(AvatarPresenceCategory, Treatment(reference='NoAvatar')) + C(Context, Treatment(reference=False)):C(AvatarPresenceCategory, Treatment(reference='NoAvatar'))\"\n",
    "\n",
    "# Define and fit a linear regression model\n",
    "model_LM = smf.mixedlm(formula = formula, data = HumanAf, groups=HumanAf['ID_PointingTaskStartingLocations']).fit()\n",
    "print(model_LM.summary())"
   ],
   "metadata": {
    "collapsed": false,
    "pycharm": {
     "name": "#%%\n",
     "is_executing": true
    }
   }
  },
  {
   "cell_type": "code",
   "execution_count": null,
   "outputs": [],
   "source": [
    "from statsmodels.stats.anova import AnovaRM\n",
    "print(AnovaRM(data=HumanAfnoL, depvar='RT', subject='ID', within=['Context', 'AvatarPresenceCategory'], aggregate_func = 'mean').fit())"
   ],
   "metadata": {
    "collapsed": false,
    "pycharm": {
     "name": "#%%\n",
     "is_executing": true
    }
   }
  },
  {
   "cell_type": "code",
   "execution_count": null,
   "outputs": [],
   "source": [
    "#Plotting residual to check for a normal distribution\n",
    "sns.kdeplot(model_LM.resid, shade='fill', palette='Crest', alpha=.5, linewidth=0)\n",
    "ax.set_title(\"KDE Plot of Model Residuals (Blue) and Normal Distribution (Black)\")\n",
    "ax.set_xlabel(\"Residuals\")"
   ],
   "metadata": {
    "collapsed": false,
    "pycharm": {
     "name": "#%%\n",
     "is_executing": true
    }
   }
  },
  {
   "cell_type": "code",
   "execution_count": null,
   "outputs": [],
   "source": [
    "# Response time predicted by Avatar Presence\n",
    "formula = \"np.log(RT) ~ C(Context, Treatment(reference=False)) + C(AvatarPresenceCategory, Treatment(reference='NoAvatar')) + C(Context, Treatment(reference=False))*C(AvatarPresenceCategory, Treatment(reference='NoAvatar'))\"\n",
    "\n",
    "# Define and fit a linear regression model\n",
    "model_LM = smf.mixedlm(formula = formula, data = HumanAf, groups=HumanAf['ID']).fit()\n",
    "print(model_LM.summary())"
   ],
   "metadata": {
    "collapsed": false,
    "pycharm": {
     "name": "#%%\n",
     "is_executing": true
    }
   }
  },
  {
   "cell_type": "code",
   "execution_count": null,
   "outputs": [],
   "source": [
    "# Response time predicted Avatar Category + Location\n",
    "formula = \"AbsolutError ~ avatarID + C(Context, Treatment(reference=False)) + avatarID:C(Context, Treatment(reference=False))\"\n",
    "\n",
    "# Define and fit a linear regression model\n",
    "model_LM = smf.mixedlm(formula = formula, data = HumanAf, groups=HumanAf['ID']).fit()\n",
    "print(model_LM.summary())"
   ],
   "metadata": {
    "collapsed": false,
    "pycharm": {
     "name": "#%%\n",
     "is_executing": true
    }
   }
  },
  {
   "cell_type": "code",
   "execution_count": null,
   "outputs": [],
   "source": [
    "HumanAf.groupby('Context')['AbsolutError'].median()"
   ],
   "metadata": {
    "collapsed": false,
    "pycharm": {
     "name": "#%%\n",
     "is_executing": true
    }
   }
  },
  {
   "cell_type": "code",
   "execution_count": null,
   "outputs": [],
   "source": [
    "HumanAf.groupby(['Context'])['RT'].std()"
   ],
   "metadata": {
    "collapsed": false,
    "pycharm": {
     "name": "#%%\n",
     "is_executing": true
    }
   }
  },
  {
   "cell_type": "code",
   "execution_count": null,
   "outputs": [],
   "source": [
    "# Absolut error predicted by location\n",
    "formula = \"np.log(AbsolutError) ~ C(avatarID)\"\n",
    "\n",
    "# Define and fit a linear regression model\n",
    "model_LM = smf.mixedlm(formula = formula, data = HumanAf, groups=HumanAf['ID']).fit()\n",
    "print(model_LM.summary())"
   ],
   "metadata": {
    "collapsed": false,
    "pycharm": {
     "name": "#%%\n",
     "is_executing": true
    }
   }
  },
  {
   "cell_type": "markdown",
   "source": [
    "## FRS questionnaire analysis"
   ],
   "metadata": {
    "collapsed": false,
    "pycharm": {
     "name": "#%% md\n"
    }
   }
  },
  {
   "cell_type": "code",
   "execution_count": null,
   "outputs": [],
   "source": [
    "# Absolut error predicted by FRS\n",
    "formula = \"np.log(RT) ~ Global + Overview + Cardinal\"\n",
    "\n",
    "# Define and fit a linear regression model\n",
    "model_LM = smf.mixedlm(formula = formula, data = HumanAf, groups=HumanAf['ID']).fit()\n",
    "print(model_LM.summary())"
   ],
   "metadata": {
    "collapsed": false,
    "pycharm": {
     "name": "#%%\n",
     "is_executing": true
    }
   }
  },
  {
   "cell_type": "code",
   "execution_count": null,
   "outputs": [],
   "source": [
    "X = HumanAf[['Context', 'AvatarPresenceCategory']]\n",
    "\n",
    "y = HumanAf['AbsolutError']\n",
    "\n",
    "## fit a OLS model with intercept on FRS subscales\n",
    "X = sm.add_constant(X)\n",
    "est = sm.OLS(y, X).fit()\n",
    "est.summary()"
   ],
   "metadata": {
    "collapsed": false,
    "pycharm": {
     "name": "#%%\n",
     "is_executing": true
    }
   }
  },
  {
   "cell_type": "code",
   "execution_count": null,
   "outputs": [],
   "source": [
    "#Plotting residual to check for a normal distribution\n",
    "ax = sns.kdeplot(est.resid, shade='fill', palette='Crest', alpha=.5, linewidth=0)\n",
    "ax.set_title(\"KDE Plot of Model Residuals for log response times\")\n",
    "ax.set_xlabel(\"Residuals\")"
   ],
   "metadata": {
    "collapsed": false,
    "pycharm": {
     "name": "#%%\n",
     "is_executing": true
    }
   }
  },
  {
   "cell_type": "code",
   "execution_count": null,
   "outputs": [],
   "source": [
    "# Absolut error predicted by FRS\n",
    "formula = \"AbsolutError ~ Global + Overview + Cardinal\"\n",
    "\n",
    "# Define and fit a linear regression model\n",
    "model_LM = smf.mixedlm(formula = formula, data = HumanAf, groups=HumanAf['ID']).fit()\n",
    "print(model_LM.summary())"
   ],
   "metadata": {
    "collapsed": false,
    "pycharm": {
     "name": "#%%\n",
     "is_executing": true
    }
   }
  },
  {
   "cell_type": "code",
   "execution_count": null,
   "outputs": [],
   "source": [
    "#Plotting residual to check for a normal distribution\n",
    "ax = sns.kdeplot(model_LM.resid, shade='fill', palette='Crest', alpha=.5, linewidth=0)\n",
    "ax.set_title(\"KDE Plot of Model Residuals for  log transform of absolut error\")\n",
    "ax.set_xlabel(\"Residuals\")"
   ],
   "metadata": {
    "collapsed": false,
    "pycharm": {
     "name": "#%%\n",
     "is_executing": true
    }
   }
  },
  {
   "cell_type": "code",
   "execution_count": null,
   "outputs": [],
   "source": [
    "# Response Time predicted by FRS\n",
    "formula = \"np.log(RT) ~ Global + Overview + Cardinal\"\n",
    "\n",
    "# Define and fit a linear regression model\n",
    "model_LM = smf.mixedlm(formula = formula, data = HumanAf, groups=HumanAf['ID']).fit()\n",
    "print(model_LM.summary())"
   ],
   "metadata": {
    "collapsed": false,
    "pycharm": {
     "name": "#%%\n",
     "is_executing": true
    }
   }
  },
  {
   "cell_type": "markdown",
   "source": [
    "## Avatar questionnaire analysis"
   ],
   "metadata": {
    "collapsed": false,
    "pycharm": {
     "name": "#%% md\n"
    }
   }
  },
  {
   "cell_type": "code",
   "execution_count": null,
   "outputs": [],
   "source": [
    "# Response time predicted by Avatar Presence\n",
    "\n"
   ],
   "metadata": {
    "collapsed": false,
    "pycharm": {
     "name": "#%%\n",
     "is_executing": true
    }
   }
  },
  {
   "cell_type": "code",
   "execution_count": null,
   "outputs": [],
   "source": [
    "# Isolating the avatar Quest variables for correlation\n",
    "HumanAavatarQ = HumanAf[['remember_action_likert', 'remember_standing_likert', 'attractive_action_likert', 'attractive_standing_likert', 'realistic_action_likert', 'realistic_standing_likert' ]]"
   ],
   "metadata": {
    "collapsed": false,
    "pycharm": {
     "name": "#%%\n",
     "is_executing": true
    }
   }
  },
  {
   "cell_type": "code",
   "execution_count": null,
   "outputs": [],
   "source": [
    "sns.set(rc={\"figure.figsize\":(18, 8)})\n",
    "sns.set(font_scale = 1.3)\n",
    "from matplotlib import cm\n",
    "initial_cmap = cm.get_cmap('YlGnBu')\n",
    "reversed_cmap=initial_cmap.reversed()\n",
    "\n",
    "fig, ax = plt.subplots(nrows=1,ncols=2)\n",
    "\n",
    "#Calculates pearsons r matrix\n",
    "corrMatrix = HumanAavatarQ.corr()\n",
    "#Creates a mask that eliminates the 1s\n",
    "mask = np.triu(np.ones_like(corrMatrix, dtype=bool))\n",
    "#Calculates spearmans s\n",
    "cor, pval = stats.spearmanr(corrMatrix.T)\n",
    "#Heatmap plotting\n",
    "sns.heatmap(cor, annot=True, cmap=\"YlGnBu\", mask=mask, ax=ax[0]).set(title=\"Spearman's rank correlation coefficients(ρ)\")\n",
    "sns.heatmap(pval, annot=True, cmap=reversed_cmap, mask=mask, ax=ax[1]).set(title=\"Probability values for Spearman's rank correlation\")\n",
    "#sns.heatmap(corrMatrix, annot=True, cmap=\"YlGnBu\", mask=mask,ax=[2])\n",
    "\n",
    "for ax in ax.ravel():\n",
    "    ax.set_xticklabels(['Remember Meaningful', 'Remember not meaningful', 'Attractive Meaningful', 'Attractive not meaningful', 'Realistic Meaningful', 'Realistic not meaningful'], rotation=80);\n",
    "    ax.set_yticklabels(['Remember Meaningful', 'Remember not meaningful', 'Attractive Meaningful', 'Attractive not meaningful', 'Realistic Meaningful', 'Realistic not meaningful'], rotation=360);\n",
    "plt.tight_layout()\n",
    "plt.show()"
   ],
   "metadata": {
    "collapsed": false,
    "pycharm": {
     "name": "#%%\n",
     "is_executing": true
    }
   }
  },
  {
   "cell_type": "code",
   "execution_count": null,
   "outputs": [],
   "source": [
    "stats.spearmanr(HumanAavatarQ.remember_standing_likert, HumanAavatarQ.remember_action_likert)\n"
   ],
   "metadata": {
    "collapsed": false,
    "pycharm": {
     "name": "#%%\n",
     "is_executing": true
    }
   }
  },
  {
   "cell_type": "code",
   "execution_count": null,
   "outputs": [],
   "source": [
    "HumanAavatarQ.head()"
   ],
   "metadata": {
    "collapsed": false,
    "pycharm": {
     "name": "#%%\n",
     "is_executing": true
    }
   }
  },
  {
   "cell_type": "markdown",
   "source": [
    "## Calculating a factorial analysis on the questionnaire"
   ],
   "metadata": {
    "collapsed": false,
    "pycharm": {
     "name": "#%% md\n"
    }
   }
  },
  {
   "cell_type": "code",
   "execution_count": null,
   "outputs": [],
   "source": [
    "AvatarQuest= pd.read_csv('/Users/tracysanchezpacheco/Documents/Resources/AvatarQuestcsv.csv')\n",
    "AvatarQuest.drop('Unnamed: 0', axis=1, inplace=True)\n",
    "AvatarQuest.head()"
   ],
   "metadata": {
    "collapsed": false,
    "pycharm": {
     "name": "#%%\n",
     "is_executing": true
    }
   }
  },
  {
   "cell_type": "code",
   "execution_count": null,
   "outputs": [],
   "source": [
    "b = list(range(1,57))\n",
    "Attractive= AvatarQuest.iloc[: , b].copy()\n",
    "Attractive.info()"
   ],
   "metadata": {
    "collapsed": false,
    "pycharm": {
     "name": "#%%\n",
     "is_executing": true
    }
   }
  },
  {
   "cell_type": "code",
   "execution_count": null,
   "outputs": [],
   "source": [
    "sns.set(rc={\"figure.figsize\":(36, 36)})\n",
    "sns.set(font_scale = 1.3)\n",
    "from matplotlib import cm\n",
    "initial_cmap = cm.get_cmap('YlGnBu')\n",
    "reversed_cmap=initial_cmap.reversed()\n",
    "\n",
    "fig, ax = plt.subplots(nrows=2,ncols=1)\n",
    "\n",
    "#Calculates pearsons r matrix\n",
    "corrMatrix = Attractive.corr()\n",
    "#Creates a mask that eliminates the 1s\n",
    "mask = np.triu(np.ones_like(corrMatrix, dtype=bool))\n",
    "#Calculates spearmans s\n",
    "cor, pval = stats.spearmanr(corrMatrix.T)\n",
    "#Heatmap plotting\n",
    "sns.heatmap(cor, annot=True, cmap=\"YlGnBu\", mask=mask, ax=ax[0]).set(title=\"Spearman's rank correlation coefficients(ρ)\")\n",
    "sns.heatmap(pval, annot=True, cmap=reversed_cmap, mask=mask, ax=ax[1]).set(title=\"Probability values for Spearman's rank correlation\")\n",
    "#sns.heatmap(corrMatrix, annot=True, cmap=\"YlGnBu\", mask=mask,ax=[2])\n",
    "plt.tight_layout()\n",
    "plt.show()"
   ],
   "metadata": {
    "collapsed": false,
    "pycharm": {
     "name": "#%%\n",
     "is_executing": true
    }
   }
  },
  {
   "cell_type": "code",
   "execution_count": null,
   "outputs": [],
   "source": [
    "corrMatrix.T"
   ],
   "metadata": {
    "collapsed": false,
    "pycharm": {
     "name": "#%%\n",
     "is_executing": true
    }
   }
  },
  {
   "cell_type": "code",
   "execution_count": null,
   "outputs": [],
   "source": [
    "from sklearn.datasets import load_iris\n",
    "from factor_analyzer import FactorAnalyzer\n",
    "from factor_analyzer.factor_analyzer import calculate_bartlett_sphericity\n",
    "from factor_analyzer.factor_analyzer import calculate_kmo\n",
    "\n",
    "#Droppin Nas\n",
    "HumanAavatarQ.dropna(inplace=True);\n",
    "\n",
    "#Adecuacy test\n",
    "\n",
    "#Barlets sphericity: A significative p value indicates the date is different from an identity matrix\n",
    "chi_square_value,p_value= calculate_bartlett_sphericity(HumanAavatarQ)\n",
    "print(chi_square_value,p_value)\n",
    "\n",
    "# Kaiser-Meyer-Olkin (KMO): Estimates the proportion of variance among all observed variables, less than 0.6 is inadequate\n",
    "kmo_all,kmo_model=calculate_kmo(HumanAavatarQ)\n",
    "print(kmo_model)\n",
    "#Create factor analysis object and perform analysis\n",
    "fa= FactorAnalyzer(rotation='varimax')\n",
    "fa.fit(HumanAavatarQ)\n",
    "\n",
    "loadings = fa.loadings_\n",
    "\n",
    "# Get the eigenvector\n",
    "ev, v = fa.get_eigenvalues()\n",
    "\n",
    "xvals = range(1, HumanAavatarQ.shape[1]+1)\n",
    "plt.scatter(xvals, ev)\n",
    "plt.plot(xvals, ev)\n",
    "plt.title('Scree Plot')\n",
    "plt.xlabel('Factor')\n",
    "plt.ylabel('Eigenvalue')\n",
    "plt.grid()\n",
    "plt.show()"
   ],
   "metadata": {
    "collapsed": false,
    "pycharm": {
     "name": "#%%\n",
     "is_executing": true
    }
   }
  },
  {
   "cell_type": "code",
   "execution_count": null,
   "outputs": [],
   "source": [
    "# Response time predicted by Avatar Presence\n",
    "formula = \"np.log(RT) ~ remember_action_likert + remember_standing_likert  + attractive_action_likert + attractive_standing_likert + realistic_action_likert + realistic_standing_likert\"\n",
    "\n",
    "# Define and fit a linear regression model\n",
    "model_LM = smf.mixedlm(formula = formula, data = HumanAf, groups=HumanAf['ID']).fit()\n",
    "print(model_LM.summary())"
   ],
   "metadata": {
    "collapsed": false,
    "pycharm": {
     "name": "#%%\n",
     "is_executing": true
    }
   }
  },
  {
   "cell_type": "code",
   "execution_count": null,
   "outputs": [],
   "source": [
    "import random\n",
    "number = random.randint(1000,9999)\n",
    "print(number)"
   ],
   "metadata": {
    "collapsed": false,
    "pycharm": {
     "name": "#%%\n",
     "is_executing": true
    }
   }
  },
  {
   "cell_type": "code",
   "execution_count": null,
   "outputs": [],
   "source": [
    "# Response time predicted by Avatar Presence\n",
    "formula = \"np.log(AbsolutError) ~ ContextQ_average \"\n",
    "\n",
    "# Define and fit a linear regression model\n",
    "model_LM = smf.mixedlm(formula = formula, data = HumanAf, groups=HumanAf['ID']).fit()\n",
    "print(model_LM.summary())"
   ],
   "metadata": {
    "collapsed": false,
    "pycharm": {
     "name": "#%%\n",
     "is_executing": true
    }
   }
  },
  {
   "cell_type": "code",
   "execution_count": null,
   "outputs": [],
   "source": [
    "# Response time predicted by Avatar Presence\n",
    "formula = \"remember_action_likert ~ AffiliativeQ_average \"\n",
    "\n",
    "# Define and fit a linear regression model\n",
    "model_LM = smf.mixedlm(formula = formula, data = HumanAf, groups=HumanAf['ID']).fit()\n",
    "print(model_LM.summary())"
   ],
   "metadata": {
    "collapsed": false,
    "pycharm": {
     "name": "#%%\n",
     "is_executing": true
    }
   }
  },
  {
   "cell_type": "code",
   "execution_count": null,
   "outputs": [],
   "source": [
    "HumanAaffili = HumanAf[['AffiliativeQ_average', 'remember_action_likert', 'remember_standing_likert', 'attractive_action_likert', 'attractive_standing_likert', 'realistic_action_likert', 'realistic_standing_likert','ContextQ_average' ]]\n",
    "corrMatrix = HumanAaffili.corr()\n",
    "\n",
    "fig, ax = plt.subplots(figsize=(8,6))\n",
    "mask = np.triu(np.ones_like(corrMatrix, dtype=bool))\n",
    "sns.heatmap(corrMatrix, annot=True, cmap=\"YlGnBu\", ax=ax, mask=mask)\n",
    "\n",
    "ax.set_xticklabels(['Affiliative Scale', 'Remember Meaningful', 'Remember not meaningful', 'Attractive Meaningful', 'Attractive not meaningful', 'Realistic Meaningful', 'Realistic not meaningful', 'ContextQ_average']);\n",
    "ax.set_yticklabels(['Affiliative Scale', 'Remember Meaningful', 'Remember not meaningful', 'Attractive Meaningful', 'Attractive not meaningful', 'Realistic Meaningful', 'Realistic not meaningful', 'ContextQ_average']);"
   ],
   "metadata": {
    "collapsed": false,
    "pycharm": {
     "name": "#%%\n",
     "is_executing": true
    }
   }
  },
  {
   "cell_type": "code",
   "execution_count": null,
   "outputs": [],
   "source": [
    "sns.regplot('remember_action_likert', 'AffiliativeQ_average', data= HumanAaffili )"
   ],
   "metadata": {
    "collapsed": false,
    "pycharm": {
     "name": "#%%\n",
     "is_executing": true
    }
   }
  },
  {
   "cell_type": "code",
   "execution_count": null,
   "outputs": [],
   "source": [
    "sns.regplot('realistic_standing_likert', 'AffiliativeQ_average', data= HumanAaffili )"
   ],
   "metadata": {
    "collapsed": false,
    "pycharm": {
     "name": "#%%\n",
     "is_executing": true
    }
   }
  },
  {
   "cell_type": "code",
   "execution_count": null,
   "outputs": [],
   "source": [
    "import scipy.stats\n",
    "r, p = scipy.stats.pearsonr(HumanAf.AffiliativeQ_average, HumanAf.realistic_standing_likert)\n",
    "p"
   ],
   "metadata": {
    "collapsed": false,
    "pycharm": {
     "name": "#%%\n",
     "is_executing": true
    }
   }
  },
  {
   "cell_type": "code",
   "execution_count": null,
   "outputs": [],
   "source": [
    "sns.set(rc={\"figure.figsize\":(18, 8)})\n",
    "sns.set(font_scale = 1.3)\n",
    "from matplotlib import cm\n",
    "\n",
    "fig, ax = plt.subplots(1,2)\n",
    "\n",
    "cor, pval = stats.spearmanr(corrMatrix.T)\n",
    "sns.heatmap(cor, annot=True, cmap=\"YlGnBu\", mask=mask, ax=ax[0]).set(title=\"Spearman's rank correlation coefficients(ρ)\")\n",
    "initial_cmap = cm.get_cmap('YlGnBu')\n",
    "reversed_cmap=initial_cmap.reversed()\n",
    "sns.heatmap(pval, annot=True, cmap=reversed_cmap, mask=mask, ax=ax[1]).set(title=\"Probability values for Spearman's rank correlation\")\n",
    "\n",
    "for ax in ax.ravel():\n",
    "    ax.set_xticklabels(['Affiliative Scale', 'Remember Meaningful', 'Remember not meaningful', 'Attractive Meaningful', 'Attractive not meaningful', 'Realistic Meaningful', 'Realistic not meaningful', 'ContextQ_average'], rotation=60);\n",
    "    ax.set_yticklabels(['Affiliative Scale', 'Remember Meaningful', 'Remember not meaningful', 'Attractive Meaningful', 'Attractive not meaningful', 'Realistic Meaningful', 'Realistic not meaningful', 'ContextQ_average'], rotation=360);\n",
    "plt.tight_layout()\n",
    "plt.show()"
   ],
   "metadata": {
    "collapsed": false,
    "pycharm": {
     "name": "#%%\n",
     "is_executing": true
    }
   }
  },
  {
   "cell_type": "code",
   "execution_count": null,
   "outputs": [],
   "source": [
    "HumanAf.info()"
   ],
   "metadata": {
    "collapsed": false,
    "pycharm": {
     "name": "#%%\n",
     "is_executing": true
    }
   }
  },
  {
   "cell_type": "code",
   "execution_count": null,
   "outputs": [],
   "source": [
    "# library & dataset\n",
    "import matplotlib.pyplot as plt\n",
    "import seaborn as sns\n",
    "\n",
    "# with regression\n",
    "sns.pairplot(HumanAaffili, kind=\"reg\")\n",
    "plt.show()"
   ],
   "metadata": {
    "collapsed": false,
    "pycharm": {
     "name": "#%%\n",
     "is_executing": true
    }
   }
  },
  {
   "cell_type": "code",
   "execution_count": null,
   "outputs": [],
   "source": [],
   "metadata": {
    "collapsed": false,
    "pycharm": {
     "name": "#%%\n",
     "is_executing": true
    }
   }
  }
 ],
 "metadata": {
  "kernelspec": {
   "display_name": "Python 3",
   "language": "python",
   "name": "python3"
  },
  "language_info": {
   "codemirror_mode": {
    "name": "ipython",
    "version": 3
   },
   "file_extension": ".py",
   "mimetype": "text/x-python",
   "name": "python",
   "nbconvert_exporter": "python",
   "pygments_lexer": "ipython3",
   "version": "3.8.8"
  }
 },
 "nbformat": 4,
 "nbformat_minor": 5
}