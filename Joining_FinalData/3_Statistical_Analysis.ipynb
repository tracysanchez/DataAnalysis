{
 "cells": [
  {
   "cell_type": "code",
   "execution_count": 16,
   "id": "2e4926c6-7f2d-4bad-b8ae-8b0f9731344f",
   "metadata": {},
   "outputs": [],
   "source": [
    "import pandas as pd\n",
    "import numpy as np\n",
    "from statsmodels.formula.api import ols, glm\n",
    "import statsmodels.api as sm"
   ]
  },
  {
   "cell_type": "code",
   "execution_count": 17,
   "outputs": [
    {
     "name": "stdout",
     "output_type": "stream",
     "text": [
      "<class 'pandas.core.frame.DataFrame'>\n",
      "RangeIndex: 6033 entries, 0 to 6032\n",
      "Data columns (total 24 columns):\n",
      " #   Column                           Non-Null Count  Dtype  \n",
      "---  ------                           --------------  -----  \n",
      " 0   Unnamed: 0                       6033 non-null   int64  \n",
      " 1   ID                               6033 non-null   float64\n",
      " 2   Alter                            6032 non-null   float64\n",
      " 3   Global                           6032 non-null   float64\n",
      " 4   Overview                         6032 non-null   float64\n",
      " 5   Cardinal                         6032 non-null   float64\n",
      " 6   AffiliativeQ_average             6032 non-null   float64\n",
      " 7   ContextQ_average                 6032 non-null   float64\n",
      " 8   avatar_action_likert             6033 non-null   int64  \n",
      " 9   avatar_standing_likert           6033 non-null   int64  \n",
      " 10  AbsolutError                     6030 non-null   float64\n",
      " 11  SignedAngle-+180                 6030 non-null   float64\n",
      " 12  IQR                              6030 non-null   float64\n",
      " 13  RT                               6030 non-null   float64\n",
      " 14  DistanceToParticipant            6030 non-null   float64\n",
      " 15  PointingTaskStartingLocations    6030 non-null   float64\n",
      " 16  TrialID                          6030 non-null   float64\n",
      " 17  ID_for_StartingPosition          6030 non-null   float64\n",
      " 18  PointingTaskStartingLocations.1  6030 non-null   float64\n",
      " 19  avatarID                         6030 non-null   float64\n",
      " 20  AvatarPresenceCategory           6030 non-null   object \n",
      " 21  Context                          6030 non-null   object \n",
      " 22  meaningfulBuilding               6030 non-null   object \n",
      " 23  ImageName                        6030 non-null   object \n",
      "dtypes: float64(17), int64(3), object(4)\n",
      "memory usage: 1.1+ MB\n"
     ]
    }
   ],
   "source": [
    "#import the merged data set\n",
    "HumanA= pd.read_csv('/Users/tracysanchezpacheco/Documents/Resources/humanA_Behavioural.csv')\n",
    "HumanA.info()"
   ],
   "metadata": {
    "collapsed": false,
    "pycharm": {
     "name": "#%%\n"
    }
   }
  },
  {
   "cell_type": "code",
   "execution_count": 18,
   "outputs": [],
   "source": [
    "# Define probability distribution for the response variable for the linear (LM) and logistic (GLM) model\n",
    "family_LM = sm.families.Gaussian()\n",
    "family_GLM = sm.families.Binomial()"
   ],
   "metadata": {
    "collapsed": false,
    "pycharm": {
     "name": "#%%\n"
    }
   }
  },
  {
   "cell_type": "markdown",
   "source": [
    "## Order effects"
   ],
   "metadata": {
    "collapsed": false,
    "pycharm": {
     "name": "#%% md\n"
    }
   }
  },
  {
   "cell_type": "code",
   "execution_count": 21,
   "outputs": [
    {
     "name": "stdout",
     "output_type": "stream",
     "text": [
      "                 Generalized Linear Model Regression Results                  \n",
      "==============================================================================\n",
      "Dep. Variable:             np.log(RT)   No. Observations:                 6030\n",
      "Model:                            GLM   Df Residuals:                     6018\n",
      "Model Family:                Gaussian   Df Model:                           11\n",
      "Link Function:               identity   Scale:                         0.42683\n",
      "Method:                          IRLS   Log-Likelihood:                -5983.3\n",
      "Date:                Tue, 17 May 2022   Deviance:                       2568.7\n",
      "Time:                        16:50:37   Pearson chi2:                 2.57e+03\n",
      "No. Iterations:                     3                                         \n",
      "Covariance Type:            nonrobust                                         \n",
      "==============================================================================================================================\n",
      "                                                                 coef    std err          z      P>|z|      [0.025      0.975]\n",
      "------------------------------------------------------------------------------------------------------------------------------\n",
      "Intercept                                                      1.7008      0.029     58.387      0.000       1.644       1.758\n",
      "C(ID_for_StartingPosition, Treatment(reference=6))[T.1.0]      0.9991      0.041     24.154      0.000       0.918       1.080\n",
      "C(ID_for_StartingPosition, Treatment(reference=6))[T.2.0]      0.1435      0.041      3.483      0.000       0.063       0.224\n",
      "C(ID_for_StartingPosition, Treatment(reference=6))[T.3.0]      0.0660      0.041      1.602      0.109      -0.015       0.147\n",
      "C(ID_for_StartingPosition, Treatment(reference=6))[T.4.0]      0.0007      0.041      0.016      0.987      -0.080       0.081\n",
      "C(ID_for_StartingPosition, Treatment(reference=6))[T.5.0]      0.0037      0.041      0.089      0.929      -0.077       0.084\n",
      "C(ID_for_StartingPosition, Treatment(reference=6))[T.7.0]     -0.0270      0.041     -0.656      0.512      -0.108       0.054\n",
      "C(ID_for_StartingPosition, Treatment(reference=6))[T.8.0]     -0.0216      0.041     -0.525      0.600      -0.102       0.059\n",
      "C(ID_for_StartingPosition, Treatment(reference=6))[T.9.0]     -0.0088      0.041     -0.214      0.830      -0.090       0.072\n",
      "C(ID_for_StartingPosition, Treatment(reference=6))[T.10.0]    -0.0461      0.041     -1.118      0.263      -0.127       0.035\n",
      "C(ID_for_StartingPosition, Treatment(reference=6))[T.11.0]    -0.0368      0.041     -0.892      0.372      -0.118       0.044\n",
      "C(ID_for_StartingPosition, Treatment(reference=6))[T.12.0]    -0.0519      0.041     -1.260      0.208      -0.133       0.029\n",
      "==============================================================================================================================\n"
     ]
    }
   ],
   "source": [
    "# Response time predicted by trial order in each starting location\n",
    "formula = 'np.log(RT) ~ C(ID_for_StartingPosition, Treatment(reference=6))'\n",
    "\n",
    "# Define and fit a linear regression model\n",
    "model_LM = glm(formula = formula, data = HumanA, family = family_LM).fit()\n",
    "print(model_LM.summary())"
   ],
   "metadata": {
    "collapsed": false,
    "pycharm": {
     "name": "#%%\n"
    }
   }
  },
  {
   "cell_type": "markdown",
   "source": [
    "### CONCLUSION\n",
    "__________________\n",
    "Subjects are significantly slower on the first three trials in each pointing position."
   ],
   "metadata": {
    "collapsed": false,
    "pycharm": {
     "name": "#%% md\n"
    }
   }
  },
  {
   "cell_type": "code",
   "execution_count": null,
   "outputs": [],
   "source": [],
   "metadata": {
    "collapsed": false,
    "pycharm": {
     "name": "#%%\n"
    }
   }
  },
  {
   "cell_type": "code",
   "execution_count": 19,
   "outputs": [
    {
     "name": "stdout",
     "output_type": "stream",
     "text": [
      "                 Generalized Linear Model Regression Results                  \n",
      "==============================================================================\n",
      "Dep. Variable:             np.log(RT)   No. Observations:                 6030\n",
      "Model:                            GLM   Df Residuals:                     6028\n",
      "Model Family:                Gaussian   Df Model:                            1\n",
      "Link Function:               identity   Scale:                         0.50351\n",
      "Method:                          IRLS   Log-Likelihood:                -6486.4\n",
      "Date:                Tue, 17 May 2022   Deviance:                       3035.2\n",
      "Time:                        16:47:43   Pearson chi2:                 3.04e+03\n",
      "No. Iterations:                     3                                         \n",
      "Covariance Type:            nonrobust                                         \n",
      "=========================================================================================================\n",
      "                                            coef    std err          z      P>|z|      [0.025      0.975]\n",
      "---------------------------------------------------------------------------------------------------------\n",
      "Intercept                                 1.7685      0.013    136.853      0.000       1.743       1.794\n",
      "C(AvatarPresenceCategory)[T.NoAvatar]     0.0322      0.018      1.761      0.078      -0.004       0.068\n",
      "=========================================================================================================\n"
     ]
    }
   ],
   "source": [
    "# Response time predicted by Avatar Presence\n",
    "formula = 'np.log(RT) ~ C(AvatarPresenceCategory)'\n",
    "\n",
    "# Define and fit a linear regression model\n",
    "model_LM = glm(formula = formula, data = HumanA, family = family_LM).fit()\n",
    "print(model_LM.summary())"
   ],
   "metadata": {
    "collapsed": false,
    "pycharm": {
     "name": "#%%\n"
    }
   }
  },
  {
   "cell_type": "code",
   "execution_count": null,
   "outputs": [],
   "source": [],
   "metadata": {
    "collapsed": false,
    "pycharm": {
     "name": "#%%\n"
    }
   }
  }
 ],
 "metadata": {
  "kernelspec": {
   "display_name": "Python 3",
   "language": "python",
   "name": "python3"
  },
  "language_info": {
   "codemirror_mode": {
    "name": "ipython",
    "version": 3
   },
   "file_extension": ".py",
   "mimetype": "text/x-python",
   "name": "python",
   "nbconvert_exporter": "python",
   "pygments_lexer": "ipython3",
   "version": "3.8.8"
  }
 },
 "nbformat": 4,
 "nbformat_minor": 5
}