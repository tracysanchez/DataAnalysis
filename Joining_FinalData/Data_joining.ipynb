{
 "cells": [
  {
   "cell_type": "markdown",
   "id": "4f9d77f1-1a10-4e4f-9adb-9757cebe2a9d",
   "metadata": {
    "pycharm": {
     "name": "#%% md\n"
    }
   },
   "source": [
    "# Joining final data sets\n"
   ]
  },
  {
   "cell_type": "code",
   "execution_count": 2,
   "id": "8bd25d78-385e-48d2-a05a-c2415f93c133",
   "metadata": {},
   "outputs": [],
   "source": [
    "import pandas as pd "
   ]
  },
  {
   "cell_type": "code",
   "execution_count": 3,
   "id": "1aadeed8-dbba-42c4-8790-4ed7275ae3ab",
   "metadata": {},
   "outputs": [],
   "source": [
    "# Loading the final datasets data come as a result of the jupiter notebooks contained in  \n",
    "FRSquest = pd.read_csv('/Users/tracysanchezpacheco/OneDrive/PhD/DataAnalysis/DataAnalysis/FRS/FRSsubs.csv')"
   ]
  },
  {
   "cell_type": "code",
   "execution_count": 3,
   "outputs": [],
   "source": [],
   "metadata": {
    "collapsed": false,
    "pycharm": {
     "name": "#%%\n"
    }
   }
  }
 ],
 "metadata": {
  "kernelspec": {
   "display_name": "Python 3",
   "language": "python",
   "name": "python3"
  },
  "language_info": {
   "codemirror_mode": {
    "name": "ipython",
    "version": 3
   },
   "file_extension": ".py",
   "mimetype": "text/x-python",
   "name": "python",
   "nbconvert_exporter": "python",
   "pygments_lexer": "ipython3",
   "version": "3.8.8"
  }
 },
 "nbformat": 4,
 "nbformat_minor": 5
}